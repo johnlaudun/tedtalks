{
 "cells": [
  {
   "cell_type": "markdown",
   "metadata": {},
   "source": [
    "As Katherine Kinnaird and I continue our work on the Tedtalks, we have found ourselves drawn to examine more closely the notion of topics, which we both feel have been underexamined in their usage in the humanities. \n",
    "\n",
    "Most humanists use an implementation of LDA, which we will probably also use simply to stay in parallel, but at some point in our work, frustrated with my ability to get LDA to work within Python, I picked up Alan Riddell's DARIAH tutorial and drafted an implementation of NMF topic modeling for our corpus. One advantage I noticed right away, in comparing the results to earlier work I had done with Jonathan Goodwin, was what seemed like a much more stable set of word clusters in the algorithmically-derived topics. \n",
    "\n",
    "Okay, good, but Kinnaird noticed that stopwords kept creeping into the topics and that raised larger issues about how NMF does what it does and that meant, because she's so thorough, backing up a bit and making sure we understand how NMF works.\n",
    "\n",
    "What follows is an experiment to understand the shape and nature of the tf matrix, the tfidf matrix, and the output of the `sklearn` NMF algorithm. Some of this is driven by the following essays:\n",
    "\n",
    "* [Improving the Interpretation of Topic Models][]\n",
    "* [Practical Topic Finding for Short-Sentence Texts][]\n",
    "\n",
    "[Improving the Interpretation of Topic Models]: https://medium.com/towards-data-science/improving-the-interpretation-of-topic-models-87fd2ee3847d\n",
    "[Practical Topic Finding for Short-Sentence Texts]: https://nbviewer.jupyter.org/github/dolaameng/tutorials/blob/master/topic-finding-for-short-texts/topics_for_short_texts.ipynb"
   ]
  },
  {
   "cell_type": "markdown",
   "metadata": {},
   "source": [
    "To start our adventure, we needed a small set of texts with sufficient overlap that we could later successfully derive topics from them. I set myself the task of creating ten sentences, each of approximately ten words. Careful readers who take the time to read the sentences themselves will, I hope, forgive me for the texts being rather reflexive in nature, but it did seem appropriate given the overall reflexive nature of this task."
   ]
  },
  {
   "cell_type": "code",
   "execution_count": 1,
   "metadata": {
    "collapsed": true
   },
   "outputs": [],
   "source": [
    "# =-=-=-=-=-=-=-=-=-=-=\n",
    "# The Toy Corpus\n",
    "# =-=-=-=-=-=-=-=-=-=-= \n",
    "\n",
    "sentences = [\"Each of these sentences consists of about ten words.\",\n",
    "             \"Ten sentence stories and ten word stories were once popular.\",\n",
    "             \"Limiting the vocabulary to ten words is difficult.\",\n",
    "             \"It is quite difficult to create sentences of just ten words\",\n",
    "             \"I need, in fact, variety in the words used.\",\n",
    "             \"With all these texts being about texts, there will be few topics.\",\n",
    "             \"But I do not want too much variety in the vocabulary.\",\n",
    "             \"I want to keep the total vocabulary fairly small.\",\n",
    "             \"With a small vocabulary comes a small matrix.\",\n",
    "             \"The smaller the matrix the more we will be able to see how things work.\"]\n",
    "\n",
    "\n",
    "# =-=-=-=-=-=-=-=-=-=-=\n",
    "# The Stopwords for this corpus\n",
    "# =-=-=-=-=-=-=-=-=-=-= \n",
    "\n",
    "stopwords = [\"a\", \"about\", \"all\", \"and\", \"be\", \"being\", \"but\", \"do\", \"each\", \"few\", \n",
    "             \"how\", \"i\", \"in\", \"is\", \"it\", \"more\", \"much\", \"not\", \"of\", \"once\", \"the\", \n",
    "             \"there\", \"these\", \"to\", \"too\", \"want\", \"we\", \"were\", \"will\", \"with\"]"
   ]
  },
  {
   "cell_type": "markdown",
   "metadata": {},
   "source": [
    "Each text is simply a sentence in a list of strings. Below the texts is the custom stopword list for this corpus. For those curious, there are a total of 102 tokens in the corpus and 30 stopwords. Once the stopwords are applied, 49 tokens remain for a total of 31 words."
   ]
  },
  {
   "cell_type": "code",
   "execution_count": 2,
   "metadata": {},
   "outputs": [],
   "source": [
    "# =-=-=-=-=-=\n",
    "# Clean & Tokenize\n",
    "# =-=-=-=-=-=\n",
    "\n",
    "import re\n",
    "from nltk.tokenize import WhitespaceTokenizer\n",
    "\n",
    "tokenizer = WhitespaceTokenizer()\n",
    "# stopwords = re.split('\\s+', open('../data/tt_stop.txt', 'r').read().lower())\n",
    "\n",
    "# Loop to tokenize, stop, and stem (if needed) texts.\n",
    "tokenized = []\n",
    "for sentence in sentences:   \n",
    "    raw = re.sub(r\"[^\\w\\d'\\s]+\",'', sentence).lower()\n",
    "    tokens = tokenizer.tokenize(raw)\n",
    "    stopped_tokens = [word for word in tokens if not word in stopwords]\n",
    "    tokenized.append(stopped_tokens)\n",
    "\n",
    "    \n",
    "# =-=-=-=-=-=-=-=-=-=-=\n",
    "# Re-Assemble Texts as Strings from Lists of Words\n",
    "# (because this is what sklearn expects)\n",
    "# =-=-=-=-=-=-=-=-=-=-= \n",
    "\n",
    "texts = []\n",
    "for item in tokenized:\n",
    "    the_string = ' '.join(item)\n",
    "    texts.append(the_string)"
   ]
  },
  {
   "cell_type": "code",
   "execution_count": 3,
   "metadata": {
    "scrolled": true
   },
   "outputs": [
    {
     "name": "stdout",
     "output_type": "stream",
     "text": [
      "sentences consists ten words\n",
      "ten sentence stories ten word stories popular\n",
      "limiting vocabulary ten words difficult\n",
      "quite difficult create sentences just ten words\n",
      "need fact variety words used\n",
      "texts texts topics\n",
      "variety vocabulary\n",
      "keep total vocabulary fairly small\n",
      "small vocabulary comes small matrix\n",
      "smaller matrix able see things work\n"
     ]
    }
   ],
   "source": [
    "for text in texts:\n",
    "    print(text)"
   ]
  },
  {
   "cell_type": "code",
   "execution_count": 4,
   "metadata": {},
   "outputs": [
    {
     "name": "stdout",
     "output_type": "stream",
     "text": [
      "There are 49 tokens representing 31 words.\n"
     ]
    }
   ],
   "source": [
    "all_words = ' '.join(texts).split()\n",
    "print(\"There are {} tokens representing {} words.\"\n",
    "      .format(len(all_words), len(set(all_words))))"
   ]
  },
  {
   "cell_type": "markdown",
   "metadata": {},
   "source": [
    "We will explore below the possibility of using the sklearn module's built-in tokenization and stopword abilities, but while I continue to teach myself that functionality, we can move ahead with understanding the vectorization of a corpus. \n",
    "\n",
    "There are a lot of ways to turn a series of words into a series of numbers. One of the principle ways of doing so ignores any individuated context for a particular word as we might understand it within the context of a given sentence but simply considers a word in relationship to other words in a text. That is, one way to turn words into numbers is simply to count the words in a text, reducing a text to what is known as a \"bag of words.\" (There's a lot of linguistics and information science that validates this approach, but it will always chafe most humanists.)\n",
    "\n",
    "If we run our corpus of ten sentences through the `CountVectorizer`, we will get a representation of it as a series of numbers, each representing the count of a particular word within a particular text:"
   ]
  },
  {
   "cell_type": "code",
   "execution_count": 5,
   "metadata": {
    "scrolled": true
   },
   "outputs": [
    {
     "name": "stdout",
     "output_type": "stream",
     "text": [
      "(10, 31)\n",
      "[[0 0 1 0 0 0 0 0 0 0 0 0 0 0 0 0 1 0 0 0 1 0 0 0 0 0 0 0 0 1 0]\n",
      " [0 0 0 0 0 0 0 0 0 0 0 0 1 0 0 1 0 0 0 2 2 0 0 0 0 0 0 0 1 0 0]\n",
      " [0 0 0 0 1 0 0 0 0 1 0 0 0 0 0 0 0 0 0 0 1 0 0 0 0 0 0 1 0 1 0]\n",
      " [0 0 0 1 1 0 0 1 0 0 0 0 0 1 0 0 1 0 0 0 1 0 0 0 0 0 0 0 0 1 0]\n",
      " [0 0 0 0 0 1 0 0 0 0 0 1 0 0 0 0 0 0 0 0 0 0 0 0 0 1 1 0 0 1 0]\n",
      " [0 0 0 0 0 0 0 0 0 0 0 0 0 0 0 0 0 0 0 0 0 2 0 1 0 0 0 0 0 0 0]\n",
      " [0 0 0 0 0 0 0 0 0 0 0 0 0 0 0 0 0 0 0 0 0 0 0 0 0 0 1 1 0 0 0]\n",
      " [0 0 0 0 0 0 1 0 1 0 0 0 0 0 0 0 0 1 0 0 0 0 0 0 1 0 0 1 0 0 0]\n",
      " [0 1 0 0 0 0 0 0 0 0 1 0 0 0 0 0 0 2 0 0 0 0 0 0 0 0 0 1 0 0 0]\n",
      " [1 0 0 0 0 0 0 0 0 0 1 0 0 0 1 0 0 0 1 0 0 0 1 0 0 0 0 0 0 0 1]]\n"
     ]
    }
   ],
   "source": [
    "# =-=-=-=-=-=-=-=-=-=-=\n",
    "# TF\n",
    "# =-=-=-=-=-=-=-=-=-=-= \n",
    "from sklearn.feature_extraction.text import CountVectorizer, TfidfVectorizer\n",
    "\n",
    "vec = CountVectorizer()\n",
    "tf_data = vec.fit_transform(texts).toarray()\n",
    "print(tf_data.shape)\n",
    "print(tf_data)"
   ]
  },
  {
   "cell_type": "markdown",
   "metadata": {},
   "source": [
    "The term frequency vectorizer in sklearn creates a set of words out of all the tokens, like we did above, then counts the number of times a given word occurs within a given text, returning that text as a vector. Thus, the second sentence above:\n",
    "\n",
    "    \"Ten sentence stories and ten word stories were once popular.\" \n",
    "\n",
    "which we had tokenized and stopworded to become:\n",
    "\n",
    "    ten sentence stories ten word stories popular\n",
    "\n",
    "becomes a list of numbers, or a vector, that looks like this:\n",
    "\n",
    "    0 0 0 0 0 0 0 0 0 0 0 0 1 0 0 1 0 0 0 2 2 0 0 0 0 0 0 0 1 0 0\n",
    "\n",
    "I chose the second sentence because it has two words that occur twice, *ten* and *stories*, so that it didn't look like a line of binary. If you stack all ten texts on top of each other, then you get a matrix that of 10 rows, each row a text, and 31 columns, each column one of the important, lexical, words.\n",
    "\n",
    "Based on the location of the two twos, my guess is that the `CountVectorizer` alphabetizes its list of words, which can also be considered as **features** of a text. A quick check of our set of words, sorted alphabetically is our first step in confirmation. (It also reveals one of the great problems of working with words: \"sentence\" and \"sentences\" as well as \"word\" and \"words\" are treated separately and so where a human being would regard those as two lexical entries, the computer treats it as four. This is one argument for stemming, but stemming, so far as I have encountered is, is not only no panacea, it also creates other problems.)"
   ]
  },
  {
   "cell_type": "code",
   "execution_count": 6,
   "metadata": {},
   "outputs": [
    {
     "name": "stdout",
     "output_type": "stream",
     "text": [
      "['able', 'comes', 'consists', 'create', 'difficult', 'fact', 'fairly', 'just', 'keep', 'limiting', 'matrix', 'need', 'popular', 'quite', 'see', 'sentence', 'sentences', 'small', 'smaller', 'stories', 'ten', 'texts', 'things', 'topics', 'total', 'used', 'variety', 'vocabulary', 'word', 'words', 'work']\n"
     ]
    }
   ],
   "source": [
    "the_words = list(set(all_words))\n",
    "the_words.sort()\n",
    "print(the_words)"
   ]
  },
  {
   "cell_type": "markdown",
   "metadata": {},
   "source": [
    "We can actually get that same list from the vectorizer itself with the `get_feature_names` method:"
   ]
  },
  {
   "cell_type": "code",
   "execution_count": 7,
   "metadata": {
    "scrolled": false
   },
   "outputs": [
    {
     "name": "stdout",
     "output_type": "stream",
     "text": [
      "['able', 'comes', 'consists', 'create', 'difficult', 'fact', 'fairly', 'just', 'keep', 'limiting', 'matrix', 'need', 'popular', 'quite', 'see', 'sentence', 'sentences', 'small', 'smaller', 'stories', 'ten', 'texts', 'things', 'topics', 'total', 'used', 'variety', 'vocabulary', 'word', 'words', 'work']\n"
     ]
    }
   ],
   "source": [
    "features = vec.get_feature_names()\n",
    "print(features)"
   ]
  },
  {
   "cell_type": "markdown",
   "metadata": {},
   "source": [
    "We can actually get the count for each term with the `vocabulary_` method, which reveals that sklearn stores the information as a dictionary with the term as the key and the count as the value:"
   ]
  },
  {
   "cell_type": "code",
   "execution_count": 8,
   "metadata": {},
   "outputs": [
    {
     "name": "stdout",
     "output_type": "stream",
     "text": [
      "{'comes': 1, 'difficult': 4, 'need': 11, 'matrix': 10, 'vocabulary': 27, 'just': 7, 'see': 14, 'quite': 13, 'smaller': 18, 'consists': 2, 'texts': 21, 'variety': 26, 'sentence': 15, 'total': 24, 'popular': 12, 'create': 3, 'work': 30, 'topics': 23, 'word': 28, 'limiting': 9, 'words': 29, 'ten': 20, 'able': 0, 'keep': 8, 'sentences': 16, 'fairly': 6, 'stories': 19, 'things': 22, 'used': 25, 'fact': 5, 'small': 17}\n"
     ]
    }
   ],
   "source": [
    "occurrences = vec.vocabulary_\n",
    "print(occurrences)"
   ]
  },
  {
   "cell_type": "markdown",
   "metadata": {},
   "source": [
    "It's also worth pointing out that we can get a count of particular terms within our corpus by feeding the `CountVectorizer` a `vocabulary` argument. Here I've prepopulated a list with three of our terms -- \"sentence\", \"stories\", and \"vocabulary\" -- and the function returns an array which counts only the occurrence of those three terms across all ten texts:"
   ]
  },
  {
   "cell_type": "code",
   "execution_count": 9,
   "metadata": {
    "scrolled": false
   },
   "outputs": [
    {
     "name": "stdout",
     "output_type": "stream",
     "text": [
      "[[0 0 0]\n",
      " [1 2 0]\n",
      " [0 0 1]\n",
      " [0 0 0]\n",
      " [0 0 0]\n",
      " [0 0 0]\n",
      " [0 0 1]\n",
      " [0 0 1]\n",
      " [0 0 1]\n",
      " [0 0 0]]\n"
     ]
    }
   ],
   "source": [
    "# =-=-=-=-=-=-=-=-=-=-=\n",
    "# Controlled Vocabulary Count\n",
    "# =-=-=-=-=-=-=-=-=-=-= \n",
    "\n",
    "tags = ['sentence', 'stories', 'vocabulary']\n",
    "cv = CountVectorizer(vocabulary=tags)\n",
    "data = cv.fit_transform(texts).toarray()\n",
    "print(data)"
   ]
  },
  {
   "cell_type": "markdown",
   "metadata": {},
   "source": [
    "So far we've been trafficking in raw counts, or occurrences, of a word -- aka term, aka feature -- in our corpus. Chances are, longer, or bigger, texts which simply have more words will have more of any given word, which means they may come to be overvalued (overweighted?) if we rely only on occurrences. Fortunately, we can simply normalize by length of a text to get a value that can be used to compare how often a word is used in relationship to the size of the text across all texts in a corpus. That is, we can get a term's **frequency**.\n",
    "\n",
    "As I was working on this bit of code, I learned that sklearn stores this information in a compressed sparse row matrix, wherein a series of `(text, term)` coordinates are followed by a value. I have captured the first two texts below. (Note the commented out `toarray` method in the second-to-last line. It's there so often in sklearn code that I had come to take it for granted.)"
   ]
  },
  {
   "cell_type": "code",
   "execution_count": 10,
   "metadata": {
    "scrolled": false
   },
   "outputs": [
    {
     "name": "stdout",
     "output_type": "stream",
     "text": [
      "  (0, 2)\t0.5\n",
      "  (0, 16)\t0.5\n",
      "  (0, 20)\t0.5\n",
      "  (0, 29)\t0.5\n",
      "  (1, 12)\t0.301511344578\n",
      "  (1, 15)\t0.301511344578\n",
      "  (1, 19)\t0.603022689156\n",
      "  (1, 20)\t0.603022689156\n",
      "  (1, 28)\t0.301511344578\n"
     ]
    }
   ],
   "source": [
    "from sklearn.feature_extraction.text import TfidfTransformer\n",
    "\n",
    "tf_transformer = TfidfTransformer(use_idf=False).fit(tf_data)\n",
    "words_tf = tf_transformer.transform(tf_data)#.toarray()\n",
    "print(words_tf[0:2])"
   ]
  },
  {
   "cell_type": "markdown",
   "metadata": {},
   "source": [
    "And here's that same information represented as an array:"
   ]
  },
  {
   "cell_type": "code",
   "execution_count": 11,
   "metadata": {
    "scrolled": true
   },
   "outputs": [
    {
     "name": "stdout",
     "output_type": "stream",
     "text": [
      "[[ 0.          0.          0.5         0.          0.          0.          0.\n",
      "   0.          0.          0.          0.          0.          0.          0.\n",
      "   0.          0.          0.5         0.          0.          0.          0.5\n",
      "   0.          0.          0.          0.          0.          0.          0.\n",
      "   0.          0.5         0.        ]\n",
      " [ 0.          0.          0.          0.          0.          0.          0.\n",
      "   0.          0.          0.          0.          0.          0.30151134\n",
      "   0.          0.          0.30151134  0.          0.          0.\n",
      "   0.60302269  0.60302269  0.          0.          0.          0.          0.\n",
      "   0.          0.          0.30151134  0.          0.        ]]\n"
     ]
    }
   ],
   "source": [
    "words_tf_array = words_tf.toarray()\n",
    "print(words_tf_array[0:2])"
   ]
  },
  {
   "cell_type": "markdown",
   "metadata": {},
   "source": [
    "Finally, we can also weight words within a document contra the number of times they occur within the overall corpus, thus lowering the value of common words."
   ]
  },
  {
   "cell_type": "code",
   "execution_count": 12,
   "metadata": {
    "scrolled": true
   },
   "outputs": [
    {
     "name": "stdout",
     "output_type": "stream",
     "text": [
      "(10, 31)\n",
      "  (0, 12)\t0.338083066465\n",
      "  (0, 28)\t0.338083066465\n",
      "  (0, 19)\t0.67616613293\n",
      "  (0, 15)\t0.338083066465\n",
      "  (0, 20)\t0.447100526936\n"
     ]
    }
   ],
   "source": [
    "# =-=-=-=-=-=-=-=-=-=-=\n",
    "# TFIDF\n",
    "# =-=-=-=-=-=-=-=-=-=-= \n",
    "\n",
    "tfidf = TfidfVectorizer()\n",
    "tfidf_data = tfidf.fit_transform(texts)#.toarray()\n",
    "print(tfidf_data.shape)\n",
    "print(tfidf_data[1]) # values for second sentence"
   ]
  },
  {
   "cell_type": "markdown",
   "metadata": {},
   "source": [
    "And now, again, in the more common form of an array:"
   ]
  },
  {
   "cell_type": "code",
   "execution_count": 13,
   "metadata": {
    "scrolled": false
   },
   "outputs": [
    {
     "name": "stdout",
     "output_type": "stream",
     "text": [
      "[ 0.          0.          0.          0.          0.          0.          0.\n",
      "  0.          0.          0.          0.          0.          0.33808307\n",
      "  0.          0.          0.33808307  0.          0.          0.\n",
      "  0.67616613  0.44710053  0.          0.          0.          0.          0.\n",
      "  0.          0.          0.33808307  0.          0.        ]\n"
     ]
    }
   ],
   "source": [
    "tfidf_array = tfidf_data.toarray()\n",
    "print(tfidf_array[1]) # values for second sentence"
   ]
  },
  {
   "cell_type": "code",
   "execution_count": 14,
   "metadata": {},
   "outputs": [],
   "source": [
    "#tfidf_recall = tfidf_data.get_feature_names() # Not working"
   ]
  },
  {
   "cell_type": "markdown",
   "metadata": {},
   "source": [
    "## Staying within the `sklearn` ecosystem\n",
    "\n",
    "What if we do all tokenization and normalization in `sklearn`?"
   ]
  },
  {
   "cell_type": "code",
   "execution_count": 15,
   "metadata": {
    "collapsed": true
   },
   "outputs": [],
   "source": [
    "import numpy as np\n",
    "from sklearn.feature_extraction.text import CountVectorizer, TfidfVectorizer\n",
    "\n",
    "# This is the bog-standard version from the documentation\n",
    "# test_vec = CountVectorizer(input=u'content', \n",
    "#                            encoding=u'utf-8', \n",
    "#                            decode_error=u'strict', \n",
    "#                            strip_accents=None, \n",
    "#                            lowercase=True, \n",
    "#                            preprocessor=None, \n",
    "#                            tokenizer=None, \n",
    "#                            stop_words=stopwords, \n",
    "#                            token_pattern=u'(?u)\\b\\w\\w+\\b', \n",
    "#                            ngram_range=(1, 1), \n",
    "#                            analyzer=u'word', \n",
    "#                            max_df=1.0, \n",
    "#                            min_df=1, \n",
    "#                            max_features=None, \n",
    "#                            vocabulary=None, \n",
    "#                            binary=False, \n",
    "#                            dtype=<type 'numpy.int64'>)"
   ]
  },
  {
   "cell_type": "code",
   "execution_count": 16,
   "metadata": {
    "scrolled": true
   },
   "outputs": [],
   "source": [
    "test_vec = CountVectorizer(lowercase = True, \n",
    "                           stop_words = stopwords, \n",
    "                           token_pattern = u'(?u)\\b\\w\\w+\\b', \n",
    "                           ngram_range = (1, 1), \n",
    "                           analyzer = u'word')\n",
    "\n",
    "#test_data = test_vec.fit_transform(texts).toarray() # --> ValueError: empty vocabulary\n"
   ]
  }
 ],
 "metadata": {
  "kernelspec": {
   "display_name": "Python 3",
   "language": "python",
   "name": "python3"
  },
  "language_info": {
   "codemirror_mode": {
    "name": "ipython",
    "version": 3
   },
   "file_extension": ".py",
   "mimetype": "text/x-python",
   "name": "python",
   "nbconvert_exporter": "python",
   "pygments_lexer": "ipython3",
   "version": "3.4.6"
  }
 },
 "nbformat": 4,
 "nbformat_minor": 2
}
