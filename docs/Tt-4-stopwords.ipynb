{
 "cells": [
  {
   "cell_type": "code",
   "execution_count": 11,
   "metadata": {
    "collapsed": false
   },
   "outputs": [
    {
     "name": "stdout",
     "output_type": "stream",
     "text": [
      "stop_words has 174 words \n",
      "the NLTK has 153 words \n",
      "the TedTalk list has 302 words \n",
      "the MALLET list has 525 words \n",
      "the Blei list has 297 words\n"
     ]
    }
   ],
   "source": [
    "#! /usr/bin/env python\n",
    "\n",
    "import re\n",
    "from stop_words import get_stop_words\n",
    "from nltk.corpus import stopwords\n",
    "\n",
    "# the two embedded lists\n",
    "mod_stop = get_stop_words('en')\n",
    "nltk_stop = stopwords.words(\"english\")\n",
    "\n",
    "# external lists\n",
    "tt_list = re.split('\\s+', open('../data/stopwords_tt.txt', 'r').read().lower())\n",
    "mallet_list = re.split('\\s+', open('../data/stopwords_mallet.txt', 'r').read().lower())\n",
    "blei_list = re.split('\\s+', open('../data/stopwords_Blei.txt', 'r').read().lower())\n",
    "\n",
    "print(\"stop_words has {} words \\n\" \n",
    "      \"the NLTK has {} words \\n\" \n",
    "      \"the TedTalk list has {} words \\n\"\n",
    "      \"the MALLET list has {} words \\n\"\n",
    "      \"the Blei list has {} words\".format(len(mod_stop), \n",
    "                                            len(nltk_stop), \n",
    "                                            len(tt_list), \n",
    "                                            len(mallet_list),\n",
    "                                            len(blei_list)))\n",
    "\n",
    "# Having determined that the best place to start is with the \n",
    "# combination of the Blei list and the stop_word list:\n",
    "\n",
    "combo_list = mod_stop + blei_list\n",
    "tt_stopset = set(combo_list)\n",
    "tt_stoplist = sorted(list(tt_stop))\n",
    "outfile = open('../data/tt_stop.txt', 'w')\n",
    "outfile.write(\"\\n\".join(tt_stoplist))"
   ]
  },
  {
   "cell_type": "code",
   "execution_count": 3,
   "metadata": {
    "collapsed": false
   },
   "outputs": [
    {
     "name": "stdout",
     "output_type": "stream",
     "text": [
      "tt_stop has 351 words\n"
     ]
    }
   ],
   "source": [
    "import re\n",
    "\n",
    "tt_stoplist = re.split('\\s+', open('../data/tt_stop.txt', 'r').read().lower())\n",
    "print(\"tt_stop has {} words\".format(len(tt_stoplist)))"
   ]
  }
 ],
 "metadata": {
  "kernelspec": {
   "display_name": "Python 3",
   "language": "python",
   "name": "python3"
  },
  "language_info": {
   "codemirror_mode": {
    "name": "ipython",
    "version": 3
   },
   "file_extension": ".py",
   "mimetype": "text/x-python",
   "name": "python",
   "nbconvert_exporter": "python",
   "pygments_lexer": "ipython3",
   "version": "3.4.5"
  }
 },
 "nbformat": 4,
 "nbformat_minor": 0
}
