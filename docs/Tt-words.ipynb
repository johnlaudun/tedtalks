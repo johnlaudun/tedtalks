{
 "cells": [
  {
   "cell_type": "code",
   "execution_count": 1,
   "metadata": {
    "collapsed": false
   },
   "outputs": [],
   "source": [
    "#! /usr/bin/env python\n",
    "\n",
    "import pandas\n",
    "import re\n",
    "\n",
    "# Get all talks in a list & then into one string\n",
    "colnames = ['author', 'title', 'date' , 'length', 'text']\n",
    "df = pandas.read_csv('../data/talks-v1b.csv', names=colnames)\n",
    "talks = df.text.tolist()\n",
    "alltalks = \" \".join(str(item) for item in talks) # Solves pbm of floats in talks\n",
    "all_words = re.sub(r\"[^\\w\\d'\\s]+\",'',alltalks).lower() # Remove all punctuation save apostrophes"
   ]
  },
  {
   "cell_type": "code",
   "execution_count": 2,
   "metadata": {
    "collapsed": false
   },
   "outputs": [
    {
     "data": {
      "text/plain": [
       "\"thank you so much  chris and it's truly a great honor to have the opportunity to come to this stage twice  i'm extremely grateful i have been blown away by this conference  and i want to thank all of you for the many nice comments about what i had to say the other night and i say that sincerely  partly because  mock sob  i need that put yourselves in my position i flew on air force two for eight years now i have to take off my shoes or boots to get on an airplane  i'll tell you one quick story t\""
      ]
     },
     "execution_count": 2,
     "metadata": {},
     "output_type": "execute_result"
    }
   ],
   "source": [
    "all_words[0:500]"
   ]
  },
  {
   "cell_type": "code",
   "execution_count": 15,
   "metadata": {
    "collapsed": false
   },
   "outputs": [
    {
     "data": {
      "text/plain": [
       "[(210294, 'the'),\n",
       " (151163, 'and'),\n",
       " (126887, 'to'),\n",
       " (116155, 'of'),\n",
       " (106513, 'a'),\n",
       " (85860, 'that'),\n",
       " (78986, 'in'),\n",
       " (68437, 'i'),\n",
       " (64197, 'is'),\n",
       " (63413, 'you'),\n",
       " (57075, 'we'),\n",
       " (53169, 'it'),\n",
       " (49884, 'this'),\n",
       " (37523, 'so'),\n",
       " (31123, 'was'),\n",
       " (30066, 'for'),\n",
       " (28375, 'are'),\n",
       " (27746, 'have'),\n",
       " (27135, 'but'),\n",
       " (26995, 'they')]"
      ]
     },
     "execution_count": 15,
     "metadata": {},
     "output_type": "execute_result"
    }
   ],
   "source": [
    "# The NLTK Way\n",
    "\n",
    "# Tokenize on whitespace\n",
    "from nltk.tokenize import WhitespaceTokenizer\n",
    "tt_tokens = WhitespaceTokenizer().tokenize(all_words)\n",
    "\n",
    "# Build a dictionary of words and their frequency in the corpus\n",
    "tt_freq = {}\n",
    "for word in tt_tokens:\n",
    "    try:\n",
    "        tt_freq[word] += 1\n",
    "    except: \n",
    "        tt_freq[word] = 1\n",
    "\n",
    "# And now to sort into a list \n",
    "tt_freq_list = [(val, key) for key, val in tt_freq.items()]\n",
    "\n",
    "# tt_freq_list.sort() \n",
    "tt_freq_list.sort(reverse=True)\n",
    "\n",
    "tt_freq_list[0:20]"
   ]
  },
  {
   "cell_type": "code",
   "execution_count": null,
   "metadata": {
    "collapsed": false
   },
   "outputs": [],
   "source": [
    "# The Pure Python Way\n",
    "\n",
    "#word_list = re.split('\\s+', all_words)\n",
    "word_list = all_words.split()\n",
    "freq_dic = {}\n",
    "for word in word_list:\n",
    "    try: \n",
    "        freq_dic[word] += 1\n",
    "    except: \n",
    "        freq_dic[word] = 1\n",
    "\n",
    "# Convert dictionary to list, sort it, show top 20 items\n",
    "freq_list = [(val, key) for key, val in tt_freq.items()]\n",
    "freq_list.sort(reverse=True)\n",
    "freq_list[0:20]"
   ]
  },
  {
   "cell_type": "code",
   "execution_count": 16,
   "metadata": {
    "collapsed": true
   },
   "outputs": [],
   "source": [
    "import csv\n",
    "\n",
    "with open('../outputs/tt_freq.csv', 'w') as f:\n",
    "        wtr = csv.writer(f)\n",
    "        wtr.writerows(sorted(tt_freq_list, reverse=True))\n",
    "        f.close()"
   ]
  }
 ],
 "metadata": {
  "kernelspec": {
   "display_name": "Python 3",
   "language": "python",
   "name": "python3"
  },
  "language_info": {
   "codemirror_mode": {
    "name": "ipython",
    "version": 3
   },
   "file_extension": ".py",
   "mimetype": "text/x-python",
   "name": "python",
   "nbconvert_exporter": "python",
   "pygments_lexer": "ipython3",
   "version": "3.4.5"
  }
 },
 "nbformat": 4,
 "nbformat_minor": 0
}
