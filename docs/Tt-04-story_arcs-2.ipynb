{
 "cells": [
  {
   "cell_type": "code",
   "execution_count": 1,
   "metadata": {
    "collapsed": true
   },
   "outputs": [],
   "source": [
    "# =-=-=-=-=-=-=-=-=-=-=\n",
    "# Data Load & Tokenize\n",
    "# =-=-=-=-=-=-=-=-=-=-= \n",
    "\n",
    "import pandas\n",
    "import re\n",
    "from nltk.tokenize import WhitespaceTokenizer\n",
    "\n",
    "# LOAD\n",
    "colnames = ['author', 'title', 'date' , 'length', 'text']\n",
    "df = pandas.read_csv('../data/talks_3.csv', names=colnames)\n",
    "talks = df.text.tolist()\n",
    "authors = df.author.tolist()\n",
    "dates = df.date.tolist()\n",
    "years = [re.sub('[A-Za-z ]', '', item) for item in dates]\n",
    "authordate = [author+\" \"+year for author, year in zip(authors, years)]\n",
    "\n",
    "# TOKENIZE\n",
    "tokenizer = WhitespaceTokenizer()\n",
    "texts = []\n",
    "for talk in talks:   \n",
    "    raw = re.sub(r\"[^\\w\\d'\\s]+\",'', talk).lower()\n",
    "    tokens = tokenizer.tokenize(raw)\n",
    "    texts.append(tokens)"
   ]
  },
  {
   "cell_type": "code",
   "execution_count": null,
   "metadata": {
    "collapsed": true
   },
   "outputs": [],
   "source": [
    "# =-=-=-=-=-=-=-=-=-=-=\n",
    "# Small Test Corpus\n",
    "# =-=-=-=-=-=-=-=-=-=-= \n",
    "\n",
    "test = texts[0:5]"
   ]
  },
  {
   "cell_type": "code",
   "execution_count": 2,
   "metadata": {
    "collapsed": true
   },
   "outputs": [],
   "source": [
    "# =-=-=-=-=-=-=-=-=-=-=\n",
    "# Function to collect word positions within a text (as a word list)\n",
    "# =-=-=-=-=-=-=-=-=-=-= \n",
    "\n",
    "def word_positions(listname):\n",
    "    from collections import defaultdict\n",
    "    words_with_positions = defaultdict(list)\n",
    "    for position, word in enumerate(listname):\n",
    "        words_with_positions[word].append(float(position)/len(listname))\n",
    "    return(words_with_positions)\n",
    "\n",
    "# word_positions(texts[0]) # check output"
   ]
  },
  {
   "cell_type": "code",
   "execution_count": 3,
   "metadata": {
    "collapsed": true
   },
   "outputs": [],
   "source": [
    "# =-=-=-=-=-=-=-=-=-=-=\n",
    "# Develop \"super dictionary\" of all the texts involved\n",
    "# =-=-=-=-=-=-=-=-=-=-= \n",
    "\n",
    "super_dict = {}\n",
    "for text in texts:\n",
    "    temp_dict = word_positions(text)\n",
    "    for k, v in temp_dict.items():\n",
    "        if super_dict.get(k) is None:\n",
    "            super_dict[k] = []\n",
    "        if v not in super_dict.get(k):\n",
    "            # Possibly problematic for larger data sets\n",
    "            super_dict[k] = super_dict[k] + v\n",
    "            \n",
    "# print(super_dict) # check output"
   ]
  },
  {
   "cell_type": "code",
   "execution_count": 12,
   "metadata": {},
   "outputs": [
    {
     "data": {
      "text/plain": [
       "[0.0,\n",
       " 0.3174311926605505,\n",
       " 0.37573770491803277,\n",
       " 0.33933823529411766,\n",
       " 0.27080521817363923,\n",
       " 0.2744039586144849,\n",
       " 0.8155645524066577,\n",
       " 0.7625139043381535,\n",
       " 0.6756521739130434,\n",
       " 0.04133858267716536,\n",
       " 0.047244094488188976,\n",
       " 0.37549212598425197,\n",
       " 0.7084349098000975,\n",
       " 0.7484154071184788,\n",
       " 0.10157728706624605,\n",
       " 0.5066246056782334,\n",
       " 0.5186119873817034,\n",
       " 0.5470031545741325,\n",
       " 0.5709779179810726,\n",
       " 0.8472395184723952,\n",
       " 0.2915107913669065,\n",
       " 0.4175539568345324,\n",
       " 0.49467625899280576,\n",
       " 0.5001438848920863,\n",
       " 0.399908592321755,\n",
       " 0.24033149171270718,\n",
       " 0.31712707182320443,\n",
       " 0.32044198895027626,\n",
       " 0.39171270718232043,\n",
       " 0.46408839779005523,\n",
       " 0.4662983425414365,\n",
       " 0.5640883977900553,\n",
       " 0.5972375690607735,\n",
       " 0.8143646408839779,\n",
       " 0.8513812154696132,\n",
       " 0.15274261603375527,\n",
       " 0.0781456953642384,\n",
       " 0.6400602409638554,\n",
       " 0.7876506024096386,\n",
       " 0.8034638554216867,\n",
       " 0.807605421686747,\n",
       " 0.8166415662650602]"
      ]
     },
     "execution_count": 12,
     "metadata": {},
     "output_type": "execute_result"
    }
   ],
   "source": [
    "super_dict[\"cholera\"]"
   ]
  },
  {
   "cell_type": "code",
   "execution_count": null,
   "metadata": {},
   "outputs": [],
   "source": [
    "# =-=-=-=-=-=-=-=-=-=-=\n",
    "# Quick way to get occurrence and average position for a term in the dictionary\n",
    "# =-=-=-=-=-=-=-=-=-=-= \n",
    "\n",
    "import statistics\n",
    "\n",
    "word = \"adaptable\"\n",
    "\n",
    "# the format method would work better here\n",
    "print(\"*\" + word + \"* occurs \" + str(len(super_dict[word])) + \n",
    "      \" times in the corpus, with an average position of \" + \n",
    "      str(statistics.mean(super_dict[word])) + \".\")"
   ]
  },
  {
   "cell_type": "code",
   "execution_count": null,
   "metadata": {},
   "outputs": [],
   "source": [
    "words_df = pandas.DataFrame()\n",
    "words_df['word'] = super_dict.keys()\n",
    "words_df['positions'] = super_dict.values()\n",
    "\n",
    "# Check -----> returns 56588\n",
    "# print(len(words_df))"
   ]
  },
  {
   "cell_type": "code",
   "execution_count": null,
   "metadata": {
    "scrolled": true
   },
   "outputs": [],
   "source": [
    "words_df.head()"
   ]
  },
  {
   "cell_type": "code",
   "execution_count": null,
   "metadata": {},
   "outputs": [],
   "source": [
    "# I need two additional columns: \n",
    "# one for mean, one for counting the number of items in a list\n",
    "\n",
    "positions = words_df['positions'].tolist()\n",
    "\n",
    "average_positions = []\n",
    "for the_list in positions:\n",
    "    average_positions.append(sum(the_list)/len(the_list))\n",
    "    \n",
    "occurrences = []\n",
    "for the_list in positions:\n",
    "    occurrences.append(len(the_list))\n",
    "\n",
    "# Quick Check\n",
    "# print(average_positions[0:5])\n",
    "# print(occurrences[0:5])\n",
    "\n",
    "words_df['average'] = average_positions\n",
    "words_df['occurs'] = occurrences\n",
    "words_df.head(10)"
   ]
  },
  {
   "cell_type": "code",
   "execution_count": null,
   "metadata": {
    "collapsed": true
   },
   "outputs": [],
   "source": [
    "words_df.to_csv('../data/word_places.csv', index=False)"
   ]
  },
  {
   "cell_type": "code",
   "execution_count": null,
   "metadata": {
    "collapsed": true
   },
   "outputs": [],
   "source": [
    "import pandas\n",
    "colnames = ['word', 'positions', 'average' , 'occurs']\n",
    "words = pandas.read_csv('../data/word_places.csv', names=colnames)"
   ]
  },
  {
   "cell_type": "code",
   "execution_count": null,
   "metadata": {
    "collapsed": true
   },
   "outputs": [],
   "source": [
    "words_df.loc[df['occurs'] > 1000]"
   ]
  },
  {
   "cell_type": "code",
   "execution_count": null,
   "metadata": {
    "collapsed": true
   },
   "outputs": [],
   "source": []
  }
 ],
 "metadata": {
  "kernelspec": {
   "display_name": "Python 3",
   "language": "python",
   "name": "python3"
  },
  "language_info": {
   "codemirror_mode": {
    "name": "ipython",
    "version": 3
   },
   "file_extension": ".py",
   "mimetype": "text/x-python",
   "name": "python",
   "nbconvert_exporter": "python",
   "pygments_lexer": "ipython3",
   "version": "3.4.6"
  }
 },
 "nbformat": 4,
 "nbformat_minor": 2
}
