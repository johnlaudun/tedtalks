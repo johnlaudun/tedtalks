{
 "cells": [
  {
   "cell_type": "code",
   "execution_count": 1,
   "metadata": {
    "collapsed": true
   },
   "outputs": [],
   "source": [
    "# =-=-=-=-=-=-=-=-=-=-=\n",
    "# Data Load & Tokenize\n",
    "# =-=-=-=-=-=-=-=-=-=-= \n",
    "\n",
    "import pandas\n",
    "import re\n",
    "from nltk.tokenize import WhitespaceTokenizer\n",
    "\n",
    "# LOAD\n",
    "colnames = ['author', 'title', 'date' , 'length', 'text']\n",
    "df = pandas.read_csv('../data/talks_3.csv', names=colnames)\n",
    "talks = df.text.tolist()\n",
    "authors = df.author.tolist()\n",
    "dates = df.date.tolist()\n",
    "years = [re.sub('[A-Za-z ]', '', item) for item in dates]\n",
    "authordate = [author+\" \"+year for author, year in zip(authors, years)]\n",
    "\n",
    "# TOKENIZE\n",
    "tokenizer = WhitespaceTokenizer()\n",
    "texts = []\n",
    "for talk in talks:   \n",
    "    raw = re.sub(r\"[^\\w\\d'\\s]+\",'', talk).lower()\n",
    "    tokens = tokenizer.tokenize(raw)\n",
    "    texts.append(tokens)"
   ]
  },
  {
   "cell_type": "code",
   "execution_count": 2,
   "metadata": {
    "collapsed": true
   },
   "outputs": [],
   "source": [
    "# =-=-=-=-=-=-=-=-=-=-=\n",
    "# Small Test Corpus\n",
    "# =-=-=-=-=-=-=-=-=-=-= \n",
    "\n",
    "test = texts[0:5]"
   ]
  },
  {
   "cell_type": "code",
   "execution_count": 3,
   "metadata": {},
   "outputs": [],
   "source": [
    "# =-=-=-=-=-=-=-=-=-=-=\n",
    "# Function to collect word positions within a text (as a word list)\n",
    "# =-=-=-=-=-=-=-=-=-=-= \n",
    "\n",
    "def word_positions(listname):\n",
    "    from collections import defaultdict\n",
    "    words_with_positions = defaultdict(list)\n",
    "    for position, word in enumerate(listname):\n",
    "        words_with_positions[word].append(float(position)/len(listname))\n",
    "    return(words_with_positions)\n",
    "\n",
    "# word_positions(texts[0]) # check output"
   ]
  },
  {
   "cell_type": "code",
   "execution_count": 4,
   "metadata": {
    "collapsed": true
   },
   "outputs": [],
   "source": [
    "# =-=-=-=-=-=-=-=-=-=-=\n",
    "# Develop \"super dictionary\" of all the texts involved\n",
    "# =-=-=-=-=-=-=-=-=-=-= \n",
    "\n",
    "super_dict = {}\n",
    "for text in test:\n",
    "    temp_dict = word_positions(text)\n",
    "    for k, v in temp_dict.items():\n",
    "        if super_dict.get(k) is None:\n",
    "            super_dict[k] = []\n",
    "        if v not in super_dict.get(k):\n",
    "            super_dict[k].append(v)\n",
    "            \n",
    "# print(super_dict) # check output"
   ]
  },
  {
   "cell_type": "code",
   "execution_count": 5,
   "metadata": {},
   "outputs": [
    {
     "data": {
      "text/plain": [
       "[[0.0, 0.017037387600567912, 0.9966871746332229],\n",
       " [0.044716692189892805,\n",
       "  0.4214395099540582,\n",
       "  0.5565084226646249,\n",
       "  0.7650842266462481,\n",
       "  0.9191424196018376,\n",
       "  0.9978560490045941],\n",
       " [0.9994391475042064],\n",
       " [0.373067191453472,\n",
       "  0.5780151813325837,\n",
       "  0.7880236154062412,\n",
       "  0.8538093899353387,\n",
       "  0.9994377284228282],\n",
       " [0.9969465648854962]]"
      ]
     },
     "execution_count": 5,
     "metadata": {},
     "output_type": "execute_result"
    }
   ],
   "source": [
    "super_dict[\"thank\"]"
   ]
  },
  {
   "cell_type": "code",
   "execution_count": 6,
   "metadata": {},
   "outputs": [],
   "source": [
    "df = pandas.DataFrame()\n",
    "df['word'] = super_dict.keys()\n",
    "df['positions'] = super_dict.values()"
   ]
  },
  {
   "cell_type": "code",
   "execution_count": 7,
   "metadata": {
    "scrolled": true
   },
   "outputs": [
    {
     "data": {
      "text/html": [
       "<div>\n",
       "<table border=\"1\" class=\"dataframe\">\n",
       "  <thead>\n",
       "    <tr style=\"text-align: right;\">\n",
       "      <th></th>\n",
       "      <th>word</th>\n",
       "      <th>positions</th>\n",
       "    </tr>\n",
       "  </thead>\n",
       "  <tbody>\n",
       "    <tr>\n",
       "      <th>0</th>\n",
       "      <td>people's</td>\n",
       "      <td>[[0.023836231071228266, 0.6573191250701066]]</td>\n",
       "    </tr>\n",
       "    <tr>\n",
       "      <th>1</th>\n",
       "      <td>anything</td>\n",
       "      <td>[[0.8486983154670751, 0.9614088820826953], [0....</td>\n",
       "    </tr>\n",
       "    <tr>\n",
       "      <th>2</th>\n",
       "      <td>pickup</td>\n",
       "      <td>[[0.1984818667416362]]</td>\n",
       "    </tr>\n",
       "    <tr>\n",
       "      <th>3</th>\n",
       "      <td>who's</td>\n",
       "      <td>[[0.8698532891623284], [0.2934150076569678], [...</td>\n",
       "    </tr>\n",
       "    <tr>\n",
       "      <th>4</th>\n",
       "      <td>dimensional</td>\n",
       "      <td>[[0.04122137404580153, 0.4916030534351145, 0.7...</td>\n",
       "    </tr>\n",
       "  </tbody>\n",
       "</table>\n",
       "</div>"
      ],
      "text/plain": [
       "          word                                          positions\n",
       "0     people's       [[0.023836231071228266, 0.6573191250701066]]\n",
       "1     anything  [[0.8486983154670751, 0.9614088820826953], [0....\n",
       "2       pickup                             [[0.1984818667416362]]\n",
       "3        who's  [[0.8698532891623284], [0.2934150076569678], [...\n",
       "4  dimensional  [[0.04122137404580153, 0.4916030534351145, 0.7..."
      ]
     },
     "execution_count": 7,
     "metadata": {},
     "output_type": "execute_result"
    }
   ],
   "source": [
    "df.head()"
   ]
  },
  {
   "cell_type": "code",
   "execution_count": 9,
   "metadata": {},
   "outputs": [],
   "source": [
    "thanks = [item for lst in super_dict[\"thank\"] for item in lst]"
   ]
  },
  {
   "cell_type": "code",
   "execution_count": 10,
   "metadata": {},
   "outputs": [
    {
     "name": "stdout",
     "output_type": "stream",
     "text": [
      "[0.0, 0.017037387600567912, 0.9966871746332229, 0.044716692189892805, 0.4214395099540582, 0.5565084226646249, 0.7650842266462481, 0.9191424196018376, 0.9978560490045941, 0.9994391475042064, 0.373067191453472, 0.5780151813325837, 0.7880236154062412, 0.8538093899353387, 0.9994377284228282, 0.9969465648854962]\n"
     ]
    }
   ],
   "source": [
    "print(thanks)"
   ]
  },
  {
   "cell_type": "code",
   "execution_count": null,
   "metadata": {},
   "outputs": [],
   "source": [
    "# This is not working\n",
    "\n",
    "import statistics\n",
    "\n",
    "median_pos = []\n",
    "\n",
    "# For each row in the column,\n",
    "for row in df['positions']:\n",
    "    temp = [item for lst in row for item in lst]\n",
    "    print(statistics.median(temp))\n",
    "# df['median_position'] = median_pos"
   ]
  }
 ],
 "metadata": {
  "kernelspec": {
   "display_name": "Python 3",
   "language": "python",
   "name": "python3"
  },
  "language_info": {
   "codemirror_mode": {
    "name": "ipython",
    "version": 3
   },
   "file_extension": ".py",
   "mimetype": "text/x-python",
   "name": "python",
   "nbconvert_exporter": "python",
   "pygments_lexer": "ipython3",
   "version": "3.4.6"
  }
 },
 "nbformat": 4,
 "nbformat_minor": 2
}
