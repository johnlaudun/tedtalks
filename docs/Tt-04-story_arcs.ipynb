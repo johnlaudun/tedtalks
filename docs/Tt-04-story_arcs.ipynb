{
 "cells": [
  {
   "cell_type": "code",
   "execution_count": 1,
   "metadata": {
    "collapsed": true
   },
   "outputs": [],
   "source": [
    "# =-=-=-=-=-=-=-=-=-=-=\n",
    "# Data Load & Tokenize\n",
    "# =-=-=-=-=-=-=-=-=-=-= \n",
    "\n",
    "import pandas\n",
    "import re\n",
    "from nltk.tokenize import WhitespaceTokenizer\n",
    "\n",
    "# LOAD\n",
    "colnames = ['author', 'title', 'date' , 'length', 'text']\n",
    "df = pandas.read_csv('../data/talks_3.csv', names=colnames)\n",
    "talks = df.text.tolist()\n",
    "authors = df.author.tolist()\n",
    "dates = df.date.tolist()\n",
    "years = [re.sub('[A-Za-z ]', '', item) for item in dates]\n",
    "authordate = [author+\" \"+year for author, year in zip(authors, years)]\n",
    "\n",
    "# TOKENIZE\n",
    "tokenizer = WhitespaceTokenizer()\n",
    "texts = []\n",
    "for talk in talks:   \n",
    "    raw = re.sub(r\"[^\\w\\d'\\s]+\",'', talk).lower()\n",
    "    tokens = tokenizer.tokenize(raw)\n",
    "    texts.append(tokens)"
   ]
  },
  {
   "cell_type": "code",
   "execution_count": 2,
   "metadata": {
    "collapsed": true
   },
   "outputs": [],
   "source": [
    "# =-=-=-=-=-=-=-=-=-=-=\n",
    "# Small Test Corpus\n",
    "# =-=-=-=-=-=-=-=-=-=-= \n",
    "\n",
    "test = texts[0:5]"
   ]
  },
  {
   "cell_type": "code",
   "execution_count": 3,
   "metadata": {
    "collapsed": true
   },
   "outputs": [],
   "source": [
    "# =-=-=-=-=-=-=-=-=-=-=\n",
    "# Function to collect word positions within a text (as a word list)\n",
    "# =-=-=-=-=-=-=-=-=-=-= \n",
    "\n",
    "def word_positions(listname):\n",
    "    from collections import defaultdict\n",
    "    words_with_positions = defaultdict(list)\n",
    "    for position, word in enumerate(listname):\n",
    "        words_with_positions[word].append(float(position)/len(listname))\n",
    "    return(words_with_positions)\n",
    "\n",
    "# word_positions(texts[0]) # check output"
   ]
  },
  {
   "cell_type": "code",
   "execution_count": 54,
   "metadata": {
    "collapsed": true
   },
   "outputs": [],
   "source": [
    "# =-=-=-=-=-=-=-=-=-=-=\n",
    "# Develop \"super dictionary\" of all the texts involved\n",
    "# =-=-=-=-=-=-=-=-=-=-= \n",
    "\n",
    "super_dict = {}\n",
    "for text in texts:\n",
    "    temp_dict = word_positions(text)\n",
    "    for k, v in temp_dict.items():\n",
    "        if super_dict.get(k) is None:\n",
    "            super_dict[k] = []\n",
    "        if v not in super_dict.get(k):\n",
    "            # Possibly problematic for larger data sets\n",
    "            super_dict[k] = super_dict[k] + v\n",
    "            \n",
    "# print(super_dict) # check output"
   ]
  },
  {
   "cell_type": "code",
   "execution_count": null,
   "metadata": {},
   "outputs": [],
   "source": [
    "super_dict[\"thank\"]"
   ]
  },
  {
   "cell_type": "code",
   "execution_count": 63,
   "metadata": {},
   "outputs": [
    {
     "name": "stdout",
     "output_type": "stream",
     "text": [
      "*adaptable* occurs 21 times in the corpus, with an average position of 0.48408945020571637.\n"
     ]
    }
   ],
   "source": [
    "# =-=-=-=-=-=-=-=-=-=-=\n",
    "# Quick way to get occurrence and average position for a term in the dictionary\n",
    "# =-=-=-=-=-=-=-=-=-=-= \n",
    "\n",
    "import statistics\n",
    "\n",
    "word = \"adaptable\"\n",
    "\n",
    "# the format method would work better here\n",
    "print(\"*\" + word + \"* occurs \" + str(len(super_dict[word])) + \n",
    "      \" times in the corpus, with an average position of \" + \n",
    "      str(statistics.mean(super_dict[word])) + \".\")"
   ]
  },
  {
   "cell_type": "code",
   "execution_count": 67,
   "metadata": {},
   "outputs": [
    {
     "data": {
      "text/plain": [
       "56588"
      ]
     },
     "execution_count": 67,
     "metadata": {},
     "output_type": "execute_result"
    }
   ],
   "source": [
    "words_df = pandas.DataFrame()\n",
    "words_df['word'] = super_dict.keys()\n",
    "words_df['positions'] = super_dict.values()\n",
    "\n",
    "# Check -----> returns 56588\n",
    "# print(len(words_df))"
   ]
  },
  {
   "cell_type": "code",
   "execution_count": 58,
   "metadata": {
    "scrolled": true
   },
   "outputs": [
    {
     "data": {
      "text/html": [
       "<div>\n",
       "<table border=\"1\" class=\"dataframe\">\n",
       "  <thead>\n",
       "    <tr style=\"text-align: right;\">\n",
       "      <th></th>\n",
       "      <th>word</th>\n",
       "      <th>positions</th>\n",
       "    </tr>\n",
       "  </thead>\n",
       "  <tbody>\n",
       "    <tr>\n",
       "      <th>0</th>\n",
       "      <td>casseroles</td>\n",
       "      <td>[0.7642857142857142]</td>\n",
       "    </tr>\n",
       "    <tr>\n",
       "      <th>1</th>\n",
       "      <td>procedurally</td>\n",
       "      <td>[0.41314425961276247, 0.42568857376602126]</td>\n",
       "    </tr>\n",
       "    <tr>\n",
       "      <th>2</th>\n",
       "      <td>gaelic</td>\n",
       "      <td>[0.07612635939927499, 0.08130502330398758, 0.1...</td>\n",
       "    </tr>\n",
       "    <tr>\n",
       "      <th>3</th>\n",
       "      <td>shambles</td>\n",
       "      <td>[0.0924962852897474, 0.1502231036192365]</td>\n",
       "    </tr>\n",
       "    <tr>\n",
       "      <th>4</th>\n",
       "      <td>gernot</td>\n",
       "      <td>[0.9419939577039275]</td>\n",
       "    </tr>\n",
       "  </tbody>\n",
       "</table>\n",
       "</div>"
      ],
      "text/plain": [
       "           word                                          positions\n",
       "0    casseroles                               [0.7642857142857142]\n",
       "1  procedurally         [0.41314425961276247, 0.42568857376602126]\n",
       "2        gaelic  [0.07612635939927499, 0.08130502330398758, 0.1...\n",
       "3      shambles           [0.0924962852897474, 0.1502231036192365]\n",
       "4        gernot                               [0.9419939577039275]"
      ]
     },
     "execution_count": 58,
     "metadata": {},
     "output_type": "execute_result"
    }
   ],
   "source": [
    "words_df.head()"
   ]
  },
  {
   "cell_type": "code",
   "execution_count": 68,
   "metadata": {},
   "outputs": [
    {
     "data": {
      "text/html": [
       "<div>\n",
       "<table border=\"1\" class=\"dataframe\">\n",
       "  <thead>\n",
       "    <tr style=\"text-align: right;\">\n",
       "      <th></th>\n",
       "      <th>word</th>\n",
       "      <th>positions</th>\n",
       "      <th>average</th>\n",
       "      <th>occurs</th>\n",
       "    </tr>\n",
       "  </thead>\n",
       "  <tbody>\n",
       "    <tr>\n",
       "      <th>0</th>\n",
       "      <td>casseroles</td>\n",
       "      <td>[0.7642857142857142]</td>\n",
       "      <td>0.764286</td>\n",
       "      <td>1</td>\n",
       "    </tr>\n",
       "    <tr>\n",
       "      <th>1</th>\n",
       "      <td>procedurally</td>\n",
       "      <td>[0.41314425961276247, 0.42568857376602126]</td>\n",
       "      <td>0.419416</td>\n",
       "      <td>2</td>\n",
       "    </tr>\n",
       "    <tr>\n",
       "      <th>2</th>\n",
       "      <td>gaelic</td>\n",
       "      <td>[0.07612635939927499, 0.08130502330398758, 0.1...</td>\n",
       "      <td>0.098222</td>\n",
       "      <td>3</td>\n",
       "    </tr>\n",
       "    <tr>\n",
       "      <th>3</th>\n",
       "      <td>shambles</td>\n",
       "      <td>[0.0924962852897474, 0.1502231036192365]</td>\n",
       "      <td>0.121360</td>\n",
       "      <td>2</td>\n",
       "    </tr>\n",
       "    <tr>\n",
       "      <th>4</th>\n",
       "      <td>gernot</td>\n",
       "      <td>[0.9419939577039275]</td>\n",
       "      <td>0.941994</td>\n",
       "      <td>1</td>\n",
       "    </tr>\n",
       "    <tr>\n",
       "      <th>5</th>\n",
       "      <td>booker</td>\n",
       "      <td>[0.6132478632478633, 0.6273504273504273]</td>\n",
       "      <td>0.620299</td>\n",
       "      <td>2</td>\n",
       "    </tr>\n",
       "    <tr>\n",
       "      <th>6</th>\n",
       "      <td>rewinds</td>\n",
       "      <td>[0.8224143664782175]</td>\n",
       "      <td>0.822414</td>\n",
       "      <td>1</td>\n",
       "    </tr>\n",
       "    <tr>\n",
       "      <th>7</th>\n",
       "      <td>seditious</td>\n",
       "      <td>[0.9782886334610472]</td>\n",
       "      <td>0.978289</td>\n",
       "      <td>1</td>\n",
       "    </tr>\n",
       "    <tr>\n",
       "      <th>8</th>\n",
       "      <td>traverse</td>\n",
       "      <td>[0.34157998313185267, 0.34543761638733705, 0.7...</td>\n",
       "      <td>0.482537</td>\n",
       "      <td>7</td>\n",
       "    </tr>\n",
       "    <tr>\n",
       "      <th>9</th>\n",
       "      <td>sicilians</td>\n",
       "      <td>[0.9786196549137285]</td>\n",
       "      <td>0.978620</td>\n",
       "      <td>1</td>\n",
       "    </tr>\n",
       "  </tbody>\n",
       "</table>\n",
       "</div>"
      ],
      "text/plain": [
       "           word                                          positions   average  \\\n",
       "0    casseroles                               [0.7642857142857142]  0.764286   \n",
       "1  procedurally         [0.41314425961276247, 0.42568857376602126]  0.419416   \n",
       "2        gaelic  [0.07612635939927499, 0.08130502330398758, 0.1...  0.098222   \n",
       "3      shambles           [0.0924962852897474, 0.1502231036192365]  0.121360   \n",
       "4        gernot                               [0.9419939577039275]  0.941994   \n",
       "5        booker           [0.6132478632478633, 0.6273504273504273]  0.620299   \n",
       "6       rewinds                               [0.8224143664782175]  0.822414   \n",
       "7     seditious                               [0.9782886334610472]  0.978289   \n",
       "8      traverse  [0.34157998313185267, 0.34543761638733705, 0.7...  0.482537   \n",
       "9     sicilians                               [0.9786196549137285]  0.978620   \n",
       "\n",
       "   occurs  \n",
       "0       1  \n",
       "1       2  \n",
       "2       3  \n",
       "3       2  \n",
       "4       1  \n",
       "5       2  \n",
       "6       1  \n",
       "7       1  \n",
       "8       7  \n",
       "9       1  "
      ]
     },
     "execution_count": 68,
     "metadata": {},
     "output_type": "execute_result"
    }
   ],
   "source": [
    "# I need two additional columns: \n",
    "# one for mean, one for counting the number of items in a list\n",
    "\n",
    "positions = words_df['positions'].tolist()\n",
    "\n",
    "average_positions = []\n",
    "for the_list in positions:\n",
    "    average_positions.append(sum(the_list)/len(the_list))\n",
    "    \n",
    "occurrences = []\n",
    "for the_list in positions:\n",
    "    occurrences.append(len(the_list))\n",
    "\n",
    "# Quick Check\n",
    "# print(average_positions[0:5])\n",
    "# print(occurrences[0:5])\n",
    "\n",
    "words_df['average'] = average_positions\n",
    "words_df['occurs'] = occurrences\n",
    "words_df.head(10)"
   ]
  },
  {
   "cell_type": "code",
   "execution_count": 69,
   "metadata": {},
   "outputs": [],
   "source": [
    "words_df.to_csv('../data/word_places.csv', index=False)"
   ]
  },
  {
   "cell_type": "code",
   "execution_count": null,
   "metadata": {
    "collapsed": true
   },
   "outputs": [],
   "source": [
    "words_df.loc[df['occurs'] > 1000]"
   ]
  }
 ],
 "metadata": {
  "kernelspec": {
   "display_name": "Python 3",
   "language": "python",
   "name": "python3"
  },
  "language_info": {
   "codemirror_mode": {
    "name": "ipython",
    "version": 3
   },
   "file_extension": ".py",
   "mimetype": "text/x-python",
   "name": "python",
   "nbconvert_exporter": "python",
   "pygments_lexer": "ipython3",
   "version": "3.4.6"
  }
 },
 "nbformat": 4,
 "nbformat_minor": 2
}
