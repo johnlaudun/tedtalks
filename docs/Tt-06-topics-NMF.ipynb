{
 "cells": [
  {
   "cell_type": "code",
   "execution_count": 1,
   "metadata": {
    "collapsed": false,
    "deletable": true,
    "editable": true
   },
   "outputs": [],
   "source": [
    "#! /usr/bin/env python\n",
    "\n",
    "# =-=-=-=-=-=\n",
    "# Consolidated imports for entire notebook\n",
    "# =-=-=-=-=-=\n",
    "\n",
    "import pandas\n",
    "import re\n",
    "from nltk.tokenize import WhitespaceTokenizer\n",
    "import numpy as np\n",
    "import sklearn.feature_extraction.text as sk_text\n",
    "from sklearn.decomposition import NMF\n",
    "\n",
    "\n",
    "# =-=-=-=-=-=\n",
    "# Read CSV into DataFrame and then create lists\n",
    "# =-=-=-=-=-=\n",
    "\n",
    "# Create pandas dataframe & lists\n",
    "colnames = ['author', 'title', 'date' , 'length', 'text']\n",
    "df = pandas.read_csv('../data/talks_2.csv', names=colnames)\n",
    "talks = df.text.tolist()\n",
    "authors = df.author.tolist()\n",
    "dates = df.date.tolist()\n",
    "\n",
    "# Get years from date list and combing with author list for labels\n",
    "years = [re.sub('[A-Za-z ]', '', item) for item in dates]\n",
    "authordate = [author+\" \"+year for author, year in zip(authors, years)]"
   ]
  },
  {
   "cell_type": "code",
   "execution_count": 2,
   "metadata": {
    "collapsed": true,
    "deletable": true,
    "editable": true
   },
   "outputs": [],
   "source": [
    "# =-=-=-=-=-=\n",
    "# Clean and Tokenize, then Drop Stopwords\n",
    "# =-=-=-=-=-=\n",
    "\n",
    "# Documentation: https://pypi.python.org/pypi/lda\n",
    "# LDA requires a DTM as input\n",
    "\n",
    "# From the Stopwords Notebook:\n",
    "tokenizer = WhitespaceTokenizer()\n",
    "stopwords = re.split('\\s+', open('../data/tt_stop.txt', 'r').read().lower())\n",
    "\n",
    "# Loop to tokenize, stop, and stem (if needed) texts.\n",
    "texts = []\n",
    "for i in talks:   \n",
    "    # clean and tokenize document string\n",
    "    raw = re.sub(r\"[^\\w\\d'\\s]+\",'', i).lower()\n",
    "    tokens = tokenizer.tokenize(raw)\n",
    "    # remove stop words from tokens\n",
    "    stopped_tokens = [i for i in tokens if not i in stopwords]\n",
    "    # stem tokens\n",
    "    # stemmed_tokens = [p_stemmer.stem(i) for i in stopped_tokens]\n",
    "    # add tokens to list\n",
    "    texts.append(stopped_tokens)\n",
    "\n",
    "# =-=-=-=-=-=-=-=-=-=-=\n",
    "# Re-Assemble Texts as Strings from Lists of Words\n",
    "# =-=-=-=-=-=-=-=-=-=-= \n",
    "\n",
    "strungs = []\n",
    "for text in texts:\n",
    "    strung = ' '.join(text)\n",
    "    strungs.append(strung)"
   ]
  },
  {
   "cell_type": "code",
   "execution_count": 3,
   "metadata": {
    "collapsed": false,
    "deletable": true,
    "editable": true
   },
   "outputs": [
    {
     "name": "stdout",
     "output_type": "stream",
     "text": [
      "Fitting the NMF model with 40 topics for 2092 documents with 2000 features.\n"
     ]
    }
   ],
   "source": [
    "# =-=-=-=-=-=\n",
    "# Get NMF topics\n",
    "# =-=-=-=-=-=\n",
    "\n",
    "\n",
    "# All our variables are here to make it easier to make adjustments\n",
    "n_samples = len(strungs)\n",
    "n_features = 2000\n",
    "n_topics = 40\n",
    "n_top_words = 15\n",
    "# tt_stopwords = open('../data/stopwords_tt.txt', 'r').read().splitlines()\n",
    "\n",
    "# Get tf-idf features for NMF\n",
    "vectorizer = sk_text.TfidfVectorizer(max_df = 0.95,\n",
    "                                        min_df = 2,\n",
    "                                        max_features = n_features)\n",
    "tfidf = vectorizer.fit_transform(strungs)\n",
    "\n",
    "# Fit the NMF model\n",
    "nmf = NMF(n_components = n_topics,\n",
    "          random_state = 1,\n",
    "          alpha = 0.1,\n",
    "          l1_ratio = 0.5).fit(tfidf)\n",
    "print(\"Fitting the NMF model with {} topics for {} documents with {} features.\"\n",
    "      .format(n_topics, n_samples, n_features))"
   ]
  },
  {
   "cell_type": "code",
   "execution_count": 13,
   "metadata": {
    "collapsed": false,
    "deletable": true,
    "editable": true
   },
   "outputs": [
    {
     "name": "stdout",
     "output_type": "stream",
     "text": [
      "Topics in NMF model:\n"
     ]
    },
    {
     "ename": "NameError",
     "evalue": "name 'tfidf_feature_names' is not defined",
     "output_type": "error",
     "traceback": [
      "\u001b[0;31m---------------------------------------------------------------------------\u001b[0m",
      "\u001b[0;31mNameError\u001b[0m                                 Traceback (most recent call last)",
      "\u001b[0;32m<ipython-input-13-db883be70b04>\u001b[0m in \u001b[0;36m<module>\u001b[0;34m()\u001b[0m\n\u001b[1;32m     13\u001b[0m \u001b[0;31m# KK - I get an error here. My python does not recognize tfidf_vectorizer()\u001b[0m\u001b[0;34m\u001b[0m\u001b[0;34m\u001b[0m\u001b[0m\n\u001b[1;32m     14\u001b[0m \u001b[0;31m# tfidf_feature_names = nmf.get_feature_names()\u001b[0m\u001b[0;34m\u001b[0m\u001b[0;34m\u001b[0m\u001b[0m\n\u001b[0;32m---> 15\u001b[0;31m \u001b[0mprint_top_words\u001b[0m\u001b[0;34m(\u001b[0m\u001b[0mnmf\u001b[0m\u001b[0;34m,\u001b[0m \u001b[0mtfidf_feature_names\u001b[0m\u001b[0;34m,\u001b[0m \u001b[0mn_top_words\u001b[0m\u001b[0;34m)\u001b[0m \u001b[0;31m#n_top_words can be changed on the fly\u001b[0m\u001b[0;34m\u001b[0m\u001b[0m\n\u001b[0m",
      "\u001b[0;31mNameError\u001b[0m: name 'tfidf_feature_names' is not defined"
     ]
    }
   ],
   "source": [
    "# =-=-=-=-=-=\n",
    "# Get NMF printing\n",
    "# =-=-=-=-=-=\n",
    "\n",
    "def print_top_words(model, feature_names, n_top_words):\n",
    "    for topic_id, topic in enumerate(model.components_):\n",
    "        print('\\nTopic {}:'.format(int(topic_id)))\n",
    "        print(''.join([feature_names[i] + ' ' + str(round(topic[i], 2))\n",
    "              +', ' for i in topic.argsort()[:-n_top_words - 1:-1]]))\n",
    "\n",
    "print(\"Topics in NMF model:\")\n",
    "\n",
    "# KK - I get an error here. My python does not recognize tfidf_vectorizer()\n",
    "# tfidf_feature_names = nmf.get_feature_names()\n",
    "# print_top_words(nmf, tfidf_feature_names, n_top_words) #n_top_words can be changed on the fly"
   ]
  },
  {
   "cell_type": "code",
   "execution_count": null,
   "metadata": {
    "collapsed": true,
    "deletable": true,
    "editable": true
   },
   "outputs": [],
   "source": [
    "dtm = tfidf.toarray()\n",
    "doctopic = nmf.fit_transform(dtm) # This is an array"
   ]
  },
  {
   "cell_type": "code",
   "execution_count": null,
   "metadata": {
    "collapsed": false,
    "deletable": true,
    "editable": true
   },
   "outputs": [],
   "source": [
    "dtm.shape"
   ]
  },
  {
   "cell_type": "code",
   "execution_count": null,
   "metadata": {
    "collapsed": false,
    "deletable": true,
    "editable": true
   },
   "outputs": [],
   "source": [
    "type(nmf)"
   ]
  },
  {
   "cell_type": "code",
   "execution_count": 11,
   "metadata": {
    "collapsed": false,
    "deletable": true,
    "editable": true
   },
   "outputs": [],
   "source": [
    "features = vectorizer.get_feature_names()"
   ]
  },
  {
   "cell_type": "code",
   "execution_count": 12,
   "metadata": {
    "collapsed": false
   },
   "outputs": [
    {
     "name": "stdout",
     "output_type": "stream",
     "text": [
      "['ability', 'able', 'absolute', 'absolutely', 'accept', 'access', 'accident', 'account', 'achieve', 'act', 'action', 'active', 'activities', 'activity', 'actual', 'actually', 'add', 'added', 'addition', 'address', 'adult', 'adults', 'advanced', 'advantage', 'affect', 'afford', 'afghanistan', 'afraid', 'africa', 'african', 'age', 'aging', 'ago', 'agree', 'agriculture', 'ah', 'ahead', 'aid', 'aids', 'air', 'airplane', 'al', 'alive', 'allow', 'allowed', 'allows', 'alternative', 'amazing', 'amazon', 'america', 'american', 'americans', 'amount', 'analysis', 'ancient', 'anderson', 'animal', 'animals', 'answer', 'answers', 'anti', 'ants', 'anybody', 'anymore', 'anyway', 'apart', 'appear', 'applause', 'apple', 'applied', 'apply', 'approach', 'architecture', 'area', 'areas', 'argue', 'argument', 'arm', 'arms', 'army', 'arrived', 'art', 'article', 'artificial', 'artist', 'artists', 'arts', 'asia', 'ask', 'asked', 'asking', 'associated', 'atmosphere', 'attack', 'attention', 'audience', 'australia', 'autism', 'available', 'average', 'avoid', 'aware', 'awareness', 'away', 'awesome', 'awful', 'babies', 'baby', 'back', 'background', 'bacteria', 'bad', 'balance', 'ball', 'bank', 'bar', 'base', 'based', 'basic', 'basically', 'basis', 'battery', 'battle', 'beach', 'bear', 'beat', 'beautiful', 'beauty', 'bed', 'bees', 'begin', 'beginning', 'begins', 'behavior', 'beings', 'belief', 'believe', 'believed', 'benefit', 'benefits', 'best', 'better', 'bg', 'big', 'bigger', 'biggest', 'bill', 'billion', 'billions', 'biological', 'biology', 'bird', 'birds', 'birth', 'bit', 'bits', 'black', 'blind', 'block', 'blood', 'blue', 'board', 'boat', 'bodies', 'body', 'bone', 'book', 'books', 'born', 'bottle', 'bottom', 'bought', 'box', 'boy', 'boys', 'brain', 'brains', 'brand', 'brazil', 'bread', 'break', 'breast', 'breath', 'bridge', 'bright', 'brilliant', 'bring', 'bringing', 'brings', 'britain', 'british', 'broke', 'broken', 'brother', 'brought', 'brown', 'bubble', 'budget', 'build', 'building', 'buildings', 'built', 'bunch', 'bus', 'business', 'businesses', 'buy', 'buying', 'ca', 'california', 'call', 'called', 'calling', 'calls', 'came', 'camera', 'cameras', 'camp', 'campaign', 'canada', 'cancer', 'capable', 'capacity', 'capital', 'capture', 'car', 'carbon', 'card', 'cards', 'care', 'career', 'carefully', 'carry', 'carrying', 'cars', 'case', 'cases', 'cat', 'catch', 'caught', 'cause', 'caused', 'causes', 'cell', 'cells', 'center', 'centers', 'central', 'century', 'certainly', 'chain', 'chair', 'challenge', 'challenges', 'chance', 'change', 'changed', 'changes', 'changing', 'character', 'characters', 'charge', 'cheap', 'check', 'chemical', 'chemicals', 'chemistry', 'chicken', 'child', 'childhood', 'children', 'china', 'chinese', 'choice', 'choices', 'choose', 'chris', 'church', 'circle', 'cities', 'citizens', 'city', 'civil', 'civilization', 'class', 'classroom', 'clean', 'clear', 'clearly', 'click', 'climate', 'clinical', 'clock', 'close', 'closed', 'closer', 'cloud', 'co', 'coal', 'coast', 'code', 'coffee', 'cognitive', 'cold', 'colleagues', 'collect', 'collection', 'collective', 'college', 'color', 'colors', 'come', 'comes', 'comfortable', 'coming', 'commercial', 'common', 'communicate', 'communication', 'communities', 'community', 'companies', 'company', 'compare', 'compared', 'compassion', 'competition', 'complete', 'completely', 'complex', 'complexity', 'complicated', 'components', 'computer', 'computers', 'concept', 'concerned', 'condition', 'conditions', 'conference', 'confidence', 'conflict', 'congress', 'connect', 'connected', 'connection', 'connections', 'conscious', 'consciousness', 'consequences', 'consider', 'considered', 'constantly', 'construction', 'consumption', 'contact', 'content', 'context', 'continent', 'continue', 'control', 'controlled', 'conversation', 'conversations', 'convinced', 'cool', 'copy', 'coral', 'core', 'corner', 'correct', 'corruption', 'cost', 'costs', 'count', 'countries', 'country', 'couple', 'course', 'court', 'cover', 'covered', 'crazy', 'create', 'created', 'creates', 'creating', 'creation', 'creative', 'creativity', 'creatures', 'credit', 'crime', 'crisis', 'critical', 'cross', 'crowd', 'cultural', 'culture', 'cultures', 'cure', 'curious', 'current', 'currently', 'curve', 'cut', 'cutting', 'cycle', 'da', 'dad', 'daily', 'damage', 'dance', 'dangerous', 'dark', 'data', 'date', 'daughter', 'david', 'day', 'days', 'de', 'dead', 'deal', 'dealing', 'death', 'debate', 'decade', 'decades', 'decide', 'decided', 'decision', 'decisions', 'deep', 'deeper', 'deeply', 'define', 'definitely', 'definition', 'degree', 'degrees', 'deliver', 'demand', 'democracy', 'democratic', 'department', 'depends', 'depression', 'describe', 'described', 'desert', 'design', 'designed', 'designer', 'designers', 'designing', 'desire', 'despite', 'detail', 'details', 'develop', 'developed', 'developing', 'development', 'device', 'devices', 'die', 'died', 'difference', 'differences', 'different', 'differently', 'difficult', 'digital', 'dimensional', 'dimensions', 'dinner', 'direct', 'direction', 'directly', 'disaster', 'discover', 'discovered', 'discovery', 'discussion', 'disease', 'diseases', 'distance', 'distribution', 'diversity', 'dna', 'doctor', 'doctors', 'dog', 'dollar', 'dollars', 'done', 'door', 'dots', 'double', 'dr', 'draw', 'drawing', 'dream', 'dreams', 'drink', 'drive', 'driven', 'driver', 'driving', 'drop', 'drug', 'drugs', 'dry', 'due', 'dying', 'dynamic', 'earlier', 'early', 'earth', 'easier', 'easily', 'east', 'easy', 'eat', 'eating', 'economic', 'economics', 'economy', 'edge', 'education', 'effect', 'effective', 'effectively', 'effects', 'efficient', 'effort', 'eight', 'einstein', 'electric', 'electrical', 'electricity', 'elements', 'email', 'emerging', 'emissions', 'emotion', 'emotional', 'emotions', 'empathy', 'employees', 'empty', 'end', 'ended', 'ends', 'energy', 'engage', 'engaged', 'engine', 'engineer', 'engineering', 'engineers', 'england', 'english', 'enjoy', 'enormous', 'enter', 'entire', 'entirely', 'environment', 'environmental', 'environments', 'epidemic', 'equal', 'equipment', 'equivalent', 'era', 'essential', 'essentially', 'europe', 'european', 'event', 'events', 'eventually', 'everybody', 'everyday', 'evidence', 'evil', 'evolution', 'evolutionary', 'evolved', 'exact', 'exactly', 'examples', 'exchange', 'excited', 'exciting', 'exercise', 'exist', 'existence', 'existing', 'exists', 'expect', 'expected', 'expensive', 'experience', 'experienced', 'experiences', 'experiment', 'experiments', 'experts', 'explain', 'explore', 'express', 'expression', 'extra', 'extraordinary', 'extreme', 'extremely', 'eye', 'eyes', 'face', 'facebook', 'faces', 'facing', 'fact', 'factor', 'factors', 'factory', 'facts', 'fail', 'failed', 'failure', 'fair', 'fairly', 'faith', 'fall', 'familiar', 'families', 'family', 'famous', 'fantastic', 'far', 'farm', 'farmers', 'fascinating', 'fashion', 'fast', 'faster', 'father', 'favorite', 'fear', 'feed', 'feedback', 'feel', 'feeling', 'feelings', 'feels', 'feet', 'fell', 'fellow', 'felt', 'female', 'field', 'fields', 'fight', 'fighting', 'figure', 'figured', 'fill', 'filled', 'film', 'final', 'financial', 'finding', 'fine', 'finger', 'finish', 'finished', 'fire', 'first', 'fish', 'fit', 'five', 'fix', 'flag', 'flat', 'flight', 'floor', 'flow', 'flu', 'fly', 'flying', 'focus', 'focused', 'folks', 'follow', 'followed', 'food', 'foot', 'force', 'forced', 'forces', 'foreign', 'forest', 'forever', 'forget', 'form', 'formed', 'forms', 'forth', 'forward', 'fossil', 'found', 'foundation', 'four', 'fourth', 'francisco', 'free', 'freedom', 'french', 'fresh', 'friend', 'friends', 'front', 'fuel', 'full', 'fully', 'fun', 'function', 'fund', 'fundamental', 'funding', 'funny', 'future', 'gain', 'galaxies', 'galaxy', 'game', 'games', 'gap', 'garden', 'gas', 'gave', 'gay', 'gdp', 'gender', 'gene', 'general', 'generate', 'generation', 'generations', 'genes', 'genetic', 'genome', 'gentlemen', 'george', 'germany', 'get', 'gets', 'getting', 'giant', 'gift', 'girl', 'girls', 'give', 'gives', 'giving', 'glass', 'global', 'go', 'goal', 'goals', 'god', 'goes', 'going', 'gold', 'gone', 'good', 'google', 'got', 'gotten', 'government', 'governments', 'grade', 'graduate', 'grand', 'grandmother', 'graph', 'gravity', 'great', 'greater', 'greatest', 'green', 'grew', 'ground', 'group', 'groups', 'grow', 'growing', 'grown', 'growth', 'guess', 'gun', 'guy', 'guys', 'hair', 'half', 'hall', 'hand', 'hands', 'happen', 'happened', 'happening', 'happens', 'happiness', 'happy', 'hard', 'harder', 'harvard', 'hate', 'head', 'heads', 'health', 'healthcare', 'healthy', 'hear', 'heard', 'hearing', 'heart', 'heat', 'heavy', 'held', 'hell', 'help', 'helped', 'helping', 'helps', 'hey', 'hidden', 'hide', 'high', 'higher', 'highest', 'highly', 'history', 'hit', 'hiv', 'hold', 'holding', 'hole', 'holes', 'home', 'homes', 'honest', 'honor', 'hope', 'hopefully', 'hospital', 'hospitals', 'hot', 'hour', 'hours', 'house', 'houses', 'huge', 'human', 'humanity', 'humans', 'hundred', 'hundreds', 'hurt', 'husband', 'ice', 'idea', 'ideas', 'identify', 'identity', 'image', 'images', 'imagination', 'imagine', 'immediately', 'impact', 'importance', 'important', 'importantly', 'impossible', 'improve', 'income', 'increase', 'increased', 'increasing', 'increasingly', 'incredible', 'incredibly', 'independent', 'india', 'indian', 'individual', 'individuals', 'industrial', 'industry', 'inequality', 'influence', 'information', 'infrastructure', 'inner', 'innovation', 'insects', 'inside', 'inspired', 'instance', 'institute', 'institutions', 'intellectual', 'intelligence', 'intelligent', 'interact', 'interaction', 'interest', 'interested', 'interesting', 'interface', 'international', 'internet', 'introduce', 'introduced', 'invented', 'invention', 'invest', 'investment', 'invisible', 'invited', 'involved', 'iran', 'iraq', 'island', 'israel', 'issue', 'issues', 'it', 'japan', 'japanese', 'job', 'jobs', 'john', 'join', 'journey', 'joy', 'jump', 'just', 'justice', 'keep', 'keeping', 'keeps', 'kenya', 'kept', 'key', 'kid', 'kids', 'kill', 'killed', 'killing', 'kilometers', 'kind', 'kinds', 'king', 'knew', 'know', 'knowing', 'knowledge', 'known', 'knows', 'la', 'lab', 'labor', 'lack', 'ladies', 'lady', 'land', 'landscape', 'language', 'languages', 'laptop', 'large', 'larger', 'largest', 'last', 'late', 'laughter', 'launched', 'law', 'laws', 'layer', 'lead', 'leader', 'leaders', 'leadership', 'leading', 'leads', 'learn', 'learned', 'learning', 'leave', 'leaves', 'leaving', 'led', 'left', 'leg', 'legal', 'legs', 'lesson', 'lessons', 'let', 'letter', 'letters', 'level', 'levels', 'library', 'lie', 'lies', 'life', 'lifetime', 'light', 'lights', 'liked', 'likely', 'limited', 'line', 'lines', 'link', 'list', 'listen', 'listening', 'literally', 'little', 'live', 'lived', 'lives', 'living', 'll', 'local', 'location', 'london', 'long', 'longer', 'look', 'looked', 'looking', 'looks', 'los', 'lose', 'losing', 'loss', 'lost', 'lot', 'lots', 'love', 'loved', 'low', 'lower', 'lucky', 'lunch', 'lying', 'machine', 'machines', 'made', 'magazine', 'magic', 'main', 'major', 'majority', 'make', 'makes', 'making', 'malaria', 'male', 'man', 'manage', 'managed', 'management', 'manufacturing', 'map', 'maps', 'mark', 'market', 'markets', 'marriage', 'married', 'mars', 'mass', 'massive', 'match', 'material', 'materials', 'math', 'mathematical', 'mathematics', 'matter', 'matters', 'mean', 'meaning', 'means', 'meant', 'measure', 'meat', 'media', 'medical', 'medicine', 'meet', 'meeting', 'member', 'members', 'memories', 'memory', 'men', 'mental', 'mentioned', 'message', 'messages', 'met', 'metal', 'metaphor', 'meters', 'method', 'mexico', 'microbes', 'mid', 'middle', 'mile', 'miles', 'military', 'million', 'millions', 'mind', 'minds', 'mine', 'minister', 'minute', 'minutes', 'missing', 'mission', 'mistake', 'mit', 'mobile', 'model', 'models', 'modern', 'molecular', 'molecule', 'molecules', 'mom', 'moment', 'moments', 'money', 'month', 'months', 'moon', 'moral', 'morning', 'mother', 'mothers', 'motion', 'motor', 'mountain', 'mountains', 'mouse', 'mouth', 'move', 'moved', 'movement', 'movements', 'moves', 'movie', 'movies', 'moving', 'mr', 'multiple', 'muscle', 'museum', 'music', 'muslim', 'mystery', 'name', 'named', 'names', 'nasa', 'nation', 'national', 'nations', 'natural', 'naturally', 'nature', 'necessarily', 'necessary', 'need', 'needed', 'needs', 'negative', 'neighborhood', 'neighbors', 'nervous', 'net', 'network', 'networks', 'neurons', 'new', 'news', 'nice', 'night', 'nine', 'noise', 'non', 'normal', 'normally', 'north', 'northern', 'nose', 'note', 'notice', 'noticed', 'notion', 'nuclear', 'number', 'numbers', 'object', 'objects', 'obvious', 'obviously', 'ocean', 'oceans', 'offer', 'office', 'oh', 'oil', 'ok', 'okay', 'old', 'older', 'one', 'ones', 'online', 'open', 'opened', 'opening', 'operating', 'opinion', 'opportunities', 'opportunity', 'opposite', 'option', 'order', 'ordinary', 'organic', 'organisms', 'organization', 'organizations', 'organized', 'organs', 'original', 'outcome', 'outside', 'oxygen', 'page', 'pages', 'paid', 'pain', 'paint', 'painting', 'paper', 'parents', 'park', 'participate', 'particles', 'particular', 'partner', 'party', 'pass', 'passed', 'passion', 'past', 'patent', 'path', 'patient', 'patients', 'pattern', 'patterns', 'pay', 'paying', 'peace', 'people', 'percent', 'perfect', 'perfectly', 'performance', 'period', 'person', 'personal', 'perspective', 'phenomenon', 'phone', 'phones', 'photo', 'photograph', 'photos', 'physical', 'physics', 'pick', 'picked', 'picture', 'pictures', 'piece', 'pieces', 'place', 'places', 'plan', 'plane', 'planet', 'planets', 'planning', 'plant', 'plants', 'plastic', 'platform', 'play', 'played', 'player', 'players', 'playing', 'please', 'pleasure', 'plus', 'pm', 'poem', 'poetry', 'point', 'points', 'pole', 'police', 'policy', 'political', 'politicians', 'politics', 'poor', 'pop', 'popular', 'population', 'position', 'positive', 'possibilities', 'possibility', 'possible', 'possibly', 'post', 'potential', 'potentially', 'pounds', 'poverty', 'power', 'powerful', 'practice', 'pre', 'predict', 'present', 'president', 'press', 'pressure', 'pretty', 'prevent', 'previous', 'price', 'prime', 'principle', 'principles', 'print', 'printing', 'prison', 'privacy', 'private', 'prize', 'problem', 'problems', 'process', 'processes', 'processing', 'produce', 'produced', 'producing', 'product', 'production', 'products', 'professional', 'professor', 'profit', 'profound', 'program', 'programs', 'progress', 'project', 'projects', 'promise', 'properties', 'property', 'protect', 'protected', 'protection', 'protein', 'proud', 'prove', 'provide', 'public', 'published', 'pull', 'pulled', 'purpose', 'push', 'put', 'puts', 'putting', 'quality', 'quantum', 'question', 'questions', 'quick', 'quickly', 'quite', 'quote', 'race', 'radiation', 'radical', 'radio', 'rain', 'raise', 'raised', 'ran', 'random', 'range', 'rapidly', 'rare', 'rate', 'rates', 'ray', 're', 'reach', 'reached', 'reaction', 'read', 'reading', 'ready', 'real', 'reality', 'realize', 'realized', 'really', 'reason', 'reasons', 'received', 'recent', 'recently', 'recognize', 'record', 'recorded', 'red', 'reduce', 'region', 'regular', 'related', 'relationship', 'relationships', 'relatively', 'release', 'released', 'religion', 'religious', 'remain', 'remarkable', 'remember', 'remote', 'replace', 'report', 'represent', 'represents', 'require', 'required', 'requires', 'research', 'researchers', 'resource', 'resources', 'respect', 'respond', 'response', 'responsibility', 'responsible', 'rest', 'result', 'results', 'return', 'revolution', 'rich', 'richard', 'rid', 'ride', 'right', 'rights', 'rise', 'risk', 'risks', 'river', 'road', 'robot', 'robots', 'rock', 'role', 'roll', 'room', 'roughly', 'round', 'row', 'rule', 'rules', 'run', 'running', 'rural', 'sad', 'safe', 'safety', 'said', 'san', 'sand', 'sat', 'satellite', 'save', 'saved', 'saving', 'saw', 'say', 'saying', 'says', 'scale', 'scene', 'school', 'schools', 'science', 'scientific', 'scientist', 'scientists', 'screen', 'sea', 'search', 'seat', 'second', 'seconds', 'secret', 'sector', 'security', 'see', 'seeing', 'seen', 'sees', 'self', 'sell', 'selling', 'send', 'sending', 'sense', 'sent', 'sentence', 'separate', 'sequence', 'series', 'serious', 'seriously', 'serve', 'service', 'services', 'setting', 'seven', 'sex', 'sexual', 'shape', 'shapes', 'share', 'shared', 'sharing', 'sharks', 'shift', 'ship', 'shoes', 'short', 'shot', 'show', 'showed', 'showing', 'shown', 'shows', 'sick', 'side', 'sides', 'sign', 'signal', 'signals', 'significant', 'signs', 'silence', 'simple', 'simply', 'single', 'sister', 'sit', 'site', 'sites', 'sitting', 'situation', 'situations', 'six', 'size', 'skills', 'skin', 'sky', 'sleep', 'slide', 'slightly', 'slow', 'slowly', 'small', 'smaller', 'smart', 'smell', 'social', 'societies', 'society', 'software', 'soil', 'solar', 'sold', 'soldiers', 'solution', 'solutions', 'solve', 'somebody', 'son', 'song', 'soon', 'sorry', 'sort', 'sorts', 'sound', 'sounds', 'source', 'sources', 'south', 'southern', 'space', 'spaces', 'speak', 'speaking', 'special', 'species', 'specific', 'specifically', 'spectrum', 'speech', 'speed', 'spend', 'spending', 'spent', 'spirit', 'spoke', 'spot', 'spread', 'spring', 'square', 'st', 'staff', 'stage', 'stand', 'standard', 'standing', 'star', 'stars', 'start', 'started', 'starting', 'starts', 'state', 'states', 'station', 'statistics', 'status', 'stay', 'steel', 'stem', 'step', 'steps', 'stick', 'stone', 'stood', 'stop', 'stopped', 'store', 'stories', 'story', 'straight', 'strange', 'strategy', 'street', 'streets', 'strength', 'stress', 'strong', 'structure', 'structures', 'struggle', 'stuck', 'student', 'students', 'studied', 'studies', 'study', 'studying', 'stuff', 'stupid', 'sub', 'subject', 'success', 'successful', 'sudden', 'suddenly', 'suffering', 'suggest', 'sum', 'summer', 'sun', 'super', 'supply', 'support', 'suppose', 'supposed', 'sure', 'surface', 'surgery', 'surprise', 'surprised', 'surprising', 'survival', 'survive', 'sustainable', 'switch', 'system', 'systems', 'table', 'tail', 'take', 'taken', 'takes', 'taking', 'talk', 'talked', 'talking', 'talks', 'target', 'task', 'taught', 'teach', 'teacher', 'teachers', 'teaching', 'team', 'teams', 'tech', 'technical', 'techniques', 'technologies', 'technology', 'ted', 'teeth', 'telescope', 'television', 'tell', 'telling', 'tells', 'temperature', 'ten', 'tend', 'tens', 'term', 'terms', 'terrible', 'terrorism', 'test', 'testing', 'text', 'th', 'thank', 'thanks', 'theater', 'theory', 'thing', 'things', 'think', 'thinking', 'thinks', 'third', 'thought', 'thoughts', 'thousand', 'thousands', 'threat', 'three', 'throw', 'time', 'times', 'tiny', 'tissue', 'today', 'told', 'tomorrow', 'tons', 'tool', 'tools', 'top', 'total', 'totally', 'touch', 'tough', 'town', 'track', 'trade', 'tradition', 'traditional', 'traffic', 'train', 'trained', 'training', 'transform', 'transition', 'travel', 'treat', 'treated', 'treatment', 'tree', 'trees', 'tremendous', 'trial', 'trials', 'trick', 'tried', 'trillion', 'trip', 'trouble', 'true', 'truly', 'trust', 'truth', 'try', 'trying', 'tumor', 'turn', 'turned', 'turning', 'turns', 'tv', 'twice', 'twitter', 'two', 'type', 'types', 'typical', 'typically', 'uk', 'ultimately', 'un', 'underneath', 'understand', 'understanding', 'understood', 'unfortunately', 'unique', 'unit', 'united', 'universal', 'universe', 'university', 'urban', 'useful', 'user', 'users', 'uses', 'vaccine', 'valley', 'valuable', 'value', 'values', 'variety', 'vast', 've', 'vehicle', 'version', 'versus', 'victims', 'video', 'videos', 'view', 'village', 'violence', 'virtual', 'virus', 'vision', 'visit', 'visual', 'voice', 'voices', 'vote', 'vulnerable', 'wait', 'waiting', 'wake', 'walk', 'walked', 'walking', 'wall', 'walls', 'wanted', 'wants', 'war', 'warm', 'warming', 'wars', 'washington', 'waste', 'watch', 'watched', 'watching', 'water', 'wave', 'waves', 'ways', 'wealth', 'weapons', 'wear', 'wearing', 'weather', 'web', 'website', 'week', 'weeks', 'weight', 'weird', 'went', 'west', 'western', 'white', 'wide', 'wife', 'wild', 'willing', 'win', 'wind', 'window', 'winter', 'wisdom', 'wish', 'woman', 'women', 'won', 'wonder', 'wonderful', 'wondering', 'word', 'words', 'work', 'worked', 'workers', 'working', 'works', 'world', 'worlds', 'worldwide', 'worried', 'worry', 'worse', 'worst', 'worth', 'wow', 'write', 'writing', 'written', 'wrong', 'wrote', 'yeah', 'year', 'years', 'yellow', 'yesterday', 'york', 'young', 'youtube', 'zero']\n"
     ]
    }
   ],
   "source": [
    "print(features)"
   ]
  },
  {
   "cell_type": "code",
   "execution_count": null,
   "metadata": {
    "collapsed": false,
    "deletable": true,
    "editable": true
   },
   "outputs": [],
   "source": [
    "for topicidx in enumerate(nmf.components_):\n",
    "    print(topicidx)"
   ]
  },
  {
   "cell_type": "code",
   "execution_count": null,
   "metadata": {
    "collapsed": false,
    "deletable": true,
    "editable": true
   },
   "outputs": [],
   "source": [
    "# =-=-=-=-=-=\n",
    "# Saving output to CSV\n",
    "# =-=-=-=-=-=\n",
    "\n",
    "# Since DOCTOPIC is an array, you can just do:\n",
    "#      np.savetxt(\"foo.csv\", doctopic, delimiter=\",\", fmt = \"%s\")\n",
    "# http://stackoverflow.com/questions/6081008/dump-a-numpy-array-into-a-csv-file\n",
    "#\n",
    "# The above won't give you the names of the files. Instead try this:\n",
    "\n",
    "topsnum = np.array([list(range(n_topics))])\n",
    "# topsnum = np.indices((1,n_topics))[1] <-- this is more than we need,\n",
    "#                                           but it's cool to know more tricks\n",
    "#\n",
    "# Two ways to get an array that is of the form [[0,1,2,3,...]].\n",
    "# It will have the desired dimensions of (1,35) which is what we want\n",
    "\n",
    "fileheader = np.concatenate((np.array([[\"citations\"]]), topsnum),axis = 1)\n",
    "authordate = np.array([df.author])\n",
    "\n",
    "docTopics = np.concatenate((authordate.T, doctopic), axis = 1)\n",
    "docTopics = np.concatenate((fileheader, docTopics), axis = 0)\n",
    "\n",
    "np.savetxt(\"../data/dt_KK_test.csv\", doctopic, delimiter=\",\", fmt = \"%s\")\n",
    "#np.savetxt(\"../data/nmf_topics.csv\", docTopics, delimiter=\",\", fmt = \"%s\")"
   ]
  }
 ],
 "metadata": {
  "kernelspec": {
   "display_name": "Python 3",
   "language": "python",
   "name": "python3"
  },
  "language_info": {
   "codemirror_mode": {
    "name": "ipython",
    "version": 3
   },
   "file_extension": ".py",
   "mimetype": "text/x-python",
   "name": "python",
   "nbconvert_exporter": "python",
   "pygments_lexer": "ipython3",
   "version": "3.4.6"
  }
 },
 "nbformat": 4,
 "nbformat_minor": 0
}
