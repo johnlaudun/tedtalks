{
 "cells": [
  {
   "cell_type": "code",
   "execution_count": null,
   "metadata": {
    "collapsed": true
   },
   "outputs": [],
   "source": [
    "# =-=-=-=-=-=-=-=-=-=-=\n",
    "# Data Load & Tokenize\n",
    "# =-=-=-=-=-=-=-=-=-=-= \n",
    "\n",
    "import pandas\n",
    "import re\n",
    "from nltk.tokenize import WhitespaceTokenizer\n",
    "\n",
    "# LOAD\n",
    "colnames = ['author', 'title', 'date' , 'length', 'text']\n",
    "df = pandas.read_csv('../data/talks_3.csv', names=colnames)\n",
    "talks = df.text.tolist()\n",
    "authors = df.author.tolist()\n",
    "dates = df.date.tolist()\n",
    "years = [re.sub('[A-Za-z ]', '', item) for item in dates]\n",
    "authordate = [author+\" \"+year for author, year in zip(authors, years)]\n",
    "\n",
    "# TOKENIZE\n",
    "tokenizer = WhitespaceTokenizer()\n",
    "texts = []\n",
    "for talk in talks:   \n",
    "    raw = re.sub(r\"[^\\w\\d'\\s]+\",'', talk).lower()\n",
    "    tokens = tokenizer.tokenize(raw)\n",
    "    texts.append(tokens)"
   ]
  },
  {
   "cell_type": "code",
   "execution_count": null,
   "metadata": {
    "collapsed": true
   },
   "outputs": [],
   "source": [
    "# =-=-=-=-=-=-=-=-=-=-=\n",
    "# Small Test Corpus\n",
    "# =-=-=-=-=-=-=-=-=-=-= \n",
    "\n",
    "test = texts[0:5]"
   ]
  },
  {
   "cell_type": "code",
   "execution_count": null,
   "metadata": {
    "collapsed": true
   },
   "outputs": [],
   "source": [
    "# =-=-=-=-=-=-=-=-=-=-=\n",
    "# Function to collect word positions within a text (as a word list)\n",
    "# =-=-=-=-=-=-=-=-=-=-= \n",
    "\n",
    "def word_positions(listname):\n",
    "    from collections import defaultdict\n",
    "    words_with_positions = defaultdict(list)\n",
    "    for position, word in enumerate(listname):\n",
    "        words_with_positions[word].append(float(position)/len(listname))\n",
    "    return(words_with_positions)\n",
    "\n",
    "# word_positions(texts[0]) # check output"
   ]
  },
  {
   "cell_type": "code",
   "execution_count": null,
   "metadata": {
    "collapsed": true
   },
   "outputs": [],
   "source": [
    "# =-=-=-=-=-=-=-=-=-=-=\n",
    "# Develop \"super dictionary\" of all the texts involved\n",
    "# =-=-=-=-=-=-=-=-=-=-= \n",
    "\n",
    "super_dict = {}\n",
    "for text in texts:\n",
    "    temp_dict = word_positions(text)\n",
    "    for k, v in temp_dict.items():\n",
    "        if super_dict.get(k) is None:\n",
    "            super_dict[k] = []\n",
    "        if v not in super_dict.get(k):\n",
    "            # Possibly problematic for larger data sets\n",
    "            super_dict[k] = super_dict[k] + v\n",
    "            \n",
    "# print(super_dict) # check output"
   ]
  },
  {
   "cell_type": "code",
   "execution_count": null,
   "metadata": {
    "collapsed": true
   },
   "outputs": [],
   "source": [
    "super_dict[\"thank\"]"
   ]
  },
  {
   "cell_type": "code",
   "execution_count": null,
   "metadata": {
    "collapsed": true
   },
   "outputs": [],
   "source": [
    "# =-=-=-=-=-=-=-=-=-=-=\n",
    "# Quick way to get occurrence and average position for a term in the dictionary\n",
    "# =-=-=-=-=-=-=-=-=-=-= \n",
    "\n",
    "import statistics\n",
    "\n",
    "word = \"adaptable\"\n",
    "\n",
    "# the format method would work better here\n",
    "print(\"*\" + word + \"* occurs \" + str(len(super_dict[word])) + \n",
    "      \" times in the corpus, with an average position of \" + \n",
    "      str(statistics.mean(super_dict[word])) + \".\")"
   ]
  },
  {
   "cell_type": "code",
   "execution_count": null,
   "metadata": {
    "collapsed": true
   },
   "outputs": [],
   "source": [
    "words_df = pandas.DataFrame()\n",
    "words_df['word'] = super_dict.keys()\n",
    "words_df['positions'] = super_dict.values()\n",
    "\n",
    "# Check -----> returns 56588\n",
    "# print(len(words_df))"
   ]
  },
  {
   "cell_type": "code",
<<<<<<< Updated upstream
   "execution_count": 1,
=======
   "execution_count": null,
>>>>>>> Stashed changes
   "metadata": {
    "collapsed": true,
    "scrolled": true
   },
   "outputs": [],
   "source": [
    "words_df.head()"
   ]
  },
  {
   "cell_type": "code",
   "execution_count": null,
   "metadata": {
    "collapsed": true
   },
   "outputs": [],
   "source": [
    "# I need two additional columns: \n",
    "# one for mean, one for counting the number of items in a list\n",
    "\n",
    "positions = words_df['positions'].tolist()\n",
    "\n",
    "average_positions = []\n",
    "for the_list in positions:\n",
    "    average_positions.append(sum(the_list)/len(the_list))\n",
    "    \n",
    "occurrences = []\n",
    "for the_list in positions:\n",
    "    occurrences.append(len(the_list))\n",
    "\n",
    "# Quick Check\n",
    "# print(average_positions[0:5])\n",
    "# print(occurrences[0:5])\n",
    "\n",
    "words_df['average'] = average_positions\n",
    "words_df['occurs'] = occurrences\n",
    "words_df.head(10)"
   ]
  },
  {
   "cell_type": "code",
   "execution_count": null,
   "metadata": {
    "collapsed": true,
    "scrolled": true
   },
   "outputs": [],
   "source": [
    "words_df.to_csv('../data/word_places.csv', index=False)"
   ]
  },
  {
   "cell_type": "code",
   "execution_count": 1,
   "metadata": {},
   "outputs": [
    {
<<<<<<< Updated upstream
     "ename": "NameError",
     "evalue": "name 'words_df' is not defined",
     "output_type": "error",
     "traceback": [
      "\u001b[0;31m---------------------------------------------------------------------------\u001b[0m",
      "\u001b[0;31mNameError\u001b[0m                                 Traceback (most recent call last)",
      "\u001b[0;32m<ipython-input-1-f7fff3f6aff7>\u001b[0m in \u001b[0;36m<module>\u001b[0;34m()\u001b[0m\n\u001b[0;32m----> 1\u001b[0;31m \u001b[0mwords_df\u001b[0m\u001b[0;34m.\u001b[0m\u001b[0mhead\u001b[0m\u001b[0;34m(\u001b[0m\u001b[0;34m)\u001b[0m\u001b[0;34m\u001b[0m\u001b[0m\n\u001b[0m",
      "\u001b[0;31mNameError\u001b[0m: name 'words_df' is not defined"
     ]
=======
     "data": {
      "text/html": [
       "<div>\n",
       "<table border=\"1\" class=\"dataframe\">\n",
       "  <thead>\n",
       "    <tr style=\"text-align: right;\">\n",
       "      <th></th>\n",
       "      <th>word</th>\n",
       "      <th>positions</th>\n",
       "      <th>average</th>\n",
       "      <th>occurs</th>\n",
       "    </tr>\n",
       "  </thead>\n",
       "  <tbody>\n",
       "    <tr>\n",
       "      <th>7072</th>\n",
       "      <td>diagnosed</td>\n",
       "      <td>[0.10034263338228096, 0.15940838126540674, 0.8...</td>\n",
       "      <td>0.336463</td>\n",
       "      <td>102</td>\n",
       "    </tr>\n",
       "    <tr>\n",
       "      <th>12174</th>\n",
       "      <td>fascinated</td>\n",
       "      <td>[0.0009606147934678194, 0.044508485430675634, ...</td>\n",
       "      <td>0.346013</td>\n",
       "      <td>107</td>\n",
       "    </tr>\n",
       "    <tr>\n",
       "      <th>19140</th>\n",
       "      <td>rocks</td>\n",
       "      <td>[0.8953220858895705, 0.0438556418455916, 0.019...</td>\n",
       "      <td>0.341743</td>\n",
       "      <td>118</td>\n",
       "    </tr>\n",
       "    <tr>\n",
       "      <th>22016</th>\n",
       "      <td>slums</td>\n",
       "      <td>[0.4977049180327869, 0.37924424972617743, 0.38...</td>\n",
       "      <td>0.343227</td>\n",
       "      <td>58</td>\n",
       "    </tr>\n",
       "    <tr>\n",
       "      <th>23366</th>\n",
       "      <td>wrist</td>\n",
       "      <td>[0.7502824858757062, 0.925392670157068, 0.9947...</td>\n",
       "      <td>0.308390</td>\n",
       "      <td>52</td>\n",
       "    </tr>\n",
       "    <tr>\n",
       "      <th>27134</th>\n",
       "      <td>doubled</td>\n",
       "      <td>[0.46102075154234434, 0.0887865833607366, 0.49...</td>\n",
       "      <td>0.348030</td>\n",
       "      <td>58</td>\n",
       "    </tr>\n",
       "    <tr>\n",
       "      <th>32531</th>\n",
       "      <td>youngest</td>\n",
       "      <td>[0.09821428571428571, 0.3075027382256298, 0.11...</td>\n",
       "      <td>0.324499</td>\n",
       "      <td>53</td>\n",
       "    </tr>\n",
       "    <tr>\n",
       "      <th>32756</th>\n",
       "      <td>landscapes</td>\n",
       "      <td>[0.1719777440566515, 0.05209332054969639, 0.31...</td>\n",
       "      <td>0.311360</td>\n",
       "      <td>60</td>\n",
       "    </tr>\n",
       "    <tr>\n",
       "      <th>37371</th>\n",
       "      <td>apollo</td>\n",
       "      <td>[0.7963957055214724, 0.002033898305084746, 0.1...</td>\n",
       "      <td>0.321132</td>\n",
       "      <td>51</td>\n",
       "    </tr>\n",
       "    <tr>\n",
       "      <th>37767</th>\n",
       "      <td>mosquitos</td>\n",
       "      <td>[0.0006887052341597796, 0.03787878787878788, 0...</td>\n",
       "      <td>0.345288</td>\n",
       "      <td>66</td>\n",
       "    </tr>\n",
       "    <tr>\n",
       "      <th>39319</th>\n",
       "      <td>biologist</td>\n",
       "      <td>[0.2012084592145015, 0.9305766312594841, 0.956...</td>\n",
       "      <td>0.283096</td>\n",
       "      <td>61</td>\n",
       "    </tr>\n",
       "    <tr>\n",
       "      <th>56261</th>\n",
       "      <td>twin</td>\n",
       "      <td>[0.26902086677367576, 0.2799616490891659, 0.48...</td>\n",
       "      <td>0.333268</td>\n",
       "      <td>57</td>\n",
       "    </tr>\n",
       "  </tbody>\n",
       "</table>\n",
       "</div>"
      ],
      "text/plain": [
       "             word                                          positions  \\\n",
       "7072    diagnosed  [0.10034263338228096, 0.15940838126540674, 0.8...   \n",
       "12174  fascinated  [0.0009606147934678194, 0.044508485430675634, ...   \n",
       "19140       rocks  [0.8953220858895705, 0.0438556418455916, 0.019...   \n",
       "22016       slums  [0.4977049180327869, 0.37924424972617743, 0.38...   \n",
       "23366       wrist  [0.7502824858757062, 0.925392670157068, 0.9947...   \n",
       "27134     doubled  [0.46102075154234434, 0.0887865833607366, 0.49...   \n",
       "32531    youngest  [0.09821428571428571, 0.3075027382256298, 0.11...   \n",
       "32756  landscapes  [0.1719777440566515, 0.05209332054969639, 0.31...   \n",
       "37371      apollo  [0.7963957055214724, 0.002033898305084746, 0.1...   \n",
       "37767   mosquitos  [0.0006887052341597796, 0.03787878787878788, 0...   \n",
       "39319   biologist  [0.2012084592145015, 0.9305766312594841, 0.956...   \n",
       "56261        twin  [0.26902086677367576, 0.2799616490891659, 0.48...   \n",
       "\n",
       "        average  occurs  \n",
       "7072   0.336463     102  \n",
       "12174  0.346013     107  \n",
       "19140  0.341743     118  \n",
       "22016  0.343227      58  \n",
       "23366  0.308390      52  \n",
       "27134  0.348030      58  \n",
       "32531  0.324499      53  \n",
       "32756  0.311360      60  \n",
       "37371  0.321132      51  \n",
       "37767  0.345288      66  \n",
       "39319  0.283096      61  \n",
       "56261  0.333268      57  "
      ]
     },
     "execution_count": 1,
     "metadata": {},
     "output_type": "execute_result"
>>>>>>> Stashed changes
    }
   ],
   "source": [
    "# =-=-=-=-=-=-=-=-=-=-=\n",
    "# In order to restart work from the saved csv\n",
    "# =-=-=-=-=-=-=-=-=-=-= \n",
    "\n",
    "import pandas \n",
    "words = pandas.read_csv('../data/word_places.csv')\n",
    "words.head()\n",
    "\n",
    "# # =-=-=-=-=-=-=-=-=-=-=\n",
    "# Some initial efforts to locate high frequency words\n",
    "# =-=-=-=-=-=-=-=-=-=-= \n",
    "# two_thousand = words.loc[words['occurs'] > 2000]\n",
    "# one_thousand = words.loc[words['occurs'] > 1000]\n",
    "# five_hundred = words.loc[words['occurs'] > 500]\n",
    "# two_hundred = words.loc[words['occurs'] > 200]\n",
    "# print(len(two_thousand), len(one_thousand), len(five_hundred), len(two_hundred))\n",
    "# two_thousand.head()\n",
    "\n",
    "# males = df[(df[Gender]=='Male') & (df[Year]==2014)] # SO example\n",
    "first_words = words[(words.average < 0.35) & (words.occurs > 50)]\n",
    "first_words.head(len(first_words))"
   ]
  },
  {
   "cell_type": "code",
   "execution_count": 2,
   "metadata": {},
   "outputs": [
    {
     "data": {
      "text/html": [
       "<div>\n",
       "<table border=\"1\" class=\"dataframe\">\n",
       "  <thead>\n",
       "    <tr style=\"text-align: right;\">\n",
       "      <th></th>\n",
       "      <th>word</th>\n",
       "      <th>positions</th>\n",
       "      <th>average</th>\n",
       "      <th>occurs</th>\n",
       "    </tr>\n",
       "  </thead>\n",
       "  <tbody>\n",
       "    <tr>\n",
       "      <th>43751</th>\n",
       "      <td>thank</td>\n",
       "      <td>[0.0, 0.017037387600567912, 0.9966871746332229...</td>\n",
       "      <td>0.879963</td>\n",
       "      <td>3206</td>\n",
       "    </tr>\n",
       "    <tr>\n",
       "      <th>11904</th>\n",
       "      <td>bg</td>\n",
       "      <td>[0.9771490750816104, 0.9967355821545157, 0.226...</td>\n",
       "      <td>0.815649</td>\n",
       "      <td>172</td>\n",
       "    </tr>\n",
       "    <tr>\n",
       "      <th>40145</th>\n",
       "      <td>bruno</td>\n",
       "      <td>[0.9332607907145448, 0.157035175879397, 0.7916...</td>\n",
       "      <td>0.772933</td>\n",
       "      <td>54</td>\n",
       "    </tr>\n",
       "    <tr>\n",
       "      <th>39224</th>\n",
       "      <td>applause</td>\n",
       "      <td>[0.9985163204747775, 0.22232734153263956, 0.41...</td>\n",
       "      <td>0.768980</td>\n",
       "      <td>505</td>\n",
       "    </tr>\n",
       "    <tr>\n",
       "      <th>39961</th>\n",
       "      <td>conclude</td>\n",
       "      <td>[0.6647540983606557, 0.593013468013468, 0.9403...</td>\n",
       "      <td>0.760836</td>\n",
       "      <td>85</td>\n",
       "    </tr>\n",
       "    <tr>\n",
       "      <th>38983</th>\n",
       "      <td>thanks</td>\n",
       "      <td>[0.9182235834609495, 0.5325294447560291, 0.999...</td>\n",
       "      <td>0.721583</td>\n",
       "      <td>389</td>\n",
       "    </tr>\n",
       "    <tr>\n",
       "      <th>39782</th>\n",
       "      <td>closing</td>\n",
       "      <td>[0.9555728760717069, 0.9737373737373738, 0.912...</td>\n",
       "      <td>0.702276</td>\n",
       "      <td>73</td>\n",
       "    </tr>\n",
       "    <tr>\n",
       "      <th>762</th>\n",
       "      <td>hopeful</td>\n",
       "      <td>[0.13623462630085148, 0.15042573320719016, 0.9...</td>\n",
       "      <td>0.696769</td>\n",
       "      <td>54</td>\n",
       "    </tr>\n",
       "    <tr>\n",
       "      <th>30401</th>\n",
       "      <td>ca</td>\n",
       "      <td>[0.996937212863706, 0.9990811638591118, 0.7865...</td>\n",
       "      <td>0.687784</td>\n",
       "      <td>641</td>\n",
       "    </tr>\n",
       "    <tr>\n",
       "      <th>30339</th>\n",
       "      <td>survivors</td>\n",
       "      <td>[0.8716329966329966, 0.004622496147919877, 0.7...</td>\n",
       "      <td>0.686436</td>\n",
       "      <td>54</td>\n",
       "    </tr>\n",
       "    <tr>\n",
       "      <th>38654</th>\n",
       "      <td>attitudes</td>\n",
       "      <td>[0.3674734356552538, 0.8845917740945365, 0.241...</td>\n",
       "      <td>0.682123</td>\n",
       "      <td>55</td>\n",
       "    </tr>\n",
       "    <tr>\n",
       "      <th>6815</th>\n",
       "      <td>anderson</td>\n",
       "      <td>[0.34311405584477045, 0.8542113323124043, 0.78...</td>\n",
       "      <td>0.680919</td>\n",
       "      <td>156</td>\n",
       "    </tr>\n",
       "    <tr>\n",
       "      <th>23230</th>\n",
       "      <td>embrace</td>\n",
       "      <td>[0.16825574873808188, 0.37469186524239934, 0.5...</td>\n",
       "      <td>0.678146</td>\n",
       "      <td>136</td>\n",
       "    </tr>\n",
       "    <tr>\n",
       "      <th>40928</th>\n",
       "      <td>dignity</td>\n",
       "      <td>[0.5570874623007325, 0.7768203360620423, 0.779...</td>\n",
       "      <td>0.676782</td>\n",
       "      <td>104</td>\n",
       "    </tr>\n",
       "    <tr>\n",
       "      <th>44989</th>\n",
       "      <td>final</td>\n",
       "      <td>[0.9690658499234304, 0.8306801736613604, 0.963...</td>\n",
       "      <td>0.675346</td>\n",
       "      <td>330</td>\n",
       "    </tr>\n",
       "    <tr>\n",
       "      <th>35269</th>\n",
       "      <td>encourage</td>\n",
       "      <td>[0.25257501119570086, 0.8557866184448463, 0.89...</td>\n",
       "      <td>0.674636</td>\n",
       "      <td>145</td>\n",
       "    </tr>\n",
       "    <tr>\n",
       "      <th>4233</th>\n",
       "      <td>urge</td>\n",
       "      <td>[0.885470894462849, 0.9476505834121728, 0.8724...</td>\n",
       "      <td>0.674426</td>\n",
       "      <td>70</td>\n",
       "    </tr>\n",
       "    <tr>\n",
       "      <th>17083</th>\n",
       "      <td>empower</td>\n",
       "      <td>[0.3247767857142857, 0.3976801988400994, 0.412...</td>\n",
       "      <td>0.673625</td>\n",
       "      <td>54</td>\n",
       "    </tr>\n",
       "    <tr>\n",
       "      <th>25590</th>\n",
       "      <td>personalized</td>\n",
       "      <td>[0.8067567567567567, 0.2966903073286052, 0.109...</td>\n",
       "      <td>0.672337</td>\n",
       "      <td>69</td>\n",
       "    </tr>\n",
       "  </tbody>\n",
       "</table>\n",
       "</div>"
      ],
      "text/plain": [
       "               word                                          positions  \\\n",
       "43751         thank  [0.0, 0.017037387600567912, 0.9966871746332229...   \n",
       "11904            bg  [0.9771490750816104, 0.9967355821545157, 0.226...   \n",
       "40145         bruno  [0.9332607907145448, 0.157035175879397, 0.7916...   \n",
       "39224      applause  [0.9985163204747775, 0.22232734153263956, 0.41...   \n",
       "39961      conclude  [0.6647540983606557, 0.593013468013468, 0.9403...   \n",
       "38983        thanks  [0.9182235834609495, 0.5325294447560291, 0.999...   \n",
       "39782       closing  [0.9555728760717069, 0.9737373737373738, 0.912...   \n",
       "762         hopeful  [0.13623462630085148, 0.15042573320719016, 0.9...   \n",
       "30401            ca  [0.996937212863706, 0.9990811638591118, 0.7865...   \n",
       "30339     survivors  [0.8716329966329966, 0.004622496147919877, 0.7...   \n",
       "38654     attitudes  [0.3674734356552538, 0.8845917740945365, 0.241...   \n",
       "6815       anderson  [0.34311405584477045, 0.8542113323124043, 0.78...   \n",
       "23230       embrace  [0.16825574873808188, 0.37469186524239934, 0.5...   \n",
       "40928       dignity  [0.5570874623007325, 0.7768203360620423, 0.779...   \n",
       "44989         final  [0.9690658499234304, 0.8306801736613604, 0.963...   \n",
       "35269     encourage  [0.25257501119570086, 0.8557866184448463, 0.89...   \n",
       "4233           urge  [0.885470894462849, 0.9476505834121728, 0.8724...   \n",
       "17083       empower  [0.3247767857142857, 0.3976801988400994, 0.412...   \n",
       "25590  personalized  [0.8067567567567567, 0.2966903073286052, 0.109...   \n",
       "\n",
       "        average  occurs  \n",
       "43751  0.879963    3206  \n",
       "11904  0.815649     172  \n",
       "40145  0.772933      54  \n",
       "39224  0.768980     505  \n",
       "39961  0.760836      85  \n",
       "38983  0.721583     389  \n",
       "39782  0.702276      73  \n",
       "762    0.696769      54  \n",
       "30401  0.687784     641  \n",
       "30339  0.686436      54  \n",
       "38654  0.682123      55  \n",
       "6815   0.680919     156  \n",
       "23230  0.678146     136  \n",
       "40928  0.676782     104  \n",
       "44989  0.675346     330  \n",
       "35269  0.674636     145  \n",
       "4233   0.674426      70  \n",
       "17083  0.673625      54  \n",
       "25590  0.672337      69  "
      ]
     },
     "execution_count": 2,
     "metadata": {},
     "output_type": "execute_result"
    }
   ],
   "source": [
    "last_words = words[(words.average > 0.67) & (words.occurs > 50)]\n",
    "last_words.sort_values('average', ascending = False)"
   ]
  },
  {
   "cell_type": "code",
<<<<<<< Updated upstream
   "execution_count": 69,
=======
   "execution_count": 6,
>>>>>>> Stashed changes
   "metadata": {
    "collapsed": true
   },
   "outputs": [],
   "source": [
    "%matplotlib inline"
   ]
  },
  {
   "cell_type": "code",
   "execution_count": 3,
<<<<<<< Updated upstream
   "metadata": {},
   "outputs": [],
   "source": [
    "import pandas\n",
    "colnames = ['word', 'positions', 'average' , 'occurs']\n",
    "words_df = pandas.read_csv('../data/word_places.csv', names=colnames)"
   ]
  },
  {
   "cell_type": "code",
   "execution_count": null,
   "metadata": {},
   "outputs": [],
   "source": []
  },
  {
   "cell_type": "code",
   "execution_count": null,
=======
>>>>>>> Stashed changes
   "metadata": {
    "collapsed": true
   },
   "outputs": [],
   "source": [
    "import matplotlib.pyplot as plt\n",
    "import matplotlib\n",
    "matplotlib.style.use('ggplot')"
   ]
  },
  {
   "cell_type": "code",
   "execution_count": 8,
   "metadata": {},
   "outputs": [
    {
     "data": {
      "text/plain": [
       "<matplotlib.figure.Figure at 0x10b61d5f8>"
      ]
     },
     "execution_count": 8,
     "metadata": {},
     "output_type": "execute_result"
    },
    {
     "data": {
      "image/png": "iVBORw0KGgoAAAANSUhEUgAAAZEAAAD/CAYAAAAwqOvJAAAABHNCSVQICAgIfAhkiAAAAAlwSFlz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\nRK5CYII=\n",
      "text/plain": [
       "<matplotlib.figure.Figure at 0x10b61d908>"
      ]
     },
     "metadata": {},
     "output_type": "display_data"
    },
    {
     "data": {
      "text/plain": [
       "<matplotlib.figure.Figure at 0x10b61d5f8>"
      ]
     },
     "metadata": {},
     "output_type": "display_data"
    }
   ],
   "source": [
    "last_words.plot.barh()\n",
    "plt.figure()"
   ]
  }
 ],
 "metadata": {
  "kernelspec": {
   "display_name": "Python 3",
   "language": "python",
   "name": "python3"
  },
  "language_info": {
   "codemirror_mode": {
    "name": "ipython",
    "version": 3
   },
   "file_extension": ".py",
   "mimetype": "text/x-python",
   "name": "python",
   "nbconvert_exporter": "python",
   "pygments_lexer": "ipython3",
   "version": "3.4.6"
  }
 },
 "nbformat": 4,
 "nbformat_minor": 2
}
