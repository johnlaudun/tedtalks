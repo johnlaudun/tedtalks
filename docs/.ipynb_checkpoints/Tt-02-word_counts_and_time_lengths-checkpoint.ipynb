{
 "cells": [
  {
   "cell_type": "code",
   "execution_count": 1,
   "metadata": {
    "collapsed": false
   },
   "outputs": [
    {
     "name": "stdout",
     "output_type": "stream",
     "text": [
      "Populating the interactive namespace from numpy and matplotlib\n"
     ]
    }
   ],
   "source": [
    "%pylab inline"
   ]
  },
  {
   "cell_type": "code",
   "execution_count": 2,
   "metadata": {
    "collapsed": false
   },
   "outputs": [
    {
     "data": {
      "image/png": "[encoded data removed]",
      "text/plain": [
       "<matplotlib.figure.Figure at 0x1038e7630>"
      ]
     },
     "metadata": {},
     "output_type": "display_data"
    }
   ],
   "source": [
    "import re\n",
    "import pandas\n",
    "import matplotlib.pyplot as plt\n",
    "import numpy as np\n",
    "import ggplot as gg\n",
    "\n",
    "#-=-=-=-=-=-=-=-=-=-=-=-=-=-=-=-=-=-=-=-=-=-=-=-=-=-=-=-=\n",
    "# global MPL settings\n",
    "# (http://bikulov.org/blog/2013/10/03/creation-of-paper-ready-plots-with-matlotlib/)\n",
    "\n",
    "def init_plotting():\n",
    "    plt.rcParams['figure.figsize'] = (15, 9)\n",
    "    plt.rcParams['font.size'] = 12\n",
    "#    plt.rcParams['font.family'] = 'Avenir Next'\n",
    "    plt.rcParams['legend.frameon'] = False\n",
    "    plt.rcParams['legend.loc'] = 'center left'\n",
    "    plt.rcParams['axes.linewidth'] = 1\n",
    "\n",
    "    plt.gca().spines['right'].set_color('none')\n",
    "    plt.gca().spines['top'].set_color('none')\n",
    "    plt.gca().xaxis.set_ticks_position('bottom')\n",
    "    plt.gca().yaxis.set_ticks_position('left')\n",
    "\n",
    "# init_plotting()\n",
    "\n",
    "# Limiting chart to where the data is\n",
    "plt.ylim(0, 3000)  \n",
    "plt.xlim(0, 2200)  \n",
    "#-=-=-=-=-=-=-=-=-=-=-=-=-=-=-=-=-=-=-=-=-=-=-=-=-=-=-=-=\n",
    "\n",
    "colnames = ['author', 'title', 'date' , 'length', 'text']\n",
    "data = pandas.read_csv('../data/talks_2.csv', names=colnames)\n",
    "texts = data.text.tolist()\n",
    "\n",
    "# It's entirely possible to convert a column into a list:\n",
    "# lengths = data.length.tolist()\n",
    "# but I am experimenting with leaving things in the pandas dataframe.\n",
    "# The results of most operations, e.g. len(lengths) and len(data.length)\n",
    "# are the same (2113)."
   ]
  },
  {
   "cell_type": "code",
   "execution_count": 3,
   "metadata": {
    "collapsed": false,
    "scrolled": true
   },
   "outputs": [
    {
     "data": {
      "text/html": [
       "<div>\n",
       "<table border=\"1\" class=\"dataframe\">\n",
       "  <thead>\n",
       "    <tr style=\"text-align: right;\">\n",
       "      <th></th>\n",
       "      <th>author</th>\n",
       "      <th>title</th>\n",
       "      <th>date</th>\n",
       "      <th>length</th>\n",
       "      <th>text</th>\n",
       "    </tr>\n",
       "  </thead>\n",
       "  <tbody>\n",
       "    <tr>\n",
       "      <th>0</th>\n",
       "      <td>Al Gore</td>\n",
       "      <td>Averting the climate crisis</td>\n",
       "      <td>Jun 2006</td>\n",
       "      <td>957</td>\n",
       "      <td>Thank you so much  Chris. And it's truly a gre...</td>\n",
       "    </tr>\n",
       "    <tr>\n",
       "      <th>1</th>\n",
       "      <td>David Pogue</td>\n",
       "      <td>Simplicity sells</td>\n",
       "      <td>Jun 2006</td>\n",
       "      <td>1271</td>\n",
       "      <td>Hello voice mail  my old friend. I've called f...</td>\n",
       "    </tr>\n",
       "    <tr>\n",
       "      <th>2</th>\n",
       "      <td>Cameron Sinclair</td>\n",
       "      <td>My wish: A call for open-source architecture</td>\n",
       "      <td>Jul 2006</td>\n",
       "      <td>1398</td>\n",
       "      <td>I'm going to take you on a journey very quickl...</td>\n",
       "    </tr>\n",
       "    <tr>\n",
       "      <th>3</th>\n",
       "      <td>Sergey Brin + Larry Page</td>\n",
       "      <td>The genesis of Google</td>\n",
       "      <td>May 2007</td>\n",
       "      <td>1205</td>\n",
       "      <td>Sergey Brin  I want to discuss a question I kn...</td>\n",
       "    </tr>\n",
       "    <tr>\n",
       "      <th>4</th>\n",
       "      <td>Nathalie Miebach</td>\n",
       "      <td>Art made of storms</td>\n",
       "      <td>Oct 2011</td>\n",
       "      <td>247</td>\n",
       "      <td>What you just heard are the interactions of ba...</td>\n",
       "    </tr>\n",
       "  </tbody>\n",
       "</table>\n",
       "</div>"
      ],
      "text/plain": [
       "                     author                                         title  \\\n",
       "0                   Al Gore                   Averting the climate crisis   \n",
       "1               David Pogue                              Simplicity sells   \n",
       "2          Cameron Sinclair  My wish: A call for open-source architecture   \n",
       "3  Sergey Brin + Larry Page                         The genesis of Google   \n",
       "4          Nathalie Miebach                            Art made of storms   \n",
       "\n",
       "       date  length                                               text  \n",
       "0  Jun 2006     957  Thank you so much  Chris. And it's truly a gre...  \n",
       "1  Jun 2006    1271  Hello voice mail  my old friend. I've called f...  \n",
       "2  Jul 2006    1398  I'm going to take you on a journey very quickl...  \n",
       "3  May 2007    1205  Sergey Brin  I want to discuss a question I kn...  \n",
       "4  Oct 2011     247  What you just heard are the interactions of ba...  "
      ]
     },
     "execution_count": 3,
     "metadata": {},
     "output_type": "execute_result"
    }
   ],
   "source": [
    "data.head()"
   ]
  },
  {
   "cell_type": "code",
   "execution_count": 4,
   "metadata": {
    "collapsed": false
   },
   "outputs": [
    {
     "data": {
      "text/plain": [
       "<matplotlib.axes._subplots.AxesSubplot at 0x1038d5b70>"
      ]
     },
     "execution_count": 4,
     "metadata": {},
     "output_type": "execute_result"
    },
    {
     "data": {
      "image/png": "[encoded data removed]",
      "text/plain": [
       "<matplotlib.figure.Figure at 0x1038e5a90>"
      ]
     },
     "metadata": {},
     "output_type": "display_data"
    }
   ],
   "source": [
    "#Simplest solution (but I can't figure out how to sort -- see graph below)\n",
    "data.length.plot()"
   ]
  },
  {
   "cell_type": "code",
   "execution_count": 5,
   "metadata": {
    "collapsed": false
   },
   "outputs": [
    {
     "data": {
      "image/png": "[encoded data removed]",
      "text/plain": [
       "<matplotlib.figure.Figure at 0x106b11898>"
      ]
     },
     "metadata": {},
     "output_type": "display_data"
    }
   ],
   "source": [
    "# Sorted graph using MPL\n",
    "length_sorted = sorted(data.length)\n",
    "plt.plot(length_sorted)\n",
    "\n",
    "plt.xlabel('TEDtalks')\n",
    "plt.ylabel('Length in Seconds')\n",
    "plt.title('How Long is a TEDtalk?')\n",
    "plt.grid(True)\n",
    "plt.show()"
   ]
  },
  {
   "cell_type": "code",
   "execution_count": 6,
   "metadata": {
    "collapsed": false
   },
   "outputs": [
    {
     "name": "stdout",
     "output_type": "stream",
     "text": [
      "[11, 11, 11, 11, 11, 11, 11, 11, 11, 11, 11, 11, 11, 11, 11, 11, 11, 11, 11, 11, 11, 11, 11, 11, 11, 11, 11, 11, 11, 11, 11, 11, 11, 11, 11, 11, 12, 12, 12, 12, 12, 12, 12, 12, 13, 13, 16, 25, 119, 123, 126, 137, 142, 143, 153, 154, 155, 156, 158, 163, 164, 165, 166, 167, 172, 173, 175, 177, 177, 178, 179, 179, 182, 182, 183, 184, 188, 189, 191, 191, 193, 193, 193, 193, 195, 196, 196, 197, 198, 199, 200, 201, 201, 203, 204, 204, 205, 211, 212, 213]\n",
      "[1652, 1654, 1664, 1664, 1681, 1692, 1739, 1747, 1752, 1760, 1849, 1885, 1910, 1967, 2000, 2001, 2061, 2089, 2201, 2663]\n"
     ]
    }
   ],
   "source": [
    "# The graph reveals we have a number of items that are, in fact, zero that\n",
    "# will affect other mathematical operations: mean, median, etc. How many are\n",
    "# in that flat head and how many in the spiked tail? \n",
    "# (See ggplot histogram below.)\n",
    "\n",
    "print(length_sorted[0:100])\n",
    "print(length_sorted[-20:])"
   ]
  },
  {
   "cell_type": "code",
   "execution_count": 7,
   "metadata": {
    "collapsed": false
   },
   "outputs": [
    {
     "data": {
      "text/plain": [
       "2176"
      ]
     },
     "execution_count": 7,
     "metadata": {},
     "output_type": "execute_result"
    }
   ],
   "source": [
    "len(re.findall(\"[a-zA-Z_]+\", data.text[0]))"
   ]
  },
  {
   "cell_type": "code",
   "execution_count": null,
   "metadata": {
    "collapsed": true
   },
   "outputs": [],
   "source": [
    "# First attempt at speed using built-in pandas plotting:\n",
    "import re\n",
    "len(re.findall(\"[a-zA-Z_]+\", data.text))/(data.length).plot()"
   ]
  },
  {
   "cell_type": "code",
   "execution_count": 8,
   "metadata": {
    "collapsed": true
   },
   "outputs": [],
   "source": [
    "# Problem: some items in list of texts are not strings. \n",
    "# We need to get rid of them or replace them:\n",
    "\n",
    "def xstr(s):\n",
    "    if s is None:\n",
    "        return ''\n",
    "    else:\n",
    "        return str(s)\n",
    "\n",
    "# With any luck, this list comprehension will work:\n",
    "only_texts = [ xstr(text) for text in texts ]"
   ]
  },
  {
   "cell_type": "code",
   "execution_count": 9,
   "metadata": {
    "collapsed": false
   },
   "outputs": [
    {
     "data": {
      "text/plain": [
       "2092"
      ]
     },
     "execution_count": 9,
     "metadata": {},
     "output_type": "execute_result"
    }
   ],
   "source": [
    "len(only_texts)"
   ]
  },
  {
   "cell_type": "code",
   "execution_count": 10,
   "metadata": {
    "collapsed": false
   },
   "outputs": [],
   "source": [
    "# Now will this work?\n",
    "counts = [len(re.findall(\"[a-zA-Z_]+\", text)) for text in only_texts]"
   ]
  },
  {
   "cell_type": "code",
   "execution_count": 11,
   "metadata": {
    "collapsed": false
   },
   "outputs": [
    {
     "data": {
      "text/plain": [
       "[2176, 3417, 3700, 3671, 659]"
      ]
     },
     "execution_count": 11,
     "metadata": {},
     "output_type": "execute_result"
    }
   ],
   "source": [
    "counts[0:5]"
   ]
  },
  {
   "cell_type": "code",
   "execution_count": 12,
   "metadata": {
    "collapsed": true
   },
   "outputs": [],
   "source": [
    "# Success with the apparent clean-up: \n",
    "# less clear is how to make sure the word count and length of a talk MATCH\n",
    "# I'm not sure if that's happening here: this should be a unidimensional graph.\n",
    "\n",
    "wpm = []\n",
    "for count in counts:\n",
    "    wpm_ = count / (data.length/60)\n",
    "    wpm.append(wpm_)"
   ]
  },
  {
   "cell_type": "code",
   "execution_count": 13,
   "metadata": {
    "collapsed": false
   },
   "outputs": [
    {
     "data": {
      "text/plain": [
       "0    136.426332\n",
       "1    102.722266\n",
       "2     93.390558\n",
       "3    108.348548\n",
       "4    528.582996\n",
       "Name: length, dtype: float64"
      ]
     },
     "execution_count": 13,
     "metadata": {},
     "output_type": "execute_result"
    }
   ],
   "source": [
    "wpm[0][0:5] # reveals that we have 2000 data points for each item in the list. "
   ]
  },
  {
   "cell_type": "code",
   "execution_count": 14,
   "metadata": {
    "collapsed": true
   },
   "outputs": [],
   "source": [
    "lengths = data.length / 60"
   ]
  },
  {
   "cell_type": "code",
   "execution_count": 15,
   "metadata": {
    "collapsed": false
   },
   "outputs": [
    {
     "data": {
      "text/plain": [
       "0    15.950000\n",
       "1    21.183333\n",
       "2    23.300000\n",
       "3    20.083333\n",
       "4     4.116667\n",
       "Name: length, dtype: float64"
      ]
     },
     "execution_count": 15,
     "metadata": {},
     "output_type": "execute_result"
    }
   ],
   "source": [
    "lengths.head()"
   ]
  },
  {
   "cell_type": "code",
   "execution_count": 16,
   "metadata": {
    "collapsed": false
   },
   "outputs": [
    {
     "data": {
      "text/plain": [
       "2092"
      ]
     },
     "execution_count": 16,
     "metadata": {},
     "output_type": "execute_result"
    }
   ],
   "source": [
    "len(lengths)"
   ]
  },
  {
   "cell_type": "code",
   "execution_count": 17,
   "metadata": {
    "collapsed": false
   },
   "outputs": [
    {
     "data": {
      "image/png": "[encoded data removed]",
      "text/plain": [
       "<matplotlib.figure.Figure at 0x1076f12b0>"
      ]
     },
     "metadata": {},
     "output_type": "display_data"
    }
   ],
   "source": [
    "init_plotting()\n",
    "\n",
    "plt.plot(counts, lengths, 'ro')\n",
    "plt.xlabel('Length of Talk in Words')\n",
    "plt.ylabel('Length of Talk in Minutes')\n",
    "plt.title('How Fast is a TEDtalk?: Words per Minute')\n",
    "plt.grid(True)\n",
    "plt.show()"
   ]
  },
  {
   "cell_type": "code",
   "execution_count": null,
   "metadata": {
    "collapsed": false
   },
   "outputs": [],
   "source": [
    "# Third attempt: add a column with word count into pandas dataframe\n",
    "\n",
    "# data['word_count'] = data['text'].map(len(re.findall(\"[a-zA-Z_]+\", data.text)))\n",
    "# data['word_count'] =  data['text'].apply(lambda x: len(re.findall(\"[a-zA-Z_]+\", x)))\n",
    "\n",
    "word_counts = []\n",
    "for item in data.text: # data.text = string not list\n",
    "    wordcount = len(re.findall(\"[a-zA-Z_]+\", item)\n",
    "#    word_counts.append(wordcount)\n",
    "    "
   ]
  },
  {
   "cell_type": "code",
   "execution_count": null,
   "metadata": {
    "collapsed": false
   },
   "outputs": [],
   "source": [
    "word_counts = []\n",
    "for text in texts:\n",
    "    count = len(re.findall(r\"[a-zA-Z_]+\", text))\n",
    "    word_counts.append(count)"
   ]
  },
  {
   "cell_type": "code",
   "execution_count": null,
   "metadata": {
    "collapsed": false
   },
   "outputs": [],
   "source": [
    "texts[0].split()[:10]"
   ]
  },
  {
   "cell_type": "code",
   "execution_count": null,
   "metadata": {
    "collapsed": false
   },
   "outputs": [],
   "source": [
    "type(data.text[0])"
   ]
  },
  {
   "cell_type": "code",
   "execution_count": null,
   "metadata": {
    "collapsed": false
   },
   "outputs": [],
   "source": [
    "for text in texts[185]:\n",
    "    print(text.split()[:5])"
   ]
  },
  {
   "cell_type": "code",
   "execution_count": null,
   "metadata": {
    "collapsed": false
   },
   "outputs": [],
   "source": [
    "def count_words2(cell):\n",
    "    try:\n",
    "        len(cell.split())\n",
    "    except AttributeError:\n",
    "        return cell\n",
    "\n",
    "data['word_count'] = data['text'].apply(count_words2)"
   ]
  },
  {
   "cell_type": "code",
   "execution_count": null,
   "metadata": {
    "collapsed": false
   },
   "outputs": [],
   "source": [
    "data.head()"
   ]
  },
  {
   "cell_type": "markdown",
   "metadata": {},
   "source": [
    "## Experiments with ggplot"
   ]
  },
  {
   "cell_type": "code",
   "execution_count": null,
   "metadata": {
    "collapsed": false
   },
   "outputs": [],
   "source": [
    "gg.ggplot(data, gg.aes('length')) + gg.geom_density()\n",
    "\n",
    "# The resulting graph does seem to represent the frequency of certain lengths\n",
    "# within the corpus. However, I cannot make sense of the numbers on the Y axis.\n",
    "# E.g., \"0.0000 - 0.0014\": possibly percentages? (Check ggplot docs!)"
   ]
  },
  {
   "cell_type": "code",
   "execution_count": null,
   "metadata": {
    "collapsed": false
   },
   "outputs": [],
   "source": [
    "gg.ggplot(data, gg.aes('length')) + gg.geom_histogram()"
   ]
  },
  {
   "cell_type": "code",
   "execution_count": null,
   "metadata": {
    "collapsed": false
   },
   "outputs": [],
   "source": [
    "gg.ggplot(data, gg.aes('length')) + gg.geom_point()"
   ]
  },
  {
   "cell_type": "code",
   "execution_count": null,
   "metadata": {
    "collapsed": false
   },
   "outputs": [],
   "source": [
    "# An early attempt to convert talk lengths from seconds to minutes and \n",
    "# seconds -- I think I prefer just dividing by sixty and rounding to a tenth.\n",
    "\n",
    "def minsecs (seconds):\n",
    "    m, s = divmod(seconds, 60)\n",
    "    return m, s\n",
    "\n",
    "print(\"{}{}\".format(m, s = minsecs(data.length.mean())))\n",
    "\n",
    "#print(\"The average talk is {} minutes and {} seconds.\".format(minsecs(data.length.mean())))\n",
    "#print(\"The median TEDtalk length is {} seconds\".format(data.length.median()))"
   ]
  },
  {
   "cell_type": "code",
   "execution_count": null,
   "metadata": {
    "collapsed": false
   },
   "outputs": [],
   "source": [
    "np.average,\n",
    "np.median,\n",
    "np.mode,\n",
    "np.arange\n",
    "# average(lengths)\n",
    "# print(\"The average talk is {} minutes long.\".format(average/60))\n",
    "mini(lengths)\n",
    "maxi(lengths)"
   ]
  },
  {
   "cell_type": "code",
   "execution_count": null,
   "metadata": {
    "collapsed": false
   },
   "outputs": [],
   "source": [
    "data.length.max()"
   ]
  },
  {
   "cell_type": "code",
   "execution_count": null,
   "metadata": {
    "collapsed": false
   },
   "outputs": [],
   "source": [
    "from statistics import mode\n",
    "\n",
    "mode(data.length)"
   ]
  },
  {
   "cell_type": "code",
   "execution_count": null,
   "metadata": {
    "collapsed": false
   },
   "outputs": [],
   "source": [
    "from collections import Counter\n",
    "counted = Counter(lengths)\n",
    "counted.most_common()   # Returns all unique items and their counts\n",
    "counted.most_common(1)  # Returns the highest occurring item"
   ]
  },
  {
   "cell_type": "code",
   "execution_count": null,
   "metadata": {
    "collapsed": false
   },
   "outputs": [],
   "source": [
    "print(lengths.sort())"
   ]
  },
  {
   "cell_type": "code",
   "execution_count": null,
   "metadata": {
    "collapsed": true
   },
   "outputs": [],
   "source": [
    "talks = data.text.tolist()\n",
    "authors = data.author.tolist()\n",
    "dates = data.date.tolist()\n",
    "\n",
    "# Combining year with presenter for citation\n",
    "authordate = [author+\" \"+year for author, year in zip(authors, years)]"
   ]
  },
  {
   "cell_type": "code",
   "execution_count": null,
   "metadata": {
    "collapsed": true
   },
   "outputs": [],
   "source": [
    "import ggplot"
   ]
  },
  {
   "cell_type": "code",
   "execution_count": null,
   "metadata": {
    "collapsed": true
   },
   "outputs": [],
   "source": [
    "# Type-to-Token Ratio (TTR) = crude measure of diversity (stupid at this scope)\n",
    "lex_diversity = round(len(tt_freq_list) / len(all_words), 4)\n",
    "print(\"Lexical diversity: {}\".format(lex_diversity))"
   ]
  },
  {
   "cell_type": "markdown",
   "metadata": {},
   "source": [
    "## Older Code\n",
    "\n",
    "\n",
    "```python\n",
    "# Compilation of imports used in this notebook\n",
    "\n",
    "import matplotlib\n",
    "import matplotlib.pyplot as plt\n",
    "import pandas as pd\n",
    "import re\n",
    "matplotlib.style.use('ggplot')\n",
    "\n",
    "# And, while we're at it, a little Jupyter magic:\n",
    "%matplotlib inline\n",
    "```\n",
    "\n",
    "\n",
    "```python\n",
    "colnames = ['author', 'title', 'date' , 'length', 'text']\n",
    "data = pd.read_csv('./data/talks-v1b.csv', names=colnames)\n",
    "lengths = data.length.tolist()\n",
    "texts = data.text.tolist()\n",
    "dates = data.date.tolist()\n",
    "```\n",
    "\n",
    "\n",
    "```python\n",
    "# Some checking of results\n",
    "print(type(lengths), len(lengths), (lengths[185]/60))\n",
    "```\n",
    "\n",
    "    <class 'list'> 2113 11.9666666667\n",
    "\n",
    "\n",
    "## Lengths\n",
    "\n",
    "\n",
    "```python\n",
    "import statistics\n",
    "\n",
    "sorted_lengths = sorted(lengths)\n",
    "len_mean = statistics.mean(sorted_lengths)\n",
    "len_median = statistics.median(sorted_lengths)\n",
    "len_mode = statistics.mode(sorted_lengths)\n",
    "print(\"Mean: %2.2f. Median: %2.2f. Mode: %2.2f.\" % (len_mean, len_median, len_mode))\n",
    "```\n",
    "\n",
    "    Mean: 785.00. Median: 838.00. Mode: 11.00.\n",
    "\n",
    "\n",
    "\n",
    "```python\n",
    "texts_mean = statistics.mean[for text in texts: ]\n",
    "```\n",
    "\n",
    "\n",
    "      File \"<ipython-input-9-7cb34eaca950>\", line 1\n",
    "        texts_mean = statistics.mean[for text in texts]\n",
    "                                       ^\n",
    "    SyntaxError: invalid syntax\n",
    "\n",
    "\n",
    "\n",
    "\n",
    "```python\n",
    "m, s = divmod(len_mean, 60)\n",
    "print(\"The average TED talk is %02d:%02d.\" % (m, s))\n",
    "```\n",
    "\n",
    "    The average TED talk is 13:05.\n",
    "\n",
    "\n",
    "\n",
    "```python\n",
    "# Sort by the longest text\n",
    "by_longest = data.sort_values(by=('length'), ascending=True)\n",
    "\n",
    "\n",
    "# Draw the graph\n",
    "matplotlib.style.use('ggplot')\n",
    "ax = by_longest[['length']].plot(kind='bar', \n",
    "                                           title =\"Lengths\",\n",
    "                                           figsize=(15,10),\n",
    "                                           legend=True,\n",
    "                                           fontsize=12)\n",
    "ax.set_xlabel(\"Text\",fontsize=12)\n",
    "ax.set_ylabel(\"Word Count\",fontsize=12)\n",
    "ax.set_xticklabels(list(by_longest['text'])) \n",
    "matplotlib.pyplot.show()\n",
    "```\n",
    "\n",
    "## Titles\n",
    "\n",
    "\n",
    "```python\n",
    "titles = data.title.tolist()\n",
    "```\n",
    "\n",
    "\n",
    "```python\n",
    "import re\n",
    "from stop_words import get_stop_words\n",
    "from collections import defaultdict\n",
    "\n",
    "# remove common words and tokenize\n",
    "stoplist = set(get_stop_words('en'))\n",
    "texts = [[word for word in title.lower().split() if word not in stoplist]\n",
    "         for title in titles]\n",
    "# remove words that appear only once\n",
    "from collections import defaultdict\n",
    "frequency = defaultdict(int)\n",
    "for text in texts:\n",
    "    for token in text:\n",
    "        frequency[token] += 1\n",
    "titlewords = [[token for token in text if frequency[token] > 1]\n",
    "         for text in texts]\n",
    "```\n",
    "\n",
    "**`titlewords`** is a list of lists with each list being the words remaining in a title after removing stop words and words that occur only once. For example:\n",
    "\n",
    "    Averting the climate crisis > climate, crisis  \n",
    "    Simplicity sells > simplicity  \n",
    "    My wish: A call for open-source architecture > wish, call, open-source, architecture  \n",
    "    The genesis of Google > google  \n",
    "    Art made of storms > art, made  \n",
    "    \n",
    "A dictionary that paired a talk with its list contents would probably be useful. *Sigh.*\n",
    "\n",
    "\n",
    "```python\n",
    "titlewords_all = sum(titlewords, [])\n",
    "title_just_words = [re.sub(r'[^A-Za-z]+', '', x) for x in titlewords_all]\n",
    "\n",
    "# Let's count some words:\n",
    "def wordListToFreqDict(wordlist):\n",
    "    wordfreq = [wordlist.count(p) for p in wordlist]\n",
    "    return dict(zip(wordlist,wordfreq))\n",
    "\n",
    "def sortFreqDict(freqdict):\n",
    "    aux = [(freqdict[key], key) for key in freqdict]\n",
    "    aux.sort()\n",
    "    aux.reverse()\n",
    "    return aux\n",
    "    \n",
    "dictionary = wordListToFreqDict(title_just_words)\n",
    "sorteddict = sortFreqDict(dictionary)\n",
    "\n",
    "# Getting rid of null artifact\n",
    "sorteddict.pop(0)\n",
    "```\n",
    "\n",
    "\n",
    "```python\n",
    "df = pd.DataFrame(sorteddict)\n",
    "df.columns = ['Count', 'Word']\n",
    "df.plot.bar()\n",
    "```\n",
    "\n",
    "\n",
    "\n",
    "\n",
    "    <matplotlib.axes._subplots.AxesSubplot at 0x10b3c6748>\n",
    "\n",
    "\n",
    "\n",
    "\n",
    "![png](TT_by_the_numbers_files/TT_by_the_numbers_13_1.png)"
   ]
  }
 ],
 "metadata": {
  "kernelspec": {
   "display_name": "Python 3",
   "language": "python",
   "name": "python3"
  },
  "language_info": {
   "codemirror_mode": {
    "name": "ipython",
    "version": 3
   },
   "file_extension": ".py",
   "mimetype": "text/x-python",
   "name": "python",
   "nbconvert_exporter": "python",
   "pygments_lexer": "ipython3",
   "version": "3.4.5"
  }
 },
 "nbformat": 4,
 "nbformat_minor": 0
}
