{
 "cells": [
  {
   "cell_type": "markdown",
   "metadata": {},
   "source": [
    "As Katherine Kinnaird and I continue our work on the Tedtalks, we have found ourselves drawn to examine more closely the notion of topics, which we both feel have been underexamined in their usage in the humanities. \n",
    "\n",
    "Most humanists use an implementation of LDA, which we will probably also use simply to stay in parallel, but at some point in our work, frustrated with my ability to get LDA to work within Python, I picked up Alan Riddell's DARIAH tutorial and drafted an implementation of NMF topic modeling for our corpus. One advantage I noticed right away, in comparing the results to earlier work I had done with Jonathan Goodwin, was what seemed like a much more stable set of word clusters in the algorithmically-derived topics. \n",
    "\n",
    "Okay, good, but Kinnaird noticed that stopwords kept creeping into the topics and that raised larger issues about how NMF does what it does and that meant, because she's so thorough, backing up a bit and making sure we understand how NMF works.\n",
    "\n",
    "What follows is an experiment to understand the shape and nature of the tf matrix, the tfidf matrix, and the output of the `sklearn` NMF algorithm. Some of this is driven by the following essays:\n",
    "\n",
    "* [Improving the Interpretation of Topic Models][]\n",
    "* [Practical Topic Finding for Short-Sentence Texts][]\n",
    "\n",
    "[Improving the Interpretation of Topic Models]: https://medium.com/towards-data-science/improving-the-interpretation-of-topic-models-87fd2ee3847d\n",
    "[Practical Topic Finding for Short-Sentence Texts]: https://nbviewer.jupyter.org/github/dolaameng/tutorials/blob/master/topic-finding-for-short-texts/topics_for_short_texts.ipynb"
   ]
  },
  {
   "cell_type": "markdown",
   "metadata": {},
   "source": [
    "To start our adventure, we needed a small set of texts with sufficient overlap that we could later successfully derive topics from them. I set myself the task of creating ten sentences, each of approximately ten words. Careful readers who take the time to read the sentences themselves will, I hope, forgive me for the texts being rather reflexive in nature, but it did seem appropriate given the overall reflexive nature of this task."
   ]
  },
  {
   "cell_type": "code",
   "execution_count": 1,
   "metadata": {
    "collapsed": true
   },
   "outputs": [],
   "source": [
    "# =-=-=-=-=-=-=-=-=-=-=\n",
    "# The Toy Corpus\n",
    "# =-=-=-=-=-=-=-=-=-=-= \n",
    "\n",
    "sentences = [\"Each of these sentences consists of about ten words.\",\n",
    "             \"Ten sentence stories and ten word stories were once popular.\",\n",
    "             \"Limiting the vocabulary to ten words is difficult.\",\n",
    "             \"It is quite difficult to create sentences of just ten words\",\n",
    "             \"I need, in fact, variety in the words used.\",\n",
    "             \"With all these texts being about texts, there will be few topics.\",\n",
    "             \"But I do not want too much variety in the vocabulary.\",\n",
    "             \"I want to keep the total vocabulary fairly small.\",\n",
    "             \"With a small vocabulary comes a small matrix.\",\n",
    "             \"The smaller the matrix the more we will be able to see how things work.\"]\n",
    "\n",
    "\n",
    "# =-=-=-=-=-=-=-=-=-=-=\n",
    "# The Stopwords for this corpus\n",
    "# =-=-=-=-=-=-=-=-=-=-= \n",
    "\n",
    "stopwords = [\"a\", \"about\", \"all\", \"and\", \"be\", \"being\", \"but\", \"do\", \"each\", \"few\", \n",
    "             \"how\", \"i\", \"in\", \"is\", \"it\", \"more\", \"much\", \"not\", \"of\", \"once\", \"the\", \n",
    "             \"there\", \"these\", \"to\", \"too\", \"want\", \"we\", \"were\", \"will\", \"with\"]"
   ]
  },
  {
   "cell_type": "markdown",
   "metadata": {},
   "source": [
    "Each text is simply a sentence in a list of strings. Below the texts is the custom stopword list for this corpus. For those curious, there are a total of 102 tokens in the corpus and 30 stopwords. Once the stopwords are applied, 49 tokens remain for a total of 31 words."
   ]
  },
  {
   "cell_type": "code",
   "execution_count": 2,
   "metadata": {
    "collapsed": true
   },
   "outputs": [],
   "source": [
    "# =-=-=-=-=-=\n",
    "# Clean & Tokenize\n",
    "# =-=-=-=-=-=\n",
    "\n",
    "import re\n",
    "from nltk.tokenize import WhitespaceTokenizer\n",
    "\n",
    "tokenizer = WhitespaceTokenizer()\n",
    "# stopwords = re.split('\\s+', open('../data/tt_stop.txt', 'r').read().lower())\n",
    "\n",
    "# Loop to tokenize, stop, and stem (if needed) texts.\n",
    "tokenized = []\n",
    "for sentence in sentences:   \n",
    "    raw = re.sub(r\"[^\\w\\d'\\s]+\",'', sentence).lower()\n",
    "    tokens = tokenizer.tokenize(raw)\n",
    "    stopped_tokens = [word for word in tokens if not word in stopwords]\n",
    "    tokenized.append(stopped_tokens)\n",
    "\n",
    "    \n",
    "# =-=-=-=-=-=-=-=-=-=-=\n",
    "# Re-Assemble Texts as Strings from Lists of Words\n",
    "# (because this is what sklearn expects)\n",
    "# =-=-=-=-=-=-=-=-=-=-= \n",
    "\n",
    "texts = []\n",
    "for item in tokenized:\n",
    "    the_string = ' '.join(item)\n",
    "    texts.append(the_string)"
   ]
  },
  {
   "cell_type": "code",
   "execution_count": 3,
   "metadata": {
    "scrolled": true
   },
   "outputs": [
    {
     "name": "stdout",
     "output_type": "stream",
     "text": [
      "sentences consists ten words\n",
      "ten sentence stories ten word stories popular\n",
      "limiting vocabulary ten words difficult\n",
      "quite difficult create sentences just ten words\n",
      "need fact variety words used\n",
      "texts texts topics\n",
      "variety vocabulary\n",
      "keep total vocabulary fairly small\n",
      "small vocabulary comes small matrix\n",
      "smaller matrix able see things work\n"
     ]
    }
   ],
   "source": [
    "for text in texts:\n",
    "    print(text)"
   ]
  },
  {
   "cell_type": "code",
   "execution_count": 4,
   "metadata": {},
   "outputs": [
    {
     "name": "stdout",
     "output_type": "stream",
     "text": [
      "There are 49 tokens representing 31 words.\n"
     ]
    }
   ],
   "source": [
    "all_words = ' '.join(texts).split()\n",
    "print(\"There are {} tokens representing {} words.\"\n",
    "      .format(len(all_words), len(set(all_words))))"
   ]
  },
  {
   "cell_type": "markdown",
   "metadata": {},
   "source": [
    "We will explore below the possibility of using the sklearn module's built-in tokenization and stopword abilities, but while I continue to teach myself that functionality, we can move ahead with understanding the vectorization of a corpus. \n",
    "\n",
    "There are a lot of ways to turn a series of words into a series of numbers. One of the principle ways of doing so ignores any individuated context for a particular word as we might understand it within the context of a given sentence but simply considers a word in relationship to other words in a text. That is, one way to turn words into numbers is simply to count the words in a text, reducing a text to what is known as a \"bag of words.\" (There's a lot of linguistics and information science that validates this approach, but it will always chafe most humanists.)\n",
    "\n",
    "If we run our corpus of ten sentences through the `CountVectorizer`, we will get a representation of it as a series of numbers, each representing the count of a particular word within a particular text:"
   ]
  },
  {
   "cell_type": "code",
   "execution_count": 5,
   "metadata": {
    "scrolled": true
   },
   "outputs": [
    {
     "name": "stdout",
     "output_type": "stream",
     "text": [
      "(10, 31)\n",
      "[[0 0 1 0 0 0 0 0 0 0 0 0 0 0 0 0 1 0 0 0 1 0 0 0 0 0 0 0 0 1 0]\n",
      " [0 0 0 0 0 0 0 0 0 0 0 0 1 0 0 1 0 0 0 2 2 0 0 0 0 0 0 0 1 0 0]\n",
      " [0 0 0 0 1 0 0 0 0 1 0 0 0 0 0 0 0 0 0 0 1 0 0 0 0 0 0 1 0 1 0]\n",
      " [0 0 0 1 1 0 0 1 0 0 0 0 0 1 0 0 1 0 0 0 1 0 0 0 0 0 0 0 0 1 0]\n",
      " [0 0 0 0 0 1 0 0 0 0 0 1 0 0 0 0 0 0 0 0 0 0 0 0 0 1 1 0 0 1 0]\n",
      " [0 0 0 0 0 0 0 0 0 0 0 0 0 0 0 0 0 0 0 0 0 2 0 1 0 0 0 0 0 0 0]\n",
      " [0 0 0 0 0 0 0 0 0 0 0 0 0 0 0 0 0 0 0 0 0 0 0 0 0 0 1 1 0 0 0]\n",
      " [0 0 0 0 0 0 1 0 1 0 0 0 0 0 0 0 0 1 0 0 0 0 0 0 1 0 0 1 0 0 0]\n",
      " [0 1 0 0 0 0 0 0 0 0 1 0 0 0 0 0 0 2 0 0 0 0 0 0 0 0 0 1 0 0 0]\n",
      " [1 0 0 0 0 0 0 0 0 0 1 0 0 0 1 0 0 0 1 0 0 0 1 0 0 0 0 0 0 0 1]]\n"
     ]
    }
   ],
   "source": [
    "# =-=-=-=-=-=-=-=-=-=-=\n",
    "# TF\n",
    "# =-=-=-=-=-=-=-=-=-=-= \n",
    "from sklearn.feature_extraction.text import CountVectorizer, TfidfVectorizer\n",
    "\n",
    "vec = CountVectorizer()\n",
    "tf_data = vec.fit_transform(texts).toarray()\n",
    "print(tf_data.shape)\n",
    "print(tf_data)"
   ]
  },
  {
   "cell_type": "markdown",
   "metadata": {},
   "source": [
    "The term frequency vectorizer in sklearn creates a set of words out of all the tokens, like we did above, then counts the number of times a given word occurs within a given text, returning that text as a vector. Thus, the second sentence above:\n",
    "\n",
    "    \"Ten sentence stories and ten word stories were once popular.\" \n",
    "\n",
    "which we had tokenized and stopworded to become:\n",
    "\n",
    "    ten sentence stories ten word stories popular\n",
    "\n",
    "becomes a list of numbers, or a vector, that looks like this:\n",
    "\n",
    "    0 0 0 0 0 0 0 0 0 0 0 0 1 0 0 1 0 0 0 2 2 0 0 0 0 0 0 0 1 0 0\n",
    "\n",
    "I chose the second sentence because it has two words that occur twice, *ten* and *stories*, so that it didn't look like a line of binary. If you stack all ten texts on top of each other, then you get a matrix that of 10 rows, each row a text, and 31 columns, each column one of the important, lexical, words.\n",
    "\n",
    "Based on the location of the two twos, my guess is that the `CountVectorizer` alphabetizes its list of words, which can also be considered as **features** of a text. A quick check of our set of words, sorted alphabetically is our first step in confirmation. (It also reveals one of the great problems of working with words: \"sentence\" and \"sentences\" as well as \"word\" and \"words\" are treated separately and so where a human being would regard those as two lexical entries, the computer treats it as four. This is one argument for stemming, but stemming, so far as I have encountered is, is not only no panacea, it also creates other problems.)"
   ]
  },
  {
   "cell_type": "code",
   "execution_count": 6,
   "metadata": {},
   "outputs": [
    {
     "name": "stdout",
     "output_type": "stream",
     "text": [
      "['able', 'comes', 'consists', 'create', 'difficult', 'fact', 'fairly', 'just', 'keep', 'limiting', 'matrix', 'need', 'popular', 'quite', 'see', 'sentence', 'sentences', 'small', 'smaller', 'stories', 'ten', 'texts', 'things', 'topics', 'total', 'used', 'variety', 'vocabulary', 'word', 'words', 'work']\n"
     ]
    }
   ],
   "source": [
    "the_words = list(set(all_words))\n",
    "the_words.sort()\n",
    "print(the_words)"
   ]
  },
  {
   "cell_type": "markdown",
   "metadata": {},
   "source": [
    "We can actually get that same list from the vectorizer itself with the `get_feature_names` method:"
   ]
  },
  {
   "cell_type": "code",
   "execution_count": 7,
   "metadata": {
    "scrolled": false
   },
   "outputs": [
    {
     "name": "stdout",
     "output_type": "stream",
     "text": [
      "['able', 'comes', 'consists', 'create', 'difficult', 'fact', 'fairly', 'just', 'keep', 'limiting', 'matrix', 'need', 'popular', 'quite', 'see', 'sentence', 'sentences', 'small', 'smaller', 'stories', 'ten', 'texts', 'things', 'topics', 'total', 'used', 'variety', 'vocabulary', 'word', 'words', 'work']\n"
     ]
    }
   ],
   "source": [
    "features = vec.get_feature_names()\n",
    "print(features)"
   ]
  },
  {
   "cell_type": "markdown",
   "metadata": {},
   "source": [
    "We can actually get the count for each term with the `vocabulary_` method, which reveals that sklearn stores the information as a dictionary with the term as the key and the count as the value:"
   ]
  },
  {
   "cell_type": "code",
   "execution_count": 8,
   "metadata": {},
   "outputs": [
    {
     "name": "stdout",
     "output_type": "stream",
     "text": [
      "{'matrix': 10, 'word': 28, 'able': 0, 'ten': 20, 'see': 14, 'stories': 19, 'need': 11, 'smaller': 18, 'quite': 13, 'sentences': 16, 'variety': 26, 'create': 3, 'comes': 1, 'things': 22, 'work': 30, 'vocabulary': 27, 'popular': 12, 'texts': 21, 'difficult': 4, 'fairly': 6, 'total': 24, 'small': 17, 'words': 29, 'sentence': 15, 'just': 7, 'consists': 2, 'topics': 23, 'used': 25, 'fact': 5, 'limiting': 9, 'keep': 8}\n"
     ]
    }
   ],
   "source": [
    "occurrences = vec.vocabulary_\n",
    "print(occurrences)"
   ]
  },
  {
   "cell_type": "markdown",
   "metadata": {},
   "source": [
    "It's also worth pointing out that we can get a count of particular terms within our corpus by feeding the `CountVectorizer` a `vocabulary` argument. Here I've prepopulated a list with three of our terms -- \"sentence\", \"stories\", and \"vocabulary\" -- and the function returns an array which counts only the occurrence of those three terms across all ten texts:"
   ]
  },
  {
   "cell_type": "code",
   "execution_count": 9,
   "metadata": {
    "scrolled": false
   },
   "outputs": [
    {
     "name": "stdout",
     "output_type": "stream",
     "text": [
      "[[0 0 0]\n",
      " [1 2 0]\n",
      " [0 0 1]\n",
      " [0 0 0]\n",
      " [0 0 0]\n",
      " [0 0 0]\n",
      " [0 0 1]\n",
      " [0 0 1]\n",
      " [0 0 1]\n",
      " [0 0 0]]\n"
     ]
    }
   ],
   "source": [
    "# =-=-=-=-=-=-=-=-=-=-=\n",
    "# Controlled Vocabulary Count\n",
    "# =-=-=-=-=-=-=-=-=-=-= \n",
    "\n",
    "tags = ['sentence', 'stories', 'vocabulary']\n",
    "cv = CountVectorizer(vocabulary=tags)\n",
    "data = cv.fit_transform(texts).toarray()\n",
    "print(data)"
   ]
  },
  {
   "cell_type": "markdown",
   "metadata": {},
   "source": [
    "So far we've been trafficking in raw counts, or occurrences, of a word -- aka term, aka feature -- in our corpus. Chances are, longer, or bigger, texts which simply have more words will have more of any given word, which means they may come to be overvalued (overweighted?) if we rely only on occurrences. Fortunately, we can simply normalize by length of a text to get a value that can be used to compare how often a word is used in relationship to the size of the text across all texts in a corpus. That is, we can get a term's **frequency**.\n",
    "\n",
    "As I was working on this bit of code, I learned that sklearn stores this information in a compressed sparse row matrix, wherein a series of `(text, term)` coordinates are followed by a value. I have captured the first two texts below. (Note the commented out `toarray` method in the second-to-last line. It's there so often in sklearn code that I had come to take it for granted.)"
   ]
  },
  {
   "cell_type": "code",
   "execution_count": 10,
   "metadata": {
    "scrolled": false
   },
   "outputs": [
    {
     "name": "stdout",
     "output_type": "stream",
     "text": [
      "  (0, 2)\t0.5\n",
      "  (0, 16)\t0.5\n",
      "  (0, 20)\t0.5\n",
      "  (0, 29)\t0.5\n",
      "  (1, 12)\t0.301511344578\n",
      "  (1, 15)\t0.301511344578\n",
      "  (1, 19)\t0.603022689156\n",
      "  (1, 20)\t0.603022689156\n",
      "  (1, 28)\t0.301511344578\n"
     ]
    }
   ],
   "source": [
    "from sklearn.feature_extraction.text import TfidfTransformer\n",
    "\n",
    "tf_transformer = TfidfTransformer(use_idf=False).fit(tf_data)\n",
    "words_tf = tf_transformer.transform(tf_data)#.toarray()\n",
    "print(words_tf[0:2])"
   ]
  },
  {
   "cell_type": "markdown",
   "metadata": {},
   "source": [
    "And here's that same information represented as an array:"
   ]
  },
  {
   "cell_type": "code",
   "execution_count": 11,
   "metadata": {
    "scrolled": true
   },
   "outputs": [
    {
     "name": "stdout",
     "output_type": "stream",
     "text": [
      "[[ 0.          0.          0.5         0.          0.          0.          0.\n",
      "   0.          0.          0.          0.          0.          0.          0.\n",
      "   0.          0.          0.5         0.          0.          0.          0.5\n",
      "   0.          0.          0.          0.          0.          0.          0.\n",
      "   0.          0.5         0.        ]\n",
      " [ 0.          0.          0.          0.          0.          0.          0.\n",
      "   0.          0.          0.          0.          0.          0.30151134\n",
      "   0.          0.          0.30151134  0.          0.          0.\n",
      "   0.60302269  0.60302269  0.          0.          0.          0.          0.\n",
      "   0.          0.          0.30151134  0.          0.        ]]\n"
     ]
    }
   ],
   "source": [
    "words_tf_array = words_tf.toarray()\n",
    "print(words_tf_array[0:2])"
   ]
  },
  {
   "cell_type": "markdown",
   "metadata": {},
   "source": [
    "Finally, we can also weight words within a document contra the number of times they occur within the overall corpus, thus lowering the value of common words."
   ]
  },
  {
   "cell_type": "code",
   "execution_count": 12,
   "metadata": {
    "scrolled": true
   },
   "outputs": [
    {
     "name": "stdout",
     "output_type": "stream",
     "text": [
      "(10, 31)\n",
      "  (0, 12)\t0.338083066465\n",
      "  (0, 28)\t0.338083066465\n",
      "  (0, 19)\t0.67616613293\n",
      "  (0, 15)\t0.338083066465\n",
      "  (0, 20)\t0.447100526936\n"
     ]
    }
   ],
   "source": [
    "# =-=-=-=-=-=-=-=-=-=-=\n",
    "# TFIDF\n",
    "# =-=-=-=-=-=-=-=-=-=-= \n",
    "\n",
    "tfidf = TfidfVectorizer()\n",
    "tfidf_data = tfidf.fit_transform(texts)#.toarray()\n",
    "print(tfidf_data.shape)\n",
    "print(tfidf_data[1]) # values for second sentence"
   ]
  },
  {
   "cell_type": "markdown",
   "metadata": {},
   "source": [
    "And now, again, in the more common form of an array:"
   ]
  },
  {
   "cell_type": "code",
   "execution_count": 13,
   "metadata": {
    "scrolled": false
   },
   "outputs": [
    {
     "name": "stdout",
     "output_type": "stream",
     "text": [
      "[ 0.          0.          0.          0.          0.          0.          0.\n",
      "  0.          0.          0.          0.          0.          0.33808307\n",
      "  0.          0.          0.33808307  0.          0.          0.\n",
      "  0.67616613  0.44710053  0.          0.          0.          0.          0.\n",
      "  0.          0.          0.33808307  0.          0.        ]\n"
     ]
    }
   ],
   "source": [
    "tfidf_array = tfidf_data.toarray()\n",
    "print(tfidf_array[1]) # values for second sentence"
   ]
  },
  {
   "cell_type": "code",
   "execution_count": 14,
   "metadata": {},
   "outputs": [
    {
     "name": "stdout",
     "output_type": "stream",
     "text": [
      "['able', 'comes', 'consists', 'create', 'difficult', 'fact', 'fairly', 'just', 'keep', 'limiting', 'matrix', 'need', 'popular', 'quite', 'see', 'sentence', 'sentences', 'small', 'smaller', 'stories', 'ten', 'texts', 'things', 'topics', 'total', 'used', 'variety', 'vocabulary', 'word', 'words', 'work']\n"
     ]
    }
   ],
   "source": [
    "tfidf_feature_names = tfidf.get_feature_names()\n",
    "print(tfidf_feature_names)"
   ]
  },
  {
   "cell_type": "markdown",
   "metadata": {},
   "source": [
    "Looking at our older code, it looks like the moment to populate the various facets of the vectorizer is when you are first setting it up:\n",
    "\n",
    "    vectorizer = sk_text.TfidfVectorizer(max_df = max_percent, \n",
    "                                         min_df = min_percent,\n",
    "                                         max_features = n_features,\n",
    "                                         stop_words = tt_stopwords)\n",
    "    tfidf = vectorizer.fit_transform(strungs)\n",
    "    \n",
    "We'll revisit that possibility in a moment in the next section. For now, let's just continue with the exploration of NMF. In the code below, I should note that you can feed the model either the date in the CSR matrix or the full array. The results are the same."
   ]
  },
  {
   "cell_type": "code",
   "execution_count": 15,
   "metadata": {},
   "outputs": [
    {
     "name": "stdout",
     "output_type": "stream",
     "text": [
      "NMF(alpha=0.1, beta=1, eta=0.1, init=None, l1_ratio=0.5, max_iter=200,\n",
      "  n_components=2, nls_max_iter=2000, random_state=1, shuffle=False,\n",
      "  solver='cd', sparseness=None, tol=0.0001, verbose=0)\n"
     ]
    }
   ],
   "source": [
    "from sklearn.decomposition import NMF\n",
    "\n",
    "topics = 2\n",
    "model = NMF(n_components = topics,\n",
    "          random_state = 1,\n",
    "          alpha = 0.1,\n",
    "          l1_ratio = 0.5).fit(tfidf_array)\n",
    "print(model)"
   ]
  },
  {
   "cell_type": "code",
   "execution_count": 16,
   "metadata": {},
   "outputs": [
    {
     "name": "stdout",
     "output_type": "stream",
     "text": [
      "[[ 0.70815391  0.        ]\n",
      " [ 0.26356173  0.        ]\n",
      " [ 0.62679093  0.13565946]\n",
      " [ 0.71158262  0.        ]\n",
      " [ 0.09659249  0.06987702]\n",
      " [ 0.          0.        ]\n",
      " [ 0.          0.53208018]\n",
      " [ 0.          0.6928437 ]\n",
      " [ 0.          0.7021627 ]\n",
      " [ 0.          0.00840084]]\n",
      "[[ 0.          0.          0.25460934  0.16902145  0.33877366  0.          0.\n",
      "   0.16902145  0.          0.20214662  0.          0.          0.02556778\n",
      "   0.16902145  0.          0.02556778  0.38301424  0.          0.\n",
      "   0.08382612  0.52326159  0.          0.          0.          0.          0.\n",
      "   0.          0.08896514  0.02556778  0.46669161  0.        ]\n",
      " [ 0.          0.19739504  0.          0.          0.          0.\n",
      "   0.21789602  0.          0.21789602  0.00701435  0.16441155  0.          0.\n",
      "   0.          0.          0.          0.          0.57914069  0.          0.\n",
      "   0.          0.          0.          0.          0.21789602  0.\n",
      "   0.30019012  0.56503064  0.          0.          0.        ]]\n"
     ]
    }
   ],
   "source": [
    "W = model.fit_transform(tfidf_array)\n",
    "H = model.components_\n",
    "\n",
    "print(W)\n",
    "print(H)"
   ]
  },
  {
   "cell_type": "markdown",
   "metadata": {},
   "source": [
    "This print/display code must be somewhere in the sklearn documentation: both [Alan Riddell][] and [Aneesha Bakharia][] use a version of it.\n",
    "\n",
    "[Alan Riddell]: https://de.dariah.eu/tatom/topic_model_python.html\n",
    "[Aneesha Bakharia]: https://medium.com/@aneesha/topic-modeling-with-scikit-learn-e80d33668730"
   ]
  },
  {
   "cell_type": "code",
   "execution_count": 17,
   "metadata": {
    "scrolled": true
   },
   "outputs": [
    {
     "name": "stdout",
     "output_type": "stream",
     "text": [
      "Topic 0: \n",
      "ten words sentences difficult consists limiting just quite create vocabulary\n",
      "Topic 1: \n",
      "small vocabulary variety total keep fairly comes matrix limiting work\n"
     ]
    }
   ],
   "source": [
    "def display_topics(model, feature_names, no_top_words):\n",
    "    for topic_idx, topic in enumerate(model.components_):\n",
    "        print(\"Topic {}: \".format(topic_idx))\n",
    "        print(\" \".join([feature_names[i]\n",
    "                        for i in topic.argsort()[:-no_top_words - 1:-1]]))\n",
    "\n",
    "no_top_words = 10\n",
    "display_topics(model, tfidf_feature_names, no_top_words)"
   ]
  },
  {
   "cell_type": "markdown",
   "metadata": {},
   "source": [
    "Mostly what this reveals is that I need to go back and tweak my toy corpus so that the topics can be more clearly seen."
   ]
  },
  {
   "cell_type": "markdown",
   "metadata": {},
   "source": [
    "## Staying within the `sklearn` ecosystem\n",
    "\n",
    "What if we do all tokenization and normalization in `sklearn`?"
   ]
  },
  {
   "cell_type": "code",
   "execution_count": 23,
   "metadata": {},
   "outputs": [],
   "source": [
    "import numpy as np\n",
    "from sklearn.feature_extraction.text import CountVectorizer, TfidfVectorizer\n",
    "\n",
    "# This is the bog-standard version from the documentation\n",
    "sk_test_vec = TfidfVectorizer(input=sentences, \n",
    "                           lowercase=True, \n",
    "                           preprocessor=None, \n",
    "                           tokenizer=None, \n",
    "                           stop_words=stopwords, \n",
    "                           token_pattern=u'(?u)\\b\\w\\w+\\b', \n",
    "                           ngram_range=(1, 1), \n",
    "                           analyzer=u'word', \n",
    "                           max_df=1.0, \n",
    "                           min_df=1, \n",
    "                           max_features=None, \n",
    "                           vocabulary=None, \n",
    "                           binary=False)"
   ]
  },
  {
   "cell_type": "code",
   "execution_count": 25,
   "metadata": {
    "collapsed": true
   },
   "outputs": [],
   "source": [
    "sk_test_data = tfidf.fit_transform(sentences)"
   ]
  },
  {
   "cell_type": "code",
   "execution_count": 26,
   "metadata": {},
   "outputs": [
    {
     "name": "stdout",
     "output_type": "stream",
     "text": [
      "NMF(alpha=0.1, beta=1, eta=0.1, init=None, l1_ratio=0.5, max_iter=200,\n",
      "  n_components=2, nls_max_iter=2000, random_state=1, shuffle=False,\n",
      "  solver='cd', sparseness=None, tol=0.0001, verbose=0)\n"
     ]
    }
   ],
   "source": [
    "topics = 2\n",
    "sk_test_model = NMF(n_components = topics,\n",
    "          random_state = 1,\n",
    "          alpha = 0.1,\n",
    "          l1_ratio = 0.5).fit(sk_test_data)\n",
    "print(sk_test_model)"
   ]
  },
  {
   "cell_type": "code",
   "execution_count": 27,
   "metadata": {
    "collapsed": true
   },
   "outputs": [],
   "source": [
    "W = sk_test_model.fit_transform(sk_test_data)\n",
    "H = sk_test_model.components_"
   ]
  },
  {
   "cell_type": "markdown",
   "metadata": {},
   "source": [
    "To my non-mathematical mind, it just seems pretty amazing that you can *see* so clearly the division of the larger matrix by the topics. First, we have the document-topic matrix and we can see the assignment of topics to the documents. (And this is with a terrible set of texts in which it's not clear there are any particular topics -- so, I guess, a lot like life, really.)"
   ]
  },
  {
   "cell_type": "code",
   "execution_count": 28,
   "metadata": {
    "scrolled": true
   },
   "outputs": [
    {
     "name": "stdout",
     "output_type": "stream",
     "text": [
      "[[ 0.          0.63355125]\n",
      " [ 0.          0.09748322]\n",
      " [ 0.14559639  0.68872325]\n",
      " [ 0.          0.87739668]\n",
      " [ 0.05021328  0.04843044]\n",
      " [ 0.          0.        ]\n",
      " [ 0.30350074  0.        ]\n",
      " [ 0.84225589  0.        ]\n",
      " [ 0.75195608  0.        ]\n",
      " [ 0.15976003  0.01560689]]\n"
     ]
    }
   ],
   "source": [
    "print(W)"
   ]
  },
  {
   "cell_type": "markdown",
   "metadata": {},
   "source": [
    "And then here's the words spread across the two topics in a `2 x 31` matrix:"
   ]
  },
  {
   "cell_type": "code",
   "execution_count": 29,
   "metadata": {
    "scrolled": true
   },
   "outputs": [
    {
     "name": "stdout",
     "output_type": "stream",
     "text": [
      "[[ 0.          0.          0.          0.          0.          0.\n",
      "   0.03927719  0.17934791  0.          0.          0.          0.03927719\n",
      "   0.          0.          0.20709477  0.          0.          0.04967716\n",
      "   0.          0.          0.          0.20709477  0.00100218  0.17230381\n",
      "   0.          0.03927719  0.          0.03927719  0.          0.          0.\n",
      "   0.          0.          0.          0.          0.53384117  0.          0.\n",
      "   0.          0.          0.23444203  0.          0.          0.\n",
      "   0.16079732  0.03927719  0.          0.20709477  0.          0.03897709\n",
      "   0.34046978  0.23331632  0.          0.          0.          0.14734992\n",
      "   0.          0.          0.        ]\n",
      " [ 0.          0.08269729  0.          0.          0.          0.          0.\n",
      "   0.          0.10244385  0.15012346  0.28401921  0.          0.10244385\n",
      "   0.          0.          0.          0.          0.          0.28401921\n",
      "   0.15012346  0.15012346  0.          0.15980241  0.          0.          0.\n",
      "   0.          0.          0.34718411  0.          0.          0.15012346\n",
      "   0.          0.          0.23520671  0.          0.          0.00402908\n",
      "   0.323539    0.          0.07917061  0.          0.08269729  0.\n",
      "   0.20613632  0.          0.          0.          0.          0.\n",
      "   0.0748126   0.          0.          0.          0.          0.          0.\n",
      "   0.30840633  0.        ]]\n"
     ]
    }
   ],
   "source": [
    "print(H)"
   ]
  },
  {
   "cell_type": "code",
   "execution_count": 32,
   "metadata": {},
   "outputs": [
    {
     "ename": "AttributeError",
     "evalue": "get_feature_names not found",
     "output_type": "error",
     "traceback": [
      "\u001b[0;31m---------------------------------------------------------------------------\u001b[0m",
      "\u001b[0;31mAttributeError\u001b[0m                            Traceback (most recent call last)",
      "\u001b[0;32m<ipython-input-32-7810f318a0b4>\u001b[0m in \u001b[0;36m<module>\u001b[0;34m()\u001b[0m\n\u001b[0;32m----> 1\u001b[0;31m \u001b[0mfeature_names\u001b[0m \u001b[0;34m=\u001b[0m \u001b[0msk_test_data\u001b[0m\u001b[0;34m.\u001b[0m\u001b[0mget_feature_names\u001b[0m\u001b[0;34m(\u001b[0m\u001b[0;34m)\u001b[0m\u001b[0;34m\u001b[0m\u001b[0m\n\u001b[0m\u001b[1;32m      2\u001b[0m \u001b[0mprint\u001b[0m\u001b[0;34m(\u001b[0m\u001b[0mfeature_names\u001b[0m\u001b[0;34m)\u001b[0m\u001b[0;34m\u001b[0m\u001b[0m\n",
      "\u001b[0;32m/Users/john/Library/Python/3.4/lib/python/site-packages/scipy/sparse/base.py\u001b[0m in \u001b[0;36m__getattr__\u001b[0;34m(self, attr)\u001b[0m\n\u001b[1;32m    523\u001b[0m             \u001b[0;32mreturn\u001b[0m \u001b[0mself\u001b[0m\u001b[0;34m.\u001b[0m\u001b[0mgetnnz\u001b[0m\u001b[0;34m(\u001b[0m\u001b[0;34m)\u001b[0m\u001b[0;34m\u001b[0m\u001b[0m\n\u001b[1;32m    524\u001b[0m         \u001b[0;32melse\u001b[0m\u001b[0;34m:\u001b[0m\u001b[0;34m\u001b[0m\u001b[0m\n\u001b[0;32m--> 525\u001b[0;31m             \u001b[0;32mraise\u001b[0m \u001b[0mAttributeError\u001b[0m\u001b[0;34m(\u001b[0m\u001b[0mattr\u001b[0m \u001b[0;34m+\u001b[0m \u001b[0;34m\" not found\"\u001b[0m\u001b[0;34m)\u001b[0m\u001b[0;34m\u001b[0m\u001b[0m\n\u001b[0m\u001b[1;32m    526\u001b[0m \u001b[0;34m\u001b[0m\u001b[0m\n\u001b[1;32m    527\u001b[0m     \u001b[0;32mdef\u001b[0m \u001b[0mtranspose\u001b[0m\u001b[0;34m(\u001b[0m\u001b[0mself\u001b[0m\u001b[0;34m)\u001b[0m\u001b[0;34m:\u001b[0m\u001b[0;34m\u001b[0m\u001b[0m\n",
      "\u001b[0;31mAttributeError\u001b[0m: get_feature_names not found"
     ]
    }
   ],
   "source": [
    "feature_names = sk_test_data.get_feature_names()\n",
    "print(feature_names)"
   ]
  }
 ],
 "metadata": {
  "kernelspec": {
   "display_name": "Python 3",
   "language": "python",
   "name": "python3"
  },
  "language_info": {
   "codemirror_mode": {
    "name": "ipython",
    "version": 3
   },
   "file_extension": ".py",
   "mimetype": "text/x-python",
   "name": "python",
   "nbconvert_exporter": "python",
   "pygments_lexer": "ipython3",
   "version": "3.4.6"
  }
 },
 "nbformat": 4,
 "nbformat_minor": 2
}
