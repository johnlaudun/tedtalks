{
 "cells": [
  {
   "cell_type": "code",
   "execution_count": 1,
   "metadata": {
    "collapsed": false
   },
   "outputs": [],
   "source": [
    "#! /usr/bin/env python\n",
    "\n",
    "import pandas\n",
    "import re\n",
    "\n",
    "# Get all talks in a list & then into one string\n",
    "colnames = ['author', 'title', 'date' , 'length', 'text']\n",
    "df = pandas.read_csv('../data/talks-v1b.csv', names=colnames)\n",
    "talks = df.text.tolist()\n",
    "alltalks = \" \".join(str(item) for item in talks) # Solves pbm of floats in talks\n",
    "all_words = re.sub(r\"[^\\w\\d'\\s]+\",'',alltalks).lower() # Remove all punctuation save apostrophes"
   ]
  },
  {
   "cell_type": "code",
   "execution_count": 2,
   "metadata": {
    "collapsed": false
   },
   "outputs": [
    {
     "data": {
      "text/plain": [
       "\"thank you so much  chris and it's truly a great honor to have the opportunity to come to this stage twice  i'm extremely grateful i have been blown away by this conference  and i want to thank all of you for the many nice comments about what i had to say the other night and i say that sincerely  partly because  mock sob  i need that put yourselves in my position i flew on air force two for eight years now i have to take off my shoes or boots to get on an airplane  i'll tell you one quick story t\""
      ]
     },
     "execution_count": 2,
     "metadata": {},
     "output_type": "execute_result"
    }
   ],
   "source": [
    "all_words[0:500]"
   ]
  },
  {
   "cell_type": "code",
   "execution_count": 3,
   "metadata": {
    "collapsed": false
   },
   "outputs": [],
   "source": [
    "# The NLTK Way\n",
    "\n",
    "import nltk\n",
    "\n",
    "# Tokenize string\n",
    "tt_tokens = nltk.word_tokenize(all_words)\n",
    "\n",
    "# Build a dictionary of words and their frequency in the corpus\n",
    "tt_freq = {}\n",
    "for word in tt_tokens:\n",
    "    try:\n",
    "        tt_freq[word] += 1\n",
    "    except: \n",
    "        tt_freq[word] = 1"
   ]
  },
  {
   "cell_type": "code",
   "execution_count": 4,
   "metadata": {
    "collapsed": false
   },
   "outputs": [],
   "source": [
    "# And now to sort into a list \n",
    "tt_freq_list = [(val, key) for key, val in tt_freq.items()]"
   ]
  },
  {
   "cell_type": "code",
   "execution_count": 5,
   "metadata": {
    "collapsed": false
   },
   "outputs": [
    {
     "data": {
      "text/plain": [
       "[(210294, 'the'),\n",
       " (151163, 'and'),\n",
       " (126887, 'to'),\n",
       " (116155, 'of'),\n",
       " (106547, 'a'),\n",
       " (96375, 'that'),\n",
       " (83740, 'i'),\n",
       " (78986, 'in'),\n",
       " (75643, 'it'),\n",
       " (71766, 'you'),\n",
       " (68573, 'we'),\n",
       " (65295, 'is'),\n",
       " (56535, \"'s\"),\n",
       " (49889, 'this'),\n",
       " (37525, 'so'),\n",
       " (33424, 'they'),\n",
       " (32231, 'was'),\n",
       " (30067, 'for'),\n",
       " (28869, 'are'),\n",
       " (28245, 'have')]"
      ]
     },
     "execution_count": 5,
     "metadata": {},
     "output_type": "execute_result"
    }
   ],
   "source": [
    "# tt_freq_list.sort() \n",
    "tt_freq_list.sort(reverse=True)\n",
    "\n",
    "tt_freq_list[0:20]"
   ]
  },
  {
   "cell_type": "code",
   "execution_count": 11,
   "metadata": {
    "collapsed": false
   },
   "outputs": [
    {
     "data": {
      "text/plain": [
       "[(210294, 'the'),\n",
       " (151163, 'and'),\n",
       " (126887, 'to'),\n",
       " (116155, 'of'),\n",
       " (106547, 'a'),\n",
       " (96375, 'that'),\n",
       " (83740, 'i'),\n",
       " (78986, 'in'),\n",
       " (75643, 'it'),\n",
       " (71766, 'you'),\n",
       " (68573, 'we'),\n",
       " (65295, 'is'),\n",
       " (56535, \"'s\"),\n",
       " (49889, 'this'),\n",
       " (37525, 'so'),\n",
       " (33424, 'they'),\n",
       " (32231, 'was'),\n",
       " (30067, 'for'),\n",
       " (28869, 'are'),\n",
       " (28245, 'have')]"
      ]
     },
     "execution_count": 11,
     "metadata": {},
     "output_type": "execute_result"
    }
   ],
   "source": [
    "# The Pure Python Way\n",
    "\n",
    "#word_list = re.split('\\s+', all_words)\n",
    "word_list = all_words.split()\n",
    "freq_dic = {}\n",
    "for word in word_list:\n",
    "    try: \n",
    "        freq_dic[word] += 1\n",
    "    except: \n",
    "        freq_dic[word] = 1\n",
    "\n",
    "# Convert dictionary to list, sort it, show top 20 items\n",
    "freq_list = [(val, key) for key, val in tt_freq.items()]\n",
    "freq_list.sort(reverse=True)\n",
    "freq_list[0:20]"
   ]
  },
  {
   "cell_type": "code",
   "execution_count": null,
   "metadata": {
    "collapsed": true
   },
   "outputs": [],
   "source": [
    "import csv\n",
    "\n",
    "with open('../outputs/tt_freqs.csv', 'w') as f:\n",
    "        wtr = csv.writer(f)\n",
    "        wtr.writerows(sorted(tt_freq_list, reverse=True))\n",
    "        f.close()"
   ]
  }
 ],
 "metadata": {
  "kernelspec": {
   "display_name": "Python 3",
   "language": "python",
   "name": "python3"
  },
  "language_info": {
   "codemirror_mode": {
    "name": "ipython",
    "version": 3
   },
   "file_extension": ".py",
   "mimetype": "text/x-python",
   "name": "python",
   "nbconvert_exporter": "python",
   "pygments_lexer": "ipython3",
   "version": "3.4.5"
  }
 },
 "nbformat": 4,
 "nbformat_minor": 0
}
