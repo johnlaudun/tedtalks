{
 "cells": [
  {
   "cell_type": "code",
   "execution_count": 2,
   "metadata": {},
   "outputs": [],
   "source": [
    "# =-=-=-=-=-=-=-=-=-=-=\n",
    "# Imports\n",
    "# =-=-=-=-=-=-=-=-=-=-= \n",
    "\n",
    "import pandas\n",
    "import re\n",
    "from nltk.tokenize import WhitespaceTokenizer\n",
    "from sklearn.feature_extraction.text import TfidfVectorizer\n",
    "from sklearn.decomposition import NMF\n",
    "import numpy as np\n",
    "\n",
    "\n",
    "# =-=-=-=-=-=-=-=-=-=-=\n",
    "# Inputs\n",
    "# =-=-=-=-=-=-=-=-=-=-= \n",
    "\n",
    "# Create pandas dataframe & lists\n",
    "colnames = ['author', 'title', 'date' , 'length', 'text']\n",
    "df = pandas.read_csv('../data/talks_3a.csv', names=colnames)\n",
    "talks = df.text.tolist()\n",
    "\n",
    "# Import stoplist\n",
    "stopwords = re.split('\\s+', open('../data/stopwords_2.txt', 'r').read().lower())\n",
    "\n",
    "\n",
    "# =-=-=-=-=-=\n",
    "# Drop Stopwords\n",
    "# =-=-=-=-=-=\n",
    "\n",
    "tokenizer = WhitespaceTokenizer()\n",
    "\n",
    "# Loop to tokenize, stop, and stem (if needed) texts.\n",
    "texts = []\n",
    "for talk in talks:   \n",
    "    # clean and tokenize document string\n",
    "    raw = re.sub(r\"[^\\w\\d'\\s]+\",'', talk).lower()\n",
    "    tokens = tokenizer.tokenize(raw)\n",
    "    # remove stop words from tokens\n",
    "    passed = [i for i in tokens if not i in stopwords]\n",
    "    # add tokens to list\n",
    "    texts.append(passed)\n",
    "\n",
    "# Re-Assemble Texts as Strings from Lists of Words\n",
    "strings = []\n",
    "for text in texts:\n",
    "    the_string = ' '.join(text)\n",
    "    strings.append(the_string)"
   ]
  },
  {
   "cell_type": "code",
   "execution_count": 12,
   "metadata": {},
   "outputs": [],
   "source": [
    "# =-=-=-=-=-=\n",
    "# NMF Topics\n",
    "# =-=-=-=-=-=\n",
    "\n",
    "\n",
    "# TFIDF parameters\n",
    "n_samples = len(strings)\n",
    "# n_features = 3000\n",
    "n_top_words = 15\n",
    "max_percent = 0.85\n",
    "min_percent = 0.05\n",
    "\n",
    "# Create TFIDF matrix\n",
    "vectorizer = TfidfVectorizer(max_df = max_percent, \n",
    "                             min_df = min_percent)\n",
    "tfidf = vectorizer.fit_transform(strings)\n",
    "\n",
    "# Fit the NMF model\n",
    "model = NMF(n_components = 40,\n",
    "              random_state = 1,\n",
    "              alpha = 0.1,\n",
    "              l1_ratio = 0.5).fit(tfidf)"
   ]
  },
  {
   "cell_type": "code",
   "execution_count": 13,
   "metadata": {
    "collapsed": true
   },
   "outputs": [],
   "source": [
    "W = model.fit_transform(tfidf)\n",
    "H = model.components_"
   ]
  },
  {
   "cell_type": "code",
   "execution_count": 14,
   "metadata": {},
   "outputs": [
    {
     "data": {
      "text/plain": [
       "(40, 1830)"
      ]
     },
     "execution_count": 14,
     "metadata": {},
     "output_type": "execute_result"
    }
   ],
   "source": [
    "H.shape"
   ]
  },
  {
   "cell_type": "code",
   "execution_count": 15,
   "metadata": {},
   "outputs": [
    {
     "data": {
      "text/plain": [
       "(2069, 40)"
      ]
     },
     "execution_count": 15,
     "metadata": {},
     "output_type": "execute_result"
    }
   ],
   "source": [
    "W.shape"
   ]
  },
  {
   "cell_type": "code",
   "execution_count": 16,
   "metadata": {},
   "outputs": [
    {
     "data": {
      "text/plain": [
       "(2069, 1830)"
      ]
     },
     "execution_count": 16,
     "metadata": {},
     "output_type": "execute_result"
    }
   ],
   "source": [
    "tfidf.shape"
   ]
  },
  {
   "cell_type": "code",
   "execution_count": 17,
   "metadata": {
    "collapsed": true
   },
   "outputs": [],
   "source": [
    "np.savetxt(\"../nmf/doctopic_1.csv\", H, delimiter=\",\", fmt = \"%s\")"
   ]
  },
  {
   "cell_type": "code",
   "execution_count": 18,
   "metadata": {
    "collapsed": true
   },
   "outputs": [],
   "source": [
    "np.savetxt(\"../nmf/topicword_1.csv\", W, delimiter=\",\", fmt = \"%s\")"
   ]
  },
  {
   "cell_type": "code",
   "execution_count": null,
   "metadata": {
    "collapsed": true
   },
   "outputs": [],
   "source": [
    "# =-=-=-=-=-=\n",
    "# NMF printing\n",
    "# =-=-=-=-=-=\n",
    "\n",
    "def print_top_words(model, feature_names, n_top_words):\n",
    "    for topic_id, topic in enumerate(model.components_):\n",
    "        print('\\nTopic {}:'.format(int(topic_id)))\n",
    "        print(''.join([feature_names[i] + ' ' + str(round(topic[i], 2))\n",
    "              +', ' for i in topic.argsort()[:-n_top_words - 1:-1]]))\n",
    "\n",
    "features = vectorizer.get_feature_names()\n",
    "\n",
    "print(\"Topics in NMF model:\")\n",
    "print_top_words(model, features, n_top_words) #n_top_words can be changed on the fly"
   ]
  }
 ],
 "metadata": {
  "kernelspec": {
   "display_name": "Python 3",
   "language": "python",
   "name": "python3"
  },
  "language_info": {
   "codemirror_mode": {
    "name": "ipython",
    "version": 3
   },
   "file_extension": ".py",
   "mimetype": "text/x-python",
   "name": "python",
   "nbconvert_exporter": "python",
   "pygments_lexer": "ipython3",
   "version": "3.4.6"
  }
 },
 "nbformat": 4,
 "nbformat_minor": 2
}
