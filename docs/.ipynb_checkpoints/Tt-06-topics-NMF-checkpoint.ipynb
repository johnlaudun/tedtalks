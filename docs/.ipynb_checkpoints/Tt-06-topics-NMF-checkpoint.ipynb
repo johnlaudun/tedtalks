{
 "cells": [
  {
   "cell_type": "code",
   "execution_count": 1,
   "metadata": {
    "collapsed": true
   },
   "outputs": [],
   "source": [
    "#! /usr/bin/env python\n",
    "\n",
    "# =-=-=-=-=-=\n",
    "# Consolidated imports for entire notebook\n",
    "# =-=-=-=-=-=\n",
    "\n",
    "import pandas\n",
    "import re\n",
    "from nltk.tokenize import WhitespaceTokenizer\n",
    "import numpy as np\n",
    "import sklearn.feature_extraction.text as sk_text\n",
    "from sklearn.decomposition import NMF\n",
    "\n",
    "\n",
    "# =-=-=-=-=-=\n",
    "# Read CSV into DataFrame and then create lists\n",
    "# =-=-=-=-=-=\n",
    "\n",
    "# Create pandas dataframe & lists\n",
    "colnames = ['author', 'title', 'date' , 'length', 'text']\n",
    "df = pandas.read_csv('../data/talks_2.csv', names=colnames)\n",
    "talks = df.text.tolist()\n",
    "authors = df.author.tolist()\n",
    "dates = df.date.tolist()\n",
    "\n",
    "# Get years from date list and combing with author list for labels\n",
    "years = [re.sub('[A-Za-z ]', '', item) for item in dates]\n",
    "authordate = [author+\" \"+year for author, year in zip(authors, years)]"
   ]
  },
  {
   "cell_type": "code",
   "execution_count": 2,
   "metadata": {
    "collapsed": true
   },
   "outputs": [],
   "source": [
    "# =-=-=-=-=-=\n",
    "# Clean and Tokenize, then Drop Stopwords\n",
    "# =-=-=-=-=-=\n",
    "\n",
    "# Documentation: https://pypi.python.org/pypi/lda\n",
    "# LDA requires a DTM as input\n",
    "\n",
    "# From the Stopwords Notebook:\n",
    "tokenizer = WhitespaceTokenizer()\n",
    "stopwords = re.split('\\s+', open('../data/tt_stop.txt', 'r').read().lower())\n",
    "\n",
    "# Loop to tokenize, stop, and stem (if needed) texts.\n",
    "texts = []\n",
    "for i in talks:   \n",
    "    # clean and tokenize document string\n",
    "    raw = re.sub(r\"[^\\w\\d'\\s]+\",'', i).lower()\n",
    "    tokens = tokenizer.tokenize(raw)\n",
    "    # remove stop words from tokens\n",
    "    stopped_tokens = [i for i in tokens if not i in stopwords]\n",
    "    # stem tokens\n",
    "    # stemmed_tokens = [p_stemmer.stem(i) for i in stopped_tokens]\n",
    "    # add tokens to list\n",
    "    texts.append(stopped_tokens)\n",
    "\n",
    "# =-=-=-=-=-=-=-=-=-=-=\n",
    "# Re-Assemble Texts as Strings from Lists of Words\n",
    "# =-=-=-=-=-=-=-=-=-=-= \n",
    "\n",
    "strungs = []\n",
    "for text in texts:\n",
    "    strung = ' '.join(text)\n",
    "    strungs.append(strung)"
   ]
  },
  {
   "cell_type": "code",
   "execution_count": 3,
   "metadata": {
    "collapsed": false
   },
   "outputs": [
    {
     "name": "stdout",
     "output_type": "stream",
     "text": [
      "Fitting the NMF model with 40 topics for 2092 documents with 2000 features.\n"
     ]
    }
   ],
   "source": [
    "# =-=-=-=-=-=\n",
    "# Get NMF topics\n",
    "# =-=-=-=-=-=\n",
    "\n",
    "\n",
    "# All our variables are here to make it easier to make adjustments\n",
    "n_samples = len(strungs)\n",
    "n_features = 2000\n",
    "n_topics = 40\n",
    "n_top_words = 15\n",
    "# tt_stopwords = open('../data/stopwords_tt.txt', 'r').read().splitlines()\n",
    "\n",
    "# Get tf-idf features for NMF\n",
    "vectorizer = sk_text.TfidfVectorizer(max_df = 0.95,\n",
    "                                        min_df = 2,\n",
    "                                        max_features = n_features)\n",
    "tfidf = vectorizer.fit_transform(strungs)\n",
    "\n",
    "# Fit the NMF model\n",
    "nmf = NMF(n_components = n_topics,\n",
    "          random_state = 1,\n",
    "          alpha = 0.1,\n",
    "          l1_ratio = 0.5).fit(tfidf)\n",
    "print(\"Fitting the NMF model with {} topics for {} documents with {} features.\"\n",
    "      .format(n_topics, n_samples, n_features))"
   ]
  },
  {
   "cell_type": "code",
   "execution_count": null,
   "metadata": {
    "collapsed": true
   },
   "outputs": [],
   "source": [
    "# =-=-=-=-=-=\n",
    "# Get NMF printing\n",
    "# =-=-=-=-=-=\n",
    "\n",
    "def print_top_words(model, feature_names, n_top_words):\n",
    "    for topic_id, topic in enumerate(model.components_):\n",
    "        print('\\nTopic {}:'.format(int(topic_id)))\n",
    "        print(''.join([feature_names[i] + ' ' + str(round(topic[i], 2))\n",
    "              +', ' for i in topic.argsort()[:-n_top_words - 1:-1]]))\n",
    "\n",
    "print(\"Topics in NMF model:\")\n",
    "tfidf_feature_names = tfidf_vectorizer.get_feature_names()\n",
    "print_top_words(nmf, tfidf_feature_names, n_top_words) #n_top_words can be changed on the fly"
   ]
  },
  {
   "cell_type": "code",
   "execution_count": 4,
   "metadata": {
    "collapsed": true
   },
   "outputs": [],
   "source": [
    "dtm = tfidf.toarray()\n",
    "# doctopic = nmf.fit_transform(dtm) # This is an array"
   ]
  },
  {
   "cell_type": "code",
   "execution_count": 5,
   "metadata": {
    "collapsed": false
   },
   "outputs": [
    {
     "data": {
      "text/plain": [
       "(2092, 2000)"
      ]
     },
     "execution_count": 5,
     "metadata": {},
     "output_type": "execute_result"
    }
   ],
   "source": [
    "dtm.shape"
   ]
  },
  {
   "cell_type": "code",
   "execution_count": 6,
   "metadata": {
    "collapsed": false
   },
   "outputs": [
    {
     "data": {
      "text/plain": [
       "sklearn.decomposition.nmf.NMF"
      ]
     },
     "execution_count": 6,
     "metadata": {},
     "output_type": "execute_result"
    }
   ],
   "source": [
    "type(nmf)"
   ]
  },
  {
   "cell_type": "code",
   "execution_count": 7,
   "metadata": {
    "collapsed": false
   },
   "outputs": [],
   "source": [
    "features = vectorizer.get_feature_names()"
   ]
  },
  {
   "cell_type": "code",
   "execution_count": 11,
   "metadata": {
    "collapsed": false
   },
   "outputs": [
    {
     "name": "stdout",
     "output_type": "stream",
     "text": [
      "(0, array([ 0.08290412,  0.21683476,  0.02008461, ...,  0.03555429,\n",
      "        0.01177436,  0.04738723]))\n",
      "(1, array([ 0.        ,  0.04105155,  0.        , ...,  0.        ,\n",
      "        0.        ,  0.        ]))\n",
      "(2, array([ 0.        ,  0.        ,  0.        , ...,  0.        ,\n",
      "        0.        ,  0.03067794]))\n",
      "(3, array([ 0.        ,  0.        ,  0.        , ...,  0.07211298,\n",
      "        0.        ,  0.        ]))\n",
      "(4, array([ 0.,  0.,  0., ...,  0.,  0.,  0.]))\n",
      "(5, array([ 0.,  0.,  0., ...,  0.,  0.,  0.]))\n",
      "(6, array([ 0.,  0.,  0., ...,  0.,  0.,  0.]))\n",
      "(7, array([ 0.04815598,  0.0468227 ,  0.        , ...,  0.        ,\n",
      "        0.        ,  0.        ]))\n",
      "(8, array([ 0.        ,  0.        ,  0.        , ...,  0.02196816,\n",
      "        0.00354517,  0.        ]))\n",
      "(9, array([ 0.        ,  0.01496185,  0.        , ...,  0.        ,\n",
      "        0.        ,  0.        ]))\n",
      "(10, array([ 0.        ,  0.        ,  0.        , ...,  0.04021474,\n",
      "        0.        ,  0.        ]))\n",
      "(11, array([ 0.       ,  0.0502248,  0.       , ...,  0.       ,  0.       ,  0.       ]))\n",
      "(12, array([ 0.       ,  0.0158794,  0.       , ...,  0.       ,  0.       ,  0.       ]))\n",
      "(13, array([ 0.        ,  0.        ,  0.        , ...,  0.01122593,\n",
      "        0.        ,  0.        ]))\n",
      "(14, array([ 0.,  0.,  0., ...,  0.,  0.,  0.]))\n",
      "(15, array([ 0.        ,  0.        ,  0.        , ...,  0.03627658,\n",
      "        0.        ,  0.        ]))\n",
      "(16, array([ 0.,  0.,  0., ...,  0.,  0.,  0.]))\n",
      "(17, array([ 0.        ,  0.01387977,  0.        , ...,  0.        ,\n",
      "        0.        ,  0.        ]))\n",
      "(18, array([ 0.,  0.,  0., ...,  0.,  0.,  0.]))\n",
      "(19, array([ 0.        ,  0.        ,  0.04664317, ...,  0.        ,\n",
      "        0.        ,  0.04230282]))\n",
      "(20, array([ 0.        ,  0.01678774,  0.        , ...,  0.        ,\n",
      "        0.        ,  0.        ]))\n",
      "(21, array([ 0.,  0.,  0., ...,  0.,  0.,  0.]))\n",
      "(22, array([  0.00000000e+00,   2.71789069e-04,   0.00000000e+00, ...,\n",
      "         0.00000000e+00,   3.13121162e-01,   0.00000000e+00]))\n",
      "(23, array([ 0.,  0.,  0., ...,  0.,  0.,  0.]))\n",
      "(24, array([ 0.,  0.,  0., ...,  0.,  0.,  0.]))\n",
      "(25, array([ 0.        ,  0.        ,  0.        , ...,  0.01357877,\n",
      "        0.        ,  0.        ]))\n",
      "(26, array([ 0.       ,  0.       ,  0.       , ...,  0.       ,  0.       ,\n",
      "        0.0350767]))\n",
      "(27, array([ 0.,  0.,  0., ...,  0.,  0.,  0.]))\n",
      "(28, array([ 0.,  0.,  0., ...,  0.,  0.,  0.]))\n",
      "(29, array([ 0.,  0.,  0., ...,  0.,  0.,  0.]))\n",
      "(30, array([ 0.,  0.,  0., ...,  0.,  0.,  0.]))\n",
      "(31, array([ 0.        ,  0.        ,  0.0080029 , ...,  0.22157156,\n",
      "        0.00061274,  0.        ]))\n",
      "(32, array([ 0.,  0.,  0., ...,  0.,  0.,  0.]))\n",
      "(33, array([ 0.        ,  0.02378517,  0.        , ...,  0.        ,\n",
      "        0.06553675,  0.        ]))\n",
      "(34, array([ 0.        ,  0.        ,  0.        , ...,  0.        ,\n",
      "        0.        ,  0.02157833]))\n",
      "(35, array([ 0.,  0.,  0., ...,  0.,  0.,  0.]))\n",
      "(36, array([ 0.02455077,  0.04161005,  0.00415748, ...,  0.08754279,\n",
      "        0.        ,  0.03630999]))\n",
      "(37, array([ 0.        ,  0.00039312,  0.        , ...,  0.        ,\n",
      "        0.        ,  0.        ]))\n",
      "(38, array([ 0.,  0.,  0., ...,  0.,  0.,  0.]))\n",
      "(39, array([ 0.        ,  0.00707308,  0.        , ...,  0.        ,\n",
      "        0.        ,  0.        ]))\n"
     ]
    }
   ],
   "source": [
    "for topicidx in enumerate(nmf.components_):\n",
    "    print(topicidx)"
   ]
  },
  {
   "cell_type": "code",
   "execution_count": null,
   "metadata": {
    "collapsed": false
   },
   "outputs": [],
   "source": [
    "# =-=-=-=-=-=\n",
    "# Saving output to CSV\n",
    "# =-=-=-=-=-=\n",
    "\n",
    "# Since DOCTOPIC is an array, you can just do:\n",
    "#      np.savetxt(\"foo.csv\", doctopic, delimiter=\",\", fmt = \"%s\")\n",
    "# http://stackoverflow.com/questions/6081008/dump-a-numpy-array-into-a-csv-file\n",
    "#\n",
    "# The above won't give you the names of the files. Instead try this:\n",
    "\n",
    "topsnum = np.array([list(range(n_topics))])\n",
    "# topsnum = np.indices((1,n_topics))[1] <-- this is more than we need,\n",
    "#                                           but it's cool to know more tricks\n",
    "#\n",
    "# Two ways to get an array that is of the form [[0,1,2,3,...]].\n",
    "# It will have the desired dimensions of (1,35) which is what we want\n",
    "\n",
    "fileheader = np.concatenate((np.array([[\"citations\"]]), topsnum),axis = 1)\n",
    "\n",
    "docTopics = np.concatenate((authordate, doctopic), axis = 1)\n",
    "docTopics = np.concatenate((fileheader, docTopics), axis = 0)\n",
    "\n",
    "np.savetxt(\"../data/nmf_topics.csv\", docTopics, delimiter=\",\", fmt = \"%s\")"
   ]
  }
 ],
 "metadata": {
  "kernelspec": {
   "display_name": "Python 3",
   "language": "python",
   "name": "python3"
  },
  "language_info": {
   "codemirror_mode": {
    "name": "ipython",
    "version": 3
   },
   "file_extension": ".py",
   "mimetype": "text/x-python",
   "name": "python",
   "nbconvert_exporter": "python",
   "pygments_lexer": "ipython3",
   "version": "3.4.6"
  }
 },
 "nbformat": 4,
 "nbformat_minor": 0
}
