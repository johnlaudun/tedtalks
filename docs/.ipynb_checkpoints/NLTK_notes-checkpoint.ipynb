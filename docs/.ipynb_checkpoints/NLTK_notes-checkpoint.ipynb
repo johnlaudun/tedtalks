{
 "cells": [
  {
   "cell_type": "markdown",
   "metadata": {},
   "source": [
    "I'm reading _Natural Language Processing with Python_ this evening, because I recently discovered it has a sentence segmenter built in, so I thought I would return to the book and work through some of the materials.\n",
    "\n",
    "The first thing to do is to grab some texts:"
   ]
  },
  {
   "cell_type": "code",
   "execution_count": 1,
   "metadata": {
    "collapsed": true
   },
   "outputs": [],
   "source": [
    "import pandas\n",
    "\n",
    "# =-=-=-=-=-=\n",
    "# Read CSV into DataFrame and then create lists\n",
    "# =-=-=-=-=-=\n",
    "\n",
    "# Create pandas dataframe\n",
    "colnames = ['author', 'title', 'date' , 'length', 'text']\n",
    "df = pandas.read_csv('../data/talks_3.csv', names=colnames)\n",
    "texts = df.text.tolist()"
   ]
  },
  {
   "cell_type": "markdown",
   "metadata": {},
   "source": [
    "Since I am working through these materials, I'm going to break off a small piece of the larger corpus. I create two test lists of words below, one with a single talk and one with five. The lines of code are a bit long:\n",
    "\n",
    "```python\n",
    "gore = re.sub(r\"[^\\w\\d'\\s]+\",'', texts[0]).lower().split()\n",
    "```\n",
    "\n",
    "The real work of the line is in the regex phrase, `re.sub(r\"[^\\w\\d'\\s]+\",'', texts[0])`, which grabs the first text, `texts[0]`, and substitutes literally nothing wherever there isn't a word or a number or an apostrophe -- I'm tempted to try the NLTK word tokenizer here. The phrase is followed by two string methods that convert everything to lower case and then converts the string into a list.\n",
    "\n",
    "The only difference in the second line is that five texts are in a list which must first be joined, here with a single space, before the substitution, casing, and split to list."
   ]
  },
  {
   "cell_type": "code",
   "execution_count": 13,
   "metadata": {
    "collapsed": true
   },
   "outputs": [],
   "source": [
    "import re\n",
    "\n",
    "gore = re.sub(r\"[^\\w\\d'\\s]+\",'', texts[0]).lower().split()\n",
    "firsts = re.sub(r\"[^\\w\\d'\\s]+\",'', ' '.join(texts[0:5])).lower().split()"
   ]
  },
  {
   "cell_type": "code",
   "execution_count": 14,
   "metadata": {},
   "outputs": [
    {
     "name": "stdout",
     "output_type": "stream",
     "text": [
      "['need', 'looked', 'rented', 'started', 'lowered', 'happened', 'shared', 'laughed', 'landed', 'opened', 'looked', 'remembered', 'turned', 'printed', 'united', 'printed', 'checked', 'announced', 'opened', \"'named\", 'started', 'ted', 'united', 'wanted', 'wanted', 'projected', 'talked', 'involved', 'mentioned', 'reduced', 'elaborated', 'convened', 'updated', 'mentioned', 'invested', 'invested', 'based', 'purposed', 'replaced', 'nominated', 'posted', 'limited', 'need', 'used', 'supposed', 'united', 'closed', 'closed', 'closed', 'avoided', 'suggested', 'need', 'connected']\n"
     ]
    }
   ],
   "source": [
    "past_tense = [w for w in gore if re.search('ed$', w)] # From Bird et al. \"NLP with Python\"\n",
    "print(past_tense)"
   ]
  },
  {
   "cell_type": "code",
   "execution_count": null,
   "metadata": {
    "collapsed": true
   },
   "outputs": [],
   "source": []
  }
 ],
 "metadata": {
  "kernelspec": {
   "display_name": "Python 3",
   "language": "python",
   "name": "python3"
  },
  "language_info": {
   "codemirror_mode": {
    "name": "ipython",
    "version": 3
   },
   "file_extension": ".py",
   "mimetype": "text/x-python",
   "name": "python",
   "nbconvert_exporter": "python",
   "pygments_lexer": "ipython3",
   "version": "3.4.6"
  }
 },
 "nbformat": 4,
 "nbformat_minor": 2
}
