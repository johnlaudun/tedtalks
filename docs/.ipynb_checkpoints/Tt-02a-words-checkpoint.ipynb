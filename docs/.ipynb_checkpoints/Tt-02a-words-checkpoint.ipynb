{
 "cells": [
  {
   "cell_type": "code",
   "execution_count": 1,
   "metadata": {
    "collapsed": false
   },
   "outputs": [],
   "source": [
    "#! /usr/bin/env python\n",
    "\n",
    "import pandas\n",
    "import re\n",
    "from nltk.tokenize import WhitespaceTokenizer\n",
    "from nltk.stem.snowball import SnowballStemmer\n",
    "from nltk.stem import *\n",
    "from nltk.stem.porter import *\n",
    "\n",
    "# =-=-=-=-=-=\n",
    "# Read CSV into DataFrame and then create lists\n",
    "# =-=-=-=-=-=\n",
    "\n",
    "# Create pandas dataframe\n",
    "colnames = ['author', 'title', 'date' , 'length', 'text']\n",
    "df = pandas.read_csv('../data/talks_2.csv', names=colnames)\n",
    "\n",
    "# Create list of talks\n",
    "talks = df.text.tolist()"
   ]
  },
  {
   "cell_type": "code",
   "execution_count": 2,
   "metadata": {
    "collapsed": false
   },
   "outputs": [],
   "source": [
    "# Create a test set\n",
    "test = talks[0:100]"
   ]
  },
  {
   "cell_type": "code",
   "execution_count": 3,
   "metadata": {
    "collapsed": false
   },
   "outputs": [],
   "source": [
    "# =-=-=-=-=-=\n",
    "# Clean and Tokenize, then Drop Stopwords\n",
    "# =-=-=-=-=-=\n",
    "\n",
    "# Load tokenizer, stopwords, and stemmer\n",
    "tokenizer = WhitespaceTokenizer()\n",
    "stopwords = re.split('\\s+', open('../data/tt_stop.txt', 'r').read().lower())\n",
    "stemmer = SnowballStemmer(\"english\", ignore_stopwords=True)\n",
    "p_stemmer = PorterStemmer()\n",
    "\n",
    "# List for loop\n",
    "texts = []\n",
    "\n",
    "# loop through document list\n",
    "for i in test:\n",
    "    \n",
    "    # clean and tokenize document string\n",
    "    raw = re.sub(r\"[^\\w\\d'\\s]+\",'', i).lower()\n",
    "    tokens = tokenizer.tokenize(raw)\n",
    "\n",
    "    # remove stop words from tokens\n",
    "    stopped_tokens = [i for i in tokens if not i in stopwords]\n",
    "    \n",
    "    # stem tokens\n",
    "    # stemmed_tokens = [p_stemmer.stem(i) for i in stopped_tokens]\n",
    "    \n",
    "    # add tokens to list\n",
    "    texts.append(tokens)\n",
    "#    texts.append(stemmed_tokens)"
   ]
  },
  {
   "cell_type": "code",
   "execution_count": 28,
   "metadata": {
    "collapsed": true
   },
   "outputs": [],
   "source": [
    "# =-=-=-=-=-=\n",
    "# Experiments in stemming corpus\n",
    "# =-=-=-=-=-=\n",
    "\n",
    "# Create a stemmed version\n",
    "stemmed = []\n",
    "for i in test:\n",
    "    raw = re.sub(r\"[^\\w\\d'\\s]+\",'', i).lower()\n",
    "    tokens = tokenizer.tokenize(raw)\n",
    "    stopped_tokens = [i for i in tokens if not i in stopwords]\n",
    "    stemmed_tokens = [p_stemmer.stem(i) for i in stopped_tokens]\n",
    "    stemmed.append(stemmed_tokens)\n",
    "\n",
    "unstemmed_words = set([y for x in unstemmed for y in x])\n",
    "stemmed_words = set([y for x in stemmed for y in x])\n",
    "\n",
    "\n",
    "# Build master list of words:\n",
    "unstemmeds = [y for x in unstemmed for y in x]\n",
    "stemmeds = [y for x in stemmed for y in x]\n",
    "\n",
    "# Create dictionary of word:frequency pairs\n",
    "\n",
    "punctuation = re.compile(r'[.?!,\":;]') \n",
    "stemmed_freq_dict = {}\n",
    "\n",
    "for word in stemmeds:\n",
    "    # remove punctuation marks\n",
    "    word = punctuation.sub(\"\", word)\n",
    "    # form dictionary\n",
    "    try: \n",
    "        stemmed_freq_dict[word] += 1\n",
    "    except: \n",
    "        stemmed_freq_dict[word] = 1\n",
    "        \n",
    "stemmed_freq_list = [(val, key) for key, val in stemmed_freq_dict.items()]\n",
    "stemmed_word_list = [(key, val) for key, val in stemmed_freq_dict.items()]\n",
    "\n",
    "stemmed_word_list.sort()\n",
    "print(stemmed_word_list)"
   ]
  }
 ],
 "metadata": {
  "kernelspec": {
   "display_name": "Python 3",
   "language": "python",
   "name": "python3"
  },
  "language_info": {
   "codemirror_mode": {
    "name": "ipython",
    "version": 3
   },
   "file_extension": ".py",
   "mimetype": "text/x-python",
   "name": "python",
   "nbconvert_exporter": "python",
   "pygments_lexer": "ipython3",
   "version": "3.4.6"
  }
 },
 "nbformat": 4,
 "nbformat_minor": 0
}
