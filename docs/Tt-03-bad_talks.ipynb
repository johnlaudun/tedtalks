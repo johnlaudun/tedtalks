{
 "cells": [
  {
   "cell_type": "code",
   "execution_count": 1,
   "metadata": {
    "collapsed": true
   },
   "outputs": [],
   "source": [
    "#! /usr/bin/env python\n",
    "\n",
    "import pandas\n",
    "import re\n",
    "import csv\n",
    "\n",
    "# Load the data into a dataframe\n",
    "colnames = ['author', 'title', 'date' , 'length', 'text']\n",
    "df = pandas.read_csv('../data/talks-v1b.csv', names=colnames)"
   ]
  },
  {
   "cell_type": "code",
   "execution_count": null,
   "metadata": {
    "collapsed": true
   },
   "outputs": [],
   "source": [
    "# Make a list, turn it into a giant string\n",
    "talks = df.text.tolist()\n",
    "alltalks = \" \".join(str(item) for item in talks) # Solves pbm of floats in talks\n",
    "all_words = re.sub(r\"[^\\w\\d'\\s]+\",'',alltalks).lower() # Remove all punctuation save apostrophes\n",
    "\n",
    "# Tokenize on whitespace with NLTK\n",
    "from nltk.tokenize import WhitespaceTokenizer\n",
    "tt_tokens = WhitespaceTokenizer().tokenize(all_words)\n",
    "\n",
    "# Build a dictionary of words and their frequency in the corpus\n",
    "tt_freq = {}\n",
    "for word in tt_tokens:\n",
    "    try:\n",
    "        tt_freq[word] += 1\n",
    "    except: \n",
    "        tt_freq[word] = 1\n",
    "\n",
    "# Convert dictionary into a list of tuples\n",
    "tt_freq_list = [(val, key) for key, val in tt_freq.items()]\n",
    "\n",
    "# Sort with most frequent words at top\n",
    "tt_freq_list.sort(reverse=True)\n",
    "\n",
    "# Write to file\n",
    "with open('../outputs/tt_freq.csv', 'w') as f:\n",
    "        wtr = csv.writer(f)\n",
    "        wtr.writerows(sorted(tt_freq_list, reverse=True))\n",
    "        f.close()"
   ]
  },
  {
   "cell_type": "code",
   "execution_count": null,
   "metadata": {
    "collapsed": false
   },
   "outputs": [],
   "source": [
    "# Discovering the Bad Texts\n",
    "\n",
    "# We establish which talks are empty\n",
    "i = 0\n",
    "no_good = []\n",
    "for talk in talks:\n",
    "    A = type(talk)\n",
    "    B = type('string or something')\n",
    "    if A != B:\n",
    "        no_good.append(i)\n",
    "    i = i + 1\n",
    "\n",
    "print(no_good)"
   ]
  },
  {
   "cell_type": "code",
   "execution_count": null,
   "metadata": {
    "collapsed": false,
    "scrolled": true
   },
   "outputs": [],
   "source": [
    "df.iloc[no_good]"
   ]
  },
  {
   "cell_type": "code",
   "execution_count": null,
   "metadata": {
    "collapsed": false
   },
   "outputs": [],
   "source": [
    "j = 0\n",
    "too_short = []\n",
    "for talk in talks: \n",
    "    if len(str(talk)) < 1000:\n",
    "        too_short.append(j)\n",
    "    j = j + 1"
   ]
  },
  {
   "cell_type": "code",
   "execution_count": null,
   "metadata": {
    "collapsed": false
   },
   "outputs": [],
   "source": [
    "print(len(too_short), too_short)"
   ]
  },
  {
   "cell_type": "code",
   "execution_count": null,
   "metadata": {
    "collapsed": false,
    "scrolled": true
   },
   "outputs": [],
   "source": [
    "df.iloc[too_short]"
   ]
  },
  {
   "cell_type": "code",
   "execution_count": null,
   "metadata": {
    "collapsed": false
   },
   "outputs": [],
   "source": [
    "with open('../data/drop_talks.txt', 'w') as f:\n",
    "    for item in too_short:  \n",
    "        f.write(\"%s\\n\" % item)"
   ]
  },
  {
   "cell_type": "code",
   "execution_count": 2,
   "metadata": {
    "collapsed": true
   },
   "outputs": [],
   "source": [
    "# =-=-=-=-=-=\n",
    "# Filter out null or short talks from dataframe & save as new CSV\n",
    "# =-=-=-=-=-=\n",
    "\n",
    "# Load list of empty talks or too short talks from file:\n",
    "the_bad = [ int(x) for x in open(\"../data/drop_talks.txt\", \"r\").read().split('\\n') ]"
   ]
  },
  {
   "cell_type": "code",
   "execution_count": 3,
   "metadata": {
    "collapsed": false
   },
   "outputs": [
    {
     "name": "stdout",
     "output_type": "stream",
     "text": [
      "[115, 185, 331, 398, 513, 877, 982, 1015, 1100, 1299, 1342, 1427, 1641, 1846, 1852, 1937, 1947, 2011, 2028, 2080, 2102]\n"
     ]
    }
   ],
   "source": [
    "print(the_bad)"
   ]
  },
  {
   "cell_type": "code",
   "execution_count": 4,
   "metadata": {
    "collapsed": false
   },
   "outputs": [
    {
     "name": "stdout",
     "output_type": "stream",
     "text": [
      "[2102, 2080, 2028, 2011, 1947, 1937, 1852, 1846, 1641, 1427, 1342, 1299, 1100, 1015, 982, 877, 513, 398, 331, 185, 115]\n"
     ]
    }
   ],
   "source": [
    "# Second, delete in reverse order so as to preserve index order\n",
    "dab_eht = sorted(the_bad, reverse=True)\n",
    "\n",
    "print(dab_eht)"
   ]
  },
  {
   "cell_type": "code",
   "execution_count": 6,
   "metadata": {
    "collapsed": false
   },
   "outputs": [],
   "source": [
    "df_purged = df.drop(df.index[dab_eht])"
   ]
  },
  {
   "cell_type": "code",
   "execution_count": 13,
   "metadata": {
    "collapsed": false
   },
   "outputs": [
    {
     "data": {
      "text/html": [
       "<div>\n",
       "<table border=\"1\" class=\"dataframe\">\n",
       "  <thead>\n",
       "    <tr style=\"text-align: right;\">\n",
       "      <th></th>\n",
       "      <th>author</th>\n",
       "      <th>title</th>\n",
       "      <th>date</th>\n",
       "      <th>length</th>\n",
       "      <th>text</th>\n",
       "    </tr>\n",
       "  </thead>\n",
       "  <tbody>\n",
       "    <tr>\n",
       "      <th>184</th>\n",
       "      <td>Sebastian Deterding</td>\n",
       "      <td>What your designs say about you</td>\n",
       "      <td>May 2012</td>\n",
       "      <td>730</td>\n",
       "      <td>We are today talking about moral persuasion. W...</td>\n",
       "    </tr>\n",
       "    <tr>\n",
       "      <th>185</th>\n",
       "      <td>Quixotic Fusion</td>\n",
       "      <td>Dancing with light</td>\n",
       "      <td>Jun 2012</td>\n",
       "      <td>718</td>\n",
       "      <td>NaN</td>\n",
       "    </tr>\n",
       "    <tr>\n",
       "      <th>186</th>\n",
       "      <td>Seth Shostak</td>\n",
       "      <td>ET is (probably) out there — get ready</td>\n",
       "      <td>Jun 2012</td>\n",
       "      <td>1094</td>\n",
       "      <td>Is E.T. out there  Well  I work at the SETI In...</td>\n",
       "    </tr>\n",
       "  </tbody>\n",
       "</table>\n",
       "</div>"
      ],
      "text/plain": [
       "                  author                                   title      date  \\\n",
       "184  Sebastian Deterding         What your designs say about you  May 2012   \n",
       "185      Quixotic Fusion                      Dancing with light  Jun 2012   \n",
       "186         Seth Shostak  ET is (probably) out there — get ready  Jun 2012   \n",
       "\n",
       "     length                                               text  \n",
       "184     730  We are today talking about moral persuasion. W...  \n",
       "185     718                                                NaN  \n",
       "186    1094  Is E.T. out there  Well  I work at the SETI In...  "
      ]
     },
     "execution_count": 13,
     "metadata": {},
     "output_type": "execute_result"
    }
   ],
   "source": [
    "df[184:187]"
   ]
  },
  {
   "cell_type": "code",
   "execution_count": 16,
   "metadata": {
    "collapsed": false
   },
   "outputs": [
    {
     "data": {
      "text/html": [
       "<div>\n",
       "<table border=\"1\" class=\"dataframe\">\n",
       "  <thead>\n",
       "    <tr style=\"text-align: right;\">\n",
       "      <th></th>\n",
       "      <th>author</th>\n",
       "      <th>title</th>\n",
       "      <th>date</th>\n",
       "      <th>length</th>\n",
       "      <th>text</th>\n",
       "    </tr>\n",
       "  </thead>\n",
       "  <tbody>\n",
       "    <tr>\n",
       "      <th>184</th>\n",
       "      <td>Sebastian Deterding</td>\n",
       "      <td>What your designs say about you</td>\n",
       "      <td>May 2012</td>\n",
       "      <td>730</td>\n",
       "      <td>We are today talking about moral persuasion. W...</td>\n",
       "    </tr>\n",
       "    <tr>\n",
       "      <th>186</th>\n",
       "      <td>Seth Shostak</td>\n",
       "      <td>ET is (probably) out there — get ready</td>\n",
       "      <td>Jun 2012</td>\n",
       "      <td>1094</td>\n",
       "      <td>Is E.T. out there  Well  I work at the SETI In...</td>\n",
       "    </tr>\n",
       "    <tr>\n",
       "      <th>187</th>\n",
       "      <td>David Birch</td>\n",
       "      <td>A new way to stop identity theft</td>\n",
       "      <td>Jun 2012</td>\n",
       "      <td>975</td>\n",
       "      <td>So I thought I'd talk about identity. That's s...</td>\n",
       "    </tr>\n",
       "  </tbody>\n",
       "</table>\n",
       "</div>"
      ],
      "text/plain": [
       "                  author                                   title      date  \\\n",
       "184  Sebastian Deterding         What your designs say about you  May 2012   \n",
       "186         Seth Shostak  ET is (probably) out there — get ready  Jun 2012   \n",
       "187          David Birch        A new way to stop identity theft  Jun 2012   \n",
       "\n",
       "     length                                               text  \n",
       "184     730  We are today talking about moral persuasion. W...  \n",
       "186    1094  Is E.T. out there  Well  I work at the SETI In...  \n",
       "187     975  So I thought I'd talk about identity. That's s...  "
      ]
     },
     "execution_count": 16,
     "metadata": {},
     "output_type": "execute_result"
    }
   ],
   "source": [
    "df_purged[183:186]"
   ]
  },
  {
   "cell_type": "code",
   "execution_count": 17,
   "metadata": {
    "collapsed": true
   },
   "outputs": [],
   "source": [
    "# Save to CSV\n",
    "df_purged.to_csv('../data/talks_2.csv')"
   ]
  }
 ],
 "metadata": {
  "kernelspec": {
   "display_name": "Python 3",
   "language": "python",
   "name": "python3"
  },
  "language_info": {
   "codemirror_mode": {
    "name": "ipython",
    "version": 3
   },
   "file_extension": ".py",
   "mimetype": "text/x-python",
   "name": "python",
   "nbconvert_exporter": "python",
   "pygments_lexer": "ipython3",
   "version": "3.4.6"
  }
 },
 "nbformat": 4,
 "nbformat_minor": 0
}
