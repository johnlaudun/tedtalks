{
 "cells": [
  {
   "cell_type": "code",
   "execution_count": 17,
   "metadata": {
    "collapsed": true
   },
   "outputs": [],
   "source": [
    "#! /usr/bin/env python\n",
    "\n",
    "# Create pandas dataframe & lists\n",
    "import pandas\n",
    "\n",
    "colnames = ['author', 'title', 'date' , 'length', 'text']\n",
    "df = pandas.read_csv('../data/talks_2.csv', names=colnames)\n",
    "talks = df.text.tolist()\n",
    "titles = df.title.tolist()"
   ]
  },
  {
   "cell_type": "code",
   "execution_count": 16,
   "metadata": {
    "collapsed": true
   },
   "outputs": [],
   "source": [
    "import math, re\n",
    "\n",
    "\n",
    "# Set up a dictionary where k = word and v = weight\n",
    "concretes = open('../data/Concreteness_ratings_Brysbaert_et_al.txt')\n",
    "concrete_dict = dict(map(lambda wns: (wns[0], float(wns[2])), \n",
    "                 [ ws.strip().split('\\t') for ws in concretes ]))\n",
    "\n",
    "# Word splitter pattern\n",
    "pattern_split = re.compile(r\"\\W+\")\n",
    "\n",
    "# Function to \n",
    "def concreteness(text):\n",
    "    \"\"\"\n",
    "    Returns a float for concreteness strength based on the input text.\n",
    "    The higher the number, the more concrete.\n",
    "    \"\"\"\n",
    "    words = pattern_split.split(text.lower())\n",
    "    concretions = []\n",
    "    for word in words:\n",
    "        concretions.append(concrete_dict.get(word,0))\n",
    "    if len(concretions) > 0:\n",
    "        concreteness = sum(concretions)/math.sqrt(len(concretions))\n",
    "        # Should we weight the individual word concreteness? \n",
    "        # I've seen N, sqrt(N) or 1.    \n",
    "    else:\n",
    "        concreteness = 0\n",
    "    return concreteness"
   ]
  },
  {
   "cell_type": "code",
   "execution_count": null,
   "metadata": {
    "collapsed": true
   },
   "outputs": [],
   "source": [
    "# =-=-=-=-=-=-=-=-=-=-=\n",
    "# Plotting\n",
    "# =-=-=-=-=-=-=-=-=-=-= \n",
    "def sentiplot(filename, title, use_cuml=True, method='afinn'):\n",
    "    fig = plt.figure()\n",
    "    sent, cuml = senticuml(filename, method=method)\n",
    "    if use_cuml == True:\n",
    "        plt.plot(cuml,label=title)\n",
    "        plt.ylabel(\"Cumulative Emotional Valence\")\n",
    "        plt.xlabel(\"Sentence #\")\n",
    "    else:\n",
    "        plt.plot(sent,label=title)\n",
    "        plt.ylabel(\"Emotional Valence\")\n",
    "        plt.xlabel(\"Sentence #\")\n",
    "    plt.legend()"
   ]
  },
  {
   "cell_type": "code",
   "execution_count": null,
   "metadata": {
    "collapsed": true
   },
   "outputs": [],
   "source": [
    "# Old Plotting Stuff\n",
    "import matplotlib.pyplot as plt\n",
    "plt.rcParams['figure.figsize'] = 12, 8"
   ]
  },
  {
   "cell_type": "code",
   "execution_count": null,
   "metadata": {
    "collapsed": true
   },
   "outputs": [],
   "source": [
    "# =-=-=-=-=-=\n",
    "# Clean and Tokenize, then Drop Stopwords\n",
    "# =-=-=-=-=-=\n",
    "\n",
    "# Load tokenizer, stopwords, and stemmer\n",
    "tokenizer = WhitespaceTokenizer()\n",
    "stopwords = re.split('\\s+', open('../data/tt_stop.txt', 'r').read().lower())\n",
    "p_stemmer = PorterStemmer()\n",
    "\n",
    "# Loop to tokenize, stop, and stem (if needed) texts.\n",
    "texts = []\n",
    "for i in talks:   \n",
    "    # clean and tokenize document string\n",
    "    raw = re.sub(r\"[^\\w\\d'\\s]+\",'', i).lower()\n",
    "    tokens = tokenizer.tokenize(raw)\n",
    "    # remove stop words from tokens\n",
    "    stopped_tokens = [i for i in tokens if not i in stopwords]\n",
    "    # stem tokens\n",
    "    stemmed_tokens = [p_stemmer.stem(i) for i in stopped_tokens]\n",
    "    # add tokens to list\n",
    "    texts.append(stemmed_tokens)\n",
    "\n",
    "# =-=-=-=-=-=-=-=-=-=-=\n",
    "# Re-Assemble Texts as Strings from Lists of Words\n",
    "# =-=-=-=-=-=-=-=-=-=-= \n",
    "\n",
    "strungs = []\n",
    "for text in texts:\n",
    "    strung = ' '.join(text)\n",
    "    strungs.append(strung)"
   ]
  }
 ],
 "metadata": {
  "kernelspec": {
   "display_name": "Python 3",
   "language": "python",
   "name": "python3"
  },
  "language_info": {
   "codemirror_mode": {
    "name": "ipython",
    "version": 3
   },
   "file_extension": ".py",
   "mimetype": "text/x-python",
   "name": "python",
   "nbconvert_exporter": "python",
   "pygments_lexer": "ipython3",
   "version": "3.4.6"
  }
 },
 "nbformat": 4,
 "nbformat_minor": 0
}
