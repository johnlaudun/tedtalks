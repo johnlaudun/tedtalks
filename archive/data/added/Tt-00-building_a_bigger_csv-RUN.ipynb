{
 "cells": [
  {
   "cell_type": "markdown",
   "metadata": {},
   "source": [
    "In this notebook, we are going to load the CSV exported from the Google Doc into a `pandas` dataframe, then use the URL to scrape the HTML for the data we want, and then add that data to the dataframe. At the end, we will save the dataframe back to the CSV.\n",
    "\n",
    "Understanding what the `requests` library returns was made easier thanks to this [post][].\n",
    "\n",
    "[post]: http://www.compjour.org/tutorials/intro-to-python-requests-and-json/"
   ]
  },
  {
   "cell_type": "code",
   "execution_count": 1,
   "metadata": {
    "collapsed": true
   },
   "outputs": [],
   "source": [
    "# =-=-=-=-=-=-=-=-=-=-=\n",
    "# Import libraries\n",
    "# =-=-=-=-=-=-=-=-=-=-= \n",
    "import pandas, re, requests, csv, os\n",
    "from bs4 import BeautifulSoup"
   ]
  },
  {
   "cell_type": "code",
   "execution_count": 7,
   "metadata": {
    "collapsed": true
   },
   "outputs": [],
   "source": [
    "# =-=-=-=-=-=-=-=-=-=-=\n",
    "# Define functions\n",
    "# =-=-=-=-=-=-=-=-=-=-= \n",
    "\n",
    "def parse(thesoup):\n",
    "    for tag in thesoup.find_all(\"meta\"):\n",
    "        if tag.get(\"name\", None) == \"author\":\n",
    "            speaker = tag.get(\"content\", None)\n",
    "        if tag.get(\"itemprop\", None) == \"duration\":\n",
    "            length = tag.get(\"content\", None)\n",
    "        if tag.get(\"itemprop\", None) == \"uploadDate\":\n",
    "            published = tag.get(\"content\", None)\n",
    "        if tag.get(\"itemprop\", None) == \"interactionCount\":\n",
    "            views = tag.get(\"content\", None)\n",
    "        if tag.get(\"itemprop\", None) == \"description\":\n",
    "            description = tag.get(\"content\", None)\n",
    "    strung = ''.join([div.text for div in \n",
    "            thesoup.findAll(\"div\", {\"class\": \"Grid__cell flx-s:1 p-r:4\"})])\n",
    "    text   = re.sub(r\"[\\t]\", \"\", strung).replace(\"\\n\", \" \")\n",
    "    return speaker, length, published, views, description, text\n",
    "\n",
    "def to_csv(csv_file, out):\n",
    "    # open file to write to.\n",
    "    with open(out, \"w\") as out:\n",
    "        # create csv.writer. \n",
    "        wr = csv.writer(out)\n",
    "        # write our headers.\n",
    "        wr.writerow([\"speaker\", \"length\", \"published\", \"views\", \"description\", \"text\"])\n",
    "        # get all our html files.\n",
    "        with open(csv_file) as f:\n",
    "            colnames = f.readline().strip().split(\",\")\n",
    "            df = pandas.read_csv(csv_file, names=colnames)\n",
    "            # Create a tuple from the DF \n",
    "            rows = df.itertuples()\n",
    "            # Skip the first (header) row\n",
    "            next(rows) # skip the row header\n",
    "            # Here's where all the lifting occurs\n",
    "            for row in rows:\n",
    "                # Append transcript to get the correct HTML\n",
    "                the_url = row.public_url + \"/transcript\"\n",
    "                # Use the requests library to get the data\n",
    "                the_html = requests.get(the_url)\n",
    "                # We're skipping the JSON niftiness of the requests response \n",
    "                # and just converting the response to text that we can parse\n",
    "                the_soup = BeautifulSoup(the_html.text, \"html5lib\")\n",
    "                # This is our parse function above that returns a 6-part tuple\n",
    "                # parse the file are write the data to a row.\n",
    "                wr.writerow(parse(the_soup))"
   ]
  },
  {
   "cell_type": "code",
   "execution_count": 6,
   "metadata": {},
   "outputs": [
    {
     "ename": "UnboundLocalError",
     "evalue": "local variable 'speaker' referenced before assignment",
     "output_type": "error",
     "traceback": [
      "\u001b[0;31m---------------------------------------------------------------------------\u001b[0m",
      "\u001b[0;31mUnboundLocalError\u001b[0m                         Traceback (most recent call last)",
      "\u001b[0;32m<ipython-input-6-d7386fe71f7b>\u001b[0m in \u001b[0;36m<module>\u001b[0;34m()\u001b[0m\n\u001b[1;32m      3\u001b[0m \u001b[0;31m# =-=-=-=-=-=-=-=-=-=-=\u001b[0m\u001b[0;34m\u001b[0m\u001b[0;34m\u001b[0m\u001b[0m\n\u001b[1;32m      4\u001b[0m \u001b[0;34m\u001b[0m\u001b[0m\n\u001b[0;32m----> 5\u001b[0;31m \u001b[0mto_csv\u001b[0m\u001b[0;34m(\u001b[0m\u001b[0;34m\"./TEDtalks_to_add.csv\"\u001b[0m\u001b[0;34m,\u001b[0m\u001b[0;34m\"added.csv\"\u001b[0m\u001b[0;34m)\u001b[0m\u001b[0;34m\u001b[0m\u001b[0m\n\u001b[0m",
      "\u001b[0;32m<ipython-input-5-b91d6b551321>\u001b[0m in \u001b[0;36mto_csv\u001b[0;34m(csv_file, out)\u001b[0m\n\u001b[1;32m     46\u001b[0m                 \u001b[0;31m# This is our parse function above that returns a 6-part tuple\u001b[0m\u001b[0;34m\u001b[0m\u001b[0;34m\u001b[0m\u001b[0m\n\u001b[1;32m     47\u001b[0m                 \u001b[0;31m# parse the file are write the data to a row.\u001b[0m\u001b[0;34m\u001b[0m\u001b[0;34m\u001b[0m\u001b[0m\n\u001b[0;32m---> 48\u001b[0;31m                 \u001b[0mwr\u001b[0m\u001b[0;34m.\u001b[0m\u001b[0mwriterow\u001b[0m\u001b[0;34m(\u001b[0m\u001b[0mparse\u001b[0m\u001b[0;34m(\u001b[0m\u001b[0mthe_soup\u001b[0m\u001b[0;34m)\u001b[0m\u001b[0;34m)\u001b[0m\u001b[0;34m\u001b[0m\u001b[0m\n\u001b[0m",
      "\u001b[0;32m<ipython-input-5-b91d6b551321>\u001b[0m in \u001b[0;36mparse\u001b[0;34m(thesoup)\u001b[0m\n\u001b[1;32m     18\u001b[0m             thesoup.findAll(\"div\", {\"class\": \"Grid__cell flx-s:1 p-r:4\"})])\n\u001b[1;32m     19\u001b[0m     \u001b[0mtext\u001b[0m   \u001b[0;34m=\u001b[0m \u001b[0mre\u001b[0m\u001b[0;34m.\u001b[0m\u001b[0msub\u001b[0m\u001b[0;34m(\u001b[0m\u001b[0;34mr\"[\\t]\"\u001b[0m\u001b[0;34m,\u001b[0m \u001b[0;34m\"\"\u001b[0m\u001b[0;34m,\u001b[0m \u001b[0mstrung\u001b[0m\u001b[0;34m)\u001b[0m\u001b[0;34m.\u001b[0m\u001b[0mreplace\u001b[0m\u001b[0;34m(\u001b[0m\u001b[0;34m\"\\n\"\u001b[0m\u001b[0;34m,\u001b[0m \u001b[0;34m\" \"\u001b[0m\u001b[0;34m)\u001b[0m\u001b[0;34m\u001b[0m\u001b[0m\n\u001b[0;32m---> 20\u001b[0;31m     \u001b[0;32mreturn\u001b[0m \u001b[0mspeaker\u001b[0m\u001b[0;34m,\u001b[0m \u001b[0mlength\u001b[0m\u001b[0;34m,\u001b[0m \u001b[0mpublished\u001b[0m\u001b[0;34m,\u001b[0m \u001b[0mviews\u001b[0m\u001b[0;34m,\u001b[0m \u001b[0mdescription\u001b[0m\u001b[0;34m,\u001b[0m \u001b[0mtext\u001b[0m\u001b[0;34m\u001b[0m\u001b[0m\n\u001b[0m\u001b[1;32m     21\u001b[0m \u001b[0;34m\u001b[0m\u001b[0m\n\u001b[1;32m     22\u001b[0m \u001b[0;32mdef\u001b[0m \u001b[0mto_csv\u001b[0m\u001b[0;34m(\u001b[0m\u001b[0mcsv_file\u001b[0m\u001b[0;34m,\u001b[0m \u001b[0mout\u001b[0m\u001b[0;34m)\u001b[0m\u001b[0;34m:\u001b[0m\u001b[0;34m\u001b[0m\u001b[0m\n",
      "\u001b[0;31mUnboundLocalError\u001b[0m: local variable 'speaker' referenced before assignment"
     ]
    }
   ],
   "source": [
    "# =-=-=-=-=-=-=-=-=-=-=\n",
    "# Write the data to CSV \n",
    "# =-=-=-=-=-=-=-=-=-=-= \n",
    "\n",
    "to_csv(\"./TEDtalks_to_add.csv\",\"added.csv\")"
   ]
  }
 ],
 "metadata": {
  "kernelspec": {
   "display_name": "Python 3",
   "language": "python",
   "name": "python3"
  },
  "language_info": {
   "codemirror_mode": {
    "name": "ipython",
    "version": 3
   },
   "file_extension": ".py",
   "mimetype": "text/x-python",
   "name": "python",
   "nbconvert_exporter": "python",
   "pygments_lexer": "ipython3",
   "version": "3.4.7"
  }
 },
 "nbformat": 4,
 "nbformat_minor": 2
}
