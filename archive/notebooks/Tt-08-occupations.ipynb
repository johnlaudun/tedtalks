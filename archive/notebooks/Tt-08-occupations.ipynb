{
 "cells": [
  {
   "cell_type": "markdown",
   "metadata": {},
   "source": [
    "## Understanding `occupations`\n",
    "\n",
    "The code below was written in order to understand where we had blanks and, then, later to see what kinds of occupations we had. The answer was: too many. How we are going to usefully assign disciplines, by hand, is left for another time."
   ]
  },
  {
   "cell_type": "code",
   "execution_count": 2,
   "metadata": {},
   "outputs": [
    {
     "data": {
      "text/html": [
       "<div>\n",
       "<table border=\"1\" class=\"dataframe\">\n",
       "  <thead>\n",
       "    <tr style=\"text-align: right;\">\n",
       "      <th></th>\n",
       "      <th>citation</th>\n",
       "      <th>author</th>\n",
       "      <th>gender</th>\n",
       "      <th>title</th>\n",
       "      <th>date</th>\n",
       "      <th>length</th>\n",
       "      <th>text</th>\n",
       "      <th>occupation</th>\n",
       "      <th>numDate</th>\n",
       "    </tr>\n",
       "  </thead>\n",
       "  <tbody>\n",
       "    <tr>\n",
       "      <th>0</th>\n",
       "      <td>Al Gore 2006</td>\n",
       "      <td>Al Gore</td>\n",
       "      <td>male</td>\n",
       "      <td>Averting the climate crisis</td>\n",
       "      <td>Jun 2006</td>\n",
       "      <td>957</td>\n",
       "      <td>Thank you so much  Chris. And it's truly a gre...</td>\n",
       "      <td>Climate advocate</td>\n",
       "      <td>200606</td>\n",
       "    </tr>\n",
       "    <tr>\n",
       "      <th>1</th>\n",
       "      <td>David Pogue 2006</td>\n",
       "      <td>David Pogue</td>\n",
       "      <td>male</td>\n",
       "      <td>Simplicity sells</td>\n",
       "      <td>Jun 2006</td>\n",
       "      <td>1271</td>\n",
       "      <td>Hello voice mail  my old friend. I've called f...</td>\n",
       "      <td>Technology columnist</td>\n",
       "      <td>200606</td>\n",
       "    </tr>\n",
       "    <tr>\n",
       "      <th>2</th>\n",
       "      <td>Cameron Sinclair 2006</td>\n",
       "      <td>Cameron Sinclair</td>\n",
       "      <td>male</td>\n",
       "      <td>My wish: A call for open-source architecture</td>\n",
       "      <td>Jul 2006</td>\n",
       "      <td>1398</td>\n",
       "      <td>I'm going to take you on a journey very quickl...</td>\n",
       "      <td>Co-founder, Architecture for Humanity</td>\n",
       "      <td>200607</td>\n",
       "    </tr>\n",
       "    <tr>\n",
       "      <th>3</th>\n",
       "      <td>Sergey Brin + Larry Page 2007</td>\n",
       "      <td>Sergey Brin + Larry Page</td>\n",
       "      <td>male</td>\n",
       "      <td>The genesis of Google</td>\n",
       "      <td>May 2007</td>\n",
       "      <td>1205</td>\n",
       "      <td>Sergey Brin  I want to discuss a question I kn...</td>\n",
       "      <td>NaN</td>\n",
       "      <td>200705</td>\n",
       "    </tr>\n",
       "    <tr>\n",
       "      <th>4</th>\n",
       "      <td>Nathalie Miebach 2011</td>\n",
       "      <td>Nathalie Miebach</td>\n",
       "      <td>female</td>\n",
       "      <td>Art made of storms</td>\n",
       "      <td>Oct 2011</td>\n",
       "      <td>247</td>\n",
       "      <td>What you just heard are the interactions of ba...</td>\n",
       "      <td>Artist</td>\n",
       "      <td>201110</td>\n",
       "    </tr>\n",
       "  </tbody>\n",
       "</table>\n",
       "</div>"
      ],
      "text/plain": [
       "                        citation                    author  gender  \\\n",
       "0                   Al Gore 2006                   Al Gore    male   \n",
       "1               David Pogue 2006               David Pogue    male   \n",
       "2          Cameron Sinclair 2006          Cameron Sinclair    male   \n",
       "3  Sergey Brin + Larry Page 2007  Sergey Brin + Larry Page    male   \n",
       "4          Nathalie Miebach 2011          Nathalie Miebach  female   \n",
       "\n",
       "                                          title      date  length  \\\n",
       "0                   Averting the climate crisis  Jun 2006     957   \n",
       "1                              Simplicity sells  Jun 2006    1271   \n",
       "2  My wish: A call for open-source architecture  Jul 2006    1398   \n",
       "3                         The genesis of Google  May 2007    1205   \n",
       "4                            Art made of storms  Oct 2011     247   \n",
       "\n",
       "                                                text  \\\n",
       "0  Thank you so much  Chris. And it's truly a gre...   \n",
       "1  Hello voice mail  my old friend. I've called f...   \n",
       "2  I'm going to take you on a journey very quickl...   \n",
       "3  Sergey Brin  I want to discuss a question I kn...   \n",
       "4  What you just heard are the interactions of ba...   \n",
       "\n",
       "                              occupation  numDate  \n",
       "0                       Climate advocate   200606  \n",
       "1                   Technology columnist   200606  \n",
       "2  Co-founder, Architecture for Humanity   200607  \n",
       "3                                    NaN   200705  \n",
       "4                                 Artist   201110  "
      ]
     },
     "execution_count": 2,
     "metadata": {},
     "output_type": "execute_result"
    }
   ],
   "source": [
    "import pandas\n",
    "\n",
    "df = pandas.read_csv('../data/talks_6d.csv').drop(['Unnamed: 0'], axis = 1)\n",
    "df.head()"
   ]
  },
  {
   "cell_type": "code",
   "execution_count": 3,
   "metadata": {},
   "outputs": [
    {
     "name": "stdout",
     "output_type": "stream",
     "text": [
      "Missing values per column:\n",
      "citation       0\n",
      "author         0\n",
      "gender         0\n",
      "title          0\n",
      "date           0\n",
      "length         0\n",
      "text           0\n",
      "occupation    79\n",
      "numDate        0\n",
      "dtype: int64\n"
     ]
    }
   ],
   "source": [
    "#Create a new function:\n",
    "def num_missing(x):\n",
    "  return sum(x.isnull())\n",
    "\n",
    "#Applying per column:\n",
    "print(\"Missing values per column:\")\n",
    "print(df.apply(num_missing, axis=0)) #axis=0 defines that function is to be applied on each column"
   ]
  },
  {
   "cell_type": "code",
   "execution_count": null,
   "metadata": {
    "collapsed": true
   },
   "outputs": [],
   "source": [
    "# Get all the unique values in the occupation column\n",
    "# (which will come out as an array) and convert to a list\n",
    "# Included here is the total number of values and the number of rows\n",
    "# that have no values at all.\n",
    "occupations = df2.occupation.unique().tolist()\n",
    "occups = [ str(item) for item in occupations ]\n",
    "print(len(occupations), sum(df2.occupation.isnull()), sorted(occups))\n",
    "\n",
    "with open('../outputs/occupations.txt', 'w') as file_handler:\n",
    "    for item in occups:\n",
    "        file_handler.write(\"{}\\n\".format(item))"
   ]
  }
 ],
 "metadata": {
  "kernelspec": {
   "display_name": "Python 3",
   "language": "python",
   "name": "python3"
  },
  "language_info": {
   "codemirror_mode": {
    "name": "ipython",
    "version": 3
   },
   "file_extension": ".py",
   "mimetype": "text/x-python",
   "name": "python",
   "nbconvert_exporter": "python",
   "pygments_lexer": "ipython3",
   "version": "3.4.6"
  }
 },
 "nbformat": 4,
 "nbformat_minor": 2
}
