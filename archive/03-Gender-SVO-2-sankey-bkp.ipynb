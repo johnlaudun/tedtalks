{
 "cells": [
  {
   "cell_type": "markdown",
   "metadata": {},
   "source": [
    "# SVO 2: Gendered Subjects\n",
    "\n",
    "In this notebook, we explore usage of male and female pronouns and nouns as subjects in both subcorpora: first by raw count, and then by actions (verbs) associated with those nouns and pronouns.\n",
    "\n",
    "**Next Steps**: Work on code to compile / visualize this as a network graph (?).\n",
    "\n",
    "We begin by loading the SVOs saved to CSVs.\n",
    "\n",
    "---\n",
    "\n",
    "**Possible worth looking into**: in a prior code run, we had fed the function a list of pronouns asked it to output only those SVOs: `pronouns = ['i', 'we', 'she', 'he', 'they', 'it', 'you']`. Comparing the two outputs: there are 80,331 SVOs in total in the male speaker subcorpora and 56,781 begin with on of the pronouns listed above and 26,527 total SVOs for the female speaker subcorpus with 18,602 beginning with pronouns, then the preponderance of sentences in TED talks begin with a rather small set of pronouns:\n",
    "\n",
    "```\n",
    "male:   56,781 / 80,331 = .706\n",
    "female: 18,602 / 26,527 = .701\n",
    "```\n",
    "*The counts are not precise, but they represent a possible trend worth investigating.*"
   ]
  },
  {
   "cell_type": "code",
   "execution_count": 1,
   "metadata": {},
   "outputs": [],
   "source": [
    "# IMPORTS\n",
    "import pandas as pd\n",
    "import networkx as nx\n",
    "\n",
    "# import plotly.graph_objects as go\n",
    "# import plotly.express as pex\n",
    "\n",
    "import plotly\n",
    "import chart_studio.plotly as py\n",
    "import plotly.graph_objects as go\n",
    "\n",
    "pd.options.plotting.backend = \"plotly\""
   ]
  },
  {
   "cell_type": "code",
   "execution_count": 2,
   "metadata": {},
   "outputs": [],
   "source": [
    "# LOAD DATAFRAMES\n",
    "svos_m = pd.read_csv(\"../output/svos_m.csv\", index_col=0)\n",
    "svos_w = pd.read_csv(\"../output/svos_w.csv\", index_col=0)"
   ]
  },
  {
   "cell_type": "code",
   "execution_count": 3,
   "metadata": {},
   "outputs": [
    {
     "name": "stdout",
     "output_type": "stream",
     "text": [
      "80460 26610\n"
     ]
    }
   ],
   "source": [
    "print(svos_m.shape[0], svos_w.shape[0])"
   ]
  },
  {
   "cell_type": "markdown",
   "metadata": {},
   "source": [
    "## Subjects"
   ]
  },
  {
   "cell_type": "markdown",
   "metadata": {},
   "source": [
    "The function below allows us to compare the usage of subjects across the two subcorpora, returning both a raw count and a percentage of the SVO count of the subcorpus."
   ]
  },
  {
   "cell_type": "code",
   "execution_count": 3,
   "metadata": {},
   "outputs": [
    {
     "name": "stdout",
     "output_type": "stream",
     "text": [
      "\n",
      "    | ♂︎ \"he\" | 2548 | 0.032 |\n",
      "    | ♀︎ \"he\" | 757 | 0.028 |\n"
     ]
    }
   ],
   "source": [
    "def compare (subject):\n",
    "    # Create name:\n",
    "    m_tmp = svos_m[svos_m[\"subject\"] == subject]\n",
    "    w_tmp = svos_w[svos_w[\"subject\"] == subject]\n",
    "    print(f'''\n",
    "    | ♂︎ \"{subject}\" | {m_tmp.shape[0]} | {m_tmp.shape[0]/svos_m.shape[0]:.3f} |\n",
    "    | ♀︎ \"{subject}\" | {w_tmp.shape[0]} | {w_tmp.shape[0]/svos_w.shape[0]:.3f} |''')\n",
    "    \n",
    "compare(\"he\")"
   ]
  },
  {
   "cell_type": "markdown",
   "metadata": {},
   "source": [
    "### Third Person Perspective"
   ]
  },
  {
   "cell_type": "code",
   "execution_count": 4,
   "metadata": {},
   "outputs": [
    {
     "name": "stdout",
     "output_type": "stream",
     "text": [
      "\n",
      "    | ♂︎ \"he\" | 2548 | 0.032 |\n",
      "    | ♀︎ \"he\" | 757 | 0.028 |\n",
      "\n",
      "    | ♂︎ \"she\" | 848 | 0.011 |\n",
      "    | ♀︎ \"she\" | 643 | 0.024 |\n",
      "\n",
      "    | ♂︎ \"man\" | 80 | 0.001 |\n",
      "    | ♀︎ \"man\" | 13 | 0.000 |\n",
      "\n",
      "    | ♂︎ \"woman\" | 24 | 0.000 |\n",
      "    | ♀︎ \"woman\" | 35 | 0.001 |\n",
      "\n",
      "    | ♂︎ \"men\" | 40 | 0.000 |\n",
      "    | ♀︎ \"men\" | 23 | 0.001 |\n",
      "\n",
      "    | ♂︎ \"women\" | 37 | 0.000 |\n",
      "    | ♀︎ \"women\" | 62 | 0.002 |\n",
      "\n",
      "    | ♂︎ \"actor\" | 3 | 0.000 |\n",
      "    | ♀︎ \"actor\" | 1 | 0.000 |\n",
      "\n",
      "    | ♂︎ \"actress\" | 0 | 0.000 |\n",
      "    | ♀︎ \"actress\" | 0 | 0.000 |\n"
     ]
    }
   ],
   "source": [
    "thirdPerson = ['he', 'she', 'man', 'woman', 'men', 'women', 'actor', 'actress']\n",
    "\n",
    "for i in thirdPerson:\n",
    "    compare(i)"
   ]
  },
  {
   "cell_type": "markdown",
   "metadata": {},
   "source": [
    "### First & Second Person"
   ]
  },
  {
   "cell_type": "code",
   "execution_count": 5,
   "metadata": {},
   "outputs": [
    {
     "name": "stdout",
     "output_type": "stream",
     "text": [
      "\n",
      "    | ♂︎ \"i\" | 15440 | 0.192 |\n",
      "    | ♀︎ \"i\" | 6185 | 0.232 |\n",
      "\n",
      "    | ♂︎ \"we\" | 15458 | 0.192 |\n",
      "    | ♀︎ \"we\" | 4652 | 0.175 |\n",
      "\n",
      "    | ♂︎ \"you\" | 11949 | 0.149 |\n",
      "    | ♀︎ \"you\" | 3117 | 0.117 |\n"
     ]
    }
   ],
   "source": [
    "firstSecond = [\"i\", \"we\", \"you\"]\n",
    "\n",
    "for i in firstSecond:\n",
    "    compare(i)"
   ]
  },
  {
   "cell_type": "markdown",
   "metadata": {},
   "source": [
    "### Other Subjects"
   ]
  },
  {
   "cell_type": "code",
   "execution_count": 6,
   "metadata": {},
   "outputs": [
    {
     "name": "stdout",
     "output_type": "stream",
     "text": [
      "\n",
      "    | ♂︎ \"subject\" | 9 | 0.000 |\n",
      "    | ♀︎ \"subject\" | 2 | 0.000 |\n",
      "\n",
      "    | ♂︎ \"object\" | 7 | 0.000 |\n",
      "    | ♀︎ \"object\" | 5 | 0.000 |\n"
     ]
    }
   ],
   "source": [
    "# This is just a placeholder for more interesting words\n",
    "otherSubjects =  ['subject', 'object']\n",
    "\n",
    "for i in otherSubjects:\n",
    "    compare(i)"
   ]
  },
  {
   "cell_type": "markdown",
   "metadata": {},
   "source": [
    "## Verbs"
   ]
  },
  {
   "cell_type": "markdown",
   "metadata": {},
   "source": [
    "We need either a collection of dataframes or one dataframe which has just the subjects above along with the most common verbs: this will give us a sense of the actions associated with particular subjects, the active spaces characters occupy. \n",
    "\n",
    "The code below is a sample based on your earlier work. The question is how to do this *at scale*: feeding a list of subjects and then getting "
   ]
  },
  {
   "cell_type": "code",
   "execution_count": 7,
   "metadata": {
    "scrolled": false
   },
   "outputs": [
    {
     "data": {
      "text/html": [
       "<div>\n",
       "<style scoped>\n",
       "    .dataframe tbody tr th:only-of-type {\n",
       "        vertical-align: middle;\n",
       "    }\n",
       "\n",
       "    .dataframe tbody tr th {\n",
       "        vertical-align: top;\n",
       "    }\n",
       "\n",
       "    .dataframe thead th {\n",
       "        text-align: right;\n",
       "    }\n",
       "</style>\n",
       "<table border=\"1\" class=\"dataframe\">\n",
       "  <thead>\n",
       "    <tr style=\"text-align: right;\">\n",
       "      <th></th>\n",
       "      <th>verb</th>\n",
       "      <th>obs</th>\n",
       "    </tr>\n",
       "  </thead>\n",
       "  <tbody>\n",
       "    <tr>\n",
       "      <th>293</th>\n",
       "      <td>had</td>\n",
       "      <td>146</td>\n",
       "    </tr>\n",
       "    <tr>\n",
       "      <th>581</th>\n",
       "      <td>said</td>\n",
       "      <td>96</td>\n",
       "    </tr>\n",
       "    <tr>\n",
       "      <th>284</th>\n",
       "      <td>got</td>\n",
       "      <td>60</td>\n",
       "    </tr>\n",
       "    <tr>\n",
       "      <th>282</th>\n",
       "      <td>going</td>\n",
       "      <td>49</td>\n",
       "    </tr>\n",
       "    <tr>\n",
       "      <th>297</th>\n",
       "      <td>has</td>\n",
       "      <td>48</td>\n",
       "    </tr>\n",
       "    <tr>\n",
       "      <th>711</th>\n",
       "      <td>took</td>\n",
       "      <td>46</td>\n",
       "    </tr>\n",
       "    <tr>\n",
       "      <th>519</th>\n",
       "      <td>put</td>\n",
       "      <td>44</td>\n",
       "    </tr>\n",
       "    <tr>\n",
       "      <th>758</th>\n",
       "      <td>wanted</td>\n",
       "      <td>44</td>\n",
       "    </tr>\n",
       "    <tr>\n",
       "      <th>402</th>\n",
       "      <td>made</td>\n",
       "      <td>37</td>\n",
       "    </tr>\n",
       "    <tr>\n",
       "      <th>165</th>\n",
       "      <td>did</td>\n",
       "      <td>36</td>\n",
       "    </tr>\n",
       "    <tr>\n",
       "      <th>710</th>\n",
       "      <td>told</td>\n",
       "      <td>35</td>\n",
       "    </tr>\n",
       "    <tr>\n",
       "      <th>787</th>\n",
       "      <td>wrote</td>\n",
       "      <td>33</td>\n",
       "    </tr>\n",
       "    <tr>\n",
       "      <th>299</th>\n",
       "      <td>have</td>\n",
       "      <td>32</td>\n",
       "    </tr>\n",
       "    <tr>\n",
       "      <th>650</th>\n",
       "      <td>started</td>\n",
       "      <td>29</td>\n",
       "    </tr>\n",
       "    <tr>\n",
       "      <th>26</th>\n",
       "      <td>asked</td>\n",
       "      <td>29</td>\n",
       "    </tr>\n",
       "    <tr>\n",
       "      <th>177</th>\n",
       "      <td>do</td>\n",
       "      <td>28</td>\n",
       "    </tr>\n",
       "    <tr>\n",
       "      <th>180</th>\n",
       "      <td>doing</td>\n",
       "      <td>24</td>\n",
       "    </tr>\n",
       "    <tr>\n",
       "      <th>759</th>\n",
       "      <td>wants</td>\n",
       "      <td>23</td>\n",
       "    </tr>\n",
       "    <tr>\n",
       "      <th>75</th>\n",
       "      <td>called</td>\n",
       "      <td>22</td>\n",
       "    </tr>\n",
       "    <tr>\n",
       "      <th>264</th>\n",
       "      <td>found</td>\n",
       "      <td>21</td>\n",
       "    </tr>\n",
       "  </tbody>\n",
       "</table>\n",
       "</div>"
      ],
      "text/plain": [
       "        verb  obs\n",
       "293      had  146\n",
       "581     said   96\n",
       "284      got   60\n",
       "282    going   49\n",
       "297      has   48\n",
       "711     took   46\n",
       "519      put   44\n",
       "758   wanted   44\n",
       "402     made   37\n",
       "165      did   36\n",
       "710     told   35\n",
       "787    wrote   33\n",
       "299     have   32\n",
       "650  started   29\n",
       "26     asked   29\n",
       "177       do   28\n",
       "180    doing   24\n",
       "759    wants   23\n",
       "75    called   22\n",
       "264    found   21"
      ]
     },
     "execution_count": 7,
     "metadata": {},
     "output_type": "execute_result"
    }
   ],
   "source": [
    "m_he = svos_m[svos_m[\"subject\"] == \"he\"].groupby([\"verb\"]).size().reset_index(\n",
    "    name='obs').sort_values(['obs'], ascending=False).iloc[:20]\n",
    "m_he"
   ]
  },
  {
   "cell_type": "markdown",
   "metadata": {},
   "source": [
    "Below is my attempt to create a function that would return an appropriately named dataframe which was 20 rows long and contained the top 20 verbs for a given subject. It does not work in the `for` loop in the cell below. It returns the dataframe, but the name of the dataframe does not come along for the ride."
   ]
  },
  {
   "cell_type": "code",
   "execution_count": 71,
   "metadata": {},
   "outputs": [],
   "source": [
    "def verbCount(dataframe, prefix, subject, num_top_verbs):\n",
    "    # Create a unique name for the dataframe\n",
    "    name = (prefix+'_'+subject)\n",
    "    # Create the [temp] dataframe\n",
    "    name = dataframe[dataframe[\"subject\"] == subject].groupby(\n",
    "        [\"verb\"]).size().reset_index(name='obs').sort_values(\n",
    "        ['obs'], ascending=False).iloc[:num_top_verbs]\n",
    "    return name"
   ]
  },
  {
   "cell_type": "code",
   "execution_count": 73,
   "metadata": {},
   "outputs": [
    {
     "data": {
      "text/html": [
       "<div>\n",
       "<style scoped>\n",
       "    .dataframe tbody tr th:only-of-type {\n",
       "        vertical-align: middle;\n",
       "    }\n",
       "\n",
       "    .dataframe tbody tr th {\n",
       "        vertical-align: top;\n",
       "    }\n",
       "\n",
       "    .dataframe thead th {\n",
       "        text-align: right;\n",
       "    }\n",
       "</style>\n",
       "<table border=\"1\" class=\"dataframe\">\n",
       "  <thead>\n",
       "    <tr style=\"text-align: right;\">\n",
       "      <th></th>\n",
       "      <th>verb</th>\n",
       "      <th>obs</th>\n",
       "    </tr>\n",
       "  </thead>\n",
       "  <tbody>\n",
       "    <tr>\n",
       "      <th>126</th>\n",
       "      <td>had</td>\n",
       "      <td>57</td>\n",
       "    </tr>\n",
       "    <tr>\n",
       "      <th>243</th>\n",
       "      <td>said</td>\n",
       "      <td>32</td>\n",
       "    </tr>\n",
       "    <tr>\n",
       "      <th>129</th>\n",
       "      <td>has</td>\n",
       "      <td>25</td>\n",
       "    </tr>\n",
       "    <tr>\n",
       "      <th>74</th>\n",
       "      <td>did</td>\n",
       "      <td>19</td>\n",
       "    </tr>\n",
       "    <tr>\n",
       "      <th>119</th>\n",
       "      <td>going</td>\n",
       "      <td>19</td>\n",
       "    </tr>\n",
       "  </tbody>\n",
       "</table>\n",
       "</div>"
      ],
      "text/plain": [
       "      verb  obs\n",
       "126    had   57\n",
       "243   said   32\n",
       "129    has   25\n",
       "74     did   19\n",
       "119  going   19"
      ]
     },
     "execution_count": 73,
     "metadata": {},
     "output_type": "execute_result"
    }
   ],
   "source": [
    "m_she = verbCount(svos_m, \"m\", \"she\", 20)\n",
    "m_she.head()"
   ]
  },
  {
   "cell_type": "code",
   "execution_count": 10,
   "metadata": {},
   "outputs": [],
   "source": [
    "genderedSubjects = ['she', 'he', 'man', 'men', 'woman', 'women']\n",
    "for i in genderedSubjects:\n",
    "    verbCount(svos_w, \"w\", i, 20)"
   ]
  },
  {
   "cell_type": "markdown",
   "metadata": {},
   "source": [
    "The code above is not working: it is not creating a bunch of smaller dataframes, the following print statement reveals:\n",
    "```python\n",
    "print(w_man)\n",
    "```\n",
    "```\n",
    "NameError: name 'w_man' is not defined\n",
    "```\n",
    "\n",
    "But I also realized that this is not necessary. One could use the larger dataframe and filter things there or move the SVOS into a network and manipulate things there. (See section below.)"
   ]
  },
  {
   "cell_type": "markdown",
   "metadata": {},
   "source": [
    "## SVO Networks"
   ]
  },
  {
   "cell_type": "markdown",
   "metadata": {},
   "source": [
    "### A Small Test Network\n",
    "\n",
    "While we eventually might like to have a network of `subject > verb > object` for now, let's work with the `m_she` dataframe and build a network with sources, targets, and edge attributes."
   ]
  },
  {
   "cell_type": "code",
   "execution_count": 79,
   "metadata": {},
   "outputs": [
    {
     "data": {
      "text/plain": [
       "(20, 3)"
      ]
     },
     "execution_count": 79,
     "metadata": {},
     "output_type": "execute_result"
    }
   ],
   "source": [
    "# Re-insert a column for \"she\"\n",
    "m_she[\"subject\"] = \"she\"\n",
    "\n",
    "# Re-arrange columns so that they are in a more obvious order\n",
    "m_she = m_she[[\"subject\", \"verb\", \"obs\"]]\n",
    "\n",
    "m_she.shape"
   ]
  },
  {
   "cell_type": "code",
   "execution_count": 78,
   "metadata": {},
   "outputs": [],
   "source": [
    "# Create the graph\n",
    "# Reference: https://stackoverflow.com/questions/53937259/converting-a-pandas-dataframe-to-a-networkx-graph\n",
    "G = nx.from_pandas_edgelist(m_she, source='subject', target='verb', edge_attr=True)"
   ]
  },
  {
   "cell_type": "code",
   "execution_count": 80,
   "metadata": {
    "scrolled": true
   },
   "outputs": [
    {
     "data": {
      "image/png": "[encoded data removed]",
      "text/plain": [
       "<Figure size 432x288 with 1 Axes>"
      ]
     },
     "metadata": {},
     "output_type": "display_data"
    }
   ],
   "source": [
    "nx.draw_networkx(G)"
   ]
  },
  {
   "cell_type": "markdown",
   "metadata": {},
   "source": [
    "This is not a very clear graph, and, honestly, I think we would rather be able to choose the number of nodes at the network level rather than at the dataframe level: being able to adjust the network visualization is a real boon."
   ]
  },
  {
   "cell_type": "code",
   "execution_count": 83,
   "metadata": {},
   "outputs": [
    {
     "data": {
      "text/plain": [
       "EdgeDataView([('she', 'had', {'obs': 57}), ('she', 'said', {'obs': 32}), ('she', 'has', {'obs': 25}), ('she', 'did', {'obs': 19}), ('she', 'going', {'obs': 19}), ('she', 'told', {'obs': 17}), ('she', 'wanted', {'obs': 16}), ('she', 'started', {'obs': 15}), ('she', 'got', {'obs': 14}), ('she', 'took', {'obs': 13}), ('she', 'trying', {'obs': 11}), ('she', 'have', {'obs': 11}), ('she', 'doing', {'obs': 10}), ('she', 'found', {'obs': 10}), ('she', 'used', {'obs': 9}), ('she', 'made', {'obs': 9}), ('she', 'saw', {'obs': 9}), ('she', 'want', {'obs': 8}), ('she', 'wants', {'obs': 8}), ('she', 'asked', {'obs': 7})])"
      ]
     },
     "execution_count": 83,
     "metadata": {},
     "output_type": "execute_result"
    }
   ],
   "source": [
    "G.edges.data()"
   ]
  },
  {
   "cell_type": "markdown",
   "metadata": {},
   "source": [
    "## 3. Sankey Diagrams"
   ]
  },
  {
   "cell_type": "markdown",
   "metadata": {},
   "source": [
    "### pySankey\n",
    "\n",
    "pySankey is fairly straightforward to use, but it does not produce very appealing visuals. The [documentation](https://github.com/anazalea/pySankey/blob/master/pysankey/sankey.py) offers some possibilities, but I think we are better off going with the more well-known Plotly."
   ]
  },
  {
   "cell_type": "code",
   "execution_count": 52,
   "metadata": {},
   "outputs": [
    {
     "data": {
      "image/png": "[encoded data removed]",
      "text/plain": [
       "<Figure size 432x432 with 1 Axes>"
      ]
     },
     "metadata": {
      "needs_background": "light"
     },
     "output_type": "display_data"
    }
   ],
   "source": [
    "from pySankey.sankey import sankey\n",
    "\n",
    "# Filter the women speakers dataframe to she as subject\n",
    "w_she = svos_w[svos_w[\"subject\"] == \"she\"]\n",
    "\n",
    "# Grab the top 50 verbs following \"she\"\n",
    "verb_counts = w_she.groupby(\"verb\").size().reset_index(\n",
    "    name='obs').sort_values(['obs'], ascending=False).iloc[:50]\n",
    "\n",
    "# Re-insert a column for \"she\"\n",
    "verb_counts[\"subject\"] = \"she\"\n",
    "\n",
    "# Re-arrange columns so that they are in a more obvious order\n",
    "verb_counts = verb_counts[[\"subject\", \"verb\", \"obs\"]]\n",
    "\n",
    "# Check what it looks like\n",
    "# verb_counts.head()\n",
    "\n",
    "sankey(left=verb_counts['subject'], \n",
    "       right=verb_counts['verb'], \n",
    "       rightWeight=verb_counts['obs'],\n",
    "       aspect=20,\n",
    "       fontsize=12)"
   ]
  },
  {
   "cell_type": "markdown",
   "metadata": {},
   "source": [
    "### Plotly\n",
    "\n",
    "Ken Lok has a terrific [Sankey diagram generator](https://medium.com/kenlok/how-to-create-sankey-diagrams-from-dataframes-in-python-e221c1b4d6b0). It's here locally, so we're importing it."
   ]
  },
  {
   "cell_type": "code",
   "execution_count": 48,
   "metadata": {
    "scrolled": false
   },
   "outputs": [
    {
     "data": {
      "text/html": [
       "        <script type=\"text/javascript\">\n",
       "        window.PlotlyConfig = {MathJaxConfig: 'local'};\n",
       "        if (window.MathJax) {MathJax.Hub.Config({SVG: {font: \"STIX-Web\"}});}\n",
       "        if (typeof require !== 'undefined') {\n",
       "        require.undef(\"plotly\");\n",
       "        requirejs.config({\n",
       "            paths: {\n",
       "                'plotly': ['https://cdn.plot.ly/plotly-2.9.0.min']\n",
       "            }\n",
       "        });\n",
       "        require(['plotly'], function(Plotly) {\n",
       "            window._Plotly = Plotly;\n",
       "        });\n",
       "        }\n",
       "        </script>\n",
       "        "
      ]
     },
     "metadata": {},
     "output_type": "display_data"
    },
    {
     "data": {
      "application/vnd.plotly.v1+json": {
       "config": {
        "linkText": "Export to plot.ly",
        "plotlyServerURL": "https://plot.ly",
        "showLink": false
       },
       "data": [
        {
         "domain": {
          "x": [
           0,
           1
          ],
          "y": [
           0,
           1
          ]
         },
         "link": {
          "source": [
           "she",
           "she",
           "she",
           "she",
           "she",
           "she",
           "she",
           "she",
           "she",
           "she",
           "she",
           "she",
           "she",
           "she",
           "she",
           "she",
           "she",
           "she",
           "she",
           "she",
           "she",
           "she",
           "she",
           "she",
           "she",
           "she",
           "she",
           "she",
           "she",
           "she",
           "she",
           "she",
           "she",
           "she",
           "she",
           "she",
           "she",
           "she",
           "she",
           "she",
           "she",
           "she",
           "she",
           "she",
           "she",
           "she",
           "she",
           "she",
           "she",
           "she"
          ],
          "target": [
           "had",
           "has",
           "said",
           "told",
           "going",
           "have",
           "doing",
           "loves",
           "started",
           "do",
           "goes",
           "got",
           "brought",
           "gets",
           "gave",
           "took",
           "does",
           "did",
           "get",
           "done",
           "made",
           "wants",
           "wanted",
           "saw",
           "sees",
           "saved",
           "called",
           "asked",
           "takes",
           "sells",
           "learned",
           "says",
           "put",
           "leave",
           "take",
           "went",
           "miss",
           "turned",
           "makes",
           "feeds",
           "find",
           "taught",
           "make",
           "spent",
           "like",
           "created",
           "gon",
           "looked",
           "see",
           "remember"
          ],
          "value": [
           30,
           22,
           22,
           15,
           10,
           9,
           9,
           7,
           7,
           7,
           7,
           6,
           6,
           6,
           6,
           6,
           6,
           6,
           6,
           5,
           5,
           5,
           5,
           5,
           5,
           4,
           4,
           4,
           4,
           4,
           4,
           4,
           4,
           3,
           3,
           3,
           3,
           3,
           3,
           3,
           3,
           3,
           3,
           3,
           3,
           3,
           3,
           3,
           3,
           3
          ]
         },
         "node": {
          "label": [
           "she",
           "she",
           "she",
           "she",
           "she",
           "she",
           "she",
           "she",
           "she",
           "she",
           "she",
           "she",
           "she",
           "she",
           "she",
           "she",
           "she",
           "she",
           "she",
           "she",
           "she",
           "she",
           "she",
           "she",
           "she",
           "she",
           "she",
           "she",
           "she",
           "she",
           "she",
           "she",
           "she",
           "she",
           "she",
           "she",
           "she",
           "she",
           "she",
           "she",
           "she",
           "she",
           "she",
           "she",
           "she",
           "she",
           "she",
           "she",
           "she",
           "she"
          ],
          "line": {
           "color": "black",
           "width": 0
          },
          "pad": 10,
          "thickness": 30
         },
         "orientation": "h",
         "type": "sankey",
         "valueformat": ".0f"
        }
       ],
       "layout": {
        "font": {
         "size": 10
        },
        "height": 772,
        "title": "Scottish Referendum Voters who now want Independence"
       }
      },
      "text/html": [
       "<div>                            <div id=\"59a61c01-3f08-4536-a0ff-ce483e42d6b1\" class=\"plotly-graph-div\" style=\"height:772px; width:100%;\"></div>            <script type=\"text/javascript\">                require([\"plotly\"], function(Plotly) {                    window.PLOTLYENV=window.PLOTLYENV || {};                                    if (document.getElementById(\"59a61c01-3f08-4536-a0ff-ce483e42d6b1\")) {                    Plotly.newPlot(                        \"59a61c01-3f08-4536-a0ff-ce483e42d6b1\",                        [{\"type\":\"sankey\",\"domain\":{\"x\":[0,1],\"y\":[0,1]},\"orientation\":\"h\",\"valueformat\":\".0f\",\"node\":{\"pad\":10,\"thickness\":30,\"line\":{\"color\":\"black\",\"width\":0},\"label\":[\"she\",\"she\",\"she\",\"she\",\"she\",\"she\",\"she\",\"she\",\"she\",\"she\",\"she\",\"she\",\"she\",\"she\",\"she\",\"she\",\"she\",\"she\",\"she\",\"she\",\"she\",\"she\",\"she\",\"she\",\"she\",\"she\",\"she\",\"she\",\"she\",\"she\",\"she\",\"she\",\"she\",\"she\",\"she\",\"she\",\"she\",\"she\",\"she\",\"she\",\"she\",\"she\",\"she\",\"she\",\"she\",\"she\",\"she\",\"she\",\"she\",\"she\"]},\"link\":{\"source\":[\"she\",\"she\",\"she\",\"she\",\"she\",\"she\",\"she\",\"she\",\"she\",\"she\",\"she\",\"she\",\"she\",\"she\",\"she\",\"she\",\"she\",\"she\",\"she\",\"she\",\"she\",\"she\",\"she\",\"she\",\"she\",\"she\",\"she\",\"she\",\"she\",\"she\",\"she\",\"she\",\"she\",\"she\",\"she\",\"she\",\"she\",\"she\",\"she\",\"she\",\"she\",\"she\",\"she\",\"she\",\"she\",\"she\",\"she\",\"she\",\"she\",\"she\"],\"target\":[\"had\",\"has\",\"said\",\"told\",\"going\",\"have\",\"doing\",\"loves\",\"started\",\"do\",\"goes\",\"got\",\"brought\",\"gets\",\"gave\",\"took\",\"does\",\"did\",\"get\",\"done\",\"made\",\"wants\",\"wanted\",\"saw\",\"sees\",\"saved\",\"called\",\"asked\",\"takes\",\"sells\",\"learned\",\"says\",\"put\",\"leave\",\"take\",\"went\",\"miss\",\"turned\",\"makes\",\"feeds\",\"find\",\"taught\",\"make\",\"spent\",\"like\",\"created\",\"gon\",\"looked\",\"see\",\"remember\"],\"value\":[30,22,22,15,10,9,9,7,7,7,7,6,6,6,6,6,6,6,6,5,5,5,5,5,5,4,4,4,4,4,4,4,4,3,3,3,3,3,3,3,3,3,3,3,3,3,3,3,3,3]}}],                        {\"title\":\"Scottish Referendum Voters who now want Independence\",\"height\":772,\"font\":{\"size\":10}},                        {\"responsive\": true}                    ).then(function(){\n",
       "                            \n",
       "var gd = document.getElementById('59a61c01-3f08-4536-a0ff-ce483e42d6b1');\n",
       "var x = new MutationObserver(function (mutations, observer) {{\n",
       "        var display = window.getComputedStyle(gd).display;\n",
       "        if (!display || display === 'none') {{\n",
       "            console.log([gd, 'removed!']);\n",
       "            Plotly.purge(gd);\n",
       "            observer.disconnect();\n",
       "        }}\n",
       "}});\n",
       "\n",
       "// Listen for the removal of the full notebook cells\n",
       "var notebookContainer = gd.closest('#notebook-container');\n",
       "if (notebookContainer) {{\n",
       "    x.observe(notebookContainer, {childList: true});\n",
       "}}\n",
       "\n",
       "// Listen for the clearing of the current output cell\n",
       "var outputEl = gd.closest('.output');\n",
       "if (outputEl) {{\n",
       "    x.observe(outputEl, {childList: true});\n",
       "}}\n",
       "\n",
       "                        })                };                });            </script>        </div>"
      ]
     },
     "metadata": {},
     "output_type": "display_data"
    }
   ],
   "source": [
    "import pandas as pd\n",
    "import numpy as np\n",
    "import plotly.graph_objs as go\n",
    "from plotly.offline import download_plotlyjs, init_notebook_mode, plot, iplot\n",
    "init_notebook_mode(connected=True)\n",
    "\n",
    "#============================\n",
    "# These are the lists that will populate the dataframe\n",
    "# nodes = [\n",
    "#     ['ID', 'Label'],\n",
    "#     [0,'Remain+No – 28'],\n",
    "#     [1,'Leave+No – 16'],\n",
    "#     [2,'Remain+Yes – 21'],\n",
    "#     [3,'Leave+Yes – 14'],\n",
    "#     [4,'Didn’t vote in at least one referendum – 21'],\n",
    "#     [5,'46 – No']\n",
    "# ]\n",
    "# links = [\n",
    "#     ['Source','Target','Value'],\n",
    "#     [0,3,20],\n",
    "#     [0,4,3],\n",
    "#     [0,2,5],\n",
    "#     [1,5,14],\n",
    "#     [1,3,1],\n",
    "#     [1,4,1],\n",
    "#     [1,2,10],\n",
    "#     [1,3,5],\n",
    "#     [1,5,12]\n",
    "# ]\n",
    "\n",
    "# # Converting to dataframe\n",
    "# nodes_headers = nodes.pop(0)\n",
    "# nodes_df = pd.DataFrame(nodes, columns = nodes_headers)\n",
    "# links_headers = links.pop(0)\n",
    "# links_df = pd.DataFrame(links, columns = links_headers)\n",
    "#===========================\n",
    "\n",
    "data_trace = dict(\n",
    "    type='sankey',\n",
    "    domain = dict(\n",
    "      x =  [0,1],\n",
    "      y =  [0,1]\n",
    "    ),\n",
    "    orientation = \"h\",\n",
    "    valueformat = \".0f\",\n",
    "    node = dict(\n",
    "      pad = 10,\n",
    "      thickness = 30,\n",
    "      line = dict(\n",
    "        color = \"black\",\n",
    "        width = 0\n",
    "      ),\n",
    "      label =  verb_counts['subject'].dropna(axis=0, how='any')\n",
    "    ),\n",
    "    link = dict(\n",
    "      source = verb_counts['subject'].dropna(axis=0, how='any'),\n",
    "      target = verb_counts['verb'].dropna(axis=0, how='any'),\n",
    "      value = verb_counts['obs'].dropna(axis=0, how='any'),\n",
    "    )\n",
    ")\n",
    "\n",
    "layout =  dict(\n",
    "    title = \"Scottish Referendum Voters who now want Independence\",\n",
    "    height = 772,\n",
    "    font = dict(\n",
    "      size = 10\n",
    "    ),    \n",
    ")\n",
    "\n",
    "fig = dict(data=[data_trace], layout=layout)\n",
    "iplot(fig, validate=False)"
   ]
  },
  {
   "cell_type": "code",
   "execution_count": null,
   "metadata": {},
   "outputs": [],
   "source": [
    "import pandas as pd\n",
    "import numpy as np\n",
    "import plotly.graph_objs as go\n",
    "from plotly.offline import download_plotlyjs, init_notebook_mode, plot, iplot\n",
    "init_notebook_mode(connected=True)\n",
    "\n",
    "nodes = [\n",
    "    ['ID', 'Label', 'Color'],\n",
    "    [0,'Remain+No – 28','#F27420'],\n",
    "    [1,'Leave+No – 16','#4994CE'],\n",
    "    [2,'Remain+Yes – 21','#FABC13'],\n",
    "    [3,'Leave+Yes – 14','#7FC241'],\n",
    "    [4,'Didn’t vote in at least one referendum – 21','#D3D3D3'],\n",
    "    [5,'46 – No','#8A5988']\n",
    "]\n",
    "links = [\n",
    "    ['Source','Target','Value','Link Color'],\n",
    "    [0,3,20,'rgba(253, 227, 212, 0.5)'],\n",
    "    [0,4,3,'rgba(242, 116, 32, 1)'],\n",
    "    [0,2,5,'rgba(253, 227, 212, 0.5)'],\n",
    "    [1,5,14,'rgba(219, 233, 246, 0.5)'],\n",
    "    [1,3,1,'rgba(73, 148, 206, 1)'],\n",
    "    [1,4,1,'rgba(219, 233, 246,0.5)'],\n",
    "    [1,2,10,'rgba(8, 233, 246,0.5)'],\n",
    "    [1,3,5,'rgba(219, 77, 246,0.5)'],\n",
    "    [1,5,12,'rgba(219, 4, 246,0.5)']\n",
    "]\n",
    "\n",
    "nodes_headers = nodes.pop(0)\n",
    "nodes_df = pd.DataFrame(nodes, columns = nodes_headers)\n",
    "links_headers = links.pop(0)\n",
    "links_df = pd.DataFrame(links, columns = links_headers)\n",
    "\n",
    "data_trace = dict(\n",
    "    type='sankey',\n",
    "    domain = dict(\n",
    "      x =  [0,1],\n",
    "      y =  [0,1]\n",
    "    ),\n",
    "    orientation = \"h\",\n",
    "    valueformat = \".0f\",\n",
    "    node = dict(\n",
    "      pad = 10,\n",
    "      thickness = 30,\n",
    "      line = dict(\n",
    "        color = \"black\",\n",
    "        width = 0\n",
    "      ),\n",
    "      label =  nodes_df['Label'].dropna(axis=0, how='any'),\n",
    "      color = nodes_df['Color']\n",
    "    ),\n",
    "    link = dict(\n",
    "      source = links_df['Source'].dropna(axis=0, how='any'),\n",
    "      target = links_df['Target'].dropna(axis=0, how='any'),\n",
    "      value = links_df['Value'].dropna(axis=0, how='any'),\n",
    "      color = links_df['Link Color'].dropna(axis=0, how='any'),\n",
    "  )\n",
    ")\n",
    "\n",
    "layout =  dict(\n",
    "    title = \"Scottish Referendum Voters who now want Independence\",\n",
    "    height = 772,\n",
    "    font = dict(\n",
    "      size = 10\n",
    "    ),    \n",
    ")\n",
    "\n",
    "fig = dict(data=[data_trace], layout=layout)\n",
    "iplot(fig, validate=False)"
   ]
  }
 ],
 "metadata": {
  "interpreter": {
   "hash": "14a02b88778d8fb8b6aeb4ad427a942bc53dfcda9d7e3737237788289e0d2d23"
  },
  "kernelspec": {
   "display_name": "Python 3 (ipykernel)",
   "language": "python",
   "name": "python3"
  },
  "language_info": {
   "codemirror_mode": {
    "name": "ipython",
    "version": 3
   },
   "file_extension": ".py",
   "mimetype": "text/x-python",
   "name": "python",
   "nbconvert_exporter": "python",
   "pygments_lexer": "ipython3",
   "version": "3.7.11"
  },
  "toc": {
   "base_numbering": 1,
   "nav_menu": {},
   "number_sections": true,
   "sideBar": true,
   "skip_h1_title": true,
   "title_cell": "",
   "title_sidebar": "Contents",
   "toc_cell": true,
   "toc_position": 2,
   "toc_section_display": true,
   "toc_window_display": false
  }
 },
 "nbformat": 4,
 "nbformat_minor": 2
}
