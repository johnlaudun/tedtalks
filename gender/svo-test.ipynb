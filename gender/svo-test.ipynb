{
 "cells": [
  {
   "cell_type": "code",
   "execution_count": 11,
   "id": "7b133605-f4ac-4b74-951c-cf4c37acbedc",
   "metadata": {},
   "outputs": [],
   "source": [
    "import pandas as pd\n",
    "import textacy\n",
    "import spacy\n",
    "\n",
    "nlp = spacy.load('en_core_web_sm')"
   ]
  },
  {
   "cell_type": "code",
   "execution_count": 87,
   "id": "5ed80857-a33f-4583-b3f1-f651d25d828e",
   "metadata": {},
   "outputs": [],
   "source": [
    "data = {\n",
    "    'sentence': [\n",
    "        'Thank you so much, Chris.',\n",
    "        \"And it's truly a great honor to be here.\",\n",
    "        'I have been blown away by this conference.',\n",
    "        'And I say that sincerely.'\n",
    "    ]\n",
    "}\n",
    "\n",
    "df = pd.DataFrame(data)"
   ]
  },
  {
   "cell_type": "code",
   "execution_count": 88,
   "id": "d3fce048-f4cb-4e90-9c4f-e0d26bd93a9b",
   "metadata": {},
   "outputs": [
    {
     "name": "stdout",
     "output_type": "stream",
     "text": [
      "('', '', '')\n"
     ]
    }
   ],
   "source": [
    "def svo(text):\n",
    "    svo = list(textacy.extract.triples.subject_verb_object_triples(nlp(text)))\n",
    "    if not svo:\n",
    "        s = ''\n",
    "        v = ''\n",
    "        o = ''\n",
    "    else:\n",
    "        s = str(svo[0][0]).strip(\"[]\")\n",
    "        v = str(svo[0][1][-1]).strip(\"[]\")\n",
    "        o = str(svo[0][2]).strip(\"[]\")\n",
    "    return s, v, o\n",
    "\n",
    "text = 'Thank you so much, Chris.'\n",
    "print(svo(text))"
   ]
  },
  {
   "cell_type": "code",
   "execution_count": 89,
   "id": "cba9d79d-1ceb-4e30-8d66-1e55babdc692",
   "metadata": {},
   "outputs": [
    {
     "name": "stdout",
     "output_type": "stream",
     "text": [
      "                                     sentence subject   verb      object\n",
      "0                   Thank you so much, Chris.                           \n",
      "1    And it's truly a great honor to be here.                           \n",
      "2  I have been blown away by this conference.       I  blown  conference\n",
      "3                   And I say that sincerely.       I    say        that\n"
     ]
    }
   ],
   "source": [
    "df[['subject','verb','object']] = df['sentence'].apply(svo).apply(pd.Series)\n",
    "# .apply(lambda x: svo(x))\n",
    "\n",
    "print(df)"
   ]
  },
  {
   "cell_type": "code",
   "execution_count": 77,
   "id": "bdb82c83-80c6-4ade-871f-84660fa8be42",
   "metadata": {},
   "outputs": [
    {
     "ename": "IndexError",
     "evalue": "list index out of range",
     "output_type": "error",
     "traceback": [
      "\u001b[0;31m---------------------------------------------------------------------------\u001b[0m",
      "\u001b[0;31mIndexError\u001b[0m                                Traceback (most recent call last)",
      "Cell \u001b[0;32mIn[77], line 18\u001b[0m\n\u001b[1;32m     15\u001b[0m     \u001b[38;5;28;01mreturn\u001b[39;00m s, v, o\n\u001b[1;32m     17\u001b[0m text \u001b[38;5;241m=\u001b[39m \u001b[38;5;124m'\u001b[39m\u001b[38;5;124mAnd it\u001b[39m\u001b[38;5;130;01m\\'\u001b[39;00m\u001b[38;5;124ms truly a great honor to be here.\u001b[39m\u001b[38;5;124m'\u001b[39m\n\u001b[0;32m---> 18\u001b[0m \u001b[38;5;28mprint\u001b[39m(\u001b[43msvo\u001b[49m\u001b[43m(\u001b[49m\u001b[43mtext\u001b[49m\u001b[43m)\u001b[49m)\n",
      "Cell \u001b[0;32mIn[77], line 3\u001b[0m, in \u001b[0;36msvo\u001b[0;34m(text)\u001b[0m\n\u001b[1;32m      1\u001b[0m \u001b[38;5;28;01mdef\u001b[39;00m \u001b[38;5;21msvo\u001b[39m(text):\n\u001b[1;32m      2\u001b[0m     svo \u001b[38;5;241m=\u001b[39m \u001b[38;5;28mlist\u001b[39m(textacy\u001b[38;5;241m.\u001b[39mextract\u001b[38;5;241m.\u001b[39mtriples\u001b[38;5;241m.\u001b[39msubject_verb_object_triples(nlp(text)))\n\u001b[0;32m----> 3\u001b[0m     \u001b[38;5;28;01mif\u001b[39;00m \u001b[38;5;28mlen\u001b[39m(\u001b[38;5;28mstr\u001b[39m(\u001b[43msvo\u001b[49m\u001b[43m[\u001b[49m\u001b[38;5;241;43m0\u001b[39;49m\u001b[43m]\u001b[49m[\u001b[38;5;241m0\u001b[39m])\u001b[38;5;241m.\u001b[39mstrip(\u001b[38;5;124m\"\u001b[39m\u001b[38;5;124m[]\u001b[39m\u001b[38;5;124m\"\u001b[39m)) \u001b[38;5;241m>\u001b[39m \u001b[38;5;241m0\u001b[39m:\n\u001b[1;32m      4\u001b[0m         s \u001b[38;5;241m=\u001b[39m \u001b[38;5;28mstr\u001b[39m(svo[\u001b[38;5;241m0\u001b[39m][\u001b[38;5;241m0\u001b[39m])\u001b[38;5;241m.\u001b[39mstrip(\u001b[38;5;124m\"\u001b[39m\u001b[38;5;124m[]\u001b[39m\u001b[38;5;124m\"\u001b[39m)\n\u001b[1;32m      5\u001b[0m     \u001b[38;5;28;01melse\u001b[39;00m:\n",
      "\u001b[0;31mIndexError\u001b[0m: list index out of range"
     ]
    }
   ],
   "source": [
    "def svo(text):\n",
    "    svo = list(textacy.extract.triples.subject_verb_object_triples(nlp(text)))\n",
    "    if len(str(svo[0][0]).strip(\"[]\")) > 0:\n",
    "        s = str(svo[0][0]).strip(\"[]\")\n",
    "    else:\n",
    "        s=\"\"\n",
    "    if len(str(svo[0][1][-1]).strip(\"[]\")) > 0:\n",
    "        v = str(svo[0][1][-1]).strip(\"[]\")\n",
    "    else:\n",
    "        v=\"\"\n",
    "    if len(str(svo[0][2]).strip(\"[]\")) > 0:\n",
    "        o = str(svo[0][2]).strip(\"[]\")\n",
    "    else:\n",
    "        o = \"\"\n",
    "    return s, v, o\n",
    "\n",
    "text = 'And it\\'s truly a great honor to be here.'\n",
    "print(svo(text))"
   ]
  },
  {
   "cell_type": "code",
   "execution_count": 79,
   "id": "009f51d6-5b8b-4e8b-9f09-14a8ed1d7ca0",
   "metadata": {},
   "outputs": [
    {
     "name": "stdout",
     "output_type": "stream",
     "text": [
      "('', '', '')\n"
     ]
    }
   ],
   "source": [
    "def svo(text):\n",
    "    svo = list(textacy.extract.triples.subject_verb_object_triples(nlp(text)))\n",
    "    if not svo:\n",
    "        s = ''\n",
    "        v = ''\n",
    "        o = ''\n",
    "    else:\n",
    "        s = str(svo[0][0]).strip(\"[]\")\n",
    "        v = str(svo[0][1][-1]).strip(\"[]\")\n",
    "        o = str(svo[0][2]).strip(\"[]\")\n",
    "    return s, v, o\n",
    "\n",
    "text = 'Thank you so much, Chris.'\n",
    "print(svo(text))"
   ]
  },
  {
   "cell_type": "code",
   "execution_count": 83,
   "id": "fcf4cb4d-77f3-4065-9dff-6a017d39153c",
   "metadata": {},
   "outputs": [
    {
     "name": "stdout",
     "output_type": "stream",
     "text": [
      "('I', 'blown', 'conference')\n"
     ]
    }
   ],
   "source": [
    "text = 'I have been blown away by this conference.'\n",
    "print(svo(text))"
   ]
  },
  {
   "cell_type": "code",
   "execution_count": null,
   "id": "f15befca-0ff8-4363-80dd-60cf4e2697ed",
   "metadata": {},
   "outputs": [],
   "source": []
  }
 ],
 "metadata": {
  "kernelspec": {
   "display_name": "Python 3 (ipykernel)",
   "language": "python",
   "name": "python3"
  },
  "language_info": {
   "codemirror_mode": {
    "name": "ipython",
    "version": 3
   },
   "file_extension": ".py",
   "mimetype": "text/x-python",
   "name": "python",
   "nbconvert_exporter": "python",
   "pygments_lexer": "ipython3",
   "version": "3.10.11"
  }
 },
 "nbformat": 4,
 "nbformat_minor": 5
}
