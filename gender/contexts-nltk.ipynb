{
 "cells": [
  {
   "attachments": {},
   "cell_type": "markdown",
   "metadata": {},
   "source": [
    "# NLTK Contexts\n",
    "Using NLTK's `concordance` functionality we can explore all a word's contexts in the conventional KWiC format -- there is also code here for those interested in lemmatizing words before generating an NLTK `text`.\n",
    "\n",
    "**Nota bene**: *To change display results, the contents of the concordance method are: `(\"word\", window width, lines=#[25, all])`. The `window width` is an integer specifying the number of characters to the left and right of a word to display. The default for `lines` is 25, but it can be set to any integer or to `all` (no quotation marks).*"
   ]
  },
  {
   "cell_type": "code",
   "execution_count": 1,
   "metadata": {},
   "outputs": [],
   "source": [
    "import nltk, pandas as pd\n",
    "\n",
    "# Load from the gendered corpora\n",
    "talks_m = pd.read_csv('../output/talks_male.csv', index_col='Talk_ID')\n",
    "talks_f = pd.read_csv('../output/talks_female.csv', index_col='Talk_ID')\n",
    "talks_nog = pd.read_csv('../output/talks_nog.csv', index_col='Talk_ID')\n",
    "\n",
    "# Create gendered NLTK \"Texts\"\n",
    "words_w = nltk.word_tokenize(\" \".join(talks_f.text.tolist()))\n",
    "women = nltk.Text(words_w)\n",
    "words_m = nltk.word_tokenize(\" \".join(talks_m.text.tolist()))\n",
    "men = nltk.Text(words_m)"
   ]
  },
  {
   "cell_type": "code",
   "execution_count": 4,
   "metadata": {},
   "outputs": [
    {
     "name": "stdout",
     "output_type": "stream",
     "text": [
      "Displaying 45 of 45 matches:\n",
      ", because the Lamanites were able to kill all the Nephites . All but one guy ,\n",
      "ifice , that 's revenge ! ] [ If you kill , there 's no difference between vic\n",
      "now — I put this in today — he would kill me . But the thing was , my friends \n",
      "s public audience . And I started to kill my blog slowly . I 'm like , I do n'\n",
      " would you stroke my vagina , '' you kill the act right there . ( Laughter ) I\n",
      " thank you , '' you certainly do n't kill yourself or slip into a clinical dep\n",
      "people who are rejected in love will kill for it . People live for love . They\n",
      "for it . People live for love . They kill for love . They die for love . They \n",
      "ble . They want to commit suicide or kill somebody else . I would recommend it\n",
      "ress the dopamine circuit , but they kill the sex drive . And when you kill th\n",
      "ey kill the sex drive . And when you kill the sex drive , you kill orgasm . An\n",
      "nd when you kill the sex drive , you kill orgasm . And when you kill orgasm , \n",
      "ive , you kill orgasm . And when you kill orgasm , you kill that flood of drug\n",
      "asm . And when you kill orgasm , you kill that flood of drugs associated with \n",
      "xins , or with radiation , trying to kill it . It 's almost as if we 're getti\n",
      "ere are very few other diseases that kill people , we can really attribute tha\n",
      "The husband , furious , threatens to kill the American . Jenny is horrified at\n",
      "y , because they 're not supposed to kill anything . And they also have to mak\n",
      "lly , life forms produce things that kill themselves . Well , we did pull thro\n",
      " replicator , is dangerous enough to kill people off ? Well , we did pull thro\n",
      "for love , they live for love , they kill for love , and they die for love . A\n",
      "r fast asleep , because I knew he 'd kill me if I let her go by herself , and \n",
      " planet . Many of them are trying to kill us from the minute we go into them ,\n",
      "and 30 parts per million of H2S will kill you . This is regularly several hund\n",
      "id the humiliation of rejection will kill you ? Are n't you afraid that you 'r\n",
      "ishing nets , gear that continues to kill . We 're clogging the ocean , poison\n",
      "part of our life support system . We kill using long lines , with baited hooks\n",
      "e all of the antibiotics that we use kill bacteria . They either pop the bacte\n",
      " so it ca n't replicate its DNA . We kill bacteria with traditional antibiotic\n",
      " a disease that 's going to possibly kill me 10 years from now , or I could us\n",
      "e mortality . We already know how to kill malaria , but some people come to yo\n",
      " . They are not beautiful and do n't kill anybody . And yet , when the young g\n",
      "s are real , freight trains maim and kill , and anyone who has lived on the st\n",
      "ce providers and had them physically kill the switch on the country 's connect\n",
      "basically , like , the more cops you kill , the more points you get , and stuf\n",
      "uff with them , but you can , like , kill them and take your money back . Yeah\n",
      "ections such as the one Joe had will kill people once again . In fact , they a\n",
      " . If you knew that any injury could kill you , would you ride a motorcycle , \n",
      " to die there . I was just like , `` Kill me now . I 'm good . This is beautif\n",
      "continue telling my jokes , they 'll kill me and they 'll kill my family . And\n",
      "okes , they 'll kill me and they 'll kill my family . And those death threats \n",
      "hing you have to recover from . They kill as many people as not . They will hu\n",
      "t crushing moment where he wanted to kill my new little life form , I realized\n",
      "My goal is not to find technology to kill the new microscopic life around us .\n",
      "l antibiotics , antibiotics that can kill the world 's worst superbugs . This \n"
     ]
    }
   ],
   "source": [
    "women.concordance('kill', lines=50)"
   ]
  },
  {
   "cell_type": "code",
   "execution_count": 6,
   "metadata": {},
   "outputs": [
    {
     "name": "stdout",
     "output_type": "stream",
     "text": [
      "Displaying 50 of 128 matches:\n",
      "omebody else says , `` I 'm going to kill people to do it . '' They 're trying\n",
      "s way ; shoot ; and you 're bound to kill something . So , this is the promise\n",
      "hem might carry a disease that could kill you , for which you had no antiviral\n",
      "iseases is to find them early and to kill them before they spread . So , my TE\n",
      "ings tried , and when they crash and kill the pilot , do n't try that again . \n",
      "an delay technology , but you ca n't kill it . So this makes sense , because i\n",
      "eart and blood vessel diseases still kill more people — not only in this count\n",
      " they discovered there was a plot to kill him , they dressed him up like a beg\n",
      "n't , you know , get the army out to kill terrorists . So I 'm not really worr\n",
      "s death genes that have to go in and kill cell reproduction . You know , that \n",
      "t 200 times the radiation that would kill you . And by now you should be getti\n",
      "xample , which reserves the right to kill , the right to be duplicitous and so\n",
      "on the question , `` Did an asteroid kill the dinosaurs ? '' And the first pap\n",
      "gabe , like Kim Jong-Il — people who kill in hundreds of thousands or millions\n",
      "at 's not our problem now . They can kill three million in Chicago tomorrow an\n",
      " want to dig a hole and they want to kill something . ( Laughter ) I do n't wa\n",
      "e Marines are going to come over and kill you . ( Laughter ) ( Applause ) Depa\n",
      " these are the guys who are going to kill them first . So it 's better off to \n",
      " the women alive ? Now , therefore , kill every male among the little ones and\n",
      "every male among the little ones and kill every woman that hath known man by l\n",
      "r yourselves . ' '' In other words , kill the men ; kill the children ; if you\n",
      "' '' In other words , kill the men ; kill the children ; if you see any virgin\n",
      "hinking , `` I do n't really want to kill that guy , but he 's about to kill m\n",
      "o kill that guy , but he 's about to kill me . Maybe I had better shoot him , \n",
      " since , even if he does n't want to kill me , he 's probably worrying right n\n",
      "ably worrying right now that I might kill him before he kills me . '' And so o\n",
      "rn that creates its own pesticide to kill a corn borer . You may of heard of i\n",
      "do , we need to recognize you ca n't kill the instinct the technology produces\n",
      "we wanted to do that , we 'd have to kill a stuntman . ( Laughter ) It would b\n",
      "ain that he 's going to use later to kill him , as bad guys do . ( Video ) Bro\n",
      "NASA had no interest ; they tried to kill the project . The people who support\n",
      "ome , we digested it with enzymes to kill all the proteins , and it was pretty\n",
      " entomopathogenic fungi — fungi that kill insects . Our house was being destro\n",
      "ium species of a group of fungi that kill carpenter ants , as well as termites\n",
      "we ought to eradicate these things , kill them , because they 're making a mes\n",
      "s . And in return , we just tried to kill them all the time . ( Laughter ) And\n",
      "r to delay — until Act Five , he can kill him . It 's the same with the Chopin\n",
      "azy , do n't do that , you 're going kill the guy . ( Laughter ) And he wanted\n",
      "ding up to men with guns who want to kill us ? All through that one year , my \n",
      "agrarian community , somebody had to kill the animals , there was no Whole Foo\n",
      " I turned 13 , it was my turn now to kill a goat . And I was this weird , sens\n",
      "a child 's eyes . So when I tried to kill this goat and I could n't , Emmanuel\n",
      "n't have to look into them , while I kill the goat . It did n't seem like a lo\n",
      "his effect : `` we have the right to kill four million Americans , two million\n",
      "ange their appearance ? 15 . Do they kill , torture , mutilate ? 13 . If they \n",
      "ce , 12 of 13 — that 's 90 percent — kill , torture , mutilate . And that 's t\n",
      "in hiding , because people wanted to kill him , and then his mother and his wi\n",
      "rive a nine-second quarter mile , or kill a man . I know I can . Unlike any po\n",
      "he Ten Commandments : Thou shalt not kill . That 's a , kind of a one-on-one t\n",
      "rom forming the tangles that seem to kill large sections of the brain when the\n"
     ]
    }
   ],
   "source": [
    "men.concordance('kill', lines=50)"
   ]
  },
  {
   "cell_type": "markdown",
   "metadata": {},
   "source": [
    "This attempts to match on the noun and verb but it just treats them as two words in a sentence. \n",
    "\n",
    "WARNING: Tense and conjugation matter here."
   ]
  },
  {
   "cell_type": "code",
   "execution_count": 10,
   "metadata": {},
   "outputs": [],
   "source": [
    "# nltk.download('punkt')  # Download the necessary tokenizer data\n",
    "\n",
    "def find_sentences(text, noun, verb):\n",
    "    sentences = nltk.sent_tokenize(text)\n",
    "    matching_sentences = []\n",
    "    for sentence in sentences:\n",
    "        if (noun in sentence.split()) and (verb in sentence.split()):\n",
    "            matching_sentences.append(sentence)\n",
    "    return matching_sentences"
   ]
  },
  {
   "cell_type": "code",
   "execution_count": 11,
   "metadata": {
    "scrolled": true
   },
   "outputs": [],
   "source": [
    "w_he_turn = find_sentences(texts_w, \"he\", \"turn\")"
   ]
  },
  {
   "cell_type": "code",
   "execution_count": 12,
   "metadata": {},
   "outputs": [
    {
     "name": "stdout",
     "output_type": "stream",
     "text": [
      "1\n",
      "['and there\\'d be that sound in the signal — it\\'s like (screeching) — and he thought, \"oh, what if i could control that sound and turn it into an instrument, because there are pitches in it.\"']\n"
     ]
    }
   ],
   "source": [
    "print(len(w_he_turn))\n",
    "print(w_he_turn[0:20])"
   ]
  },
  {
   "cell_type": "code",
   "execution_count": 21,
   "metadata": {},
   "outputs": [],
   "source": [
    "m_i_think = find_sentences(texts_m, \"i\", \"think\")"
   ]
  },
  {
   "cell_type": "code",
   "execution_count": 23,
   "metadata": {},
   "outputs": [
    {
     "name": "stdout",
     "output_type": "stream",
     "text": [
      "1914\n",
      "[\"i don't think you understand.\", 'i think your phone lines are unmanned.', 'and the truth is, for years i was a little depressed, because americans obviously did not value it, because the mac had three percent market share, windows had 95 percent market share — people did not think it was worth putting a price on it.', 'so i have a big interest in education, and i think we all do.', \"and she's exceptional, but i think she's not, so to speak, exceptional in the whole of childhood.\", 'we were sitting there and i think they just went out of sequence, because we talked to the little boy afterward and we said, \"you ok with that?\"', 'i think this is rather important.', 'i think math is very important, but so is dance.', \"i think you'd have to conclude, if you look at the output, who really succeeds by this, who does everything that they should, who gets all the brownie points, who are the winners — i think you'd have to conclude the whole purpose of public education throughout the world is to produce university professors.\", \"and i think we can't afford to go on that way.\", \"i think now they'd say she had adhd.\", '(applause)    what i think it comes to is this: al gore spoke the other night about ecology and the revolution that was triggered by rachel carson.', 'because my students, what they said when they looked upon the world, and i asked them, \"what do you really think about the world?\"', \"if we don't look in the data, i think we all underestimate the tremendous change in asia, which was in social change before we saw the economical change.\", \"(laughter)    but i think it's very important to have all this information.\", \"often that's what people think i do, and it's the furthest thing from it.\", \"and i think what's important is, when we first unveiled the building, the public saw it as being totally about our whim and ego.\", \"but let's see if i can very quickly get into the book spiral, because i think it's, as i said, the most — this is the main reading room — the most unique part of the building.\", \"not in my wildest dreams did i think — i don't even consider myself to be an author.\", \"and i think it's because spiritual emptiness is a universal disease.\"]\n"
     ]
    }
   ],
   "source": [
    "print(len(m_i_think))\n",
    "print(m_i_think[0:20])"
   ]
  },
  {
   "cell_type": "markdown",
   "metadata": {},
   "source": [
    "This actually addresses the noun and verb as parts of speech:"
   ]
  },
  {
   "cell_type": "code",
   "execution_count": 7,
   "metadata": {},
   "outputs": [],
   "source": [
    "# nltk.download('punkt')  # Download the necessary tokenizer data\n",
    "# nltk.download('averaged_perceptron_tagger')  # Download \n",
    "\n",
    "def find_sents(text, noun, verb):\n",
    "    sentences = nltk.sent_tokenize(text)\n",
    "    matching_sentences = []\n",
    "    for sentence in sentences:\n",
    "        words = nltk.word_tokenize(sentence)\n",
    "        pos_tags = nltk.pos_tag(words)\n",
    "        verb_in_sentence = False\n",
    "        for word, tag in pos_tags:\n",
    "            if word == verb and tag.startswith('VB'):\n",
    "                verb_in_sentence = True\n",
    "                break\n",
    "        if noun in sentence.split() and verb_in_sentence:\n",
    "            matching_sentences.append(sentence)\n",
    "    return matching_sentences"
   ]
  },
  {
   "cell_type": "code",
   "execution_count": 15,
   "metadata": {},
   "outputs": [
    {
     "data": {
      "text/plain": [
       "[\"because she can't believe i can't eat this penguin.\",\n",
       " 'so she asked, \"eat what?']"
      ]
     },
     "execution_count": 15,
     "metadata": {},
     "output_type": "execute_result"
    }
   ],
   "source": [
    "find_sents(texts_m, \"she\", \"eat\")"
   ]
  }
 ],
 "metadata": {
  "interpreter": {
   "hash": "14a02b88778d8fb8b6aeb4ad427a942bc53dfcda9d7e3737237788289e0d2d23"
  },
  "kernelspec": {
   "display_name": "Python 3 (ipykernel)",
   "language": "python",
   "name": "python3"
  },
  "language_info": {
   "codemirror_mode": {
    "name": "ipython",
    "version": 3
   },
   "file_extension": ".py",
   "mimetype": "text/x-python",
   "name": "python",
   "nbconvert_exporter": "python",
   "pygments_lexer": "ipython3",
   "version": "3.10.11"
  },
  "toc": {
   "base_numbering": 1,
   "nav_menu": {},
   "number_sections": true,
   "sideBar": true,
   "skip_h1_title": true,
   "title_cell": "",
   "title_sidebar": "Contents",
   "toc_cell": true,
   "toc_position": 2,
   "toc_section_display": true,
   "toc_window_display": false
  }
 },
 "nbformat": 4,
 "nbformat_minor": 4
}
