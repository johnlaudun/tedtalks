{
 "cells": [
  {
   "cell_type": "markdown",
   "metadata": {},
   "source": [
    "# Trends\n",
    "\n",
    "We are going to do some re-importing of texts here by year. The first time around we are going to do the combined dataset and look for overall trends, and then we will follow that up by loading both the `only` and `plus` datasets separately to see if there are any differences worth noting. Our goal here is to see what words trend not only to learn about TED talks as a developing collection of events but it might also be possible to compare the trends glimpsed here against either trends from the BYU corpus or Google Trends itself."
   ]
  },
  {
   "cell_type": "markdown",
   "metadata": {
    "toc": true
   },
   "source": [
    "<h1><span class=\"tocSkip\"></span></h1>\n",
    "<div class=\"toc\"><ul class=\"toc-item\"><li><span><a href=\"#Imports-and-Data-Load\" data-toc-modified-id=\"Imports-and-Data-Load-1\"><span class=\"toc-item-num\">1&nbsp;&nbsp;</span>Imports and Data Load</a></span></li><li><span><a href=\"#Working-with-the-Years\" data-toc-modified-id=\"Working-with-the-Years-2\"><span class=\"toc-item-num\">2&nbsp;&nbsp;</span>Working with the Years</a></span></li></ul></div>"
   ]
  },
  {
   "cell_type": "markdown",
   "metadata": {},
   "source": [
    "## Imports and Data Load"
   ]
  },
  {
   "cell_type": "code",
   "execution_count": 1,
   "metadata": {},
   "outputs": [],
   "source": [
    "import pandas as pd\n",
    "import re\n",
    "import matplotlib.pyplot as plt"
   ]
  },
  {
   "cell_type": "code",
   "execution_count": 2,
   "metadata": {},
   "outputs": [],
   "source": [
    "%matplotlib inline"
   ]
  },
  {
   "cell_type": "markdown",
   "metadata": {},
   "source": [
    "For whatever reason, the changing of figure size only ever works for me after I have created the first graph. For that reason, it is on a separate line so that I can run it later:"
   ]
  },
  {
   "cell_type": "code",
   "execution_count": 10,
   "metadata": {},
   "outputs": [],
   "source": [
    "plt.rcParams[\"figure.figsize\"] = (20,10)"
   ]
  },
  {
   "cell_type": "code",
   "execution_count": 6,
   "metadata": {},
   "outputs": [
    {
     "data": {
      "text/html": [
       "<div>\n",
       "<style scoped>\n",
       "    .dataframe tbody tr th:only-of-type {\n",
       "        vertical-align: middle;\n",
       "    }\n",
       "\n",
       "    .dataframe tbody tr th {\n",
       "        vertical-align: top;\n",
       "    }\n",
       "\n",
       "    .dataframe thead th {\n",
       "        text-align: right;\n",
       "    }\n",
       "</style>\n",
       "<table border=\"1\" class=\"dataframe\">\n",
       "  <thead>\n",
       "    <tr style=\"text-align: right;\">\n",
       "      <th></th>\n",
       "      <th>public_url</th>\n",
       "      <th>event</th>\n",
       "      <th>published</th>\n",
       "      <th>text</th>\n",
       "      <th>year</th>\n",
       "    </tr>\n",
       "  </thead>\n",
       "  <tbody>\n",
       "    <tr>\n",
       "      <th>0</th>\n",
       "      <td>https://www.ted.com/talks/al_gore_on_averting_...</td>\n",
       "      <td>TED2006</td>\n",
       "      <td>6/27/06</td>\n",
       "      <td>Thank you so much, Chris. And it's truly a g...</td>\n",
       "      <td>2006</td>\n",
       "    </tr>\n",
       "    <tr>\n",
       "      <th>1</th>\n",
       "      <td>https://www.ted.com/talks/david_pogue_says_sim...</td>\n",
       "      <td>TED2006</td>\n",
       "      <td>6/27/06</td>\n",
       "      <td>(Music: \"The Sound of Silence,\" Simon &amp; Garf...</td>\n",
       "      <td>2006</td>\n",
       "    </tr>\n",
       "    <tr>\n",
       "      <th>2</th>\n",
       "      <td>https://www.ted.com/talks/majora_carter_s_tale...</td>\n",
       "      <td>TED2006</td>\n",
       "      <td>6/27/06</td>\n",
       "      <td>If you're here today — and I'm very happy th...</td>\n",
       "      <td>2006</td>\n",
       "    </tr>\n",
       "    <tr>\n",
       "      <th>3</th>\n",
       "      <td>https://www.ted.com/talks/ken_robinson_says_sc...</td>\n",
       "      <td>TED2006</td>\n",
       "      <td>6/27/06</td>\n",
       "      <td>Good morning. How are you?    (Laughter)    ...</td>\n",
       "      <td>2006</td>\n",
       "    </tr>\n",
       "    <tr>\n",
       "      <th>4</th>\n",
       "      <td>https://www.ted.com/talks/hans_rosling_shows_t...</td>\n",
       "      <td>TED2006</td>\n",
       "      <td>6/27/06</td>\n",
       "      <td>About 10 years ago, I took on the task to te...</td>\n",
       "      <td>2006</td>\n",
       "    </tr>\n",
       "  </tbody>\n",
       "</table>\n",
       "</div>"
      ],
      "text/plain": [
       "                                          public_url    event published  \\\n",
       "0  https://www.ted.com/talks/al_gore_on_averting_...  TED2006   6/27/06   \n",
       "1  https://www.ted.com/talks/david_pogue_says_sim...  TED2006   6/27/06   \n",
       "2  https://www.ted.com/talks/majora_carter_s_tale...  TED2006   6/27/06   \n",
       "3  https://www.ted.com/talks/ken_robinson_says_sc...  TED2006   6/27/06   \n",
       "4  https://www.ted.com/talks/hans_rosling_shows_t...  TED2006   6/27/06   \n",
       "\n",
       "                                                text  year  \n",
       "0    Thank you so much, Chris. And it's truly a g...  2006  \n",
       "1    (Music: \"The Sound of Silence,\" Simon & Garf...  2006  \n",
       "2    If you're here today — and I'm very happy th...  2006  \n",
       "3    Good morning. How are you?    (Laughter)    ...  2006  \n",
       "4    About 10 years ago, I took on the task to te...  2006  "
      ]
     },
     "execution_count": 6,
     "metadata": {},
     "output_type": "execute_result"
    }
   ],
   "source": [
    "df = pd.read_csv('../output/TEDall_years.csv', index_col=0)\n",
    "df.shape\n",
    "df.head()"
   ]
  },
  {
   "cell_type": "markdown",
   "metadata": {},
   "source": [
    "## Working with the Years"
   ]
  },
  {
   "cell_type": "markdown",
   "metadata": {},
   "source": [
    "Okay, now the data analysis begins with us sorting out the talks into year bins where we can count terms and then determine the best way to find out which words, if any, show notable dynamism. \n",
    "\n",
    "And we are going to have to decide how to define dynamism: Google Trends has a formula for word frequency\n",
    "\n",
    "```\n",
    "                   count of word(1)\n",
    "                  ------------------\n",
    "             count of all words in a year\n",
    "```\n",
    "\n",
    "But one searches on that and it graphs. I think we want to find some way to arrive at some algorithmic \"flagging\" of terms with particular kinds of dynamics.\n",
    "\n",
    "Our hypothesis here is that TED events will likely have some topicality, and so we will see one event dynamism, but we also probably want to try to find words that rise and fall over two years or more.\n",
    "\n",
    "We can make a quick check to see how many talks we have for each year. As `df.groupby('year').size()` reveals, the first year for which we have a substantial number of talks is 2002. We can probably safely start our analysis there.  "
   ]
  },
  {
   "cell_type": "code",
   "execution_count": 8,
   "metadata": {
    "scrolled": false
   },
   "outputs": [
    {
     "data": {
      "text/plain": [
       "year\n",
       "1984      1\n",
       "1990      1\n",
       "1994      1\n",
       "1998      6\n",
       "2001      3\n",
       "2002     28\n",
       "2003     34\n",
       "2004     31\n",
       "2005     62\n",
       "2006     43\n",
       "2007     92\n",
       "2008     56\n",
       "2009    155\n",
       "2010    162\n",
       "2011    150\n",
       "2012    146\n",
       "2013    162\n",
       "2014    154\n",
       "2015    149\n",
       "2016    145\n",
       "2017    166\n",
       "dtype: int64"
      ]
     },
     "execution_count": 8,
     "metadata": {},
     "output_type": "execute_result"
    }
   ],
   "source": [
    "df.groupby('year').size()"
   ]
  },
  {
   "cell_type": "markdown",
   "metadata": {},
   "source": [
    "We can also, somewhat gratuitously, visualize this:"
   ]
  },
  {
   "cell_type": "code",
   "execution_count": 11,
   "metadata": {},
   "outputs": [
    {
     "data": {
      "text/plain": [
       "<matplotlib.axes._subplots.AxesSubplot at 0x10e88e438>"
      ]
     },
     "execution_count": 11,
     "metadata": {},
     "output_type": "execute_result"
    },
    {
     "data": {
      "image/png": "[encoded data removed]",
      "text/plain": [
       "<Figure size 1440x720 with 1 Axes>"
      ]
     },
     "metadata": {
      "needs_background": "light"
     },
     "output_type": "display_data"
    }
   ],
   "source": [
    "df.groupby('year').size().plot()"
   ]
  },
  {
   "cell_type": "markdown",
   "metadata": {},
   "source": [
    "Our next step is to filter by year, so maybe choosing a year like 1998 with 6 talks might be a good place to begin building our code:"
   ]
  },
  {
   "cell_type": "code",
   "execution_count": 14,
   "metadata": {},
   "outputs": [
    {
     "data": {
      "text/html": [
       "<div>\n",
       "<style scoped>\n",
       "    .dataframe tbody tr th:only-of-type {\n",
       "        vertical-align: middle;\n",
       "    }\n",
       "\n",
       "    .dataframe tbody tr th {\n",
       "        vertical-align: top;\n",
       "    }\n",
       "\n",
       "    .dataframe thead th {\n",
       "        text-align: right;\n",
       "    }\n",
       "</style>\n",
       "<table border=\"1\" class=\"dataframe\">\n",
       "  <thead>\n",
       "    <tr style=\"text-align: right;\">\n",
       "      <th></th>\n",
       "      <th>public_url</th>\n",
       "      <th>event</th>\n",
       "      <th>published</th>\n",
       "      <th>text</th>\n",
       "      <th>year</th>\n",
       "    </tr>\n",
       "  </thead>\n",
       "  <tbody>\n",
       "    <tr>\n",
       "      <th>262</th>\n",
       "      <td>https://www.ted.com/talks/eva_zeisel_on_the_pl...</td>\n",
       "      <td>TED2001</td>\n",
       "      <td>12/9/08</td>\n",
       "      <td>So I understand that this meeting was planne...</td>\n",
       "      <td>2001</td>\n",
       "    </tr>\n",
       "    <tr>\n",
       "      <th>308</th>\n",
       "      <td>https://www.ted.com/talks/john_wooden_on_the_d...</td>\n",
       "      <td>TED2001</td>\n",
       "      <td>3/26/09</td>\n",
       "      <td>I coined my own definition of success in 193...</td>\n",
       "      <td>2001</td>\n",
       "    </tr>\n",
       "    <tr>\n",
       "      <th>310</th>\n",
       "      <td>https://www.ted.com/talks/c_k_williams_reads_p...</td>\n",
       "      <td>TED2001</td>\n",
       "      <td>3/30/09</td>\n",
       "      <td>I thought I would read poems I have that rel...</td>\n",
       "      <td>2001</td>\n",
       "    </tr>\n",
       "  </tbody>\n",
       "</table>\n",
       "</div>"
      ],
      "text/plain": [
       "                                            public_url    event published  \\\n",
       "262  https://www.ted.com/talks/eva_zeisel_on_the_pl...  TED2001   12/9/08   \n",
       "308  https://www.ted.com/talks/john_wooden_on_the_d...  TED2001   3/26/09   \n",
       "310  https://www.ted.com/talks/c_k_williams_reads_p...  TED2001   3/30/09   \n",
       "\n",
       "                                                  text  year  \n",
       "262    So I understand that this meeting was planne...  2001  \n",
       "308    I coined my own definition of success in 193...  2001  \n",
       "310    I thought I would read poems I have that rel...  2001  "
      ]
     },
     "execution_count": 14,
     "metadata": {},
     "output_type": "execute_result"
    }
   ],
   "source": [
    "year_1998 = df.loc[df['year'] == 2001]\n",
    "year_1998.head()"
   ]
  },
  {
   "cell_type": "markdown",
   "metadata": {},
   "source": [
    "What we want to do is count all the words in a given year and then be able to compare across years. So, what we want is something like this:\n",
    "\n",
    "1. count all the words in a year\n",
    "2. divide every word by the total count to assign it its frequency for the year[^1]\n",
    "3. create a pandas dataframe (?) that looks like this:\n",
    "\n",
    "```\n",
    "| word  | 2002  | 2003  | 2004  |  ...  |\n",
    "|-------|-------|-------|-------|-------|\n",
    "| other | 0.007 | 0.007 |0.0008 | 0.001 |\n",
    "| stuff | 0.001 | 0.002 | 0.002 | 0.003 |\n",
    "```\n",
    "\n",
    "So, do we create 16 lists, each with all the words for a year, and then write date back into a dataframe or is there a way to do this within **pandas**? (I'm trying to grok \"the pandas way\" as much as possible.)\n",
    "\n",
    "[^1]: This is how Google Trends does it. See: Younes, N., & Reips, U. D. (2019). Guideline for improving the reliability of Google Ngram studies: Evidence from religious terms. PloS one, 14(3), e0213554. doi:10.1371/journal.pone.0213554."
   ]
  },
  {
   "cell_type": "code",
   "execution_count": 15,
   "metadata": {},
   "outputs": [],
   "source": [
    "y1998 = df.loc[df['year'] == 2001].text.tolist()"
   ]
  },
  {
   "cell_type": "markdown",
   "metadata": {},
   "source": [
    "The best way to do this, I think, is to feed a function or a for loop a list of years, filter the dataframe by year, and create a giant list of words for each year."
   ]
  },
  {
   "cell_type": "code",
   "execution_count": 31,
   "metadata": {},
   "outputs": [
    {
     "name": "stdout",
     "output_type": "stream",
     "text": [
      "[2002, 2003, 2004, 2005, 2006, 2007, 2008, 2009, 2010, 2011, 2012, 2013, 2014, 2015, 2016, 2017]\n"
     ]
    }
   ],
   "source": [
    "# At the heart of this is a lambda function, which allows us to apply a filter \n",
    "# the list and sorted functions add a lot of parentheses.\n",
    "years = sorted(list(filter(lambda year: year > 2001, df.year.unique())))\n",
    "print(years)"
   ]
  },
  {
   "cell_type": "code",
   "execution_count": 34,
   "metadata": {},
   "outputs": [
    {
     "ename": "SyntaxError",
     "evalue": "can't assign to operator (<ipython-input-34-027d21fa084b>, line 2)",
     "output_type": "error",
     "traceback": [
      "\u001b[0;36m  File \u001b[0;32m\"<ipython-input-34-027d21fa084b>\"\u001b[0;36m, line \u001b[0;32m2\u001b[0m\n\u001b[0;31m    y+year = df.loc[df['year'] == 2001].text.tolist()\u001b[0m\n\u001b[0m    ^\u001b[0m\n\u001b[0;31mSyntaxError\u001b[0m\u001b[0;31m:\u001b[0m can't assign to operator\n"
     ]
    }
   ],
   "source": [
    "for year in years[0:2]:\n",
    "    year = df.loc[df['year'] == 2001].text.tolist()"
   ]
  }
 ],
 "metadata": {
  "kernelspec": {
   "display_name": "Python 3",
   "language": "python",
   "name": "python3"
  },
  "language_info": {
   "codemirror_mode": {
    "name": "ipython",
    "version": 3
   },
   "file_extension": ".py",
   "mimetype": "text/x-python",
   "name": "python",
   "nbconvert_exporter": "python",
   "pygments_lexer": "ipython3",
   "version": "3.6.7"
  },
  "toc": {
   "base_numbering": 1,
   "nav_menu": {},
   "number_sections": true,
   "sideBar": true,
   "skip_h1_title": true,
   "title_cell": "",
   "title_sidebar": "Contents",
   "toc_cell": true,
   "toc_position": 2,
   "toc_section_display": true,
   "toc_window_display": false
  }
 },
 "nbformat": 4,
 "nbformat_minor": 2
}
