{
 "cells": [
  {
   "cell_type": "code",
   "execution_count": 4,
   "metadata": {
    "collapsed": true
   },
   "outputs": [],
   "source": [
    "#! /usr/bin/env python\n",
    "\n",
    "# Create pandas dataframe & lists\n",
    "import pandas\n",
    "\n",
    "colnames = ['old_index','citation','author','gender','title','date','length','text','occupation']\n",
    "df = pandas.read_csv('../data/talks_6b.csv', names=colnames)\n",
    "# talks = df.text.tolist()\n",
    "# titles = df.title.tolist()"
   ]
  },
  {
   "cell_type": "code",
   "execution_count": 9,
   "metadata": {},
   "outputs": [],
   "source": [
    "df1 = df.drop('old_index', axis=1)"
   ]
  },
  {
   "cell_type": "code",
   "execution_count": 10,
   "metadata": {},
   "outputs": [],
   "source": [
    "df2 = df1.drop(df1.index[0])"
   ]
  },
  {
   "cell_type": "code",
   "execution_count": 11,
   "metadata": {},
   "outputs": [
    {
     "data": {
      "text/html": [
       "<div>\n",
       "<table border=\"1\" class=\"dataframe\">\n",
       "  <thead>\n",
       "    <tr style=\"text-align: right;\">\n",
       "      <th></th>\n",
       "      <th>citation</th>\n",
       "      <th>author</th>\n",
       "      <th>gender</th>\n",
       "      <th>title</th>\n",
       "      <th>date</th>\n",
       "      <th>length</th>\n",
       "      <th>text</th>\n",
       "      <th>occupation</th>\n",
       "    </tr>\n",
       "  </thead>\n",
       "  <tbody>\n",
       "    <tr>\n",
       "      <th>1</th>\n",
       "      <td>Al Gore 2006</td>\n",
       "      <td>Al Gore</td>\n",
       "      <td>male</td>\n",
       "      <td>Averting the climate crisis</td>\n",
       "      <td>Jun 2006</td>\n",
       "      <td>957</td>\n",
       "      <td>Thank you so much  Chris. And it's truly a gre...</td>\n",
       "      <td>Climate advocate</td>\n",
       "    </tr>\n",
       "    <tr>\n",
       "      <th>2</th>\n",
       "      <td>David Pogue 2006</td>\n",
       "      <td>David Pogue</td>\n",
       "      <td>male</td>\n",
       "      <td>Simplicity sells</td>\n",
       "      <td>Jun 2006</td>\n",
       "      <td>1271</td>\n",
       "      <td>Hello voice mail  my old friend. I've called f...</td>\n",
       "      <td>Technology columnist</td>\n",
       "    </tr>\n",
       "    <tr>\n",
       "      <th>3</th>\n",
       "      <td>Cameron Sinclair 2006</td>\n",
       "      <td>Cameron Sinclair</td>\n",
       "      <td>male</td>\n",
       "      <td>My wish: A call for open-source architecture</td>\n",
       "      <td>Jul 2006</td>\n",
       "      <td>1398</td>\n",
       "      <td>I'm going to take you on a journey very quickl...</td>\n",
       "      <td>Co-founder, Architecture for Humanity</td>\n",
       "    </tr>\n",
       "    <tr>\n",
       "      <th>4</th>\n",
       "      <td>Sergey Brin + Larry Page 2007</td>\n",
       "      <td>Sergey Brin + Larry Page</td>\n",
       "      <td>male</td>\n",
       "      <td>The genesis of Google</td>\n",
       "      <td>May 2007</td>\n",
       "      <td>1205</td>\n",
       "      <td>Sergey Brin  I want to discuss a question I kn...</td>\n",
       "      <td>NaN</td>\n",
       "    </tr>\n",
       "    <tr>\n",
       "      <th>5</th>\n",
       "      <td>Nathalie Miebach 2011</td>\n",
       "      <td>Nathalie Miebach</td>\n",
       "      <td>female</td>\n",
       "      <td>Art made of storms</td>\n",
       "      <td>Oct 2011</td>\n",
       "      <td>247</td>\n",
       "      <td>What you just heard are the interactions of ba...</td>\n",
       "      <td>Artist</td>\n",
       "    </tr>\n",
       "  </tbody>\n",
       "</table>\n",
       "</div>"
      ],
      "text/plain": [
       "                        citation                    author  gender  \\\n",
       "1                   Al Gore 2006                   Al Gore    male   \n",
       "2               David Pogue 2006               David Pogue    male   \n",
       "3          Cameron Sinclair 2006          Cameron Sinclair    male   \n",
       "4  Sergey Brin + Larry Page 2007  Sergey Brin + Larry Page    male   \n",
       "5          Nathalie Miebach 2011          Nathalie Miebach  female   \n",
       "\n",
       "                                          title      date length  \\\n",
       "1                   Averting the climate crisis  Jun 2006    957   \n",
       "2                              Simplicity sells  Jun 2006   1271   \n",
       "3  My wish: A call for open-source architecture  Jul 2006   1398   \n",
       "4                         The genesis of Google  May 2007   1205   \n",
       "5                            Art made of storms  Oct 2011    247   \n",
       "\n",
       "                                                text  \\\n",
       "1  Thank you so much  Chris. And it's truly a gre...   \n",
       "2  Hello voice mail  my old friend. I've called f...   \n",
       "3  I'm going to take you on a journey very quickl...   \n",
       "4  Sergey Brin  I want to discuss a question I kn...   \n",
       "5  What you just heard are the interactions of ba...   \n",
       "\n",
       "                              occupation  \n",
       "1                       Climate advocate  \n",
       "2                   Technology columnist  \n",
       "3  Co-founder, Architecture for Humanity  \n",
       "4                                    NaN  \n",
       "5                                 Artist  "
      ]
     },
     "execution_count": 11,
     "metadata": {},
     "output_type": "execute_result"
    }
   ],
   "source": [
    "df2.head()"
   ]
  },
  {
   "cell_type": "code",
   "execution_count": 12,
   "metadata": {
    "collapsed": true
   },
   "outputs": [],
   "source": [
    "df2.to_csv('../data/talks6c.csv')"
   ]
  },
  {
   "cell_type": "code",
   "execution_count": 13,
   "metadata": {},
   "outputs": [
    {
     "name": "stdout",
     "output_type": "stream",
     "text": [
      "Missing values per column:\n",
      "citation       0\n",
      "author         0\n",
      "gender         0\n",
      "title          0\n",
      "date           0\n",
      "length         0\n",
      "text           0\n",
      "occupation    79\n",
      "dtype: int64\n"
     ]
    }
   ],
   "source": [
    "#Create a new function:\n",
    "def num_missing(x):\n",
    "  return sum(x.isnull())\n",
    "\n",
    "#Applying per column:\n",
    "print(\"Missing values per column:\")\n",
    "print(df2.apply(num_missing, axis=0)) #axis=0 defines that function is to be applied on each column"
   ]
  },
  {
   "cell_type": "code",
   "execution_count": 2,
   "metadata": {
    "collapsed": true
   },
   "outputs": [],
   "source": [
    "import math, re\n",
    "\n",
    "\n",
    "# Set up a dictionary where k = word and v = weight\n",
    "concretes = open('../data/Concreteness_ratings_Brysbaert_et_al.txt')\n",
    "concrete_dict = dict(map(lambda wns: (wns[0], float(wns[2])), \n",
    "                 [ ws.strip().split('\\t') for ws in concretes ]))\n",
    "\n",
    "# Word splitter pattern\n",
    "pattern_split = re.compile(r\"\\W+\")\n",
    "\n",
    "# Function to \n",
    "def concreteness(text):\n",
    "    \"\"\"\n",
    "    Returns a float for concreteness strength based on the input text.\n",
    "    The higher the number, the more concrete.\n",
    "    \"\"\"\n",
    "    words = pattern_split.split(text.lower())\n",
    "    concretions = []\n",
    "    for word in words:\n",
    "        concretions.append(concrete_dict.get(word,0))\n",
    "    if len(concretions) > 0:\n",
    "        concreteness = sum(concretions)/math.sqrt(len(concretions))\n",
    "        # Should we weight the individual word concreteness? \n",
    "        # I've seen N, sqrt(N) or 1.    \n",
    "    else:\n",
    "        concreteness = 0\n",
    "    return concreteness"
   ]
  },
  {
   "cell_type": "code",
   "execution_count": null,
   "metadata": {
    "collapsed": true
   },
   "outputs": [],
   "source": [
    "# =-=-=-=-=-=-=-=-=-=-=\n",
    "# Plotting\n",
    "# =-=-=-=-=-=-=-=-=-=-= \n",
    "def sentiplot(filename, title, use_cuml=True, method='afinn'):\n",
    "    fig = plt.figure()\n",
    "    sent, cuml = senticuml(filename, method=method)\n",
    "    if use_cuml == True:\n",
    "        plt.plot(cuml,label=title)\n",
    "        plt.ylabel(\"Cumulative Emotional Valence\")\n",
    "        plt.xlabel(\"Sentence #\")\n",
    "    else:\n",
    "        plt.plot(sent,label=title)\n",
    "        plt.ylabel(\"Emotional Valence\")\n",
    "        plt.xlabel(\"Sentence #\")\n",
    "    plt.legend()"
   ]
  },
  {
   "cell_type": "code",
   "execution_count": 3,
   "metadata": {
    "collapsed": true
   },
   "outputs": [],
   "source": [
    "talk_concreteness = []\n",
    "for talk in talks:\n",
    "    talk_concreteness.append(concreteness(talk))"
   ]
  },
  {
   "cell_type": "code",
   "execution_count": 4,
   "metadata": {},
   "outputs": [
    {
     "data": {
      "text/plain": [
       "[100.39600088686036,\n",
       " 123.44488037506318,\n",
       " 122.96122519963039,\n",
       " 126.45273286109526,\n",
       " 57.0752608417299,\n",
       " 101.87852455698962,\n",
       " 99.71820055571283,\n",
       " 98.7120237966078,\n",
       " 93.82145323981567,\n",
       " 108.42209698729881]"
      ]
     },
     "execution_count": 4,
     "metadata": {},
     "output_type": "execute_result"
    }
   ],
   "source": [
    "talk_concreteness[0:10]"
   ]
  },
  {
   "cell_type": "code",
   "execution_count": null,
   "metadata": {
    "collapsed": true
   },
   "outputs": [],
   "source": [
    "import matplotlib.mlab as mlab\n",
    "import matplotlib.pyplot as plt\n",
    "plt.rcParams['figure.figsize'] = 12, 8\n",
    "\n",
    "\n",
    "# the histogram of the data\n",
    "n, bins, patches = plt.hist(x, 50, normed=1, facecolor='green', alpha=0.75)\n",
    "\n",
    "# add a 'best fit' line\n",
    "y = mlab.normpdf( bins, mu, sigma)\n",
    "l = plt.plot(bins, y, 'r--', linewidth=1)\n",
    "\n",
    "plt.xlabel('Smarts')\n",
    "plt.ylabel('Probability')\n",
    "plt.title(r'$\\mathrm{Histogram\\ of\\ IQ:}\\ \\mu=100,\\ \\sigma=15$')\n",
    "plt.axis([40, 160, 0, 0.03])\n",
    "plt.grid(True)\n",
    "\n",
    "plt.show()\n"
   ]
  }
 ],
 "metadata": {
  "kernelspec": {
   "display_name": "Python 3",
   "language": "python",
   "name": "python3"
  },
  "language_info": {
   "codemirror_mode": {
    "name": "ipython",
    "version": 3
   },
   "file_extension": ".py",
   "mimetype": "text/x-python",
   "name": "python",
   "nbconvert_exporter": "python",
   "pygments_lexer": "ipython3",
   "version": "3.4.6"
  }
 },
 "nbformat": 4,
 "nbformat_minor": 1
}
