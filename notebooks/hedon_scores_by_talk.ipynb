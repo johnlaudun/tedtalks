{
 "cells": [
  {
   "cell_type": "code",
   "execution_count": 1,
   "metadata": {
    "collapsed": true
   },
   "outputs": [],
   "source": [
    "import csv\n",
    "import sys, os\n",
    "from labMTsimple.storyLab import *\n",
    "import codecs ## handle utf8\n",
    "import pathlib\n",
    "\n",
    "from matplotlib import pyplot as plt\n",
    "import matplotlib\n",
    "\n",
    "import pandas as pd\n",
    "import numpy as np"
   ]
  },
  {
   "cell_type": "code",
   "execution_count": 2,
   "metadata": {
    "collapsed": true
   },
   "outputs": [],
   "source": [
    "reader = csv.reader(open('../data/talks_6d.csv'))\n",
    "headers = next(reader)\n",
    "headers.append(\"ValenceScore\")\n",
    "\n",
    "ind = headers.index('text')"
   ]
  },
  {
   "cell_type": "code",
   "execution_count": 4,
   "metadata": {
    "collapsed": true
   },
   "outputs": [],
   "source": [
    "lang = 'english'\n",
    "labMT,labMTvector,labMTwordList = emotionFileReader(stopval=0.0,lang=lang,returnVector=True)"
   ]
  },
  {
   "cell_type": "code",
   "execution_count": 5,
   "metadata": {
    "collapsed": true
   },
   "outputs": [],
   "source": [
    "with open('../data/talks_6e.csv', 'w') as csvfile:\n",
    "    # Make the output file. \n",
    "    writer = csv.writer(csvfile)\n",
    "    writer.writerow(headers)\n",
    "    \n",
    "    # Copy each row from the input file\n",
    "    # Compute the valence score for the talk and add it to the row\n",
    "    for row in reader:\n",
    "        talktext = row[ind]\n",
    "        \n",
    "        # Compute valence score, returing the frequency vector\n",
    "        score,tFvec = emotion(talktext,labMT,shift=True,happsList=labMTvector)\n",
    "    \n",
    "        #We need to \"stop the vectors first\" and \"apply a lens\"\n",
    "        tStoppedVec = stopper(tFvec,labMTvector,labMTwordList,stopVal=1.0)\n",
    "        score = emotionV(tStoppedVec,labMTvector)\n",
    "        \n",
    "        row.append(score)\n",
    "        writer.writerow(row)"
   ]
  },
  {
   "cell_type": "code",
   "execution_count": null,
   "metadata": {
    "collapsed": true
   },
   "outputs": [],
   "source": []
  }
 ],
 "metadata": {
  "kernelspec": {
   "display_name": "Python 3",
   "language": "python",
   "name": "python3"
  },
  "language_info": {
   "codemirror_mode": {
    "name": "ipython",
    "version": 3
   },
   "file_extension": ".py",
   "mimetype": "text/x-python",
   "name": "python",
   "nbconvert_exporter": "python",
   "pygments_lexer": "ipython3",
   "version": "3.6.3"
  }
 },
 "nbformat": 4,
 "nbformat_minor": 2
}
