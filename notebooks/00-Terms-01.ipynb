{
 "cells": [
  {
   "cell_type": "markdown",
   "metadata": {},
   "source": [
    "# TED Talks: Terms\n",
    "\n",
    "With the TEDtalks-all dataset created, we have xxxx talks with which to work. This is a small corpus, and so the usual reasons for shrinking the feature set for the texts do not apply, but as we begin our survey of the contents of the TED talks we wanted to be mindful of standards that had emerged both so that our results would be comparable to the work of others but also so that we could potentially scale up the work here without having to re-think the foundations."
   ]
  },
  {
   "cell_type": "markdown",
   "metadata": {},
   "source": [
    "## Imports and Data"
   ]
  },
  {
   "cell_type": "code",
   "execution_count": 22,
   "metadata": {},
   "outputs": [],
   "source": [
    "# Imports\n",
    "import pandas as pd\n",
    "import re"
   ]
  },
  {
   "cell_type": "code",
   "execution_count": 3,
   "metadata": {},
   "outputs": [
    {
     "data": {
      "text/plain": [
       "(1747, 27)"
      ]
     },
     "execution_count": 3,
     "metadata": {},
     "output_type": "execute_result"
    }
   ],
   "source": [
    "# Load the Data\n",
    "df = pd.read_csv('../output/TEDall_speakers.csv')\n",
    "df.shape"
   ]
  },
  {
   "cell_type": "code",
   "execution_count": 6,
   "metadata": {
    "scrolled": false
   },
   "outputs": [
    {
     "data": {
      "text/plain": [
       "['Set',\n",
       " 'Talk_ID',\n",
       " 'public_url',\n",
       " 'headline',\n",
       " 'description',\n",
       " 'event',\n",
       " 'duration',\n",
       " 'published',\n",
       " 'tags',\n",
       " 'views',\n",
       " 'text',\n",
       " 'speaker_1',\n",
       " 'speaker1_occupation',\n",
       " 'speaker1_introduction',\n",
       " 'speaker1_profile',\n",
       " 'speaker_2',\n",
       " 'speaker2_occupation',\n",
       " 'speaker2_introduction',\n",
       " 'speaker2_profile',\n",
       " 'speaker_3',\n",
       " 'speaker3_occupation',\n",
       " 'speaker3_introduction',\n",
       " 'speaker3_profile',\n",
       " 'speaker_4',\n",
       " 'speaker4_occupation',\n",
       " 'speaker4_introduction',\n",
       " 'speaker4_profile']"
      ]
     },
     "execution_count": 6,
     "metadata": {},
     "output_type": "execute_result"
    }
   ],
   "source": [
    "# A quick check of the columns\n",
    "list(df)"
   ]
  },
  {
   "cell_type": "code",
   "execution_count": 7,
   "metadata": {},
   "outputs": [
    {
     "data": {
      "text/html": [
       "<div>\n",
       "<style scoped>\n",
       "    .dataframe tbody tr th:only-of-type {\n",
       "        vertical-align: middle;\n",
       "    }\n",
       "\n",
       "    .dataframe tbody tr th {\n",
       "        vertical-align: top;\n",
       "    }\n",
       "\n",
       "    .dataframe thead th {\n",
       "        text-align: right;\n",
       "    }\n",
       "</style>\n",
       "<table border=\"1\" class=\"dataframe\">\n",
       "  <thead>\n",
       "    <tr style=\"text-align: right;\">\n",
       "      <th></th>\n",
       "      <th>Set</th>\n",
       "      <th>Talk_ID</th>\n",
       "      <th>public_url</th>\n",
       "      <th>headline</th>\n",
       "      <th>description</th>\n",
       "      <th>event</th>\n",
       "      <th>duration</th>\n",
       "      <th>published</th>\n",
       "      <th>tags</th>\n",
       "      <th>views</th>\n",
       "      <th>...</th>\n",
       "      <th>speaker2_introduction</th>\n",
       "      <th>speaker2_profile</th>\n",
       "      <th>speaker_3</th>\n",
       "      <th>speaker3_occupation</th>\n",
       "      <th>speaker3_introduction</th>\n",
       "      <th>speaker3_profile</th>\n",
       "      <th>speaker_4</th>\n",
       "      <th>speaker4_occupation</th>\n",
       "      <th>speaker4_introduction</th>\n",
       "      <th>speaker4_profile</th>\n",
       "    </tr>\n",
       "  </thead>\n",
       "  <tbody>\n",
       "    <tr>\n",
       "      <th>0</th>\n",
       "      <td>only</td>\n",
       "      <td>1</td>\n",
       "      <td>https://www.ted.com/talks/al_gore_on_averting_...</td>\n",
       "      <td>Averting the climate crisis</td>\n",
       "      <td>With the same humor and humanity he exuded in ...</td>\n",
       "      <td>TED2006</td>\n",
       "      <td>0:16:17</td>\n",
       "      <td>6/27/06</td>\n",
       "      <td>alternative energy,cars,global issues,climate ...</td>\n",
       "      <td>3266733</td>\n",
       "      <td>...</td>\n",
       "      <td>NaN</td>\n",
       "      <td>NaN</td>\n",
       "      <td>NaN</td>\n",
       "      <td>NaN</td>\n",
       "      <td>NaN</td>\n",
       "      <td>NaN</td>\n",
       "      <td>NaN</td>\n",
       "      <td>NaN</td>\n",
       "      <td>NaN</td>\n",
       "      <td>NaN</td>\n",
       "    </tr>\n",
       "    <tr>\n",
       "      <th>1</th>\n",
       "      <td>only</td>\n",
       "      <td>7</td>\n",
       "      <td>https://www.ted.com/talks/david_pogue_says_sim...</td>\n",
       "      <td>Simplicity sells</td>\n",
       "      <td>New York Times columnist David Pogue takes aim...</td>\n",
       "      <td>TED2006</td>\n",
       "      <td>0:21:26</td>\n",
       "      <td>6/27/06</td>\n",
       "      <td>simplicity,entertainment,interface design,soft...</td>\n",
       "      <td>1702201</td>\n",
       "      <td>...</td>\n",
       "      <td>NaN</td>\n",
       "      <td>NaN</td>\n",
       "      <td>NaN</td>\n",
       "      <td>NaN</td>\n",
       "      <td>NaN</td>\n",
       "      <td>NaN</td>\n",
       "      <td>NaN</td>\n",
       "      <td>NaN</td>\n",
       "      <td>NaN</td>\n",
       "      <td>NaN</td>\n",
       "    </tr>\n",
       "    <tr>\n",
       "      <th>2</th>\n",
       "      <td>only</td>\n",
       "      <td>53</td>\n",
       "      <td>https://www.ted.com/talks/majora_carter_s_tale...</td>\n",
       "      <td>Greening the ghetto</td>\n",
       "      <td>In an emotionally charged talk, MacArthur-winn...</td>\n",
       "      <td>TED2006</td>\n",
       "      <td>0:18:36</td>\n",
       "      <td>6/27/06</td>\n",
       "      <td>MacArthur grant,cities,green,activism,politics...</td>\n",
       "      <td>2000421</td>\n",
       "      <td>...</td>\n",
       "      <td>NaN</td>\n",
       "      <td>NaN</td>\n",
       "      <td>NaN</td>\n",
       "      <td>NaN</td>\n",
       "      <td>NaN</td>\n",
       "      <td>NaN</td>\n",
       "      <td>NaN</td>\n",
       "      <td>NaN</td>\n",
       "      <td>NaN</td>\n",
       "      <td>NaN</td>\n",
       "    </tr>\n",
       "    <tr>\n",
       "      <th>3</th>\n",
       "      <td>only</td>\n",
       "      <td>66</td>\n",
       "      <td>https://www.ted.com/talks/ken_robinson_says_sc...</td>\n",
       "      <td>Do schools kill creativity?</td>\n",
       "      <td>Sir Ken Robinson makes an entertaining and pro...</td>\n",
       "      <td>TED2006</td>\n",
       "      <td>0:19:24</td>\n",
       "      <td>6/27/06</td>\n",
       "      <td>children,teaching,creativity,parenting,culture...</td>\n",
       "      <td>51614087</td>\n",
       "      <td>...</td>\n",
       "      <td>NaN</td>\n",
       "      <td>NaN</td>\n",
       "      <td>NaN</td>\n",
       "      <td>NaN</td>\n",
       "      <td>NaN</td>\n",
       "      <td>NaN</td>\n",
       "      <td>NaN</td>\n",
       "      <td>NaN</td>\n",
       "      <td>NaN</td>\n",
       "      <td>NaN</td>\n",
       "    </tr>\n",
       "    <tr>\n",
       "      <th>4</th>\n",
       "      <td>only</td>\n",
       "      <td>92</td>\n",
       "      <td>https://www.ted.com/talks/hans_rosling_shows_t...</td>\n",
       "      <td>The best stats you've ever seen</td>\n",
       "      <td>You've never seen data presented like this. Wi...</td>\n",
       "      <td>TED2006</td>\n",
       "      <td>0:19:50</td>\n",
       "      <td>6/27/06</td>\n",
       "      <td>demo,Asia,global issues,visualizations,global ...</td>\n",
       "      <td>12662135</td>\n",
       "      <td>...</td>\n",
       "      <td>NaN</td>\n",
       "      <td>NaN</td>\n",
       "      <td>NaN</td>\n",
       "      <td>NaN</td>\n",
       "      <td>NaN</td>\n",
       "      <td>NaN</td>\n",
       "      <td>NaN</td>\n",
       "      <td>NaN</td>\n",
       "      <td>NaN</td>\n",
       "      <td>NaN</td>\n",
       "    </tr>\n",
       "  </tbody>\n",
       "</table>\n",
       "<p>5 rows × 27 columns</p>\n",
       "</div>"
      ],
      "text/plain": [
       "    Set  Talk_ID                                         public_url  \\\n",
       "0  only        1  https://www.ted.com/talks/al_gore_on_averting_...   \n",
       "1  only        7  https://www.ted.com/talks/david_pogue_says_sim...   \n",
       "2  only       53  https://www.ted.com/talks/majora_carter_s_tale...   \n",
       "3  only       66  https://www.ted.com/talks/ken_robinson_says_sc...   \n",
       "4  only       92  https://www.ted.com/talks/hans_rosling_shows_t...   \n",
       "\n",
       "                          headline  \\\n",
       "0      Averting the climate crisis   \n",
       "1                 Simplicity sells   \n",
       "2              Greening the ghetto   \n",
       "3      Do schools kill creativity?   \n",
       "4  The best stats you've ever seen   \n",
       "\n",
       "                                         description    event duration  \\\n",
       "0  With the same humor and humanity he exuded in ...  TED2006  0:16:17   \n",
       "1  New York Times columnist David Pogue takes aim...  TED2006  0:21:26   \n",
       "2  In an emotionally charged talk, MacArthur-winn...  TED2006  0:18:36   \n",
       "3  Sir Ken Robinson makes an entertaining and pro...  TED2006  0:19:24   \n",
       "4  You've never seen data presented like this. Wi...  TED2006  0:19:50   \n",
       "\n",
       "  published                                               tags     views  ...  \\\n",
       "0   6/27/06  alternative energy,cars,global issues,climate ...   3266733  ...   \n",
       "1   6/27/06  simplicity,entertainment,interface design,soft...   1702201  ...   \n",
       "2   6/27/06  MacArthur grant,cities,green,activism,politics...   2000421  ...   \n",
       "3   6/27/06  children,teaching,creativity,parenting,culture...  51614087  ...   \n",
       "4   6/27/06  demo,Asia,global issues,visualizations,global ...  12662135  ...   \n",
       "\n",
       "  speaker2_introduction speaker2_profile speaker_3 speaker3_occupation  \\\n",
       "0                   NaN              NaN       NaN                 NaN   \n",
       "1                   NaN              NaN       NaN                 NaN   \n",
       "2                   NaN              NaN       NaN                 NaN   \n",
       "3                   NaN              NaN       NaN                 NaN   \n",
       "4                   NaN              NaN       NaN                 NaN   \n",
       "\n",
       "  speaker3_introduction speaker3_profile speaker_4 speaker4_occupation  \\\n",
       "0                   NaN              NaN       NaN                 NaN   \n",
       "1                   NaN              NaN       NaN                 NaN   \n",
       "2                   NaN              NaN       NaN                 NaN   \n",
       "3                   NaN              NaN       NaN                 NaN   \n",
       "4                   NaN              NaN       NaN                 NaN   \n",
       "\n",
       "  speaker4_introduction speaker4_profile  \n",
       "0                   NaN              NaN  \n",
       "1                   NaN              NaN  \n",
       "2                   NaN              NaN  \n",
       "3                   NaN              NaN  \n",
       "4                   NaN              NaN  \n",
       "\n",
       "[5 rows x 27 columns]"
      ]
     },
     "execution_count": 7,
     "metadata": {},
     "output_type": "execute_result"
    }
   ],
   "source": [
    "df.head()"
   ]
  },
  {
   "cell_type": "markdown",
   "metadata": {},
   "source": [
    "## Coming to Terms\n",
    "\n",
    "The sole purpose of this notebook is to establish how we are going to elicit our features, our words, from the collection of talks. Thus, the only column we are interested in is the one with the texts of the talks. We do, however, want to be able to trace any interesting developments back to a given talk, so we will label each text with its `public_url` minus `https://www.ted.com/talks/`.\n",
    "\n",
    "Creating two lists, one of the URLs and one of the texts, is easy. We'll then use SciKit-Learn's counter to create the term frequency array and then we'll add the URLs back as labels -- perhaps through merging the two into a dataframe."
   ]
  },
  {
   "cell_type": "code",
   "execution_count": 8,
   "metadata": {},
   "outputs": [],
   "source": [
    "urls  = df.public_url.tolist()\n",
    "texts = df.text.tolist()"
   ]
  },
  {
   "cell_type": "markdown",
   "metadata": {},
   "source": [
    "Earlier explorations of the corpus revealed something we knew but had not realized could affect our work: some TED talks are not talks but musical performances. Generally, the text of such performances are rather short. Using an arbitrary length of `500` characters, we can see what these texts look like:"
   ]
  },
  {
   "cell_type": "code",
   "execution_count": 20,
   "metadata": {},
   "outputs": [
    {
     "name": "stdout",
     "output_type": "stream",
     "text": [
      "  (Applause)    (Music)    (Applause)  \n",
      "  Let's just get started here.    Okay, just a moment.    (Whirring)    All right. (Laughter) Oh, sorry.    (Music) (Beatboxing)    Thank you.    (Applause)  \n",
      "  (Music)    (Applause)    (Music)    (Music) (Applause)    (Music) (Applause) (Applause)    Herbie Hancock: Thank you. Marcus Miller. (Applause) Harvey Mason. (Applause)    Thank you. Thank you very much. (Applause)  \n",
      "  (Music)    (Applause)    (Music)    (Applause)  \n",
      "  (Music)    (Applause)    (Music)    (Applause)    (Music)    (Applause)    (Music)    (Applause)  \n",
      "  (Music)    (Music) (Applause)    (Applause)  \n",
      "  (Guitar music starts)    (Cheers)    (Cheers)    (Music ends)  \n",
      "  (Music)    (Applause)  \n",
      "  (Guitar music starts)    (Music ends)    (Applause)    (Distorted guitar music starts)    (Music ends)    (Applause)    (Ambient/guitar music starts)    (Music ends)    (Applause)  \n"
     ]
    }
   ],
   "source": [
    "for text in texts:\n",
    "    if len(text) < 500:\n",
    "        print(text)"
   ]
  },
  {
   "cell_type": "markdown",
   "metadata": {},
   "source": [
    "To get a list of the indices for the texts, substitute `texts.index(text)` for `text` as follows:\n",
    "\n",
    "```python\n",
    "for text in texts:\n",
    "    if len(text) < 500:\n",
    "        print(texts.index(text))\n",
    "```"
   ]
  },
  {
   "cell_type": "markdown",
   "metadata": {},
   "source": [
    "When it comes time to process words in a text, our best bet will be to remove the parentheticals, though, having them means we can possibly explore sentiment using `(Applause)` and `(Laughter)` as contextual valuations.\n",
    "\n",
    "For now, we will need some regex to remove the parentheses and their contents from our texts."
   ]
  },
  {
   "cell_type": "code",
   "execution_count": 25,
   "metadata": {},
   "outputs": [
    {
     "name": "stdout",
     "output_type": "stream",
     "text": [
      "113\n",
      "235\n",
      "382\n",
      "496\n",
      "573\n",
      "799\n",
      "899\n",
      "1484\n",
      "1564\n"
     ]
    }
   ],
   "source": [
    "for text in texts:\n",
    "    if len(text) < 500:\n",
    "        print(texts.index(text))"
   ]
  },
  {
   "cell_type": "code",
   "execution_count": 31,
   "metadata": {},
   "outputs": [
    {
     "name": "stdout",
     "output_type": "stream",
     "text": [
      "[]\n"
     ]
    }
   ],
   "source": [
    "# regex = \"\\(([^\\)]+)\\)\"\n",
    "\n",
    "for stuff in texts[235]:\n",
    "    parens = re.findall('\\(.*?\\)',stuff)\n",
    "print(parens)\n"
   ]
  }
 ],
 "metadata": {
  "kernelspec": {
   "display_name": "Python 3",
   "language": "python",
   "name": "python3"
  },
  "language_info": {
   "codemirror_mode": {
    "name": "ipython",
    "version": 3
   },
   "file_extension": ".py",
   "mimetype": "text/x-python",
   "name": "python",
   "nbconvert_exporter": "python",
   "pygments_lexer": "ipython3",
   "version": "3.8.2"
  },
  "toc": {
   "base_numbering": 1,
   "nav_menu": {},
   "number_sections": true,
   "sideBar": true,
   "skip_h1_title": true,
   "title_cell": "",
   "title_sidebar": "Contents",
   "toc_cell": true,
   "toc_position": 2,
   "toc_section_display": true,
   "toc_window_display": false
  }
 },
 "nbformat": 4,
 "nbformat_minor": 2
}
