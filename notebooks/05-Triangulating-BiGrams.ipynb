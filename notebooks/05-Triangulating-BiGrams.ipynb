{
 "cells": [
  {
   "cell_type": "markdown",
   "id": "2cb2af92",
   "metadata": {},
   "source": [
    "# Goal\n",
    "\n",
    "In this notebook, we seek to find \"hedging\" bigrams by using the word2vec embeddings for unigrams that are part of hedging bigrams. Examples include:  \n",
    "\n",
    "* \"Sort\" coming from \"sort of\"\n",
    "* \"kind\" coming from \"kind of\"\n",
    "* \"Guess\" used in \"I guess\"\n",
    "\n",
    "Following the ideas from Ben Schmidt's [Rejecting the gender binary: a vector-space operation](http://bookworm.benschmidt.org/posts/2015-10-30-rejecting-the-gender-binary.html), we will build a vector for the collection of \"hedging\" unigrams and then use \"vector rejection\" to remove non-hedging uses of the hedging unigrams. For example: \n",
    "\n",
    "* \"Sort\" coming from \"sort of\" but not \"arrange, list, classify\" nor \"variety, category, type\"\n",
    "* \"kind\" coming from \"kind of\" but not \"friendly, nice, patience\" nor \"variety, category, type\"\n",
    "* \"Guess\" used in \"I guess\" but not \"predict, determine, explain\" "
   ]
  },
  {
   "cell_type": "markdown",
   "id": "0e88dd06",
   "metadata": {},
   "source": [
    " Look here: https://stackabuse.com/implementing-word2vec-with-gensim-library-in-python/\n"
   ]
  },
  {
   "cell_type": "code",
   "execution_count": 2,
   "id": "cae2e35b",
   "metadata": {},
   "outputs": [],
   "source": [
    "import numpy as np\n",
    "import pandas as pd, re, csv, nltk\n",
    "from sklearn.feature_extraction.text import CountVectorizer\n",
    "from sklearn.decomposition import NMF\n",
    "import nltk\n",
    "from nltk.corpus import stopwords\n",
    "\n",
    "# https://stackoverflow.com/questions/37101114/what-to-download-in-order-to-make-nltk-tokenize-word-tokenize-work\n",
    "#nltk.download('punkt')\n",
    "from nltk.tokenize import sent_tokenize, word_tokenize\n",
    "\n",
    "#from gensim.models import Word2Vec\n",
    "\n",
    "import matplotlib.pyplot as plt"
   ]
  },
  {
   "cell_type": "code",
   "execution_count": 3,
   "id": "20ae2029",
   "metadata": {},
   "outputs": [],
   "source": [
    "# Load data\n",
    "\n",
    "# Load binary gendered talks \n",
    "talks_male = pd.read_csv('talks_male.csv', index_col='Talk_ID')\n",
    "talks_female = pd.read_csv('talks_female.csv', index_col='Talk_ID')\n",
    "\n",
    "# No one gender ==> NOG\n",
    "talks_nog = pd.read_csv('talks_nog.csv', index_col='Talk_ID')\n",
    "\n",
    "# Concatenate the data\n",
    "\n",
    "all_talks = pd.concat([talks_male,talks_female,talks_nog])"
   ]
  },
  {
   "cell_type": "code",
   "execution_count": 24,
   "id": "11eba21b",
   "metadata": {},
   "outputs": [],
   "source": [
    "partitioned_texts = all_talks.text.tolist()\n",
    "\n",
    "# From https://www.geeksforgeeks.org/python-string-join-method/\n",
    "text_all = \" \".join(partitioned_texts)\n",
    "\n",
    "processed_texts = [text.lower() for text in partitioned_texts]\n",
    "processed_texts = [re.sub('[^a-zA-Z]', ' ', text) for text in processed_texts]\n",
    "processed_texts = [re.sub(r'\\s+', ' ', text) for text in processed_texts]\n"
   ]
  },
  {
   "cell_type": "code",
   "execution_count": null,
   "id": "1f5837ea",
   "metadata": {},
   "outputs": [],
   "source": [
    "doc_texts = [nltk.word_tokenize(text) for text in processed_texts]"
   ]
  },
  {
   "cell_type": "code",
   "execution_count": 25,
   "id": "ef9a2a7b",
   "metadata": {},
   "outputs": [
    {
     "data": {
      "text/plain": [
       "list"
      ]
     },
     "execution_count": 25,
     "metadata": {},
     "output_type": "execute_result"
    }
   ],
   "source": [
    "type(doc_texts)"
   ]
  },
  {
   "cell_type": "code",
   "execution_count": 26,
   "id": "5a0b2116",
   "metadata": {},
   "outputs": [
    {
     "data": {
      "text/plain": [
       "992"
      ]
     },
     "execution_count": 26,
     "metadata": {},
     "output_type": "execute_result"
    }
   ],
   "source": [
    "len(doc_texts)"
   ]
  },
  {
   "cell_type": "code",
   "execution_count": null,
   "id": "0b7acdb1",
   "metadata": {},
   "outputs": [],
   "source": []
  },
  {
   "cell_type": "code",
   "execution_count": null,
   "id": "ce3a1330",
   "metadata": {},
   "outputs": [],
   "source": []
  },
  {
   "cell_type": "markdown",
   "id": "707a4fbe",
   "metadata": {},
   "source": [
    "## WANT: a list of lists \n",
    "\n",
    " * Each text should be preserved \n",
    " * Then we should create a list of words"
   ]
  },
  {
   "cell_type": "code",
   "execution_count": 17,
   "id": "fe11cfe9",
   "metadata": {},
   "outputs": [
    {
     "name": "stdout",
     "output_type": "stream",
     "text": [
      "['one', 'two s', ' three']\n"
     ]
    }
   ],
   "source": [
    "test = ['one',\"Two's\",'.ThreE']\n",
    "\n",
    "#https://www.delftstack.com/howto/python/python-lowercase-list/\n",
    "\n",
    "test = [word.lower() for word in test]\n",
    "\n",
    "test_sub = [re.sub('[^a-zA-Z]', ' ', word) for word in test]\n",
    "test_sub = [re.sub(r'\\s+', ' ', word) for word in test_sub]\n",
    "    \n",
    "print(test_sub)\n"
   ]
  },
  {
   "cell_type": "code",
   "execution_count": 4,
   "id": "f8b04535",
   "metadata": {},
   "outputs": [],
   "source": [
    "processed_texts = text_all.lower()\n",
    "processed_texts = re.sub('[^a-zA-Z]', ' ', processed_texts)\n",
    "processed_texts = re.sub(r'\\s+', ' ', processed_texts)"
   ]
  },
  {
   "cell_type": "code",
   "execution_count": 25,
   "id": "c79d74a6",
   "metadata": {},
   "outputs": [
    {
     "data": {
      "text/plain": [
       "' thank you so much chris and it s truly a great ho'"
      ]
     },
     "execution_count": 25,
     "metadata": {},
     "output_type": "execute_result"
    }
   ],
   "source": [
    "processed_texts[:50]"
   ]
  },
  {
   "cell_type": "code",
   "execution_count": 10,
   "id": "4e9c01f1",
   "metadata": {},
   "outputs": [],
   "source": [
    "# From https://stackabuse.com/implementing-word2vec-with-gensim-library-in-python/\n",
    "\n",
    "all_sentences = nltk.sent_tokenize(processed_texts)\n",
    "\n",
    "all_words = [nltk.word_tokenize(sent) for sent in all_sentences]"
   ]
  },
  {
   "cell_type": "code",
   "execution_count": 11,
   "id": "e9db6b67",
   "metadata": {},
   "outputs": [
    {
     "data": {
      "text/plain": [
       "list"
      ]
     },
     "execution_count": 11,
     "metadata": {},
     "output_type": "execute_result"
    }
   ],
   "source": [
    "type(all_sentences)"
   ]
  },
  {
   "cell_type": "code",
   "execution_count": 21,
   "id": "82c523ea",
   "metadata": {},
   "outputs": [
    {
     "data": {
      "text/plain": [
       "10699443"
      ]
     },
     "execution_count": 21,
     "metadata": {},
     "output_type": "execute_result"
    }
   ],
   "source": [
    "len(all_sentences[0])"
   ]
  },
  {
   "cell_type": "code",
   "execution_count": 26,
   "id": "f51c9481",
   "metadata": {},
   "outputs": [
    {
     "ename": "NameError",
     "evalue": "name 'Word2Vec' is not defined",
     "output_type": "error",
     "traceback": [
      "\u001b[0;31m---------------------------------------------------------------------------\u001b[0m",
      "\u001b[0;31mNameError\u001b[0m                                 Traceback (most recent call last)",
      "\u001b[0;32m/var/folders/6h/xgfgqk0j3cs7fqvzc0b6l868t3nxsy/T/ipykernel_19515/3725673184.py\u001b[0m in \u001b[0;36m<module>\u001b[0;34m\u001b[0m\n\u001b[0;32m----> 1\u001b[0;31m \u001b[0mword2vec\u001b[0m \u001b[0;34m=\u001b[0m \u001b[0mWord2Vec\u001b[0m\u001b[0;34m(\u001b[0m\u001b[0mall_words\u001b[0m\u001b[0;34m,\u001b[0m \u001b[0mmin_count\u001b[0m\u001b[0;34m=\u001b[0m\u001b[0;36m2\u001b[0m\u001b[0;34m)\u001b[0m\u001b[0;34m\u001b[0m\u001b[0;34m\u001b[0m\u001b[0m\n\u001b[0m",
      "\u001b[0;31mNameError\u001b[0m: name 'Word2Vec' is not defined"
     ]
    }
   ],
   "source": [
    "word2vec = Word2Vec(all_words, min_count=2)"
   ]
  },
  {
   "cell_type": "code",
   "execution_count": null,
   "id": "d705e8d5",
   "metadata": {},
   "outputs": [],
   "source": []
  }
 ],
 "metadata": {
  "kernelspec": {
   "display_name": "Python 3 (ipykernel)",
   "language": "python",
   "name": "python3"
  },
  "language_info": {
   "codemirror_mode": {
    "name": "ipython",
    "version": 3
   },
   "file_extension": ".py",
   "mimetype": "text/x-python",
   "name": "python",
   "nbconvert_exporter": "python",
   "pygments_lexer": "ipython3",
   "version": "3.9.7"
  }
 },
 "nbformat": 4,
 "nbformat_minor": 5
}
