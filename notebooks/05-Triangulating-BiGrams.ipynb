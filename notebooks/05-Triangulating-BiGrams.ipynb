{
 "cells": [
  {
   "cell_type": "markdown",
   "id": "2cb2af92",
   "metadata": {},
   "source": [
    "# Goal\n",
    "\n",
    "In this notebook, we seek to find \"hedging\" bigrams by using the word2vec embeddings for unigrams that are part of hedging bigrams. Examples include:  \n",
    "\n",
    "* \"Sort\" coming from \"sort of\"\n",
    "* \"kind\" coming from \"kind of\"\n",
    "* \"Guess\" used in \"I guess\"\n",
    "\n",
    "Following the ideas from Ben Schmidt's [Rejecting the gender binary: a vector-space operation](http://bookworm.benschmidt.org/posts/2015-10-30-rejecting-the-gender-binary.html), we will build a vector for the collection of \"hedging\" unigrams and then use \"vector rejection\" to remove non-hedging uses of the hedging unigrams. For example: \n",
    "\n",
    "* \"Sort\" coming from \"sort of\" but not \"arrange, list, classify\" nor \"variety, category, type\"\n",
    "* \"kind\" coming from \"kind of\" but not \"friendly, nice, patience\" nor \"variety, category, type\"\n",
    "* \"Guess\" used in \"I guess\" but not \"predict, determine, explain\" "
   ]
  },
  {
   "cell_type": "markdown",
   "id": "0e88dd06",
   "metadata": {},
   "source": [
    " Look here: https://stackabuse.com/implementing-word2vec-with-gensim-library-in-python/\n",
    " \n",
    " https://medium.com/swlh/word-embedding-word2vec-with-genism-nltk-and-t-sne-visualization-43eae8ab3e2e\n"
   ]
  },
  {
   "cell_type": "code",
   "execution_count": 57,
   "id": "cae2e35b",
   "metadata": {},
   "outputs": [],
   "source": [
    "import numpy as np\n",
    "import pandas as pd, re, csv, nltk\n",
    "from sklearn.feature_extraction.text import CountVectorizer\n",
    "from sklearn.decomposition import NMF\n",
    "import nltk\n",
    "from nltk.corpus import stopwords\n",
    "\n",
    "# https://stackoverflow.com/questions/37101114/what-to-download-in-order-to-make-nltk-tokenize-word-tokenize-work\n",
    "#nltk.download('punkt')\n",
    "from nltk.tokenize import sent_tokenize, word_tokenize\n",
    "\n",
    "from gensim.models import Word2Vec\n",
    "\n",
    "# for preprocessing the text\n",
    "from gensim.parsing.preprocessing import remove_stopwords\n",
    "import string\n",
    "\n",
    "\n",
    "import matplotlib.pyplot as plt\n",
    "import seaborn as sns"
   ]
  },
  {
   "cell_type": "code",
   "execution_count": 2,
   "id": "0d5b7430",
   "metadata": {},
   "outputs": [],
   "source": [
    "# Creating a stopword list of consonants and the \n",
    "\n",
    "stoplist = list(string.ascii_letters[:26])\n",
    "stoplist.pop(8) # Remove 'i'\n",
    "stoplist.pop(0) # Remove 'a'\n",
    "\n",
    "stoplist.append(\"ll\")\n",
    "stoplist.append(\"re\")\n",
    "stoplist.append(\"ve\")\n"
   ]
  },
  {
   "cell_type": "code",
   "execution_count": 3,
   "id": "1a586734",
   "metadata": {},
   "outputs": [],
   "source": [
    "# Building my own stopword remover to get rid of the non \"a\" and \"i\" consonants\n",
    "# Based on `remove_stopewords() in gensim\n",
    "#    https://github.com/RaRe-Technologies/gensim/blob/develop/gensim/parsing/preprocessing.py\n",
    "\n",
    "def remove_stoplist(s):\n",
    "    return \" \".join(remove_stoplist_tokens(s.split()))\n",
    "\n",
    "def remove_stoplist_tokens(tokens):\n",
    "    global stoplist\n",
    "    return [token for token in tokens if token not in stoplist]"
   ]
  },
  {
   "cell_type": "code",
   "execution_count": 4,
   "id": "20ae2029",
   "metadata": {},
   "outputs": [],
   "source": [
    "# Load data\n",
    "\n",
    "# Load binary gendered talks \n",
    "talks_male = pd.read_csv('talks_male.csv', index_col='Talk_ID')\n",
    "talks_female = pd.read_csv('talks_female.csv', index_col='Talk_ID')\n",
    "\n",
    "# No one gender ==> NOG\n",
    "talks_nog = pd.read_csv('talks_nog.csv', index_col='Talk_ID')\n",
    "\n",
    "# Concatenate the data\n",
    "\n",
    "all_talks = pd.concat([talks_male,talks_female,talks_nog])"
   ]
  },
  {
   "cell_type": "code",
   "execution_count": 5,
   "id": "11eba21b",
   "metadata": {},
   "outputs": [],
   "source": [
    "partitioned_texts = all_talks.text.tolist()\n",
    "\n",
    "# From https://www.geeksforgeeks.org/python-string-join-method/\n",
    "#text_all = \" \".join(partitioned_texts)\n",
    "\n",
    "processed_texts = [text.lower() for text in partitioned_texts]\n",
    "processed_texts = [re.sub('[^a-zA-Z]', ' ', text) for text in processed_texts]\n",
    "processed_texts = [re.sub(r'\\s+', ' ', text) for text in processed_texts]\n"
   ]
  },
  {
   "cell_type": "code",
   "execution_count": 6,
   "id": "1d52ce3e",
   "metadata": {},
   "outputs": [
    {
     "data": {
      "text/plain": [
       "\"  Thank you so much, Chris. And it's truly a great\""
      ]
     },
     "execution_count": 6,
     "metadata": {},
     "output_type": "execute_result"
    }
   ],
   "source": [
    "partitioned_texts[0][:50]"
   ]
  },
  {
   "cell_type": "code",
   "execution_count": 7,
   "id": "1f5837ea",
   "metadata": {},
   "outputs": [],
   "source": [
    "processed_texts = [remove_stoplist(text) for text in processed_texts]\n",
    "doc_texts = [nltk.word_tokenize(text) for text in processed_texts]"
   ]
  },
  {
   "cell_type": "code",
   "execution_count": 10,
   "id": "ef9a2a7b",
   "metadata": {},
   "outputs": [
    {
     "data": {
      "text/plain": [
       "list"
      ]
     },
     "execution_count": 10,
     "metadata": {},
     "output_type": "execute_result"
    }
   ],
   "source": [
    "type(doc_texts)"
   ]
  },
  {
   "cell_type": "code",
   "execution_count": 11,
   "id": "5a0b2116",
   "metadata": {},
   "outputs": [
    {
     "data": {
      "text/plain": [
       "992"
      ]
     },
     "execution_count": 11,
     "metadata": {},
     "output_type": "execute_result"
    }
   ],
   "source": [
    "len(doc_texts)"
   ]
  },
  {
   "cell_type": "code",
   "execution_count": 13,
   "id": "0b7acdb1",
   "metadata": {
    "scrolled": true
   },
   "outputs": [
    {
     "data": {
      "text/plain": [
       "2135"
      ]
     },
     "execution_count": 13,
     "metadata": {},
     "output_type": "execute_result"
    }
   ],
   "source": [
    "len(doc_texts[0])"
   ]
  },
  {
   "cell_type": "markdown",
   "id": "0b8b9956",
   "metadata": {},
   "source": [
    "### Count Vectorizer\n",
    "\n",
    "Doing unigram counts for hedging:\n"
   ]
  },
  {
   "cell_type": "code",
   "execution_count": 8,
   "id": "7af5dd74",
   "metadata": {},
   "outputs": [],
   "source": [
    "unigram_vectorizer = CountVectorizer(lowercase = True, \n",
    "                             min_df = 2,\n",
    "                             max_df = 0.9,\n",
    "                             ngram_range=(1, 1))\n",
    "\n",
    "uX = unigram_vectorizer.fit_transform(processed_texts)"
   ]
  },
  {
   "cell_type": "code",
   "execution_count": 11,
   "id": "c4f4a4af",
   "metadata": {},
   "outputs": [
    {
     "data": {
      "text/plain": [
       "(992, 21982)"
      ]
     },
     "execution_count": 11,
     "metadata": {},
     "output_type": "execute_result"
    }
   ],
   "source": [
    "uX.shape"
   ]
  },
  {
   "cell_type": "code",
   "execution_count": null,
   "id": "fcec12a0",
   "metadata": {},
   "outputs": [],
   "source": []
  },
  {
   "cell_type": "code",
   "execution_count": null,
   "id": "ccd00ab4",
   "metadata": {},
   "outputs": [],
   "source": []
  },
  {
   "cell_type": "code",
   "execution_count": null,
   "id": "7de7ca47",
   "metadata": {},
   "outputs": [],
   "source": []
  },
  {
   "cell_type": "code",
   "execution_count": null,
   "id": "8823a874",
   "metadata": {},
   "outputs": [],
   "source": []
  },
  {
   "cell_type": "markdown",
   "id": "fc654b36",
   "metadata": {},
   "source": [
    "### Word2Vec for Unigrams"
   ]
  },
  {
   "cell_type": "code",
   "execution_count": 14,
   "id": "ce3a1330",
   "metadata": {},
   "outputs": [],
   "source": [
    "word2vec = Word2Vec(doc_texts, window = 10, min_count=2)"
   ]
  },
  {
   "cell_type": "code",
   "execution_count": 15,
   "id": "5ee68ad9",
   "metadata": {},
   "outputs": [
    {
     "data": {
      "text/plain": [
       "[('remember', 0.7878257036209106),\n",
       " ('saying', 0.7463921308517456),\n",
       " ('mean', 0.7254163026809692),\n",
       " ('hear', 0.7243103384971619),\n",
       " ('say', 0.7161790728569031),\n",
       " ('freaks', 0.6847013235092163),\n",
       " ('wondering', 0.6838622689247131),\n",
       " ('wow', 0.6759593486785889),\n",
       " ('gosh', 0.6710530519485474),\n",
       " ('stroking', 0.666327178478241)]"
      ]
     },
     "execution_count": 15,
     "metadata": {},
     "output_type": "execute_result"
    }
   ],
   "source": [
    "word2vec.wv.most_similar(\"guess\")"
   ]
  },
  {
   "cell_type": "code",
   "execution_count": 16,
   "id": "bd1683d3",
   "metadata": {},
   "outputs": [
    {
     "data": {
      "text/plain": [
       "[('kind', 0.9084411859512329),\n",
       " ('bunch', 0.6164745688438416),\n",
       " ('part', 0.607398509979248),\n",
       " ('piece', 0.606497049331665),\n",
       " ('type', 0.5873291492462158),\n",
       " ('palpable', 0.5767520070075989),\n",
       " ('course', 0.5679629445075989),\n",
       " ('sculpting', 0.5670973658561707),\n",
       " ('pieces', 0.5498916506767273),\n",
       " ('juxtaposition', 0.5496965050697327)]"
      ]
     },
     "execution_count": 16,
     "metadata": {},
     "output_type": "execute_result"
    }
   ],
   "source": [
    "word2vec.wv.most_similar(\"sort\")"
   ]
  },
  {
   "cell_type": "code",
   "execution_count": 17,
   "id": "39a091eb",
   "metadata": {},
   "outputs": [
    {
     "data": {
      "text/plain": [
       "[('sort', 0.9084411859512329),\n",
       " ('type', 0.6930367350578308),\n",
       " ('sense', 0.6429963111877441),\n",
       " ('part', 0.6213728189468384),\n",
       " ('idea', 0.6002641320228577),\n",
       " ('sculpting', 0.5995984077453613),\n",
       " ('view', 0.5885249376296997),\n",
       " ('course', 0.5702580213546753),\n",
       " ('piece', 0.5698479413986206),\n",
       " ('translations', 0.5509598851203918)]"
      ]
     },
     "execution_count": 17,
     "metadata": {},
     "output_type": "execute_result"
    }
   ],
   "source": [
    "word2vec.wv.most_similar(\"kind\")"
   ]
  },
  {
   "cell_type": "code",
   "execution_count": 27,
   "id": "77cc09ed",
   "metadata": {},
   "outputs": [
    {
     "data": {
      "text/plain": [
       "[('kind', 0.9084411859512329),\n",
       " ('bunch', 0.6164745688438416),\n",
       " ('part', 0.607398509979248),\n",
       " ('piece', 0.606497049331665),\n",
       " ('type', 0.5873291492462158),\n",
       " ('palpable', 0.5767520070075989),\n",
       " ('course', 0.5679629445075989),\n",
       " ('sculpting', 0.5670973658561707),\n",
       " ('pieces', 0.5498916506767273),\n",
       " ('juxtaposition', 0.5496965050697327)]"
      ]
     },
     "execution_count": 27,
     "metadata": {},
     "output_type": "execute_result"
    }
   ],
   "source": [
    "# https://stackoverflow.com/questions/65612062/how-do-i-subtract-and-add-vectors-with-gensim-keyedvectors\n",
    "\n",
    "word2vec.wv.most_similar([\"sort\"])"
   ]
  },
  {
   "cell_type": "code",
   "execution_count": 28,
   "id": "961442b2",
   "metadata": {},
   "outputs": [
    {
     "data": {
      "text/plain": [
       "[('sort', 0.9084411859512329),\n",
       " ('type', 0.6930367350578308),\n",
       " ('sense', 0.6429963111877441),\n",
       " ('part', 0.6213728189468384),\n",
       " ('idea', 0.6002641320228577),\n",
       " ('sculpting', 0.5995984077453613),\n",
       " ('view', 0.5885249376296997),\n",
       " ('course', 0.5702580213546753),\n",
       " ('piece', 0.5698479413986206),\n",
       " ('translations', 0.5509598851203918)]"
      ]
     },
     "execution_count": 28,
     "metadata": {},
     "output_type": "execute_result"
    }
   ],
   "source": [
    "word2vec.wv.most_similar([\"kind\"])"
   ]
  },
  {
   "cell_type": "code",
   "execution_count": 37,
   "id": "9d684a85",
   "metadata": {},
   "outputs": [
    {
     "data": {
      "text/plain": [
       "[('type', 0.65535968542099),\n",
       " ('part', 0.628950834274292),\n",
       " ('piece', 0.6021162271499634),\n",
       " ('sculpting', 0.597177267074585),\n",
       " ('bunch', 0.5917701125144958),\n",
       " ('course', 0.582602322101593),\n",
       " ('view', 0.5773004293441772),\n",
       " ('sense', 0.5725947618484497),\n",
       " ('translations', 0.5549792647361755),\n",
       " ('idea', 0.5518763661384583)]"
      ]
     },
     "execution_count": 37,
     "metadata": {},
     "output_type": "execute_result"
    }
   ],
   "source": [
    "word2vec.wv.most_similar([\"sort\", \"kind\"])"
   ]
  },
  {
   "cell_type": "code",
   "execution_count": 38,
   "id": "3c0de7d8",
   "metadata": {},
   "outputs": [
    {
     "data": {
      "text/plain": [
       "[('kind', 0.713141918182373),\n",
       " ('thought', 0.6781673431396484),\n",
       " ('mean', 0.6316622495651245),\n",
       " ('picture', 0.6002448201179504),\n",
       " ('crazy', 0.5881516933441162),\n",
       " ('suppose', 0.5881208777427673),\n",
       " ('thinking', 0.5835904479026794),\n",
       " ('weird', 0.5798344016075134),\n",
       " ('freaks', 0.5760444402694702),\n",
       " ('wow', 0.5706294775009155)]"
      ]
     },
     "execution_count": 38,
     "metadata": {},
     "output_type": "execute_result"
    }
   ],
   "source": [
    "word2vec.wv.most_similar([\"sort\", \"guess\"])"
   ]
  },
  {
   "cell_type": "code",
   "execution_count": 36,
   "id": "c410bbd9",
   "metadata": {},
   "outputs": [
    {
     "data": {
      "text/plain": [
       "[('mean', 0.7195830345153809),\n",
       " ('sort', 0.6939854621887207),\n",
       " ('thought', 0.6852900981903076),\n",
       " ('think', 0.6535386443138123),\n",
       " ('suppose', 0.6083480715751648),\n",
       " ('feeling', 0.6066697835922241),\n",
       " ('saying', 0.6019819974899292),\n",
       " ('say', 0.6017744541168213),\n",
       " ('thinking', 0.5997294783592224),\n",
       " ('hear', 0.594313383102417)]"
      ]
     },
     "execution_count": 36,
     "metadata": {},
     "output_type": "execute_result"
    }
   ],
   "source": [
    "word2vec.wv.most_similar([\"kind\",\"guess\"])"
   ]
  },
  {
   "cell_type": "code",
   "execution_count": 31,
   "id": "6ec4b1ae",
   "metadata": {},
   "outputs": [
    {
     "data": {
      "text/plain": [
       "[('thought', 0.6158742904663086),\n",
       " ('piece', 0.5884854793548584),\n",
       " ('audit', 0.5860133171081543),\n",
       " ('picture', 0.5853383541107178),\n",
       " ('stuff', 0.5837016105651855),\n",
       " ('thinking', 0.5804150104522705),\n",
       " ('part', 0.5796677470207214),\n",
       " ('mean', 0.5717465281486511),\n",
       " ('weird', 0.5683267116546631),\n",
       " ('illustration', 0.5653871297836304)]"
      ]
     },
     "execution_count": 31,
     "metadata": {},
     "output_type": "execute_result"
    }
   ],
   "source": [
    "word2vec.wv.most_similar([\"sort\", \"kind\",\"guess\"])"
   ]
  },
  {
   "cell_type": "code",
   "execution_count": 35,
   "id": "a7193f4c",
   "metadata": {},
   "outputs": [
    {
     "data": {
      "text/plain": [
       "[('learnings', 0.49738916754722595),\n",
       " ('jolla', 0.42620810866355896),\n",
       " ('kanwisher', 0.39031463861465454),\n",
       " ('gaulle', 0.3745385408401489),\n",
       " ('depressants', 0.3686690032482147),\n",
       " ('inundated', 0.3616965413093567),\n",
       " ('tithers', 0.3391382694244385),\n",
       " ('jell', 0.33261242508888245),\n",
       " ('stocked', 0.3267320990562439),\n",
       " ('nigerians', 0.31234732270240784)]"
      ]
     },
     "execution_count": 35,
     "metadata": {},
     "output_type": "execute_result"
    }
   ],
   "source": [
    "negative_list = [\"type\",\"variety\", \"category\",\n",
    "                 \"friendly\", \"nice\", \"patience\",\n",
    "                 \"predict\", \"determine\", \"explain\", \n",
    "                 \"arrange\", \"list\", \"classify\"]\n",
    "\n",
    "word2vec.wv.most_similar([\"sort\", \"kind\",\"guess\"], negative = negative_list)"
   ]
  },
  {
   "cell_type": "code",
   "execution_count": 48,
   "id": "cde07e83",
   "metadata": {},
   "outputs": [
    {
     "data": {
      "text/plain": [
       "[('learnings', 0.4751196503639221),\n",
       " ('electrophysiology', 0.35263317823410034),\n",
       " ('jolla', 0.3518185019493103),\n",
       " ('gaulle', 0.3486708402633667),\n",
       " ('divulge', 0.3439455032348633),\n",
       " ('nigerians', 0.3119773864746094),\n",
       " ('fortuitous', 0.31005990505218506),\n",
       " ('heartening', 0.3018244206905365),\n",
       " ('gasped', 0.2899802327156067),\n",
       " ('depressants', 0.2886291742324829)]"
      ]
     },
     "execution_count": 48,
     "metadata": {},
     "output_type": "execute_result"
    }
   ],
   "source": [
    "# From below, it looks like \"I guess\" is not in the TED talks:\n",
    "negative_list = [\"type\",\"variety\", \"category\",\n",
    "                 \"friendly\", \"nice\", \"patience\",\n",
    "                 \"arrange\", \"list\", \"classify\"]\n",
    "\n",
    "word2vec.wv.most_similar([\"sort\", \"kind\"], negative = negative_list)"
   ]
  },
  {
   "cell_type": "code",
   "execution_count": 49,
   "id": "b20e1444",
   "metadata": {},
   "outputs": [
    {
     "data": {
      "text/plain": [
       "[('blackboards', 0.5507946014404297),\n",
       " ('course', 0.5351001024246216),\n",
       " ('stuff', 0.5219084620475769),\n",
       " ('part', 0.4799818694591522),\n",
       " ('bunch', 0.478828489780426),\n",
       " ('palpable', 0.4682005047798157),\n",
       " ('thought', 0.46191030740737915),\n",
       " ('crazy', 0.4439011812210083),\n",
       " ('mangle', 0.43668049573898315),\n",
       " ('grill', 0.4359477758407593)]"
      ]
     },
     "execution_count": 49,
     "metadata": {},
     "output_type": "execute_result"
    }
   ],
   "source": [
    "word2vec.wv.most_similar([\"sort\", \"kind\"], negative = [\"type\"])"
   ]
  },
  {
   "cell_type": "markdown",
   "id": "b0f8ae5c",
   "metadata": {},
   "source": [
    "## Bigrams\n",
    "\n",
    "https://stackoverflow.com/questions/19560044/how-to-concatenate-element-wise-two-lists-in-python\n",
    "https://www.w3schools.com/python/ref_string_format.asp"
   ]
  },
  {
   "cell_type": "markdown",
   "id": "80061400",
   "metadata": {},
   "source": [
    "### CountVectorizer\n",
    "\n"
   ]
  },
  {
   "cell_type": "code",
   "execution_count": 12,
   "id": "bae79701",
   "metadata": {},
   "outputs": [],
   "source": [
    "bigram_vectorizer = CountVectorizer(lowercase = True, \n",
    "                             min_df = 2,\n",
    "                             max_df = 0.9,\n",
    "                             ngram_range=(2, 2))\n",
    "\n",
    "bX = bigram_vectorizer.fit_transform(processed_texts)"
   ]
  },
  {
   "cell_type": "code",
   "execution_count": 13,
   "id": "22e9ee95",
   "metadata": {},
   "outputs": [
    {
     "data": {
      "text/plain": [
       "(992, 140985)"
      ]
     },
     "execution_count": 13,
     "metadata": {},
     "output_type": "execute_result"
    }
   ],
   "source": [
    "bX.shape"
   ]
  },
  {
   "cell_type": "code",
   "execution_count": 32,
   "id": "f4a21702",
   "metadata": {},
   "outputs": [
    {
     "data": {
      "text/plain": [
       "(992, 140985)"
      ]
     },
     "execution_count": 32,
     "metadata": {},
     "output_type": "execute_result"
    }
   ],
   "source": [
    "raw_bX = pd.DataFrame(bX.toarray(), \n",
    "                      columns = bigram_vectorizer.get_feature_names_out())\n",
    "raw_bX.shape"
   ]
  },
  {
   "cell_type": "code",
   "execution_count": 33,
   "id": "89904f17",
   "metadata": {},
   "outputs": [],
   "source": [
    "bigram_list = list(raw_bX.columns)"
   ]
  },
  {
   "cell_type": "code",
   "execution_count": 37,
   "id": "9d9d27d0",
   "metadata": {},
   "outputs": [],
   "source": [
    "so = bigram_list.index(\"sort of\")"
   ]
  },
  {
   "cell_type": "code",
   "execution_count": 41,
   "id": "9f232ddc",
   "metadata": {},
   "outputs": [
    {
     "data": {
      "text/plain": [
       "17"
      ]
     },
     "execution_count": 41,
     "metadata": {},
     "output_type": "execute_result"
    }
   ],
   "source": [
    "max(bX.toarray()[:,so])"
   ]
  },
  {
   "cell_type": "code",
   "execution_count": 43,
   "id": "3c50d609",
   "metadata": {},
   "outputs": [
    {
     "data": {
      "text/plain": [
       "324"
      ]
     },
     "execution_count": 43,
     "metadata": {},
     "output_type": "execute_result"
    }
   ],
   "source": [
    "sum(bX.toarray()[:,so]>0)"
   ]
  },
  {
   "cell_type": "code",
   "execution_count": 29,
   "id": "d546ccc9",
   "metadata": {},
   "outputs": [
    {
     "data": {
      "text/plain": [
       "['sorry to',\n",
       " 'sorry we',\n",
       " 'sorry what',\n",
       " 'sorry you',\n",
       " 'sort and',\n",
       " 'sort of',\n",
       " 'sort or',\n",
       " 'sort out',\n",
       " 'sort the',\n",
       " 'sort this',\n",
       " 'sort you']"
      ]
     },
     "execution_count": 29,
     "metadata": {},
     "output_type": "execute_result"
    }
   ],
   "source": [
    "bigram_list[so-5:so+6]"
   ]
  },
  {
   "cell_type": "code",
   "execution_count": 24,
   "id": "4dc7c3e5",
   "metadata": {},
   "outputs": [
    {
     "ename": "ValueError",
     "evalue": "'I guess' is not in list",
     "output_type": "error",
     "traceback": [
      "\u001b[0;31m---------------------------------------------------------------------------\u001b[0m",
      "\u001b[0;31mValueError\u001b[0m                                Traceback (most recent call last)",
      "Input \u001b[0;32mIn [24]\u001b[0m, in \u001b[0;36m<module>\u001b[0;34m\u001b[0m\n\u001b[0;32m----> 1\u001b[0m \u001b[43mbigram_list\u001b[49m\u001b[38;5;241;43m.\u001b[39;49m\u001b[43mindex\u001b[49m\u001b[43m(\u001b[49m\u001b[38;5;124;43m\"\u001b[39;49m\u001b[38;5;124;43mI guess\u001b[39;49m\u001b[38;5;124;43m\"\u001b[39;49m\u001b[43m)\u001b[49m\n",
      "\u001b[0;31mValueError\u001b[0m: 'I guess' is not in list"
     ]
    }
   ],
   "source": [
    "bigram_list.index(\"I guess\")\n"
   ]
  },
  {
   "cell_type": "code",
   "execution_count": 30,
   "id": "85bfbf11",
   "metadata": {},
   "outputs": [],
   "source": [
    "ko = bigram_list.index(\"kind of\")"
   ]
  },
  {
   "cell_type": "code",
   "execution_count": 31,
   "id": "3c2e18c3",
   "metadata": {},
   "outputs": [
    {
     "data": {
      "text/plain": [
       "['kind attention',\n",
       " 'kind but',\n",
       " 'kind enough',\n",
       " 'kind in',\n",
       " 'kind it',\n",
       " 'kind of',\n",
       " 'kind or',\n",
       " 'kind so',\n",
       " 'kind thank',\n",
       " 'kind that',\n",
       " 'kind the']"
      ]
     },
     "execution_count": 31,
     "metadata": {},
     "output_type": "execute_result"
    }
   ],
   "source": [
    "bigram_list[ko-5:ko+6]"
   ]
  },
  {
   "cell_type": "code",
   "execution_count": 42,
   "id": "52cc9902",
   "metadata": {},
   "outputs": [
    {
     "data": {
      "text/plain": [
       "30"
      ]
     },
     "execution_count": 42,
     "metadata": {},
     "output_type": "execute_result"
    }
   ],
   "source": [
    "max(bX.toarray()[:,ko])"
   ]
  },
  {
   "cell_type": "code",
   "execution_count": 44,
   "id": "3c9ddeb8",
   "metadata": {},
   "outputs": [
    {
     "data": {
      "text/plain": [
       "595"
      ]
     },
     "execution_count": 44,
     "metadata": {},
     "output_type": "execute_result"
    }
   ],
   "source": [
    "sum(bX.toarray()[:,ko]>0)"
   ]
  },
  {
   "cell_type": "markdown",
   "id": "3d8d0778",
   "metadata": {},
   "source": [
    "Do \"kind of\" and \"sort of\" show up in the same talks? "
   ]
  },
  {
   "cell_type": "code",
   "execution_count": 45,
   "id": "cebc6a5a",
   "metadata": {},
   "outputs": [
    {
     "data": {
      "text/plain": [
       "111"
      ]
     },
     "execution_count": 45,
     "metadata": {},
     "output_type": "execute_result"
    }
   ],
   "source": [
    "bX_array = bX.toarray()\n",
    "\n",
    "sum((bX_array[:,so] + bX_array[:,ko]) == 2)"
   ]
  },
  {
   "cell_type": "code",
   "execution_count": 46,
   "id": "86fa9fbf",
   "metadata": {},
   "outputs": [],
   "source": [
    "inds = (bX_array[:,so] + bX_array[:,ko]) > 1"
   ]
  },
  {
   "cell_type": "code",
   "execution_count": 60,
   "id": "e261aa93",
   "metadata": {},
   "outputs": [],
   "source": [
    "hedgers = bX_array[inds,:]\n"
   ]
  },
  {
   "cell_type": "code",
   "execution_count": 61,
   "id": "75ee42e3",
   "metadata": {},
   "outputs": [],
   "source": [
    "c_inds = [ko,so]\n",
    "hedgers = hedgers[:,c_inds]\n",
    "\n"
   ]
  },
  {
   "cell_type": "code",
   "execution_count": 91,
   "id": "e1b7ad90",
   "metadata": {},
   "outputs": [],
   "source": [
    "mu = 0\n",
    "std = 0.05\n",
    "\n",
    "noisy_hedgers = hedgers + np.random.normal(mu,std,(487,2))"
   ]
  },
  {
   "cell_type": "code",
   "execution_count": 55,
   "id": "79bccf6c",
   "metadata": {},
   "outputs": [
    {
     "data": {
      "text/plain": [
       "(487, 2)"
      ]
     },
     "execution_count": 55,
     "metadata": {},
     "output_type": "execute_result"
    }
   ],
   "source": [
    "hedgers.shape"
   ]
  },
  {
   "cell_type": "code",
   "execution_count": 82,
   "id": "08f1a39a",
   "metadata": {},
   "outputs": [
    {
     "data": {
      "text/plain": [
       "<matplotlib.collections.PathCollection at 0x151786f10>"
      ]
     },
     "execution_count": 82,
     "metadata": {},
     "output_type": "execute_result"
    },
    {
     "data": {
      "image/png": "[encoded data removed]",
      "text/plain": [
       "<Figure size 432x288 with 1 Axes>"
      ]
     },
     "metadata": {
      "needs_background": "light"
     },
     "output_type": "display_data"
    }
   ],
   "source": [
    "plt.scatter(hedgers[:,0],hedgers[:,1],s = 50, alpha=0.1, c = 'r')"
   ]
  },
  {
   "cell_type": "code",
   "execution_count": 92,
   "id": "58ff5887",
   "metadata": {
    "scrolled": true
   },
   "outputs": [
    {
     "data": {
      "text/plain": [
       "<matplotlib.collections.PathCollection at 0x154612250>"
      ]
     },
     "execution_count": 92,
     "metadata": {},
     "output_type": "execute_result"
    },
    {
     "data": {
      "image/png": "[encoded data removed]",
      "text/plain": [
       "<Figure size 432x288 with 1 Axes>"
      ]
     },
     "metadata": {
      "needs_background": "light"
     },
     "output_type": "display_data"
    }
   ],
   "source": [
    "plt.scatter(noisy_hedgers[:,0],noisy_hedgers[:,1], s = 50, alpha=0.1)"
   ]
  },
  {
   "cell_type": "code",
   "execution_count": null,
   "id": "d845a12a",
   "metadata": {},
   "outputs": [],
   "source": []
  },
  {
   "cell_type": "code",
   "execution_count": 39,
   "id": "2fc74cbc",
   "metadata": {},
   "outputs": [],
   "source": [
    "doc_bigrams = []\n",
    "\n",
    "for text_list in doc_texts[:100]:\n",
    "    # Create two lists from the original text list\n",
    "    # The first includes the 0 -> (n-1) words\n",
    "    # The second includes the 1 -> n words\n",
    "    l_text = text_list[:-1]\n",
    "    r_text = text_list[1:]\n",
    "    \n",
    "    # Use zip and format with list comprehension to get a new list\n",
    "    bi_list = [\"{} {}\".format(l_word,r_word) for l_word,r_word in zip(l_text,r_text)]\n",
    "    \n",
    "    doc_bigrams.append(bi_list)"
   ]
  },
  {
   "cell_type": "code",
   "execution_count": 40,
   "id": "610c6b87",
   "metadata": {},
   "outputs": [
    {
     "data": {
      "text/plain": [
       "list"
      ]
     },
     "execution_count": 40,
     "metadata": {},
     "output_type": "execute_result"
    }
   ],
   "source": [
    "type(doc_bigrams)"
   ]
  },
  {
   "cell_type": "code",
   "execution_count": 41,
   "id": "441e3c79",
   "metadata": {},
   "outputs": [
    {
     "data": {
      "text/plain": [
       "100"
      ]
     },
     "execution_count": 41,
     "metadata": {},
     "output_type": "execute_result"
    }
   ],
   "source": [
    "len(doc_bigrams)"
   ]
  },
  {
   "cell_type": "code",
   "execution_count": 42,
   "id": "2cc08893",
   "metadata": {},
   "outputs": [
    {
     "data": {
      "text/plain": [
       "['thank you',\n",
       " 'you so',\n",
       " 'so much',\n",
       " 'much chris',\n",
       " 'chris and',\n",
       " 'and it',\n",
       " 'it truly',\n",
       " 'truly a',\n",
       " 'a great',\n",
       " 'great honor',\n",
       " 'honor to',\n",
       " 'to have',\n",
       " 'have the',\n",
       " 'the opportunity',\n",
       " 'opportunity to',\n",
       " 'to come',\n",
       " 'come to',\n",
       " 'to this',\n",
       " 'this stage',\n",
       " 'stage twice',\n",
       " 'twice i',\n",
       " 'i extremely',\n",
       " 'extremely grateful',\n",
       " 'grateful i',\n",
       " 'i have',\n",
       " 'have been',\n",
       " 'been blown',\n",
       " 'blown away',\n",
       " 'away by',\n",
       " 'by this',\n",
       " 'this conference',\n",
       " 'conference and',\n",
       " 'and i',\n",
       " 'i want',\n",
       " 'want to',\n",
       " 'to thank',\n",
       " 'thank all',\n",
       " 'all of',\n",
       " 'of you',\n",
       " 'you for',\n",
       " 'for the',\n",
       " 'the many',\n",
       " 'many nice',\n",
       " 'nice comments',\n",
       " 'comments about',\n",
       " 'about what',\n",
       " 'what i',\n",
       " 'i had',\n",
       " 'had to',\n",
       " 'to say',\n",
       " 'say the',\n",
       " 'the other',\n",
       " 'other night',\n",
       " 'night and',\n",
       " 'and i',\n",
       " 'i say',\n",
       " 'say that',\n",
       " 'that sincerely',\n",
       " 'sincerely partly',\n",
       " 'partly because',\n",
       " 'because mock',\n",
       " 'mock sob',\n",
       " 'sob i',\n",
       " 'i need',\n",
       " 'need that',\n",
       " 'that laughter',\n",
       " 'laughter put',\n",
       " 'put yourselves',\n",
       " 'yourselves in',\n",
       " 'in my',\n",
       " 'my position',\n",
       " 'position laughter',\n",
       " 'laughter i',\n",
       " 'i flew',\n",
       " 'flew on',\n",
       " 'on air',\n",
       " 'air force',\n",
       " 'force two',\n",
       " 'two for',\n",
       " 'for eight',\n",
       " 'eight years',\n",
       " 'years laughter',\n",
       " 'laughter now',\n",
       " 'now i',\n",
       " 'i have',\n",
       " 'have to',\n",
       " 'to take',\n",
       " 'take off',\n",
       " 'off my',\n",
       " 'my shoes',\n",
       " 'shoes or',\n",
       " 'or boots',\n",
       " 'boots to',\n",
       " 'to get',\n",
       " 'get on',\n",
       " 'on an',\n",
       " 'an airplane',\n",
       " 'airplane laughter',\n",
       " 'laughter applause',\n",
       " 'applause i',\n",
       " 'i tell',\n",
       " 'tell you',\n",
       " 'you one',\n",
       " 'one quick',\n",
       " 'quick story',\n",
       " 'story to',\n",
       " 'to illustrate',\n",
       " 'illustrate what',\n",
       " 'what that',\n",
       " 'that been',\n",
       " 'been like',\n",
       " 'like for',\n",
       " 'for me',\n",
       " 'me laughter',\n",
       " 'laughter it',\n",
       " 'it a',\n",
       " 'a true',\n",
       " 'true story',\n",
       " 'story every',\n",
       " 'every bit',\n",
       " 'bit of',\n",
       " 'of this',\n",
       " 'this is',\n",
       " 'is true',\n",
       " 'true soon',\n",
       " 'soon after',\n",
       " 'after tipper',\n",
       " 'tipper and',\n",
       " 'and i',\n",
       " 'i left',\n",
       " 'left the',\n",
       " 'the mock',\n",
       " 'mock sob',\n",
       " 'sob white',\n",
       " 'white house',\n",
       " 'house laughter',\n",
       " 'laughter we',\n",
       " 'we were',\n",
       " 'were driving',\n",
       " 'driving from',\n",
       " 'from our',\n",
       " 'our home',\n",
       " 'home in',\n",
       " 'in nashville',\n",
       " 'nashville to',\n",
       " 'to a',\n",
       " 'a little',\n",
       " 'little farm',\n",
       " 'farm we',\n",
       " 'we have',\n",
       " 'have miles',\n",
       " 'miles east',\n",
       " 'east of',\n",
       " 'of nashville',\n",
       " 'nashville driving',\n",
       " 'driving ourselves',\n",
       " 'ourselves laughter',\n",
       " 'laughter i',\n",
       " 'i know',\n",
       " 'know it',\n",
       " 'it sounds',\n",
       " 'sounds like',\n",
       " 'like a',\n",
       " 'a little',\n",
       " 'little thing',\n",
       " 'thing to',\n",
       " 'to you',\n",
       " 'you but',\n",
       " 'but laughter',\n",
       " 'laughter i',\n",
       " 'i looked',\n",
       " 'looked in',\n",
       " 'in the',\n",
       " 'the rear',\n",
       " 'rear view',\n",
       " 'view mirror',\n",
       " 'mirror and',\n",
       " 'and all',\n",
       " 'all of',\n",
       " 'of a',\n",
       " 'a sudden',\n",
       " 'sudden it',\n",
       " 'it just',\n",
       " 'just hit',\n",
       " 'hit me',\n",
       " 'me there',\n",
       " 'there was',\n",
       " 'was no',\n",
       " 'no motorcade',\n",
       " 'motorcade back',\n",
       " 'back there',\n",
       " 'there laughter',\n",
       " 'laughter you',\n",
       " 'you heard',\n",
       " 'heard of',\n",
       " 'of phantom',\n",
       " 'phantom limb',\n",
       " 'limb pain',\n",
       " 'pain laughter',\n",
       " 'laughter this',\n",
       " 'this was',\n",
       " 'was a',\n",
       " 'a rented',\n",
       " 'rented ford',\n",
       " 'ford taurus',\n",
       " 'taurus laughter',\n",
       " 'laughter it',\n",
       " 'it was',\n",
       " 'was dinnertime',\n",
       " 'dinnertime and',\n",
       " 'and we',\n",
       " 'we started',\n",
       " 'started looking',\n",
       " 'looking for',\n",
       " 'for a',\n",
       " 'a place',\n",
       " 'place to',\n",
       " 'to eat',\n",
       " 'eat we',\n",
       " 'we were',\n",
       " 'were on',\n",
       " 'on i',\n",
       " 'i we',\n",
       " 'we got',\n",
       " 'got to',\n",
       " 'to exit',\n",
       " 'exit lebanon',\n",
       " 'lebanon tennessee',\n",
       " 'tennessee we',\n",
       " 'we got',\n",
       " 'got off',\n",
       " 'off the',\n",
       " 'the exit',\n",
       " 'exit we',\n",
       " 'we found',\n",
       " 'found a',\n",
       " 'a shoney',\n",
       " 'shoney restaurant',\n",
       " 'restaurant low',\n",
       " 'low cost',\n",
       " 'cost family',\n",
       " 'family restaurant',\n",
       " 'restaurant chain',\n",
       " 'chain for',\n",
       " 'for those',\n",
       " 'those of',\n",
       " 'of you',\n",
       " 'you who',\n",
       " 'who don',\n",
       " 'don know',\n",
       " 'know it',\n",
       " 'it we',\n",
       " 'we went',\n",
       " 'went in',\n",
       " 'in and',\n",
       " 'and sat',\n",
       " 'sat down',\n",
       " 'down at',\n",
       " 'at the',\n",
       " 'the booth',\n",
       " 'booth and',\n",
       " 'and the',\n",
       " 'the waitress',\n",
       " 'waitress came',\n",
       " 'came over',\n",
       " 'over made',\n",
       " 'made a',\n",
       " 'a big',\n",
       " 'big commotion',\n",
       " 'commotion over',\n",
       " 'over tipper',\n",
       " 'tipper laughter',\n",
       " 'laughter she',\n",
       " 'she took',\n",
       " 'took our',\n",
       " 'our order',\n",
       " 'order and',\n",
       " 'and then',\n",
       " 'then went',\n",
       " 'went to',\n",
       " 'to the',\n",
       " 'the couple',\n",
       " 'couple in',\n",
       " 'in the',\n",
       " 'the booth',\n",
       " 'booth next',\n",
       " 'next to',\n",
       " 'to us',\n",
       " 'us and',\n",
       " 'and she',\n",
       " 'she lowered',\n",
       " 'lowered her',\n",
       " 'her voice',\n",
       " 'voice so',\n",
       " 'so much',\n",
       " 'much i',\n",
       " 'i had',\n",
       " 'had to',\n",
       " 'to really',\n",
       " 'really strain',\n",
       " 'strain to',\n",
       " 'to hear',\n",
       " 'hear what',\n",
       " 'what she',\n",
       " 'she was',\n",
       " 'was saying',\n",
       " 'saying and',\n",
       " 'and she',\n",
       " 'she said',\n",
       " 'said yes',\n",
       " 'yes that',\n",
       " 'that former',\n",
       " 'former vice',\n",
       " 'vice president',\n",
       " 'president al',\n",
       " 'al gore',\n",
       " 'gore and',\n",
       " 'and his',\n",
       " 'his wife',\n",
       " 'wife tipper',\n",
       " 'tipper and',\n",
       " 'and the',\n",
       " 'the man',\n",
       " 'man said',\n",
       " 'said he',\n",
       " 'he come',\n",
       " 'come down',\n",
       " 'down a',\n",
       " 'a long',\n",
       " 'long way',\n",
       " 'way hasn',\n",
       " 'hasn he',\n",
       " 'he laughter',\n",
       " 'laughter applause',\n",
       " 'applause there',\n",
       " 'there been',\n",
       " 'been kind',\n",
       " 'kind of',\n",
       " 'of a',\n",
       " 'a series',\n",
       " 'series of',\n",
       " 'of epiphanies',\n",
       " 'epiphanies laughter',\n",
       " 'laughter the',\n",
       " 'the very',\n",
       " 'very next',\n",
       " 'next day',\n",
       " 'day continuing',\n",
       " 'continuing the',\n",
       " 'the totally',\n",
       " 'totally true',\n",
       " 'true story',\n",
       " 'story i',\n",
       " 'i got',\n",
       " 'got on',\n",
       " 'on a',\n",
       " 'a to',\n",
       " 'to fly',\n",
       " 'fly to',\n",
       " 'to africa',\n",
       " 'africa to',\n",
       " 'to make',\n",
       " 'make a',\n",
       " 'a speech',\n",
       " 'speech in',\n",
       " 'in nigeria',\n",
       " 'nigeria in',\n",
       " 'in the',\n",
       " 'the city',\n",
       " 'city of',\n",
       " 'of lagos',\n",
       " 'lagos on',\n",
       " 'on the',\n",
       " 'the topic',\n",
       " 'topic of',\n",
       " 'of energy',\n",
       " 'energy and',\n",
       " 'and i',\n",
       " 'i began',\n",
       " 'began the',\n",
       " 'the speech',\n",
       " 'speech by',\n",
       " 'by telling',\n",
       " 'telling them',\n",
       " 'them the',\n",
       " 'the story',\n",
       " 'story of',\n",
       " 'of what',\n",
       " 'what had',\n",
       " 'had just',\n",
       " 'just happened',\n",
       " 'happened the',\n",
       " 'the day',\n",
       " 'day before',\n",
       " 'before in',\n",
       " 'in nashville',\n",
       " 'nashville and',\n",
       " 'and i',\n",
       " 'i told',\n",
       " 'told it',\n",
       " 'it pretty',\n",
       " 'pretty much',\n",
       " 'much the',\n",
       " 'the same',\n",
       " 'same way',\n",
       " 'way i',\n",
       " 'i just',\n",
       " 'just shared',\n",
       " 'shared it',\n",
       " 'it with',\n",
       " 'with you',\n",
       " 'you tipper',\n",
       " 'tipper and',\n",
       " 'and i',\n",
       " 'i were',\n",
       " 'were driving',\n",
       " 'driving ourselves',\n",
       " 'ourselves shoney',\n",
       " 'shoney low',\n",
       " 'low cost',\n",
       " 'cost family',\n",
       " 'family restaurant',\n",
       " 'restaurant chain',\n",
       " 'chain what',\n",
       " 'what the',\n",
       " 'the man',\n",
       " 'man said',\n",
       " 'said they',\n",
       " 'they laughed',\n",
       " 'laughed i',\n",
       " 'i gave',\n",
       " 'gave my',\n",
       " 'my speech',\n",
       " 'speech then',\n",
       " 'then went',\n",
       " 'went back',\n",
       " 'back out',\n",
       " 'out to',\n",
       " 'to the',\n",
       " 'the airport',\n",
       " 'airport to',\n",
       " 'to fly',\n",
       " 'fly back',\n",
       " 'back home',\n",
       " 'home i',\n",
       " 'i fell',\n",
       " 'fell asleep',\n",
       " 'asleep on',\n",
       " 'on the',\n",
       " 'the plane',\n",
       " 'plane until',\n",
       " 'until during',\n",
       " 'during the',\n",
       " 'the middle',\n",
       " 'middle of',\n",
       " 'of the',\n",
       " 'the night',\n",
       " 'night we',\n",
       " 'we landed',\n",
       " 'landed on',\n",
       " 'on the',\n",
       " 'the azores',\n",
       " 'azores islands',\n",
       " 'islands for',\n",
       " 'for refueling',\n",
       " 'refueling i',\n",
       " 'i woke',\n",
       " 'woke up',\n",
       " 'up they',\n",
       " 'they opened',\n",
       " 'opened the',\n",
       " 'the door',\n",
       " 'door i',\n",
       " 'i went',\n",
       " 'went out',\n",
       " 'out to',\n",
       " 'to get',\n",
       " 'get some',\n",
       " 'some fresh',\n",
       " 'fresh air',\n",
       " 'air and',\n",
       " 'and i',\n",
       " 'i looked',\n",
       " 'looked and',\n",
       " 'and there',\n",
       " 'there was',\n",
       " 'was a',\n",
       " 'a man',\n",
       " 'man running',\n",
       " 'running across',\n",
       " 'across the',\n",
       " 'the runway',\n",
       " 'runway and',\n",
       " 'and he',\n",
       " 'he was',\n",
       " 'was waving',\n",
       " 'waving a',\n",
       " 'a piece',\n",
       " 'piece of',\n",
       " 'of paper',\n",
       " 'paper and',\n",
       " 'and he',\n",
       " 'he was',\n",
       " 'was yelling',\n",
       " 'yelling call',\n",
       " 'call washington',\n",
       " 'washington call',\n",
       " 'call washington',\n",
       " 'washington and',\n",
       " 'and i',\n",
       " 'i thought',\n",
       " 'thought to',\n",
       " 'to myself',\n",
       " 'myself in',\n",
       " 'in the',\n",
       " 'the middle',\n",
       " 'middle of',\n",
       " 'of the',\n",
       " 'the night',\n",
       " 'night in',\n",
       " 'in the',\n",
       " 'the middle',\n",
       " 'middle of',\n",
       " 'of the',\n",
       " 'the atlantic',\n",
       " 'atlantic what',\n",
       " 'what in',\n",
       " 'in the',\n",
       " 'the world',\n",
       " 'world could',\n",
       " 'could be',\n",
       " 'be wrong',\n",
       " 'wrong in',\n",
       " 'in washington',\n",
       " 'washington then',\n",
       " 'then i',\n",
       " 'i remembered',\n",
       " 'remembered it',\n",
       " 'it could',\n",
       " 'could be',\n",
       " 'be a',\n",
       " 'a bunch',\n",
       " 'bunch of',\n",
       " 'of things',\n",
       " 'things laughter',\n",
       " 'laughter but',\n",
       " 'but what',\n",
       " 'what it',\n",
       " 'it turned',\n",
       " 'turned out',\n",
       " 'out to',\n",
       " 'to be',\n",
       " 'be was',\n",
       " 'was that',\n",
       " 'that my',\n",
       " 'my staff',\n",
       " 'staff was',\n",
       " 'was extremely',\n",
       " 'extremely upset',\n",
       " 'upset because',\n",
       " 'because one',\n",
       " 'one of',\n",
       " 'of the',\n",
       " 'the wire',\n",
       " 'wire services',\n",
       " 'services in',\n",
       " 'in nigeria',\n",
       " 'nigeria had',\n",
       " 'had already',\n",
       " 'already written',\n",
       " 'written a',\n",
       " 'a story',\n",
       " 'story about',\n",
       " 'about my',\n",
       " 'my speech',\n",
       " 'speech and',\n",
       " 'and it',\n",
       " 'it had',\n",
       " 'had already',\n",
       " 'already been',\n",
       " 'been printed',\n",
       " 'printed in',\n",
       " 'in cities',\n",
       " 'cities all',\n",
       " 'all across',\n",
       " 'across the',\n",
       " 'the united',\n",
       " 'united states',\n",
       " 'states of',\n",
       " 'of america',\n",
       " 'america it',\n",
       " 'it was',\n",
       " 'was printed',\n",
       " 'printed in',\n",
       " 'in monterey',\n",
       " 'monterey i',\n",
       " 'i checked',\n",
       " 'checked laughter',\n",
       " 'laughter and',\n",
       " 'and the',\n",
       " 'the story',\n",
       " 'story began',\n",
       " 'began former',\n",
       " 'former vice',\n",
       " 'vice president',\n",
       " 'president al',\n",
       " 'al gore',\n",
       " 'gore announced',\n",
       " 'announced in',\n",
       " 'in nigeria',\n",
       " 'nigeria yesterday',\n",
       " 'yesterday quote',\n",
       " 'quote my',\n",
       " 'my wife',\n",
       " 'wife tipper',\n",
       " 'tipper and',\n",
       " 'and i',\n",
       " 'i have',\n",
       " 'have opened',\n",
       " 'opened a',\n",
       " 'a low',\n",
       " 'low cost',\n",
       " 'cost family',\n",
       " 'family restaurant',\n",
       " 'restaurant laughter',\n",
       " 'laughter named',\n",
       " 'named shoney',\n",
       " 'shoney and',\n",
       " 'and we',\n",
       " 'we are',\n",
       " 'are running',\n",
       " 'running it',\n",
       " 'it ourselves',\n",
       " 'ourselves laughter',\n",
       " 'laughter before',\n",
       " 'before i',\n",
       " 'i could',\n",
       " 'could get',\n",
       " 'get back',\n",
       " 'back to',\n",
       " 'to soil',\n",
       " 'soil david',\n",
       " 'david letterman',\n",
       " 'letterman and',\n",
       " 'and jay',\n",
       " 'jay leno',\n",
       " 'leno had',\n",
       " 'had already',\n",
       " 'already started',\n",
       " 'started in',\n",
       " 'in on',\n",
       " 'on one',\n",
       " 'one of',\n",
       " 'of them',\n",
       " 'them had',\n",
       " 'had me',\n",
       " 'me in',\n",
       " 'in a',\n",
       " 'a big',\n",
       " 'big white',\n",
       " 'white chef',\n",
       " 'chef hat',\n",
       " 'hat tipper',\n",
       " 'tipper was',\n",
       " 'was saying',\n",
       " 'saying one',\n",
       " 'one more',\n",
       " 'more burger',\n",
       " 'burger with',\n",
       " 'with fries',\n",
       " 'fries laughter',\n",
       " 'laughter three',\n",
       " 'three days',\n",
       " 'days later',\n",
       " 'later i',\n",
       " 'i got',\n",
       " 'got a',\n",
       " 'a nice',\n",
       " 'nice long',\n",
       " 'long handwritten',\n",
       " 'handwritten letter',\n",
       " 'letter from',\n",
       " 'from my',\n",
       " 'my friend',\n",
       " 'friend and',\n",
       " 'and partner',\n",
       " 'partner and',\n",
       " 'and colleague',\n",
       " 'colleague bill',\n",
       " 'bill clinton',\n",
       " 'clinton saying',\n",
       " 'saying congratulations',\n",
       " 'congratulations on',\n",
       " 'on the',\n",
       " 'the new',\n",
       " 'new restaurant',\n",
       " 'restaurant al',\n",
       " 'al laughter',\n",
       " 'laughter we',\n",
       " 'we like',\n",
       " 'like to',\n",
       " 'to celebrate',\n",
       " 'celebrate each',\n",
       " 'each other',\n",
       " 'other successes',\n",
       " 'successes in',\n",
       " 'in life',\n",
       " 'life laughter',\n",
       " 'laughter i',\n",
       " 'i was',\n",
       " 'was going',\n",
       " 'going to',\n",
       " 'to talk',\n",
       " 'talk about',\n",
       " 'about information',\n",
       " 'information ecology',\n",
       " 'ecology but',\n",
       " 'but i',\n",
       " 'i was',\n",
       " 'was thinking',\n",
       " 'thinking that',\n",
       " 'that since',\n",
       " 'since i',\n",
       " 'i plan',\n",
       " 'plan to',\n",
       " 'to make',\n",
       " 'make a',\n",
       " 'a lifelong',\n",
       " 'lifelong habit',\n",
       " 'habit of',\n",
       " 'of coming',\n",
       " 'coming back',\n",
       " 'back to',\n",
       " 'to ted',\n",
       " 'ted that',\n",
       " 'that maybe',\n",
       " 'maybe i',\n",
       " 'i could',\n",
       " 'could talk',\n",
       " 'talk about',\n",
       " 'about that',\n",
       " 'that another',\n",
       " 'another time',\n",
       " 'time applause',\n",
       " 'applause chris',\n",
       " 'chris anderson',\n",
       " 'anderson it',\n",
       " 'it a',\n",
       " 'a deal',\n",
       " 'deal applause',\n",
       " 'applause al',\n",
       " 'al gore',\n",
       " 'gore i',\n",
       " 'i want',\n",
       " 'want to',\n",
       " 'to focus',\n",
       " 'focus on',\n",
       " 'on what',\n",
       " 'what many',\n",
       " 'many of',\n",
       " 'of you',\n",
       " 'you have',\n",
       " 'have said',\n",
       " 'said you',\n",
       " 'you would',\n",
       " 'would like',\n",
       " 'like me',\n",
       " 'me to',\n",
       " 'to elaborate',\n",
       " 'elaborate on',\n",
       " 'on what',\n",
       " 'what can',\n",
       " 'can you',\n",
       " 'you do',\n",
       " 'do about',\n",
       " 'about the',\n",
       " 'the climate',\n",
       " 'climate crisis',\n",
       " 'crisis i',\n",
       " 'i want',\n",
       " 'want to',\n",
       " 'to start',\n",
       " 'start with',\n",
       " 'with a',\n",
       " 'a couple',\n",
       " 'couple of',\n",
       " 'of i',\n",
       " 'i going',\n",
       " 'going to',\n",
       " 'to show',\n",
       " 'show some',\n",
       " 'some new',\n",
       " 'new images',\n",
       " 'images and',\n",
       " 'and i',\n",
       " 'i going',\n",
       " 'going to',\n",
       " 'to recapitulate',\n",
       " 'recapitulate just',\n",
       " 'just four',\n",
       " 'four or',\n",
       " 'or five',\n",
       " 'five now',\n",
       " 'now the',\n",
       " 'the slide',\n",
       " 'slide show',\n",
       " 'show i',\n",
       " 'i update',\n",
       " 'update the',\n",
       " 'the slide',\n",
       " 'slide show',\n",
       " 'show every',\n",
       " 'every time',\n",
       " 'time i',\n",
       " 'i give',\n",
       " 'give it',\n",
       " 'it i',\n",
       " 'i add',\n",
       " 'add new',\n",
       " 'new images',\n",
       " 'images because',\n",
       " 'because i',\n",
       " 'i learn',\n",
       " 'learn more',\n",
       " 'more about',\n",
       " 'about it',\n",
       " 'it every',\n",
       " 'every time',\n",
       " 'time i',\n",
       " 'i give',\n",
       " 'give it',\n",
       " 'it it',\n",
       " 'it like',\n",
       " 'like beach',\n",
       " 'beach combing',\n",
       " 'combing you',\n",
       " 'you know',\n",
       " 'know every',\n",
       " 'every time',\n",
       " 'time the',\n",
       " 'the tide',\n",
       " 'tide comes',\n",
       " 'comes in',\n",
       " 'in and',\n",
       " 'and out',\n",
       " 'out you',\n",
       " 'you find',\n",
       " 'find some',\n",
       " 'some more',\n",
       " 'more shells',\n",
       " 'shells just',\n",
       " 'just in',\n",
       " 'in the',\n",
       " 'the last',\n",
       " 'last two',\n",
       " 'two days',\n",
       " 'days we',\n",
       " 'we got',\n",
       " 'got the',\n",
       " 'the new',\n",
       " 'new temperature',\n",
       " 'temperature records',\n",
       " 'records in',\n",
       " 'in january',\n",
       " 'january this',\n",
       " 'this is',\n",
       " 'is just',\n",
       " 'just for',\n",
       " 'for the',\n",
       " 'the united',\n",
       " 'united states',\n",
       " 'states of',\n",
       " 'of america',\n",
       " 'america historical',\n",
       " 'historical average',\n",
       " 'average for',\n",
       " 'for januarys',\n",
       " 'januarys is',\n",
       " 'is degrees',\n",
       " 'degrees last',\n",
       " 'last month',\n",
       " 'month was',\n",
       " 'was degrees',\n",
       " 'degrees now',\n",
       " 'now i',\n",
       " 'i know',\n",
       " 'know that',\n",
       " 'that you',\n",
       " 'you wanted',\n",
       " 'wanted some',\n",
       " 'some more',\n",
       " 'more bad',\n",
       " 'bad news',\n",
       " 'news about',\n",
       " 'about the',\n",
       " 'the environment',\n",
       " 'environment i',\n",
       " 'i kidding',\n",
       " 'kidding but',\n",
       " 'but these',\n",
       " 'these are',\n",
       " 'are the',\n",
       " 'the recapitulation',\n",
       " 'recapitulation slides',\n",
       " 'slides and',\n",
       " 'and then',\n",
       " 'then i',\n",
       " 'i going',\n",
       " 'going to',\n",
       " 'to go',\n",
       " 'go into',\n",
       " 'into new',\n",
       " 'new material',\n",
       " 'material about',\n",
       " 'about what',\n",
       " 'what you',\n",
       " 'you can',\n",
       " 'can do',\n",
       " 'do but',\n",
       " 'but i',\n",
       " 'i wanted',\n",
       " 'wanted to',\n",
       " 'to elaborate',\n",
       " 'elaborate on',\n",
       " 'on a',\n",
       " 'a couple',\n",
       " 'couple of',\n",
       " 'of these',\n",
       " 'these first',\n",
       " 'first of',\n",
       " 'of all',\n",
       " 'all this',\n",
       " 'this is',\n",
       " 'is where',\n",
       " 'where we',\n",
       " 'we projected',\n",
       " 'projected to',\n",
       " 'to go',\n",
       " 'go with',\n",
       " 'with the',\n",
       " 'the contribution',\n",
       " 'contribution to',\n",
       " 'to global',\n",
       " 'global warming',\n",
       " 'warming under',\n",
       " 'under business',\n",
       " 'business as',\n",
       " 'as usual',\n",
       " 'usual efficiency',\n",
       " 'efficiency in',\n",
       " 'in end',\n",
       " 'end use',\n",
       " 'use electricity',\n",
       " 'electricity and',\n",
       " 'and end',\n",
       " 'end use',\n",
       " 'use of',\n",
       " 'of all',\n",
       " 'all energy',\n",
       " 'energy is',\n",
       " 'is the',\n",
       " 'the low',\n",
       " 'low hanging',\n",
       " 'hanging fruit',\n",
       " 'fruit efficiency',\n",
       " 'efficiency and',\n",
       " 'and conservation',\n",
       " 'conservation it',\n",
       " 'it not',\n",
       " 'not a',\n",
       " 'a cost',\n",
       " 'cost it',\n",
       " 'it a',\n",
       " 'a profit',\n",
       " 'profit the',\n",
       " 'the sign',\n",
       " 'sign is',\n",
       " 'is wrong',\n",
       " 'wrong it',\n",
       " 'it not',\n",
       " 'not negative',\n",
       " 'negative it',\n",
       " 'it positive',\n",
       " 'positive these',\n",
       " 'these are',\n",
       " 'are investments',\n",
       " 'investments that',\n",
       " 'that pay',\n",
       " 'pay for',\n",
       " 'for themselves',\n",
       " 'themselves but',\n",
       " 'but they',\n",
       " 'they are',\n",
       " 'are also',\n",
       " 'also very',\n",
       " 'very effective',\n",
       " 'effective in',\n",
       " 'in deflecting',\n",
       " 'deflecting our',\n",
       " 'our path',\n",
       " ...]"
      ]
     },
     "execution_count": 42,
     "metadata": {},
     "output_type": "execute_result"
    }
   ],
   "source": [
    "doc_bigrams[0]"
   ]
  },
  {
   "cell_type": "code",
   "execution_count": 43,
   "id": "b93459ac",
   "metadata": {},
   "outputs": [],
   "source": [
    "bigram2vec = Word2Vec(doc_bigrams, min_count=5, window = 20)"
   ]
  },
  {
   "cell_type": "markdown",
   "id": "062813a9",
   "metadata": {},
   "source": [
    "### 20 talks, default window\n",
    "bigram2vec.wv.most_similar(\"kind of\")\n",
    "\n",
    "`[('is the', 0.9678242802619934),\n",
    " ('of the', 0.9669575691223145),\n",
    " ('it s', 0.9658999443054199),\n",
    " ('in the', 0.9641684889793396),\n",
    " ('and i', 0.9638648629188538),\n",
    " ('on the', 0.9616329669952393),\n",
    " ('and the', 0.9615666270256042),\n",
    " ('if you', 0.9613533616065979),\n",
    " ('you can', 0.9594166874885559),\n",
    " ('to do', 0.959026575088501)]`"
   ]
  },
  {
   "cell_type": "markdown",
   "id": "e7d36e60",
   "metadata": {},
   "source": [
    "### 100 talks, default window\n",
    "bigram2vec.wv.most_similar(\"kind of\")\n",
    "\n",
    "`[('on the', 0.9999475479125977),\n",
    " ('of a', 0.9999454021453857),\n",
    " ('sort of', 0.9999436736106873),\n",
    " ('and the', 0.9999433755874634),\n",
    " ('into the', 0.9999430179595947),\n",
    " ('and he', 0.9999375343322754),\n",
    " ('it the', 0.9999349117279053),\n",
    " ('on a', 0.9999347925186157),\n",
    " ('from the', 0.9999346733093262),\n",
    " ('in this', 0.9999346733093262)]`"
   ]
  },
  {
   "cell_type": "markdown",
   "id": "ea6c82aa",
   "metadata": {},
   "source": [
    "### 100 talks, window = 20\n",
    "bigram2vec.wv.most_similar(\"kind of\")\n",
    "\n",
    "`[('of a', 0.9999916553497314),\n",
    " ('into the', 0.999990701675415),\n",
    " ('it a', 0.9999901056289673),\n",
    " ('on the', 0.9999899864196777),\n",
    " ('on a', 0.9999896287918091),\n",
    " ('it the', 0.9999895691871643),\n",
    " ('sort of', 0.99998939037323),\n",
    " ('like this', 0.9999883770942688),\n",
    " ('and a', 0.9999881982803345),\n",
    " ('to a', 0.9999878406524658)]`"
   ]
  },
  {
   "cell_type": "markdown",
   "id": "9cba4ba8",
   "metadata": {},
   "source": [
    "### 100 talks, window = 20, min = 5\n",
    "bigram2vec.wv.most_similar(\"kind of\")\n",
    "\n",
    "`[('on a', 0.9999414682388306),\n",
    " ('sort of', 0.9999383687973022),\n",
    " ('into the', 0.9999372959136963),\n",
    " ('in a', 0.9999362230300903),\n",
    " ('it the', 0.9999334812164307),\n",
    " ('it a', 0.9999327659606934),\n",
    " ('to a', 0.9999301433563232),\n",
    " ('so it', 0.9999282360076904),\n",
    " ('and a', 0.9999277591705322),\n",
    " ('like a', 0.9999269247055054)]`"
   ]
  },
  {
   "cell_type": "code",
   "execution_count": 44,
   "id": "bb38ed0c",
   "metadata": {},
   "outputs": [
    {
     "data": {
      "text/plain": [
       "[('it a', 0.9999397397041321),\n",
       " ('into the', 0.9999394416809082),\n",
       " ('as a', 0.9999366998672485),\n",
       " ('of this', 0.9999359846115112),\n",
       " ('it the', 0.9999359846115112),\n",
       " ('in a', 0.9999358654022217),\n",
       " ('sort of', 0.9999354481697083),\n",
       " ('a very', 0.9999338388442993),\n",
       " ('on a', 0.9999335408210754),\n",
       " ('like a', 0.9999316930770874)]"
      ]
     },
     "execution_count": 44,
     "metadata": {},
     "output_type": "execute_result"
    }
   ],
   "source": [
    "bigram2vec.wv.most_similar(\"kind of\")"
   ]
  },
  {
   "cell_type": "code",
   "execution_count": 46,
   "id": "693fcc90",
   "metadata": {
    "scrolled": true
   },
   "outputs": [
    {
     "data": {
      "text/plain": [
       "[('out of', 0.999960720539093),\n",
       " ('of this', 0.9999575018882751),\n",
       " ('of that', 0.999955415725708),\n",
       " ('in a', 0.9999552965164185),\n",
       " ('to a', 0.9999551773071289),\n",
       " ('as a', 0.9999541640281677),\n",
       " ('into the', 0.999953031539917),\n",
       " ('a year', 0.9999524354934692),\n",
       " ('on a', 0.9999517798423767),\n",
       " ('of course', 0.9999503493309021)]"
      ]
     },
     "execution_count": 46,
     "metadata": {},
     "output_type": "execute_result"
    }
   ],
   "source": [
    "bigram2vec.wv.most_similar(\"sort of\")"
   ]
  },
  {
   "cell_type": "code",
   "execution_count": 47,
   "id": "7ea5a7db",
   "metadata": {},
   "outputs": [
    {
     "ename": "KeyError",
     "evalue": "\"word 'I guess' not in vocabulary\"",
     "output_type": "error",
     "traceback": [
      "\u001b[0;31m---------------------------------------------------------------------------\u001b[0m",
      "\u001b[0;31mKeyError\u001b[0m                                  Traceback (most recent call last)",
      "\u001b[0;32m/var/folders/6h/xgfgqk0j3cs7fqvzc0b6l868t3nxsy/T/ipykernel_67838/1806674382.py\u001b[0m in \u001b[0;36m<module>\u001b[0;34m\u001b[0m\n\u001b[0;32m----> 1\u001b[0;31m \u001b[0mbigram2vec\u001b[0m\u001b[0;34m.\u001b[0m\u001b[0mwv\u001b[0m\u001b[0;34m.\u001b[0m\u001b[0mmost_similar\u001b[0m\u001b[0;34m(\u001b[0m\u001b[0;34m\"I guess\"\u001b[0m\u001b[0;34m)\u001b[0m\u001b[0;34m\u001b[0m\u001b[0;34m\u001b[0m\u001b[0m\n\u001b[0m",
      "\u001b[0;32m~/opt/anaconda3/envs/tedtalks/lib/python3.9/site-packages/gensim/models/keyedvectors.py\u001b[0m in \u001b[0;36mmost_similar\u001b[0;34m(self, positive, negative, topn, restrict_vocab, indexer)\u001b[0m\n\u001b[1;32m    551\u001b[0m                 \u001b[0mmean\u001b[0m\u001b[0;34m.\u001b[0m\u001b[0mappend\u001b[0m\u001b[0;34m(\u001b[0m\u001b[0mweight\u001b[0m \u001b[0;34m*\u001b[0m \u001b[0mword\u001b[0m\u001b[0;34m)\u001b[0m\u001b[0;34m\u001b[0m\u001b[0;34m\u001b[0m\u001b[0m\n\u001b[1;32m    552\u001b[0m             \u001b[0;32melse\u001b[0m\u001b[0;34m:\u001b[0m\u001b[0;34m\u001b[0m\u001b[0;34m\u001b[0m\u001b[0m\n\u001b[0;32m--> 553\u001b[0;31m                 \u001b[0mmean\u001b[0m\u001b[0;34m.\u001b[0m\u001b[0mappend\u001b[0m\u001b[0;34m(\u001b[0m\u001b[0mweight\u001b[0m \u001b[0;34m*\u001b[0m \u001b[0mself\u001b[0m\u001b[0;34m.\u001b[0m\u001b[0mword_vec\u001b[0m\u001b[0;34m(\u001b[0m\u001b[0mword\u001b[0m\u001b[0;34m,\u001b[0m \u001b[0muse_norm\u001b[0m\u001b[0;34m=\u001b[0m\u001b[0;32mTrue\u001b[0m\u001b[0;34m)\u001b[0m\u001b[0;34m)\u001b[0m\u001b[0;34m\u001b[0m\u001b[0;34m\u001b[0m\u001b[0m\n\u001b[0m\u001b[1;32m    554\u001b[0m                 \u001b[0;32mif\u001b[0m \u001b[0mword\u001b[0m \u001b[0;32min\u001b[0m \u001b[0mself\u001b[0m\u001b[0;34m.\u001b[0m\u001b[0mvocab\u001b[0m\u001b[0;34m:\u001b[0m\u001b[0;34m\u001b[0m\u001b[0;34m\u001b[0m\u001b[0m\n\u001b[1;32m    555\u001b[0m                     \u001b[0mall_words\u001b[0m\u001b[0;34m.\u001b[0m\u001b[0madd\u001b[0m\u001b[0;34m(\u001b[0m\u001b[0mself\u001b[0m\u001b[0;34m.\u001b[0m\u001b[0mvocab\u001b[0m\u001b[0;34m[\u001b[0m\u001b[0mword\u001b[0m\u001b[0;34m]\u001b[0m\u001b[0;34m.\u001b[0m\u001b[0mindex\u001b[0m\u001b[0;34m)\u001b[0m\u001b[0;34m\u001b[0m\u001b[0;34m\u001b[0m\u001b[0m\n",
      "\u001b[0;32m~/opt/anaconda3/envs/tedtalks/lib/python3.9/site-packages/gensim/models/keyedvectors.py\u001b[0m in \u001b[0;36mword_vec\u001b[0;34m(self, word, use_norm)\u001b[0m\n\u001b[1;32m    466\u001b[0m             \u001b[0;32mreturn\u001b[0m \u001b[0mresult\u001b[0m\u001b[0;34m\u001b[0m\u001b[0;34m\u001b[0m\u001b[0m\n\u001b[1;32m    467\u001b[0m         \u001b[0;32melse\u001b[0m\u001b[0;34m:\u001b[0m\u001b[0;34m\u001b[0m\u001b[0;34m\u001b[0m\u001b[0m\n\u001b[0;32m--> 468\u001b[0;31m             \u001b[0;32mraise\u001b[0m \u001b[0mKeyError\u001b[0m\u001b[0;34m(\u001b[0m\u001b[0;34m\"word '%s' not in vocabulary\"\u001b[0m \u001b[0;34m%\u001b[0m \u001b[0mword\u001b[0m\u001b[0;34m)\u001b[0m\u001b[0;34m\u001b[0m\u001b[0;34m\u001b[0m\u001b[0m\n\u001b[0m\u001b[1;32m    469\u001b[0m \u001b[0;34m\u001b[0m\u001b[0m\n\u001b[1;32m    470\u001b[0m     \u001b[0;32mdef\u001b[0m \u001b[0mget_vector\u001b[0m\u001b[0;34m(\u001b[0m\u001b[0mself\u001b[0m\u001b[0;34m,\u001b[0m \u001b[0mword\u001b[0m\u001b[0;34m)\u001b[0m\u001b[0;34m:\u001b[0m\u001b[0;34m\u001b[0m\u001b[0;34m\u001b[0m\u001b[0m\n",
      "\u001b[0;31mKeyError\u001b[0m: \"word 'I guess' not in vocabulary\""
     ]
    }
   ],
   "source": [
    "bigram2vec.wv.most_similar(\"I guess\")"
   ]
  },
  {
   "cell_type": "markdown",
   "id": "707a4fbe",
   "metadata": {},
   "source": [
    "# Scratch work below here\n",
    "\n",
    "## WANT: a list of lists \n",
    "\n",
    " * Each text should be preserved \n",
    " * Then we should create a list of words"
   ]
  },
  {
   "cell_type": "code",
   "execution_count": 45,
   "id": "fe11cfe9",
   "metadata": {},
   "outputs": [
    {
     "name": "stdout",
     "output_type": "stream",
     "text": [
      "3\n",
      "3\n",
      "3\n",
      "3\n"
     ]
    }
   ],
   "source": [
    "test = ['one',\"Two\\'s\",'.ThreE']\n",
    "#test = partitioned_texts[0:3]\n",
    "print(len(test))\n",
    "#https://www.delftstack.com/howto/python/python-lowercase-list/\n",
    "\n",
    "test = [word.lower() for word in test]\n",
    "print(len(test))\n",
    "test = [re.sub('[^a-zA-Z]', ' ', word) for word in test]\n",
    "print(len(test))\n",
    "test= [re.sub(r'\\s+', ' ', word) for word in test]\n",
    "print(len(test))\n"
   ]
  },
  {
   "cell_type": "code",
   "execution_count": 76,
   "id": "d2db97ca",
   "metadata": {},
   "outputs": [
    {
     "data": {
      "text/plain": [
       "['one', 'two s', ' three']"
      ]
     },
     "execution_count": 76,
     "metadata": {},
     "output_type": "execute_result"
    }
   ],
   "source": [
    "test"
   ]
  },
  {
   "cell_type": "code",
   "execution_count": 80,
   "id": "8176f03f",
   "metadata": {},
   "outputs": [
    {
     "data": {
      "text/plain": [
       "'two and'"
      ]
     },
     "execution_count": 80,
     "metadata": {},
     "output_type": "execute_result"
    }
   ],
   "source": [
    "remove_stoplist('two s and')"
   ]
  },
  {
   "cell_type": "code",
   "execution_count": 81,
   "id": "81a380ae",
   "metadata": {},
   "outputs": [],
   "source": [
    "test_texts = [remove_stoplist(text) for text in test]"
   ]
  },
  {
   "cell_type": "code",
   "execution_count": 82,
   "id": "d278cc1c",
   "metadata": {},
   "outputs": [
    {
     "data": {
      "text/plain": [
       "['one', 'two', 'three']"
      ]
     },
     "execution_count": 82,
     "metadata": {},
     "output_type": "execute_result"
    }
   ],
   "source": [
    "test_texts"
   ]
  },
  {
   "cell_type": "code",
   "execution_count": 83,
   "id": "30d59411",
   "metadata": {},
   "outputs": [],
   "source": [
    "test_texts = [remove_stoplist(text) for text in test]\n",
    "\n",
    "test_texts = [nltk.word_tokenize(text) for text in test_texts]"
   ]
  },
  {
   "cell_type": "code",
   "execution_count": 84,
   "id": "8c0d27a3",
   "metadata": {},
   "outputs": [
    {
     "data": {
      "text/plain": [
       "[['one'], ['two'], ['three']]"
      ]
     },
     "execution_count": 84,
     "metadata": {},
     "output_type": "execute_result"
    }
   ],
   "source": [
    "test_texts"
   ]
  },
  {
   "cell_type": "code",
   "execution_count": null,
   "id": "b5dacc99",
   "metadata": {},
   "outputs": [],
   "source": [
    "constants = "
   ]
  },
  {
   "cell_type": "code",
   "execution_count": 53,
   "id": "0eb0955a",
   "metadata": {},
   "outputs": [],
   "source": [
    "all_letters = string.ascii_letters"
   ]
  },
  {
   "cell_type": "code",
   "execution_count": 58,
   "id": "ba3686c9",
   "metadata": {},
   "outputs": [],
   "source": [
    "stops = list(all_letters[:26])"
   ]
  },
  {
   "cell_type": "code",
   "execution_count": 61,
   "id": "55d44d4d",
   "metadata": {},
   "outputs": [
    {
     "ename": "AttributeError",
     "evalue": "'str' object has no attribute 'pop'",
     "output_type": "error",
     "traceback": [
      "\u001b[0;31m---------------------------------------------------------------------------\u001b[0m",
      "\u001b[0;31mAttributeError\u001b[0m                            Traceback (most recent call last)",
      "\u001b[0;32m/var/folders/6h/xgfgqk0j3cs7fqvzc0b6l868t3nxsy/T/ipykernel_44867/2532388332.py\u001b[0m in \u001b[0;36m<module>\u001b[0;34m\u001b[0m\n\u001b[0;32m----> 1\u001b[0;31m \u001b[0mstops\u001b[0m\u001b[0;34m.\u001b[0m\u001b[0mpop\u001b[0m\u001b[0;34m(\u001b[0m\u001b[0;36m8\u001b[0m\u001b[0;34m)\u001b[0m\u001b[0;34m.\u001b[0m\u001b[0mpop\u001b[0m\u001b[0;34m(\u001b[0m\u001b[0;36m0\u001b[0m\u001b[0;34m)\u001b[0m\u001b[0;34m\u001b[0m\u001b[0;34m\u001b[0m\u001b[0m\n\u001b[0m",
      "\u001b[0;31mAttributeError\u001b[0m: 'str' object has no attribute 'pop'"
     ]
    }
   ],
   "source": [
    "stops.pop(8)"
   ]
  },
  {
   "cell_type": "code",
   "execution_count": 62,
   "id": "40e796d3",
   "metadata": {},
   "outputs": [
    {
     "data": {
      "text/plain": [
       "'a'"
      ]
     },
     "execution_count": 62,
     "metadata": {},
     "output_type": "execute_result"
    }
   ],
   "source": [
    "stops.pop(0)"
   ]
  },
  {
   "cell_type": "code",
   "execution_count": 63,
   "id": "148e35a9",
   "metadata": {},
   "outputs": [
    {
     "data": {
      "text/plain": [
       "['b',\n",
       " 'c',\n",
       " 'd',\n",
       " 'e',\n",
       " 'f',\n",
       " 'g',\n",
       " 'h',\n",
       " 'k',\n",
       " 'l',\n",
       " 'm',\n",
       " 'n',\n",
       " 'o',\n",
       " 'p',\n",
       " 'q',\n",
       " 'r',\n",
       " 's',\n",
       " 't',\n",
       " 'u',\n",
       " 'v',\n",
       " 'w',\n",
       " 'x',\n",
       " 'y',\n",
       " 'z']"
      ]
     },
     "execution_count": 63,
     "metadata": {},
     "output_type": "execute_result"
    }
   ],
   "source": [
    "stops"
   ]
  },
  {
   "cell_type": "code",
   "execution_count": null,
   "id": "1e3935e0",
   "metadata": {},
   "outputs": [],
   "source": [
    "test_texts = "
   ]
  },
  {
   "cell_type": "code",
   "execution_count": null,
   "id": "0ba6a0a2",
   "metadata": {},
   "outputs": [],
   "source": [
    "processed_texts = [text.lower() for text in partitioned_texts]\n",
    "processed_texts = [re.sub('[^a-zA-Z]', ' ', text) for text in processed_texts]\n",
    "processed_texts = [re.sub(r'\\s+', ' ', text) for text in processed_texts]"
   ]
  },
  {
   "cell_type": "code",
   "execution_count": 19,
   "id": "43760ce1",
   "metadata": {},
   "outputs": [],
   "source": [
    "test1 = test_sub[:-1]\n",
    "test2 = test_sub[1:]"
   ]
  },
  {
   "cell_type": "code",
   "execution_count": 23,
   "id": "5629f6be",
   "metadata": {},
   "outputs": [],
   "source": [
    "test1\n",
    "test2\n",
    "\n",
    "test3 = []\n",
    "for inds in range(len(test1)):\n",
    "    bigram = test1[inds] + \" \" + test2[inds]\n",
    "    test3.append(bigram)"
   ]
  },
  {
   "cell_type": "code",
   "execution_count": 24,
   "id": "e3dba1f6",
   "metadata": {},
   "outputs": [
    {
     "data": {
      "text/plain": [
       "['one twos', 'twos three']"
      ]
     },
     "execution_count": 24,
     "metadata": {},
     "output_type": "execute_result"
    }
   ],
   "source": [
    "test3\n"
   ]
  },
  {
   "cell_type": "code",
   "execution_count": 29,
   "id": "349d1ee3",
   "metadata": {},
   "outputs": [
    {
     "data": {
      "text/plain": [
       "['one twos', 'twos three']"
      ]
     },
     "execution_count": 29,
     "metadata": {},
     "output_type": "execute_result"
    }
   ],
   "source": [
    "[\"{} {}\".format(l_word,r_word) for l_word,r_word in zip(test1,test2)]"
   ]
  },
  {
   "cell_type": "code",
   "execution_count": 28,
   "id": "a9d5ffe3",
   "metadata": {},
   "outputs": [
    {
     "name": "stdout",
     "output_type": "stream",
     "text": [
      "twos\n",
      "three\n"
     ]
    }
   ],
   "source": [
    "for l_word,r_word in zip(test1,test2):\n",
    "    print(r_word)"
   ]
  },
  {
   "cell_type": "code",
   "execution_count": null,
   "id": "c2ac4168",
   "metadata": {},
   "outputs": [],
   "source": []
  },
  {
   "cell_type": "code",
   "execution_count": null,
   "id": "e66abb41",
   "metadata": {},
   "outputs": [],
   "source": []
  },
  {
   "cell_type": "code",
   "execution_count": 11,
   "id": "f8b04535",
   "metadata": {},
   "outputs": [],
   "source": [
    "processed_texts = text_all.lower()\n",
    "processed_texts = re.sub('[^a-zA-Z]', ' ', processed_texts)\n",
    "processed_texts = re.sub(r'\\s+', ' ', processed_texts)"
   ]
  },
  {
   "cell_type": "code",
   "execution_count": 12,
   "id": "c79d74a6",
   "metadata": {},
   "outputs": [
    {
     "data": {
      "text/plain": [
       "' thank you so much chris and it s truly a great ho'"
      ]
     },
     "execution_count": 12,
     "metadata": {},
     "output_type": "execute_result"
    }
   ],
   "source": [
    "processed_texts[:50]"
   ]
  },
  {
   "cell_type": "code",
   "execution_count": 10,
   "id": "4e9c01f1",
   "metadata": {},
   "outputs": [],
   "source": [
    "# From https://stackabuse.com/implementing-word2vec-with-gensim-library-in-python/\n",
    "\n",
    "all_sentences = nltk.sent_tokenize(processed_texts)\n",
    "\n",
    "all_words = [nltk.word_tokenize(sent) for sent in all_sentences]"
   ]
  },
  {
   "cell_type": "code",
   "execution_count": 11,
   "id": "e9db6b67",
   "metadata": {},
   "outputs": [
    {
     "data": {
      "text/plain": [
       "list"
      ]
     },
     "execution_count": 11,
     "metadata": {},
     "output_type": "execute_result"
    }
   ],
   "source": [
    "type(all_sentences)"
   ]
  },
  {
   "cell_type": "code",
   "execution_count": 21,
   "id": "82c523ea",
   "metadata": {},
   "outputs": [
    {
     "data": {
      "text/plain": [
       "10699443"
      ]
     },
     "execution_count": 21,
     "metadata": {},
     "output_type": "execute_result"
    }
   ],
   "source": [
    "len(all_sentences[0])"
   ]
  },
  {
   "cell_type": "code",
   "execution_count": 26,
   "id": "f51c9481",
   "metadata": {},
   "outputs": [
    {
     "ename": "NameError",
     "evalue": "name 'Word2Vec' is not defined",
     "output_type": "error",
     "traceback": [
      "\u001b[0;31m---------------------------------------------------------------------------\u001b[0m",
      "\u001b[0;31mNameError\u001b[0m                                 Traceback (most recent call last)",
      "\u001b[0;32m/var/folders/6h/xgfgqk0j3cs7fqvzc0b6l868t3nxsy/T/ipykernel_19515/3725673184.py\u001b[0m in \u001b[0;36m<module>\u001b[0;34m\u001b[0m\n\u001b[0;32m----> 1\u001b[0;31m \u001b[0mword2vec\u001b[0m \u001b[0;34m=\u001b[0m \u001b[0mWord2Vec\u001b[0m\u001b[0;34m(\u001b[0m\u001b[0mall_words\u001b[0m\u001b[0;34m,\u001b[0m \u001b[0mmin_count\u001b[0m\u001b[0;34m=\u001b[0m\u001b[0;36m2\u001b[0m\u001b[0;34m)\u001b[0m\u001b[0;34m\u001b[0m\u001b[0;34m\u001b[0m\u001b[0m\n\u001b[0m",
      "\u001b[0;31mNameError\u001b[0m: name 'Word2Vec' is not defined"
     ]
    }
   ],
   "source": [
    "word2vec = Word2Vec(all_words, min_count=2)"
   ]
  },
  {
   "cell_type": "code",
   "execution_count": null,
   "id": "d705e8d5",
   "metadata": {},
   "outputs": [],
   "source": []
  }
 ],
 "metadata": {
  "kernelspec": {
   "display_name": "Python 3 (ipykernel)",
   "language": "python",
   "name": "python3"
  },
  "language_info": {
   "codemirror_mode": {
    "name": "ipython",
    "version": 3
   },
   "file_extension": ".py",
   "mimetype": "text/x-python",
   "name": "python",
   "nbconvert_exporter": "python",
   "pygments_lexer": "ipython3",
   "version": "3.9.10"
  }
 },
 "nbformat": 4,
 "nbformat_minor": 5
}
