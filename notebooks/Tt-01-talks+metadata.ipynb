{
 "cells": [
  {
   "cell_type": "code",
   "execution_count": 2,
   "metadata": {
    "collapsed": true
   },
   "outputs": [],
   "source": [
    "# TEDtalks: Topics with LDA\n",
    "\n",
    "# =-=-=-=-=-=\n",
    "# Read CSV into DataFrame and then create lists\n",
    "# =-=-=-=-=-=\n",
    "\n",
    "import pandas\n",
    "import re\n",
    "\n",
    "\n",
    "# Create pandas dataframe\n",
    "colnames = ['author', 'title', 'date' , 'length', 'text']\n",
    "df = pandas.read_csv('../data/talks_3a.csv', names=colnames)\n",
    "\n",
    "# Create lists for the data\n",
    "talks = df.text.tolist()\n",
    "authors = df.author.tolist()\n",
    "dates = df.date.tolist()\n",
    "\n",
    "# Get years & combine with author\n",
    "years = [re.sub('[A-Za-z ]', '', item) for item in dates]\n",
    "authordate = [author+\" \"+year for author, year in zip(authors, years)]\n",
    "\n",
    "# Just to check to see if things are synced,\n",
    "# let's create a new df with the two lists.\n",
    "\n",
    "citations = pandas.DataFrame(\n",
    "    {'citation': authordate,\n",
    "     'text': talks,\n",
    "    })"
   ]
  },
  {
   "cell_type": "code",
   "execution_count": null,
   "metadata": {
    "collapsed": true
   },
   "outputs": [],
   "source": [
    "# First, replace the first item with the correct label for the new column\n",
    "authordate[0] = \"citation\""
   ]
  },
  {
   "cell_type": "code",
   "execution_count": 12,
   "metadata": {},
   "outputs": [],
   "source": [
    "# Second, convert the list to a series\n",
    "citations = pandas.Series(authordate) "
   ]
  },
  {
   "cell_type": "code",
   "execution_count": 14,
   "metadata": {
    "scrolled": true
   },
   "outputs": [],
   "source": [
    "# Third, add to dataframe above\n",
    "df['citation'] = citations.values\n",
    "\n",
    "# df.head(10)"
   ]
  },
  {
   "cell_type": "code",
   "execution_count": 19,
   "metadata": {},
   "outputs": [
    {
     "data": {
      "text/html": [
       "<div>\n",
       "<table border=\"1\" class=\"dataframe\">\n",
       "  <thead>\n",
       "    <tr style=\"text-align: right;\">\n",
       "      <th></th>\n",
       "      <th>author</th>\n",
       "      <th>title</th>\n",
       "      <th>date</th>\n",
       "      <th>length</th>\n",
       "      <th>text</th>\n",
       "    </tr>\n",
       "    <tr>\n",
       "      <th>citation</th>\n",
       "      <th></th>\n",
       "      <th></th>\n",
       "      <th></th>\n",
       "      <th></th>\n",
       "      <th></th>\n",
       "    </tr>\n",
       "  </thead>\n",
       "  <tbody>\n",
       "    <tr>\n",
       "      <th>citation</th>\n",
       "      <td>Author</td>\n",
       "      <td>Title</td>\n",
       "      <td>Date</td>\n",
       "      <td>Length</td>\n",
       "      <td>Text</td>\n",
       "    </tr>\n",
       "    <tr>\n",
       "      <th>Al Gore 2006</th>\n",
       "      <td>Al Gore</td>\n",
       "      <td>Averting the climate crisis</td>\n",
       "      <td>Jun 2006</td>\n",
       "      <td>957</td>\n",
       "      <td>Thank you so much  Chris. And it's truly a gre...</td>\n",
       "    </tr>\n",
       "    <tr>\n",
       "      <th>David Pogue 2006</th>\n",
       "      <td>David Pogue</td>\n",
       "      <td>Simplicity sells</td>\n",
       "      <td>Jun 2006</td>\n",
       "      <td>1271</td>\n",
       "      <td>Hello voice mail  my old friend. I've called f...</td>\n",
       "    </tr>\n",
       "    <tr>\n",
       "      <th>Cameron Sinclair 2006</th>\n",
       "      <td>Cameron Sinclair</td>\n",
       "      <td>My wish: A call for open-source architecture</td>\n",
       "      <td>Jul 2006</td>\n",
       "      <td>1398</td>\n",
       "      <td>I'm going to take you on a journey very quickl...</td>\n",
       "    </tr>\n",
       "    <tr>\n",
       "      <th>Sergey Brin + Larry Page 2007</th>\n",
       "      <td>Sergey Brin + Larry Page</td>\n",
       "      <td>The genesis of Google</td>\n",
       "      <td>May 2007</td>\n",
       "      <td>1205</td>\n",
       "      <td>Sergey Brin  I want to discuss a question I kn...</td>\n",
       "    </tr>\n",
       "  </tbody>\n",
       "</table>\n",
       "</div>"
      ],
      "text/plain": [
       "                                                 author  \\\n",
       "citation                                                  \n",
       "citation                                         Author   \n",
       "Al Gore 2006                                    Al Gore   \n",
       "David Pogue 2006                            David Pogue   \n",
       "Cameron Sinclair 2006                  Cameron Sinclair   \n",
       "Sergey Brin + Larry Page 2007  Sergey Brin + Larry Page   \n",
       "\n",
       "                                                                      title  \\\n",
       "citation                                                                      \n",
       "citation                                                              Title   \n",
       "Al Gore 2006                                    Averting the climate crisis   \n",
       "David Pogue 2006                                           Simplicity sells   \n",
       "Cameron Sinclair 2006          My wish: A call for open-source architecture   \n",
       "Sergey Brin + Larry Page 2007                         The genesis of Google   \n",
       "\n",
       "                                   date  length  \\\n",
       "citation                                          \n",
       "citation                           Date  Length   \n",
       "Al Gore 2006                   Jun 2006     957   \n",
       "David Pogue 2006               Jun 2006    1271   \n",
       "Cameron Sinclair 2006          Jul 2006    1398   \n",
       "Sergey Brin + Larry Page 2007  May 2007    1205   \n",
       "\n",
       "                                                                            text  \n",
       "citation                                                                          \n",
       "citation                                                                    Text  \n",
       "Al Gore 2006                   Thank you so much  Chris. And it's truly a gre...  \n",
       "David Pogue 2006               Hello voice mail  my old friend. I've called f...  \n",
       "Cameron Sinclair 2006          I'm going to take you on a journey very quickl...  \n",
       "Sergey Brin + Larry Page 2007  Sergey Brin  I want to discuss a question I kn...  "
      ]
     },
     "execution_count": 19,
     "metadata": {},
     "output_type": "execute_result"
    }
   ],
   "source": [
    "# Set as index?\n",
    "indexed = df.set_index('citation')\n",
    "indexed.head()"
   ]
  },
  {
   "cell_type": "markdown",
   "metadata": {},
   "source": [
    "The `speakers-gender.csv` has some non-standard characters in it. I need to figure out how to read it without stumbling on those speakers. \n",
    "\n",
    "It turns out that by setting the encoding to `latin-1`, the file was read into a dataframe with no problem. "
   ]
  },
  {
   "cell_type": "code",
   "execution_count": 28,
   "metadata": {
    "scrolled": true
   },
   "outputs": [],
   "source": [
    "# Load the genders CSV\n",
    "\n",
    "# colnames = ['Name','Occupation','ShortDescription','LongDescription','Gender',\n",
    "# 'MaleScore','FemaleScore','NonBinaryScore','Gender + hand codes']\n",
    "\n",
    "spkr_gndr = pandas.read_csv('../data/speakers-gender.csv', encoding='latin-1')"
   ]
  },
  {
   "cell_type": "code",
   "execution_count": 51,
   "metadata": {},
   "outputs": [
    {
     "data": {
      "text/html": [
       "<div>\n",
       "<table border=\"1\" class=\"dataframe\">\n",
       "  <thead>\n",
       "    <tr style=\"text-align: right;\">\n",
       "      <th></th>\n",
       "      <th>Name</th>\n",
       "      <th>Occupation</th>\n",
       "      <th>ShortDescription</th>\n",
       "      <th>LongDescription</th>\n",
       "      <th>Gender</th>\n",
       "      <th>MaleScore</th>\n",
       "      <th>FemaleScore</th>\n",
       "      <th>NonBinaryScore</th>\n",
       "      <th>Gender + hand codes</th>\n",
       "      <th>Unnamed: 9</th>\n",
       "    </tr>\n",
       "  </thead>\n",
       "  <tbody>\n",
       "    <tr>\n",
       "      <th>0</th>\n",
       "      <td>Abha Dawesar</td>\n",
       "      <td>Novelist</td>\n",
       "      <td>Abha Dawesar writes to make sense of the world...</td>\n",
       "      <td>Why you should listen\\rAbha Dawesar began her ...</td>\n",
       "      <td>female</td>\n",
       "      <td>0</td>\n",
       "      <td>10</td>\n",
       "      <td>0</td>\n",
       "      <td>female</td>\n",
       "      <td>NaN</td>\n",
       "    </tr>\n",
       "    <tr>\n",
       "      <th>1</th>\n",
       "      <td>Abigail Washburn</td>\n",
       "      <td>Clawhammer banjo player</td>\n",
       "      <td>Abigail Washburn pairs venerable folk elements...</td>\n",
       "      <td>Why you should listen\\rIf American old-time mu...</td>\n",
       "      <td>female</td>\n",
       "      <td>0</td>\n",
       "      <td>5</td>\n",
       "      <td>0</td>\n",
       "      <td>female</td>\n",
       "      <td>NaN</td>\n",
       "    </tr>\n",
       "    <tr>\n",
       "      <th>2</th>\n",
       "      <td>Achenyo Idachaba</td>\n",
       "      <td>Green entrepreneur</td>\n",
       "      <td>Achenyo Idachaba is the head of MitiMeth, a Ni...</td>\n",
       "      <td>Why you should listen\\rIn 2009, Achenyo Idacha...</td>\n",
       "      <td>female</td>\n",
       "      <td>0</td>\n",
       "      <td>4</td>\n",
       "      <td>0</td>\n",
       "      <td>female</td>\n",
       "      <td>NaN</td>\n",
       "    </tr>\n",
       "    <tr>\n",
       "      <th>3</th>\n",
       "      <td>Aditi Gupta</td>\n",
       "      <td>Social entrepreneur, co-founder of Menstrupedia</td>\n",
       "      <td>Aditi Gupta uses storytelling and art to educa...</td>\n",
       "      <td>Why you should listen\\rAditi Gupta is a social...</td>\n",
       "      <td>female</td>\n",
       "      <td>0</td>\n",
       "      <td>6</td>\n",
       "      <td>0</td>\n",
       "      <td>female</td>\n",
       "      <td>NaN</td>\n",
       "    </tr>\n",
       "    <tr>\n",
       "      <th>4</th>\n",
       "      <td>Aditi Shankardass</td>\n",
       "      <td>Neuroscientist</td>\n",
       "      <td>Aditi Shankardass is pioneering the use of EEG...</td>\n",
       "      <td>Why you should listen\\rAditi Shankardass is a ...</td>\n",
       "      <td>female</td>\n",
       "      <td>0</td>\n",
       "      <td>3</td>\n",
       "      <td>1</td>\n",
       "      <td>female</td>\n",
       "      <td>NaN</td>\n",
       "    </tr>\n",
       "  </tbody>\n",
       "</table>\n",
       "</div>"
      ],
      "text/plain": [
       "                Name                                       Occupation  \\\n",
       "0       Abha Dawesar                                         Novelist   \n",
       "1   Abigail Washburn                          Clawhammer banjo player   \n",
       "2   Achenyo Idachaba                               Green entrepreneur   \n",
       "3        Aditi Gupta  Social entrepreneur, co-founder of Menstrupedia   \n",
       "4  Aditi Shankardass                                  Neuroscientist    \n",
       "\n",
       "                                    ShortDescription  \\\n",
       "0  Abha Dawesar writes to make sense of the world...   \n",
       "1  Abigail Washburn pairs venerable folk elements...   \n",
       "2  Achenyo Idachaba is the head of MitiMeth, a Ni...   \n",
       "3  Aditi Gupta uses storytelling and art to educa...   \n",
       "4  Aditi Shankardass is pioneering the use of EEG...   \n",
       "\n",
       "                                     LongDescription  Gender  MaleScore  \\\n",
       "0  Why you should listen\\rAbha Dawesar began her ...  female          0   \n",
       "1  Why you should listen\\rIf American old-time mu...  female          0   \n",
       "2  Why you should listen\\rIn 2009, Achenyo Idacha...  female          0   \n",
       "3  Why you should listen\\rAditi Gupta is a social...  female          0   \n",
       "4  Why you should listen\\rAditi Shankardass is a ...  female          0   \n",
       "\n",
       "   FemaleScore  NonBinaryScore Gender + hand codes Unnamed: 9  \n",
       "0           10               0              female        NaN  \n",
       "1            5               0              female        NaN  \n",
       "2            4               0              female        NaN  \n",
       "3            6               0              female        NaN  \n",
       "4            3               1              female        NaN  "
      ]
     },
     "execution_count": 51,
     "metadata": {},
     "output_type": "execute_result"
    }
   ],
   "source": [
    "spkr_gndr.head()"
   ]
  },
  {
   "cell_type": "code",
   "execution_count": 46,
   "metadata": {},
   "outputs": [],
   "source": [
    "# Simplify the dataframe by dropping columns (especially that long description)\n",
    "\n",
    "# sg2 = spkr_gndr.drop('LongDescription', axis=1)\n",
    "# sg3 = sg2.drop('MaleScore', axis = 1)\n",
    "# sg4 = sg3.drop('FemaleScore', axis = 1)\n",
    "# sg5 = sg4.drop('NonBinaryScore', axis = 1)\n",
    "# sg6 = sg5.drop('Gender', axis = 1)\n",
    "# sg7 = sg6.drop('Unnamed: 9', axis = 1)\n",
    "\n",
    "genders = sg7\n",
    "# sg7.columns['name', 'occupation', 'description', 'gender'] # Didn't work.\n",
    "# So I'm going to save the file to CSV, edit the headers, and then read it back in. "
   ]
  },
  {
   "cell_type": "code",
   "execution_count": 47,
   "metadata": {
    "scrolled": true
   },
   "outputs": [
    {
     "data": {
      "text/html": [
       "<div>\n",
       "<table border=\"1\" class=\"dataframe\">\n",
       "  <thead>\n",
       "    <tr style=\"text-align: right;\">\n",
       "      <th></th>\n",
       "      <th>Name</th>\n",
       "      <th>Occupation</th>\n",
       "      <th>ShortDescription</th>\n",
       "      <th>Gender + hand codes</th>\n",
       "    </tr>\n",
       "  </thead>\n",
       "  <tbody>\n",
       "    <tr>\n",
       "      <th>0</th>\n",
       "      <td>Abha Dawesar</td>\n",
       "      <td>Novelist</td>\n",
       "      <td>Abha Dawesar writes to make sense of the world...</td>\n",
       "      <td>female</td>\n",
       "    </tr>\n",
       "    <tr>\n",
       "      <th>1</th>\n",
       "      <td>Abigail Washburn</td>\n",
       "      <td>Clawhammer banjo player</td>\n",
       "      <td>Abigail Washburn pairs venerable folk elements...</td>\n",
       "      <td>female</td>\n",
       "    </tr>\n",
       "    <tr>\n",
       "      <th>2</th>\n",
       "      <td>Achenyo Idachaba</td>\n",
       "      <td>Green entrepreneur</td>\n",
       "      <td>Achenyo Idachaba is the head of MitiMeth, a Ni...</td>\n",
       "      <td>female</td>\n",
       "    </tr>\n",
       "    <tr>\n",
       "      <th>3</th>\n",
       "      <td>Aditi Gupta</td>\n",
       "      <td>Social entrepreneur, co-founder of Menstrupedia</td>\n",
       "      <td>Aditi Gupta uses storytelling and art to educa...</td>\n",
       "      <td>female</td>\n",
       "    </tr>\n",
       "    <tr>\n",
       "      <th>4</th>\n",
       "      <td>Aditi Shankardass</td>\n",
       "      <td>Neuroscientist</td>\n",
       "      <td>Aditi Shankardass is pioneering the use of EEG...</td>\n",
       "      <td>female</td>\n",
       "    </tr>\n",
       "  </tbody>\n",
       "</table>\n",
       "</div>"
      ],
      "text/plain": [
       "                Name                                       Occupation  \\\n",
       "0       Abha Dawesar                                         Novelist   \n",
       "1   Abigail Washburn                          Clawhammer banjo player   \n",
       "2   Achenyo Idachaba                               Green entrepreneur   \n",
       "3        Aditi Gupta  Social entrepreneur, co-founder of Menstrupedia   \n",
       "4  Aditi Shankardass                                  Neuroscientist    \n",
       "\n",
       "                                    ShortDescription Gender + hand codes  \n",
       "0  Abha Dawesar writes to make sense of the world...              female  \n",
       "1  Abigail Washburn pairs venerable folk elements...              female  \n",
       "2  Achenyo Idachaba is the head of MitiMeth, a Ni...              female  \n",
       "3  Aditi Gupta uses storytelling and art to educa...              female  \n",
       "4  Aditi Shankardass is pioneering the use of EEG...              female  "
      ]
     },
     "execution_count": 47,
     "metadata": {},
     "output_type": "execute_result"
    }
   ],
   "source": [
    "genders.head()"
   ]
  },
  {
   "cell_type": "code",
   "execution_count": 48,
   "metadata": {
    "collapsed": true
   },
   "outputs": [],
   "source": [
    "genders.to_csv('../data/genders.csv')"
   ]
  },
  {
   "cell_type": "code",
   "execution_count": 49,
   "metadata": {
    "collapsed": true
   },
   "outputs": [],
   "source": [
    "gender_df = pandas.read_csv('../data/genders.csv')"
   ]
  },
  {
   "cell_type": "code",
   "execution_count": 50,
   "metadata": {},
   "outputs": [
    {
     "data": {
      "text/html": [
       "<div>\n",
       "<table border=\"1\" class=\"dataframe\">\n",
       "  <thead>\n",
       "    <tr style=\"text-align: right;\">\n",
       "      <th></th>\n",
       "      <th>Unnamed: 0</th>\n",
       "      <th>Name</th>\n",
       "      <th>Occupation</th>\n",
       "      <th>ShortDescription</th>\n",
       "      <th>Gender</th>\n",
       "    </tr>\n",
       "  </thead>\n",
       "  <tbody>\n",
       "    <tr>\n",
       "      <th>0</th>\n",
       "      <td>0</td>\n",
       "      <td>Abha Dawesar</td>\n",
       "      <td>Novelist</td>\n",
       "      <td>Abha Dawesar writes to make sense of the world...</td>\n",
       "      <td>female</td>\n",
       "    </tr>\n",
       "    <tr>\n",
       "      <th>1</th>\n",
       "      <td>1</td>\n",
       "      <td>Abigail Washburn</td>\n",
       "      <td>Clawhammer banjo player</td>\n",
       "      <td>Abigail Washburn pairs venerable folk elements...</td>\n",
       "      <td>female</td>\n",
       "    </tr>\n",
       "    <tr>\n",
       "      <th>2</th>\n",
       "      <td>2</td>\n",
       "      <td>Achenyo Idachaba</td>\n",
       "      <td>Green entrepreneur</td>\n",
       "      <td>Achenyo Idachaba is the head of MitiMeth, a Ni...</td>\n",
       "      <td>female</td>\n",
       "    </tr>\n",
       "    <tr>\n",
       "      <th>3</th>\n",
       "      <td>3</td>\n",
       "      <td>Aditi Gupta</td>\n",
       "      <td>Social entrepreneur, co-founder of Menstrupedia</td>\n",
       "      <td>Aditi Gupta uses storytelling and art to educa...</td>\n",
       "      <td>female</td>\n",
       "    </tr>\n",
       "    <tr>\n",
       "      <th>4</th>\n",
       "      <td>4</td>\n",
       "      <td>Aditi Shankardass</td>\n",
       "      <td>Neuroscientist</td>\n",
       "      <td>Aditi Shankardass is pioneering the use of EEG...</td>\n",
       "      <td>female</td>\n",
       "    </tr>\n",
       "  </tbody>\n",
       "</table>\n",
       "</div>"
      ],
      "text/plain": [
       "  Unnamed: 0               Name  \\\n",
       "0          0       Abha Dawesar   \n",
       "1          1   Abigail Washburn   \n",
       "2          2   Achenyo Idachaba   \n",
       "3          3        Aditi Gupta   \n",
       "4          4  Aditi Shankardass   \n",
       "\n",
       "                                        Occupation  \\\n",
       "0                                         Novelist   \n",
       "1                          Clawhammer banjo player   \n",
       "2                               Green entrepreneur   \n",
       "3  Social entrepreneur, co-founder of Menstrupedia   \n",
       "4                                  Neuroscientist    \n",
       "\n",
       "                                    ShortDescription  Gender  \n",
       "0  Abha Dawesar writes to make sense of the world...  female  \n",
       "1  Abigail Washburn pairs venerable folk elements...  female  \n",
       "2  Achenyo Idachaba is the head of MitiMeth, a Ni...  female  \n",
       "3  Aditi Gupta uses storytelling and art to educa...  female  \n",
       "4  Aditi Shankardass is pioneering the use of EEG...  female  "
      ]
     },
     "execution_count": 50,
     "metadata": {},
     "output_type": "execute_result"
    }
   ],
   "source": [
    "gender_df.head()"
   ]
  },
  {
   "cell_type": "code",
   "execution_count": 52,
   "metadata": {
    "collapsed": true
   },
   "outputs": [],
   "source": [
    "gender_df2 = gender_df.drop('Unnamed: 0', axis = 1)"
   ]
  },
  {
   "cell_type": "code",
   "execution_count": 53,
   "metadata": {
    "scrolled": true
   },
   "outputs": [
    {
     "data": {
      "text/html": [
       "<div>\n",
       "<table border=\"1\" class=\"dataframe\">\n",
       "  <thead>\n",
       "    <tr style=\"text-align: right;\">\n",
       "      <th></th>\n",
       "      <th>Name</th>\n",
       "      <th>Occupation</th>\n",
       "      <th>ShortDescription</th>\n",
       "      <th>Gender</th>\n",
       "    </tr>\n",
       "  </thead>\n",
       "  <tbody>\n",
       "    <tr>\n",
       "      <th>0</th>\n",
       "      <td>Abha Dawesar</td>\n",
       "      <td>Novelist</td>\n",
       "      <td>Abha Dawesar writes to make sense of the world...</td>\n",
       "      <td>female</td>\n",
       "    </tr>\n",
       "    <tr>\n",
       "      <th>1</th>\n",
       "      <td>Abigail Washburn</td>\n",
       "      <td>Clawhammer banjo player</td>\n",
       "      <td>Abigail Washburn pairs venerable folk elements...</td>\n",
       "      <td>female</td>\n",
       "    </tr>\n",
       "    <tr>\n",
       "      <th>2</th>\n",
       "      <td>Achenyo Idachaba</td>\n",
       "      <td>Green entrepreneur</td>\n",
       "      <td>Achenyo Idachaba is the head of MitiMeth, a Ni...</td>\n",
       "      <td>female</td>\n",
       "    </tr>\n",
       "    <tr>\n",
       "      <th>3</th>\n",
       "      <td>Aditi Gupta</td>\n",
       "      <td>Social entrepreneur, co-founder of Menstrupedia</td>\n",
       "      <td>Aditi Gupta uses storytelling and art to educa...</td>\n",
       "      <td>female</td>\n",
       "    </tr>\n",
       "    <tr>\n",
       "      <th>4</th>\n",
       "      <td>Aditi Shankardass</td>\n",
       "      <td>Neuroscientist</td>\n",
       "      <td>Aditi Shankardass is pioneering the use of EEG...</td>\n",
       "      <td>female</td>\n",
       "    </tr>\n",
       "  </tbody>\n",
       "</table>\n",
       "</div>"
      ],
      "text/plain": [
       "                Name                                       Occupation  \\\n",
       "0       Abha Dawesar                                         Novelist   \n",
       "1   Abigail Washburn                          Clawhammer banjo player   \n",
       "2   Achenyo Idachaba                               Green entrepreneur   \n",
       "3        Aditi Gupta  Social entrepreneur, co-founder of Menstrupedia   \n",
       "4  Aditi Shankardass                                  Neuroscientist    \n",
       "\n",
       "                                    ShortDescription  Gender  \n",
       "0  Abha Dawesar writes to make sense of the world...  female  \n",
       "1  Abigail Washburn pairs venerable folk elements...  female  \n",
       "2  Achenyo Idachaba is the head of MitiMeth, a Ni...  female  \n",
       "3  Aditi Gupta uses storytelling and art to educa...  female  \n",
       "4  Aditi Shankardass is pioneering the use of EEG...  female  "
      ]
     },
     "execution_count": 53,
     "metadata": {},
     "output_type": "execute_result"
    }
   ],
   "source": [
    "gender_df2.head()"
   ]
  },
  {
   "cell_type": "code",
   "execution_count": 54,
   "metadata": {
    "collapsed": true
   },
   "outputs": [],
   "source": [
    "genders = gender_df2.set_index('Name')"
   ]
  },
  {
   "cell_type": "code",
   "execution_count": 55,
   "metadata": {
    "scrolled": true
   },
   "outputs": [
    {
     "data": {
      "text/html": [
       "<div>\n",
       "<table border=\"1\" class=\"dataframe\">\n",
       "  <thead>\n",
       "    <tr style=\"text-align: right;\">\n",
       "      <th></th>\n",
       "      <th>Occupation</th>\n",
       "      <th>ShortDescription</th>\n",
       "      <th>Gender</th>\n",
       "    </tr>\n",
       "    <tr>\n",
       "      <th>Name</th>\n",
       "      <th></th>\n",
       "      <th></th>\n",
       "      <th></th>\n",
       "    </tr>\n",
       "  </thead>\n",
       "  <tbody>\n",
       "    <tr>\n",
       "      <th>Abha Dawesar</th>\n",
       "      <td>Novelist</td>\n",
       "      <td>Abha Dawesar writes to make sense of the world...</td>\n",
       "      <td>female</td>\n",
       "    </tr>\n",
       "    <tr>\n",
       "      <th>Abigail Washburn</th>\n",
       "      <td>Clawhammer banjo player</td>\n",
       "      <td>Abigail Washburn pairs venerable folk elements...</td>\n",
       "      <td>female</td>\n",
       "    </tr>\n",
       "    <tr>\n",
       "      <th>Achenyo Idachaba</th>\n",
       "      <td>Green entrepreneur</td>\n",
       "      <td>Achenyo Idachaba is the head of MitiMeth, a Ni...</td>\n",
       "      <td>female</td>\n",
       "    </tr>\n",
       "    <tr>\n",
       "      <th>Aditi Gupta</th>\n",
       "      <td>Social entrepreneur, co-founder of Menstrupedia</td>\n",
       "      <td>Aditi Gupta uses storytelling and art to educa...</td>\n",
       "      <td>female</td>\n",
       "    </tr>\n",
       "    <tr>\n",
       "      <th>Aditi Shankardass</th>\n",
       "      <td>Neuroscientist</td>\n",
       "      <td>Aditi Shankardass is pioneering the use of EEG...</td>\n",
       "      <td>female</td>\n",
       "    </tr>\n",
       "  </tbody>\n",
       "</table>\n",
       "</div>"
      ],
      "text/plain": [
       "                                                        Occupation  \\\n",
       "Name                                                                 \n",
       "Abha Dawesar                                              Novelist   \n",
       "Abigail Washburn                           Clawhammer banjo player   \n",
       "Achenyo Idachaba                                Green entrepreneur   \n",
       "Aditi Gupta        Social entrepreneur, co-founder of Menstrupedia   \n",
       "Aditi Shankardass                                  Neuroscientist    \n",
       "\n",
       "                                                    ShortDescription  Gender  \n",
       "Name                                                                          \n",
       "Abha Dawesar       Abha Dawesar writes to make sense of the world...  female  \n",
       "Abigail Washburn   Abigail Washburn pairs venerable folk elements...  female  \n",
       "Achenyo Idachaba   Achenyo Idachaba is the head of MitiMeth, a Ni...  female  \n",
       "Aditi Gupta        Aditi Gupta uses storytelling and art to educa...  female  \n",
       "Aditi Shankardass  Aditi Shankardass is pioneering the use of EEG...  female  "
      ]
     },
     "execution_count": 55,
     "metadata": {},
     "output_type": "execute_result"
    }
   ],
   "source": [
    "genders.head()"
   ]
  },
  {
   "cell_type": "code",
   "execution_count": 56,
   "metadata": {
    "collapsed": true
   },
   "outputs": [],
   "source": [
    "genders.to_csv('../data/genders.csv')"
   ]
  },
  {
   "cell_type": "code",
   "execution_count": null,
   "metadata": {
    "collapsed": true
   },
   "outputs": [],
   "source": []
  }
 ],
 "metadata": {
  "kernelspec": {
   "display_name": "Python 3",
   "language": "python",
   "name": "python3"
  },
  "language_info": {
   "codemirror_mode": {
    "name": "ipython",
    "version": 3
   },
   "file_extension": ".py",
   "mimetype": "text/x-python",
   "name": "python",
   "nbconvert_exporter": "python",
   "pygments_lexer": "ipython3",
   "version": "3.4.6"
  }
 },
 "nbformat": 4,
 "nbformat_minor": 1
}
