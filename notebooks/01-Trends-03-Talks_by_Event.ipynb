{
 "cells": [
  {
   "cell_type": "markdown",
   "metadata": {},
   "source": [
    "## Total Talks by Event"
   ]
  },
  {
   "cell_type": "markdown",
   "metadata": {},
   "source": [
    "## Summary\n",
    "\n",
    "WHAT: After loading the data, we break out the years and the kind of event from the list of events as given on the TED web page for a talk, looking to see how many talks were given in a year and how many talks from the various events make up the overall corpus.\n",
    "\n",
    "HOW: We operate on lists derived from columns in the dataset, eventually merging them into a custom dataframe so that we can sum values and visualize the results. Because nothing with TED is easy, we come across some missing values in the process that then get filled in.\n",
    "\n",
    "In the end, we add a new feature to our current dataset, `event`, that will allow us to date a talk to the year it was presented, separate from the year it was `published` on the TED website. This opens up the possibility of exploring changes in the offset between the two: which talks are published more quickly to the site?"
   ]
  },
  {
   "cell_type": "markdown",
   "metadata": {},
   "source": [
    "## Imports and Data"
   ]
  },
  {
   "cell_type": "code",
   "execution_count": 1,
   "metadata": {},
   "outputs": [
    {
     "name": "stdout",
     "output_type": "stream",
     "text": [
      "(1747, 30) ['Unnamed: 0', 'Set', 'Talk_ID', 'public_url', 'headline', 'description', 'event', 'duration', 'published', 'tags', 'views', 'text', 'speaker_1', 'speaker1_occupation', 'speaker1_introduction', 'speaker1_profile', 'speaker_2', 'speaker2_occupation', 'speaker2_introduction', 'speaker2_profile', 'speaker_3', 'speaker3_occupation', 'speaker3_introduction', 'speaker3_profile', 'speaker_4', 'speaker4_occupation', 'speaker4_introduction', 'speaker4_profile', 'presented', 'TEDevent']\n"
     ]
    }
   ],
   "source": [
    "# Imports\n",
    "import pandas as pd, re\n",
    "\n",
    "# Load the Data\n",
    "df = pd.read_csv('../output/TEDall.csv')\n",
    "\n",
    "# .shape is just to check to make sure everything loaded correctly\n",
    "# `list()` is to remind us of column names\n",
    "print(df.shape, list(df))"
   ]
  },
  {
   "cell_type": "code",
   "execution_count": 2,
   "metadata": {
    "scrolled": true
   },
   "outputs": [
    {
     "data": {
      "text/plain": [
       "TED                                 992\n",
       "TED Senior Fellows at TEDGlobal       1\n",
       "TEDActive                             6\n",
       "TEDGlobal                           460\n",
       "TEDGlobal>Geneva                     11\n",
       "TEDGlobal>London                     13\n",
       "TEDGlobal>NYC                         8\n",
       "TEDGlobalLondon                       8\n",
       "TEDMED                               72\n",
       "TEDSummit                            34\n",
       "TEDWomen                            123\n",
       "TEDYouth                             19\n",
       "Name: TEDevent, dtype: int64"
      ]
     },
     "execution_count": 2,
     "metadata": {},
     "output_type": "execute_result"
    }
   ],
   "source": [
    "df['TEDevent'].value_counts().sort_index(ascending=True)"
   ]
  },
  {
   "cell_type": "code",
   "execution_count": 4,
   "metadata": {},
   "outputs": [
    {
     "data": {
      "text/plain": [
       "1984      1\n",
       "1990      1\n",
       "1994      1\n",
       "1998      6\n",
       "2001      3\n",
       "2002     28\n",
       "2003     34\n",
       "2004     31\n",
       "2005     62\n",
       "2006     43\n",
       "2007     92\n",
       "2008     56\n",
       "2009    155\n",
       "2010    162\n",
       "2011    150\n",
       "2012    146\n",
       "2013    162\n",
       "2014    154\n",
       "2015    149\n",
       "2016    145\n",
       "2017    166\n",
       "Name: presented, dtype: int64"
      ]
     },
     "execution_count": 4,
     "metadata": {},
     "output_type": "execute_result"
    }
   ],
   "source": [
    "df['presented'].value_counts().sort_index(ascending=True)"
   ]
  }
 ],
 "metadata": {
  "kernelspec": {
   "display_name": "Python 3",
   "language": "python",
   "name": "python3"
  },
  "language_info": {
   "codemirror_mode": {
    "name": "ipython",
    "version": 3
   },
   "file_extension": ".py",
   "mimetype": "text/x-python",
   "name": "python",
   "nbconvert_exporter": "python",
   "pygments_lexer": "ipython3",
   "version": "3.8.2"
  },
  "toc": {
   "base_numbering": 1,
   "nav_menu": {},
   "number_sections": true,
   "sideBar": true,
   "skip_h1_title": true,
   "title_cell": "",
   "title_sidebar": "Contents",
   "toc_cell": true,
   "toc_position": 2,
   "toc_section_display": true,
   "toc_window_display": false
  }
 },
 "nbformat": 4,
 "nbformat_minor": 2
}
