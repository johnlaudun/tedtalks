{
 "cells": [
  {
   "cell_type": "markdown",
   "metadata": {},
   "source": [
    "# SVO 2: Gendered Subjects\n",
    "\n",
    "In this notebook, we explore usage of male and female pronouns and nouns as subjects in both subcorpora: first by raw count, and then by actions (verbs) associated with those nouns and pronouns.\n",
    "\n",
    "**Next Steps**: Work on code to compile / visualize this as a network graph (?).\n",
    "\n",
    "We begin by loading the SVOs saved to CSVs."
   ]
  },
  {
   "cell_type": "code",
   "execution_count": 1,
   "metadata": {},
   "outputs": [],
   "source": [
    "# IMPORTS\n",
    "import re, pandas as pd"
   ]
  },
  {
   "cell_type": "code",
   "execution_count": 10,
   "metadata": {},
   "outputs": [],
   "source": [
    "# LOAD DATAFRAMES\n",
    "svos_m = pd.read_csv(\"../output/svos_m.csv\", index_col=0)\n",
    "svos_w = pd.read_csv(\"../output/svos_w.csv\", index_col=0)"
   ]
  },
  {
   "cell_type": "markdown",
   "metadata": {},
   "source": [
    "## Subjects"
   ]
  },
  {
   "cell_type": "markdown",
   "metadata": {},
   "source": [
    "The function below allows us to compare the usage of subjects across the two subcorpora, returning both a raw count and a percentage of the SVO count of the subcorpus."
   ]
  },
  {
   "cell_type": "code",
   "execution_count": 26,
   "metadata": {},
   "outputs": [
    {
     "name": "stdout",
     "output_type": "stream",
     "text": [
      "\n",
      "    | ♂︎ \"he\" | 2548 | 0.032 |\n",
      "    | ♀︎ \"he\" | 757 | 0.028 |\n"
     ]
    }
   ],
   "source": [
    "def compare (subject):\n",
    "    # Create name:\n",
    "    m_tmp = svos_m[svos_m[\"subject\"] == subject]\n",
    "    w_tmp = svos_w[svos_w[\"subject\"] == subject]\n",
    "    print(f'''\n",
    "    | ♂︎ \"{subject}\" | {m_tmp.shape[0]} | {m_tmp.shape[0]/svos_m.shape[0]:.3f} |\n",
    "    | ♀︎ \"{subject}\" | {w_tmp.shape[0]} | {w_tmp.shape[0]/svos_w.shape[0]:.3f} |''')\n",
    "    \n",
    "compare(\"he\")"
   ]
  },
  {
   "cell_type": "markdown",
   "metadata": {},
   "source": [
    "### Third Person Perspective"
   ]
  },
  {
   "cell_type": "code",
   "execution_count": 29,
   "metadata": {},
   "outputs": [
    {
     "name": "stdout",
     "output_type": "stream",
     "text": [
      "\n",
      "    | ♂︎ \"he\" | 2548 | 0.032 |\n",
      "    | ♀︎ \"he\" | 757 | 0.028 |\n",
      "\n",
      "    | ♂︎ \"she\" | 848 | 0.011 |\n",
      "    | ♀︎ \"she\" | 643 | 0.024 |\n",
      "\n",
      "    | ♂︎ \"man\" | 80 | 0.001 |\n",
      "    | ♀︎ \"man\" | 13 | 0.000 |\n",
      "\n",
      "    | ♂︎ \"woman\" | 24 | 0.000 |\n",
      "    | ♀︎ \"woman\" | 35 | 0.001 |\n",
      "\n",
      "    | ♂︎ \"men\" | 40 | 0.000 |\n",
      "    | ♀︎ \"men\" | 23 | 0.001 |\n",
      "\n",
      "    | ♂︎ \"women\" | 37 | 0.000 |\n",
      "    | ♀︎ \"women\" | 62 | 0.002 |\n",
      "\n",
      "    | ♂︎ \"actor\" | 3 | 0.000 |\n",
      "    | ♀︎ \"actor\" | 1 | 0.000 |\n",
      "\n",
      "    | ♂︎ \"actress\" | 0 | 0.000 |\n",
      "    | ♀︎ \"actress\" | 0 | 0.000 |\n"
     ]
    }
   ],
   "source": [
    "thirdPerson = ['he', 'she', 'man', 'woman', 'men', 'women', 'actor', 'actress']\n",
    "\n",
    "for i in thirdPerson:\n",
    "    compare(i)"
   ]
  },
  {
   "cell_type": "markdown",
   "metadata": {},
   "source": [
    "### First & Second Person"
   ]
  },
  {
   "cell_type": "code",
   "execution_count": 33,
   "metadata": {},
   "outputs": [
    {
     "name": "stdout",
     "output_type": "stream",
     "text": [
      "\n",
      "    | ♂︎ \"i\" | 15440 | 0.192 |\n",
      "    | ♀︎ \"i\" | 6185 | 0.232 |\n",
      "\n",
      "    | ♂︎ \"we\" | 15458 | 0.192 |\n",
      "    | ♀︎ \"we\" | 4652 | 0.175 |\n",
      "\n",
      "    | ♂︎ \"you\" | 11949 | 0.149 |\n",
      "    | ♀︎ \"you\" | 3117 | 0.117 |\n"
     ]
    }
   ],
   "source": [
    "firstSecond = [\"i\", \"we\", \"you\"]\n",
    "\n",
    "for i in firstSecond:\n",
    "    compare(i)"
   ]
  },
  {
   "cell_type": "markdown",
   "metadata": {},
   "source": [
    "### Other Subjects"
   ]
  },
  {
   "cell_type": "code",
   "execution_count": 36,
   "metadata": {},
   "outputs": [
    {
     "name": "stdout",
     "output_type": "stream",
     "text": [
      "\n",
      "    | ♂︎ \"subject\" | 9 | 0.000 |\n",
      "    | ♀︎ \"subject\" | 2 | 0.000 |\n",
      "\n",
      "    | ♂︎ \"object\" | 7 | 0.000 |\n",
      "    | ♀︎ \"object\" | 5 | 0.000 |\n"
     ]
    }
   ],
   "source": [
    "otherSubjects =  ['subject', 'object']\n",
    "\n",
    "for i in otherSubjects:\n",
    "    compare(i)"
   ]
  },
  {
   "cell_type": "markdown",
   "metadata": {},
   "source": [
    "## Verbs"
   ]
  },
  {
   "cell_type": "code",
   "execution_count": null,
   "metadata": {},
   "outputs": [],
   "source": [
    "m_he = m_he.groupby([\"verb\"]).size().reset_index(\n",
    "    name='obs').sort_values(['obs'], ascending=False).iloc[:20]\n",
    "print(m_he)"
   ]
  },
  {
   "cell_type": "markdown",
   "metadata": {},
   "source": [
    "Below is my attempt to create a function that would return an appropriately named dataframe which was 20 rows long and contained the top 20 verbs for a given subject. It does not work in the `for` loop in the cell below. It returns the dataframe, but the name of the dataframe does not come along for the ride."
   ]
  },
  {
   "cell_type": "code",
   "execution_count": null,
   "metadata": {},
   "outputs": [],
   "source": [
    "def verbCount (dataframe, subject):\n",
    "    # This first line just makes sure the space is empty     \n",
    "    name = ''\n",
    "    # Create a unique name for the subset of the dataframe\n",
    "    name = str(dataframe.name+'_'+subject)\n",
    "    # Populate the sub-dataframe\n",
    "    name = dataframe[dataframe[\"subject\"] == subject].groupby([\"verb\"]).size().reset_index(\n",
    "    name='obs').sort_values(['obs'], ascending=False).iloc[:20]\n",
    "    # Output the dataframe\n",
    "    return name"
   ]
  },
  {
   "cell_type": "code",
   "execution_count": null,
   "metadata": {},
   "outputs": [],
   "source": [
    "genderedSubjects = ['she', 'he', 'man', 'men', 'woman', 'women']\n",
    "for i in genderedSubjects:\n",
    "    verbCount(svos_m, i)"
   ]
  },
  {
   "cell_type": "code",
   "execution_count": null,
   "metadata": {},
   "outputs": [],
   "source": [
    "print(svos_m_she)"
   ]
  },
  {
   "cell_type": "code",
   "execution_count": null,
   "metadata": {},
   "outputs": [],
   "source": [
    "m_she = verbCount(svos_m, 'she')"
   ]
  },
  {
   "cell_type": "code",
   "execution_count": null,
   "metadata": {},
   "outputs": [],
   "source": [
    "m_man = verbCount(svos_m, 'man')"
   ]
  },
  {
   "cell_type": "code",
   "execution_count": null,
   "metadata": {},
   "outputs": [],
   "source": [
    "m_woman = verbCount(svos_m, 'woman')"
   ]
  },
  {
   "cell_type": "code",
   "execution_count": null,
   "metadata": {},
   "outputs": [],
   "source": [
    "pd.concat([m_he, m_she], axis = 1)"
   ]
  }
 ],
 "metadata": {
  "interpreter": {
   "hash": "14a02b88778d8fb8b6aeb4ad427a942bc53dfcda9d7e3737237788289e0d2d23"
  },
  "kernelspec": {
   "display_name": "Python 3 (ipykernel)",
   "language": "python",
   "name": "python3"
  },
  "language_info": {
   "codemirror_mode": {
    "name": "ipython",
    "version": 3
   },
   "file_extension": ".py",
   "mimetype": "text/x-python",
   "name": "python",
   "nbconvert_exporter": "python",
   "pygments_lexer": "ipython3",
   "version": "3.7.11"
  },
  "toc": {
   "base_numbering": 1,
   "nav_menu": {},
   "number_sections": true,
   "sideBar": true,
   "skip_h1_title": true,
   "title_cell": "",
   "title_sidebar": "Contents",
   "toc_cell": true,
   "toc_position": 2,
   "toc_section_display": true,
   "toc_window_display": false
  }
 },
 "nbformat": 4,
 "nbformat_minor": 2
}
