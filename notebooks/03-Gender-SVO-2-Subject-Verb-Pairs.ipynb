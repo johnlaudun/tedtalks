{
 "cells": [
  {
   "cell_type": "markdown",
   "metadata": {},
   "source": [
    "# Subjective Verbs"
   ]
  },
  {
   "cell_type": "markdown",
   "metadata": {},
   "source": [
    "In the previous notebook we looked at large-scale trends in the use of subjects and verbs in the two subcorpora. In this notebook, we turn to understanding possible relationships between the subjects and the verbs that follow them. That is, what kinds of actions are available to the subjects *she* and *he*. How do those actions compare between male speakers and female speakers. Finally, is there a continuity between the actions projected onto a gendered subject and the speaking subject (her or himself) as reflected in the verbs paired with *I*?\n",
    "\n",
    "<div class=\"alert alert-block alert-info\"> \n",
    "    <p>A note about the naming of variables below:</p>\n",
    "    <ul>\n",
    "        <li><code>m</code> and <code>w</code> represent the subcorpus, men or women speakers</li>\n",
    "        <li><code>pp</code> stands for personal pronouns, usually \"he,\" \"she,\" and \"I\" here.\n",
    "        <li><code>svo</code> signifies that the complete SVO-triplet is used</li>\n",
    "        <li><code>sv</code> signifies that just the subject-verb pairs are being used</li>\n",
    "    </ul>   \n",
    "</div>"
   ]
  },
  {
   "cell_type": "markdown",
   "metadata": {},
   "source": [
    "**TO DO**: Get rid of the square brackets in the object column.\n",
    "\n",
    "Tried:\n",
    "```python\n",
    "w_pp_svo.str.replace('[','').replace(']','')\n",
    "\n",
    "AttributeError: 'DataFrame' object has no attribute 'str'\n",
    "```"
   ]
  },
  {
   "cell_type": "code",
   "execution_count": 1,
   "metadata": {},
   "outputs": [
    {
     "name": "stdout",
     "output_type": "stream",
     "text": [
      "80460 26610\n"
     ]
    }
   ],
   "source": [
    "# IMPORTS\n",
    "import pandas as pd\n",
    "import numpy as np\n",
    "import seaborn as sns\n",
    "import matplotlib.pyplot as plt\n",
    "\n",
    "# LOAD DATAFRAMES\n",
    "# the `lem` suffix indicates the verbs have been lemmatized\n",
    "svos_m = pd.read_csv(\"../output/svos_m_lem.csv\", index_col=0)\n",
    "svos_w = pd.read_csv(\"../output/svos_w_lem.csv\", index_col=0)\n",
    "\n",
    "# Save the SVO count for each corpus for calculating relative frequencies\n",
    "m_svo_count = svos_m.shape[0]\n",
    "w_svo_count = svos_w.shape[0]\n",
    "\n",
    "# Output something to check our efforts\n",
    "print(m_svo_count, w_svo_count)"
   ]
  },
  {
   "cell_type": "markdown",
   "metadata": {},
   "source": [
    "## Possible Approaches\n",
    "\n",
    "What we want to explore is both the usual ways that speakers (men or women) pair the pronouns *he*, *she*, *i* with verbs and also, perhaps, the significant pairings.\n",
    "\n",
    "The usual way can be approached via **counts** (see below), which can be readily visualized with Sankey plots. (Those plots are now in a separate notebook.) \n",
    "\n",
    "Relative frequencies would let us compare across the two subcorpora ... or would this be approached better by some form of TF-IDF? (And would we need to determine some sort of lower threshold of the number of sentences in which a verb must occur? We're not interested in verb only used in a single sentence but verbs used often in a pairing in one subcorpus and not in the other.)"
   ]
  },
  {
   "cell_type": "markdown",
   "metadata": {},
   "source": [
    "### Early Efforts\n",
    "\n",
    "Elsewhere we have used the following code to give us a verb count associated with a particular subject. \n",
    "\n",
    "```python\n",
    "# If the top N verbs associated with \"he\" is wanted\n",
    "# iloc can be commented out if not desired\n",
    "\n",
    "N = 20\n",
    "m_he = svos_m[svos_m[\"subject\"] == \"he\"].groupby([\"verb\"]).size().reset_index(\n",
    "    name='obs').sort_values(['obs'], ascending=False).iloc[:N] \n",
    "\n",
    "# Get a sense of our results\n",
    "print(m_he.shape)\n",
    "print(m_he.head())\n",
    "```"
   ]
  },
  {
   "cell_type": "markdown",
   "metadata": {},
   "source": [
    "### Subsets\n",
    "\n",
    "This gives us all the subjects and verb pairings. \n",
    "\n",
    "Used on the entire mens subcorpus, it suggests that **the most common subject-verb pairing is *we have***, by a pretty large margin, so let's mark that as something worth exploring further.\n",
    "\n",
    "A hand inspection also suggests that pronouns and generic collective nouns like \"people\" or \"everyone\" dominate as subjects of sentences."
   ]
  },
  {
   "cell_type": "code",
   "execution_count": 2,
   "metadata": {
    "scrolled": false
   },
   "outputs": [
    {
     "name": "stdout",
     "output_type": "stream",
     "text": [
      "(19993,)\n",
      "subject  verb\n",
      "we       have    2259\n",
      "you      have    1505\n",
      "i        have    1318\n",
      "         want    1210\n",
      "         go      1076\n",
      "you      see      997\n",
      "we       do       972\n",
      "you      get      901\n",
      "we       go       743\n",
      "         need     717\n",
      "dtype: int64\n"
     ]
    }
   ],
   "source": [
    "# Subset\n",
    "m_svpairs = svos_m.value_counts(subset=['subject', 'verb'])\n",
    "print(m_svpairs.shape)\n",
    "print(m_svpairs.head(10))"
   ]
  },
  {
   "cell_type": "code",
   "execution_count": 3,
   "metadata": {
    "scrolled": true
   },
   "outputs": [
    {
     "name": "stdout",
     "output_type": "stream",
     "text": [
      "(8809,)\n",
      "subject  verb\n",
      "we       have    674\n",
      "i        have    586\n",
      "         want    424\n",
      "you      have    406\n",
      "i        go      330\n",
      "we       need    255\n",
      "you      see     255\n",
      "we       do      246\n",
      "they     have    231\n",
      "i        do      226\n",
      "dtype: int64\n"
     ]
    }
   ],
   "source": [
    "w_svpairs = svos_w.value_counts(subset=['subject', 'verb'])\n",
    "print(w_svpairs.shape)\n",
    "print(w_svpairs.head(10))"
   ]
  },
  {
   "cell_type": "code",
   "execution_count": 4,
   "metadata": {},
   "outputs": [],
   "source": [
    "# Save our results for hand inspection\n",
    "# m_svpairs.to_csv(\"../output/m_svpairs.csv\")\n",
    "# w_svpairs.to_csv(\"../output/w_svpairs.csv\")"
   ]
  },
  {
   "cell_type": "markdown",
   "metadata": {},
   "source": [
    "<div class=\"alert alert-block alert-info\"> \n",
    "    <p>All three parts of the SVO can be subsetted:</p>\n",
    "    <pre>m_svos = svos_m.value_counts(subset=['subject', 'verb', 'object'])\n",
    "    \n",
    " subject  verb  object\n",
    " we       do    [what]    206\n",
    "                [that]    162\n",
    " i        tell  [you]     159\n",
    " you      do    [what]    151\n",
    "          see   [what]    130</pre>\n",
    "    </div>"
   ]
  },
  {
   "cell_type": "markdown",
   "metadata": {},
   "source": [
    "### Filtered\n",
    "\n",
    "One approach might look like this, where we simply, in effect, filter the dataframe only for the subjects, here the pronouns *he*, *she*, and *i*, in which we are interested.\n",
    "\n",
    "As the `shape` method reveals, this yields 18836 SVOs out of 80460 total for men, or almost one-quarter (23.4%) of all the sentences used by male speakers use one of those three pronouns. For women, there are 7585 SVOs that have he, she, i as subjects out of 26610, which is a bit more than a quarter (28.5%). "
   ]
  },
  {
   "cell_type": "markdown",
   "metadata": {},
   "source": [
    "#### Complete Subject-Verb-Object Triplet"
   ]
  },
  {
   "cell_type": "code",
   "execution_count": 5,
   "metadata": {
    "scrolled": true
   },
   "outputs": [
    {
     "name": "stdout",
     "output_type": "stream",
     "text": [
      "(18836, 3)\n",
      "  subject  verb                                             object\n",
      "0       i  blow                                       [conference]\n",
      "1       i  want  [to, thank, all, of, you, for, the, many, nice...\n",
      "2       i  need                                             [that]\n",
      "4       i   fly                                              [two]\n",
      "5       i  have  [to, take, off, my, shoes, or, boots, to, get,...\n"
     ]
    }
   ],
   "source": [
    "# Filter\n",
    "m_pp_svo = svos_m.loc[(\n",
    "    svos_m['subject'] == 'he') | (\n",
    "    svos_m['subject'] == 'she') | (\n",
    "    svos_m[\"subject\"] == \"i\")\n",
    "]\n",
    "print(m_pp_svo.shape)\n",
    "print(m_pp_svo.head())"
   ]
  },
  {
   "cell_type": "code",
   "execution_count": 6,
   "metadata": {},
   "outputs": [
    {
     "name": "stdout",
     "output_type": "stream",
     "text": [
      "(7585, 3)\n",
      "  subject     verb                                             object\n",
      "1     she     turn  [to, be, a, much, bigger, dog, than, i, 'd, an...\n",
      "5       i  contact                                [parks, department]\n",
      "6       i  mention                                             [that]\n",
      "7     she     pull                                               [me]\n",
      "8     she       be  [dragging, me, ,, and, lo, and, behold, ,, at,...\n"
     ]
    }
   ],
   "source": [
    "# And now the women subcorpus\n",
    "w_pp_svo = svos_w.loc[(\n",
    "    svos_w['subject'] == 'he') | (\n",
    "    svos_w['subject'] == 'she') | (\n",
    "    svos_w[\"subject\"] == \"i\")\n",
    "]\n",
    "print(w_pp_svo.shape)\n",
    "print(w_pp_svo.head())"
   ]
  },
  {
   "cell_type": "markdown",
   "metadata": {},
   "source": [
    "#### Just the Subject-Verb Pairs\n",
    "\n",
    "A survey of the SVOs above reveals that there are verbs that frequently appear, those that regularly appear, and those that rarely appear with the three pronouns in which we are interested. We use `value_counts()` combined with `isin()` to get a summary of the three pronouns and verbs.\n",
    "\n",
    "The results reveal that the 18836 SVOs in the mens subcorpus use only 1723 verbs and the 7585 SVOs in the womens subcorpus use 1069 verbs. Disregarding for the moment how many verbs may only have been used once, it would appear that there is greater variety in women's discourse, but that could also represent the power law dynamic: that as the number of utterances increases, the total vocabulary growth flattens greatly."
   ]
  },
  {
   "cell_type": "code",
   "execution_count": 7,
   "metadata": {},
   "outputs": [
    {
     "name": "stdout",
     "output_type": "stream",
     "text": [
      "(1723, 4)\n",
      "  subject  verb  v_freq   v_rfreq\n",
      "0       i  have    1318  0.016381\n",
      "1       i  want    1210  0.015039\n",
      "2       i    go    1076  0.013373\n",
      "3       i    do     650  0.008079\n",
      "4       i   get     586  0.007283\n"
     ]
    }
   ],
   "source": [
    "# Create a list of the pronouns we want to see\n",
    "pronouns = [\"he\", \"she\", \"i\"]\n",
    "\n",
    "# And then count the number of times \n",
    "# those pronouns are paired with particular verbs\n",
    "m_pp_sv = svos_m[svos_m[\"subject\"].isin(\n",
    "    pronouns)].value_counts(\n",
    "    subset=['subject', 'verb']).reset_index()\n",
    "\n",
    "# Re-label the new column from \"0\" to something human-readable\n",
    "m_pp_sv.rename(columns={0:'v_freq'}, inplace=True)\n",
    "\n",
    "# Add a column with relative frequency\n",
    "m_pp_sv['v_rfreq'] = m_pp_sv['v_freq'] / m_svo_count\n",
    "\n",
    "print(m_pp_sv.shape)\n",
    "print(m_pp_sv.head())"
   ]
  },
  {
   "cell_type": "code",
   "execution_count": 8,
   "metadata": {
    "scrolled": true
   },
   "outputs": [
    {
     "name": "stdout",
     "output_type": "stream",
     "text": [
      "(1069, 4)\n",
      "  subject  verb  v_freq   v_rfreq\n",
      "0       i  have     586  0.022022\n",
      "1       i  want     424  0.015934\n",
      "2       i    go     330  0.012401\n",
      "3       i    do     226  0.008493\n",
      "4       i   get     203  0.007629\n"
     ]
    }
   ],
   "source": [
    "# Repeat for women's subcorpus\n",
    "w_pp_sv = svos_w[svos_w[\"subject\"].isin(\n",
    "    pronouns)].value_counts(\n",
    "    subset=['subject', 'verb']).reset_index()\n",
    "\n",
    "w_pp_sv.rename(columns={0:'v_freq'}, inplace=True)\n",
    "w_pp_sv['v_rfreq'] = w_pp_sv['v_freq'] / w_svo_count\n",
    "\n",
    "print(w_pp_sv.shape)\n",
    "print(w_pp_sv.head())"
   ]
  },
  {
   "cell_type": "code",
   "execution_count": 9,
   "metadata": {},
   "outputs": [],
   "source": [
    "# m_pp_sv.to_csv(\"../output/m_pp_sv.csv\")\n",
    "# w_pp_sv.to_csv(\"../output/w_pp_sv.csv\")"
   ]
  },
  {
   "cell_type": "markdown",
   "metadata": {},
   "source": [
    "## Subjects as Verb Features\n",
    "\n",
    "The goal in this section is to:\n",
    "\n",
    "1. Collect all the verbs associated with the specified subjects\n",
    "2. Weight the verbs (by normalization)\n",
    "3. Compare the verbs manually\n",
    "4. Visualize a comparison using PCA or t-SNE\n",
    "\n",
    "**Possible threshold**: 0.002 (0.2%) frequency represents at least 38 occurrences in the men's subcorpus and 15 in the women's.\n"
   ]
  },
  {
   "cell_type": "markdown",
   "metadata": {},
   "source": [
    "In the cells below, we create 6 distinct dataframes, each containing one of the gendered pronouns, *he* or *she*, or the first person (indexical-referential) pronoun *I*. \n",
    "\n",
    "We then have a function that transposes each \"subjective\" dataframe into a single row with the verbs associated with as columns and their relative frequencies as values.\n",
    "\n",
    "We then stack those rows using pandas concatenate to get a dataframe with all 6 subject positions and 1381 verbs associated with them.\n",
    "\n",
    "<div class=\"alert alert-block alert-info\"> \n",
    "    <p>There is a lot of repetition here. No doubt there are not only better ways to do this in terms of individual lines of code but also without as many lines of repetitious code as there are here.</p>\n",
    "    </div>"
   ]
  },
  {
   "cell_type": "code",
   "execution_count": 10,
   "metadata": {
    "scrolled": true
   },
   "outputs": [
    {
     "name": "stdout",
     "output_type": "stream",
     "text": [
      "m_he:  514, w_he:  246\n",
      "m_she: 245, w_she: 221\n",
      "m_i:   964, w_i:   602\n",
      "\n",
      " w_i looks like:\n",
      "   verb   v_rfreq\n",
      "0  have  0.022022\n",
      "1  want  0.015934\n",
      "2    go  0.012401\n",
      "3    do  0.008493\n",
      "4   get  0.007629\n"
     ]
    }
   ],
   "source": [
    "# Filter for pronoun and drop the un-needed columns\n",
    "m_he = m_pp_sv.loc[(m_pp_sv['subject'] == 'he')].drop(columns=[\"subject\",\"v_freq\"])\n",
    "w_he = w_pp_sv.loc[(w_pp_sv['subject'] == 'he')].drop(columns=[\"subject\",\"v_freq\"])\n",
    "\n",
    "# Repeat for \"she\"\n",
    "m_she = m_pp_sv.loc[(m_pp_sv['subject'] == 'she')].drop(columns=[\"subject\",\"v_freq\"])\n",
    "w_she = w_pp_sv.loc[(w_pp_sv['subject'] == 'she')].drop(columns=[\"subject\",\"v_freq\"])\n",
    "\n",
    "# Repeat for \"i\"\n",
    "m_i = m_pp_sv.loc[(m_pp_sv['subject'] == 'i')].drop(columns=[\"subject\",\"v_freq\"])\n",
    "w_i = w_pp_sv.loc[(w_pp_sv['subject'] == 'i')].drop(columns=[\"subject\",\"v_freq\"])\n",
    "\n",
    "# Print results\n",
    "print(f\"m_he:  {m_he.shape[0]}, w_he:  {w_he.shape[0]}\")\n",
    "print(f\"m_she: {m_she.shape[0]}, w_she: {w_she.shape[0]}\")\n",
    "print(f\"m_i:   {m_i.shape[0]}, w_i:   {w_i.shape[0]}\")\n",
    "print(\"\\n w_i looks like:\")\n",
    "print(w_i.head())"
   ]
  },
  {
   "cell_type": "code",
   "execution_count": 11,
   "metadata": {},
   "outputs": [],
   "source": [
    "def makestackable (df, indexname):\n",
    "    df_T = df.transpose()\n",
    "    df_T.columns = df_T.iloc[0]\n",
    "    df_T.drop(index=df_T.index[0], axis=0, inplace=True)\n",
    "    df_T.index = [indexname]\n",
    "    return df_T"
   ]
  },
  {
   "cell_type": "code",
   "execution_count": 12,
   "metadata": {
    "scrolled": true
   },
   "outputs": [],
   "source": [
    "m_it = makestackable(m_i, \"m_i\")\n",
    "w_it = makestackable(w_i, \"w_i\")\n",
    "m_het = makestackable(m_he, \"m_he\")\n",
    "w_het = makestackable(w_he, \"w_he\")\n",
    "m_shet = makestackable(m_she, \"m_she\")\n",
    "w_shet = makestackable(w_she, \"w_she\")"
   ]
  },
  {
   "cell_type": "code",
   "execution_count": 13,
   "metadata": {
    "scrolled": true
   },
   "outputs": [
    {
     "data": {
      "text/html": [
       "<div>\n",
       "<style scoped>\n",
       "    .dataframe tbody tr th:only-of-type {\n",
       "        vertical-align: middle;\n",
       "    }\n",
       "\n",
       "    .dataframe tbody tr th {\n",
       "        vertical-align: top;\n",
       "    }\n",
       "\n",
       "    .dataframe thead th {\n",
       "        text-align: right;\n",
       "    }\n",
       "</style>\n",
       "<table border=\"1\" class=\"dataframe\">\n",
       "  <thead>\n",
       "    <tr style=\"text-align: right;\">\n",
       "      <th>verb</th>\n",
       "      <th>have</th>\n",
       "      <th>want</th>\n",
       "      <th>go</th>\n",
       "      <th>do</th>\n",
       "      <th>get</th>\n",
       "      <th>tell</th>\n",
       "      <th>like</th>\n",
       "      <th>know</th>\n",
       "      <th>start</th>\n",
       "      <th>love</th>\n",
       "      <th>...</th>\n",
       "      <th>exsanguinates</th>\n",
       "      <th>circumcise</th>\n",
       "      <th>address</th>\n",
       "      <th>brainwash</th>\n",
       "      <th>murmur</th>\n",
       "      <th>partner</th>\n",
       "      <th>prioritize</th>\n",
       "      <th>lie</th>\n",
       "      <th>limit</th>\n",
       "      <th>lure</th>\n",
       "    </tr>\n",
       "  </thead>\n",
       "  <tbody>\n",
       "    <tr>\n",
       "      <th>w_i</th>\n",
       "      <td>0.022022</td>\n",
       "      <td>0.015934</td>\n",
       "      <td>0.012401</td>\n",
       "      <td>0.008493</td>\n",
       "      <td>0.007629</td>\n",
       "      <td>0.006351</td>\n",
       "      <td>0.006013</td>\n",
       "      <td>0.005787</td>\n",
       "      <td>0.005449</td>\n",
       "      <td>0.005148</td>\n",
       "      <td>...</td>\n",
       "      <td>0.0</td>\n",
       "      <td>0.0</td>\n",
       "      <td>0.0</td>\n",
       "      <td>0.0</td>\n",
       "      <td>0.0</td>\n",
       "      <td>0.0</td>\n",
       "      <td>0.0</td>\n",
       "      <td>0.0</td>\n",
       "      <td>0.0</td>\n",
       "      <td>0.0</td>\n",
       "    </tr>\n",
       "    <tr>\n",
       "      <th>m_i</th>\n",
       "      <td>0.016381</td>\n",
       "      <td>0.015039</td>\n",
       "      <td>0.013373</td>\n",
       "      <td>0.008079</td>\n",
       "      <td>0.007283</td>\n",
       "      <td>0.004052</td>\n",
       "      <td>0.005742</td>\n",
       "      <td>0.003405</td>\n",
       "      <td>0.004686</td>\n",
       "      <td>0.003368</td>\n",
       "      <td>...</td>\n",
       "      <td>0.0</td>\n",
       "      <td>0.0</td>\n",
       "      <td>0.0</td>\n",
       "      <td>0.0</td>\n",
       "      <td>0.0</td>\n",
       "      <td>0.0</td>\n",
       "      <td>0.0</td>\n",
       "      <td>0.0</td>\n",
       "      <td>0.0</td>\n",
       "      <td>0.0</td>\n",
       "    </tr>\n",
       "    <tr>\n",
       "      <th>m_he</th>\n",
       "      <td>0.002883</td>\n",
       "      <td>0.000882</td>\n",
       "      <td>0.000969</td>\n",
       "      <td>0.001380</td>\n",
       "      <td>0.001119</td>\n",
       "      <td>0.000721</td>\n",
       "      <td>0.000174</td>\n",
       "      <td>0.000336</td>\n",
       "      <td>0.000522</td>\n",
       "      <td>0.000062</td>\n",
       "      <td>...</td>\n",
       "      <td>0.0</td>\n",
       "      <td>0.0</td>\n",
       "      <td>0.0</td>\n",
       "      <td>0.0</td>\n",
       "      <td>0.0</td>\n",
       "      <td>0.0</td>\n",
       "      <td>0.0</td>\n",
       "      <td>0.0</td>\n",
       "      <td>0.0</td>\n",
       "      <td>0.0</td>\n",
       "    </tr>\n",
       "    <tr>\n",
       "      <th>w_he</th>\n",
       "      <td>0.003006</td>\n",
       "      <td>0.000752</td>\n",
       "      <td>0.001203</td>\n",
       "      <td>0.001090</td>\n",
       "      <td>0.000714</td>\n",
       "      <td>0.000601</td>\n",
       "      <td>0.000263</td>\n",
       "      <td>0.000150</td>\n",
       "      <td>0.000451</td>\n",
       "      <td>0.000150</td>\n",
       "      <td>...</td>\n",
       "      <td>0.0</td>\n",
       "      <td>0.0</td>\n",
       "      <td>0.0</td>\n",
       "      <td>0.0</td>\n",
       "      <td>0.0</td>\n",
       "      <td>0.0</td>\n",
       "      <td>0.0</td>\n",
       "      <td>0.0</td>\n",
       "      <td>0.0</td>\n",
       "      <td>0.0</td>\n",
       "    </tr>\n",
       "    <tr>\n",
       "      <th>m_she</th>\n",
       "      <td>0.001168</td>\n",
       "      <td>0.000398</td>\n",
       "      <td>0.000423</td>\n",
       "      <td>0.000510</td>\n",
       "      <td>0.000298</td>\n",
       "      <td>0.000249</td>\n",
       "      <td>0.000062</td>\n",
       "      <td>0.000124</td>\n",
       "      <td>0.000211</td>\n",
       "      <td>0.000050</td>\n",
       "      <td>...</td>\n",
       "      <td>0.0</td>\n",
       "      <td>0.0</td>\n",
       "      <td>0.0</td>\n",
       "      <td>0.0</td>\n",
       "      <td>0.0</td>\n",
       "      <td>0.0</td>\n",
       "      <td>0.0</td>\n",
       "      <td>0.0</td>\n",
       "      <td>0.0</td>\n",
       "      <td>0.0</td>\n",
       "    </tr>\n",
       "  </tbody>\n",
       "</table>\n",
       "<p>5 rows × 1381 columns</p>\n",
       "</div>"
      ],
      "text/plain": [
       "verb       have      want        go        do       get      tell      like  \\\n",
       "w_i    0.022022  0.015934  0.012401  0.008493  0.007629  0.006351  0.006013   \n",
       "m_i    0.016381  0.015039  0.013373  0.008079  0.007283  0.004052  0.005742   \n",
       "m_he   0.002883  0.000882  0.000969  0.001380  0.001119  0.000721  0.000174   \n",
       "w_he   0.003006  0.000752  0.001203  0.001090  0.000714  0.000601  0.000263   \n",
       "m_she  0.001168  0.000398  0.000423  0.000510  0.000298  0.000249  0.000062   \n",
       "\n",
       "verb       know     start      love  ...  exsanguinates  circumcise  address  \\\n",
       "w_i    0.005787  0.005449  0.005148  ...            0.0         0.0      0.0   \n",
       "m_i    0.003405  0.004686  0.003368  ...            0.0         0.0      0.0   \n",
       "m_he   0.000336  0.000522  0.000062  ...            0.0         0.0      0.0   \n",
       "w_he   0.000150  0.000451  0.000150  ...            0.0         0.0      0.0   \n",
       "m_she  0.000124  0.000211  0.000050  ...            0.0         0.0      0.0   \n",
       "\n",
       "verb   brainwash  murmur  partner  prioritize  lie  limit  lure  \n",
       "w_i          0.0     0.0      0.0         0.0  0.0    0.0   0.0  \n",
       "m_i          0.0     0.0      0.0         0.0  0.0    0.0   0.0  \n",
       "m_he         0.0     0.0      0.0         0.0  0.0    0.0   0.0  \n",
       "w_he         0.0     0.0      0.0         0.0  0.0    0.0   0.0  \n",
       "m_she        0.0     0.0      0.0         0.0  0.0    0.0   0.0  \n",
       "\n",
       "[5 rows x 1381 columns]"
      ]
     },
     "execution_count": 13,
     "metadata": {},
     "output_type": "execute_result"
    }
   ],
   "source": [
    "concatenated = pd.concat([w_it, m_it, m_het, w_het, m_shet, w_shet])\n",
    "concatenated.fillna(0, inplace=True)\n",
    "concatenated.head()"
   ]
  },
  {
   "cell_type": "markdown",
   "metadata": {},
   "source": [
    "**TO DO**: Do something with this dataframe."
   ]
  },
  {
   "cell_type": "markdown",
   "metadata": {},
   "source": [
    "## Visualizing Subject Positions"
   ]
  },
  {
   "cell_type": "markdown",
   "metadata": {},
   "source": [
    "### \"he\"\n",
    "\n",
    "In these first scatter plots for \"he\" verbs in both the men's and women's subcorpora, we see that there are 514 verbs used by men and 246 used by women. Again, we can't be sure if that number reflects anything more than a power law at work, despite the fact that there are twice as many verbs used by men but three times the talk. \n",
    "\n",
    "**TO DO**: Get a total word count for the two subcorpora.\n",
    "\n",
    "With the merge, we are left with 159 verbs in common, which does raise interesting possibilities about the verbs that are dropped from the intersection."
   ]
  },
  {
   "cell_type": "code",
   "execution_count": 14,
   "metadata": {},
   "outputs": [
    {
     "data": {
      "text/plain": [
       "<Figure size 3000x3000 with 0 Axes>"
      ]
     },
     "metadata": {},
     "output_type": "display_data"
    }
   ],
   "source": [
    "import seaborn.objects as so\n",
    "from matplotlib.pyplot import figure\n",
    "figure(figsize=(10,10), dpi=300)\n",
    "import matplotlib.lines as mlines"
   ]
  },
  {
   "cell_type": "code",
   "execution_count": 15,
   "metadata": {},
   "outputs": [
    {
     "name": "stdout",
     "output_type": "stream",
     "text": [
      "(159, 3)\n",
      "   verb  v_rfreq_m  v_rfreq_w\n",
      "0  have   0.002883   0.003006\n",
      "1   say   0.001641   0.001466\n",
      "2    do   0.001380   0.001090\n",
      "3   get   0.001119   0.000714\n",
      "4    go   0.000969   0.001203\n"
     ]
    }
   ],
   "source": [
    "# Create the dataframe with the intersection of the two sets of verbs\n",
    "comp_he = m_he.merge(\n",
    "    w_he, \n",
    "    left_on = \"verb\", right_on = \"verb\", \n",
    "    suffixes=(\"_m\", \"_w\"))\n",
    "\n",
    "print(comp_he.shape)\n",
    "print(comp_he.head())"
   ]
  },
  {
   "cell_type": "code",
   "execution_count": 20,
   "metadata": {
    "scrolled": false
   },
   "outputs": [
    {
     "data": {
      "text/plain": [
       "<AxesSubplot:xlabel='v_rfreq_m', ylabel='v_rfreq_w'>"
      ]
     },
     "execution_count": 20,
     "metadata": {},
     "output_type": "execute_result"
    },
    {
     "data": {
      "image/png": "[encoded data removed]",
      "text/plain": [
       "<Figure size 432x288 with 1 Axes>"
      ]
     },
     "metadata": {
      "needs_background": "light"
     },
     "output_type": "display_data"
    }
   ],
   "source": [
    "## KK's visualization\n",
    "sns.scatterplot(data = comp_he, x = \"v_rfreq_m\", y = \"v_rfreq_w\")"
   ]
  },
  {
   "cell_type": "code",
   "execution_count": 21,
   "metadata": {
    "scrolled": false
   },
   "outputs": [
    {
     "data": {
      "image/png": "[encoded data removed]",
      "text/plain": [
       "<Figure size 1000x1000 with 1 Axes>"
      ]
     },
     "metadata": {},
     "output_type": "display_data"
    }
   ],
   "source": [
    "# JL's attempts to make things bigger\n",
    "# First plot grabs the top 15 verbs\n",
    "p = so.Plot(comp_he.iloc[0:15],\n",
    "            x='v_rfreq_m',\n",
    "            y='v_rfreq_w',\n",
    "            text='verb').add(so.Dot(marker='+')).add(so.Text(halign='left')).layout(size=(10,10))\n",
    "p.show()"
   ]
  },
  {
   "cell_type": "code",
   "execution_count": 22,
   "metadata": {
    "scrolled": false
   },
   "outputs": [
    {
     "data": {
      "image/png": "[encoded data removed]",
      "text/plain": [
       "<Figure size 1000x1000 with 1 Axes>"
      ]
     },
     "metadata": {},
     "output_type": "display_data"
    }
   ],
   "source": [
    "# Second figure plots the remaining verbs\n",
    "\n",
    "plt = so.Plot(comp_he.iloc[15:],\n",
    "            x='v_rfreq_m',\n",
    "            y='v_rfreq_w',\n",
    "            text='verb').add(so.Dot(marker='+')).add(so.Text(halign='left')).layout(size=(10,10))\n",
    "plt.show()"
   ]
  },
  {
   "cell_type": "markdown",
   "metadata": {},
   "source": [
    "#### Complements\n",
    "\n",
    "Recall, that in the men's subcorpus \"he\" pairs with 514 verbs, and in the women's subcorpus 246 verbs, but there are only 159 verbs that appear in both. In this next series of cells, we explore the verbs associated with \"he\" that do not appear in both subcorpora. "
   ]
  },
  {
   "cell_type": "code",
   "execution_count": 23,
   "metadata": {
    "scrolled": false
   },
   "outputs": [
    {
     "name": "stdout",
     "output_type": "stream",
     "text": [
      "(355, 2)\n",
      "          verb   v_rfreq\n",
      "249       grab  0.000099\n",
      "250    propose  0.000099\n",
      "259     invent  0.000087\n",
      "261        sit  0.000087\n",
      "281       work  0.000087\n",
      "290      reach  0.000075\n",
      "313         be  0.000075\n",
      "319      touch  0.000062\n",
      "330     figure  0.000062\n",
      "334      cover  0.000062\n",
      "336       seem  0.000062\n",
      "361    realize  0.000062\n",
      "426     summon  0.000050\n",
      "427         's  0.000050\n",
      "428        add  0.000050\n",
      "429     answer  0.000050\n",
      "430      order  0.000050\n",
      "434      place  0.000050\n",
      "435      agree  0.000050\n",
      "437  introduce  0.000050\n"
     ]
    }
   ],
   "source": [
    "# Create dictionaries from the two lists\n",
    "dict1 = dict(m_he.values)\n",
    "dict2 = dict(w_he.values)\n",
    "\n",
    "# Find verbs that only occur\n",
    "m_he_set = set(dict1.keys())-(set(dict2.keys()))\n",
    "\n",
    "# Filter the dataframe\n",
    "m_he_only = m_he[m_he[\"verb\"].isin(m_he_set)]\n",
    "\n",
    "print(m_he_only.shape)\n",
    "print(m_he_only.head(20))"
   ]
  },
  {
   "cell_type": "code",
   "execution_count": 24,
   "metadata": {},
   "outputs": [
    {
     "name": "stdout",
     "output_type": "stream",
     "text": [
      "(87, 2)\n",
      "          verb   v_rfreq\n",
      "290       hand  0.000113\n",
      "423       hide  0.000075\n",
      "424    possess  0.000075\n",
      "426       name  0.000075\n",
      "427   mutilate  0.000075\n",
      "438     report  0.000075\n",
      "440  represent  0.000075\n",
      "442     inject  0.000075\n",
      "453       bury  0.000075\n",
      "464       blow  0.000075\n",
      "477      coach  0.000075\n",
      "695      abuse  0.000038\n",
      "697       stun  0.000038\n",
      "698      slash  0.000038\n",
      "699      sling  0.000038\n",
      "700      speed  0.000038\n",
      "701      spike  0.000038\n",
      "702      stack  0.000038\n",
      "703     strike  0.000038\n",
      "704      strip  0.000038\n"
     ]
    }
   ],
   "source": [
    "# Find verbs that only occur\n",
    "w_he_set = (set(dict2.keys())) - set(dict1.keys())\n",
    "\n",
    "# Filter the dataframe\n",
    "w_he_only = w_he[w_he[\"verb\"].isin(w_he_set)]\n",
    "\n",
    "print(w_he_only.shape)\n",
    "print(w_he_only.head(20))"
   ]
  },
  {
   "cell_type": "markdown",
   "metadata": {},
   "source": [
    "## Pointwise Mutual Information with SV Pairs\n",
    "\n",
    "<div class=\"alert alert-block alert-info\"> \n",
    "    <p>This may be entirely pointless.</p>\n",
    "    </div>\n",
    "\n",
    "Following Agersnap et al's use of PMI scores for every pronoun verb collocation...\n",
    "\n",
    "NLTK reference: [Sample usage for collocations](https://www.nltk.org/howto/collocations.html)."
   ]
  },
  {
   "cell_type": "code",
   "execution_count": 25,
   "metadata": {
    "scrolled": true
   },
   "outputs": [
    {
     "data": {
      "text/html": [
       "<div>\n",
       "<style scoped>\n",
       "    .dataframe tbody tr th:only-of-type {\n",
       "        vertical-align: middle;\n",
       "    }\n",
       "\n",
       "    .dataframe tbody tr th {\n",
       "        vertical-align: top;\n",
       "    }\n",
       "\n",
       "    .dataframe thead th {\n",
       "        text-align: right;\n",
       "    }\n",
       "</style>\n",
       "<table border=\"1\" class=\"dataframe\">\n",
       "  <thead>\n",
       "    <tr style=\"text-align: right;\">\n",
       "      <th></th>\n",
       "      <th>subject</th>\n",
       "      <th>verb</th>\n",
       "      <th>object</th>\n",
       "    </tr>\n",
       "  </thead>\n",
       "  <tbody>\n",
       "    <tr>\n",
       "      <th>1</th>\n",
       "      <td>she</td>\n",
       "      <td>turn</td>\n",
       "      <td>[to, be, a, much, bigger, dog, than, i, 'd, an...</td>\n",
       "    </tr>\n",
       "    <tr>\n",
       "      <th>5</th>\n",
       "      <td>i</td>\n",
       "      <td>contact</td>\n",
       "      <td>[parks, department]</td>\n",
       "    </tr>\n",
       "    <tr>\n",
       "      <th>6</th>\n",
       "      <td>i</td>\n",
       "      <td>mention</td>\n",
       "      <td>[that]</td>\n",
       "    </tr>\n",
       "    <tr>\n",
       "      <th>7</th>\n",
       "      <td>she</td>\n",
       "      <td>pull</td>\n",
       "      <td>[me]</td>\n",
       "    </tr>\n",
       "    <tr>\n",
       "      <th>8</th>\n",
       "      <td>she</td>\n",
       "      <td>be</td>\n",
       "      <td>[dragging, me, ,, and, lo, and, behold, ,, at,...</td>\n",
       "    </tr>\n",
       "  </tbody>\n",
       "</table>\n",
       "</div>"
      ],
      "text/plain": [
       "  subject     verb                                             object\n",
       "1     she     turn  [to, be, a, much, bigger, dog, than, i, 'd, an...\n",
       "5       i  contact                                [parks, department]\n",
       "6       i  mention                                             [that]\n",
       "7     she     pull                                               [me]\n",
       "8     she       be  [dragging, me, ,, and, lo, and, behold, ,, at,..."
      ]
     },
     "execution_count": 25,
     "metadata": {},
     "output_type": "execute_result"
    }
   ],
   "source": [
    "# Our two dataframes with the relevant SVOs: m_pp_svo, w_pp_svo\n",
    "w_pp_svo.head()"
   ]
  },
  {
   "cell_type": "code",
   "execution_count": 26,
   "metadata": {},
   "outputs": [],
   "source": [
    "import nltk\n",
    "from nltk.collocations import BigramCollocationFinder, BigramAssocMeasures"
   ]
  },
  {
   "cell_type": "code",
   "execution_count": 27,
   "metadata": {},
   "outputs": [
    {
     "ename": "NameError",
     "evalue": "name 'bigram_measures' is not defined",
     "output_type": "error",
     "traceback": [
      "\u001b[0;31m---------------------------------------------------------------------------\u001b[0m",
      "\u001b[0;31mNameError\u001b[0m                                 Traceback (most recent call last)",
      "\u001b[0;32m/var/folders/mz/k5p3f5wj0czgd_5m4dw59py00000gn/T/ipykernel_17083/3823603201.py\u001b[0m in \u001b[0;36m<module>\u001b[0;34m\u001b[0m\n\u001b[1;32m      2\u001b[0m \u001b[0mtokens\u001b[0m \u001b[0;34m=\u001b[0m \u001b[0mnltk\u001b[0m\u001b[0;34m.\u001b[0m\u001b[0mwordpunct_tokenize\u001b[0m\u001b[0;34m(\u001b[0m\u001b[0mtext\u001b[0m\u001b[0;34m)\u001b[0m\u001b[0;34m\u001b[0m\u001b[0;34m\u001b[0m\u001b[0m\n\u001b[1;32m      3\u001b[0m \u001b[0mfinder\u001b[0m \u001b[0;34m=\u001b[0m \u001b[0mBigramCollocationFinder\u001b[0m\u001b[0;34m.\u001b[0m\u001b[0mfrom_words\u001b[0m\u001b[0;34m(\u001b[0m\u001b[0mtokens\u001b[0m\u001b[0;34m)\u001b[0m\u001b[0;34m\u001b[0m\u001b[0;34m\u001b[0m\u001b[0m\n\u001b[0;32m----> 4\u001b[0;31m \u001b[0mscores\u001b[0m \u001b[0;34m=\u001b[0m \u001b[0mfinder\u001b[0m\u001b[0;34m.\u001b[0m\u001b[0mscore_ngrams\u001b[0m\u001b[0;34m(\u001b[0m\u001b[0mbigram_measures\u001b[0m\u001b[0;34m.\u001b[0m\u001b[0mraw_freq\u001b[0m\u001b[0;34m)\u001b[0m\u001b[0;34m\u001b[0m\u001b[0;34m\u001b[0m\u001b[0m\n\u001b[0m\u001b[1;32m      5\u001b[0m \u001b[0;31m# sorted(bigram for bigram, score in scores)\u001b[0m\u001b[0;34m\u001b[0m\u001b[0;34m\u001b[0m\u001b[0;34m\u001b[0m\u001b[0m\n\u001b[1;32m      6\u001b[0m \u001b[0mprint\u001b[0m\u001b[0;34m(\u001b[0m\u001b[0mscores\u001b[0m\u001b[0;34m)\u001b[0m\u001b[0;34m\u001b[0m\u001b[0;34m\u001b[0m\u001b[0m\n",
      "\u001b[0;31mNameError\u001b[0m: name 'bigram_measures' is not defined"
     ]
    }
   ],
   "source": [
    "text = \"I do not like green eggs and ham, I do not like them Sam I am!\"\n",
    "tokens = nltk.wordpunct_tokenize(text)\n",
    "finder = BigramCollocationFinder.from_words(tokens)\n",
    "scores = finder.score_ngrams(bigram_measures.raw_freq)\n",
    "# sorted(bigram for bigram, score in scores)\n",
    "print(scores)"
   ]
  },
  {
   "cell_type": "code",
   "execution_count": null,
   "metadata": {},
   "outputs": [],
   "source": [
    "word_fd = nltk.FreqDist(tokens)\n",
    "bigram_fd = nltk.FreqDist(nltk.bigrams(tokens))\n",
    "finder = BigramCollocationFinder(word_fd, bigram_fd)\n",
    "scored = finder.score_ngrams(bigram_measures.raw_freq)\n",
    "print(scored)"
   ]
  },
  {
   "cell_type": "code",
   "execution_count": null,
   "metadata": {},
   "outputs": [],
   "source": [
    "for item in bigram_fd:\n",
    "    print(item)"
   ]
  },
  {
   "cell_type": "markdown",
   "metadata": {},
   "source": [
    "StreamHacker has an interesting post on [chi square](https://streamhacker.com/tag/chi-square/) measures in order to determine the best features for pos / neg movie reviews.\n",
    "\n",
    "> One of the best metrics for information gain is chi square. NLTK includes this in the BigramAssocMeasures class in the metrics package. To use it, first we need to calculate a few frequencies for each word: its overall frequency and its frequency within each class. This is done with a FreqDist for overall frequency of words, and a ConditionalFreqDist where the conditions are the class labels. Once we have those numbers, we can score words with the BigramAssocMeasures.chi_sq function, then sort the words by score and take the top 10000. We then put these words into a set, and use a set membership test in our feature selection function to select only those words that appear in the set. Now each file is classified based on the presence of these high information words."
   ]
  },
  {
   "cell_type": "code",
   "execution_count": null,
   "metadata": {},
   "outputs": [],
   "source": [
    "import numpy as np\n",
    "from sklearn.feature_selection import f_regression\n",
    "\n",
    "# Define the feature matrix X and the target vector y for the 6 samples\n",
    "y = np.array([0, 1, 0, 1, 0, 1])\n",
    "\n",
    "# Perform feature selection using the f_regression method\n",
    "f_values, p_values = f_regression(concatenated, y)\n",
    "\n",
    "# Print the results\n",
    "for i in range(len(f_values)):\n",
    "    print(\"Feature\", i+1, \"F-value:\", f_values[i], \"p-value:\", p_values[i])\n"
   ]
  },
  {
   "cell_type": "code",
   "execution_count": null,
   "metadata": {},
   "outputs": [],
   "source": [
    "import numpy as np\n",
    "from sklearn.ensemble import RandomForestClassifier\n",
    "from sklearn.model_selection import train_test_split\n",
    "from sklearn.metrics import accuracy_score\n",
    "\n",
    "# Define the feature matrix X and the target vector y for the 6 samples\n",
    "X = concatenated\n",
    "y = np.array([0, 1, 0, 1, 0, 1])\n",
    "\n",
    "# Split the data into training and testing sets\n",
    "X_train, X_test, y_train, y_test = train_test_split(X, y, test_size=0.2, random_state=42)\n",
    "\n",
    "# Train a Random Forest classifier on the training data\n",
    "clf = RandomForestClassifier(n_estimators=100, random_state=42)\n",
    "clf.fit(X_train, y_train)\n",
    "\n",
    "# Predict the labels for the test data\n",
    "y_pred = clf.predict(X_test)\n",
    "\n",
    "# Calculate the accuracy of the classifier\n",
    "accuracy = accuracy_score(y_test, y_pred)\n",
    "print(\"Accuracy:\", accuracy)"
   ]
  }
 ],
 "metadata": {
  "interpreter": {
   "hash": "14a02b88778d8fb8b6aeb4ad427a942bc53dfcda9d7e3737237788289e0d2d23"
  },
  "kernelspec": {
   "display_name": "Python 3 (ipykernel)",
   "language": "python",
   "name": "python3"
  },
  "language_info": {
   "codemirror_mode": {
    "name": "ipython",
    "version": 3
   },
   "file_extension": ".py",
   "mimetype": "text/x-python",
   "name": "python",
   "nbconvert_exporter": "python",
   "pygments_lexer": "ipython3",
   "version": "3.9.10"
  },
  "toc": {
   "base_numbering": 1,
   "nav_menu": {},
   "number_sections": true,
   "sideBar": true,
   "skip_h1_title": true,
   "title_cell": "",
   "title_sidebar": "Contents",
   "toc_cell": true,
   "toc_position": 2,
   "toc_section_display": true,
   "toc_window_display": false
  }
 },
 "nbformat": 4,
 "nbformat_minor": 2
}
