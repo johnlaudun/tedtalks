{
 "cells": [
  {
   "cell_type": "markdown",
   "metadata": {},
   "source": [
    "# Subjective Verbs\n",
    "\n",
    "In the previous notebook we looked at large-scale trends in the use of subjects and verbs in the two subcorpora. In this notebook, we turn to understanding possible relationships between the subjects and the verbs that follow them. That is, what kinds of actions are available to the subjects *she* and *he*. How do those actions compare between male speakers and female speakers. Finally, is there a continuity between the actions projected onto a gendered subject and the speaking subject (her or himself) as reflected in the verbs paired with *I*?\n",
    "\n",
    "<div class=\"alert alert-block alert-info\"> \n",
    "    <p>A note about the naming of variables below:</p>\n",
    "    <ul>\n",
    "        <li><code>m</code> and <code>w</code> represent the subcorpus, men or women speakers</li>\n",
    "        <li><code>pp</code> stands for personal pronouns, usually \"he,\" \"she,\" and \"I\" here.\n",
    "        <li><code>svo</code> signifies that the complete SVO-triplet is used</li>\n",
    "        <li><code>sv</code> signifies that just the subject-verb pairs are being used</li>\n",
    "    </ul>   \n",
    "</div>"
   ]
  },
  {
   "cell_type": "code",
   "execution_count": 1,
   "metadata": {},
   "outputs": [
    {
     "name": "stdout",
     "output_type": "stream",
     "text": [
      "80460 26610\n"
     ]
    }
   ],
   "source": [
    "# IMPORTS\n",
    "import pandas as pd\n",
    "import numpy as np\n",
    "import seaborn as sns\n",
    "\n",
    "# LOAD DATAFRAMES\n",
    "# the `lem` suffix indicates the verbs have been lemmatized\n",
    "svos_m = pd.read_csv(\"../output/svos_m_lem.csv\", index_col=0)\n",
    "svos_w = pd.read_csv(\"../output/svos_w_lem.csv\", index_col=0)\n",
    "\n",
    "# Save the SVO count for each corpus for calculating relative frequencies\n",
    "m_svo_count = svos_m.shape[0]\n",
    "w_svo_count = svos_w.shape[0]\n",
    "\n",
    "# Output something to check our efforts\n",
    "print(m_svo_count, w_svo_count)"
   ]
  },
  {
   "cell_type": "markdown",
   "metadata": {},
   "source": [
    "## Possible Approaches\n",
    "\n",
    "What we want to explore is both the usual ways that speakers (men or women) pair the pronouns *he*, *she*, *i* with verbs and also, perhaps, the significant pairings.\n",
    "\n",
    "The usual way can be approached via **counts** (see below), which can be readily visualized with Sankey plots. (Those plots are now in a separate notebook.) \n",
    "\n",
    "Relative frequencies would let us compare across the two subcorpora ... or would this be approached better by some form of TF-IDF? (And would we need to determine some sort of lower threshold of the number of sentences in which a verb must occur? We're not interested in verb only used in a single sentence but verbs used often in a pairing in one subcorpus and not in the other.)"
   ]
  },
  {
   "cell_type": "markdown",
   "metadata": {},
   "source": [
    "### Early Efforts\n",
    "\n",
    "Elsewhere we have used the following code to give us a verb count associated with a particular subject. \n",
    "\n",
    "```python\n",
    "# If the top N verbs associated with \"he\" is wanted\n",
    "# iloc can be commented out if not desired\n",
    "\n",
    "N = 20\n",
    "m_he = svos_m[svos_m[\"subject\"] == \"he\"].groupby([\"verb\"]).size().reset_index(\n",
    "    name='obs').sort_values(['obs'], ascending=False).iloc[:N] \n",
    "\n",
    "# Get a sense of our results\n",
    "print(m_he.shape)\n",
    "print(m_he.head())\n",
    "```"
   ]
  },
  {
   "cell_type": "markdown",
   "metadata": {},
   "source": [
    "### Subsets\n",
    "\n",
    "This gives us all the subjects and verb pairings. \n",
    "\n",
    "Used on the entire mens subcorpus, it suggests that **the most common subject-verb pairing is *we have***, by a pretty large margin, so let's mark that as something worth exploring further.\n",
    "\n",
    "A hand inspection also suggests that pronouns and generic collective nouns like \"people\" or \"everyone\" dominate as subjects of sentences."
   ]
  },
  {
   "cell_type": "code",
   "execution_count": 2,
   "metadata": {
    "scrolled": false
   },
   "outputs": [
    {
     "name": "stdout",
     "output_type": "stream",
     "text": [
      "(19993,)\n",
      "subject  verb\n",
      "we       have    2259\n",
      "you      have    1505\n",
      "i        have    1318\n",
      "         want    1210\n",
      "         go      1076\n",
      "you      see      997\n",
      "we       do       972\n",
      "you      get      901\n",
      "we       go       743\n",
      "         need     717\n",
      "dtype: int64\n"
     ]
    }
   ],
   "source": [
    "# Subset\n",
    "m_svpairs = svos_m.value_counts(subset=['subject', 'verb'])\n",
    "print(m_svpairs.shape)\n",
    "print(m_svpairs.head(10))"
   ]
  },
  {
   "cell_type": "code",
   "execution_count": 3,
   "metadata": {
    "scrolled": true
   },
   "outputs": [
    {
     "name": "stdout",
     "output_type": "stream",
     "text": [
      "(8809,)\n",
      "subject  verb\n",
      "we       have    674\n",
      "i        have    586\n",
      "         want    424\n",
      "you      have    406\n",
      "i        go      330\n",
      "we       need    255\n",
      "you      see     255\n",
      "we       do      246\n",
      "they     have    231\n",
      "i        do      226\n",
      "dtype: int64\n"
     ]
    }
   ],
   "source": [
    "w_svpairs = svos_w.value_counts(subset=['subject', 'verb'])\n",
    "print(w_svpairs.shape)\n",
    "print(w_svpairs.head(10))"
   ]
  },
  {
   "cell_type": "code",
   "execution_count": 4,
   "metadata": {},
   "outputs": [],
   "source": [
    "# Save our results for hand inspection\n",
    "# m_svpairs.to_csv(\"../output/m_svpairs.csv\")\n",
    "# w_svpairs.to_csv(\"../output/w_svpairs.csv\")"
   ]
  },
  {
   "cell_type": "markdown",
   "metadata": {},
   "source": [
    "<div class=\"alert alert-block alert-info\"> \n",
    "    <p>All three parts of the SVO can be subsetted:</p>\n",
    "    <pre>m_svos = svos_m.value_counts(subset=['subject', 'verb', 'object'])\n",
    "    \n",
    " subject  verb  object\n",
    " we       do    [what]    206\n",
    "                [that]    162\n",
    " i        tell  [you]     159\n",
    " you      do    [what]    151\n",
    "          see   [what]    130</pre>\n",
    "    </div>"
   ]
  },
  {
   "cell_type": "markdown",
   "metadata": {},
   "source": [
    "### Filtered\n",
    "\n",
    "One approach might look like this, where we simply, in effect, filter the dataframe only for the subjects, here the pronouns *he*, *she*, and *i*, in which we are interested.\n",
    "\n",
    "As the `shape` method reveals, this yields 18836 SVOs out of 80460 total for men, or almost one-quarter (23.4%) of all the sentences used by male speakers use one of those three pronouns. For women, there are 7585 SVOs that have he, she, i as subjects out of 26610, which is a bit more than a quarter (28.5%). "
   ]
  },
  {
   "cell_type": "markdown",
   "metadata": {},
   "source": [
    "#### Complete Subject-Verb-Object Triplet"
   ]
  },
  {
   "cell_type": "code",
   "execution_count": 5,
   "metadata": {
    "scrolled": true
   },
   "outputs": [
    {
     "name": "stdout",
     "output_type": "stream",
     "text": [
      "(18836, 3)\n",
      "  subject  verb                                             object\n",
      "0       i  blow                                       [conference]\n",
      "1       i  want  [to, thank, all, of, you, for, the, many, nice...\n",
      "2       i  need                                             [that]\n",
      "4       i   fly                                              [two]\n",
      "5       i  have  [to, take, off, my, shoes, or, boots, to, get,...\n"
     ]
    }
   ],
   "source": [
    "# Filter\n",
    "m_pp_svo = svos_m.loc[(\n",
    "    svos_m['subject'] == 'he') | (\n",
    "    svos_m['subject'] == 'she') | (\n",
    "    svos_m[\"subject\"] == \"i\")\n",
    "]\n",
    "print(m_pp_svo.shape)\n",
    "print(m_pp_svo.head())"
   ]
  },
  {
   "cell_type": "code",
   "execution_count": 6,
   "metadata": {},
   "outputs": [
    {
     "name": "stdout",
     "output_type": "stream",
     "text": [
      "(7585, 3)\n",
      "  subject     verb                                             object\n",
      "1     she     turn  [to, be, a, much, bigger, dog, than, i, 'd, an...\n",
      "5       i  contact                                [parks, department]\n",
      "6       i  mention                                             [that]\n",
      "7     she     pull                                               [me]\n",
      "8     she       be  [dragging, me, ,, and, lo, and, behold, ,, at,...\n"
     ]
    }
   ],
   "source": [
    "# And now the women subcorpus\n",
    "w_pp_svo = svos_w.loc[(\n",
    "    svos_w['subject'] == 'he') | (\n",
    "    svos_w['subject'] == 'she') | (\n",
    "    svos_w[\"subject\"] == \"i\")\n",
    "]\n",
    "print(w_pp_svo.shape)\n",
    "print(w_pp_svo.head())"
   ]
  },
  {
   "cell_type": "markdown",
   "metadata": {},
   "source": [
    "#### Just the Subject-Verb Pairs\n",
    "\n",
    "A survey of the SVOs above reveals that there are verbs that frequently appear, those that regularly appear, and those that rarely appear with the three pronouns in which we are interested. We use `value_counts()` combined with `isin()` to get a summary of the three pronouns and verbs.\n",
    "\n",
    "The results reveal that the 18836 SVOs in the mens subcorpus use only 1723 verbs and the 7585 SVOs in the womens subcorpus use 1069 verbs. Disregarding for the moment how many verbs may only have been used once, it would appear that there is greater variety in women's discourse, but that could also represent the power law dynamic: that as the number of utterances increases, the total vocabulary growth flattens greatly."
   ]
  },
  {
   "cell_type": "code",
   "execution_count": 9,
   "metadata": {},
   "outputs": [
    {
     "name": "stdout",
     "output_type": "stream",
     "text": [
      "(1723, 4)\n",
      "  subject  verb  v_count    v_freq\n",
      "0       i  have     1318  0.016381\n",
      "1       i  want     1210  0.015039\n",
      "2       i    go     1076  0.013373\n",
      "3       i    do      650  0.008079\n",
      "4       i   get      586  0.007283\n"
     ]
    }
   ],
   "source": [
    "# Create a list of the pronouns we want to see\n",
    "pronouns = [\"he\", \"she\", \"i\"]\n",
    "\n",
    "# And then count the number of times \n",
    "# those pronouns are paired with particular verbs\n",
    "m_pp_sv = svos_m[svos_m[\"subject\"].isin(\n",
    "    pronouns)].value_counts(\n",
    "    subset=['subject', 'verb']).reset_index()\n",
    "\n",
    "# Re-label the new column from \"0\" to something human-readable\n",
    "m_pp_sv.rename(columns={0:'v_count'}, inplace=True)\n",
    "\n",
    "# Add a column with relative frequency\n",
    "m_pp_sv['v_freq'] = m_pp_sv['v_count'] / m_svo_count\n",
    "\n",
    "print(m_pp_sv.shape)\n",
    "print(m_pp_sv.head())"
   ]
  },
  {
   "cell_type": "code",
   "execution_count": 10,
   "metadata": {
    "scrolled": true
   },
   "outputs": [
    {
     "name": "stdout",
     "output_type": "stream",
     "text": [
      "(1069, 4)\n",
      "  subject  verb  v_count    v_freq\n",
      "0       i  have      586  0.022022\n",
      "1       i  want      424  0.015934\n",
      "2       i    go      330  0.012401\n",
      "3       i    do      226  0.008493\n",
      "4       i   get      203  0.007629\n"
     ]
    }
   ],
   "source": [
    "# Repeat for women's subcorpus\n",
    "w_pp_sv = svos_w[svos_w[\"subject\"].isin(\n",
    "    pronouns)].value_counts(\n",
    "    subset=['subject', 'verb']).reset_index()\n",
    "\n",
    "w_pp_sv.rename(columns={0:'v_count'}, inplace=True)\n",
    "w_pp_sv['v_freq'] = w_pp_sv['v_count'] / w_svo_count\n",
    "\n",
    "print(w_pp_sv.shape)\n",
    "print(w_pp_sv.head())"
   ]
  },
  {
   "cell_type": "code",
   "execution_count": 11,
   "metadata": {},
   "outputs": [],
   "source": [
    "# m_pp_sv.to_csv(\"../output/m_pp_sv.csv\")\n",
    "# w_pp_sv.to_csv(\"../output/w_pp_sv.csv\")"
   ]
  },
  {
   "cell_type": "markdown",
   "metadata": {},
   "source": [
    "## Character Spaces as Verb-Feature Spaces\n",
    "\n",
    "The goal in this section is to:\n",
    "\n",
    "1. Collect all the verbs associated with the specified subjects\n",
    "2. Weight the verbs (by normalization)\n",
    "3. Compare the verbs manually\n",
    "4. Visualize a comparison using PCA or t-SNE\n",
    "\n",
    "**Possible threshold**: 0.002 (0.2%) frequency represents at least 38 occurrences in the men's subcorpus and 15 in the women's.\n"
   ]
  },
  {
   "cell_type": "code",
   "execution_count": 12,
   "metadata": {},
   "outputs": [],
   "source": [
    "# Filter for pronoun and drop the un-needed columns\n",
    "m_he = m_pp_sv.loc[(m_pp_sv['subject'] == 'he')].drop(columns=[\"subject\",\"v_count\"])\n",
    "w_he = w_pp_sv.loc[(w_pp_sv['subject'] == 'he')].drop(columns=[\"subject\",\"v_count\"])"
   ]
  },
  {
   "cell_type": "code",
   "execution_count": 13,
   "metadata": {},
   "outputs": [
    {
     "name": "stdout",
     "output_type": "stream",
     "text": [
      "(159, 3)\n",
      "   verb  v_freq_m  v_freq_w\n",
      "0  have  0.002883  0.003006\n",
      "1   say  0.001641  0.001466\n",
      "2    do  0.001380  0.001090\n",
      "3   get  0.001119  0.000714\n",
      "4    go  0.000969  0.001203\n"
     ]
    }
   ],
   "source": [
    "comp_he = m_he.merge(\n",
    "    w_he, \n",
    "    left_on = \"verb\", right_on = \"verb\", \n",
    "    suffixes=(\"_m\", \"_w\"))\n",
    "\n",
    "print(comp_he.shape)\n",
    "print(comp_he.head())"
   ]
  },
  {
   "cell_type": "code",
   "execution_count": 14,
   "metadata": {},
   "outputs": [
    {
     "data": {
      "text/plain": [
       "<AxesSubplot:xlabel='v_freq_m', ylabel='v_freq_w'>"
      ]
     },
     "execution_count": 14,
     "metadata": {},
     "output_type": "execute_result"
    },
    {
     "data": {
      "image/png": "[encoded data removed]",
      "text/plain": [
       "<Figure size 432x288 with 1 Axes>"
      ]
     },
     "metadata": {
      "needs_background": "light"
     },
     "output_type": "display_data"
    }
   ],
   "source": [
    "sns.scatterplot(data = comp_he, x = \"v_freq_m\", y = \"v_freq_w\")"
   ]
  }
 ],
 "metadata": {
  "interpreter": {
   "hash": "14a02b88778d8fb8b6aeb4ad427a942bc53dfcda9d7e3737237788289e0d2d23"
  },
  "kernelspec": {
   "display_name": "Python 3 (ipykernel)",
   "language": "python",
   "name": "python3"
  },
  "language_info": {
   "codemirror_mode": {
    "name": "ipython",
    "version": 3
   },
   "file_extension": ".py",
   "mimetype": "text/x-python",
   "name": "python",
   "nbconvert_exporter": "python",
   "pygments_lexer": "ipython3",
   "version": "3.7.11"
  },
  "toc": {
   "base_numbering": 1,
   "nav_menu": {},
   "number_sections": true,
   "sideBar": true,
   "skip_h1_title": true,
   "title_cell": "",
   "title_sidebar": "Contents",
   "toc_cell": true,
   "toc_position": 2,
   "toc_section_display": true,
   "toc_window_display": false
  }
 },
 "nbformat": 4,
 "nbformat_minor": 2
}
