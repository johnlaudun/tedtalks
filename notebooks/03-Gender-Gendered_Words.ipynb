{
 "cells": [
  {
   "cell_type": "markdown",
   "metadata": {},
   "source": [
    "# Gendered Language"
   ]
  },
  {
   "cell_type": "markdown",
   "metadata": {},
   "source": [
    "This notebook is based on work by Neal Caren's [\"Using Python to see how the Times writes about men and women\"][1] as simplified by Bengfort, Bilbro, and Ojeda in _Applied Text Analysis with Python_ which has a [GitHub repo][2] for comparison both with Caren as well as with the current implementation.\n",
    "\n",
    "\n",
    "[1]: https://nbviewer.jupyter.org/gist/nealcaren/5105037\n",
    "[2]: https://github.com/foxbook/atap"
   ]
  },
  {
   "cell_type": "code",
   "execution_count": 1,
   "metadata": {},
   "outputs": [],
   "source": [
    "import nltk, re, pandas as pd\n",
    "from collections import Counter"
   ]
  },
  {
   "cell_type": "code",
   "execution_count": 2,
   "metadata": {},
   "outputs": [
    {
     "name": "stdout",
     "output_type": "stream",
     "text": [
      "['Set', 'Talk_ID', 'public_url', 'headline', 'description', 'event', 'duration', 'published', 'tags', 'views', 'text', 'speaker_1', 'speaker1_occupation', 'speaker1_introduction', 'speaker1_profile', 'speaker_2', 'speaker2_occupation', 'speaker2_introduction', 'speaker2_profile', 'speaker_3', 'speaker3_occupation', 'speaker3_introduction', 'speaker3_profile', 'speaker_4', 'speaker4_occupation', 'speaker4_introduction', 'speaker4_profile']\n"
     ]
    }
   ],
   "source": [
    "df = pd.read_csv('../output/TEDall_speakers.csv')\n",
    "print(list(df))"
   ]
  },
  {
   "cell_type": "code",
   "execution_count": 3,
   "metadata": {},
   "outputs": [],
   "source": [
    "texts = df.text.tolist()"
   ]
  },
  {
   "cell_type": "markdown",
   "metadata": {},
   "source": [
    "We are creating a list of texts here so we can simply grab a sample text, and perhaps a subset as well, with which to test our code. It makes more sense to work with the dataset directly, working through the rows using `df.itertuples()` and then `row.column_name`:\n",
    "\n",
    "```python\n",
    "for row in df.itertuples():\n",
    "    print(row.public_url)\n",
    "\n",
    "https://www.ted.com/talks/al_gore_on_averting_climate_crisis\n",
    "https://www.ted.com/talks/david_pogue_says_simplicity_sells\n",
    "https://www.ted.com/talks/majora_carter_s_tale_of_urban_renewal\n",
    "...\n",
    "```\n",
    "\n",
    "But I don't know how to grab just a couple of rows from the column as of this writing."
   ]
  },
  {
   "cell_type": "markdown",
   "metadata": {},
   "source": [
    "With the data loaded, we establish the control vocabularies for gender. \n",
    "\n",
    "**TODO**: we will need to tune this list for the corpus."
   ]
  },
  {
   "cell_type": "code",
   "execution_count": 4,
   "metadata": {},
   "outputs": [],
   "source": [
    "# Gender Word Lists\n",
    "\n",
    "FEMININE = 'feminine'\n",
    "MASCULINE = 'masculine'\n",
    "UNKNOWN = 'unknown'\n",
    "BOTH = 'both'\n",
    "\n",
    "MASCULINE_WORDS = set([\n",
    "    'guy','spokesman','chairman',\"men's\",'men','him',\"he's\",'his',\n",
    "    'boy','boyfriend','boyfriends','boys','brother','brothers','dad',\n",
    "    'dads','dude','father','fathers','fiance','gentleman','gentlemen',\n",
    "    'god','grandfather','grandpa','grandson','groom','he','himself',\n",
    "    'husband','husbands','king','male','man','mr','nephew','nephews',\n",
    "    'priest','prince','son','sons','uncle','uncles','waiter','widower',\n",
    "    'widowers'\n",
    "])\n",
    "\n",
    "FEMININE_WORDS = set([\n",
    "    'heroine','spokeswoman','chairwoman',\"women's\",'actress','women',\n",
    "    \"she's\",'her','aunt','aunts','bride','daughter','daughters','female',\n",
    "    'fiancee','girl','girlfriend','girlfriends','girls','goddess',\n",
    "    'granddaughter','grandma','grandmother','herself','ladies','lady',\n",
    "    'mom','moms','mother','mothers','mrs','ms','niece','nieces',\n",
    "    'priestess','princess','queens','she','sister','sisters','waitress',\n",
    "    'widow','widows','wife','wives','woman'\n",
    "])"
   ]
  },
  {
   "cell_type": "code",
   "execution_count": 5,
   "metadata": {},
   "outputs": [],
   "source": [
    "def genderize(words):\n",
    "    \n",
    "    fwlen = len(FEMININE_WORDS.intersection(words))\n",
    "    mwlen = len(MASCULINE_WORDS.intersection(words))\n",
    "    \n",
    "    if fwlen > 0 and mwlen == 0:\n",
    "        return FEMININE\n",
    "    elif fwlen == 0 and mwlen > 0:\n",
    "        return MASCULINE\n",
    "    elif fwlen > 0 and mwlen > 0:\n",
    "        return BOTH\n",
    "    else:\n",
    "        return UNKNOWN\n",
    "\n",
    "def count_gender(sentences):\n",
    "    \n",
    "    \"\"\" REQUIRES: from collections import Counter\"\"\"\n",
    "        \n",
    "    sents = Counter()\n",
    "    words = Counter()\n",
    "    \n",
    "    for sentence in sentences:\n",
    "        gender = genderize(sentence)\n",
    "        sents[gender] += 1\n",
    "        words[gender] +=len(sentence)\n",
    "        \n",
    "    return sents, words\n",
    "\n",
    "def parse_gender(text):\n",
    "    \n",
    "        \"\"\" REQUIRES: import nltk \"\"\"\n",
    "        \n",
    "        sentences = [\n",
    "            [word.lower() for word in nltk.word_tokenize(sentence)]\n",
    "            for sentence in nltk.sent_tokenize(text)\n",
    "        ]\n",
    "        \n",
    "        sents, words = count_gender(sentences)\n",
    "        total = sum(words.values())\n",
    "        \n",
    "        for gender, count in words.items():\n",
    "            pcent = (count / total) * 100\n",
    "            nsents = sents[gender]\n",
    "            \n",
    "            print(f\"{pcent:.2f} {gender} ( {nsents} ) \")"
   ]
  },
  {
   "cell_type": "markdown",
   "metadata": {},
   "source": [
    "The example below simply establishes that gender is not straightforward: there is no guarantee that someone using gendered words, as constructed above, is actually talking about women."
   ]
  },
  {
   "cell_type": "code",
   "execution_count": 6,
   "metadata": {},
   "outputs": [
    {
     "name": "stdout",
     "output_type": "stream",
     "text": [
      "my dog molly is a good girl \n"
     ]
    }
   ],
   "source": [
    "text = \"My dog Molly is a good girl.\"\n",
    "words = re.sub(\"[^\\w+]\", \" \", text.lower())\n",
    "print(words)"
   ]
  },
  {
   "cell_type": "code",
   "execution_count": 7,
   "metadata": {},
   "outputs": [
    {
     "name": "stdout",
     "output_type": "stream",
     "text": [
      "100.00 feminine ( 1 ) \n"
     ]
    }
   ],
   "source": [
    "parse_gender(words)"
   ]
  },
  {
   "cell_type": "markdown",
   "metadata": {},
   "source": [
    "Al Gore's text is a bellweather because it sits at `0` in the list index. Here we mix it up with Majora Carter's talk on urban renewal:"
   ]
  },
  {
   "cell_type": "code",
   "execution_count": 8,
   "metadata": {
    "scrolled": false
   },
   "outputs": [
    {
     "name": "stdout",
     "output_type": "stream",
     "text": [
      "86.61 unknown ( 170 ) \n",
      "5.18 feminine ( 5 ) \n",
      "7.06 masculine ( 13 ) \n",
      "1.15 both ( 1 ) \n"
     ]
    }
   ],
   "source": [
    "parse_gender(texts[2])"
   ]
  },
  {
   "cell_type": "code",
   "execution_count": 9,
   "metadata": {
    "scrolled": true
   },
   "outputs": [
    {
     "name": "stdout",
     "output_type": "stream",
     "text": [
      "  If you're here today — and I'm very happy that you are — you've all heard about how sustainable de\n"
     ]
    }
   ],
   "source": [
    "print(texts[2][0:100])"
   ]
  },
  {
   "cell_type": "markdown",
   "metadata": {},
   "source": [
    "Carter's talk shares a lot with Al Gore's: both have a predominant amount of `unknown` -- Gore's talk is even less \"gendered\":\n",
    "\n",
    "    90.45 unknown ( 137 ) \n",
    "    4.54 feminine ( 3 ) \n",
    "    0.78 both ( 1 ) \n",
    "    4.23 masculine ( 4 ) \n",
    "\n",
    "Is this potentially a function of the talk being in first person and then about a \"neutral\" topic like urban renewal or climate change. (Both documents return `unknown` at 90%.) Do the gendered word lists need to be examined, revised?\n",
    "\n",
    "What if we did the same thing for first, second, third persons — and maybe consider singular versus plural as well?"
   ]
  },
  {
   "cell_type": "markdown",
   "metadata": {},
   "source": [
    "## Refining Results to Get a List/Tuple"
   ]
  },
  {
   "cell_type": "markdown",
   "metadata": {},
   "source": [
    "One of the things that comes up in running the code above is that the sequence of the 4 outcomes -- `feminine`, `masculine`, `both`, `unknown` -- varies. It would be nice to have the parser return a four value list or tuple which is always in the same sequence."
   ]
  },
  {
   "cell_type": "code",
   "execution_count": 10,
   "metadata": {},
   "outputs": [],
   "source": [
    "def pargen(text):\n",
    "    \n",
    "        \"\"\" REQUIRES: import nltk \"\"\"\n",
    "        \n",
    "        sentences = [\n",
    "            [word.lower() for word in nltk.word_tokenize(sentence)]\n",
    "            for sentence in nltk.sent_tokenize(text)\n",
    "        ]\n",
    "        \n",
    "        sents, words = count_gender(sentences)\n",
    "        total = sum(words.values())\n",
    "\n",
    "        for gender, count in words.items():\n",
    "            pcent = (count / total) * 100\n",
    "            print(f'{pcent:.2f},')"
   ]
  },
  {
   "cell_type": "code",
   "execution_count": 11,
   "metadata": {},
   "outputs": [
    {
     "name": "stdout",
     "output_type": "stream",
     "text": [
      "86.61,\n",
      "5.18,\n",
      "7.06,\n",
      "1.15,\n"
     ]
    }
   ],
   "source": [
    "pargen(texts[2])"
   ]
  },
  {
   "cell_type": "code",
   "execution_count": null,
   "metadata": {},
   "outputs": [],
   "source": [
    "for row in df.itertuples():\n",
    "    gendered = pargen(row.text)\n",
    "    print (row.Talk_ID, gendered)"
   ]
  }
 ],
 "metadata": {
  "kernelspec": {
   "display_name": "Python 3",
   "language": "python",
   "name": "python3"
  },
  "language_info": {
   "codemirror_mode": {
    "name": "ipython",
    "version": 3
   },
   "file_extension": ".py",
   "mimetype": "text/x-python",
   "name": "python",
   "nbconvert_exporter": "python",
   "pygments_lexer": "ipython3",
   "version": "3.8.2"
  }
 },
 "nbformat": 4,
 "nbformat_minor": 4
}
