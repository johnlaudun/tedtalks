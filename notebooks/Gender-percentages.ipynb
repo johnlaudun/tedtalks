{
 "cells": [
  {
   "cell_type": "markdown",
   "metadata": {},
   "source": [
    "The goal of this notebook is to load the two sets of talk sorted by gender, male and female, and to count them by year. Whether we fold the percentages from other domains into this notebook or export out and do the comparison in an app like *Numbers* is for later."
   ]
  },
  {
   "cell_type": "code",
   "execution_count": 1,
   "metadata": {},
   "outputs": [],
   "source": [
    "# IMPORTS\n",
    "import numpy as np, pandas as pd"
   ]
  },
  {
   "cell_type": "code",
   "execution_count": 2,
   "metadata": {},
   "outputs": [
    {
     "data": {
      "text/html": [
       "<div>\n",
       "<style scoped>\n",
       "    .dataframe tbody tr th:only-of-type {\n",
       "        vertical-align: middle;\n",
       "    }\n",
       "\n",
       "    .dataframe tbody tr th {\n",
       "        vertical-align: top;\n",
       "    }\n",
       "\n",
       "    .dataframe thead th {\n",
       "        text-align: right;\n",
       "    }\n",
       "</style>\n",
       "<table border=\"1\" class=\"dataframe\">\n",
       "  <thead>\n",
       "    <tr style=\"text-align: right;\">\n",
       "      <th></th>\n",
       "      <th>public_url</th>\n",
       "      <th>headline</th>\n",
       "      <th>description</th>\n",
       "      <th>event</th>\n",
       "      <th>duration</th>\n",
       "      <th>published</th>\n",
       "      <th>tags</th>\n",
       "      <th>views</th>\n",
       "      <th>text</th>\n",
       "      <th>speaker_1</th>\n",
       "      <th>speaker_2</th>\n",
       "      <th>speaker_3</th>\n",
       "      <th>speaker_4</th>\n",
       "      <th>talk_gender</th>\n",
       "    </tr>\n",
       "    <tr>\n",
       "      <th>Talk_ID</th>\n",
       "      <th></th>\n",
       "      <th></th>\n",
       "      <th></th>\n",
       "      <th></th>\n",
       "      <th></th>\n",
       "      <th></th>\n",
       "      <th></th>\n",
       "      <th></th>\n",
       "      <th></th>\n",
       "      <th></th>\n",
       "      <th></th>\n",
       "      <th></th>\n",
       "      <th></th>\n",
       "      <th></th>\n",
       "    </tr>\n",
       "  </thead>\n",
       "  <tbody>\n",
       "    <tr>\n",
       "      <th>1</th>\n",
       "      <td>https://www.ted.com/talks/al_gore_on_averting_...</td>\n",
       "      <td>Averting the climate crisis</td>\n",
       "      <td>With the same humor and humanity he exuded in ...</td>\n",
       "      <td>TED2006</td>\n",
       "      <td>0:16:17</td>\n",
       "      <td>6/27/06</td>\n",
       "      <td>alternative energy,cars,global issues,climate ...</td>\n",
       "      <td>3266733</td>\n",
       "      <td>Thank you so much, Chris. And it's truly a g...</td>\n",
       "      <td>Al Gore</td>\n",
       "      <td>NaN</td>\n",
       "      <td>NaN</td>\n",
       "      <td>NaN</td>\n",
       "      <td>male</td>\n",
       "    </tr>\n",
       "    <tr>\n",
       "      <th>7</th>\n",
       "      <td>https://www.ted.com/talks/david_pogue_says_sim...</td>\n",
       "      <td>Simplicity sells</td>\n",
       "      <td>New York Times columnist David Pogue takes aim...</td>\n",
       "      <td>TED2006</td>\n",
       "      <td>0:21:26</td>\n",
       "      <td>6/27/06</td>\n",
       "      <td>simplicity,entertainment,interface design,soft...</td>\n",
       "      <td>1702201</td>\n",
       "      <td>(Music: \"The Sound of Silence,\" Simon &amp; Garf...</td>\n",
       "      <td>David Pogue</td>\n",
       "      <td>NaN</td>\n",
       "      <td>NaN</td>\n",
       "      <td>NaN</td>\n",
       "      <td>male</td>\n",
       "    </tr>\n",
       "    <tr>\n",
       "      <th>66</th>\n",
       "      <td>https://www.ted.com/talks/ken_robinson_says_sc...</td>\n",
       "      <td>Do schools kill creativity?</td>\n",
       "      <td>Sir Ken Robinson makes an entertaining and pro...</td>\n",
       "      <td>TED2006</td>\n",
       "      <td>0:19:24</td>\n",
       "      <td>6/27/06</td>\n",
       "      <td>children,teaching,creativity,parenting,culture...</td>\n",
       "      <td>51614087</td>\n",
       "      <td>Good morning. How are you?    (Laughter)    ...</td>\n",
       "      <td>Ken Robinson</td>\n",
       "      <td>NaN</td>\n",
       "      <td>NaN</td>\n",
       "      <td>NaN</td>\n",
       "      <td>male</td>\n",
       "    </tr>\n",
       "    <tr>\n",
       "      <th>92</th>\n",
       "      <td>https://www.ted.com/talks/hans_rosling_shows_t...</td>\n",
       "      <td>The best stats you've ever seen</td>\n",
       "      <td>You've never seen data presented like this. Wi...</td>\n",
       "      <td>TED2006</td>\n",
       "      <td>0:19:50</td>\n",
       "      <td>6/27/06</td>\n",
       "      <td>demo,Asia,global issues,visualizations,global ...</td>\n",
       "      <td>12662135</td>\n",
       "      <td>About 10 years ago, I took on the task to te...</td>\n",
       "      <td>Hans Rosling</td>\n",
       "      <td>NaN</td>\n",
       "      <td>NaN</td>\n",
       "      <td>NaN</td>\n",
       "      <td>male</td>\n",
       "    </tr>\n",
       "    <tr>\n",
       "      <th>96</th>\n",
       "      <td>https://www.ted.com/talks/tony_robbins_asks_wh...</td>\n",
       "      <td>Why we do what we do</td>\n",
       "      <td>Tony Robbins discusses the \"invisible forces\" ...</td>\n",
       "      <td>TED2006</td>\n",
       "      <td>0:21:45</td>\n",
       "      <td>6/27/06</td>\n",
       "      <td>entertainment,goal-setting,potential,psycholog...</td>\n",
       "      <td>22368699</td>\n",
       "      <td>Thank you. I have to tell you I'm both chall...</td>\n",
       "      <td>Tony Robbins</td>\n",
       "      <td>NaN</td>\n",
       "      <td>NaN</td>\n",
       "      <td>NaN</td>\n",
       "      <td>male</td>\n",
       "    </tr>\n",
       "  </tbody>\n",
       "</table>\n",
       "</div>"
      ],
      "text/plain": [
       "                                                public_url  \\\n",
       "Talk_ID                                                      \n",
       "1        https://www.ted.com/talks/al_gore_on_averting_...   \n",
       "7        https://www.ted.com/talks/david_pogue_says_sim...   \n",
       "66       https://www.ted.com/talks/ken_robinson_says_sc...   \n",
       "92       https://www.ted.com/talks/hans_rosling_shows_t...   \n",
       "96       https://www.ted.com/talks/tony_robbins_asks_wh...   \n",
       "\n",
       "                                headline  \\\n",
       "Talk_ID                                    \n",
       "1            Averting the climate crisis   \n",
       "7                       Simplicity sells   \n",
       "66           Do schools kill creativity?   \n",
       "92       The best stats you've ever seen   \n",
       "96                  Why we do what we do   \n",
       "\n",
       "                                               description    event duration  \\\n",
       "Talk_ID                                                                        \n",
       "1        With the same humor and humanity he exuded in ...  TED2006  0:16:17   \n",
       "7        New York Times columnist David Pogue takes aim...  TED2006  0:21:26   \n",
       "66       Sir Ken Robinson makes an entertaining and pro...  TED2006  0:19:24   \n",
       "92       You've never seen data presented like this. Wi...  TED2006  0:19:50   \n",
       "96       Tony Robbins discusses the \"invisible forces\" ...  TED2006  0:21:45   \n",
       "\n",
       "        published                                               tags  \\\n",
       "Talk_ID                                                                \n",
       "1         6/27/06  alternative energy,cars,global issues,climate ...   \n",
       "7         6/27/06  simplicity,entertainment,interface design,soft...   \n",
       "66        6/27/06  children,teaching,creativity,parenting,culture...   \n",
       "92        6/27/06  demo,Asia,global issues,visualizations,global ...   \n",
       "96        6/27/06  entertainment,goal-setting,potential,psycholog...   \n",
       "\n",
       "            views                                               text  \\\n",
       "Talk_ID                                                                \n",
       "1         3266733    Thank you so much, Chris. And it's truly a g...   \n",
       "7         1702201    (Music: \"The Sound of Silence,\" Simon & Garf...   \n",
       "66       51614087    Good morning. How are you?    (Laughter)    ...   \n",
       "92       12662135    About 10 years ago, I took on the task to te...   \n",
       "96       22368699    Thank you. I have to tell you I'm both chall...   \n",
       "\n",
       "            speaker_1 speaker_2 speaker_3 speaker_4 talk_gender  \n",
       "Talk_ID                                                          \n",
       "1             Al Gore       NaN       NaN       NaN        male  \n",
       "7         David Pogue       NaN       NaN       NaN        male  \n",
       "66       Ken Robinson       NaN       NaN       NaN        male  \n",
       "92       Hans Rosling       NaN       NaN       NaN        male  \n",
       "96       Tony Robbins       NaN       NaN       NaN        male  "
      ]
     },
     "execution_count": 2,
     "metadata": {},
     "output_type": "execute_result"
    }
   ],
   "source": [
    "# Remove quotes at top and bottom to uncomment this block\n",
    "\n",
    "# Loading the Data in a gendered partitioned fashion: \n",
    "\n",
    "# Load binary gendered talks \n",
    "talks_male = pd.read_csv('talks_male.csv', index_col='Talk_ID')\n",
    "talks_female = pd.read_csv('talks_female.csv', index_col='Talk_ID')\n",
    "\n",
    "# No one gender ==> NOG\n",
    "talks_nog = pd.read_csv('talks_nog.csv', index_col='Talk_ID')\n",
    "\n",
    "all_talks = pd.concat([talks_male, talks_female, talks_nog])\n",
    "\n",
    "print(f\"Number of female talks is {len})"
   ]
  },
  {
   "cell_type": "code",
   "execution_count": 3,
   "metadata": {},
   "outputs": [
    {
     "data": {
      "text/plain": [
       "['public_url',\n",
       " 'headline',\n",
       " 'description',\n",
       " 'event',\n",
       " 'duration',\n",
       " 'published',\n",
       " 'tags',\n",
       " 'views',\n",
       " 'text',\n",
       " 'speaker_1',\n",
       " 'speaker_2',\n",
       " 'speaker_3',\n",
       " 'speaker_4',\n",
       " 'talk_gender']"
      ]
     },
     "execution_count": 3,
     "metadata": {},
     "output_type": "execute_result"
    }
   ],
   "source": [
    "[column for column in all_talks]"
   ]
  },
  {
   "cell_type": "code",
   "execution_count": 4,
   "metadata": {
    "scrolled": false
   },
   "outputs": [
    {
     "data": {
      "text/plain": [
       "{'TED1984',\n",
       " 'TED1990',\n",
       " 'TED1994',\n",
       " 'TED1998',\n",
       " 'TED2001',\n",
       " 'TED2002',\n",
       " 'TED2003',\n",
       " 'TED2004',\n",
       " 'TED2005',\n",
       " 'TED2006',\n",
       " 'TED2007',\n",
       " 'TED2008',\n",
       " 'TED2009',\n",
       " 'TED2010',\n",
       " 'TED2011',\n",
       " 'TED2012',\n",
       " 'TED2013',\n",
       " 'TED2014',\n",
       " 'TED2015',\n",
       " 'TED2016',\n",
       " 'TED2017'}"
      ]
     },
     "execution_count": 4,
     "metadata": {},
     "output_type": "execute_result"
    }
   ],
   "source": [
    "set(all_talks.event.tolist())"
   ]
  },
  {
   "cell_type": "code",
   "execution_count": 5,
   "metadata": {},
   "outputs": [
    {
     "data": {
      "text/plain": [
       "event\n",
       "TED1998     2\n",
       "TED2001     1\n",
       "TED2002     5\n",
       "TED2003     7\n",
       "TED2004     7\n",
       "TED2005     5\n",
       "TED2006    10\n",
       "TED2007    14\n",
       "TED2008    15\n",
       "TED2009    19\n",
       "TED2010    15\n",
       "TED2011    15\n",
       "TED2012    16\n",
       "TED2013    19\n",
       "TED2014    22\n",
       "TED2015    26\n",
       "TED2016    26\n",
       "TED2017    36\n",
       "Name: talk_gender, dtype: int64"
      ]
     },
     "execution_count": 5,
     "metadata": {},
     "output_type": "execute_result"
    }
   ],
   "source": [
    "talks_female.groupby(['event'])['talk_gender'].agg('count')"
   ]
  },
  {
   "cell_type": "code",
   "execution_count": 6,
   "metadata": {
    "scrolled": false
   },
   "outputs": [
    {
     "data": {
      "text/plain": [
       "event\n",
       "TED1984     1\n",
       "TED1990     1\n",
       "TED1994     1\n",
       "TED1998     4\n",
       "TED2001     2\n",
       "TED2002    23\n",
       "TED2003    27\n",
       "TED2004    24\n",
       "TED2005    31\n",
       "TED2006    33\n",
       "TED2007    54\n",
       "TED2008    41\n",
       "TED2009    61\n",
       "TED2010    52\n",
       "TED2011    55\n",
       "TED2012    46\n",
       "TED2013    56\n",
       "TED2014    60\n",
       "TED2015    47\n",
       "TED2016    47\n",
       "TED2017    54\n",
       "Name: talk_gender, dtype: int64"
      ]
     },
     "execution_count": 6,
     "metadata": {},
     "output_type": "execute_result"
    }
   ],
   "source": [
    "talks_male.groupby(['event'])['talk_gender'].agg('count')"
   ]
  },
  {
   "cell_type": "code",
   "execution_count": 7,
   "metadata": {},
   "outputs": [
    {
     "data": {
      "text/plain": [
       "event\n",
       "TED2009    1\n",
       "TED2010    1\n",
       "TED2012    3\n",
       "TED2013    1\n",
       "TED2014    2\n",
       "TED2015    2\n",
       "TED2016    2\n",
       "Name: talk_gender, dtype: int64"
      ]
     },
     "execution_count": 7,
     "metadata": {},
     "output_type": "execute_result"
    }
   ],
   "source": [
    "talks_nog.groupby(['event'])['talk_gender'].agg('count')"
   ]
  }
 ],
 "metadata": {
  "interpreter": {
   "hash": "14a02b88778d8fb8b6aeb4ad427a942bc53dfcda9d7e3737237788289e0d2d23"
  },
  "kernelspec": {
   "display_name": "Python 3 (ipykernel)",
   "language": "python",
   "name": "python3"
  },
  "language_info": {
   "codemirror_mode": {
    "name": "ipython",
    "version": 3
   },
   "file_extension": ".py",
   "mimetype": "text/x-python",
   "name": "python",
   "nbconvert_exporter": "python",
   "pygments_lexer": "ipython3",
   "version": "3.7.11"
  },
  "toc": {
   "base_numbering": 1,
   "nav_menu": {},
   "number_sections": true,
   "sideBar": true,
   "skip_h1_title": true,
   "title_cell": "",
   "title_sidebar": "Contents",
   "toc_cell": true,
   "toc_position": 2,
   "toc_section_display": true,
   "toc_window_display": false
  }
 },
 "nbformat": 4,
 "nbformat_minor": 2
}
