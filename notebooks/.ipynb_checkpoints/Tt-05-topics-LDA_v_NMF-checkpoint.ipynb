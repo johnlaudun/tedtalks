{
 "cells": [
  {
   "cell_type": "code",
   "execution_count": null,
   "metadata": {},
   "outputs": [],
   "source": [
    "# TEDtalks: Topics with LDA\n",
    "\n",
    "# =-=-=-=-=-=\n",
    "# Read CSV into DataFrame and then create lists\n",
    "# =-=-=-=-=-=\n",
    "\n",
    "import pandas\n",
    "import re\n",
    "\n",
    "\n",
    "# Create pandas dataframe\n",
    "colnames = ['author', 'title', 'date' , 'length', 'text']\n",
    "df = pandas.read_csv('../data/talks_3a.csv', names=colnames)\n",
    "\n",
    "# Create lists for the data\n",
    "talks = df.text.tolist()\n",
    "authors = df.author.tolist()\n",
    "dates = df.date.tolist()\n",
    "\n",
    "# Getting only the years from dates list\n",
    "years = [re.sub('[A-Za-z ]', '', item) for item in dates]\n",
    "\n",
    "# Combining year with presenter for citation\n",
    "authordate = [author+\" \"+year for author, year in zip(authors, years)]\n",
    "\n",
    "# Just to check to see if things are synced,\n",
    "# let's create a new df with the two lists.\n",
    "\n",
    "citations = pandas.DataFrame(\n",
    "    {'citation': authordate,\n",
    "     'text': talks,\n",
    "    })\n",
    "\n",
    "# This just shows that the citation and the text are paired correctly.\n",
    "# citations.head()"
   ]
  },
  {
   "cell_type": "code",
   "execution_count": null,
   "metadata": {
    "collapsed": true
   },
   "outputs": [],
   "source": [
    "# =-=-=-=-=-=-=-=-=-=-=\n",
    "# Settings & Display Functions\n",
    "# =-=-=-=-=-=-=-=-=-=-= \n",
    "\n",
    "n_topics = 50\n",
    "n_features = 5000\n",
    "n_top_words = 10\n",
    "n_top_documents = 3\n",
    "\n",
    "\n",
    "stopwords = re.split('\\s+', open('../data/stopwords_all.txt', 'r').read().lower())\n",
    "\n",
    "def display_topics(model, feature_names, n_top_words):\n",
    "    for topic_idx, topic in enumerate(model.components_):\n",
    "        print(\"| \"+str(topic_idx)+\" |\"+' '.join([feature_names[i] + ' ' + str(round(topic[i], 2))\n",
    "              +',' for i in topic.argsort()[:-n_top_words - 1:-1]])+\"|\")\n",
    "        \n",
    "# Both NMF **and** LDA produce two matrices: \n",
    "# H - words to topics\n",
    "# W - topics to documents\n",
    "\n",
    "def display_topics(H, W, feature_names, documents, n_top_words, n_top_documents):\n",
    "    for topic_idx, topic in enumerate(H):\n",
    "        print(\"Topic {}:\".format(topic_idx))\n",
    "        print(\" \".join([feature_names[i]\n",
    "                        for i in topic.argsort()[:-n_top_words - 1:-1]]))\n",
    "        top_doc_indices = np.argsort( W[:,topic_idx] )[::-1][0:n_top_documents]\n",
    "        for doc_index in top_doc_indices:\n",
    "            print(documents[doc_index])"
   ]
  },
  {
   "cell_type": "code",
   "execution_count": null,
   "metadata": {
    "collapsed": true
   },
   "outputs": [],
   "source": [
    "        print(\"| {}| \".format(topic_idx))\n",
    "        print(''.join([feature_names[i] + ' ' + str(round(topic[i], 2))\n",
    "              +', ' for i in topic.argsort()[:-no_top_words - 1:-1]]))\n",
    "\n",
    "\n",
    "# This version of the print/display function only lists words (no values)\n",
    "#        print(\" \".join([feature_names[i]\n",
    "#                        for i in topic.argsort()[:-no_top_words - 1:-1]]))       "
   ]
  },
  {
   "cell_type": "code",
   "execution_count": null,
   "metadata": {
    "collapsed": true
   },
   "outputs": [],
   "source": [
    "# =-=-=-=-=-=\n",
    "# Generate LDA Model\n",
    "# =-=-=-=-=-=\n",
    "\n",
    "import numpy as np\n",
    "from sklearn.feature_extraction.text import CountVectorizer\n",
    "from sklearn.decomposition import LatentDirichletAllocation\n",
    "\n",
    "\n",
    "# LDA can only use raw term counts (virtual BoW)\n",
    "tf_vectorizer = CountVectorizer(max_df = 0.95, \n",
    "                                min_df = 2, \n",
    "                                max_features = n_features, \n",
    "                                stop_words = stopwords)\n",
    "tf = tf_vectorizer.fit_transform(talks)\n",
    "tf_feature_names = tf_vectorizer.get_feature_names()\n",
    "\n",
    "lda = LatentDirichletAllocation(n_topics = n_topics, \n",
    "                                max_iter = 5, \n",
    "                                learning_method = 'online', \n",
    "                                learning_offset = 50.,\n",
    "                                random_state = 0).fit(tf)\n",
    "lda_W = lda_model.transform(tf)\n",
    "lda_H = lda_model.components_"
   ]
  },
  {
   "cell_type": "code",
   "execution_count": null,
   "metadata": {
    "collapsed": true
   },
   "outputs": [],
   "source": [
    "display_topics(lda, tf_feature_names, n_top_words)"
   ]
  },
  {
   "cell_type": "code",
   "execution_count": null,
   "metadata": {
    "collapsed": true
   },
   "outputs": [],
   "source": [
    "# =-=-=-=-=-=-=-=-=-=-=\n",
    "# NMF Model\n",
    "# =-=-=-=-=-=-=-=-=-=-= \n",
    "\n",
    "from sklearn.feature_extraction.text import TfidfVectorizer\n",
    "from sklearn.decomposition import NMF\n",
    "\n",
    "# NMF is able to use tf-idf\n",
    "tfidf_vectorizer = TfidfVectorizer(max_df = 0.95, \n",
    "                                   min_df = 2, \n",
    "                                   max_features = n_features, \n",
    "                                   stop_words = stopwords)\n",
    "tfidf = tfidf_vectorizer.fit_transform(talks)\n",
    "tfidf_feature_names = tfidf_vectorizer.get_feature_names()\n",
    "\n",
    "nmf = NMF(n_components=n_topics, \n",
    "          random_state=1, \n",
    "          alpha=.1, \n",
    "          l1_ratio=.5, \n",
    "          init='nndsvd').fit(tfidf)\n",
    "nmf_W = nmf.transform(tfidf)\n",
    "nmf_H = nmf.components_"
   ]
  },
  {
   "cell_type": "code",
   "execution_count": null,
   "metadata": {
    "collapsed": true
   },
   "outputs": [],
   "source": [
    "display_topics(nmf, tfidf_feature_names, n_top_words)"
   ]
  },
  {
   "cell_type": "code",
   "execution_count": null,
   "metadata": {},
   "outputs": [],
   "source": [
    "display_topics(nmf_H, nmf_W, tfidf_feature_names, talks, n_top_words, n_top_documents)"
   ]
  }
 ],
 "metadata": {
  "kernelspec": {
   "display_name": "Python 3",
   "language": "python",
   "name": "python3"
  },
  "language_info": {
   "codemirror_mode": {
    "name": "ipython",
    "version": 3
   },
   "file_extension": ".py",
   "mimetype": "text/x-python",
   "name": "python",
   "nbconvert_exporter": "python",
   "pygments_lexer": "ipython3",
   "version": "3.4.6"
  }
 },
 "nbformat": 4,
 "nbformat_minor": 1
}
