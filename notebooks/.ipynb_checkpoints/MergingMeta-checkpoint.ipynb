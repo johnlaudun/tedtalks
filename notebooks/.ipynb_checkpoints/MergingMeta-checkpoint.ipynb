{
 "cells": [
  {
   "cell_type": "code",
   "execution_count": 1,
   "metadata": {
    "collapsed": true
   },
   "outputs": [],
   "source": [
    "import csv\n",
    "import sys, os\n",
    "import pandas as pd\n",
    "import numpy as np"
   ]
  },
  {
   "cell_type": "markdown",
   "metadata": {},
   "source": [
    "The basic code outline is as follows:   \n",
    "0. Import both *talks_6e.csv* and *metadata_all.csv*. Create output file *talks_6f.csv*\n",
    "1. Sort each import by the author name\n",
    "2. ~~For *metadata_all.csv*, create a new colum that breaks the slug up into a list of lower-cased words.~~ \n",
    "3. Create an index list for *metadata_all.csv*. The idea of this list is to remove rows from consideration as we match the slugs to rows in *talks_6e.csv*.\n",
    "4. Loop over each row in *talks_6e.csv*:\n",
    "  1. Create two new lists to use: \n",
    "    * The list of names, all lower cased\n",
    "    * The list of words in the title, all lowered case\n",
    "  2. Iterate over each available row in *metadata_all.csv*, matching the author lists to the slug lists. \n",
    "    * If the author and slug lists intersect over at least 50% of the words in the author list, then compare the title and slug lists\n",
    "    * If the title and slug lists match over 50% of the words in the title list, then match these rows and create a new row in the output that has the information from both *talks_6e.csv* and *metadata_all.csv*. Then move on to the next row of *metadata_all.csv*.\n",
    "    * If no match is found, move on to the next row of *metadata_all.csv*."
   ]
  },
  {
   "cell_type": "code",
   "execution_count": 4,
   "metadata": {
    "collapsed": true
   },
   "outputs": [],
   "source": [
    "# Step 0 - Import CSV files\n",
    "read1 = csv.reader(open('../data/talks_6e.csv'))\n",
    "headers = next(read1)\n",
    "\n",
    "read2 = csv.reader(open('../../tedmetadata/metadata_all.csv'))\n",
    "head2 = next(read2)\n",
    "\n",
    "# Create headers for the output file, such that:\n",
    "#    * 'date' --> 'published'\n",
    "#    * 'numDate' --> numPub'\n",
    "\n",
    "ind = headers.index('date')\n",
    "headers[ind] = 'published'\n",
    "\n",
    "ind = headers.index('numDate')\n",
    "headers[ind] = 'numPub'\n",
    "\n",
    "# 2) Add headers from the *metadata_all.csv* file\n",
    "headers = headers + head2[1:] + ['numFilmed']\n",
    "\n",
    "# Set index names:\n",
    "aund = headers.index('author')\n",
    "tnd = headers.index('title')\n",
    "\n",
    "# Import *metadata_all.csv* as pandas data frame\n",
    "meta = pd.read_csv('../../tedmetadata/metadata_all.csv')"
   ]
  },
  {
   "cell_type": "code",
   "execution_count": 8,
   "metadata": {},
   "outputs": [
    {
     "name": "stdout",
     "output_type": "stream",
     "text": [
      "['', 'citation', 'author', 'gender', 'title', 'published', 'length', 'text', 'occupation', 'numPub', 'ValenceScore', 'view_count', 'event', 'filmed', 'numFilmed']\n",
      "['slug', 'view_count', 'event', 'filmed']\n"
     ]
    }
   ],
   "source": [
    "print(headers)\n",
    "print(head2)"
   ]
  },
  {
   "cell_type": "code",
   "execution_count": null,
   "metadata": {
    "collapsed": true
   },
   "outputs": [],
   "source": [
    "# Step 1 - Sort each import: one by slug, the other by author"
   ]
  },
  {
   "cell_type": "code",
   "execution_count": null,
   "metadata": {
    "collapsed": true
   },
   "outputs": [],
   "source": [
    "# Step 2 - For *metadata_all.csv*, create a dataframe with a new column where there is a list of words\n",
    "# jk, we're just going to do this in the loop"
   ]
  },
  {
   "cell_type": "code",
   "execution_count": null,
   "metadata": {
    "collapsed": true
   },
   "outputs": [],
   "source": [
    "# Step 3 - Create an index list for *metadata_all.csv*\n",
    "mnds = list(range(len(meta)))"
   ]
  },
  {
   "cell_type": "code",
   "execution_count": null,
   "metadata": {
    "collapsed": true
   },
   "outputs": [],
   "source": [
    "# Step 4 - Loop over the rows in *talks_6e.csv*\n",
    "with open('../data/talks_6merge.csv', 'w') as csvfile:\n",
    "    # Make the outut file\n",
    "    outfile = csv.writer(csvfile)\n",
    "    outfile.writerow(headers)\n",
    "    \n",
    "    # Loop over each row in *talks_6e.csv*\n",
    "    for row in read1:\n",
    "        aulist = row[aund].lower().split()\n",
    "        tlist = row[tnd].lower().split()\n",
    "        \n",
    "        # Set MATCH flag\n",
    "        match = False\n",
    "        \n",
    "        for m in mnds:\n",
    "            # Grab row associated to index M in *metadata_all.csv*\n",
    "            # row2 = meta.loc[m]\n",
    "            \n",
    "            slist = row2['slug'].lower().split('_')\n",
    "            \n",
    "            # Compare author and slug lists:\n",
    "            if len(set(aulist) & set(slist)) > 0.5*len(aulist):\n",
    "                # If comparison goes well, then compare title and slug lists:\n",
    "                if len(set(tlist) & set(slist)) > 0.5*len(tlist):\n",
    "                    match = True\n",
    "                    \n",
    "            # If we find a match, then we need to add the output row:\n",
    "            if match: \n",
    "                row.append(row2['view_count'])\n",
    "                row.append(row2['event'])\n",
    "                row.append(row2['filmed'])\n",
    "                numFilmed = ''.join(row2[\"filmed\"].split('-'))\n",
    "                row.append(numFilmed)\n",
    "                \n",
    "                writer.writerow(row)\n",
    "                \n",
    "                mnds.pop(m)\n",
    "                break"
   ]
  }
 ],
 "metadata": {
  "kernelspec": {
   "display_name": "Python 3",
   "language": "python",
   "name": "python3"
  },
  "language_info": {
   "codemirror_mode": {
    "name": "ipython",
    "version": 3
   },
   "file_extension": ".py",
   "mimetype": "text/x-python",
   "name": "python",
   "nbconvert_exporter": "python",
   "pygments_lexer": "ipython3",
   "version": "3.6.3"
  }
 },
 "nbformat": 4,
 "nbformat_minor": 2
}
