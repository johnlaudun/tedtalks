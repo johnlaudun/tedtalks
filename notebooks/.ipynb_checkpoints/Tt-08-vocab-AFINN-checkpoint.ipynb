{
 "cells": [
  {
   "cell_type": "code",
   "execution_count": 1,
   "metadata": {
    "collapsed": true
   },
   "outputs": [],
   "source": [
    "#! /usr/bin/env python\n",
    "\n",
    "# Create pandas dataframe & lists\n",
    "import pandas\n",
    "\n",
    "colnames = ['author', 'title', 'date' , 'length', 'text']\n",
    "df = pandas.read_csv('../data/talks_2.csv', names=colnames)\n",
    "talks = df.text.tolist()\n",
    "titles = df.title.tolist()"
   ]
  },
  {
   "cell_type": "code",
   "execution_count": 2,
   "metadata": {
    "collapsed": true
   },
   "outputs": [],
   "source": [
    "import math, re\n",
    "\n",
    "\n",
    "# Set up a dictionary where k = word and v = weight\n",
    "concretes = open('../data/Concreteness_ratings_Brysbaert_et_al.txt')\n",
    "concrete_dict = dict(map(lambda wns: (wns[0], float(wns[2])), \n",
    "                 [ ws.strip().split('\\t') for ws in concretes ]))\n",
    "\n",
    "# Word splitter pattern\n",
    "pattern_split = re.compile(r\"\\W+\")\n",
    "\n",
    "# Function to \n",
    "def concreteness(text):\n",
    "    \"\"\"\n",
    "    Returns a float for concreteness strength based on the input text.\n",
    "    The higher the number, the more concrete.\n",
    "    \"\"\"\n",
    "    words = pattern_split.split(text.lower())\n",
    "    concretions = []\n",
    "    for word in words:\n",
    "        concretions.append(concrete_dict.get(word,0))\n",
    "    if len(concretions) > 0:\n",
    "        concreteness = sum(concretions)/math.sqrt(len(concretions))\n",
    "        # Should we weight the individual word concreteness? \n",
    "        # I've seen N, sqrt(N) or 1.    \n",
    "    else:\n",
    "        concreteness = 0\n",
    "    return concreteness"
   ]
  },
  {
   "cell_type": "code",
   "execution_count": null,
   "metadata": {
    "collapsed": true
   },
   "outputs": [],
   "source": [
    "# =-=-=-=-=-=-=-=-=-=-=\n",
    "# Plotting\n",
    "# =-=-=-=-=-=-=-=-=-=-= \n",
    "def sentiplot(filename, title, use_cuml=True, method='afinn'):\n",
    "    fig = plt.figure()\n",
    "    sent, cuml = senticuml(filename, method=method)\n",
    "    if use_cuml == True:\n",
    "        plt.plot(cuml,label=title)\n",
    "        plt.ylabel(\"Cumulative Emotional Valence\")\n",
    "        plt.xlabel(\"Sentence #\")\n",
    "    else:\n",
    "        plt.plot(sent,label=title)\n",
    "        plt.ylabel(\"Emotional Valence\")\n",
    "        plt.xlabel(\"Sentence #\")\n",
    "    plt.legend()"
   ]
  },
  {
   "cell_type": "code",
   "execution_count": 3,
   "metadata": {
    "collapsed": true
   },
   "outputs": [],
   "source": [
    "talk_concreteness = []\n",
    "for talk in talks:\n",
    "    talk_concreteness.append(concreteness(talk))"
   ]
  },
  {
   "cell_type": "code",
   "execution_count": 4,
   "metadata": {
    "collapsed": false
   },
   "outputs": [
    {
     "data": {
      "text/plain": [
       "[100.39600088686036,\n",
       " 123.44488037506318,\n",
       " 122.96122519963039,\n",
       " 126.45273286109526,\n",
       " 57.0752608417299,\n",
       " 101.87852455698962,\n",
       " 99.71820055571283,\n",
       " 98.7120237966078,\n",
       " 93.82145323981567,\n",
       " 108.42209698729881]"
      ]
     },
     "execution_count": 4,
     "metadata": {},
     "output_type": "execute_result"
    }
   ],
   "source": [
    "talk_concreteness[0:10]"
   ]
  },
  {
   "cell_type": "code",
   "execution_count": null,
   "metadata": {
    "collapsed": true
   },
   "outputs": [],
   "source": [
    "import matplotlib.mlab as mlab\n",
    "import matplotlib.pyplot as plt\n",
    "plt.rcParams['figure.figsize'] = 12, 8\n",
    "\n",
    "\n",
    "# the histogram of the data\n",
    "n, bins, patches = plt.hist(x, 50, normed=1, facecolor='green', alpha=0.75)\n",
    "\n",
    "# add a 'best fit' line\n",
    "y = mlab.normpdf( bins, mu, sigma)\n",
    "l = plt.plot(bins, y, 'r--', linewidth=1)\n",
    "\n",
    "plt.xlabel('Smarts')\n",
    "plt.ylabel('Probability')\n",
    "plt.title(r'$\\mathrm{Histogram\\ of\\ IQ:}\\ \\mu=100,\\ \\sigma=15$')\n",
    "plt.axis([40, 160, 0, 0.03])\n",
    "plt.grid(True)\n",
    "\n",
    "plt.show()\n"
   ]
  }
 ],
 "metadata": {
  "kernelspec": {
   "display_name": "Python 3",
   "language": "python",
   "name": "python3"
  },
  "language_info": {
   "codemirror_mode": {
    "name": "ipython",
    "version": 3
   },
   "file_extension": ".py",
   "mimetype": "text/x-python",
   "name": "python",
   "nbconvert_exporter": "python",
   "pygments_lexer": "ipython3",
   "version": "3.4.6"
  }
 },
 "nbformat": 4,
 "nbformat_minor": 0
}
