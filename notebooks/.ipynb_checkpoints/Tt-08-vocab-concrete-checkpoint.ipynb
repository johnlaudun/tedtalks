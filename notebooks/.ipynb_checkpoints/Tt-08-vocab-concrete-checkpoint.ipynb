{
 "cells": [
  {
   "cell_type": "markdown",
   "metadata": {},
   "source": [
    "We start by loading the CSV, now with genders and dates!, into a dataframe and then trim the indices out of the dataframe. \n",
    "\n",
    "**Nota bene**: to save a dataframe without the index column, try: \n",
    "\n",
    "    pd.to_csv('your.csv', index=False)\n",
    "    \n",
    "For now, instead of the usual `df = pandas.read_csv('../data/talks_6d.csv')`, which is all we need because we have the column headers in the first row of the CSV, we are going to use:\n",
    "\n",
    "```python\n",
    "df_new = pd.read_csv('file_name.csv').drop(['unnamed 0'],axis=1)\n",
    "```\n",
    "One line to read the CSV and then drop the unnecessary old index.\n",
    "\n",
    "Here's the old column header line:\n",
    "\n",
    "```python\n",
    "colnames=['old_index','citation','author','gender','title','date','length','text','occupation','numDate']\n",
    "```\n",
    "We are also dropping the two previous lines that dropped the index column and the header row:\n",
    "\n",
    "```python\n",
    "# Cleaning up pandas dataframe to drop first column and first row\n",
    "df1 = df.drop('old_index', axis=1)\n",
    "df2 = df1.drop(df1.index[0])\n",
    "```"
   ]
  },
  {
   "cell_type": "code",
   "execution_count": 1,
   "metadata": {},
   "outputs": [],
   "source": [
    "#! /usr/bin/env python\n",
    "\n",
    "# Create pandas dataframe & lists\n",
    "import pandas\n",
    "\n",
    "df = pandas.read_csv('../data/talks_6d.csv').drop(['Unnamed: 0'], axis = 1)\n",
    "df.head()\n",
    "\n",
    "# Create lists to work with:\n",
    "talks = df.text.tolist()\n",
    "titles = df.title.tolist()"
   ]
  },
  {
   "cell_type": "markdown",
   "metadata": {},
   "source": [
    "## Setting up Concreteness Vocabulary"
   ]
  },
  {
   "cell_type": "code",
   "execution_count": 2,
   "metadata": {
    "collapsed": true
   },
   "outputs": [],
   "source": [
    "import math, re\n",
    "\n",
    "# Set up a dictionary where k = word and v = weight\n",
    "concretes = open('../metrics/Concreteness_Brysbaert_et_al.txt')\n",
    "concrete_dict = dict(map(lambda wns: (wns[0], float(wns[2])), \n",
    "                 [ ws.strip().split('\\t') for ws in concretes ]))\n",
    "\n",
    "# Word splitter pattern\n",
    "pattern_split = re.compile(r\"\\W+\")\n",
    "\n",
    "# Function to \n",
    "def concreteness(text):\n",
    "    \"\"\"\n",
    "    Returns a float for concreteness strength based on the input text.\n",
    "    The higher the number, the more concrete.\n",
    "    \"\"\"\n",
    "    words = pattern_split.split(text.lower())\n",
    "    concretions = []\n",
    "    for word in words:\n",
    "        concretions.append(concrete_dict.get(word,0))\n",
    "    if len(concretions) > 0:\n",
    "        concreteness = sum(concretions)/math.sqrt(len(concretions))\n",
    "        # Should we weight the individual word concreteness? \n",
    "        # I've seen N, sqrt(N) or 1.    \n",
    "    else:\n",
    "        concreteness = 0\n",
    "    return concreteness"
   ]
  },
  {
   "cell_type": "code",
   "execution_count": 3,
   "metadata": {
    "collapsed": true
   },
   "outputs": [],
   "source": [
    "concrete_score = [ int(concreteness(talk)) for talk in talks ]\n",
    "# print(concrete_score)"
   ]
  },
  {
   "cell_type": "code",
   "execution_count": 4,
   "metadata": {
    "scrolled": true
   },
   "outputs": [
    {
     "name": "stdout",
     "output_type": "stream",
     "text": [
      "For concreteness:\n",
      "the mean is 95.09719535783366\n",
      "the median is 98.0\n",
      "the mode is 119\n",
      "the standard deviation is 23.27374168661536\n"
     ]
    }
   ],
   "source": [
    "# Some Baseline Statistics\n",
    "import statistics\n",
    "\n",
    "concrete_mean = statistics.mean(concrete_score)\n",
    "concrete_median = statistics.median(concrete_score)\n",
    "concrete_mode = statistics.mode(concrete_score)\n",
    "\n",
    "print(\"For concreteness:\")\n",
    "print(\"the mean is {}\".format(concrete_mean))\n",
    "print(\"the median is {}\".format(concrete_median))\n",
    "print(\"the mode is {}\".format(concrete_mode))\n",
    "print(\"the standard deviation is {}\".format(statistics.pstdev(concrete_score)))"
   ]
  },
  {
   "cell_type": "code",
   "execution_count": 13,
   "metadata": {},
   "outputs": [
    {
     "name": "stdout",
     "output_type": "stream",
     "text": [
      "607 talks by men. 94 distinct values. 90.68204283360791 average.\n",
      "1437 talks by men. 116 distinct values. 97.08559498956159 average.\n"
     ]
    }
   ],
   "source": [
    "# Now let's look at that as a functon of gender\n",
    "\n",
    "# Talks by women:\n",
    "female_df = df.loc[df['gender'] == 'female']\n",
    "female_talks = female_df.text.tolist()\n",
    "female_concrete = [ int(concreteness(talk)) for talk in female_talks ]\n",
    "\n",
    "# Talks by men:\n",
    "df_male = df.loc[df['gender'] == 'male']\n",
    "male_talks = df_male.text.tolist()\n",
    "male_concrete = [ int(concreteness(talk)) for talk in male_talks ]\n",
    "\n",
    "print(\"{} talks by men. {} distinct values. {} average.\".format(\n",
    "    len(female_concrete), len(set(female_concrete)), statistics.mean(female_concrete)))\n",
    "print(\"{} talks by men. {} distinct values. {} average.\".format(\n",
    "    len(male_concrete), len(set(male_concrete)), statistics.mean(male_concrete)))"
   ]
  },
  {
   "cell_type": "code",
   "execution_count": 17,
   "metadata": {
    "scrolled": false
   },
   "outputs": [
    {
     "data": {
      "image/png": "[encoded data removed]",
      "text/plain": [
       "<matplotlib.figure.Figure at 0x1129e0128>"
      ]
     },
     "metadata": {},
     "output_type": "display_data"
    }
   ],
   "source": [
    "import numpy\n",
    "from matplotlib import pyplot\n",
    "pyplot.style.use('ggplot')\n",
    "pyplot.rcParams[\"figure.figsize\"] = (10,8)\n",
    "fig, ax = plt.subplots()\n",
    "\n",
    "#ax.set_xlabel('Concreteness Score')\n",
    "#ax.set_ylabel('Number of Talks')\n",
    "#ax.set_title('Histogram of Concreteness of Tedtalks')\n",
    "\n",
    "pyplot.hist(male_concrete, 10, alpha=0.5, label='Talks by Men')\n",
    "pyplot.hist(female_concrete, 10, alpha=0.5, label='Talks by Women')\n",
    "pyplot.legend(loc='upper right')\n",
    "pyplot.show()"
   ]
  },
  {
   "cell_type": "code",
   "execution_count": null,
   "metadata": {},
   "outputs": [],
   "source": [
    "import matplotlib.mlab as mlab\n",
    "\n",
    "num_bins = 20\n",
    "\n",
    "fig, ax = plt.subplots()\n",
    "\n",
    "# the histogram of the data\n",
    "n, bins, patches = ax.hist(male_concrete, num_bins, normed=1)\n",
    "\n",
    "# add a 'best fit' line\n",
    "y = mlab.normpdf(male_concrete)\n",
    "ax.plot(bins, y, '--')\n",
    "ax.set_xlabel('Smarts')\n",
    "ax.set_ylabel('Probability density')\n",
    "ax.set_title(r'Histogram of IQ: $\\mu=100$, $\\sigma=15$')\n",
    "\n",
    "# Tweak spacing to prevent clipping of ylabel\n",
    "fig.tight_layout()\n",
    "plt.show()"
   ]
  },
  {
   "cell_type": "code",
   "execution_count": null,
   "metadata": {},
   "outputs": [],
   "source": [
    "plt.hist(female_concrete, bins = 20)\n",
    "plt.show()"
   ]
  },
  {
   "cell_type": "markdown",
   "metadata": {},
   "source": [
    "## The Rise and Fall of Concreteness within a Text"
   ]
  },
  {
   "cell_type": "code",
   "execution_count": null,
   "metadata": {
    "collapsed": true
   },
   "outputs": [],
   "source": [
    "def concrete_line(text):\n",
    "    \"\"\"\n",
    "    Returns a list of numbers, one for each sentence, of concreteness.\n",
    "    \"\"\"\n",
    "    from nltk import tokenize\n",
    "    sentences = tokenize.sent_tokenize(text.replace('\\n', ' '))\n",
    "    concretes = [ concreteness(sentence) for sentence in sentences ]\n",
    "    return concretes\n",
    "\n",
    "def plotter (text, title, use_cuml=True):\n",
    "    fig = plt.figure()\n",
    "    sent, cuml = senticuml(text, method=method)\n",
    "    if use_cuml == True:\n",
    "        plt.plot(cuml,label=title)\n",
    "        plt.ylabel(\"Cumulative Emotional Valence\")\n",
    "        plt.xlabel(\"Sentence #\")\n",
    "    else:\n",
    "        plt.plot(sent,label=title)\n",
    "        plt.ylabel(\"Emotional Valence\")\n",
    "        plt.xlabel(\"Sentence #\")\n",
    "    plt.legend()"
   ]
  },
  {
   "cell_type": "code",
   "execution_count": null,
   "metadata": {},
   "outputs": [],
   "source": [
    "gore = concrete_line(talks[0])\n",
    "\n",
    "plt.plot(gore)\n",
    "plt.show()"
   ]
  },
  {
   "cell_type": "code",
   "execution_count": null,
   "metadata": {},
   "outputs": [],
   "source": [
    "def m_average(a_list, window):\n",
    "    import numpy as np\n",
    "    from talib import MA\n",
    "    ma_array = np.asarray(a_list)\n",
    "    return MA(ma_array,window)\n",
    "\n",
    "def r_mean(a_list, window):\n",
    "    import numpy as np\n",
    "    rm_array = np.asarray(a_list)\n",
    "    cumsum = np.cumsum(np.insert(rm_array, 0, 0))\n",
    "    return (cumsum[window:] - cumsum[:-window]) / window\n",
    "\n",
    "gore_mean = r_mean(gore, 10)\n",
    "plt.plot(gore_mean)\n",
    "plt.show()"
   ]
  },
  {
   "cell_type": "code",
   "execution_count": null,
   "metadata": {
    "collapsed": true
   },
   "outputs": [],
   "source": [
    "def avg_plots(filename, window):\n",
    "    fig = plt.figure()\n",
    "    plt.title(\"Averaged Sentiment\")\n",
    "    plt.plot(r_mean(afinn_sentiment(filename), window), label = \"Afinn NP Running\")\n",
    "    plt.plot(r_mean(textblob_sentiment(filename), window), label = \"TextBlob NP Running\")\n",
    "#    plt.plot(r_mean(indico_sentiment(filename), window), label = \"Indico NP Running\")\n",
    "#    plt.plot(m_average(afinn_sentiment(filename), window), label = \"Afinn TA Moving\")\n",
    "#    plt.plot(m_average(textblob_sentiment(filename), window), label = \"TextBlob TA Moving\")\n",
    "#    plt.plot(m_average(indico_sentiment(filename), window), label = \"Indico TA Moving\")\n",
    "    plt.ylabel(\"Emotional Valence\")\n",
    "    plt.xlabel(\"Sentence #\")\n",
    "    plt.legend(loc='lower center')\n",
    "    \n",
    "def plot_sentiments(filename):\n",
    "    fig = plt.figure()\n",
    "    plt.title(\"Comparison of Sentiment Libraries\")\n",
    "    plt.plot(afinn_sentiment(filename), label = \"Afinn\")\n",
    "    plt.plot(textblob_sentiment(filename), label = \"TextBlob\")\n",
    "    plt.plot(indico_sentiment(filename), label = \"Indico\")\n",
    "    plt.ylabel(\"Emotional Valence\")\n",
    "    plt.xlabel(\"Sentence #\")\n",
    "    plt.legend(loc='lower right')\n",
    "    plt.annotate(\"Oral Legend LAU-14 Used\", xy=(30, 2))"
   ]
  },
  {
   "cell_type": "code",
   "execution_count": null,
   "metadata": {},
   "outputs": [],
   "source": [
    "#for talk in talks[0:5]: \n",
    "\n",
    "plotted =  [ r_mean(concrete_line(talk), 10) for talk in talks[0:5]\n",
    "plt.plot(plotted)\n",
    "plt.show()"
   ]
  }
 ],
 "metadata": {
  "kernelspec": {
   "display_name": "Python 3",
   "language": "python",
   "name": "python3"
  },
  "language_info": {
   "codemirror_mode": {
    "name": "ipython",
    "version": 3
   },
   "file_extension": ".py",
   "mimetype": "text/x-python",
   "name": "python",
   "nbconvert_exporter": "python",
   "pygments_lexer": "ipython3",
   "version": "3.4.6"
  }
 },
 "nbformat": 4,
 "nbformat_minor": 1
}
