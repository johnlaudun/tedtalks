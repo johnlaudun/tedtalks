{
 "cells": [
  {
   "cell_type": "code",
   "execution_count": 4,
   "metadata": {
    "collapsed": true
   },
   "outputs": [],
   "source": [
    "#! /usr/bin/env python\n",
    "\n",
    "# Create pandas dataframe & lists\n",
    "import pandas\n",
    "\n",
    "colnames = ['old_index','citation','author','gender','title','date','length','text','occupation']\n",
    "df = pandas.read_csv('../data/talks_6b.csv', names=colnames)\n",
    "# talks = df.text.tolist()\n",
    "# titles = df.title.tolist()"
   ]
  },
  {
   "cell_type": "code",
   "execution_count": 9,
   "metadata": {
    "collapsed": true
   },
   "outputs": [],
   "source": [
    "# Cleaning up pandas need to write out indices to a file but not drop them when importing\n",
    "df1 = df.drop('old_index', axis=1)\n",
    "df2 = df1.drop(df1.index[0])"
   ]
  },
  {
   "cell_type": "code",
   "execution_count": 11,
   "metadata": {},
   "outputs": [
    {
     "data": {
      "text/html": [
       "<div>\n",
       "<table border=\"1\" class=\"dataframe\">\n",
       "  <thead>\n",
       "    <tr style=\"text-align: right;\">\n",
       "      <th></th>\n",
       "      <th>citation</th>\n",
       "      <th>author</th>\n",
       "      <th>gender</th>\n",
       "      <th>title</th>\n",
       "      <th>date</th>\n",
       "      <th>length</th>\n",
       "      <th>text</th>\n",
       "      <th>occupation</th>\n",
       "    </tr>\n",
       "  </thead>\n",
       "  <tbody>\n",
       "    <tr>\n",
       "      <th>1</th>\n",
       "      <td>Al Gore 2006</td>\n",
       "      <td>Al Gore</td>\n",
       "      <td>male</td>\n",
       "      <td>Averting the climate crisis</td>\n",
       "      <td>Jun 2006</td>\n",
       "      <td>957</td>\n",
       "      <td>Thank you so much  Chris. And it's truly a gre...</td>\n",
       "      <td>Climate advocate</td>\n",
       "    </tr>\n",
       "    <tr>\n",
       "      <th>2</th>\n",
       "      <td>David Pogue 2006</td>\n",
       "      <td>David Pogue</td>\n",
       "      <td>male</td>\n",
       "      <td>Simplicity sells</td>\n",
       "      <td>Jun 2006</td>\n",
       "      <td>1271</td>\n",
       "      <td>Hello voice mail  my old friend. I've called f...</td>\n",
       "      <td>Technology columnist</td>\n",
       "    </tr>\n",
       "    <tr>\n",
       "      <th>3</th>\n",
       "      <td>Cameron Sinclair 2006</td>\n",
       "      <td>Cameron Sinclair</td>\n",
       "      <td>male</td>\n",
       "      <td>My wish: A call for open-source architecture</td>\n",
       "      <td>Jul 2006</td>\n",
       "      <td>1398</td>\n",
       "      <td>I'm going to take you on a journey very quickl...</td>\n",
       "      <td>Co-founder, Architecture for Humanity</td>\n",
       "    </tr>\n",
       "    <tr>\n",
       "      <th>4</th>\n",
       "      <td>Sergey Brin + Larry Page 2007</td>\n",
       "      <td>Sergey Brin + Larry Page</td>\n",
       "      <td>male</td>\n",
       "      <td>The genesis of Google</td>\n",
       "      <td>May 2007</td>\n",
       "      <td>1205</td>\n",
       "      <td>Sergey Brin  I want to discuss a question I kn...</td>\n",
       "      <td>NaN</td>\n",
       "    </tr>\n",
       "    <tr>\n",
       "      <th>5</th>\n",
       "      <td>Nathalie Miebach 2011</td>\n",
       "      <td>Nathalie Miebach</td>\n",
       "      <td>female</td>\n",
       "      <td>Art made of storms</td>\n",
       "      <td>Oct 2011</td>\n",
       "      <td>247</td>\n",
       "      <td>What you just heard are the interactions of ba...</td>\n",
       "      <td>Artist</td>\n",
       "    </tr>\n",
       "  </tbody>\n",
       "</table>\n",
       "</div>"
      ],
      "text/plain": [
       "                        citation                    author  gender  \\\n",
       "1                   Al Gore 2006                   Al Gore    male   \n",
       "2               David Pogue 2006               David Pogue    male   \n",
       "3          Cameron Sinclair 2006          Cameron Sinclair    male   \n",
       "4  Sergey Brin + Larry Page 2007  Sergey Brin + Larry Page    male   \n",
       "5          Nathalie Miebach 2011          Nathalie Miebach  female   \n",
       "\n",
       "                                          title      date length  \\\n",
       "1                   Averting the climate crisis  Jun 2006    957   \n",
       "2                              Simplicity sells  Jun 2006   1271   \n",
       "3  My wish: A call for open-source architecture  Jul 2006   1398   \n",
       "4                         The genesis of Google  May 2007   1205   \n",
       "5                            Art made of storms  Oct 2011    247   \n",
       "\n",
       "                                                text  \\\n",
       "1  Thank you so much  Chris. And it's truly a gre...   \n",
       "2  Hello voice mail  my old friend. I've called f...   \n",
       "3  I'm going to take you on a journey very quickl...   \n",
       "4  Sergey Brin  I want to discuss a question I kn...   \n",
       "5  What you just heard are the interactions of ba...   \n",
       "\n",
       "                              occupation  \n",
       "1                       Climate advocate  \n",
       "2                   Technology columnist  \n",
       "3  Co-founder, Architecture for Humanity  \n",
       "4                                    NaN  \n",
       "5                                 Artist  "
      ]
     },
     "execution_count": 11,
     "metadata": {},
     "output_type": "execute_result"
    }
   ],
   "source": [
    "# Checking to see if things are in good shape\n",
    "df2.head()"
   ]
  },
  {
   "cell_type": "code",
   "execution_count": 13,
   "metadata": {},
   "outputs": [
    {
     "name": "stdout",
     "output_type": "stream",
     "text": [
      "Missing values per column:\n",
      "citation       0\n",
      "author         0\n",
      "gender         0\n",
      "title          0\n",
      "date           0\n",
      "length         0\n",
      "text           0\n",
      "occupation    79\n",
      "dtype: int64\n"
     ]
    }
   ],
   "source": [
    "#Create a new function:\n",
    "def num_missing(x):\n",
    "  return sum(x.isnull())\n",
    "\n",
    "#Applying per column:\n",
    "print(\"Missing values per column:\")\n",
    "print(df2.apply(num_missing, axis=0)) #axis=0 defines that function is to be applied on each column"
   ]
  },
  {
   "cell_type": "code",
   "execution_count": 26,
   "metadata": {},
   "outputs": [
    {
     "name": "stdout",
     "output_type": "stream",
     "text": [
      "1176 79 ['Climate advocate', 'Technology columnist', 'Co-founder, Architecture for Humanity', nan, 'Artist', 'Public health researcher', 'Writer', 'Research scientist', 'Privacy artist', 'Neuroeconomist', 'Inventor', 'Movement expert', 'Chemist', 'Digital preservationist', 'Brain scientist', 'Comedian', 'Medical image maker', 'Jetman', 'Developer, 12 year old', 'Biochemist, geneticist', 'Social critic', 'Astronomer', 'Storyteller', 'Artist, urban farmer', 'Pro snowboarder', 'Philosopher, entrepreneur', 'Science author', 'Science writer', 'Researcher', 'Wrongologist', 'Designer, educator', 'Organizer', 'Computer scientist', 'Spider silk scientist', 'Medical inventor', 'Jazz vibraphonist', 'Photographer', 'Surgeon', 'Environmental economist', 'Education innovator', 'Neuroscientist', 'Behavioral economist', 'Anti-torture activist', 'Physiotherapist', 'Author', 'Actor and activist', 'Diplomat', 'Data scientist', 'Computer designer, brain researcher', 'Biomedical animator', 'Philosopher', 'Cybersecurity expert', 'Social Media Theorist', 'Psycho-economist', 'NASA scientist', 'Marine biologist', '3D printing entrepreneur', 'Journalist, swimmer', 'Physician, broadcaster', 'Reporter', 'CEO, Kiva Systems', 'General', 'Engineer', 'Psychologist', 'Medical technologist', 'Computer theorist', 'Filmmaker', 'Ethicist', 'Founder, Doha Film Institute', 'Dinosaur digger', 'Photographer and retoucher', 'Leadership educator', 'Healthcare innovator', 'Venture capitalist', 'Aid worker', 'Director of The British Museum', 'Economist', 'Entrepreneur', 'Computer security expert', 'YouTube trends manager', 'Fisheries biologist', 'Space activist', 'Roboticist', 'Quiet revolutionary', 'Public-interest lawyer', 'Climatologist', 'Code activist', 'Interaction designer; software developer', 'Professor of Economics, University of Waterloo', 'Social psychologist', 'Author, entrepreneur', 'Entrepreneur and energy theorist', 'Nuclear scientist', 'Poet', 'Doctor, intensive care specialist', 'Buddhist scholar', 'Materials engineer', 'Former director of DARPA', 'Peace activist, Nobelist', 'Engineer and artist', 'Techno-illusionist', 'Cultural analyst', 'Graphic designer', 'Technologist', 'Body architect ', 'Professor', 'Architect, experience designer', 'Secret keeper', 'Primatologist', 'Philanthropist', 'Clawhammer banjo player', 'Surgeon and journalist', 'Web entrepreneur', 'Archaeological geneticist', 'Military strategist', 'Physicist', 'Social science researcher', 'Mayor of Rio de Janeiro', 'Activist', 'Lawyer', 'Game designer', 'Designer', 'Physicist, energy guru', 'Kinetic sculptor', \"General manager of Microsoft's Virtual Earth\", 'Advertising guru', 'Blogger and fashion icon', 'Musician, Conductor', 'Natural history filmmaker ', 'Skeptimist', 'Malariologist', 'Cognitive neuroscientist', 'Data researcher', 'Global health expert; data visionary', 'Neuroscience PhD student + writer', 'Street artist', 'Virus hunter', 'High-wire artist', 'Vocalist, beatboxer, comedian', 'Explorer, inventor and outer space dreamer', 'Curator, rare book scholar', 'Muslim studies scholar', 'Digital money and identity consultant', 'Futurist', 'Biologist', 'Thinker', 'Philosopher, cognitive scientist', 'Biological miner', 'Expert', 'Autism researcher', 'Journalist', 'Health services innovator', 'Film director', 'Satellite archaeologist + TED Prize winner', 'Skater', 'Medical futurist', 'Death penalty lawyer', 'Health reporter', 'Performance poet, multimedia artist', 'Physical Computing Guru', 'Artist, storyteller, Internet anthropologist', 'Digital strategist', 'Mental health law scholar', 'Quantum Researcher', 'Global health and development specialist', 'Inventor, environmentalist, educator', 'Game Designer', 'Mechanical engineer', 'Epidemiologist, philanthropist', 'Assumption-busting economist', 'Global Security Futurist', 'Visualizer', 'Assistant Professor', 'Video sculptor', 'Cancer Researcher', 'Anti-poverty activist', 'Sonochromatic Cyborg Artist', 'Computer programmer', 'Navy Admiral', 'Politician and Data Activist', 'Femto-photographer', 'Computational architect', 'Beekeeper', 'Blogger', 'Teacher', 'Educator', 'Photo Retoucher', 'Composer', 'Peace builder', 'Management thinker', 'Applied mathematician', 'Filmmaker and Remixer', 'Public intellectual', 'Medical animator', 'Writer and filmmaker', 'Visual Effects Guru', 'Data Intelligence Agent', 'Sculptor', 'Scientist and biofuel guru', 'Architect', 'Forensic psychologist, expert witness', 'Marketing expert', 'Mental health care advocate', 'Stem cell research advocate', 'Dancer and Choreographer', 'Open-government expert', 'Author and Activist', 'Cognitive Neuroscientist', 'Sound consultant', 'Network author', 'Social Justice Activist', 'Designer, Storyteller', 'Sharing Innovator', 'Management theorist', 'Behavioral Neuroscientist', 'Debunker', 'Artist and historian', 'Mapmaker', 'Environmental policy influencer', 'Social Psychologist', 'Violinist', 'Computer Scientist, Educator', 'Museum director', 'Marketer', 'Comedian and Mental Health Activist', 'Communications teacher', 'Art diagnostician', 'Business Educator', 'Data Commons Advocate', 'COO, Mozilla Foundation', 'Globalization researcher', 'Psychologist, Disgust researcher', 'Poet and playwright', 'Politician', 'Investment banker', 'Development Leader', 'Zoologist', 'Moustache activist', 'Happiness researcher', 'CEO, Team Rubicon', 'CEO, Lumos', 'Writer and radio producer', 'University founder', 'Letter enthusiast', 'Theater producer', 'Cognitive researcher', 'Artist, designer, urban planner', 'Sustainable development expert', 'Tech visionary', 'Novelist, poet', 'Transportation specialist', 'Pilot', 'Raptor biologist, wildlife photographer', 'Editor', 'Recovering politician', 'Tissue engineering researcher', 'Poet and actor', 'Medicine law expert', 'Social entrepreneur', 'Entomologist', 'Arctic explorer', 'Transport networker', 'Brand strategist', 'Graphic Designer', 'Novelist', 'Musician, activist', 'Biotechnology entrepreneur', 'Mindfulness expert', 'Film executive', 'Performance artist', 'Author/illustrator', 'Clinical researcher', 'Biologist and community science advocate', 'Model', 'Producer', 'Dermatologist', 'Proud dad', 'Former U.S. Secretary of State', 'Surgeon and technologist', 'Policy entrepreneur', 'Food security expert', 'Science enthusiast', 'Video maker', 'Experimental micromechanics pioneer', 'Complex systems theorist', 'Relationship therapist', 'Dictionary editor', 'Transparency activist', 'Education surveyor', 'Education researcher', 'Former governor of Michigan', 'Musician, blogger', 'Grassland ecosystem pioneer', 'Gardener', 'Educator and activist', 'Author, speaker, reformer', 'Neurobiologist', 'Environmentalist, futurist', 'Maker', 'Serial entrepreneur', 'Geneticist, physician', 'Composer, conductor', 'Engineer and biodiversity scientist', 'Macroencapsulator', 'Ornithologist', 'Linguist', 'Legal activist', 'Know-it-all', 'Robotics entrepreneur', 'Social scientist', 'Science historian', 'Curious journalist', 'Neuroscientist and psychiatrist', 'Neurosurgeon', 'Yo-yo champion', 'Innovation researcher', 'Corporate director, author', 'Human-computer interface designer', 'Paleoanthropologist', 'Education reformer', 'Author/educator', 'Clinical psychologist', 'Computer engineer', 'Google Co-founder', 'Philosopher, ethicist', 'Multimedia artist', 'Design curator', 'Anti-sexism educator', 'Evolutionary geneticist', 'Passionate reader', 'Energy software maker', 'Undercover journalist', 'Technology forecaster ', 'Dolphin researcher', 'Graphic artist, director', 'Autonomous systems pioneer', 'Former Prime Minister of Greece', 'Sci-fi author', 'Women_ã_s rights activist', 'Risk economist', 'Tech entrepreneur', 'North Korean refugee', 'Accidental theologist', 'Cartoon editor', 'Paleontologist', 'Investor and political scientist', 'Health and technology activist', 'Interface designer, engineer', 'Planetary scientist', 'Anti-corruption activist', 'Cancer detector inventor', 'Sexuality educator', 'Natural sounds expert', 'Cloudspotter', 'Global author', 'Science fair winners', 'Beatboxer', 'Shepherd of electrons', 'Parents', 'Advertising expert', 'Surprisologist', 'Aircraft engineer', 'Life saver', 'Director, designer', 'Electronic systems expert', 'Beatboxer and inventor', 'Multi-sense designer', 'Research psychologist', 'Circadian neuroscientist', 'Science communicator', 'Health psychologist', 'Plutocracy chronicler', 'Visual artist', 'Rewilding campaigner', 'Designer and storyteller', 'Labor lawyer and activist', 'Gentleman thief', 'Illustrator, author', 'Cybersecurity specialist', 'Bees scholar', 'Bioprinting entrepreneur', 'Political theorist', 'False memories scholar', 'Moral philosopher', 'Comedian, activist', 'User anthropologist', 'Anthropologist', 'Business strategist', 'Political philosopher', 'City transportation expert', 'Political scientist', 'Epidemiologist', 'Urban planner', 'Urban documentarian', 'Privacy economist', 'Corporate innovator', 'Emerging-markets economist', 'Literary critic', 'Theoretical physicist', 'Architect and urbanist', 'Innovation economist', 'Explorer and filmmaker', 'Bow designer', 'Business professor', 'Trash anthropologist', 'Doctor', 'Mathemagician', 'Global economist ', 'Human rights advocate', 'Value-based health care advocate', 'Drones ecologist', 'Airborne ecologist', 'Airborne logistics activist', 'Monk, author, photographer', 'Educational psychology professor', 'Civilization scholar', 'Monk', 'Social investment visionary', 'Bio researcher', 'Political pundit', 'Environmental and literacy activist', 'Cave Explorer', 'Place maker', 'DNA origamist', 'Mayor', 'Comedian and writer ', 'Poet and language advocate', 'Financial management expert', 'Neuroscientist and science writer', 'Digital humanities researcher', 'Musical artist', 'COO, Unilever', 'Biomedical engineer', 'COO, Facebook', 'Environmental scientist', 'Curator', 'Arab sexuality expert', \"Women's-health expert\", 'Consultant', 'Musician and graphic designer', 'VP criminal justice, Arnold Foundation', 'Teen activist', 'Animal scientist', 'Entrepreneur, animator, philanthropist ...', 'Violence and abuse prevention expert', 'Satellite designer', 'Scientist, entrepreneur, inventor', 'Sustainability strategist', 'Sustainable investment champion', 'Speech scientist', 'Biomaterials researcher', 'Leadership expert', 'Equality advocate', 'Regenerative neurologist', 'Hacker, community manager', 'Financial expert', 'Student scientist', 'Pianist, composer', 'Rating agency reformer', 'Screen engineer', 'Privacy researcher + activist', 'Physicist, inventor', 'Visual grammar engine inventor', 'Public policy thinker', 'Mathematician', 'Technology writer', 'Wild sex biologist', 'Whistleblower', 'Astronaut', 'Deputy director, NSA', 'CEO of Google', 'Education activist', 'Technology designer', 'Security maven', 'Bionics designer', 'Model and activist', 'Education pioneer', 'Biomechatronics engineer', 'Former U.S. Representative and NASA astronaut; survivors', 'Columnist', 'Endocrinologist', 'Planet finder', 'Type designer', 'Plasma physicist', 'Inventor, ocean swimmer', 'Interaction designer', 'Geneticist', 'Sports science reporter', 'Eye surgeon, inventor', 'Climate scientist', 'Polymorphic playwright', 'Military leader', 'Cartoonist', 'Music producer and DJ', 'Academic', 'Ecologist', 'Golden Gate guardian', 'Ocean advocate', 'Punter and author', 'Author and advocate', 'Journalist and documentarian', 'Vagabond photojournalist + conceptual artist', 'Open-science advocate', 'Composer, singer, author, actor, activist', 'Inventor, futurist', 'Psychologist; happiness expert', 'Connector', 'Poetry critic', 'Documentary filmmaker', 'Comedian, journalist, activist', 'Investigative journalist', 'Systems biologist', 'Language historian', 'Tinkerer', 'Poet and educator', 'Security researcher', 'Historian of science', 'Music technologist', 'Cybersecurity researcher', 'Firefly specialist', 'Policy advisor', 'Relentless mind', 'Theorist', 'Professor of international law', 'Cruciverbalist', 'inventor, engineer', 'Investor', 'Humorist, web artist', 'Education entrepreneur', 'User experience master', 'Historian', 'Molecular animator', 'Musician', 'Statistician', 'Venture capitalist, author', 'Prison administrator and reformer', 'Civics educator', 'Poet, teacher', 'Architect + ecotourism specialist', 'Science Historian + Writer', 'Astrophysicist', 'Microinsurer', 'Citizen journalist', 'Comedian + Designer', 'Writer and philosopher', 'Reforestation expert', 'Author, historian', 'Peace activist', 'Strategist', 'Oceanographer', 'photographer + visual artist', 'Physician', \"Children's book author\", '3D printer', 'Scientist', 'Data Editor of The Economist', 'Photojournalist', 'Emergency medical technician', 'Environmental engineer, sanitation activist', 'Cuban health care expert', 'Brain researcher', 'Pianist', 'Self-esteem advocate', 'Democracy activist', 'Remittances expert', 'Public-health expert', 'Cancer technologist', 'Voice for refugees', 'Data analyst', 'Educational entrepreneur', 'veteran aid worker', 'Ocean explorer and environmentalist', 'Guitarist', 'Science humorist', 'International litigator', 'Aerial robotics researcher', 'Nature photographer', 'Chaplain + author', 'Political mobilization activist', 'Biodiversity scientist', 'Urban architect', 'Social innovator', 'Favela painters', 'Drug-resistance economist', 'Drug policy reformer', 'Emergency physician, public health advocate', 'Information security manager', 'Space scientist', 'Mother + ALS Advocate', 'medical inventor', 'College president', 'Storytelling activist', 'Amazonian ethnobotanist', 'Human-rights activist', 'Human resources expert', 'Cardiologist', 'Anti-guerrilla creative', 'Documentary photographer', 'Slow television advocate', 'Attorney + privacy advocate', 'Livestreaming activist', 'Graffiti artist + activist', 'Industrial designer', 'Research scientist, Google', 'Protector of whales', 'Map researcher', 'Entrepreneur + educator', 'Forensic anthropologist', 'Forester and sustainability activist', 'Innovation strategist', 'Polar explorer', 'Megacities expert', 'TED Curator', 'Microroboticist', 'Human resources professional', 'Peace and conflict researcher', 'Cross-cultural consultant', 'Creative spirit', 'Techno-sociologist', 'Organizational changemaker', 'Smart product inventor', 'Complexity theorist', 'Psychologist, author', 'Pediatrician', 'City evangelist', 'Space researcher, biologist, artist', 'Microbial ecologist', 'Women_ã_s rights activist and entrepreneur', 'Medical researcher', 'Investor, data scientist, entrepreneur', 'Conservation technologist', 'Illustrator', 'Secure email developer', 'Prison reform advocate', 'Toy designer', 'Management professor', 'Humanitarian', 'Environmental writer', 'Chemist, inventor', 'Social activist', 'Story collector', 'Artist, potter, community builder', 'Entrepreneur and philanthropist', 'Perceptual navigation specialist', 'International relations expert ', 'Digital community builder', 'Space explorer', 'Children_ã_s rights activist', 'Theremin player', 'Planetary explorer', 'Human rights attorney', 'Immersive storyteller', 'Neuroscientist, stand-up comic', 'Urban sociologist', 'Plant geneticist', 'Synthetic biologist', 'Singer-songwriter', 'Sustainable designer', 'Digital storyteller', 'Inmates', 'Transhumanist', 'Physical therapy entrepreneur', 'Animal rights lawyer', 'Surf photographer', 'Pastor', 'Mechanical engineer, social advocate', 'Exoplanet expert', 'Last tribes photographer', 'Idea guy', 'Cognitive scientist', 'Education visionary', 'Product creator', 'High school principal', 'Writer and editor', 'Jugglers', 'Public health journalist', 'Circular economy advocate', 'Radio researcher', 'Kenyan MP', 'Global journalist', 'Listener', 'Open-source engineer and artist', 'Evolutionary biologist', 'Peace expert', 'Calligraffiti artist', 'International policy analyst', 'Social observer', 'New media artist', 'Laser scientist', 'Advocate', 'Data visualization researcher', 'Sculptor ', 'Quantum physicist', 'Vaccine visionary', 'Disaster roboticist', 'Social media analyst', 'Philanthropist, mathematician', 'Educator and computing pioneer', 'Stratospheric explorer', 'Palliative caregiver', 'Tennis legend and activist', 'Foreign policy strategist', 'Family activist', 'Sociologist', 'Writer, traveler', 'Biologist, genetics pioneer', 'Global leader', 'Poet and activist', 'Author, designer', 'Writer, coach, artist ...', 'Climate scholar', 'Cancer physician and writer', 'Architect, designer', \"Women's health pioneer\", 'Speleologist', 'Neuroanatomist', 'Innovator and social entrepreneur', 'Sound artist, composer', 'Communications technology innovator', 'Documentary filmmakers', 'Activist, anthropologist, consultant', 'Journalist and psychologist', 'Sneaker data expert', 'President of the Republic of Kiribati', 'Ecologist, writer', 'Paleoanthropologist and rock art researcher', 'Writer, blogger, author', 'Activist for environmental justice', 'Founder of Wikipedia', 'Author, publisher, education activist', 'Human Resources Manager, UPS', 'Coral reef biologist', 'Strategy consultant, social entrepreneur and author', 'Visionary inventor', 'Fashion designer', 'Beatboxers', 'Religious scholar', 'Stellar astronomer', 'Security researcher ', 'Psychiatrist, psychoanalyst and Zen priest', 'Particle physicist', 'Physicist, education activist', 'Astronomer, astrobiologist, actor, writer', 'Civil and environmental engineer', 'Comedian and writer', 'Economist, journalist and broadcaster', 'Chief of the Community Partnership Division, Baltimore Police Department', 'Internet activist and computer engineer', 'Professor of molecular and cell biology', 'Writer and poet', 'Green entrepreneur', 'Art historian', 'Economist and professor', 'Marine biologist, explorer-photographer', 'Policy expert', 'Activists', 'Programmer, storyteller and illustrator', 'Mindful addiction doctor', 'Computational geneticist', 'Special Olympics International Sargent Shriver Global Messenger', 'Human-computer interaction researcher and designer', 'Textual scientist', 'Entrepreneur and conservationist', 'Professor, author and social justice advocate', 'Functional neurosurgeon', 'Writer and radio host', 'Writer and producer', 'Astronomer, educator, skeptic', 'Sustainable investment expert', 'New York City Health Commissioner', 'Writer, performer', 'Conservation photographer', 'Textile artist', 'Big data techno-Ô_optimist and internist', 'Refugee scholar', 'Problem solver-Ô_in-Ô_chief, Uber', 'Principal Investigator and Director of the Open Agriculture Initiative', 'Ocean scientist', 'Product designer', 'Prime Minister of Bhutan', 'Designer, co-founder of Airbnb', 'Founder and CEO, Sexual Health Innovations', 'Social scientist, author ', 'Founder and CEO, Meta', 'Juvenile justice reformer', 'Gun-control activist', 'Synthetic biologist ', 'Organizational psychologist', 'Disrupter', 'Global strategist', 'Director of photography, Pixar', 'Campaign leader, Global Witness', 'Software engineer', 'Medical researcher and educator ', 'Entrepreneur, inventor, author', 'Copy editor', 'Social entrepreneur, co-founder of Menstrupedia', 'Mobile finance entrepreneur', 'Artist, composer, engineer', 'Blogger; cofounder, Six Apart', 'Fixer', 'Scientist, entrepreneur', \"Researchers' dream donator\", 'Design critic', 'Author and playwright', 'Science journalist', 'Conceptual artist', 'Human-computer interaction researcher', 'Physician, bioengineer and entrepreneur ', 'Developmental researcher', 'Brain hacker', 'Legal expert', 'Physicist ', 'Band', 'CEO', 'Mycologist', 'Juggler', 'Hacker', 'CEO, Public Radio International (PRI)', 'Food writer', 'Anthropologist; expert on love', 'Memeticist', 'Polymath', 'Anthropologist, ethnobotanist', 'Physician, author', 'Playwright, activist', 'Conductor', 'Botanist and activist', 'Animating neurobiologist', 'Preacher', 'Magician', 'Architecture critic', 'Digital visionary', 'Bioengineer', 'Origamist', 'Genographer', 'Director of photography, National Geographic', 'Close-up card magician', 'Animal behaviorist', 'Singer/songwriter', 'Musician and inventor', 'Blogger and activist', 'African grey parrot', 'Entrepreneur, marketer', 'Primatologist; environmentalist', 'Physician, disaster-preparedness activist', 'Digital librarian', 'Traveler', 'Lunch lady', 'Angel Investor', 'AI pioneer', 'Counselor, coach and baker', 'Scholar of Islam and law', 'Neuroscience and cancer researcher', 'Positive psychologist', 'Spiritual leader', 'Vedantic teacher', 'Crusader against aging', ' Chairman of the Cordoba Initiative', 'Journalist, philosopher', 'Finance journalist', 'Planet walker', 'Nose', 'Political scientist and journalist', 'Founder, GrameenPhone', 'Technologist and futurist', 'Chef', 'Internet entrepreneur', 'Automotive researcher', 'Folk musician', 'Bee expert', 'President-elect of Afghanistan', 'Cave scientist', 'Biochemist', 'Nonprofit venture capitalist', 'Baker', 'Designer at play', 'World-builder', 'Athlete and actor', 'Fiddler', 'MIT grad student', 'Maestro', 'Visual storyteller', 'Ichthyologist', 'Photographer and explorer', 'Twitter co-founder', 'Designer and theorist', 'Conservationist', 'Tree researcher', 'TV host', 'Cognitive scientist and design critic', 'Play researcher, psychiatrist', 'Biomedical inventor', 'Maker, critical thinker', 'Humorist', 'Business owner and activist', 'Coach', 'Newspaper designer', 'Aerialist', 'Military analyst', 'Molecular biologist', 'Philosopher-comic', 'Green auto pioneer', 'Author, thinker', 'Skeptic', 'Productivity guru, author', 'Marketer, rock climber', 'Figurer', 'Blogger, technologist', 'Mathematician; statistician', 'Physicist and military theorist', 'Astronaut, engineer, entrepreneur, physician and educator', 'Food and agriculture expert', 'Marketer and author', 'Technologist and visionary', 'A capella ensemble', 'Sustainable-business pioneer', 'Speaker and author', 'First Lady of the United States', 'Publisher, philanthropist, poet', 'Media exec', 'Engineer, executive', 'Evolutionary psychologist', 'Marketer, success analyst', 'Biospherian', 'Deprogrammer', 'New philanthropist', 'Endurance runner', 'Development economist', 'Sculptor of light and space', 'Physician scientist', 'British Prime Minister', 'Experimental audio-visual artist', 'Aquatic ape theorist', 'Micro-sculptor', 'New-growth economist', 'Science writer, innovation consultant, conservationist', 'Hip-hop artist', 'Career analyst', 'Wireless electrician', 'Biodiversity archivist', 'Optical innovator', 'Social commentator', 'Creative technologist', 'Stuntman', 'Life coach; expert in leadership psychology', 'Coldwater swimmer', 'Underworld investigator', 'Neurological anthropologist', 'Net watchdog', 'Internet scientist', 'Global prioritizer', 'Food urbanist', 'Professor of management', 'Neuroscientist, Artist', 'Landscape ecologist', 'Robotics designer', 'Marketing whiz', 'Computer graphics pioneer', 'Conductor and leadership expert', 'Economist, development visionary', 'Applied scientist, innovator', 'Tech anthropologist', 'Atmospheric chemist', 'Cultural diplomacy expert', 'Director of research, Samsung Research America', 'Mythologist', 'Resilience leader', 'Dune architect', 'Dancer, actor, activist', 'Politician and writer', 'Environmental activist', 'Puzzlemaster', 'Anti-trafficking crusader', 'Cultural Historian', 'Vision activist', 'Macroeconomist', 'Aphorist', 'Social entrepreneur, lawyer', 'Solar adventurer', 'Innovation consultant', 'Brain expert', 'X-ray visionary', 'Longevity coach, explorer', 'Herpetologist', 'Wildlife conservationist ', 'Comedian, voice artist', 'Illusionist, endurance artist', 'Actor, playwright, social critic', 'Investor ', 'Health and human services expert', 'Healthcare revolutionary', 'Cancer Doctor', 'Founder, Transparency International', 'Chef, activist', 'Physicist, personal fab pioneer', 'Cardiologist and geneticist ', 'Livestock handling designer, autism activist', 'Visual neuroscientist', 'Behavioral economics founder', 'Cricket commentator', 'Director', 'Dance adventurers', 'Happiness teacher', 'Biochemist, cell biologist', 'Adventure physician ', 'Director and writer', 'Neuroscientist and philosopher', 'Executive, simplicity guru', 'Planetary and atmospheric scientist', 'Anti-slavery activist', 'Media expert ', 'Child prodigy', 'Roboticist ', 'Executive', 'Skeptic and conjuror', 'Technologist, city councilman', 'Scientist, inventor', 'Ocean rower', 'Car designer', 'Marine ecologist', 'Innovation advocate', 'Physician, social scientist', 'Actor, comedian, playwright', 'Cancer researcher', 'Conservation biologist', 'Geophysicist', 'Media maven', 'Interface designer', 'Creative entrepreneur ', 'Musician, artist, writer', 'Behavioral ecologist', 'Dancer and choreographer', 'CEO, author', 'Designer, illustrator, typographer', 'Neuroscientist ', 'Entrepreneur, Lego enthusiast', 'Scientist, Artist ', 'Rational optimist', 'Blogger, digital visionary', 'Creator, The 99', 'Surgeon, inventor', 'Cognitive psychologist', 'Market transformer', 'Author, journalist', 'Game changer', 'Data journalist', 'Online marketing whiz', 'Sustainability expert', 'Artist, photographer', 'Arts administrator', 'Oceanographer, biogeochemist', 'HIV/AIDS fighter', 'Activist, singer-songwriter', 'Biologist, Nobel laureate', 'Computational neuroscientist', 'Analytical psychologist', 'Public health expert', 'Green designer', 'Plant neurobiologist', 'Building activist', 'Artist and engineer', 'Microlender', 'Food scientist', 'Artist and activist', 'Editorial cartoonist', 'Designer; creative director, Ideo', 'Scientist, innovator', 'Gaming theorist', 'Voting system designer', 'Optogeneticist', 'Humanitarian design activist', 'Ethnic conflicts scholar', 'Labor-rights activist', 'High seas policy advisor', 'Neuropsychologist', 'Activist and social entrepreneur', 'Software entrepreneur', 'Builder', 'Aspiring organic farmer', 'Mediator', 'Ecological entomologist', 'Product developer', 'Green chef', 'Change agent, financial services', 'Planetary futurist', 'Author, educator, activist', 'Corrections pioneer', 'Website co-founders', 'Conservationists, filmmakers', 'Pastor, author', 'Primate authority', 'Physician, cancer researcher', 'Director, The Institute for Global Happiness', 'Nobel peace laureate', 'Cyborg Anthropologist ', 'Writer, healer', 'Biologist, biomechanics researcher', 'Instructional designer', 'Author, Activist ', 'Soprano', 'Social justice and green energy activist', 'Scientific visualization expert', 'Writer, columnist', 'Healthcare communicator', 'Cartoonist ', 'Artist, scientist and entrepreneur', 'Master of visual illusions', 'Landscape architect', 'Tech publisher', 'Journalist, runner', 'Poet, playwright', 'Author and marketer', 'Whistler', 'Language ', 'Facial surgeon', 'Explorer, ethnographer', 'Singer, performance artist', 'Natural resources expert', 'Activist, volunteer firefighter', 'Lighting designer', \"Berkeley Bionics' CEO\", 'Cellist; singer-songwriter', 'Language teacher', 'Security consultant', 'Google Fellow', 'Advocate for disabled people', 'Artist and organizer', 'Film critic and blogger', 'Farmer and technologist', 'Health policy expert', 'Security expert', 'Biological engineer', 'Toymaker', 'Organizer and author', '9/11 mothers', 'Architect and engineer', 'Physicist, cosmologist', 'Polar photographer', 'Neuroengineer', 'Online commerce pioneer', 'Pediatric anesthesiologist', 'Data artist', 'Iranian visual artist', 'Communicator', 'Artist and curator', 'Executive chair, Ford Motor Co.', 'Linguist, educator', 'Community activist', 'e-Patient', 'Friend of the High Line', 'Author, producer', 'Media activist', 'Anti-extremism activist', 'Priest', 'Actor', 'Algoworld expert', 'Anti-hunger leader', 'Penguin expert', 'Satirist', 'Author, Zen priest', 'Historian of technology and culture', 'Actor and writer', 'Political economist', 'Artist and technologist', 'Media executive', 'Global development worker', 'Drone maker', 'Visualizer and gamestorming', 'Physician and author', 'Media mogul, TV host', 'Artificial life researcher', 'Plastics recycler', 'Child development psychologist', 'Lie detector', 'Science entrepreneur']\n"
     ]
    }
   ],
   "source": [
    "# Get all the unique values in the occupation column\n",
    "# (which will come out as an array) and convert to a list\n",
    "# Included here is the total number of values and the number of rows\n",
    "# that have no values at all.\n",
    "occupations = df2.occupation.unique().tolist()\n",
    "print(len(occupations), sum(df2.occupation.isnull()), occupations)"
   ]
  },
  {
   "cell_type": "code",
   "execution_count": 27,
   "metadata": {
    "collapsed": true
   },
   "outputs": [],
   "source": [
    "import math, re\n",
    "\n",
    "\n",
    "# Set up a dictionary where k = word and v = weight\n",
    "concretes = open('../metrics/Concreteness_Brysbaert_et_al.txt')\n",
    "concrete_dict = dict(map(lambda wns: (wns[0], float(wns[2])), \n",
    "                 [ ws.strip().split('\\t') for ws in concretes ]))"
   ]
  },
  {
   "cell_type": "code",
   "execution_count": 30,
   "metadata": {
    "collapsed": true
   },
   "outputs": [],
   "source": [
    "# Word splitter pattern\n",
    "pattern_split = re.compile(r\"\\W+\")\n",
    "\n",
    "# Function to \n",
    "def concreteness(text):\n",
    "    \"\"\"\n",
    "    Returns a float for concreteness strength based on the input text.\n",
    "    The higher the number, the more concrete.\n",
    "    \"\"\"\n",
    "    words = pattern_split.split(text.lower())\n",
    "    concretions = []\n",
    "    for word in words:\n",
    "        concretions.append(concrete_dict.get(word,0))\n",
    "    if len(concretions) > 0:\n",
    "        concreteness = sum(concretions)/math.sqrt(len(concretions))\n",
    "        # Should we weight the individual word concreteness? \n",
    "        # I've seen N, sqrt(N) or 1.    \n",
    "    else:\n",
    "        concreteness = 0\n",
    "    return concreteness"
   ]
  },
  {
   "cell_type": "code",
   "execution_count": 31,
   "metadata": {
    "collapsed": true
   },
   "outputs": [],
   "source": [
    "talks = df2.text.tolist()\n",
    "titles = df2.title.tolist()"
   ]
  },
  {
   "cell_type": "code",
   "execution_count": 41,
   "metadata": {
    "collapsed": true
   },
   "outputs": [],
   "source": [
    "concrete_score = [ int(concreteness(talk)) for talk in talks ]\n",
    "# print(concrete_score)"
   ]
  },
  {
   "cell_type": "code",
   "execution_count": 52,
   "metadata": {
    "scrolled": true
   },
   "outputs": [
    {
     "name": "stdout",
     "output_type": "stream",
     "text": [
      "For concreteness:\n",
      "the mean is 95.09719535783366\n",
      "the median is 98.0\n",
      "the mode is 119\n",
      "the standard deviation is 23.27374168661536\n"
     ]
    }
   ],
   "source": [
    "# Some Baseline Statistics\n",
    "import statistics\n",
    "\n",
    "concrete_mean = statistics.mean(concrete_score)\n",
    "concrete_median = statistics.median(concrete_score)\n",
    "concrete_mode = statistics.mode(concrete_score)\n",
    "\n",
    "print(\"For concreteness:\")\n",
    "print(\"the mean is {}\".format(concrete_mean))\n",
    "print(\"the median is {}\".format(concrete_median))\n",
    "print(\"the mode is {}\".format(concrete_mode))\n",
    "print(\"the standard deviation is {}\".format(statistics.pstdev(concrete_score)))"
   ]
  },
  {
   "cell_type": "code",
   "execution_count": 55,
   "metadata": {},
   "outputs": [
    {
     "name": "stdout",
     "output_type": "stream",
     "text": [
      "1437 97.08559498956159\n"
     ]
    }
   ],
   "source": [
    "# Now let's look at that as a functon of gender\n",
    "\n",
    "# We need all the talks that are by men:\n",
    "df_male = df2.loc[df2['gender'] == 'male']\n",
    "male_talks = df_male.text.tolist()\n",
    "male_concrete = [ int(concreteness(talk)) for talk in male_talks ]\n",
    "print(len(male_talks), statistics.mean(male_concrete))"
   ]
  },
  {
   "cell_type": "code",
   "execution_count": 56,
   "metadata": {},
   "outputs": [
    {
     "name": "stdout",
     "output_type": "stream",
     "text": [
      "607 90.68204283360791\n"
     ]
    }
   ],
   "source": [
    "# We need all the talks that are by women:\n",
    "female_df = df2.loc[df2['gender'] == 'female']\n",
    "female_talks = female_df.text.tolist()\n",
    "female_concrete = [ int(concreteness(talk)) for talk in female_talks ]\n",
    "print(len(female_talks), statistics.mean(female_concrete))"
   ]
  },
  {
   "cell_type": "code",
   "execution_count": null,
   "metadata": {
    "collapsed": true
   },
   "outputs": [],
   "source": [
    "# =-=-=-=-=-=-=-=-=-=-=\n",
    "# Plotting\n",
    "# =-=-=-=-=-=-=-=-=-=-= \n",
    "def plotter (filename, title, use_cuml=True, method='afinn'):\n",
    "    fig = plt.figure()\n",
    "    sent, cuml = senticuml(filename, method=method)\n",
    "    if use_cuml == True:\n",
    "        plt.plot(cuml,label=title)\n",
    "        plt.ylabel(\"Cumulative Emotional Valence\")\n",
    "        plt.xlabel(\"Sentence #\")\n",
    "    else:\n",
    "        plt.plot(sent,label=title)\n",
    "        plt.ylabel(\"Emotional Valence\")\n",
    "        plt.xlabel(\"Sentence #\")\n",
    "    plt.legend()"
   ]
  },
  {
   "cell_type": "code",
   "execution_count": null,
   "metadata": {
    "collapsed": true
   },
   "outputs": [],
   "source": [
    "import matplotlib.mlab as mlab\n",
    "import matplotlib.pyplot as plt\n",
    "plt.rcParams['figure.figsize'] = 12, 8\n",
    "\n",
    "\n",
    "# the histogram of the data\n",
    "n, bins, patches = plt.hist(x, 50, normed=1, facecolor='green', alpha=0.75)\n",
    "\n",
    "# add a 'best fit' line\n",
    "y = mlab.normpdf( bins, mu, sigma)\n",
    "l = plt.plot(bins, y, 'r--', linewidth=1)\n",
    "\n",
    "plt.xlabel('Smarts')\n",
    "plt.ylabel('Probability')\n",
    "plt.title(r'$\\mathrm{Histogram\\ of\\ IQ:}\\ \\mu=100,\\ \\sigma=15$')\n",
    "plt.axis([40, 160, 0, 0.03])\n",
    "plt.grid(True)\n",
    "\n",
    "plt.show()\n"
   ]
  },
  {
   "cell_type": "code",
   "execution_count": null,
   "metadata": {
    "collapsed": true
   },
   "outputs": [],
   "source": [
    "def afinn_sentiment(filename):\n",
    "    from afinn import Afinn\n",
    "    afinn = Afinn()\n",
    "    with open (my_file, \"r\") as myfile:\n",
    "        text = myfile.read().replace('\\n', ' ')   \n",
    "        sentences = tokenize.sent_tokenize(text)\n",
    "        sentiments = []\n",
    "        for sentence in sentences:\n",
    "            sentsent = afinn.score(sentence)\n",
    "            sentiments.append(sentsent)\n",
    "        return sentiments\n",
    "\n",
    "def plot_sentiments(filename):\n",
    "    fig = plt.figure()\n",
    "    plt.title(\"Comparison of Sentiment Libraries\")\n",
    "    plt.plot(afinn_sentiment(filename), label = \"Afinn\")\n",
    "    plt.plot(textblob_sentiment(filename), label = \"TextBlob\")\n",
    "    plt.plot(indico_sentiment(filename), label = \"Indico\")\n",
    "    plt.ylabel(\"Emotional Valence\")\n",
    "    plt.xlabel(\"Sentence #\")\n",
    "    plt.legend(loc='lower right')\n",
    "    plt.annotate(\"Oral Legend LAU-14 Used\", xy=(30, 2))"
   ]
  }
 ],
 "metadata": {
  "kernelspec": {
   "display_name": "Python 3",
   "language": "python",
   "name": "python3"
  },
  "language_info": {
   "codemirror_mode": {
    "name": "ipython",
    "version": 3
   },
   "file_extension": ".py",
   "mimetype": "text/x-python",
   "name": "python",
   "nbconvert_exporter": "python",
   "pygments_lexer": "ipython3",
   "version": "3.4.6"
  }
 },
 "nbformat": 4,
 "nbformat_minor": 1
}
