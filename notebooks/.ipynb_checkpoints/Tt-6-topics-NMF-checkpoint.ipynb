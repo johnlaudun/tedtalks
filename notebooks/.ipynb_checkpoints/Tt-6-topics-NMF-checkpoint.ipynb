{
 "cells": [
  {
   "cell_type": "code",
   "execution_count": null,
   "metadata": {
    "collapsed": true
   },
   "outputs": [],
   "source": [
    "#! /usr/bin/env python\n",
    "\n",
    "import pandas\n",
    "import re\n",
    "from nltk.tokenize import WhitespaceTokenizer\n",
    "\n",
    "\n",
    "# Create pandas dataframe, then the usual lists\n",
    "colnames = ['author', 'title', 'date' , 'length', 'text']\n",
    "df = pandas.read_csv('../data/talks_2.csv', names=colnames)\n",
    "talks = df.text.tolist()\n",
    "authors = df.author.tolist()\n",
    "dates = df.date.tolist()\n",
    "years = [re.sub('[A-Za-z ]', '', item) for item in dates]\n",
    "authordate = [author+\" \"+year for author, year in zip(authors, years)]\n",
    "cited_texts = pandas.DataFrame(\n",
    "    {'citation': authordate,\n",
    "     'text': talks,\n",
    "    })\n",
    "\n",
    "# Clean, tokenize, stopwords\n",
    "tokenizer = WhitespaceTokenizer()\n",
    "stopwords = re.split('\\s+', open('../data/tt_stop.txt', 'r').read().lower())\n",
    "\n",
    "texts = []\n",
    "for i in talks:\n",
    "    raw = re.sub(r\"[^\\w\\d'\\s]+\",'', i).lower()\n",
    "    tokens = tokenizer.tokenize(raw)\n",
    "    stopped_tokens = [i for i in tokens if not i in stopwords]\n",
    "    texts.append(stopped_tokens)"
   ]
  }
 ],
 "metadata": {
  "kernelspec": {
   "display_name": "Python 3",
   "language": "python",
   "name": "python3"
  },
  "language_info": {
   "codemirror_mode": {
    "name": "ipython",
    "version": 3
   },
   "file_extension": ".py",
   "mimetype": "text/x-python",
   "name": "python",
   "nbconvert_exporter": "python",
   "pygments_lexer": "ipython3",
   "version": "3.4.5"
  }
 },
 "nbformat": 4,
 "nbformat_minor": 0
}
