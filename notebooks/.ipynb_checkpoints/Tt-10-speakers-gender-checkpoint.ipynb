{
 "cells": [
  {
   "cell_type": "code",
   "execution_count": 1,
   "metadata": {
    "collapsed": true
   },
   "outputs": [],
   "source": [
    "import pandas as pd\n",
    "\n",
    "colnames = ['speaker', 'discipline', 'description' , 'why']\n",
    "df = pd.read_csv('../data/speakers.csv', names=colnames)"
   ]
  },
  {
   "cell_type": "code",
   "execution_count": 2,
   "metadata": {},
   "outputs": [
    {
     "data": {
      "text/html": [
       "<div>\n",
       "<table border=\"1\" class=\"dataframe\">\n",
       "  <thead>\n",
       "    <tr style=\"text-align: right;\">\n",
       "      <th></th>\n",
       "      <th>speaker</th>\n",
       "      <th>discipline</th>\n",
       "      <th>description</th>\n",
       "      <th>why</th>\n",
       "    </tr>\n",
       "  </thead>\n",
       "  <tbody>\n",
       "    <tr>\n",
       "      <th>0</th>\n",
       "      <td>Alwar Balasubramaniam</td>\n",
       "      <td>Artist</td>\n",
       "      <td>Sculptor, painter and printmaker Alwar Balasub...</td>\n",
       "      <td>Why you should listen\\nAlwar Balasubramaniam's...</td>\n",
       "    </tr>\n",
       "    <tr>\n",
       "      <th>1</th>\n",
       "      <td>AJ Jacobs</td>\n",
       "      <td>Author</td>\n",
       "      <td>Immersing himself in alternate lifestyles and ...</td>\n",
       "      <td>Why you should listen\\nAJ Jacobs' writings sta...</td>\n",
       "    </tr>\n",
       "    <tr>\n",
       "      <th>2</th>\n",
       "      <td>Aakash Odedra</td>\n",
       "      <td>Choreographer</td>\n",
       "      <td>Aakash Odedra sets raw ancient dance forms fro...</td>\n",
       "      <td>Why you should listen\\nBased in the UK with a ...</td>\n",
       "    </tr>\n",
       "    <tr>\n",
       "      <th>3</th>\n",
       "      <td>Aaron Huey</td>\n",
       "      <td>Photographer</td>\n",
       "      <td>Photographer, adventurer and storyteller Aaron...</td>\n",
       "      <td>Why you should listen\\nAaron Huey is a masthea...</td>\n",
       "    </tr>\n",
       "    <tr>\n",
       "      <th>4</th>\n",
       "      <td>Aaron Koblin</td>\n",
       "      <td>Data artist</td>\n",
       "      <td>Aaron Koblin is an artist specializing in data...</td>\n",
       "      <td>Why you should listen\\nAaron Koblin finds art ...</td>\n",
       "    </tr>\n",
       "  </tbody>\n",
       "</table>\n",
       "</div>"
      ],
      "text/plain": [
       "                 speaker     discipline  \\\n",
       "0  Alwar Balasubramaniam         Artist   \n",
       "1              AJ Jacobs         Author   \n",
       "2          Aakash Odedra  Choreographer   \n",
       "3             Aaron Huey   Photographer   \n",
       "4           Aaron Koblin    Data artist   \n",
       "\n",
       "                                         description  \\\n",
       "0  Sculptor, painter and printmaker Alwar Balasub...   \n",
       "1  Immersing himself in alternate lifestyles and ...   \n",
       "2  Aakash Odedra sets raw ancient dance forms fro...   \n",
       "3  Photographer, adventurer and storyteller Aaron...   \n",
       "4  Aaron Koblin is an artist specializing in data...   \n",
       "\n",
       "                                                 why  \n",
       "0  Why you should listen\\nAlwar Balasubramaniam's...  \n",
       "1  Why you should listen\\nAJ Jacobs' writings sta...  \n",
       "2  Why you should listen\\nBased in the UK with a ...  \n",
       "3  Why you should listen\\nAaron Huey is a masthea...  \n",
       "4  Why you should listen\\nAaron Koblin finds art ...  "
      ]
     },
     "execution_count": 2,
     "metadata": {},
     "output_type": "execute_result"
    }
   ],
   "source": [
    "df.head()"
   ]
  },
  {
   "cell_type": "code",
   "execution_count": null,
   "metadata": {
    "collapsed": true
   },
   "outputs": [],
   "source": [
    "\n",
    "female = [\"she\", \"her\", \"hers\"]\n",
    "male = [\"he\", \"him\", \"his\"]\n",
    "\n",
    "# pseudocode\n",
    "\n",
    "if one of the items in female is in the column: \n",
    "    put an F in the gender column"
   ]
  }
 ],
 "metadata": {
  "kernelspec": {
   "display_name": "Python 3",
   "language": "python",
   "name": "python3"
  },
  "language_info": {
   "codemirror_mode": {
    "name": "ipython",
    "version": 3
   },
   "file_extension": ".py",
   "mimetype": "text/x-python",
   "name": "python",
   "nbconvert_exporter": "python",
   "pygments_lexer": "ipython3",
   "version": "3.4.6"
  }
 },
 "nbformat": 4,
 "nbformat_minor": 2
}
