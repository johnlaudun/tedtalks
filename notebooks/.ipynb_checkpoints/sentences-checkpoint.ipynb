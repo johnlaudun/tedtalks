{
 "cells": [
  {
   "cell_type": "markdown",
   "metadata": {},
   "source": [
    "The goal of this notebook is to establish the utility of the NLTK's sentence tokenizer for use in our current work. A particular concern is the possible effect that \"Dr.\" and other abbreviations might have in returning false positives: sentences that are not, in fact sentences. "
   ]
  },
  {
   "cell_type": "markdown",
   "metadata": {},
   "source": [
    "As always, the first thing we need to do is load our data. Here I'm using version **6d**. (I'm reverting to 6d because I don't need the overall valence for each talk, and it looks like the first talk by Al Gore got dropped in **6e**.)\n",
    "\n",
    "In the code below, `header=0` tells pandas to use the first row in the CSV as the header row. If you run `df.head()`, you will see that the index saved to the CSV gets re-imported as an unnamed column. (I haven't figured out how to keep this from happening, or, once it has, how to make pandas ignore the first column on import.)"
   ]
  },
  {
   "cell_type": "code",
   "execution_count": 1,
   "metadata": {
    "collapsed": true
   },
   "outputs": [],
   "source": [
    "import pandas\n",
    "\n",
    "df = pandas.read_csv('../data/talks_6d.csv', header = 0)\n",
    "talks = df.text.tolist()"
   ]
  },
  {
   "cell_type": "markdown",
   "metadata": {},
   "source": [
    "All the talks are now in a list, as usual. I am also going to create a text to test the NLTK tokenizer."
   ]
  },
  {
   "cell_type": "code",
   "execution_count": 2,
   "metadata": {
    "collapsed": true
   },
   "outputs": [],
   "source": [
    "test = \"\"\"\n",
    "Mrs. Brown loves chocolate. \n",
    "When she heard the news that Donald Trump has been \n",
    "elected president. She ate an entire plate of brownies. \n",
    "She doesn't feel the same way about chocolate.\"\"\""
   ]
  },
  {
   "cell_type": "code",
   "execution_count": 3,
   "metadata": {},
   "outputs": [
    {
     "name": "stdout",
     "output_type": "stream",
     "text": [
      " Mrs. Brown loves chocolate.  When she heard the news that Donald Trump has been  elected president. She ate an entire plate of brownies.  She doesn't feel the same way about chocolate.\n"
     ]
    }
   ],
   "source": [
    "test = test.replace('\\n', ' ').replace('\\r', '')\n",
    "print(test)\n",
    "\n",
    "# From https://stackoverflow.com/questions/16566268/remove-all-line-breaks-from-a-long-string-of-text"
   ]
  },
  {
   "cell_type": "code",
   "execution_count": 4,
   "metadata": {},
   "outputs": [
    {
     "name": "stdout",
     "output_type": "stream",
     "text": [
      "4 [' Mrs. Brown loves chocolate.', 'When she heard the news that Donald Trump has been  elected president.', 'She ate an entire plate of brownies.', \"She doesn't feel the same way about chocolate.\"]\n"
     ]
    }
   ],
   "source": [
    "from nltk import tokenize\n",
    "\n",
    "test_sent = tokenize.sent_tokenize(test)\n",
    "print(len(test_sent), test_sent)"
   ]
  },
  {
   "cell_type": "markdown",
   "metadata": {},
   "source": [
    "Success! The abbreviation does not generate its own sentence. "
   ]
  },
  {
   "cell_type": "markdown",
   "metadata": {},
   "source": [
    "Now you want five talks converted into a list of strings, each string a sentence. **>>>** I had some difficulties with this: see the two code blocks at the end of this notebook for what I started and you can see where I ran into difficulties. Until then, I can offer some code blocks that work on a given set of texts..."
   ]
  },
  {
   "cell_type": "markdown",
   "metadata": {},
   "source": [
    "For reference, when I've done sentiment analysis -- I've used Afinn, TextBlob, and the Indico libraries, I have used the following code. It returns the sentiment values as a list for each text -- a list as long as the number of sentences."
   ]
  },
  {
   "cell_type": "code",
   "execution_count": null,
   "metadata": {
    "collapsed": true
   },
   "outputs": [],
   "source": [
    "# Using Afinn here. Just replace Afinn code with hedonometer code\n",
    "def sentiment(text):\n",
    "    from afinn import Afinn\n",
    "    afinn = Afinn()\n",
    "    sentences = tokenize.sent_tokenize(text)\n",
    "    sentiments = []\n",
    "    for sentence in sentences:\n",
    "        sentsent = afinn.score(sentence)\n",
    "        sentiments.append(sentsent)\n",
    "    return sentiments"
   ]
  },
  {
   "cell_type": "code",
   "execution_count": null,
   "metadata": {
    "collapsed": true
   },
   "outputs": [],
   "source": [
    "# Here I rewrote the \"for\" loop as a list comprehension:\n",
    "def sentiment_2(text):\n",
    "    from afinn import Afinn\n",
    "    afinn = Afinn()\n",
    "    sentences = tokenize.sent_tokenize(text)\n",
    "    sentiments = [ afinn.score(sentence) for sentence in sentences]\n",
    "    return sentiments"
   ]
  },
  {
   "cell_type": "code",
   "execution_count": null,
   "metadata": {},
   "outputs": [],
   "source": [
    "sentiment(talks[0]) == sentiment_2(talks[0])"
   ]
  },
  {
   "cell_type": "code",
   "execution_count": null,
   "metadata": {},
   "outputs": [],
   "source": [
    "# Proof of concept: using print here to make the output easier to read\n",
    "print(sentiment(talks[0]))"
   ]
  },
  {
   "cell_type": "markdown",
   "metadata": {},
   "source": [
    "To get the values for the first 5 talks from the dataframe, but which are now sitting in the `talks` list, I would just use a for loop and the version of the function you have. "
   ]
  },
  {
   "cell_type": "code",
   "execution_count": null,
   "metadata": {
    "scrolled": false
   },
   "outputs": [],
   "source": [
    "for talk in talks[0:5]:\n",
    "    print(sentiment(talk))"
   ]
  },
  {
   "cell_type": "code",
   "execution_count": null,
   "metadata": {
    "scrolled": true
   },
   "outputs": [],
   "source": [
    "import csv\n",
    "\n",
    "with open('../data/sentenized_talks.csv', 'wb') as f:\n",
    "    wr = csv.writer(f)\n",
    "    wr.writerows([tokenize.sent_tokenize(talk) for talk in talks[0:5]])"
   ]
  },
  {
   "cell_type": "code",
   "execution_count": null,
   "metadata": {},
   "outputs": [],
   "source": [
    "sentenced = [ tokenize.sent_tokenize(talk) for talk in talks[0:5]]\n",
    "print(len(sentenced), type(sentenced))"
   ]
  }
 ],
 "metadata": {
  "kernelspec": {
   "display_name": "Python 3",
   "language": "python",
   "name": "python3"
  },
  "language_info": {
   "codemirror_mode": {
    "name": "ipython",
    "version": 3
   },
   "file_extension": ".py",
   "mimetype": "text/x-python",
   "name": "python",
   "nbconvert_exporter": "python",
   "pygments_lexer": "ipython3",
   "version": "3.4.6"
  }
 },
 "nbformat": 4,
 "nbformat_minor": 2
}
