{
 "cells": [
  {
   "cell_type": "code",
   "execution_count": 2,
   "metadata": {
    "collapsed": true
   },
   "outputs": [],
   "source": [
    "import sys, os\n",
    "from labMTsimple.storyLab import *\n",
    "import codecs ## handle utf8\n",
    "\n",
    "import pandas as pd\n",
    "import numpy as np\n",
    "\n",
    "out_dir = '../data/hedonometer/'"
   ]
  },
  {
   "cell_type": "code",
   "execution_count": 3,
   "metadata": {
    "collapsed": true
   },
   "outputs": [],
   "source": [
    "all_talks = pd.read_csv('../data/talks_6d.csv')\n",
    "just_text = all_talks.loc[:,\"text\"]\n",
    "just_dates = all_talks.loc[:,\"numDate\"]\n",
    "\n",
    "dates_text = pd.concat([just_dates,just_text], axis = 1)\n",
    "dt_sort = dates_text.sort_values(\"numDate\", kind=\"mergesort\")\n",
    "\n",
    "num_talks = dt_sort.shape[0]"
   ]
  },
  {
   "cell_type": "code",
   "execution_count": 4,
   "metadata": {
    "collapsed": true
   },
   "outputs": [],
   "source": [
    "#last_date = dt_sort.loc[:,\"numDate\"].max()"
   ]
  },
  {
   "cell_type": "code",
   "execution_count": 23,
   "metadata": {
    "collapsed": true
   },
   "outputs": [],
   "source": [
    "# Initialize both CURR_DATE and MONTH_TEXT\n",
    "curr_date = dt_sort.loc[:,\"numDate\"].min()\n",
    "month_text = \" \"\n",
    "year_list = [\" \", \" \", \" \",\" \", \" \", \" \",\" \", \" \", \" \",\" \", \" \", \" \"]\n",
    "\n",
    "# loop over each talk and extract the date\n",
    "for i in range(num_talks):\n",
    "    curr_row = dt_sort[i:i+1]\n",
    "    inds = curr_row.index.values.astype(int)[0]\n",
    "    out_date = curr_row.loc[inds,\"numDate\"]\n",
    "    \n",
    "    # If the date is the same as the current date, then extract\n",
    "    # and add the text to the monthly text\n",
    "    if out_date <= curr_date:\n",
    "        month_text = month_text + \" \" + curr_row.loc[inds,\"text\"]\n",
    "    \n",
    "    else:\n",
    "        # If the date is the greater than the current date, then\n",
    "        # save the last's monthly text.\n",
    "        mfname = out_dir + \"month\" + str(curr_date) + \".txt\"\n",
    "        mf = open(mfname,'w')\n",
    "        mf.write(month_text)\n",
    "        mf.close()\n",
    "        \n",
    "        # Join one year of text into one string and then save that\n",
    "        # text in a new file. \n",
    "        year_text = \" \".join(year_list)\n",
    "        \n",
    "        mfyear = out_dir + \"prevYear\" + str(curr_date) + \".txt\"\n",
    "        mfy = open(mfyear,\"w\")\n",
    "        mfy.write(year_text)\n",
    "        mfy.close()\n",
    "        \n",
    "        # Edit the year list, removing the first month of text and\n",
    "        # then add the most recently saved month. \n",
    "        year_list.pop(0)\n",
    "        year_list.append(month_text)\n",
    "        \n",
    "        # Once you have saved each part, then clear the monthly \n",
    "        # text. Next update the current date and start a new \n",
    "        # monthly text with this row's extracted text.\n",
    "        curr_date = out_date\n",
    "        month_text = \" \"\n",
    "        month_text = curr_row.loc[inds,\"text\"]"
   ]
  },
  {
   "cell_type": "code",
   "execution_count": 25,
   "metadata": {
    "collapsed": true
   },
   "outputs": [],
   "source": []
  },
  {
   "cell_type": "code",
   "execution_count": 27,
   "metadata": {
    "collapsed": true
   },
   "outputs": [],
   "source": [
    "#curr_row\n",
    "#curr_row = dt_sort[0:15]\n",
    "#out_text = curr_row.loc[0,\"text\"]\n",
    "#filename = out_dir + \"month\" + str(curr_date) + \".txt\""
   ]
  },
  {
   "cell_type": "code",
   "execution_count": null,
   "metadata": {
    "collapsed": true
   },
   "outputs": [],
   "source": [
    "'''month_text = \"\"\n",
    "for i in range(num_talks):\n",
    "    curr_row = dt_sort[i:i-1]\n",
    "    out_date = curr_row.loc[0,\"numDate\"]\n",
    "    if out_date <= curr_date:\n",
    "        month_text = month_text + \" \" + curr_row.loc[0,\"text\"]\n",
    "    else:\n",
    "        curr_date = out_date\n",
    "        month_text = curr_row.loc[0,\"text\"]\n",
    "'''"
   ]
  }
 ],
 "metadata": {
  "kernelspec": {
   "display_name": "Python 3",
   "language": "python",
   "name": "python3"
  },
  "language_info": {
   "codemirror_mode": {
    "name": "ipython",
    "version": 3
   },
   "file_extension": ".py",
   "mimetype": "text/x-python",
   "name": "python",
   "nbconvert_exporter": "python",
   "pygments_lexer": "ipython3",
   "version": "3.6.3"
  }
 },
 "nbformat": 4,
 "nbformat_minor": 2
}
