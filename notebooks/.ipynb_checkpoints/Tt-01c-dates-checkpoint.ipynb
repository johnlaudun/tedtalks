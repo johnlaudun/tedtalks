{
 "cells": [
  {
   "cell_type": "code",
   "execution_count": 1,
   "metadata": {},
   "outputs": [
    {
     "name": "stdout",
     "output_type": "stream",
     "text": [
      "2006 50\n",
      "2007 111\n",
      "2008 177\n",
      "2009 211\n",
      "2010 227\n",
      "2011 237\n",
      "2012 268\n",
      "2013 238\n",
      "2014 240\n",
      "2015 214\n",
      "2016 95\n"
     ]
    }
   ],
   "source": [
    "import pandas\n",
    "\n",
    "# =-=-=-=-=-=\n",
    "# Read CSV into DataFrame and then create lists\n",
    "# =-=-=-=-=-=\n",
    "\n",
    "# Create pandas dataframe\n",
    "colnames = ['index','citation','author','gender','title','date','length','text','occupation','numDate']\n",
    "df = pandas.read_csv('../data/talks_6d.csv', names=colnames)\n",
    "\n",
    "dates = df.numDate.tolist()\n",
    "\n",
    "# The name of the list is at the start, so we need to pop it:\n",
    "dates.pop(0)\n",
    "\n",
    "# This function returns a count for the number of talks in a given year\n",
    "def year_count(thelist, year):\n",
    "    fxn_list = []\n",
    "    minimum = year * 100\n",
    "    maximum = minimum + 100\n",
    "    for item in thelist:\n",
    "        if int(item) > minimum and int(item) < maximum:\n",
    "            fxn_list.append(item)\n",
    "    return(len(fxn_list))        \n",
    "\n",
    "years = range(2006,2017)\n",
    "for year in years:\n",
    "    print(year, year_count(dates,year))"
   ]
  }
 ],
 "metadata": {
  "kernelspec": {
   "display_name": "Python 3",
   "language": "python",
   "name": "python3"
  },
  "language_info": {
   "codemirror_mode": {
    "name": "ipython",
    "version": 3
   },
   "file_extension": ".py",
   "mimetype": "text/x-python",
   "name": "python",
   "nbconvert_exporter": "python",
   "pygments_lexer": "ipython3",
   "version": "3.4.7"
  }
 },
 "nbformat": 4,
 "nbformat_minor": 2
}
