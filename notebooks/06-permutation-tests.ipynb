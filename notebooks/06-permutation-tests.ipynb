{
 "cells": [
  {
   "cell_type": "markdown",
   "id": "867ffc27",
   "metadata": {},
   "source": [
    "Following [here](https://statsthinking21.github.io/statsthinking21-python/08-HypothesisTesting.html)\n",
    "\n",
    "[Other reference](https://numpy.org/doc/stable/reference/random/generated/numpy.random.choice.html)"
   ]
  },
  {
   "cell_type": "code",
   "execution_count": 2,
   "id": "5d9187a8",
   "metadata": {},
   "outputs": [],
   "source": [
    "# Import packages\n",
    "\n",
    "import numpy as np\n",
    "import pandas as pd\n",
    "import scipy.stats as sds\n",
    "import matplotlib.pyplot as plt"
   ]
  },
  {
   "cell_type": "code",
   "execution_count": 3,
   "id": "fc3d4642",
   "metadata": {},
   "outputs": [],
   "source": [
    "# Import talk data\n",
    "\n",
    "# Load binary gendered talks \n",
    "talks_male = pd.read_csv('talks_male.csv', index_col='Talk_ID')\n",
    "talks_female = pd.read_csv('talks_female.csv', index_col='Talk_ID')\n",
    "\n",
    "# No one gender ==> NOG\n",
    "talks_nog = pd.read_csv('talks_nog.csv', index_col='Talk_ID')\n",
    "\n",
    "# Concatenate the talk data\n",
    "all_talks = pd.concat([talks_male,talks_female,talks_nog])"
   ]
  },
  {
   "cell_type": "code",
   "execution_count": 4,
   "id": "0094ed2f",
   "metadata": {},
   "outputs": [],
   "source": [
    "# Import speaker data\n",
    "\n",
    "speakers = pd.read_csv('speakers_with_gender.csv', index_col='speaker')"
   ]
  },
  {
   "cell_type": "code",
   "execution_count": 5,
   "id": "0abf3eca",
   "metadata": {},
   "outputs": [],
   "source": [
    "# Create list of events\n",
    "\n",
    "events = list(all_talks['event'].unique())\n",
    "events.sort()\n",
    "\n",
    "cut_inds = events.index(\"TED2002\")\n",
    "events2test = events[cut_inds:]\n",
    "\n",
    "## Ref: https://www.w3schools.com/python/ref_list_sort.asp\n",
    "## Ref: https://www.programiz.com/python-programming/methods/list/index"
   ]
  },
  {
   "cell_type": "code",
   "execution_count": 6,
   "id": "a40a6ba5",
   "metadata": {},
   "outputs": [],
   "source": [
    "def check_event(event_or_year):\n",
    "    \n",
    "    #Check if year is in list: \n",
    "    if str(event_or_year)[0] == 'T':\n",
    "        event_name = event_or_year\n",
    "    else: \n",
    "        event_name = 'TED' + str(event_or_year)\n",
    "        \n",
    "    assert (event_name in events), \"There are no talks in our database from the requested year\"\n",
    "    \n",
    "    return event_name\n",
    "\n",
    "def extract_talks_by_event(event_or_year):\n",
    "    \n",
    "    event_name = check_event(event_or_year)\n",
    "    event_talks = all_talks[all_talks['event'] == event_name]\n",
    "    \n",
    "    return event_talks\n",
    "\n",
    "def extract_speakers_event(event_or_year):\n",
    "    \n",
    "    event_talk_array = extract_talks_by_event(event_or_year)\n",
    "    event_speakers = event_talk_array[['speaker_1', 'speaker_2', 'speaker_3', 'speaker_4']]\n",
    "    \n",
    "    speaker_list = []\n",
    "    \n",
    "    for role in ['speaker_1', 'speaker_2', 'speaker_3', 'speaker_4']:\n",
    "        event_speakers = event_talk_array[role].dropna()\n",
    "        event_speakers = event_speakers.unique()\n",
    "        speaker_list.extend(list(event_speakers))\n",
    "        \n",
    "    speaker_pd = pd.Series(speaker_list)\n",
    "    speaker_pd = speaker_pd.unique()\n",
    "    \n",
    "    speaker_year = list(speaker_pd)\n",
    "    ## Ref: https://pandas.pydata.org/docs/reference/api/pandas.DataFrame.dropna.html\n",
    "    \n",
    "    return speaker_year\n",
    "    \n",
    "    \n",
    "def prop_women_by_event(event_or_year):\n",
    "    \n",
    "    speaker_year = extract_speakers_event(event_or_year)\n",
    "    \n",
    "    gender_year = speakers.loc[speaker_year]\n",
    "    gender_counts = gender_year.groupby([\"Gender_handcheck\"])[\"Gender_handcheck\"].count()\n",
    "    ## Ref: https://sparkbyexamples.com/pandas/pandas-groupby-count-examples/\n",
    "    \n",
    "    genders = list(gender_counts.index)\n",
    "    if 'female' in genders: \n",
    "        total_single_speaker = gender_counts[\"male\"] + gender_counts[\"female\"]\n",
    "        # Excluding groups of speakers (like a band or troupe)\n",
    "        prop_women_single = gender_counts[\"female\"]/total_single_speaker\n",
    "    else: \n",
    "        total_single_speaker = gender_counts[\"male\"]\n",
    "        prop_women_single = 0.0\n",
    "    \n",
    "    return prop_women_single, total_single_speaker\n",
    "\n",
    "## Need to edit so that it can handle no women"
   ]
  },
  {
   "cell_type": "code",
   "execution_count": 7,
   "id": "c510b962",
   "metadata": {},
   "outputs": [],
   "source": [
    "#Write function to loop over all the events. \n",
    "\n",
    "def all_events_prop(event_list):\n",
    "    \n",
    "    # preallocate the dataframe\n",
    "    df_prop_w = pd.DataFrame(columns=['prop_w', 'Num_talks'], index=event_list)\n",
    "    \n",
    "    for event in event_list:\n",
    "        df_prop_w.loc[event] = list(prop_women_by_event(event))\n",
    "    \n",
    "    return df_prop_w\n",
    "## Ref: https://thispointer.com/pandas-how-to-create-an-empty-dataframe-and-append-rows-columns-to-it-in-python/\n",
    "    "
   ]
  },
  {
   "cell_type": "code",
   "execution_count": 8,
   "id": "dce95055",
   "metadata": {},
   "outputs": [],
   "source": [
    "# Create the sampling distributions\n",
    "\n",
    "## Ref: https://statsthinking21.github.io/statsthinking21-python/08-HypothesisTesting.html\n",
    "\n",
    "def generate_one_sample_prop(num_sample = 100, null_prop = 0.5):\n",
    "    \n",
    "    samp = np.random.rand(num_sample) > (1 - null_prop)\n",
    "    return np.sum(samp)/num_sample\n",
    "\n",
    "def generate_sampling_dist(num_runs = 5000, num_sample = 100, null_prop = 0.5):\n",
    "    \n",
    "    sampling_dist_df = pd.DataFrame({'props': np.zeros(num_runs)})\n",
    "    \n",
    "    for i in range(num_runs):\n",
    "        sampling_dist_df.loc[i, 'props'] = generate_one_sample_prop(num_sample, null_prop)\n",
    "        \n",
    "    return sampling_dist_df\n",
    "\n"
   ]
  },
  {
   "cell_type": "code",
   "execution_count": 9,
   "id": "5c142e59",
   "metadata": {},
   "outputs": [],
   "source": [
    "# Do the HT\n",
    "\n",
    "## Ref: https://statsthinking21.github.io/statsthinking21-python/08-HypothesisTesting.html\n",
    "\n",
    "def compute_p_val(obs_stat, null_prop = 0.5, H_a = \"two-way\", n = 100, num_runs = 5000, null_dist = False):\n",
    "    \n",
    "    if n < 10:\n",
    "        return float(\"nan\")\n",
    "    \n",
    "    if ~null_dist:\n",
    "        null_dist = generate_sampling_dist(num_runs, n, null_prop)\n",
    "    \n",
    "    denom = null_dist.shape[0]\n",
    "    if H_a == \"less than\":\n",
    "        p_val = sum(null_dist[\"props\"] < obs_stat)\n",
    "        \n",
    "    elif H_a == \"greater than\":\n",
    "        p_val = sum(null_dist[\"props\"] > obs_stat)\n",
    "        \n",
    "    elif H_a == \"two-way\":\n",
    "        mirror_val = 2*null_prop - obs_stat\n",
    "        if obs_stat > null_prop:\n",
    "            left = sum(null_dist[\"props\"] < mirror_val)\n",
    "            right = sum(null_dist[\"props\"] > obs_stat)\n",
    "        elif obs_stat < null_prop:\n",
    "            right = sum(null_dist[\"props\"] > mirror_val)\n",
    "            left = sum(null_dist[\"props\"] < obs_stat)\n",
    "        p_val = right + left\n",
    "    \n",
    "    return p_val/denom, null_dist"
   ]
  },
  {
   "cell_type": "code",
   "execution_count": 24,
   "id": "3fe55667",
   "metadata": {},
   "outputs": [],
   "source": [
    "def compute_pval_all_events(event_df, null_prop_list = None, H_a = \"two-way\", num_runs = 1000):\n",
    "    \n",
    "    # Grab each row and run COMPUTE_P_VAL\n",
    "    event_pval = event_df.copy()\n",
    "    \n",
    "    if null_prop_list == None:\n",
    "        event_pval[\"null_prop\"] = 0.5\n",
    "    else:\n",
    "        event_pval[\"null_prop\"] = null_prop_list\n",
    "    \n",
    "    event_pval[\"p_val\"] = event_pval.apply(lambda x: compute_p_val(x[\"prop_w\"], \\\n",
    "                                                                   null_prop = x[\"null_prop\"], \\\n",
    "                                                                   H_a = H_a, num_runs = num_runs, \\\n",
    "                                                                   n = x[\"Num_talks\"])[0], axis = 1)\n",
    "    return event_pval\n",
    "## Ref: https://www.stackvidhya.com/add-column-to-dataframe/"
   ]
  },
  {
   "cell_type": "code",
   "execution_count": 28,
   "id": "5eab7ccb",
   "metadata": {},
   "outputs": [],
   "source": [
    "# Create the visualizations \n",
    "\n",
    "def make_plot(null_dist, prop_women, null_prop = 0.5, H_a = \"two-way\"):\n",
    "    \n",
    "    # Create visualization for the sampling distribution\n",
    "    bins = np.linspace(0,1,60)\n",
    "    plt.hist(null_dist, bins, density=False, alpha=0.5, label = \"sampling dist\")\n",
    "    \n",
    "    # Mark the sample proportion\n",
    "    plt.plot(prop_women, 1, 'o', color = 'k')\n",
    "    \n",
    "    # Add annotations for the plots\n",
    "    plt.axvline(x=prop_women, ymin=0, color='red', linestyle='dotted', linewidth=1)\n",
    "    if H_a == \"two-way\":\n",
    "        mirror_val = 2*null_prop-prop_women\n",
    "        plt.axvline(x=mirror_val, ymin=0, color='blue', linestyle='dotted', linewidth=1)\n",
    "    \n",
    "    plt.show()"
   ]
  },
  {
   "cell_type": "code",
   "execution_count": 17,
   "id": "6266c4e9",
   "metadata": {},
   "outputs": [],
   "source": [
    "event_df = all_events_prop(events2test)"
   ]
  },
  {
   "cell_type": "code",
   "execution_count": 18,
   "id": "48daa218",
   "metadata": {},
   "outputs": [
    {
     "data": {
      "text/html": [
       "<div>\n",
       "<style scoped>\n",
       "    .dataframe tbody tr th:only-of-type {\n",
       "        vertical-align: middle;\n",
       "    }\n",
       "\n",
       "    .dataframe tbody tr th {\n",
       "        vertical-align: top;\n",
       "    }\n",
       "\n",
       "    .dataframe thead th {\n",
       "        text-align: right;\n",
       "    }\n",
       "</style>\n",
       "<table border=\"1\" class=\"dataframe\">\n",
       "  <thead>\n",
       "    <tr style=\"text-align: right;\">\n",
       "      <th></th>\n",
       "      <th>prop_w</th>\n",
       "      <th>Num_talks</th>\n",
       "    </tr>\n",
       "  </thead>\n",
       "  <tbody>\n",
       "    <tr>\n",
       "      <th>TED2002</th>\n",
       "      <td>0.185185</td>\n",
       "      <td>27</td>\n",
       "    </tr>\n",
       "    <tr>\n",
       "      <th>TED2003</th>\n",
       "      <td>0.1875</td>\n",
       "      <td>32</td>\n",
       "    </tr>\n",
       "    <tr>\n",
       "      <th>TED2004</th>\n",
       "      <td>0.21875</td>\n",
       "      <td>32</td>\n",
       "    </tr>\n",
       "    <tr>\n",
       "      <th>TED2005</th>\n",
       "      <td>0.135135</td>\n",
       "      <td>37</td>\n",
       "    </tr>\n",
       "    <tr>\n",
       "      <th>TED2006</th>\n",
       "      <td>0.232558</td>\n",
       "      <td>43</td>\n",
       "    </tr>\n",
       "    <tr>\n",
       "      <th>TED2007</th>\n",
       "      <td>0.230769</td>\n",
       "      <td>65</td>\n",
       "    </tr>\n",
       "    <tr>\n",
       "      <th>TED2008</th>\n",
       "      <td>0.22807</td>\n",
       "      <td>57</td>\n",
       "    </tr>\n",
       "    <tr>\n",
       "      <th>TED2009</th>\n",
       "      <td>0.246914</td>\n",
       "      <td>81</td>\n",
       "    </tr>\n",
       "    <tr>\n",
       "      <th>TED2010</th>\n",
       "      <td>0.223881</td>\n",
       "      <td>67</td>\n",
       "    </tr>\n",
       "    <tr>\n",
       "      <th>TED2011</th>\n",
       "      <td>0.211268</td>\n",
       "      <td>71</td>\n",
       "    </tr>\n",
       "    <tr>\n",
       "      <th>TED2012</th>\n",
       "      <td>0.269841</td>\n",
       "      <td>63</td>\n",
       "    </tr>\n",
       "    <tr>\n",
       "      <th>TED2013</th>\n",
       "      <td>0.2625</td>\n",
       "      <td>80</td>\n",
       "    </tr>\n",
       "    <tr>\n",
       "      <th>TED2014</th>\n",
       "      <td>0.27907</td>\n",
       "      <td>86</td>\n",
       "    </tr>\n",
       "    <tr>\n",
       "      <th>TED2015</th>\n",
       "      <td>0.36</td>\n",
       "      <td>75</td>\n",
       "    </tr>\n",
       "    <tr>\n",
       "      <th>TED2016</th>\n",
       "      <td>0.36</td>\n",
       "      <td>75</td>\n",
       "    </tr>\n",
       "    <tr>\n",
       "      <th>TED2017</th>\n",
       "      <td>0.414894</td>\n",
       "      <td>94</td>\n",
       "    </tr>\n",
       "  </tbody>\n",
       "</table>\n",
       "</div>"
      ],
      "text/plain": [
       "           prop_w Num_talks\n",
       "TED2002  0.185185        27\n",
       "TED2003    0.1875        32\n",
       "TED2004   0.21875        32\n",
       "TED2005  0.135135        37\n",
       "TED2006  0.232558        43\n",
       "TED2007  0.230769        65\n",
       "TED2008   0.22807        57\n",
       "TED2009  0.246914        81\n",
       "TED2010  0.223881        67\n",
       "TED2011  0.211268        71\n",
       "TED2012  0.269841        63\n",
       "TED2013    0.2625        80\n",
       "TED2014   0.27907        86\n",
       "TED2015      0.36        75\n",
       "TED2016      0.36        75\n",
       "TED2017  0.414894        94"
      ]
     },
     "execution_count": 18,
     "metadata": {},
     "output_type": "execute_result"
    }
   ],
   "source": [
    "event_df"
   ]
  },
  {
   "cell_type": "code",
   "execution_count": 16,
   "id": "f321dac9",
   "metadata": {},
   "outputs": [
    {
     "data": {
      "text/html": [
       "<div>\n",
       "<style scoped>\n",
       "    .dataframe tbody tr th:only-of-type {\n",
       "        vertical-align: middle;\n",
       "    }\n",
       "\n",
       "    .dataframe tbody tr th {\n",
       "        vertical-align: top;\n",
       "    }\n",
       "\n",
       "    .dataframe thead th {\n",
       "        text-align: right;\n",
       "    }\n",
       "</style>\n",
       "<table border=\"1\" class=\"dataframe\">\n",
       "  <thead>\n",
       "    <tr style=\"text-align: right;\">\n",
       "      <th></th>\n",
       "      <th>prop_w</th>\n",
       "      <th>Num_talks</th>\n",
       "      <th>null_prop</th>\n",
       "    </tr>\n",
       "  </thead>\n",
       "  <tbody>\n",
       "    <tr>\n",
       "      <th>TED2002</th>\n",
       "      <td>0.185185</td>\n",
       "      <td>27</td>\n",
       "      <td>0</td>\n",
       "    </tr>\n",
       "    <tr>\n",
       "      <th>TED2003</th>\n",
       "      <td>0.1875</td>\n",
       "      <td>32</td>\n",
       "      <td>1</td>\n",
       "    </tr>\n",
       "    <tr>\n",
       "      <th>TED2004</th>\n",
       "      <td>0.21875</td>\n",
       "      <td>32</td>\n",
       "      <td>2</td>\n",
       "    </tr>\n",
       "    <tr>\n",
       "      <th>TED2005</th>\n",
       "      <td>0.135135</td>\n",
       "      <td>37</td>\n",
       "      <td>3</td>\n",
       "    </tr>\n",
       "    <tr>\n",
       "      <th>TED2006</th>\n",
       "      <td>0.232558</td>\n",
       "      <td>43</td>\n",
       "      <td>4</td>\n",
       "    </tr>\n",
       "    <tr>\n",
       "      <th>TED2007</th>\n",
       "      <td>0.230769</td>\n",
       "      <td>65</td>\n",
       "      <td>5</td>\n",
       "    </tr>\n",
       "    <tr>\n",
       "      <th>TED2008</th>\n",
       "      <td>0.22807</td>\n",
       "      <td>57</td>\n",
       "      <td>6</td>\n",
       "    </tr>\n",
       "    <tr>\n",
       "      <th>TED2009</th>\n",
       "      <td>0.246914</td>\n",
       "      <td>81</td>\n",
       "      <td>7</td>\n",
       "    </tr>\n",
       "    <tr>\n",
       "      <th>TED2010</th>\n",
       "      <td>0.223881</td>\n",
       "      <td>67</td>\n",
       "      <td>8</td>\n",
       "    </tr>\n",
       "    <tr>\n",
       "      <th>TED2011</th>\n",
       "      <td>0.211268</td>\n",
       "      <td>71</td>\n",
       "      <td>9</td>\n",
       "    </tr>\n",
       "    <tr>\n",
       "      <th>TED2012</th>\n",
       "      <td>0.269841</td>\n",
       "      <td>63</td>\n",
       "      <td>10</td>\n",
       "    </tr>\n",
       "    <tr>\n",
       "      <th>TED2013</th>\n",
       "      <td>0.2625</td>\n",
       "      <td>80</td>\n",
       "      <td>11</td>\n",
       "    </tr>\n",
       "    <tr>\n",
       "      <th>TED2014</th>\n",
       "      <td>0.27907</td>\n",
       "      <td>86</td>\n",
       "      <td>12</td>\n",
       "    </tr>\n",
       "    <tr>\n",
       "      <th>TED2015</th>\n",
       "      <td>0.36</td>\n",
       "      <td>75</td>\n",
       "      <td>13</td>\n",
       "    </tr>\n",
       "    <tr>\n",
       "      <th>TED2016</th>\n",
       "      <td>0.36</td>\n",
       "      <td>75</td>\n",
       "      <td>14</td>\n",
       "    </tr>\n",
       "    <tr>\n",
       "      <th>TED2017</th>\n",
       "      <td>0.414894</td>\n",
       "      <td>94</td>\n",
       "      <td>15</td>\n",
       "    </tr>\n",
       "  </tbody>\n",
       "</table>\n",
       "</div>"
      ],
      "text/plain": [
       "           prop_w Num_talks  null_prop\n",
       "TED2002  0.185185        27          0\n",
       "TED2003    0.1875        32          1\n",
       "TED2004   0.21875        32          2\n",
       "TED2005  0.135135        37          3\n",
       "TED2006  0.232558        43          4\n",
       "TED2007  0.230769        65          5\n",
       "TED2008   0.22807        57          6\n",
       "TED2009  0.246914        81          7\n",
       "TED2010  0.223881        67          8\n",
       "TED2011  0.211268        71          9\n",
       "TED2012  0.269841        63         10\n",
       "TED2013    0.2625        80         11\n",
       "TED2014   0.27907        86         12\n",
       "TED2015      0.36        75         13\n",
       "TED2016      0.36        75         14\n",
       "TED2017  0.414894        94         15"
      ]
     },
     "execution_count": 16,
     "metadata": {},
     "output_type": "execute_result"
    }
   ],
   "source": [
    "event_df"
   ]
  },
  {
   "cell_type": "code",
   "execution_count": 25,
   "id": "26d457c4",
   "metadata": {},
   "outputs": [],
   "source": [
    "event_out = compute_pval_all_events(event_df)"
   ]
  },
  {
   "cell_type": "code",
   "execution_count": 26,
   "id": "bf70b51d",
   "metadata": {},
   "outputs": [
    {
     "data": {
      "text/html": [
       "<div>\n",
       "<style scoped>\n",
       "    .dataframe tbody tr th:only-of-type {\n",
       "        vertical-align: middle;\n",
       "    }\n",
       "\n",
       "    .dataframe tbody tr th {\n",
       "        vertical-align: top;\n",
       "    }\n",
       "\n",
       "    .dataframe thead th {\n",
       "        text-align: right;\n",
       "    }\n",
       "</style>\n",
       "<table border=\"1\" class=\"dataframe\">\n",
       "  <thead>\n",
       "    <tr style=\"text-align: right;\">\n",
       "      <th></th>\n",
       "      <th>prop_w</th>\n",
       "      <th>Num_talks</th>\n",
       "      <th>null_prop</th>\n",
       "      <th>p_val</th>\n",
       "    </tr>\n",
       "  </thead>\n",
       "  <tbody>\n",
       "    <tr>\n",
       "      <th>TED2002</th>\n",
       "      <td>0.185185</td>\n",
       "      <td>27</td>\n",
       "      <td>0.5</td>\n",
       "      <td>0.000</td>\n",
       "    </tr>\n",
       "    <tr>\n",
       "      <th>TED2003</th>\n",
       "      <td>0.1875</td>\n",
       "      <td>32</td>\n",
       "      <td>0.5</td>\n",
       "      <td>0.000</td>\n",
       "    </tr>\n",
       "    <tr>\n",
       "      <th>TED2004</th>\n",
       "      <td>0.21875</td>\n",
       "      <td>32</td>\n",
       "      <td>0.5</td>\n",
       "      <td>0.000</td>\n",
       "    </tr>\n",
       "    <tr>\n",
       "      <th>TED2005</th>\n",
       "      <td>0.135135</td>\n",
       "      <td>37</td>\n",
       "      <td>0.5</td>\n",
       "      <td>0.000</td>\n",
       "    </tr>\n",
       "    <tr>\n",
       "      <th>TED2006</th>\n",
       "      <td>0.232558</td>\n",
       "      <td>43</td>\n",
       "      <td>0.5</td>\n",
       "      <td>0.000</td>\n",
       "    </tr>\n",
       "    <tr>\n",
       "      <th>TED2007</th>\n",
       "      <td>0.230769</td>\n",
       "      <td>65</td>\n",
       "      <td>0.5</td>\n",
       "      <td>0.000</td>\n",
       "    </tr>\n",
       "    <tr>\n",
       "      <th>TED2008</th>\n",
       "      <td>0.22807</td>\n",
       "      <td>57</td>\n",
       "      <td>0.5</td>\n",
       "      <td>0.000</td>\n",
       "    </tr>\n",
       "    <tr>\n",
       "      <th>TED2009</th>\n",
       "      <td>0.246914</td>\n",
       "      <td>81</td>\n",
       "      <td>0.5</td>\n",
       "      <td>0.000</td>\n",
       "    </tr>\n",
       "    <tr>\n",
       "      <th>TED2010</th>\n",
       "      <td>0.223881</td>\n",
       "      <td>67</td>\n",
       "      <td>0.5</td>\n",
       "      <td>0.000</td>\n",
       "    </tr>\n",
       "    <tr>\n",
       "      <th>TED2011</th>\n",
       "      <td>0.211268</td>\n",
       "      <td>71</td>\n",
       "      <td>0.5</td>\n",
       "      <td>0.000</td>\n",
       "    </tr>\n",
       "    <tr>\n",
       "      <th>TED2012</th>\n",
       "      <td>0.269841</td>\n",
       "      <td>63</td>\n",
       "      <td>0.5</td>\n",
       "      <td>0.000</td>\n",
       "    </tr>\n",
       "    <tr>\n",
       "      <th>TED2013</th>\n",
       "      <td>0.2625</td>\n",
       "      <td>80</td>\n",
       "      <td>0.5</td>\n",
       "      <td>0.000</td>\n",
       "    </tr>\n",
       "    <tr>\n",
       "      <th>TED2014</th>\n",
       "      <td>0.27907</td>\n",
       "      <td>86</td>\n",
       "      <td>0.5</td>\n",
       "      <td>0.000</td>\n",
       "    </tr>\n",
       "    <tr>\n",
       "      <th>TED2015</th>\n",
       "      <td>0.36</td>\n",
       "      <td>75</td>\n",
       "      <td>0.5</td>\n",
       "      <td>0.006</td>\n",
       "    </tr>\n",
       "    <tr>\n",
       "      <th>TED2016</th>\n",
       "      <td>0.36</td>\n",
       "      <td>75</td>\n",
       "      <td>0.5</td>\n",
       "      <td>0.006</td>\n",
       "    </tr>\n",
       "    <tr>\n",
       "      <th>TED2017</th>\n",
       "      <td>0.414894</td>\n",
       "      <td>94</td>\n",
       "      <td>0.5</td>\n",
       "      <td>0.083</td>\n",
       "    </tr>\n",
       "  </tbody>\n",
       "</table>\n",
       "</div>"
      ],
      "text/plain": [
       "           prop_w Num_talks  null_prop  p_val\n",
       "TED2002  0.185185        27        0.5  0.000\n",
       "TED2003    0.1875        32        0.5  0.000\n",
       "TED2004   0.21875        32        0.5  0.000\n",
       "TED2005  0.135135        37        0.5  0.000\n",
       "TED2006  0.232558        43        0.5  0.000\n",
       "TED2007  0.230769        65        0.5  0.000\n",
       "TED2008   0.22807        57        0.5  0.000\n",
       "TED2009  0.246914        81        0.5  0.000\n",
       "TED2010  0.223881        67        0.5  0.000\n",
       "TED2011  0.211268        71        0.5  0.000\n",
       "TED2012  0.269841        63        0.5  0.000\n",
       "TED2013    0.2625        80        0.5  0.000\n",
       "TED2014   0.27907        86        0.5  0.000\n",
       "TED2015      0.36        75        0.5  0.006\n",
       "TED2016      0.36        75        0.5  0.006\n",
       "TED2017  0.414894        94        0.5  0.083"
      ]
     },
     "execution_count": 26,
     "metadata": {},
     "output_type": "execute_result"
    }
   ],
   "source": [
    "event_out"
   ]
  },
  {
   "cell_type": "code",
   "execution_count": 58,
   "id": "55ea460d",
   "metadata": {},
   "outputs": [],
   "source": [
    "event_dftest = event_df.copy()"
   ]
  },
  {
   "cell_type": "code",
   "execution_count": 39,
   "id": "a7d46950",
   "metadata": {},
   "outputs": [],
   "source": [
    "event_dftest[\"p_val\"] = \"Nan\""
   ]
  },
  {
   "cell_type": "code",
   "execution_count": 66,
   "id": "016a1240",
   "metadata": {
    "collapsed": true
   },
   "outputs": [
    {
     "name": "stdout",
     "output_type": "stream",
     "text": [
      "0.0\n",
      "0.0\n",
      "0.0\n",
      "0.0\n",
      "0.0\n",
      "0.0\n",
      "0.0\n",
      "0.0\n",
      "0.0\n",
      "0.0\n",
      "0.0\n",
      "0.0\n",
      "0.0\n",
      "0.0038\n",
      "0.0024\n",
      "0.0828\n"
     ]
    },
    {
     "data": {
      "text/plain": [
       "TED2002    None\n",
       "TED2003    None\n",
       "TED2004    None\n",
       "TED2005    None\n",
       "TED2006    None\n",
       "TED2007    None\n",
       "TED2008    None\n",
       "TED2009    None\n",
       "TED2010    None\n",
       "TED2011    None\n",
       "TED2012    None\n",
       "TED2013    None\n",
       "TED2014    None\n",
       "TED2015    None\n",
       "TED2016    None\n",
       "TED2017    None\n",
       "dtype: object"
      ]
     },
     "execution_count": 66,
     "metadata": {},
     "output_type": "execute_result"
    }
   ],
   "source": [
    "event_dftest.apply(lambda x: print(compute_p_val(x[\"prop_w\"])[0]), axis = 1)"
   ]
  },
  {
   "cell_type": "code",
   "execution_count": 83,
   "id": "164353e6",
   "metadata": {},
   "outputs": [
    {
     "data": {
      "text/html": [
       "<div>\n",
       "<style scoped>\n",
       "    .dataframe tbody tr th:only-of-type {\n",
       "        vertical-align: middle;\n",
       "    }\n",
       "\n",
       "    .dataframe tbody tr th {\n",
       "        vertical-align: top;\n",
       "    }\n",
       "\n",
       "    .dataframe thead th {\n",
       "        text-align: right;\n",
       "    }\n",
       "</style>\n",
       "<table border=\"1\" class=\"dataframe\">\n",
       "  <thead>\n",
       "    <tr style=\"text-align: right;\">\n",
       "      <th></th>\n",
       "      <th>prop_w</th>\n",
       "      <th>Num_talks</th>\n",
       "      <th>p_val</th>\n",
       "    </tr>\n",
       "  </thead>\n",
       "  <tbody>\n",
       "    <tr>\n",
       "      <th>TED2002</th>\n",
       "      <td>0.185185</td>\n",
       "      <td>27</td>\n",
       "      <td>0.0004</td>\n",
       "    </tr>\n",
       "    <tr>\n",
       "      <th>TED2003</th>\n",
       "      <td>0.1875</td>\n",
       "      <td>32</td>\n",
       "      <td>0.0000</td>\n",
       "    </tr>\n",
       "    <tr>\n",
       "      <th>TED2004</th>\n",
       "      <td>0.21875</td>\n",
       "      <td>32</td>\n",
       "      <td>0.0006</td>\n",
       "    </tr>\n",
       "    <tr>\n",
       "      <th>TED2005</th>\n",
       "      <td>0.135135</td>\n",
       "      <td>37</td>\n",
       "      <td>0.0000</td>\n",
       "    </tr>\n",
       "    <tr>\n",
       "      <th>TED2006</th>\n",
       "      <td>0.232558</td>\n",
       "      <td>43</td>\n",
       "      <td>0.0002</td>\n",
       "    </tr>\n",
       "    <tr>\n",
       "      <th>TED2007</th>\n",
       "      <td>0.230769</td>\n",
       "      <td>65</td>\n",
       "      <td>0.0000</td>\n",
       "    </tr>\n",
       "    <tr>\n",
       "      <th>TED2008</th>\n",
       "      <td>0.22807</td>\n",
       "      <td>57</td>\n",
       "      <td>0.0000</td>\n",
       "    </tr>\n",
       "    <tr>\n",
       "      <th>TED2009</th>\n",
       "      <td>0.246914</td>\n",
       "      <td>81</td>\n",
       "      <td>0.0000</td>\n",
       "    </tr>\n",
       "    <tr>\n",
       "      <th>TED2010</th>\n",
       "      <td>0.223881</td>\n",
       "      <td>67</td>\n",
       "      <td>0.0000</td>\n",
       "    </tr>\n",
       "    <tr>\n",
       "      <th>TED2011</th>\n",
       "      <td>0.211268</td>\n",
       "      <td>71</td>\n",
       "      <td>0.0000</td>\n",
       "    </tr>\n",
       "    <tr>\n",
       "      <th>TED2012</th>\n",
       "      <td>0.269841</td>\n",
       "      <td>63</td>\n",
       "      <td>0.0002</td>\n",
       "    </tr>\n",
       "    <tr>\n",
       "      <th>TED2013</th>\n",
       "      <td>0.2625</td>\n",
       "      <td>80</td>\n",
       "      <td>0.0000</td>\n",
       "    </tr>\n",
       "    <tr>\n",
       "      <th>TED2014</th>\n",
       "      <td>0.27907</td>\n",
       "      <td>86</td>\n",
       "      <td>0.0000</td>\n",
       "    </tr>\n",
       "    <tr>\n",
       "      <th>TED2015</th>\n",
       "      <td>0.36</td>\n",
       "      <td>75</td>\n",
       "      <td>0.0084</td>\n",
       "    </tr>\n",
       "    <tr>\n",
       "      <th>TED2016</th>\n",
       "      <td>0.36</td>\n",
       "      <td>75</td>\n",
       "      <td>0.0104</td>\n",
       "    </tr>\n",
       "    <tr>\n",
       "      <th>TED2017</th>\n",
       "      <td>0.414894</td>\n",
       "      <td>94</td>\n",
       "      <td>0.0760</td>\n",
       "    </tr>\n",
       "  </tbody>\n",
       "</table>\n",
       "</div>"
      ],
      "text/plain": [
       "           prop_w Num_talks   p_val\n",
       "TED2002  0.185185        27  0.0004\n",
       "TED2003    0.1875        32  0.0000\n",
       "TED2004   0.21875        32  0.0006\n",
       "TED2005  0.135135        37  0.0000\n",
       "TED2006  0.232558        43  0.0002\n",
       "TED2007  0.230769        65  0.0000\n",
       "TED2008   0.22807        57  0.0000\n",
       "TED2009  0.246914        81  0.0000\n",
       "TED2010  0.223881        67  0.0000\n",
       "TED2011  0.211268        71  0.0000\n",
       "TED2012  0.269841        63  0.0002\n",
       "TED2013    0.2625        80  0.0000\n",
       "TED2014   0.27907        86  0.0000\n",
       "TED2015      0.36        75  0.0084\n",
       "TED2016      0.36        75  0.0104\n",
       "TED2017  0.414894        94  0.0760"
      ]
     },
     "execution_count": 83,
     "metadata": {},
     "output_type": "execute_result"
    }
   ],
   "source": [
    "event_dftest\n"
   ]
  },
  {
   "cell_type": "code",
   "execution_count": 78,
   "id": "570cbf07",
   "metadata": {},
   "outputs": [
    {
     "name": "stdout",
     "output_type": "stream",
     "text": [
      "0.0134\n"
     ]
    }
   ],
   "source": [
    "print(compute_p_val(0.36, n=75)[0])"
   ]
  },
  {
   "cell_type": "code",
   "execution_count": null,
   "id": "92770d1d",
   "metadata": {},
   "outputs": [],
   "source": []
  },
  {
   "cell_type": "code",
   "execution_count": null,
   "id": "a822d148",
   "metadata": {},
   "outputs": [],
   "source": []
  },
  {
   "cell_type": "code",
   "execution_count": null,
   "id": "a20c6035",
   "metadata": {},
   "outputs": [],
   "source": []
  },
  {
   "cell_type": "code",
   "execution_count": null,
   "id": "28dddc5b",
   "metadata": {},
   "outputs": [],
   "source": []
  },
  {
   "cell_type": "code",
   "execution_count": 9,
   "id": "b2746d8c",
   "metadata": {},
   "outputs": [],
   "source": [
    "## Tests\n",
    "\n",
    "year = 2007"
   ]
  },
  {
   "cell_type": "code",
   "execution_count": 10,
   "id": "e30efaf5",
   "metadata": {},
   "outputs": [],
   "source": [
    "prop_w, total = prop_women_by_year(year)"
   ]
  },
  {
   "cell_type": "code",
   "execution_count": 11,
   "id": "4439fd61",
   "metadata": {},
   "outputs": [],
   "source": [
    "sampling_dist = generate_sampling_dist(num_runs = 1000, num_sample = 65, null_prop = 0.5)"
   ]
  },
  {
   "cell_type": "code",
   "execution_count": 12,
   "id": "9d7b836c",
   "metadata": {},
   "outputs": [
    {
     "data": {
      "text/plain": [
       "(1000, 1)"
      ]
     },
     "execution_count": 12,
     "metadata": {},
     "output_type": "execute_result"
    }
   ],
   "source": [
    "sampling_dist.shape"
   ]
  },
  {
   "cell_type": "code",
   "execution_count": 27,
   "id": "887c7bd5",
   "metadata": {},
   "outputs": [
    {
     "data": {
      "image/png": "[encoded data removed]",
      "text/plain": [
       "<Figure size 432x288 with 1 Axes>"
      ]
     },
     "metadata": {
      "needs_background": "light"
     },
     "output_type": "display_data"
    }
   ],
   "source": [
    "bins = np.linspace(0,1,60)\n",
    "plt.hist(sampling_dist, bins, density=False, alpha=0.5, label = \"sampling dist\")\n",
    "plt.plot(prop_w, 1, 'o', color = 'k')\n",
    "plt.plot(1-prop_w, 1, 'o', color = 'k')\n",
    "plt.plot(0.5, 1, 'o', color = 'k')\n",
    "plt.axvline(x=prop_w, ymin=0, color='red', linestyle='dotted', linewidth=1)\n",
    "plt.show()\n",
    "\n",
    "#add single point!"
   ]
  },
  {
   "cell_type": "code",
   "execution_count": 14,
   "id": "b24aacb1",
   "metadata": {},
   "outputs": [
    {
     "data": {
      "image/png": "[encoded data removed]",
      "text/plain": [
       "<Figure size 432x288 with 1 Axes>"
      ]
     },
     "metadata": {
      "needs_background": "light"
     },
     "output_type": "display_data"
    }
   ],
   "source": [
    "make_plot(sampling_dist, prop_w)"
   ]
  },
  {
   "cell_type": "code",
   "execution_count": 34,
   "id": "364db5e9",
   "metadata": {},
   "outputs": [],
   "source": [
    "p_val, null_dist = compute_p_val(prop_w, null_prop = 0.25, H_a = \"two-way\", n = 65)\n"
   ]
  },
  {
   "cell_type": "code",
   "execution_count": 33,
   "id": "7c3d6e30",
   "metadata": {},
   "outputs": [
    {
     "data": {
      "image/png": "[encoded data removed]",
      "text/plain": [
       "<Figure size 432x288 with 1 Axes>"
      ]
     },
     "metadata": {
      "needs_background": "light"
     },
     "output_type": "display_data"
    }
   ],
   "source": [
    "make_plot(null_dist, prop_w, null_prop = 0.25)"
   ]
  },
  {
   "cell_type": "code",
   "execution_count": 35,
   "id": "df7da724",
   "metadata": {},
   "outputs": [
    {
     "name": "stdout",
     "output_type": "stream",
     "text": [
      "0.6638\n"
     ]
    }
   ],
   "source": [
    "print(p_val)"
   ]
  },
  {
   "cell_type": "code",
   "execution_count": null,
   "id": "5687e507",
   "metadata": {},
   "outputs": [],
   "source": []
  },
  {
   "cell_type": "code",
   "execution_count": 5,
   "id": "75072ae3",
   "metadata": {},
   "outputs": [
    {
     "data": {
      "text/plain": [
       "'TED2007'"
      ]
     },
     "execution_count": 5,
     "metadata": {},
     "output_type": "execute_result"
    }
   ],
   "source": [
    "year = '2007'\n",
    "event_name = 'TED' + str(year)\n",
    "event_name"
   ]
  },
  {
   "cell_type": "code",
   "execution_count": 6,
   "id": "e22838e5",
   "metadata": {},
   "outputs": [],
   "source": [
    "event_year = all_talks[all_talks['event'] == 'TED2007']\n"
   ]
  },
  {
   "cell_type": "code",
   "execution_count": null,
   "id": "38e92513",
   "metadata": {},
   "outputs": [],
   "source": []
  },
  {
   "cell_type": "code",
   "execution_count": 11,
   "id": "f2e55d7e",
   "metadata": {
    "scrolled": true
   },
   "outputs": [],
   "source": [
    "speaker_list = extract_speakers_by_year(2007)\n",
    "\n",
    "# How to check if the list is unique?? Extend somehow? \n",
    "# Done see above"
   ]
  },
  {
   "cell_type": "code",
   "execution_count": 16,
   "id": "465bb667",
   "metadata": {},
   "outputs": [
    {
     "data": {
      "text/plain": [
       "50"
      ]
     },
     "execution_count": 16,
     "metadata": {},
     "output_type": "execute_result"
    }
   ],
   "source": [
    "gender_year = speakers.loc[speaker_list]\n",
    "gender_counts = gender_year.groupby([\"Gender_handcheck\"])[\"Gender_handcheck\"].count()\n",
    "\n",
    "gender_counts[\"male\"]"
   ]
  },
  {
   "cell_type": "code",
   "execution_count": 13,
   "id": "c603f20c",
   "metadata": {},
   "outputs": [
    {
     "data": {
      "text/plain": [
       "66"
      ]
     },
     "execution_count": 13,
     "metadata": {},
     "output_type": "execute_result"
    }
   ],
   "source": [
    "gender_counts.sum()"
   ]
  },
  {
   "cell_type": "code",
   "execution_count": 17,
   "id": "cadbe816",
   "metadata": {},
   "outputs": [
    {
     "data": {
      "text/plain": [
       "(50, 15)"
      ]
     },
     "execution_count": 17,
     "metadata": {},
     "output_type": "execute_result"
    }
   ],
   "source": [
    "gender_counts[\"male\"], gender_counts[\"female\"]"
   ]
  },
  {
   "cell_type": "code",
   "execution_count": null,
   "id": "6f11480f",
   "metadata": {},
   "outputs": [],
   "source": []
  }
 ],
 "metadata": {
  "kernelspec": {
   "display_name": "Python 3 (ipykernel)",
   "language": "python",
   "name": "python3"
  },
  "language_info": {
   "codemirror_mode": {
    "name": "ipython",
    "version": 3
   },
   "file_extension": ".py",
   "mimetype": "text/x-python",
   "name": "python",
   "nbconvert_exporter": "python",
   "pygments_lexer": "ipython3",
   "version": "3.9.7"
  }
 },
 "nbformat": 4,
 "nbformat_minor": 5
}
