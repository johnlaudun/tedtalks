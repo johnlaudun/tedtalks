{
 "cells": [
  {
   "cell_type": "markdown",
   "id": "867ffc27",
   "metadata": {},
   "source": [
    "Following [here](https://statsthinking21.github.io/statsthinking21-python/08-HypothesisTesting.html)\n",
    "\n",
    "[Other reference](https://numpy.org/doc/stable/reference/random/generated/numpy.random.choice.html)"
   ]
  },
  {
   "cell_type": "code",
   "execution_count": 1,
   "id": "5d9187a8",
   "metadata": {},
   "outputs": [],
   "source": [
    "# Import packages\n",
    "\n",
    "import numpy as np\n",
    "import pandas as pd\n",
    "import scipy.stats as sds\n"
   ]
  },
  {
   "cell_type": "code",
   "execution_count": 2,
   "id": "54113933",
   "metadata": {},
   "outputs": [],
   "source": [
    "# Import talk data\n",
    "\n",
    "# Load binary gendered talks \n",
    "talks_male = pd.read_csv('talks_male.csv', index_col='Talk_ID')\n",
    "talks_female = pd.read_csv('talks_female.csv', index_col='Talk_ID')\n",
    "\n",
    "# No one gender ==> NOG\n",
    "talks_nog = pd.read_csv('talks_nog.csv', index_col='Talk_ID')\n",
    "\n",
    "# Concatenate the talk data\n",
    "all_talks = pd.concat([talks_male,talks_female,talks_nog])"
   ]
  },
  {
   "cell_type": "code",
   "execution_count": 23,
   "id": "26d457c4",
   "metadata": {},
   "outputs": [],
   "source": [
    "# Import speaker data\n",
    "\n",
    "speakers = pd.read_csv('speakers_with_gender.csv', index_col='speaker')"
   ]
  },
  {
   "cell_type": "code",
   "execution_count": 4,
   "id": "55ea460d",
   "metadata": {},
   "outputs": [],
   "source": [
    "# Create list of events\n",
    "\n",
    "events = list(all_talks['event'].unique())"
   ]
  },
  {
   "cell_type": "code",
   "execution_count": 22,
   "id": "75072ae3",
   "metadata": {},
   "outputs": [
    {
     "data": {
      "text/plain": [
       "'TED2007'"
      ]
     },
     "execution_count": 22,
     "metadata": {},
     "output_type": "execute_result"
    }
   ],
   "source": [
    "year = '2007'\n",
    "event_name = 'TED' + str(year)\n",
    "event_name"
   ]
  },
  {
   "cell_type": "code",
   "execution_count": 5,
   "id": "e22838e5",
   "metadata": {},
   "outputs": [],
   "source": [
    "event_year = all_talks[all_talks['event'] == 'TED2007']\n"
   ]
  },
  {
   "cell_type": "code",
   "execution_count": 12,
   "id": "38e92513",
   "metadata": {},
   "outputs": [],
   "source": []
  },
  {
   "cell_type": "code",
   "execution_count": 27,
   "id": "f2e55d7e",
   "metadata": {
    "scrolled": true
   },
   "outputs": [],
   "source": [
    "speaker_list = extract_speakers_by_year(2007)\n",
    "\n",
    "# How to check if the list is unique?? Extend somehow? \n",
    "# Done see above"
   ]
  },
  {
   "cell_type": "code",
   "execution_count": 43,
   "id": "465bb667",
   "metadata": {},
   "outputs": [
    {
     "data": {
      "text/plain": [
       "15"
      ]
     },
     "execution_count": 43,
     "metadata": {},
     "output_type": "execute_result"
    }
   ],
   "source": [
    "gender_year = speakers.loc[speaker_list]\n",
    "gender_counts = gender_year.groupby([\"Gender_handcheck\"])[\"Gender_handcheck\"].count()\n",
    "\n",
    "gender_counts[\"female\"]"
   ]
  },
  {
   "cell_type": "code",
   "execution_count": 27,
   "id": "1943e4c9",
   "metadata": {},
   "outputs": [],
   "source": [
    "# Create the sampling distributions\n",
    "\n",
    "def generate_one_sample_prop(num_sample = 100, null_prop = 0.5):\n",
    "    pass\n",
    "\n",
    "def generate_sampling_dist(num_runs = 5000):\n",
    "    pass\n",
    "\n"
   ]
  },
  {
   "cell_type": "code",
   "execution_count": 25,
   "id": "7a58946f",
   "metadata": {},
   "outputs": [],
   "source": [
    "def extract_talks_by_year(year):\n",
    "    \n",
    "    #Check if year is in list: \n",
    "    event_name = 'TED' + str(year)\n",
    "    assert (event_name in events), \"There are no talks in our database from the requested year\"\n",
    "    \n",
    "    event_year = all_talks[all_talks['event'] == event_name]\n",
    "    \n",
    "    return event_year\n",
    "\n",
    "def extract_speakers_by_year(year):\n",
    "    \n",
    "    talks_year = extract_talks_by_year(year)\n",
    "    event_speakers = talks_year[['speaker_1', 'speaker_2', 'speaker_3', 'speaker_4']]\n",
    "    \n",
    "    speaker_list = []\n",
    "    \n",
    "    for role in ['speaker_1', 'speaker_2', 'speaker_3', 'speaker_4']:\n",
    "        event_speakers = event_year[role].dropna()\n",
    "        event_speakers = event_speakers.unique()\n",
    "        speaker_list.extend(list(event_speakers))\n",
    "        \n",
    "    speaker_pd = pd.Series(speaker_list)\n",
    "    speaker_pd = speaker_pd.unique()\n",
    "    \n",
    "    speaker_year = list(speaker_array)\n",
    "    ## Ref: https://pandas.pydata.org/docs/reference/api/pandas.DataFrame.dropna.html\n",
    "    \n",
    "    return speaker_year\n",
    "    \n",
    "    \n",
    "def prop_women_by_year(year):\n",
    "    \n",
    "    speaker_year = extract_speakers_by_year(year)\n",
    "    gender_year = speakers.loc[speaker_year]\n",
    "    gender_counts = gender_year.groupby([\"Gender_handcheck\"])[\"Gender_handcheck\"].count()\n",
    "    \n",
    "    \n",
    "    ## Ref: https://sparkbyexamples.com/pandas/pandas-groupby-count-examples/"
   ]
  },
  {
   "cell_type": "code",
   "execution_count": null,
   "id": "c603f20c",
   "metadata": {},
   "outputs": [],
   "source": []
  }
 ],
 "metadata": {
  "kernelspec": {
   "display_name": "Python 3 (ipykernel)",
   "language": "python",
   "name": "python3"
  },
  "language_info": {
   "codemirror_mode": {
    "name": "ipython",
    "version": 3
   },
   "file_extension": ".py",
   "mimetype": "text/x-python",
   "name": "python",
   "nbconvert_exporter": "python",
   "pygments_lexer": "ipython3",
   "version": "3.9.7"
  }
 },
 "nbformat": 4,
 "nbformat_minor": 5
}
