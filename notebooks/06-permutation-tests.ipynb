{
 "cells": [
  {
   "cell_type": "markdown",
   "id": "867ffc27",
   "metadata": {},
   "source": [
    "Following [here](https://statsthinking21.github.io/statsthinking21-python/08-HypothesisTesting.html)\n",
    "\n",
    "[Other reference](https://numpy.org/doc/stable/reference/random/generated/numpy.random.choice.html)"
   ]
  },
  {
   "cell_type": "code",
   "execution_count": 2,
   "id": "5d9187a8",
   "metadata": {},
   "outputs": [],
   "source": [
    "# Import packages\n",
    "\n",
    "import numpy as np\n",
    "import pandas as pd\n",
    "import scipy.stats as sds\n"
   ]
  },
  {
   "cell_type": "code",
   "execution_count": 5,
   "id": "54113933",
   "metadata": {},
   "outputs": [],
   "source": [
    "# Import talk data\n",
    "\n",
    "# Load binary gendered talks \n",
    "talks_male = pd.read_csv('talks_male.csv', index_col='Talk_ID')\n",
    "talks_female = pd.read_csv('talks_female.csv', index_col='Talk_ID')\n",
    "\n",
    "# No one gender ==> NOG\n",
    "talks_nog = pd.read_csv('talks_nog.csv', index_col='Talk_ID')\n",
    "\n",
    "# Concatenate the talk data\n",
    "all_talks = pd.concat([talks_male,talks_female,talks_nog])"
   ]
  },
  {
   "cell_type": "code",
   "execution_count": 6,
   "id": "26d457c4",
   "metadata": {},
   "outputs": [],
   "source": [
    "# Import speaker data\n",
    "\n",
    "speakers = pd.read_csv('speakers_with_gender.csv', index_col='speaker')"
   ]
  },
  {
   "cell_type": "code",
   "execution_count": 19,
   "id": "55ea460d",
   "metadata": {},
   "outputs": [],
   "source": [
    "events = list(all_talks['event'].unique())"
   ]
  },
  {
   "cell_type": "code",
   "execution_count": 39,
   "id": "e22838e5",
   "metadata": {},
   "outputs": [],
   "source": [
    "event_year = all_talks[all_talks['event'] == 'TED2007']\n",
    "event_speakers = event_year[['speaker_1', 'speaker_2', 'speaker_3', 'speaker_4']]"
   ]
  },
  {
   "cell_type": "code",
   "execution_count": 58,
   "id": "38e92513",
   "metadata": {},
   "outputs": [],
   "source": [
    "speaker_list = []\n",
    "\n",
    "for event in ['speaker_1', 'speaker_2', 'speaker_3', 'speaker_4']:\n",
    "    event_speakers = event_year[event].dropna()\n",
    "    event_speakers = event_speakers.unique()\n",
    "    speaker_list.extend(list(event_speakers))\n",
    "\n",
    "## Ref: https://pandas.pydata.org/docs/reference/api/pandas.DataFrame.dropna.html"
   ]
  },
  {
   "cell_type": "code",
   "execution_count": 59,
   "id": "f2e55d7e",
   "metadata": {},
   "outputs": [
    {
     "data": {
      "text/plain": [
       "['E.O. Wilson',\n",
       " 'James Nachtwey',\n",
       " 'Bill Clinton',\n",
       " 'John Doerr',\n",
       " 'Blaise Agüera y Arcas',\n",
       " 'Anand Agarawala',\n",
       " 'Stephen Lawler',\n",
       " 'Hans Rosling',\n",
       " 'Bill Stone',\n",
       " 'Jonathan Harris',\n",
       " 'Will Wright',\n",
       " 'Rives',\n",
       " 'David Bolinsky',\n",
       " 'Jeff Skoll',\n",
       " 'Dean Kamen',\n",
       " 'Theo Jansen',\n",
       " 'Steven Pinker',\n",
       " 'John Maeda',\n",
       " 'Kenichi Ebina',\n",
       " 'Richard Branson',\n",
       " 'Hod Lipson',\n",
       " 'Jan Chipchase',\n",
       " 'Vilayanur Ramachandran',\n",
       " 'Lawrence Lessig',\n",
       " 'Paul Rothemund',\n",
       " 'Philippe Starck',\n",
       " 'Murray Gell-Mann',\n",
       " 'Daniel Goleman',\n",
       " 'Gever Tulley',\n",
       " 'Yossi Vardi',\n",
       " 'J.J. Abrams',\n",
       " 'David Gallo',\n",
       " 'Raul Midon',\n",
       " 'Bernie Dunlap',\n",
       " 'David Pogue',\n",
       " 'Jaime Lerner',\n",
       " 'Michael Pollan',\n",
       " 'Steve Jurvetson',\n",
       " 'Alan Kay',\n",
       " 'David Hoffman',\n",
       " 'Jakob Trollback',\n",
       " 'They Might Be Giants',\n",
       " 'Paul Ewald',\n",
       " 'Nathan Myhrvold',\n",
       " 'Adam Grosser',\n",
       " 'Jonathan Drori',\n",
       " 'David S. Rose',\n",
       " 'Nick Sears',\n",
       " 'Eames Demetrios',\n",
       " 'James Randi',\n",
       " 'Jok Church',\n",
       " 'Ngozi Okonjo-Iweala',\n",
       " 'Emily Oster',\n",
       " 'Allison Hunt',\n",
       " 'Erin McKean',\n",
       " 'Deborah Scranton',\n",
       " 'Carolyn Porco',\n",
       " 'Maira Kalman',\n",
       " 'Lakshmi Pratury',\n",
       " 'Isabel Allende',\n",
       " 'Paola Antonelli',\n",
       " 'Robin Chase',\n",
       " 'Jill Sobule',\n",
       " 'Laurie Garrett',\n",
       " 'Katherine Fulton',\n",
       " 'Julia Sweeney']"
      ]
     },
     "execution_count": 59,
     "metadata": {},
     "output_type": "execute_result"
    }
   ],
   "source": [
    "speaker_list\n",
    "\n",
    "# How to check if the list is unique?? Extend somehow? "
   ]
  },
  {
   "cell_type": "code",
   "execution_count": 27,
   "id": "1943e4c9",
   "metadata": {},
   "outputs": [],
   "source": [
    "# Create the sampling distributions\n",
    "\n",
    "def generate_one_sample_prop(num_sample = 100, null_prop = 0.5):\n",
    "    pass\n",
    "\n",
    "def generate_sampling_dist(num_runs = 5000):\n",
    "    pass\n",
    "\n"
   ]
  },
  {
   "cell_type": "code",
   "execution_count": null,
   "id": "7a58946f",
   "metadata": {},
   "outputs": [],
   "source": [
    "def extract_talks_by_year(year_str):\n",
    "    pass\n",
    "\n",
    "def extract_speakers_by_year(year_str):\n",
    "    pass\n",
    "\n",
    "def prop_women_by_year(year_str):\n",
    "    pass"
   ]
  }
 ],
 "metadata": {
  "kernelspec": {
   "display_name": "Python 3 (ipykernel)",
   "language": "python",
   "name": "python3"
  },
  "language_info": {
   "codemirror_mode": {
    "name": "ipython",
    "version": 3
   },
   "file_extension": ".py",
   "mimetype": "text/x-python",
   "name": "python",
   "nbconvert_exporter": "python",
   "pygments_lexer": "ipython3",
   "version": "3.9.7"
  }
 },
 "nbformat": 4,
 "nbformat_minor": 5
}
