{
 "cells": [
  {
   "cell_type": "markdown",
   "id": "867ffc27",
   "metadata": {},
   "source": [
    "Following [here](https://statsthinking21.github.io/statsthinking21-python/08-HypothesisTesting.html)\n",
    "\n",
    "[Other reference](https://numpy.org/doc/stable/reference/random/generated/numpy.random.choice.html)"
   ]
  },
  {
   "cell_type": "code",
   "execution_count": 1,
   "id": "5d9187a8",
   "metadata": {},
   "outputs": [],
   "source": [
    "# Import packages\n",
    "\n",
    "import numpy as np\n",
    "import pandas as pd\n",
    "import scipy.stats as sds\n",
    "import matplotlib.pyplot as plt"
   ]
  },
  {
   "cell_type": "code",
   "execution_count": 11,
   "id": "a40a6ba5",
   "metadata": {},
   "outputs": [],
   "source": [
    "def extract_talks_by_year(year):\n",
    "    \n",
    "    #Check if year is in list: \n",
    "    event_name = 'TED' + str(year)\n",
    "    assert (event_name in events), \"There are no talks in our database from the requested year\"\n",
    "    \n",
    "    event_year = all_talks[all_talks['event'] == event_name]\n",
    "    \n",
    "    return event_year\n",
    "\n",
    "def extract_speakers_by_year(year):\n",
    "    \n",
    "    talks_year = extract_talks_by_year(year)\n",
    "    event_speakers = talks_year[['speaker_1', 'speaker_2', 'speaker_3', 'speaker_4']]\n",
    "    \n",
    "    speaker_list = []\n",
    "    \n",
    "    for role in ['speaker_1', 'speaker_2', 'speaker_3', 'speaker_4']:\n",
    "        event_speakers = talks_year[role].dropna()\n",
    "        event_speakers = event_speakers.unique()\n",
    "        speaker_list.extend(list(event_speakers))\n",
    "        \n",
    "    speaker_pd = pd.Series(speaker_list)\n",
    "    speaker_pd = speaker_pd.unique()\n",
    "    \n",
    "    speaker_year = list(speaker_pd)\n",
    "    ## Ref: https://pandas.pydata.org/docs/reference/api/pandas.DataFrame.dropna.html\n",
    "    \n",
    "    return speaker_year\n",
    "    \n",
    "    \n",
    "def prop_women_by_year(year):\n",
    "    \n",
    "    speaker_year = extract_speakers_by_year(year)\n",
    "    gender_year = speakers.loc[speaker_year]\n",
    "    gender_counts = gender_year.groupby([\"Gender_handcheck\"])[\"Gender_handcheck\"].count()\n",
    "    ## Ref: https://sparkbyexamples.com/pandas/pandas-groupby-count-examples/\n",
    "    \n",
    "    total_single_speaker = gender_counts[\"male\"] + gender_counts[\"female\"]\n",
    "    # Excluding groups of speakers (like a band or troupe)\n",
    "    prop_women_single = gender_counts[\"female\"]/total_single_speaker\n",
    "    \n",
    "    return prop_women_single, total_single_speaker"
   ]
  },
  {
   "cell_type": "code",
   "execution_count": 3,
   "id": "dce95055",
   "metadata": {},
   "outputs": [],
   "source": [
    "# Create the sampling distributions\n",
    "\n",
    "## Ref: https://statsthinking21.github.io/statsthinking21-python/08-HypothesisTesting.html\n",
    "\n",
    "def generate_one_sample_prop(num_sample = 100, null_prop = 0.5):\n",
    "    \n",
    "    samp = np.random.rand(num_sample) > (1 - null_prop)\n",
    "    return np.sum(samp)/num_sample\n",
    "\n",
    "def generate_sampling_dist(num_runs = 5000, num_sample = 100, null_prop = 0.5):\n",
    "    \n",
    "    sampling_dist_df = pd.DataFrame({'props': np.zeros(num_runs)})\n",
    "    \n",
    "    for i in range(num_runs):\n",
    "        sampling_dist_df.loc[i, 'props'] = generate_one_sample_prop(num_sample, null_prop)\n",
    "        \n",
    "    return sampling_dist_df\n",
    "\n"
   ]
  },
  {
   "cell_type": "code",
   "execution_count": null,
   "id": "5c142e59",
   "metadata": {},
   "outputs": [],
   "source": [
    "# Do the HT\n",
    "\n",
    "## Ref: https://statsthinking21.github.io/statsthinking21-python/08-HypothesisTesting.html\n",
    "\n",
    "def compute_p_val(null_dist, null_prop, obs_stat, H_a = \"two-way\"):\n",
    "    \n",
    "    denom = null_dist.shape[0]\n",
    "    if H_a == \"less than\":\n",
    "        p_val = sum(null_dist[\"props\"] < obs_stat)\n",
    "        \n",
    "    elif H_a == \"greater than\":\n",
    "        p_val = sum(null_dist[\"props\"] > obs_stat)\n",
    "        \n",
    "    elif H_a == \"two-way\":\n",
    "        if obs_stat > null_prop:\n",
    "            left = sum(null_dist[\"props\"] < 1 - obs_stat)\n",
    "            right = sum(null_dist[\"props\"] > obs_stat)\n",
    "        elif obs_stat > null_prop:\n",
    "            right = sum(null_dist[\"props\"] > 1 - obs_stat)\n",
    "            left = sum(null_dist[\"props\"] < obs_stat)\n",
    "        p_val = right + left\n",
    "    \n",
    "    return p_val/denom"
   ]
  },
  {
   "cell_type": "code",
   "execution_count": null,
   "id": "5eab7ccb",
   "metadata": {},
   "outputs": [],
   "source": [
    "# Create the visualizations \n",
    "\n",
    "def make_plot(null_dist, prop_women):\n",
    "    bins = np.linspace(0,1,60)\n",
    "    plt.hist(null_dist, bins, density=False, alpha=0.5, label = \"sampling dist\")\n",
    "    plt.plot(prop_women, 1, 'o', color = 'k')\n",
    "    plt.show()"
   ]
  },
  {
   "cell_type": "code",
   "execution_count": 4,
   "id": "54113933",
   "metadata": {},
   "outputs": [],
   "source": [
    "# Import talk data\n",
    "\n",
    "# Load binary gendered talks \n",
    "talks_male = pd.read_csv('talks_male.csv', index_col='Talk_ID')\n",
    "talks_female = pd.read_csv('talks_female.csv', index_col='Talk_ID')\n",
    "\n",
    "# No one gender ==> NOG\n",
    "talks_nog = pd.read_csv('talks_nog.csv', index_col='Talk_ID')\n",
    "\n",
    "# Concatenate the talk data\n",
    "all_talks = pd.concat([talks_male,talks_female,talks_nog])"
   ]
  },
  {
   "cell_type": "code",
   "execution_count": 5,
   "id": "26d457c4",
   "metadata": {},
   "outputs": [],
   "source": [
    "# Import speaker data\n",
    "\n",
    "speakers = pd.read_csv('speakers_with_gender.csv', index_col='speaker')"
   ]
  },
  {
   "cell_type": "code",
   "execution_count": 6,
   "id": "55ea460d",
   "metadata": {},
   "outputs": [],
   "source": [
    "# Create list of events\n",
    "\n",
    "events = list(all_talks['event'].unique())"
   ]
  },
  {
   "cell_type": "code",
   "execution_count": 7,
   "id": "b2746d8c",
   "metadata": {},
   "outputs": [],
   "source": [
    "## Tests\n",
    "\n",
    "year = 2007"
   ]
  },
  {
   "cell_type": "code",
   "execution_count": 12,
   "id": "e30efaf5",
   "metadata": {},
   "outputs": [],
   "source": [
    "prop_w, total = prop_women_by_year(year)"
   ]
  },
  {
   "cell_type": "code",
   "execution_count": 34,
   "id": "4439fd61",
   "metadata": {},
   "outputs": [],
   "source": [
    "sampling_dist = generate_sampling_dist(num_runs = 1000, num_sample = 65, null_prop = 0.5)"
   ]
  },
  {
   "cell_type": "code",
   "execution_count": 35,
   "id": "9d7b836c",
   "metadata": {},
   "outputs": [
    {
     "data": {
      "text/plain": [
       "(1000, 1)"
      ]
     },
     "execution_count": 35,
     "metadata": {},
     "output_type": "execute_result"
    }
   ],
   "source": [
    "sampling_dist.shape"
   ]
  },
  {
   "cell_type": "code",
   "execution_count": 38,
   "id": "887c7bd5",
   "metadata": {},
   "outputs": [
    {
     "data": {
      "image/png": "[encoded data removed]",
      "text/plain": [
       "<Figure size 432x288 with 1 Axes>"
      ]
     },
     "metadata": {
      "needs_background": "light"
     },
     "output_type": "display_data"
    }
   ],
   "source": [
    "bins = np.linspace(0,1,60)\n",
    "plt.hist(sampling_dist, bins, density=False, alpha=0.5, label = \"sampling dist\")\n",
    "plt.plot(prop_w, 1, 'o', color = 'k')\n",
    "plt.plot(1-prop_w, 1, 'o', color = 'k')\n",
    "plt.plot(0.5, 1, 'o', color = 'k')\n",
    "plt.show()\n",
    "\n",
    "#add single point!"
   ]
  },
  {
   "cell_type": "code",
   "execution_count": 5,
   "id": "75072ae3",
   "metadata": {},
   "outputs": [
    {
     "data": {
      "text/plain": [
       "'TED2007'"
      ]
     },
     "execution_count": 5,
     "metadata": {},
     "output_type": "execute_result"
    }
   ],
   "source": [
    "year = '2007'\n",
    "event_name = 'TED' + str(year)\n",
    "event_name"
   ]
  },
  {
   "cell_type": "code",
   "execution_count": 6,
   "id": "e22838e5",
   "metadata": {},
   "outputs": [],
   "source": [
    "event_year = all_talks[all_talks['event'] == 'TED2007']\n"
   ]
  },
  {
   "cell_type": "code",
   "execution_count": null,
   "id": "38e92513",
   "metadata": {},
   "outputs": [],
   "source": []
  },
  {
   "cell_type": "code",
   "execution_count": 11,
   "id": "f2e55d7e",
   "metadata": {
    "scrolled": true
   },
   "outputs": [],
   "source": [
    "speaker_list = extract_speakers_by_year(2007)\n",
    "\n",
    "# How to check if the list is unique?? Extend somehow? \n",
    "# Done see above"
   ]
  },
  {
   "cell_type": "code",
   "execution_count": 16,
   "id": "465bb667",
   "metadata": {},
   "outputs": [
    {
     "data": {
      "text/plain": [
       "50"
      ]
     },
     "execution_count": 16,
     "metadata": {},
     "output_type": "execute_result"
    }
   ],
   "source": [
    "gender_year = speakers.loc[speaker_list]\n",
    "gender_counts = gender_year.groupby([\"Gender_handcheck\"])[\"Gender_handcheck\"].count()\n",
    "\n",
    "gender_counts[\"male\"]"
   ]
  },
  {
   "cell_type": "code",
   "execution_count": 13,
   "id": "c603f20c",
   "metadata": {},
   "outputs": [
    {
     "data": {
      "text/plain": [
       "66"
      ]
     },
     "execution_count": 13,
     "metadata": {},
     "output_type": "execute_result"
    }
   ],
   "source": [
    "gender_counts.sum()"
   ]
  },
  {
   "cell_type": "code",
   "execution_count": 17,
   "id": "cadbe816",
   "metadata": {},
   "outputs": [
    {
     "data": {
      "text/plain": [
       "(50, 15)"
      ]
     },
     "execution_count": 17,
     "metadata": {},
     "output_type": "execute_result"
    }
   ],
   "source": [
    "gender_counts[\"male\"], gender_counts[\"female\"]"
   ]
  },
  {
   "cell_type": "code",
   "execution_count": null,
   "id": "6f11480f",
   "metadata": {},
   "outputs": [],
   "source": []
  }
 ],
 "metadata": {
  "kernelspec": {
   "display_name": "Python 3 (ipykernel)",
   "language": "python",
   "name": "python3"
  },
  "language_info": {
   "codemirror_mode": {
    "name": "ipython",
    "version": 3
   },
   "file_extension": ".py",
   "mimetype": "text/x-python",
   "name": "python",
   "nbconvert_exporter": "python",
   "pygments_lexer": "ipython3",
   "version": "3.9.7"
  }
 },
 "nbformat": 4,
 "nbformat_minor": 5
}
