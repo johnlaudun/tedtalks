{
 "cells": [
  {
   "cell_type": "markdown",
   "metadata": {},
   "source": [
    "# Topics as Map or Index"
   ]
  },
  {
   "cell_type": "markdown",
   "metadata": {},
   "source": [
    "After loading the data, we are going to run the SciKit-Learn's NMF algorithm which is both fast for smaller corpora and deterministic in its outcomes varying the number of components until we seem to have achieved a stable number.\n",
    "\n",
    "We are including both main and other TED-curated events here so that we can see how much the separate events are part of the larger map or if they are distinct.\n",
    "\n",
    "As topic modelling has become more widespread, one of the issues increasingly being raised is right-sizing the number of components, since that is something that is principal variable given to the algorithm (be it LDA or NMF). The implementation that follows is based on the following:\n",
    "\n",
    "* In an article in _Towards Data Science_, [Evaluate Topic Models: Latent Dirichlet Allocation][kapadia], Shashank Kapadia observes that most evaluations of enumerated topics are extrinsic in nature, a product of subject matter expertise and/or utility in performing a classification task. His approach is to implement an intrinsic evaluation using **gensim**'s `CoherenceModel`. He then fine tunes the hyperparameters. \n",
    "* The third notebook in Derek Greene's three-notebook tutorial on NMF focuses on [Parameter Selection][greene]. One of the hyperparameters involved has to do with initialization: Greene notes that \"using SVD-based initialisation provides more reliable results.\" \n",
    "\n",
    "Greene's work is the foundation for the following exploration.\n",
    "\n",
    "[kapadia]: https://towardsdatascience.com/evaluate-topic-model-in-python-latent-dirichlet-allocation-lda-7d57484bb5d0\n",
    "[greene]: https://github.com/derekgreene/topic-model-tutorial/blob/master/3%20-%20Parameter%20Selection%20for%20NMF.ipynb"
   ]
  },
  {
   "cell_type": "markdown",
   "metadata": {},
   "source": [
    "## Imports and Data"
   ]
  },
  {
   "cell_type": "code",
   "execution_count": 1,
   "metadata": {},
   "outputs": [
    {
     "ename": "ImportError",
     "evalue": "cannot import name 'joblib' from 'sklearn.externals' (/opt/anaconda3/lib/python3.8/site-packages/sklearn/externals/__init__.py)",
     "output_type": "error",
     "traceback": [
      "\u001b[0;31m---------------------------------------------------------------------------\u001b[0m",
      "\u001b[0;31mImportError\u001b[0m                               Traceback (most recent call last)",
      "\u001b[0;32m<ipython-input-1-49d255cdbfdc>\u001b[0m in \u001b[0;36m<module>\u001b[0;34m\u001b[0m\n\u001b[1;32m      3\u001b[0m \u001b[0;32mimport\u001b[0m \u001b[0mre\u001b[0m\u001b[0;34m\u001b[0m\u001b[0;34m\u001b[0m\u001b[0m\n\u001b[1;32m      4\u001b[0m \u001b[0;32mimport\u001b[0m \u001b[0mnumpy\u001b[0m \u001b[0;32mas\u001b[0m \u001b[0mnp\u001b[0m\u001b[0;34m\u001b[0m\u001b[0;34m\u001b[0m\u001b[0m\n\u001b[0;32m----> 5\u001b[0;31m \u001b[0;32mfrom\u001b[0m \u001b[0msklearn\u001b[0m\u001b[0;34m.\u001b[0m\u001b[0mexternals\u001b[0m \u001b[0;32mimport\u001b[0m \u001b[0mjoblib\u001b[0m\u001b[0;34m\u001b[0m\u001b[0;34m\u001b[0m\u001b[0m\n\u001b[0m\u001b[1;32m      6\u001b[0m \u001b[0;32mfrom\u001b[0m \u001b[0msklearn\u001b[0m\u001b[0;34m.\u001b[0m\u001b[0mdecomposition\u001b[0m \u001b[0;32mimport\u001b[0m \u001b[0mNMF\u001b[0m\u001b[0;34m\u001b[0m\u001b[0;34m\u001b[0m\u001b[0m\n\u001b[1;32m      7\u001b[0m \u001b[0;34m\u001b[0m\u001b[0m\n",
      "\u001b[0;31mImportError\u001b[0m: cannot import name 'joblib' from 'sklearn.externals' (/opt/anaconda3/lib/python3.8/site-packages/sklearn/externals/__init__.py)"
     ]
    }
   ],
   "source": [
    "# Imports #\n",
    "import pandas as pd\n",
    "import re\n",
    "import numpy as np\n",
    "from sklearn.externals import joblib\n",
    "from sklearn.decomposition import NMF\n",
    "\n",
    "import matplotlib as mpl\n",
    "import matplotlib.pyplot as plt\n",
    "plt.style.use(\"ggplot\")\n",
    "mpl.rcParams.update({\"font.size\": 14})"
   ]
  },
  {
   "cell_type": "code",
   "execution_count": 2,
   "metadata": {
    "scrolled": true
   },
   "outputs": [
    {
     "name": "stdout",
     "output_type": "stream",
     "text": [
      "Loaded 1747 X 29197 document-term matrix.\n"
     ]
    }
   ],
   "source": [
    "(tfidf, terms, talks) = joblib.load( \"talks-tfidf.pkl\" )\n",
    "print( f\"Loaded {tfidf.shape[0]} X {tfidf.shape[1]} document-term matrix.\")"
   ]
  },
  {
   "cell_type": "code",
   "execution_count": 10,
   "metadata": {},
   "outputs": [],
   "source": [
    "df = pd.read_csv('../output/TEDall.csv')\n",
    "\n",
    "# Having the talks is handy for cross-checking work:\n",
    "talks = df.text.tolist()\n",
    "# Create some labels we can use later but remove the redundant parts of the URL:\n",
    "labels = [re.sub('https://www.ted.com/talks/', '',item) for item in df.public_url.tolist()]"
   ]
  },
  {
   "cell_type": "markdown",
   "metadata": {},
   "source": [
    "## NMF"
   ]
  },
  {
   "cell_type": "markdown",
   "metadata": {},
   "source": [
    "Following our exploration of the appropriate number of topics for this corpus, we will attempt a rough first pass at topic modeling the TED talk corpus. Since early experiments suggested that ~50 topics might be appropriate, we will start there.\n",
    "\n",
    "NMF produces two factor matrices as its output: **W** and **H**. \n",
    "\n",
    "The **W** factor contains the document membership weights relative to each of the k topics. Each row corresponds to a single document, and each column correspond to a topic.\n",
    "\n",
    "The **H** factor contains the term weights relative to each of the k topics. In this case, each row corresponds to a topic, and each column corresponds to a unique term in the corpus vocabulary.\n",
    "\n",
    "So our 1747 X 29197 term matrix is broken down into two matrices, one 1747 x 50 and the other 50 x 29197.)"
   ]
  },
  {
   "cell_type": "code",
   "execution_count": 7,
   "metadata": {},
   "outputs": [],
   "source": [
    "k = 50\n",
    "model = NMF( init=\"nndsvd\", n_components= k ) \n",
    "# apply the model and extract the two factor matrices\n",
    "W = model.fit_transform( tfidf )\n",
    "H = model.components_"
   ]
  },
  {
   "cell_type": "code",
   "execution_count": 8,
   "metadata": {},
   "outputs": [
    {
     "data": {
      "text/plain": [
       "((1747, 50), (50, 29197))"
      ]
     },
     "execution_count": 8,
     "metadata": {},
     "output_type": "execute_result"
    }
   ],
   "source": [
    "W.shape, H.shape"
   ]
  },
  {
   "cell_type": "code",
   "execution_count": 24,
   "metadata": {},
   "outputs": [
    {
     "data": {
      "text/plain": [
       "['../output/test-model-nmf-k50.pkl']"
      ]
     },
     "execution_count": 24,
     "metadata": {},
     "output_type": "execute_result"
    }
   ],
   "source": [
    "# It looks like terms is something we get for free with NMF\n",
    "# joblib.dump((W,H,terms,talks), f\"../output/test-model-nmf-k{k}.pkl\")"
   ]
  },
  {
   "cell_type": "markdown",
   "metadata": {},
   "source": [
    "## Exploration"
   ]
  },
  {
   "cell_type": "code",
   "execution_count": 12,
   "metadata": {},
   "outputs": [
    {
     "data": {
      "text/plain": [
       "\"  Thank you so much, Chris. And it's truly a great honor to have the opportunity to come to this stage twice; I'm extremely grateful. I have been blown away by this conference, and I want to thank all\""
      ]
     },
     "execution_count": 12,
     "metadata": {},
     "output_type": "execute_result"
    }
   ],
   "source": [
    "talks[0][0:200]"
   ]
  },
  {
   "cell_type": "code",
   "execution_count": 31,
   "metadata": {
    "scrolled": true
   },
   "outputs": [
    {
     "data": {
      "text/plain": [
       "array([0.01, 0.  , 0.01, 0.  , 0.  , 0.  , 0.  , 0.  , 0.  , 0.  , 0.01,\n",
       "       0.  , 0.  , 0.  , 0.  , 0.  , 0.  , 0.  , 0.07, 0.07, 0.03, 0.  ,\n",
       "       0.01, 0.  , 0.  , 0.  , 0.  , 0.  , 0.01, 0.  , 0.  , 0.  , 0.  ,\n",
       "       0.  , 0.02, 0.  , 0.  , 0.03, 0.01, 0.  , 0.  , 0.03, 0.  , 0.  ,\n",
       "       0.  , 0.  , 0.  , 0.01, 0.  , 0.  ])"
      ]
     },
     "execution_count": 31,
     "metadata": {},
     "output_type": "execute_result"
    }
   ],
   "source": [
    "# Topic weights for first document rounded to 2 decimal places for display purposes\n",
    "W[0,:].round(2)"
   ]
  },
  {
   "cell_type": "markdown",
   "metadata": {},
   "source": [
    "I'm still working on understanding array slicing versus list slicing: `[0,:]` is Row 0 and all the columns. A simple list slice -- `W[0].round(2)` -- produces the same results. However, to see all the documents associated with a particular topic, we want all the rows for a given column:"
   ]
  },
  {
   "cell_type": "code",
   "execution_count": 32,
   "metadata": {},
   "outputs": [
    {
     "data": {
      "text/plain": [
       "array([0.01, 0.01, 0.  , ..., 0.  , 0.  , 0.  ])"
      ]
     },
     "execution_count": 32,
     "metadata": {},
     "output_type": "execute_result"
    }
   ],
   "source": [
    "W[:,0].round(2)"
   ]
  },
  {
   "cell_type": "markdown",
   "metadata": {},
   "source": [
    "We can likewise see which topics a term is most associated. (The talk above is Al Gore's on climate change so seeing that the term climate is most associated with a topic strongly related to Gore's talk confirms that things are working reasonably well.)"
   ]
  },
  {
   "cell_type": "code",
   "execution_count": 13,
   "metadata": {},
   "outputs": [
    {
     "data": {
      "text/plain": [
       "array([0.  , 0.  , 0.  , 0.  , 0.  , 0.  , 0.  , 0.  , 0.  , 0.  , 0.  ,\n",
       "       0.  , 0.  , 0.  , 0.  , 0.  , 0.  , 0.  , 0.  , 2.35, 0.  , 0.05,\n",
       "       0.  , 0.07, 0.  , 0.  , 0.  , 0.  , 0.  , 0.  , 0.  , 0.  , 0.  ,\n",
       "       0.  , 0.  , 0.  , 0.  , 0.  , 0.  , 0.  , 0.  , 0.  , 0.  , 0.  ,\n",
       "       0.  , 0.  , 0.  , 0.  , 0.  , 0.  ])"
      ]
     },
     "execution_count": 13,
     "metadata": {},
     "output_type": "execute_result"
    }
   ],
   "source": [
    "term_index = terms.index('climate')\n",
    "# round to 2 decimal places for display purposes\n",
    "H[:,term_index].round(2)"
   ]
  },
  {
   "cell_type": "markdown",
   "metadata": {},
   "source": [
    "## Descriptors (Topic Word Clusters)"
   ]
  },
  {
   "cell_type": "code",
   "execution_count": 14,
   "metadata": {},
   "outputs": [],
   "source": [
    "def get_descriptor( all_terms, H, topic_index, top ):\n",
    "    # reverse sort the values to sort the indices\n",
    "    top_indices = np.argsort( H[topic_index,:] )[::-1]\n",
    "    # now get the terms corresponding to the top-ranked indices\n",
    "    top_terms = []\n",
    "    for term_index in top_indices[0:top]:\n",
    "        top_terms.append( all_terms[term_index] )\n",
    "    return top_terms"
   ]
  },
  {
   "cell_type": "code",
   "execution_count": 19,
   "metadata": {},
   "outputs": [
    {
     "name": "stdout",
     "output_type": "stream",
     "text": [
      "Topic  1: going, know, really, things, think, people, get, actually\n",
      "Topic  2: music, guitar, ends, classical, play, orchestra, violin, musical\n",
      "Topic  3: said, would, know, life, man, never, day, love\n",
      "Topic  4: china, growth, chinese, economic, countries, india, democracy, world\n",
      "Topic  5: cells, stem, cell, tissue, bone, actually, body, disease\n",
      "Topic  6: planets, earth, planet, mars, stars, telescope, star, solar\n",
      "Topic  7: god, religious, religion, faith, religions, world, compassion, church\n",
      "Topic  8: building, architecture, buildings, space, architects, city, built, spaces\n",
      "Topic  9: brain, neurons, brains, cortex, going, see, neuroscience, body\n",
      "Topic 10: women, men, woman, pm, gender, equality, feminist, male\n",
      "Topic 11: africa, african, continent, africans, countries, nigeria, south, aid\n",
      "Topic 12: robot, robots, locomotion, robotics, rules, move, see, legs\n",
      "Topic 13: patients, health, medical, patient, doctors, care, doctor, medicine\n",
      "Topic 14: internet, information, media, online, government, twitter, people, phone\n",
      "Topic 15: universe, theory, quantum, particles, galaxies, physics, space, galaxy\n",
      "Topic 16: students, education, teachers, school, class, classroom, student, science\n",
      "Topic 17: cancer, tumor, pancreatic, cancers, disease, breast, body, blood\n",
      "Topic 18: cities, city, rio, people, urban, new, map, mayors\n",
      "Topic 19: laughter, said, oh, know, yeah, ok, says, get\n",
      "Topic 20: climate, carbon, emissions, change, global, warming, clouds, co2\n",
      "Topic 21: car, cars, driving, vehicle, vehicles, drive, driver, going\n",
      "Topic 22: ice, pole, antarctica, glacier, cave, ocean, snow, sea\n",
      "Topic 23: energy, oil, solar, light, gas, electricity, coal, power\n",
      "Topic 24: food, plant, plants, farmers, bees, eat, bread, seeds\n",
      "Topic 25: people, happiness, life, us, think, feel, self, social\n",
      "Topic 26: art, artist, painting, artists, images, museum, paint, image\n",
      "Topic 27: video, game, games, virtual, see, technology, reality, play\n",
      "Topic 28: sound, voice, listening, noise, sounds, hear, song, ears\n",
      "Topic 29: forest, trees, forests, tree, carbon, species, canopy, soil\n",
      "Topic 30: data, information, web, map, see, algorithms, look, algorithm\n",
      "Topic 31: nuclear, fusion, reactor, weapons, reactors, power, wind, uranium\n",
      "Topic 32: ca, em, yeah, wk, rb, think, mean, ja\n",
      "Topic 33: dna, genes, genome, gene, genetic, crispr, cell, code\n",
      "Topic 34: language, english, languages, words, word, autism, speak, chinese\n",
      "Topic 35: design, designers, designed, designer, designing, new, products, work\n",
      "Topic 36: refugees, refugee, camp, syrian, europe, countries, people, syria\n",
      "Topic 37: machine, machines, ai, human, intelligence, computer, technology, artificial\n",
      "Topic 38: dollars, money, business, companies, people, percent, market, company\n",
      "Topic 39: fly, space, flying, flight, aircraft, airplane, wing, wings\n",
      "Topic 40: animals, species, fish, ocean, sea, animal, coral, birds\n",
      "Topic 41: ebola, malaria, vaccine, vaccines, virus, flu, disease, mosquitoes\n",
      "Topic 42: stories, story, film, films, news, books, fiction, movie\n",
      "Topic 43: bacteria, molecule, antibiotics, molecules, light, organisms, quorum, bacterium\n",
      "Topic 44: children, kids, school, child, parents, teachers, autism, poverty\n",
      "Topic 45: girls, girl, sex, boys, young, school, sexual, women\n",
      "Topic 46: water, waste, river, plastic, drinking, coating, material, materials\n",
      "Topic 47: microbes, microbial, air, antibiotics, community, gut, ventilated, ecosystems\n",
      "Topic 48: war, democracy, people, peace, political, violence, government, conflict\n",
      "Topic 49: black, race, white, racial, racism, hole, men, african\n",
      "Topic 50: hiv, aids, virus, infected, drugs, drug, sex, treatment\n"
     ]
    }
   ],
   "source": [
    "descriptors = []\n",
    "for topic_index in range(k):\n",
    "    descriptors.append( get_descriptor( terms, H, topic_index, 8 ) )\n",
    "    str_descriptor = \", \".join( descriptors[topic_index] )\n",
    "    print(f\"Topic {topic_index+1:2d}: {str_descriptor}\" )"
   ]
  },
  {
   "cell_type": "markdown",
   "metadata": {},
   "source": [
    "Greene notes that it would be nice to see the weights for each term in a descriptor. "
   ]
  },
  {
   "cell_type": "code",
   "execution_count": 20,
   "metadata": {},
   "outputs": [],
   "source": [
    "def plot_top_term_weights( terms, H, topic_index, top ):\n",
    "    # get the top terms and their weights\n",
    "    top_indices = np.argsort( H[topic_index,:] )[::-1]\n",
    "    top_terms = []\n",
    "    top_weights = []\n",
    "    for term_index in top_indices[0:top]:\n",
    "        top_terms.append( terms[term_index] )\n",
    "        top_weights.append( H[topic_index,term_index] )\n",
    "    # note we reverse the ordering for the plot\n",
    "    top_terms.reverse()\n",
    "    top_weights.reverse()\n",
    "    # create the plot\n",
    "    fig = plt.figure(figsize=(13,8))\n",
    "    # add the horizontal bar chart\n",
    "    ypos = np.arange(top)\n",
    "    ax = plt.barh(ypos, top_weights, align=\"center\", color=\"green\",tick_label=top_terms)\n",
    "    plt.xlabel(\"Term Weight\",fontsize=14)\n",
    "    plt.tight_layout()\n",
    "    plt.show()"
   ]
  },
  {
   "cell_type": "code",
   "execution_count": 21,
   "metadata": {
    "scrolled": false
   },
   "outputs": [
    {
     "data": {
      "image/png": "[encoded data removed]",
      "text/plain": [
       "<Figure size 936x576 with 1 Axes>"
      ]
     },
     "metadata": {
      "needs_background": "light"
     },
     "output_type": "display_data"
    }
   ],
   "source": [
    "plot_top_term_weights( terms, H, 20, 10 )"
   ]
  },
  {
   "cell_type": "markdown",
   "metadata": {},
   "source": [
    "And which documents are most associated with a given topic:"
   ]
  },
  {
   "cell_type": "code",
   "execution_count": 22,
   "metadata": {},
   "outputs": [],
   "source": [
    "def get_top_docs( documents, W, topic_index, top ):\n",
    "    # reverse sort the values to sort the indices\n",
    "    top_indices = np.argsort( W[:,topic_index] )[::-1]\n",
    "    # now get the snippets corresponding to the top-ranked indices\n",
    "    top_docs = []\n",
    "    for doc_index in top_indices[0:top]:\n",
    "        top_docs.append( documents[doc_index] )\n",
    "    return top_docs"
   ]
  },
  {
   "cell_type": "code",
   "execution_count": 23,
   "metadata": {},
   "outputs": [
    {
     "name": "stdout",
     "output_type": "stream",
     "text": [
      "1:   So in 1885, Karl B\n",
      "2:   So how would you r\n",
      "3:   By birth and by ch\n",
      "4:   As a boy, I loved \n",
      "5:   Today I wanted to \n"
     ]
    }
   ],
   "source": [
    "topic_documents = get_top_docs( talks, W, 20, 5 )\n",
    "for i, talk in enumerate(topic_documents):\n",
    "    print(f\"{i+1}: {talk[0:20]}\")\n",
    "#     print(f\"{i+1}: {labels[i]}\") # See note below "
   ]
  },
  {
   "cell_type": "markdown",
   "metadata": {},
   "source": [
    "Eventually will want this to list the talk: \n",
    "\n",
    "    1: al_gore_on_averting_climate_crisis"
   ]
  }
 ],
 "metadata": {
  "kernelspec": {
   "display_name": "Python 3 (ipykernel)",
   "language": "python",
   "name": "python3"
  },
  "language_info": {
   "codemirror_mode": {
    "name": "ipython",
    "version": 3
   },
   "file_extension": ".py",
   "mimetype": "text/x-python",
   "name": "python",
   "nbconvert_exporter": "python",
   "pygments_lexer": "ipython3",
   "version": "3.9.7"
  },
  "toc": {
   "base_numbering": 1,
   "nav_menu": {},
   "number_sections": true,
   "sideBar": true,
   "skip_h1_title": true,
   "title_cell": "",
   "title_sidebar": "Contents",
   "toc_cell": true,
   "toc_position": 2,
   "toc_section_display": true,
   "toc_window_display": false
  }
 },
 "nbformat": 4,
 "nbformat_minor": 2
}
