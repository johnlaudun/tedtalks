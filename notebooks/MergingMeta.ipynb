{
 "cells": [
  {
   "cell_type": "code",
   "execution_count": 2,
   "metadata": {
    "collapsed": true
   },
   "outputs": [],
   "source": [
    "import csv\n",
    "import sys, os\n",
    "import pandas as pd\n",
    "import numpy as np"
   ]
  },
  {
   "cell_type": "markdown",
   "metadata": {},
   "source": [
    "The basic code outline is as follows:   \n",
    "0. Import both *talks_6e.csv* and *metadata_all.csv*. Create output file *talks_6f.csv*\n",
    "1. Sort each import by the author name\n",
    "2. ~~For *metadata_all.csv*, create a new colum that breaks the slug up into a list of lower-cased words.~~ \n",
    "3. Create an index list for *metadata_all.csv*. The idea of this list is to remove rows from consideration as we match the slugs to rows in *talks_6e.csv*.\n",
    "4. Loop over each row in *talks_6e.csv*:\n",
    "  1. Create two new lists to use: \n",
    "    * The list of names, all lower cased\n",
    "    * The list of words in the title, all lowered case\n",
    "  2. Iterate over each available row in *metadata_all.csv*, matching the author lists to the slug lists. \n",
    "    * If the author and slug lists intersect over at least 50% of the words in the author list, then compare the title and slug lists\n",
    "    * If the title and slug lists match over 50% of the words in the title list, then match these rows and create a new row in the output that has the information from both *talks_6e.csv* and *metadata_all.csv*. Then move on to the next row of *metadata_all.csv*.\n",
    "    * If no match is found, move on to the next row of *metadata_all.csv*."
   ]
  },
  {
   "cell_type": "code",
   "execution_count": 3,
   "metadata": {},
   "outputs": [],
   "source": [
    "# Step 0 - Import CSV files\n",
    "read1 = csv.reader(open('../data/talks_6e.csv'))\n",
    "headers = next(read1)\n",
    "\n",
    "read2 = csv.reader(open('../../tedmetadata/metadata_all.csv'))\n",
    "head2 = next(read2)\n",
    "\n",
    "# Create output file\n",
    "# 1) Edit the headers such that:\n",
    "#    * 'date' --> 'published'\n",
    "#    * 'numDate' --> numPub'\n",
    "\n",
    "ind = headers.index('date')\n",
    "headers[ind] = 'published'\n",
    "\n",
    "ind = headers.index('numDate')\n",
    "headers[ind] = 'numPub'\n",
    "\n",
    "# 2) Add headers from the *metadata_all.csv* file\n",
    "headers = headers + head2[1:] + ['numFilmed']"
   ]
  },
  {
   "cell_type": "code",
   "execution_count": null,
   "metadata": {
    "collapsed": true
   },
   "outputs": [],
   "source": [
    "# Step 1 - Sort each import: one by slug, the other by author"
   ]
  },
  {
   "cell_type": "code",
   "execution_count": null,
   "metadata": {
    "collapsed": true
   },
   "outputs": [],
   "source": [
    "# Step 2 - For *metadata_all.csv*, create a dataframe with a new column where there is a list of words\n",
    "# jk, we're just going to do this in the loop"
   ]
  },
  {
   "cell_type": "code",
   "execution_count": null,
   "metadata": {
    "collapsed": true
   },
   "outputs": [],
   "source": [
    "# Step 3 - Create an index list for *metadata_all.csv*"
   ]
  },
  {
   "cell_type": "code",
   "execution_count": null,
   "metadata": {
    "collapsed": true
   },
   "outputs": [],
   "source": [
    "# Step 4 - Loop over the rows in *talks_6e.csv*"
   ]
  }
 ],
 "metadata": {
  "kernelspec": {
   "display_name": "Python 3",
   "language": "python",
   "name": "python3"
  },
  "language_info": {
   "codemirror_mode": {
    "name": "ipython",
    "version": 3
   },
   "file_extension": ".py",
   "mimetype": "text/x-python",
   "name": "python",
   "nbconvert_exporter": "python",
   "pygments_lexer": "ipython3",
   "version": "3.6.3"
  }
 },
 "nbformat": 4,
 "nbformat_minor": 2
}
