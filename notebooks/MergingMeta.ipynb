{
 "cells": [
  {
   "cell_type": "code",
   "execution_count": 1,
   "metadata": {
    "collapsed": true
   },
   "outputs": [],
   "source": [
    "import csv\n",
    "import sys, os\n",
    "import pandas as pd\n",
    "import numpy as np"
   ]
  },
  {
   "cell_type": "markdown",
   "metadata": {},
   "source": [
    "The basic code outline is as follows:   \n",
    "0. Import both *talks_6e.csv* and *metadata_all.csv*\n",
    "1. Sort each import by the author name\n",
    "2. For *talks_6e.csv*, create two new columns:\n",
    "  * The list of names, all lower cased\n",
    "  * The list of words in the title, all lowered case\n",
    "3. Create an index list for *talks_6e.csv*. The idea of this list is to remove rows from consideration as they are matched to their slug from *metadata_all.csv*.\n",
    "4. Loop over each row in *metadata_all.csv*:\n",
    "  1. Create a list of words in the slug. Ensure that each word is lower-cased\n",
    "  2. Iterate over each available row in *talks_6e.csv*, matching the author lists to the slug lists. \n",
    "    * If the author and slug lists intersect over at least 50% of the words in the author list, then compare the title and slug lists\n",
    "    * If the title and slug lists match over 50% of the words in the title list, then match these rows and create a new row in the output that has the information from both *talks_6e.csv* and *metadata_all.csv*. Then move on to the next row of *metadata_all.csv*.\n",
    "    * If no match is found, move on to the next row of *metadata_all.csv*."
   ]
  },
  {
   "cell_type": "code",
   "execution_count": null,
   "metadata": {
    "collapsed": true
   },
   "outputs": [],
   "source": []
  }
 ],
 "metadata": {
  "kernelspec": {
   "display_name": "Python 3",
   "language": "python",
   "name": "python3"
  },
  "language_info": {
   "codemirror_mode": {
    "name": "ipython",
    "version": 3
   },
   "file_extension": ".py",
   "mimetype": "text/x-python",
   "name": "python",
   "nbconvert_exporter": "python",
   "pygments_lexer": "ipython3",
   "version": "3.6.3"
  }
 },
 "nbformat": 4,
 "nbformat_minor": 2
}
