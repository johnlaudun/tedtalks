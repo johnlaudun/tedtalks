{
 "cells": [
  {
   "cell_type": "markdown",
   "metadata": {
    "toc": true
   },
   "source": [
    "<h1>Table of Contents<span class=\"tocSkip\"></span></h1>\n",
    "<div class=\"toc\"><ul class=\"toc-item\"><li><span><a href=\"#Load-the-Data-&amp;-Count-the-Words\" data-toc-modified-id=\"Load-the-Data-&amp;-Count-the-Words-1\"><span class=\"toc-item-num\">1&nbsp;&nbsp;</span>Load the Data &amp; Count the Words</a></span></li><li><span><a href=\"#Configure-&amp;-Create-the-Topic-Model\" data-toc-modified-id=\"Configure-&amp;-Create-the-Topic-Model-2\"><span class=\"toc-item-num\">2&nbsp;&nbsp;</span>Configure &amp; Create the Topic Model</a></span></li></ul></div>"
   ]
  },
  {
   "cell_type": "markdown",
   "metadata": {},
   "source": [
    "# LDA Topic Model"
   ]
  },
  {
   "cell_type": "markdown",
   "metadata": {},
   "source": [
    "## Load the Data & Count the Words\n",
    "\n",
    "We could simply load the saved TF matrices here:"
   ]
  },
  {
   "cell_type": "code",
   "execution_count": null,
   "metadata": {
    "scrolled": true
   },
   "outputs": [],
   "source": [
    "import pandas as pd\n",
    "\n",
    "df = pd.read_csv('../output/TEDall_speakers.csv')"
   ]
  },
  {
   "cell_type": "code",
   "execution_count": null,
   "metadata": {},
   "outputs": [],
   "source": [
    "talks = df.text.tolist()\n",
    "len(talks)"
   ]
  },
  {
   "cell_type": "code",
   "execution_count": null,
   "metadata": {},
   "outputs": [],
   "source": [
    "from sklearn.feature_extraction.text import CountVectorizer"
   ]
  },
  {
   "cell_type": "code",
   "execution_count": null,
   "metadata": {
    "scrolled": true
   },
   "outputs": [],
   "source": [
    "vectorizer = CountVectorizer()\n",
    "tf_all = vectorizer.fit_transform(talks)\n",
    "tf.shape"
   ]
  },
  {
   "cell_type": "code",
   "execution_count": null,
   "metadata": {},
   "outputs": [],
   "source": [
    "vectorizer_fewer = CountVectorizer(max_df = 1.0, \n",
    "                                min_df = 5)\n",
    "tf_fewer = vectorizer_fewer.fit_transform(talks)\n",
    "tf_fewer.shape"
   ]
  },
  {
   "cell_type": "markdown",
   "metadata": {},
   "source": [
    "## Configure & Create the Topic Model"
   ]
  },
  {
   "cell_type": "code",
   "execution_count": null,
   "metadata": {},
   "outputs": [],
   "source": [
    "from sklearn.decomposition import LatentDirichletAllocation\n",
    "\n",
    "lda = LatentDirichletAllocation(n_components = n_topics, \n",
    "                                max_iter = 20, \n",
    "                                learning_method = 'online', \n",
    "                                learning_offset = 50.,\n",
    "                                random_state = 0)\n",
    "\n",
    "lda.fit(tf)\n",
    "\n",
    "display_topics(lda, tf_feature_names, n_top_words)\n",
    "# Get W (DTM) and H (WTM) arrays\n",
    "lda_W = lda.transform(tf)\n",
    "lda_H = lda.components_\n",
    "\n",
    "df_lda_DTM = pd.DataFrame(data= lda_W, index = docs, columns = topic_labels)\n",
    "df_lda_DTM.to_csv('../outputs/lda_DTM.csv', sep=',')\n",
    "print(df_lda_DTM)"
   ]
  }
 ],
 "metadata": {
  "kernelspec": {
   "display_name": "Python 3",
   "language": "python",
   "name": "python3"
  },
  "language_info": {
   "codemirror_mode": {
    "name": "ipython",
    "version": 3
   },
   "file_extension": ".py",
   "mimetype": "text/x-python",
   "name": "python",
   "nbconvert_exporter": "python",
   "pygments_lexer": "ipython3",
   "version": "3.6.10"
  },
  "toc": {
   "base_numbering": 1,
   "nav_menu": {},
   "number_sections": true,
   "sideBar": true,
   "skip_h1_title": true,
   "title_cell": "Table of Contents",
   "title_sidebar": "Contents",
   "toc_cell": true,
   "toc_position": {},
   "toc_section_display": true,
   "toc_window_display": false
  }
 },
 "nbformat": 4,
 "nbformat_minor": 2
}
