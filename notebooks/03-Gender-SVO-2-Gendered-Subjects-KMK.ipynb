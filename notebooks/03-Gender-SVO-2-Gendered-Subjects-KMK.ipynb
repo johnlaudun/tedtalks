{
 "cells": [
  {
   "cell_type": "markdown",
   "metadata": {},
   "source": [
    "# SVO Gendered Subjects\n",
    "\n",
    "In this notebook, we explore pronouns as subjects in sentences across the two subcorpora. We start with gendered third person pronouns and then examine the use of \"I\".\n",
    "\n",
    "To be added: total percentage of pronouns appearing in SVOs in the two subcorpora. (Early calculations indicated pronouns -- `['i', 'we', 'she', 'he', 'they', 'it', 'you']` -- are the subjects of 70% of SVOs in both subcorpora. (Is this comparable to other forms of discourse?)"
   ]
  },
  {
   "cell_type": "code",
   "execution_count": 1,
   "metadata": {},
   "outputs": [],
   "source": [
    "# IMPORTS\n",
    "import pandas as pd\n",
    "import numpy as np\n",
    "import seaborn as sns\n",
    "# import networkx as nx\n",
    "# import plotly.graph_objects as go"
   ]
  },
  {
   "cell_type": "code",
   "execution_count": 2,
   "metadata": {},
   "outputs": [],
   "source": [
    "import matplotlib.pyplot as plt"
   ]
  },
  {
   "cell_type": "markdown",
   "metadata": {},
   "source": [
    "After importing our libraries, we import our data. Here we are using the lemmatized SVOs from the **SVO Verbs Lemmatized** notebook. The output here confirms that we have 80,460 SVOs for the men's subcorpus and 26,610 for the women's."
   ]
  },
  {
   "cell_type": "code",
   "execution_count": 3,
   "metadata": {},
   "outputs": [
    {
     "name": "stdout",
     "output_type": "stream",
     "text": [
      "80460 26610\n"
     ]
    }
   ],
   "source": [
    "# LOAD DATAFRAMES\n",
    "# the `lem` suffix indicates the verbs have been lemmatized\n",
    "svos_m = pd.read_csv(\"../output/svos_m_lem.csv\", index_col=0)\n",
    "svos_w = pd.read_csv(\"../output/svos_w_lem.csv\", index_col=0)\n",
    "\n",
    "print(svos_m.shape[0], svos_w.shape[0])"
   ]
  },
  {
   "cell_type": "markdown",
   "metadata": {},
   "source": [
    "## Subjects"
   ]
  },
  {
   "cell_type": "markdown",
   "metadata": {},
   "source": [
    "With the SVOs loaded, the first thing we do is to get a sense of the subjects involved, the **S** in SVO. \n",
    "\n",
    "The `compare` function takes a noun or pronoun and counts the number of times it appears as a subject. It then divides the count by the total number of SVOs for the particular subcorpus to give us a sense of the relative frequency.\n",
    "\n",
    "The numbers are not altogether surprising: men and women use \"he\" with close to the same frequency (0.4% difference), but women use \"she\" more than twice as often as men, 2.4% versus 1.1%. In both cases, the gendered pronouns do not represent a fairly small subset of the overall SVOs.\n",
    "\n",
    "The comparison of the gendered nouns man, men, woman, women turn up the slight tendency for men to use \"man\" and women to use \"men\", \"woman\", and \"women\" which causes us to wonder how \"man\" is being used in sentences: does it reflect a tendency to use man for human?\n",
    "\n",
    "Much more interesting are the frequencies of first and second person pronouns, with men using \"I\" in one in five SVOs (19.2%) and women one in four (23.4%). Both use we with relatively the same frequency (19.2% for men and 17.5% for women) and men have a tendency to use you more frequently, 14.9% versus 11.7% by women."
   ]
  },
  {
   "cell_type": "code",
   "execution_count": 4,
   "metadata": {},
   "outputs": [],
   "source": [
    "def compare (subject):\n",
    "    # Create name:\n",
    "    m_tmp = svos_m[svos_m[\"subject\"] == subject]\n",
    "    w_tmp = svos_w[svos_w[\"subject\"] == subject]\n",
    "    print(f'''\n",
    "    | ♂︎ | \"{subject}\" | {m_tmp.shape[0]} | {m_tmp.shape[0]/svos_m.shape[0]:.3f} |\n",
    "    | ♀︎ | \"{subject}\" | {w_tmp.shape[0]} | {w_tmp.shape[0]/svos_w.shape[0]:.3f} |''')"
   ]
  },
  {
   "cell_type": "markdown",
   "metadata": {},
   "source": [
    "### Third Person Perspective"
   ]
  },
  {
   "cell_type": "code",
   "execution_count": 5,
   "metadata": {},
   "outputs": [
    {
     "name": "stdout",
     "output_type": "stream",
     "text": [
      "\n",
      "    | ♂︎ | \"he\" | 2548 | 0.032 |\n",
      "    | ♀︎ | \"he\" | 757 | 0.028 |\n",
      "\n",
      "    | ♂︎ | \"she\" | 848 | 0.011 |\n",
      "    | ♀︎ | \"she\" | 643 | 0.024 |\n",
      "\n",
      "    | ♂︎ | \"man\" | 80 | 0.001 |\n",
      "    | ♀︎ | \"man\" | 13 | 0.000 |\n",
      "\n",
      "    | ♂︎ | \"woman\" | 24 | 0.000 |\n",
      "    | ♀︎ | \"woman\" | 35 | 0.001 |\n",
      "\n",
      "    | ♂︎ | \"men\" | 40 | 0.000 |\n",
      "    | ♀︎ | \"men\" | 23 | 0.001 |\n",
      "\n",
      "    | ♂︎ | \"women\" | 37 | 0.000 |\n",
      "    | ♀︎ | \"women\" | 62 | 0.002 |\n",
      "\n",
      "    | ♂︎ | \"actor\" | 3 | 0.000 |\n",
      "    | ♀︎ | \"actor\" | 1 | 0.000 |\n",
      "\n",
      "    | ♂︎ | \"actress\" | 0 | 0.000 |\n",
      "    | ♀︎ | \"actress\" | 0 | 0.000 |\n"
     ]
    }
   ],
   "source": [
    "thirdPerson = ['he', 'she', 'man', 'woman', 'men', 'women', 'actor', 'actress']\n",
    "\n",
    "for i in thirdPerson:\n",
    "    compare(i)"
   ]
  },
  {
   "cell_type": "markdown",
   "metadata": {},
   "source": [
    "### First & Second Person"
   ]
  },
  {
   "cell_type": "code",
   "execution_count": 6,
   "metadata": {},
   "outputs": [
    {
     "name": "stdout",
     "output_type": "stream",
     "text": [
      "\n",
      "    | ♂︎ | \"i\" | 15440 | 0.192 |\n",
      "    | ♀︎ | \"i\" | 6185 | 0.232 |\n",
      "\n",
      "    | ♂︎ | \"we\" | 15458 | 0.192 |\n",
      "    | ♀︎ | \"we\" | 4652 | 0.175 |\n",
      "\n",
      "    | ♂︎ | \"you\" | 11949 | 0.149 |\n",
      "    | ♀︎ | \"you\" | 3117 | 0.117 |\n"
     ]
    }
   ],
   "source": [
    "firstSecond = [\"i\", \"we\", \"you\"]\n",
    "\n",
    "for i in firstSecond:\n",
    "    compare(i)"
   ]
  },
  {
   "cell_type": "markdown",
   "metadata": {},
   "source": [
    "### Other Subjects"
   ]
  },
  {
   "cell_type": "code",
   "execution_count": 7,
   "metadata": {},
   "outputs": [
    {
     "name": "stdout",
     "output_type": "stream",
     "text": [
      "\n",
      "    | ♂︎ | \"john\" | 3 | 0.000 |\n",
      "    | ♀︎ | \"john\" | 0 | 0.000 |\n",
      "\n",
      "    | ♂︎ | \"will\" | 3 | 0.000 |\n",
      "    | ♀︎ | \"will\" | 0 | 0.000 |\n"
     ]
    }
   ],
   "source": [
    "# This is just a placeholder for more interesting words\n",
    "otherSubjects =  ['john', 'will']\n",
    "\n",
    "for i in otherSubjects:\n",
    "    compare(i)"
   ]
  },
  {
   "cell_type": "markdown",
   "metadata": {},
   "source": [
    "## Verbs"
   ]
  },
  {
   "cell_type": "markdown",
   "metadata": {},
   "source": [
    "Before delving into what verbs go with the pronouns above, it might be useful to establish an overall \"verb landscape,\" exploring along the way possible differences between the two subcorpora. (It might also give us a baseline against which to compare what turns up when we focus on verbs associated with particular subjects.)\n",
    "\n",
    "For this exploration of verbs we will first **group by** verb. (Later, we will want to group by pronouns and then by verb.) The `groupby` functionality will give us counts, and, if we want to doubele-check our math, we can sum the counts and check to see that they add up to the number of SVOs we have."
   ]
  },
  {
   "cell_type": "code",
   "execution_count": 8,
   "metadata": {
    "scrolled": true
   },
   "outputs": [
    {
     "name": "stdout",
     "output_type": "stream",
     "text": [
      "Men speakers:\n",
      "       verb  count\n",
      "1078  have   8897\n",
      "1024    go   3969\n",
      "710     do   3815\n",
      "1013   get   3065\n",
      "2551  want   2830 \n",
      "\n",
      "Women speakers:\n",
      "       verb  count\n",
      "736   have   2890\n",
      "475     do   1085\n",
      "695     go   1066\n",
      "1644  want    895\n",
      "691    get    795\n"
     ]
    }
   ],
   "source": [
    "# Verbs in men's subcorpus\n",
    "verbs_m = svos_m.groupby(\n",
    "    [\"verb\"]).size().reset_index(name=\"count\").sort_values([\"count\"], ascending=False)\n",
    "print(\"Men speakers:\\n\", verbs_m.head(),\"\\n\")\n",
    "\n",
    "# Verbs in women's subcorpus\n",
    "verbs_w = svos_w.groupby(\n",
    "    [\"verb\"]).size().reset_index(name=\"count\").sort_values([\"count\"], ascending=False)\n",
    "print(\"Women speakers:\\n\", verbs_w.head())\n",
    "\n",
    "## The first column in the OG index from before SORT_VALUES\n",
    "## KMK - initial attempt to remove this didn't work. "
   ]
  },
  {
   "cell_type": "code",
   "execution_count": 9,
   "metadata": {},
   "outputs": [
    {
     "data": {
      "text/html": [
       "<div>\n",
       "<style scoped>\n",
       "    .dataframe tbody tr th:only-of-type {\n",
       "        vertical-align: middle;\n",
       "    }\n",
       "\n",
       "    .dataframe tbody tr th {\n",
       "        vertical-align: top;\n",
       "    }\n",
       "\n",
       "    .dataframe thead th {\n",
       "        text-align: right;\n",
       "    }\n",
       "</style>\n",
       "<table border=\"1\" class=\"dataframe\">\n",
       "  <thead>\n",
       "    <tr style=\"text-align: right;\">\n",
       "      <th></th>\n",
       "      <th>verb</th>\n",
       "      <th>count</th>\n",
       "    </tr>\n",
       "  </thead>\n",
       "  <tbody>\n",
       "    <tr>\n",
       "      <th>1078</th>\n",
       "      <td>have</td>\n",
       "      <td>8897</td>\n",
       "    </tr>\n",
       "    <tr>\n",
       "      <th>1024</th>\n",
       "      <td>go</td>\n",
       "      <td>3969</td>\n",
       "    </tr>\n",
       "    <tr>\n",
       "      <th>710</th>\n",
       "      <td>do</td>\n",
       "      <td>3815</td>\n",
       "    </tr>\n",
       "    <tr>\n",
       "      <th>1013</th>\n",
       "      <td>get</td>\n",
       "      <td>3065</td>\n",
       "    </tr>\n",
       "    <tr>\n",
       "      <th>2551</th>\n",
       "      <td>want</td>\n",
       "      <td>2830</td>\n",
       "    </tr>\n",
       "    <tr>\n",
       "      <th>...</th>\n",
       "      <td>...</td>\n",
       "      <td>...</td>\n",
       "    </tr>\n",
       "    <tr>\n",
       "      <th>564</th>\n",
       "      <td>decimate</td>\n",
       "      <td>1</td>\n",
       "    </tr>\n",
       "    <tr>\n",
       "      <th>1011</th>\n",
       "      <td>georges</td>\n",
       "      <td>1</td>\n",
       "    </tr>\n",
       "    <tr>\n",
       "      <th>1454</th>\n",
       "      <td>nonsteroidal</td>\n",
       "      <td>1</td>\n",
       "    </tr>\n",
       "    <tr>\n",
       "      <th>1959</th>\n",
       "      <td>rework</td>\n",
       "      <td>1</td>\n",
       "    </tr>\n",
       "    <tr>\n",
       "      <th>2110</th>\n",
       "      <td>signify</td>\n",
       "      <td>1</td>\n",
       "    </tr>\n",
       "  </tbody>\n",
       "</table>\n",
       "<p>2631 rows × 2 columns</p>\n",
       "</div>"
      ],
      "text/plain": [
       "              verb  count\n",
       "1078          have   8897\n",
       "1024            go   3969\n",
       "710             do   3815\n",
       "1013           get   3065\n",
       "2551          want   2830\n",
       "...            ...    ...\n",
       "564       decimate      1\n",
       "1011       georges      1\n",
       "1454  nonsteroidal      1\n",
       "1959        rework      1\n",
       "2110       signify      1\n",
       "\n",
       "[2631 rows x 2 columns]"
      ]
     },
     "execution_count": 9,
     "metadata": {},
     "output_type": "execute_result"
    }
   ],
   "source": [
    "svos_m.groupby([\"verb\"]).size().reset_index(name=\"count\").sort_values([\"count\"], ascending=False)"
   ]
  },
  {
   "cell_type": "code",
   "execution_count": 10,
   "metadata": {},
   "outputs": [
    {
     "name": "stdout",
     "output_type": "stream",
     "text": [
      "80460 26610\n"
     ]
    }
   ],
   "source": [
    "verbs_m_total = verbs_m['count'].sum()\n",
    "verbs_w_total = verbs_w['count'].sum()\n",
    "print(verbs_m_total, verbs_w_total)"
   ]
  },
  {
   "cell_type": "markdown",
   "metadata": {},
   "source": [
    "This block allows us to save these simple dataframes, which consist of one verb and its count per line:"
   ]
  },
  {
   "cell_type": "code",
   "execution_count": 11,
   "metadata": {},
   "outputs": [],
   "source": [
    "# Commented out so we don't create files unless it's desired.\n",
    "# verbs_m.to_csv(\"~/Desktop/verbs_m.csv\")\n",
    "# verbs_w.to_csv(\"~/Desktop/verbs_w.csv\")"
   ]
  },
  {
   "cell_type": "markdown",
   "metadata": {},
   "source": [
    "The total number of verbs for each subcorpus:"
   ]
  },
  {
   "cell_type": "code",
   "execution_count": 12,
   "metadata": {},
   "outputs": [
    {
     "name": "stdout",
     "output_type": "stream",
     "text": [
      "2631 1687\n"
     ]
    }
   ],
   "source": [
    "print(verbs_m.shape[0], verbs_w.shape[0])"
   ]
  },
  {
   "cell_type": "markdown",
   "metadata": {},
   "source": [
    "In the case of the male speakers, there are a total of 2631 verbs used, with 959 of those verbs occurring only once. That leaves us with 1672 verbs that occur at least twice. For female speakers, there are 1687 verbs in total, with 692 used only once, leaving 995 to be used twice or more.\n",
    "\n",
    "If we want to see those verbs with a particular count, we can create a cell with the following:\n",
    "\n",
    "```python\n",
    "TO DO\n",
    "```"
   ]
  },
  {
   "cell_type": "code",
   "execution_count": 13,
   "metadata": {},
   "outputs": [],
   "source": [
    "def verbs_by_count(verb_df, count_val, plus_minus=0):\n",
    "    \"\"\" From a data fram of verbs with counts, return the list of verbs that\n",
    "        have that count (plus or minus some amount)\n",
    "    INPUTS: \n",
    "     VERB_DF - The dataframe of the verbs with counts\n",
    "     COUNT_VAL - The exact count that one is interested in\n",
    "     PLUS_MINUS - The amount of \"wiggle\" room one adds to the count\n",
    "    \n",
    "    OUTPUTS: \n",
    "     List of verbs with that count number. \n",
    "     If PLUS_MINUS =/= 0, then a dataframe is returned.\n",
    "    \"\"\"\n",
    "    \n",
    "    # Create an index related to the count number\n",
    "    if plus_minus == 0: \n",
    "        inds = verb_df['count'] == count_val\n",
    "    \n",
    "    else:\n",
    "        inds = ((verb_df['count'] <= count_val + plus_minus) &\n",
    "                (verb_df['count'] >= count_val - plus_minus))\n",
    "        \n",
    "    # Check that INDS is not empty\n",
    "    if sum(inds) == 0:\n",
    "        return \"There are no verbs that match your search\"\n",
    "        \n",
    "    # List of verbs\n",
    "    if plus_minus == 0: \n",
    "        selected_verbs = verb_df[inds].sort_values([\"verb\"], ascending=True)\n",
    "        selected_verbs = selected_verbs['verb'].to_list()\n",
    "        \n",
    "    else: \n",
    "        selected_verbs = verb_df[inds]\n",
    "        \n",
    "    return selected_verbs"
   ]
  },
  {
   "cell_type": "code",
   "execution_count": 14,
   "metadata": {},
   "outputs": [
    {
     "data": {
      "text/html": [
       "<div>\n",
       "<style scoped>\n",
       "    .dataframe tbody tr th:only-of-type {\n",
       "        vertical-align: middle;\n",
       "    }\n",
       "\n",
       "    .dataframe tbody tr th {\n",
       "        vertical-align: top;\n",
       "    }\n",
       "\n",
       "    .dataframe thead th {\n",
       "        text-align: right;\n",
       "    }\n",
       "</style>\n",
       "<table border=\"1\" class=\"dataframe\">\n",
       "  <thead>\n",
       "    <tr style=\"text-align: right;\">\n",
       "      <th></th>\n",
       "      <th>verb</th>\n",
       "      <th>count</th>\n",
       "    </tr>\n",
       "  </thead>\n",
       "  <tbody>\n",
       "    <tr>\n",
       "      <th>2551</th>\n",
       "      <td>want</td>\n",
       "      <td>2830</td>\n",
       "    </tr>\n",
       "  </tbody>\n",
       "</table>\n",
       "</div>"
      ],
      "text/plain": [
       "      verb  count\n",
       "2551  want   2830"
      ]
     },
     "execution_count": 14,
     "metadata": {},
     "output_type": "execute_result"
    }
   ],
   "source": [
    "verbs_by_count(verbs_m, 2830, 2)"
   ]
  },
  {
   "cell_type": "code",
   "execution_count": 15,
   "metadata": {},
   "outputs": [
    {
     "data": {
      "text/plain": [
       "355"
      ]
     },
     "execution_count": 15,
     "metadata": {},
     "output_type": "execute_result"
    }
   ],
   "source": [
    "len(verbs_by_count(verbs_m, 2, 0))"
   ]
  },
  {
   "cell_type": "code",
   "execution_count": 16,
   "metadata": {},
   "outputs": [],
   "source": [
    "vc_out_m = np.zeros((100,2))\n",
    "\n",
    "for c in range(1,101):\n",
    "    out_put = verbs_by_count(verbs_m, c, 0)\n",
    "    if type(out_put) == str:\n",
    "        vc_out_m[c-1,:] = [c,0]\n",
    "    else: \n",
    "        num_verbs = len(out_put)\n",
    "        vc_out_m[c-1,:] = [c,num_verbs]"
   ]
  },
  {
   "cell_type": "code",
   "execution_count": 18,
   "metadata": {},
   "outputs": [
    {
     "data": {
      "text/plain": [
       "array([[  1., 959.],\n",
       "       [  2., 355.],\n",
       "       [  3., 203.],\n",
       "       [  4., 153.],\n",
       "       [  5., 102.]])"
      ]
     },
     "execution_count": 18,
     "metadata": {},
     "output_type": "execute_result"
    }
   ],
   "source": [
    "vc_out_m[:5]"
   ]
  },
  {
   "cell_type": "code",
   "execution_count": 19,
   "metadata": {},
   "outputs": [
    {
     "data": {
      "text/plain": [
       "<AxesSubplot:>"
      ]
     },
     "execution_count": 19,
     "metadata": {},
     "output_type": "execute_result"
    },
    {
     "data": {
      "image/png": "[encoded data removed]",
      "text/plain": [
       "<Figure size 432x288 with 1 Axes>"
      ]
     },
     "metadata": {
      "needs_background": "light"
     },
     "output_type": "display_data"
    }
   ],
   "source": [
    "sns.scatterplot(data = vc_out_m, x = vc_out_m[:,0], y = vc_out_m[:,1])"
   ]
  },
  {
   "cell_type": "code",
   "execution_count": 20,
   "metadata": {},
   "outputs": [],
   "source": [
    "vc_out_f = np.zeros((100,2))\n",
    "\n",
    "for c in range(1,101):\n",
    "    out_put = verbs_by_count(verbs_w, c, 0)\n",
    "    if type(out_put) == str:\n",
    "        vc_out_f[c-1,:] = [c,0]\n",
    "    else: \n",
    "        num_verbs = len(out_put)\n",
    "        vc_out_f[c-1,:] = [c,num_verbs]"
   ]
  },
  {
   "cell_type": "code",
   "execution_count": 21,
   "metadata": {},
   "outputs": [
    {
     "data": {
      "text/plain": [
       "<AxesSubplot:>"
      ]
     },
     "execution_count": 21,
     "metadata": {},
     "output_type": "execute_result"
    },
    {
     "data": {
      "image/png": "[encoded data removed]",
      "text/plain": [
       "<Figure size 432x288 with 1 Axes>"
      ]
     },
     "metadata": {
      "needs_background": "light"
     },
     "output_type": "display_data"
    }
   ],
   "source": [
    "sns.scatterplot(data = vc_out_f, x = vc_out_f[:,0], y = vc_out_f[:,1])"
   ]
  },
  {
   "cell_type": "code",
   "execution_count": 22,
   "metadata": {},
   "outputs": [
    {
     "data": {
      "text/plain": [
       "True"
      ]
     },
     "execution_count": 22,
     "metadata": {},
     "output_type": "execute_result"
    }
   ],
   "source": [
    "type(verbs_by_count(verbs_m, 0, 0)) == str"
   ]
  },
  {
   "cell_type": "code",
   "execution_count": 23,
   "metadata": {},
   "outputs": [
    {
     "ename": "NameError",
     "evalue": "name 'count_val' is not defined",
     "output_type": "error",
     "traceback": [
      "\u001b[0;31m---------------------------------------------------------------------------\u001b[0m",
      "\u001b[0;31mNameError\u001b[0m                                 Traceback (most recent call last)",
      "Input \u001b[0;32mIn [23]\u001b[0m, in \u001b[0;36m<module>\u001b[0;34m\u001b[0m\n\u001b[0;32m----> 1\u001b[0m inds_A \u001b[38;5;241m=\u001b[39m verbs_m[\u001b[38;5;124m'\u001b[39m\u001b[38;5;124mcount\u001b[39m\u001b[38;5;124m'\u001b[39m] \u001b[38;5;241m<\u001b[39m\u001b[38;5;241m=\u001b[39m \u001b[43mcount_val\u001b[49m \u001b[38;5;241m+\u001b[39m plus_minus \n\u001b[1;32m      2\u001b[0m inds_B \u001b[38;5;241m=\u001b[39m verbs_m[\u001b[38;5;124m'\u001b[39m\u001b[38;5;124mcount\u001b[39m\u001b[38;5;124m'\u001b[39m] \u001b[38;5;241m>\u001b[39m\u001b[38;5;241m=\u001b[39m count_val \u001b[38;5;241m-\u001b[39m plus_minus\n",
      "\u001b[0;31mNameError\u001b[0m: name 'count_val' is not defined"
     ]
    }
   ],
   "source": [
    "inds_A = verbs_m['count'] <= count_val + plus_minus \n",
    "inds_B = verbs_m['count'] >= count_val - plus_minus "
   ]
  },
  {
   "cell_type": "code",
   "execution_count": 24,
   "metadata": {},
   "outputs": [
    {
     "ename": "NameError",
     "evalue": "name 'count_val' is not defined",
     "output_type": "error",
     "traceback": [
      "\u001b[0;31m---------------------------------------------------------------------------\u001b[0m",
      "\u001b[0;31mNameError\u001b[0m                                 Traceback (most recent call last)",
      "Input \u001b[0;32mIn [24]\u001b[0m, in \u001b[0;36m<module>\u001b[0;34m\u001b[0m\n\u001b[0;32m----> 1\u001b[0m inds \u001b[38;5;241m=\u001b[39m ((verbs_m[\u001b[38;5;124m'\u001b[39m\u001b[38;5;124mcount\u001b[39m\u001b[38;5;124m'\u001b[39m] \u001b[38;5;241m<\u001b[39m\u001b[38;5;241m=\u001b[39m \u001b[43mcount_val\u001b[49m \u001b[38;5;241m+\u001b[39m plus_minus) \u001b[38;5;241m&\u001b[39m (verbs_m[\u001b[38;5;124m'\u001b[39m\u001b[38;5;124mcount\u001b[39m\u001b[38;5;124m'\u001b[39m] \u001b[38;5;241m>\u001b[39m\u001b[38;5;241m=\u001b[39m count_val \u001b[38;5;241m-\u001b[39m plus_minus))\n",
      "\u001b[0;31mNameError\u001b[0m: name 'count_val' is not defined"
     ]
    }
   ],
   "source": [
    "inds = ((verbs_m['count'] <= count_val + plus_minus) & (verbs_m['count'] >= count_val - plus_minus))\n",
    "\n",
    "# https://stackoverflow.com/questions/38834028/use-a-empty-a-bool-a-item-a-any-or-a-all"
   ]
  },
  {
   "cell_type": "code",
   "execution_count": 25,
   "metadata": {},
   "outputs": [
    {
     "ename": "NameError",
     "evalue": "name 'inds' is not defined",
     "output_type": "error",
     "traceback": [
      "\u001b[0;31m---------------------------------------------------------------------------\u001b[0m",
      "\u001b[0;31mNameError\u001b[0m                                 Traceback (most recent call last)",
      "Input \u001b[0;32mIn [25]\u001b[0m, in \u001b[0;36m<module>\u001b[0;34m\u001b[0m\n\u001b[0;32m----> 1\u001b[0m \u001b[43minds\u001b[49m\n",
      "\u001b[0;31mNameError\u001b[0m: name 'inds' is not defined"
     ]
    }
   ],
   "source": [
    "inds"
   ]
  },
  {
   "cell_type": "code",
   "execution_count": null,
   "metadata": {},
   "outputs": [],
   "source": [
    "selected_verbs = verbs_m[inds]"
   ]
  },
  {
   "cell_type": "code",
   "execution_count": null,
   "metadata": {},
   "outputs": [],
   "source": [
    "selected_verbs"
   ]
  },
  {
   "cell_type": "code",
   "execution_count": null,
   "metadata": {},
   "outputs": [],
   "source": []
  },
  {
   "cell_type": "code",
   "execution_count": null,
   "metadata": {},
   "outputs": [],
   "source": [
    "inds = verbs_m['count'] == 2"
   ]
  },
  {
   "cell_type": "code",
   "execution_count": null,
   "metadata": {},
   "outputs": [],
   "source": [
    "selected_verbs = verbs_m[inds].sort_values([\"verb\"], ascending=True)"
   ]
  },
  {
   "cell_type": "code",
   "execution_count": null,
   "metadata": {},
   "outputs": [],
   "source": [
    "selected_verbs = selected_verbs['verb'].to_list()\n"
   ]
  },
  {
   "cell_type": "code",
   "execution_count": null,
   "metadata": {},
   "outputs": [],
   "source": [
    "selected_verbs"
   ]
  },
  {
   "cell_type": "markdown",
   "metadata": {},
   "source": [
    "With the counts in place, we can establish relative frequencies as a new column by dividing the count of each verb by the total number of verbs. \n",
    "\n",
    "*In a hand inspection, I limited the relative frequency to the thousandth, and the result was that each subcorpus had only a little over 200 verbs that occur greater than 0.001 times: 216 for the male speakers and 225 for the female speakers. I'm not sure how/why it worked out that way. Is this a known phenonmenon in statistics/mathematics?*"
   ]
  },
  {
   "cell_type": "code",
   "execution_count": 26,
   "metadata": {},
   "outputs": [],
   "source": [
    "verbs_w['freqency'] = verbs_w['count'] / verbs_w_total\n",
    "verbs_m['freqency'] = verbs_m['count'] / verbs_m_total"
   ]
  },
  {
   "cell_type": "markdown",
   "metadata": {},
   "source": [
    "In the cells that follow, we create a list of tuples from our dataframes that consist of only the verbs and the relative frequencies -- `[('verb1', rf1), 'verb2', rf2) ...]` so that we can then compare the relative frequencies. "
   ]
  },
  {
   "cell_type": "code",
   "execution_count": 27,
   "metadata": {},
   "outputs": [
    {
     "data": {
      "text/plain": [
       "'have'"
      ]
     },
     "execution_count": 27,
     "metadata": {},
     "output_type": "execute_result"
    }
   ],
   "source": [
    "# We drop the count column and send the other two columns as a tuple to a list.\n",
    "m_verbs = [tuple(r) for r in verbs_m.drop(['count'], axis=1).to_numpy().tolist()]\n",
    "\n",
    "# A quick check\n",
    "m_verbs[0][0]"
   ]
  },
  {
   "cell_type": "code",
   "execution_count": 28,
   "metadata": {},
   "outputs": [
    {
     "data": {
      "text/plain": [
       "[('call', 0.008985831469052945),\n",
       " ('like', 0.009843400447427294),\n",
       " ('find', 0.011546109868257519),\n",
       " ('say', 0.01257767834949043),\n",
       " ('put', 0.012826249067859806),\n",
       " ('try', 0.012950534427044495),\n",
       " ('know', 0.013385533184190902),\n",
       " ('give', 0.013435247327864778),\n",
       " ('tell', 0.013882674620929654),\n",
       " ('start', 0.017312950534427045),\n",
       " ('use', 0.018406661695252298),\n",
       " ('need', 0.019624658215262242),\n",
       " ('make', 0.02232165050956997),\n",
       " ('see', 0.026012925677355206),\n",
       " ('take', 0.026398210290827742),\n",
       " ('want', 0.035172756649266716),\n",
       " ('get', 0.03809346259010689),\n",
       " ('do', 0.04741486452895849),\n",
       " ('go', 0.049328859060402686),\n",
       " ('have', 0.11057668406661696)]"
      ]
     },
     "execution_count": 28,
     "metadata": {},
     "output_type": "execute_result"
    }
   ],
   "source": [
    "# Sort the list and list the top 20 verbs\n",
    "m_verbs_sorted = sorted(m_verbs, key=lambda x: x[1])\n",
    "m_verbs_sorted[-20:]"
   ]
  },
  {
   "cell_type": "code",
   "execution_count": 29,
   "metadata": {},
   "outputs": [
    {
     "data": {
      "text/plain": [
       "[('put', 0.009319804584742578),\n",
       " ('ask', 0.00947012401352875),\n",
       " ('like', 0.009733183013904547),\n",
       " ('try', 0.010973318301390455),\n",
       " ('give', 0.011574596016535137),\n",
       " ('say', 0.01416760616309658),\n",
       " ('find', 0.014205186020293123),\n",
       " ('know', 0.015482901164975573),\n",
       " ('start', 0.016459977452085682),\n",
       " ('tell', 0.017963171739947388),\n",
       " ('use', 0.018075911311537015),\n",
       " ('need', 0.0212326193160466),\n",
       " ('make', 0.022623074032318675),\n",
       " ('take', 0.02266065388951522),\n",
       " ('see', 0.02367531003382187),\n",
       " ('get', 0.02987598647125141),\n",
       " ('want', 0.03363397219090567),\n",
       " ('go', 0.04006012777151447),\n",
       " ('do', 0.04077414505824878),\n",
       " ('have', 0.10860578729800827)]"
      ]
     },
     "execution_count": 29,
     "metadata": {},
     "output_type": "execute_result"
    }
   ],
   "source": [
    "# Now for the womens' verbs\n",
    "w_verbs = [tuple(r) for r in verbs_w.drop(['count'], axis=1).to_numpy().tolist()]\n",
    "\n",
    "# Sort\n",
    "w_verbs_sorted = sorted(w_verbs, key=lambda x: x[1])\n",
    "\n",
    "# Display the top 20\n",
    "w_verbs_sorted[-20:]"
   ]
  },
  {
   "cell_type": "markdown",
   "metadata": {},
   "source": [
    "This function takes the lists of tuples above and subtracts the value of the verbs that match. If the women's list is first list and the men's list the second, then positive values will mean that verb is used more by women and negative values more by men. If we sort we should get the greatest divergence at either end of the list."
   ]
  },
  {
   "cell_type": "code",
   "execution_count": 30,
   "metadata": {},
   "outputs": [],
   "source": [
    "def match_and_subtract(list1, list2):\n",
    "    # List1 and List2 are both lists of tuples of length 2. \n",
    "    # The first item in each tuple is a verb and the second is \n",
    "    # the fraction of all SVOs contain that verb\n",
    "    result = {}\n",
    "    \n",
    "    # Loop over all the verbs in LIST1 and compare to each item in LIST2\n",
    "    for item1 in list1:\n",
    "        # Looping over the verbs list 2\n",
    "        for item2 in list2:\n",
    "            \n",
    "            # If the verbs are the same, then do a comparison\n",
    "            if item1[0] == item2[0]:\n",
    "                # this IF/ELSE seems unnecessary... The commands are the same?\n",
    "                result[item1[0]] = item1[1] - item2[1]\n",
    "    return result"
   ]
  },
  {
   "cell_type": "code",
   "execution_count": 31,
   "metadata": {},
   "outputs": [],
   "source": [
    "compare_verbs = match_and_subtract(m_verbs, w_verbs)"
   ]
  },
  {
   "cell_type": "code",
   "execution_count": 32,
   "metadata": {},
   "outputs": [
    {
     "data": {
      "text/plain": [
       "-0.004080497119017734"
      ]
     },
     "execution_count": 32,
     "metadata": {},
     "output_type": "execute_result"
    }
   ],
   "source": [
    "compare_verbs['tell']"
   ]
  },
  {
   "cell_type": "code",
   "execution_count": 33,
   "metadata": {
    "scrolled": true
   },
   "outputs": [
    {
     "name": "stdout",
     "output_type": "stream",
     "text": [
      "Used more by women:\n",
      "[('tell', -0.004080497119017734), ('love', -0.003386390711133641), ('find', -0.0026590761520356044), ('know', -0.0020973679807846715), ('meet', -0.0016205717911187672), ('need', -0.001607961100784358), ('say', -0.0015899278136061509), ('hear', -0.0015586533015768127), ('share', -0.001465838620715553), ('play', -0.0014015661356445086)]\n",
      "Used more by men:\n",
      "[('give', 0.0018606513113296405), ('have', 0.0019708967686086903), ('try', 0.0019772161256540396), ('build', 0.0022252123570192925), ('see', 0.0023376156435333355), ('put', 0.0035064444831172277), ('take', 0.003737556401312521), ('do', 0.006640719470709711), ('get', 0.008217476118855479), ('go', 0.009268731288888214)]\n"
     ]
    }
   ],
   "source": [
    "m_verbs = [tuple(r) for r in verbs_m.drop(['count'], axis=1).to_numpy().tolist()]\n",
    "w_verbs = [tuple(r) for r in verbs_w.drop(['count'], axis=1).to_numpy().tolist()]\n",
    "\n",
    "compare_verbs = match_and_subtract(m_verbs, w_verbs)\n",
    "compared_verb_list = list(compare_verbs.items())\n",
    "compared_verbs_sorted = sorted(compared_verb_list, key=lambda x: x[1])\n",
    "\n",
    "print(\"Used more by women:\")\n",
    "print(compared_verbs_sorted[0:10])\n",
    "print(\"Used more by men:\")\n",
    "print(compared_verbs_sorted[-10:])"
   ]
  },
  {
   "cell_type": "code",
   "execution_count": 34,
   "metadata": {},
   "outputs": [
    {
     "data": {
      "text/plain": [
       "[('have', 0.0019708967686086903),\n",
       " ('go', 0.009268731288888214),\n",
       " ('do', 0.006640719470709711),\n",
       " ('get', 0.008217476118855479),\n",
       " ('want', 0.001538784458361045)]"
      ]
     },
     "execution_count": 34,
     "metadata": {},
     "output_type": "execute_result"
    }
   ],
   "source": [
    "compared_verb_list[:5]"
   ]
  },
  {
   "cell_type": "code",
   "execution_count": 35,
   "metadata": {},
   "outputs": [
    {
     "data": {
      "text/plain": [
       "[('want', 0.001538784458361045),\n",
       " ('have', 0.0019708967686086903),\n",
       " ('do', 0.006640719470709711),\n",
       " ('get', 0.008217476118855479),\n",
       " ('go', 0.009268731288888214)]"
      ]
     },
     "execution_count": 35,
     "metadata": {},
     "output_type": "execute_result"
    }
   ],
   "source": [
    "sorted(compared_verb_list[:5], key= lambda x: x[1])"
   ]
  },
  {
   "cell_type": "code",
   "execution_count": 36,
   "metadata": {},
   "outputs": [],
   "source": [
    "comp_vals = [x[1] for x in compared_verbs_sorted]"
   ]
  },
  {
   "cell_type": "code",
   "execution_count": 37,
   "metadata": {},
   "outputs": [
    {
     "data": {
      "text/plain": [
       "70.05"
      ]
     },
     "execution_count": 37,
     "metadata": {},
     "output_type": "execute_result"
    }
   ],
   "source": [
    "len(comp_vals)*.05"
   ]
  },
  {
   "cell_type": "code",
   "execution_count": 38,
   "metadata": {},
   "outputs": [
    {
     "data": {
      "text/plain": [
       "<AxesSubplot:ylabel='Count'>"
      ]
     },
     "execution_count": 38,
     "metadata": {},
     "output_type": "execute_result"
    },
    {
     "data": {
      "image/png": "[encoded data removed]",
      "text/plain": [
       "<Figure size 432x288 with 1 Axes>"
      ]
     },
     "metadata": {
      "needs_background": "light"
     },
     "output_type": "display_data"
    }
   ],
   "source": [
    "sns.histplot(data=comp_vals)"
   ]
  },
  {
   "cell_type": "code",
   "execution_count": 58,
   "metadata": {},
   "outputs": [
    {
     "data": {
      "text/plain": [
       "<AxesSubplot:ylabel='Count'>"
      ]
     },
     "execution_count": 58,
     "metadata": {},
     "output_type": "execute_result"
    },
    {
     "data": {
      "image/png": "[encoded data removed]",
      "text/plain": [
       "<Figure size 432x288 with 1 Axes>"
      ]
     },
     "metadata": {
      "needs_background": "light"
     },
     "output_type": "display_data"
    }
   ],
   "source": [
    "sns.histplot(data=comp_vals[70:-70])"
   ]
  },
  {
   "cell_type": "code",
   "execution_count": 59,
   "metadata": {},
   "outputs": [
    {
     "data": {
      "text/plain": [
       "<AxesSubplot:ylabel='Count'>"
      ]
     },
     "execution_count": 59,
     "metadata": {},
     "output_type": "execute_result"
    },
    {
     "data": {
      "image/png": "[encoded data removed]",
      "text/plain": [
       "<Figure size 432x288 with 1 Axes>"
      ]
     },
     "metadata": {
      "needs_background": "light"
     },
     "output_type": "display_data"
    }
   ],
   "source": [
    "sns.histplot(data=comp_vals[:70])"
   ]
  },
  {
   "cell_type": "code",
   "execution_count": 60,
   "metadata": {},
   "outputs": [
    {
     "data": {
      "text/plain": [
       "<AxesSubplot:ylabel='Count'>"
      ]
     },
     "execution_count": 60,
     "metadata": {},
     "output_type": "execute_result"
    },
    {
     "data": {
      "image/png": "[encoded data removed]",
      "text/plain": [
       "<Figure size 432x288 with 1 Axes>"
      ]
     },
     "metadata": {
      "needs_background": "light"
     },
     "output_type": "display_data"
    }
   ],
   "source": [
    "sns.histplot(data=comp_vals[-70:])"
   ]
  },
  {
   "cell_type": "code",
   "execution_count": 64,
   "metadata": {},
   "outputs": [
    {
     "data": {
      "text/plain": [
       "0"
      ]
     },
     "execution_count": 64,
     "metadata": {},
     "output_type": "execute_result"
    }
   ],
   "source": [
    "len(comp_vals) - (len(comp_vals[:70])+len(comp_vals[70:-70])+ len(comp_vals[-70:]))"
   ]
  },
  {
   "cell_type": "code",
   "execution_count": 66,
   "metadata": {},
   "outputs": [
    {
     "data": {
      "text/plain": [
       "<AxesSubplot:>"
      ]
     },
     "execution_count": 66,
     "metadata": {},
     "output_type": "execute_result"
    },
    {
     "data": {
      "image/png": "[encoded data removed]",
      "text/plain": [
       "<Figure size 432x288 with 1 Axes>"
      ]
     },
     "metadata": {
      "needs_background": "light"
     },
     "output_type": "display_data"
    }
   ],
   "source": [
    "sns.rugplot(comp_vals)"
   ]
  },
  {
   "cell_type": "code",
   "execution_count": 41,
   "metadata": {
    "scrolled": true
   },
   "outputs": [
    {
     "name": "stdout",
     "output_type": "stream",
     "text": [
      "['tell', 'love', 'find', 'know', 'meet', 'need', 'say', 'hear', 'share', 'play', 'feel', 'ask', 'marry', 'spend', 'help', 'come', 'choose', 'think', 'stand', 'kill']\n"
     ]
    }
   ],
   "source": [
    "print([x[0] for x in verbs_sorted[0:20]])"
   ]
  },
  {
   "cell_type": "code",
   "execution_count": 49,
   "metadata": {},
   "outputs": [
    {
     "name": "stdout",
     "output_type": "stream",
     "text": [
      "['go', 'get', 'do', 'take', 'put', 'see', 'build', 'try', 'have', 'give', 'want', 'show', 'turn', 'develop', 'start', 'invent', 'design', 'solve', 'move', 'cost']\n"
     ]
    }
   ],
   "source": [
    "# Because of the way this list is ordered, \n",
    "# the most difference is at the end of this list.\n",
    "# Reversed here to be more easily compared to list above.\n",
    "print(list(reversed([x[0] for x in verbs_sorted[-20:]])))"
   ]
  },
  {
   "cell_type": "markdown",
   "metadata": {},
   "source": [
    "Code for various kinds of counts. "
   ]
  },
  {
   "cell_type": "code",
   "execution_count": null,
   "metadata": {},
   "outputs": [],
   "source": [
    "# Verbs that occur only once\n",
    "# verbs_m_gt1 = verbs_m.loc[verbs_m[\"count\"] == 1]\n",
    "# verbs_w_gt1 = verbs_w.loc[verbs_w[\"count\"] == 1]\n",
    "# print(f\"One-off verbs for ♂︎ - {verbs_m_gt1.shape[0]}; ♀︎ - {verbs_w_gt1.shape[0]}.\")\n",
    "\n",
    "# Verbs that occur more than twice\n",
    "# verbs_m_gt2 = verbs_m.loc[verbs_m[\"count\"] >= 2]\n",
    "# verbs_w_gt2 = verbs_w.loc[verbs_w[\"count\"] >= 2]\n",
    "# print(f\"Verbs that occur more than twice: for ♂︎ - {verbs_m_gt2.shape[0]}; ♀︎ - {verbs_w_gt2.shape[0]}.\")"
   ]
  },
  {
   "cell_type": "markdown",
   "metadata": {},
   "source": [
    "## Subjects with Verbs"
   ]
  },
  {
   "cell_type": "code",
   "execution_count": 21,
   "metadata": {},
   "outputs": [
    {
     "data": {
      "text/html": [
       "<div>\n",
       "<style scoped>\n",
       "    .dataframe tbody tr th:only-of-type {\n",
       "        vertical-align: middle;\n",
       "    }\n",
       "\n",
       "    .dataframe tbody tr th {\n",
       "        vertical-align: top;\n",
       "    }\n",
       "\n",
       "    .dataframe thead th {\n",
       "        text-align: right;\n",
       "    }\n",
       "</style>\n",
       "<table border=\"1\" class=\"dataframe\">\n",
       "  <thead>\n",
       "    <tr style=\"text-align: right;\">\n",
       "      <th></th>\n",
       "      <th>verb</th>\n",
       "      <th>obs</th>\n",
       "    </tr>\n",
       "  </thead>\n",
       "  <tbody>\n",
       "    <tr>\n",
       "      <th>200</th>\n",
       "      <td>have</td>\n",
       "      <td>232</td>\n",
       "    </tr>\n",
       "    <tr>\n",
       "      <th>387</th>\n",
       "      <td>say</td>\n",
       "      <td>132</td>\n",
       "    </tr>\n",
       "    <tr>\n",
       "      <th>125</th>\n",
       "      <td>do</td>\n",
       "      <td>111</td>\n",
       "    </tr>\n",
       "    <tr>\n",
       "      <th>188</th>\n",
       "      <td>get</td>\n",
       "      <td>90</td>\n",
       "    </tr>\n",
       "    <tr>\n",
       "      <th>190</th>\n",
       "      <td>go</td>\n",
       "      <td>78</td>\n",
       "    </tr>\n",
       "    <tr>\n",
       "      <th>450</th>\n",
       "      <td>take</td>\n",
       "      <td>78</td>\n",
       "    </tr>\n",
       "    <tr>\n",
       "      <th>494</th>\n",
       "      <td>want</td>\n",
       "      <td>71</td>\n",
       "    </tr>\n",
       "    <tr>\n",
       "      <th>259</th>\n",
       "      <td>make</td>\n",
       "      <td>67</td>\n",
       "    </tr>\n",
       "    <tr>\n",
       "      <th>455</th>\n",
       "      <td>tell</td>\n",
       "      <td>58</td>\n",
       "    </tr>\n",
       "    <tr>\n",
       "      <th>336</th>\n",
       "      <td>put</td>\n",
       "      <td>54</td>\n",
       "    </tr>\n",
       "    <tr>\n",
       "      <th>510</th>\n",
       "      <td>write</td>\n",
       "      <td>48</td>\n",
       "    </tr>\n",
       "    <tr>\n",
       "      <th>423</th>\n",
       "      <td>start</td>\n",
       "      <td>42</td>\n",
       "    </tr>\n",
       "    <tr>\n",
       "      <th>189</th>\n",
       "      <td>give</td>\n",
       "      <td>39</td>\n",
       "    </tr>\n",
       "    <tr>\n",
       "      <th>169</th>\n",
       "      <td>find</td>\n",
       "      <td>34</td>\n",
       "    </tr>\n",
       "    <tr>\n",
       "      <th>17</th>\n",
       "      <td>ask</td>\n",
       "      <td>33</td>\n",
       "    </tr>\n",
       "    <tr>\n",
       "      <th>50</th>\n",
       "      <td>call</td>\n",
       "      <td>31</td>\n",
       "    </tr>\n",
       "    <tr>\n",
       "      <th>240</th>\n",
       "      <td>know</td>\n",
       "      <td>27</td>\n",
       "    </tr>\n",
       "    <tr>\n",
       "      <th>484</th>\n",
       "      <td>use</td>\n",
       "      <td>25</td>\n",
       "    </tr>\n",
       "    <tr>\n",
       "      <th>478</th>\n",
       "      <td>turn</td>\n",
       "      <td>24</td>\n",
       "    </tr>\n",
       "    <tr>\n",
       "      <th>477</th>\n",
       "      <td>try</td>\n",
       "      <td>23</td>\n",
       "    </tr>\n",
       "  </tbody>\n",
       "</table>\n",
       "</div>"
      ],
      "text/plain": [
       "      verb  obs\n",
       "200   have  232\n",
       "387    say  132\n",
       "125     do  111\n",
       "188    get   90\n",
       "190     go   78\n",
       "450   take   78\n",
       "494   want   71\n",
       "259   make   67\n",
       "455   tell   58\n",
       "336    put   54\n",
       "510  write   48\n",
       "423  start   42\n",
       "189   give   39\n",
       "169   find   34\n",
       "17     ask   33\n",
       "50    call   31\n",
       "240   know   27\n",
       "484    use   25\n",
       "478   turn   24\n",
       "477    try   23"
      ]
     },
     "execution_count": 21,
     "metadata": {},
     "output_type": "execute_result"
    }
   ],
   "source": [
    "# This gives us the top 20 verbs associated with \"he\" in the mens subcorpus\n",
    "m_he = svos_m[svos_m[\"subject\"] == \"he\"].groupby([\"verb\"]).size().reset_index(\n",
    "    name='obs').sort_values(['obs'], ascending=False).iloc[:20]\n",
    "m_he"
   ]
  },
  {
   "cell_type": "markdown",
   "metadata": {},
   "source": [
    "Below is my attempt to create a function that would return an appropriately named dataframe which contained the top 20 verbs for a given subject. It was intended to be worked into a `for` loop:\n",
    "```python\n",
    "genderedSubjects = ['she', 'he', 'man', 'men', 'woman', 'women']\n",
    "for i in genderedSubjects:\n",
    "    verbCount(svos_w, \"w\", i, 30)\n",
    "```\n",
    "But it doesn't work as intended, creating a bunch of smaller dataframes, as a print statement reveals:\n",
    "```python\n",
    "print(w_man)\n",
    "```\n",
    "```\n",
    "NameError: name 'w_man' is not defined\n",
    "```\n",
    "\n",
    "We can either run this code a dataframe at a time or go with something more pandas-y."
   ]
  },
  {
   "cell_type": "markdown",
   "metadata": {},
   "source": [
    "One approach might look like this:"
   ]
  },
  {
   "cell_type": "code",
   "execution_count": null,
   "metadata": {},
   "outputs": [],
   "source": [
    "svos_m_pro = svos_m.loc[(\n",
    "    svos_m['subject'] == 'he') | (\n",
    "    svos_m['subject'] == 'she') | (\n",
    "    svos_m[\"subject\"] == \"i\")\n",
    "]\n",
    "svos_m_pro.shape"
   ]
  },
  {
   "cell_type": "markdown",
   "metadata": {},
   "source": [
    "Another approach would take advantage of pandas `subset` functionality. Used on the entire mens subcorpus, it suggests that the most common subject-verb pairing is *we have*, by a pretty large margin, so let's mark that as something worth exploring further.\n",
    "\n",
    "<div class=\"alert alert-block alert-warning\"> <b>TO DO</b>: Take a look at \"we have\" in the mens subcorpus. </div>"
   ]
  },
  {
   "cell_type": "code",
   "execution_count": null,
   "metadata": {
    "scrolled": true
   },
   "outputs": [],
   "source": [
    "svos_m.value_counts(subset=['subject', 'verb'])"
   ]
  },
  {
   "cell_type": "code",
   "execution_count": null,
   "metadata": {},
   "outputs": [],
   "source": [
    "# Create a list of the pronouns we want to see\n",
    "pronouns = [\"he\", \"she\", \"i\"]\n",
    "\n",
    "# Here's the code all in one block\n",
    "m_pronouns = svos_m[svos_m[\"subject\"].isin(\n",
    "    pronouns)].value_counts(\n",
    "    subset=['subject', 'verb']).reset_index()\n",
    "m_pronouns.head()"
   ]
  },
  {
   "cell_type": "code",
   "execution_count": null,
   "metadata": {},
   "outputs": [],
   "source": [
    "# svos_m_iheshe.to_csv(\"../output/m_iheshe.csv\")"
   ]
  },
  {
   "cell_type": "code",
   "execution_count": null,
   "metadata": {},
   "outputs": [],
   "source": [
    "m_pronouns.rename(columns={0:'v_count'}, inplace=True)\n",
    "m_pronouns.head()"
   ]
  },
  {
   "cell_type": "code",
   "execution_count": null,
   "metadata": {},
   "outputs": [],
   "source": [
    "m_pronouns.shape"
   ]
  },
  {
   "cell_type": "code",
   "execution_count": null,
   "metadata": {},
   "outputs": [],
   "source": [
    "m_pronouns['v_freq'] = m_pronouns['v_count'] / m_pronouns['v_count'].sum()"
   ]
  },
  {
   "cell_type": "code",
   "execution_count": null,
   "metadata": {},
   "outputs": [],
   "source": [
    "m_pronouns.head()"
   ]
  },
  {
   "cell_type": "markdown",
   "metadata": {},
   "source": [
    "## Character Spaces as Verb-Feature Spaces\n",
    "\n",
    "The goal in this section is to:\n",
    "\n",
    "1. Collect all the verbs associated with the specified subjects\n",
    "2. Weight the verbs (by normalization)\n",
    "3. Compare the verbs manually\n",
    "4. Visualize a comparison using PCA or t-SNE"
   ]
  },
  {
   "cell_type": "markdown",
   "metadata": {},
   "source": [
    "First we explore the total number of verbs involved:"
   ]
  },
  {
   "cell_type": "code",
   "execution_count": null,
   "metadata": {},
   "outputs": [],
   "source": [
    "# Collect all the verbs from the women's subcorpus\n",
    "verbs_w = svos_w.groupby([\"verb\"]).size().reset_index(name='obs').sort_values(\n",
    "        ['obs'], ascending=False)\n",
    "\n",
    "# Select only the verbs that occur more than once\n",
    "verbs_gt_w = verbs_w[verbs_w.obs > 2]\n",
    "\n",
    "# What's our counts?\n",
    "print(f\"♀︎: {verbs_w.shape[0]} unique verbs; {verbs_gt_w.shape[0]} occur more than once\")"
   ]
  },
  {
   "cell_type": "code",
   "execution_count": null,
   "metadata": {},
   "outputs": [],
   "source": [
    "# Repeat for the men's subcorpus\n",
    "verbs_m = svos_m.groupby([\"verb\"]).size().reset_index(name='obs').sort_values(\n",
    "        ['obs'], ascending=False)\n",
    "verbs_gt_m = verbs_m[verbs_m.obs > 2]\n",
    "\n",
    "print(f\"♂︎: {verbs_m.shape[0]} unique verbs; {verbs_gt_m.shape[0]} occur more than once\")"
   ]
  },
  {
   "cell_type": "markdown",
   "metadata": {},
   "source": [
    "Now we need to grab the verbs associated with the subjects:"
   ]
  },
  {
   "cell_type": "code",
   "execution_count": null,
   "metadata": {},
   "outputs": [],
   "source": [
    "# Create a list of the subjects for which we want SVOs\n",
    "subjects = ['she', 'he', 'i']\n",
    "\n",
    "# Filter the dataframe\n",
    "subjects_w = svos_w[svos_w['subject'].isin(subjects)]\n",
    "\n",
    "# We don't want the objects for this\n",
    "subjects_w = subjects_w.drop('object', axis=1)\n",
    "\n",
    "# Count the unique combinations of two columns\n",
    "subj_w_ct = subjects_w[['subject', 'verb']].value_counts().reset_index(name='count')\n",
    "\n",
    "# Check our work\n",
    "subj_w_ct.head()"
   ]
  },
  {
   "cell_type": "code",
   "execution_count": null,
   "metadata": {},
   "outputs": [],
   "source": [
    "subj_w_ct.value_counts(subset=['subject', 'verb']).sort_index(ascending=False)"
   ]
  },
  {
   "cell_type": "code",
   "execution_count": null,
   "metadata": {},
   "outputs": [],
   "source": [
    "# Repeat for the mens' subcorpus\n",
    "subjects_m = svos_m[svos_m['subject'].isin(subjects)]\n",
    "subjects_m = subjects_m.drop('object', axis=1)\n",
    "subj_m_ct = subjects_m[['subject', 'verb']].value_counts().reset_index(name='count')\n",
    "subj_m_ct.shape"
   ]
  },
  {
   "cell_type": "code",
   "execution_count": null,
   "metadata": {},
   "outputs": [],
   "source": [
    "subj_m_ct.head(10)"
   ]
  },
  {
   "cell_type": "code",
   "execution_count": null,
   "metadata": {},
   "outputs": [],
   "source": [
    "# See the total number of verbs above\n",
    "# This could have been done with verbs_w.shape[0]\n",
    "subj_m_ct['weight'] = subj_m_ct['count']/5307\n",
    "subj_w_ct['weight'] = subj_w_ct['count']/3161"
   ]
  },
  {
   "cell_type": "code",
   "execution_count": null,
   "metadata": {},
   "outputs": [],
   "source": [
    "subj_w_ct.head()"
   ]
  },
  {
   "cell_type": "markdown",
   "metadata": {},
   "source": [
    "Now we have 2 dataframes, each with three subjects -- *she*, *he*, and *i*. Each subject has hundreds of verbs associated with it, and each verb has a weight normalized to its subcorpus so that it *should* be comparable to verbs in the other subcorpus. The goal is to see how close or far the six subjects are. "
   ]
  },
  {
   "cell_type": "code",
   "execution_count": null,
   "metadata": {},
   "outputs": [],
   "source": [
    "# Add our columns to attribute subject and verbs to a particular gender\n",
    "subj_w_ct['speaker'] = \"female\"\n",
    "subj_m_ct['speaker'] = \"male\""
   ]
  },
  {
   "cell_type": "code",
   "execution_count": null,
   "metadata": {},
   "outputs": [],
   "source": []
  }
 ],
 "metadata": {
  "interpreter": {
   "hash": "14a02b88778d8fb8b6aeb4ad427a942bc53dfcda9d7e3737237788289e0d2d23"
  },
  "kernelspec": {
   "display_name": "Python 3 (ipykernel)",
   "language": "python",
   "name": "python3"
  },
  "language_info": {
   "codemirror_mode": {
    "name": "ipython",
    "version": 3
   },
   "file_extension": ".py",
   "mimetype": "text/x-python",
   "name": "python",
   "nbconvert_exporter": "python",
   "pygments_lexer": "ipython3",
   "version": "3.9.10"
  },
  "toc": {
   "base_numbering": 1,
   "nav_menu": {},
   "number_sections": true,
   "sideBar": true,
   "skip_h1_title": true,
   "title_cell": "",
   "title_sidebar": "Contents",
   "toc_cell": true,
   "toc_position": 2,
   "toc_section_display": true,
   "toc_window_display": false
  }
 },
 "nbformat": 4,
 "nbformat_minor": 2
}
