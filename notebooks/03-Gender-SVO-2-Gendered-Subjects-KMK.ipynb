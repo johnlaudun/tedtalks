{
 "cells": [
  {
   "cell_type": "markdown",
   "metadata": {},
   "source": [
    "# SVO Gendered Subjects\n",
    "\n",
    "In this notebook, we explore pronouns as subjects in sentences across the two subcorpora. We start with gendered third person pronouns and then examine the use of \"I\".\n",
    "\n",
    "To be added: total percentage of pronouns appearing in SVOs in the two subcorpora. (Early calculations indicated pronouns -- `['i', 'we', 'she', 'he', 'they', 'it', 'you']` -- are the subjects of 70% of SVOs in both subcorpora. (Is this comparable to other forms of discourse?)"
   ]
  },
  {
   "cell_type": "code",
   "execution_count": 1,
   "metadata": {},
   "outputs": [],
   "source": [
    "# IMPORTS\n",
    "import pandas as pd\n",
    "import numpy as np\n",
    "import seaborn as sns\n",
    "# import networkx as nx\n",
    "# import plotly.graph_objects as go"
   ]
  },
  {
   "cell_type": "code",
   "execution_count": 2,
   "metadata": {},
   "outputs": [],
   "source": [
    "import matplotlib.pyplot as plt"
   ]
  },
  {
   "cell_type": "markdown",
   "metadata": {},
   "source": [
    "After importing our libraries, we import our data. Here we are using the lemmatized SVOs from the **SVO Verbs Lemmatized** notebook. The output here confirms that we have 80,460 SVOs for the men's subcorpus and 26,610 for the women's."
   ]
  },
  {
   "cell_type": "code",
   "execution_count": 3,
   "metadata": {},
   "outputs": [
    {
     "name": "stdout",
     "output_type": "stream",
     "text": [
      "80460 26610\n"
     ]
    }
   ],
   "source": [
    "# LOAD DATAFRAMES\n",
    "# the `lem` suffix indicates the verbs have been lemmatized\n",
    "svos_m = pd.read_csv(\"../output/svos_m_lem.csv\", index_col=0)\n",
    "svos_w = pd.read_csv(\"../output/svos_w_lem.csv\", index_col=0)\n",
    "\n",
    "print(svos_m.shape[0], svos_w.shape[0])"
   ]
  },
  {
   "cell_type": "markdown",
   "metadata": {},
   "source": [
    "## Subjects"
   ]
  },
  {
   "cell_type": "markdown",
   "metadata": {},
   "source": [
    "With the SVOs loaded, the first thing we do is to get a sense of the subjects involved, the **S** in SVO. \n",
    "\n",
    "The `compare` function takes a noun or pronoun and counts the number of times it appears as a subject. It then divides the count by the total number of SVOs for the particular subcorpus to give us a sense of the relative frequency.\n",
    "\n",
    "The numbers are not altogether surprising: men and women use \"he\" with close to the same frequency (0.4% difference), but women use \"she\" more than twice as often as men, 2.4% versus 1.1%. In both cases, the gendered pronouns do not represent a fairly small subset of the overall SVOs.\n",
    "\n",
    "The comparison of the gendered nouns man, men, woman, women turn up the slight tendency for men to use \"man\" and women to use \"men\", \"woman\", and \"women\" which causes us to wonder how \"man\" is being used in sentences: does it reflect a tendency to use man for human?\n",
    "\n",
    "Much more interesting are the frequencies of first and second person pronouns, with men using \"I\" in one in five SVOs (19.2%) and women one in four (23.4%). Both use we with relatively the same frequency (19.2% for men and 17.5% for women) and men have a tendency to use you more frequently, 14.9% versus 11.7% by women."
   ]
  },
  {
   "cell_type": "code",
   "execution_count": 4,
   "metadata": {},
   "outputs": [],
   "source": [
    "def compare (subject):\n",
    "    # Create name:\n",
    "    m_tmp = svos_m[svos_m[\"subject\"] == subject]\n",
    "    w_tmp = svos_w[svos_w[\"subject\"] == subject]\n",
    "    print(f'''\n",
    "    | ♂︎ | \"{subject}\" | {m_tmp.shape[0]} | {m_tmp.shape[0]/svos_m.shape[0]:.3f} |\n",
    "    | ♀︎ | \"{subject}\" | {w_tmp.shape[0]} | {w_tmp.shape[0]/svos_w.shape[0]:.3f} |''')"
   ]
  },
  {
   "cell_type": "markdown",
   "metadata": {},
   "source": [
    "### Third Person Perspective"
   ]
  },
  {
   "cell_type": "code",
   "execution_count": 5,
   "metadata": {},
   "outputs": [
    {
     "name": "stdout",
     "output_type": "stream",
     "text": [
      "\n",
      "    | ♂︎ | \"he\" | 2548 | 0.032 |\n",
      "    | ♀︎ | \"he\" | 757 | 0.028 |\n",
      "\n",
      "    | ♂︎ | \"she\" | 848 | 0.011 |\n",
      "    | ♀︎ | \"she\" | 643 | 0.024 |\n",
      "\n",
      "    | ♂︎ | \"man\" | 80 | 0.001 |\n",
      "    | ♀︎ | \"man\" | 13 | 0.000 |\n",
      "\n",
      "    | ♂︎ | \"woman\" | 24 | 0.000 |\n",
      "    | ♀︎ | \"woman\" | 35 | 0.001 |\n",
      "\n",
      "    | ♂︎ | \"men\" | 40 | 0.000 |\n",
      "    | ♀︎ | \"men\" | 23 | 0.001 |\n",
      "\n",
      "    | ♂︎ | \"women\" | 37 | 0.000 |\n",
      "    | ♀︎ | \"women\" | 62 | 0.002 |\n",
      "\n",
      "    | ♂︎ | \"actor\" | 3 | 0.000 |\n",
      "    | ♀︎ | \"actor\" | 1 | 0.000 |\n",
      "\n",
      "    | ♂︎ | \"actress\" | 0 | 0.000 |\n",
      "    | ♀︎ | \"actress\" | 0 | 0.000 |\n"
     ]
    }
   ],
   "source": [
    "thirdPerson = ['he', 'she', 'man', 'woman', 'men', 'women', 'actor', 'actress']\n",
    "\n",
    "for i in thirdPerson:\n",
    "    compare(i)"
   ]
  },
  {
   "cell_type": "markdown",
   "metadata": {},
   "source": [
    "### First & Second Person"
   ]
  },
  {
   "cell_type": "code",
   "execution_count": 6,
   "metadata": {},
   "outputs": [
    {
     "name": "stdout",
     "output_type": "stream",
     "text": [
      "\n",
      "    | ♂︎ | \"i\" | 15440 | 0.192 |\n",
      "    | ♀︎ | \"i\" | 6185 | 0.232 |\n",
      "\n",
      "    | ♂︎ | \"we\" | 15458 | 0.192 |\n",
      "    | ♀︎ | \"we\" | 4652 | 0.175 |\n",
      "\n",
      "    | ♂︎ | \"you\" | 11949 | 0.149 |\n",
      "    | ♀︎ | \"you\" | 3117 | 0.117 |\n"
     ]
    }
   ],
   "source": [
    "firstSecond = [\"i\", \"we\", \"you\"]\n",
    "\n",
    "for i in firstSecond:\n",
    "    compare(i)"
   ]
  },
  {
   "cell_type": "markdown",
   "metadata": {},
   "source": [
    "### Other Subjects"
   ]
  },
  {
   "cell_type": "code",
   "execution_count": 7,
   "metadata": {},
   "outputs": [
    {
     "name": "stdout",
     "output_type": "stream",
     "text": [
      "\n",
      "    | ♂︎ | \"john\" | 3 | 0.000 |\n",
      "    | ♀︎ | \"john\" | 0 | 0.000 |\n",
      "\n",
      "    | ♂︎ | \"will\" | 3 | 0.000 |\n",
      "    | ♀︎ | \"will\" | 0 | 0.000 |\n"
     ]
    }
   ],
   "source": [
    "# This is just a placeholder for more interesting words\n",
    "otherSubjects =  ['john', 'will']\n",
    "\n",
    "for i in otherSubjects:\n",
    "    compare(i)"
   ]
  },
  {
   "cell_type": "markdown",
   "metadata": {},
   "source": [
    "## Verbs"
   ]
  },
  {
   "cell_type": "markdown",
   "metadata": {},
   "source": [
    "Before delving into what verbs go with the pronouns above, it might be useful to establish an overall \"verb landscape,\" exploring along the way possible differences between the two subcorpora. (It might also give us a baseline against which to compare what turns up when we focus on verbs associated with particular subjects.)\n",
    "\n",
    "For this exploration of verbs we will first **group by** verb. (Later, we will want to group by pronouns and then by verb.) The `groupby` functionality will give us counts, and, if we want to doubele-check our math, we can sum the counts and check to see that they add up to the number of SVOs we have."
   ]
  },
  {
   "cell_type": "code",
   "execution_count": 8,
   "metadata": {
    "scrolled": true
   },
   "outputs": [
    {
     "name": "stdout",
     "output_type": "stream",
     "text": [
      "Men speakers:\n",
      "       verb  count\n",
      "1078  have   8897\n",
      "1024    go   3969\n",
      "710     do   3815\n",
      "1013   get   3065\n",
      "2551  want   2830 \n",
      "\n",
      "Women speakers:\n",
      "       verb  count\n",
      "736   have   2890\n",
      "475     do   1085\n",
      "695     go   1066\n",
      "1644  want    895\n",
      "691    get    795\n"
     ]
    }
   ],
   "source": [
    "# Verbs in men's subcorpus\n",
    "verbs_m = svos_m.groupby(\n",
    "    [\"verb\"]).size().reset_index(name=\"count\").sort_values([\"count\"], ascending=False)\n",
    "print(\"Men speakers:\\n\", verbs_m.head(),\"\\n\")\n",
    "\n",
    "# Verbs in women's subcorpus\n",
    "verbs_w = svos_w.groupby(\n",
    "    [\"verb\"]).size().reset_index(name=\"count\").sort_values([\"count\"], ascending=False)\n",
    "print(\"Women speakers:\\n\", verbs_w.head())\n",
    "\n",
    "## The first column in the OG index from before SORT_VALUES\n",
    "## KMK - initial attempt to remove this didn't work. "
   ]
  },
  {
   "cell_type": "code",
   "execution_count": 9,
   "metadata": {},
   "outputs": [
    {
     "data": {
      "text/html": [
       "<div>\n",
       "<style scoped>\n",
       "    .dataframe tbody tr th:only-of-type {\n",
       "        vertical-align: middle;\n",
       "    }\n",
       "\n",
       "    .dataframe tbody tr th {\n",
       "        vertical-align: top;\n",
       "    }\n",
       "\n",
       "    .dataframe thead th {\n",
       "        text-align: right;\n",
       "    }\n",
       "</style>\n",
       "<table border=\"1\" class=\"dataframe\">\n",
       "  <thead>\n",
       "    <tr style=\"text-align: right;\">\n",
       "      <th></th>\n",
       "      <th>verb</th>\n",
       "      <th>count</th>\n",
       "    </tr>\n",
       "  </thead>\n",
       "  <tbody>\n",
       "    <tr>\n",
       "      <th>1078</th>\n",
       "      <td>have</td>\n",
       "      <td>8897</td>\n",
       "    </tr>\n",
       "    <tr>\n",
       "      <th>1024</th>\n",
       "      <td>go</td>\n",
       "      <td>3969</td>\n",
       "    </tr>\n",
       "    <tr>\n",
       "      <th>710</th>\n",
       "      <td>do</td>\n",
       "      <td>3815</td>\n",
       "    </tr>\n",
       "    <tr>\n",
       "      <th>1013</th>\n",
       "      <td>get</td>\n",
       "      <td>3065</td>\n",
       "    </tr>\n",
       "    <tr>\n",
       "      <th>2551</th>\n",
       "      <td>want</td>\n",
       "      <td>2830</td>\n",
       "    </tr>\n",
       "    <tr>\n",
       "      <th>...</th>\n",
       "      <td>...</td>\n",
       "      <td>...</td>\n",
       "    </tr>\n",
       "    <tr>\n",
       "      <th>564</th>\n",
       "      <td>decimate</td>\n",
       "      <td>1</td>\n",
       "    </tr>\n",
       "    <tr>\n",
       "      <th>1011</th>\n",
       "      <td>georges</td>\n",
       "      <td>1</td>\n",
       "    </tr>\n",
       "    <tr>\n",
       "      <th>1454</th>\n",
       "      <td>nonsteroidal</td>\n",
       "      <td>1</td>\n",
       "    </tr>\n",
       "    <tr>\n",
       "      <th>1959</th>\n",
       "      <td>rework</td>\n",
       "      <td>1</td>\n",
       "    </tr>\n",
       "    <tr>\n",
       "      <th>2110</th>\n",
       "      <td>signify</td>\n",
       "      <td>1</td>\n",
       "    </tr>\n",
       "  </tbody>\n",
       "</table>\n",
       "<p>2631 rows × 2 columns</p>\n",
       "</div>"
      ],
      "text/plain": [
       "              verb  count\n",
       "1078          have   8897\n",
       "1024            go   3969\n",
       "710             do   3815\n",
       "1013           get   3065\n",
       "2551          want   2830\n",
       "...            ...    ...\n",
       "564       decimate      1\n",
       "1011       georges      1\n",
       "1454  nonsteroidal      1\n",
       "1959        rework      1\n",
       "2110       signify      1\n",
       "\n",
       "[2631 rows x 2 columns]"
      ]
     },
     "execution_count": 9,
     "metadata": {},
     "output_type": "execute_result"
    }
   ],
   "source": [
    "svos_m.groupby([\"verb\"]).size().reset_index(name=\"count\").sort_values([\"count\"], ascending=False)"
   ]
  },
  {
   "cell_type": "code",
   "execution_count": 10,
   "metadata": {},
   "outputs": [
    {
     "name": "stdout",
     "output_type": "stream",
     "text": [
      "80460 26610\n"
     ]
    }
   ],
   "source": [
    "verbs_m_total = verbs_m['count'].sum()\n",
    "verbs_w_total = verbs_w['count'].sum()\n",
    "print(verbs_m_total, verbs_w_total)"
   ]
  },
  {
   "cell_type": "markdown",
   "metadata": {},
   "source": [
    "This block allows us to save these simple dataframes, which consist of one verb and its count per line:"
   ]
  },
  {
   "cell_type": "code",
   "execution_count": 11,
   "metadata": {},
   "outputs": [],
   "source": [
    "# Commented out so we don't create files unless it's desired.\n",
    "# verbs_m.to_csv(\"~/Desktop/verbs_m.csv\")\n",
    "# verbs_w.to_csv(\"~/Desktop/verbs_w.csv\")"
   ]
  },
  {
   "cell_type": "markdown",
   "metadata": {},
   "source": [
    "The total number of verbs for each subcorpus:"
   ]
  },
  {
   "cell_type": "code",
   "execution_count": 12,
   "metadata": {},
   "outputs": [
    {
     "name": "stdout",
     "output_type": "stream",
     "text": [
      "2631 1687\n"
     ]
    }
   ],
   "source": [
    "print(verbs_m.shape[0], verbs_w.shape[0])"
   ]
  },
  {
   "cell_type": "code",
   "execution_count": 13,
   "metadata": {},
   "outputs": [
    {
     "data": {
      "text/html": [
       "<div>\n",
       "<style scoped>\n",
       "    .dataframe tbody tr th:only-of-type {\n",
       "        vertical-align: middle;\n",
       "    }\n",
       "\n",
       "    .dataframe tbody tr th {\n",
       "        vertical-align: top;\n",
       "    }\n",
       "\n",
       "    .dataframe thead th {\n",
       "        text-align: right;\n",
       "    }\n",
       "</style>\n",
       "<table border=\"1\" class=\"dataframe\">\n",
       "  <thead>\n",
       "    <tr style=\"text-align: right;\">\n",
       "      <th></th>\n",
       "      <th>verb</th>\n",
       "      <th>count</th>\n",
       "    </tr>\n",
       "  </thead>\n",
       "  <tbody>\n",
       "    <tr>\n",
       "      <th>1078</th>\n",
       "      <td>have</td>\n",
       "      <td>8897</td>\n",
       "    </tr>\n",
       "    <tr>\n",
       "      <th>1024</th>\n",
       "      <td>go</td>\n",
       "      <td>3969</td>\n",
       "    </tr>\n",
       "    <tr>\n",
       "      <th>710</th>\n",
       "      <td>do</td>\n",
       "      <td>3815</td>\n",
       "    </tr>\n",
       "    <tr>\n",
       "      <th>1013</th>\n",
       "      <td>get</td>\n",
       "      <td>3065</td>\n",
       "    </tr>\n",
       "    <tr>\n",
       "      <th>2551</th>\n",
       "      <td>want</td>\n",
       "      <td>2830</td>\n",
       "    </tr>\n",
       "    <tr>\n",
       "      <th>...</th>\n",
       "      <td>...</td>\n",
       "      <td>...</td>\n",
       "    </tr>\n",
       "    <tr>\n",
       "      <th>564</th>\n",
       "      <td>decimate</td>\n",
       "      <td>1</td>\n",
       "    </tr>\n",
       "    <tr>\n",
       "      <th>1011</th>\n",
       "      <td>georges</td>\n",
       "      <td>1</td>\n",
       "    </tr>\n",
       "    <tr>\n",
       "      <th>1454</th>\n",
       "      <td>nonsteroidal</td>\n",
       "      <td>1</td>\n",
       "    </tr>\n",
       "    <tr>\n",
       "      <th>1959</th>\n",
       "      <td>rework</td>\n",
       "      <td>1</td>\n",
       "    </tr>\n",
       "    <tr>\n",
       "      <th>2110</th>\n",
       "      <td>signify</td>\n",
       "      <td>1</td>\n",
       "    </tr>\n",
       "  </tbody>\n",
       "</table>\n",
       "<p>2631 rows × 2 columns</p>\n",
       "</div>"
      ],
      "text/plain": [
       "              verb  count\n",
       "1078          have   8897\n",
       "1024            go   3969\n",
       "710             do   3815\n",
       "1013           get   3065\n",
       "2551          want   2830\n",
       "...            ...    ...\n",
       "564       decimate      1\n",
       "1011       georges      1\n",
       "1454  nonsteroidal      1\n",
       "1959        rework      1\n",
       "2110       signify      1\n",
       "\n",
       "[2631 rows x 2 columns]"
      ]
     },
     "execution_count": 13,
     "metadata": {},
     "output_type": "execute_result"
    }
   ],
   "source": [
    "verbs_m\n"
   ]
  },
  {
   "cell_type": "markdown",
   "metadata": {},
   "source": [
    "## Looking for unbalanced Usage\n",
    "\n",
    "In this section, we work to find the words that are used more frequently by one gender over another. In this section, there are a few attempts at \"usage\" and \"lean\"\n",
    "\n",
    "In general, we are curious what words are used by one gender \"a lot\" than the other gender. There are several ways to explore this idea. We can look at absolute frequencies over the course of each gendered subset, that is the number of times a word is said by men compared to the number of times it is said by women. We can also look at the usage percentage: that is of all times that the word is said, how many times is by men versus by women. \n",
    "\n",
    "In this entire section (as with other parts of this work), we must keep the inherent imbalance of our dataset in the forefront of our explainations. With more talks labeled as \"male\" at a ratio of about 9 to 1, what is a \"balanced\" usage is not a 50/50 split. What is more, a decision needs to be made about how we define \"balanced\": Is it 9 to 1 or a ratio of the total verb usage? "
   ]
  },
  {
   "cell_type": "markdown",
   "metadata": {},
   "source": [
    "# Usage by frequency\n",
    "\n",
    "In this section, we are looking at raw counts, that is the number of times a word is used by men and by women. We start by creating a \"cut value\" which effectively decides when words are used \"enough\" to be considered. \n",
    "\n",
    "- Establish the cut value for women, then use a ratio of total verb usage to establish one for men\n",
    "   - Keep the verbs from each gendered verb dataframe\n",
    "- Cross check across the two data frames, extracting the counts for usage from both (regardless if above or below the cut point) \n",
    "   - Merge these results into one dataframe using `concat`\n",
    "- Add the relative \"usage\" fractions\n"
   ]
  },
  {
   "cell_type": "code",
   "execution_count": 40,
   "metadata": {},
   "outputs": [
    {
     "name": "stdout",
     "output_type": "stream",
     "text": [
      "18\n",
      "(383, 2)\n",
      "(376, 2)\n"
     ]
    },
    {
     "data": {
      "text/plain": [
       "<AxesSubplot:>"
      ]
     },
     "execution_count": 40,
     "metadata": {},
     "output_type": "execute_result"
    },
    {
     "data": {
      "image/png": "[encoded data removed]",
      "text/plain": [
       "<Figure size 432x288 with 1 Axes>"
      ]
     },
     "metadata": {
      "needs_background": "light"
     },
     "output_type": "display_data"
    }
   ],
   "source": [
    "# Establishing the cut value for usage and pull the verbs that are above the cut value\n",
    "\n",
    "cut_val = 6\n",
    "cut_point = verbs_w[verbs_w[\"count\"] > cut_val]\n",
    "\n",
    "m_cut_val = round(80460/26610*cut_val)\n",
    "print(m_cut_val)\n",
    "m_cut_point = verbs_m[verbs_m[\"count\"] > m_cut_val]\n",
    "\n",
    "print(cut_point.shape)\n",
    "print(m_cut_point.shape)\n",
    "\n",
    "sns.scatterplot(data = m_cut_point[\"count\"].to_numpy())\n",
    "sns.scatterplot(data = cut_point[\"count\"].to_numpy())"
   ]
  },
  {
   "cell_type": "code",
   "execution_count": 15,
   "metadata": {},
   "outputs": [
    {
     "data": {
      "text/html": [
       "<div>\n",
       "<style scoped>\n",
       "    .dataframe tbody tr th:only-of-type {\n",
       "        vertical-align: middle;\n",
       "    }\n",
       "\n",
       "    .dataframe tbody tr th {\n",
       "        vertical-align: top;\n",
       "    }\n",
       "\n",
       "    .dataframe thead th {\n",
       "        text-align: right;\n",
       "    }\n",
       "</style>\n",
       "<table border=\"1\" class=\"dataframe\">\n",
       "  <thead>\n",
       "    <tr style=\"text-align: right;\">\n",
       "      <th></th>\n",
       "      <th>verb</th>\n",
       "      <th>count_m</th>\n",
       "      <th>count_w</th>\n",
       "    </tr>\n",
       "  </thead>\n",
       "  <tbody>\n",
       "    <tr>\n",
       "      <th>0</th>\n",
       "      <td>have</td>\n",
       "      <td>8897</td>\n",
       "      <td>2890</td>\n",
       "    </tr>\n",
       "    <tr>\n",
       "      <th>1</th>\n",
       "      <td>go</td>\n",
       "      <td>3969</td>\n",
       "      <td>1066</td>\n",
       "    </tr>\n",
       "    <tr>\n",
       "      <th>2</th>\n",
       "      <td>do</td>\n",
       "      <td>3815</td>\n",
       "      <td>1085</td>\n",
       "    </tr>\n",
       "    <tr>\n",
       "      <th>3</th>\n",
       "      <td>get</td>\n",
       "      <td>3065</td>\n",
       "      <td>795</td>\n",
       "    </tr>\n",
       "    <tr>\n",
       "      <th>4</th>\n",
       "      <td>want</td>\n",
       "      <td>2830</td>\n",
       "      <td>895</td>\n",
       "    </tr>\n",
       "    <tr>\n",
       "      <th>...</th>\n",
       "      <td>...</td>\n",
       "      <td>...</td>\n",
       "      <td>...</td>\n",
       "    </tr>\n",
       "    <tr>\n",
       "      <th>371</th>\n",
       "      <td>dig</td>\n",
       "      <td>19</td>\n",
       "      <td>10</td>\n",
       "    </tr>\n",
       "    <tr>\n",
       "      <th>372</th>\n",
       "      <td>expose</td>\n",
       "      <td>19</td>\n",
       "      <td>5</td>\n",
       "    </tr>\n",
       "    <tr>\n",
       "      <th>373</th>\n",
       "      <td>’s</td>\n",
       "      <td>19</td>\n",
       "      <td>0</td>\n",
       "    </tr>\n",
       "    <tr>\n",
       "      <th>374</th>\n",
       "      <td>violate</td>\n",
       "      <td>19</td>\n",
       "      <td>3</td>\n",
       "    </tr>\n",
       "    <tr>\n",
       "      <th>375</th>\n",
       "      <td>lack</td>\n",
       "      <td>19</td>\n",
       "      <td>1</td>\n",
       "    </tr>\n",
       "  </tbody>\n",
       "</table>\n",
       "<p>376 rows × 3 columns</p>\n",
       "</div>"
      ],
      "text/plain": [
       "        verb  count_m  count_w\n",
       "0       have     8897     2890\n",
       "1         go     3969     1066\n",
       "2         do     3815     1085\n",
       "3        get     3065      795\n",
       "4       want     2830      895\n",
       "..       ...      ...      ...\n",
       "371      dig       19       10\n",
       "372   expose       19        5\n",
       "373       ’s       19        0\n",
       "374  violate       19        3\n",
       "375     lack       19        1\n",
       "\n",
       "[376 rows x 3 columns]"
      ]
     },
     "execution_count": 15,
     "metadata": {},
     "output_type": "execute_result"
    }
   ],
   "source": [
    "# Cross check the verbs from men's set with the women's sent\n",
    "m_add_w = m_cut_point.merge(verbs_w, how = \"left\", left_on = \"verb\", right_on = \"verb\", suffixes=(\"_m\", \"_w\"))\n",
    "m_add_w = m_add_w.fillna(0)\n",
    "m_add_w[\"count_w\"] = m_add_w[\"count_w\"].astype('int64')\n",
    "m_add_w"
   ]
  },
  {
   "cell_type": "code",
   "execution_count": 16,
   "metadata": {},
   "outputs": [
    {
     "data": {
      "text/html": [
       "<div>\n",
       "<style scoped>\n",
       "    .dataframe tbody tr th:only-of-type {\n",
       "        vertical-align: middle;\n",
       "    }\n",
       "\n",
       "    .dataframe tbody tr th {\n",
       "        vertical-align: top;\n",
       "    }\n",
       "\n",
       "    .dataframe thead th {\n",
       "        text-align: right;\n",
       "    }\n",
       "</style>\n",
       "<table border=\"1\" class=\"dataframe\">\n",
       "  <thead>\n",
       "    <tr style=\"text-align: right;\">\n",
       "      <th></th>\n",
       "      <th>verb</th>\n",
       "      <th>count_m</th>\n",
       "      <th>count_w</th>\n",
       "    </tr>\n",
       "  </thead>\n",
       "  <tbody>\n",
       "    <tr>\n",
       "      <th>0</th>\n",
       "      <td>have</td>\n",
       "      <td>8897</td>\n",
       "      <td>2890</td>\n",
       "    </tr>\n",
       "    <tr>\n",
       "      <th>1</th>\n",
       "      <td>do</td>\n",
       "      <td>3815</td>\n",
       "      <td>1085</td>\n",
       "    </tr>\n",
       "    <tr>\n",
       "      <th>2</th>\n",
       "      <td>go</td>\n",
       "      <td>3969</td>\n",
       "      <td>1066</td>\n",
       "    </tr>\n",
       "    <tr>\n",
       "      <th>3</th>\n",
       "      <td>want</td>\n",
       "      <td>2830</td>\n",
       "      <td>895</td>\n",
       "    </tr>\n",
       "    <tr>\n",
       "      <th>4</th>\n",
       "      <td>get</td>\n",
       "      <td>3065</td>\n",
       "      <td>795</td>\n",
       "    </tr>\n",
       "    <tr>\n",
       "      <th>...</th>\n",
       "      <td>...</td>\n",
       "      <td>...</td>\n",
       "      <td>...</td>\n",
       "    </tr>\n",
       "    <tr>\n",
       "      <th>378</th>\n",
       "      <td>matter</td>\n",
       "      <td>13</td>\n",
       "      <td>7</td>\n",
       "    </tr>\n",
       "    <tr>\n",
       "      <th>379</th>\n",
       "      <td>scar</td>\n",
       "      <td>12</td>\n",
       "      <td>7</td>\n",
       "    </tr>\n",
       "    <tr>\n",
       "      <th>380</th>\n",
       "      <td>separate</td>\n",
       "      <td>20</td>\n",
       "      <td>7</td>\n",
       "    </tr>\n",
       "    <tr>\n",
       "      <th>381</th>\n",
       "      <td>climb</td>\n",
       "      <td>26</td>\n",
       "      <td>7</td>\n",
       "    </tr>\n",
       "    <tr>\n",
       "      <th>382</th>\n",
       "      <td>shut</td>\n",
       "      <td>19</td>\n",
       "      <td>7</td>\n",
       "    </tr>\n",
       "  </tbody>\n",
       "</table>\n",
       "<p>383 rows × 3 columns</p>\n",
       "</div>"
      ],
      "text/plain": [
       "         verb  count_m  count_w\n",
       "0        have     8897     2890\n",
       "1          do     3815     1085\n",
       "2          go     3969     1066\n",
       "3        want     2830      895\n",
       "4         get     3065      795\n",
       "..        ...      ...      ...\n",
       "378    matter       13        7\n",
       "379      scar       12        7\n",
       "380  separate       20        7\n",
       "381     climb       26        7\n",
       "382      shut       19        7\n",
       "\n",
       "[383 rows x 3 columns]"
      ]
     },
     "execution_count": 16,
     "metadata": {},
     "output_type": "execute_result"
    }
   ],
   "source": [
    "# Cross check the verbs from women's set with the men's sent\n",
    "\n",
    "w_add_m = verbs_m.merge(cut_point, how = \"right\", left_on = \"verb\", right_on = \"verb\", suffixes=(\"_m\", \"_w\"))\n",
    "w_add_m = w_add_m.fillna(0)\n",
    "w_add_m"
   ]
  },
  {
   "cell_type": "code",
   "execution_count": 17,
   "metadata": {},
   "outputs": [],
   "source": [
    "#all_adds = w_add_m.merge(m_add_w, how = \"outer\", \n",
    "#                                   left_on = \"verb\", right_on = \"verb\")"
   ]
  },
  {
   "cell_type": "code",
   "execution_count": 18,
   "metadata": {},
   "outputs": [],
   "source": [
    "# Concatenate the results (that is just crudely stack them on top of each other)\n",
    "\n",
    "all_adds = pd.concat([w_add_m, m_add_w])"
   ]
  },
  {
   "cell_type": "code",
   "execution_count": 31,
   "metadata": {},
   "outputs": [],
   "source": [
    "# drop the duplicate rows\n",
    "all_adds = all_adds.drop_duplicates()"
   ]
  },
  {
   "cell_type": "code",
   "execution_count": 32,
   "metadata": {},
   "outputs": [
    {
     "data": {
      "text/html": [
       "<div>\n",
       "<style scoped>\n",
       "    .dataframe tbody tr th:only-of-type {\n",
       "        vertical-align: middle;\n",
       "    }\n",
       "\n",
       "    .dataframe tbody tr th {\n",
       "        vertical-align: top;\n",
       "    }\n",
       "\n",
       "    .dataframe thead th {\n",
       "        text-align: right;\n",
       "    }\n",
       "</style>\n",
       "<table border=\"1\" class=\"dataframe\">\n",
       "  <thead>\n",
       "    <tr style=\"text-align: right;\">\n",
       "      <th></th>\n",
       "      <th>verb</th>\n",
       "      <th>count_m</th>\n",
       "      <th>count_w</th>\n",
       "    </tr>\n",
       "  </thead>\n",
       "  <tbody>\n",
       "    <tr>\n",
       "      <th>0</th>\n",
       "      <td>have</td>\n",
       "      <td>8897</td>\n",
       "      <td>2890</td>\n",
       "    </tr>\n",
       "    <tr>\n",
       "      <th>1</th>\n",
       "      <td>do</td>\n",
       "      <td>3815</td>\n",
       "      <td>1085</td>\n",
       "    </tr>\n",
       "    <tr>\n",
       "      <th>2</th>\n",
       "      <td>go</td>\n",
       "      <td>3969</td>\n",
       "      <td>1066</td>\n",
       "    </tr>\n",
       "    <tr>\n",
       "      <th>3</th>\n",
       "      <td>want</td>\n",
       "      <td>2830</td>\n",
       "      <td>895</td>\n",
       "    </tr>\n",
       "    <tr>\n",
       "      <th>4</th>\n",
       "      <td>get</td>\n",
       "      <td>3065</td>\n",
       "      <td>795</td>\n",
       "    </tr>\n",
       "    <tr>\n",
       "      <th>...</th>\n",
       "      <td>...</td>\n",
       "      <td>...</td>\n",
       "      <td>...</td>\n",
       "    </tr>\n",
       "    <tr>\n",
       "      <th>370</th>\n",
       "      <td>accelerate</td>\n",
       "      <td>19</td>\n",
       "      <td>1</td>\n",
       "    </tr>\n",
       "    <tr>\n",
       "      <th>372</th>\n",
       "      <td>expose</td>\n",
       "      <td>19</td>\n",
       "      <td>5</td>\n",
       "    </tr>\n",
       "    <tr>\n",
       "      <th>373</th>\n",
       "      <td>’s</td>\n",
       "      <td>19</td>\n",
       "      <td>0</td>\n",
       "    </tr>\n",
       "    <tr>\n",
       "      <th>374</th>\n",
       "      <td>violate</td>\n",
       "      <td>19</td>\n",
       "      <td>3</td>\n",
       "    </tr>\n",
       "    <tr>\n",
       "      <th>375</th>\n",
       "      <td>lack</td>\n",
       "      <td>19</td>\n",
       "      <td>1</td>\n",
       "    </tr>\n",
       "  </tbody>\n",
       "</table>\n",
       "<p>452 rows × 3 columns</p>\n",
       "</div>"
      ],
      "text/plain": [
       "           verb  count_m  count_w\n",
       "0          have     8897     2890\n",
       "1            do     3815     1085\n",
       "2            go     3969     1066\n",
       "3          want     2830      895\n",
       "4           get     3065      795\n",
       "..          ...      ...      ...\n",
       "370  accelerate       19        1\n",
       "372      expose       19        5\n",
       "373          ’s       19        0\n",
       "374     violate       19        3\n",
       "375        lack       19        1\n",
       "\n",
       "[452 rows x 3 columns]"
      ]
     },
     "execution_count": 32,
     "metadata": {},
     "output_type": "execute_result"
    }
   ],
   "source": [
    "all_adds"
   ]
  },
  {
   "cell_type": "code",
   "execution_count": 33,
   "metadata": {},
   "outputs": [],
   "source": [
    "# Find the Total number of times a verb is used\n",
    "all_adds['total'] = all_adds[\"count_m\"] + all_adds[\"count_w\"]\n"
   ]
  },
  {
   "cell_type": "code",
   "execution_count": 34,
   "metadata": {},
   "outputs": [],
   "source": [
    "# Add male \"usage\" fraction\n",
    "\n",
    "all_adds[\"usage_m\"] = round(all_adds[\"count_m\"] / all_adds[\"total\"],3)"
   ]
  },
  {
   "cell_type": "code",
   "execution_count": 35,
   "metadata": {},
   "outputs": [],
   "source": [
    "# Add female \"usage\" fraction\n",
    "\n",
    "all_adds[\"usage_w\"] = round(all_adds[\"count_w\"] / all_adds[\"total\"],3)"
   ]
  },
  {
   "cell_type": "code",
   "execution_count": 36,
   "metadata": {},
   "outputs": [
    {
     "data": {
      "text/html": [
       "<div>\n",
       "<style scoped>\n",
       "    .dataframe tbody tr th:only-of-type {\n",
       "        vertical-align: middle;\n",
       "    }\n",
       "\n",
       "    .dataframe tbody tr th {\n",
       "        vertical-align: top;\n",
       "    }\n",
       "\n",
       "    .dataframe thead th {\n",
       "        text-align: right;\n",
       "    }\n",
       "</style>\n",
       "<table border=\"1\" class=\"dataframe\">\n",
       "  <thead>\n",
       "    <tr style=\"text-align: right;\">\n",
       "      <th></th>\n",
       "      <th>verb</th>\n",
       "      <th>count_m</th>\n",
       "      <th>count_w</th>\n",
       "      <th>total</th>\n",
       "      <th>usage_m</th>\n",
       "      <th>usage_w</th>\n",
       "    </tr>\n",
       "  </thead>\n",
       "  <tbody>\n",
       "    <tr>\n",
       "      <th>0</th>\n",
       "      <td>have</td>\n",
       "      <td>8897</td>\n",
       "      <td>2890</td>\n",
       "      <td>11787</td>\n",
       "      <td>0.755</td>\n",
       "      <td>0.245</td>\n",
       "    </tr>\n",
       "    <tr>\n",
       "      <th>1</th>\n",
       "      <td>do</td>\n",
       "      <td>3815</td>\n",
       "      <td>1085</td>\n",
       "      <td>4900</td>\n",
       "      <td>0.779</td>\n",
       "      <td>0.221</td>\n",
       "    </tr>\n",
       "    <tr>\n",
       "      <th>2</th>\n",
       "      <td>go</td>\n",
       "      <td>3969</td>\n",
       "      <td>1066</td>\n",
       "      <td>5035</td>\n",
       "      <td>0.788</td>\n",
       "      <td>0.212</td>\n",
       "    </tr>\n",
       "    <tr>\n",
       "      <th>3</th>\n",
       "      <td>want</td>\n",
       "      <td>2830</td>\n",
       "      <td>895</td>\n",
       "      <td>3725</td>\n",
       "      <td>0.760</td>\n",
       "      <td>0.240</td>\n",
       "    </tr>\n",
       "    <tr>\n",
       "      <th>4</th>\n",
       "      <td>get</td>\n",
       "      <td>3065</td>\n",
       "      <td>795</td>\n",
       "      <td>3860</td>\n",
       "      <td>0.794</td>\n",
       "      <td>0.206</td>\n",
       "    </tr>\n",
       "    <tr>\n",
       "      <th>...</th>\n",
       "      <td>...</td>\n",
       "      <td>...</td>\n",
       "      <td>...</td>\n",
       "      <td>...</td>\n",
       "      <td>...</td>\n",
       "      <td>...</td>\n",
       "    </tr>\n",
       "    <tr>\n",
       "      <th>370</th>\n",
       "      <td>accelerate</td>\n",
       "      <td>19</td>\n",
       "      <td>1</td>\n",
       "      <td>20</td>\n",
       "      <td>0.950</td>\n",
       "      <td>0.050</td>\n",
       "    </tr>\n",
       "    <tr>\n",
       "      <th>372</th>\n",
       "      <td>expose</td>\n",
       "      <td>19</td>\n",
       "      <td>5</td>\n",
       "      <td>24</td>\n",
       "      <td>0.792</td>\n",
       "      <td>0.208</td>\n",
       "    </tr>\n",
       "    <tr>\n",
       "      <th>373</th>\n",
       "      <td>’s</td>\n",
       "      <td>19</td>\n",
       "      <td>0</td>\n",
       "      <td>19</td>\n",
       "      <td>1.000</td>\n",
       "      <td>0.000</td>\n",
       "    </tr>\n",
       "    <tr>\n",
       "      <th>374</th>\n",
       "      <td>violate</td>\n",
       "      <td>19</td>\n",
       "      <td>3</td>\n",
       "      <td>22</td>\n",
       "      <td>0.864</td>\n",
       "      <td>0.136</td>\n",
       "    </tr>\n",
       "    <tr>\n",
       "      <th>375</th>\n",
       "      <td>lack</td>\n",
       "      <td>19</td>\n",
       "      <td>1</td>\n",
       "      <td>20</td>\n",
       "      <td>0.950</td>\n",
       "      <td>0.050</td>\n",
       "    </tr>\n",
       "  </tbody>\n",
       "</table>\n",
       "<p>452 rows × 6 columns</p>\n",
       "</div>"
      ],
      "text/plain": [
       "           verb  count_m  count_w  total  usage_m  usage_w\n",
       "0          have     8897     2890  11787    0.755    0.245\n",
       "1            do     3815     1085   4900    0.779    0.221\n",
       "2            go     3969     1066   5035    0.788    0.212\n",
       "3          want     2830      895   3725    0.760    0.240\n",
       "4           get     3065      795   3860    0.794    0.206\n",
       "..          ...      ...      ...    ...      ...      ...\n",
       "370  accelerate       19        1     20    0.950    0.050\n",
       "372      expose       19        5     24    0.792    0.208\n",
       "373          ’s       19        0     19    1.000    0.000\n",
       "374     violate       19        3     22    0.864    0.136\n",
       "375        lack       19        1     20    0.950    0.050\n",
       "\n",
       "[452 rows x 6 columns]"
      ]
     },
     "execution_count": 36,
     "metadata": {},
     "output_type": "execute_result"
    }
   ],
   "source": [
    "all_adds"
   ]
  },
  {
   "cell_type": "code",
   "execution_count": 25,
   "metadata": {},
   "outputs": [
    {
     "data": {
      "text/plain": [
       "<AxesSubplot:xlabel='usage_m', ylabel='usage_w'>"
      ]
     },
     "execution_count": 25,
     "metadata": {},
     "output_type": "execute_result"
    },
    {
     "data": {
      "image/png": "[encoded data removed]",
      "text/plain": [
       "<Figure size 432x288 with 1 Axes>"
      ]
     },
     "metadata": {
      "needs_background": "light"
     },
     "output_type": "display_data"
    }
   ],
   "source": [
    "# Still not quite the right plot, but I can \"See\" better that there are outliers\n",
    "\n",
    "\n",
    "sns.scatterplot(data = all_adds, x = \"usage_m\", y = \"usage_w\")"
   ]
  },
  {
   "cell_type": "code",
   "execution_count": 26,
   "metadata": {},
   "outputs": [],
   "source": [
    "# Consider only the rows where a verb is not used a lot by women\n",
    "# (as in those verbs below the cut point)\n",
    "\n",
    "small_add_w = all_adds[all_adds[\"count_w\"]<=cut_val]"
   ]
  },
  {
   "cell_type": "code",
   "execution_count": 27,
   "metadata": {},
   "outputs": [
    {
     "data": {
      "text/html": [
       "<div>\n",
       "<style scoped>\n",
       "    .dataframe tbody tr th:only-of-type {\n",
       "        vertical-align: middle;\n",
       "    }\n",
       "\n",
       "    .dataframe tbody tr th {\n",
       "        vertical-align: top;\n",
       "    }\n",
       "\n",
       "    .dataframe thead th {\n",
       "        text-align: right;\n",
       "    }\n",
       "</style>\n",
       "<table border=\"1\" class=\"dataframe\">\n",
       "  <thead>\n",
       "    <tr style=\"text-align: right;\">\n",
       "      <th></th>\n",
       "      <th>verb</th>\n",
       "      <th>count_m</th>\n",
       "      <th>count_w</th>\n",
       "      <th>total</th>\n",
       "      <th>usage_m</th>\n",
       "      <th>usage_w</th>\n",
       "    </tr>\n",
       "  </thead>\n",
       "  <tbody>\n",
       "    <tr>\n",
       "      <th>157</th>\n",
       "      <td>shoot</td>\n",
       "      <td>62</td>\n",
       "      <td>5</td>\n",
       "      <td>67</td>\n",
       "      <td>0.925</td>\n",
       "      <td>0.075</td>\n",
       "    </tr>\n",
       "    <tr>\n",
       "      <th>187</th>\n",
       "      <td>hire</td>\n",
       "      <td>49</td>\n",
       "      <td>4</td>\n",
       "      <td>53</td>\n",
       "      <td>0.925</td>\n",
       "      <td>0.075</td>\n",
       "    </tr>\n",
       "    <tr>\n",
       "      <th>205</th>\n",
       "      <td>weigh</td>\n",
       "      <td>43</td>\n",
       "      <td>4</td>\n",
       "      <td>47</td>\n",
       "      <td>0.915</td>\n",
       "      <td>0.085</td>\n",
       "    </tr>\n",
       "    <tr>\n",
       "      <th>212</th>\n",
       "      <td>embrace</td>\n",
       "      <td>41</td>\n",
       "      <td>4</td>\n",
       "      <td>45</td>\n",
       "      <td>0.911</td>\n",
       "      <td>0.089</td>\n",
       "    </tr>\n",
       "    <tr>\n",
       "      <th>218</th>\n",
       "      <td>organize</td>\n",
       "      <td>40</td>\n",
       "      <td>4</td>\n",
       "      <td>44</td>\n",
       "      <td>0.909</td>\n",
       "      <td>0.091</td>\n",
       "    </tr>\n",
       "    <tr>\n",
       "      <th>...</th>\n",
       "      <td>...</td>\n",
       "      <td>...</td>\n",
       "      <td>...</td>\n",
       "      <td>...</td>\n",
       "      <td>...</td>\n",
       "      <td>...</td>\n",
       "    </tr>\n",
       "    <tr>\n",
       "      <th>370</th>\n",
       "      <td>accelerate</td>\n",
       "      <td>19</td>\n",
       "      <td>1</td>\n",
       "      <td>20</td>\n",
       "      <td>0.950</td>\n",
       "      <td>0.050</td>\n",
       "    </tr>\n",
       "    <tr>\n",
       "      <th>372</th>\n",
       "      <td>expose</td>\n",
       "      <td>19</td>\n",
       "      <td>5</td>\n",
       "      <td>24</td>\n",
       "      <td>0.792</td>\n",
       "      <td>0.208</td>\n",
       "    </tr>\n",
       "    <tr>\n",
       "      <th>373</th>\n",
       "      <td>’s</td>\n",
       "      <td>19</td>\n",
       "      <td>0</td>\n",
       "      <td>19</td>\n",
       "      <td>1.000</td>\n",
       "      <td>0.000</td>\n",
       "    </tr>\n",
       "    <tr>\n",
       "      <th>374</th>\n",
       "      <td>violate</td>\n",
       "      <td>19</td>\n",
       "      <td>3</td>\n",
       "      <td>22</td>\n",
       "      <td>0.864</td>\n",
       "      <td>0.136</td>\n",
       "    </tr>\n",
       "    <tr>\n",
       "      <th>375</th>\n",
       "      <td>lack</td>\n",
       "      <td>19</td>\n",
       "      <td>1</td>\n",
       "      <td>20</td>\n",
       "      <td>0.950</td>\n",
       "      <td>0.050</td>\n",
       "    </tr>\n",
       "  </tbody>\n",
       "</table>\n",
       "<p>69 rows × 6 columns</p>\n",
       "</div>"
      ],
      "text/plain": [
       "           verb  count_m  count_w  total  usage_m  usage_w\n",
       "157       shoot       62        5     67    0.925    0.075\n",
       "187        hire       49        4     53    0.925    0.075\n",
       "205       weigh       43        4     47    0.915    0.085\n",
       "212     embrace       41        4     45    0.911    0.089\n",
       "218    organize       40        4     44    0.909    0.091\n",
       "..          ...      ...      ...    ...      ...      ...\n",
       "370  accelerate       19        1     20    0.950    0.050\n",
       "372      expose       19        5     24    0.792    0.208\n",
       "373          ’s       19        0     19    1.000    0.000\n",
       "374     violate       19        3     22    0.864    0.136\n",
       "375        lack       19        1     20    0.950    0.050\n",
       "\n",
       "[69 rows x 6 columns]"
      ]
     },
     "execution_count": 27,
     "metadata": {},
     "output_type": "execute_result"
    }
   ],
   "source": [
    "small_add_w"
   ]
  },
  {
   "cell_type": "code",
   "execution_count": 28,
   "metadata": {},
   "outputs": [],
   "source": [
    "# Consider only the rows where a verb is not used a lot by men\n",
    "# (as in those verbs below the cut point) \n",
    "\n",
    "small_add_m = all_adds[all_adds[\"count_m\"]<=m_cut_val]"
   ]
  },
  {
   "cell_type": "code",
   "execution_count": 29,
   "metadata": {},
   "outputs": [
    {
     "data": {
      "text/html": [
       "<div>\n",
       "<style scoped>\n",
       "    .dataframe tbody tr th:only-of-type {\n",
       "        vertical-align: middle;\n",
       "    }\n",
       "\n",
       "    .dataframe tbody tr th {\n",
       "        vertical-align: top;\n",
       "    }\n",
       "\n",
       "    .dataframe thead th {\n",
       "        text-align: right;\n",
       "    }\n",
       "</style>\n",
       "<table border=\"1\" class=\"dataframe\">\n",
       "  <thead>\n",
       "    <tr style=\"text-align: right;\">\n",
       "      <th></th>\n",
       "      <th>verb</th>\n",
       "      <th>count_m</th>\n",
       "      <th>count_w</th>\n",
       "      <th>total</th>\n",
       "      <th>usage_m</th>\n",
       "      <th>usage_w</th>\n",
       "    </tr>\n",
       "  </thead>\n",
       "  <tbody>\n",
       "    <tr>\n",
       "      <th>108</th>\n",
       "      <td>marry</td>\n",
       "      <td>17</td>\n",
       "      <td>36</td>\n",
       "      <td>53</td>\n",
       "      <td>0.321</td>\n",
       "      <td>0.679</td>\n",
       "    </tr>\n",
       "    <tr>\n",
       "      <th>166</th>\n",
       "      <td>report</td>\n",
       "      <td>10</td>\n",
       "      <td>19</td>\n",
       "      <td>29</td>\n",
       "      <td>0.345</td>\n",
       "      <td>0.655</td>\n",
       "    </tr>\n",
       "    <tr>\n",
       "      <th>183</th>\n",
       "      <td>observe</td>\n",
       "      <td>17</td>\n",
       "      <td>17</td>\n",
       "      <td>34</td>\n",
       "      <td>0.500</td>\n",
       "      <td>0.500</td>\n",
       "    </tr>\n",
       "    <tr>\n",
       "      <th>194</th>\n",
       "      <td>blame</td>\n",
       "      <td>8</td>\n",
       "      <td>16</td>\n",
       "      <td>24</td>\n",
       "      <td>0.333</td>\n",
       "      <td>0.667</td>\n",
       "    </tr>\n",
       "    <tr>\n",
       "      <th>205</th>\n",
       "      <td>refuse</td>\n",
       "      <td>16</td>\n",
       "      <td>15</td>\n",
       "      <td>31</td>\n",
       "      <td>0.516</td>\n",
       "      <td>0.484</td>\n",
       "    </tr>\n",
       "    <tr>\n",
       "      <th>...</th>\n",
       "      <td>...</td>\n",
       "      <td>...</td>\n",
       "      <td>...</td>\n",
       "      <td>...</td>\n",
       "      <td>...</td>\n",
       "      <td>...</td>\n",
       "    </tr>\n",
       "    <tr>\n",
       "      <th>374</th>\n",
       "      <td>bind</td>\n",
       "      <td>17</td>\n",
       "      <td>7</td>\n",
       "      <td>24</td>\n",
       "      <td>0.708</td>\n",
       "      <td>0.292</td>\n",
       "    </tr>\n",
       "    <tr>\n",
       "      <th>375</th>\n",
       "      <td>mark</td>\n",
       "      <td>12</td>\n",
       "      <td>7</td>\n",
       "      <td>19</td>\n",
       "      <td>0.632</td>\n",
       "      <td>0.368</td>\n",
       "    </tr>\n",
       "    <tr>\n",
       "      <th>376</th>\n",
       "      <td>owe</td>\n",
       "      <td>11</td>\n",
       "      <td>7</td>\n",
       "      <td>18</td>\n",
       "      <td>0.611</td>\n",
       "      <td>0.389</td>\n",
       "    </tr>\n",
       "    <tr>\n",
       "      <th>378</th>\n",
       "      <td>matter</td>\n",
       "      <td>13</td>\n",
       "      <td>7</td>\n",
       "      <td>20</td>\n",
       "      <td>0.650</td>\n",
       "      <td>0.350</td>\n",
       "    </tr>\n",
       "    <tr>\n",
       "      <th>379</th>\n",
       "      <td>scar</td>\n",
       "      <td>12</td>\n",
       "      <td>7</td>\n",
       "      <td>19</td>\n",
       "      <td>0.632</td>\n",
       "      <td>0.368</td>\n",
       "    </tr>\n",
       "  </tbody>\n",
       "</table>\n",
       "<p>76 rows × 6 columns</p>\n",
       "</div>"
      ],
      "text/plain": [
       "        verb  count_m  count_w  total  usage_m  usage_w\n",
       "108    marry       17       36     53    0.321    0.679\n",
       "166   report       10       19     29    0.345    0.655\n",
       "183  observe       17       17     34    0.500    0.500\n",
       "194    blame        8       16     24    0.333    0.667\n",
       "205   refuse       16       15     31    0.516    0.484\n",
       "..       ...      ...      ...    ...      ...      ...\n",
       "374     bind       17        7     24    0.708    0.292\n",
       "375     mark       12        7     19    0.632    0.368\n",
       "376      owe       11        7     18    0.611    0.389\n",
       "378   matter       13        7     20    0.650    0.350\n",
       "379     scar       12        7     19    0.632    0.368\n",
       "\n",
       "[76 rows x 6 columns]"
      ]
     },
     "execution_count": 29,
     "metadata": {},
     "output_type": "execute_result"
    }
   ],
   "source": [
    "small_add_m"
   ]
  },
  {
   "cell_type": "code",
   "execution_count": 37,
   "metadata": {},
   "outputs": [],
   "source": [
    "# Merge the reults. \n",
    "# Drop duplicate is unnecessary as there are no small usage \n",
    "# in both categories in the dataframe that we are subsetting from \n",
    "\n",
    "small_adds = pd.concat([small_add_m, small_add_w])"
   ]
  },
  {
   "cell_type": "code",
   "execution_count": 38,
   "metadata": {},
   "outputs": [
    {
     "data": {
      "text/html": [
       "<div>\n",
       "<style scoped>\n",
       "    .dataframe tbody tr th:only-of-type {\n",
       "        vertical-align: middle;\n",
       "    }\n",
       "\n",
       "    .dataframe tbody tr th {\n",
       "        vertical-align: top;\n",
       "    }\n",
       "\n",
       "    .dataframe thead th {\n",
       "        text-align: right;\n",
       "    }\n",
       "</style>\n",
       "<table border=\"1\" class=\"dataframe\">\n",
       "  <thead>\n",
       "    <tr style=\"text-align: right;\">\n",
       "      <th></th>\n",
       "      <th>verb</th>\n",
       "      <th>count_m</th>\n",
       "      <th>count_w</th>\n",
       "      <th>total</th>\n",
       "      <th>usage_m</th>\n",
       "      <th>usage_w</th>\n",
       "    </tr>\n",
       "  </thead>\n",
       "  <tbody>\n",
       "    <tr>\n",
       "      <th>108</th>\n",
       "      <td>marry</td>\n",
       "      <td>17</td>\n",
       "      <td>36</td>\n",
       "      <td>53</td>\n",
       "      <td>0.321</td>\n",
       "      <td>0.679</td>\n",
       "    </tr>\n",
       "    <tr>\n",
       "      <th>166</th>\n",
       "      <td>report</td>\n",
       "      <td>10</td>\n",
       "      <td>19</td>\n",
       "      <td>29</td>\n",
       "      <td>0.345</td>\n",
       "      <td>0.655</td>\n",
       "    </tr>\n",
       "    <tr>\n",
       "      <th>183</th>\n",
       "      <td>observe</td>\n",
       "      <td>17</td>\n",
       "      <td>17</td>\n",
       "      <td>34</td>\n",
       "      <td>0.500</td>\n",
       "      <td>0.500</td>\n",
       "    </tr>\n",
       "    <tr>\n",
       "      <th>194</th>\n",
       "      <td>blame</td>\n",
       "      <td>8</td>\n",
       "      <td>16</td>\n",
       "      <td>24</td>\n",
       "      <td>0.333</td>\n",
       "      <td>0.667</td>\n",
       "    </tr>\n",
       "    <tr>\n",
       "      <th>205</th>\n",
       "      <td>refuse</td>\n",
       "      <td>16</td>\n",
       "      <td>15</td>\n",
       "      <td>31</td>\n",
       "      <td>0.516</td>\n",
       "      <td>0.484</td>\n",
       "    </tr>\n",
       "    <tr>\n",
       "      <th>...</th>\n",
       "      <td>...</td>\n",
       "      <td>...</td>\n",
       "      <td>...</td>\n",
       "      <td>...</td>\n",
       "      <td>...</td>\n",
       "      <td>...</td>\n",
       "    </tr>\n",
       "    <tr>\n",
       "      <th>370</th>\n",
       "      <td>accelerate</td>\n",
       "      <td>19</td>\n",
       "      <td>1</td>\n",
       "      <td>20</td>\n",
       "      <td>0.950</td>\n",
       "      <td>0.050</td>\n",
       "    </tr>\n",
       "    <tr>\n",
       "      <th>372</th>\n",
       "      <td>expose</td>\n",
       "      <td>19</td>\n",
       "      <td>5</td>\n",
       "      <td>24</td>\n",
       "      <td>0.792</td>\n",
       "      <td>0.208</td>\n",
       "    </tr>\n",
       "    <tr>\n",
       "      <th>373</th>\n",
       "      <td>’s</td>\n",
       "      <td>19</td>\n",
       "      <td>0</td>\n",
       "      <td>19</td>\n",
       "      <td>1.000</td>\n",
       "      <td>0.000</td>\n",
       "    </tr>\n",
       "    <tr>\n",
       "      <th>374</th>\n",
       "      <td>violate</td>\n",
       "      <td>19</td>\n",
       "      <td>3</td>\n",
       "      <td>22</td>\n",
       "      <td>0.864</td>\n",
       "      <td>0.136</td>\n",
       "    </tr>\n",
       "    <tr>\n",
       "      <th>375</th>\n",
       "      <td>lack</td>\n",
       "      <td>19</td>\n",
       "      <td>1</td>\n",
       "      <td>20</td>\n",
       "      <td>0.950</td>\n",
       "      <td>0.050</td>\n",
       "    </tr>\n",
       "  </tbody>\n",
       "</table>\n",
       "<p>145 rows × 6 columns</p>\n",
       "</div>"
      ],
      "text/plain": [
       "           verb  count_m  count_w  total  usage_m  usage_w\n",
       "108       marry       17       36     53    0.321    0.679\n",
       "166      report       10       19     29    0.345    0.655\n",
       "183     observe       17       17     34    0.500    0.500\n",
       "194       blame        8       16     24    0.333    0.667\n",
       "205      refuse       16       15     31    0.516    0.484\n",
       "..          ...      ...      ...    ...      ...      ...\n",
       "370  accelerate       19        1     20    0.950    0.050\n",
       "372      expose       19        5     24    0.792    0.208\n",
       "373          ’s       19        0     19    1.000    0.000\n",
       "374     violate       19        3     22    0.864    0.136\n",
       "375        lack       19        1     20    0.950    0.050\n",
       "\n",
       "[145 rows x 6 columns]"
      ]
     },
     "execution_count": 38,
     "metadata": {},
     "output_type": "execute_result"
    }
   ],
   "source": [
    "small_adds"
   ]
  },
  {
   "cell_type": "code",
   "execution_count": 39,
   "metadata": {},
   "outputs": [
    {
     "data": {
      "text/plain": [
       "<AxesSubplot:xlabel='count_m', ylabel='count_w'>"
      ]
     },
     "execution_count": 39,
     "metadata": {},
     "output_type": "execute_result"
    },
    {
     "data": {
      "image/png": "[encoded data removed]",
      "text/plain": [
       "<Figure size 432x288 with 1 Axes>"
      ]
     },
     "metadata": {
      "needs_background": "light"
     },
     "output_type": "display_data"
    }
   ],
   "source": [
    "sns.scatterplot(data = small_adds, x = \"count_m\", y = \"count_w\")"
   ]
  },
  {
   "cell_type": "code",
   "execution_count": 22,
   "metadata": {},
   "outputs": [],
   "source": [
    "# 452 rows feels surprising.... Checking with sets\n",
    "\n",
    "male_verbs = set(m_add_w[\"verb\"])\n",
    "female_verbs = set(w_add_m[\"verb\"])"
   ]
  },
  {
   "cell_type": "code",
   "execution_count": 23,
   "metadata": {},
   "outputs": [
    {
     "data": {
      "text/plain": [
       "452"
      ]
     },
     "execution_count": 23,
     "metadata": {},
     "output_type": "execute_result"
    }
   ],
   "source": [
    "len(male_verbs.union(female_verbs))"
   ]
  },
  {
   "cell_type": "code",
   "execution_count": 26,
   "metadata": {},
   "outputs": [
    {
     "data": {
      "text/plain": [
       "69"
      ]
     },
     "execution_count": 26,
     "metadata": {},
     "output_type": "execute_result"
    }
   ],
   "source": [
    "len(male_verbs.difference(female_verbs))"
   ]
  },
  {
   "cell_type": "code",
   "execution_count": 34,
   "metadata": {},
   "outputs": [],
   "source": [
    "m_only = list(male_verbs.difference(female_verbs))\n"
   ]
  },
  {
   "cell_type": "code",
   "execution_count": 35,
   "metadata": {},
   "outputs": [
    {
     "data": {
      "text/plain": [
       "['operate',\n",
       " 'land',\n",
       " 'organize',\n",
       " 'link',\n",
       " 'eliminate',\n",
       " 'store',\n",
       " 'sense',\n",
       " 'plant',\n",
       " 'demonstrate',\n",
       " 'breathe',\n",
       " 'lack',\n",
       " 'hire',\n",
       " 'weigh',\n",
       " 'motivate',\n",
       " 'recommend',\n",
       " 'invest',\n",
       " 'agree',\n",
       " 'flip',\n",
       " 'fund',\n",
       " 'cook',\n",
       " 'fold',\n",
       " 'charge',\n",
       " 'shoot',\n",
       " 'violate',\n",
       " 'wake',\n",
       " 'construct',\n",
       " 'extract',\n",
       " 'smell',\n",
       " 'reverse',\n",
       " 'drag',\n",
       " 'focus',\n",
       " 'commit',\n",
       " '’s',\n",
       " 'free',\n",
       " 'favor',\n",
       " 'expose',\n",
       " 'embrace',\n",
       " 'suck',\n",
       " 'announce',\n",
       " 'occupy',\n",
       " 'steal',\n",
       " 'extend',\n",
       " 'fit',\n",
       " 'split',\n",
       " 'propose',\n",
       " 'hop',\n",
       " 'practice',\n",
       " 'gather',\n",
       " 'knock',\n",
       " 'point',\n",
       " 'power',\n",
       " 'photograph',\n",
       " 'detect',\n",
       " 'lift',\n",
       " 'maintain',\n",
       " 'switch',\n",
       " 'wire',\n",
       " 'download',\n",
       " 'perceive',\n",
       " 'scan',\n",
       " 'analyze',\n",
       " 'tie',\n",
       " 'type',\n",
       " 'click',\n",
       " 'convert',\n",
       " 'accelerate',\n",
       " 'dream',\n",
       " 'submit',\n",
       " 'lower']"
      ]
     },
     "execution_count": 35,
     "metadata": {},
     "output_type": "execute_result"
    }
   ],
   "source": [
    "m_only"
   ]
  },
  {
   "cell_type": "code",
   "execution_count": 36,
   "metadata": {},
   "outputs": [
    {
     "ename": "ValueError",
     "evalue": "('Lengths must match to compare', (376,), (69,))",
     "output_type": "error",
     "traceback": [
      "\u001b[0;31m---------------------------------------------------------------------------\u001b[0m",
      "\u001b[0;31mValueError\u001b[0m                                Traceback (most recent call last)",
      "Input \u001b[0;32mIn [36]\u001b[0m, in \u001b[0;36m<module>\u001b[0;34m\u001b[0m\n\u001b[0;32m----> 1\u001b[0m m_add_w\u001b[38;5;241m.\u001b[39mloc[\u001b[43mm_add_w\u001b[49m\u001b[43m[\u001b[49m\u001b[38;5;124;43m\"\u001b[39;49m\u001b[38;5;124;43mverb\u001b[39;49m\u001b[38;5;124;43m\"\u001b[39;49m\u001b[43m]\u001b[49m\u001b[38;5;241;43m==\u001b[39;49m\u001b[43m \u001b[49m\u001b[43mm_only\u001b[49m]\n",
      "File \u001b[0;32m/opt/anaconda3/envs/tedtalks/lib/python3.9/site-packages/pandas/core/ops/common.py:70\u001b[0m, in \u001b[0;36m_unpack_zerodim_and_defer.<locals>.new_method\u001b[0;34m(self, other)\u001b[0m\n\u001b[1;32m     66\u001b[0m             \u001b[38;5;28;01mreturn\u001b[39;00m \u001b[38;5;28mNotImplemented\u001b[39m\n\u001b[1;32m     68\u001b[0m other \u001b[38;5;241m=\u001b[39m item_from_zerodim(other)\n\u001b[0;32m---> 70\u001b[0m \u001b[38;5;28;01mreturn\u001b[39;00m \u001b[43mmethod\u001b[49m\u001b[43m(\u001b[49m\u001b[38;5;28;43mself\u001b[39;49m\u001b[43m,\u001b[49m\u001b[43m \u001b[49m\u001b[43mother\u001b[49m\u001b[43m)\u001b[49m\n",
      "File \u001b[0;32m/opt/anaconda3/envs/tedtalks/lib/python3.9/site-packages/pandas/core/arraylike.py:40\u001b[0m, in \u001b[0;36mOpsMixin.__eq__\u001b[0;34m(self, other)\u001b[0m\n\u001b[1;32m     38\u001b[0m \u001b[38;5;129m@unpack_zerodim_and_defer\u001b[39m(\u001b[38;5;124m\"\u001b[39m\u001b[38;5;124m__eq__\u001b[39m\u001b[38;5;124m\"\u001b[39m)\n\u001b[1;32m     39\u001b[0m \u001b[38;5;28;01mdef\u001b[39;00m \u001b[38;5;21m__eq__\u001b[39m(\u001b[38;5;28mself\u001b[39m, other):\n\u001b[0;32m---> 40\u001b[0m     \u001b[38;5;28;01mreturn\u001b[39;00m \u001b[38;5;28;43mself\u001b[39;49m\u001b[38;5;241;43m.\u001b[39;49m\u001b[43m_cmp_method\u001b[49m\u001b[43m(\u001b[49m\u001b[43mother\u001b[49m\u001b[43m,\u001b[49m\u001b[43m \u001b[49m\u001b[43moperator\u001b[49m\u001b[38;5;241;43m.\u001b[39;49m\u001b[43meq\u001b[49m\u001b[43m)\u001b[49m\n",
      "File \u001b[0;32m/opt/anaconda3/envs/tedtalks/lib/python3.9/site-packages/pandas/core/series.py:5620\u001b[0m, in \u001b[0;36mSeries._cmp_method\u001b[0;34m(self, other, op)\u001b[0m\n\u001b[1;32m   5617\u001b[0m rvalues \u001b[38;5;241m=\u001b[39m extract_array(other, extract_numpy\u001b[38;5;241m=\u001b[39m\u001b[38;5;28;01mTrue\u001b[39;00m, extract_range\u001b[38;5;241m=\u001b[39m\u001b[38;5;28;01mTrue\u001b[39;00m)\n\u001b[1;32m   5619\u001b[0m \u001b[38;5;28;01mwith\u001b[39;00m np\u001b[38;5;241m.\u001b[39merrstate(\u001b[38;5;28mall\u001b[39m\u001b[38;5;241m=\u001b[39m\u001b[38;5;124m\"\u001b[39m\u001b[38;5;124mignore\u001b[39m\u001b[38;5;124m\"\u001b[39m):\n\u001b[0;32m-> 5620\u001b[0m     res_values \u001b[38;5;241m=\u001b[39m \u001b[43mops\u001b[49m\u001b[38;5;241;43m.\u001b[39;49m\u001b[43mcomparison_op\u001b[49m\u001b[43m(\u001b[49m\u001b[43mlvalues\u001b[49m\u001b[43m,\u001b[49m\u001b[43m \u001b[49m\u001b[43mrvalues\u001b[49m\u001b[43m,\u001b[49m\u001b[43m \u001b[49m\u001b[43mop\u001b[49m\u001b[43m)\u001b[49m\n\u001b[1;32m   5622\u001b[0m \u001b[38;5;28;01mreturn\u001b[39;00m \u001b[38;5;28mself\u001b[39m\u001b[38;5;241m.\u001b[39m_construct_result(res_values, name\u001b[38;5;241m=\u001b[39mres_name)\n",
      "File \u001b[0;32m/opt/anaconda3/envs/tedtalks/lib/python3.9/site-packages/pandas/core/ops/array_ops.py:260\u001b[0m, in \u001b[0;36mcomparison_op\u001b[0;34m(left, right, op)\u001b[0m\n\u001b[1;32m    255\u001b[0m \u001b[38;5;28;01mif\u001b[39;00m \u001b[38;5;28misinstance\u001b[39m(rvalues, (np\u001b[38;5;241m.\u001b[39mndarray, ABCExtensionArray)):\n\u001b[1;32m    256\u001b[0m     \u001b[38;5;66;03m# TODO: make this treatment consistent across ops and classes.\u001b[39;00m\n\u001b[1;32m    257\u001b[0m     \u001b[38;5;66;03m#  We are not catching all listlikes here (e.g. frozenset, tuple)\u001b[39;00m\n\u001b[1;32m    258\u001b[0m     \u001b[38;5;66;03m#  The ambiguous case is object-dtype.  See GH#27803\u001b[39;00m\n\u001b[1;32m    259\u001b[0m     \u001b[38;5;28;01mif\u001b[39;00m \u001b[38;5;28mlen\u001b[39m(lvalues) \u001b[38;5;241m!=\u001b[39m \u001b[38;5;28mlen\u001b[39m(rvalues):\n\u001b[0;32m--> 260\u001b[0m         \u001b[38;5;28;01mraise\u001b[39;00m \u001b[38;5;167;01mValueError\u001b[39;00m(\n\u001b[1;32m    261\u001b[0m             \u001b[38;5;124m\"\u001b[39m\u001b[38;5;124mLengths must match to compare\u001b[39m\u001b[38;5;124m\"\u001b[39m, lvalues\u001b[38;5;241m.\u001b[39mshape, rvalues\u001b[38;5;241m.\u001b[39mshape\n\u001b[1;32m    262\u001b[0m         )\n\u001b[1;32m    264\u001b[0m \u001b[38;5;28;01mif\u001b[39;00m should_extension_dispatch(lvalues, rvalues) \u001b[38;5;129;01mor\u001b[39;00m (\n\u001b[1;32m    265\u001b[0m     (\u001b[38;5;28misinstance\u001b[39m(rvalues, (Timedelta, BaseOffset, Timestamp)) \u001b[38;5;129;01mor\u001b[39;00m right \u001b[38;5;129;01mis\u001b[39;00m NaT)\n\u001b[1;32m    266\u001b[0m     \u001b[38;5;129;01mand\u001b[39;00m \u001b[38;5;129;01mnot\u001b[39;00m is_object_dtype(lvalues\u001b[38;5;241m.\u001b[39mdtype)\n\u001b[1;32m    267\u001b[0m ):\n\u001b[1;32m    268\u001b[0m     \u001b[38;5;66;03m# Call the method on lvalues\u001b[39;00m\n\u001b[1;32m    269\u001b[0m     res_values \u001b[38;5;241m=\u001b[39m op(lvalues, rvalues)\n",
      "\u001b[0;31mValueError\u001b[0m: ('Lengths must match to compare', (376,), (69,))"
     ]
    }
   ],
   "source": [
    "m_add_w.loc[m_add_w[\"verb\"]== m_only]"
   ]
  },
  {
   "cell_type": "code",
   "execution_count": null,
   "metadata": {},
   "outputs": [],
   "source": []
  },
  {
   "cell_type": "code",
   "execution_count": null,
   "metadata": {},
   "outputs": [],
   "source": []
  },
  {
   "cell_type": "code",
   "execution_count": 42,
   "metadata": {},
   "outputs": [],
   "source": [
    "df_cuts_i = m_cut_point.merge(cut_point, left_on = \"verb\", right_on = \"verb\", suffixes=(\"_m\", \"_w\"))"
   ]
  },
  {
   "cell_type": "code",
   "execution_count": 43,
   "metadata": {},
   "outputs": [
    {
     "data": {
      "text/html": [
       "<div>\n",
       "<style scoped>\n",
       "    .dataframe tbody tr th:only-of-type {\n",
       "        vertical-align: middle;\n",
       "    }\n",
       "\n",
       "    .dataframe tbody tr th {\n",
       "        vertical-align: top;\n",
       "    }\n",
       "\n",
       "    .dataframe thead th {\n",
       "        text-align: right;\n",
       "    }\n",
       "</style>\n",
       "<table border=\"1\" class=\"dataframe\">\n",
       "  <thead>\n",
       "    <tr style=\"text-align: right;\">\n",
       "      <th></th>\n",
       "      <th>verb</th>\n",
       "      <th>count_m</th>\n",
       "      <th>count_w</th>\n",
       "    </tr>\n",
       "  </thead>\n",
       "  <tbody>\n",
       "    <tr>\n",
       "      <th>0</th>\n",
       "      <td>have</td>\n",
       "      <td>8897</td>\n",
       "      <td>2890</td>\n",
       "    </tr>\n",
       "    <tr>\n",
       "      <th>1</th>\n",
       "      <td>go</td>\n",
       "      <td>3969</td>\n",
       "      <td>1066</td>\n",
       "    </tr>\n",
       "    <tr>\n",
       "      <th>2</th>\n",
       "      <td>do</td>\n",
       "      <td>3815</td>\n",
       "      <td>1085</td>\n",
       "    </tr>\n",
       "    <tr>\n",
       "      <th>3</th>\n",
       "      <td>get</td>\n",
       "      <td>3065</td>\n",
       "      <td>795</td>\n",
       "    </tr>\n",
       "    <tr>\n",
       "      <th>4</th>\n",
       "      <td>want</td>\n",
       "      <td>2830</td>\n",
       "      <td>895</td>\n",
       "    </tr>\n",
       "    <tr>\n",
       "      <th>...</th>\n",
       "      <td>...</td>\n",
       "      <td>...</td>\n",
       "      <td>...</td>\n",
       "    </tr>\n",
       "    <tr>\n",
       "      <th>302</th>\n",
       "      <td>celebrate</td>\n",
       "      <td>19</td>\n",
       "      <td>10</td>\n",
       "    </tr>\n",
       "    <tr>\n",
       "      <th>303</th>\n",
       "      <td>pursue</td>\n",
       "      <td>19</td>\n",
       "      <td>8</td>\n",
       "    </tr>\n",
       "    <tr>\n",
       "      <th>304</th>\n",
       "      <td>print</td>\n",
       "      <td>19</td>\n",
       "      <td>7</td>\n",
       "    </tr>\n",
       "    <tr>\n",
       "      <th>305</th>\n",
       "      <td>struggle</td>\n",
       "      <td>19</td>\n",
       "      <td>7</td>\n",
       "    </tr>\n",
       "    <tr>\n",
       "      <th>306</th>\n",
       "      <td>dig</td>\n",
       "      <td>19</td>\n",
       "      <td>10</td>\n",
       "    </tr>\n",
       "  </tbody>\n",
       "</table>\n",
       "<p>307 rows × 3 columns</p>\n",
       "</div>"
      ],
      "text/plain": [
       "          verb  count_m  count_w\n",
       "0         have     8897     2890\n",
       "1           go     3969     1066\n",
       "2           do     3815     1085\n",
       "3          get     3065      795\n",
       "4         want     2830      895\n",
       "..         ...      ...      ...\n",
       "302  celebrate       19       10\n",
       "303     pursue       19        8\n",
       "304      print       19        7\n",
       "305   struggle       19        7\n",
       "306        dig       19       10\n",
       "\n",
       "[307 rows x 3 columns]"
      ]
     },
     "execution_count": 43,
     "metadata": {},
     "output_type": "execute_result"
    }
   ],
   "source": [
    "df_cuts_i"
   ]
  },
  {
   "cell_type": "code",
   "execution_count": 44,
   "metadata": {},
   "outputs": [],
   "source": [
    "df_cuts_o = m_cut_point.merge(cut_point, how = \"outer\",left_on = \"verb\", right_on = \"verb\", suffixes=(\"_m\", \"_w\"))"
   ]
  },
  {
   "cell_type": "code",
   "execution_count": 50,
   "metadata": {},
   "outputs": [],
   "source": [
    "df_cuts_o = df_cuts_o.fillna(0)"
   ]
  },
  {
   "cell_type": "code",
   "execution_count": 52,
   "metadata": {},
   "outputs": [
    {
     "data": {
      "text/html": [
       "<div>\n",
       "<style scoped>\n",
       "    .dataframe tbody tr th:only-of-type {\n",
       "        vertical-align: middle;\n",
       "    }\n",
       "\n",
       "    .dataframe tbody tr th {\n",
       "        vertical-align: top;\n",
       "    }\n",
       "\n",
       "    .dataframe thead th {\n",
       "        text-align: right;\n",
       "    }\n",
       "</style>\n",
       "<table border=\"1\" class=\"dataframe\">\n",
       "  <thead>\n",
       "    <tr style=\"text-align: right;\">\n",
       "      <th></th>\n",
       "      <th>verb</th>\n",
       "      <th>count_m</th>\n",
       "      <th>count_w</th>\n",
       "    </tr>\n",
       "  </thead>\n",
       "  <tbody>\n",
       "    <tr>\n",
       "      <th>376</th>\n",
       "      <td>marry</td>\n",
       "      <td>0.0</td>\n",
       "      <td>36.0</td>\n",
       "    </tr>\n",
       "    <tr>\n",
       "      <th>377</th>\n",
       "      <td>report</td>\n",
       "      <td>0.0</td>\n",
       "      <td>19.0</td>\n",
       "    </tr>\n",
       "    <tr>\n",
       "      <th>378</th>\n",
       "      <td>observe</td>\n",
       "      <td>0.0</td>\n",
       "      <td>17.0</td>\n",
       "    </tr>\n",
       "    <tr>\n",
       "      <th>379</th>\n",
       "      <td>blame</td>\n",
       "      <td>0.0</td>\n",
       "      <td>16.0</td>\n",
       "    </tr>\n",
       "    <tr>\n",
       "      <th>380</th>\n",
       "      <td>refuse</td>\n",
       "      <td>0.0</td>\n",
       "      <td>15.0</td>\n",
       "    </tr>\n",
       "    <tr>\n",
       "      <th>...</th>\n",
       "      <td>...</td>\n",
       "      <td>...</td>\n",
       "      <td>...</td>\n",
       "    </tr>\n",
       "    <tr>\n",
       "      <th>447</th>\n",
       "      <td>bind</td>\n",
       "      <td>0.0</td>\n",
       "      <td>7.0</td>\n",
       "    </tr>\n",
       "    <tr>\n",
       "      <th>448</th>\n",
       "      <td>mark</td>\n",
       "      <td>0.0</td>\n",
       "      <td>7.0</td>\n",
       "    </tr>\n",
       "    <tr>\n",
       "      <th>449</th>\n",
       "      <td>owe</td>\n",
       "      <td>0.0</td>\n",
       "      <td>7.0</td>\n",
       "    </tr>\n",
       "    <tr>\n",
       "      <th>450</th>\n",
       "      <td>matter</td>\n",
       "      <td>0.0</td>\n",
       "      <td>7.0</td>\n",
       "    </tr>\n",
       "    <tr>\n",
       "      <th>451</th>\n",
       "      <td>scar</td>\n",
       "      <td>0.0</td>\n",
       "      <td>7.0</td>\n",
       "    </tr>\n",
       "  </tbody>\n",
       "</table>\n",
       "<p>76 rows × 3 columns</p>\n",
       "</div>"
      ],
      "text/plain": [
       "        verb  count_m  count_w\n",
       "376    marry      0.0     36.0\n",
       "377   report      0.0     19.0\n",
       "378  observe      0.0     17.0\n",
       "379    blame      0.0     16.0\n",
       "380   refuse      0.0     15.0\n",
       "..       ...      ...      ...\n",
       "447     bind      0.0      7.0\n",
       "448     mark      0.0      7.0\n",
       "449      owe      0.0      7.0\n",
       "450   matter      0.0      7.0\n",
       "451     scar      0.0      7.0\n",
       "\n",
       "[76 rows x 3 columns]"
      ]
     },
     "execution_count": 52,
     "metadata": {},
     "output_type": "execute_result"
    }
   ],
   "source": [
    "# want rows where count_m <= m_cut_val \n",
    "\n",
    "df_cuts_o[df_cuts_o[\"count_m\"] <= m_cut_val]"
   ]
  },
  {
   "cell_type": "code",
   "execution_count": 47,
   "metadata": {},
   "outputs": [
    {
     "data": {
      "text/plain": [
       "<AxesSubplot:xlabel='count_m', ylabel='count_w'>"
      ]
     },
     "execution_count": 47,
     "metadata": {},
     "output_type": "execute_result"
    },
    {
     "data": {
      "image/png": "[encoded data removed]",
      "text/plain": [
       "<Figure size 432x288 with 1 Axes>"
      ]
     },
     "metadata": {
      "needs_background": "light"
     },
     "output_type": "display_data"
    }
   ],
   "source": [
    "sns.scatterplot(data = df_cuts_o, x = \"count_m\", y = \"count_w\")"
   ]
  },
  {
   "cell_type": "code",
   "execution_count": 13,
   "metadata": {},
   "outputs": [],
   "source": [
    "short_m = verbs_m[:20]"
   ]
  },
  {
   "cell_type": "code",
   "execution_count": 14,
   "metadata": {},
   "outputs": [],
   "source": [
    "short_w = verbs_w[:20]\n"
   ]
  },
  {
   "cell_type": "code",
   "execution_count": 15,
   "metadata": {},
   "outputs": [
    {
     "data": {
      "text/html": [
       "<div>\n",
       "<style scoped>\n",
       "    .dataframe tbody tr th:only-of-type {\n",
       "        vertical-align: middle;\n",
       "    }\n",
       "\n",
       "    .dataframe tbody tr th {\n",
       "        vertical-align: top;\n",
       "    }\n",
       "\n",
       "    .dataframe thead th {\n",
       "        text-align: right;\n",
       "    }\n",
       "</style>\n",
       "<table border=\"1\" class=\"dataframe\">\n",
       "  <thead>\n",
       "    <tr style=\"text-align: right;\">\n",
       "      <th></th>\n",
       "      <th>verb</th>\n",
       "      <th>count</th>\n",
       "    </tr>\n",
       "  </thead>\n",
       "  <tbody>\n",
       "    <tr>\n",
       "      <th>736</th>\n",
       "      <td>have</td>\n",
       "      <td>2890</td>\n",
       "    </tr>\n",
       "    <tr>\n",
       "      <th>475</th>\n",
       "      <td>do</td>\n",
       "      <td>1085</td>\n",
       "    </tr>\n",
       "    <tr>\n",
       "      <th>695</th>\n",
       "      <td>go</td>\n",
       "      <td>1066</td>\n",
       "    </tr>\n",
       "    <tr>\n",
       "      <th>1644</th>\n",
       "      <td>want</td>\n",
       "      <td>895</td>\n",
       "    </tr>\n",
       "    <tr>\n",
       "      <th>691</th>\n",
       "      <td>get</td>\n",
       "      <td>795</td>\n",
       "    </tr>\n",
       "    <tr>\n",
       "      <th>1353</th>\n",
       "      <td>see</td>\n",
       "      <td>630</td>\n",
       "    </tr>\n",
       "    <tr>\n",
       "      <th>1533</th>\n",
       "      <td>take</td>\n",
       "      <td>603</td>\n",
       "    </tr>\n",
       "    <tr>\n",
       "      <th>914</th>\n",
       "      <td>make</td>\n",
       "      <td>602</td>\n",
       "    </tr>\n",
       "    <tr>\n",
       "      <th>983</th>\n",
       "      <td>need</td>\n",
       "      <td>565</td>\n",
       "    </tr>\n",
       "    <tr>\n",
       "      <th>1626</th>\n",
       "      <td>use</td>\n",
       "      <td>481</td>\n",
       "    </tr>\n",
       "    <tr>\n",
       "      <th>1544</th>\n",
       "      <td>tell</td>\n",
       "      <td>478</td>\n",
       "    </tr>\n",
       "    <tr>\n",
       "      <th>1468</th>\n",
       "      <td>start</td>\n",
       "      <td>438</td>\n",
       "    </tr>\n",
       "    <tr>\n",
       "      <th>863</th>\n",
       "      <td>know</td>\n",
       "      <td>412</td>\n",
       "    </tr>\n",
       "    <tr>\n",
       "      <th>630</th>\n",
       "      <td>find</td>\n",
       "      <td>378</td>\n",
       "    </tr>\n",
       "    <tr>\n",
       "      <th>1334</th>\n",
       "      <td>say</td>\n",
       "      <td>377</td>\n",
       "    </tr>\n",
       "    <tr>\n",
       "      <th>693</th>\n",
       "      <td>give</td>\n",
       "      <td>308</td>\n",
       "    </tr>\n",
       "    <tr>\n",
       "      <th>1595</th>\n",
       "      <td>try</td>\n",
       "      <td>292</td>\n",
       "    </tr>\n",
       "    <tr>\n",
       "      <th>891</th>\n",
       "      <td>like</td>\n",
       "      <td>259</td>\n",
       "    </tr>\n",
       "    <tr>\n",
       "      <th>70</th>\n",
       "      <td>ask</td>\n",
       "      <td>252</td>\n",
       "    </tr>\n",
       "    <tr>\n",
       "      <th>1169</th>\n",
       "      <td>put</td>\n",
       "      <td>248</td>\n",
       "    </tr>\n",
       "  </tbody>\n",
       "</table>\n",
       "</div>"
      ],
      "text/plain": [
       "       verb  count\n",
       "736    have   2890\n",
       "475      do   1085\n",
       "695      go   1066\n",
       "1644   want    895\n",
       "691     get    795\n",
       "1353    see    630\n",
       "1533   take    603\n",
       "914    make    602\n",
       "983    need    565\n",
       "1626    use    481\n",
       "1544   tell    478\n",
       "1468  start    438\n",
       "863    know    412\n",
       "630    find    378\n",
       "1334    say    377\n",
       "693    give    308\n",
       "1595    try    292\n",
       "891    like    259\n",
       "70      ask    252\n",
       "1169    put    248"
      ]
     },
     "execution_count": 15,
     "metadata": {},
     "output_type": "execute_result"
    }
   ],
   "source": [
    "short_w"
   ]
  },
  {
   "cell_type": "code",
   "execution_count": 16,
   "metadata": {},
   "outputs": [],
   "source": [
    "df_comp = short_m.merge(short_w, left_on = \"verb\", right_on = \"verb\", suffixes=(\"_m\", \"_w\"))"
   ]
  },
  {
   "cell_type": "code",
   "execution_count": 17,
   "metadata": {},
   "outputs": [
    {
     "data": {
      "text/html": [
       "<div>\n",
       "<style scoped>\n",
       "    .dataframe tbody tr th:only-of-type {\n",
       "        vertical-align: middle;\n",
       "    }\n",
       "\n",
       "    .dataframe tbody tr th {\n",
       "        vertical-align: top;\n",
       "    }\n",
       "\n",
       "    .dataframe thead th {\n",
       "        text-align: right;\n",
       "    }\n",
       "</style>\n",
       "<table border=\"1\" class=\"dataframe\">\n",
       "  <thead>\n",
       "    <tr style=\"text-align: right;\">\n",
       "      <th></th>\n",
       "      <th>verb</th>\n",
       "      <th>count_m</th>\n",
       "      <th>count_w</th>\n",
       "    </tr>\n",
       "  </thead>\n",
       "  <tbody>\n",
       "    <tr>\n",
       "      <th>0</th>\n",
       "      <td>have</td>\n",
       "      <td>8897</td>\n",
       "      <td>2890</td>\n",
       "    </tr>\n",
       "    <tr>\n",
       "      <th>1</th>\n",
       "      <td>go</td>\n",
       "      <td>3969</td>\n",
       "      <td>1066</td>\n",
       "    </tr>\n",
       "    <tr>\n",
       "      <th>2</th>\n",
       "      <td>do</td>\n",
       "      <td>3815</td>\n",
       "      <td>1085</td>\n",
       "    </tr>\n",
       "    <tr>\n",
       "      <th>3</th>\n",
       "      <td>get</td>\n",
       "      <td>3065</td>\n",
       "      <td>795</td>\n",
       "    </tr>\n",
       "    <tr>\n",
       "      <th>4</th>\n",
       "      <td>want</td>\n",
       "      <td>2830</td>\n",
       "      <td>895</td>\n",
       "    </tr>\n",
       "    <tr>\n",
       "      <th>5</th>\n",
       "      <td>take</td>\n",
       "      <td>2124</td>\n",
       "      <td>603</td>\n",
       "    </tr>\n",
       "    <tr>\n",
       "      <th>6</th>\n",
       "      <td>see</td>\n",
       "      <td>2093</td>\n",
       "      <td>630</td>\n",
       "    </tr>\n",
       "    <tr>\n",
       "      <th>7</th>\n",
       "      <td>make</td>\n",
       "      <td>1796</td>\n",
       "      <td>602</td>\n",
       "    </tr>\n",
       "    <tr>\n",
       "      <th>8</th>\n",
       "      <td>need</td>\n",
       "      <td>1579</td>\n",
       "      <td>565</td>\n",
       "    </tr>\n",
       "    <tr>\n",
       "      <th>9</th>\n",
       "      <td>use</td>\n",
       "      <td>1481</td>\n",
       "      <td>481</td>\n",
       "    </tr>\n",
       "    <tr>\n",
       "      <th>10</th>\n",
       "      <td>start</td>\n",
       "      <td>1393</td>\n",
       "      <td>438</td>\n",
       "    </tr>\n",
       "    <tr>\n",
       "      <th>11</th>\n",
       "      <td>tell</td>\n",
       "      <td>1117</td>\n",
       "      <td>478</td>\n",
       "    </tr>\n",
       "    <tr>\n",
       "      <th>12</th>\n",
       "      <td>give</td>\n",
       "      <td>1081</td>\n",
       "      <td>308</td>\n",
       "    </tr>\n",
       "    <tr>\n",
       "      <th>13</th>\n",
       "      <td>know</td>\n",
       "      <td>1077</td>\n",
       "      <td>412</td>\n",
       "    </tr>\n",
       "    <tr>\n",
       "      <th>14</th>\n",
       "      <td>try</td>\n",
       "      <td>1042</td>\n",
       "      <td>292</td>\n",
       "    </tr>\n",
       "    <tr>\n",
       "      <th>15</th>\n",
       "      <td>put</td>\n",
       "      <td>1032</td>\n",
       "      <td>248</td>\n",
       "    </tr>\n",
       "    <tr>\n",
       "      <th>16</th>\n",
       "      <td>say</td>\n",
       "      <td>1012</td>\n",
       "      <td>377</td>\n",
       "    </tr>\n",
       "    <tr>\n",
       "      <th>17</th>\n",
       "      <td>find</td>\n",
       "      <td>929</td>\n",
       "      <td>378</td>\n",
       "    </tr>\n",
       "    <tr>\n",
       "      <th>18</th>\n",
       "      <td>like</td>\n",
       "      <td>792</td>\n",
       "      <td>259</td>\n",
       "    </tr>\n",
       "  </tbody>\n",
       "</table>\n",
       "</div>"
      ],
      "text/plain": [
       "     verb  count_m  count_w\n",
       "0    have     8897     2890\n",
       "1      go     3969     1066\n",
       "2      do     3815     1085\n",
       "3     get     3065      795\n",
       "4    want     2830      895\n",
       "5    take     2124      603\n",
       "6     see     2093      630\n",
       "7    make     1796      602\n",
       "8    need     1579      565\n",
       "9     use     1481      481\n",
       "10  start     1393      438\n",
       "11   tell     1117      478\n",
       "12   give     1081      308\n",
       "13   know     1077      412\n",
       "14    try     1042      292\n",
       "15    put     1032      248\n",
       "16    say     1012      377\n",
       "17   find      929      378\n",
       "18   like      792      259"
      ]
     },
     "execution_count": 17,
     "metadata": {},
     "output_type": "execute_result"
    }
   ],
   "source": [
    "df_comp\n"
   ]
  },
  {
   "cell_type": "code",
   "execution_count": 18,
   "metadata": {},
   "outputs": [
    {
     "data": {
      "text/plain": [
       "<AxesSubplot:xlabel='count_m', ylabel='count_w'>"
      ]
     },
     "execution_count": 18,
     "metadata": {},
     "output_type": "execute_result"
    },
    {
     "data": {
      "image/png": "[encoded data removed]",
      "text/plain": [
       "<Figure size 432x288 with 1 Axes>"
      ]
     },
     "metadata": {
      "needs_background": "light"
     },
     "output_type": "display_data"
    }
   ],
   "source": [
    "sns.scatterplot(data = df_comp, x = \"count_m\", y = \"count_w\")"
   ]
  },
  {
   "cell_type": "code",
   "execution_count": 19,
   "metadata": {},
   "outputs": [],
   "source": [
    "df_comp_all = verbs_m.merge(verbs_w, left_on = \"verb\", right_on = \"verb\", suffixes=(\"_m\", \"_w\"))"
   ]
  },
  {
   "cell_type": "code",
   "execution_count": 21,
   "metadata": {},
   "outputs": [
    {
     "data": {
      "text/plain": [
       "<AxesSubplot:xlabel='count_m', ylabel='count_w'>"
      ]
     },
     "execution_count": 21,
     "metadata": {},
     "output_type": "execute_result"
    },
    {
     "data": {
      "image/png": "[encoded data removed]",
      "text/plain": [
       "<Figure size 432x288 with 1 Axes>"
      ]
     },
     "metadata": {
      "needs_background": "light"
     },
     "output_type": "display_data"
    }
   ],
   "source": [
    "sns.scatterplot(data = df_comp_all, x = \"count_m\", y = \"count_w\")"
   ]
  },
  {
   "cell_type": "code",
   "execution_count": 22,
   "metadata": {},
   "outputs": [
    {
     "data": {
      "text/html": [
       "<div>\n",
       "<style scoped>\n",
       "    .dataframe tbody tr th:only-of-type {\n",
       "        vertical-align: middle;\n",
       "    }\n",
       "\n",
       "    .dataframe tbody tr th {\n",
       "        vertical-align: top;\n",
       "    }\n",
       "\n",
       "    .dataframe thead th {\n",
       "        text-align: right;\n",
       "    }\n",
       "</style>\n",
       "<table border=\"1\" class=\"dataframe\">\n",
       "  <thead>\n",
       "    <tr style=\"text-align: right;\">\n",
       "      <th></th>\n",
       "      <th>verb</th>\n",
       "      <th>count_m</th>\n",
       "      <th>count_w</th>\n",
       "    </tr>\n",
       "  </thead>\n",
       "  <tbody>\n",
       "    <tr>\n",
       "      <th>0</th>\n",
       "      <td>have</td>\n",
       "      <td>8897</td>\n",
       "      <td>2890</td>\n",
       "    </tr>\n",
       "    <tr>\n",
       "      <th>1</th>\n",
       "      <td>go</td>\n",
       "      <td>3969</td>\n",
       "      <td>1066</td>\n",
       "    </tr>\n",
       "    <tr>\n",
       "      <th>2</th>\n",
       "      <td>do</td>\n",
       "      <td>3815</td>\n",
       "      <td>1085</td>\n",
       "    </tr>\n",
       "    <tr>\n",
       "      <th>3</th>\n",
       "      <td>get</td>\n",
       "      <td>3065</td>\n",
       "      <td>795</td>\n",
       "    </tr>\n",
       "    <tr>\n",
       "      <th>4</th>\n",
       "      <td>want</td>\n",
       "      <td>2830</td>\n",
       "      <td>895</td>\n",
       "    </tr>\n",
       "    <tr>\n",
       "      <th>...</th>\n",
       "      <td>...</td>\n",
       "      <td>...</td>\n",
       "      <td>...</td>\n",
       "    </tr>\n",
       "    <tr>\n",
       "      <th>1396</th>\n",
       "      <td>number</td>\n",
       "      <td>1</td>\n",
       "      <td>1</td>\n",
       "    </tr>\n",
       "    <tr>\n",
       "      <th>1397</th>\n",
       "      <td>gauge</td>\n",
       "      <td>1</td>\n",
       "      <td>1</td>\n",
       "    </tr>\n",
       "    <tr>\n",
       "      <th>1398</th>\n",
       "      <td>gaze</td>\n",
       "      <td>1</td>\n",
       "      <td>2</td>\n",
       "    </tr>\n",
       "    <tr>\n",
       "      <th>1399</th>\n",
       "      <td>decimate</td>\n",
       "      <td>1</td>\n",
       "      <td>1</td>\n",
       "    </tr>\n",
       "    <tr>\n",
       "      <th>1400</th>\n",
       "      <td>signify</td>\n",
       "      <td>1</td>\n",
       "      <td>1</td>\n",
       "    </tr>\n",
       "  </tbody>\n",
       "</table>\n",
       "<p>1401 rows × 3 columns</p>\n",
       "</div>"
      ],
      "text/plain": [
       "          verb  count_m  count_w\n",
       "0         have     8897     2890\n",
       "1           go     3969     1066\n",
       "2           do     3815     1085\n",
       "3          get     3065      795\n",
       "4         want     2830      895\n",
       "...        ...      ...      ...\n",
       "1396    number        1        1\n",
       "1397     gauge        1        1\n",
       "1398      gaze        1        2\n",
       "1399  decimate        1        1\n",
       "1400   signify        1        1\n",
       "\n",
       "[1401 rows x 3 columns]"
      ]
     },
     "execution_count": 22,
     "metadata": {},
     "output_type": "execute_result"
    }
   ],
   "source": [
    "df_comp_all"
   ]
  },
  {
   "cell_type": "code",
   "execution_count": 24,
   "metadata": {},
   "outputs": [],
   "source": [
    "df_comp_all['total'] = df_comp_all[\"count_m\"] + df_comp_all[\"count_w\"]\n"
   ]
  },
  {
   "cell_type": "code",
   "execution_count": 26,
   "metadata": {},
   "outputs": [],
   "source": [
    "df_comp_all[\"usage_m\"] = round(df_comp_all[\"count_m\"] / df_comp_all[\"total\"],3)"
   ]
  },
  {
   "cell_type": "code",
   "execution_count": 28,
   "metadata": {},
   "outputs": [],
   "source": [
    "df_comp_all[\"usage_w\"] = round(df_comp_all[\"count_w\"] / df_comp_all[\"total\"],3)\n"
   ]
  },
  {
   "cell_type": "code",
   "execution_count": 48,
   "metadata": {},
   "outputs": [],
   "source": [
    "high_use = df_comp_all[df_comp_all[\"total\"]>=50]\n",
    "\n",
    "## Nope. This will skew towards male usage. Need to account for male and female usage BEFORE the merge. "
   ]
  },
  {
   "cell_type": "code",
   "execution_count": 49,
   "metadata": {},
   "outputs": [
    {
     "data": {
      "text/plain": [
       "<AxesSubplot:xlabel='total', ylabel='Count'>"
      ]
     },
     "execution_count": 49,
     "metadata": {},
     "output_type": "execute_result"
    },
    {
     "data": {
      "image/png": "[encoded data removed]",
      "text/plain": [
       "<Figure size 432x288 with 1 Axes>"
      ]
     },
     "metadata": {
      "needs_background": "light"
     },
     "output_type": "display_data"
    }
   ],
   "source": [
    "sns.histplot(data = high_use, x = \"total\",bins = 50)"
   ]
  },
  {
   "cell_type": "code",
   "execution_count": 39,
   "metadata": {},
   "outputs": [
    {
     "data": {
      "text/plain": [
       "<AxesSubplot:xlabel='usage_m', ylabel='Count'>"
      ]
     },
     "execution_count": 39,
     "metadata": {},
     "output_type": "execute_result"
    },
    {
     "data": {
      "image/png": "[encoded data removed]",
      "text/plain": [
       "<Figure size 432x288 with 1 Axes>"
      ]
     },
     "metadata": {
      "needs_background": "light"
     },
     "output_type": "display_data"
    }
   ],
   "source": [
    "sns.histplot(data = df_comp_all, x = \"usage_m\",bins = 50)"
   ]
  },
  {
   "cell_type": "code",
   "execution_count": 33,
   "metadata": {},
   "outputs": [
    {
     "data": {
      "text/plain": [
       "0.6788029978586724"
      ]
     },
     "execution_count": 33,
     "metadata": {},
     "output_type": "execute_result"
    }
   ],
   "source": [
    "np.mean(df_comp_all[\"usage_m\"])"
   ]
  },
  {
   "cell_type": "code",
   "execution_count": 35,
   "metadata": {},
   "outputs": [
    {
     "data": {
      "text/plain": [
       "0.7482605945604048"
      ]
     },
     "execution_count": 35,
     "metadata": {},
     "output_type": "execute_result"
    }
   ],
   "source": [
    "np.sum(df_comp_all[\"count_m\"])/np.sum(df_comp_all[\"total\"])"
   ]
  },
  {
   "cell_type": "markdown",
   "metadata": {},
   "source": [
    "In the case of the male speakers, there are a total of 2631 verbs used, with 959 of those verbs occurring only once. That leaves us with 1672 verbs that occur at least twice. For female speakers, there are 1687 verbs in total, with 692 used only once, leaving 995 to be used twice or more.\n",
    "\n",
    "If we want to see those verbs with a particular count, we can create a cell with the following:\n",
    "\n",
    "```python\n",
    "TO DO\n",
    "```"
   ]
  },
  {
   "cell_type": "code",
   "execution_count": 13,
   "metadata": {},
   "outputs": [],
   "source": [
    "def verbs_by_count(verb_df, count_val, plus_minus=0):\n",
    "    \"\"\" From a data fram of verbs with counts, return the list of verbs that\n",
    "        have that count (plus or minus some amount)\n",
    "    INPUTS: \n",
    "     VERB_DF - The dataframe of the verbs with counts\n",
    "     COUNT_VAL - The exact count that one is interested in\n",
    "     PLUS_MINUS - The amount of \"wiggle\" room one adds to the count\n",
    "    \n",
    "    OUTPUTS: \n",
    "     List of verbs with that count number. \n",
    "     If PLUS_MINUS =/= 0, then a dataframe is returned.\n",
    "    \"\"\"\n",
    "    \n",
    "    # Create an index related to the count number\n",
    "    if plus_minus == 0: \n",
    "        inds = verb_df['count'] == count_val\n",
    "    \n",
    "    else:\n",
    "        inds = ((verb_df['count'] <= count_val + plus_minus) &\n",
    "                (verb_df['count'] >= count_val - plus_minus))\n",
    "        \n",
    "    # Check that INDS is not empty\n",
    "    if sum(inds) == 0:\n",
    "        return \"There are no verbs that match your search\"\n",
    "        \n",
    "    # List of verbs\n",
    "    if plus_minus == 0: \n",
    "        selected_verbs = verb_df[inds].sort_values([\"verb\"], ascending=True)\n",
    "        selected_verbs = selected_verbs['verb'].to_list()\n",
    "        \n",
    "    else: \n",
    "        selected_verbs = verb_df[inds]\n",
    "        \n",
    "    return selected_verbs"
   ]
  },
  {
   "cell_type": "code",
   "execution_count": 14,
   "metadata": {},
   "outputs": [
    {
     "data": {
      "text/html": [
       "<div>\n",
       "<style scoped>\n",
       "    .dataframe tbody tr th:only-of-type {\n",
       "        vertical-align: middle;\n",
       "    }\n",
       "\n",
       "    .dataframe tbody tr th {\n",
       "        vertical-align: top;\n",
       "    }\n",
       "\n",
       "    .dataframe thead th {\n",
       "        text-align: right;\n",
       "    }\n",
       "</style>\n",
       "<table border=\"1\" class=\"dataframe\">\n",
       "  <thead>\n",
       "    <tr style=\"text-align: right;\">\n",
       "      <th></th>\n",
       "      <th>verb</th>\n",
       "      <th>count</th>\n",
       "    </tr>\n",
       "  </thead>\n",
       "  <tbody>\n",
       "    <tr>\n",
       "      <th>2551</th>\n",
       "      <td>want</td>\n",
       "      <td>2830</td>\n",
       "    </tr>\n",
       "  </tbody>\n",
       "</table>\n",
       "</div>"
      ],
      "text/plain": [
       "      verb  count\n",
       "2551  want   2830"
      ]
     },
     "execution_count": 14,
     "metadata": {},
     "output_type": "execute_result"
    }
   ],
   "source": [
    "verbs_by_count(verbs_m, 2830, 2)"
   ]
  },
  {
   "cell_type": "code",
   "execution_count": 15,
   "metadata": {},
   "outputs": [
    {
     "data": {
      "text/plain": [
       "355"
      ]
     },
     "execution_count": 15,
     "metadata": {},
     "output_type": "execute_result"
    }
   ],
   "source": [
    "len(verbs_by_count(verbs_m, 2, 0))"
   ]
  },
  {
   "cell_type": "code",
   "execution_count": 16,
   "metadata": {},
   "outputs": [],
   "source": [
    "vc_out_m = np.zeros((100,2))\n",
    "\n",
    "for c in range(1,101):\n",
    "    out_put = verbs_by_count(verbs_m, c, 0)\n",
    "    if type(out_put) == str:\n",
    "        vc_out_m[c-1,:] = [c,0]\n",
    "    else: \n",
    "        num_verbs = len(out_put)\n",
    "        vc_out_m[c-1,:] = [c,num_verbs]"
   ]
  },
  {
   "cell_type": "code",
   "execution_count": 18,
   "metadata": {},
   "outputs": [
    {
     "data": {
      "text/plain": [
       "array([[  1., 959.],\n",
       "       [  2., 355.],\n",
       "       [  3., 203.],\n",
       "       [  4., 153.],\n",
       "       [  5., 102.]])"
      ]
     },
     "execution_count": 18,
     "metadata": {},
     "output_type": "execute_result"
    }
   ],
   "source": [
    "vc_out_m[:5]"
   ]
  },
  {
   "cell_type": "code",
   "execution_count": 19,
   "metadata": {},
   "outputs": [
    {
     "data": {
      "text/plain": [
       "<AxesSubplot:>"
      ]
     },
     "execution_count": 19,
     "metadata": {},
     "output_type": "execute_result"
    },
    {
     "data": {
      "image/png": "[encoded data removed]",
      "text/plain": [
       "<Figure size 432x288 with 1 Axes>"
      ]
     },
     "metadata": {
      "needs_background": "light"
     },
     "output_type": "display_data"
    }
   ],
   "source": [
    "sns.scatterplot(data = vc_out_m, x = vc_out_m[:,0], y = vc_out_m[:,1])"
   ]
  },
  {
   "cell_type": "code",
   "execution_count": 20,
   "metadata": {},
   "outputs": [],
   "source": [
    "vc_out_f = np.zeros((100,2))\n",
    "\n",
    "for c in range(1,101):\n",
    "    out_put = verbs_by_count(verbs_w, c, 0)\n",
    "    if type(out_put) == str:\n",
    "        vc_out_f[c-1,:] = [c,0]\n",
    "    else: \n",
    "        num_verbs = len(out_put)\n",
    "        vc_out_f[c-1,:] = [c,num_verbs]"
   ]
  },
  {
   "cell_type": "code",
   "execution_count": 21,
   "metadata": {},
   "outputs": [
    {
     "data": {
      "text/plain": [
       "<AxesSubplot:>"
      ]
     },
     "execution_count": 21,
     "metadata": {},
     "output_type": "execute_result"
    },
    {
     "data": {
      "image/png": "[encoded data removed]",
      "text/plain": [
       "<Figure size 432x288 with 1 Axes>"
      ]
     },
     "metadata": {
      "needs_background": "light"
     },
     "output_type": "display_data"
    }
   ],
   "source": [
    "sns.scatterplot(data = vc_out_f, x = vc_out_f[:,0], y = vc_out_f[:,1])"
   ]
  },
  {
   "cell_type": "code",
   "execution_count": 22,
   "metadata": {},
   "outputs": [
    {
     "data": {
      "text/plain": [
       "True"
      ]
     },
     "execution_count": 22,
     "metadata": {},
     "output_type": "execute_result"
    }
   ],
   "source": [
    "type(verbs_by_count(verbs_m, 0, 0)) == str"
   ]
  },
  {
   "cell_type": "code",
   "execution_count": 23,
   "metadata": {},
   "outputs": [
    {
     "ename": "NameError",
     "evalue": "name 'count_val' is not defined",
     "output_type": "error",
     "traceback": [
      "\u001b[0;31m---------------------------------------------------------------------------\u001b[0m",
      "\u001b[0;31mNameError\u001b[0m                                 Traceback (most recent call last)",
      "Input \u001b[0;32mIn [23]\u001b[0m, in \u001b[0;36m<module>\u001b[0;34m\u001b[0m\n\u001b[0;32m----> 1\u001b[0m inds_A \u001b[38;5;241m=\u001b[39m verbs_m[\u001b[38;5;124m'\u001b[39m\u001b[38;5;124mcount\u001b[39m\u001b[38;5;124m'\u001b[39m] \u001b[38;5;241m<\u001b[39m\u001b[38;5;241m=\u001b[39m \u001b[43mcount_val\u001b[49m \u001b[38;5;241m+\u001b[39m plus_minus \n\u001b[1;32m      2\u001b[0m inds_B \u001b[38;5;241m=\u001b[39m verbs_m[\u001b[38;5;124m'\u001b[39m\u001b[38;5;124mcount\u001b[39m\u001b[38;5;124m'\u001b[39m] \u001b[38;5;241m>\u001b[39m\u001b[38;5;241m=\u001b[39m count_val \u001b[38;5;241m-\u001b[39m plus_minus\n",
      "\u001b[0;31mNameError\u001b[0m: name 'count_val' is not defined"
     ]
    }
   ],
   "source": [
    "inds_A = verbs_m['count'] <= count_val + plus_minus \n",
    "inds_B = verbs_m['count'] >= count_val - plus_minus "
   ]
  },
  {
   "cell_type": "code",
   "execution_count": 24,
   "metadata": {},
   "outputs": [
    {
     "ename": "NameError",
     "evalue": "name 'count_val' is not defined",
     "output_type": "error",
     "traceback": [
      "\u001b[0;31m---------------------------------------------------------------------------\u001b[0m",
      "\u001b[0;31mNameError\u001b[0m                                 Traceback (most recent call last)",
      "Input \u001b[0;32mIn [24]\u001b[0m, in \u001b[0;36m<module>\u001b[0;34m\u001b[0m\n\u001b[0;32m----> 1\u001b[0m inds \u001b[38;5;241m=\u001b[39m ((verbs_m[\u001b[38;5;124m'\u001b[39m\u001b[38;5;124mcount\u001b[39m\u001b[38;5;124m'\u001b[39m] \u001b[38;5;241m<\u001b[39m\u001b[38;5;241m=\u001b[39m \u001b[43mcount_val\u001b[49m \u001b[38;5;241m+\u001b[39m plus_minus) \u001b[38;5;241m&\u001b[39m (verbs_m[\u001b[38;5;124m'\u001b[39m\u001b[38;5;124mcount\u001b[39m\u001b[38;5;124m'\u001b[39m] \u001b[38;5;241m>\u001b[39m\u001b[38;5;241m=\u001b[39m count_val \u001b[38;5;241m-\u001b[39m plus_minus))\n",
      "\u001b[0;31mNameError\u001b[0m: name 'count_val' is not defined"
     ]
    }
   ],
   "source": [
    "inds = ((verbs_m['count'] <= count_val + plus_minus) & (verbs_m['count'] >= count_val - plus_minus))\n",
    "\n",
    "# https://stackoverflow.com/questions/38834028/use-a-empty-a-bool-a-item-a-any-or-a-all"
   ]
  },
  {
   "cell_type": "code",
   "execution_count": 25,
   "metadata": {},
   "outputs": [
    {
     "ename": "NameError",
     "evalue": "name 'inds' is not defined",
     "output_type": "error",
     "traceback": [
      "\u001b[0;31m---------------------------------------------------------------------------\u001b[0m",
      "\u001b[0;31mNameError\u001b[0m                                 Traceback (most recent call last)",
      "Input \u001b[0;32mIn [25]\u001b[0m, in \u001b[0;36m<module>\u001b[0;34m\u001b[0m\n\u001b[0;32m----> 1\u001b[0m \u001b[43minds\u001b[49m\n",
      "\u001b[0;31mNameError\u001b[0m: name 'inds' is not defined"
     ]
    }
   ],
   "source": [
    "inds"
   ]
  },
  {
   "cell_type": "code",
   "execution_count": null,
   "metadata": {},
   "outputs": [],
   "source": [
    "selected_verbs = verbs_m[inds]"
   ]
  },
  {
   "cell_type": "code",
   "execution_count": null,
   "metadata": {},
   "outputs": [],
   "source": [
    "selected_verbs"
   ]
  },
  {
   "cell_type": "code",
   "execution_count": null,
   "metadata": {},
   "outputs": [],
   "source": []
  },
  {
   "cell_type": "code",
   "execution_count": null,
   "metadata": {},
   "outputs": [],
   "source": [
    "inds = verbs_m['count'] == 2"
   ]
  },
  {
   "cell_type": "code",
   "execution_count": null,
   "metadata": {},
   "outputs": [],
   "source": [
    "selected_verbs = verbs_m[inds].sort_values([\"verb\"], ascending=True)"
   ]
  },
  {
   "cell_type": "code",
   "execution_count": null,
   "metadata": {},
   "outputs": [],
   "source": [
    "selected_verbs = selected_verbs['verb'].to_list()\n"
   ]
  },
  {
   "cell_type": "code",
   "execution_count": null,
   "metadata": {},
   "outputs": [],
   "source": [
    "selected_verbs"
   ]
  },
  {
   "cell_type": "markdown",
   "metadata": {},
   "source": [
    "With the counts in place, we can establish relative frequencies as a new column by dividing the count of each verb by the total number of verbs. \n",
    "\n",
    "*In a hand inspection, I limited the relative frequency to the thousandth, and the result was that each subcorpus had only a little over 200 verbs that occur greater than 0.001 times: 216 for the male speakers and 225 for the female speakers. I'm not sure how/why it worked out that way. Is this a known phenonmenon in statistics/mathematics?*"
   ]
  },
  {
   "cell_type": "code",
   "execution_count": 26,
   "metadata": {},
   "outputs": [],
   "source": [
    "verbs_w['freqency'] = verbs_w['count'] / verbs_w_total\n",
    "verbs_m['freqency'] = verbs_m['count'] / verbs_m_total"
   ]
  },
  {
   "cell_type": "markdown",
   "metadata": {},
   "source": [
    "In the cells that follow, we create a list of tuples from our dataframes that consist of only the verbs and the relative frequencies -- `[('verb1', rf1), 'verb2', rf2) ...]` so that we can then compare the relative frequencies. "
   ]
  },
  {
   "cell_type": "code",
   "execution_count": 27,
   "metadata": {},
   "outputs": [
    {
     "data": {
      "text/plain": [
       "'have'"
      ]
     },
     "execution_count": 27,
     "metadata": {},
     "output_type": "execute_result"
    }
   ],
   "source": [
    "# We drop the count column and send the other two columns as a tuple to a list.\n",
    "m_verbs = [tuple(r) for r in verbs_m.drop(['count'], axis=1).to_numpy().tolist()]\n",
    "\n",
    "# A quick check\n",
    "m_verbs[0][0]"
   ]
  },
  {
   "cell_type": "code",
   "execution_count": 28,
   "metadata": {},
   "outputs": [
    {
     "data": {
      "text/plain": [
       "[('call', 0.008985831469052945),\n",
       " ('like', 0.009843400447427294),\n",
       " ('find', 0.011546109868257519),\n",
       " ('say', 0.01257767834949043),\n",
       " ('put', 0.012826249067859806),\n",
       " ('try', 0.012950534427044495),\n",
       " ('know', 0.013385533184190902),\n",
       " ('give', 0.013435247327864778),\n",
       " ('tell', 0.013882674620929654),\n",
       " ('start', 0.017312950534427045),\n",
       " ('use', 0.018406661695252298),\n",
       " ('need', 0.019624658215262242),\n",
       " ('make', 0.02232165050956997),\n",
       " ('see', 0.026012925677355206),\n",
       " ('take', 0.026398210290827742),\n",
       " ('want', 0.035172756649266716),\n",
       " ('get', 0.03809346259010689),\n",
       " ('do', 0.04741486452895849),\n",
       " ('go', 0.049328859060402686),\n",
       " ('have', 0.11057668406661696)]"
      ]
     },
     "execution_count": 28,
     "metadata": {},
     "output_type": "execute_result"
    }
   ],
   "source": [
    "# Sort the list and list the top 20 verbs\n",
    "m_verbs_sorted = sorted(m_verbs, key=lambda x: x[1])\n",
    "m_verbs_sorted[-20:]"
   ]
  },
  {
   "cell_type": "code",
   "execution_count": 29,
   "metadata": {},
   "outputs": [
    {
     "data": {
      "text/plain": [
       "[('put', 0.009319804584742578),\n",
       " ('ask', 0.00947012401352875),\n",
       " ('like', 0.009733183013904547),\n",
       " ('try', 0.010973318301390455),\n",
       " ('give', 0.011574596016535137),\n",
       " ('say', 0.01416760616309658),\n",
       " ('find', 0.014205186020293123),\n",
       " ('know', 0.015482901164975573),\n",
       " ('start', 0.016459977452085682),\n",
       " ('tell', 0.017963171739947388),\n",
       " ('use', 0.018075911311537015),\n",
       " ('need', 0.0212326193160466),\n",
       " ('make', 0.022623074032318675),\n",
       " ('take', 0.02266065388951522),\n",
       " ('see', 0.02367531003382187),\n",
       " ('get', 0.02987598647125141),\n",
       " ('want', 0.03363397219090567),\n",
       " ('go', 0.04006012777151447),\n",
       " ('do', 0.04077414505824878),\n",
       " ('have', 0.10860578729800827)]"
      ]
     },
     "execution_count": 29,
     "metadata": {},
     "output_type": "execute_result"
    }
   ],
   "source": [
    "# Now for the womens' verbs\n",
    "w_verbs = [tuple(r) for r in verbs_w.drop(['count'], axis=1).to_numpy().tolist()]\n",
    "\n",
    "# Sort\n",
    "w_verbs_sorted = sorted(w_verbs, key=lambda x: x[1])\n",
    "\n",
    "# Display the top 20\n",
    "w_verbs_sorted[-20:]"
   ]
  },
  {
   "cell_type": "markdown",
   "metadata": {},
   "source": [
    "This function takes the lists of tuples above and subtracts the value of the verbs that match. If the women's list is first list and the men's list the second, then positive values will mean that verb is used more by women and negative values more by men. If we sort we should get the greatest divergence at either end of the list."
   ]
  },
  {
   "cell_type": "code",
   "execution_count": 30,
   "metadata": {},
   "outputs": [],
   "source": [
    "def match_and_subtract(list1, list2):\n",
    "    # List1 and List2 are both lists of tuples of length 2. \n",
    "    # The first item in each tuple is a verb and the second is \n",
    "    # the fraction of all SVOs contain that verb\n",
    "    result = {}\n",
    "    \n",
    "    # Loop over all the verbs in LIST1 and compare to each item in LIST2\n",
    "    for item1 in list1:\n",
    "        # Looping over the verbs list 2\n",
    "        for item2 in list2:\n",
    "            \n",
    "            # If the verbs are the same, then do a comparison\n",
    "            if item1[0] == item2[0]:\n",
    "                # this IF/ELSE seems unnecessary... The commands are the same?\n",
    "                result[item1[0]] = item1[1] - item2[1]\n",
    "    return result"
   ]
  },
  {
   "cell_type": "code",
   "execution_count": 31,
   "metadata": {},
   "outputs": [],
   "source": [
    "compare_verbs = match_and_subtract(m_verbs, w_verbs)"
   ]
  },
  {
   "cell_type": "code",
   "execution_count": 32,
   "metadata": {},
   "outputs": [
    {
     "data": {
      "text/plain": [
       "-0.004080497119017734"
      ]
     },
     "execution_count": 32,
     "metadata": {},
     "output_type": "execute_result"
    }
   ],
   "source": [
    "compare_verbs['tell']"
   ]
  },
  {
   "cell_type": "code",
   "execution_count": 33,
   "metadata": {
    "scrolled": true
   },
   "outputs": [
    {
     "name": "stdout",
     "output_type": "stream",
     "text": [
      "Used more by women:\n",
      "[('tell', -0.004080497119017734), ('love', -0.003386390711133641), ('find', -0.0026590761520356044), ('know', -0.0020973679807846715), ('meet', -0.0016205717911187672), ('need', -0.001607961100784358), ('say', -0.0015899278136061509), ('hear', -0.0015586533015768127), ('share', -0.001465838620715553), ('play', -0.0014015661356445086)]\n",
      "Used more by men:\n",
      "[('give', 0.0018606513113296405), ('have', 0.0019708967686086903), ('try', 0.0019772161256540396), ('build', 0.0022252123570192925), ('see', 0.0023376156435333355), ('put', 0.0035064444831172277), ('take', 0.003737556401312521), ('do', 0.006640719470709711), ('get', 0.008217476118855479), ('go', 0.009268731288888214)]\n"
     ]
    }
   ],
   "source": [
    "m_verbs = [tuple(r) for r in verbs_m.drop(['count'], axis=1).to_numpy().tolist()]\n",
    "w_verbs = [tuple(r) for r in verbs_w.drop(['count'], axis=1).to_numpy().tolist()]\n",
    "\n",
    "compare_verbs = match_and_subtract(m_verbs, w_verbs)\n",
    "compared_verb_list = list(compare_verbs.items())\n",
    "compared_verbs_sorted = sorted(compared_verb_list, key=lambda x: x[1])\n",
    "\n",
    "print(\"Used more by women:\")\n",
    "print(compared_verbs_sorted[0:10])\n",
    "print(\"Used more by men:\")\n",
    "print(compared_verbs_sorted[-10:])"
   ]
  },
  {
   "cell_type": "code",
   "execution_count": 34,
   "metadata": {},
   "outputs": [
    {
     "data": {
      "text/plain": [
       "[('have', 0.0019708967686086903),\n",
       " ('go', 0.009268731288888214),\n",
       " ('do', 0.006640719470709711),\n",
       " ('get', 0.008217476118855479),\n",
       " ('want', 0.001538784458361045)]"
      ]
     },
     "execution_count": 34,
     "metadata": {},
     "output_type": "execute_result"
    }
   ],
   "source": [
    "compared_verb_list[:5]"
   ]
  },
  {
   "cell_type": "code",
   "execution_count": 35,
   "metadata": {},
   "outputs": [
    {
     "data": {
      "text/plain": [
       "[('want', 0.001538784458361045),\n",
       " ('have', 0.0019708967686086903),\n",
       " ('do', 0.006640719470709711),\n",
       " ('get', 0.008217476118855479),\n",
       " ('go', 0.009268731288888214)]"
      ]
     },
     "execution_count": 35,
     "metadata": {},
     "output_type": "execute_result"
    }
   ],
   "source": [
    "sorted(compared_verb_list[:5], key= lambda x: x[1])"
   ]
  },
  {
   "cell_type": "code",
   "execution_count": 36,
   "metadata": {},
   "outputs": [],
   "source": [
    "comp_vals = [x[1] for x in compared_verbs_sorted]"
   ]
  },
  {
   "cell_type": "code",
   "execution_count": 37,
   "metadata": {},
   "outputs": [
    {
     "data": {
      "text/plain": [
       "70.05"
      ]
     },
     "execution_count": 37,
     "metadata": {},
     "output_type": "execute_result"
    }
   ],
   "source": [
    "len(comp_vals)*.05"
   ]
  },
  {
   "cell_type": "code",
   "execution_count": 38,
   "metadata": {},
   "outputs": [
    {
     "data": {
      "text/plain": [
       "<AxesSubplot:ylabel='Count'>"
      ]
     },
     "execution_count": 38,
     "metadata": {},
     "output_type": "execute_result"
    },
    {
     "data": {
      "image/png": "[encoded data removed]",
      "text/plain": [
       "<Figure size 432x288 with 1 Axes>"
      ]
     },
     "metadata": {
      "needs_background": "light"
     },
     "output_type": "display_data"
    }
   ],
   "source": [
    "sns.histplot(data=comp_vals)"
   ]
  },
  {
   "cell_type": "code",
   "execution_count": 58,
   "metadata": {},
   "outputs": [
    {
     "data": {
      "text/plain": [
       "<AxesSubplot:ylabel='Count'>"
      ]
     },
     "execution_count": 58,
     "metadata": {},
     "output_type": "execute_result"
    },
    {
     "data": {
      "image/png": "[encoded data removed]",
      "text/plain": [
       "<Figure size 432x288 with 1 Axes>"
      ]
     },
     "metadata": {
      "needs_background": "light"
     },
     "output_type": "display_data"
    }
   ],
   "source": [
    "sns.histplot(data=comp_vals[70:-70])"
   ]
  },
  {
   "cell_type": "code",
   "execution_count": 59,
   "metadata": {},
   "outputs": [
    {
     "data": {
      "text/plain": [
       "<AxesSubplot:ylabel='Count'>"
      ]
     },
     "execution_count": 59,
     "metadata": {},
     "output_type": "execute_result"
    },
    {
     "data": {
      "image/png": "[encoded data removed]",
      "text/plain": [
       "<Figure size 432x288 with 1 Axes>"
      ]
     },
     "metadata": {
      "needs_background": "light"
     },
     "output_type": "display_data"
    }
   ],
   "source": [
    "sns.histplot(data=comp_vals[:70])"
   ]
  },
  {
   "cell_type": "code",
   "execution_count": 60,
   "metadata": {},
   "outputs": [
    {
     "data": {
      "text/plain": [
       "<AxesSubplot:ylabel='Count'>"
      ]
     },
     "execution_count": 60,
     "metadata": {},
     "output_type": "execute_result"
    },
    {
     "data": {
      "image/png": "[encoded data removed]",
      "text/plain": [
       "<Figure size 432x288 with 1 Axes>"
      ]
     },
     "metadata": {
      "needs_background": "light"
     },
     "output_type": "display_data"
    }
   ],
   "source": [
    "sns.histplot(data=comp_vals[-70:])"
   ]
  },
  {
   "cell_type": "code",
   "execution_count": 64,
   "metadata": {},
   "outputs": [
    {
     "data": {
      "text/plain": [
       "0"
      ]
     },
     "execution_count": 64,
     "metadata": {},
     "output_type": "execute_result"
    }
   ],
   "source": [
    "len(comp_vals) - (len(comp_vals[:70])+len(comp_vals[70:-70])+ len(comp_vals[-70:]))"
   ]
  },
  {
   "cell_type": "code",
   "execution_count": 66,
   "metadata": {},
   "outputs": [
    {
     "data": {
      "text/plain": [
       "<AxesSubplot:>"
      ]
     },
     "execution_count": 66,
     "metadata": {},
     "output_type": "execute_result"
    },
    {
     "data": {
      "image/png": "[encoded data removed]",
      "text/plain": [
       "<Figure size 432x288 with 1 Axes>"
      ]
     },
     "metadata": {
      "needs_background": "light"
     },
     "output_type": "display_data"
    }
   ],
   "source": [
    "sns.rugplot(comp_vals)"
   ]
  },
  {
   "cell_type": "code",
   "execution_count": 41,
   "metadata": {
    "scrolled": true
   },
   "outputs": [
    {
     "name": "stdout",
     "output_type": "stream",
     "text": [
      "['tell', 'love', 'find', 'know', 'meet', 'need', 'say', 'hear', 'share', 'play', 'feel', 'ask', 'marry', 'spend', 'help', 'come', 'choose', 'think', 'stand', 'kill']\n"
     ]
    }
   ],
   "source": [
    "print([x[0] for x in verbs_sorted[0:20]])"
   ]
  },
  {
   "cell_type": "code",
   "execution_count": 49,
   "metadata": {},
   "outputs": [
    {
     "name": "stdout",
     "output_type": "stream",
     "text": [
      "['go', 'get', 'do', 'take', 'put', 'see', 'build', 'try', 'have', 'give', 'want', 'show', 'turn', 'develop', 'start', 'invent', 'design', 'solve', 'move', 'cost']\n"
     ]
    }
   ],
   "source": [
    "# Because of the way this list is ordered, \n",
    "# the most difference is at the end of this list.\n",
    "# Reversed here to be more easily compared to list above.\n",
    "print(list(reversed([x[0] for x in verbs_sorted[-20:]])))"
   ]
  },
  {
   "cell_type": "markdown",
   "metadata": {},
   "source": [
    "Code for various kinds of counts. "
   ]
  },
  {
   "cell_type": "code",
   "execution_count": null,
   "metadata": {},
   "outputs": [],
   "source": [
    "# Verbs that occur only once\n",
    "# verbs_m_gt1 = verbs_m.loc[verbs_m[\"count\"] == 1]\n",
    "# verbs_w_gt1 = verbs_w.loc[verbs_w[\"count\"] == 1]\n",
    "# print(f\"One-off verbs for ♂︎ - {verbs_m_gt1.shape[0]}; ♀︎ - {verbs_w_gt1.shape[0]}.\")\n",
    "\n",
    "# Verbs that occur more than twice\n",
    "# verbs_m_gt2 = verbs_m.loc[verbs_m[\"count\"] >= 2]\n",
    "# verbs_w_gt2 = verbs_w.loc[verbs_w[\"count\"] >= 2]\n",
    "# print(f\"Verbs that occur more than twice: for ♂︎ - {verbs_m_gt2.shape[0]}; ♀︎ - {verbs_w_gt2.shape[0]}.\")"
   ]
  },
  {
   "cell_type": "markdown",
   "metadata": {},
   "source": [
    "## Subjects with Verbs"
   ]
  },
  {
   "cell_type": "code",
   "execution_count": 21,
   "metadata": {},
   "outputs": [
    {
     "data": {
      "text/html": [
       "<div>\n",
       "<style scoped>\n",
       "    .dataframe tbody tr th:only-of-type {\n",
       "        vertical-align: middle;\n",
       "    }\n",
       "\n",
       "    .dataframe tbody tr th {\n",
       "        vertical-align: top;\n",
       "    }\n",
       "\n",
       "    .dataframe thead th {\n",
       "        text-align: right;\n",
       "    }\n",
       "</style>\n",
       "<table border=\"1\" class=\"dataframe\">\n",
       "  <thead>\n",
       "    <tr style=\"text-align: right;\">\n",
       "      <th></th>\n",
       "      <th>verb</th>\n",
       "      <th>obs</th>\n",
       "    </tr>\n",
       "  </thead>\n",
       "  <tbody>\n",
       "    <tr>\n",
       "      <th>200</th>\n",
       "      <td>have</td>\n",
       "      <td>232</td>\n",
       "    </tr>\n",
       "    <tr>\n",
       "      <th>387</th>\n",
       "      <td>say</td>\n",
       "      <td>132</td>\n",
       "    </tr>\n",
       "    <tr>\n",
       "      <th>125</th>\n",
       "      <td>do</td>\n",
       "      <td>111</td>\n",
       "    </tr>\n",
       "    <tr>\n",
       "      <th>188</th>\n",
       "      <td>get</td>\n",
       "      <td>90</td>\n",
       "    </tr>\n",
       "    <tr>\n",
       "      <th>190</th>\n",
       "      <td>go</td>\n",
       "      <td>78</td>\n",
       "    </tr>\n",
       "    <tr>\n",
       "      <th>450</th>\n",
       "      <td>take</td>\n",
       "      <td>78</td>\n",
       "    </tr>\n",
       "    <tr>\n",
       "      <th>494</th>\n",
       "      <td>want</td>\n",
       "      <td>71</td>\n",
       "    </tr>\n",
       "    <tr>\n",
       "      <th>259</th>\n",
       "      <td>make</td>\n",
       "      <td>67</td>\n",
       "    </tr>\n",
       "    <tr>\n",
       "      <th>455</th>\n",
       "      <td>tell</td>\n",
       "      <td>58</td>\n",
       "    </tr>\n",
       "    <tr>\n",
       "      <th>336</th>\n",
       "      <td>put</td>\n",
       "      <td>54</td>\n",
       "    </tr>\n",
       "    <tr>\n",
       "      <th>510</th>\n",
       "      <td>write</td>\n",
       "      <td>48</td>\n",
       "    </tr>\n",
       "    <tr>\n",
       "      <th>423</th>\n",
       "      <td>start</td>\n",
       "      <td>42</td>\n",
       "    </tr>\n",
       "    <tr>\n",
       "      <th>189</th>\n",
       "      <td>give</td>\n",
       "      <td>39</td>\n",
       "    </tr>\n",
       "    <tr>\n",
       "      <th>169</th>\n",
       "      <td>find</td>\n",
       "      <td>34</td>\n",
       "    </tr>\n",
       "    <tr>\n",
       "      <th>17</th>\n",
       "      <td>ask</td>\n",
       "      <td>33</td>\n",
       "    </tr>\n",
       "    <tr>\n",
       "      <th>50</th>\n",
       "      <td>call</td>\n",
       "      <td>31</td>\n",
       "    </tr>\n",
       "    <tr>\n",
       "      <th>240</th>\n",
       "      <td>know</td>\n",
       "      <td>27</td>\n",
       "    </tr>\n",
       "    <tr>\n",
       "      <th>484</th>\n",
       "      <td>use</td>\n",
       "      <td>25</td>\n",
       "    </tr>\n",
       "    <tr>\n",
       "      <th>478</th>\n",
       "      <td>turn</td>\n",
       "      <td>24</td>\n",
       "    </tr>\n",
       "    <tr>\n",
       "      <th>477</th>\n",
       "      <td>try</td>\n",
       "      <td>23</td>\n",
       "    </tr>\n",
       "  </tbody>\n",
       "</table>\n",
       "</div>"
      ],
      "text/plain": [
       "      verb  obs\n",
       "200   have  232\n",
       "387    say  132\n",
       "125     do  111\n",
       "188    get   90\n",
       "190     go   78\n",
       "450   take   78\n",
       "494   want   71\n",
       "259   make   67\n",
       "455   tell   58\n",
       "336    put   54\n",
       "510  write   48\n",
       "423  start   42\n",
       "189   give   39\n",
       "169   find   34\n",
       "17     ask   33\n",
       "50    call   31\n",
       "240   know   27\n",
       "484    use   25\n",
       "478   turn   24\n",
       "477    try   23"
      ]
     },
     "execution_count": 21,
     "metadata": {},
     "output_type": "execute_result"
    }
   ],
   "source": [
    "# This gives us the top 20 verbs associated with \"he\" in the mens subcorpus\n",
    "m_he = svos_m[svos_m[\"subject\"] == \"he\"].groupby([\"verb\"]).size().reset_index(\n",
    "    name='obs').sort_values(['obs'], ascending=False).iloc[:20]\n",
    "m_he"
   ]
  },
  {
   "cell_type": "markdown",
   "metadata": {},
   "source": [
    "Below is my attempt to create a function that would return an appropriately named dataframe which contained the top 20 verbs for a given subject. It was intended to be worked into a `for` loop:\n",
    "```python\n",
    "genderedSubjects = ['she', 'he', 'man', 'men', 'woman', 'women']\n",
    "for i in genderedSubjects:\n",
    "    verbCount(svos_w, \"w\", i, 30)\n",
    "```\n",
    "But it doesn't work as intended, creating a bunch of smaller dataframes, as a print statement reveals:\n",
    "```python\n",
    "print(w_man)\n",
    "```\n",
    "```\n",
    "NameError: name 'w_man' is not defined\n",
    "```\n",
    "\n",
    "We can either run this code a dataframe at a time or go with something more pandas-y."
   ]
  },
  {
   "cell_type": "markdown",
   "metadata": {},
   "source": [
    "One approach might look like this:"
   ]
  },
  {
   "cell_type": "code",
   "execution_count": null,
   "metadata": {},
   "outputs": [],
   "source": [
    "svos_m_pro = svos_m.loc[(\n",
    "    svos_m['subject'] == 'he') | (\n",
    "    svos_m['subject'] == 'she') | (\n",
    "    svos_m[\"subject\"] == \"i\")\n",
    "]\n",
    "svos_m_pro.shape"
   ]
  },
  {
   "cell_type": "markdown",
   "metadata": {},
   "source": [
    "Another approach would take advantage of pandas `subset` functionality. Used on the entire mens subcorpus, it suggests that the most common subject-verb pairing is *we have*, by a pretty large margin, so let's mark that as something worth exploring further.\n",
    "\n",
    "<div class=\"alert alert-block alert-warning\"> <b>TO DO</b>: Take a look at \"we have\" in the mens subcorpus. </div>"
   ]
  },
  {
   "cell_type": "code",
   "execution_count": null,
   "metadata": {
    "scrolled": true
   },
   "outputs": [],
   "source": [
    "svos_m.value_counts(subset=['subject', 'verb'])"
   ]
  },
  {
   "cell_type": "code",
   "execution_count": null,
   "metadata": {},
   "outputs": [],
   "source": [
    "# Create a list of the pronouns we want to see\n",
    "pronouns = [\"he\", \"she\", \"i\"]\n",
    "\n",
    "# Here's the code all in one block\n",
    "m_pronouns = svos_m[svos_m[\"subject\"].isin(\n",
    "    pronouns)].value_counts(\n",
    "    subset=['subject', 'verb']).reset_index()\n",
    "m_pronouns.head()"
   ]
  },
  {
   "cell_type": "code",
   "execution_count": null,
   "metadata": {},
   "outputs": [],
   "source": [
    "# svos_m_iheshe.to_csv(\"../output/m_iheshe.csv\")"
   ]
  },
  {
   "cell_type": "code",
   "execution_count": null,
   "metadata": {},
   "outputs": [],
   "source": [
    "m_pronouns.rename(columns={0:'v_count'}, inplace=True)\n",
    "m_pronouns.head()"
   ]
  },
  {
   "cell_type": "code",
   "execution_count": null,
   "metadata": {},
   "outputs": [],
   "source": [
    "m_pronouns.shape"
   ]
  },
  {
   "cell_type": "code",
   "execution_count": null,
   "metadata": {},
   "outputs": [],
   "source": [
    "m_pronouns['v_freq'] = m_pronouns['v_count'] / m_pronouns['v_count'].sum()"
   ]
  },
  {
   "cell_type": "code",
   "execution_count": null,
   "metadata": {},
   "outputs": [],
   "source": [
    "m_pronouns.head()"
   ]
  },
  {
   "cell_type": "markdown",
   "metadata": {},
   "source": [
    "## Character Spaces as Verb-Feature Spaces\n",
    "\n",
    "The goal in this section is to:\n",
    "\n",
    "1. Collect all the verbs associated with the specified subjects\n",
    "2. Weight the verbs (by normalization)\n",
    "3. Compare the verbs manually\n",
    "4. Visualize a comparison using PCA or t-SNE"
   ]
  },
  {
   "cell_type": "markdown",
   "metadata": {},
   "source": [
    "First we explore the total number of verbs involved:"
   ]
  },
  {
   "cell_type": "code",
   "execution_count": null,
   "metadata": {},
   "outputs": [],
   "source": [
    "# Collect all the verbs from the women's subcorpus\n",
    "verbs_w = svos_w.groupby([\"verb\"]).size().reset_index(name='obs').sort_values(\n",
    "        ['obs'], ascending=False)\n",
    "\n",
    "# Select only the verbs that occur more than once\n",
    "verbs_gt_w = verbs_w[verbs_w.obs > 2]\n",
    "\n",
    "# What's our counts?\n",
    "print(f\"♀︎: {verbs_w.shape[0]} unique verbs; {verbs_gt_w.shape[0]} occur more than once\")"
   ]
  },
  {
   "cell_type": "code",
   "execution_count": null,
   "metadata": {},
   "outputs": [],
   "source": [
    "# Repeat for the men's subcorpus\n",
    "verbs_m = svos_m.groupby([\"verb\"]).size().reset_index(name='obs').sort_values(\n",
    "        ['obs'], ascending=False)\n",
    "verbs_gt_m = verbs_m[verbs_m.obs > 2]\n",
    "\n",
    "print(f\"♂︎: {verbs_m.shape[0]} unique verbs; {verbs_gt_m.shape[0]} occur more than once\")"
   ]
  },
  {
   "cell_type": "markdown",
   "metadata": {},
   "source": [
    "Now we need to grab the verbs associated with the subjects:"
   ]
  },
  {
   "cell_type": "code",
   "execution_count": null,
   "metadata": {},
   "outputs": [],
   "source": [
    "# Create a list of the subjects for which we want SVOs\n",
    "subjects = ['she', 'he', 'i']\n",
    "\n",
    "# Filter the dataframe\n",
    "subjects_w = svos_w[svos_w['subject'].isin(subjects)]\n",
    "\n",
    "# We don't want the objects for this\n",
    "subjects_w = subjects_w.drop('object', axis=1)\n",
    "\n",
    "# Count the unique combinations of two columns\n",
    "subj_w_ct = subjects_w[['subject', 'verb']].value_counts().reset_index(name='count')\n",
    "\n",
    "# Check our work\n",
    "subj_w_ct.head()"
   ]
  },
  {
   "cell_type": "code",
   "execution_count": null,
   "metadata": {},
   "outputs": [],
   "source": [
    "subj_w_ct.value_counts(subset=['subject', 'verb']).sort_index(ascending=False)"
   ]
  },
  {
   "cell_type": "code",
   "execution_count": null,
   "metadata": {},
   "outputs": [],
   "source": [
    "# Repeat for the mens' subcorpus\n",
    "subjects_m = svos_m[svos_m['subject'].isin(subjects)]\n",
    "subjects_m = subjects_m.drop('object', axis=1)\n",
    "subj_m_ct = subjects_m[['subject', 'verb']].value_counts().reset_index(name='count')\n",
    "subj_m_ct.shape"
   ]
  },
  {
   "cell_type": "code",
   "execution_count": null,
   "metadata": {},
   "outputs": [],
   "source": [
    "subj_m_ct.head(10)"
   ]
  },
  {
   "cell_type": "code",
   "execution_count": null,
   "metadata": {},
   "outputs": [],
   "source": [
    "# See the total number of verbs above\n",
    "# This could have been done with verbs_w.shape[0]\n",
    "subj_m_ct['weight'] = subj_m_ct['count']/5307\n",
    "subj_w_ct['weight'] = subj_w_ct['count']/3161"
   ]
  },
  {
   "cell_type": "code",
   "execution_count": null,
   "metadata": {},
   "outputs": [],
   "source": [
    "subj_w_ct.head()"
   ]
  },
  {
   "cell_type": "markdown",
   "metadata": {},
   "source": [
    "Now we have 2 dataframes, each with three subjects -- *she*, *he*, and *i*. Each subject has hundreds of verbs associated with it, and each verb has a weight normalized to its subcorpus so that it *should* be comparable to verbs in the other subcorpus. The goal is to see how close or far the six subjects are. "
   ]
  },
  {
   "cell_type": "code",
   "execution_count": null,
   "metadata": {},
   "outputs": [],
   "source": [
    "# Add our columns to attribute subject and verbs to a particular gender\n",
    "subj_w_ct['speaker'] = \"female\"\n",
    "subj_m_ct['speaker'] = \"male\""
   ]
  },
  {
   "cell_type": "code",
   "execution_count": null,
   "metadata": {},
   "outputs": [],
   "source": []
  }
 ],
 "metadata": {
  "interpreter": {
   "hash": "14a02b88778d8fb8b6aeb4ad427a942bc53dfcda9d7e3737237788289e0d2d23"
  },
  "kernelspec": {
   "display_name": "Python 3 (ipykernel)",
   "language": "python",
   "name": "python3"
  },
  "language_info": {
   "codemirror_mode": {
    "name": "ipython",
    "version": 3
   },
   "file_extension": ".py",
   "mimetype": "text/x-python",
   "name": "python",
   "nbconvert_exporter": "python",
   "pygments_lexer": "ipython3",
   "version": "3.9.10"
  },
  "toc": {
   "base_numbering": 1,
   "nav_menu": {},
   "number_sections": true,
   "sideBar": true,
   "skip_h1_title": true,
   "title_cell": "",
   "title_sidebar": "Contents",
   "toc_cell": true,
   "toc_position": 2,
   "toc_section_display": true,
   "toc_window_display": false
  }
 },
 "nbformat": 4,
 "nbformat_minor": 2
}
