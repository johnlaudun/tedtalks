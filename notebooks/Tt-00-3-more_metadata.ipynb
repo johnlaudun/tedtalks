{
 "cells": [
  {
   "cell_type": "markdown",
   "metadata": {},
   "source": [
    "## Getting the data"
   ]
  },
  {
   "cell_type": "markdown",
   "metadata": {},
   "source": [
    "**Task**: Get the metadata for each of the talks which will tell us when the talk actually occurred along with the particular TED event at which it occurred. Bonus: get the view count."
   ]
  },
  {
   "cell_type": "markdown",
   "metadata": {},
   "source": [
    "I consulted my own [notes][] (from May 2016) on how I previously downloaded the transcripts, and, as it turns out, the Google Doc is still available and up to date. This time I only copied the URLs and pasted them into a text file.  \n",
    "\n",
    "[notes]: http://johnlaudun.org/20160518-wgetting-ted-talk-transcripts/\n",
    "\n",
    "I tested the `wget` command twice:\n",
    "\n",
    "    wget -w 2 -i tedtalks_test.txt\n",
    "\n",
    "The first time I used the top three entries -- what now feels like the triumvirate of Gore, Pogue, and Carter -- but then discovered that all three are from the same TED event in 2006. I then re-tested the script with URLs for talks by Dawkins and Gladwell:\n",
    "\n",
    "    https://www.ted.com/talks/richard_dawkins_on_our_queer_universe\n",
    "    https://www.ted.com/talks/malcolm_gladwell_on_spaghetti_sauce\n",
    "\n",
    "The script worked both times. I appended HTML to the file names and opened in a text editor. I eventually located the information we want in a massive `<script>` block located near the end of a file. In one location is this:\n",
    "\n",
    "    \"recorded_at\":\"2005-07-07T00:00:00.000+00:00\"\n",
    "\n",
    "But a more interesting clump of data occurs just before this:\n",
    "\n",
    "    \"canonical\":\"https://www.ted.com/talks/richard_dawkins_on_our_queer_universe\",\n",
    "    \"external\":null,\"name\":\"Richard Dawkins: Why the universe seems so strange\",\n",
    "    \"title\":\"Why the universe seems so strange\",\n",
    "    \"speaker\":\"Richard Dawkins\",\n",
    "    \"thumb\":\"https://pi.tedcdn.com/r/pe.tedcdn.com/images/ted/160_480x360.jpg?quality=89&w=600\",\n",
    "    \"slug\":\"richard_dawkins_on_our_queer_universe\",\n",
    "    \"event\":\"TEDGlobal 2005\",\n",
    "    \"filmed\":1120694400,\n",
    "    \"published\":1158019860,\n",
    "\n",
    "Those last two are, of course, UNIX time codes that translate as follows:\n",
    "\n",
    "* `\"filmed\":1120694400` = Wednesday 6th July 2005\n",
    "* `\"published\":1158019860` = Monday 11th September 2006\n",
    "\n",
    "Elsewhere: `\"viewed_count\":2952227`."
   ]
  },
  {
   "cell_type": "markdown",
   "metadata": {},
   "source": [
    "## Downloaded Files\n",
    "\n",
    "The results of `wget -w 2 -i tedtalks_URLs.txt`:\n",
    "\n",
    "    FINISHED --2018-01-17 17:55:25--\n",
    "    Total wall clock time: 1h 54m 14s\n",
    "    Downloaded: 2628 files, 172M in 2m 27s (1.17 MB/s)"
   ]
  },
  {
   "cell_type": "markdown",
   "metadata": {},
   "source": [
    "## Experiments in Parsing"
   ]
  },
  {
   "cell_type": "code",
   "execution_count": 2,
   "metadata": {
    "collapsed": true
   },
   "outputs": [],
   "source": [
    "text = open('/Users/john/Code/tedarchives/richard_dawkins_on_our_queer_universe.html', 'r').read()"
   ]
  },
  {
   "cell_type": "code",
   "execution_count": 10,
   "metadata": {},
   "outputs": [
    {
     "name": "stdout",
     "output_type": "stream",
     "text": [
      "(function (H){\n",
      "  H.className=H.className.replace(/\\bno-js\\b/,'js');\n",
      "  if (('; '+document.cookie).match(/; _ted_user_id=/)) H.className=H.className.replace(/\\bloggedout\\b/,'loggedin');\n",
      "  })(document.documentElement)\n"
     ]
    }
   ],
   "source": [
    "soup = BeautifulSoup(text, 'html.parser')\n",
    "element = soup.find(\"script\")\n",
    "# element = soup.find(\"script\", {\"itemprop \": \"price \", \"class\": \"now-price\"})\n",
    "needed = (element.text.strip())\n",
    "print(needed)"
   ]
  },
  {
   "cell_type": "code",
   "execution_count": 7,
   "metadata": {},
   "outputs": [
    {
     "ename": "AttributeError",
     "evalue": "'NoneType' object has no attribute 'text'",
     "output_type": "error",
     "traceback": [
      "\u001b[0;31m---------------------------------------------------------------------------\u001b[0m",
      "\u001b[0;31mAttributeError\u001b[0m                            Traceback (most recent call last)",
      "\u001b[0;32m<ipython-input-7-4e9de4ba5856>\u001b[0m in \u001b[0;36m<module>\u001b[0;34m()\u001b[0m\n\u001b[1;32m      4\u001b[0m \u001b[0msoup\u001b[0m \u001b[0;34m=\u001b[0m \u001b[0mBeautifulSoup\u001b[0m\u001b[0;34m(\u001b[0m\u001b[0mtext\u001b[0m\u001b[0;34m,\u001b[0m \u001b[0;34m\"lxml\"\u001b[0m\u001b[0;34m)\u001b[0m\u001b[0;34m\u001b[0m\u001b[0m\n\u001b[1;32m      5\u001b[0m \u001b[0;34m\u001b[0m\u001b[0m\n\u001b[0;32m----> 6\u001b[0;31m \u001b[0mdata\u001b[0m \u001b[0;34m=\u001b[0m \u001b[0mjson\u001b[0m\u001b[0;34m.\u001b[0m\u001b[0mloads\u001b[0m\u001b[0;34m(\u001b[0m\u001b[0msoup\u001b[0m\u001b[0;34m.\u001b[0m\u001b[0mfind\u001b[0m\u001b[0;34m(\u001b[0m\u001b[0;34m'script'\u001b[0m\u001b[0;34m,\u001b[0m \u001b[0mtype\u001b[0m\u001b[0;34m=\u001b[0m\u001b[0;34m'application/ld+json'\u001b[0m\u001b[0;34m)\u001b[0m\u001b[0;34m.\u001b[0m\u001b[0mtext\u001b[0m\u001b[0;34m)\u001b[0m\u001b[0;34m\u001b[0m\u001b[0m\n\u001b[0m\u001b[1;32m      7\u001b[0m \u001b[0mprint\u001b[0m\u001b[0;34m(\u001b[0m\u001b[0mdata\u001b[0m\u001b[0;34m[\u001b[0m\u001b[0;34m'event'\u001b[0m\u001b[0;34m]\u001b[0m\u001b[0;34m)\u001b[0m\u001b[0;34m\u001b[0m\u001b[0m\n",
      "\u001b[0;31mAttributeError\u001b[0m: 'NoneType' object has no attribute 'text'"
     ]
    }
   ],
   "source": [
    "import json\n",
    "from bs4 import BeautifulSoup\n",
    "\n",
    "soup = BeautifulSoup(text, \"lxml\")\n",
    "\n",
    "data = json.loads(soup.find('script', type='application/ld+json').text)\n",
    "print(data['event'])"
   ]
  },
  {
   "cell_type": "code",
   "execution_count": 4,
   "metadata": {
    "collapsed": true
   },
   "outputs": [],
   "source": [
    "for line in text:\n",
    "    if '\"event\"' in line:\n",
    "        data = json.loads(line.split(\"=\")[1].strip('\\n;'))\n",
    "        print(data[0][\"name\"])\n",
    "    break"
   ]
  },
  {
   "cell_type": "code",
   "execution_count": null,
   "metadata": {
    "collapsed": true
   },
   "outputs": [],
   "source": [
    "prev = 'name'\n",
    "for i in re.findall('\"([^\"]*)\"', data):\n",
    "    if \"The Harvest Bar (THB)\" in i or i == \"description\" or i == \"start_date\":\n",
    "        prev = i\n",
    "        continue\n",
    "    if prev == 'name':\n",
    "        if i.startswith(\"THB - \"):\n",
    "            i = i[6:]\n",
    "        foodlist.append(i)\n",
    "    prev = i"
   ]
  }
 ],
 "metadata": {
  "kernelspec": {
   "display_name": "Python 3",
   "language": "python",
   "name": "python3"
  },
  "language_info": {
   "codemirror_mode": {
    "name": "ipython",
    "version": 3
   },
   "file_extension": ".py",
   "mimetype": "text/x-python",
   "name": "python",
   "nbconvert_exporter": "python",
   "pygments_lexer": "ipython3",
   "version": "3.4.6"
  }
 },
 "nbformat": 4,
 "nbformat_minor": 2
}
