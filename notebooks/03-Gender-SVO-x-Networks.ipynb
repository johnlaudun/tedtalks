{
 "cells": [
  {
   "cell_type": "markdown",
   "metadata": {},
   "source": [
    "# SVO Networks\n",
    "\n",
    "This notebook is strictly an archive of the small block of code in the SVO work that attempted a network."
   ]
  },
  {
   "cell_type": "code",
   "execution_count": 1,
   "metadata": {},
   "outputs": [],
   "source": [
    "# IMPORTS\n",
    "import pandas as pd\n",
    "import networkx as nx\n",
    "import numpy as np\n",
    "import plotly.graph_objects as go"
   ]
  },
  {
   "cell_type": "code",
   "execution_count": 2,
   "metadata": {},
   "outputs": [
    {
     "name": "stdout",
     "output_type": "stream",
     "text": [
      "80460 26610\n"
     ]
    }
   ],
   "source": [
    "# LOAD DATAFRAMES\n",
    "svos_m = pd.read_csv(\"../output/svos_m_lem.csv\", index_col=0)\n",
    "svos_w = pd.read_csv(\"../output/svos_w_lem.csv\", index_col=0)\n",
    "\n",
    "print(svos_m.shape[0], svos_w.shape[0])"
   ]
  },
  {
   "cell_type": "markdown",
   "metadata": {},
   "source": [
    "## Subjects"
   ]
  },
  {
   "cell_type": "markdown",
   "metadata": {},
   "source": [
    "The function below allows us to compare the usage of subjects across the two subcorpora, returning both a raw count and a percentage of the SVO count of the subcorpus."
   ]
  },
  {
   "cell_type": "code",
   "execution_count": 63,
   "metadata": {},
   "outputs": [
    {
     "name": "stdout",
     "output_type": "stream",
     "text": [
      "\n",
      "    | ♂︎ | \"he\" | 2548 | 0.032 |\n",
      "    | ♀︎ | \"he\" | 757 | 0.028 |\n"
     ]
    }
   ],
   "source": [
    "def compare (subject):\n",
    "    # Create name:\n",
    "    m_tmp = svos_m[svos_m[\"subject\"] == subject]\n",
    "    w_tmp = svos_w[svos_w[\"subject\"] == subject]\n",
    "    print(f'''\n",
    "    | ♂︎ | \"{subject}\" | {m_tmp.shape[0]} | {m_tmp.shape[0]/svos_m.shape[0]:.3f} |\n",
    "    | ♀︎ | \"{subject}\" | {w_tmp.shape[0]} | {w_tmp.shape[0]/svos_w.shape[0]:.3f} |''')\n",
    "    \n",
    "compare(\"he\")"
   ]
  },
  {
   "cell_type": "markdown",
   "metadata": {},
   "source": [
    "### Third Person Perspective"
   ]
  },
  {
   "cell_type": "code",
   "execution_count": 64,
   "metadata": {},
   "outputs": [
    {
     "name": "stdout",
     "output_type": "stream",
     "text": [
      "\n",
      "    | ♂︎ | \"he\" | 2548 | 0.032 |\n",
      "    | ♀︎ | \"he\" | 757 | 0.028 |\n",
      "\n",
      "    | ♂︎ | \"she\" | 848 | 0.011 |\n",
      "    | ♀︎ | \"she\" | 643 | 0.024 |\n",
      "\n",
      "    | ♂︎ | \"man\" | 80 | 0.001 |\n",
      "    | ♀︎ | \"man\" | 13 | 0.000 |\n",
      "\n",
      "    | ♂︎ | \"woman\" | 24 | 0.000 |\n",
      "    | ♀︎ | \"woman\" | 35 | 0.001 |\n",
      "\n",
      "    | ♂︎ | \"men\" | 40 | 0.000 |\n",
      "    | ♀︎ | \"men\" | 23 | 0.001 |\n",
      "\n",
      "    | ♂︎ | \"women\" | 37 | 0.000 |\n",
      "    | ♀︎ | \"women\" | 62 | 0.002 |\n",
      "\n",
      "    | ♂︎ | \"actor\" | 3 | 0.000 |\n",
      "    | ♀︎ | \"actor\" | 1 | 0.000 |\n",
      "\n",
      "    | ♂︎ | \"actress\" | 0 | 0.000 |\n",
      "    | ♀︎ | \"actress\" | 0 | 0.000 |\n"
     ]
    }
   ],
   "source": [
    "thirdPerson = ['he', 'she', 'man', 'woman', 'men', 'women', 'actor', 'actress']\n",
    "\n",
    "for i in thirdPerson:\n",
    "    compare(i)"
   ]
  },
  {
   "cell_type": "markdown",
   "metadata": {},
   "source": [
    "### First & Second Person"
   ]
  },
  {
   "cell_type": "code",
   "execution_count": 65,
   "metadata": {},
   "outputs": [
    {
     "name": "stdout",
     "output_type": "stream",
     "text": [
      "\n",
      "    | ♂︎ | \"i\" | 15440 | 0.192 |\n",
      "    | ♀︎ | \"i\" | 6185 | 0.232 |\n",
      "\n",
      "    | ♂︎ | \"we\" | 15458 | 0.192 |\n",
      "    | ♀︎ | \"we\" | 4652 | 0.175 |\n",
      "\n",
      "    | ♂︎ | \"you\" | 11949 | 0.149 |\n",
      "    | ♀︎ | \"you\" | 3117 | 0.117 |\n"
     ]
    }
   ],
   "source": [
    "firstSecond = [\"i\", \"we\", \"you\"]\n",
    "\n",
    "for i in firstSecond:\n",
    "    compare(i)"
   ]
  },
  {
   "cell_type": "markdown",
   "metadata": {},
   "source": [
    "### Other Subjects"
   ]
  },
  {
   "cell_type": "code",
   "execution_count": 66,
   "metadata": {},
   "outputs": [
    {
     "name": "stdout",
     "output_type": "stream",
     "text": [
      "\n",
      "    | ♂︎ | \"subject\" | 9 | 0.000 |\n",
      "    | ♀︎ | \"subject\" | 2 | 0.000 |\n",
      "\n",
      "    | ♂︎ | \"object\" | 7 | 0.000 |\n",
      "    | ♀︎ | \"object\" | 5 | 0.000 |\n"
     ]
    }
   ],
   "source": [
    "# This is just a placeholder for more interesting words\n",
    "otherSubjects =  ['subject', 'object']\n",
    "\n",
    "for i in otherSubjects:\n",
    "    compare(i)"
   ]
  },
  {
   "cell_type": "markdown",
   "metadata": {},
   "source": [
    "## Verbs"
   ]
  },
  {
   "cell_type": "markdown",
   "metadata": {},
   "source": [
    "We need either a collection of dataframes or one dataframe which has just the subjects above along with the most common verbs: this will give us a sense of the actions associated with particular subjects, the active spaces characters occupy."
   ]
  },
  {
   "cell_type": "markdown",
   "metadata": {},
   "source": [
    "The first thing we need to do is get a count of the unique verbs available in each of the subcorpora:"
   ]
  },
  {
   "cell_type": "code",
   "execution_count": 70,
   "metadata": {},
   "outputs": [
    {
     "data": {
      "text/plain": [
       "(2631, 2)"
      ]
     },
     "execution_count": 70,
     "metadata": {},
     "output_type": "execute_result"
    }
   ],
   "source": [
    "# Unique verbs in mens' subcorpus\n",
    "verbs_m = svos_m.groupby(\n",
    "    [\"verb\"]).size().reset_index(name=\"count\").sort_values([\"count\"], ascending=False)\n",
    "verbs_m.shape"
   ]
  },
  {
   "cell_type": "code",
   "execution_count": 71,
   "metadata": {},
   "outputs": [
    {
     "data": {
      "text/plain": [
       "(1687, 2)"
      ]
     },
     "execution_count": 71,
     "metadata": {},
     "output_type": "execute_result"
    }
   ],
   "source": [
    "# Unique verbs in womens' subcorpus\n",
    "verbs_w = svos_w.groupby(\n",
    "    [\"verb\"]).size().reset_index(name=\"count\").sort_values([\"count\"], ascending=False)\n",
    "verbs_w.shape"
   ]
  },
  {
   "cell_type": "code",
   "execution_count": 72,
   "metadata": {},
   "outputs": [
    {
     "name": "stdout",
     "output_type": "stream",
     "text": [
      "Unique verbs for ♂︎ - 1672; ♀︎ - 995.\n"
     ]
    }
   ],
   "source": [
    "# Verbs that occur more than once\n",
    "verbs_m_gt1 = verbs_m.loc[verbs_m[\"count\"] > 1]\n",
    "verbs_w_gt1 = verbs_w.loc[verbs_w[\"count\"] > 1]\n",
    "print(f\"Unique verbs for ♂︎ - {verbs_m_gt1.shape[0]}; ♀︎ - {verbs_w_gt1.shape[0]}.\")"
   ]
  },
  {
   "cell_type": "code",
   "execution_count": 73,
   "metadata": {},
   "outputs": [
    {
     "name": "stdout",
     "output_type": "stream",
     "text": [
      "Verbs that occur more than twice: for ♂︎ - 1317; ♀︎ - 743.\n"
     ]
    }
   ],
   "source": [
    "# Verbs that occur more than twice\n",
    "verbs_m_gt2 = verbs_m.loc[verbs_m[\"count\"] > 2]\n",
    "verbs_w_gt2 = verbs_w.loc[verbs_w[\"count\"] > 2]\n",
    "print(f\"Verbs that occur more than twice: for ♂︎ - {verbs_m_gt2.shape[0]}; ♀︎ - {verbs_w_gt2.shape[0]}.\")"
   ]
  },
  {
   "cell_type": "code",
   "execution_count": 74,
   "metadata": {
    "scrolled": false
   },
   "outputs": [
    {
     "data": {
      "text/html": [
       "<div>\n",
       "<style scoped>\n",
       "    .dataframe tbody tr th:only-of-type {\n",
       "        vertical-align: middle;\n",
       "    }\n",
       "\n",
       "    .dataframe tbody tr th {\n",
       "        vertical-align: top;\n",
       "    }\n",
       "\n",
       "    .dataframe thead th {\n",
       "        text-align: right;\n",
       "    }\n",
       "</style>\n",
       "<table border=\"1\" class=\"dataframe\">\n",
       "  <thead>\n",
       "    <tr style=\"text-align: right;\">\n",
       "      <th></th>\n",
       "      <th>verb</th>\n",
       "      <th>obs</th>\n",
       "    </tr>\n",
       "  </thead>\n",
       "  <tbody>\n",
       "    <tr>\n",
       "      <th>200</th>\n",
       "      <td>have</td>\n",
       "      <td>232</td>\n",
       "    </tr>\n",
       "    <tr>\n",
       "      <th>387</th>\n",
       "      <td>say</td>\n",
       "      <td>132</td>\n",
       "    </tr>\n",
       "    <tr>\n",
       "      <th>125</th>\n",
       "      <td>do</td>\n",
       "      <td>111</td>\n",
       "    </tr>\n",
       "    <tr>\n",
       "      <th>188</th>\n",
       "      <td>get</td>\n",
       "      <td>90</td>\n",
       "    </tr>\n",
       "    <tr>\n",
       "      <th>190</th>\n",
       "      <td>go</td>\n",
       "      <td>78</td>\n",
       "    </tr>\n",
       "    <tr>\n",
       "      <th>450</th>\n",
       "      <td>take</td>\n",
       "      <td>78</td>\n",
       "    </tr>\n",
       "    <tr>\n",
       "      <th>494</th>\n",
       "      <td>want</td>\n",
       "      <td>71</td>\n",
       "    </tr>\n",
       "    <tr>\n",
       "      <th>259</th>\n",
       "      <td>make</td>\n",
       "      <td>67</td>\n",
       "    </tr>\n",
       "    <tr>\n",
       "      <th>455</th>\n",
       "      <td>tell</td>\n",
       "      <td>58</td>\n",
       "    </tr>\n",
       "    <tr>\n",
       "      <th>336</th>\n",
       "      <td>put</td>\n",
       "      <td>54</td>\n",
       "    </tr>\n",
       "    <tr>\n",
       "      <th>510</th>\n",
       "      <td>write</td>\n",
       "      <td>48</td>\n",
       "    </tr>\n",
       "    <tr>\n",
       "      <th>423</th>\n",
       "      <td>start</td>\n",
       "      <td>42</td>\n",
       "    </tr>\n",
       "    <tr>\n",
       "      <th>189</th>\n",
       "      <td>give</td>\n",
       "      <td>39</td>\n",
       "    </tr>\n",
       "    <tr>\n",
       "      <th>169</th>\n",
       "      <td>find</td>\n",
       "      <td>34</td>\n",
       "    </tr>\n",
       "    <tr>\n",
       "      <th>17</th>\n",
       "      <td>ask</td>\n",
       "      <td>33</td>\n",
       "    </tr>\n",
       "    <tr>\n",
       "      <th>50</th>\n",
       "      <td>call</td>\n",
       "      <td>31</td>\n",
       "    </tr>\n",
       "    <tr>\n",
       "      <th>240</th>\n",
       "      <td>know</td>\n",
       "      <td>27</td>\n",
       "    </tr>\n",
       "    <tr>\n",
       "      <th>484</th>\n",
       "      <td>use</td>\n",
       "      <td>25</td>\n",
       "    </tr>\n",
       "    <tr>\n",
       "      <th>478</th>\n",
       "      <td>turn</td>\n",
       "      <td>24</td>\n",
       "    </tr>\n",
       "    <tr>\n",
       "      <th>477</th>\n",
       "      <td>try</td>\n",
       "      <td>23</td>\n",
       "    </tr>\n",
       "  </tbody>\n",
       "</table>\n",
       "</div>"
      ],
      "text/plain": [
       "      verb  obs\n",
       "200   have  232\n",
       "387    say  132\n",
       "125     do  111\n",
       "188    get   90\n",
       "190     go   78\n",
       "450   take   78\n",
       "494   want   71\n",
       "259   make   67\n",
       "455   tell   58\n",
       "336    put   54\n",
       "510  write   48\n",
       "423  start   42\n",
       "189   give   39\n",
       "169   find   34\n",
       "17     ask   33\n",
       "50    call   31\n",
       "240   know   27\n",
       "484    use   25\n",
       "478   turn   24\n",
       "477    try   23"
      ]
     },
     "execution_count": 74,
     "metadata": {},
     "output_type": "execute_result"
    }
   ],
   "source": [
    "# This gives us the top 20 verbs associated with \"he\" in the mens subcorpus\n",
    "m_he = svos_m[svos_m[\"subject\"] == \"he\"].groupby([\"verb\"]).size().reset_index(\n",
    "    name='obs').sort_values(['obs'], ascending=False).iloc[:20]\n",
    "m_he"
   ]
  },
  {
   "cell_type": "markdown",
   "metadata": {},
   "source": [
    "Below is my attempt to create a function that would return an appropriately named dataframe which contained the top 20 verbs for a given subject. It was intended to be worked into a `for` loop:\n",
    "```python\n",
    "genderedSubjects = ['she', 'he', 'man', 'men', 'woman', 'women']\n",
    "for i in genderedSubjects:\n",
    "    verbCount(svos_w, \"w\", i, 30)\n",
    "```\n",
    "But it doesn't work as intended, creating a bunch of smaller dataframes, as a print statement reveals:\n",
    "```python\n",
    "print(w_man)\n",
    "```\n",
    "```\n",
    "NameError: name 'w_man' is not defined\n",
    "```\n",
    "\n",
    "We can either run this code a dataframe at a time or go with something more pandas-y."
   ]
  },
  {
   "cell_type": "markdown",
   "metadata": {},
   "source": [
    "One approach might look like this:"
   ]
  },
  {
   "cell_type": "code",
   "execution_count": 78,
   "metadata": {},
   "outputs": [
    {
     "data": {
      "text/plain": [
       "(18836, 3)"
      ]
     },
     "execution_count": 78,
     "metadata": {},
     "output_type": "execute_result"
    }
   ],
   "source": [
    "svos_m_pro = svos_m.loc[(\n",
    "    svos_m['subject'] == 'he') | (\n",
    "    svos_m['subject'] == 'she') | (\n",
    "    svos_m[\"subject\"] == \"i\")\n",
    "]\n",
    "svos_m_pro.shape"
   ]
  },
  {
   "cell_type": "markdown",
   "metadata": {},
   "source": [
    "Another approach would take advantage of pandas `subset` functionality. Used on the entire mens subcorpus, it suggests that the most common subject-verb pairing is *we have*, by a pretty large margin, so let's mark that as something worth exploring further.\n",
    "\n",
    "<div class=\"alert alert-block alert-warning\"> <b>TO DO</b>: Take a look at \"we have\" in the mens subcorpus. </div>"
   ]
  },
  {
   "cell_type": "code",
   "execution_count": 80,
   "metadata": {
    "scrolled": true
   },
   "outputs": [
    {
     "data": {
      "text/plain": [
       "subject  verb       \n",
       "we       have           2259\n",
       "you      have           1505\n",
       "i        have           1318\n",
       "         want           1210\n",
       "         go             1076\n",
       "                        ... \n",
       "it       manufacture       1\n",
       "         market            1\n",
       "         maxes             1\n",
       "         maximize          1\n",
       "number   know              1\n",
       "Length: 19993, dtype: int64"
      ]
     },
     "execution_count": 80,
     "metadata": {},
     "output_type": "execute_result"
    }
   ],
   "source": [
    "svos_m.value_counts(subset=['subject', 'verb'])"
   ]
  },
  {
   "cell_type": "code",
   "execution_count": 79,
   "metadata": {},
   "outputs": [
    {
     "data": {
      "text/html": [
       "<div>\n",
       "<style scoped>\n",
       "    .dataframe tbody tr th:only-of-type {\n",
       "        vertical-align: middle;\n",
       "    }\n",
       "\n",
       "    .dataframe tbody tr th {\n",
       "        vertical-align: top;\n",
       "    }\n",
       "\n",
       "    .dataframe thead th {\n",
       "        text-align: right;\n",
       "    }\n",
       "</style>\n",
       "<table border=\"1\" class=\"dataframe\">\n",
       "  <thead>\n",
       "    <tr style=\"text-align: right;\">\n",
       "      <th></th>\n",
       "      <th>subject</th>\n",
       "      <th>verb</th>\n",
       "      <th>0</th>\n",
       "    </tr>\n",
       "  </thead>\n",
       "  <tbody>\n",
       "    <tr>\n",
       "      <th>0</th>\n",
       "      <td>i</td>\n",
       "      <td>have</td>\n",
       "      <td>1318</td>\n",
       "    </tr>\n",
       "    <tr>\n",
       "      <th>1</th>\n",
       "      <td>i</td>\n",
       "      <td>want</td>\n",
       "      <td>1210</td>\n",
       "    </tr>\n",
       "    <tr>\n",
       "      <th>2</th>\n",
       "      <td>i</td>\n",
       "      <td>go</td>\n",
       "      <td>1076</td>\n",
       "    </tr>\n",
       "    <tr>\n",
       "      <th>3</th>\n",
       "      <td>i</td>\n",
       "      <td>do</td>\n",
       "      <td>650</td>\n",
       "    </tr>\n",
       "    <tr>\n",
       "      <th>4</th>\n",
       "      <td>i</td>\n",
       "      <td>get</td>\n",
       "      <td>586</td>\n",
       "    </tr>\n",
       "  </tbody>\n",
       "</table>\n",
       "</div>"
      ],
      "text/plain": [
       "  subject  verb     0\n",
       "0       i  have  1318\n",
       "1       i  want  1210\n",
       "2       i    go  1076\n",
       "3       i    do   650\n",
       "4       i   get   586"
      ]
     },
     "execution_count": 79,
     "metadata": {},
     "output_type": "execute_result"
    }
   ],
   "source": [
    "# Create a list of the pronouns we want to see\n",
    "pronouns = [\"he\", \"she\", \"i\"]\n",
    "\n",
    "# Here's the code all in one block\n",
    "m_pronouns = svos_m[svos_m[\"subject\"].isin(\n",
    "    pronouns)].value_counts(\n",
    "    subset=['subject', 'verb']).reset_index()\n",
    "m_pronouns.head()"
   ]
  },
  {
   "cell_type": "code",
   "execution_count": 50,
   "metadata": {},
   "outputs": [],
   "source": [
    "# svos_m_iheshe.to_csv(\"../output/m_iheshe.csv\")"
   ]
  },
  {
   "cell_type": "code",
   "execution_count": 58,
   "metadata": {},
   "outputs": [
    {
     "data": {
      "text/html": [
       "<div>\n",
       "<style scoped>\n",
       "    .dataframe tbody tr th:only-of-type {\n",
       "        vertical-align: middle;\n",
       "    }\n",
       "\n",
       "    .dataframe tbody tr th {\n",
       "        vertical-align: top;\n",
       "    }\n",
       "\n",
       "    .dataframe thead th {\n",
       "        text-align: right;\n",
       "    }\n",
       "</style>\n",
       "<table border=\"1\" class=\"dataframe\">\n",
       "  <thead>\n",
       "    <tr style=\"text-align: right;\">\n",
       "      <th></th>\n",
       "      <th>subject</th>\n",
       "      <th>verb</th>\n",
       "      <th>v_count</th>\n",
       "    </tr>\n",
       "  </thead>\n",
       "  <tbody>\n",
       "    <tr>\n",
       "      <th>0</th>\n",
       "      <td>i</td>\n",
       "      <td>have</td>\n",
       "      <td>1318</td>\n",
       "    </tr>\n",
       "    <tr>\n",
       "      <th>1</th>\n",
       "      <td>i</td>\n",
       "      <td>want</td>\n",
       "      <td>1210</td>\n",
       "    </tr>\n",
       "    <tr>\n",
       "      <th>2</th>\n",
       "      <td>i</td>\n",
       "      <td>go</td>\n",
       "      <td>1076</td>\n",
       "    </tr>\n",
       "    <tr>\n",
       "      <th>3</th>\n",
       "      <td>i</td>\n",
       "      <td>do</td>\n",
       "      <td>650</td>\n",
       "    </tr>\n",
       "    <tr>\n",
       "      <th>4</th>\n",
       "      <td>i</td>\n",
       "      <td>get</td>\n",
       "      <td>586</td>\n",
       "    </tr>\n",
       "  </tbody>\n",
       "</table>\n",
       "</div>"
      ],
      "text/plain": [
       "  subject  verb  v_count\n",
       "0       i  have     1318\n",
       "1       i  want     1210\n",
       "2       i    go     1076\n",
       "3       i    do      650\n",
       "4       i   get      586"
      ]
     },
     "execution_count": 58,
     "metadata": {},
     "output_type": "execute_result"
    }
   ],
   "source": [
    "m_pronouns.rename(columns={0:'v_count'}, inplace=True)\n",
    "m_pronouns.head()"
   ]
  },
  {
   "cell_type": "code",
   "execution_count": 59,
   "metadata": {},
   "outputs": [
    {
     "data": {
      "text/plain": [
       "(1723, 3)"
      ]
     },
     "execution_count": 59,
     "metadata": {},
     "output_type": "execute_result"
    }
   ],
   "source": [
    "m_pronouns.shape"
   ]
  },
  {
   "cell_type": "code",
   "execution_count": 61,
   "metadata": {},
   "outputs": [],
   "source": [
    "m_pronouns['v_freq'] = m_pronouns['v_count'] / m_pronouns['v_count'].sum()"
   ]
  },
  {
   "cell_type": "code",
   "execution_count": 62,
   "metadata": {},
   "outputs": [
    {
     "data": {
      "text/html": [
       "<div>\n",
       "<style scoped>\n",
       "    .dataframe tbody tr th:only-of-type {\n",
       "        vertical-align: middle;\n",
       "    }\n",
       "\n",
       "    .dataframe tbody tr th {\n",
       "        vertical-align: top;\n",
       "    }\n",
       "\n",
       "    .dataframe thead th {\n",
       "        text-align: right;\n",
       "    }\n",
       "</style>\n",
       "<table border=\"1\" class=\"dataframe\">\n",
       "  <thead>\n",
       "    <tr style=\"text-align: right;\">\n",
       "      <th></th>\n",
       "      <th>subject</th>\n",
       "      <th>verb</th>\n",
       "      <th>v_count</th>\n",
       "      <th>v_freq</th>\n",
       "    </tr>\n",
       "  </thead>\n",
       "  <tbody>\n",
       "    <tr>\n",
       "      <th>0</th>\n",
       "      <td>i</td>\n",
       "      <td>have</td>\n",
       "      <td>1318</td>\n",
       "      <td>0.069972</td>\n",
       "    </tr>\n",
       "    <tr>\n",
       "      <th>1</th>\n",
       "      <td>i</td>\n",
       "      <td>want</td>\n",
       "      <td>1210</td>\n",
       "      <td>0.064239</td>\n",
       "    </tr>\n",
       "    <tr>\n",
       "      <th>2</th>\n",
       "      <td>i</td>\n",
       "      <td>go</td>\n",
       "      <td>1076</td>\n",
       "      <td>0.057125</td>\n",
       "    </tr>\n",
       "    <tr>\n",
       "      <th>3</th>\n",
       "      <td>i</td>\n",
       "      <td>do</td>\n",
       "      <td>650</td>\n",
       "      <td>0.034508</td>\n",
       "    </tr>\n",
       "    <tr>\n",
       "      <th>4</th>\n",
       "      <td>i</td>\n",
       "      <td>get</td>\n",
       "      <td>586</td>\n",
       "      <td>0.031111</td>\n",
       "    </tr>\n",
       "  </tbody>\n",
       "</table>\n",
       "</div>"
      ],
      "text/plain": [
       "  subject  verb  v_count    v_freq\n",
       "0       i  have     1318  0.069972\n",
       "1       i  want     1210  0.064239\n",
       "2       i    go     1076  0.057125\n",
       "3       i    do      650  0.034508\n",
       "4       i   get      586  0.031111"
      ]
     },
     "execution_count": 62,
     "metadata": {},
     "output_type": "execute_result"
    }
   ],
   "source": [
    "m_pronouns.head()"
   ]
  },
  {
   "cell_type": "markdown",
   "metadata": {},
   "source": [
    "## SVO Networks"
   ]
  },
  {
   "cell_type": "markdown",
   "metadata": {},
   "source": [
    "### A Small Test Network\n",
    "\n",
    "While we eventually might like to have a network of `subject > verb > object` for now, let's work with the `m_she` dataframe and build a network with sources, targets, and edge attributes."
   ]
  },
  {
   "cell_type": "code",
   "execution_count": 11,
   "metadata": {},
   "outputs": [
    {
     "data": {
      "text/plain": [
       "(40, 3)"
      ]
     },
     "execution_count": 11,
     "metadata": {},
     "output_type": "execute_result"
    }
   ],
   "source": [
    "# Re-insert a column for \"she\"\n",
    "m_she[\"subject\"] = \"she\"\n",
    "\n",
    "# Re-arrange columns so that they are in a more obvious order\n",
    "m_she = m_she[[\"subject\", \"verb\", \"obs\"]]\n",
    "\n",
    "m_she.shape"
   ]
  },
  {
   "cell_type": "code",
   "execution_count": 12,
   "metadata": {},
   "outputs": [],
   "source": [
    "# Create the graph\n",
    "# Reference: https://stackoverflow.com/questions/53937259/converting-a-pandas-dataframe-to-a-networkx-graph\n",
    "G = nx.from_pandas_edgelist(m_she, source='subject', target='verb', edge_attr=True)"
   ]
  },
  {
   "cell_type": "code",
   "execution_count": 13,
   "metadata": {
    "scrolled": true
   },
   "outputs": [
    {
     "data": {
      "image/png": "[encoded data removed]",
      "text/plain": [
       "<Figure size 432x288 with 1 Axes>"
      ]
     },
     "metadata": {},
     "output_type": "display_data"
    }
   ],
   "source": [
    "nx.draw_networkx(G)"
   ]
  },
  {
   "cell_type": "markdown",
   "metadata": {},
   "source": [
    "This is not a very clear graph, and, honestly, I think we would rather be able to choose the number of nodes at the network level rather than at the dataframe level: being able to adjust the network visualization is a real boon."
   ]
  },
  {
   "cell_type": "code",
   "execution_count": 14,
   "metadata": {},
   "outputs": [
    {
     "data": {
      "text/plain": [
       "EdgeDataView([('she', 'have', {'obs': 94}), ('she', 'say', {'obs': 47}), ('she', 'do', {'obs': 41}), ('she', 'go', {'obs': 34}), ('she', 'want', {'obs': 32}), ('she', 'get', {'obs': 24}), ('she', 'take', {'obs': 23}), ('she', 'give', {'obs': 21}), ('she', 'tell', {'obs': 20}), ('she', 'find', {'obs': 19}), ('she', 'start', {'obs': 17}), ('she', 'make', {'obs': 16}), ('she', 'try', {'obs': 15}), ('she', 'use', {'obs': 11}), ('she', 'bring', {'obs': 11}), ('she', 'know', {'obs': 10}), ('she', 'see', {'obs': 9}), ('she', 'saw', {'obs': 9}), ('she', 'come', {'obs': 8}), ('she', 'stop', {'obs': 8}), ('she', 'ask', {'obs': 8}), ('she', 'leave', {'obs': 7}), ('she', 'read', {'obs': 7}), ('she', 'eat', {'obs': 6}), ('she', 'write', {'obs': 6}), ('she', 'call', {'obs': 6}), ('she', 'like', {'obs': 5}), ('she', 'lose', {'obs': 5}), ('she', 'put', {'obs': 5}), ('she', 'sit', {'obs': 5}), ('she', 'reach', {'obs': 5}), ('she', 'look', {'obs': 5}), ('she', 'build', {'obs': 5}), ('she', 'raise', {'obs': 4}), ('she', 'begin', {'obs': 4}), ('she', 'blow', {'obs': 4}), ('she', 'work', {'obs': 4}), ('she', 'love', {'obs': 4}), ('she', 'run', {'obs': 4}), ('she', 'turn', {'obs': 3})])"
      ]
     },
     "execution_count": 14,
     "metadata": {},
     "output_type": "execute_result"
    }
   ],
   "source": [
    "G.edges.data()"
   ]
  }
 ],
 "metadata": {
  "interpreter": {
   "hash": "14a02b88778d8fb8b6aeb4ad427a942bc53dfcda9d7e3737237788289e0d2d23"
  },
  "kernelspec": {
   "display_name": "Python 3 (ipykernel)",
   "language": "python",
   "name": "python3"
  },
  "language_info": {
   "codemirror_mode": {
    "name": "ipython",
    "version": 3
   },
   "file_extension": ".py",
   "mimetype": "text/x-python",
   "name": "python",
   "nbconvert_exporter": "python",
   "pygments_lexer": "ipython3",
   "version": "3.7.11"
  },
  "toc": {
   "base_numbering": 1,
   "nav_menu": {},
   "number_sections": true,
   "sideBar": true,
   "skip_h1_title": true,
   "title_cell": "",
   "title_sidebar": "Contents",
   "toc_cell": true,
   "toc_position": 2,
   "toc_section_display": true,
   "toc_window_display": false
  }
 },
 "nbformat": 4,
 "nbformat_minor": 2
}
