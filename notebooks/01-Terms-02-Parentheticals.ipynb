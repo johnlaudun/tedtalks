{
 "cells": [
  {
   "cell_type": "markdown",
   "metadata": {},
   "source": [
    "# Talks as Performances & the Problem of Parentheticals"
   ]
  },
  {
   "cell_type": "markdown",
   "metadata": {},
   "source": [
    "## Imports and Data"
   ]
  },
  {
   "cell_type": "code",
   "execution_count": 5,
   "metadata": {},
   "outputs": [],
   "source": [
    "# Imports\n",
    "import pandas as pd\n",
    "import re\n",
    "\n",
    "# Load the Data\n",
    "df = pd.read_csv('../output/TEDall_speakers.csv')\n",
    "\n",
    "# Create a list of all the texts\n",
    "texts = df.text.tolist()"
   ]
  },
  {
   "cell_type": "markdown",
   "metadata": {},
   "source": [
    "## Exploration"
   ]
  },
  {
   "cell_type": "markdown",
   "metadata": {},
   "source": [
    "Earlier explorations of the corpus revealed something we knew but had not realized could affect our work: some TED talks are not talks but musical performances. Generally, the text of such performances are rather short. Using an arbitrary length of `500` characters, we can see what these texts look like:"
   ]
  },
  {
   "cell_type": "code",
   "execution_count": 6,
   "metadata": {
    "scrolled": false
   },
   "outputs": [
    {
     "name": "stdout",
     "output_type": "stream",
     "text": [
      "  (Applause)    (Music)    (Applause)  \n",
      "  Let's just get started here.    Okay, just a moment.    (Whirring)    All right. (Laughter) Oh, sorry.    (Music) (Beatboxing)    Thank you.    (Applause)  \n",
      "  (Music)    (Applause)    (Music)    (Music) (Applause)    (Music) (Applause) (Applause)    Herbie Hancock: Thank you. Marcus Miller. (Applause) Harvey Mason. (Applause)    Thank you. Thank you very much. (Applause)  \n",
      "  (Music)    (Applause)    (Music)    (Applause)  \n",
      "  (Music)    (Applause)    (Music)    (Applause)    (Music)    (Applause)    (Music)    (Applause)  \n",
      "  (Music)    (Music) (Applause)    (Applause)  \n",
      "  (Guitar music starts)    (Cheers)    (Cheers)    (Music ends)  \n",
      "  (Music)    (Applause)  \n",
      "  (Guitar music starts)    (Music ends)    (Applause)    (Distorted guitar music starts)    (Music ends)    (Applause)    (Ambient/guitar music starts)    (Music ends)    (Applause)  \n"
     ]
    }
   ],
   "source": [
    "for text in texts:\n",
    "    if len(text) < 500:\n",
    "        print(text)"
   ]
  },
  {
   "cell_type": "markdown",
   "metadata": {},
   "source": [
    "To get a list of the indices for the texts, substitute `texts.index(text)` for `text` as follows:\n",
    "\n",
    "```python\n",
    "for text in texts:\n",
    "    if len(text) < 500:\n",
    "        print(texts.index(text))\n",
    "```\n",
    "\n",
    "Here is the same thing in a list comprehension:"
   ]
  },
  {
   "cell_type": "code",
   "execution_count": 7,
   "metadata": {},
   "outputs": [
    {
     "name": "stdout",
     "output_type": "stream",
     "text": [
      "[113, 235, 382, 496, 573, 799, 899, 1484, 1564]\n"
     ]
    }
   ],
   "source": [
    "shorts = [ texts.index(text) for text in texts if len(text) < 500 ]\n",
    "print(shorts)"
   ]
  },
  {
   "cell_type": "markdown",
   "metadata": {},
   "source": [
    "When it comes time to process words in a text, our best bet will be to remove the parentheticals, though, having them means we can possibly explore sentiment using `(Applause)` and `(Laughter)` as contextual valuations.\n",
    "\n",
    "For now, we will need some regex to remove the parentheses and their contents from our texts. An examination of `113` above reveals that it is only three parenthetical expressions:\n",
    "\n",
    "    (Applause)    (Music)    (Applause)\n",
    "\n",
    "We need a sample text that is a mix, and so we will use `235`:"
   ]
  },
  {
   "cell_type": "code",
   "execution_count": 18,
   "metadata": {
    "scrolled": true
   },
   "outputs": [
    {
     "name": "stdout",
     "output_type": "stream",
     "text": [
      "  Let's just get started here.    Okay, just a moment.    (Whirring)    All right. (Laughter) Oh, sorry.    (Music) (Beatboxing)    Thank you.    (Applause)  \n"
     ]
    }
   ],
   "source": [
    "print(texts[235])"
   ]
  },
  {
   "cell_type": "markdown",
   "metadata": {},
   "source": [
    "Two different regexes give us one list without the parentheses and one with:"
   ]
  },
  {
   "cell_type": "code",
   "execution_count": 26,
   "metadata": {},
   "outputs": [
    {
     "name": "stdout",
     "output_type": "stream",
     "text": [
      "['Whirring', 'Laughter', 'Music', 'Beatboxing', 'Applause']\n",
      "['(Whirring)', '(Laughter)', '(Music)', '(Beatboxing)', '(Applause)']\n"
     ]
    }
   ],
   "source": [
    "print(re.findall(r'(?<=\\().*?(?=\\))', texts[235]))\n",
    "print(re.findall(r'\\([^)]*\\)', texts[235]))"
   ]
  },
  {
   "cell_type": "markdown",
   "metadata": {},
   "source": [
    "We could use sklearn's count vectorizer to catch only these texts!"
   ]
  },
  {
   "cell_type": "code",
   "execution_count": 28,
   "metadata": {},
   "outputs": [],
   "source": [
    "from sklearn.feature_extraction.text import CountVectorizer"
   ]
  },
  {
   "cell_type": "code",
   "execution_count": 29,
   "metadata": {},
   "outputs": [
    {
     "data": {
      "text/plain": [
       "(10, 6)"
      ]
     },
     "execution_count": 29,
     "metadata": {},
     "output_type": "execute_result"
    }
   ],
   "source": [
    "vec = CountVectorizer(token_pattern = r'(?<=\\().*?(?=\\))')\n",
    "X = vec.fit_transform(texts[230:240])\n",
    "X.shape"
   ]
  },
  {
   "cell_type": "code",
   "execution_count": 31,
   "metadata": {
    "scrolled": true
   },
   "outputs": [
    {
     "data": {
      "text/html": [
       "<div>\n",
       "<style scoped>\n",
       "    .dataframe tbody tr th:only-of-type {\n",
       "        vertical-align: middle;\n",
       "    }\n",
       "\n",
       "    .dataframe tbody tr th {\n",
       "        vertical-align: top;\n",
       "    }\n",
       "\n",
       "    .dataframe thead th {\n",
       "        text-align: right;\n",
       "    }\n",
       "</style>\n",
       "<table border=\"1\" class=\"dataframe\">\n",
       "  <thead>\n",
       "    <tr style=\"text-align: right;\">\n",
       "      <th></th>\n",
       "      <th>applause</th>\n",
       "      <th>beatboxing</th>\n",
       "      <th>laugher</th>\n",
       "      <th>laughter</th>\n",
       "      <th>music</th>\n",
       "      <th>whirring</th>\n",
       "    </tr>\n",
       "  </thead>\n",
       "  <tbody>\n",
       "    <tr>\n",
       "      <th>230</th>\n",
       "      <td>1</td>\n",
       "      <td>0</td>\n",
       "      <td>0</td>\n",
       "      <td>2</td>\n",
       "      <td>0</td>\n",
       "      <td>0</td>\n",
       "    </tr>\n",
       "    <tr>\n",
       "      <th>231</th>\n",
       "      <td>0</td>\n",
       "      <td>0</td>\n",
       "      <td>0</td>\n",
       "      <td>0</td>\n",
       "      <td>0</td>\n",
       "      <td>0</td>\n",
       "    </tr>\n",
       "    <tr>\n",
       "      <th>232</th>\n",
       "      <td>3</td>\n",
       "      <td>0</td>\n",
       "      <td>0</td>\n",
       "      <td>10</td>\n",
       "      <td>7</td>\n",
       "      <td>0</td>\n",
       "    </tr>\n",
       "    <tr>\n",
       "      <th>233</th>\n",
       "      <td>3</td>\n",
       "      <td>0</td>\n",
       "      <td>1</td>\n",
       "      <td>10</td>\n",
       "      <td>0</td>\n",
       "      <td>0</td>\n",
       "    </tr>\n",
       "    <tr>\n",
       "      <th>234</th>\n",
       "      <td>0</td>\n",
       "      <td>0</td>\n",
       "      <td>0</td>\n",
       "      <td>9</td>\n",
       "      <td>0</td>\n",
       "      <td>0</td>\n",
       "    </tr>\n",
       "    <tr>\n",
       "      <th>235</th>\n",
       "      <td>1</td>\n",
       "      <td>1</td>\n",
       "      <td>0</td>\n",
       "      <td>1</td>\n",
       "      <td>1</td>\n",
       "      <td>1</td>\n",
       "    </tr>\n",
       "    <tr>\n",
       "      <th>236</th>\n",
       "      <td>3</td>\n",
       "      <td>0</td>\n",
       "      <td>0</td>\n",
       "      <td>12</td>\n",
       "      <td>0</td>\n",
       "      <td>0</td>\n",
       "    </tr>\n",
       "    <tr>\n",
       "      <th>237</th>\n",
       "      <td>0</td>\n",
       "      <td>0</td>\n",
       "      <td>0</td>\n",
       "      <td>2</td>\n",
       "      <td>0</td>\n",
       "      <td>0</td>\n",
       "    </tr>\n",
       "    <tr>\n",
       "      <th>238</th>\n",
       "      <td>1</td>\n",
       "      <td>0</td>\n",
       "      <td>0</td>\n",
       "      <td>6</td>\n",
       "      <td>0</td>\n",
       "      <td>0</td>\n",
       "    </tr>\n",
       "    <tr>\n",
       "      <th>239</th>\n",
       "      <td>1</td>\n",
       "      <td>0</td>\n",
       "      <td>0</td>\n",
       "      <td>25</td>\n",
       "      <td>0</td>\n",
       "      <td>0</td>\n",
       "    </tr>\n",
       "  </tbody>\n",
       "</table>\n",
       "</div>"
      ],
      "text/plain": [
       "     applause  beatboxing  laugher  laughter  music  whirring\n",
       "230         1           0        0         2      0         0\n",
       "231         0           0        0         0      0         0\n",
       "232         3           0        0        10      7         0\n",
       "233         3           0        1        10      0         0\n",
       "234         0           0        0         9      0         0\n",
       "235         1           1        0         1      1         1\n",
       "236         3           0        0        12      0         0\n",
       "237         0           0        0         2      0         0\n",
       "238         1           0        0         6      0         0\n",
       "239         1           0        0        25      0         0"
      ]
     },
     "execution_count": 31,
     "metadata": {},
     "output_type": "execute_result"
    }
   ],
   "source": [
    "df = pd.DataFrame(X.toarray(), columns=vec.get_feature_names())\n",
    "df.index = [ texts.index(text) for text in texts[230:240] ]\n",
    "df.head(10)"
   ]
  },
  {
   "cell_type": "code",
   "execution_count": 33,
   "metadata": {},
   "outputs": [
    {
     "data": {
      "text/plain": [
       "(1747, 620)"
      ]
     },
     "execution_count": 33,
     "metadata": {},
     "output_type": "execute_result"
    }
   ],
   "source": [
    "parentheticals = vec.fit_transform(texts)\n",
    "parentheticals.shape"
   ]
  },
  {
   "cell_type": "code",
   "execution_count": 36,
   "metadata": {
    "scrolled": false
   },
   "outputs": [
    {
     "data": {
      "text/html": [
       "<div>\n",
       "<style scoped>\n",
       "    .dataframe tbody tr th:only-of-type {\n",
       "        vertical-align: middle;\n",
       "    }\n",
       "\n",
       "    .dataframe tbody tr th {\n",
       "        vertical-align: top;\n",
       "    }\n",
       "\n",
       "    .dataframe thead th {\n",
       "        text-align: right;\n",
       "    }\n",
       "</style>\n",
       "<table border=\"1\" class=\"dataframe\">\n",
       "  <thead>\n",
       "    <tr style=\"text-align: right;\">\n",
       "      <th></th>\n",
       "      <th>\"actually about ... 1%\"</th>\n",
       "      <th>\"although it's nothing serious, let's keep an eye on it to make sure it doesn't turn into a major lawsuit.\"</th>\n",
       "      <th>\"close it!\"</th>\n",
       "      <th>\"do architects have ears?\"</th>\n",
       "      <th>\"i sold my soul for about a tenth of what the damn things are going for now.\"</th>\n",
       "      <th>\"in order to remain competitive in today's marketplace, i'm afraid we're going to have to replace you with a sleezeball.\"</th>\n",
       "      <th>\"intrigue and murder among 16th century ottoman court painters.\"</th>\n",
       "      <th>\"kill him.\"</th>\n",
       "      <th>\"michael crichton responds by fax:\"</th>\n",
       "      <th>\"sure\"</th>\n",
       "      <th>...</th>\n",
       "      <th>whistling</th>\n",
       "      <th>whoosh</th>\n",
       "      <th>with 4 attempts</th>\n",
       "      <th>woman screaming</th>\n",
       "      <th>woman: have you ever done a kissing test before?</th>\n",
       "      <th>woman: okay.</th>\n",
       "      <th>woo-hoo-hoo-hoo</th>\n",
       "      <th>xylophone</th>\n",
       "      <th>yelling more loudly</th>\n",
       "      <th>your fathers bristles white and stiff now</th>\n",
       "    </tr>\n",
       "  </thead>\n",
       "  <tbody>\n",
       "    <tr>\n",
       "      <th>0</th>\n",
       "      <td>0</td>\n",
       "      <td>0</td>\n",
       "      <td>0</td>\n",
       "      <td>0</td>\n",
       "      <td>0</td>\n",
       "      <td>0</td>\n",
       "      <td>0</td>\n",
       "      <td>0</td>\n",
       "      <td>0</td>\n",
       "      <td>0</td>\n",
       "      <td>...</td>\n",
       "      <td>0</td>\n",
       "      <td>0</td>\n",
       "      <td>0</td>\n",
       "      <td>0</td>\n",
       "      <td>0</td>\n",
       "      <td>0</td>\n",
       "      <td>0</td>\n",
       "      <td>0</td>\n",
       "      <td>0</td>\n",
       "      <td>0</td>\n",
       "    </tr>\n",
       "    <tr>\n",
       "      <th>1</th>\n",
       "      <td>0</td>\n",
       "      <td>0</td>\n",
       "      <td>0</td>\n",
       "      <td>0</td>\n",
       "      <td>0</td>\n",
       "      <td>0</td>\n",
       "      <td>0</td>\n",
       "      <td>0</td>\n",
       "      <td>0</td>\n",
       "      <td>0</td>\n",
       "      <td>...</td>\n",
       "      <td>0</td>\n",
       "      <td>0</td>\n",
       "      <td>0</td>\n",
       "      <td>0</td>\n",
       "      <td>0</td>\n",
       "      <td>0</td>\n",
       "      <td>0</td>\n",
       "      <td>0</td>\n",
       "      <td>0</td>\n",
       "      <td>0</td>\n",
       "    </tr>\n",
       "    <tr>\n",
       "      <th>2</th>\n",
       "      <td>0</td>\n",
       "      <td>0</td>\n",
       "      <td>0</td>\n",
       "      <td>0</td>\n",
       "      <td>0</td>\n",
       "      <td>0</td>\n",
       "      <td>0</td>\n",
       "      <td>0</td>\n",
       "      <td>0</td>\n",
       "      <td>0</td>\n",
       "      <td>...</td>\n",
       "      <td>0</td>\n",
       "      <td>0</td>\n",
       "      <td>0</td>\n",
       "      <td>0</td>\n",
       "      <td>0</td>\n",
       "      <td>0</td>\n",
       "      <td>0</td>\n",
       "      <td>0</td>\n",
       "      <td>0</td>\n",
       "      <td>0</td>\n",
       "    </tr>\n",
       "    <tr>\n",
       "      <th>3</th>\n",
       "      <td>0</td>\n",
       "      <td>0</td>\n",
       "      <td>0</td>\n",
       "      <td>0</td>\n",
       "      <td>0</td>\n",
       "      <td>0</td>\n",
       "      <td>0</td>\n",
       "      <td>0</td>\n",
       "      <td>0</td>\n",
       "      <td>0</td>\n",
       "      <td>...</td>\n",
       "      <td>0</td>\n",
       "      <td>0</td>\n",
       "      <td>0</td>\n",
       "      <td>0</td>\n",
       "      <td>0</td>\n",
       "      <td>0</td>\n",
       "      <td>0</td>\n",
       "      <td>0</td>\n",
       "      <td>0</td>\n",
       "      <td>0</td>\n",
       "    </tr>\n",
       "    <tr>\n",
       "      <th>4</th>\n",
       "      <td>0</td>\n",
       "      <td>0</td>\n",
       "      <td>0</td>\n",
       "      <td>0</td>\n",
       "      <td>0</td>\n",
       "      <td>0</td>\n",
       "      <td>0</td>\n",
       "      <td>0</td>\n",
       "      <td>0</td>\n",
       "      <td>0</td>\n",
       "      <td>...</td>\n",
       "      <td>0</td>\n",
       "      <td>0</td>\n",
       "      <td>0</td>\n",
       "      <td>0</td>\n",
       "      <td>0</td>\n",
       "      <td>0</td>\n",
       "      <td>0</td>\n",
       "      <td>0</td>\n",
       "      <td>0</td>\n",
       "      <td>0</td>\n",
       "    </tr>\n",
       "    <tr>\n",
       "      <th>5</th>\n",
       "      <td>0</td>\n",
       "      <td>0</td>\n",
       "      <td>0</td>\n",
       "      <td>0</td>\n",
       "      <td>0</td>\n",
       "      <td>0</td>\n",
       "      <td>0</td>\n",
       "      <td>0</td>\n",
       "      <td>0</td>\n",
       "      <td>0</td>\n",
       "      <td>...</td>\n",
       "      <td>0</td>\n",
       "      <td>0</td>\n",
       "      <td>0</td>\n",
       "      <td>0</td>\n",
       "      <td>0</td>\n",
       "      <td>0</td>\n",
       "      <td>0</td>\n",
       "      <td>0</td>\n",
       "      <td>0</td>\n",
       "      <td>0</td>\n",
       "    </tr>\n",
       "    <tr>\n",
       "      <th>6</th>\n",
       "      <td>0</td>\n",
       "      <td>0</td>\n",
       "      <td>0</td>\n",
       "      <td>0</td>\n",
       "      <td>0</td>\n",
       "      <td>0</td>\n",
       "      <td>0</td>\n",
       "      <td>0</td>\n",
       "      <td>0</td>\n",
       "      <td>0</td>\n",
       "      <td>...</td>\n",
       "      <td>0</td>\n",
       "      <td>0</td>\n",
       "      <td>0</td>\n",
       "      <td>0</td>\n",
       "      <td>0</td>\n",
       "      <td>0</td>\n",
       "      <td>0</td>\n",
       "      <td>0</td>\n",
       "      <td>0</td>\n",
       "      <td>0</td>\n",
       "    </tr>\n",
       "    <tr>\n",
       "      <th>7</th>\n",
       "      <td>0</td>\n",
       "      <td>0</td>\n",
       "      <td>0</td>\n",
       "      <td>0</td>\n",
       "      <td>0</td>\n",
       "      <td>0</td>\n",
       "      <td>0</td>\n",
       "      <td>0</td>\n",
       "      <td>0</td>\n",
       "      <td>0</td>\n",
       "      <td>...</td>\n",
       "      <td>0</td>\n",
       "      <td>0</td>\n",
       "      <td>0</td>\n",
       "      <td>0</td>\n",
       "      <td>0</td>\n",
       "      <td>0</td>\n",
       "      <td>0</td>\n",
       "      <td>0</td>\n",
       "      <td>0</td>\n",
       "      <td>0</td>\n",
       "    </tr>\n",
       "    <tr>\n",
       "      <th>8</th>\n",
       "      <td>0</td>\n",
       "      <td>0</td>\n",
       "      <td>0</td>\n",
       "      <td>0</td>\n",
       "      <td>0</td>\n",
       "      <td>0</td>\n",
       "      <td>0</td>\n",
       "      <td>0</td>\n",
       "      <td>0</td>\n",
       "      <td>0</td>\n",
       "      <td>...</td>\n",
       "      <td>0</td>\n",
       "      <td>0</td>\n",
       "      <td>0</td>\n",
       "      <td>0</td>\n",
       "      <td>0</td>\n",
       "      <td>0</td>\n",
       "      <td>0</td>\n",
       "      <td>0</td>\n",
       "      <td>0</td>\n",
       "      <td>0</td>\n",
       "    </tr>\n",
       "    <tr>\n",
       "      <th>9</th>\n",
       "      <td>0</td>\n",
       "      <td>0</td>\n",
       "      <td>0</td>\n",
       "      <td>0</td>\n",
       "      <td>0</td>\n",
       "      <td>0</td>\n",
       "      <td>0</td>\n",
       "      <td>0</td>\n",
       "      <td>0</td>\n",
       "      <td>0</td>\n",
       "      <td>...</td>\n",
       "      <td>0</td>\n",
       "      <td>0</td>\n",
       "      <td>0</td>\n",
       "      <td>0</td>\n",
       "      <td>0</td>\n",
       "      <td>0</td>\n",
       "      <td>0</td>\n",
       "      <td>0</td>\n",
       "      <td>0</td>\n",
       "      <td>0</td>\n",
       "    </tr>\n",
       "  </tbody>\n",
       "</table>\n",
       "<p>10 rows × 620 columns</p>\n",
       "</div>"
      ],
      "text/plain": [
       "   \"actually about ... 1%\"  \\\n",
       "0                        0   \n",
       "1                        0   \n",
       "2                        0   \n",
       "3                        0   \n",
       "4                        0   \n",
       "5                        0   \n",
       "6                        0   \n",
       "7                        0   \n",
       "8                        0   \n",
       "9                        0   \n",
       "\n",
       "   \"although it's nothing serious, let's keep an eye on it to make sure it doesn't turn into a major lawsuit.\"  \\\n",
       "0                                                  0                                                             \n",
       "1                                                  0                                                             \n",
       "2                                                  0                                                             \n",
       "3                                                  0                                                             \n",
       "4                                                  0                                                             \n",
       "5                                                  0                                                             \n",
       "6                                                  0                                                             \n",
       "7                                                  0                                                             \n",
       "8                                                  0                                                             \n",
       "9                                                  0                                                             \n",
       "\n",
       "   \"close it!\"  \"do architects have ears?\"  \\\n",
       "0            0                           0   \n",
       "1            0                           0   \n",
       "2            0                           0   \n",
       "3            0                           0   \n",
       "4            0                           0   \n",
       "5            0                           0   \n",
       "6            0                           0   \n",
       "7            0                           0   \n",
       "8            0                           0   \n",
       "9            0                           0   \n",
       "\n",
       "   \"i sold my soul for about a tenth of what the damn things are going for now.\"  \\\n",
       "0                                                  0                               \n",
       "1                                                  0                               \n",
       "2                                                  0                               \n",
       "3                                                  0                               \n",
       "4                                                  0                               \n",
       "5                                                  0                               \n",
       "6                                                  0                               \n",
       "7                                                  0                               \n",
       "8                                                  0                               \n",
       "9                                                  0                               \n",
       "\n",
       "   \"in order to remain competitive in today's marketplace, i'm afraid we're going to have to replace you with a sleezeball.\"  \\\n",
       "0                                                  0                                                                           \n",
       "1                                                  0                                                                           \n",
       "2                                                  0                                                                           \n",
       "3                                                  0                                                                           \n",
       "4                                                  0                                                                           \n",
       "5                                                  0                                                                           \n",
       "6                                                  0                                                                           \n",
       "7                                                  0                                                                           \n",
       "8                                                  0                                                                           \n",
       "9                                                  0                                                                           \n",
       "\n",
       "   \"intrigue and murder among 16th century ottoman court painters.\"  \\\n",
       "0                                                  0                  \n",
       "1                                                  0                  \n",
       "2                                                  0                  \n",
       "3                                                  0                  \n",
       "4                                                  0                  \n",
       "5                                                  0                  \n",
       "6                                                  0                  \n",
       "7                                                  0                  \n",
       "8                                                  0                  \n",
       "9                                                  0                  \n",
       "\n",
       "   \"kill him.\"  \"michael crichton responds by fax:\"  \"sure\"  ...  whistling  \\\n",
       "0            0                                    0       0  ...          0   \n",
       "1            0                                    0       0  ...          0   \n",
       "2            0                                    0       0  ...          0   \n",
       "3            0                                    0       0  ...          0   \n",
       "4            0                                    0       0  ...          0   \n",
       "5            0                                    0       0  ...          0   \n",
       "6            0                                    0       0  ...          0   \n",
       "7            0                                    0       0  ...          0   \n",
       "8            0                                    0       0  ...          0   \n",
       "9            0                                    0       0  ...          0   \n",
       "\n",
       "   whoosh  with 4 attempts  woman screaming  \\\n",
       "0       0                0                0   \n",
       "1       0                0                0   \n",
       "2       0                0                0   \n",
       "3       0                0                0   \n",
       "4       0                0                0   \n",
       "5       0                0                0   \n",
       "6       0                0                0   \n",
       "7       0                0                0   \n",
       "8       0                0                0   \n",
       "9       0                0                0   \n",
       "\n",
       "   woman: have you ever done a kissing test before?  woman: okay.  \\\n",
       "0                                                 0             0   \n",
       "1                                                 0             0   \n",
       "2                                                 0             0   \n",
       "3                                                 0             0   \n",
       "4                                                 0             0   \n",
       "5                                                 0             0   \n",
       "6                                                 0             0   \n",
       "7                                                 0             0   \n",
       "8                                                 0             0   \n",
       "9                                                 0             0   \n",
       "\n",
       "   woo-hoo-hoo-hoo  xylophone  yelling more loudly  \\\n",
       "0                0          0                    0   \n",
       "1                0          0                    0   \n",
       "2                0          0                    0   \n",
       "3                0          0                    0   \n",
       "4                0          0                    0   \n",
       "5                0          0                    0   \n",
       "6                0          0                    0   \n",
       "7                0          0                    0   \n",
       "8                0          0                    0   \n",
       "9                0          0                    0   \n",
       "\n",
       "   your fathers bristles white and stiff now  \n",
       "0                                          0  \n",
       "1                                          0  \n",
       "2                                          0  \n",
       "3                                          0  \n",
       "4                                          0  \n",
       "5                                          0  \n",
       "6                                          0  \n",
       "7                                          0  \n",
       "8                                          0  \n",
       "9                                          0  \n",
       "\n",
       "[10 rows x 620 columns]"
      ]
     },
     "execution_count": 36,
     "metadata": {},
     "output_type": "execute_result"
    }
   ],
   "source": [
    "df_parens = pd.DataFrame(parentheticals.toarray(), columns=vec.get_feature_names())\n",
    "df_parens.index = [ texts.index(text) for text in texts ]\n",
    "df_parens.head(10)"
   ]
  },
  {
   "cell_type": "markdown",
   "metadata": {},
   "source": [
    "Sigh, more TED randomness. Let's determine the top parentheticals, take a look at their numbers, and then decide what's the best path:"
   ]
  },
  {
   "cell_type": "code",
   "execution_count": 49,
   "metadata": {
    "scrolled": false
   },
   "outputs": [
    {
     "data": {
      "text/plain": [
       "laughter            7275\n",
       "applause            4271\n",
       "music                424\n",
       "video                269\n",
       "laughs                41\n",
       "applause ends         37\n",
       "audio                 37\n",
       "singing               35\n",
       "music ends            33\n",
       "cheers                30\n",
       "cheering              21\n",
       "recording             19\n",
       "beatboxing            18\n",
       "audience              15\n",
       "guitar strum          14\n",
       "clicks metronome      13\n",
       "sighs                 13\n",
       "guitar                13\n",
       "marimba sounds        10\n",
       "drum sounds           10\n",
       "clicking               8\n",
       "sings                  8\n",
       "voice-over             8\n",
       "in chinese             7\n",
       "clapping               7\n",
       "dtype: int64"
      ]
     },
     "execution_count": 49,
     "metadata": {},
     "output_type": "execute_result"
    }
   ],
   "source": [
    "sums = df_parens.sum(axis = 0)\n",
    "sums.sort_values(ascending=False).head(25)"
   ]
  },
  {
   "cell_type": "markdown",
   "metadata": {},
   "source": [
    "Based on these results, the top 20 parentheticals could be inserted into a stopword list and we would remove, in the case of the top 4 especially, words or clauses that might affect results."
   ]
  },
  {
   "cell_type": "markdown",
   "metadata": {},
   "source": [
    "## Revised Frequencies without Parentheticals"
   ]
  },
  {
   "cell_type": "markdown",
   "metadata": {},
   "source": [
    "### Experiment 1"
   ]
  },
  {
   "cell_type": "markdown",
   "metadata": {},
   "source": [
    "For now, without better regex-fu, we are going to filter the texts and then pass them onto the vectorizer:"
   ]
  },
  {
   "cell_type": "code",
   "execution_count": null,
   "metadata": {},
   "outputs": [],
   "source": [
    "# For more information on what these steps do, see the cell in Frequencies above.\n",
    "vec = CountVectorizer(token_pattern=r'(?<=\\().*?(?=\\))')\n",
    "X2 = vec.fit_transform(texts[235:237])\n",
    "X2.shape\n",
    "\n",
    "pd.DataFrame(X.toarray(), columns=vec.get_feature_names())\n",
    "\n",
    "# Here's what the texts look like unfiltered:\n",
    "for text in texts[235:237]:\n",
    "    print(text[0:80])\n",
    "\n",
    "# Here's the filter:\n",
    "for text in texts[235:237]:\n",
    "    retext = re.sub(r'\\([^)]*\\)', ' ', text)\n",
    "    print(retext[0:80])\n",
    "\n",
    "# This is a quick check of the list comprehension:\n",
    "retexts = [ re.sub(r'\\([^)]*\\)', ' ', text) for text in texts[235:237]]\n",
    "\n",
    "for text in retexts:\n",
    "    print(text[0:80])\n",
    "\n",
    "# Everything above in one compact block:\n",
    "\n",
    "# Filter texts to remove parentheticals\n",
    "retexts = [ re.sub(r'\\([^)]*\\)', ' ', text) for text in texts ]\n",
    "# Load and run the vectorizer\n",
    "vec1 = CountVectorizer()\n",
    "X1 = vec.fit_transform(retexts)\n",
    "X1.shape\n",
    "\n",
    "# with open('../output/word_freq_noparens.csv','w') as out:\n",
    "#     csv_out = csv.writer(out)\n",
    "#     csv_out.writerow(['word','count'])\n",
    "#     for row in words_freq:\n",
    "#         csv_out.writerow(row)"
   ]
  },
  {
   "cell_type": "markdown",
   "metadata": {},
   "source": [
    "We have not dropped that many words: `50379 - 50316 = 63`, but we have removed words that were not spoken by the speakers. We now have a finished freqency count with which to begin the rest of our work. The cell below was used to write a new CSV -- it is commented out so that should anyone choose the \"run all\" option, then there won't be a danger of the files getting over-written. "
   ]
  },
  {
   "cell_type": "markdown",
   "metadata": {},
   "source": [
    "### Experiment 2"
   ]
  },
  {
   "cell_type": "markdown",
   "metadata": {},
   "source": [
    "Further experiments in the parentheticals notebook (01-Terms-02-Parentheticals), revealed that there is a a reasonable amount of speaker discourse being parenthesized, making removing all such parenthetical material less than optimal. However, the parentheticals appear to follow a Zipf distribution, and so we can effectively remove 80% of the parentheticals with a relatively small number of them fed to the vectorizer as stop words -- we will need to do so in a pre-processing step."
   ]
  },
  {
   "cell_type": "code",
   "execution_count": 1,
   "metadata": {},
   "outputs": [
    {
     "data": {
      "text/plain": [
       "20"
      ]
     },
     "execution_count": 1,
     "metadata": {},
     "output_type": "execute_result"
    }
   ],
   "source": [
    "stopped_parens = [ \"(laughter)\", \"(applause)\", \"(music)\", \"(video)\", \"(laughs)\", \n",
    "                  \"(applause ends)\", \"(audio)\", \"(singing)\", \"(music ends)\", \"(cheers)\", \n",
    "                  \"(cheering)\", \"(recording)\", \"(beatboxing)\", \"(audience)\", \n",
    "                  \"(guitar strum)\", \"(clicks metronome)\", \"(sighs)\", \"(guitar)\", \n",
    "                  \"(marimba sounds)\", \"(drum sounds)\" ]\n",
    "len(stopped_parens)"
   ]
  },
  {
   "cell_type": "markdown",
   "metadata": {},
   "source": [
    "Success in this small-scale experiment here: `(laughter)` has been removed and `(whirring)` remains. We will scale this up now to the entirety of the corpus. \n",
    "\n",
    "First, we work out what code will give us the results we want and then, in the next cell, we use it with the vectorizer. (José Blanco has a post on _Towards Data Science_ on [\"Hacking Scikit-Learn’s Vectorizers\"](https://towardsdatascience.com/hacking-scikit-learns-vectorizers-9ef26a7170af).)"
   ]
  },
  {
   "cell_type": "code",
   "execution_count": null,
   "metadata": {},
   "outputs": [],
   "source": [
    "def paren_cleanse (text):\n",
    "    result = ' '.join([ word for word in re.sub(\"[^a-zA-Z0-9'()]\",\" \", text).lower().split() \n",
    "              if word not in stopped_parens ])\n",
    "    return result\n",
    "\n",
    "clean_texts = [ paren_cleanse(text) for text in texts]\n",
    "print(clean_texts[0][0:200])"
   ]
  },
  {
   "cell_type": "markdown",
   "metadata": {},
   "source": [
    "'(mock', 'sob)'` is problematic. And, also a bit of a problem, `sklearn` expects input as strings -- I have not found a way to bypass this, save writing custom preprocessors or tokenizers, *à la*:\n",
    "\n",
    "```python\n",
    "def paren_cleanse(text):\n",
    "    return(\" \".join([ word for word in re.sub(\"[^a-zA-Z0-9'()]\",\" \", text.lower())\n",
    "              if word not in stopped_parens ]))\n",
    "\n",
    "vec3 = CountVectorizer(preprocessor = paren_cleanse)\n",
    "```\n",
    "\n",
    "A simpler approach might be to feed the vectorizer the stopped parenthetical tokens -- we do not know where the words are being removed in the process, and so one of the things will be to check the count of a word like laughter to see if its count decreased from one feature set to another."
   ]
  },
  {
   "cell_type": "code",
   "execution_count": null,
   "metadata": {},
   "outputs": [],
   "source": []
  }
 ],
 "metadata": {
  "kernelspec": {
   "display_name": "Python 3",
   "language": "python",
   "name": "python3"
  },
  "language_info": {
   "codemirror_mode": {
    "name": "ipython",
    "version": 3
   },
   "file_extension": ".py",
   "mimetype": "text/x-python",
   "name": "python",
   "nbconvert_exporter": "python",
   "pygments_lexer": "ipython3",
   "version": "3.8.2"
  },
  "toc": {
   "base_numbering": 1,
   "nav_menu": {},
   "number_sections": true,
   "sideBar": true,
   "skip_h1_title": true,
   "title_cell": "",
   "title_sidebar": "Contents",
   "toc_cell": true,
   "toc_position": 2,
   "toc_section_display": true,
   "toc_window_display": false
  }
 },
 "nbformat": 4,
 "nbformat_minor": 2
}
