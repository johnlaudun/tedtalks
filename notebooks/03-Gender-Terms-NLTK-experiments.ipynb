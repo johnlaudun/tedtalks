{
 "cells": [
  {
   "cell_type": "code",
   "execution_count": 1,
   "metadata": {},
   "outputs": [],
   "source": [
    "# IMPORTS\n",
    "import re \n",
    "import nltk\n",
    "import numpy as np, pandas as pd\n",
    "from sklearn.feature_extraction.text import CountVectorizer"
   ]
  },
  {
   "cell_type": "code",
   "execution_count": 2,
   "metadata": {},
   "outputs": [],
   "source": [
    "# If needed\n",
    "parentheticals = [ \"\\(laughter\\)\", \"\\(applause\\)\", \"\\(music\\)\",  \n",
    "                  \"\\(video\\)\", \"\\(laughs\\)\", \"\\(applause ends\\)\", \n",
    "                  \"\\(audio\\)\", \"\\(singing\\)\", \"\\(music ends\\)\", \n",
    "                  \"\\(cheers\\)\", \"\\(cheering\\)\", \"\\(recording\\)\", \n",
    "                  \"\\(beatboxing\\)\", \"\\(audience\\)\", \"\\(guitar strum\\)\", \n",
    "                  \"\\(clicks metronome\\)\", \"\\(sighs\\)\", \"\\(guitar\\)\", \n",
    "                  \"\\(marimba sounds\\)\", \"\\(drum sounds\\)\" ]\n",
    "\n",
    "def remove_parentheticals(text):\n",
    "    global parentheticals\n",
    "    new_text = text\n",
    "    for rgx_match in parentheticals:\n",
    "        new_text = re.sub(rgx_match, ' ', new_text.lower(), \n",
    "                          flags=re.IGNORECASE)\n",
    "    return new_text"
   ]
  },
  {
   "cell_type": "code",
   "execution_count": 37,
   "metadata": {},
   "outputs": [
    {
     "name": "stdout",
     "output_type": "stream",
     "text": [
      "From our 992x14 CSV, we have a list of 992 talks.\n"
     ]
    }
   ],
   "source": [
    "# Loading the Data in a gendered partitioned fashion: \n",
    "talks_m = pd.read_csv('talks_male.csv', index_col='Talk_ID')\n",
    "talks_f = pd.read_csv('talks_female.csv', index_col='Talk_ID')\n",
    "talks_nog = pd.read_csv('talks_nog.csv', index_col='Talk_ID')\n",
    "talks_all = pd.concat([talks_m, talks_f, talks_nog])\n",
    "\n",
    "# And then grabbing on the texts of the talks:\n",
    "texts = talks_all.text.tolist()\n",
    "\n",
    "print(f\"From our {talks_all.shape[0]}x{talks_all.shape[1]} CSV, \\\n",
    "we have a list of {len(texts)} talks.\")"
   ]
  },
  {
   "cell_type": "markdown",
   "metadata": {},
   "source": [
    "# Tokenization\n",
    "\n",
    "From the Terms notebook we know that tokenizers matter:\n",
    "\n",
    "| METHOD | WORD COUNT | UNIQUE TOKENS |\n",
    "| -------|------------|---------------|\n",
    "| regex  |      2146  |       727     |\n",
    "| nltk words  |  2576 |       725     |\n",
    "| nltk wpunct | 2686  |        --     |\n",
    "| scikit |      2035  |       711     |\n",
    "\n",
    "One of the key differences between the regex and NLTK tokenizers is that the former keeps contractions together while the latter breaks them into constituent, if also somewhat odd, lexicographical units, e.g. *can't* becomes *ca* and *n't*. For now, we are going to use the regex. Later, we may find we need to switch.\n",
    "\n",
    "For comparison, the code looks like this:\n",
    "\n",
    "```python\n",
    "# REGEX\n",
    "regex = [word for word in re.sub(\"[^a-zA-Z']\",\" \", texts[0]).lower().split()]\n",
    "\n",
    "# NLTK\n",
    "w_tokens = [word.lower() for word in nltk.word_tokenize(texts[0])]\n",
    "wp_tokens = [word.lower() for word in nltk.wordpunct_tokenize(texts[0])]\n",
    "```\n",
    "\n",
    "To make it easier, we are going to convert the regex line into a function."
   ]
  },
  {
   "cell_type": "code",
   "execution_count": 26,
   "metadata": {},
   "outputs": [],
   "source": [
    "corpus = nltk.text.Text(nltk.Text(re.sub(\"[^a-zA-Z0-9']\",\" \",'\\n'.join(texts)).split()))"
   ]
  },
  {
   "cell_type": "markdown",
   "metadata": {},
   "source": [
    "## Concordance\n",
    "\n",
    "- For multi-word phrases pass a list: `text.concordance([\"monstrous\", \"size\"])`"
   ]
  },
  {
   "cell_type": "code",
   "execution_count": 27,
   "metadata": {},
   "outputs": [
    {
     "name": "stdout",
     "output_type": "stream",
     "text": [
      "Displaying 25 of 926 matches:\n",
      "t black turtleneck and jeans and he sort of did this The crowd went wild but I \n",
      " studying hunger in Africa so I was sort of expected to know a little about the\n",
      "ferent directions like this so it's sort of difficult to get an example country\n",
      "y comes with what people would call sort of a rational conclusion to something \n",
      "High modernists said we will create sort of singular spaces that are generic al\n",
      "ng can happen within them I call it sort of shotgun flexibility turn your head \n",
      " design parameters And so with this sort of idea what happens is whatever actua\n",
      "starts to dwarf the possibility and sort of subsume it of anything else could e\n",
      "r technologies This diagram was our sort of position piece about the book and o\n",
      "hat used high modernist flexibility Sort of any activity could happen anywhere \n",
      " back to them they agreed that this sort of core concept could work We got the \n",
      "u'll see a series of five platforms sort of combs collective programs And on th\n",
      "is happening The area in between is sort of an urban continuum these things tha\n",
      " always have its clarity to end the sort of trail of tears that we've all exper\n",
      "th a single building and a credible sort of sub building So this is Louisville'\n",
      " sites So we're starting to build a sort of nightmare of constraints in a batht\n",
      "ain when we unveiled it there was a sort of nervousness that this was about an \n",
      " a series of things So here this is sort of an x ray the towers are totally dev\n",
      "nd combined it in the center in the sort of subway map in the transfer zone tha\n",
      "ards they're domesticated They're a sort of ectosymbiont They depend on us for \n",
      "cow in order to reproduce So it was sort of a spooky story And I think some peo\n",
      "nism here And you can't tell So I'm sort of thinking Well I don't know I don't \n",
      "Devil speaking This discourages the sort of reasoning citizenship it seems to m\n",
      "the world Here's one that shows the sort of current breakdown of the different \n",
      "hurch Good without God becomes zero Sort of cute A very clever little meme I do\n"
     ]
    }
   ],
   "source": [
    "corpus.concordance([\"sort\", \"of\"])"
   ]
  },
  {
   "cell_type": "code",
   "execution_count": 28,
   "metadata": {},
   "outputs": [
    {
     "data": {
      "text/plain": [
       "\"e are these wizards everywhere And you know there's a new version of Windows c\""
      ]
     },
     "execution_count": 28,
     "metadata": {},
     "output_type": "execute_result"
    }
   ],
   "source": [
    "# To save to a list:\n",
    "you_know = corpus.concordance_list([\"you\", \"know\"])\n",
    "you_know[5].line"
   ]
  },
  {
   "cell_type": "code",
   "execution_count": 56,
   "metadata": {},
   "outputs": [
    {
     "name": "stdout",
     "output_type": "stream",
     "text": [
      "you_know is a <class 'list'> with 25 items, each of which looks like this: \n",
      "\n",
      "ConcordanceLine(left=['I', 'add', 'new', 'images', 'because', 'I', 'learn', 'more', 'about', 'it', 'every', 'time', 'I', 'give', 'it', \"It's\", 'like', 'beach', 'combing'], query='you know', right=['Every', 'time', 'the', 'tide', 'comes', 'in', 'and', 'out', 'you', 'find', 'some', 'more', 'shells', 'Just', 'in', 'the', 'last'], offset=844, left_print=\" I give it It's like beach combing\", right_print='Every time the tide comes in and o', line=\" I give it It's like beach combing you know Every time the tide comes in and o\")\n"
     ]
    }
   ],
   "source": [
    "print(f\"you_know is a {type(you_know)} with {len(you_know)} items, each \\\n",
    "of which looks like this: \\n\\n{you_know[0]}\")"
   ]
  },
  {
   "cell_type": "code",
   "execution_count": 29,
   "metadata": {},
   "outputs": [
    {
     "data": {
      "text/plain": [
       "['away',\n",
       " 'it',\n",
       " 'was',\n",
       " 'the',\n",
       " 'MacWorld',\n",
       " 'Expo',\n",
       " 'he',\n",
       " 'came',\n",
       " 'to',\n",
       " 'the',\n",
       " 'stage',\n",
       " 'in',\n",
       " 'that',\n",
       " 'black',\n",
       " 'turtleneck',\n",
       " 'and',\n",
       " 'jeans',\n",
       " 'and',\n",
       " 'he']"
      ]
     },
     "execution_count": 29,
     "metadata": {},
     "output_type": "execute_result"
    }
   ],
   "source": [
    "# To focus on one side or the other:\n",
    "corpus.concordance_list([\"sort\", \"of\"])[0].left"
   ]
  },
  {
   "cell_type": "markdown",
   "metadata": {},
   "source": [
    "## Similarity"
   ]
  },
  {
   "cell_type": "code",
   "execution_count": 47,
   "metadata": {},
   "outputs": [
    {
     "name": "stdout",
     "output_type": "stream",
     "text": [
      "and put make get day call life show give end\n"
     ]
    }
   ],
   "source": [
    "corpus.similar( \"dress\", num = 10 ) # Default number of words is 20."
   ]
  },
  {
   "cell_type": "markdown",
   "metadata": {},
   "source": [
    "## Common Contexts"
   ]
  },
  {
   "cell_type": "code",
   "execution_count": null,
   "metadata": {},
   "outputs": [],
   "source": []
  },
  {
   "cell_type": "markdown",
   "metadata": {},
   "source": [
    "## Collocations"
   ]
  },
  {
   "cell_type": "code",
   "execution_count": 39,
   "metadata": {},
   "outputs": [],
   "source": [
    "texts_f = talks_f.text.tolist()\n",
    "texts_m = talks_m.text.tolist()\n",
    "\n",
    "corp_f = nltk.text.Text(nltk.Text(re.sub(\"[^a-zA-Z0-9']\",\" \",'\\n'.join(texts_f)).split()))\n",
    "corp_m = nltk.text.Text(nltk.Text(re.sub(\"[^a-zA-Z0-9']\",\" \",'\\n'.join(texts_m)).split()))"
   ]
  },
  {
   "cell_type": "code",
   "execution_count": 40,
   "metadata": {},
   "outputs": [
    {
     "name": "stdout",
     "output_type": "stream",
     "text": [
      "years ago; New York; little bit; United States; I'm going; every\n",
      "single; years old; year old; skeletal muscle; Applause Thank; we're\n",
      "going; every day; last year; looks like; York City; black holes; first\n",
      "time; solar system; high school; I'd like\n"
     ]
    }
   ],
   "source": [
    "corp_f.collocations()"
   ]
  },
  {
   "cell_type": "code",
   "execution_count": 41,
   "metadata": {},
   "outputs": [
    {
     "name": "stdout",
     "output_type": "stream",
     "text": [
      "years ago; little bit; United States; I'm going; New York; we're\n",
      "going; looks like; San Francisco; Chris Anderson; I'd like; year old;\n",
      "human beings; last year; I've got; years old; Laughter Applause; every\n",
      "day; Los Angeles; much Applause; high school\n"
     ]
    }
   ],
   "source": [
    "corp_m.collocations()"
   ]
  },
  {
   "cell_type": "code",
   "execution_count": 57,
   "metadata": {
    "scrolled": false
   },
   "outputs": [
    {
     "name": "stdout",
     "output_type": "stream",
     "text": [
      "Displaying 25 of 145 matches:\n",
      " ours were deemed off limits to any sort of investment Many landlords believed \n",
      "eading the paper or something and I sort of presented myself to them in the doo\n",
      " no Santa Claus at all was actually sort of a relief I left the kitchen not rea\n",
      "of a beautiful woman with long hair sort of lounging by some water but the Libr\n",
      " out on a mission and I guess I was sort of curious so I said Well please come \n",
      "And I said No I don't because I was sort of upset about this Lamanite story and\n",
      "ve and then I can make it into some sort of melody and I'll improvise it Wow A \n",
      "'m going to try to put that in some sort of order Plays notes OK that's nice So\n",
      "ighs Oh my gosh Laughter OK this is sort of technology but I can call it a 16th\n",
      "ron machine and we figured out what sort of forces you needed in order to compr\n",
      "ur relationship and flattening this sort of world That this woman is in England\n",
      "ew me towards it There was this big sort of bumpy looking virus on the cover an\n",
      "egregated city Baltimore Maryland I sort of use that idea to go around America \n",
      " walked in their words that I could sort of absorb America I was also inspired \n",
      "s pig farmers drum majorettes but I sort of got tripped on race relations becau\n",
      " one aspect of their life that they sort of set aside It permeates their entire\n",
      "perhaps somewhere in our history we sort of divided our lives up into lots of p\n",
      "ots of categories And so everything sort of has a place that it has to fit But \n",
      " out And so I thought that this was sort of the end of the story This was how m\n",
      " flexible structure And this really sort of had me scratching my head for a whi\n",
      " spring That's a bit long but it is sort of interesting So the next and final q\n",
      " force in fluid systems and just to sort of take it one step further I'm going \n",
      "cular problem So I'd like to end on sort of a wacky note Laughter Maybe this is\n",
      "time period in the molting cycle So sort of an interesting strange fact to find\n",
      "rk which is a long skinny lake with sort of mountains upside down in it and my \n"
     ]
    }
   ],
   "source": [
    "corp_f.concordance([\"sort\", \"of\"])"
   ]
  },
  {
   "cell_type": "code",
   "execution_count": 58,
   "metadata": {},
   "outputs": [
    {
     "name": "stdout",
     "output_type": "stream",
     "text": [
      "Displaying 25 of 770 matches:\n",
      "t black turtleneck and jeans and he sort of did this The crowd went wild but I \n",
      " studying hunger in Africa so I was sort of expected to know a little about the\n",
      "ferent directions like this so it's sort of difficult to get an example country\n",
      "y comes with what people would call sort of a rational conclusion to something \n",
      "High modernists said we will create sort of singular spaces that are generic al\n",
      "ng can happen within them I call it sort of shotgun flexibility turn your head \n",
      " design parameters And so with this sort of idea what happens is whatever actua\n",
      "starts to dwarf the possibility and sort of subsume it of anything else could e\n",
      "r technologies This diagram was our sort of position piece about the book and o\n",
      "hat used high modernist flexibility Sort of any activity could happen anywhere \n",
      " back to them they agreed that this sort of core concept could work We got the \n",
      "u'll see a series of five platforms sort of combs collective programs And on th\n",
      "is happening The area in between is sort of an urban continuum these things tha\n",
      " always have its clarity to end the sort of trail of tears that we've all exper\n",
      "th a single building and a credible sort of sub building So this is Louisville'\n",
      " sites So we're starting to build a sort of nightmare of constraints in a batht\n",
      "ain when we unveiled it there was a sort of nervousness that this was about an \n",
      " a series of things So here this is sort of an x ray the towers are totally dev\n",
      "nd combined it in the center in the sort of subway map in the transfer zone tha\n",
      "ards they're domesticated They're a sort of ectosymbiont They depend on us for \n",
      "cow in order to reproduce So it was sort of a spooky story And I think some peo\n",
      "nism here And you can't tell So I'm sort of thinking Well I don't know I don't \n",
      "Devil speaking This discourages the sort of reasoning citizenship it seems to m\n",
      "the world Here's one that shows the sort of current breakdown of the different \n",
      "hurch Good without God becomes zero Sort of cute A very clever little meme I do\n"
     ]
    }
   ],
   "source": [
    "corp_m.concordance([\"sort\", \"of\"])"
   ]
  }
 ],
 "metadata": {
  "interpreter": {
   "hash": "14a02b88778d8fb8b6aeb4ad427a942bc53dfcda9d7e3737237788289e0d2d23"
  },
  "kernelspec": {
   "display_name": "Python 3 (ipykernel)",
   "language": "python",
   "name": "python3"
  },
  "language_info": {
   "codemirror_mode": {
    "name": "ipython",
    "version": 3
   },
   "file_extension": ".py",
   "mimetype": "text/x-python",
   "name": "python",
   "nbconvert_exporter": "python",
   "pygments_lexer": "ipython3",
   "version": "3.7.11"
  },
  "toc": {
   "base_numbering": 1,
   "nav_menu": {},
   "number_sections": true,
   "sideBar": true,
   "skip_h1_title": true,
   "title_cell": "",
   "title_sidebar": "Contents",
   "toc_cell": true,
   "toc_position": 2,
   "toc_section_display": true,
   "toc_window_display": false
  }
 },
 "nbformat": 4,
 "nbformat_minor": 2
}
