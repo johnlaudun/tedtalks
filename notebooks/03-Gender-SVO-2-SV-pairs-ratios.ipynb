{
 "cells": [
  {
   "cell_type": "markdown",
   "metadata": {},
   "source": [
    "# Pronoun Verb Pair Ratios"
   ]
  },
  {
   "cell_type": "markdown",
   "metadata": {},
   "source": [
    "What this notebook hopes/tries to do:\n",
    "\n",
    "- load all the things\n",
    "- get the counts/frequencies of the verbs for *he* and *she*\n",
    "\n",
    "> Setting a threshold of 10 results in only 16 verbs for she-verb pairs. (A consequence of how infrequently \"she\" occurs in men's talks. 8 yields 56. 5 yields 88. Going with 5 for now. \n",
    "\n",
    "- divide the larger numbers for each by the smaller numbers ... to avoid the numbers for one subcorpora packing between 0 and 1. ***Why ratios?** So we can compare the two subcorpora. (Is this a valid form of normalization?)*\n",
    "- Visualize the ratios."
   ]
  },
  {
   "cell_type": "code",
   "execution_count": 1,
   "metadata": {},
   "outputs": [
    {
     "name": "stdout",
     "output_type": "stream",
     "text": [
      "80460 26610\n"
     ]
    }
   ],
   "source": [
    "# IMPORTS\n",
    "import pandas as pd\n",
    "import numpy as np\n",
    "import seaborn as sns\n",
    "import matplotlib.pyplot as plt\n",
    "\n",
    "# LOAD DATAFRAMES\n",
    "# the `lem` suffix indicates the verbs have been lemmatized\n",
    "svos_m = pd.read_csv(\"../output/svos_m_lem.csv\", index_col=0)\n",
    "svos_w = pd.read_csv(\"../output/svos_w_lem.csv\", index_col=0)\n",
    "\n",
    "# Save the SVO count for each corpus for calculating relative frequencies\n",
    "m_svo_count = svos_m.shape[0]\n",
    "w_svo_count = svos_w.shape[0]\n",
    "\n",
    "# Output something to check our efforts\n",
    "print(m_svo_count, w_svo_count)"
   ]
  },
  {
   "cell_type": "markdown",
   "metadata": {},
   "source": [
    "The function below takes a dataframe, a pronoun, and a threshold and returns a two-column dataframe with the verbs and their frequency associcated with that pronoun. \"Stackable\" reveals that it is intended for use with multiple pronouns such that they can be compared. (The comparison could eventuallybe folded into this function or in a new follow-on function.)"
   ]
  },
  {
   "cell_type": "code",
   "execution_count": 2,
   "metadata": {},
   "outputs": [],
   "source": [
    "def stackable (df, pronoun, threshold):\n",
    "    # Count the verbs that follow the pronoun\n",
    "    tmp = df[df[\"subject\"] == pronoun].value_counts('verb').reset_index()\n",
    "    # Re-title the columns\n",
    "    tmp.rename(columns={0:'v_freq'}, inplace=True)\n",
    "    # Filter out verbs below threshold\n",
    "    tmp = tmp[tmp.v_freq >= threshold]\n",
    "    # Rename count to indicate pronoun involved\n",
    "    tmp.rename(columns={'v_freq':f'{pronoun}_freq'}, inplace=True)\n",
    "    return tmp"
   ]
  },
  {
   "cell_type": "code",
   "execution_count": 3,
   "metadata": {
    "scrolled": true
   },
   "outputs": [
    {
     "name": "stdout",
     "output_type": "stream",
     "text": [
      "(88, 3)\n",
      "      verb  he_freq  she_freq\n",
      "0     have    232.0      94.0\n",
      "1      say    132.0      47.0\n",
      "2       do    111.0      41.0\n",
      "3      get     90.0      24.0\n",
      "4       go     78.0      34.0\n",
      "..     ...      ...       ...\n",
      "83     set      5.0       0.0\n",
      "84    sell      5.0       0.0\n",
      "85    seem      5.0       0.0\n",
      "86  change      5.0       0.0\n",
      "87     eat      0.0       6.0\n",
      "\n",
      "[88 rows x 3 columns]\n"
     ]
    }
   ],
   "source": [
    "m_he = stackable(svos_m, \"he\", 5)\n",
    "m_she = stackable(svos_m, \"she\", 5)\n",
    "\n",
    "verbs = m_he.merge(m_she, 'outer')\n",
    "verbs.fillna(0, inplace=True)\n",
    "\n",
    "print(verbs.shape)\n",
    "print(verbs.head(verbs.shape[0]))"
   ]
  },
  {
   "cell_type": "code",
   "execution_count": 4,
   "metadata": {
    "scrolled": true
   },
   "outputs": [
    {
     "data": {
      "text/html": [
       "<div>\n",
       "<style scoped>\n",
       "    .dataframe tbody tr th:only-of-type {\n",
       "        vertical-align: middle;\n",
       "    }\n",
       "\n",
       "    .dataframe tbody tr th {\n",
       "        vertical-align: top;\n",
       "    }\n",
       "\n",
       "    .dataframe thead th {\n",
       "        text-align: right;\n",
       "    }\n",
       "</style>\n",
       "<table border=\"1\" class=\"dataframe\">\n",
       "  <thead>\n",
       "    <tr style=\"text-align: right;\">\n",
       "      <th></th>\n",
       "      <th>verb</th>\n",
       "      <th>he_freq</th>\n",
       "      <th>she_freq</th>\n",
       "      <th>difference</th>\n",
       "    </tr>\n",
       "  </thead>\n",
       "  <tbody>\n",
       "    <tr>\n",
       "      <th>0</th>\n",
       "      <td>have</td>\n",
       "      <td>232.0</td>\n",
       "      <td>94.0</td>\n",
       "      <td>138.0</td>\n",
       "    </tr>\n",
       "    <tr>\n",
       "      <th>1</th>\n",
       "      <td>say</td>\n",
       "      <td>132.0</td>\n",
       "      <td>47.0</td>\n",
       "      <td>85.0</td>\n",
       "    </tr>\n",
       "    <tr>\n",
       "      <th>2</th>\n",
       "      <td>do</td>\n",
       "      <td>111.0</td>\n",
       "      <td>41.0</td>\n",
       "      <td>70.0</td>\n",
       "    </tr>\n",
       "    <tr>\n",
       "      <th>3</th>\n",
       "      <td>get</td>\n",
       "      <td>90.0</td>\n",
       "      <td>24.0</td>\n",
       "      <td>66.0</td>\n",
       "    </tr>\n",
       "    <tr>\n",
       "      <th>4</th>\n",
       "      <td>go</td>\n",
       "      <td>78.0</td>\n",
       "      <td>34.0</td>\n",
       "      <td>44.0</td>\n",
       "    </tr>\n",
       "    <tr>\n",
       "      <th>5</th>\n",
       "      <td>take</td>\n",
       "      <td>78.0</td>\n",
       "      <td>23.0</td>\n",
       "      <td>55.0</td>\n",
       "    </tr>\n",
       "    <tr>\n",
       "      <th>6</th>\n",
       "      <td>want</td>\n",
       "      <td>71.0</td>\n",
       "      <td>32.0</td>\n",
       "      <td>39.0</td>\n",
       "    </tr>\n",
       "    <tr>\n",
       "      <th>7</th>\n",
       "      <td>make</td>\n",
       "      <td>67.0</td>\n",
       "      <td>16.0</td>\n",
       "      <td>51.0</td>\n",
       "    </tr>\n",
       "    <tr>\n",
       "      <th>8</th>\n",
       "      <td>tell</td>\n",
       "      <td>58.0</td>\n",
       "      <td>20.0</td>\n",
       "      <td>38.0</td>\n",
       "    </tr>\n",
       "    <tr>\n",
       "      <th>9</th>\n",
       "      <td>put</td>\n",
       "      <td>54.0</td>\n",
       "      <td>5.0</td>\n",
       "      <td>49.0</td>\n",
       "    </tr>\n",
       "  </tbody>\n",
       "</table>\n",
       "</div>"
      ],
      "text/plain": [
       "   verb  he_freq  she_freq  difference\n",
       "0  have    232.0      94.0       138.0\n",
       "1   say    132.0      47.0        85.0\n",
       "2    do    111.0      41.0        70.0\n",
       "3   get     90.0      24.0        66.0\n",
       "4    go     78.0      34.0        44.0\n",
       "5  take     78.0      23.0        55.0\n",
       "6  want     71.0      32.0        39.0\n",
       "7  make     67.0      16.0        51.0\n",
       "8  tell     58.0      20.0        38.0\n",
       "9   put     54.0       5.0        49.0"
      ]
     },
     "execution_count": 4,
     "metadata": {},
     "output_type": "execute_result"
    }
   ],
   "source": [
    "verbs[\"difference\"] = verbs[\"he_freq\"] - verbs[\"she_freq\"]\n",
    "verbs.head(10)"
   ]
  },
  {
   "cell_type": "code",
   "execution_count": 5,
   "metadata": {},
   "outputs": [
    {
     "data": {
      "image/png": "[encoded data removed]",
      "text/plain": [
       "<Figure size 1080x1080 with 1 Axes>"
      ]
     },
     "metadata": {
      "needs_background": "light"
     },
     "output_type": "display_data"
    }
   ],
   "source": [
    "verbs[10:88].plot(\n",
    "    x=\"difference\",\n",
    "    y=\"verb\",\n",
    "    kind='scatter',\n",
    "    title=\"Verb Differences\",\n",
    "    legend=False,\n",
    "    xlabel=None,\n",
    "    ylabel=None,\n",
    "    c='cornflowerblue',\n",
    "    s=None,\n",
    "    figsize = (15,15)\n",
    ")\n",
    "plt.show()"
   ]
  },
  {
   "cell_type": "markdown",
   "metadata": {},
   "source": [
    "## Diverging Bar Chart\n",
    "\n",
    "The code below was [copied](https://www.geeksforgeeks.org/diverging-bar-chart-using-python/) for possible use to create a diverging bar chart."
   ]
  },
  {
   "cell_type": "code",
   "execution_count": null,
   "metadata": {},
   "outputs": [],
   "source": [
    "# Draw plot\n",
    "plt.figure(figsize=(14, 10), dpi=80)\n",
    "  \n",
    "# Plotting the horizontal lines\n",
    "plt.hlines(y=df.index, xmin=60000, xmax=df.car_sales_z,\n",
    "           color=df.colors, alpha=0.4, linewidth=5)\n",
    "  \n",
    "# Decorations\n",
    "# Setting the labels of x-axis and y-axis\n",
    "plt.gca().set(ylabel='Quarter', xlabel='Sales')\n",
    "  \n",
    "# Setting Date to y-axis\n",
    "plt.yticks(df.index, df.Date, fontsize=12)\n",
    "  \n",
    "# Title of Bar Chart\n",
    "plt.title('Diverging Bars Chart Example', fontdict={\n",
    "          'size': 20})\n",
    "  \n",
    "# Optional grid layout\n",
    "plt.grid(linestyle='--', alpha=0.5)\n",
    "  \n",
    "# Displaying the Diverging Bar Chart\n",
    "plt.show()"
   ]
  }
 ],
 "metadata": {
  "interpreter": {
   "hash": "14a02b88778d8fb8b6aeb4ad427a942bc53dfcda9d7e3737237788289e0d2d23"
  },
  "kernelspec": {
   "display_name": "Python 3 (ipykernel)",
   "language": "python",
   "name": "python3"
  },
  "language_info": {
   "codemirror_mode": {
    "name": "ipython",
    "version": 3
   },
   "file_extension": ".py",
   "mimetype": "text/x-python",
   "name": "python",
   "nbconvert_exporter": "python",
   "pygments_lexer": "ipython3",
   "version": "3.7.11"
  },
  "toc": {
   "base_numbering": 1,
   "nav_menu": {},
   "number_sections": true,
   "sideBar": true,
   "skip_h1_title": true,
   "title_cell": "",
   "title_sidebar": "Contents",
   "toc_cell": true,
   "toc_position": 2,
   "toc_section_display": true,
   "toc_window_display": false
  }
 },
 "nbformat": 4,
 "nbformat_minor": 2
}
