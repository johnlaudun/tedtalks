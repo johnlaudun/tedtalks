{
 "cells": [
  {
   "cell_type": "code",
   "execution_count": 5,
   "metadata": {
    "scrolled": true
   },
   "outputs": [
    {
     "name": "stdout",
     "output_type": "stream",
     "text": [
      "607\n"
     ]
    }
   ],
   "source": [
    "# First up, the usual loading of the data from the CSV. \n",
    "\n",
    "import pandas\n",
    "\n",
    "# Let python create the column names list:\n",
    "with open('../data/talks_6d.csv') as f:\n",
    "    colnames = f.readline().strip().split(\",\")\n",
    "\n",
    "# Load the dataframe\n",
    "TEDtalks = pandas.read_csv('../data/talks_6d.csv', names=colnames)\n",
    "\n",
    "# Create a list of the talks by women speakers\n",
    "# Printing length is to make sure things went as expected.\n",
    "f_talks = TEDtalks[TEDtalks.gender == 'female'].text.tolist()\n",
    "\n",
    "# Line for talks by men\n",
    "# m_talks = TEDtalks[TEDtalks.gender == 'male'].text.tolist()\n",
    "print(len(f_talks))"
   ]
  },
  {
   "cell_type": "code",
   "execution_count": 6,
   "metadata": {},
   "outputs": [
    {
     "data": {
      "text/plain": [
       "(607, 30852)"
      ]
     },
     "execution_count": 6,
     "metadata": {},
     "output_type": "execute_result"
    }
   ],
   "source": [
    "# We are not going to create a dictionary or an NLTK FreqDist, \n",
    "# we are going to use sklearn's **term frequency** vectorizer.\n",
    "\n",
    "import nltk \n",
    "from sklearn.feature_extraction.text import CountVectorizer\n",
    "import numpy as np\n",
    "\n",
    "my_tokenizer = nltk.tokenize.RegexpTokenizer(r'\\w+').tokenize\n",
    "vectorizer = CountVectorizer(tokenizer = my_tokenizer)\n",
    "   \n",
    "X = vectorizer.fit_transform(f_talks)\n",
    "\n",
    "X.shape"
   ]
  },
  {
   "cell_type": "markdown",
   "metadata": {},
   "source": [
    "The two cells below are works-in-progress."
   ]
  },
  {
   "cell_type": "code",
   "execution_count": null,
   "metadata": {
    "collapsed": true
   },
   "outputs": [],
   "source": [
    "freq = np.ravel(X.sum(axis=0)) # sum each columns to get total counts for each word"
   ]
  },
  {
   "cell_type": "code",
   "execution_count": null,
   "metadata": {
    "collapsed": true
   },
   "outputs": [],
   "source": [
    "# this freq will correspond to value in dictionary vectorizer.vocabulary_\n",
    "\n",
    "import operator\n",
    "# get vocabulary keys, sorted by value\n",
    "vocab = [v[0] for v in sorted(vectorizer.vocabulary_.items(), key=operator.itemgetter(1))]\n",
    "fdist = dict(zip(vocab, freq)) # return same format as nltk"
   ]
  },
  {
   "cell_type": "markdown",
   "metadata": {},
   "source": [
    "## Notes for KK\n",
    "\n",
    "So building the array is considerably faster than building a dictionary. Summing each column to get overall term frequency seems straightforward, though getting those sums back out and associated with the correct term is something still in progress. \n",
    "\n",
    "The reason for switching from the more traditional way of getting word counts -- through a collection or a dictionary -- is to track the number of texts in which a word occurs as well. This is a variation, almost an inversion, of TFIDF: we are looking for high frequency words and those words that also occur across a number of texts are more representative than those terms that occur in only one or a few. If there's a proper statistical way to do this, or term to call it, teach me!\n",
    "\n",
    "Thus it's my hope that there is a way to count the number of non-zero entries for a word, such that we can sum its total frequency *and* its total text count. I'm imagining tallies that look like this. (Please note that these are made up.)\n",
    "\n",
    "    pms, 49, 1\n",
    "    vagina, 62, 5\n",
    "\n",
    "Once we have these for both male and female speakers, we can then visualize a spread, with bars coming off a central axis -- I'm imagining a vertical axis and horizontal bars because I've seen something like it somewhere -- that displays this data."
   ]
  }
 ],
 "metadata": {
  "kernelspec": {
   "display_name": "Python 3",
   "language": "python",
   "name": "python3"
  },
  "language_info": {
   "codemirror_mode": {
    "name": "ipython",
    "version": 3
   },
   "file_extension": ".py",
   "mimetype": "text/x-python",
   "name": "python",
   "nbconvert_exporter": "python",
   "pygments_lexer": "ipython3",
   "version": "3.4.8"
  }
 },
 "nbformat": 4,
 "nbformat_minor": 2
}
