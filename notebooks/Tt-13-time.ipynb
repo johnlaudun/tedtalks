{
 "cells": [
  {
   "cell_type": "code",
   "execution_count": null,
   "metadata": {
    "collapsed": true
   },
   "outputs": [],
   "source": [
    "# =-=-=-=-=-=-=-=-=-=-=\n",
    "# Plot of Talk Speed\n",
    "# =-=-=-=-=-=-=-=-=-=-= \n",
    "\n",
    "# We are going to grab the length (in seconds) from the dataframe \n",
    "# and convert to minutes all in one go here:\n",
    "minutes = [ item / 60 for item in int(dfted.length.tolist()) ]\n",
    "\n",
    "plt.plot(counts, minutes, 'ro')\n",
    "plt.xlabel('Length of Talk in Words')\n",
    "plt.ylabel('Length of Talk in Minutes')\n",
    "plt.title('How Fast is a TEDtalk?: Words per Minute')\n",
    "plt.grid(True)\n",
    "plt.show()"
   ]
  }
 ],
 "metadata": {
  "kernelspec": {
   "display_name": "Python 3",
   "language": "python",
   "name": "python3"
  },
  "language_info": {
   "codemirror_mode": {
    "name": "ipython",
    "version": 3
   },
   "file_extension": ".py",
   "mimetype": "text/x-python",
   "name": "python",
   "nbconvert_exporter": "python",
   "pygments_lexer": "ipython3",
   "version": "3.4.7"
  }
 },
 "nbformat": 4,
 "nbformat_minor": 2
}
