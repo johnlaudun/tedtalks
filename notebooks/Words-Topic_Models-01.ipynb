{
 "cells": [
  {
   "cell_type": "markdown",
   "metadata": {},
   "source": [
    "## Imports and Data"
   ]
  },
  {
   "cell_type": "code",
   "execution_count": 1,
   "metadata": {},
   "outputs": [],
   "source": [
    "import re, pandas as pd, matplotlib.pyplot as plt, numpy as np\n",
    "from sklearn.feature_extraction.text import CountVectorizer # LDA uses term frequencies\n",
    "from sklearn.decomposition import LatentDirichletAllocation # LDA we are going to use"
   ]
  },
  {
   "cell_type": "code",
   "execution_count": 14,
   "metadata": {
    "scrolled": false
   },
   "outputs": [
    {
     "name": "stdout",
     "output_type": "stream",
     "text": [
      "(1747, 26)\n"
     ]
    },
    {
     "data": {
      "text/html": [
       "<div>\n",
       "<style scoped>\n",
       "    .dataframe tbody tr th:only-of-type {\n",
       "        vertical-align: middle;\n",
       "    }\n",
       "\n",
       "    .dataframe tbody tr th {\n",
       "        vertical-align: top;\n",
       "    }\n",
       "\n",
       "    .dataframe thead th {\n",
       "        text-align: right;\n",
       "    }\n",
       "</style>\n",
       "<table border=\"1\" class=\"dataframe\">\n",
       "  <thead>\n",
       "    <tr style=\"text-align: right;\">\n",
       "      <th></th>\n",
       "      <th>Talk_ID</th>\n",
       "      <th>public_url</th>\n",
       "      <th>headline</th>\n",
       "      <th>description</th>\n",
       "      <th>event</th>\n",
       "      <th>duration</th>\n",
       "      <th>published</th>\n",
       "      <th>tags</th>\n",
       "      <th>views</th>\n",
       "      <th>text</th>\n",
       "      <th>...</th>\n",
       "      <th>speaker2_introduction</th>\n",
       "      <th>speaker2_profile</th>\n",
       "      <th>speaker_3</th>\n",
       "      <th>speaker3_occupation</th>\n",
       "      <th>speaker3_introduction</th>\n",
       "      <th>speaker3_profile</th>\n",
       "      <th>speaker_4</th>\n",
       "      <th>speaker4_occupation</th>\n",
       "      <th>speaker4_introduction</th>\n",
       "      <th>speaker4_profile</th>\n",
       "    </tr>\n",
       "    <tr>\n",
       "      <th>Set</th>\n",
       "      <th></th>\n",
       "      <th></th>\n",
       "      <th></th>\n",
       "      <th></th>\n",
       "      <th></th>\n",
       "      <th></th>\n",
       "      <th></th>\n",
       "      <th></th>\n",
       "      <th></th>\n",
       "      <th></th>\n",
       "      <th></th>\n",
       "      <th></th>\n",
       "      <th></th>\n",
       "      <th></th>\n",
       "      <th></th>\n",
       "      <th></th>\n",
       "      <th></th>\n",
       "      <th></th>\n",
       "      <th></th>\n",
       "      <th></th>\n",
       "      <th></th>\n",
       "    </tr>\n",
       "  </thead>\n",
       "  <tbody>\n",
       "    <tr>\n",
       "      <th>only</th>\n",
       "      <td>1</td>\n",
       "      <td>https://www.ted.com/talks/al_gore_on_averting_...</td>\n",
       "      <td>Averting the climate crisis</td>\n",
       "      <td>With the same humor and humanity he exuded in ...</td>\n",
       "      <td>TED2006</td>\n",
       "      <td>0:16:17</td>\n",
       "      <td>6/27/06</td>\n",
       "      <td>alternative energy,cars,global issues,climate ...</td>\n",
       "      <td>3266733</td>\n",
       "      <td>Thank you so much, Chris. And it's truly a g...</td>\n",
       "      <td>...</td>\n",
       "      <td>NaN</td>\n",
       "      <td>NaN</td>\n",
       "      <td>NaN</td>\n",
       "      <td>NaN</td>\n",
       "      <td>NaN</td>\n",
       "      <td>NaN</td>\n",
       "      <td>NaN</td>\n",
       "      <td>NaN</td>\n",
       "      <td>NaN</td>\n",
       "      <td>NaN</td>\n",
       "    </tr>\n",
       "    <tr>\n",
       "      <th>only</th>\n",
       "      <td>7</td>\n",
       "      <td>https://www.ted.com/talks/david_pogue_says_sim...</td>\n",
       "      <td>Simplicity sells</td>\n",
       "      <td>New York Times columnist David Pogue takes aim...</td>\n",
       "      <td>TED2006</td>\n",
       "      <td>0:21:26</td>\n",
       "      <td>6/27/06</td>\n",
       "      <td>simplicity,entertainment,interface design,soft...</td>\n",
       "      <td>1702201</td>\n",
       "      <td>(Music: \"The Sound of Silence,\" Simon &amp; Garf...</td>\n",
       "      <td>...</td>\n",
       "      <td>NaN</td>\n",
       "      <td>NaN</td>\n",
       "      <td>NaN</td>\n",
       "      <td>NaN</td>\n",
       "      <td>NaN</td>\n",
       "      <td>NaN</td>\n",
       "      <td>NaN</td>\n",
       "      <td>NaN</td>\n",
       "      <td>NaN</td>\n",
       "      <td>NaN</td>\n",
       "    </tr>\n",
       "    <tr>\n",
       "      <th>only</th>\n",
       "      <td>53</td>\n",
       "      <td>https://www.ted.com/talks/majora_carter_s_tale...</td>\n",
       "      <td>Greening the ghetto</td>\n",
       "      <td>In an emotionally charged talk, MacArthur-winn...</td>\n",
       "      <td>TED2006</td>\n",
       "      <td>0:18:36</td>\n",
       "      <td>6/27/06</td>\n",
       "      <td>MacArthur grant,cities,green,activism,politics...</td>\n",
       "      <td>2000421</td>\n",
       "      <td>If you're here today — and I'm very happy th...</td>\n",
       "      <td>...</td>\n",
       "      <td>NaN</td>\n",
       "      <td>NaN</td>\n",
       "      <td>NaN</td>\n",
       "      <td>NaN</td>\n",
       "      <td>NaN</td>\n",
       "      <td>NaN</td>\n",
       "      <td>NaN</td>\n",
       "      <td>NaN</td>\n",
       "      <td>NaN</td>\n",
       "      <td>NaN</td>\n",
       "    </tr>\n",
       "    <tr>\n",
       "      <th>only</th>\n",
       "      <td>66</td>\n",
       "      <td>https://www.ted.com/talks/ken_robinson_says_sc...</td>\n",
       "      <td>Do schools kill creativity?</td>\n",
       "      <td>Sir Ken Robinson makes an entertaining and pro...</td>\n",
       "      <td>TED2006</td>\n",
       "      <td>0:19:24</td>\n",
       "      <td>6/27/06</td>\n",
       "      <td>children,teaching,creativity,parenting,culture...</td>\n",
       "      <td>51614087</td>\n",
       "      <td>Good morning. How are you?    (Laughter)    ...</td>\n",
       "      <td>...</td>\n",
       "      <td>NaN</td>\n",
       "      <td>NaN</td>\n",
       "      <td>NaN</td>\n",
       "      <td>NaN</td>\n",
       "      <td>NaN</td>\n",
       "      <td>NaN</td>\n",
       "      <td>NaN</td>\n",
       "      <td>NaN</td>\n",
       "      <td>NaN</td>\n",
       "      <td>NaN</td>\n",
       "    </tr>\n",
       "    <tr>\n",
       "      <th>only</th>\n",
       "      <td>92</td>\n",
       "      <td>https://www.ted.com/talks/hans_rosling_shows_t...</td>\n",
       "      <td>The best stats you've ever seen</td>\n",
       "      <td>You've never seen data presented like this. Wi...</td>\n",
       "      <td>TED2006</td>\n",
       "      <td>0:19:50</td>\n",
       "      <td>6/27/06</td>\n",
       "      <td>demo,Asia,global issues,visualizations,global ...</td>\n",
       "      <td>12662135</td>\n",
       "      <td>About 10 years ago, I took on the task to te...</td>\n",
       "      <td>...</td>\n",
       "      <td>NaN</td>\n",
       "      <td>NaN</td>\n",
       "      <td>NaN</td>\n",
       "      <td>NaN</td>\n",
       "      <td>NaN</td>\n",
       "      <td>NaN</td>\n",
       "      <td>NaN</td>\n",
       "      <td>NaN</td>\n",
       "      <td>NaN</td>\n",
       "      <td>NaN</td>\n",
       "    </tr>\n",
       "  </tbody>\n",
       "</table>\n",
       "<p>5 rows × 26 columns</p>\n",
       "</div>"
      ],
      "text/plain": [
       "      Talk_ID                                         public_url  \\\n",
       "Set                                                                \n",
       "only        1  https://www.ted.com/talks/al_gore_on_averting_...   \n",
       "only        7  https://www.ted.com/talks/david_pogue_says_sim...   \n",
       "only       53  https://www.ted.com/talks/majora_carter_s_tale...   \n",
       "only       66  https://www.ted.com/talks/ken_robinson_says_sc...   \n",
       "only       92  https://www.ted.com/talks/hans_rosling_shows_t...   \n",
       "\n",
       "                             headline  \\\n",
       "Set                                     \n",
       "only      Averting the climate crisis   \n",
       "only                 Simplicity sells   \n",
       "only              Greening the ghetto   \n",
       "only      Do schools kill creativity?   \n",
       "only  The best stats you've ever seen   \n",
       "\n",
       "                                            description    event duration  \\\n",
       "Set                                                                         \n",
       "only  With the same humor and humanity he exuded in ...  TED2006  0:16:17   \n",
       "only  New York Times columnist David Pogue takes aim...  TED2006  0:21:26   \n",
       "only  In an emotionally charged talk, MacArthur-winn...  TED2006  0:18:36   \n",
       "only  Sir Ken Robinson makes an entertaining and pro...  TED2006  0:19:24   \n",
       "only  You've never seen data presented like this. Wi...  TED2006  0:19:50   \n",
       "\n",
       "     published                                               tags     views  \\\n",
       "Set                                                                           \n",
       "only   6/27/06  alternative energy,cars,global issues,climate ...   3266733   \n",
       "only   6/27/06  simplicity,entertainment,interface design,soft...   1702201   \n",
       "only   6/27/06  MacArthur grant,cities,green,activism,politics...   2000421   \n",
       "only   6/27/06  children,teaching,creativity,parenting,culture...  51614087   \n",
       "only   6/27/06  demo,Asia,global issues,visualizations,global ...  12662135   \n",
       "\n",
       "                                                   text  ...  \\\n",
       "Set                                                      ...   \n",
       "only    Thank you so much, Chris. And it's truly a g...  ...   \n",
       "only    (Music: \"The Sound of Silence,\" Simon & Garf...  ...   \n",
       "only    If you're here today — and I'm very happy th...  ...   \n",
       "only    Good morning. How are you?    (Laughter)    ...  ...   \n",
       "only    About 10 years ago, I took on the task to te...  ...   \n",
       "\n",
       "     speaker2_introduction speaker2_profile speaker_3 speaker3_occupation  \\\n",
       "Set                                                                         \n",
       "only                   NaN              NaN       NaN                 NaN   \n",
       "only                   NaN              NaN       NaN                 NaN   \n",
       "only                   NaN              NaN       NaN                 NaN   \n",
       "only                   NaN              NaN       NaN                 NaN   \n",
       "only                   NaN              NaN       NaN                 NaN   \n",
       "\n",
       "     speaker3_introduction speaker3_profile speaker_4 speaker4_occupation  \\\n",
       "Set                                                                         \n",
       "only                   NaN              NaN       NaN                 NaN   \n",
       "only                   NaN              NaN       NaN                 NaN   \n",
       "only                   NaN              NaN       NaN                 NaN   \n",
       "only                   NaN              NaN       NaN                 NaN   \n",
       "only                   NaN              NaN       NaN                 NaN   \n",
       "\n",
       "     speaker4_introduction speaker4_profile  \n",
       "Set                                          \n",
       "only                   NaN              NaN  \n",
       "only                   NaN              NaN  \n",
       "only                   NaN              NaN  \n",
       "only                   NaN              NaN  \n",
       "only                   NaN              NaN  \n",
       "\n",
       "[5 rows x 26 columns]"
      ]
     },
     "execution_count": 14,
     "metadata": {},
     "output_type": "execute_result"
    }
   ],
   "source": [
    "df = pd.read_csv('../output/TEDall_speakers.csv', index_col=0)\n",
    "print(df.shape)\n",
    "df.head()"
   ]
  },
  {
   "cell_type": "code",
   "execution_count": 16,
   "metadata": {},
   "outputs": [],
   "source": [
    "# Create list of just the texts of the talks\n",
    "texts = df.text.tolist()"
   ]
  },
  {
   "cell_type": "markdown",
   "metadata": {},
   "source": [
    "## Topic Modeling\n",
    "\n",
    "RG thread on [What is a good way to perform topic modeling on short text?](https://www.researchgate.net/post/What_is_a_good_way_to_perform_topic_modeling_on_short_text)\n",
    "\n",
    "### Notes on Parameters\n",
    "\n",
    "* **Alpha** parameter is Dirichlet prior concentration parameter that represents document-topic density — with a higher alpha, documents are assumed to be made up of more topics and result in more specific topic distribution per document.\n",
    "* **Beta** parameter is the same prior concentration parameter that represents topic-word density — with high beta, topics are assumed to made of up most of the words and result in a more specific word distribution per topic.\n",
    "\n",
    "[Topic Modeling in Python: Latent Dirichlet Allocation (LDA)](https://towardsdatascience.com/end-to-end-topic-modeling-in-python-latent-dirichlet-allocation-lda-35ce4ed6b3e0)"
   ]
  },
  {
   "cell_type": "code",
   "execution_count": 17,
   "metadata": {},
   "outputs": [],
   "source": [
    "# Create vectorizer: pass parameters here\n",
    "vectorizer = CountVectorizer()"
   ]
  },
  {
   "cell_type": "code",
   "execution_count": 19,
   "metadata": {},
   "outputs": [
    {
     "data": {
      "text/plain": [
       "(1747, 50379)"
      ]
     },
     "execution_count": 19,
     "metadata": {},
     "output_type": "execute_result"
    }
   ],
   "source": [
    "tf_all = vectorizer.fit_transform(texts)\n",
    "tf_all.shape"
   ]
  },
  {
   "cell_type": "markdown",
   "metadata": {},
   "source": [
    "We are not taking much off the top end with the code below: a term has to occur in 100% of documents to be ignored. At the bottom end, we are simply taking away terms that occur across fewer than three documents. (If we increase it to 5, we love an additional 6000 words.)"
   ]
  },
  {
   "cell_type": "code",
   "execution_count": 25,
   "metadata": {},
   "outputs": [],
   "source": [
    "vec_fewer = CountVectorizer(max_df = 1.0,\n",
    "                                min_df = 3)"
   ]
  },
  {
   "cell_type": "code",
   "execution_count": 26,
   "metadata": {},
   "outputs": [
    {
     "data": {
      "text/plain": [
       "(1747, 22719)"
      ]
     },
     "execution_count": 26,
     "metadata": {},
     "output_type": "execute_result"
    }
   ],
   "source": [
    "tf_fewer = vec_fewer.fit_transform(texts)\n",
    "tf_fewer.shape"
   ]
  },
  {
   "cell_type": "code",
   "execution_count": 29,
   "metadata": {},
   "outputs": [],
   "source": [
    "# LDA needs to be told how many topics to expect:\n",
    "n_topics = 100"
   ]
  },
  {
   "cell_type": "code",
   "execution_count": 30,
   "metadata": {},
   "outputs": [],
   "source": [
    "# First we configure our LDA-izer:\n",
    "lda = LatentDirichletAllocation(n_components = n_topics, \n",
    "                                max_iter = 20, \n",
    "                                learning_method = 'online', \n",
    "                                learning_offset = 50.,\n",
    "                                random_state = 0)"
   ]
  },
  {
   "cell_type": "code",
   "execution_count": 32,
   "metadata": {},
   "outputs": [
    {
     "ename": "NameError",
     "evalue": "name 'display_topics' is not defined",
     "output_type": "error",
     "traceback": [
      "\u001b[0;31m---------------------------------------------------------------------------\u001b[0m",
      "\u001b[0;31mNameError\u001b[0m                                 Traceback (most recent call last)",
      "\u001b[0;32m<ipython-input-32-a7679dedc9d2>\u001b[0m in \u001b[0;36m<module>\u001b[0;34m\u001b[0m\n\u001b[1;32m      1\u001b[0m \u001b[0mlda\u001b[0m\u001b[0;34m.\u001b[0m\u001b[0mfit\u001b[0m\u001b[0;34m(\u001b[0m\u001b[0mtf_fewer\u001b[0m\u001b[0;34m)\u001b[0m\u001b[0;34m\u001b[0m\u001b[0;34m\u001b[0m\u001b[0m\n\u001b[1;32m      2\u001b[0m \u001b[0;34m\u001b[0m\u001b[0m\n\u001b[0;32m----> 3\u001b[0;31m \u001b[0mdisplay_topics\u001b[0m\u001b[0;34m(\u001b[0m\u001b[0mlda\u001b[0m\u001b[0;34m,\u001b[0m \u001b[0mtf_feature_names\u001b[0m\u001b[0;34m,\u001b[0m \u001b[0mn_top_words\u001b[0m\u001b[0;34m)\u001b[0m\u001b[0;34m\u001b[0m\u001b[0;34m\u001b[0m\u001b[0m\n\u001b[0m\u001b[1;32m      4\u001b[0m \u001b[0;31m# Get W (DTM) and H (WTM) arrays\u001b[0m\u001b[0;34m\u001b[0m\u001b[0;34m\u001b[0m\u001b[0;34m\u001b[0m\u001b[0m\n\u001b[1;32m      5\u001b[0m \u001b[0mlda_W\u001b[0m \u001b[0;34m=\u001b[0m \u001b[0mlda\u001b[0m\u001b[0;34m.\u001b[0m\u001b[0mtransform\u001b[0m\u001b[0;34m(\u001b[0m\u001b[0mtf\u001b[0m\u001b[0;34m)\u001b[0m\u001b[0;34m\u001b[0m\u001b[0;34m\u001b[0m\u001b[0m\n",
      "\u001b[0;31mNameError\u001b[0m: name 'display_topics' is not defined"
     ]
    }
   ],
   "source": [
    "lda.fit(tf_fewer)\n",
    "\n",
    "display_topics(lda, tf_feature_names, n_top_words)\n",
    "# Get W (DTM) and H (WTM) arrays\n",
    "lda_W = lda.transform(tf)\n",
    "lda_H = lda.components_\n",
    "\n",
    "df_lda_DTM = pd.DataFrame(data= lda_W, index = docs, columns = topic_labels)\n",
    "# df_lda_DTM.to_csv('../outputs/lda_DTM.csv', sep=',')\n",
    "print(df_lda_DTM)"
   ]
  }
 ],
 "metadata": {
  "kernelspec": {
   "display_name": "Python 3",
   "language": "python",
   "name": "python3"
  },
  "language_info": {
   "codemirror_mode": {
    "name": "ipython",
    "version": 3
   },
   "file_extension": ".py",
   "mimetype": "text/x-python",
   "name": "python",
   "nbconvert_exporter": "python",
   "pygments_lexer": "ipython3",
   "version": "3.6.10"
  }
 },
 "nbformat": 4,
 "nbformat_minor": 2
}
