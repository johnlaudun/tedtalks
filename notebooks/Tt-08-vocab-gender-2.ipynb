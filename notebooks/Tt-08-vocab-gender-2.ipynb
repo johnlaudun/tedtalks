{
 "cells": [
  {
   "cell_type": "markdown",
   "metadata": {},
   "source": [
    "# Gendered Vocabulary"
   ]
  },
  {
   "cell_type": "markdown",
   "metadata": {},
   "source": [
    "This notebook captures subsequent work on gender and vocabulary in the Tedtalks corpus. I've had a few weeks to think about the previous work and to think about various factors that may or may not affect our understanding. This notebook began as a copy of the previous notebook, `Tt-08-vocab-gender` and reuses a small portion of the code. I began work here with the assumption that what we need to build is a new dataframe with each row a word. Here is my tentative sketch of columns needed:\n",
    "\n",
    "    WORD, OVERALL FREQ, OVERALL RF, F FREQ, F RF, M FREQ, M RF\n",
    "\n",
    "    FREQ =  frequency (number of times a word occurs)\n",
    "    RF   =  relative frequency (number of times a word occurs \n",
    "            divided by the total number of words)\n",
    "    F    =  speaker is a woman\n",
    "    M    =  speaker is a man\n",
    "\n",
    "As soon as I got done with this and filtered the dataframe by the usage of PMS and saw that it came down to two talks, one by a woman and one by a man, I realized we probably needed to add columns for number of talks in overall, women, and men."
   ]
  },
  {
   "cell_type": "code",
   "execution_count": 1,
   "metadata": {
    "scrolled": true
   },
   "outputs": [
    {
     "name": "stdout",
     "output_type": "stream",
     "text": [
      "['', 'citation', 'author', 'gender', 'title', 'date', 'length', 'text', 'occupation', 'numDate']\n"
     ]
    },
    {
     "data": {
      "text/html": [
       "<div>\n",
       "<table border=\"1\" class=\"dataframe\">\n",
       "  <thead>\n",
       "    <tr style=\"text-align: right;\">\n",
       "      <th></th>\n",
       "      <th></th>\n",
       "      <th>citation</th>\n",
       "      <th>author</th>\n",
       "      <th>gender</th>\n",
       "      <th>title</th>\n",
       "      <th>date</th>\n",
       "      <th>length</th>\n",
       "      <th>text</th>\n",
       "      <th>occupation</th>\n",
       "      <th>numDate</th>\n",
       "    </tr>\n",
       "  </thead>\n",
       "  <tbody>\n",
       "    <tr>\n",
       "      <th>0</th>\n",
       "      <td>NaN</td>\n",
       "      <td>citation</td>\n",
       "      <td>author</td>\n",
       "      <td>gender</td>\n",
       "      <td>title</td>\n",
       "      <td>date</td>\n",
       "      <td>length</td>\n",
       "      <td>text</td>\n",
       "      <td>occupation</td>\n",
       "      <td>numDate</td>\n",
       "    </tr>\n",
       "    <tr>\n",
       "      <th>1</th>\n",
       "      <td>1.0</td>\n",
       "      <td>Al Gore 2006</td>\n",
       "      <td>Al Gore</td>\n",
       "      <td>male</td>\n",
       "      <td>Averting the climate crisis</td>\n",
       "      <td>Jun 2006</td>\n",
       "      <td>957</td>\n",
       "      <td>Thank you so much  Chris. And it's truly a gre...</td>\n",
       "      <td>Climate advocate</td>\n",
       "      <td>200606</td>\n",
       "    </tr>\n",
       "    <tr>\n",
       "      <th>2</th>\n",
       "      <td>2.0</td>\n",
       "      <td>David Pogue 2006</td>\n",
       "      <td>David Pogue</td>\n",
       "      <td>male</td>\n",
       "      <td>Simplicity sells</td>\n",
       "      <td>Jun 2006</td>\n",
       "      <td>1271</td>\n",
       "      <td>Hello voice mail  my old friend. I've called f...</td>\n",
       "      <td>Technology columnist</td>\n",
       "      <td>200606</td>\n",
       "    </tr>\n",
       "    <tr>\n",
       "      <th>3</th>\n",
       "      <td>3.0</td>\n",
       "      <td>Cameron Sinclair 2006</td>\n",
       "      <td>Cameron Sinclair</td>\n",
       "      <td>male</td>\n",
       "      <td>My wish: A call for open-source architecture</td>\n",
       "      <td>Jul 2006</td>\n",
       "      <td>1398</td>\n",
       "      <td>I'm going to take you on a journey very quickl...</td>\n",
       "      <td>Co-founder, Architecture for Humanity</td>\n",
       "      <td>200607</td>\n",
       "    </tr>\n",
       "    <tr>\n",
       "      <th>4</th>\n",
       "      <td>4.0</td>\n",
       "      <td>Sergey Brin + Larry Page 2007</td>\n",
       "      <td>Sergey Brin + Larry Page</td>\n",
       "      <td>male</td>\n",
       "      <td>The genesis of Google</td>\n",
       "      <td>May 2007</td>\n",
       "      <td>1205</td>\n",
       "      <td>Sergey Brin  I want to discuss a question I kn...</td>\n",
       "      <td>NaN</td>\n",
       "      <td>200705</td>\n",
       "    </tr>\n",
       "  </tbody>\n",
       "</table>\n",
       "</div>"
      ],
      "text/plain": [
       "                             citation                    author  gender  \\\n",
       "0  NaN                       citation                    author  gender   \n",
       "1  1.0                   Al Gore 2006                   Al Gore    male   \n",
       "2  2.0               David Pogue 2006               David Pogue    male   \n",
       "3  3.0          Cameron Sinclair 2006          Cameron Sinclair    male   \n",
       "4  4.0  Sergey Brin + Larry Page 2007  Sergey Brin + Larry Page    male   \n",
       "\n",
       "                                          title      date  length  \\\n",
       "0                                         title      date  length   \n",
       "1                   Averting the climate crisis  Jun 2006     957   \n",
       "2                              Simplicity sells  Jun 2006    1271   \n",
       "3  My wish: A call for open-source architecture  Jul 2006    1398   \n",
       "4                         The genesis of Google  May 2007    1205   \n",
       "\n",
       "                                                text  \\\n",
       "0                                               text   \n",
       "1  Thank you so much  Chris. And it's truly a gre...   \n",
       "2  Hello voice mail  my old friend. I've called f...   \n",
       "3  I'm going to take you on a journey very quickl...   \n",
       "4  Sergey Brin  I want to discuss a question I kn...   \n",
       "\n",
       "                              occupation  numDate  \n",
       "0                             occupation  numDate  \n",
       "1                       Climate advocate   200606  \n",
       "2                   Technology columnist   200606  \n",
       "3  Co-founder, Architecture for Humanity   200607  \n",
       "4                                    NaN   200705  "
      ]
     },
     "execution_count": 1,
     "metadata": {},
     "output_type": "execute_result"
    }
   ],
   "source": [
    "# get the data\n",
    "\n",
    "# Let python create the column names list:\n",
    "with open('../data/talks_6d.csv') as f:\n",
    "    colnames = f.readline().strip().split(\",\")\n",
    "print(colnames)\n",
    "\n",
    "# Now will import the csv as a dataframe\n",
    "import pandas\n",
    "TEDtalks = pandas.read_csv('../data/talks_6d.csv', names=colnames)\n",
    "\n",
    "TEDtalks.head()"
   ]
  },
  {
   "cell_type": "code",
   "execution_count": 3,
   "metadata": {
    "collapsed": true
   },
   "outputs": [],
   "source": [
    "# Create a list of just the texts\n",
    "texts = TEDtalks.text.tolist()"
   ]
  },
  {
   "cell_type": "markdown",
   "metadata": {},
   "source": [
    "## All Talks"
   ]
  },
  {
   "cell_type": "code",
   "execution_count": 2,
   "metadata": {
    "collapsed": true
   },
   "outputs": [],
   "source": [
    "import nltk\n",
    "import operator\n",
    "import string\n",
    "from nltk.tokenize import RegexpTokenizer\n",
    "\n",
    "def relafreq (list_of_texts):\n",
    "    # Take the list and turn it into one long string\n",
    "    all_texts = \" \".join(list_of_texts).lower()\n",
    "    # Invoke the NLTK god\n",
    "    freqdist = nltk.FreqDist()\n",
    "    tokenizer = RegexpTokenizer(r'\\w+')\n",
    "    words = tokenizer.tokenize(all_texts)\n",
    "    for word in words:\n",
    "        freqdist.update([word])\n",
    "    # Get the total number of words so we can establish relative frequencies\n",
    "    total_words = sum(freqdist.values())\n",
    "    # Convert the FreqDist container to a dictionary\n",
    "    freqdist_dict = dict(freqdist)\n",
    "    # Create a new dictionary of relative frequencies\n",
    "    relative_frequency = {k: v/total_words for k, v in freqdist_dict.items()}\n",
    "    # Convert the dictionary to a rankable list of tuples\n",
    "    # & rank it with the most frequent word first\n",
    "    ranked = sorted(relative_frequency.items(), key=operator.itemgetter(1), reverse = True)\n",
    "    # return the ranked list of tuples\n",
    "    return(ranked)"
   ]
  },
  {
   "cell_type": "code",
   "execution_count": null,
   "metadata": {
    "scrolled": true
   },
   "outputs": [],
   "source": [
    "all_talks = relafreq(texts)\n",
    "all_talks[0:10]"
   ]
  },
  {
   "cell_type": "code",
   "execution_count": null,
   "metadata": {},
   "outputs": [],
   "source": [
    "# This should be our total number of words. \n",
    "print(len(all_talks))"
   ]
  },
  {
   "cell_type": "code",
   "execution_count": 6,
   "metadata": {},
   "outputs": [
    {
     "data": {
      "text/html": [
       "<div>\n",
       "<table border=\"1\" class=\"dataframe\">\n",
       "  <thead>\n",
       "    <tr style=\"text-align: right;\">\n",
       "      <th></th>\n",
       "      <th></th>\n",
       "      <th>citation</th>\n",
       "      <th>author</th>\n",
       "      <th>gender</th>\n",
       "      <th>title</th>\n",
       "      <th>date</th>\n",
       "      <th>length</th>\n",
       "      <th>text</th>\n",
       "      <th>occupation</th>\n",
       "      <th>numDate</th>\n",
       "    </tr>\n",
       "  </thead>\n",
       "  <tbody>\n",
       "    <tr>\n",
       "      <th>557</th>\n",
       "      <td>557.0</td>\n",
       "      <td>VS Ramachandran 2007</td>\n",
       "      <td>VS Ramachandran</td>\n",
       "      <td>male</td>\n",
       "      <td>3 clues to understanding your brain</td>\n",
       "      <td>Oct 2007</td>\n",
       "      <td>1356</td>\n",
       "      <td>Well  as Chris pointed out  I study the human ...</td>\n",
       "      <td>NaN</td>\n",
       "      <td>200710</td>\n",
       "    </tr>\n",
       "    <tr>\n",
       "      <th>931</th>\n",
       "      <td>931.0</td>\n",
       "      <td>Robyn Stein DeLuca 2015</td>\n",
       "      <td>Robyn Stein DeLuca</td>\n",
       "      <td>female</td>\n",
       "      <td>The good news about PMS</td>\n",
       "      <td>Mar 2015</td>\n",
       "      <td>880</td>\n",
       "      <td>How many people here have heard of PMS  Everyb...</td>\n",
       "      <td>Psychologist</td>\n",
       "      <td>201503</td>\n",
       "    </tr>\n",
       "  </tbody>\n",
       "</table>\n",
       "</div>"
      ],
      "text/plain": [
       "                           citation              author  gender  \\\n",
       "557  557.0     VS Ramachandran 2007     VS Ramachandran    male   \n",
       "931  931.0  Robyn Stein DeLuca 2015  Robyn Stein DeLuca  female   \n",
       "\n",
       "                                   title      date length  \\\n",
       "557  3 clues to understanding your brain  Oct 2007   1356   \n",
       "931              The good news about PMS  Mar 2015    880   \n",
       "\n",
       "                                                  text    occupation numDate  \n",
       "557  Well  as Chris pointed out  I study the human ...           NaN  200710  \n",
       "931  How many people here have heard of PMS  Everyb...  Psychologist  201503  "
      ]
     },
     "execution_count": 6,
     "metadata": {},
     "output_type": "execute_result"
    }
   ],
   "source": [
    "TEDtalks[TEDtalks['text'].str.contains(\"PMS\")]"
   ]
  },
  {
   "cell_type": "code",
   "execution_count": 11,
   "metadata": {
    "collapsed": true
   },
   "outputs": [],
   "source": [
    "pms_talks = TEDtalks[TEDtalks['text'].str.contains(\"PMS\")].text.tolist()"
   ]
  },
  {
   "cell_type": "code",
   "execution_count": 14,
   "metadata": {},
   "outputs": [
    {
     "name": "stdout",
     "output_type": "stream",
     "text": [
      "Well  as Chris pointed out  I study the human brain  the functions and structure of the human brain. And I just want you to think for a minute about what this entails. Here is this mass of jelly  three pound mass of jelly you can hold in the palm of your hand  and it can contemplate the vastness of interstellar space. It can contemplate the meaning of infinity and it can contemplate itself contemplating on the meaning of infinity. And this peculiar recursive quality that we call self awareness  which I think is the holy grail of neuroscience  of neurology  and hopefully  someday  we'll understand how that happens. OK  so how do you study this mysterious organ  I mean  you have     billion nerve cells  little wisps of protoplasm  interacting with each other  and from this activity emerges the whole spectrum of abilities that we call human nature and human consciousness. How does this happen  Well  there are many ways of approaching the functions of the human brain. One approach  the one we use mainly  is to look at patients with sustained damage to a small region of the brain  where there's been a genetic change in a small region of the brain. What then happens is not an across the board reduction in all your mental capacities  a sort of blunting of your cognitive ability. What you get is a highly selective loss of one function  with other functions being preserved intact  and this gives you some confidence in asserting that that part of the brain is somehow involved in mediating that function. So you can then map function onto structure  and then find out what the circuitry's doing to generate that particular function. So that's what we're trying to do. So let me give you a few striking examples of this. In fact  I'm giving you three examples  six minutes each  during this talk. The first example is an extraordinary syndrome called Capgras syndrome. If you look at the first slide there  that's the temporal lobes  frontal lobes  parietal lobes  OK    the lobes that constitute the brain. And if you look  tucked away inside the inner surface of the temporal lobes    you can't see it there    is a little structure called the fusiform gyrus. And that's been called the face area in the brain  because when it's damaged  you can no longer recognize people's faces. You can still recognize them from their voice and say   Oh yeah  that's Joe   but you can't look at their face and know who it is  right  You can't even recognize yourself in the mirror. I mean  you know it's you because you wink and it winks  and you know it's a mirror  but you don't really recognize yourself as yourself. OK. Now that syndrome is well known as caused by damage to the fusiform gyrus. But there's another rare syndrome  so rare  in fact  that very few physicians have heard about it  not even neurologists. This is called the Capgras delusion  and that is a patient  who's otherwise completely normal  has had a head injury  comes out of coma  otherwise completely normal  he looks at his mother and says   This looks exactly like my mother  this woman  but she's an impostor. She's some other woman pretending to be my mother.  Now  why does this happen  Why would somebody    and this person is perfectly lucid and intelligent in all other respects  but when he sees his mother  his delusion kicks in and says  it's not mother. Now  the most common interpretation of this  which you find in all the psychiatry textbooks  is a Freudian view  and that is that this chap    and the same argument applies to women  by the way  but I'll just talk about guys. When you're a little baby  a young baby  you had a strong sexual attraction to your mother. This is the so called Oedipus complex of Freud. I'm not saying I believe this  but this is the standard Freudian view. And then  as you grow up  the cortex develops  and inhibits these latent sexual urges towards your mother. Thank God  or you would all be sexually aroused when you saw your mother. And then what happens is  there's a blow to your head  damaging the cortex  allowing these latent sexual urges to emerge  flaming to the surface  and suddenly and inexplicably you find yourself being sexually aroused by your mother. And you say   My God  if this is my mom  how come I'm being sexually turned on  She's some other woman. She's an impostor.  It's the only interpretation that makes sense to your damaged brain. This has never made much sense to me  this argument. It's very ingenious  as all Freudian arguments are       but didn't make much sense because I have seen the same delusion  a patient having the same delusion  about his pet poodle. He'll say   Doctor  this is not Fifi. It looks exactly like Fifi  but it's some other dog.  Right  Now  you try using the Freudian explanation there. You'll start talking about the latent bestiality in all humans  or some such thing  which is quite absurd  of course. Now  what's really going on  So  to explain this curious disorder  we look at the structure and functions of the normal visual pathways in the brain. Normally  visual signals come in  into the eyeballs  go to the visual areas in the brain. There are  in fact     areas in the back of your brain concerned with just vision  and after processing all that  the message goes to a small structure called the fusiform gyrus  where you perceive faces. There are neurons there that are sensitive to faces. You can call it the face area of the brain  right  I talked about that earlier. Now  when that area's damaged  you lose the ability to see faces  right  But from that area  the message cascades into a structure called the amygdala in the limbic system  the emotional core of the brain  and that structure  called the amygdala  gauges the emotional significance of what you're looking at. Is it prey  Is it predator  Is it mate  Or is it something absolutely trivial  like a piece of lint  or a piece of chalk  or a    I don't want to point to that  but    or a shoe  or something like that  OK  Which you can completely ignore. So if the amygdala is excited  and this is something important  the messages then cascade into the autonomic nervous system. Your heart starts beating faster. You start sweating to dissipate the heat that you're going to create from muscular exertion. And that's fortunate  because we can put two electrodes on your palm and measure the change in skin resistance produced by sweating. So I can determine  when you're looking at something  whether you're excited or whether you're aroused  or not  OK  And I'll get to that in a minute. So my idea was  when this chap looks at an object  when he looks at his    any object for that matter  it goes to the visual areas and  however  and it's processed in the fusiform gyrus  and you recognize it as a pea plant  or a table  or your mother  for that matter  OK  And then the message cascades into the amygdala  and then goes down the autonomic nervous system. But maybe  in this chap  that wire that goes from the amygdala to the limbic system  the emotional core of the brain  is cut by the accident. So because the fusiform is intact  the chap can still recognize his mother  and says   Oh yeah  this looks like my mother.  But because the wire is cut to the emotional centers  he says   But how come  if it's my mother  I don't experience a warmth   Or terror  as the case may be  Right  And therefore  he says   How do I account for this inexplicable lack of emotions  This can't be my mother. It's some strange woman pretending to be my mother.  How do you test this  Well  what you do is  if you take any one of you here  and put you in front of a screen  and measure your galvanic skin response  and show pictures on the screen  I can measure how you sweat when you see an object  like a table or an umbrella. Of course  you don't sweat. If I show you a picture of a lion  or a tiger  or a pinup  you start sweating  right  And  believe it or not  if I show you a picture of your mother    I'm talking about normal people    you start sweating. You don't even have to be Jewish. Now  what happens if you show this patient  You take the patient and show him pictures on the screen and measure his galvanic skin response. Tables and chairs and lint  nothing happens  as in normal people  but when you show him a picture of his mother  the galvanic skin response is flat. There's no emotional reaction to his mother  because that wire going from the visual areas to the emotional centers is cut. So his vision is normal because the visual areas are normal  his emotions are normal    he'll laugh  he'll cry  so on and so forth    but the wire from vision to emotions is cut and therefore he has this delusion that his mother is an impostor. It's a lovely example of the sort of thing we do  take a bizarre  seemingly incomprehensible  neural psychiatric syndrome and say that the standard Freudian view is wrong  that  in fact  you can come up with a precise explanation in terms of the known neural anatomy of the brain. By the way  if this patient then goes  and mother phones from an adjacent room    phones him    and he picks up the phone  and he says   Wow  mom  how are you  Where are you   There's no delusion through the phone. Then  she approaches him after an hour  he says   Who are you  You look just like my mother.  OK  The reason is there's a separate pathway going from the hearing centers in the brain to the emotional centers  and that's not been cut by the accident. So this explains why through the phone he recognizes his mother  no problem. When he sees her in person  he says it's an impostor. OK  how is all this complex circuitry set up in the brain  Is it nature  genes  or is it nurture  And we approach this problem by considering another curious syndrome called phantom limb. And you all know what a phantom limb is. When an arm is amputated  or a leg is amputated  for gangrene  or you lose it in war    for example  in the Iraq war  it's now a serious problem    you continue to vividly feel the presence of that missing arm  and that's called a phantom arm or a phantom leg. In fact  you can get a phantom with almost any part of the body. Believe it or not  even with internal viscera. I've had patients with the uterus removed    hysterectomy    who have a phantom uterus  including phantom menstrual cramps at the appropriate time of the month. And in fact  one student asked me the other day   Do they get phantom PMS   A subject ripe for scientific enquiry  but we haven't pursued that. OK  now the next question is  what can you learn about phantom limbs by doing experiments  One of the things we've found was  about half the patients with phantom limbs claim that they can move the phantom. It'll pat his brother on the shoulder  it'll answer the phone when it rings  it'll wave goodbye. These are very compelling  vivid sensations. The patient's not delusional. He knows that the arm is not there  but  nevertheless  it's a compelling sensory experience for the patient. But however  about half the patients  this doesn't happen. The phantom limb    they'll say   But doctor  the phantom limb is paralyzed. It's fixed in a clenched spasm and it's excruciatingly painful. If only I could move it  maybe the pain will be relieved.  Now  why would a phantom limb be paralyzed  It sounds like an oxymoron. But when we were looking at the case sheets  what we found was  these people with the paralyzed phantom limbs  the original arm was paralyzed because of the peripheral nerve injury. The actual nerve supplying the arm was severed  was cut  by say  a motorcycle accident. So the patient had an actual arm  which is painful  in a sling for a few months or a year  and then  in a misguided attempt to get rid of the pain in the arm  the surgeon amputates the arm  and then you get a phantom arm with the same pains  right  And this is a serious clinical problem. Patients become depressed. Some of them are driven to suicide  OK  So  how do you treat this syndrome  Now  why do you get a paralyzed phantom limb  When I looked at the case sheet  I found that they had an actual arm  and the nerves supplying the arm had been cut  and the actual arm had been paralyzed  and lying in a sling for several months before the amputation  and this pain then gets carried over into the phantom itself. Why does this happen  When the arm was intact  but paralyzed  the brain sends commands to the arm  the front of the brain  saying   Move   but it's getting visual feedback saying   No.  Move. No. Move. No. Move. No. And this gets wired into the circuitry of the brain  and we call this learned paralysis  OK  The brain learns  because of this Hebbian  associative link  that the mere command to move the arm creates a sensation of a paralyzed arm. And then  when you've amputated the arm  this learned paralysis carries over into your body image and into your phantom  OK  Now  how do you help these patients  How do you unlearn the learned paralysis  so you can relieve him of this excruciating  clenching spasm of the phantom arm  Well  we said  what if you now send the command to the phantom  but give him visual feedback that it's obeying his command  right  Maybe you can relieve the phantom pain  the phantom cramp. How do you do that  Well  virtual reality. But that costs millions of dollars. So  I hit on a way of doing this for three dollars  but don't tell my funding agencies. OK  What you do is you create what I call a mirror box. You have a cardboard box with a mirror in the middle  and then you put the phantom    so my first patient  Derek  came in. He had his arm amputated    years ago. He had a brachial avulsion  so the nerves were cut and the arm was paralyzed  lying in a sling for a year  and then the arm was amputated. He had a phantom arm  excruciatingly painful  and he couldn't move it. It was a paralyzed phantom arm. So he came there  and I gave him a mirror like that  in a box  which I call a mirror box  right  And the patient puts his phantom left arm  which is clenched and in spasm  on the left side of the mirror  and the normal hand on the right side of the mirror  and makes the same posture  the clenched posture  and looks inside the mirror. And what does he experience  He looks at the phantom being resurrected  because he's looking at the reflection of the normal arm in the mirror  and it looks like this phantom has been resurrected.  Now   I said   now  look  wiggle your phantom    your real fingers  or move your real fingers while looking in the mirror.  He's going to get the visual impression that the phantom is moving  right  That's obvious  but the astonishing thing is  the patient then says   Oh my God  my phantom is moving again  and the pain  the clenching spasm  is relieved.  And remember  my first patient who came in       thank you.  Applause  My first patient came in  and he looked in the mirror  and I said   Look at your reflection of your phantom.  And he started giggling  he says   I can see my phantom.  But he's not stupid. He knows it's not real. He knows it's a mirror reflection  but it's a vivid sensory experience. Now  I said   Move your normal hand and phantom.  He said   Oh  I can't move my phantom. You know that. It's painful.  I said   Move your normal hand.  And he says   Oh my God  my phantom is moving again. I don't believe this  And my pain is being relieved.  OK  And then I said   Close your eyes.  He closes his eyes.  And move your normal hand.   Oh  nothing. It's clenched again.   OK  open your eyes.   Oh my God  oh my God  it's moving again   So  he was like a kid in a candy store. So  I said  OK  this proves my theory about learned paralysis and the critical role of visual input  but I'm not going to get a Nobel Prize for getting somebody to move his phantom limb. It's a completely useless ability  if you think about it. But then I started realizing  maybe other kinds of paralysis that you see in neurology  like stroke  focal dystonias    there may be a learned component to this  which you can overcome with the simple device of using a mirror. So  I said   Look  Derek     well  first of all  the guy can't just go around carrying a mirror to alleviate his pain    I said   Look  Derek  take it home and practice with it for a week or two. Maybe  after a period of practice  you can dispense with the mirror  unlearn the paralysis  and start moving your paralyzed arm  and then  relieve yourself of pain.  So he said OK  and he took it home. I said   Look  it's  after all  two dollars. Take it home.  So  he took it home  and after two weeks  he phones me  and he said   Doctor  you're not going to believe this.  I said   What   He said   It's gone.  I said   What's gone   I thought maybe the mirror box was gone. He said   No  no  no  you know this phantom I've had for the last    years  It's disappeared.  And I said    I got worried  I said  my God  I mean I've changed this guy's body image  what about human subjects  ethics and all of that  And I said   Derek  does this bother you   He said   No  last three days  I've not had a phantom arm and therefore no phantom elbow pain  no clenching  no phantom forearm pain  all those pains are gone away. But the problem is I still have my phantom fingers dangling from the shoulder  and your box doesn't reach.   So  can you change the design and put it on my forehead  so I can  you know  do this and eliminate my phantom fingers   He thought I was some kind of magician. Now  why does this happen  It's because the brain is faced with tremendous sensory conflict. It's getting messages from vision saying the phantom is back. On the other hand  there's no proprioception  muscle signals saying that there is no arm  right  And your motor command saying there is an arm  and  because of this conflict  the brain says  to hell with it  there is no phantom  there is no arm  right  It goes into a sort of denial    it gates the signals. And when the arm disappears  the bonus is  the pain disappears because you can't have disembodied pain floating out there  in space. So  that's the bonus. Now  this technique has been tried on dozens of patients by other groups in Helsinki  so it may prove to be valuable as a treatment for phantom pain  and indeed  people have tried it for stroke rehabilitation. Stroke you normally think of as damage to the fibers  nothing you can do about it. But  it turns out some component of stroke paralysis is also learned paralysis  and maybe that component can be overcome using mirrors. This has also gone through clinical trials  helping lots and lots of patients. OK  let me switch gears now to the third part of my talk  which is about another curious phenomenon called synesthesia. This was discovered by Francis Galton in the nineteenth century. He was a cousin of Charles Darwin. He pointed out that certain people in the population  who are otherwise completely normal  had the following peculiarity  every time they see a number  it's colored. Five is blue  seven is yellow  eight is chartreuse  nine is indigo  OK  Bear in mind  these people are completely normal in other respects. Or C sharp    sometimes  tones evoke color. C sharp is blue  F sharp is green  another tone might be yellow  right  Why does this happen  This is called synesthesia. Galton called it synesthesia  a mingling of the senses. In us  all the senses are distinct. These people muddle up their senses. Why does this happen  One of the two aspects of this problem are very intriguing. Synesthesia runs in families  so Galton said this is a hereditary basis  a genetic basis. Secondly  synesthesia is about    and this is what gets me to my point about the main theme of this lecture  which is about creativity    synesthesia is eight times more common among artists  poets  novelists and other creative people than in the general population. Why would that be  I'm going to answer that question. It's never been answered before. OK  what is synesthesia  What causes it  Well  there are many theories. One theory is they're just crazy. Now  that's not really a scientific theory  so we can forget about it. Another theory is they are acid junkies and potheads  right  Now  there may be some truth to this  because it's much more common here in the Bay Area than in San Diego. OK. Now  the third theory is that    well  let's ask ourselves what's really going on in synesthesia. All right  So  we found that the color area and the number area are right next to each other in the brain  in the fusiform gyrus. So we said  there's some accidental cross wiring between color and numbers in the brain. So  every time you see a number  you see a corresponding color  and that's why you get synesthesia. Now remember    why does this happen  Why would there be crossed wires in some people  Remember I said it runs in families  That gives you the clue. And that is  there is an abnormal gene  a mutation in the gene that causes this abnormal cross wiring. In all of us  it turns out we are born with everything wired to everything else. So  every brain region is wired to every other region  and these are trimmed down to create the characteristic modular architecture of the adult brain. So  if there's a gene causing this trimming and if that gene mutates  then you get deficient trimming between adjacent brain areas. And if it's between number and color  you get number color synesthesia. If it's between tone and color  you get tone color synesthesia. So far  so good. Now  what if this gene is expressed everywhere in the brain  so everything is cross connected  Well  think about what artists  novelists and poets have in common  the ability to engage in metaphorical thinking  linking seemingly unrelated ideas  such as   It is the east  and Juliet is the Sun.  Well  you don't say  Juliet is the sun  does that mean she's a glowing ball of fire  I mean  schizophrenics do that  but it's a different story  right  Normal people say  she's warm like the sun  she's radiant like the sun  she's nurturing like the sun. Instantly  you've found the links. Now  if you assume that this greater cross wiring and concepts are also in different parts of the brain  then it's going to create a greater propensity towards metaphorical thinking and creativity in people with synesthesia. And  hence  the eight times more common incidence of synesthesia among poets  artists and novelists. OK  it's a very phrenological view of synesthesia. The last demonstration    can I take one minute  OK. I'm going to show you that you're all synesthetes  but you're in denial about it. Here's what I call Martian alphabet. Just like your alphabet  A is A  B is B  C is C. Different shapes for different phonemes  right  Here  you've got Martian alphabet. One of them is Kiki  one of them is Buba. Which one is Kiki and which one is Buba  How many of you think that's Kiki and that's Buba  Raise your hands. Well  it's one or two mutants. How many of you think that's Buba  that's Kiki  Raise your hands. Ninety nine percent of you. Now  none of you is a Martian. How did you do that  It's because you're all doing a cross model synesthetic abstraction  meaning you're saying that that sharp inflection    ki ki  in your auditory cortex  the hair cells being excited    Kiki  mimics the visual inflection  sudden inflection of that jagged shape. Now  this is very important  because what it's telling you is your brain is engaging in a primitive    it's just    it looks like a silly illusion  but these photons in your eye are doing this shape  and hair cells in your ear are exciting the auditory pattern  but the brain is able to extract the common denominator. It's a primitive form of abstraction  and we now know this happens in the fusiform gyrus of the brain  because when that's damaged  these people lose the ability to engage in Buba Kiki  but they also lose the ability to engage in metaphor. If you ask this guy  what     all that glitters is not gold   what does that mean   The patient says   Well  if it's metallic and shiny  it doesn't mean it's gold. You have to measure its specific gravity  OK   So  they completely miss the metaphorical meaning. So  this area is about eight times the size in higher    especially in humans    as in lower primates. Something very interesting is going on here in the angular gyrus  because it's the crossroads between hearing  vision and touch  and it became enormous in humans. And something very interesting is going on. And I think it's a basis of many uniquely human abilities like abstraction  metaphor and creativity. All of these questions that philosophers have been studying for millennia  we scientists can begin to explore by doing brain imaging  and by studying patients and asking the right questions. Thank you. Sorry about that.\n"
     ]
    }
   ],
   "source": [
    "print(pms_talks[0])"
   ]
  },
  {
   "cell_type": "markdown",
   "metadata": {},
   "source": [
    "Okay, this is weird. Filtering for use of \"PMS\" turns up 2 talks, and in those talks \"PMS\" is used 49 times in one and 1 time by the other. The length of the two talks is 2076 to 4405 words. (The shorter talk with the higher incidence of \"PMS\" is by a woman; the longer talk with only one occurrence is by a man.) \n",
    "\n",
    "I would argue that the number of talks in which a word occurs does have some affect on how we think of a word \"gendering\" a speaker, or, obversely, how a speaker's gender affects our understanding of a word's usage. So, do we also need to keep count of the number of texts in which a word occurs? "
   ]
  },
  {
   "cell_type": "markdown",
   "metadata": {},
   "source": [
    "## Gendered Talks"
   ]
  },
  {
   "cell_type": "markdown",
   "metadata": {},
   "source": [
    "The next step is to create two additional collections filtered by the `gender` column of the dataframe. What happens in the first line below is that we filter the dataframe, in the line that follows we pull the text column out. Originally, I had this as one line:\n",
    "\n",
    "    f_talks = TEDtalks[TEDtalks.gender == 'female'].text.tolist()\n",
    "\n",
    "But that produced a string and not a list object. I don't know why the one line would not work.\n",
    "\n",
    "**2018-03-22**: Now it's working. Did I have `texts.tolist()` -- I'm not clear what happened."
   ]
  },
  {
   "cell_type": "code",
   "execution_count": null,
   "metadata": {
    "collapsed": true
   },
   "outputs": [],
   "source": [
    "# Filter by gender\n",
    "\n",
    "m_talks = TEDtalks[TEDtalks.gender == 'male'].text.tolist()\n",
    "f_talks = TEDtalks[TEDtalks.gender == 'female'].text.tolist()\n",
    "\n",
    "# A quick check of numbers:\n",
    "\n",
    "print(\"Of the {} TED talks given, {} were given by women and {} by men.\".format\n",
    "      (len(texts), len(f_talks), len(m_talks)))"
   ]
  },
  {
   "cell_type": "code",
   "execution_count": null,
   "metadata": {
    "collapsed": true
   },
   "outputs": [],
   "source": [
    "1437 / 607"
   ]
  },
  {
   "cell_type": "markdown",
   "metadata": {},
   "source": [
    "TODO: One thing to do here is to compare the talks to see which words are used **only** by women or **only** by men."
   ]
  },
  {
   "cell_type": "code",
   "execution_count": null,
   "metadata": {
    "collapsed": true
   },
   "outputs": [],
   "source": [
    "f_relative = relafreq(f_talks)\n",
    "m_relative = relafreq(m_talks)"
   ]
  },
  {
   "cell_type": "code",
   "execution_count": null,
   "metadata": {
    "collapsed": true
   },
   "outputs": [],
   "source": [
    "# Just a way to check against rank\n",
    "import random\n",
    "random_num = random.randint(1,500)\n",
    "print(random_num, f_relative[random_num], m_relative[random_num])"
   ]
  },
  {
   "cell_type": "markdown",
   "metadata": {},
   "source": [
    "## The Other Talks"
   ]
  },
  {
   "cell_type": "markdown",
   "metadata": {},
   "source": [
    "Out of curiosity, how many talks are given by more than one speaker or by a non-single gender speaker:"
   ]
  },
  {
   "cell_type": "code",
   "execution_count": null,
   "metadata": {
    "collapsed": true
   },
   "outputs": [],
   "source": [
    "# How many talks does that leave:\n",
    "\n",
    "len(texts) - (len(f_talks) + len(m_talks))"
   ]
  },
  {
   "cell_type": "code",
   "execution_count": null,
   "metadata": {
    "collapsed": true
   },
   "outputs": [],
   "source": [
    "o_talks = TEDtalks[(TEDtalks.gender != 'male')&(TEDtalks.gender != 'female')]\n",
    "\n",
    "# This will show you all 25 rows:\n",
    "o_talks.head(25)"
   ]
  },
  {
   "cell_type": "markdown",
   "metadata": {},
   "source": [
    "## Comparing M/F Word Usage"
   ]
  },
  {
   "cell_type": "markdown",
   "metadata": {},
   "source": [
    "I'm going to start by converting the list of tuples to a dictionary both because I think matching keys is going to be easier (at least based on my limited coding ability) and because, according to what I read, it appears to be faster. Since we don't really need a ranked listing for this work, it would probably be wise to rewrite the `RelaFreq` function so that it produces a dictionary. No reason to go back and forth like this."
   ]
  },
  {
   "cell_type": "code",
   "execution_count": null,
   "metadata": {
    "collapsed": true
   },
   "outputs": [],
   "source": [
    "f_rf = dict(f_relative)\n",
    "\n",
    "m_rf = dict(m_relative)"
   ]
  },
  {
   "cell_type": "markdown",
   "metadata": {},
   "source": [
    "Some notes on how to compare -- as I write this I am trying to find a way to limit my for loop through the two dictionaries only to N results just so I can see if it's working. \n",
    "\n",
    "[Python - Return first N key:value pairs from dict](https://stackoverflow.com/questions/7971618/python-return-first-n-keyvalue-pairs-from-dict)\n"
   ]
  },
  {
   "cell_type": "code",
   "execution_count": null,
   "metadata": {
    "collapsed": true
   },
   "outputs": [],
   "source": [
    "# a way to match words in the f/m dictionaries\n",
    "\n",
    "for key in f_rf:\n",
    "    if key in m_rf:\n",
    "        print(key, f_rf[key], m_rf[key])"
   ]
  },
  {
   "cell_type": "markdown",
   "metadata": {},
   "source": [
    "What I decided to do was run the cell and then stop it. The results from above look like this:\n",
    "\n",
    "    hour 8.613999628814925e-05 0.00012193460211598934\n",
    "    debased 7.830908753468114e-07 2.924091177841471e-07\n",
    "    deteriorate 3.1323635013872456e-06 1.7544547067048825e-06\n",
    "    perimeter 1.5661817506936228e-06 3.508909413409765e-06\n",
    "\n",
    "What we need now is to compare one list against the other for differences in usage. I am starting with twice as often to see what that turns up. >>> I need to re-read the literature here to see what comparison thresholds have been used. \n",
    "\n",
    "**2018-03-26**: I decided that the easiest way to approach this is to create a dictionary comprehension that divides the female relative frequency by the male. We can then look at numbers >1 for the words preferred by women and numbers < 1 for words preferred by men."
   ]
  },
  {
   "cell_type": "code",
   "execution_count": null,
   "metadata": {
    "collapsed": true
   },
   "outputs": [],
   "source": [
    "# We are just going to do math:\n",
    "\n",
    "weighted = {f_rf[key]/m_rf[key] for key in f_rf}\n",
    "\n",
    "for key in f_rf:\n",
    "    \n",
    "if f_rf[key] > m_rf[key]:\n",
    "    print(key, f_rf[key], m_rf[key])"
   ]
  },
  {
   "cell_type": "code",
   "execution_count": null,
   "metadata": {
    "collapsed": true
   },
   "outputs": [],
   "source": [
    "# Create a dataframe from a list of dictionaries\n",
    "comp = pandas.DataFrame([f_rf, m_rf]).T\n",
    "\n",
    "# Rename the columns to something human readable\n",
    "comp.columns = ['women', 'men']\n",
    "\n",
    "# Check our results\n",
    "comp.head()"
   ]
  },
  {
   "cell_type": "code",
   "execution_count": null,
   "metadata": {
    "collapsed": true
   },
   "outputs": [],
   "source": [
    "# I'm doing the vision manually below instead of using the built-in functionality: \n",
    "# DataFrame.divide(other, axis='columns', level=None, fill_value=None)\n",
    "ratios = comp.assign(ratio = comp.women / comp.men)"
   ]
  },
  {
   "cell_type": "code",
   "execution_count": null,
   "metadata": {
    "collapsed": true,
    "scrolled": true
   },
   "outputs": [],
   "source": [
    "ratios.head()"
   ]
  },
  {
   "cell_type": "code",
   "execution_count": null,
   "metadata": {
    "collapsed": true
   },
   "outputs": [],
   "source": [
    "ratios.index.rename('word', inplace=True)"
   ]
  },
  {
   "cell_type": "code",
   "execution_count": null,
   "metadata": {
    "collapsed": true,
    "scrolled": true
   },
   "outputs": [],
   "source": [
    "ratios.head()"
   ]
  },
  {
   "cell_type": "code",
   "execution_count": null,
   "metadata": {
    "collapsed": true
   },
   "outputs": [],
   "source": [
    "import matplotlib.pyplot as plt\n",
    "\n",
    "ratios.plot.scatter(x='word', y='ratio')"
   ]
  },
  {
   "cell_type": "code",
   "execution_count": null,
   "metadata": {
    "collapsed": true
   },
   "outputs": [],
   "source": [
    "occurs = ratios.assign(woccurs = comp.women * 4493178, moccurs = comp.men*4493178)"
   ]
  },
  {
   "cell_type": "code",
   "execution_count": null,
   "metadata": {
    "collapsed": true
   },
   "outputs": [],
   "source": [
    "# And now to sort:\n",
    "\n",
    "occurs.sort_values(by='ratio', ascending=False)"
   ]
  }
 ],
 "metadata": {
  "kernelspec": {
   "display_name": "Python 3",
   "language": "python",
   "name": "python3"
  },
  "language_info": {
   "codemirror_mode": {
    "name": "ipython",
    "version": 3
   },
   "file_extension": ".py",
   "mimetype": "text/x-python",
   "name": "python",
   "nbconvert_exporter": "python",
   "pygments_lexer": "ipython3",
   "version": "3.4.8"
  }
 },
 "nbformat": 4,
 "nbformat_minor": 2
}
