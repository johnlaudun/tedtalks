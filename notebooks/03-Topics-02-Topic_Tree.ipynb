{
 "cells": [
  {
   "cell_type": "code",
   "execution_count": 1,
   "metadata": {},
   "outputs": [],
   "source": [
    "# Inelegant but we are only loading three files:\n",
    "topics_35 = open('../output/nmf_35_topics.txt', 'r').read().splitlines()\n",
    "topics_45 = open('../output/nmf_45_topics.txt', 'r').read().splitlines()\n",
    "topics_55 = open('../output/nmf_55_topics.txt', 'r').read().splitlines()"
   ]
  },
  {
   "cell_type": "code",
   "execution_count": 2,
   "metadata": {},
   "outputs": [],
   "source": [
    "# The Jaccard coefficient is going to be our measure of similarity. \n",
    "# (This is entirely provisional, but it performs better here than the\n",
    "# edit distance.)\n",
    "def jaccard_similarity(query, document):\n",
    "    intersection = set(query).intersection(set(document))\n",
    "    union = set(query).union(set(document))\n",
    "    return len(intersection)/len(union)"
   ]
  },
  {
   "cell_type": "code",
   "execution_count": 4,
   "metadata": {
    "tags": []
   },
   "outputs": [
    {
     "name": "stdout",
     "output_type": "stream",
     "text": [
      "35-0 and 45-0 match.\n",
      "35-1 and 45-1 match.\n",
      "35-2 and 45-2 match.\n",
      "35-3 and 45-3 match.\n",
      "35-4 and 45-4 match.\n",
      "35-5 and 45-5 match.\n",
      "35-7 and 45-7 match.\n",
      "35-8 and 45-8 match.\n",
      "35-9 and 45-9 match.\n",
      "35-10 and 45-10 match.\n",
      "35-11 and 45-11 match.\n",
      "35-12 and 45-12 match.\n",
      "35-13 and 45-13 match.\n",
      "35-14 and 45-14 match.\n",
      "35-15 and 45-15 match.\n",
      "35-16 and 45-16 match.\n",
      "35-17 and 45-17 match.\n",
      "35-18 and 45-18 match.\n",
      "35-19 and 45-22 match.\n",
      "35-20 and 45-20 match.\n",
      "35-21 and 45-21 match.\n",
      "35-23 and 45-23 match.\n",
      "35-25 and 45-25 match.\n",
      "35-27 and 45-31 match.\n",
      "35-28 and 45-28 match.\n",
      "35-29 and 45-29 match.\n",
      "35-30 and 45-33 match.\n",
      "35-32 and 45-24 match.\n",
      "35-35 and 45-34 match.\n",
      "35-36 and 45-30 match.\n",
      "35-37 and 45-6 match.\n",
      "35-38 and 45-27 match.\n",
      "35-40 and 45-32 match.\n",
      "35-42 and 45-15 match.\n",
      "35-44 and 45-26 match.\n"
     ]
    }
   ],
   "source": [
    "for ik, iv in enumerate(topics_45):\n",
    "    for jk, jv in enumerate(topics_35):\n",
    "        if jaccard_similarity(iv.split(\" \"), jv.split(\" \")) > 0.35:\n",
    "            print(f\"35-{ik} and 45-{jk} match.\")"
   ]
  },
  {
   "cell_type": "code",
   "execution_count": null,
   "metadata": {},
   "outputs": [],
   "source": []
  }
 ],
 "metadata": {
  "kernelspec": {
   "display_name": "Python 3",
   "language": "python",
   "name": "python3"
  },
  "language_info": {
   "codemirror_mode": {
    "name": "ipython",
    "version": 3
   },
   "file_extension": ".py",
   "mimetype": "text/x-python",
   "name": "python",
   "nbconvert_exporter": "python",
   "pygments_lexer": "ipython3",
   "version": "3.8.2"
  }
 },
 "nbformat": 4,
 "nbformat_minor": 2
}
