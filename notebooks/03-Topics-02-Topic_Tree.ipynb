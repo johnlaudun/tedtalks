{
 "cells": [
  {
   "cell_type": "code",
   "execution_count": 1,
   "metadata": {},
   "outputs": [],
   "source": [
    "# Inelegant but we are only loading three files:\n",
    "topics_35 = open('../output/nmf_35_topics.txt', 'r').read().splitlines()\n",
    "topics_45 = open('../output/nmf_45_topics.txt', 'r').read().splitlines()\n",
    "topics_55 = open('../output/nmf_55_topics.txt', 'r').read().splitlines()"
   ]
  },
  {
   "cell_type": "code",
   "execution_count": 2,
   "metadata": {},
   "outputs": [],
   "source": [
    "# The Jaccard coefficient is going to be our measure of similarity. \n",
    "# (This is entirely provisional, but it performs better here than the\n",
    "# edit distance.)\n",
    "def jaccard_similarity(query, document):\n",
    "    intersection = set(query).intersection(set(document))\n",
    "    union = set(query).union(set(document))\n",
    "    return len(intersection)/len(union)"
   ]
  },
  {
   "cell_type": "code",
   "execution_count": 3,
   "metadata": {
    "tags": []
   },
   "outputs": [
    {
     "name": "stdout",
     "output_type": "stream",
     "text": [
      "Jc = Jaccard coefficient\n",
      "========================\n",
      "35-0 and 45-0 have a Jc of 0.95.\n",
      "35-1 and 45-1 have a Jc of 0.95.\n",
      "35-2 and 45-2 have a Jc of 0.90.\n",
      "35-3 and 45-3 have a Jc of 0.90.\n",
      "35-4 and 45-4 have a Jc of 1.00.\n",
      "35-5 and 45-5 have a Jc of 0.95.\n",
      "35-7 and 45-7 have a Jc of 1.00.\n",
      "35-8 and 45-8 have a Jc of 0.90.\n",
      "35-9 and 45-9 have a Jc of 0.91.\n",
      "35-10 and 45-10 have a Jc of 1.00.\n",
      "35-11 and 45-11 have a Jc of 0.95.\n",
      "35-13 and 45-13 have a Jc of 0.96.\n",
      "35-14 and 45-14 have a Jc of 0.96.\n",
      "35-16 and 45-16 have a Jc of 1.00.\n",
      "35-17 and 45-17 have a Jc of 0.90.\n",
      "35-18 and 45-18 have a Jc of 1.00.\n",
      "35-19 and 45-22 have a Jc of 0.96.\n",
      "35-20 and 45-20 have a Jc of 0.90.\n",
      "35-21 and 45-21 have a Jc of 0.95.\n",
      "35-23 and 45-23 have a Jc of 1.00.\n",
      "35-25 and 45-25 have a Jc of 0.81.\n",
      "35-27 and 45-31 have a Jc of 1.00.\n",
      "35-28 and 45-28 have a Jc of 0.95.\n",
      "35-29 and 45-29 have a Jc of 1.00.\n",
      "35-32 and 45-24 have a Jc of 1.00.\n",
      "35-35 and 45-34 have a Jc of 0.95.\n",
      "35-36 and 45-30 have a Jc of 1.00.\n",
      "35-40 and 45-32 have a Jc of 1.00.\n"
     ]
    }
   ],
   "source": [
    "print(\"Jc = Jaccard coefficient\")\n",
    "print(\"========================\")\n",
    "for ik, iv in enumerate(topics_45):\n",
    "    for jk, jv in enumerate(topics_35):\n",
    "        if jaccard_similarity(iv.split(\" \"), jv.split(\" \")) > 0.5:\n",
    "            print(f\"35-{ik} and 45-{jk} have a Jc of {jaccard_similarity(iv,jv):.2f}.\")"
   ]
  },
  {
   "cell_type": "code",
   "execution_count": null,
   "metadata": {},
   "outputs": [],
   "source": []
  }
 ],
 "metadata": {
  "kernelspec": {
   "display_name": "Python 3",
   "language": "python",
   "name": "python3"
  },
  "language_info": {
   "codemirror_mode": {
    "name": "ipython",
    "version": 3
   },
   "file_extension": ".py",
   "mimetype": "text/x-python",
   "name": "python",
   "nbconvert_exporter": "python",
   "pygments_lexer": "ipython3",
   "version": "3.8.2"
  }
 },
 "nbformat": 4,
 "nbformat_minor": 2
}
