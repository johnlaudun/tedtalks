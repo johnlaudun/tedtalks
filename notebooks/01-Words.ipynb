{
 "cells": [
  {
   "cell_type": "markdown",
   "metadata": {},
   "source": [
    "# Words\n",
    "\n",
    "More than anything, getting the tokenization of texts done correctly "
   ]
  },
  {
   "cell_type": "code",
   "execution_count": 12,
   "metadata": {
    "scrolled": true
   },
   "outputs": [
    {
     "name": "stdout",
     "output_type": "stream",
     "text": [
      "['rowID', 'Talk_ID', 'public_url', 'speaker_name', 'headline', 'description', 'event', 'duration', 'published', 'tags', 'views', 'text']\n",
      "(2657, 12)\n"
     ]
    }
   ],
   "source": [
    "# Load the CSV into a dataframe and then place all the texts into a list:\n",
    "\n",
    "import pandas\n",
    "\n",
    "with open('../data/Release_v0/TEDonly_final.csv') as f:\n",
    "    colnames = f.readline().strip().split(\",\")\n",
    "\n",
    "print(colnames)\n",
    "\n",
    "df = pandas.read_csv('../data/Release_v0/TEDonly_final.csv', names=colnames)\n",
    "print(df.shape)\n",
    "\n",
    "texts = df.text.tolist()"
   ]
  },
  {
   "cell_type": "code",
   "execution_count": 15,
   "metadata": {},
   "outputs": [
    {
     "name": "stdout",
     "output_type": "stream",
     "text": [
      "0\n"
     ]
    }
   ],
   "source": [
    "# Looking for empty texts here:\n",
    "for text in texts:\n",
    "    if len(text) < 10:\n",
    "        print(texts.index(text))"
   ]
  },
  {
   "cell_type": "code",
   "execution_count": null,
   "metadata": {
    "collapsed": true
   },
   "outputs": [],
   "source": []
  }
 ],
 "metadata": {
  "kernelspec": {
   "display_name": "Python 3",
   "language": "python",
   "name": "python3"
  },
  "language_info": {
   "codemirror_mode": {
    "name": "ipython",
    "version": 3
   },
   "file_extension": ".py",
   "mimetype": "text/x-python",
   "name": "python",
   "nbconvert_exporter": "python",
   "pygments_lexer": "ipython3",
   "version": "3.6.7"
  }
 },
 "nbformat": 4,
 "nbformat_minor": 2
}
