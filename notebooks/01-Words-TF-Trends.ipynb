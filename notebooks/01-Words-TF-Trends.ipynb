{
 "cells": [
  {
   "cell_type": "markdown",
   "metadata": {},
   "source": [
    "# Trends\n",
    "\n",
    "We are going to do some re-importing of texts here by year. The first time around we are going to do the combined dataset and look for overall trends, and then we will follow that up by loading both the `only` and `plus` datasets separately to see if there are any differences worth noting. Our goal here is to see what words trend not only to learn about TED talks as a developing collection of events but it might also be possible to compare the trends glimpsed here against either trends from the BYU corpus or Google Trends itself."
   ]
  },
  {
   "cell_type": "code",
   "execution_count": 1,
   "metadata": {},
   "outputs": [],
   "source": [
    "import pandas as pd\n",
    "# from sklearn.feature_extraction.text import CountVectorizer\n",
    "# from sklearn.externals import joblib"
   ]
  },
  {
   "cell_type": "code",
   "execution_count": 11,
   "metadata": {},
   "outputs": [],
   "source": [
    "import re"
   ]
  },
  {
   "cell_type": "markdown",
   "metadata": {},
   "source": [
    "## Loading the Data\n",
    "\n",
    "Working with only the data from the release, we have two data sets, `TEDonly` and `TEDplus` that we have previously merged into `TEDall_speakers` with an additional column indicating from which data set a given talk is taken. The first thing we will do is to load `TEDall`."
   ]
  },
  {
   "cell_type": "code",
   "execution_count": 2,
   "metadata": {
    "scrolled": true
   },
   "outputs": [
    {
     "data": {
      "text/plain": [
       "(1747, 27)"
      ]
     },
     "execution_count": 2,
     "metadata": {},
     "output_type": "execute_result"
    }
   ],
   "source": [
    "df = pd.read_csv('../output/TEDall_speakers.csv')\n",
    "df.shape"
   ]
  },
  {
   "cell_type": "markdown",
   "metadata": {},
   "source": [
    "We need to determine a way to get our texts into the appropriate year bins. Let's see where dates are stored:"
   ]
  },
  {
   "cell_type": "code",
   "execution_count": 4,
   "metadata": {
    "scrolled": true
   },
   "outputs": [
    {
     "name": "stdout",
     "output_type": "stream",
     "text": [
      "['Set', 'Talk_ID', 'public_url', 'headline', 'description', 'event', 'duration', 'published', 'tags', 'views', 'text', 'speaker_1', 'speaker1_occupation', 'speaker1_introduction', 'speaker1_profile', 'speaker_2', 'speaker2_occupation', 'speaker2_introduction', 'speaker2_profile', 'speaker_3', 'speaker3_occupation', 'speaker3_introduction', 'speaker3_profile', 'speaker_4', 'speaker4_occupation', 'speaker4_introduction', 'speaker4_profile']\n"
     ]
    }
   ],
   "source": [
    "with open('../output/TEDall_speakers.csv') as f:\n",
    "    columns = f.readline().strip().split(\",\")\n",
    "print(columns)"
   ]
  },
  {
   "cell_type": "markdown",
   "metadata": {},
   "source": [
    "It looks like we have two places to get a date: the event at which a talk occurred and the date on which the talk was published on the TED website. For now, let's see if we can find a way to work with the date on which the talk first occurred.\n",
    "\n",
    "To do that, we are going to get all the events and then compile them into a set and then go through the set to see what our next steps will look like."
   ]
  },
  {
   "cell_type": "code",
   "execution_count": 8,
   "metadata": {},
   "outputs": [
    {
     "name": "stdout",
     "output_type": "stream",
     "text": [
      "58\n",
      "{'TEDMED 2017', 'TEDGlobal 2009', 'TED2005', 'TED1984', 'TEDYouth 2015', 'TEDYouth 2012', 'TEDGlobal>NYC', 'TEDActive 2014', 'TED2008', 'TEDWomen 2016', 'TEDMED 2014', 'TEDGlobal>Geneva', 'TEDYouth 2013', 'TEDActive 2011', 'TEDGlobal 2012', 'TEDWomen 2013', 'TEDMED 2012', 'TED2011', 'TED2002', 'TEDGlobal 2007', 'TEDGlobal 2011', 'TED2003', 'TED2007', 'TED2009', 'TED2013', 'TEDGlobal>London', 'TED2004', 'TED2012', 'TEDMED 2010', 'TED1994', 'TEDWomen 2010', 'TEDMED 2016', 'TEDSummit', 'TEDWomen 2017', 'TEDMED 2015', 'TEDGlobal 2017', 'TEDMED 2013', 'TED1998', 'TEDGlobal 2005', 'TEDYouth 2014', 'TED2015', 'TED2014', 'TEDGlobal 2013', 'TEDWomen 2015', 'TEDGlobal 2014', 'TED2017', 'TED2016', 'TED1990', 'TEDMED 2009', 'TED Senior Fellows at TEDGlobal 2010', 'TED2010', 'TED2006', 'TED2001', 'TEDGlobal 2010', 'TEDGlobalLondon', 'TEDMED 2011', 'TEDYouth 2011', 'TEDActive 2015'}\n"
     ]
    }
   ],
   "source": [
    "events = set(df.event.tolist())\n",
    "print(len(events))\n",
    "print(events)"
   ]
  },
  {
   "cell_type": "markdown",
   "metadata": {},
   "source": [
    "The events with years in them look good: we should be able to get the dates out using regex. In fact, let's build that now so that we can then filter out the events with dates in their name and get a list of the events for which we will need to assign a year. \n",
    "\n",
    "Neither `datetime` nor `isdigit()` will work here. the former expects dates to be more systematic and the latter expects dates to be set apart from words. Regex it is."
   ]
  },
  {
   "cell_type": "code",
   "execution_count": 14,
   "metadata": {},
   "outputs": [
    {
     "name": "stdout",
     "output_type": "stream",
     "text": [
      "['2017', '2009', '2005', '1984', '2015', '2012', '2014', '2008', '2016', '2014', '2013', '2011', '2012', '2013', '2012', '2011', '2002', '2007', '2011', '2003', '2007', '2009', '2013', '2004', '2012', '2010', '1994', '2010', '2016', '2017', '2015', '2017', '2013', '1998', '2005', '2014', '2015', '2014', '2013', '2015', '2014', '2017', '2016', '1990', '2009', '2010', '2010', '2006', '2001', '2010', '2011', '2011', '2015']\n"
     ]
    }
   ],
   "source": [
    "years = re.findall(r'\\d+', str(events))\n",
    "print(years)"
   ]
  },
  {
   "cell_type": "markdown",
   "metadata": {},
   "source": [
    "In a moment, we will use this either to add a label which is only a year or to replace the label for a series with the year -- not in our original dataset, of course. \n",
    "\n",
    "It is probably possible to find the strings without years in them in the set above, but with only 58 items and only a half dozen, at a glance, we can do this by hand: `TEDGlobal>NYC, TEDGlobal>Geneva, TEDGlobal>London, TEDSummit, TEDGlobalLondon.`\n",
    "\n",
    "With that list in hand, let's search the web and find the dates we need.\n",
    "```\n",
    "TEDGlobal>NYC: 2017\n",
    "TEDGlobal>Geneva: 2015\n",
    "TEDGlobal>London: 2015\n",
    "TEDSummit: 2016\n",
    "TEDGlobalLondon: 2015\n",
    "```\n",
    "So now to do a **replace** on those strings."
   ]
  },
  {
   "cell_type": "code",
   "execution_count": null,
   "metadata": {},
   "outputs": [],
   "source": []
  }
 ],
 "metadata": {
  "kernelspec": {
   "display_name": "Python 3",
   "language": "python",
   "name": "python3"
  },
  "language_info": {
   "codemirror_mode": {
    "name": "ipython",
    "version": 3
   },
   "file_extension": ".py",
   "mimetype": "text/x-python",
   "name": "python",
   "nbconvert_exporter": "python",
   "pygments_lexer": "ipython3",
   "version": "3.4.10"
  },
  "toc": {
   "base_numbering": 1,
   "nav_menu": {},
   "number_sections": true,
   "sideBar": true,
   "skip_h1_title": true,
   "title_cell": "Table of Contents",
   "title_sidebar": "Contents",
   "toc_cell": true,
   "toc_position": {},
   "toc_section_display": true,
   "toc_window_display": false
  }
 },
 "nbformat": 4,
 "nbformat_minor": 2
}
