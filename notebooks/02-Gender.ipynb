{
 "cells": [
  {
   "cell_type": "markdown",
   "metadata": {},
   "source": [
    "# Gender and TED talks\n",
    "\n",
    "One avenue of research in this project examines what -- if any -- relationship exists between the gender of a TED speaker and the talk that they give. To explore this line of thinking, we would need to have access to the gender that each speaker identifies with. \n",
    "\n",
    "One limitation of the data on the TED webpages is that there is no demographic information about the speakers such as age, race, or gender. In this notebook, we craft a method for detecting speakers' genders from the existing data within the collated speaker information from the TED website, including `speaker_occupation`, `speaker_introduction`, and `speaker_profile`. \n",
    "\n",
    "There are two parts to this method: 1) an automated gender detector, and 2) a non-automated procedure. For the first step, we extract the number and kinds of pronouns used in each of the three speaker variables: `speaker_occupation`, `speaker_introduction`, and `speaker_profile`. We then take a conservative approach to guessing a speaker's gender where the vast majority of pronouns need to be either stereotypically male or female. For any person who do not meet such a condition, we then work to determine their self-identified gender by reading their speaker information and referencing other media about the person. For anyone that we needed additional resources, they are noted in the resulting gender file. \n"
   ]
  },
  {
   "cell_type": "markdown",
   "metadata": {},
   "source": [
    "## Importing needed modules and data "
   ]
  },
  {
   "cell_type": "code",
   "execution_count": 1,
   "metadata": {},
   "outputs": [],
   "source": [
    "import pandas as pd\n",
    "import csv\n",
    "import string"
   ]
  },
  {
   "cell_type": "code",
   "execution_count": 2,
   "metadata": {},
   "outputs": [
    {
     "name": "stdout",
     "output_type": "stream",
     "text": [
      "df_only =  (992, 27) \n",
      "df_plus =  (755, 27)\n"
     ]
    }
   ],
   "source": [
    "df_only = pd.read_csv('../data/Release_v0/TEDonly_speakers_final.csv')\n",
    "df_plus = pd.read_csv('../data/Release_v0/TEDplus_speakers_final.csv')\n",
    "\n",
    "print(\"df_only = \", df_only.shape, \"\\n\" + \"df_plus = \", df_plus.shape)"
   ]
  },
  {
   "cell_type": "code",
   "execution_count": 3,
   "metadata": {},
   "outputs": [
    {
     "name": "stdout",
     "output_type": "stream",
     "text": [
      "11\n"
     ]
    }
   ],
   "source": [
    "col_names = df_only.columns\n",
    "col_list = list(col_names) \n",
    "sind = col_list.index(\"speaker_1\")\n",
    "print(sind)\n",
    "\n",
    "# https://stackoverflow.com/questions/9542738/python-find-in-list"
   ]
  },
  {
   "cell_type": "code",
   "execution_count": 4,
   "metadata": {},
   "outputs": [
    {
     "name": "stdout",
     "output_type": "stream",
     "text": [
      "['speaker_1', 'speaker1_occupation', 'speaker1_introduction', 'speaker1_profile', 'speaker_2', 'speaker2_occupation', 'speaker2_introduction', 'speaker2_profile', 'speaker_3', 'speaker3_occupation', 'speaker3_introduction', 'speaker3_profile', 'speaker_4', 'speaker4_occupation', 'speaker4_introduction', 'speaker4_profile']\n"
     ]
    }
   ],
   "source": [
    "test = df_only\n",
    "test.drop(test.columns[0:sind], axis=1, inplace=True)\n",
    "print(list(test.columns))"
   ]
  },
  {
   "cell_type": "code",
   "execution_count": 20,
   "metadata": {},
   "outputs": [
    {
     "name": "stdout",
     "output_type": "stream",
     "text": [
      "['speaker_1', 'speaker1_occupation', 'speaker1_introduction', 'speaker1_profile']\n",
      "<class 'pandas.core.frame.DataFrame'>\n",
      "         speaker                            occupation  \\\n",
      "0        Al Gore                      Climate advocate   \n",
      "1    David Pogue                  Technology columnist   \n",
      "2  Majora Carter    Activist for environmental justice   \n",
      "3   Ken Robinson                       Author/educator   \n",
      "4   Hans Rosling  Global health expert; data visionary   \n",
      "\n",
      "                                        introduction  \\\n",
      "0  Nobel Laureate Al Gore focused the world’s att...   \n",
      "1  David Pogue is the personal technology columni...   \n",
      "2  Majora Carter redefined the field of environme...   \n",
      "3  Creativity expert Sir Ken Robinson challenges ...   \n",
      "4  In Hans Rosling’s hands, data sings. Global tr...   \n",
      "\n",
      "                                             profile  \n",
      "0  Why you should listen\\nFormer Vice President A...  \n",
      "1  Why you should listen\\nWhich cell phone to cho...  \n",
      "2  Why you should listen\\nMajora Carter is a visi...  \n",
      "3  Why you should listen\\nWhy don't we get the be...  \n",
      "4  Why you should listen\\nEven the most worldly a...  \n"
     ]
    }
   ],
   "source": [
    "test1 = test.iloc[:,0:4]\n",
    "test1.columns=['speaker', 'occupation', 'introduction', 'profile']"
   ]
  },
  {
   "cell_type": "code",
   "execution_count": null,
   "metadata": {},
   "outputs": [],
   "source": [
    "# Above from https://stackoverflow.com/questions/47060980/...\n",
    "#        renaming-the-column-names-of-pandas-dataframe-is-not-working-as-expected-pytho"
   ]
  },
  {
   "cell_type": "code",
   "execution_count": 23,
   "metadata": {},
   "outputs": [
    {
     "data": {
      "text/html": [
       "<div>\n",
       "<style scoped>\n",
       "    .dataframe tbody tr th:only-of-type {\n",
       "        vertical-align: middle;\n",
       "    }\n",
       "\n",
       "    .dataframe tbody tr th {\n",
       "        vertical-align: top;\n",
       "    }\n",
       "\n",
       "    .dataframe thead th {\n",
       "        text-align: right;\n",
       "    }\n",
       "</style>\n",
       "<table border=\"1\" class=\"dataframe\">\n",
       "  <thead>\n",
       "    <tr style=\"text-align: right;\">\n",
       "      <th></th>\n",
       "      <th>speaker</th>\n",
       "      <th>occupation</th>\n",
       "      <th>introduction</th>\n",
       "      <th>profile</th>\n",
       "    </tr>\n",
       "  </thead>\n",
       "  <tbody>\n",
       "    <tr>\n",
       "      <th>642</th>\n",
       "      <td>Vint Cerf</td>\n",
       "      <td>Computer scientist</td>\n",
       "      <td>Vint Cerf, now the chief Internet evangelist a...</td>\n",
       "      <td>Why you should listen\\nTCP/IP. You may not kno...</td>\n",
       "    </tr>\n",
       "  </tbody>\n",
       "</table>\n",
       "</div>"
      ],
      "text/plain": [
       "       speaker          occupation  \\\n",
       "642  Vint Cerf  Computer scientist   \n",
       "\n",
       "                                          introduction  \\\n",
       "642  Vint Cerf, now the chief Internet evangelist a...   \n",
       "\n",
       "                                               profile  \n",
       "642  Why you should listen\\nTCP/IP. You may not kno...  "
      ]
     },
     "execution_count": 23,
     "metadata": {},
     "output_type": "execute_result"
    }
   ],
   "source": [
    "test4 = test.iloc[:,12:16]\n",
    "test4.columns=['speaker', 'occupation', 'introduction', 'profile']\n",
    "test4.dropna(how='all')"
   ]
  },
  {
   "cell_type": "markdown",
   "metadata": {},
   "source": [
    "## Distilling pronouns from prose\n",
    "\n",
    "The challenge with this extraction is balancing efficiency (and automation) with not incorrectly identifying any speaker's gender. To this, we classify speakers in two steps. First we use an automatic classifier that very conservatively assigns binary genders using pronoun ratios. The second step involves hand checking the information on each speaker and -- if needed -- checking additional media about the speaker.\n",
    "\n",
    "### Step 1 - Automatic gender detection\n",
    "\n",
    "In this step, we attempt to automatically detect the self-identification of speakers by finding pronouns within each speaker's variables: `speaker_occupation`, `speaker_introduction`, and `speaker_profile`. In this step, we compute the ratios of 1) male pronouns compared to all pronouns, 2) female pronouns compared to all pronouns, and 3) non-binary pronouns compared to all pronouns. If either of the first two ratios are very high, then we classify the speaker as male or female, respectively. We are very conservative in applying these labels, as we do not want to mis-identify any speakers. To aid in the next step (and for further investigations regarding the impact of gender), we store the counts for 1) male pronouns, 2) female pronouns, and 3) non-binary pronouns. "
   ]
  },
  {
   "cell_type": "code",
   "execution_count": 8,
   "metadata": {},
   "outputs": [],
   "source": [
    "# Pronoun lists\n",
    "male_pronouns = {'he', 'him', 'his', 'himself'}\n",
    "female_pronouns = {'she', 'her', 'hers', 'herself'}\n",
    "\n",
    "nonbinary_pronouns = {'they', 'them', 'their', 'theirs', 'themself', \n",
    "                    'e', 'ey', 'em', 'eir', 'eirs', 'eirself', \n",
    "                    'fae', 'faer', 'faers', 'faerself', \n",
    "                    'per', 'pers', 'perself',\n",
    "                    've', 'ver', 'vis', 'verself',\n",
    "                    'xe', 'xem', 'xyr', 'xyrs', 'xemself',\n",
    "                    'ze', 'zie', 'hir', 'hirs', 'hirself', \n",
    "                    'sie', 'zir', 'zis', 'zim', 'zieself', \n",
    "                    'emself', 'tey', 'ter', 'tem', 'ters', 'terself'} "
   ]
  },
  {
   "cell_type": "markdown",
   "metadata": {},
   "source": [
    "We next define a function that finds and counts the various pronouns used in the text of the `speaker_occupation`, `speaker_introduction`, and `speaker_profile` variables. "
   ]
  },
  {
   "cell_type": "code",
   "execution_count": null,
   "metadata": {},
   "outputs": [],
   "source": [
    "def find_gender(input_description):\n",
    "\tglobal male_pronouns, female_pronouns, nonbinary_pronouns\n",
    "\n",
    "\t# Initialize score variables\n",
    "\tmale_score = 0\n",
    "\tfemale_score = 0\n",
    "\tnonbinary_score = 0\n",
    "\n",
    "\t# Lower and isolate everyword of the description\n",
    "\tdes_lst = input_description.lower().split()\n",
    "\tfor word in des_lst:\n",
    "\t\tcleanword = word.strip(string.punctuation)\n",
    "\n",
    "\t\t# Add to the appropriate score\n",
    "\t\tif cleanword in male_pronouns:\n",
    "\t\t\tmale_score = male_score + 1\n",
    "\t\telif cleanword in female_pronouns:\n",
    "\t\t\tfemale_score = female_score + 1\n",
    "\t\telif cleanword in nonbinary_pronouns:\n",
    "\t\t\tnonbinary_score = nonbinary_score + 1\n",
    "\n",
    "\ttotal = male_score + female_score + nonbinary_score\n",
    "\n",
    "\tif total == 0: # Only happens if there are no pronouns\n",
    "\t\tgender = 'no pronouns'\n",
    "\t# elif (nonbinary_score <= (.1)*total):\n",
    "\t# Note: The above line is too harsh. \n",
    "\t\n",
    "\t# If there are two kinds of pronouns are zero\n",
    "\telif (male_score == 0) and (female_score == 0):\n",
    "\t\tgender = 'non-binary'\n",
    "\telif (male_score == 0) and (nonbinary_score == 0):\n",
    "\t\tgender = 'female'\n",
    "\telif (female_score == 0) and (nonbinary_score == 0):\n",
    "\t\tgender = 'male'\n",
    "\n",
    "\t# If there is only one kind of pronoun that is zero\n",
    "\telif (nonbinary_score <= 1):\n",
    "\t\tscore = (female_score - male_score) / (female_score + male_score)\n",
    "\t\tif score > 0.3:\n",
    "\t\t\tgender = 'female'\n",
    "\t\telif score < -0.3:\n",
    "\t\t\tgender = 'male'\n",
    "\t\telse:\n",
    "\t\t\tgender = 'undetected'\n",
    "\telif (male_score == 0):\n",
    "\t\tscore = (female_score - nonbinary_score) / (female_score + nonbinary_score)\n",
    "\t\tif score > 0.3:\n",
    "\t\t\tgender = 'female'\n",
    "\t\telif score < -0.3:\n",
    "\t\t\tgender = 'nonbinary'\n",
    "\t\telse:\n",
    "\t\t\tgender = 'undetected'\n",
    "\telif (female_score == 0):\n",
    "\t\tscore = (male_score - nonbinary_score) / (male_score + nonbinary_score)\n",
    "\t\tif score > 0.3:\n",
    "\t\t\tgender = 'male'\n",
    "\t\telif score < -0.3:\n",
    "\t\t\tgender = 'nonbinary'\n",
    "\t\telse:\n",
    "\t\t\tgender = 'undetected'\n",
    "\telse:\n",
    "\t\tgender = 'last case'\n",
    "\n",
    "\treturn (gender, male_score, female_score, nonbinary_score)"
   ]
  }
 ],
 "metadata": {
  "kernelspec": {
   "display_name": "Python 3",
   "language": "python",
   "name": "python3"
  },
  "language_info": {
   "codemirror_mode": {
    "name": "ipython",
    "version": 3
   },
   "file_extension": ".py",
   "mimetype": "text/x-python",
   "name": "python",
   "nbconvert_exporter": "python",
   "pygments_lexer": "ipython3",
   "version": "3.7.3"
  }
 },
 "nbformat": 4,
 "nbformat_minor": 2
}
