{
 "cells": [
  {
   "cell_type": "markdown",
   "metadata": {},
   "source": [
    "# Gender and TED talks\n",
    "\n",
    "One avenue of research in this project examines what -- if any -- relationship exists between the gender of a TED speaker and the talk that they give. To explore this line of thinking, we would need to have access to the gender that each speaker identifies with. \n",
    "\n",
    "One limitation of the data on the TED webpages is that there is no demographic information about the speakers such as age, race, or gender. In this notebook, we craft a method for detecting speakers' genders from the existing data within the collated speaker information from the TED website, including `speaker_occupation`, `speaker_introduction`, and `speaker_profile`. \n",
    "\n",
    "There are two parts to this method: 1) an automated gender detector, and 2) a non-automated procedure. For the first step, we extract the number and kinds of pronouns used in each of the three speaker variables: `speaker_occupation`, `speaker_introduction`, and `speaker_profile`. We then take a conservative approach to guessing a speaker's gender where the vast majority of pronouns need to be either stereotypically male or female. For any person who do not meet such a condition, we then work to determine their self-identified gender by reading their speaker information and referencing other media about the person. For anyone that we needed additional resources, they are noted in the resulting gender file. \n"
   ]
  },
  {
   "cell_type": "markdown",
   "metadata": {},
   "source": [
    "## Importing needed modules and data "
   ]
  },
  {
   "cell_type": "code",
   "execution_count": 1,
   "metadata": {},
   "outputs": [],
   "source": [
    "import pandas as pd\n",
    "import csv\n",
    "import string"
   ]
  },
  {
   "cell_type": "code",
   "execution_count": 2,
   "metadata": {},
   "outputs": [],
   "source": [
    "df_only = pd.read_csv('../data/Release_v0/TEDonly_speakers_final.csv')\n",
    "df_plus = pd.read_csv('../data/Release_v0/TEDplus_speakers_final.csv')"
   ]
  },
  {
   "cell_type": "markdown",
   "metadata": {},
   "source": [
    "Now that we have imported our data files, we have to extract just the data about the speakers. Noting that the speaker information comes after the talk information, we start by finding the first column related to `speaker_1`."
   ]
  },
  {
   "cell_type": "code",
   "execution_count": 3,
   "metadata": {},
   "outputs": [],
   "source": [
    "col_names = df_only.columns\n",
    "col_list = list(col_names) \n",
    "sind = col_list.index(\"speaker_1\")\n",
    "\n",
    "# https://stackoverflow.com/questions/9542738/python-find-in-list"
   ]
  },
  {
   "cell_type": "markdown",
   "metadata": {},
   "source": [
    "Now we remove all the columns affiliated to the talk information. "
   ]
  },
  {
   "cell_type": "code",
   "execution_count": 4,
   "metadata": {},
   "outputs": [],
   "source": [
    "speaker_info = df_only\n",
    "speaker_info.drop(speaker_info.columns[0:sind], axis=1, inplace=True)"
   ]
  },
  {
   "cell_type": "markdown",
   "metadata": {},
   "source": [
    "Now we extract information for each of the potentially four speakers per talk. We will rename the columns in each of these four data frames to be identical. We will also remove any rows that are completely empty and check for duplicates before merging all of the pieces together in one cohesive list of all the speakers. "
   ]
  },
  {
   "cell_type": "code",
   "execution_count": 5,
   "metadata": {},
   "outputs": [
    {
     "name": "stdout",
     "output_type": "stream",
     "text": [
      "(992, 4)\n",
      "(852, 4)\n"
     ]
    }
   ],
   "source": [
    "speak1 = speaker_info.iloc[:,0:4]\n",
    "speak1.columns=['speaker', 'occupation', 'introduction', 'profile']\n",
    "print(speak1.shape)\n",
    "speak1 = speak1.dropna(how='all')\n",
    "speak1 = speak1.drop_duplicates()\n",
    "print(speak1.shape)"
   ]
  },
  {
   "cell_type": "code",
   "execution_count": 6,
   "metadata": {},
   "outputs": [
    {
     "name": "stdout",
     "output_type": "stream",
     "text": [
      "(992, 4)\n",
      "(26, 4)\n",
      "(25, 4)\n"
     ]
    }
   ],
   "source": [
    "speak2 = speaker_info.iloc[:,4:8]\n",
    "speak2.columns=['speaker', 'occupation', 'introduction', 'profile']\n",
    "print(speak2.shape)\n",
    "speak2 = speak2.dropna(how='all')\n",
    "print(speak2.shape)\n",
    "speak2 = speak2.drop_duplicates()\n",
    "print(speak2.shape)"
   ]
  },
  {
   "cell_type": "code",
   "execution_count": 7,
   "metadata": {},
   "outputs": [
    {
     "name": "stdout",
     "output_type": "stream",
     "text": [
      "(992, 4)\n",
      "(1, 4)\n"
     ]
    }
   ],
   "source": [
    "speak3 = speaker_info.iloc[:,8:12]\n",
    "speak3.columns=['speaker', 'occupation', 'introduction', 'profile']\n",
    "print(speak3.shape)\n",
    "speak3 = speak3.dropna(how='all')\n",
    "print(speak3.shape)"
   ]
  },
  {
   "cell_type": "code",
   "execution_count": 8,
   "metadata": {},
   "outputs": [
    {
     "name": "stdout",
     "output_type": "stream",
     "text": [
      "(992, 4)\n",
      "(1, 4)\n"
     ]
    }
   ],
   "source": [
    "speak4 = speaker_info.iloc[:,12:16]\n",
    "speak4.columns=['speaker', 'occupation', 'introduction', 'profile']\n",
    "print(speak4.shape)\n",
    "speak4 = speak4.dropna(how='all')\n",
    "print(speak4.shape)"
   ]
  },
  {
   "cell_type": "code",
   "execution_count": 9,
   "metadata": {},
   "outputs": [],
   "source": [
    "# Above from https://stackoverflow.com/questions/47060980/...\n",
    "#        renaming-the-column-names-of-pandas-dataframe-is-not-working-as-expected-pytho"
   ]
  },
  {
   "cell_type": "markdown",
   "metadata": {},
   "source": [
    "At this point, we have 4 smaller data frames corresponding to the four possible speakers for each talk. Now we will put them back together as one data frame and adjust the indices. \n",
    "\n",
    "*Note* - In this data frame the indices are the row number. To advoid creating \"duplicate indices\", we will have a few instances below where we use flags from `pandas` to reset the indices to match the row numbers exactly. "
   ]
  },
  {
   "cell_type": "code",
   "execution_count": 10,
   "metadata": {
    "scrolled": false
   },
   "outputs": [],
   "source": [
    "speak_all = pd.concat([speak1, speak2,speak3, speak4], ignore_index = True) # <-- Sarah M. Brown"
   ]
  },
  {
   "cell_type": "markdown",
   "metadata": {},
   "source": [
    "Even though we dropped the duplicates from each of the smaller data frames, this does not prevent a speaker from showing up as a first speaker in one talk and the third speaker in another talk. So again, we have to check for and remove any repeats."
   ]
  },
  {
   "cell_type": "code",
   "execution_count": 11,
   "metadata": {},
   "outputs": [
    {
     "data": {
      "text/html": [
       "<div>\n",
       "<style scoped>\n",
       "    .dataframe tbody tr th:only-of-type {\n",
       "        vertical-align: middle;\n",
       "    }\n",
       "\n",
       "    .dataframe tbody tr th {\n",
       "        vertical-align: top;\n",
       "    }\n",
       "\n",
       "    .dataframe thead th {\n",
       "        text-align: right;\n",
       "    }\n",
       "</style>\n",
       "<table border=\"1\" class=\"dataframe\">\n",
       "  <thead>\n",
       "    <tr style=\"text-align: right;\">\n",
       "      <th></th>\n",
       "      <th>speaker</th>\n",
       "      <th>occupation</th>\n",
       "      <th>introduction</th>\n",
       "      <th>profile</th>\n",
       "    </tr>\n",
       "  </thead>\n",
       "  <tbody>\n",
       "    <tr>\n",
       "      <th>783</th>\n",
       "      <td>Rhiannon Giddens</td>\n",
       "      <td>Musician</td>\n",
       "      <td>With a rich voice and an equally rich sense of...</td>\n",
       "      <td>Why you should listen\\nSinger-songwriter Rhian...</td>\n",
       "    </tr>\n",
       "    <tr>\n",
       "      <th>870</th>\n",
       "      <td>Rhiannon Giddens</td>\n",
       "      <td>Musician</td>\n",
       "      <td>With a rich voice and an equally rich sense of...</td>\n",
       "      <td>Why you should listen\\nSinger-songwriter Rhian...</td>\n",
       "    </tr>\n",
       "  </tbody>\n",
       "</table>\n",
       "</div>"
      ],
      "text/plain": [
       "              speaker occupation  \\\n",
       "783  Rhiannon Giddens   Musician   \n",
       "870  Rhiannon Giddens   Musician   \n",
       "\n",
       "                                          introduction  \\\n",
       "783  With a rich voice and an equally rich sense of...   \n",
       "870  With a rich voice and an equally rich sense of...   \n",
       "\n",
       "                                               profile  \n",
       "783  Why you should listen\\nSinger-songwriter Rhian...  \n",
       "870  Why you should listen\\nSinger-songwriter Rhian...  "
      ]
     },
     "execution_count": 11,
     "metadata": {},
     "output_type": "execute_result"
    }
   ],
   "source": [
    "# Example of remaining double\n",
    "speak_all[speak_all[\"speaker\"] ==\"Rhiannon Giddens\"]"
   ]
  },
  {
   "cell_type": "code",
   "execution_count": 12,
   "metadata": {},
   "outputs": [],
   "source": [
    "speak_all.drop_duplicates(inplace=True)\n",
    "speak_all.reset_index(drop=True,inplace=True)"
   ]
  },
  {
   "cell_type": "code",
   "execution_count": 13,
   "metadata": {},
   "outputs": [],
   "source": [
    "# drop_duplicates() from \n",
    "# http://www.datasciencemadesimple.com/get-unique-values-rows-dataframe-python-pandas/\n",
    "\n",
    "# Extra flags from Sarah M. Brown"
   ]
  },
  {
   "cell_type": "markdown",
   "metadata": {},
   "source": [
    "## Distilling pronouns from prose\n",
    "\n",
    "The challenge with this extraction is balancing efficiency (and automation) with not incorrectly identifying any speaker's gender. To this, we classify speakers in two steps. First we use an automatic classifier that very conservatively assigns binary genders using pronoun ratios. The second step involves hand checking the information on each speaker who did not receive a classification from the previous step and -- if needed -- checking additional media about the speaker.\n",
    "\n",
    "### Step 1 - Automatic gender detection\n",
    "\n",
    "In this step, we attempt to automatically detect the self-identification of speakers by finding pronouns within each speaker's variables: `speaker_occupation`, `speaker_introduction`, and `speaker_profile`. In this step, we compute the ratios of 1) male pronouns compared to all pronouns, 2) female pronouns compared to all pronouns, and 3) non-binary pronouns compared to all pronouns. If either of the first two ratios are very high, then we classify the speaker as male or female, respectively. We are very conservative in applying these labels, as we do not want to mis-identify any speakers. To aid in the next step (and for further investigations regarding the impact of gender), we store the counts for 1) male pronouns, 2) female pronouns, and 3) non-binary pronouns. "
   ]
  },
  {
   "cell_type": "markdown",
   "metadata": {},
   "source": [
    "### Step 1.0 - Prepare the data frame \n",
    "\n",
    "We start by adding the columns that we intend on filling in. So we will be adding the columns `Gender_auto`, `MaleScore`, `FemaleScore`, `NonBinaryScore` to our data frame. "
   ]
  },
  {
   "cell_type": "code",
   "execution_count": 14,
   "metadata": {},
   "outputs": [
    {
     "data": {
      "text/html": [
       "<div>\n",
       "<style scoped>\n",
       "    .dataframe tbody tr th:only-of-type {\n",
       "        vertical-align: middle;\n",
       "    }\n",
       "\n",
       "    .dataframe tbody tr th {\n",
       "        vertical-align: top;\n",
       "    }\n",
       "\n",
       "    .dataframe thead th {\n",
       "        text-align: right;\n",
       "    }\n",
       "</style>\n",
       "<table border=\"1\" class=\"dataframe\">\n",
       "  <thead>\n",
       "    <tr style=\"text-align: right;\">\n",
       "      <th></th>\n",
       "      <th>speaker</th>\n",
       "      <th>occupation</th>\n",
       "      <th>introduction</th>\n",
       "      <th>profile</th>\n",
       "      <th>Gender_auto</th>\n",
       "      <th>MaleScore</th>\n",
       "      <th>FemaleScore</th>\n",
       "      <th>NonBinaryScore</th>\n",
       "    </tr>\n",
       "  </thead>\n",
       "  <tbody>\n",
       "    <tr>\n",
       "      <th>0</th>\n",
       "      <td>Al Gore</td>\n",
       "      <td>Climate advocate</td>\n",
       "      <td>Nobel Laureate Al Gore focused the world’s att...</td>\n",
       "      <td>Why you should listen\\nFormer Vice President A...</td>\n",
       "      <td>NaN</td>\n",
       "      <td>NaN</td>\n",
       "      <td>NaN</td>\n",
       "      <td>NaN</td>\n",
       "    </tr>\n",
       "    <tr>\n",
       "      <th>1</th>\n",
       "      <td>David Pogue</td>\n",
       "      <td>Technology columnist</td>\n",
       "      <td>David Pogue is the personal technology columni...</td>\n",
       "      <td>Why you should listen\\nWhich cell phone to cho...</td>\n",
       "      <td>NaN</td>\n",
       "      <td>NaN</td>\n",
       "      <td>NaN</td>\n",
       "      <td>NaN</td>\n",
       "    </tr>\n",
       "    <tr>\n",
       "      <th>2</th>\n",
       "      <td>Majora Carter</td>\n",
       "      <td>Activist for environmental justice</td>\n",
       "      <td>Majora Carter redefined the field of environme...</td>\n",
       "      <td>Why you should listen\\nMajora Carter is a visi...</td>\n",
       "      <td>NaN</td>\n",
       "      <td>NaN</td>\n",
       "      <td>NaN</td>\n",
       "      <td>NaN</td>\n",
       "    </tr>\n",
       "    <tr>\n",
       "      <th>3</th>\n",
       "      <td>Ken Robinson</td>\n",
       "      <td>Author/educator</td>\n",
       "      <td>Creativity expert Sir Ken Robinson challenges ...</td>\n",
       "      <td>Why you should listen\\nWhy don't we get the be...</td>\n",
       "      <td>NaN</td>\n",
       "      <td>NaN</td>\n",
       "      <td>NaN</td>\n",
       "      <td>NaN</td>\n",
       "    </tr>\n",
       "    <tr>\n",
       "      <th>4</th>\n",
       "      <td>Hans Rosling</td>\n",
       "      <td>Global health expert; data visionary</td>\n",
       "      <td>In Hans Rosling’s hands, data sings. Global tr...</td>\n",
       "      <td>Why you should listen\\nEven the most worldly a...</td>\n",
       "      <td>NaN</td>\n",
       "      <td>NaN</td>\n",
       "      <td>NaN</td>\n",
       "      <td>NaN</td>\n",
       "    </tr>\n",
       "  </tbody>\n",
       "</table>\n",
       "</div>"
      ],
      "text/plain": [
       "         speaker                            occupation  \\\n",
       "0        Al Gore                      Climate advocate   \n",
       "1    David Pogue                  Technology columnist   \n",
       "2  Majora Carter    Activist for environmental justice   \n",
       "3   Ken Robinson                       Author/educator   \n",
       "4   Hans Rosling  Global health expert; data visionary   \n",
       "\n",
       "                                        introduction  \\\n",
       "0  Nobel Laureate Al Gore focused the world’s att...   \n",
       "1  David Pogue is the personal technology columni...   \n",
       "2  Majora Carter redefined the field of environme...   \n",
       "3  Creativity expert Sir Ken Robinson challenges ...   \n",
       "4  In Hans Rosling’s hands, data sings. Global tr...   \n",
       "\n",
       "                                             profile  Gender_auto  MaleScore  \\\n",
       "0  Why you should listen\\nFormer Vice President A...          NaN        NaN   \n",
       "1  Why you should listen\\nWhich cell phone to cho...          NaN        NaN   \n",
       "2  Why you should listen\\nMajora Carter is a visi...          NaN        NaN   \n",
       "3  Why you should listen\\nWhy don't we get the be...          NaN        NaN   \n",
       "4  Why you should listen\\nEven the most worldly a...          NaN        NaN   \n",
       "\n",
       "   FemaleScore  NonBinaryScore  \n",
       "0          NaN             NaN  \n",
       "1          NaN             NaN  \n",
       "2          NaN             NaN  \n",
       "3          NaN             NaN  \n",
       "4          NaN             NaN  "
      ]
     },
     "execution_count": 14,
     "metadata": {},
     "output_type": "execute_result"
    }
   ],
   "source": [
    "header_list = ['speaker', 'occupation', 'introduction', 'profile', \n",
    "               'Gender_auto', 'MaleScore', 'FemaleScore', 'NonBinaryScore']\n",
    "\n",
    "speak_all = speak_all.reindex(columns = header_list)\n",
    "speak_all.head()\n",
    "\n",
    "\n",
    "#https://stackoverflow.com/questions/16327055/how-to-add-an-empty-column-to-a-dataframe"
   ]
  },
  {
   "cell_type": "code",
   "execution_count": 18,
   "metadata": {},
   "outputs": [],
   "source": [
    "# Pronoun lists\n",
    "male_pronouns = {'he', 'him', 'his', 'himself'}\n",
    "female_pronouns = {'she', 'her', 'hers', 'herself'}\n",
    "\n",
    "nonbinary_pronouns = {'they', 'them', 'their', 'theirs', 'themself', \n",
    "                    'e', 'ey', 'em', 'eir', 'eirs', 'eirself', \n",
    "                    'fae', 'faer', 'faers', 'faerself', \n",
    "                    'per', 'pers', 'perself',\n",
    "                    've', 'ver', 'vis', 'verself',\n",
    "                    'xe', 'xem', 'xyr', 'xyrs', 'xemself',\n",
    "                    'ze', 'zie', 'hir', 'hirs', 'hirself', \n",
    "                    'sie', 'zir', 'zis', 'zim', 'zieself', \n",
    "                    'emself', 'tey', 'ter', 'tem', 'ters', 'terself'} "
   ]
  },
  {
   "cell_type": "markdown",
   "metadata": {},
   "source": [
    "We next define a function that finds and counts the various pronouns used in the text of the `speaker_occupation`, `speaker_introduction`, and `speaker_profile` variables. "
   ]
  },
  {
   "cell_type": "code",
   "execution_count": 19,
   "metadata": {},
   "outputs": [],
   "source": [
    "def find_gender(input_description):\n",
    "\tglobal male_pronouns, female_pronouns, nonbinary_pronouns\n",
    "\n",
    "\t# Initialize score variables\n",
    "\tmale_score = 0\n",
    "\tfemale_score = 0\n",
    "\tnonbinary_score = 0\n",
    "\n",
    "\t# Lower and isolate everyword of the description\n",
    "\tdes_lst = input_description.lower().split()\n",
    "\tfor word in des_lst:\n",
    "\t\tcleanword = word.strip(string.punctuation)\n",
    "\n",
    "\t\t# Add to the appropriate score\n",
    "\t\tif cleanword in male_pronouns:\n",
    "\t\t\tmale_score = male_score + 1\n",
    "\t\telif cleanword in female_pronouns:\n",
    "\t\t\tfemale_score = female_score + 1\n",
    "\t\telif cleanword in nonbinary_pronouns:\n",
    "\t\t\tnonbinary_score = nonbinary_score + 1\n",
    "\n",
    "\ttotal = male_score + female_score + nonbinary_score\n",
    "\n",
    "\tif total == 0: # Only happens if there are no pronouns\n",
    "\t\tgender = 'no pronouns'\n",
    "\t# elif (nonbinary_score <= (.1)*total):\n",
    "\t# Note: The above line is too harsh. \n",
    "\t\n",
    "\t# If there are two kinds of pronouns are zero\n",
    "\telif (male_score == 0) and (female_score == 0):\n",
    "\t\tgender = 'non-binary'\n",
    "\telif (male_score == 0) and (nonbinary_score == 0):\n",
    "\t\tgender = 'female'\n",
    "\telif (female_score == 0) and (nonbinary_score == 0):\n",
    "\t\tgender = 'male'\n",
    "\n",
    "\t# If there is only one kind of pronoun that is zero\n",
    "\telif (nonbinary_score <= 1):\n",
    "\t\tscore = (female_score - male_score) / (female_score + male_score)\n",
    "\t\tif score > 0.3:\n",
    "\t\t\tgender = 'female'\n",
    "\t\telif score < -0.3:\n",
    "\t\t\tgender = 'male'\n",
    "\t\telse:\n",
    "\t\t\tgender = 'undetected'\n",
    "\telif (male_score == 0):\n",
    "\t\tscore = (female_score - nonbinary_score) / (female_score + nonbinary_score)\n",
    "\t\tif score > 0.3:\n",
    "\t\t\tgender = 'female'\n",
    "\t\telif score < -0.3:\n",
    "\t\t\tgender = 'nonbinary'\n",
    "\t\telse:\n",
    "\t\t\tgender = 'undetected'\n",
    "\telif (female_score == 0):\n",
    "\t\tscore = (male_score - nonbinary_score) / (male_score + nonbinary_score)\n",
    "\t\tif score > 0.3:\n",
    "\t\t\tgender = 'male'\n",
    "\t\telif score < -0.3:\n",
    "\t\t\tgender = 'nonbinary'\n",
    "\t\telse:\n",
    "\t\t\tgender = 'undetected'\n",
    "\telse:\n",
    "\t\tgender = 'last case'\n",
    "\n",
    "\treturn (gender, male_score, female_score, nonbinary_score)"
   ]
  },
  {
   "cell_type": "code",
   "execution_count": 29,
   "metadata": {},
   "outputs": [],
   "source": [
    "for row in speak_all.itertuples():\n",
    "    inds = row.Index\n",
    "    des_list = [str(row.occupation), str(row.introduction), row.profile]\n",
    "    descript = \" \".join(des_list)\n",
    "    #auto_gender, male_score, female_score, nonbinary_score = find_gender(descript)\n",
    "    speak_all.loc[inds,['Gender_auto', 'MaleScore', 'FemaleScore', 'NonBinaryScore']] = find_gender(descript)\n",
    "\n",
    "# https://cmdlinetips.com/2018/12/how-to-loop-through-pandas-rows-or-how-to-iterate-over-pandas-rows/\n",
    "# https://www.programiz.com/python-programming/methods/string/join"
   ]
  },
  {
   "cell_type": "code",
   "execution_count": 28,
   "metadata": {},
   "outputs": [
    {
     "data": {
      "text/plain": [
       "speaker                                                 Gary Kovacs\n",
       "occupation                                                      NaN\n",
       "introduction      Gary Kovacs is a technologist and the former C...\n",
       "profile           Why you should listen\\nGary Kovacs is the chie...\n",
       "Gender_auto                                                    male\n",
       "MaleScore                                                         4\n",
       "FemaleScore                                                       0\n",
       "NonBinaryScore                                                    0\n",
       "Name: 485, dtype: object"
      ]
     },
     "execution_count": 28,
     "metadata": {},
     "output_type": "execute_result"
    }
   ],
   "source": [
    "#speak_all.loc[617,:]\n",
    "#speak_all.loc[485,:]"
   ]
  },
  {
   "cell_type": "markdown",
   "metadata": {},
   "source": [
    "('male', 5, 0, 0)\n",
    "('male', 5, 0, 0)\n",
    "('female', 1, 11, 0)\n",
    "('male', 8, 0, 2)\n",
    "('male', 13, 0, 2)"
   ]
  }
 ],
 "metadata": {
  "kernelspec": {
   "display_name": "Python 3",
   "language": "python",
   "name": "python3"
  },
  "language_info": {
   "codemirror_mode": {
    "name": "ipython",
    "version": 3
   },
   "file_extension": ".py",
   "mimetype": "text/x-python",
   "name": "python",
   "nbconvert_exporter": "python",
   "pygments_lexer": "ipython3",
   "version": "3.7.3"
  }
 },
 "nbformat": 4,
 "nbformat_minor": 2
}
