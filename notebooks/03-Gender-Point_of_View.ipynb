{
 "cells": [
  {
   "cell_type": "markdown",
   "metadata": {},
   "source": [
    "# Perspectives"
   ]
  },
  {
   "cell_type": "markdown",
   "metadata": {},
   "source": [
    "This notebook is based on work by Neal Caren's [\"Using Python to see how the Times writes about men and women\"][1] as simplified by Bengfort, Bilbro, and Ojeda in _Applied Text Analysis with Python_ which has a [GitHub repo][2] for comparison both with Caren as well as with the current implementation.\n",
    "\n",
    "\n",
    "[1]: https://nbviewer.jupyter.org/gist/nealcaren/5105037\n",
    "[2]: https://github.com/foxbook/atap"
   ]
  },
  {
   "cell_type": "code",
   "execution_count": 6,
   "metadata": {},
   "outputs": [],
   "source": [
    "import nltk, re, pandas as pd\n",
    "from collections import Counter"
   ]
  },
  {
   "cell_type": "code",
   "execution_count": 7,
   "metadata": {},
   "outputs": [
    {
     "name": "stdout",
     "output_type": "stream",
     "text": [
      "['Set', 'Talk_ID', 'public_url', 'headline', 'description', 'event', 'duration', 'published', 'tags', 'views', 'text', 'speaker_1', 'speaker1_occupation', 'speaker1_introduction', 'speaker1_profile', 'speaker_2', 'speaker2_occupation', 'speaker2_introduction', 'speaker2_profile', 'speaker_3', 'speaker3_occupation', 'speaker3_introduction', 'speaker3_profile', 'speaker_4', 'speaker4_occupation', 'speaker4_introduction', 'speaker4_profile']\n"
     ]
    }
   ],
   "source": [
    "df = pd.read_csv('../output/TEDall_speakers.csv')\n",
    "print(list(df))"
   ]
  },
  {
   "cell_type": "code",
   "execution_count": 8,
   "metadata": {},
   "outputs": [],
   "source": [
    "texts = df.text.tolist()"
   ]
  },
  {
   "cell_type": "markdown",
   "metadata": {},
   "source": [
    "## Defining the Perspective Functions"
   ]
  },
  {
   "cell_type": "code",
   "execution_count": 2,
   "metadata": {},
   "outputs": [],
   "source": [
    "# Perspective Word Lists\n",
    "\n",
    "FIRSTS = 'first person singular'\n",
    "FIRSTP = 'first person plural'\n",
    "SECOND = 'second person'\n",
    "THIRD_F = 'third person feminine'\n",
    "THIRD_M = 'third person masculine'\n",
    "THIRD_P = 'third person plural'\n",
    "\n",
    "first_singular_words = set([\n",
    "    'i', 'me', 'my', 'mine'\n",
    "])\n",
    "\n",
    "first_plural_words = set([\n",
    "    'we', 'us', 'our', 'ours'\n",
    "])\n",
    "\n",
    "second_words = set([\n",
    "    'you', 'your', 'yours'\n",
    "])\n",
    "\n",
    "third_singular_m_words = set([\n",
    "    'he', 'him', 'his'\n",
    "])\n",
    "\n",
    "third_singular_f_words = set([\n",
    "    'she', 'her', 'hers'\n",
    "])\n",
    "\n",
    "third_plural_words = set([\n",
    "    'they', 'them', 'their', 'theirs'\n",
    "])\n",
    "\n",
    "third_person_words = set(list(third_singular_f_words)+\n",
    "                         list(third_singular_m_words)+\n",
    "                         list(third_plural_words))"
   ]
  },
  {
   "cell_type": "code",
   "execution_count": 16,
   "metadata": {},
   "outputs": [],
   "source": [
    "def perse_sentence(sentence_words):\n",
    "    fps_length=len(first_singular_words.intersection(sentence_words))\n",
    "    fpp_length=len(first_plural_words.intersection(sentence_words))\n",
    "    sec_length=len(second_words.intersection(sentence_words))\n",
    "    third_length=len(third_person_words.intersection(sentence_words))\n",
    "    \n",
    "\n",
    "    if fps_length > (fpp_length + sec_length + third_length):\n",
    "        perspective = 'first person singular'\n",
    "    elif fpp_length > (fps_length + sec_length + third_length): \n",
    "        perspective = 'first person plural'\n",
    "    elif sec_length > (fps_length + fpp_length + third_length): \n",
    "        perspective = 'second person'\n",
    "    elif third_length > (fps_length + fpp_length + sec_length): \n",
    "        perspective = 'third person'\n",
    "    else:\n",
    "        perspective = 'mixed'\n",
    "    return perspective"
   ]
  },
  {
   "cell_type": "code",
   "execution_count": 4,
   "metadata": {},
   "outputs": [],
   "source": [
    "def count_perspective(sentences):\n",
    "    \n",
    "    \"\"\" REQUIRES: from collections import Counter\"\"\"\n",
    "        \n",
    "    sents = Counter()\n",
    "    words = Counter()\n",
    "    \n",
    "    for sentence in sentences:\n",
    "        perspective = perse_sentence(sentence)\n",
    "        sents[perspective] += 1\n",
    "        words[perspective] +=len(sentence)\n",
    "        \n",
    "    return sents, words"
   ]
  },
  {
   "cell_type": "code",
   "execution_count": 13,
   "metadata": {},
   "outputs": [],
   "source": [
    "def parper(text):\n",
    "    \n",
    "        \"\"\" REQUIRES: import nltk \"\"\"\n",
    "        \n",
    "        sentences = [\n",
    "            [word.lower() for word in nltk.word_tokenize(sentence)]\n",
    "            for sentence in nltk.sent_tokenize(text)\n",
    "        ]\n",
    "        \n",
    "        sents, words = count_perspective(sentences)\n",
    "        total = sum(words.values())\n",
    "        \n",
    "        for perspective, count in words.items():\n",
    "            pcent = (count / total) * 100\n",
    "            nsents = sents[perspective]\n",
    "            \n",
    "            print(f\"{pcent:.2f} {perspective} ( {nsents} ) \")"
   ]
  },
  {
   "cell_type": "markdown",
   "metadata": {},
   "source": [
    "The example below simply establishes that gender is not straightforward: there is no guarantee that someone using gendered words, as constructed above, is actually talking about women."
   ]
  },
  {
   "cell_type": "code",
   "execution_count": 9,
   "metadata": {},
   "outputs": [
    {
     "name": "stdout",
     "output_type": "stream",
     "text": [
      "my dog molly is a good girl \n"
     ]
    }
   ],
   "source": [
    "text = \"My dog Molly is a good girl.\"\n",
    "words = re.sub(\"[^\\w+]\", \" \", text.lower())\n",
    "print(words)"
   ]
  },
  {
   "cell_type": "code",
   "execution_count": 14,
   "metadata": {},
   "outputs": [
    {
     "name": "stdout",
     "output_type": "stream",
     "text": [
      "100.00 first person singular ( 1 ) \n"
     ]
    }
   ],
   "source": [
    "parper(words)"
   ]
  },
  {
   "cell_type": "markdown",
   "metadata": {},
   "source": [
    "Al Gore's text is a bellweather because it sits at `0` in the list index. Here we mix it up with Majora Carter's talk on urban renewal:"
   ]
  },
  {
   "cell_type": "code",
   "execution_count": 17,
   "metadata": {
    "scrolled": false
   },
   "outputs": [
    {
     "name": "stdout",
     "output_type": "stream",
     "text": [
      "44.51 mixed ( 89 ) \n",
      "20.62 first person plural ( 36 ) \n",
      "10.87 third person ( 18 ) \n",
      "19.30 first person singular ( 37 ) \n",
      "4.71 second person ( 9 ) \n"
     ]
    }
   ],
   "source": [
    "parper(texts[2])"
   ]
  }
 ],
 "metadata": {
  "kernelspec": {
   "display_name": "Python 3 (ipykernel)",
   "language": "python",
   "name": "python3"
  },
  "language_info": {
   "codemirror_mode": {
    "name": "ipython",
    "version": 3
   },
   "file_extension": ".py",
   "mimetype": "text/x-python",
   "name": "python",
   "nbconvert_exporter": "python",
   "pygments_lexer": "ipython3",
   "version": "3.7.11"
  }
 },
 "nbformat": 4,
 "nbformat_minor": 4
}
