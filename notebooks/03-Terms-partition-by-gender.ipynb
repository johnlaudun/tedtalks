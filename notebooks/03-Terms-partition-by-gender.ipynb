{
 "cells": [
  {
   "cell_type": "markdown",
   "metadata": {},
   "source": [
    "# FIX - Term Frequencies partitioned by gender\n",
    "\n",
    "In previous notebooks, we have used speakers' genders to apply a gender label to each talk. The gender labels used are: male, female, and not one gender. We note that the list of speakers in the corpus of TED talks identify on the gender binary, at least in the public facing documents about them (which include their TED talk bios and third party websites and publicity). \n",
    "\n",
    "\n"
   ]
  },
  {
   "cell_type": "markdown",
   "metadata": {},
   "source": [
    "## Summary\n",
    "\n",
    "This is the second attempt to look a freqencies by gender. In the first attempt in `03-Terms-by-gender`, we applied the method from `01-Terms.ipynb` on just the talks gendered as \"female.\" This approach has some limits, chiefly that if we also do the same to \"male\" talks, we have no clear method for comparing how different words appear in talks by either binary gender. \n",
    "\n",
    "In this second attempt, we will instead load the talks such that the male talks are all together, followed by the female talks, and finally followed by those talks that are neither binary gender. \n",
    "\n",
    "In this notebook, we will **not** take each subset individually but rather as one partitioned set (first talks labeled male, female, and not one gender) and complete the following procedure: \n",
    "\n",
    "### Fix\n",
    "* Remove the parentheticals\n",
    "* Create term matrix from the resulting vocabulary\n",
    "* Adjust the threshold for a word to be included in the term-matrix\n",
    "* Export the resulting as a CSV\n"
   ]
  },
  {
   "cell_type": "markdown",
   "metadata": {},
   "source": [
    "## Load Imports and Data"
   ]
  },
  {
   "cell_type": "code",
   "execution_count": 41,
   "metadata": {},
   "outputs": [],
   "source": [
    "# IMPORTS\n",
    "\n",
    "import numpy as np\n",
    "import pandas as pd, re, csv, nltk\n",
    "from sklearn.feature_extraction.text import CountVectorizer\n",
    "from sklearn.decomposition import NMF\n",
    "from nltk.corpus import stopwords\n",
    "\n",
    "import matplotlib.pyplot as plt"
   ]
  },
  {
   "cell_type": "code",
   "execution_count": 2,
   "metadata": {},
   "outputs": [],
   "source": [
    "# LOCAL FUNCTION --> Explained in 01-Terms.ipynb\n",
    "\n",
    "parentheticals = [ \"\\(laughter\\)\", \"\\(applause\\)\", \"\\(music\\)\",  \n",
    "                  \"\\(video\\)\", \"\\(laughs\\)\", \"\\(applause ends\\)\", \n",
    "                  \"\\(audio\\)\", \"\\(singing\\)\", \"\\(music ends\\)\", \n",
    "                  \"\\(cheers\\)\", \"\\(cheering\\)\", \"\\(recording\\)\", \n",
    "                  \"\\(beatboxing\\)\", \"\\(audience\\)\", \"\\(guitar strum\\)\", \n",
    "                  \"\\(clicks metronome\\)\", \"\\(sighs\\)\", \"\\(guitar\\)\", \n",
    "                  \"\\(marimba sounds\\)\", \"\\(drum sounds\\)\" ]\n",
    "\n",
    "def remove_parentheticals(text):\n",
    "    global parentheticals\n",
    "    new_text = text\n",
    "    for rgx_match in parentheticals:\n",
    "        new_text = re.sub(rgx_match, ' ', new_text.lower(), \n",
    "                          flags=re.IGNORECASE)\n",
    "    return new_text"
   ]
  },
  {
   "cell_type": "code",
   "execution_count": 3,
   "metadata": {},
   "outputs": [],
   "source": [
    "# Load data\n",
    "\n",
    "# Load binary gendered talks \n",
    "talks_male = pd.read_csv('talks_male.csv', index_col='Talk_ID')\n",
    "talks_female = pd.read_csv('talks_female.csv', index_col='Talk_ID')\n",
    "\n",
    "# No one gender ==> NOG\n",
    "talks_nog = pd.read_csv('talks_nog.csv', index_col='Talk_ID')"
   ]
  },
  {
   "cell_type": "code",
   "execution_count": 4,
   "metadata": {},
   "outputs": [
    {
     "name": "stdout",
     "output_type": "stream",
     "text": [
      "714 260 8\n"
     ]
    }
   ],
   "source": [
    "print(talks_male.shape[0],talks_female.shape[0],talks_nog.shape[0])"
   ]
  },
  {
   "cell_type": "code",
   "execution_count": 5,
   "metadata": {},
   "outputs": [
    {
     "data": {
      "text/plain": [
       "(982, 14)"
      ]
     },
     "execution_count": 5,
     "metadata": {},
     "output_type": "execute_result"
    }
   ],
   "source": [
    "# Concatenate the data\n",
    "\n",
    "all_talks = pd.concat([talks_male,talks_female,talks_nog])\n",
    "all_talks.shape"
   ]
  },
  {
   "cell_type": "code",
   "execution_count": 6,
   "metadata": {},
   "outputs": [
    {
     "name": "stdout",
     "output_type": "stream",
     "text": [
      "True\n",
      "True\n"
     ]
    }
   ],
   "source": [
    "# check that the shape is what we expect\n",
    "\n",
    "print(all_talks.shape[0] == (talks_male.shape[0]+\n",
    "                             talks_female.shape[0]+talks_nog.shape[0]))\n",
    "print(all_talks.shape[1] == talks_nog.shape[1])"
   ]
  },
  {
   "cell_type": "markdown",
   "metadata": {},
   "source": [
    "## Raw Frequencies\n",
    "### Rewrite\n",
    "The goal of this notebook is to establish how we are going to elicit our features, our words, from the collection of talks. Thus, the only column we are interested in is the one with the texts of the talks. While we recognize the utility of having the data in one file, we are looking to minimize individual file sizes, and also make it possible only to load the data we need for any particular task. For that reason, we have chosen to create a number of CSV files, using the ID number that TED assigns each talk as it publishes them to its website.\n",
    "\n",
    "For this first experiment, we keep it simple by creating two lists, one of the talk IDs and one of the texts themselves: we will only be using the IDs later when we write the DTM to a CSV. This ID will allow us later to correlate the DTM with metadata associated with each talk: the speaker, her biography, the talk's popularity, etc. "
   ]
  },
  {
   "cell_type": "code",
   "execution_count": 7,
   "metadata": {},
   "outputs": [],
   "source": [
    "partitioned_texts = all_talks.text.tolist()"
   ]
  },
  {
   "cell_type": "markdown",
   "metadata": {},
   "source": [
    "**Nota bene**: If you are using this notebook to re-create the basic TF matrix you can stop here and jump to the end of this notebook."
   ]
  },
  {
   "cell_type": "markdown",
   "metadata": {},
   "source": [
    "There are a number of ways to get term frequencies, but **SciKit-Learn**'s `CountVectorizer` offers a one-stop shop for generating a DTM from which we can examine words as well as generate BoW-products like topic models. This is made possible by the interoperability between `CountVectorizer` and the other vectorizers and models available in `sklearn`.\n"
   ]
  },
  {
   "cell_type": "markdown",
   "metadata": {},
   "source": [
    "\n",
    "In our first experiment, we run `CountVectorizer` unadorned. The default options are: lowercase everything, get rid of all punctuation, make a word out of anything more than two characters long. The only thing that might not be welcome is the splitting of contractions. For now, we will leave things as they are. (Also, please note, no stopwords were used, so we have an unfiltered word list and no pre-processing of the texts is done.)\n",
    "\n",
    "### CHECK THIS ASSERTION: \n",
    "Since `CountVectorizer` only counts when *fitting* and does not engage in any kind of normalization or centering, *transforming*, there is no need to break the two functionalities out in the code that follows."
   ]
  },
  {
   "cell_type": "code",
   "execution_count": 59,
   "metadata": {},
   "outputs": [
    {
     "data": {
      "text/plain": [
       "(982, 38204)"
      ]
     },
     "execution_count": 59,
     "metadata": {},
     "output_type": "execute_result"
    }
   ],
   "source": [
    "# If you want to pass options, pass them here:\n",
    "vectorizer = CountVectorizer(lowercase = True, \n",
    "                             stop_words = \"english\", \n",
    "                             strip_accents = \"unicode\",\n",
    "                             max_df = 0.1)\n",
    "# There are issues using \"english\" flag. But I wanted to see what \n",
    "#    would happen: \n",
    "# https://scikit-learn.org/stable/modules/generated/sklearn.feature_extraction.text.CountVectorizer.html\n",
    "\n",
    "# Can put any list for `stop_words` flag. Options: \n",
    "# * 'english' - 39114\n",
    "# * stopwords.words(\"english\") - 39274 \n",
    "\n",
    "# Experimenting with STRIP_ACCENTS:\n",
    "# * ascii - adds 5 words to the list\n",
    "# * unicode - removes 34 words\n",
    "\n",
    "# Experimenting with MAX_DF\n",
    "# * 0.7 -> 39055 (drops 25 words)\n",
    "# * 0.5 -> 39018 (drops another 37)\n",
    "# * 0.3 -> 38900 (drops 118 more)\n",
    "# * 0.1 -> 38204 (drops nearly 700 more!)\n",
    "\n",
    "# fit the model to the data \n",
    "# vecs = vectorizer.fit(partitioned_texts)\n",
    "X = vectorizer.fit_transform(partitioned_texts)\n",
    "\n",
    "# see how many features we have\n",
    "X.shape"
   ]
  },
  {
   "cell_type": "markdown",
   "metadata": {},
   "source": [
    "### Fix! \n",
    "\n",
    "39418 tokens is our raw, unfiltered, no pre-processing baseline. It includes, as we will see, a number of artifacts of the TED transcription process, including a variety of ways to spell out *ah*, the use of numerals for a host of things -- from dates to counts and everything in between, and some things which actually take places outside the talk itself, like audience laughter, which we here term *parentheticals*. (Accounting for all these artifacts requires a number of closer inspections, which take place in a separate notebook: [Term Artifacts](Terms-02).)"
   ]
  },
  {
   "cell_type": "code",
   "execution_count": 11,
   "metadata": {},
   "outputs": [
    {
     "data": {
      "text/plain": [
       "(982, 39114)"
      ]
     },
     "execution_count": 11,
     "metadata": {},
     "output_type": "execute_result"
    }
   ],
   "source": [
    "raw_df = pd.DataFrame(X.toarray(), \n",
    "                      columns = vectorizer.get_feature_names_out())\n",
    "raw_df.shape"
   ]
  },
  {
   "cell_type": "code",
   "execution_count": 12,
   "metadata": {},
   "outputs": [
    {
     "data": {
      "text/plain": [
       "39114"
      ]
     },
     "execution_count": 12,
     "metadata": {},
     "output_type": "execute_result"
    }
   ],
   "source": [
    "word_list = list(raw_df.columns)\n",
    "\n",
    "len(word_list)"
   ]
  },
  {
   "cell_type": "code",
   "execution_count": 46,
   "metadata": {},
   "outputs": [
    {
     "ename": "ValueError",
     "evalue": "\"don't\" is not in list",
     "output_type": "error",
     "traceback": [
      "\u001b[0;31m---------------------------------------------------------------------------\u001b[0m",
      "\u001b[0;31mValueError\u001b[0m                                Traceback (most recent call last)",
      "Input \u001b[0;32mIn [46]\u001b[0m, in \u001b[0;36m<module>\u001b[0;34m\u001b[0m\n\u001b[0;32m----> 1\u001b[0m \u001b[43mword_list\u001b[49m\u001b[38;5;241;43m.\u001b[39;49m\u001b[43mindex\u001b[49m\u001b[43m(\u001b[49m\u001b[38;5;124;43m\"\u001b[39;49m\u001b[38;5;124;43mdon\u001b[39;49m\u001b[38;5;124;43m'\u001b[39;49m\u001b[38;5;124;43mt\u001b[39;49m\u001b[38;5;124;43m\"\u001b[39;49m\u001b[43m)\u001b[49m\n",
      "\u001b[0;31mValueError\u001b[0m: \"don't\" is not in list"
     ]
    }
   ],
   "source": [
    "word_list.index(\"don't\")"
   ]
  },
  {
   "cell_type": "code",
   "execution_count": 14,
   "metadata": {},
   "outputs": [
    {
     "data": {
      "text/plain": [
       "['aa',\n",
       " 'aaa',\n",
       " 'aaaa',\n",
       " 'aaaaa',\n",
       " 'aaaah',\n",
       " 'aag',\n",
       " 'aah',\n",
       " 'aakash',\n",
       " 'aargh',\n",
       " 'aaron']"
      ]
     },
     "execution_count": 14,
     "metadata": {},
     "output_type": "execute_result"
    }
   ],
   "source": [
    "word_list[782:792]"
   ]
  },
  {
   "cell_type": "code",
   "execution_count": 15,
   "metadata": {},
   "outputs": [
    {
     "data": {
      "text/plain": [
       "789"
      ]
     },
     "execution_count": 15,
     "metadata": {},
     "output_type": "execute_result"
    }
   ],
   "source": [
    "word_list.index(\"aakash\")"
   ]
  },
  {
   "cell_type": "markdown",
   "metadata": {},
   "source": [
    "As with the full corpus (`01-Terms.ipynb`), a hand inspection of the output above turned up a couple of interesting issues. Noting that the transcripts for TED talks are largely crowd-sourced, we note a few differences in how \"crowd noises\" are noted in transcripts: \n"
   ]
  },
  {
   "cell_type": "code",
   "execution_count": 25,
   "metadata": {},
   "outputs": [
    {
     "data": {
      "text/html": [
       "<div>\n",
       "<style scoped>\n",
       "    .dataframe tbody tr th:only-of-type {\n",
       "        vertical-align: middle;\n",
       "    }\n",
       "\n",
       "    .dataframe tbody tr th {\n",
       "        vertical-align: top;\n",
       "    }\n",
       "\n",
       "    .dataframe thead th {\n",
       "        text-align: right;\n",
       "    }\n",
       "</style>\n",
       "<table border=\"1\" class=\"dataframe\">\n",
       "  <thead>\n",
       "    <tr style=\"text-align: right;\">\n",
       "      <th></th>\n",
       "      <th>male crowd</th>\n",
       "      <th>female crowd</th>\n",
       "      <th>not one gender crowd</th>\n",
       "    </tr>\n",
       "  </thead>\n",
       "  <tbody>\n",
       "    <tr>\n",
       "      <th>aa</th>\n",
       "      <td>7</td>\n",
       "      <td>4</td>\n",
       "      <td>0</td>\n",
       "    </tr>\n",
       "    <tr>\n",
       "      <th>aaa</th>\n",
       "      <td>6</td>\n",
       "      <td>0</td>\n",
       "      <td>0</td>\n",
       "    </tr>\n",
       "    <tr>\n",
       "      <th>aaaa</th>\n",
       "      <td>2</td>\n",
       "      <td>0</td>\n",
       "      <td>0</td>\n",
       "    </tr>\n",
       "    <tr>\n",
       "      <th>aaaaa</th>\n",
       "      <td>0</td>\n",
       "      <td>1</td>\n",
       "      <td>0</td>\n",
       "    </tr>\n",
       "    <tr>\n",
       "      <th>aaaah</th>\n",
       "      <td>2</td>\n",
       "      <td>0</td>\n",
       "      <td>0</td>\n",
       "    </tr>\n",
       "    <tr>\n",
       "      <th>aag</th>\n",
       "      <td>1</td>\n",
       "      <td>0</td>\n",
       "      <td>0</td>\n",
       "    </tr>\n",
       "    <tr>\n",
       "      <th>aah</th>\n",
       "      <td>7</td>\n",
       "      <td>3</td>\n",
       "      <td>0</td>\n",
       "    </tr>\n",
       "  </tbody>\n",
       "</table>\n",
       "</div>"
      ],
      "text/plain": [
       "       male crowd  female crowd  not one gender crowd\n",
       "aa              7             4                     0\n",
       "aaa             6             0                     0\n",
       "aaaa            2             0                     0\n",
       "aaaaa           0             1                     0\n",
       "aaaah           2             0                     0\n",
       "aag             1             0                     0\n",
       "aah             7             3                     0"
      ]
     },
     "execution_count": 25,
     "metadata": {},
     "output_type": "execute_result"
    }
   ],
   "source": [
    "# Crowd noises are at 782 through 788\n",
    "# Get the counts of the different transcribed noises \n",
    "#     by \"gender\" of talks\n",
    "\n",
    "\n",
    "male_crowd = raw_df.iloc[:714,782:789].sum() # default is axis = 0\n",
    "female_crowd = raw_df.iloc[714:(714+260),782:789].sum()\n",
    "nog_crowd = raw_df.iloc[-8:,782:789].sum()\n",
    "\n",
    "crowd_index = [\"male crowd\", \"female crowd\", \"not one gender crowd\"]\n",
    "crowd_noise = pd.DataFrame([male_crowd, female_crowd, nog_crowd], \n",
    "                           index = crowd_index).T\n",
    "crowd_noise"
   ]
  },
  {
   "cell_type": "code",
   "execution_count": 30,
   "metadata": {},
   "outputs": [
    {
     "data": {
      "text/plain": [
       "0.020171805491639824"
      ]
     },
     "execution_count": 30,
     "metadata": {},
     "output_type": "execute_result"
    }
   ],
   "source": [
    "# First words start at index 789\n",
    "\n",
    "789/len(word_list)\n",
    "\n",
    "## About 2% of the way into the word list"
   ]
  },
  {
   "cell_type": "code",
   "execution_count": 31,
   "metadata": {},
   "outputs": [],
   "source": [
    "# See how many of the non-words each talk has (regardless of how many times each non-word appears.)\n",
    "m_test = (raw_df.iloc[:714,:789]>0).sum(axis = 1)\n",
    "f_test = (raw_df.iloc[714:(714+260),:789]>0).sum(axis = 1)"
   ]
  },
  {
   "cell_type": "code",
   "execution_count": 32,
   "metadata": {},
   "outputs": [
    {
     "data": {
      "image/png": "[encoded data removed]",
      "text/plain": [
       "<Figure size 432x288 with 1 Axes>"
      ]
     },
     "metadata": {
      "needs_background": "light"
     },
     "output_type": "display_data"
    }
   ],
   "source": [
    "# https://stackoverflow.com/questions/6871201/plot-two-histograms-on-single-chart-with-matplotlib\n",
    "bins = np.linspace(0,75,30)\n",
    "plt.hist(m_test, bins, density=True,  alpha=0.5, label = \"male\")\n",
    "plt.hist(f_test, bins, density=True, alpha=0.5, label = \"female\")\n",
    "plt.legend(loc='upper right')\n",
    "plt.show()"
   ]
  },
  {
   "cell_type": "code",
   "execution_count": 33,
   "metadata": {},
   "outputs": [
    {
     "data": {
      "image/png": "[encoded data removed]",
      "text/plain": [
       "<Figure size 432x288 with 1 Axes>"
      ]
     },
     "metadata": {
      "needs_background": "light"
     },
     "output_type": "display_data"
    }
   ],
   "source": [
    "plt.hist([m_test,f_test], bins, density=True, alpha=0.75, label=['male','female'])\n",
    "plt.legend(loc='upper right')\n",
    "plt.show()"
   ]
  },
  {
   "cell_type": "code",
   "execution_count": 34,
   "metadata": {},
   "outputs": [],
   "source": [
    "raw_series = raw_df.sum()"
   ]
  },
  {
   "cell_type": "code",
   "execution_count": 35,
   "metadata": {},
   "outputs": [
    {
     "data": {
      "text/plain": [
       "00              4\n",
       "000          1187\n",
       "000000004       1\n",
       "000042          1\n",
       "0001            1\n",
       "dtype: int64"
      ]
     },
     "execution_count": 35,
     "metadata": {},
     "output_type": "execute_result"
    }
   ],
   "source": [
    "raw_series.head()"
   ]
  },
  {
   "cell_type": "markdown",
   "metadata": {},
   "source": [
    "Another caveat from the `01-Terms.ipynb` notebook: \n",
    "> The rest of the hand-examination turns up no other issues, so the basic vectorization built into `sklearn` appears to be satisfactory, with the only exception being its breaking of contractions at the apostrophe: e.g., *isn't* becomes *isn* and *'t*, with the latter being thrown away as too small -- which means that the indefinite article *a(n)* is also not present in the frequencies, but the definite article *the* remains. "
   ]
  },
  {
   "cell_type": "markdown",
   "metadata": {},
   "source": [
    "## Remove the non-words:"
   ]
  },
  {
   "cell_type": "code",
   "execution_count": 23,
   "metadata": {},
   "outputs": [
    {
     "data": {
      "text/plain": [
       "(982, 38325)"
      ]
     },
     "execution_count": 23,
     "metadata": {},
     "output_type": "execute_result"
    }
   ],
   "source": [
    "trunc_df = raw_df.iloc[:,789:]\n",
    "trunc_df.shape\n"
   ]
  },
  {
   "cell_type": "code",
   "execution_count": 24,
   "metadata": {},
   "outputs": [
    {
     "data": {
      "text/plain": [
       "789"
      ]
     },
     "execution_count": 24,
     "metadata": {},
     "output_type": "execute_result"
    }
   ],
   "source": [
    "raw_df.shape[1] - trunc_df.shape[1]"
   ]
  },
  {
   "cell_type": "code",
   "execution_count": 25,
   "metadata": {},
   "outputs": [],
   "source": [
    "# How many talks does each word appear in?\n",
    "talks_per_word = (trunc_df > 0).sum(axis = 0)"
   ]
  },
  {
   "cell_type": "code",
   "execution_count": 26,
   "metadata": {},
   "outputs": [
    {
     "data": {
      "text/plain": [
       "924"
      ]
     },
     "execution_count": 26,
     "metadata": {},
     "output_type": "execute_result"
    }
   ],
   "source": [
    "max(talks_per_word)"
   ]
  },
  {
   "cell_type": "code",
   "execution_count": 27,
   "metadata": {},
   "outputs": [
    {
     "data": {
      "text/plain": [
       "(714, 38325)"
      ]
     },
     "execution_count": 27,
     "metadata": {},
     "output_type": "execute_result"
    }
   ],
   "source": [
    "male_tdf = trunc_df.iloc[:714,:]\n",
    "male_tdf.shape"
   ]
  },
  {
   "cell_type": "code",
   "execution_count": 28,
   "metadata": {},
   "outputs": [
    {
     "data": {
      "text/plain": [
       "(260, 38325)"
      ]
     },
     "execution_count": 28,
     "metadata": {},
     "output_type": "execute_result"
    }
   ],
   "source": [
    "female_tdf = trunc_df.iloc[714:(714+260),:]\n",
    "female_tdf.shape"
   ]
  },
  {
   "cell_type": "code",
   "execution_count": 29,
   "metadata": {},
   "outputs": [
    {
     "data": {
      "text/plain": [
       "(8, 38325)"
      ]
     },
     "execution_count": 29,
     "metadata": {},
     "output_type": "execute_result"
    }
   ],
   "source": [
    "nog_tdf = trunc_df.iloc[-8:,:]\n",
    "nog_tdf.shape"
   ]
  },
  {
   "cell_type": "code",
   "execution_count": 30,
   "metadata": {},
   "outputs": [],
   "source": [
    "# How many times does each word appear across the whole corpus of male talks? \n",
    "count_per_word_m = male_tdf.sum(axis = 0)\n",
    "\n",
    "# How many talks does each word appear in?\n",
    "talks_per_word_m = (male_tdf > 0).sum(axis = 0)\n",
    "\n",
    "# How many words are in each talk? \n",
    "words_in_talk_m = male_tdf.sum(axis = 1)\n",
    "\n",
    "# How many unique words per talk? \n",
    "unique_words_talk_m = (male_tdf > 0).sum(axis = 1)"
   ]
  },
  {
   "cell_type": "code",
   "execution_count": 31,
   "metadata": {},
   "outputs": [
    {
     "name": "stdout",
     "output_type": "stream",
     "text": [
      "Smallest number of times a word is used is 0 while the largest number of times is 5544\n",
      "The average number of times a word is used is 16.06 with a standard deviation of 104.24 \n",
      " The median is 2.0\n"
     ]
    }
   ],
   "source": [
    "print('Smallest number of times a word is used is',count_per_word_m.min() ,\n",
    "      'while the largest number of times is',count_per_word_m.max())\n",
    "print('The average number of times a word is used is',round(count_per_word_m.mean(),2) ,\n",
    "      'with a standard deviation of',round(count_per_word_m.std(),2),\n",
    "      '\\n The median is', count_per_word_m.median() )"
   ]
  },
  {
   "cell_type": "code",
   "execution_count": 32,
   "metadata": {},
   "outputs": [
    {
     "data": {
      "text/plain": [
       "[<matplotlib.lines.Line2D at 0x1466c4a30>]"
      ]
     },
     "execution_count": 32,
     "metadata": {},
     "output_type": "execute_result"
    },
    {
     "data": {
      "image/png": "[encoded data removed]",
      "text/plain": [
       "<Figure size 432x288 with 1 Axes>"
      ]
     },
     "metadata": {
      "needs_background": "light"
     },
     "output_type": "display_data"
    }
   ],
   "source": [
    "inds = count_per_word_m < 5000\n",
    "\n",
    "plt.plot(count_per_word_m[inds],talks_per_word_m[inds],\"*\")"
   ]
  },
  {
   "cell_type": "code",
   "execution_count": 33,
   "metadata": {},
   "outputs": [],
   "source": [
    "# How many times does each word appear across the whole corpus of female talks? \n",
    "count_per_word_f = female_tdf.sum(axis = 0)\n",
    "\n",
    "# How many talks does each word appear in?\n",
    "talks_per_word_f = (female_tdf > 0).sum(axis = 0)\n",
    "\n",
    "# How many words are in each talk? \n",
    "words_in_talk_f = female_tdf.sum(axis = 1)\n",
    "\n",
    "# How many unique words per talk? \n",
    "unique_words_talk_f = (female_tdf > 0).sum(axis = 1)"
   ]
  },
  {
   "cell_type": "code",
   "execution_count": 34,
   "metadata": {},
   "outputs": [
    {
     "name": "stdout",
     "output_type": "stream",
     "text": [
      "Smallest number of times a word is used is 0 while the largest number of times is 2146\n",
      "The average number of times a word is used is 5.39 with a standard deviation of 34.63 \n",
      " The median is 1.0\n"
     ]
    }
   ],
   "source": [
    "print('Smallest number of times a word is used is',count_per_word_f.min() ,\n",
    "      'while the largest number of times is',count_per_word_f.max())\n",
    "print('The average number of times a word is used is',round(count_per_word_f.mean(),2) ,\n",
    "      'with a standard deviation of',round(count_per_word_f.std(),2),\n",
    "      '\\n The median is', count_per_word_f.median() )"
   ]
  },
  {
   "cell_type": "code",
   "execution_count": 35,
   "metadata": {},
   "outputs": [
    {
     "data": {
      "text/plain": [
       "[<matplotlib.lines.Line2D at 0x146674be0>]"
      ]
     },
     "execution_count": 35,
     "metadata": {},
     "output_type": "execute_result"
    },
    {
     "data": {
      "image/png": "[encoded data removed]",
      "text/plain": [
       "<Figure size 432x288 with 1 Axes>"
      ]
     },
     "metadata": {
      "needs_background": "light"
     },
     "output_type": "display_data"
    }
   ],
   "source": [
    "inds = count_per_word_f < 5000\n",
    "\n",
    "plt.plot(count_per_word_f[inds],talks_per_word_f[inds],\"*\")"
   ]
  },
  {
   "cell_type": "code",
   "execution_count": 36,
   "metadata": {},
   "outputs": [
    {
     "data": {
      "text/plain": [
       "[<matplotlib.lines.Line2D at 0x1465123a0>]"
      ]
     },
     "execution_count": 36,
     "metadata": {},
     "output_type": "execute_result"
    },
    {
     "data": {
      "image/png": "[encoded data removed]",
      "text/plain": [
       "<Figure size 432x288 with 1 Axes>"
      ]
     },
     "metadata": {
      "needs_background": "light"
     },
     "output_type": "display_data"
    }
   ],
   "source": [
    "plt.plot(count_per_word_m[inds],count_per_word_f[inds],\"*\")"
   ]
  },
  {
   "cell_type": "code",
   "execution_count": 37,
   "metadata": {},
   "outputs": [
    {
     "data": {
      "text/plain": [
       "[<matplotlib.lines.Line2D at 0x146518ca0>]"
      ]
     },
     "execution_count": 37,
     "metadata": {},
     "output_type": "execute_result"
    },
    {
     "data": {
      "image/png": "[encoded data removed]",
      "text/plain": [
       "<Figure size 432x288 with 1 Axes>"
      ]
     },
     "metadata": {
      "needs_background": "light"
     },
     "output_type": "display_data"
    }
   ],
   "source": [
    "plt.plot(talks_per_word_m[inds],talks_per_word_f[inds],\"*\")"
   ]
  },
  {
   "cell_type": "code",
   "execution_count": 38,
   "metadata": {},
   "outputs": [],
   "source": [
    "# How many times does each word appear across the whole corpus of female talks? \n",
    "count_per_word_n = nog_tdf.sum(axis = 0)\n",
    "\n",
    "# How many talks does each word appear in?\n",
    "talks_per_word_n = (nog_tdf > 0).sum(axis = 0)\n",
    "\n",
    "# How many words are in each talk? \n",
    "words_in_talk_n = nog_tdf.sum(axis = 1)\n",
    "\n",
    "# How many unique words per talk? \n",
    "unique_words_talk_n = (nog_tdf > 0).sum(axis = 1)"
   ]
  },
  {
   "cell_type": "code",
   "execution_count": 39,
   "metadata": {},
   "outputs": [
    {
     "name": "stdout",
     "output_type": "stream",
     "text": [
      "Smallest number of times a word is used is 0 while the largest number of times is 52\n",
      "The average number of times a word is used is 0.17 with a standard deviation of 1.32 \n",
      " The median is 0.0\n"
     ]
    }
   ],
   "source": [
    "print('Smallest number of times a word is used is',count_per_word_n.min() ,\n",
    "      'while the largest number of times is',count_per_word_n.max())\n",
    "print('The average number of times a word is used is',round(count_per_word_n.mean(),2) ,\n",
    "      'with a standard deviation of',round(count_per_word_n.std(),2),\n",
    "      '\\n The median is', count_per_word_n.median() )"
   ]
  },
  {
   "cell_type": "markdown",
   "metadata": {},
   "source": [
    "## Either Male or Female words that are never used\n"
   ]
  },
  {
   "cell_type": "code",
   "execution_count": 40,
   "metadata": {},
   "outputs": [],
   "source": [
    "minds_low = count_per_word_m <= 10\n",
    "finds_low = count_per_word_f <= 10"
   ]
  },
  {
   "cell_type": "code",
   "execution_count": 41,
   "metadata": {},
   "outputs": [
    {
     "data": {
      "text/plain": [
       "[<matplotlib.lines.Line2D at 0x146483730>]"
      ]
     },
     "execution_count": 41,
     "metadata": {},
     "output_type": "execute_result"
    },
    {
     "data": {
      "image/png": "[encoded data removed]",
      "text/plain": [
       "<Figure size 432x288 with 1 Axes>"
      ]
     },
     "metadata": {
      "needs_background": "light"
     },
     "output_type": "display_data"
    }
   ],
   "source": [
    "plt.plot(count_per_word_m[minds_low],count_per_word_f[minds_low],\"*\")"
   ]
  },
  {
   "cell_type": "code",
   "execution_count": 42,
   "metadata": {},
   "outputs": [
    {
     "data": {
      "text/plain": [
       "[<matplotlib.lines.Line2D at 0x14639a490>]"
      ]
     },
     "execution_count": 42,
     "metadata": {},
     "output_type": "execute_result"
    },
    {
     "data": {
      "image/png": "[encoded data removed]",
      "text/plain": [
       "<Figure size 432x288 with 1 Axes>"
      ]
     },
     "metadata": {
      "needs_background": "light"
     },
     "output_type": "display_data"
    }
   ],
   "source": [
    "plt.plot(count_per_word_m[finds_low],count_per_word_f[finds_low],\"*\")"
   ]
  },
  {
   "cell_type": "code",
   "execution_count": 43,
   "metadata": {},
   "outputs": [],
   "source": [
    "finds = (count_per_word_m <= 10) & (count_per_word_f > 20) #High F count, low M count\n",
    "minds = (count_per_word_m > 50) & (count_per_word_f <= 10) #High M count, low F count"
   ]
  },
  {
   "cell_type": "code",
   "execution_count": 44,
   "metadata": {},
   "outputs": [
    {
     "data": {
      "text/plain": [
       "[<matplotlib.lines.Line2D at 0x14629eb80>]"
      ]
     },
     "execution_count": 44,
     "metadata": {},
     "output_type": "execute_result"
    },
    {
     "data": {
      "image/png": "[encoded data removed]",
      "text/plain": [
       "<Figure size 432x288 with 1 Axes>"
      ]
     },
     "metadata": {
      "needs_background": "light"
     },
     "output_type": "display_data"
    }
   ],
   "source": [
    "plt.plot(count_per_word_m[minds],count_per_word_f[minds],\"*\")"
   ]
  },
  {
   "cell_type": "code",
   "execution_count": 45,
   "metadata": {},
   "outputs": [
    {
     "data": {
      "text/plain": [
       "[<matplotlib.lines.Line2D at 0x1464b4fa0>]"
      ]
     },
     "execution_count": 45,
     "metadata": {},
     "output_type": "execute_result"
    },
    {
     "data": {
      "image/png": "[encoded data removed]",
      "text/plain": [
       "<Figure size 432x288 with 1 Axes>"
      ]
     },
     "metadata": {
      "needs_background": "light"
     },
     "output_type": "display_data"
    }
   ],
   "source": [
    "plt.plot(count_per_word_m[finds],count_per_word_f[finds],\"g*\")"
   ]
  },
  {
   "cell_type": "code",
   "execution_count": 46,
   "metadata": {},
   "outputs": [
    {
     "data": {
      "image/png": "[encoded data removed]",
      "text/plain": [
       "<Figure size 432x288 with 1 Axes>"
      ]
     },
     "metadata": {
      "needs_background": "light"
     },
     "output_type": "display_data"
    }
   ],
   "source": [
    "plt.plot(count_per_word_m[minds],count_per_word_f[minds], \"g*\", label = \"Low female count\")\n",
    "plt.plot(count_per_word_m[finds],count_per_word_f[finds], \"b*\", label = \"Low male count\")\n",
    "\n",
    "plt.xlabel('Male counts')\n",
    "plt.ylabel('Female counts')\n",
    "plt.legend(loc='upper right')\n",
    "\n",
    "plt.show()\n",
    "\n",
    "# https://matplotlib.org/stable/gallery/pyplots/pyplot_simple.html"
   ]
  },
  {
   "cell_type": "code",
   "execution_count": 47,
   "metadata": {},
   "outputs": [
    {
     "data": {
      "text/plain": [
       "Index(['affair', 'africans', 'bamboo', 'bonobo', 'bronx', 'clams', 'colonies',\n",
       "       'copied', 'cs', 'detroit', 'dictionaries', 'dolphin', 'epic', 'females',\n",
       "       'fireflies', 'gamers', 'gaza', 'gk', 'glamorous', 'glamour', 'hackers',\n",
       "       'heh', 'hum', 'infections', 'jellyfish', 'kepler', 'li', 'looting',\n",
       "       'maintenance', 'mating', 'nest', 'orgasm', 'philanthropy', 'prevalence',\n",
       "       'reefs', 'sarah', 'skeletal', 'squid', 'sr', 'strike', 'sw', 'taliban',\n",
       "       'telomeres', 'titan', 'trafficking', 'vagina', 'vulnerability'],\n",
       "      dtype='object')"
      ]
     },
     "execution_count": 47,
     "metadata": {},
     "output_type": "execute_result"
    }
   ],
   "source": [
    "# Words with high counts in female talks that have a low count in male talks\n",
    "finds[finds].index"
   ]
  },
  {
   "cell_type": "code",
   "execution_count": 48,
   "metadata": {},
   "outputs": [
    {
     "data": {
      "text/plain": [
       "aakash      0\n",
       "aargh       0\n",
       "aaron       0\n",
       "aaronson    0\n",
       "aarp        0\n",
       "           ..\n",
       "ʾilla       1\n",
       "ʾilāha      1\n",
       "อย          0\n",
       "อยman       0\n",
       "อร          0\n",
       "Length: 38325, dtype: int64"
      ]
     },
     "execution_count": 48,
     "metadata": {},
     "output_type": "execute_result"
    }
   ],
   "source": [
    "count_per_word_f"
   ]
  },
  {
   "cell_type": "code",
   "execution_count": 49,
   "metadata": {
    "collapsed": true
   },
   "outputs": [
    {
     "data": {
      "text/plain": [
       "['anger',\n",
       " 'apple',\n",
       " 'argument',\n",
       " 'automatically',\n",
       " 'axis',\n",
       " 'balloon',\n",
       " 'battery',\n",
       " 'bears',\n",
       " 'bottle',\n",
       " 'burn',\n",
       " 'capability',\n",
       " 'charles',\n",
       " 'chicken',\n",
       " 'classes',\n",
       " 'clock',\n",
       " 'co2',\n",
       " 'coal',\n",
       " 'comet',\n",
       " 'components',\n",
       " 'computing',\n",
       " 'conscious',\n",
       " 'controlled',\n",
       " 'cortex',\n",
       " 'crash',\n",
       " 'creature',\n",
       " 'dan',\n",
       " 'debate',\n",
       " 'defense',\n",
       " 'designs',\n",
       " 'detect',\n",
       " 'dimensional',\n",
       " 'dimensions',\n",
       " 'dinosaurs',\n",
       " 'directions',\n",
       " 'disaster',\n",
       " 'discussion',\n",
       " 'dots',\n",
       " 'driver',\n",
       " 'ed',\n",
       " 'efficiency',\n",
       " 'em',\n",
       " 'emissions',\n",
       " 'engine',\n",
       " 'error',\n",
       " 'evolve',\n",
       " 'existing',\n",
       " 'explanation',\n",
       " 'exponential',\n",
       " 'extinction',\n",
       " 'fake',\n",
       " 'falling',\n",
       " 'features',\n",
       " 'feedback',\n",
       " 'finger',\n",
       " 'fold',\n",
       " 'francisco',\n",
       " 'fund',\n",
       " 'furniture',\n",
       " 'fusion',\n",
       " 'gang',\n",
       " 'genome',\n",
       " 'gentlemen',\n",
       " 'gray',\n",
       " 'grid',\n",
       " 'gun',\n",
       " 'hardware',\n",
       " 'hollywood',\n",
       " 'ii',\n",
       " 'infinite',\n",
       " 'infrastructure',\n",
       " 'input',\n",
       " 'interface',\n",
       " 'internal',\n",
       " 'invent',\n",
       " 'kb',\n",
       " 'ladies',\n",
       " 'laser',\n",
       " 'lets',\n",
       " 'link',\n",
       " 'logic',\n",
       " 'manufacturing',\n",
       " 'maps',\n",
       " 'master',\n",
       " 'mechanical',\n",
       " 'metaphor',\n",
       " 'mile',\n",
       " 'mit',\n",
       " 'moore',\n",
       " 'mouse',\n",
       " 'ms',\n",
       " 'nsa',\n",
       " 'nuclear',\n",
       " 'organism',\n",
       " 'origami',\n",
       " 'ought',\n",
       " 'particle',\n",
       " 'patent',\n",
       " 'phantom',\n",
       " 'philosophy',\n",
       " 'players',\n",
       " 'plus',\n",
       " 'polio',\n",
       " 'powered',\n",
       " 'powers',\n",
       " 'presentation',\n",
       " 'prime',\n",
       " 'printing',\n",
       " 'profit',\n",
       " 'pushing',\n",
       " 'rb',\n",
       " 'records',\n",
       " 'reverse',\n",
       " 'rid',\n",
       " 'roughly',\n",
       " 'script',\n",
       " 'selling',\n",
       " 'sensors',\n",
       " 'sequence',\n",
       " 'serve',\n",
       " 'sets',\n",
       " 'shoot',\n",
       " 'shooting',\n",
       " 'simplicity',\n",
       " 'sir',\n",
       " 'skill',\n",
       " 'slavery',\n",
       " 'smallpox',\n",
       " 'sources',\n",
       " 'statistics',\n",
       " 'stem',\n",
       " 'stronger',\n",
       " 'suit',\n",
       " 'sum',\n",
       " 'sunlight',\n",
       " 'teams',\n",
       " 'thomas',\n",
       " 'tonight',\n",
       " 'user',\n",
       " 'vehicle',\n",
       " 'vehicles',\n",
       " 'vertical',\n",
       " 'views',\n",
       " 'viruses',\n",
       " 'waves',\n",
       " 'weapons',\n",
       " 'wheel',\n",
       " 'windows',\n",
       " 'wire',\n",
       " 'witness']"
      ]
     },
     "execution_count": 49,
     "metadata": {},
     "output_type": "execute_result"
    }
   ],
   "source": [
    "#Words with high counts in male talks that have a low count in female talks\n",
    "list(minds[minds].index)"
   ]
  },
  {
   "cell_type": "code",
   "execution_count": 50,
   "metadata": {},
   "outputs": [],
   "source": [
    "test_index = [\"female word counts\", \"female talk numbers\",\"male word counts\", \"male talk numbers\"]\n"
   ]
  },
  {
   "cell_type": "code",
   "execution_count": 51,
   "metadata": {},
   "outputs": [],
   "source": [
    "test = pd.DataFrame([count_per_word_f, talks_per_word_f,\n",
    "                     count_per_word_m, talks_per_word_m], index = test_index).T\n",
    "\n",
    "# https://stackoverflow.com/questions/19851005/rename-pandas-dataframe-index\n",
    "# https://pandas.pydata.org/docs/reference/api/pandas.DataFrame.transpose.html"
   ]
  },
  {
   "cell_type": "code",
   "execution_count": 52,
   "metadata": {},
   "outputs": [
    {
     "data": {
      "text/html": [
       "<div>\n",
       "<style scoped>\n",
       "    .dataframe tbody tr th:only-of-type {\n",
       "        vertical-align: middle;\n",
       "    }\n",
       "\n",
       "    .dataframe tbody tr th {\n",
       "        vertical-align: top;\n",
       "    }\n",
       "\n",
       "    .dataframe thead th {\n",
       "        text-align: right;\n",
       "    }\n",
       "</style>\n",
       "<table border=\"1\" class=\"dataframe\">\n",
       "  <thead>\n",
       "    <tr style=\"text-align: right;\">\n",
       "      <th></th>\n",
       "      <th>female word counts</th>\n",
       "      <th>female talk numbers</th>\n",
       "      <th>male word counts</th>\n",
       "      <th>male talk numbers</th>\n",
       "    </tr>\n",
       "  </thead>\n",
       "  <tbody>\n",
       "    <tr>\n",
       "      <th>aakash</th>\n",
       "      <td>0</td>\n",
       "      <td>0</td>\n",
       "      <td>2</td>\n",
       "      <td>1</td>\n",
       "    </tr>\n",
       "    <tr>\n",
       "      <th>aargh</th>\n",
       "      <td>0</td>\n",
       "      <td>0</td>\n",
       "      <td>1</td>\n",
       "      <td>1</td>\n",
       "    </tr>\n",
       "    <tr>\n",
       "      <th>aaron</th>\n",
       "      <td>0</td>\n",
       "      <td>0</td>\n",
       "      <td>17</td>\n",
       "      <td>8</td>\n",
       "    </tr>\n",
       "    <tr>\n",
       "      <th>aaronson</th>\n",
       "      <td>0</td>\n",
       "      <td>0</td>\n",
       "      <td>2</td>\n",
       "      <td>1</td>\n",
       "    </tr>\n",
       "    <tr>\n",
       "      <th>aarp</th>\n",
       "      <td>0</td>\n",
       "      <td>0</td>\n",
       "      <td>1</td>\n",
       "      <td>1</td>\n",
       "    </tr>\n",
       "    <tr>\n",
       "      <th>...</th>\n",
       "      <td>...</td>\n",
       "      <td>...</td>\n",
       "      <td>...</td>\n",
       "      <td>...</td>\n",
       "    </tr>\n",
       "    <tr>\n",
       "      <th>ʾilla</th>\n",
       "      <td>1</td>\n",
       "      <td>1</td>\n",
       "      <td>0</td>\n",
       "      <td>0</td>\n",
       "    </tr>\n",
       "    <tr>\n",
       "      <th>ʾilāha</th>\n",
       "      <td>1</td>\n",
       "      <td>1</td>\n",
       "      <td>0</td>\n",
       "      <td>0</td>\n",
       "    </tr>\n",
       "    <tr>\n",
       "      <th>อย</th>\n",
       "      <td>0</td>\n",
       "      <td>0</td>\n",
       "      <td>1</td>\n",
       "      <td>1</td>\n",
       "    </tr>\n",
       "    <tr>\n",
       "      <th>อยman</th>\n",
       "      <td>0</td>\n",
       "      <td>0</td>\n",
       "      <td>1</td>\n",
       "      <td>1</td>\n",
       "    </tr>\n",
       "    <tr>\n",
       "      <th>อร</th>\n",
       "      <td>0</td>\n",
       "      <td>0</td>\n",
       "      <td>2</td>\n",
       "      <td>1</td>\n",
       "    </tr>\n",
       "  </tbody>\n",
       "</table>\n",
       "<p>38325 rows × 4 columns</p>\n",
       "</div>"
      ],
      "text/plain": [
       "          female word counts  female talk numbers  male word counts  \\\n",
       "aakash                     0                    0                 2   \n",
       "aargh                      0                    0                 1   \n",
       "aaron                      0                    0                17   \n",
       "aaronson                   0                    0                 2   \n",
       "aarp                       0                    0                 1   \n",
       "...                      ...                  ...               ...   \n",
       "ʾilla                      1                    1                 0   \n",
       "ʾilāha                     1                    1                 0   \n",
       "อย                         0                    0                 1   \n",
       "อยman                      0                    0                 1   \n",
       "อร                         0                    0                 2   \n",
       "\n",
       "          male talk numbers  \n",
       "aakash                    1  \n",
       "aargh                     1  \n",
       "aaron                     8  \n",
       "aaronson                  1  \n",
       "aarp                      1  \n",
       "...                     ...  \n",
       "ʾilla                     0  \n",
       "ʾilāha                    0  \n",
       "อย                        1  \n",
       "อยman                     1  \n",
       "อร                        1  \n",
       "\n",
       "[38325 rows x 4 columns]"
      ]
     },
     "execution_count": 52,
     "metadata": {},
     "output_type": "execute_result"
    }
   ],
   "source": [
    "\n",
    "test \n"
   ]
  },
  {
   "cell_type": "code",
   "execution_count": 104,
   "metadata": {},
   "outputs": [],
   "source": [
    "count_index = [\"female word counts\", \"male word counts\"]\n"
   ]
  },
  {
   "cell_type": "code",
   "execution_count": 106,
   "metadata": {},
   "outputs": [],
   "source": [
    "fm_counts = pd.DataFrame([count_per_word_f, count_per_word_m], index = count_index).T\n",
    "\n",
    "# https://stackoverflow.com/questions/19851005/rename-pandas-dataframe-index\n",
    "# https://pandas.pydata.org/docs/reference/api/pandas.DataFrame.transpose.html"
   ]
  },
  {
   "cell_type": "code",
   "execution_count": 107,
   "metadata": {},
   "outputs": [
    {
     "data": {
      "text/html": [
       "<div>\n",
       "<style scoped>\n",
       "    .dataframe tbody tr th:only-of-type {\n",
       "        vertical-align: middle;\n",
       "    }\n",
       "\n",
       "    .dataframe tbody tr th {\n",
       "        vertical-align: top;\n",
       "    }\n",
       "\n",
       "    .dataframe thead th {\n",
       "        text-align: right;\n",
       "    }\n",
       "</style>\n",
       "<table border=\"1\" class=\"dataframe\">\n",
       "  <thead>\n",
       "    <tr style=\"text-align: right;\">\n",
       "      <th></th>\n",
       "      <th>female word counts</th>\n",
       "      <th>male word counts</th>\n",
       "    </tr>\n",
       "  </thead>\n",
       "  <tbody>\n",
       "    <tr>\n",
       "      <th>aakash</th>\n",
       "      <td>0</td>\n",
       "      <td>2</td>\n",
       "    </tr>\n",
       "    <tr>\n",
       "      <th>aargh</th>\n",
       "      <td>0</td>\n",
       "      <td>1</td>\n",
       "    </tr>\n",
       "    <tr>\n",
       "      <th>aaron</th>\n",
       "      <td>0</td>\n",
       "      <td>17</td>\n",
       "    </tr>\n",
       "    <tr>\n",
       "      <th>aaronson</th>\n",
       "      <td>0</td>\n",
       "      <td>2</td>\n",
       "    </tr>\n",
       "    <tr>\n",
       "      <th>aarp</th>\n",
       "      <td>0</td>\n",
       "      <td>1</td>\n",
       "    </tr>\n",
       "    <tr>\n",
       "      <th>...</th>\n",
       "      <td>...</td>\n",
       "      <td>...</td>\n",
       "    </tr>\n",
       "    <tr>\n",
       "      <th>ʾilla</th>\n",
       "      <td>1</td>\n",
       "      <td>0</td>\n",
       "    </tr>\n",
       "    <tr>\n",
       "      <th>ʾilāha</th>\n",
       "      <td>1</td>\n",
       "      <td>0</td>\n",
       "    </tr>\n",
       "    <tr>\n",
       "      <th>อย</th>\n",
       "      <td>0</td>\n",
       "      <td>1</td>\n",
       "    </tr>\n",
       "    <tr>\n",
       "      <th>อยman</th>\n",
       "      <td>0</td>\n",
       "      <td>1</td>\n",
       "    </tr>\n",
       "    <tr>\n",
       "      <th>อร</th>\n",
       "      <td>0</td>\n",
       "      <td>2</td>\n",
       "    </tr>\n",
       "  </tbody>\n",
       "</table>\n",
       "<p>38325 rows × 2 columns</p>\n",
       "</div>"
      ],
      "text/plain": [
       "          female word counts  male word counts\n",
       "aakash                     0                 2\n",
       "aargh                      0                 1\n",
       "aaron                      0                17\n",
       "aaronson                   0                 2\n",
       "aarp                       0                 1\n",
       "...                      ...               ...\n",
       "ʾilla                      1                 0\n",
       "ʾilāha                     1                 0\n",
       "อย                         0                 1\n",
       "อยman                      0                 1\n",
       "อร                         0                 2\n",
       "\n",
       "[38325 rows x 2 columns]"
      ]
     },
     "execution_count": 107,
     "metadata": {},
     "output_type": "execute_result"
    }
   ],
   "source": [
    "fm_counts"
   ]
  },
  {
   "cell_type": "markdown",
   "metadata": {},
   "source": [
    "## Topics (NMF)"
   ]
  },
  {
   "cell_type": "code",
   "execution_count": 53,
   "metadata": {},
   "outputs": [
    {
     "name": "stderr",
     "output_type": "stream",
     "text": [
      "/opt/anaconda3/envs/tedtalks/lib/python3.9/site-packages/sklearn/decomposition/_nmf.py:1637: ConvergenceWarning: Maximum number of iterations 200 reached. Increase it to improve convergence.\n",
      "  warnings.warn(\n"
     ]
    }
   ],
   "source": [
    "k = 50\n",
    "model = NMF( init=\"nndsvd\", n_components= k ) \n",
    "# apply the model and extract the two factor matrices\n",
    "W = model.fit_transform(X.toarray())\n",
    "H = model.components_"
   ]
  },
  {
   "cell_type": "code",
   "execution_count": 54,
   "metadata": {},
   "outputs": [
    {
     "data": {
      "text/plain": [
       "((982, 50), (50, 39114))"
      ]
     },
     "execution_count": 54,
     "metadata": {},
     "output_type": "execute_result"
    }
   ],
   "source": [
    "W.shape, H.shape\n"
   ]
  },
  {
   "cell_type": "code",
   "execution_count": 55,
   "metadata": {},
   "outputs": [
    {
     "data": {
      "text/plain": [
       "array([[0.06187124, 0.10973847, 0.33061321, ..., 0.01921086, 0.03660509,\n",
       "        0.        ],\n",
       "       [0.08404072, 0.86344512, 0.12439434, ..., 0.        , 0.        ,\n",
       "        0.        ],\n",
       "       [0.        , 0.01748916, 0.4587886 , ..., 0.10964833, 0.        ,\n",
       "        0.33062833],\n",
       "       ...,\n",
       "       [0.0579234 , 0.03553489, 0.        , ..., 0.00247352, 0.0887534 ,\n",
       "        0.524538  ],\n",
       "       [0.        , 0.08305549, 0.        , ..., 0.        , 0.        ,\n",
       "        0.        ],\n",
       "       [0.        , 0.        , 0.        , ..., 0.        , 0.        ,\n",
       "        0.09763638]])"
      ]
     },
     "execution_count": 55,
     "metadata": {},
     "output_type": "execute_result"
    }
   ],
   "source": [
    "W"
   ]
  },
  {
   "cell_type": "code",
   "execution_count": 56,
   "metadata": {},
   "outputs": [
    {
     "data": {
      "text/plain": [
       "array([[0.        , 0.        , 0.        , ..., 0.        , 0.        ,\n",
       "        0.        ],\n",
       "       [0.        , 0.        , 0.        , ..., 0.        , 0.        ,\n",
       "        0.        ],\n",
       "       [0.        , 0.39213221, 0.        , ..., 0.        , 0.        ,\n",
       "        0.        ],\n",
       "       ...,\n",
       "       [0.        , 0.        , 0.        , ..., 0.        , 0.        ,\n",
       "        0.        ],\n",
       "       [0.        , 0.        , 0.        , ..., 0.        , 0.        ,\n",
       "        0.        ],\n",
       "       [0.        , 0.23848751, 0.        , ..., 0.        , 0.        ,\n",
       "        0.        ]])"
      ]
     },
     "execution_count": 56,
     "metadata": {},
     "output_type": "execute_result"
    }
   ],
   "source": [
    "H"
   ]
  },
  {
   "cell_type": "code",
   "execution_count": 57,
   "metadata": {},
   "outputs": [
    {
     "data": {
      "text/plain": [
       "(50, 39114)"
      ]
     },
     "execution_count": 57,
     "metadata": {},
     "output_type": "execute_result"
    }
   ],
   "source": [
    "# Topic-word matrix: \n",
    "\n",
    "tw_df = pd.DataFrame(H, columns = vectorizer.get_feature_names_out())\n",
    "tw_df.shape"
   ]
  },
  {
   "cell_type": "code",
   "execution_count": 58,
   "metadata": {},
   "outputs": [
    {
     "data": {
      "text/plain": [
       "(50, 38325)"
      ]
     },
     "execution_count": 58,
     "metadata": {},
     "output_type": "execute_result"
    }
   ],
   "source": [
    "tw_trunc = tw_df.iloc[:,789:]\n",
    "tw_trunc.shape"
   ]
  },
  {
   "cell_type": "code",
   "execution_count": 64,
   "metadata": {
    "collapsed": true
   },
   "outputs": [
    {
     "data": {
      "text/html": [
       "<div>\n",
       "<style scoped>\n",
       "    .dataframe tbody tr th:only-of-type {\n",
       "        vertical-align: middle;\n",
       "    }\n",
       "\n",
       "    .dataframe tbody tr th {\n",
       "        vertical-align: top;\n",
       "    }\n",
       "\n",
       "    .dataframe thead th {\n",
       "        text-align: right;\n",
       "    }\n",
       "</style>\n",
       "<table border=\"1\" class=\"dataframe\">\n",
       "  <thead>\n",
       "    <tr style=\"text-align: right;\">\n",
       "      <th></th>\n",
       "      <th>aakash</th>\n",
       "      <th>aargh</th>\n",
       "      <th>aaron</th>\n",
       "      <th>aaronson</th>\n",
       "      <th>aarp</th>\n",
       "      <th>aat</th>\n",
       "      <th>aatcagggaccc</th>\n",
       "      <th>ab</th>\n",
       "      <th>ab32</th>\n",
       "      <th>ababa</th>\n",
       "      <th>...</th>\n",
       "      <th>ñamu</th>\n",
       "      <th>übernerd</th>\n",
       "      <th>ālep</th>\n",
       "      <th>čapek</th>\n",
       "      <th>ʾan</th>\n",
       "      <th>ʾilla</th>\n",
       "      <th>ʾilāha</th>\n",
       "      <th>อย</th>\n",
       "      <th>อยman</th>\n",
       "      <th>อร</th>\n",
       "    </tr>\n",
       "  </thead>\n",
       "  <tbody>\n",
       "    <tr>\n",
       "      <th>0</th>\n",
       "      <td>0.000000</td>\n",
       "      <td>0.000000</td>\n",
       "      <td>0.000000</td>\n",
       "      <td>0.000000</td>\n",
       "      <td>0.000000</td>\n",
       "      <td>0.000000</td>\n",
       "      <td>0.009028</td>\n",
       "      <td>0.000000</td>\n",
       "      <td>0.000000</td>\n",
       "      <td>0.000000</td>\n",
       "      <td>...</td>\n",
       "      <td>0.000000</td>\n",
       "      <td>0.000000</td>\n",
       "      <td>0.000000</td>\n",
       "      <td>0.000000</td>\n",
       "      <td>0.000000</td>\n",
       "      <td>0.000000</td>\n",
       "      <td>0.000000</td>\n",
       "      <td>0.000000</td>\n",
       "      <td>0.000000</td>\n",
       "      <td>0.000000</td>\n",
       "    </tr>\n",
       "    <tr>\n",
       "      <th>1</th>\n",
       "      <td>0.000000</td>\n",
       "      <td>0.000000</td>\n",
       "      <td>0.000000</td>\n",
       "      <td>0.001772</td>\n",
       "      <td>0.000000</td>\n",
       "      <td>0.000000</td>\n",
       "      <td>0.000000</td>\n",
       "      <td>0.000000</td>\n",
       "      <td>0.000000</td>\n",
       "      <td>0.000000</td>\n",
       "      <td>...</td>\n",
       "      <td>0.000000</td>\n",
       "      <td>0.000000</td>\n",
       "      <td>0.000000</td>\n",
       "      <td>0.000000</td>\n",
       "      <td>0.000000</td>\n",
       "      <td>0.000000</td>\n",
       "      <td>0.000000</td>\n",
       "      <td>0.000000</td>\n",
       "      <td>0.000000</td>\n",
       "      <td>0.000000</td>\n",
       "    </tr>\n",
       "    <tr>\n",
       "      <th>2</th>\n",
       "      <td>0.000000</td>\n",
       "      <td>0.000000</td>\n",
       "      <td>0.000000</td>\n",
       "      <td>0.000000</td>\n",
       "      <td>0.000000</td>\n",
       "      <td>0.000000</td>\n",
       "      <td>0.000000</td>\n",
       "      <td>0.000000</td>\n",
       "      <td>0.000000</td>\n",
       "      <td>0.000000</td>\n",
       "      <td>...</td>\n",
       "      <td>0.000000</td>\n",
       "      <td>0.007516</td>\n",
       "      <td>0.000000</td>\n",
       "      <td>0.000000</td>\n",
       "      <td>0.000000</td>\n",
       "      <td>0.000000</td>\n",
       "      <td>0.000000</td>\n",
       "      <td>0.000000</td>\n",
       "      <td>0.000000</td>\n",
       "      <td>0.000000</td>\n",
       "    </tr>\n",
       "    <tr>\n",
       "      <th>3</th>\n",
       "      <td>0.000000</td>\n",
       "      <td>0.000000</td>\n",
       "      <td>0.000000</td>\n",
       "      <td>0.000358</td>\n",
       "      <td>0.035925</td>\n",
       "      <td>0.000000</td>\n",
       "      <td>0.000000</td>\n",
       "      <td>0.000000</td>\n",
       "      <td>0.000369</td>\n",
       "      <td>0.000000</td>\n",
       "      <td>...</td>\n",
       "      <td>0.000000</td>\n",
       "      <td>0.000000</td>\n",
       "      <td>0.000000</td>\n",
       "      <td>0.000000</td>\n",
       "      <td>0.000000</td>\n",
       "      <td>0.000000</td>\n",
       "      <td>0.000000</td>\n",
       "      <td>0.000000</td>\n",
       "      <td>0.000000</td>\n",
       "      <td>0.000000</td>\n",
       "    </tr>\n",
       "    <tr>\n",
       "      <th>4</th>\n",
       "      <td>0.000000</td>\n",
       "      <td>0.000000</td>\n",
       "      <td>0.000000</td>\n",
       "      <td>0.000000</td>\n",
       "      <td>0.000000</td>\n",
       "      <td>0.000000</td>\n",
       "      <td>0.000000</td>\n",
       "      <td>0.000000</td>\n",
       "      <td>0.000000</td>\n",
       "      <td>0.000000</td>\n",
       "      <td>...</td>\n",
       "      <td>0.000000</td>\n",
       "      <td>0.000000</td>\n",
       "      <td>0.000000</td>\n",
       "      <td>0.000000</td>\n",
       "      <td>0.000000</td>\n",
       "      <td>0.000000</td>\n",
       "      <td>0.000000</td>\n",
       "      <td>0.000000</td>\n",
       "      <td>0.000000</td>\n",
       "      <td>0.000000</td>\n",
       "    </tr>\n",
       "    <tr>\n",
       "      <th>5</th>\n",
       "      <td>0.000000</td>\n",
       "      <td>0.000000</td>\n",
       "      <td>0.008970</td>\n",
       "      <td>0.000000</td>\n",
       "      <td>0.000000</td>\n",
       "      <td>0.000000</td>\n",
       "      <td>0.000000</td>\n",
       "      <td>0.000000</td>\n",
       "      <td>0.000000</td>\n",
       "      <td>0.000000</td>\n",
       "      <td>...</td>\n",
       "      <td>0.000000</td>\n",
       "      <td>0.000000</td>\n",
       "      <td>0.000000</td>\n",
       "      <td>0.000000</td>\n",
       "      <td>0.000000</td>\n",
       "      <td>0.000000</td>\n",
       "      <td>0.000000</td>\n",
       "      <td>0.000000</td>\n",
       "      <td>0.000000</td>\n",
       "      <td>0.000000</td>\n",
       "    </tr>\n",
       "    <tr>\n",
       "      <th>6</th>\n",
       "      <td>0.000000</td>\n",
       "      <td>0.000000</td>\n",
       "      <td>0.000000</td>\n",
       "      <td>0.000000</td>\n",
       "      <td>0.000000</td>\n",
       "      <td>0.000000</td>\n",
       "      <td>0.000000</td>\n",
       "      <td>0.000000</td>\n",
       "      <td>0.000000</td>\n",
       "      <td>0.000000</td>\n",
       "      <td>...</td>\n",
       "      <td>0.000000</td>\n",
       "      <td>0.000000</td>\n",
       "      <td>0.000000</td>\n",
       "      <td>0.000000</td>\n",
       "      <td>0.000000</td>\n",
       "      <td>0.000000</td>\n",
       "      <td>0.000000</td>\n",
       "      <td>0.000000</td>\n",
       "      <td>0.000000</td>\n",
       "      <td>0.000000</td>\n",
       "    </tr>\n",
       "    <tr>\n",
       "      <th>7</th>\n",
       "      <td>0.000000</td>\n",
       "      <td>0.000000</td>\n",
       "      <td>0.000000</td>\n",
       "      <td>0.000000</td>\n",
       "      <td>0.000000</td>\n",
       "      <td>0.000000</td>\n",
       "      <td>0.000000</td>\n",
       "      <td>0.000000</td>\n",
       "      <td>0.000000</td>\n",
       "      <td>0.000000</td>\n",
       "      <td>...</td>\n",
       "      <td>0.000000</td>\n",
       "      <td>0.013655</td>\n",
       "      <td>0.000000</td>\n",
       "      <td>0.000000</td>\n",
       "      <td>0.000000</td>\n",
       "      <td>0.000000</td>\n",
       "      <td>0.000000</td>\n",
       "      <td>0.000000</td>\n",
       "      <td>0.000000</td>\n",
       "      <td>0.000000</td>\n",
       "    </tr>\n",
       "    <tr>\n",
       "      <th>8</th>\n",
       "      <td>0.000000</td>\n",
       "      <td>0.000000</td>\n",
       "      <td>0.037444</td>\n",
       "      <td>0.000000</td>\n",
       "      <td>0.000000</td>\n",
       "      <td>0.000000</td>\n",
       "      <td>0.000000</td>\n",
       "      <td>0.000000</td>\n",
       "      <td>0.000000</td>\n",
       "      <td>0.000000</td>\n",
       "      <td>...</td>\n",
       "      <td>0.000000</td>\n",
       "      <td>0.000000</td>\n",
       "      <td>0.000000</td>\n",
       "      <td>0.000000</td>\n",
       "      <td>0.000456</td>\n",
       "      <td>0.000456</td>\n",
       "      <td>0.000456</td>\n",
       "      <td>0.000000</td>\n",
       "      <td>0.000000</td>\n",
       "      <td>0.000000</td>\n",
       "    </tr>\n",
       "    <tr>\n",
       "      <th>9</th>\n",
       "      <td>0.000000</td>\n",
       "      <td>0.000000</td>\n",
       "      <td>0.000000</td>\n",
       "      <td>0.000000</td>\n",
       "      <td>0.000000</td>\n",
       "      <td>0.000000</td>\n",
       "      <td>0.000000</td>\n",
       "      <td>0.000000</td>\n",
       "      <td>0.000000</td>\n",
       "      <td>0.000000</td>\n",
       "      <td>...</td>\n",
       "      <td>0.000000</td>\n",
       "      <td>0.000000</td>\n",
       "      <td>0.000000</td>\n",
       "      <td>0.000000</td>\n",
       "      <td>0.000000</td>\n",
       "      <td>0.000000</td>\n",
       "      <td>0.000000</td>\n",
       "      <td>0.000000</td>\n",
       "      <td>0.000000</td>\n",
       "      <td>0.000000</td>\n",
       "    </tr>\n",
       "    <tr>\n",
       "      <th>10</th>\n",
       "      <td>0.000000</td>\n",
       "      <td>0.000000</td>\n",
       "      <td>0.000000</td>\n",
       "      <td>0.000000</td>\n",
       "      <td>0.000000</td>\n",
       "      <td>0.000000</td>\n",
       "      <td>0.000000</td>\n",
       "      <td>0.000000</td>\n",
       "      <td>0.000000</td>\n",
       "      <td>0.019716</td>\n",
       "      <td>...</td>\n",
       "      <td>0.002756</td>\n",
       "      <td>0.000000</td>\n",
       "      <td>0.000000</td>\n",
       "      <td>0.000000</td>\n",
       "      <td>0.000000</td>\n",
       "      <td>0.000000</td>\n",
       "      <td>0.000000</td>\n",
       "      <td>0.000000</td>\n",
       "      <td>0.000000</td>\n",
       "      <td>0.000000</td>\n",
       "    </tr>\n",
       "    <tr>\n",
       "      <th>11</th>\n",
       "      <td>0.000000</td>\n",
       "      <td>0.000000</td>\n",
       "      <td>0.000000</td>\n",
       "      <td>0.000000</td>\n",
       "      <td>0.000936</td>\n",
       "      <td>0.000000</td>\n",
       "      <td>0.000000</td>\n",
       "      <td>0.000000</td>\n",
       "      <td>0.000000</td>\n",
       "      <td>0.000000</td>\n",
       "      <td>...</td>\n",
       "      <td>0.000943</td>\n",
       "      <td>0.000000</td>\n",
       "      <td>0.000000</td>\n",
       "      <td>0.000000</td>\n",
       "      <td>0.000000</td>\n",
       "      <td>0.000000</td>\n",
       "      <td>0.000000</td>\n",
       "      <td>0.000000</td>\n",
       "      <td>0.000000</td>\n",
       "      <td>0.000000</td>\n",
       "    </tr>\n",
       "    <tr>\n",
       "      <th>12</th>\n",
       "      <td>0.000000</td>\n",
       "      <td>0.000000</td>\n",
       "      <td>0.000000</td>\n",
       "      <td>0.000000</td>\n",
       "      <td>0.000109</td>\n",
       "      <td>0.000000</td>\n",
       "      <td>0.000000</td>\n",
       "      <td>0.000000</td>\n",
       "      <td>0.000000</td>\n",
       "      <td>0.000000</td>\n",
       "      <td>...</td>\n",
       "      <td>0.000000</td>\n",
       "      <td>0.000000</td>\n",
       "      <td>0.000000</td>\n",
       "      <td>0.000000</td>\n",
       "      <td>0.000000</td>\n",
       "      <td>0.000000</td>\n",
       "      <td>0.000000</td>\n",
       "      <td>0.000000</td>\n",
       "      <td>0.000000</td>\n",
       "      <td>0.000000</td>\n",
       "    </tr>\n",
       "    <tr>\n",
       "      <th>13</th>\n",
       "      <td>0.000000</td>\n",
       "      <td>0.000000</td>\n",
       "      <td>0.000000</td>\n",
       "      <td>0.000000</td>\n",
       "      <td>0.000000</td>\n",
       "      <td>0.000000</td>\n",
       "      <td>0.000000</td>\n",
       "      <td>0.897465</td>\n",
       "      <td>0.000000</td>\n",
       "      <td>0.000000</td>\n",
       "      <td>...</td>\n",
       "      <td>0.000000</td>\n",
       "      <td>0.000000</td>\n",
       "      <td>0.000000</td>\n",
       "      <td>0.000000</td>\n",
       "      <td>0.000000</td>\n",
       "      <td>0.000000</td>\n",
       "      <td>0.000000</td>\n",
       "      <td>0.000000</td>\n",
       "      <td>0.000000</td>\n",
       "      <td>0.000000</td>\n",
       "    </tr>\n",
       "    <tr>\n",
       "      <th>14</th>\n",
       "      <td>0.000000</td>\n",
       "      <td>0.000000</td>\n",
       "      <td>0.027215</td>\n",
       "      <td>0.000000</td>\n",
       "      <td>0.000000</td>\n",
       "      <td>0.000000</td>\n",
       "      <td>0.000000</td>\n",
       "      <td>0.000000</td>\n",
       "      <td>0.000000</td>\n",
       "      <td>0.000000</td>\n",
       "      <td>...</td>\n",
       "      <td>0.000000</td>\n",
       "      <td>0.000000</td>\n",
       "      <td>0.000000</td>\n",
       "      <td>0.001600</td>\n",
       "      <td>0.000000</td>\n",
       "      <td>0.000000</td>\n",
       "      <td>0.000000</td>\n",
       "      <td>0.000000</td>\n",
       "      <td>0.000000</td>\n",
       "      <td>0.000000</td>\n",
       "    </tr>\n",
       "    <tr>\n",
       "      <th>15</th>\n",
       "      <td>0.000000</td>\n",
       "      <td>0.000000</td>\n",
       "      <td>0.000000</td>\n",
       "      <td>0.000000</td>\n",
       "      <td>0.000000</td>\n",
       "      <td>0.000000</td>\n",
       "      <td>0.000000</td>\n",
       "      <td>0.000000</td>\n",
       "      <td>0.000000</td>\n",
       "      <td>0.000000</td>\n",
       "      <td>...</td>\n",
       "      <td>0.000107</td>\n",
       "      <td>0.000000</td>\n",
       "      <td>0.000000</td>\n",
       "      <td>0.000000</td>\n",
       "      <td>0.000000</td>\n",
       "      <td>0.000000</td>\n",
       "      <td>0.000000</td>\n",
       "      <td>0.000000</td>\n",
       "      <td>0.000000</td>\n",
       "      <td>0.000000</td>\n",
       "    </tr>\n",
       "    <tr>\n",
       "      <th>16</th>\n",
       "      <td>0.000000</td>\n",
       "      <td>0.000000</td>\n",
       "      <td>0.000000</td>\n",
       "      <td>0.000000</td>\n",
       "      <td>0.002680</td>\n",
       "      <td>0.000000</td>\n",
       "      <td>0.000000</td>\n",
       "      <td>0.000000</td>\n",
       "      <td>0.007668</td>\n",
       "      <td>0.000000</td>\n",
       "      <td>...</td>\n",
       "      <td>0.000000</td>\n",
       "      <td>0.000000</td>\n",
       "      <td>0.000000</td>\n",
       "      <td>0.000000</td>\n",
       "      <td>0.000000</td>\n",
       "      <td>0.000000</td>\n",
       "      <td>0.000000</td>\n",
       "      <td>0.000000</td>\n",
       "      <td>0.000000</td>\n",
       "      <td>0.000000</td>\n",
       "    </tr>\n",
       "    <tr>\n",
       "      <th>17</th>\n",
       "      <td>0.000000</td>\n",
       "      <td>0.000000</td>\n",
       "      <td>0.000000</td>\n",
       "      <td>0.000000</td>\n",
       "      <td>0.000000</td>\n",
       "      <td>0.000000</td>\n",
       "      <td>0.000000</td>\n",
       "      <td>0.000000</td>\n",
       "      <td>0.000000</td>\n",
       "      <td>0.000000</td>\n",
       "      <td>...</td>\n",
       "      <td>0.000000</td>\n",
       "      <td>0.000000</td>\n",
       "      <td>0.000000</td>\n",
       "      <td>0.000000</td>\n",
       "      <td>0.000000</td>\n",
       "      <td>0.000000</td>\n",
       "      <td>0.000000</td>\n",
       "      <td>0.000000</td>\n",
       "      <td>0.000000</td>\n",
       "      <td>0.000000</td>\n",
       "    </tr>\n",
       "    <tr>\n",
       "      <th>18</th>\n",
       "      <td>0.000000</td>\n",
       "      <td>0.000000</td>\n",
       "      <td>0.000000</td>\n",
       "      <td>0.000000</td>\n",
       "      <td>0.000000</td>\n",
       "      <td>0.001601</td>\n",
       "      <td>0.002202</td>\n",
       "      <td>0.000000</td>\n",
       "      <td>0.000000</td>\n",
       "      <td>0.000000</td>\n",
       "      <td>...</td>\n",
       "      <td>0.000221</td>\n",
       "      <td>0.000000</td>\n",
       "      <td>0.000000</td>\n",
       "      <td>0.000000</td>\n",
       "      <td>0.000000</td>\n",
       "      <td>0.000000</td>\n",
       "      <td>0.000000</td>\n",
       "      <td>0.000000</td>\n",
       "      <td>0.000000</td>\n",
       "      <td>0.000000</td>\n",
       "    </tr>\n",
       "    <tr>\n",
       "      <th>19</th>\n",
       "      <td>0.000000</td>\n",
       "      <td>0.000000</td>\n",
       "      <td>0.000000</td>\n",
       "      <td>0.000000</td>\n",
       "      <td>0.000000</td>\n",
       "      <td>0.000000</td>\n",
       "      <td>0.000000</td>\n",
       "      <td>0.000000</td>\n",
       "      <td>0.000000</td>\n",
       "      <td>0.000000</td>\n",
       "      <td>...</td>\n",
       "      <td>0.000000</td>\n",
       "      <td>0.000000</td>\n",
       "      <td>0.000000</td>\n",
       "      <td>0.000000</td>\n",
       "      <td>0.000000</td>\n",
       "      <td>0.000000</td>\n",
       "      <td>0.000000</td>\n",
       "      <td>0.005087</td>\n",
       "      <td>0.005087</td>\n",
       "      <td>0.010175</td>\n",
       "    </tr>\n",
       "    <tr>\n",
       "      <th>20</th>\n",
       "      <td>0.008970</td>\n",
       "      <td>0.000000</td>\n",
       "      <td>0.000000</td>\n",
       "      <td>0.000000</td>\n",
       "      <td>0.008654</td>\n",
       "      <td>0.012100</td>\n",
       "      <td>0.000000</td>\n",
       "      <td>0.000000</td>\n",
       "      <td>0.000000</td>\n",
       "      <td>0.000000</td>\n",
       "      <td>...</td>\n",
       "      <td>0.000000</td>\n",
       "      <td>0.000000</td>\n",
       "      <td>0.000000</td>\n",
       "      <td>0.002345</td>\n",
       "      <td>0.000000</td>\n",
       "      <td>0.000000</td>\n",
       "      <td>0.000000</td>\n",
       "      <td>0.000000</td>\n",
       "      <td>0.000000</td>\n",
       "      <td>0.000000</td>\n",
       "    </tr>\n",
       "    <tr>\n",
       "      <th>21</th>\n",
       "      <td>0.000000</td>\n",
       "      <td>0.000000</td>\n",
       "      <td>0.001610</td>\n",
       "      <td>0.000000</td>\n",
       "      <td>0.000000</td>\n",
       "      <td>0.000000</td>\n",
       "      <td>0.000000</td>\n",
       "      <td>0.000000</td>\n",
       "      <td>0.000000</td>\n",
       "      <td>0.000000</td>\n",
       "      <td>...</td>\n",
       "      <td>0.000366</td>\n",
       "      <td>0.000000</td>\n",
       "      <td>0.000000</td>\n",
       "      <td>0.000000</td>\n",
       "      <td>0.000000</td>\n",
       "      <td>0.000000</td>\n",
       "      <td>0.000000</td>\n",
       "      <td>0.000000</td>\n",
       "      <td>0.000000</td>\n",
       "      <td>0.000000</td>\n",
       "    </tr>\n",
       "    <tr>\n",
       "      <th>22</th>\n",
       "      <td>0.000000</td>\n",
       "      <td>0.000000</td>\n",
       "      <td>0.000000</td>\n",
       "      <td>0.000000</td>\n",
       "      <td>0.009321</td>\n",
       "      <td>0.000000</td>\n",
       "      <td>0.000000</td>\n",
       "      <td>0.000000</td>\n",
       "      <td>0.000000</td>\n",
       "      <td>0.000000</td>\n",
       "      <td>...</td>\n",
       "      <td>0.000000</td>\n",
       "      <td>0.000000</td>\n",
       "      <td>0.000000</td>\n",
       "      <td>0.000000</td>\n",
       "      <td>0.000000</td>\n",
       "      <td>0.000000</td>\n",
       "      <td>0.000000</td>\n",
       "      <td>0.000000</td>\n",
       "      <td>0.000000</td>\n",
       "      <td>0.000000</td>\n",
       "    </tr>\n",
       "    <tr>\n",
       "      <th>23</th>\n",
       "      <td>0.023461</td>\n",
       "      <td>0.000000</td>\n",
       "      <td>0.000000</td>\n",
       "      <td>0.000000</td>\n",
       "      <td>0.000000</td>\n",
       "      <td>0.000000</td>\n",
       "      <td>0.000000</td>\n",
       "      <td>0.000000</td>\n",
       "      <td>0.007322</td>\n",
       "      <td>0.011171</td>\n",
       "      <td>...</td>\n",
       "      <td>0.000000</td>\n",
       "      <td>0.020715</td>\n",
       "      <td>0.000000</td>\n",
       "      <td>0.000000</td>\n",
       "      <td>0.000000</td>\n",
       "      <td>0.000000</td>\n",
       "      <td>0.000000</td>\n",
       "      <td>0.003752</td>\n",
       "      <td>0.003752</td>\n",
       "      <td>0.007505</td>\n",
       "    </tr>\n",
       "    <tr>\n",
       "      <th>24</th>\n",
       "      <td>0.000000</td>\n",
       "      <td>0.000000</td>\n",
       "      <td>0.000000</td>\n",
       "      <td>0.002177</td>\n",
       "      <td>0.000777</td>\n",
       "      <td>0.000000</td>\n",
       "      <td>0.000000</td>\n",
       "      <td>0.019711</td>\n",
       "      <td>0.000000</td>\n",
       "      <td>0.000000</td>\n",
       "      <td>...</td>\n",
       "      <td>0.000000</td>\n",
       "      <td>0.000000</td>\n",
       "      <td>0.000000</td>\n",
       "      <td>0.000000</td>\n",
       "      <td>0.000000</td>\n",
       "      <td>0.000000</td>\n",
       "      <td>0.000000</td>\n",
       "      <td>0.000000</td>\n",
       "      <td>0.000000</td>\n",
       "      <td>0.000000</td>\n",
       "    </tr>\n",
       "    <tr>\n",
       "      <th>25</th>\n",
       "      <td>0.000000</td>\n",
       "      <td>0.000000</td>\n",
       "      <td>0.000000</td>\n",
       "      <td>0.000000</td>\n",
       "      <td>0.000000</td>\n",
       "      <td>0.000000</td>\n",
       "      <td>0.000000</td>\n",
       "      <td>0.000000</td>\n",
       "      <td>0.000000</td>\n",
       "      <td>0.000000</td>\n",
       "      <td>...</td>\n",
       "      <td>0.000000</td>\n",
       "      <td>0.000000</td>\n",
       "      <td>0.008333</td>\n",
       "      <td>0.000000</td>\n",
       "      <td>0.000000</td>\n",
       "      <td>0.000000</td>\n",
       "      <td>0.000000</td>\n",
       "      <td>0.000000</td>\n",
       "      <td>0.000000</td>\n",
       "      <td>0.000000</td>\n",
       "    </tr>\n",
       "    <tr>\n",
       "      <th>26</th>\n",
       "      <td>0.000000</td>\n",
       "      <td>0.000000</td>\n",
       "      <td>0.000000</td>\n",
       "      <td>0.000000</td>\n",
       "      <td>0.000000</td>\n",
       "      <td>0.000076</td>\n",
       "      <td>0.001502</td>\n",
       "      <td>0.000000</td>\n",
       "      <td>0.000000</td>\n",
       "      <td>0.000000</td>\n",
       "      <td>...</td>\n",
       "      <td>0.000000</td>\n",
       "      <td>0.000000</td>\n",
       "      <td>0.000000</td>\n",
       "      <td>0.000000</td>\n",
       "      <td>0.000000</td>\n",
       "      <td>0.000000</td>\n",
       "      <td>0.000000</td>\n",
       "      <td>0.000000</td>\n",
       "      <td>0.000000</td>\n",
       "      <td>0.000000</td>\n",
       "    </tr>\n",
       "    <tr>\n",
       "      <th>27</th>\n",
       "      <td>0.000000</td>\n",
       "      <td>0.000000</td>\n",
       "      <td>0.000000</td>\n",
       "      <td>0.000000</td>\n",
       "      <td>0.000000</td>\n",
       "      <td>0.000000</td>\n",
       "      <td>0.000000</td>\n",
       "      <td>0.065632</td>\n",
       "      <td>0.000000</td>\n",
       "      <td>0.000000</td>\n",
       "      <td>...</td>\n",
       "      <td>0.000000</td>\n",
       "      <td>0.000000</td>\n",
       "      <td>0.000000</td>\n",
       "      <td>0.001247</td>\n",
       "      <td>0.000000</td>\n",
       "      <td>0.000000</td>\n",
       "      <td>0.000000</td>\n",
       "      <td>0.000206</td>\n",
       "      <td>0.000206</td>\n",
       "      <td>0.000411</td>\n",
       "    </tr>\n",
       "    <tr>\n",
       "      <th>28</th>\n",
       "      <td>0.000000</td>\n",
       "      <td>0.000000</td>\n",
       "      <td>0.000000</td>\n",
       "      <td>0.000000</td>\n",
       "      <td>0.000000</td>\n",
       "      <td>0.000000</td>\n",
       "      <td>0.000000</td>\n",
       "      <td>0.000000</td>\n",
       "      <td>0.000000</td>\n",
       "      <td>0.000000</td>\n",
       "      <td>...</td>\n",
       "      <td>0.000000</td>\n",
       "      <td>0.000000</td>\n",
       "      <td>0.000000</td>\n",
       "      <td>0.000000</td>\n",
       "      <td>0.000000</td>\n",
       "      <td>0.000000</td>\n",
       "      <td>0.000000</td>\n",
       "      <td>0.000000</td>\n",
       "      <td>0.000000</td>\n",
       "      <td>0.000000</td>\n",
       "    </tr>\n",
       "    <tr>\n",
       "      <th>29</th>\n",
       "      <td>0.000187</td>\n",
       "      <td>0.000000</td>\n",
       "      <td>0.000000</td>\n",
       "      <td>0.000000</td>\n",
       "      <td>0.000000</td>\n",
       "      <td>0.000000</td>\n",
       "      <td>0.000000</td>\n",
       "      <td>0.000000</td>\n",
       "      <td>0.000000</td>\n",
       "      <td>0.000000</td>\n",
       "      <td>...</td>\n",
       "      <td>0.000000</td>\n",
       "      <td>0.000000</td>\n",
       "      <td>0.000000</td>\n",
       "      <td>0.000000</td>\n",
       "      <td>0.000000</td>\n",
       "      <td>0.000000</td>\n",
       "      <td>0.000000</td>\n",
       "      <td>0.000000</td>\n",
       "      <td>0.000000</td>\n",
       "      <td>0.000000</td>\n",
       "    </tr>\n",
       "    <tr>\n",
       "      <th>30</th>\n",
       "      <td>0.000000</td>\n",
       "      <td>0.000000</td>\n",
       "      <td>0.000000</td>\n",
       "      <td>0.000000</td>\n",
       "      <td>0.000000</td>\n",
       "      <td>0.000165</td>\n",
       "      <td>0.000000</td>\n",
       "      <td>0.000000</td>\n",
       "      <td>0.000000</td>\n",
       "      <td>0.000000</td>\n",
       "      <td>...</td>\n",
       "      <td>0.000000</td>\n",
       "      <td>0.000000</td>\n",
       "      <td>0.000000</td>\n",
       "      <td>0.000000</td>\n",
       "      <td>0.000000</td>\n",
       "      <td>0.000000</td>\n",
       "      <td>0.000000</td>\n",
       "      <td>0.000000</td>\n",
       "      <td>0.000000</td>\n",
       "      <td>0.000000</td>\n",
       "    </tr>\n",
       "    <tr>\n",
       "      <th>31</th>\n",
       "      <td>0.000000</td>\n",
       "      <td>0.000000</td>\n",
       "      <td>0.000000</td>\n",
       "      <td>0.000000</td>\n",
       "      <td>0.001430</td>\n",
       "      <td>0.000000</td>\n",
       "      <td>0.000000</td>\n",
       "      <td>0.052925</td>\n",
       "      <td>0.000000</td>\n",
       "      <td>0.000000</td>\n",
       "      <td>...</td>\n",
       "      <td>0.000560</td>\n",
       "      <td>0.000000</td>\n",
       "      <td>0.000000</td>\n",
       "      <td>0.000000</td>\n",
       "      <td>0.000000</td>\n",
       "      <td>0.000000</td>\n",
       "      <td>0.000000</td>\n",
       "      <td>0.000000</td>\n",
       "      <td>0.000000</td>\n",
       "      <td>0.000000</td>\n",
       "    </tr>\n",
       "    <tr>\n",
       "      <th>32</th>\n",
       "      <td>0.000000</td>\n",
       "      <td>0.000000</td>\n",
       "      <td>0.000000</td>\n",
       "      <td>0.000000</td>\n",
       "      <td>0.000000</td>\n",
       "      <td>0.004292</td>\n",
       "      <td>0.012215</td>\n",
       "      <td>0.000000</td>\n",
       "      <td>0.000000</td>\n",
       "      <td>0.000000</td>\n",
       "      <td>...</td>\n",
       "      <td>0.000323</td>\n",
       "      <td>0.000000</td>\n",
       "      <td>0.000000</td>\n",
       "      <td>0.000000</td>\n",
       "      <td>0.000000</td>\n",
       "      <td>0.000000</td>\n",
       "      <td>0.000000</td>\n",
       "      <td>0.000000</td>\n",
       "      <td>0.000000</td>\n",
       "      <td>0.000000</td>\n",
       "    </tr>\n",
       "    <tr>\n",
       "      <th>33</th>\n",
       "      <td>0.000000</td>\n",
       "      <td>0.000000</td>\n",
       "      <td>0.006353</td>\n",
       "      <td>0.000000</td>\n",
       "      <td>0.000000</td>\n",
       "      <td>0.000340</td>\n",
       "      <td>0.008748</td>\n",
       "      <td>0.039243</td>\n",
       "      <td>0.000000</td>\n",
       "      <td>0.000000</td>\n",
       "      <td>...</td>\n",
       "      <td>0.000000</td>\n",
       "      <td>0.000000</td>\n",
       "      <td>0.000000</td>\n",
       "      <td>0.000000</td>\n",
       "      <td>0.000000</td>\n",
       "      <td>0.000000</td>\n",
       "      <td>0.000000</td>\n",
       "      <td>0.000000</td>\n",
       "      <td>0.000000</td>\n",
       "      <td>0.000000</td>\n",
       "    </tr>\n",
       "    <tr>\n",
       "      <th>34</th>\n",
       "      <td>0.000000</td>\n",
       "      <td>0.000000</td>\n",
       "      <td>0.000000</td>\n",
       "      <td>0.000000</td>\n",
       "      <td>0.000000</td>\n",
       "      <td>0.000000</td>\n",
       "      <td>0.000000</td>\n",
       "      <td>0.000000</td>\n",
       "      <td>0.000000</td>\n",
       "      <td>0.000000</td>\n",
       "      <td>...</td>\n",
       "      <td>0.000000</td>\n",
       "      <td>0.000000</td>\n",
       "      <td>0.000000</td>\n",
       "      <td>0.010217</td>\n",
       "      <td>0.000000</td>\n",
       "      <td>0.000000</td>\n",
       "      <td>0.000000</td>\n",
       "      <td>0.000016</td>\n",
       "      <td>0.000016</td>\n",
       "      <td>0.000032</td>\n",
       "    </tr>\n",
       "    <tr>\n",
       "      <th>35</th>\n",
       "      <td>0.000000</td>\n",
       "      <td>0.000000</td>\n",
       "      <td>0.000000</td>\n",
       "      <td>0.000000</td>\n",
       "      <td>0.000000</td>\n",
       "      <td>0.005171</td>\n",
       "      <td>0.000000</td>\n",
       "      <td>0.000000</td>\n",
       "      <td>0.000000</td>\n",
       "      <td>0.000000</td>\n",
       "      <td>...</td>\n",
       "      <td>0.000000</td>\n",
       "      <td>0.000000</td>\n",
       "      <td>0.000000</td>\n",
       "      <td>0.001790</td>\n",
       "      <td>0.000000</td>\n",
       "      <td>0.000000</td>\n",
       "      <td>0.000000</td>\n",
       "      <td>0.000000</td>\n",
       "      <td>0.000000</td>\n",
       "      <td>0.000000</td>\n",
       "    </tr>\n",
       "    <tr>\n",
       "      <th>36</th>\n",
       "      <td>0.000000</td>\n",
       "      <td>0.000000</td>\n",
       "      <td>0.000000</td>\n",
       "      <td>0.000000</td>\n",
       "      <td>0.001027</td>\n",
       "      <td>0.000000</td>\n",
       "      <td>0.000000</td>\n",
       "      <td>0.000000</td>\n",
       "      <td>0.008560</td>\n",
       "      <td>0.000000</td>\n",
       "      <td>...</td>\n",
       "      <td>0.000000</td>\n",
       "      <td>0.000000</td>\n",
       "      <td>0.000000</td>\n",
       "      <td>0.000000</td>\n",
       "      <td>0.000000</td>\n",
       "      <td>0.000000</td>\n",
       "      <td>0.000000</td>\n",
       "      <td>0.000000</td>\n",
       "      <td>0.000000</td>\n",
       "      <td>0.000000</td>\n",
       "    </tr>\n",
       "    <tr>\n",
       "      <th>37</th>\n",
       "      <td>0.033668</td>\n",
       "      <td>0.000000</td>\n",
       "      <td>0.000000</td>\n",
       "      <td>0.000000</td>\n",
       "      <td>0.000000</td>\n",
       "      <td>0.000000</td>\n",
       "      <td>0.000000</td>\n",
       "      <td>0.000000</td>\n",
       "      <td>0.000000</td>\n",
       "      <td>0.000000</td>\n",
       "      <td>...</td>\n",
       "      <td>0.000000</td>\n",
       "      <td>0.000000</td>\n",
       "      <td>0.001231</td>\n",
       "      <td>0.000000</td>\n",
       "      <td>0.006972</td>\n",
       "      <td>0.006972</td>\n",
       "      <td>0.006972</td>\n",
       "      <td>0.000000</td>\n",
       "      <td>0.000000</td>\n",
       "      <td>0.000000</td>\n",
       "    </tr>\n",
       "    <tr>\n",
       "      <th>38</th>\n",
       "      <td>0.000000</td>\n",
       "      <td>0.000000</td>\n",
       "      <td>0.010770</td>\n",
       "      <td>0.001202</td>\n",
       "      <td>0.000000</td>\n",
       "      <td>0.000000</td>\n",
       "      <td>0.000000</td>\n",
       "      <td>0.000000</td>\n",
       "      <td>0.000000</td>\n",
       "      <td>0.000000</td>\n",
       "      <td>...</td>\n",
       "      <td>0.000685</td>\n",
       "      <td>0.000000</td>\n",
       "      <td>0.000019</td>\n",
       "      <td>0.000000</td>\n",
       "      <td>0.000000</td>\n",
       "      <td>0.000000</td>\n",
       "      <td>0.000000</td>\n",
       "      <td>0.000000</td>\n",
       "      <td>0.000000</td>\n",
       "      <td>0.000000</td>\n",
       "    </tr>\n",
       "    <tr>\n",
       "      <th>39</th>\n",
       "      <td>0.000000</td>\n",
       "      <td>0.081645</td>\n",
       "      <td>0.000000</td>\n",
       "      <td>0.000000</td>\n",
       "      <td>0.000000</td>\n",
       "      <td>0.000647</td>\n",
       "      <td>0.000000</td>\n",
       "      <td>0.501206</td>\n",
       "      <td>0.000000</td>\n",
       "      <td>0.000000</td>\n",
       "      <td>...</td>\n",
       "      <td>0.000000</td>\n",
       "      <td>0.000000</td>\n",
       "      <td>0.000431</td>\n",
       "      <td>0.000000</td>\n",
       "      <td>0.000000</td>\n",
       "      <td>0.000000</td>\n",
       "      <td>0.000000</td>\n",
       "      <td>0.000000</td>\n",
       "      <td>0.000000</td>\n",
       "      <td>0.000000</td>\n",
       "    </tr>\n",
       "    <tr>\n",
       "      <th>40</th>\n",
       "      <td>0.000000</td>\n",
       "      <td>0.000000</td>\n",
       "      <td>0.035260</td>\n",
       "      <td>0.002375</td>\n",
       "      <td>0.000000</td>\n",
       "      <td>0.000000</td>\n",
       "      <td>0.000885</td>\n",
       "      <td>0.007496</td>\n",
       "      <td>0.009667</td>\n",
       "      <td>0.000668</td>\n",
       "      <td>...</td>\n",
       "      <td>0.002817</td>\n",
       "      <td>0.000000</td>\n",
       "      <td>0.001053</td>\n",
       "      <td>0.000000</td>\n",
       "      <td>0.000000</td>\n",
       "      <td>0.000000</td>\n",
       "      <td>0.000000</td>\n",
       "      <td>0.000000</td>\n",
       "      <td>0.000000</td>\n",
       "      <td>0.000000</td>\n",
       "    </tr>\n",
       "    <tr>\n",
       "      <th>41</th>\n",
       "      <td>0.000000</td>\n",
       "      <td>0.000000</td>\n",
       "      <td>0.000000</td>\n",
       "      <td>0.000000</td>\n",
       "      <td>0.000000</td>\n",
       "      <td>0.000000</td>\n",
       "      <td>0.000000</td>\n",
       "      <td>0.000000</td>\n",
       "      <td>0.000000</td>\n",
       "      <td>0.000000</td>\n",
       "      <td>...</td>\n",
       "      <td>0.000258</td>\n",
       "      <td>0.000000</td>\n",
       "      <td>0.000383</td>\n",
       "      <td>0.000000</td>\n",
       "      <td>0.000000</td>\n",
       "      <td>0.000000</td>\n",
       "      <td>0.000000</td>\n",
       "      <td>0.000000</td>\n",
       "      <td>0.000000</td>\n",
       "      <td>0.000000</td>\n",
       "    </tr>\n",
       "    <tr>\n",
       "      <th>42</th>\n",
       "      <td>0.000000</td>\n",
       "      <td>0.000000</td>\n",
       "      <td>0.000000</td>\n",
       "      <td>0.000000</td>\n",
       "      <td>0.000000</td>\n",
       "      <td>0.000000</td>\n",
       "      <td>0.000000</td>\n",
       "      <td>0.000000</td>\n",
       "      <td>0.000000</td>\n",
       "      <td>0.000000</td>\n",
       "      <td>...</td>\n",
       "      <td>0.000000</td>\n",
       "      <td>0.000000</td>\n",
       "      <td>0.000992</td>\n",
       "      <td>0.000000</td>\n",
       "      <td>0.000000</td>\n",
       "      <td>0.000000</td>\n",
       "      <td>0.000000</td>\n",
       "      <td>0.000000</td>\n",
       "      <td>0.000000</td>\n",
       "      <td>0.000000</td>\n",
       "    </tr>\n",
       "    <tr>\n",
       "      <th>43</th>\n",
       "      <td>0.000000</td>\n",
       "      <td>0.000000</td>\n",
       "      <td>0.032493</td>\n",
       "      <td>0.000000</td>\n",
       "      <td>0.000000</td>\n",
       "      <td>0.000000</td>\n",
       "      <td>0.000000</td>\n",
       "      <td>0.034498</td>\n",
       "      <td>0.000000</td>\n",
       "      <td>0.000000</td>\n",
       "      <td>...</td>\n",
       "      <td>0.000000</td>\n",
       "      <td>0.000000</td>\n",
       "      <td>0.000000</td>\n",
       "      <td>0.000000</td>\n",
       "      <td>0.000000</td>\n",
       "      <td>0.000000</td>\n",
       "      <td>0.000000</td>\n",
       "      <td>0.000000</td>\n",
       "      <td>0.000000</td>\n",
       "      <td>0.000000</td>\n",
       "    </tr>\n",
       "    <tr>\n",
       "      <th>44</th>\n",
       "      <td>0.000000</td>\n",
       "      <td>0.000000</td>\n",
       "      <td>0.027971</td>\n",
       "      <td>0.012456</td>\n",
       "      <td>0.000000</td>\n",
       "      <td>0.000000</td>\n",
       "      <td>0.000000</td>\n",
       "      <td>0.000000</td>\n",
       "      <td>0.000000</td>\n",
       "      <td>0.000136</td>\n",
       "      <td>...</td>\n",
       "      <td>0.000000</td>\n",
       "      <td>0.000000</td>\n",
       "      <td>0.000000</td>\n",
       "      <td>0.000000</td>\n",
       "      <td>0.000703</td>\n",
       "      <td>0.000703</td>\n",
       "      <td>0.000703</td>\n",
       "      <td>0.000000</td>\n",
       "      <td>0.000000</td>\n",
       "      <td>0.000000</td>\n",
       "    </tr>\n",
       "    <tr>\n",
       "      <th>45</th>\n",
       "      <td>0.000000</td>\n",
       "      <td>0.000000</td>\n",
       "      <td>0.021620</td>\n",
       "      <td>0.002010</td>\n",
       "      <td>0.000000</td>\n",
       "      <td>0.000000</td>\n",
       "      <td>0.000000</td>\n",
       "      <td>0.000000</td>\n",
       "      <td>0.000000</td>\n",
       "      <td>0.000000</td>\n",
       "      <td>...</td>\n",
       "      <td>0.000472</td>\n",
       "      <td>0.000000</td>\n",
       "      <td>0.000079</td>\n",
       "      <td>0.000000</td>\n",
       "      <td>0.005258</td>\n",
       "      <td>0.005258</td>\n",
       "      <td>0.005258</td>\n",
       "      <td>0.000000</td>\n",
       "      <td>0.000000</td>\n",
       "      <td>0.000000</td>\n",
       "    </tr>\n",
       "    <tr>\n",
       "      <th>46</th>\n",
       "      <td>0.000000</td>\n",
       "      <td>0.000000</td>\n",
       "      <td>0.000000</td>\n",
       "      <td>0.000000</td>\n",
       "      <td>0.000000</td>\n",
       "      <td>0.000000</td>\n",
       "      <td>0.001706</td>\n",
       "      <td>0.000000</td>\n",
       "      <td>0.000000</td>\n",
       "      <td>0.000000</td>\n",
       "      <td>...</td>\n",
       "      <td>0.000670</td>\n",
       "      <td>0.000000</td>\n",
       "      <td>0.000715</td>\n",
       "      <td>0.000000</td>\n",
       "      <td>0.000000</td>\n",
       "      <td>0.000000</td>\n",
       "      <td>0.000000</td>\n",
       "      <td>0.000000</td>\n",
       "      <td>0.000000</td>\n",
       "      <td>0.000000</td>\n",
       "    </tr>\n",
       "    <tr>\n",
       "      <th>47</th>\n",
       "      <td>0.000000</td>\n",
       "      <td>0.000000</td>\n",
       "      <td>0.000000</td>\n",
       "      <td>0.000000</td>\n",
       "      <td>0.000000</td>\n",
       "      <td>0.000000</td>\n",
       "      <td>0.000000</td>\n",
       "      <td>0.000000</td>\n",
       "      <td>0.000000</td>\n",
       "      <td>0.000000</td>\n",
       "      <td>...</td>\n",
       "      <td>0.000000</td>\n",
       "      <td>0.000000</td>\n",
       "      <td>0.000000</td>\n",
       "      <td>0.000000</td>\n",
       "      <td>0.000000</td>\n",
       "      <td>0.000000</td>\n",
       "      <td>0.000000</td>\n",
       "      <td>0.000000</td>\n",
       "      <td>0.000000</td>\n",
       "      <td>0.000000</td>\n",
       "    </tr>\n",
       "    <tr>\n",
       "      <th>48</th>\n",
       "      <td>0.000000</td>\n",
       "      <td>0.000000</td>\n",
       "      <td>0.000000</td>\n",
       "      <td>0.000000</td>\n",
       "      <td>0.000000</td>\n",
       "      <td>0.000000</td>\n",
       "      <td>0.000000</td>\n",
       "      <td>0.133405</td>\n",
       "      <td>0.000000</td>\n",
       "      <td>0.001151</td>\n",
       "      <td>...</td>\n",
       "      <td>0.000000</td>\n",
       "      <td>0.000000</td>\n",
       "      <td>0.000000</td>\n",
       "      <td>0.000000</td>\n",
       "      <td>0.000000</td>\n",
       "      <td>0.000000</td>\n",
       "      <td>0.000000</td>\n",
       "      <td>0.000000</td>\n",
       "      <td>0.000000</td>\n",
       "      <td>0.000000</td>\n",
       "    </tr>\n",
       "    <tr>\n",
       "      <th>49</th>\n",
       "      <td>0.000000</td>\n",
       "      <td>0.000000</td>\n",
       "      <td>0.000000</td>\n",
       "      <td>0.000000</td>\n",
       "      <td>0.001104</td>\n",
       "      <td>0.000000</td>\n",
       "      <td>0.000000</td>\n",
       "      <td>0.000000</td>\n",
       "      <td>0.000000</td>\n",
       "      <td>0.000000</td>\n",
       "      <td>...</td>\n",
       "      <td>0.000000</td>\n",
       "      <td>0.000000</td>\n",
       "      <td>0.000000</td>\n",
       "      <td>0.000000</td>\n",
       "      <td>0.000000</td>\n",
       "      <td>0.000000</td>\n",
       "      <td>0.000000</td>\n",
       "      <td>0.000000</td>\n",
       "      <td>0.000000</td>\n",
       "      <td>0.000000</td>\n",
       "    </tr>\n",
       "  </tbody>\n",
       "</table>\n",
       "<p>50 rows × 38325 columns</p>\n",
       "</div>"
      ],
      "text/plain": [
       "      aakash     aargh     aaron  aaronson      aarp       aat  aatcagggaccc  \\\n",
       "0   0.000000  0.000000  0.000000  0.000000  0.000000  0.000000      0.009028   \n",
       "1   0.000000  0.000000  0.000000  0.001772  0.000000  0.000000      0.000000   \n",
       "2   0.000000  0.000000  0.000000  0.000000  0.000000  0.000000      0.000000   \n",
       "3   0.000000  0.000000  0.000000  0.000358  0.035925  0.000000      0.000000   \n",
       "4   0.000000  0.000000  0.000000  0.000000  0.000000  0.000000      0.000000   \n",
       "5   0.000000  0.000000  0.008970  0.000000  0.000000  0.000000      0.000000   \n",
       "6   0.000000  0.000000  0.000000  0.000000  0.000000  0.000000      0.000000   \n",
       "7   0.000000  0.000000  0.000000  0.000000  0.000000  0.000000      0.000000   \n",
       "8   0.000000  0.000000  0.037444  0.000000  0.000000  0.000000      0.000000   \n",
       "9   0.000000  0.000000  0.000000  0.000000  0.000000  0.000000      0.000000   \n",
       "10  0.000000  0.000000  0.000000  0.000000  0.000000  0.000000      0.000000   \n",
       "11  0.000000  0.000000  0.000000  0.000000  0.000936  0.000000      0.000000   \n",
       "12  0.000000  0.000000  0.000000  0.000000  0.000109  0.000000      0.000000   \n",
       "13  0.000000  0.000000  0.000000  0.000000  0.000000  0.000000      0.000000   \n",
       "14  0.000000  0.000000  0.027215  0.000000  0.000000  0.000000      0.000000   \n",
       "15  0.000000  0.000000  0.000000  0.000000  0.000000  0.000000      0.000000   \n",
       "16  0.000000  0.000000  0.000000  0.000000  0.002680  0.000000      0.000000   \n",
       "17  0.000000  0.000000  0.000000  0.000000  0.000000  0.000000      0.000000   \n",
       "18  0.000000  0.000000  0.000000  0.000000  0.000000  0.001601      0.002202   \n",
       "19  0.000000  0.000000  0.000000  0.000000  0.000000  0.000000      0.000000   \n",
       "20  0.008970  0.000000  0.000000  0.000000  0.008654  0.012100      0.000000   \n",
       "21  0.000000  0.000000  0.001610  0.000000  0.000000  0.000000      0.000000   \n",
       "22  0.000000  0.000000  0.000000  0.000000  0.009321  0.000000      0.000000   \n",
       "23  0.023461  0.000000  0.000000  0.000000  0.000000  0.000000      0.000000   \n",
       "24  0.000000  0.000000  0.000000  0.002177  0.000777  0.000000      0.000000   \n",
       "25  0.000000  0.000000  0.000000  0.000000  0.000000  0.000000      0.000000   \n",
       "26  0.000000  0.000000  0.000000  0.000000  0.000000  0.000076      0.001502   \n",
       "27  0.000000  0.000000  0.000000  0.000000  0.000000  0.000000      0.000000   \n",
       "28  0.000000  0.000000  0.000000  0.000000  0.000000  0.000000      0.000000   \n",
       "29  0.000187  0.000000  0.000000  0.000000  0.000000  0.000000      0.000000   \n",
       "30  0.000000  0.000000  0.000000  0.000000  0.000000  0.000165      0.000000   \n",
       "31  0.000000  0.000000  0.000000  0.000000  0.001430  0.000000      0.000000   \n",
       "32  0.000000  0.000000  0.000000  0.000000  0.000000  0.004292      0.012215   \n",
       "33  0.000000  0.000000  0.006353  0.000000  0.000000  0.000340      0.008748   \n",
       "34  0.000000  0.000000  0.000000  0.000000  0.000000  0.000000      0.000000   \n",
       "35  0.000000  0.000000  0.000000  0.000000  0.000000  0.005171      0.000000   \n",
       "36  0.000000  0.000000  0.000000  0.000000  0.001027  0.000000      0.000000   \n",
       "37  0.033668  0.000000  0.000000  0.000000  0.000000  0.000000      0.000000   \n",
       "38  0.000000  0.000000  0.010770  0.001202  0.000000  0.000000      0.000000   \n",
       "39  0.000000  0.081645  0.000000  0.000000  0.000000  0.000647      0.000000   \n",
       "40  0.000000  0.000000  0.035260  0.002375  0.000000  0.000000      0.000885   \n",
       "41  0.000000  0.000000  0.000000  0.000000  0.000000  0.000000      0.000000   \n",
       "42  0.000000  0.000000  0.000000  0.000000  0.000000  0.000000      0.000000   \n",
       "43  0.000000  0.000000  0.032493  0.000000  0.000000  0.000000      0.000000   \n",
       "44  0.000000  0.000000  0.027971  0.012456  0.000000  0.000000      0.000000   \n",
       "45  0.000000  0.000000  0.021620  0.002010  0.000000  0.000000      0.000000   \n",
       "46  0.000000  0.000000  0.000000  0.000000  0.000000  0.000000      0.001706   \n",
       "47  0.000000  0.000000  0.000000  0.000000  0.000000  0.000000      0.000000   \n",
       "48  0.000000  0.000000  0.000000  0.000000  0.000000  0.000000      0.000000   \n",
       "49  0.000000  0.000000  0.000000  0.000000  0.001104  0.000000      0.000000   \n",
       "\n",
       "          ab      ab32     ababa  ...      ñamu  übernerd      ālep     čapek  \\\n",
       "0   0.000000  0.000000  0.000000  ...  0.000000  0.000000  0.000000  0.000000   \n",
       "1   0.000000  0.000000  0.000000  ...  0.000000  0.000000  0.000000  0.000000   \n",
       "2   0.000000  0.000000  0.000000  ...  0.000000  0.007516  0.000000  0.000000   \n",
       "3   0.000000  0.000369  0.000000  ...  0.000000  0.000000  0.000000  0.000000   \n",
       "4   0.000000  0.000000  0.000000  ...  0.000000  0.000000  0.000000  0.000000   \n",
       "5   0.000000  0.000000  0.000000  ...  0.000000  0.000000  0.000000  0.000000   \n",
       "6   0.000000  0.000000  0.000000  ...  0.000000  0.000000  0.000000  0.000000   \n",
       "7   0.000000  0.000000  0.000000  ...  0.000000  0.013655  0.000000  0.000000   \n",
       "8   0.000000  0.000000  0.000000  ...  0.000000  0.000000  0.000000  0.000000   \n",
       "9   0.000000  0.000000  0.000000  ...  0.000000  0.000000  0.000000  0.000000   \n",
       "10  0.000000  0.000000  0.019716  ...  0.002756  0.000000  0.000000  0.000000   \n",
       "11  0.000000  0.000000  0.000000  ...  0.000943  0.000000  0.000000  0.000000   \n",
       "12  0.000000  0.000000  0.000000  ...  0.000000  0.000000  0.000000  0.000000   \n",
       "13  0.897465  0.000000  0.000000  ...  0.000000  0.000000  0.000000  0.000000   \n",
       "14  0.000000  0.000000  0.000000  ...  0.000000  0.000000  0.000000  0.001600   \n",
       "15  0.000000  0.000000  0.000000  ...  0.000107  0.000000  0.000000  0.000000   \n",
       "16  0.000000  0.007668  0.000000  ...  0.000000  0.000000  0.000000  0.000000   \n",
       "17  0.000000  0.000000  0.000000  ...  0.000000  0.000000  0.000000  0.000000   \n",
       "18  0.000000  0.000000  0.000000  ...  0.000221  0.000000  0.000000  0.000000   \n",
       "19  0.000000  0.000000  0.000000  ...  0.000000  0.000000  0.000000  0.000000   \n",
       "20  0.000000  0.000000  0.000000  ...  0.000000  0.000000  0.000000  0.002345   \n",
       "21  0.000000  0.000000  0.000000  ...  0.000366  0.000000  0.000000  0.000000   \n",
       "22  0.000000  0.000000  0.000000  ...  0.000000  0.000000  0.000000  0.000000   \n",
       "23  0.000000  0.007322  0.011171  ...  0.000000  0.020715  0.000000  0.000000   \n",
       "24  0.019711  0.000000  0.000000  ...  0.000000  0.000000  0.000000  0.000000   \n",
       "25  0.000000  0.000000  0.000000  ...  0.000000  0.000000  0.008333  0.000000   \n",
       "26  0.000000  0.000000  0.000000  ...  0.000000  0.000000  0.000000  0.000000   \n",
       "27  0.065632  0.000000  0.000000  ...  0.000000  0.000000  0.000000  0.001247   \n",
       "28  0.000000  0.000000  0.000000  ...  0.000000  0.000000  0.000000  0.000000   \n",
       "29  0.000000  0.000000  0.000000  ...  0.000000  0.000000  0.000000  0.000000   \n",
       "30  0.000000  0.000000  0.000000  ...  0.000000  0.000000  0.000000  0.000000   \n",
       "31  0.052925  0.000000  0.000000  ...  0.000560  0.000000  0.000000  0.000000   \n",
       "32  0.000000  0.000000  0.000000  ...  0.000323  0.000000  0.000000  0.000000   \n",
       "33  0.039243  0.000000  0.000000  ...  0.000000  0.000000  0.000000  0.000000   \n",
       "34  0.000000  0.000000  0.000000  ...  0.000000  0.000000  0.000000  0.010217   \n",
       "35  0.000000  0.000000  0.000000  ...  0.000000  0.000000  0.000000  0.001790   \n",
       "36  0.000000  0.008560  0.000000  ...  0.000000  0.000000  0.000000  0.000000   \n",
       "37  0.000000  0.000000  0.000000  ...  0.000000  0.000000  0.001231  0.000000   \n",
       "38  0.000000  0.000000  0.000000  ...  0.000685  0.000000  0.000019  0.000000   \n",
       "39  0.501206  0.000000  0.000000  ...  0.000000  0.000000  0.000431  0.000000   \n",
       "40  0.007496  0.009667  0.000668  ...  0.002817  0.000000  0.001053  0.000000   \n",
       "41  0.000000  0.000000  0.000000  ...  0.000258  0.000000  0.000383  0.000000   \n",
       "42  0.000000  0.000000  0.000000  ...  0.000000  0.000000  0.000992  0.000000   \n",
       "43  0.034498  0.000000  0.000000  ...  0.000000  0.000000  0.000000  0.000000   \n",
       "44  0.000000  0.000000  0.000136  ...  0.000000  0.000000  0.000000  0.000000   \n",
       "45  0.000000  0.000000  0.000000  ...  0.000472  0.000000  0.000079  0.000000   \n",
       "46  0.000000  0.000000  0.000000  ...  0.000670  0.000000  0.000715  0.000000   \n",
       "47  0.000000  0.000000  0.000000  ...  0.000000  0.000000  0.000000  0.000000   \n",
       "48  0.133405  0.000000  0.001151  ...  0.000000  0.000000  0.000000  0.000000   \n",
       "49  0.000000  0.000000  0.000000  ...  0.000000  0.000000  0.000000  0.000000   \n",
       "\n",
       "         ʾan     ʾilla    ʾilāha        อย     อยman        อร  \n",
       "0   0.000000  0.000000  0.000000  0.000000  0.000000  0.000000  \n",
       "1   0.000000  0.000000  0.000000  0.000000  0.000000  0.000000  \n",
       "2   0.000000  0.000000  0.000000  0.000000  0.000000  0.000000  \n",
       "3   0.000000  0.000000  0.000000  0.000000  0.000000  0.000000  \n",
       "4   0.000000  0.000000  0.000000  0.000000  0.000000  0.000000  \n",
       "5   0.000000  0.000000  0.000000  0.000000  0.000000  0.000000  \n",
       "6   0.000000  0.000000  0.000000  0.000000  0.000000  0.000000  \n",
       "7   0.000000  0.000000  0.000000  0.000000  0.000000  0.000000  \n",
       "8   0.000456  0.000456  0.000456  0.000000  0.000000  0.000000  \n",
       "9   0.000000  0.000000  0.000000  0.000000  0.000000  0.000000  \n",
       "10  0.000000  0.000000  0.000000  0.000000  0.000000  0.000000  \n",
       "11  0.000000  0.000000  0.000000  0.000000  0.000000  0.000000  \n",
       "12  0.000000  0.000000  0.000000  0.000000  0.000000  0.000000  \n",
       "13  0.000000  0.000000  0.000000  0.000000  0.000000  0.000000  \n",
       "14  0.000000  0.000000  0.000000  0.000000  0.000000  0.000000  \n",
       "15  0.000000  0.000000  0.000000  0.000000  0.000000  0.000000  \n",
       "16  0.000000  0.000000  0.000000  0.000000  0.000000  0.000000  \n",
       "17  0.000000  0.000000  0.000000  0.000000  0.000000  0.000000  \n",
       "18  0.000000  0.000000  0.000000  0.000000  0.000000  0.000000  \n",
       "19  0.000000  0.000000  0.000000  0.005087  0.005087  0.010175  \n",
       "20  0.000000  0.000000  0.000000  0.000000  0.000000  0.000000  \n",
       "21  0.000000  0.000000  0.000000  0.000000  0.000000  0.000000  \n",
       "22  0.000000  0.000000  0.000000  0.000000  0.000000  0.000000  \n",
       "23  0.000000  0.000000  0.000000  0.003752  0.003752  0.007505  \n",
       "24  0.000000  0.000000  0.000000  0.000000  0.000000  0.000000  \n",
       "25  0.000000  0.000000  0.000000  0.000000  0.000000  0.000000  \n",
       "26  0.000000  0.000000  0.000000  0.000000  0.000000  0.000000  \n",
       "27  0.000000  0.000000  0.000000  0.000206  0.000206  0.000411  \n",
       "28  0.000000  0.000000  0.000000  0.000000  0.000000  0.000000  \n",
       "29  0.000000  0.000000  0.000000  0.000000  0.000000  0.000000  \n",
       "30  0.000000  0.000000  0.000000  0.000000  0.000000  0.000000  \n",
       "31  0.000000  0.000000  0.000000  0.000000  0.000000  0.000000  \n",
       "32  0.000000  0.000000  0.000000  0.000000  0.000000  0.000000  \n",
       "33  0.000000  0.000000  0.000000  0.000000  0.000000  0.000000  \n",
       "34  0.000000  0.000000  0.000000  0.000016  0.000016  0.000032  \n",
       "35  0.000000  0.000000  0.000000  0.000000  0.000000  0.000000  \n",
       "36  0.000000  0.000000  0.000000  0.000000  0.000000  0.000000  \n",
       "37  0.006972  0.006972  0.006972  0.000000  0.000000  0.000000  \n",
       "38  0.000000  0.000000  0.000000  0.000000  0.000000  0.000000  \n",
       "39  0.000000  0.000000  0.000000  0.000000  0.000000  0.000000  \n",
       "40  0.000000  0.000000  0.000000  0.000000  0.000000  0.000000  \n",
       "41  0.000000  0.000000  0.000000  0.000000  0.000000  0.000000  \n",
       "42  0.000000  0.000000  0.000000  0.000000  0.000000  0.000000  \n",
       "43  0.000000  0.000000  0.000000  0.000000  0.000000  0.000000  \n",
       "44  0.000703  0.000703  0.000703  0.000000  0.000000  0.000000  \n",
       "45  0.005258  0.005258  0.005258  0.000000  0.000000  0.000000  \n",
       "46  0.000000  0.000000  0.000000  0.000000  0.000000  0.000000  \n",
       "47  0.000000  0.000000  0.000000  0.000000  0.000000  0.000000  \n",
       "48  0.000000  0.000000  0.000000  0.000000  0.000000  0.000000  \n",
       "49  0.000000  0.000000  0.000000  0.000000  0.000000  0.000000  \n",
       "\n",
       "[50 rows x 38325 columns]"
      ]
     },
     "execution_count": 64,
     "metadata": {},
     "output_type": "execute_result"
    }
   ],
   "source": [
    "tw_trunc"
   ]
  },
  {
   "cell_type": "code",
   "execution_count": 60,
   "metadata": {
    "collapsed": true
   },
   "outputs": [
    {
     "data": {
      "text/plain": [
       "array([['kind', 'little', 'thing', 'things', 'way', 'lot', 'sort',\n",
       "        'stuff', 'like', 'did', 'interesting', 'make', 'bit', 'thought',\n",
       "        'idea', 'work', 'got', 'looking', 'mean', 'different'],\n",
       "       ['like', 'right', 'okay', 'just', 'don', 'feel', 'saying', 'yeah',\n",
       "        'woman', 'ted', 'mean', 'oh', 'class', 'time', 'want', 'sex',\n",
       "        'thank', 'future', 'kind', 'called'],\n",
       "       ['people', 'person', 'lot', 'just', 'change', 'better', 'group',\n",
       "        'lives', 'doing', 'social', 'older', 'societies', 'different',\n",
       "        'money', 'use', 'everybody', 'live', 'city', 'talk', 'going'],\n",
       "       ['car', 'cars', 'oil', 'million', 'percent', 'today', 'going',\n",
       "        'drive', 'miles', 'right', 'driving', 'need', 'don', 'new',\n",
       "        'cities', 'problem', 'battery', 'road', 'just', 'years'],\n",
       "       ['laughter', 'like', 'applause', 'don', 'laughing', 'make', 'did',\n",
       "        'ted', 'day', 'doing', 'course', 'laugh', 'little', 'just',\n",
       "        'say', 'called', 'thing', 'doesn', 'look', 'book'],\n",
       "       ['going', 'really', 'little', 'look', 'talk', 'll', 'happen',\n",
       "        'bit', 'lot', 'use', 'future', 'change', 'doing', 'way', 'don',\n",
       "        'want', 'start', 'right', 'getting', 'able'],\n",
       "       ['brain', 'different', 'look', 'language', 'brains', 'ability',\n",
       "        'phantom', 'cells', 'visual', 'example', 'arm', 'normal',\n",
       "        'control', 'region', 'don', 'abilities', 'regions', 'time',\n",
       "        'information', 'like'],\n",
       "       ['ca', 'em', 'think', 'people', 'yeah', 'actually', 'just', 've',\n",
       "        'like', 'mean', 'able', 'time', 'rb', 'tunnel', 'future',\n",
       "        'thing', 'good', 'tesla', 'solar', 'car'],\n",
       "       ['said', 'laughter', 'did', 'people', 'say', 'come', 'came',\n",
       "        'didn', 'went', 'll', 'believe', 'man', 'thought', 'don', 'got',\n",
       "        'story', 'mother', 'school', 'old', 'asked'],\n",
       "       ['think', 'way', 'really', 'just', 'like', 'lot', 'self',\n",
       "        'information', 'story', 'actually', 'mean', 'architecture',\n",
       "        'fact', 'thinking', 'new', 'different', 'things', 'sense',\n",
       "        'interesting', 'course'],\n",
       "       ['world', 'global', 'war', 'china', 'great', 've', 'future',\n",
       "        'countries', 'ideas', 'today', 'live', 'africa', 'course',\n",
       "        'human', 'film', 'country', 'power', 'people', 'know', 'reality'],\n",
       "       ['building', 'city', 'buildings', 'architecture', 'space', 'kind',\n",
       "        'new', 'built', 'make', 'work', 'place', 'build', 'project',\n",
       "        'house', 'just', 'public', 'site', 'cities', 'center', 'idea'],\n",
       "       ['earth', 'mars', 'planet', 'years', 'water', 'ice', 'surface',\n",
       "        'life', 'atmosphere', 'solar', 'ocean', 'ago', 'planets',\n",
       "        'climate', 'time', 'sun', 'sea', 'need', 'moon', 'comet'],\n",
       "       ['ok', 'kb', 'right', 'applause', 'finger', 'want', 'going', 'll',\n",
       "        'hand', 'look', 'laughter', 'yes', 'oh', 'sj', 'moment', 'kt',\n",
       "        'try', 'eyes', 'know', 've'],\n",
       "       ['music', 'sound', 'play', 'sounds', 'way', 'piece', 'applause',\n",
       "        'hear', 'make', 'dan', 'song', 'drum', 'new', 'like',\n",
       "        'experience', 'classical', 'head', 'playing', 'come', 'guitar'],\n",
       "       ['universe', 'space', 'black', 'light', 'dark', 'big', 'theory',\n",
       "        'holes', 'galaxies', 'bang', 'dimensions', 'matter', 'stars',\n",
       "        'energy', 'hole', 'years', 'galaxy', 'einstein', 'like', 'earth'],\n",
       "       ['ve', 'got', 'years', 'going', 'think', 'people', 'll', 'thing',\n",
       "        'didn', 'come', 'want', 'big', 'great', 'ago', 'doing', 'world',\n",
       "        'money', 'tell', 'million', 'bit'],\n",
       "       ['know', 'don', 'mean', 'say', 'people', 'just', 'didn', 'tell',\n",
       "        'come', 'thing', 'everybody', 'look', 'science', 'got',\n",
       "        'wonderful', 'love', 'talk', 'sort', 'oh', 'money'],\n",
       "       ['cancer', 'blood', 'cells', 'body', 'muscle', 'vessels',\n",
       "        'angiogenesis', 'skeletal', 'cancers', 'tumor', 'percent',\n",
       "        'able', 'disease', 'tissue', 'called', 'antiangiogenic', 'grow',\n",
       "        'drugs', 'different', 'like'],\n",
       "       ['just', 'right', 'video', 'time', 'little', 'applause', 'bit',\n",
       "        'll', 'let', 'try', 'got', 'thank', 'started', 'sound', 'hey',\n",
       "        'okay', 'project', 'real', 'pretty', 'oh'],\n",
       "       ['technology', 'human', 'years', 'computer', 'll', 'machine',\n",
       "        'today', 'new', 'machines', 'evolution', 'computers', 'time',\n",
       "        'technologies', 'information', 'exponential', 've', 'future',\n",
       "        'process', 'growth', 'took'],\n",
       "       ['ants', 'nest', 'ant', 'colony', 'workers', 'just', 'colonies',\n",
       "        'maintenance', 've', 'food', 'foragers', 'task', 'doing', 'year',\n",
       "        'different', 'work', 'queen', 'outside', 'entrance', 'tasks'],\n",
       "       ['want', 'don', 'make', 'way', 'say', 'good', 'need', 'time',\n",
       "        'idea', 'doesn', 'thing', 'tell', 'problem', 'better', 'word',\n",
       "        'food', 'let', 've', 'attention', 'little'],\n",
       "       ['really', 'lot', 'work', 'think', 'kind', 'sw', 'say', 'gk',\n",
       "        'thing', 'big', 'important', 'problem', 'google', 'wanted',\n",
       "        'idea', 'maybe', 'project', 'like', 'gang', 'working'],\n",
       "       ['nuclear', 'wind', 'power', 'going', 'weapons', 'need', 'world',\n",
       "        'energy', 'just', 'know', 'bomb', 'actually', 'want', 've',\n",
       "        'years', 'war', 'states', 'united', 'point', 'solar'],\n",
       "       ['design', 'new', 'work', 'look', 'designers', 'need', 'designed',\n",
       "        'designer', 'art', 'different', 'use', 'like', 'form', 'kind',\n",
       "        'designing', 'nature', 'foot', 'products', 'important', 've'],\n",
       "       ['data', 'look', 'people', 'web', 'linked', 'lots', 'different',\n",
       "        'using', 'like', 'important', 'things', 'huge', 'did',\n",
       "        'information', 'documents', 'want', 'map', 'new', 'use', 'ask'],\n",
       "       ['la', 'thank', 'li', 'boy', 'janitor', 'marries', 'applause',\n",
       "        'red', 'little', 've', 'haired', 'music', 'want', 'years',\n",
       "        'poem', 'love', 'know', 'maggie', 'milly', 'molly'],\n",
       "       ['things', 'make', 'thing', 'like', 'need', 'know', 've', 'doing',\n",
       "        'time', 'work', 'world', 'say', 'great', 'problems', 'good',\n",
       "        'think', 'simple', 'thinking', 'people', 'important'],\n",
       "       ['games', 'game', 'video', 'real', 'world', 'play', 'time',\n",
       "        'playing', 'gamers', 'epic', 've', 'online', 'like', 'actually',\n",
       "        'years', 'want', 'life', 'worlds', 'virtual', 'warcraft'],\n",
       "       ['actually', 'able', 'really', 'use', 'different', 'time',\n",
       "        'basically', 'fact', 'project', 'like', 'cells', 'using',\n",
       "        'start', 'structure', 'bit', 'started', 'way', 'working',\n",
       "        'quite', 'look'],\n",
       "       ['flag', 'city', 'design', 'flags', 'rm', 'tk', 'chicago',\n",
       "        'narrator', 'great', 'good', 'people', 'number', 'milwaukee',\n",
       "        'just', 'bad', 'principles', 'like', 'use', 'cities', 'san'],\n",
       "       ['life', 'happiness', 'self', 'good', 'meaning', 've', 'positive',\n",
       "        'lives', 'time', 'years', 'live', 'happy', 'make', 'look', 'way',\n",
       "        'story', 'feel', 'emotion', 'work', 'psychology'],\n",
       "       ['bacteria', 'light', 'cells', 'molecule', 'make', 'molecules',\n",
       "        'cell', 'dna', 've', 'little', 'just', 'think', 'squid', 'able',\n",
       "        'bacterium', 'new', 'like', 'species', 'hope', 'different'],\n",
       "       ['robot', 'robots', 'want', 'little', 'sort', 'looks', 'look',\n",
       "        'like', 'build', 'foot', 'video', 'just', 'years', 'attention',\n",
       "        'machines', 'rules', 'let', 'second', 'watch', 'eyes'],\n",
       "       ['consciousness', 'human', 'right', 'science', 'experience',\n",
       "        'say', 'reality', 'idea', 'conscious', 'wrong', 'does',\n",
       "        'fundamental', 'don', 'kind', 'need', 'theory', 'view',\n",
       "        'question', 'moral', 'let'],\n",
       "       ['energy', 'engine', 'make', 'use', 'solar', 'power', 'air',\n",
       "        'new', 'fusion', 'cost', 'hot', 'sun', 'heat', 'fuel', 'way',\n",
       "        'electricity', 'year', 'oil', 'half', 'light'],\n",
       "       ['kids', 'children', 'school', 'students', 'child', 'parents',\n",
       "        'education', 'work', 'teachers', 'applause', 'help', 'young',\n",
       "        'food', 'need', 'autism', 'teacher', 'high', 'kid', 'did', 'day'],\n",
       "       ['particles', 'pattern', 'charge', 'new', 'force', 'charges',\n",
       "        'particle', 'dimensions', 'different', 'theory', 'beautiful',\n",
       "        'shape', 'space', 'physics', 'mathematics', 'weak', 'quantum',\n",
       "        'e8', 'matter', 'like'],\n",
       "       ['right', 'good', 'yeah', 'lg', 'audience', 'yes', 'cards', 'ok',\n",
       "        'diamonds', 'card', 'think', 'spades', 'queen', 'don',\n",
       "        'laughter', 'ah', 'll', 'little', 'look', 'seven'],\n",
       "       ['percent', 'years', 'dollars', 'country', 'year', 'change',\n",
       "        'health', 'countries', 'africa', 'money', 'million', 'need',\n",
       "        'states', 'climate', 'billion', 'united', 'poverty', 'problem',\n",
       "        'economic', 'aids'],\n",
       "       ['silk', 'spider', 'spiders', 'web', 'make', 'silks', 'dragline',\n",
       "        'fibers', 'look', 'lot', 'orb', 'just', 'different', 'species',\n",
       "        'repeat', 'prey', 'red', 'used', 'weaving', 'toughness'],\n",
       "       ['god', 'believe', 'like', 'faith', 'don', 'religious', 'church',\n",
       "        'say', 'things', 'man', 'book', 'feel', 'know', 'just', 'does',\n",
       "        'universe', 'natural', 'religion', 'years', 'children'],\n",
       "       ['polio', 'vaccine', 'virus', 'flu', 'years', 'children',\n",
       "        'disease', 'world', 'smallpox', 'people', 'million', 'year',\n",
       "        'new', 'early', 'hiv', 'eradication', 'pandemic', 'going',\n",
       "        'started', 'time'],\n",
       "       ['government', 'internet', 'people', 'nsa', 'ca', 'need', 'right',\n",
       "        'companies', 'es', 've', 'war', 'world', 'america',\n",
       "        'intelligence', 'don', 'american', 'information', 'work', 'say',\n",
       "        'think'],\n",
       "       ['time', 'day', 'new', 'years', 'started', 'did', 'story', 'went',\n",
       "        'didn', 'way', 'took', 'old', 'came', 'man', 'wanted', 'thought',\n",
       "        'year', 'applause', 'women', 'art'],\n",
       "       ['species', 'trees', 'animals', 'tree', 'look', 'years', 'nature',\n",
       "        'forest', 'redwood', 'time', 'human', 'feet', 'land', 'new',\n",
       "        'called', 'way', 'looking', 'animal', 'fish', 'water'],\n",
       "       ['hum', 'work', 'play', 'time', 'titan', 'yes', 'love',\n",
       "        'television', 'working', 'just', 'like', 'don', 'shows',\n",
       "        'minutes', 'hours', 'know', 'say', 'feel', 'job', 'tv'],\n",
       "       ['gabby', 'mk', 'pm', 'gg', 'yes', 'time', 'applause', 'thank',\n",
       "        'day', 'did', 'space', 'know', 'hard', 'yeah', 'recovery',\n",
       "        'didn', 'mark', 'months', 'just', 'say'],\n",
       "       ['love', 'women', 'think', 'years', 'romantic', 've', 'men',\n",
       "        'brain', 'sex', 'person', 'people', 'human', 'feel', 'said',\n",
       "        'somebody', 'say', 'woman', 'know', 'want', 'moving']],\n",
       "      dtype=object)"
      ]
     },
     "execution_count": 60,
     "metadata": {},
     "output_type": "execute_result"
    }
   ],
   "source": [
    "#tw_trunc.columns.values[np.argsort(-tw_trunc.values,axis = 1)[:,:20]]\n",
    "\n",
    "# From here: https://stackoverflow.com/questions/54923349/top-3-values-per-row-in-pandas\n"
   ]
  },
  {
   "cell_type": "markdown",
   "metadata": {},
   "source": [
    "### Feb 8 - notes\n",
    "\n",
    "Clear that stopwords have not been removed. Based on counts, should be easy to remove. Ideas for removing words:\n",
    "\n",
    "* words that appear in every talk  \n",
    "* words that are on the stopword list"
   ]
  },
  {
   "cell_type": "code",
   "execution_count": 61,
   "metadata": {},
   "outputs": [
    {
     "data": {
      "text/plain": [
       "array([[1., 1., 1.],\n",
       "       [1., 1., 1.]])"
      ]
     },
     "execution_count": 61,
     "metadata": {},
     "output_type": "execute_result"
    }
   ],
   "source": [
    "np.ones([2,3])"
   ]
  },
  {
   "cell_type": "code",
   "execution_count": 75,
   "metadata": {},
   "outputs": [
    {
     "data": {
      "text/plain": [
       "array([ 6671.,  4519.,  5832.,  5780.,  6551.,  3043.,  6106.,  4059.,\n",
       "        5951.,  4498.,  7550.,  7198.,  7456.,  5267.,  6296.,  6676.,\n",
       "        5195.,  3878.,  6719.,  4302.,  7796.,  6369.,  5488.,  4571.,\n",
       "        6003.,  7891.,  5919.,  7795.,  4753.,  5980.,  5961.,  6523.,\n",
       "        8267.,  6988.,  4925.,  8654.,  6869.,  7749.,  6944.,  6401.,\n",
       "        7901.,  8408.,  7430.,  6049.,  7981., 12954.,  9804.,  6487.,\n",
       "        7368.,  7729.])"
      ]
     },
     "execution_count": 75,
     "metadata": {},
     "output_type": "execute_result"
    }
   ],
   "source": [
    "# Create a topic-word matrix that places a 1 where there are \n",
    "tw_trunc_bin = (tw_trunc>0).to_numpy()*np.ones([50,38325])\n",
    "\n",
    "# Count the number of words in each topic\n",
    "tw_trunc_bin.sum(axis = 1)"
   ]
  },
  {
   "cell_type": "code",
   "execution_count": 84,
   "metadata": {},
   "outputs": [
    {
     "name": "stdout",
     "output_type": "stream",
     "text": [
      "Average number of words per column is: 6550.08 with a standard deviation of: 1643.52\n"
     ]
    }
   ],
   "source": [
    "print(\"Average number of words per column is:\", tw_trunc_bin.sum(axis = 1).mean(), \n",
    "      \"with a standard deviation of:\", round(tw_trunc_bin.sum(axis = 1).std(),2))"
   ]
  },
  {
   "cell_type": "code",
   "execution_count": 91,
   "metadata": {},
   "outputs": [
    {
     "data": {
      "text/plain": [
       "766.5"
      ]
     },
     "execution_count": 91,
     "metadata": {},
     "output_type": "execute_result"
    }
   ],
   "source": [
    "tw_trunc_bin.shape[1]/50\n"
   ]
  },
  {
   "cell_type": "code",
   "execution_count": 93,
   "metadata": {},
   "outputs": [],
   "source": [
    "topics_per_word = tw_trunc_bin.sum(axis = 0)"
   ]
  },
  {
   "cell_type": "code",
   "execution_count": 94,
   "metadata": {},
   "outputs": [
    {
     "data": {
      "text/plain": [
       "41.0"
      ]
     },
     "execution_count": 94,
     "metadata": {},
     "output_type": "execute_result"
    }
   ],
   "source": [
    "max(topics_per_word)"
   ]
  },
  {
   "cell_type": "code",
   "execution_count": 95,
   "metadata": {},
   "outputs": [
    {
     "data": {
      "text/plain": [
       "1.0"
      ]
     },
     "execution_count": 95,
     "metadata": {},
     "output_type": "execute_result"
    }
   ],
   "source": [
    "min(topics_per_word)"
   ]
  },
  {
   "cell_type": "code",
   "execution_count": 102,
   "metadata": {},
   "outputs": [
    {
     "data": {
      "text/plain": [
       "8.545440313111547"
      ]
     },
     "execution_count": 102,
     "metadata": {},
     "output_type": "execute_result"
    }
   ],
   "source": [
    "np.mean(topics_per_word)"
   ]
  },
  {
   "cell_type": "code",
   "execution_count": 103,
   "metadata": {},
   "outputs": [
    {
     "data": {
      "image/png": "[encoded data removed]",
      "text/plain": [
       "<Figure size 432x288 with 1 Axes>"
      ]
     },
     "metadata": {
      "needs_background": "light"
     },
     "output_type": "display_data"
    }
   ],
   "source": [
    "plt.hist(topics_per_word)\n",
    "plt.show()"
   ]
  },
  {
   "cell_type": "code",
   "execution_count": 77,
   "metadata": {},
   "outputs": [
    {
     "data": {
      "text/plain": [
       "0      132.910906\n",
       "1      156.314805\n",
       "2       52.516860\n",
       "3      114.162689\n",
       "4      175.099771\n",
       "5       90.954104\n",
       "6      101.852234\n",
       "7      207.505990\n",
       "8      265.711910\n",
       "9      250.322793\n",
       "10    1027.653403\n",
       "11     173.723543\n",
       "12      64.243121\n",
       "13     592.113283\n",
       "14     306.414255\n",
       "15     937.793527\n",
       "16     826.715453\n",
       "17     449.881613\n",
       "18     505.624072\n",
       "19     529.712329\n",
       "20     398.759470\n",
       "21     692.121193\n",
       "22     659.250162\n",
       "23     420.916582\n",
       "24     437.974997\n",
       "25     976.269245\n",
       "26     545.499912\n",
       "27     524.982305\n",
       "28     369.591301\n",
       "29     793.010597\n",
       "30    1647.277169\n",
       "31     806.056990\n",
       "32     547.908222\n",
       "33     385.748754\n",
       "34     359.016662\n",
       "35    1051.220906\n",
       "36     694.931666\n",
       "37     633.532567\n",
       "38     456.983707\n",
       "39     524.237974\n",
       "40     393.139129\n",
       "41     291.596224\n",
       "42     442.042736\n",
       "43     164.656043\n",
       "44     346.959602\n",
       "45     325.895928\n",
       "46     321.724728\n",
       "47     361.566896\n",
       "48     347.151113\n",
       "49     514.275719\n",
       "dtype: float64"
      ]
     },
     "execution_count": 77,
     "metadata": {},
     "output_type": "execute_result"
    }
   ],
   "source": [
    "(tw_trunc).sum(axis = 1)"
   ]
  },
  {
   "cell_type": "code",
   "execution_count": 128,
   "metadata": {},
   "outputs": [],
   "source": [
    "fm_topic_counts = np.matmul(tw_trunc.to_numpy(),fm_counts.to_numpy())"
   ]
  },
  {
   "cell_type": "code",
   "execution_count": 126,
   "metadata": {},
   "outputs": [
    {
     "data": {
      "image/png": "[encoded data removed]",
      "text/plain": [
       "<Figure size 432x288 with 1 Axes>"
      ]
     },
     "metadata": {
      "needs_background": "light"
     },
     "output_type": "display_data"
    }
   ],
   "source": [
    "plt.plot(fm_topic_counts[:,0], fm_topic_counts[:,1],\"*\")\n",
    "plt.show()\n"
   ]
  },
  {
   "cell_type": "code",
   "execution_count": 129,
   "metadata": {},
   "outputs": [],
   "source": [
    "fm_topic_counts_bin = np.matmul(tw_trunc_bin,fm_counts.to_numpy())"
   ]
  },
  {
   "cell_type": "code",
   "execution_count": 130,
   "metadata": {},
   "outputs": [
    {
     "data": {
      "image/png": "[encoded data removed]",
      "text/plain": [
       "<Figure size 432x288 with 1 Axes>"
      ]
     },
     "metadata": {
      "needs_background": "light"
     },
     "output_type": "display_data"
    }
   ],
   "source": [
    "plt.plot(fm_topic_counts_bin[:,0], fm_topic_counts_bin[:,1],\"*\")\n",
    "plt.show()"
   ]
  },
  {
   "cell_type": "code",
   "execution_count": null,
   "metadata": {},
   "outputs": [],
   "source": []
  },
  {
   "cell_type": "markdown",
   "metadata": {},
   "source": [
    "## Either Male or Female words that are never used in talks\n",
    "\n"
   ]
  },
  {
   "cell_type": "code",
   "execution_count": 56,
   "metadata": {},
   "outputs": [],
   "source": [
    "mtnds_low = talks_per_word_m <= 10\n",
    "ftnds_low = talks_per_word_f <= 10"
   ]
  },
  {
   "cell_type": "code",
   "execution_count": null,
   "metadata": {},
   "outputs": [],
   "source": []
  },
  {
   "cell_type": "code",
   "execution_count": null,
   "metadata": {},
   "outputs": [],
   "source": []
  },
  {
   "cell_type": "markdown",
   "metadata": {},
   "source": [
    "## Revised Frequencies without Parentheticals\n",
    "\n",
    "For more on the work leading up to this regex, see the `01-Terms-02-Parentheticals` notebook: it contains a number of experiments, which were vexed by sklearn's vectorizer only accepting strings as inputs. (While gensim appears to accept texts as lists of words, we are hoping, I think, to keep our code base as simple as possible.) The eventual workaround is to clean the texts of the top 20 parentheticals, joining the list back to a string, and then pushing the result to sklearn. This is less than optimum, but the hack works and appears to be a hack performed elsewhere by others."
   ]
  },
  {
   "cell_type": "markdown",
   "metadata": {},
   "source": [
    "For now, the first thing we have is the list of the top 20 parentheticals, some of which are two words:"
   ]
  },
  {
   "cell_type": "code",
   "execution_count": 57,
   "metadata": {},
   "outputs": [
    {
     "ename": "NameError",
     "evalue": "name 'texts' is not defined",
     "output_type": "error",
     "traceback": [
      "\u001b[0;31m---------------------------------------------------------------------------\u001b[0m",
      "\u001b[0;31mNameError\u001b[0m                                 Traceback (most recent call last)",
      "\u001b[0;32m<ipython-input-57-577695b47e8f>\u001b[0m in \u001b[0;36m<module>\u001b[0;34m\u001b[0m\n\u001b[1;32m      1\u001b[0m \u001b[0mnoparens_vec\u001b[0m \u001b[0;34m=\u001b[0m \u001b[0mCountVectorizer\u001b[0m\u001b[0;34m(\u001b[0m\u001b[0mpreprocessor\u001b[0m \u001b[0;34m=\u001b[0m \u001b[0mremove_parentheticals\u001b[0m\u001b[0;34m)\u001b[0m\u001b[0;34m\u001b[0m\u001b[0;34m\u001b[0m\u001b[0m\n\u001b[0;32m----> 2\u001b[0;31m \u001b[0mnoparens_X\u001b[0m \u001b[0;34m=\u001b[0m \u001b[0mnoparens_vec\u001b[0m\u001b[0;34m.\u001b[0m\u001b[0mfit_transform\u001b[0m\u001b[0;34m(\u001b[0m\u001b[0mtexts\u001b[0m\u001b[0;34m)\u001b[0m\u001b[0;34m\u001b[0m\u001b[0;34m\u001b[0m\u001b[0m\n\u001b[0m\u001b[1;32m      3\u001b[0m \u001b[0mnoparens_X\u001b[0m\u001b[0;34m.\u001b[0m\u001b[0mshape\u001b[0m\u001b[0;34m\u001b[0m\u001b[0;34m\u001b[0m\u001b[0m\n",
      "\u001b[0;31mNameError\u001b[0m: name 'texts' is not defined"
     ]
    }
   ],
   "source": [
    "noparens_vec = CountVectorizer(preprocessor = remove_parentheticals)\n",
    "noparens_X = noparens_vec.fit_transform(texts)\n",
    "noparens_X.shape"
   ]
  },
  {
   "cell_type": "markdown",
   "metadata": {},
   "source": [
    "Good news. Our removal parentheticals has only removed two words. "
   ]
  },
  {
   "cell_type": "code",
   "execution_count": null,
   "metadata": {},
   "outputs": [],
   "source": [
    "noparens_df = pd.DataFrame(noparens_X.toarray(), columns = noparens_vec.get_feature_names())"
   ]
  },
  {
   "cell_type": "code",
   "execution_count": null,
   "metadata": {},
   "outputs": [],
   "source": [
    "term = 'laughter'\n",
    "f\"The baseline count for *{term}* is {raw_df[term].sum()}; \\\n",
    "with cleaning it is {noparens_df[term].sum()}\""
   ]
  },
  {
   "cell_type": "markdown",
   "metadata": {},
   "source": [
    "## Frequencies of Terms with a 2-Document Minimum"
   ]
  },
  {
   "cell_type": "markdown",
   "metadata": {},
   "source": [
    "Setting a `min_df = 2` removes all words that appear in only document. (An exploration of *one document wonders* is elsewhere.) As we can see from the `shape` below, we dropped 50379 to 29340, resulting in a reduction of 42% of the possible features."
   ]
  },
  {
   "cell_type": "code",
   "execution_count": null,
   "metadata": {},
   "outputs": [],
   "source": [
    "min2_vec = CountVectorizer(preprocessor = remove_parentheticals, min_df = 2)\n",
    "min2_X = min2_vec.fit_transform(texts)\n",
    "min2_X.shape"
   ]
  },
  {
   "cell_type": "markdown",
   "metadata": {},
   "source": [
    "As above we can sum our terms and write the results to a CSV file for closer inspection. Here, we highlight just a particular series of words."
   ]
  },
  {
   "cell_type": "code",
   "execution_count": null,
   "metadata": {},
   "outputs": [],
   "source": [
    "# Create the dataframe\n",
    "min2_df = pd.DataFrame(min2_X.toarray(), columns = min2_vec.get_feature_names())\n",
    "\n",
    "# Create a series of sums\n",
    "min2_series = min2_df.sum()\n",
    "\n",
    "# Write sums to CSV:\n",
    "# min2_series.to_csv('../output/word_freq_clean.csv')\n",
    "\n",
    "# Inspect the sums\n",
    "min2_series[1000:1005]"
   ]
  },
  {
   "cell_type": "markdown",
   "metadata": {},
   "source": [
    "## Frequencies of Terms Appearing in All Documents"
   ]
  },
  {
   "cell_type": "markdown",
   "metadata": {},
   "source": [
    "Having trimmed terms that occur in only document from our feature set, we also need to determine what words occur across all the documents and thus are not particularly effective discriminators of topic. \n",
    "\n",
    "Note that this is a somewhat more dangerous move to make, since it has been shown that one of the keys to genre and gender in documents are the varying uses of so-called function words. In fact, as our explorations establish, using sklearn's built-in algorithms reveals a focus on removing common words does not really result in much of a reduction in the overall feature set, only 8 words occurring across 99% or more documents and that number only rising to 46 when we change the minimum threshold to 90%."
   ]
  },
  {
   "cell_type": "code",
   "execution_count": null,
   "metadata": {},
   "outputs": [],
   "source": [
    "alldocs_vec = CountVectorizer(preprocessor = remove_parentheticals, min_df = 0.99)\n",
    "alldocs_X = alldocs_vec.fit_transform(texts)\n",
    "alldocs_X.shape"
   ]
  },
  {
   "cell_type": "code",
   "execution_count": null,
   "metadata": {},
   "outputs": [],
   "source": [
    "alldocs_df = pd.DataFrame(alldocs_X.toarray(), columns = alldocs_vec.get_feature_names())\n",
    "alldocs_series = alldocs_df.sum()\n",
    "alldocs_series"
   ]
  },
  {
   "cell_type": "code",
   "execution_count": null,
   "metadata": {},
   "outputs": [],
   "source": [
    "mostdocs_vec = CountVectorizer(preprocessor = remove_parentheticals, min_df = 0.90)\n",
    "mostdocs_X = mostdocs_vec.fit_transform(texts)\n",
    "mostdocs_X.shape"
   ]
  },
  {
   "cell_type": "code",
   "execution_count": null,
   "metadata": {},
   "outputs": [],
   "source": [
    "# mostdocs_df = pd.DataFrame(mostdocs_X.toarray(), columns = mostdocs_vec.get_feature_names())\n",
    "# mostdocs_series = mostdocs_df.sum()\n",
    "# mostdocs_series.head(46)"
   ]
  },
  {
   "cell_type": "markdown",
   "metadata": {},
   "source": [
    "This last run simply verifies that the exploration above with `min_df` holds true when we switch to `max_df`. That is, that our exploration of the parameters were not asking something unexpected by the code and possibly generating inexplicable and undesirable results."
   ]
  },
  {
   "cell_type": "code",
   "execution_count": null,
   "metadata": {},
   "outputs": [],
   "source": [
    "# tnt = topsntails\n",
    "tnt_vec = CountVectorizer(preprocessor = remove_parentheticals, max_df = 0.9, min_df = 2)\n",
    "tnt_X = tnt_vec.fit_transform(texts)\n",
    "tnt_X.shape"
   ]
  },
  {
   "cell_type": "markdown",
   "metadata": {},
   "source": [
    "The numbers add up. With that done, my recommendation is that we do not, for the time being, throw away common and/or function words: that is, let's not use a stopword list. Those words could be important in other ways, and dropping them has only a limited impact on the actual document-term matrix, one that pales by comparison to the words that occur only in one document."
   ]
  }
 ],
 "metadata": {
  "interpreter": {
   "hash": "14a02b88778d8fb8b6aeb4ad427a942bc53dfcda9d7e3737237788289e0d2d23"
  },
  "kernelspec": {
   "display_name": "Python 3 (ipykernel)",
   "language": "python",
   "name": "python3"
  },
  "language_info": {
   "codemirror_mode": {
    "name": "ipython",
    "version": 3
   },
   "file_extension": ".py",
   "mimetype": "text/x-python",
   "name": "python",
   "nbconvert_exporter": "python",
   "pygments_lexer": "ipython3",
   "version": "3.7.11"
  },
  "toc": {
   "base_numbering": 1,
   "nav_menu": {},
   "number_sections": true,
   "sideBar": true,
   "skip_h1_title": true,
   "title_cell": "",
   "title_sidebar": "Contents",
   "toc_cell": true,
   "toc_position": 2,
   "toc_section_display": true,
   "toc_window_display": false
  }
 },
 "nbformat": 4,
 "nbformat_minor": 2
}
