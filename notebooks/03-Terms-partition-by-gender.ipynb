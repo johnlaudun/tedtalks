{
 "cells": [
  {
   "cell_type": "markdown",
   "metadata": {},
   "source": [
    "# Term Frequencies partitioned by gender\n",
    "\n",
    "In previous notebooks, we have used speakers' genders to apply a gender label to each talk. The gender labels used are: male, female, and not one gender. We note that the list of speakers in the corpus of TED talks identify on the gender binary, at least in the public facing documents about them (which include their TED talk bios and third party websites and publicity). \n",
    "\n",
    "\n"
   ]
  },
  {
   "cell_type": "markdown",
   "metadata": {},
   "source": [
    "## Summary\n",
    "\n",
    "This is the second attempt to look a freqencies by gender. In the first attempt in `03-Terms-by-gender`, we applied the method from `01-Terms.ipynb` on just the talks gendered as \"female.\" This approach has some limits, chiefly that if we also do the same to \"male\" talks, we have no clear method for comparing how different words appear in talks by either binary gender. \n",
    "\n",
    "In this second attempt, we will instead load the talks such that the male talks are all together, followed by the female talks, and finally followed by those talks that are neither binary gender. \n",
    "\n",
    "With the data loaded in this partitioned manner, we will then count the words in each of the texts and like with the previous attempt, addres the matter of parentheticals head on. Much of this work occurs in a separate notebook, and the explanations of how that work relates to this process is detailed in `01-Terms.ipynb`.\n",
    "\n",
    "In this notebook, we will **not** take each subset individually but rather as one partitioned set (first talks labeled male, female, and not one gender) and complete the following procedure: \n",
    "* Remove the parentheticals\n",
    "* Create term matrix from the resulting vocabulary\n",
    "* Adjust the threshold for a word to be included in the term-matrix\n",
    "* Export the resulting as a CSV\n"
   ]
  },
  {
   "cell_type": "markdown",
   "metadata": {},
   "source": [
    "## Load Imports and Data"
   ]
  },
  {
   "cell_type": "code",
   "execution_count": 1,
   "metadata": {},
   "outputs": [],
   "source": [
    "# IMPORTS\n",
    "\n",
    "import numpy as np\n",
    "import pandas as pd, re, csv, nltk\n",
    "from sklearn.feature_extraction.text import CountVectorizer\n",
    "from sklearn.decomposition import NMF\n",
    "\n",
    "import matplotlib.pyplot as plt"
   ]
  },
  {
   "cell_type": "code",
   "execution_count": 2,
   "metadata": {},
   "outputs": [],
   "source": [
    "# LOCAL FUNCTION --> Explained in 01-Terms.ipynb\n",
    "\n",
    "parentheticals = [ \"\\(laughter\\)\", \"\\(applause\\)\", \"\\(music\\)\", \"\\(video\\)\", \n",
    "                  \"\\(laughs\\)\", \"\\(applause ends\\)\", \"\\(audio\\)\", \"\\(singing\\)\", \n",
    "                  \"\\(music ends\\)\", \"\\(cheers\\)\", \"\\(cheering\\)\", \"\\(recording\\)\", \n",
    "                  \"\\(beatboxing\\)\", \"\\(audience\\)\", \"\\(guitar strum\\)\", \n",
    "                  \"\\(clicks metronome\\)\", \"\\(sighs\\)\", \"\\(guitar\\)\", \"\\(marimba sounds\\)\", \n",
    "                  \"\\(drum sounds\\)\" ]\n",
    "\n",
    "def remove_parentheticals(text):\n",
    "    global parentheticals\n",
    "    new_text = text\n",
    "    for rgx_match in parentheticals:\n",
    "        new_text = re.sub(rgx_match, ' ', new_text.lower(), flags=re.IGNORECASE)\n",
    "    return new_text"
   ]
  },
  {
   "cell_type": "code",
   "execution_count": 3,
   "metadata": {},
   "outputs": [],
   "source": [
    "# Load data\n",
    "\n",
    "# Load binary gendered talks \n",
    "talks_male = pd.read_csv('talks_male.csv', index_col='Talk_ID')\n",
    "talks_female = pd.read_csv('talks_female.csv', index_col='Talk_ID')\n",
    "\n",
    "# No one gender ==> NOG\n",
    "talks_nog = pd.read_csv('talks_nog.csv', index_col='Talk_ID')"
   ]
  },
  {
   "cell_type": "code",
   "execution_count": 4,
   "metadata": {},
   "outputs": [
    {
     "name": "stdout",
     "output_type": "stream",
     "text": [
      "714 260 8\n"
     ]
    }
   ],
   "source": [
    "print(talks_male.shape[0],talks_female.shape[0],talks_nog.shape[0])"
   ]
  },
  {
   "cell_type": "code",
   "execution_count": 5,
   "metadata": {},
   "outputs": [
    {
     "data": {
      "text/plain": [
       "(982, 14)"
      ]
     },
     "execution_count": 5,
     "metadata": {},
     "output_type": "execute_result"
    }
   ],
   "source": [
    "# Concatenate the data\n",
    "\n",
    "all_talks = pd.concat([talks_male,talks_female,talks_nog])\n",
    "all_talks.shape"
   ]
  },
  {
   "cell_type": "code",
   "execution_count": 6,
   "metadata": {},
   "outputs": [
    {
     "name": "stdout",
     "output_type": "stream",
     "text": [
      "True\n",
      "True\n"
     ]
    }
   ],
   "source": [
    "# check that the shape is what we expect\n",
    "\n",
    "print(all_talks.shape[0] == (talks_male.shape[0]+talks_female.shape[0]+talks_nog.shape[0]))\n",
    "print(all_talks.shape[1] == talks_nog.shape[1])"
   ]
  },
  {
   "cell_type": "markdown",
   "metadata": {},
   "source": [
    "## Raw Frequencies\n",
    "\n",
    "The goal of this notebook is to establish how we are going to elicit our features, our words, from the collection of talks. Thus, the only column we are interested in is the one with the texts of the talks. While we recognize the utility of having the data in one file, we are looking to minimize individual file sizes, and also make it possible only to load the data we need for any particular task. For that reason, we have chosen to create a number of CSV files, using the ID number that TED assigns each talk as it publishes them to its website.\n",
    "\n",
    "For this first experiment, we keep it simple by creating two lists, one of the talk IDs and one of the texts themselves: we will only be using the IDs later when we write the DTM to a CSV. This ID will allow us later to correlate the DTM with metadata associated with each talk: the speaker, her biography, the talk's popularity, etc. "
   ]
  },
  {
   "cell_type": "code",
   "execution_count": 7,
   "metadata": {},
   "outputs": [],
   "source": [
    "partitioned_texts = all_talks.text.tolist()"
   ]
  },
  {
   "cell_type": "markdown",
   "metadata": {},
   "source": [
    "**Nota bene**: If you are using this notebook to re-create the basic TF matrix you can stop here and jump to the end of this notebook."
   ]
  },
  {
   "cell_type": "markdown",
   "metadata": {},
   "source": [
    "There are a number of ways to get term frequencies, but **SciKit-Learn**'s `CountVectorizer` offers a one-stop shop for generating a DTM from which we can examine words as well as generate BoW-products like topic models. This is made possible by the interoperability between `CountVectorizer` and the other vectorizers and models available in `sklearn`.\n"
   ]
  },
  {
   "cell_type": "markdown",
   "metadata": {},
   "source": [
    "\n",
    "In our first experiment, we run `CountVectorizer` unadorned. The default options are: lowercase everything, get rid of all punctuation, make a word out of anything more than two characters long. The only thing that might not be welcome is the splitting of contractions. For now, we will leave things as they are. (Also, please note, no stopwords were used, so we have an unfiltered word list and no pre-processing of the texts is done.)\n",
    "\n",
    "CHECK THIS ASSERTION: Since `CountVectorizer` only counts when *fitting* and does not engage in any kind of normalization or centering, *transforming*, there is no need to break the two functionalities out in the code that follows."
   ]
  },
  {
   "cell_type": "code",
   "execution_count": 69,
   "metadata": {},
   "outputs": [
    {
     "data": {
      "text/plain": [
       "(982, 39114)"
      ]
     },
     "execution_count": 69,
     "metadata": {},
     "output_type": "execute_result"
    }
   ],
   "source": [
    "# If you want to pass options, pass them here:\n",
    "vectorizer = CountVectorizer( lowercase = True, stop_words = 'english' )\n",
    "\n",
    "# There are issues using \"english\" flag. But I wanted to see what would happen: \n",
    "# https://scikit-learn.org/stable/modules/generated/sklearn.feature_extraction.text.CountVectorizer.html\n",
    "\n",
    "# fit the model to the data \n",
    "# vecs = vectorizer.fit(partitioned_texts)\n",
    "X = vectorizer.fit_transform(partitioned_texts)\n",
    "\n",
    "# see how many features we have\n",
    "X.shape"
   ]
  },
  {
   "cell_type": "code",
   "execution_count": 70,
   "metadata": {},
   "outputs": [
    {
     "data": {
      "text/plain": [
       "scipy.sparse.csr.csr_matrix"
      ]
     },
     "execution_count": 70,
     "metadata": {},
     "output_type": "execute_result"
    }
   ],
   "source": [
    "type(X)"
   ]
  },
  {
   "cell_type": "markdown",
   "metadata": {},
   "source": [
    "39418 tokens is our raw, unfiltered, no pre-processing baseline. It includes, as we will see, a number of artifacts of the TED transcription process, including a variety of ways to spell out *ah*, the use of numerals for a host of things -- from dates to counts and everything in between, and some things which actually take places outside the talk itself, like audience laughter, which we here term *parentheticals*. (Accounting for all these artifacts requires a number of closer inspections, which take place in a separate notebook: [Term Artifacts](Terms-02).)"
   ]
  },
  {
   "cell_type": "code",
   "execution_count": 72,
   "metadata": {},
   "outputs": [
    {
     "data": {
      "text/plain": [
       "(982, 39114)"
      ]
     },
     "execution_count": 72,
     "metadata": {},
     "output_type": "execute_result"
    }
   ],
   "source": [
    "raw_df = pd.DataFrame(X.toarray(), columns = vectorizer.get_feature_names_out())\n",
    "raw_df.shape"
   ]
  },
  {
   "cell_type": "code",
   "execution_count": 73,
   "metadata": {},
   "outputs": [
    {
     "data": {
      "text/plain": [
       "39114"
      ]
     },
     "execution_count": 73,
     "metadata": {},
     "output_type": "execute_result"
    }
   ],
   "source": [
    "col_list = list(raw_df.columns)\n",
    "\n",
    "len(col_list)"
   ]
  },
  {
   "cell_type": "code",
   "execution_count": 74,
   "metadata": {},
   "outputs": [
    {
     "data": {
      "text/plain": [
       "782"
      ]
     },
     "execution_count": 74,
     "metadata": {},
     "output_type": "execute_result"
    }
   ],
   "source": [
    "col_list.index(\"aa\")"
   ]
  },
  {
   "cell_type": "code",
   "execution_count": 75,
   "metadata": {},
   "outputs": [
    {
     "data": {
      "text/plain": [
       "['aa',\n",
       " 'aaa',\n",
       " 'aaaa',\n",
       " 'aaaaa',\n",
       " 'aaaah',\n",
       " 'aag',\n",
       " 'aah',\n",
       " 'aakash',\n",
       " 'aargh',\n",
       " 'aaron']"
      ]
     },
     "execution_count": 75,
     "metadata": {},
     "output_type": "execute_result"
    }
   ],
   "source": [
    "col_list[782:792]"
   ]
  },
  {
   "cell_type": "code",
   "execution_count": 76,
   "metadata": {},
   "outputs": [
    {
     "data": {
      "text/plain": [
       "789"
      ]
     },
     "execution_count": 76,
     "metadata": {},
     "output_type": "execute_result"
    }
   ],
   "source": [
    "col_list.index(\"aakash\")"
   ]
  },
  {
   "cell_type": "markdown",
   "metadata": {},
   "source": [
    "As with the full corpus (`01-Terms.ipynb`), a hand inspection of the output above turned up a couple of interesting issues. For more details on the full corpus see `01-Terms-02-Parentheticals` for parentheticals mixed in with the text of the talks and `01-Terms-03-Numbers` for numbers feature in the talks regularly. \n",
    "\n",
    "There are also some interesting tokenization dimensions to a crowd-sourced transcription technology for the female talks:\n",
    "\n",
    "| Term    | Freq |\n",
    "|:---------|---:|\n",
    "|aa       |4 |\n",
    "|aaaaa    |1  |\n",
    "|aah      |3 |\n",
    "\n",
    "Though similar can be said for the male talks: \n"
   ]
  },
  {
   "cell_type": "code",
   "execution_count": 15,
   "metadata": {},
   "outputs": [
    {
     "name": "stdout",
     "output_type": "stream",
     "text": [
      "aa       7\n",
      "aaa      6\n",
      "aaaa     2\n",
      "aaaaa    0\n",
      "aaaah    2\n",
      "aag      1\n",
      "aah      7\n",
      "dtype: int64\n",
      "aa       4\n",
      "aaa      0\n",
      "aaaa     0\n",
      "aaaaa    1\n",
      "aaaah    0\n",
      "aag      0\n",
      "aah      3\n",
      "dtype: int64\n",
      "aa       0\n",
      "aaa      0\n",
      "aaaa     0\n",
      "aaaaa    0\n",
      "aaaah    0\n",
      "aag      0\n",
      "aah      0\n",
      "dtype: int64\n"
     ]
    }
   ],
   "source": [
    "# Crowd noises are at 782 through 788\n",
    "\n",
    "male_crowd = raw_df.iloc[:714,782:789].sum()\n",
    "print(male_crowd)\n",
    "\n",
    "female_crowd = raw_df.iloc[714:(714+260),782:789].sum()\n",
    "print(female_crowd)\n",
    "\n",
    "nog_crowd = raw_df.iloc[-8:,782:789].sum()\n",
    "print(nog_crowd)"
   ]
  },
  {
   "cell_type": "code",
   "execution_count": 16,
   "metadata": {},
   "outputs": [],
   "source": [
    "# print(raw_df.iloc[-8:])"
   ]
  },
  {
   "cell_type": "code",
   "execution_count": 17,
   "metadata": {},
   "outputs": [
    {
     "data": {
      "text/plain": [
       "0.020016236237252016"
      ]
     },
     "execution_count": 17,
     "metadata": {},
     "output_type": "execute_result"
    }
   ],
   "source": [
    "# First words start at index 789\n",
    "\n",
    "789/39418\n",
    "\n",
    "## About 2% of the way into the word list"
   ]
  },
  {
   "cell_type": "code",
   "execution_count": 18,
   "metadata": {},
   "outputs": [],
   "source": [
    "# See how many of the non-words each talk has (regardless of how many times each non-word appears.)\n",
    "m_test = (raw_df.iloc[:714,:789]>0).sum(axis = 1)\n",
    "f_test = (raw_df.iloc[714:(714+260),:789]>0).sum(axis = 1)"
   ]
  },
  {
   "cell_type": "code",
   "execution_count": 19,
   "metadata": {},
   "outputs": [
    {
     "data": {
      "image/png": "[encoded data removed]",
      "text/plain": [
       "<Figure size 432x288 with 1 Axes>"
      ]
     },
     "metadata": {
      "needs_background": "light"
     },
     "output_type": "display_data"
    }
   ],
   "source": [
    "# https://stackoverflow.com/questions/6871201/plot-two-histograms-on-single-chart-with-matplotlib\n",
    "bins = np.linspace(0,75,30)\n",
    "plt.hist(m_test, bins, density=True,  alpha=0.5, label = \"male\")\n",
    "plt.hist(f_test, bins, density=True, alpha=0.5, label = \"female\")\n",
    "plt.legend(loc='upper right')\n",
    "plt.show()"
   ]
  },
  {
   "cell_type": "code",
   "execution_count": 20,
   "metadata": {},
   "outputs": [
    {
     "data": {
      "image/png": "[encoded data removed]",
      "text/plain": [
       "<Figure size 432x288 with 1 Axes>"
      ]
     },
     "metadata": {
      "needs_background": "light"
     },
     "output_type": "display_data"
    }
   ],
   "source": [
    "plt.hist([m_test,f_test], bins, density=True, alpha=0.75, label=['male','female'])\n",
    "plt.legend(loc='upper right')\n",
    "plt.show()"
   ]
  },
  {
   "cell_type": "code",
   "execution_count": 21,
   "metadata": {},
   "outputs": [],
   "source": [
    "raw_series = raw_df.sum()"
   ]
  },
  {
   "cell_type": "code",
   "execution_count": 22,
   "metadata": {},
   "outputs": [
    {
     "data": {
      "text/plain": [
       "00              4\n",
       "000          1187\n",
       "000000004       1\n",
       "000042          1\n",
       "0001            1\n",
       "dtype: int64"
      ]
     },
     "execution_count": 22,
     "metadata": {},
     "output_type": "execute_result"
    }
   ],
   "source": [
    "raw_series.head()"
   ]
  },
  {
   "cell_type": "markdown",
   "metadata": {},
   "source": [
    "Another caveat from the `01-Terms.ipynb` notebook: \n",
    "> The rest of the hand-examination turns up no other issues, so the basic vectorization built into `sklearn` appears to be satisfactory, with the only exception being its breaking of contractions at the apostrophe: e.g., *isn't* becomes *isn* and *'t*, with the latter being thrown away as too small -- which means that the indefinite article *a(n)* is also not present in the frequencies, but the definite article *the* remains. "
   ]
  },
  {
   "cell_type": "markdown",
   "metadata": {},
   "source": [
    "## Remove the non-words:"
   ]
  },
  {
   "cell_type": "code",
   "execution_count": 23,
   "metadata": {},
   "outputs": [
    {
     "data": {
      "text/plain": [
       "(982, 38629)"
      ]
     },
     "execution_count": 23,
     "metadata": {},
     "output_type": "execute_result"
    }
   ],
   "source": [
    "trunc_df = raw_df.iloc[:,789:]\n",
    "trunc_df.shape\n"
   ]
  },
  {
   "cell_type": "code",
   "execution_count": 24,
   "metadata": {},
   "outputs": [
    {
     "data": {
      "text/plain": [
       "789"
      ]
     },
     "execution_count": 24,
     "metadata": {},
     "output_type": "execute_result"
    }
   ],
   "source": [
    "raw_df.shape[1] - trunc_df.shape[1]"
   ]
  },
  {
   "cell_type": "code",
   "execution_count": 84,
   "metadata": {},
   "outputs": [],
   "source": [
    "# How many talks does each word appear in?\n",
    "talks_per_word = (trunc_df > 0).sum(axis = 0)"
   ]
  },
  {
   "cell_type": "code",
   "execution_count": 86,
   "metadata": {},
   "outputs": [
    {
     "data": {
      "text/plain": [
       "977"
      ]
     },
     "execution_count": 86,
     "metadata": {},
     "output_type": "execute_result"
    }
   ],
   "source": [
    "max(talks_per_word)"
   ]
  },
  {
   "cell_type": "code",
   "execution_count": 25,
   "metadata": {},
   "outputs": [
    {
     "data": {
      "text/plain": [
       "(714, 38629)"
      ]
     },
     "execution_count": 25,
     "metadata": {},
     "output_type": "execute_result"
    }
   ],
   "source": [
    "male_tdf = trunc_df.iloc[:714,:]\n",
    "male_tdf.shape"
   ]
  },
  {
   "cell_type": "code",
   "execution_count": 26,
   "metadata": {},
   "outputs": [
    {
     "data": {
      "text/plain": [
       "(260, 38629)"
      ]
     },
     "execution_count": 26,
     "metadata": {},
     "output_type": "execute_result"
    }
   ],
   "source": [
    "female_tdf = trunc_df.iloc[714:(714+260),:]\n",
    "female_tdf.shape"
   ]
  },
  {
   "cell_type": "code",
   "execution_count": 27,
   "metadata": {},
   "outputs": [
    {
     "data": {
      "text/plain": [
       "(8, 38629)"
      ]
     },
     "execution_count": 27,
     "metadata": {},
     "output_type": "execute_result"
    }
   ],
   "source": [
    "nog_tdf = trunc_df.iloc[-8:,:]\n",
    "nog_tdf.shape"
   ]
  },
  {
   "cell_type": "code",
   "execution_count": 28,
   "metadata": {},
   "outputs": [],
   "source": [
    "# How many times does each word appear across the whole corpus of male talks? \n",
    "count_per_word_m = male_tdf.sum(axis = 0)\n",
    "\n",
    "# How many talks does each word appear in?\n",
    "talks_per_word_m = (male_tdf > 0).sum(axis = 0)\n",
    "\n",
    "# How many words are in each talk? \n",
    "words_in_talk_m = male_tdf.sum(axis = 1)\n",
    "\n",
    "# How many unique words per talk? \n",
    "unique_words_talk_m = (male_tdf > 0).sum(axis = 1)"
   ]
  },
  {
   "cell_type": "code",
   "execution_count": 29,
   "metadata": {},
   "outputs": [
    {
     "name": "stdout",
     "output_type": "stream",
     "text": [
      "Smallest number of times a word is used is 0 while the largest number of times is 71190\n",
      "The average number of times a word is used is 36.78 with a standard deviation of 679.59 \n",
      " The median is 2.0\n"
     ]
    }
   ],
   "source": [
    "print('Smallest number of times a word is used is',count_per_word_m.min() ,\n",
    "      'while the largest number of times is',count_per_word_m.max())\n",
    "print('The average number of times a word is used is',round(count_per_word_m.mean(),2) ,\n",
    "      'with a standard deviation of',round(count_per_word_m.std(),2),\n",
    "      '\\n The median is', count_per_word_m.median() )"
   ]
  },
  {
   "cell_type": "code",
   "execution_count": 30,
   "metadata": {},
   "outputs": [
    {
     "data": {
      "text/plain": [
       "[<matplotlib.lines.Line2D at 0x13f0c5370>]"
      ]
     },
     "execution_count": 30,
     "metadata": {},
     "output_type": "execute_result"
    },
    {
     "data": {
      "image/png": "[encoded data removed]",
      "text/plain": [
       "<Figure size 432x288 with 1 Axes>"
      ]
     },
     "metadata": {
      "needs_background": "light"
     },
     "output_type": "display_data"
    }
   ],
   "source": [
    "inds = count_per_word_m < 5000\n",
    "\n",
    "plt.plot(count_per_word_m[inds],talks_per_word_m[inds],\"*\")"
   ]
  },
  {
   "cell_type": "code",
   "execution_count": 31,
   "metadata": {},
   "outputs": [],
   "source": [
    "# How many times does each word appear across the whole corpus of female talks? \n",
    "count_per_word_f = female_tdf.sum(axis = 0)\n",
    "\n",
    "# How many talks does each word appear in?\n",
    "talks_per_word_f = (female_tdf > 0).sum(axis = 0)\n",
    "\n",
    "# How many words are in each talk? \n",
    "words_in_talk_f = female_tdf.sum(axis = 1)\n",
    "\n",
    "# How many unique words per talk? \n",
    "unique_words_talk_f = (female_tdf > 0).sum(axis = 1)"
   ]
  },
  {
   "cell_type": "code",
   "execution_count": 32,
   "metadata": {},
   "outputs": [
    {
     "name": "stdout",
     "output_type": "stream",
     "text": [
      "Smallest number of times a word is used is 0 while the largest number of times is 21585\n",
      "The average number of times a word is used is 12.18 with a standard deviation of 218.3 \n",
      " The median is 1.0\n"
     ]
    }
   ],
   "source": [
    "print('Smallest number of times a word is used is',count_per_word_f.min() ,\n",
    "      'while the largest number of times is',count_per_word_f.max())\n",
    "print('The average number of times a word is used is',round(count_per_word_f.mean(),2) ,\n",
    "      'with a standard deviation of',round(count_per_word_f.std(),2),\n",
    "      '\\n The median is', count_per_word_f.median() )"
   ]
  },
  {
   "cell_type": "code",
   "execution_count": 33,
   "metadata": {},
   "outputs": [
    {
     "data": {
      "text/plain": [
       "[<matplotlib.lines.Line2D at 0x13f07fdf0>]"
      ]
     },
     "execution_count": 33,
     "metadata": {},
     "output_type": "execute_result"
    },
    {
     "data": {
      "image/png": "[encoded data removed]",
      "text/plain": [
       "<Figure size 432x288 with 1 Axes>"
      ]
     },
     "metadata": {
      "needs_background": "light"
     },
     "output_type": "display_data"
    }
   ],
   "source": [
    "inds = count_per_word_f < 5000\n",
    "\n",
    "plt.plot(count_per_word_f[inds],talks_per_word_f[inds],\"*\")"
   ]
  },
  {
   "cell_type": "code",
   "execution_count": 34,
   "metadata": {},
   "outputs": [
    {
     "data": {
      "text/plain": [
       "[<matplotlib.lines.Line2D at 0x13f0099a0>]"
      ]
     },
     "execution_count": 34,
     "metadata": {},
     "output_type": "execute_result"
    },
    {
     "data": {
      "image/png": "[encoded data removed]",
      "text/plain": [
       "<Figure size 432x288 with 1 Axes>"
      ]
     },
     "metadata": {
      "needs_background": "light"
     },
     "output_type": "display_data"
    }
   ],
   "source": [
    "plt.plot(count_per_word_m[inds],count_per_word_f[inds],\"*\")"
   ]
  },
  {
   "cell_type": "code",
   "execution_count": 35,
   "metadata": {},
   "outputs": [
    {
     "data": {
      "text/plain": [
       "[<matplotlib.lines.Line2D at 0x13f07e610>]"
      ]
     },
     "execution_count": 35,
     "metadata": {},
     "output_type": "execute_result"
    },
    {
     "data": {
      "image/png": "[encoded data removed]",
      "text/plain": [
       "<Figure size 432x288 with 1 Axes>"
      ]
     },
     "metadata": {
      "needs_background": "light"
     },
     "output_type": "display_data"
    }
   ],
   "source": [
    "plt.plot(talks_per_word_m[inds],talks_per_word_f[inds],\"*\")"
   ]
  },
  {
   "cell_type": "code",
   "execution_count": 36,
   "metadata": {},
   "outputs": [],
   "source": [
    "# How many times does each word appear across the whole corpus of female talks? \n",
    "count_per_word_n = nog_tdf.sum(axis = 0)\n",
    "\n",
    "# How many talks does each word appear in?\n",
    "talks_per_word_n = (nog_tdf > 0).sum(axis = 0)\n",
    "\n",
    "# How many words are in each talk? \n",
    "words_in_talk_n = nog_tdf.sum(axis = 1)\n",
    "\n",
    "# How many unique words per talk? \n",
    "unique_words_talk_n = (nog_tdf > 0).sum(axis = 1)"
   ]
  },
  {
   "cell_type": "code",
   "execution_count": 37,
   "metadata": {},
   "outputs": [
    {
     "name": "stdout",
     "output_type": "stream",
     "text": [
      "Smallest number of times a word is used is 0 while the largest number of times is 661\n",
      "The average number of times a word is used is 0.4 with a standard deviation of 6.95 \n",
      " The median is 0.0\n"
     ]
    }
   ],
   "source": [
    "print('Smallest number of times a word is used is',count_per_word_n.min() ,\n",
    "      'while the largest number of times is',count_per_word_n.max())\n",
    "print('The average number of times a word is used is',round(count_per_word_n.mean(),2) ,\n",
    "      'with a standard deviation of',round(count_per_word_n.std(),2),\n",
    "      '\\n The median is', count_per_word_n.median() )"
   ]
  },
  {
   "cell_type": "markdown",
   "metadata": {},
   "source": [
    "## Either Male or Female words that are never used\n"
   ]
  },
  {
   "cell_type": "code",
   "execution_count": 38,
   "metadata": {},
   "outputs": [],
   "source": [
    "minds_low = count_per_word_m <= 10\n",
    "finds_low = count_per_word_f <= 10"
   ]
  },
  {
   "cell_type": "code",
   "execution_count": 39,
   "metadata": {},
   "outputs": [
    {
     "data": {
      "text/plain": [
       "[<matplotlib.lines.Line2D at 0x13eefc1f0>]"
      ]
     },
     "execution_count": 39,
     "metadata": {},
     "output_type": "execute_result"
    },
    {
     "data": {
      "image/png": "[encoded data removed]",
      "text/plain": [
       "<Figure size 432x288 with 1 Axes>"
      ]
     },
     "metadata": {
      "needs_background": "light"
     },
     "output_type": "display_data"
    }
   ],
   "source": [
    "plt.plot(count_per_word_m[minds_low],count_per_word_f[minds_low],\"*\")"
   ]
  },
  {
   "cell_type": "code",
   "execution_count": 40,
   "metadata": {},
   "outputs": [
    {
     "data": {
      "text/plain": [
       "[<matplotlib.lines.Line2D at 0x13f41cd90>]"
      ]
     },
     "execution_count": 40,
     "metadata": {},
     "output_type": "execute_result"
    },
    {
     "data": {
      "image/png": "[encoded data removed]",
      "text/plain": [
       "<Figure size 432x288 with 1 Axes>"
      ]
     },
     "metadata": {
      "needs_background": "light"
     },
     "output_type": "display_data"
    }
   ],
   "source": [
    "plt.plot(count_per_word_m[finds_low],count_per_word_f[finds_low],\"*\")"
   ]
  },
  {
   "cell_type": "code",
   "execution_count": 41,
   "metadata": {},
   "outputs": [],
   "source": [
    "finds = (count_per_word_m <= 10) & (count_per_word_f > 20) #High F count, low M count\n",
    "minds = (count_per_word_m > 50) & (count_per_word_f <= 10) #High M count, low F count"
   ]
  },
  {
   "cell_type": "code",
   "execution_count": 42,
   "metadata": {},
   "outputs": [
    {
     "data": {
      "text/plain": [
       "[<matplotlib.lines.Line2D at 0x13ef1cb50>]"
      ]
     },
     "execution_count": 42,
     "metadata": {},
     "output_type": "execute_result"
    },
    {
     "data": {
      "image/png": "[encoded data removed]",
      "text/plain": [
       "<Figure size 432x288 with 1 Axes>"
      ]
     },
     "metadata": {
      "needs_background": "light"
     },
     "output_type": "display_data"
    }
   ],
   "source": [
    "plt.plot(count_per_word_m[minds],count_per_word_f[minds],\"*\")"
   ]
  },
  {
   "cell_type": "code",
   "execution_count": 43,
   "metadata": {},
   "outputs": [
    {
     "data": {
      "text/plain": [
       "[<matplotlib.lines.Line2D at 0x13eee78e0>]"
      ]
     },
     "execution_count": 43,
     "metadata": {},
     "output_type": "execute_result"
    },
    {
     "data": {
      "image/png": "[encoded data removed]",
      "text/plain": [
       "<Figure size 432x288 with 1 Axes>"
      ]
     },
     "metadata": {
      "needs_background": "light"
     },
     "output_type": "display_data"
    }
   ],
   "source": [
    "plt.plot(count_per_word_m[finds],count_per_word_f[finds],\"g*\")"
   ]
  },
  {
   "cell_type": "code",
   "execution_count": 44,
   "metadata": {},
   "outputs": [
    {
     "data": {
      "image/png": "[encoded data removed]",
      "text/plain": [
       "<Figure size 432x288 with 1 Axes>"
      ]
     },
     "metadata": {
      "needs_background": "light"
     },
     "output_type": "display_data"
    }
   ],
   "source": [
    "plt.plot(count_per_word_m[minds],count_per_word_f[minds], \"g*\", label = \"Low female count\")\n",
    "plt.plot(count_per_word_m[finds],count_per_word_f[finds], \"b*\", label = \"Low male count\")\n",
    "\n",
    "plt.xlabel('Male counts')\n",
    "plt.ylabel('Female counts')\n",
    "plt.legend(loc='upper right')\n",
    "\n",
    "plt.show()\n",
    "\n",
    "# https://matplotlib.org/stable/gallery/pyplots/pyplot_simple.html"
   ]
  },
  {
   "cell_type": "code",
   "execution_count": 45,
   "metadata": {},
   "outputs": [
    {
     "data": {
      "text/plain": [
       "Index(['affair', 'africans', 'bamboo', 'bonobo', 'bronx', 'clams', 'colonies',\n",
       "       'copied', 'cs', 'detroit', 'dictionaries', 'dolphin', 'epic', 'females',\n",
       "       'fireflies', 'gamers', 'gaza', 'gk', 'glamorous', 'glamour', 'hackers',\n",
       "       'heh', 'hum', 'infections', 'jellyfish', 'kepler', 'li', 'looting',\n",
       "       'maintenance', 'mating', 'nest', 'orgasm', 'philanthropy', 'prevalence',\n",
       "       'reefs', 'sarah', 'skeletal', 'squid', 'sr', 'strike', 'sw', 'taliban',\n",
       "       'telomeres', 'titan', 'trafficking', 'vagina', 'vulnerability'],\n",
       "      dtype='object')"
      ]
     },
     "execution_count": 45,
     "metadata": {},
     "output_type": "execute_result"
    }
   ],
   "source": [
    "# Words with high counts in female talks that have a low count in male talks\n",
    "finds[finds].index"
   ]
  },
  {
   "cell_type": "code",
   "execution_count": 46,
   "metadata": {},
   "outputs": [
    {
     "data": {
      "text/plain": [
       "aakash      0\n",
       "aargh       0\n",
       "aaron       0\n",
       "aaronson    0\n",
       "aarp        0\n",
       "           ..\n",
       "ʾilla       1\n",
       "ʾilāha      1\n",
       "อย          0\n",
       "อยman       0\n",
       "อร          0\n",
       "Length: 38629, dtype: int64"
      ]
     },
     "execution_count": 46,
     "metadata": {},
     "output_type": "execute_result"
    }
   ],
   "source": [
    "count_per_word_f"
   ]
  },
  {
   "cell_type": "code",
   "execution_count": 47,
   "metadata": {},
   "outputs": [
    {
     "data": {
      "text/plain": [
       "['anger',\n",
       " 'apple',\n",
       " 'argument',\n",
       " 'automatically',\n",
       " 'axis',\n",
       " 'balloon',\n",
       " 'battery',\n",
       " 'bears',\n",
       " 'bottle',\n",
       " 'burn',\n",
       " 'capability',\n",
       " 'charles',\n",
       " 'chicken',\n",
       " 'classes',\n",
       " 'clock',\n",
       " 'co2',\n",
       " 'coal',\n",
       " 'comet',\n",
       " 'components',\n",
       " 'computing',\n",
       " 'conscious',\n",
       " 'controlled',\n",
       " 'cortex',\n",
       " 'crash',\n",
       " 'creature',\n",
       " 'dan',\n",
       " 'debate',\n",
       " 'defense',\n",
       " 'designs',\n",
       " 'detect',\n",
       " 'dimensional',\n",
       " 'dimensions',\n",
       " 'dinosaurs',\n",
       " 'directions',\n",
       " 'disaster',\n",
       " 'discussion',\n",
       " 'dots',\n",
       " 'driver',\n",
       " 'ed',\n",
       " 'efficiency',\n",
       " 'em',\n",
       " 'emissions',\n",
       " 'engine',\n",
       " 'error',\n",
       " 'evolve',\n",
       " 'existing',\n",
       " 'explanation',\n",
       " 'exponential',\n",
       " 'extinction',\n",
       " 'fake',\n",
       " 'falling',\n",
       " 'features',\n",
       " 'feedback',\n",
       " 'finger',\n",
       " 'fold',\n",
       " 'francisco',\n",
       " 'fund',\n",
       " 'furniture',\n",
       " 'fusion',\n",
       " 'gang',\n",
       " 'genome',\n",
       " 'gentlemen',\n",
       " 'gray',\n",
       " 'grid',\n",
       " 'gun',\n",
       " 'hardware',\n",
       " 'hollywood',\n",
       " 'ii',\n",
       " 'infinite',\n",
       " 'infrastructure',\n",
       " 'input',\n",
       " 'interface',\n",
       " 'internal',\n",
       " 'invent',\n",
       " 'kb',\n",
       " 'ladies',\n",
       " 'laser',\n",
       " 'lets',\n",
       " 'link',\n",
       " 'logic',\n",
       " 'manufacturing',\n",
       " 'maps',\n",
       " 'master',\n",
       " 'mechanical',\n",
       " 'metaphor',\n",
       " 'mile',\n",
       " 'mit',\n",
       " 'moore',\n",
       " 'mouse',\n",
       " 'ms',\n",
       " 'nsa',\n",
       " 'nuclear',\n",
       " 'organism',\n",
       " 'origami',\n",
       " 'ought',\n",
       " 'particle',\n",
       " 'patent',\n",
       " 'phantom',\n",
       " 'philosophy',\n",
       " 'players',\n",
       " 'plus',\n",
       " 'polio',\n",
       " 'powered',\n",
       " 'powers',\n",
       " 'presentation',\n",
       " 'prime',\n",
       " 'printing',\n",
       " 'profit',\n",
       " 'pushing',\n",
       " 'rb',\n",
       " 'records',\n",
       " 'reverse',\n",
       " 'rid',\n",
       " 'roughly',\n",
       " 'script',\n",
       " 'selling',\n",
       " 'sensors',\n",
       " 'sequence',\n",
       " 'serve',\n",
       " 'sets',\n",
       " 'shoot',\n",
       " 'shooting',\n",
       " 'simplicity',\n",
       " 'sir',\n",
       " 'skill',\n",
       " 'slavery',\n",
       " 'smallpox',\n",
       " 'sources',\n",
       " 'statistics',\n",
       " 'stem',\n",
       " 'stronger',\n",
       " 'suit',\n",
       " 'sum',\n",
       " 'sunlight',\n",
       " 'teams',\n",
       " 'thin',\n",
       " 'thomas',\n",
       " 'tonight',\n",
       " 'user',\n",
       " 'vehicle',\n",
       " 'vehicles',\n",
       " 'vertical',\n",
       " 'views',\n",
       " 'viruses',\n",
       " 'waves',\n",
       " 'weapons',\n",
       " 'wheel',\n",
       " 'windows',\n",
       " 'wire',\n",
       " 'witness']"
      ]
     },
     "execution_count": 47,
     "metadata": {},
     "output_type": "execute_result"
    }
   ],
   "source": [
    "#Words with high counts in male talks that have a low count in female talks\n",
    "list(minds[minds].index)"
   ]
  },
  {
   "cell_type": "code",
   "execution_count": 48,
   "metadata": {},
   "outputs": [],
   "source": [
    "test_index = [\"female word counts\", \"female talk numbers\",\"male word counts\", \"male talk numbers\"]\n"
   ]
  },
  {
   "cell_type": "code",
   "execution_count": 49,
   "metadata": {},
   "outputs": [],
   "source": [
    "test = pd.DataFrame([count_per_word_f, talks_per_word_f,\n",
    "                     count_per_word_m, talks_per_word_m], index = test_index).T\n",
    "\n",
    "# https://stackoverflow.com/questions/19851005/rename-pandas-dataframe-index\n",
    "# https://pandas.pydata.org/docs/reference/api/pandas.DataFrame.transpose.html"
   ]
  },
  {
   "cell_type": "code",
   "execution_count": 50,
   "metadata": {},
   "outputs": [
    {
     "data": {
      "text/html": [
       "<div>\n",
       "<style scoped>\n",
       "    .dataframe tbody tr th:only-of-type {\n",
       "        vertical-align: middle;\n",
       "    }\n",
       "\n",
       "    .dataframe tbody tr th {\n",
       "        vertical-align: top;\n",
       "    }\n",
       "\n",
       "    .dataframe thead th {\n",
       "        text-align: right;\n",
       "    }\n",
       "</style>\n",
       "<table border=\"1\" class=\"dataframe\">\n",
       "  <thead>\n",
       "    <tr style=\"text-align: right;\">\n",
       "      <th></th>\n",
       "      <th>female word counts</th>\n",
       "      <th>female talk numbers</th>\n",
       "      <th>male word counts</th>\n",
       "      <th>male talk numbers</th>\n",
       "    </tr>\n",
       "  </thead>\n",
       "  <tbody>\n",
       "    <tr>\n",
       "      <th>aakash</th>\n",
       "      <td>0</td>\n",
       "      <td>0</td>\n",
       "      <td>2</td>\n",
       "      <td>1</td>\n",
       "    </tr>\n",
       "    <tr>\n",
       "      <th>aargh</th>\n",
       "      <td>0</td>\n",
       "      <td>0</td>\n",
       "      <td>1</td>\n",
       "      <td>1</td>\n",
       "    </tr>\n",
       "    <tr>\n",
       "      <th>aaron</th>\n",
       "      <td>0</td>\n",
       "      <td>0</td>\n",
       "      <td>17</td>\n",
       "      <td>8</td>\n",
       "    </tr>\n",
       "    <tr>\n",
       "      <th>aaronson</th>\n",
       "      <td>0</td>\n",
       "      <td>0</td>\n",
       "      <td>2</td>\n",
       "      <td>1</td>\n",
       "    </tr>\n",
       "    <tr>\n",
       "      <th>aarp</th>\n",
       "      <td>0</td>\n",
       "      <td>0</td>\n",
       "      <td>1</td>\n",
       "      <td>1</td>\n",
       "    </tr>\n",
       "    <tr>\n",
       "      <th>...</th>\n",
       "      <td>...</td>\n",
       "      <td>...</td>\n",
       "      <td>...</td>\n",
       "      <td>...</td>\n",
       "    </tr>\n",
       "    <tr>\n",
       "      <th>ʾilla</th>\n",
       "      <td>1</td>\n",
       "      <td>1</td>\n",
       "      <td>0</td>\n",
       "      <td>0</td>\n",
       "    </tr>\n",
       "    <tr>\n",
       "      <th>ʾilāha</th>\n",
       "      <td>1</td>\n",
       "      <td>1</td>\n",
       "      <td>0</td>\n",
       "      <td>0</td>\n",
       "    </tr>\n",
       "    <tr>\n",
       "      <th>อย</th>\n",
       "      <td>0</td>\n",
       "      <td>0</td>\n",
       "      <td>1</td>\n",
       "      <td>1</td>\n",
       "    </tr>\n",
       "    <tr>\n",
       "      <th>อยman</th>\n",
       "      <td>0</td>\n",
       "      <td>0</td>\n",
       "      <td>1</td>\n",
       "      <td>1</td>\n",
       "    </tr>\n",
       "    <tr>\n",
       "      <th>อร</th>\n",
       "      <td>0</td>\n",
       "      <td>0</td>\n",
       "      <td>2</td>\n",
       "      <td>1</td>\n",
       "    </tr>\n",
       "  </tbody>\n",
       "</table>\n",
       "<p>38629 rows × 4 columns</p>\n",
       "</div>"
      ],
      "text/plain": [
       "          female word counts  female talk numbers  male word counts  \\\n",
       "aakash                     0                    0                 2   \n",
       "aargh                      0                    0                 1   \n",
       "aaron                      0                    0                17   \n",
       "aaronson                   0                    0                 2   \n",
       "aarp                       0                    0                 1   \n",
       "...                      ...                  ...               ...   \n",
       "ʾilla                      1                    1                 0   \n",
       "ʾilāha                     1                    1                 0   \n",
       "อย                         0                    0                 1   \n",
       "อยman                      0                    0                 1   \n",
       "อร                         0                    0                 2   \n",
       "\n",
       "          male talk numbers  \n",
       "aakash                    1  \n",
       "aargh                     1  \n",
       "aaron                     8  \n",
       "aaronson                  1  \n",
       "aarp                      1  \n",
       "...                     ...  \n",
       "ʾilla                     0  \n",
       "ʾilāha                    0  \n",
       "อย                        1  \n",
       "อยman                     1  \n",
       "อร                        1  \n",
       "\n",
       "[38629 rows x 4 columns]"
      ]
     },
     "execution_count": 50,
     "metadata": {},
     "output_type": "execute_result"
    }
   ],
   "source": [
    "\n",
    "test \n"
   ]
  },
  {
   "cell_type": "markdown",
   "metadata": {},
   "source": [
    "## Topics (NMF)"
   ]
  },
  {
   "cell_type": "code",
   "execution_count": 77,
   "metadata": {},
   "outputs": [],
   "source": [
    "k = 50\n",
    "model = NMF( init=\"nndsvd\", n_components= k ) \n",
    "# apply the model and extract the two factor matrices\n",
    "W = model.fit_transform(X.toarray())\n",
    "H = model.components_"
   ]
  },
  {
   "cell_type": "code",
   "execution_count": 78,
   "metadata": {},
   "outputs": [
    {
     "data": {
      "text/plain": [
       "((982, 50), (50, 39114))"
      ]
     },
     "execution_count": 78,
     "metadata": {},
     "output_type": "execute_result"
    }
   ],
   "source": [
    "W.shape, H.shape\n"
   ]
  },
  {
   "cell_type": "code",
   "execution_count": 79,
   "metadata": {},
   "outputs": [
    {
     "data": {
      "text/plain": [
       "array([[0.08359097, 0.09457815, 0.33408046, ..., 0.        , 0.01331387,\n",
       "        0.08311508],\n",
       "       [0.        , 0.84901706, 0.11887137, ..., 0.21670615, 0.00380442,\n",
       "        0.        ],\n",
       "       [0.        , 0.06346152, 0.48586628, ..., 0.        , 0.07611814,\n",
       "        0.        ],\n",
       "       ...,\n",
       "       [0.05763587, 0.03241103, 0.        , ..., 0.        , 0.        ,\n",
       "        0.        ],\n",
       "       [0.        , 0.08536464, 0.        , ..., 0.01363052, 0.        ,\n",
       "        0.        ],\n",
       "       [0.        , 0.        , 0.        , ..., 0.        , 0.        ,\n",
       "        0.01514686]])"
      ]
     },
     "execution_count": 79,
     "metadata": {},
     "output_type": "execute_result"
    }
   ],
   "source": [
    "W"
   ]
  },
  {
   "cell_type": "code",
   "execution_count": 80,
   "metadata": {},
   "outputs": [
    {
     "data": {
      "text/plain": [
       "array([[0.        , 0.        , 0.        , ..., 0.        , 0.        ,\n",
       "        0.        ],\n",
       "       [0.        , 0.        , 0.        , ..., 0.        , 0.        ,\n",
       "        0.        ],\n",
       "       [0.        , 0.4426669 , 0.        , ..., 0.        , 0.        ,\n",
       "        0.        ],\n",
       "       ...,\n",
       "       [0.        , 0.01537929, 0.        , ..., 0.        , 0.        ,\n",
       "        0.        ],\n",
       "       [0.        , 0.        , 0.        , ..., 0.        , 0.        ,\n",
       "        0.        ],\n",
       "       [0.        , 0.16492623, 0.        , ..., 0.        , 0.        ,\n",
       "        0.        ]])"
      ]
     },
     "execution_count": 80,
     "metadata": {},
     "output_type": "execute_result"
    }
   ],
   "source": [
    "H"
   ]
  },
  {
   "cell_type": "code",
   "execution_count": 81,
   "metadata": {},
   "outputs": [
    {
     "data": {
      "text/plain": [
       "(50, 39114)"
      ]
     },
     "execution_count": 81,
     "metadata": {},
     "output_type": "execute_result"
    }
   ],
   "source": [
    "# Topic-word matrix: \n",
    "\n",
    "tw_df = pd.DataFrame(H, columns = vectorizer.get_feature_names_out())\n",
    "tw_df.shape"
   ]
  },
  {
   "cell_type": "code",
   "execution_count": 82,
   "metadata": {},
   "outputs": [
    {
     "data": {
      "text/plain": [
       "(50, 38325)"
      ]
     },
     "execution_count": 82,
     "metadata": {},
     "output_type": "execute_result"
    }
   ],
   "source": [
    "tw_trunc = tw_df.iloc[:,789:]\n",
    "tw_trunc.shape"
   ]
  },
  {
   "cell_type": "code",
   "execution_count": 65,
   "metadata": {
    "collapsed": true
   },
   "outputs": [
    {
     "data": {
      "text/html": [
       "<div>\n",
       "<style scoped>\n",
       "    .dataframe tbody tr th:only-of-type {\n",
       "        vertical-align: middle;\n",
       "    }\n",
       "\n",
       "    .dataframe tbody tr th {\n",
       "        vertical-align: top;\n",
       "    }\n",
       "\n",
       "    .dataframe thead th {\n",
       "        text-align: right;\n",
       "    }\n",
       "</style>\n",
       "<table border=\"1\" class=\"dataframe\">\n",
       "  <thead>\n",
       "    <tr style=\"text-align: right;\">\n",
       "      <th></th>\n",
       "      <th>aakash</th>\n",
       "      <th>aargh</th>\n",
       "      <th>aaron</th>\n",
       "      <th>aaronson</th>\n",
       "      <th>aarp</th>\n",
       "      <th>aat</th>\n",
       "      <th>aatcagggaccc</th>\n",
       "      <th>ab</th>\n",
       "      <th>ab32</th>\n",
       "      <th>ababa</th>\n",
       "      <th>...</th>\n",
       "      <th>ñamu</th>\n",
       "      <th>übernerd</th>\n",
       "      <th>ālep</th>\n",
       "      <th>čapek</th>\n",
       "      <th>ʾan</th>\n",
       "      <th>ʾilla</th>\n",
       "      <th>ʾilāha</th>\n",
       "      <th>อย</th>\n",
       "      <th>อยman</th>\n",
       "      <th>อร</th>\n",
       "    </tr>\n",
       "  </thead>\n",
       "  <tbody>\n",
       "    <tr>\n",
       "      <th>0</th>\n",
       "      <td>0.000000</td>\n",
       "      <td>0.000000</td>\n",
       "      <td>0.000000</td>\n",
       "      <td>0.000000</td>\n",
       "      <td>0.000000</td>\n",
       "      <td>0.000000</td>\n",
       "      <td>0.000000</td>\n",
       "      <td>0.000000</td>\n",
       "      <td>0.000000</td>\n",
       "      <td>0.000000</td>\n",
       "      <td>...</td>\n",
       "      <td>0.000000</td>\n",
       "      <td>0.000000</td>\n",
       "      <td>0.000000</td>\n",
       "      <td>0.000000</td>\n",
       "      <td>0.000000</td>\n",
       "      <td>0.000000</td>\n",
       "      <td>0.000000</td>\n",
       "      <td>0.000000</td>\n",
       "      <td>0.000000</td>\n",
       "      <td>0.000000</td>\n",
       "    </tr>\n",
       "    <tr>\n",
       "      <th>1</th>\n",
       "      <td>0.000000</td>\n",
       "      <td>0.000000</td>\n",
       "      <td>0.000000</td>\n",
       "      <td>0.000000</td>\n",
       "      <td>0.000000</td>\n",
       "      <td>0.000000</td>\n",
       "      <td>0.001530</td>\n",
       "      <td>0.000000</td>\n",
       "      <td>0.000000</td>\n",
       "      <td>0.000000</td>\n",
       "      <td>...</td>\n",
       "      <td>0.000000</td>\n",
       "      <td>0.000000</td>\n",
       "      <td>0.000000</td>\n",
       "      <td>0.000000</td>\n",
       "      <td>0.000000</td>\n",
       "      <td>0.000000</td>\n",
       "      <td>0.000000</td>\n",
       "      <td>0.000000</td>\n",
       "      <td>0.000000</td>\n",
       "      <td>0.000000</td>\n",
       "    </tr>\n",
       "    <tr>\n",
       "      <th>2</th>\n",
       "      <td>0.000000</td>\n",
       "      <td>0.000000</td>\n",
       "      <td>0.000000</td>\n",
       "      <td>0.000000</td>\n",
       "      <td>0.000000</td>\n",
       "      <td>0.000000</td>\n",
       "      <td>0.000000</td>\n",
       "      <td>0.000000</td>\n",
       "      <td>0.000000</td>\n",
       "      <td>0.000000</td>\n",
       "      <td>...</td>\n",
       "      <td>0.000000</td>\n",
       "      <td>0.000000</td>\n",
       "      <td>0.000000</td>\n",
       "      <td>0.000000</td>\n",
       "      <td>0.000000</td>\n",
       "      <td>0.000000</td>\n",
       "      <td>0.000000</td>\n",
       "      <td>0.000000</td>\n",
       "      <td>0.000000</td>\n",
       "      <td>0.000000</td>\n",
       "    </tr>\n",
       "    <tr>\n",
       "      <th>3</th>\n",
       "      <td>0.000000</td>\n",
       "      <td>0.000000</td>\n",
       "      <td>0.000000</td>\n",
       "      <td>0.000000</td>\n",
       "      <td>0.000000</td>\n",
       "      <td>0.001780</td>\n",
       "      <td>0.000000</td>\n",
       "      <td>0.000000</td>\n",
       "      <td>0.000000</td>\n",
       "      <td>0.000000</td>\n",
       "      <td>...</td>\n",
       "      <td>0.000000</td>\n",
       "      <td>0.000000</td>\n",
       "      <td>0.000000</td>\n",
       "      <td>0.000000</td>\n",
       "      <td>0.000000</td>\n",
       "      <td>0.000000</td>\n",
       "      <td>0.000000</td>\n",
       "      <td>0.000000</td>\n",
       "      <td>0.000000</td>\n",
       "      <td>0.000000</td>\n",
       "    </tr>\n",
       "    <tr>\n",
       "      <th>4</th>\n",
       "      <td>0.000000</td>\n",
       "      <td>0.000000</td>\n",
       "      <td>0.000000</td>\n",
       "      <td>0.000000</td>\n",
       "      <td>0.000000</td>\n",
       "      <td>0.000000</td>\n",
       "      <td>0.000000</td>\n",
       "      <td>0.000000</td>\n",
       "      <td>0.000000</td>\n",
       "      <td>0.000000</td>\n",
       "      <td>...</td>\n",
       "      <td>0.000000</td>\n",
       "      <td>0.000000</td>\n",
       "      <td>0.000000</td>\n",
       "      <td>0.000000</td>\n",
       "      <td>0.001225</td>\n",
       "      <td>0.001225</td>\n",
       "      <td>0.001225</td>\n",
       "      <td>0.000000</td>\n",
       "      <td>0.000000</td>\n",
       "      <td>0.000000</td>\n",
       "    </tr>\n",
       "    <tr>\n",
       "      <th>5</th>\n",
       "      <td>0.000000</td>\n",
       "      <td>0.000000</td>\n",
       "      <td>0.000000</td>\n",
       "      <td>0.000000</td>\n",
       "      <td>0.000000</td>\n",
       "      <td>0.000000</td>\n",
       "      <td>0.000000</td>\n",
       "      <td>0.000000</td>\n",
       "      <td>0.000000</td>\n",
       "      <td>0.000000</td>\n",
       "      <td>...</td>\n",
       "      <td>0.000000</td>\n",
       "      <td>0.000000</td>\n",
       "      <td>0.000000</td>\n",
       "      <td>0.000000</td>\n",
       "      <td>0.000000</td>\n",
       "      <td>0.000000</td>\n",
       "      <td>0.000000</td>\n",
       "      <td>0.000000</td>\n",
       "      <td>0.000000</td>\n",
       "      <td>0.000000</td>\n",
       "    </tr>\n",
       "    <tr>\n",
       "      <th>6</th>\n",
       "      <td>0.000000</td>\n",
       "      <td>0.000000</td>\n",
       "      <td>0.000000</td>\n",
       "      <td>0.000000</td>\n",
       "      <td>0.000000</td>\n",
       "      <td>0.000000</td>\n",
       "      <td>0.000000</td>\n",
       "      <td>0.000000</td>\n",
       "      <td>0.000000</td>\n",
       "      <td>0.000000</td>\n",
       "      <td>...</td>\n",
       "      <td>0.000000</td>\n",
       "      <td>0.000000</td>\n",
       "      <td>0.000000</td>\n",
       "      <td>0.000000</td>\n",
       "      <td>0.000000</td>\n",
       "      <td>0.000000</td>\n",
       "      <td>0.000000</td>\n",
       "      <td>0.000000</td>\n",
       "      <td>0.000000</td>\n",
       "      <td>0.000000</td>\n",
       "    </tr>\n",
       "    <tr>\n",
       "      <th>7</th>\n",
       "      <td>0.000000</td>\n",
       "      <td>0.000000</td>\n",
       "      <td>0.025906</td>\n",
       "      <td>0.000000</td>\n",
       "      <td>0.000000</td>\n",
       "      <td>0.000000</td>\n",
       "      <td>0.004196</td>\n",
       "      <td>0.000000</td>\n",
       "      <td>0.000000</td>\n",
       "      <td>0.000000</td>\n",
       "      <td>...</td>\n",
       "      <td>0.000000</td>\n",
       "      <td>0.000000</td>\n",
       "      <td>0.000000</td>\n",
       "      <td>0.000000</td>\n",
       "      <td>0.000000</td>\n",
       "      <td>0.000000</td>\n",
       "      <td>0.000000</td>\n",
       "      <td>0.000000</td>\n",
       "      <td>0.000000</td>\n",
       "      <td>0.000000</td>\n",
       "    </tr>\n",
       "    <tr>\n",
       "      <th>8</th>\n",
       "      <td>0.001323</td>\n",
       "      <td>0.000000</td>\n",
       "      <td>0.000000</td>\n",
       "      <td>0.006080</td>\n",
       "      <td>0.000000</td>\n",
       "      <td>0.000000</td>\n",
       "      <td>0.000000</td>\n",
       "      <td>0.000000</td>\n",
       "      <td>0.000000</td>\n",
       "      <td>0.000000</td>\n",
       "      <td>...</td>\n",
       "      <td>0.000000</td>\n",
       "      <td>0.000000</td>\n",
       "      <td>0.000000</td>\n",
       "      <td>0.000122</td>\n",
       "      <td>0.000000</td>\n",
       "      <td>0.000000</td>\n",
       "      <td>0.000000</td>\n",
       "      <td>0.000000</td>\n",
       "      <td>0.000000</td>\n",
       "      <td>0.000000</td>\n",
       "    </tr>\n",
       "    <tr>\n",
       "      <th>9</th>\n",
       "      <td>0.000000</td>\n",
       "      <td>0.000000</td>\n",
       "      <td>0.000000</td>\n",
       "      <td>0.000000</td>\n",
       "      <td>0.000000</td>\n",
       "      <td>0.000000</td>\n",
       "      <td>0.000000</td>\n",
       "      <td>0.000000</td>\n",
       "      <td>0.000000</td>\n",
       "      <td>0.000000</td>\n",
       "      <td>...</td>\n",
       "      <td>0.000000</td>\n",
       "      <td>0.000000</td>\n",
       "      <td>0.001680</td>\n",
       "      <td>0.000000</td>\n",
       "      <td>0.000000</td>\n",
       "      <td>0.000000</td>\n",
       "      <td>0.000000</td>\n",
       "      <td>0.000000</td>\n",
       "      <td>0.000000</td>\n",
       "      <td>0.000000</td>\n",
       "    </tr>\n",
       "    <tr>\n",
       "      <th>10</th>\n",
       "      <td>0.000000</td>\n",
       "      <td>0.000000</td>\n",
       "      <td>0.000000</td>\n",
       "      <td>0.000000</td>\n",
       "      <td>0.007929</td>\n",
       "      <td>0.000000</td>\n",
       "      <td>0.000000</td>\n",
       "      <td>0.000000</td>\n",
       "      <td>0.000000</td>\n",
       "      <td>0.000000</td>\n",
       "      <td>...</td>\n",
       "      <td>0.009121</td>\n",
       "      <td>0.000000</td>\n",
       "      <td>0.000000</td>\n",
       "      <td>0.000000</td>\n",
       "      <td>0.000000</td>\n",
       "      <td>0.000000</td>\n",
       "      <td>0.000000</td>\n",
       "      <td>0.000000</td>\n",
       "      <td>0.000000</td>\n",
       "      <td>0.000000</td>\n",
       "    </tr>\n",
       "    <tr>\n",
       "      <th>11</th>\n",
       "      <td>0.000000</td>\n",
       "      <td>0.000000</td>\n",
       "      <td>0.000000</td>\n",
       "      <td>0.000000</td>\n",
       "      <td>0.000000</td>\n",
       "      <td>0.000000</td>\n",
       "      <td>0.000000</td>\n",
       "      <td>0.000000</td>\n",
       "      <td>0.000000</td>\n",
       "      <td>0.000000</td>\n",
       "      <td>...</td>\n",
       "      <td>0.000000</td>\n",
       "      <td>0.000000</td>\n",
       "      <td>0.000521</td>\n",
       "      <td>0.000000</td>\n",
       "      <td>0.000000</td>\n",
       "      <td>0.000000</td>\n",
       "      <td>0.000000</td>\n",
       "      <td>0.000000</td>\n",
       "      <td>0.000000</td>\n",
       "      <td>0.000000</td>\n",
       "    </tr>\n",
       "    <tr>\n",
       "      <th>12</th>\n",
       "      <td>0.000000</td>\n",
       "      <td>0.000000</td>\n",
       "      <td>0.000000</td>\n",
       "      <td>0.000000</td>\n",
       "      <td>0.000000</td>\n",
       "      <td>0.000000</td>\n",
       "      <td>0.000000</td>\n",
       "      <td>0.000000</td>\n",
       "      <td>0.000000</td>\n",
       "      <td>0.000000</td>\n",
       "      <td>...</td>\n",
       "      <td>0.001539</td>\n",
       "      <td>0.000000</td>\n",
       "      <td>0.000000</td>\n",
       "      <td>0.000000</td>\n",
       "      <td>0.000000</td>\n",
       "      <td>0.000000</td>\n",
       "      <td>0.000000</td>\n",
       "      <td>0.000000</td>\n",
       "      <td>0.000000</td>\n",
       "      <td>0.000000</td>\n",
       "    </tr>\n",
       "    <tr>\n",
       "      <th>13</th>\n",
       "      <td>0.000000</td>\n",
       "      <td>0.000000</td>\n",
       "      <td>0.000000</td>\n",
       "      <td>0.000000</td>\n",
       "      <td>0.000000</td>\n",
       "      <td>0.000000</td>\n",
       "      <td>0.000000</td>\n",
       "      <td>0.000000</td>\n",
       "      <td>0.000000</td>\n",
       "      <td>0.000000</td>\n",
       "      <td>...</td>\n",
       "      <td>0.000000</td>\n",
       "      <td>0.000000</td>\n",
       "      <td>0.000000</td>\n",
       "      <td>0.000000</td>\n",
       "      <td>0.003855</td>\n",
       "      <td>0.003855</td>\n",
       "      <td>0.003855</td>\n",
       "      <td>0.000000</td>\n",
       "      <td>0.000000</td>\n",
       "      <td>0.000000</td>\n",
       "    </tr>\n",
       "    <tr>\n",
       "      <th>14</th>\n",
       "      <td>0.000000</td>\n",
       "      <td>0.000000</td>\n",
       "      <td>0.000000</td>\n",
       "      <td>0.010174</td>\n",
       "      <td>0.000000</td>\n",
       "      <td>0.000000</td>\n",
       "      <td>0.000000</td>\n",
       "      <td>0.000000</td>\n",
       "      <td>0.000000</td>\n",
       "      <td>0.000000</td>\n",
       "      <td>...</td>\n",
       "      <td>0.000000</td>\n",
       "      <td>0.000000</td>\n",
       "      <td>0.000000</td>\n",
       "      <td>0.000000</td>\n",
       "      <td>0.000000</td>\n",
       "      <td>0.000000</td>\n",
       "      <td>0.000000</td>\n",
       "      <td>0.000000</td>\n",
       "      <td>0.000000</td>\n",
       "      <td>0.000000</td>\n",
       "    </tr>\n",
       "    <tr>\n",
       "      <th>15</th>\n",
       "      <td>0.000000</td>\n",
       "      <td>0.000000</td>\n",
       "      <td>0.063254</td>\n",
       "      <td>0.000000</td>\n",
       "      <td>0.000000</td>\n",
       "      <td>0.000000</td>\n",
       "      <td>0.000000</td>\n",
       "      <td>0.000000</td>\n",
       "      <td>0.000000</td>\n",
       "      <td>0.000000</td>\n",
       "      <td>...</td>\n",
       "      <td>0.000000</td>\n",
       "      <td>0.000000</td>\n",
       "      <td>0.000000</td>\n",
       "      <td>0.000000</td>\n",
       "      <td>0.000000</td>\n",
       "      <td>0.000000</td>\n",
       "      <td>0.000000</td>\n",
       "      <td>0.000000</td>\n",
       "      <td>0.000000</td>\n",
       "      <td>0.000000</td>\n",
       "    </tr>\n",
       "    <tr>\n",
       "      <th>16</th>\n",
       "      <td>0.000000</td>\n",
       "      <td>0.000000</td>\n",
       "      <td>0.055472</td>\n",
       "      <td>0.000000</td>\n",
       "      <td>0.000000</td>\n",
       "      <td>0.000000</td>\n",
       "      <td>0.000000</td>\n",
       "      <td>0.000000</td>\n",
       "      <td>0.000125</td>\n",
       "      <td>0.000000</td>\n",
       "      <td>...</td>\n",
       "      <td>0.000000</td>\n",
       "      <td>0.000000</td>\n",
       "      <td>0.000000</td>\n",
       "      <td>0.000000</td>\n",
       "      <td>0.000000</td>\n",
       "      <td>0.000000</td>\n",
       "      <td>0.000000</td>\n",
       "      <td>0.000000</td>\n",
       "      <td>0.000000</td>\n",
       "      <td>0.000000</td>\n",
       "    </tr>\n",
       "    <tr>\n",
       "      <th>17</th>\n",
       "      <td>0.000000</td>\n",
       "      <td>0.000000</td>\n",
       "      <td>0.000000</td>\n",
       "      <td>0.000000</td>\n",
       "      <td>0.000000</td>\n",
       "      <td>0.000000</td>\n",
       "      <td>0.000000</td>\n",
       "      <td>0.000000</td>\n",
       "      <td>0.005037</td>\n",
       "      <td>0.000000</td>\n",
       "      <td>...</td>\n",
       "      <td>0.000000</td>\n",
       "      <td>0.000000</td>\n",
       "      <td>0.000000</td>\n",
       "      <td>0.000000</td>\n",
       "      <td>0.000000</td>\n",
       "      <td>0.000000</td>\n",
       "      <td>0.000000</td>\n",
       "      <td>0.000000</td>\n",
       "      <td>0.000000</td>\n",
       "      <td>0.000000</td>\n",
       "    </tr>\n",
       "    <tr>\n",
       "      <th>18</th>\n",
       "      <td>0.000000</td>\n",
       "      <td>0.000000</td>\n",
       "      <td>0.000000</td>\n",
       "      <td>0.000000</td>\n",
       "      <td>0.000000</td>\n",
       "      <td>0.000000</td>\n",
       "      <td>0.000000</td>\n",
       "      <td>0.000000</td>\n",
       "      <td>0.000000</td>\n",
       "      <td>0.000000</td>\n",
       "      <td>...</td>\n",
       "      <td>0.000000</td>\n",
       "      <td>0.000000</td>\n",
       "      <td>0.000000</td>\n",
       "      <td>0.000000</td>\n",
       "      <td>0.000000</td>\n",
       "      <td>0.000000</td>\n",
       "      <td>0.000000</td>\n",
       "      <td>0.000805</td>\n",
       "      <td>0.000805</td>\n",
       "      <td>0.001610</td>\n",
       "    </tr>\n",
       "    <tr>\n",
       "      <th>19</th>\n",
       "      <td>0.000000</td>\n",
       "      <td>0.000000</td>\n",
       "      <td>0.000000</td>\n",
       "      <td>0.000000</td>\n",
       "      <td>0.000000</td>\n",
       "      <td>0.000000</td>\n",
       "      <td>0.000000</td>\n",
       "      <td>0.000000</td>\n",
       "      <td>0.000000</td>\n",
       "      <td>0.000000</td>\n",
       "      <td>...</td>\n",
       "      <td>0.000000</td>\n",
       "      <td>0.000000</td>\n",
       "      <td>0.001985</td>\n",
       "      <td>0.000000</td>\n",
       "      <td>0.000000</td>\n",
       "      <td>0.000000</td>\n",
       "      <td>0.000000</td>\n",
       "      <td>0.000000</td>\n",
       "      <td>0.000000</td>\n",
       "      <td>0.000000</td>\n",
       "    </tr>\n",
       "    <tr>\n",
       "      <th>20</th>\n",
       "      <td>0.000000</td>\n",
       "      <td>0.000000</td>\n",
       "      <td>0.000000</td>\n",
       "      <td>0.000000</td>\n",
       "      <td>0.006386</td>\n",
       "      <td>0.000000</td>\n",
       "      <td>0.000000</td>\n",
       "      <td>0.000000</td>\n",
       "      <td>0.000000</td>\n",
       "      <td>0.000000</td>\n",
       "      <td>...</td>\n",
       "      <td>0.000000</td>\n",
       "      <td>0.000000</td>\n",
       "      <td>0.000000</td>\n",
       "      <td>0.000000</td>\n",
       "      <td>0.015155</td>\n",
       "      <td>0.015155</td>\n",
       "      <td>0.015155</td>\n",
       "      <td>0.000000</td>\n",
       "      <td>0.000000</td>\n",
       "      <td>0.000000</td>\n",
       "    </tr>\n",
       "    <tr>\n",
       "      <th>21</th>\n",
       "      <td>0.022538</td>\n",
       "      <td>0.000000</td>\n",
       "      <td>0.000000</td>\n",
       "      <td>0.000000</td>\n",
       "      <td>0.000000</td>\n",
       "      <td>0.004189</td>\n",
       "      <td>0.000000</td>\n",
       "      <td>0.000000</td>\n",
       "      <td>0.000000</td>\n",
       "      <td>0.000000</td>\n",
       "      <td>...</td>\n",
       "      <td>0.000000</td>\n",
       "      <td>0.000000</td>\n",
       "      <td>0.000000</td>\n",
       "      <td>0.000000</td>\n",
       "      <td>0.000000</td>\n",
       "      <td>0.000000</td>\n",
       "      <td>0.000000</td>\n",
       "      <td>0.000000</td>\n",
       "      <td>0.000000</td>\n",
       "      <td>0.000000</td>\n",
       "    </tr>\n",
       "    <tr>\n",
       "      <th>22</th>\n",
       "      <td>0.000000</td>\n",
       "      <td>0.000000</td>\n",
       "      <td>0.000000</td>\n",
       "      <td>0.000000</td>\n",
       "      <td>0.000000</td>\n",
       "      <td>0.000000</td>\n",
       "      <td>0.000000</td>\n",
       "      <td>0.062426</td>\n",
       "      <td>0.000000</td>\n",
       "      <td>0.000000</td>\n",
       "      <td>...</td>\n",
       "      <td>0.000000</td>\n",
       "      <td>0.000000</td>\n",
       "      <td>0.000000</td>\n",
       "      <td>0.000000</td>\n",
       "      <td>0.000000</td>\n",
       "      <td>0.000000</td>\n",
       "      <td>0.000000</td>\n",
       "      <td>0.000299</td>\n",
       "      <td>0.000299</td>\n",
       "      <td>0.000597</td>\n",
       "    </tr>\n",
       "    <tr>\n",
       "      <th>23</th>\n",
       "      <td>0.003690</td>\n",
       "      <td>0.122912</td>\n",
       "      <td>0.000000</td>\n",
       "      <td>0.000000</td>\n",
       "      <td>0.000000</td>\n",
       "      <td>0.004717</td>\n",
       "      <td>0.000000</td>\n",
       "      <td>1.039311</td>\n",
       "      <td>0.000000</td>\n",
       "      <td>0.000000</td>\n",
       "      <td>...</td>\n",
       "      <td>0.000000</td>\n",
       "      <td>0.000000</td>\n",
       "      <td>0.000000</td>\n",
       "      <td>0.000514</td>\n",
       "      <td>0.000000</td>\n",
       "      <td>0.000000</td>\n",
       "      <td>0.000000</td>\n",
       "      <td>0.000000</td>\n",
       "      <td>0.000000</td>\n",
       "      <td>0.000000</td>\n",
       "    </tr>\n",
       "    <tr>\n",
       "      <th>24</th>\n",
       "      <td>0.000000</td>\n",
       "      <td>0.000000</td>\n",
       "      <td>0.000000</td>\n",
       "      <td>0.000000</td>\n",
       "      <td>0.000000</td>\n",
       "      <td>0.000000</td>\n",
       "      <td>0.000000</td>\n",
       "      <td>0.000000</td>\n",
       "      <td>0.000000</td>\n",
       "      <td>0.000000</td>\n",
       "      <td>...</td>\n",
       "      <td>0.000000</td>\n",
       "      <td>0.000000</td>\n",
       "      <td>0.000000</td>\n",
       "      <td>0.000000</td>\n",
       "      <td>0.000000</td>\n",
       "      <td>0.000000</td>\n",
       "      <td>0.000000</td>\n",
       "      <td>0.000000</td>\n",
       "      <td>0.000000</td>\n",
       "      <td>0.000000</td>\n",
       "    </tr>\n",
       "    <tr>\n",
       "      <th>25</th>\n",
       "      <td>0.000000</td>\n",
       "      <td>0.000000</td>\n",
       "      <td>0.000000</td>\n",
       "      <td>0.000000</td>\n",
       "      <td>0.000000</td>\n",
       "      <td>0.000000</td>\n",
       "      <td>0.000000</td>\n",
       "      <td>0.000000</td>\n",
       "      <td>0.000000</td>\n",
       "      <td>0.000000</td>\n",
       "      <td>...</td>\n",
       "      <td>0.000000</td>\n",
       "      <td>0.000000</td>\n",
       "      <td>0.000000</td>\n",
       "      <td>0.000000</td>\n",
       "      <td>0.000000</td>\n",
       "      <td>0.000000</td>\n",
       "      <td>0.000000</td>\n",
       "      <td>0.000000</td>\n",
       "      <td>0.000000</td>\n",
       "      <td>0.000000</td>\n",
       "    </tr>\n",
       "    <tr>\n",
       "      <th>26</th>\n",
       "      <td>0.000000</td>\n",
       "      <td>0.000000</td>\n",
       "      <td>0.000000</td>\n",
       "      <td>0.000000</td>\n",
       "      <td>0.000000</td>\n",
       "      <td>0.000000</td>\n",
       "      <td>0.000000</td>\n",
       "      <td>0.000000</td>\n",
       "      <td>0.000000</td>\n",
       "      <td>0.000000</td>\n",
       "      <td>...</td>\n",
       "      <td>0.000000</td>\n",
       "      <td>0.000000</td>\n",
       "      <td>0.000000</td>\n",
       "      <td>0.000000</td>\n",
       "      <td>0.000000</td>\n",
       "      <td>0.000000</td>\n",
       "      <td>0.000000</td>\n",
       "      <td>0.000000</td>\n",
       "      <td>0.000000</td>\n",
       "      <td>0.000000</td>\n",
       "    </tr>\n",
       "    <tr>\n",
       "      <th>27</th>\n",
       "      <td>0.000000</td>\n",
       "      <td>0.000000</td>\n",
       "      <td>0.000000</td>\n",
       "      <td>0.000000</td>\n",
       "      <td>0.000000</td>\n",
       "      <td>0.000000</td>\n",
       "      <td>0.000000</td>\n",
       "      <td>0.205143</td>\n",
       "      <td>0.000000</td>\n",
       "      <td>0.000000</td>\n",
       "      <td>...</td>\n",
       "      <td>0.000000</td>\n",
       "      <td>0.000000</td>\n",
       "      <td>0.000000</td>\n",
       "      <td>0.000000</td>\n",
       "      <td>0.000000</td>\n",
       "      <td>0.000000</td>\n",
       "      <td>0.000000</td>\n",
       "      <td>0.000000</td>\n",
       "      <td>0.000000</td>\n",
       "      <td>0.000000</td>\n",
       "    </tr>\n",
       "    <tr>\n",
       "      <th>28</th>\n",
       "      <td>0.000000</td>\n",
       "      <td>0.000000</td>\n",
       "      <td>0.000000</td>\n",
       "      <td>0.000000</td>\n",
       "      <td>0.000000</td>\n",
       "      <td>0.000000</td>\n",
       "      <td>0.000000</td>\n",
       "      <td>0.000000</td>\n",
       "      <td>0.000000</td>\n",
       "      <td>0.000000</td>\n",
       "      <td>...</td>\n",
       "      <td>0.000000</td>\n",
       "      <td>0.000000</td>\n",
       "      <td>0.000000</td>\n",
       "      <td>0.000000</td>\n",
       "      <td>0.000000</td>\n",
       "      <td>0.000000</td>\n",
       "      <td>0.000000</td>\n",
       "      <td>0.000000</td>\n",
       "      <td>0.000000</td>\n",
       "      <td>0.000000</td>\n",
       "    </tr>\n",
       "    <tr>\n",
       "      <th>29</th>\n",
       "      <td>0.000000</td>\n",
       "      <td>0.000000</td>\n",
       "      <td>0.000000</td>\n",
       "      <td>0.000000</td>\n",
       "      <td>0.000000</td>\n",
       "      <td>0.000000</td>\n",
       "      <td>0.000000</td>\n",
       "      <td>0.000000</td>\n",
       "      <td>0.000000</td>\n",
       "      <td>0.000000</td>\n",
       "      <td>...</td>\n",
       "      <td>0.000000</td>\n",
       "      <td>0.016760</td>\n",
       "      <td>0.000000</td>\n",
       "      <td>0.000000</td>\n",
       "      <td>0.000000</td>\n",
       "      <td>0.000000</td>\n",
       "      <td>0.000000</td>\n",
       "      <td>0.001178</td>\n",
       "      <td>0.001178</td>\n",
       "      <td>0.002356</td>\n",
       "    </tr>\n",
       "    <tr>\n",
       "      <th>30</th>\n",
       "      <td>0.000000</td>\n",
       "      <td>0.000000</td>\n",
       "      <td>0.000000</td>\n",
       "      <td>0.000000</td>\n",
       "      <td>0.000000</td>\n",
       "      <td>0.011809</td>\n",
       "      <td>0.031823</td>\n",
       "      <td>0.000000</td>\n",
       "      <td>0.000000</td>\n",
       "      <td>0.000000</td>\n",
       "      <td>...</td>\n",
       "      <td>0.002933</td>\n",
       "      <td>0.000000</td>\n",
       "      <td>0.000000</td>\n",
       "      <td>0.000000</td>\n",
       "      <td>0.000000</td>\n",
       "      <td>0.000000</td>\n",
       "      <td>0.000000</td>\n",
       "      <td>0.000000</td>\n",
       "      <td>0.000000</td>\n",
       "      <td>0.000000</td>\n",
       "    </tr>\n",
       "    <tr>\n",
       "      <th>31</th>\n",
       "      <td>0.033943</td>\n",
       "      <td>0.000000</td>\n",
       "      <td>0.000000</td>\n",
       "      <td>0.000000</td>\n",
       "      <td>0.000000</td>\n",
       "      <td>0.000000</td>\n",
       "      <td>0.000000</td>\n",
       "      <td>0.000000</td>\n",
       "      <td>0.000000</td>\n",
       "      <td>0.000000</td>\n",
       "      <td>...</td>\n",
       "      <td>0.000000</td>\n",
       "      <td>0.000000</td>\n",
       "      <td>0.000000</td>\n",
       "      <td>0.000000</td>\n",
       "      <td>0.000000</td>\n",
       "      <td>0.000000</td>\n",
       "      <td>0.000000</td>\n",
       "      <td>0.000000</td>\n",
       "      <td>0.000000</td>\n",
       "      <td>0.000000</td>\n",
       "    </tr>\n",
       "    <tr>\n",
       "      <th>32</th>\n",
       "      <td>0.000000</td>\n",
       "      <td>0.000000</td>\n",
       "      <td>0.000000</td>\n",
       "      <td>0.000000</td>\n",
       "      <td>0.000000</td>\n",
       "      <td>0.000000</td>\n",
       "      <td>0.000000</td>\n",
       "      <td>0.000000</td>\n",
       "      <td>0.001051</td>\n",
       "      <td>0.000000</td>\n",
       "      <td>...</td>\n",
       "      <td>0.002524</td>\n",
       "      <td>0.000000</td>\n",
       "      <td>0.000000</td>\n",
       "      <td>0.000000</td>\n",
       "      <td>0.000000</td>\n",
       "      <td>0.000000</td>\n",
       "      <td>0.000000</td>\n",
       "      <td>0.000000</td>\n",
       "      <td>0.000000</td>\n",
       "      <td>0.000000</td>\n",
       "    </tr>\n",
       "    <tr>\n",
       "      <th>33</th>\n",
       "      <td>0.000000</td>\n",
       "      <td>0.000000</td>\n",
       "      <td>0.016834</td>\n",
       "      <td>0.003757</td>\n",
       "      <td>0.000000</td>\n",
       "      <td>0.000000</td>\n",
       "      <td>0.006335</td>\n",
       "      <td>0.025553</td>\n",
       "      <td>0.000000</td>\n",
       "      <td>0.000000</td>\n",
       "      <td>...</td>\n",
       "      <td>0.000000</td>\n",
       "      <td>0.000000</td>\n",
       "      <td>0.000000</td>\n",
       "      <td>0.000000</td>\n",
       "      <td>0.000000</td>\n",
       "      <td>0.000000</td>\n",
       "      <td>0.000000</td>\n",
       "      <td>0.000000</td>\n",
       "      <td>0.000000</td>\n",
       "      <td>0.000000</td>\n",
       "    </tr>\n",
       "    <tr>\n",
       "      <th>34</th>\n",
       "      <td>0.000000</td>\n",
       "      <td>0.000000</td>\n",
       "      <td>0.000000</td>\n",
       "      <td>0.000000</td>\n",
       "      <td>0.000000</td>\n",
       "      <td>0.000000</td>\n",
       "      <td>0.000000</td>\n",
       "      <td>0.000000</td>\n",
       "      <td>0.000000</td>\n",
       "      <td>0.000000</td>\n",
       "      <td>...</td>\n",
       "      <td>0.000000</td>\n",
       "      <td>0.000000</td>\n",
       "      <td>0.000000</td>\n",
       "      <td>0.000000</td>\n",
       "      <td>0.000000</td>\n",
       "      <td>0.000000</td>\n",
       "      <td>0.000000</td>\n",
       "      <td>0.000000</td>\n",
       "      <td>0.000000</td>\n",
       "      <td>0.000000</td>\n",
       "    </tr>\n",
       "    <tr>\n",
       "      <th>35</th>\n",
       "      <td>0.000000</td>\n",
       "      <td>0.000000</td>\n",
       "      <td>0.000000</td>\n",
       "      <td>0.000000</td>\n",
       "      <td>0.000000</td>\n",
       "      <td>0.000000</td>\n",
       "      <td>0.000000</td>\n",
       "      <td>0.000000</td>\n",
       "      <td>0.000000</td>\n",
       "      <td>0.023328</td>\n",
       "      <td>...</td>\n",
       "      <td>0.000000</td>\n",
       "      <td>0.000000</td>\n",
       "      <td>0.000433</td>\n",
       "      <td>0.000000</td>\n",
       "      <td>0.000000</td>\n",
       "      <td>0.000000</td>\n",
       "      <td>0.000000</td>\n",
       "      <td>0.000000</td>\n",
       "      <td>0.000000</td>\n",
       "      <td>0.000000</td>\n",
       "    </tr>\n",
       "    <tr>\n",
       "      <th>36</th>\n",
       "      <td>0.000000</td>\n",
       "      <td>0.000000</td>\n",
       "      <td>0.000000</td>\n",
       "      <td>0.000000</td>\n",
       "      <td>0.023049</td>\n",
       "      <td>0.000000</td>\n",
       "      <td>0.000000</td>\n",
       "      <td>0.019377</td>\n",
       "      <td>0.014647</td>\n",
       "      <td>0.000000</td>\n",
       "      <td>...</td>\n",
       "      <td>0.000000</td>\n",
       "      <td>0.000000</td>\n",
       "      <td>0.000000</td>\n",
       "      <td>0.000000</td>\n",
       "      <td>0.000000</td>\n",
       "      <td>0.000000</td>\n",
       "      <td>0.000000</td>\n",
       "      <td>0.000000</td>\n",
       "      <td>0.000000</td>\n",
       "      <td>0.000000</td>\n",
       "    </tr>\n",
       "    <tr>\n",
       "      <th>37</th>\n",
       "      <td>0.000000</td>\n",
       "      <td>0.000000</td>\n",
       "      <td>0.000000</td>\n",
       "      <td>0.000000</td>\n",
       "      <td>0.000000</td>\n",
       "      <td>0.003699</td>\n",
       "      <td>0.000000</td>\n",
       "      <td>0.000000</td>\n",
       "      <td>0.000000</td>\n",
       "      <td>0.000000</td>\n",
       "      <td>...</td>\n",
       "      <td>0.000000</td>\n",
       "      <td>0.000000</td>\n",
       "      <td>0.000000</td>\n",
       "      <td>0.000000</td>\n",
       "      <td>0.000000</td>\n",
       "      <td>0.000000</td>\n",
       "      <td>0.000000</td>\n",
       "      <td>0.000000</td>\n",
       "      <td>0.000000</td>\n",
       "      <td>0.000000</td>\n",
       "    </tr>\n",
       "    <tr>\n",
       "      <th>38</th>\n",
       "      <td>0.000000</td>\n",
       "      <td>0.000000</td>\n",
       "      <td>0.097827</td>\n",
       "      <td>0.000000</td>\n",
       "      <td>0.000000</td>\n",
       "      <td>0.000000</td>\n",
       "      <td>0.000000</td>\n",
       "      <td>0.000000</td>\n",
       "      <td>0.000000</td>\n",
       "      <td>0.018526</td>\n",
       "      <td>...</td>\n",
       "      <td>0.000000</td>\n",
       "      <td>0.012190</td>\n",
       "      <td>0.000000</td>\n",
       "      <td>0.000000</td>\n",
       "      <td>0.000000</td>\n",
       "      <td>0.000000</td>\n",
       "      <td>0.000000</td>\n",
       "      <td>0.000000</td>\n",
       "      <td>0.000000</td>\n",
       "      <td>0.000000</td>\n",
       "    </tr>\n",
       "    <tr>\n",
       "      <th>39</th>\n",
       "      <td>0.000000</td>\n",
       "      <td>0.000000</td>\n",
       "      <td>0.000000</td>\n",
       "      <td>0.000000</td>\n",
       "      <td>0.000000</td>\n",
       "      <td>0.000000</td>\n",
       "      <td>0.000000</td>\n",
       "      <td>0.000000</td>\n",
       "      <td>0.000000</td>\n",
       "      <td>0.000000</td>\n",
       "      <td>...</td>\n",
       "      <td>0.000000</td>\n",
       "      <td>0.000000</td>\n",
       "      <td>0.000000</td>\n",
       "      <td>0.000000</td>\n",
       "      <td>0.000000</td>\n",
       "      <td>0.000000</td>\n",
       "      <td>0.000000</td>\n",
       "      <td>0.000000</td>\n",
       "      <td>0.000000</td>\n",
       "      <td>0.000000</td>\n",
       "    </tr>\n",
       "    <tr>\n",
       "      <th>40</th>\n",
       "      <td>0.000000</td>\n",
       "      <td>0.000000</td>\n",
       "      <td>0.000376</td>\n",
       "      <td>0.000000</td>\n",
       "      <td>0.000000</td>\n",
       "      <td>0.000000</td>\n",
       "      <td>0.000000</td>\n",
       "      <td>0.000000</td>\n",
       "      <td>0.000000</td>\n",
       "      <td>0.000000</td>\n",
       "      <td>...</td>\n",
       "      <td>0.000000</td>\n",
       "      <td>0.017836</td>\n",
       "      <td>0.000000</td>\n",
       "      <td>0.000000</td>\n",
       "      <td>0.000103</td>\n",
       "      <td>0.000103</td>\n",
       "      <td>0.000103</td>\n",
       "      <td>0.000000</td>\n",
       "      <td>0.000000</td>\n",
       "      <td>0.000000</td>\n",
       "    </tr>\n",
       "    <tr>\n",
       "      <th>41</th>\n",
       "      <td>0.000000</td>\n",
       "      <td>0.000000</td>\n",
       "      <td>0.000000</td>\n",
       "      <td>0.000000</td>\n",
       "      <td>0.000000</td>\n",
       "      <td>0.000000</td>\n",
       "      <td>0.002902</td>\n",
       "      <td>0.000000</td>\n",
       "      <td>0.000000</td>\n",
       "      <td>0.000000</td>\n",
       "      <td>...</td>\n",
       "      <td>0.000000</td>\n",
       "      <td>0.000000</td>\n",
       "      <td>0.000000</td>\n",
       "      <td>0.000000</td>\n",
       "      <td>0.000000</td>\n",
       "      <td>0.000000</td>\n",
       "      <td>0.000000</td>\n",
       "      <td>0.000000</td>\n",
       "      <td>0.000000</td>\n",
       "      <td>0.000000</td>\n",
       "    </tr>\n",
       "    <tr>\n",
       "      <th>42</th>\n",
       "      <td>0.000000</td>\n",
       "      <td>0.000000</td>\n",
       "      <td>0.001129</td>\n",
       "      <td>0.000000</td>\n",
       "      <td>0.000000</td>\n",
       "      <td>0.000000</td>\n",
       "      <td>0.000000</td>\n",
       "      <td>0.000000</td>\n",
       "      <td>0.008014</td>\n",
       "      <td>0.000000</td>\n",
       "      <td>...</td>\n",
       "      <td>0.000000</td>\n",
       "      <td>0.000000</td>\n",
       "      <td>0.000000</td>\n",
       "      <td>0.000000</td>\n",
       "      <td>0.000000</td>\n",
       "      <td>0.000000</td>\n",
       "      <td>0.000000</td>\n",
       "      <td>0.000000</td>\n",
       "      <td>0.000000</td>\n",
       "      <td>0.000000</td>\n",
       "    </tr>\n",
       "    <tr>\n",
       "      <th>43</th>\n",
       "      <td>0.000000</td>\n",
       "      <td>0.000000</td>\n",
       "      <td>0.007165</td>\n",
       "      <td>0.000000</td>\n",
       "      <td>0.000000</td>\n",
       "      <td>0.000000</td>\n",
       "      <td>0.000000</td>\n",
       "      <td>0.110759</td>\n",
       "      <td>0.000000</td>\n",
       "      <td>0.000785</td>\n",
       "      <td>...</td>\n",
       "      <td>0.000000</td>\n",
       "      <td>0.000000</td>\n",
       "      <td>0.000000</td>\n",
       "      <td>0.001593</td>\n",
       "      <td>0.000000</td>\n",
       "      <td>0.000000</td>\n",
       "      <td>0.000000</td>\n",
       "      <td>0.000000</td>\n",
       "      <td>0.000000</td>\n",
       "      <td>0.000000</td>\n",
       "    </tr>\n",
       "    <tr>\n",
       "      <th>44</th>\n",
       "      <td>0.000000</td>\n",
       "      <td>0.000000</td>\n",
       "      <td>0.000000</td>\n",
       "      <td>0.000000</td>\n",
       "      <td>0.000000</td>\n",
       "      <td>0.000000</td>\n",
       "      <td>0.000000</td>\n",
       "      <td>0.000000</td>\n",
       "      <td>0.000000</td>\n",
       "      <td>0.000000</td>\n",
       "      <td>...</td>\n",
       "      <td>0.000000</td>\n",
       "      <td>0.000000</td>\n",
       "      <td>0.000000</td>\n",
       "      <td>0.000129</td>\n",
       "      <td>0.000000</td>\n",
       "      <td>0.000000</td>\n",
       "      <td>0.000000</td>\n",
       "      <td>0.000000</td>\n",
       "      <td>0.000000</td>\n",
       "      <td>0.000000</td>\n",
       "    </tr>\n",
       "    <tr>\n",
       "      <th>45</th>\n",
       "      <td>0.006640</td>\n",
       "      <td>0.000000</td>\n",
       "      <td>0.000000</td>\n",
       "      <td>0.000000</td>\n",
       "      <td>0.000000</td>\n",
       "      <td>0.000000</td>\n",
       "      <td>0.000000</td>\n",
       "      <td>0.000000</td>\n",
       "      <td>0.000000</td>\n",
       "      <td>0.000000</td>\n",
       "      <td>...</td>\n",
       "      <td>0.000000</td>\n",
       "      <td>0.000000</td>\n",
       "      <td>0.000000</td>\n",
       "      <td>0.004025</td>\n",
       "      <td>0.000000</td>\n",
       "      <td>0.000000</td>\n",
       "      <td>0.000000</td>\n",
       "      <td>0.000000</td>\n",
       "      <td>0.000000</td>\n",
       "      <td>0.000000</td>\n",
       "    </tr>\n",
       "    <tr>\n",
       "      <th>46</th>\n",
       "      <td>0.000000</td>\n",
       "      <td>0.000000</td>\n",
       "      <td>0.008235</td>\n",
       "      <td>0.000000</td>\n",
       "      <td>0.000000</td>\n",
       "      <td>0.000000</td>\n",
       "      <td>0.000000</td>\n",
       "      <td>0.000000</td>\n",
       "      <td>0.000000</td>\n",
       "      <td>0.000000</td>\n",
       "      <td>...</td>\n",
       "      <td>0.000000</td>\n",
       "      <td>0.000000</td>\n",
       "      <td>0.000000</td>\n",
       "      <td>0.000904</td>\n",
       "      <td>0.000000</td>\n",
       "      <td>0.000000</td>\n",
       "      <td>0.000000</td>\n",
       "      <td>0.001703</td>\n",
       "      <td>0.001703</td>\n",
       "      <td>0.003406</td>\n",
       "    </tr>\n",
       "    <tr>\n",
       "      <th>47</th>\n",
       "      <td>0.000000</td>\n",
       "      <td>0.000000</td>\n",
       "      <td>0.000000</td>\n",
       "      <td>0.001736</td>\n",
       "      <td>0.000000</td>\n",
       "      <td>0.000000</td>\n",
       "      <td>0.003111</td>\n",
       "      <td>0.000000</td>\n",
       "      <td>0.000000</td>\n",
       "      <td>0.000000</td>\n",
       "      <td>...</td>\n",
       "      <td>0.000000</td>\n",
       "      <td>0.000000</td>\n",
       "      <td>0.000000</td>\n",
       "      <td>0.000000</td>\n",
       "      <td>0.000000</td>\n",
       "      <td>0.000000</td>\n",
       "      <td>0.000000</td>\n",
       "      <td>0.000000</td>\n",
       "      <td>0.000000</td>\n",
       "      <td>0.000000</td>\n",
       "    </tr>\n",
       "    <tr>\n",
       "      <th>48</th>\n",
       "      <td>0.000000</td>\n",
       "      <td>0.000000</td>\n",
       "      <td>0.000000</td>\n",
       "      <td>0.000000</td>\n",
       "      <td>0.000000</td>\n",
       "      <td>0.000000</td>\n",
       "      <td>0.000000</td>\n",
       "      <td>0.000000</td>\n",
       "      <td>0.000000</td>\n",
       "      <td>0.000000</td>\n",
       "      <td>...</td>\n",
       "      <td>0.000000</td>\n",
       "      <td>0.000000</td>\n",
       "      <td>0.000000</td>\n",
       "      <td>0.000000</td>\n",
       "      <td>0.000000</td>\n",
       "      <td>0.000000</td>\n",
       "      <td>0.000000</td>\n",
       "      <td>0.004932</td>\n",
       "      <td>0.004932</td>\n",
       "      <td>0.009864</td>\n",
       "    </tr>\n",
       "    <tr>\n",
       "      <th>49</th>\n",
       "      <td>0.000000</td>\n",
       "      <td>0.000000</td>\n",
       "      <td>0.000000</td>\n",
       "      <td>0.000000</td>\n",
       "      <td>0.000912</td>\n",
       "      <td>0.000000</td>\n",
       "      <td>0.000000</td>\n",
       "      <td>0.000000</td>\n",
       "      <td>0.000000</td>\n",
       "      <td>0.000000</td>\n",
       "      <td>...</td>\n",
       "      <td>0.000000</td>\n",
       "      <td>0.000000</td>\n",
       "      <td>0.000634</td>\n",
       "      <td>0.000000</td>\n",
       "      <td>0.000000</td>\n",
       "      <td>0.000000</td>\n",
       "      <td>0.000000</td>\n",
       "      <td>0.000000</td>\n",
       "      <td>0.000000</td>\n",
       "      <td>0.000000</td>\n",
       "    </tr>\n",
       "  </tbody>\n",
       "</table>\n",
       "<p>50 rows × 38629 columns</p>\n",
       "</div>"
      ],
      "text/plain": [
       "      aakash     aargh     aaron  aaronson      aarp       aat  aatcagggaccc  \\\n",
       "0   0.000000  0.000000  0.000000  0.000000  0.000000  0.000000      0.000000   \n",
       "1   0.000000  0.000000  0.000000  0.000000  0.000000  0.000000      0.001530   \n",
       "2   0.000000  0.000000  0.000000  0.000000  0.000000  0.000000      0.000000   \n",
       "3   0.000000  0.000000  0.000000  0.000000  0.000000  0.001780      0.000000   \n",
       "4   0.000000  0.000000  0.000000  0.000000  0.000000  0.000000      0.000000   \n",
       "5   0.000000  0.000000  0.000000  0.000000  0.000000  0.000000      0.000000   \n",
       "6   0.000000  0.000000  0.000000  0.000000  0.000000  0.000000      0.000000   \n",
       "7   0.000000  0.000000  0.025906  0.000000  0.000000  0.000000      0.004196   \n",
       "8   0.001323  0.000000  0.000000  0.006080  0.000000  0.000000      0.000000   \n",
       "9   0.000000  0.000000  0.000000  0.000000  0.000000  0.000000      0.000000   \n",
       "10  0.000000  0.000000  0.000000  0.000000  0.007929  0.000000      0.000000   \n",
       "11  0.000000  0.000000  0.000000  0.000000  0.000000  0.000000      0.000000   \n",
       "12  0.000000  0.000000  0.000000  0.000000  0.000000  0.000000      0.000000   \n",
       "13  0.000000  0.000000  0.000000  0.000000  0.000000  0.000000      0.000000   \n",
       "14  0.000000  0.000000  0.000000  0.010174  0.000000  0.000000      0.000000   \n",
       "15  0.000000  0.000000  0.063254  0.000000  0.000000  0.000000      0.000000   \n",
       "16  0.000000  0.000000  0.055472  0.000000  0.000000  0.000000      0.000000   \n",
       "17  0.000000  0.000000  0.000000  0.000000  0.000000  0.000000      0.000000   \n",
       "18  0.000000  0.000000  0.000000  0.000000  0.000000  0.000000      0.000000   \n",
       "19  0.000000  0.000000  0.000000  0.000000  0.000000  0.000000      0.000000   \n",
       "20  0.000000  0.000000  0.000000  0.000000  0.006386  0.000000      0.000000   \n",
       "21  0.022538  0.000000  0.000000  0.000000  0.000000  0.004189      0.000000   \n",
       "22  0.000000  0.000000  0.000000  0.000000  0.000000  0.000000      0.000000   \n",
       "23  0.003690  0.122912  0.000000  0.000000  0.000000  0.004717      0.000000   \n",
       "24  0.000000  0.000000  0.000000  0.000000  0.000000  0.000000      0.000000   \n",
       "25  0.000000  0.000000  0.000000  0.000000  0.000000  0.000000      0.000000   \n",
       "26  0.000000  0.000000  0.000000  0.000000  0.000000  0.000000      0.000000   \n",
       "27  0.000000  0.000000  0.000000  0.000000  0.000000  0.000000      0.000000   \n",
       "28  0.000000  0.000000  0.000000  0.000000  0.000000  0.000000      0.000000   \n",
       "29  0.000000  0.000000  0.000000  0.000000  0.000000  0.000000      0.000000   \n",
       "30  0.000000  0.000000  0.000000  0.000000  0.000000  0.011809      0.031823   \n",
       "31  0.033943  0.000000  0.000000  0.000000  0.000000  0.000000      0.000000   \n",
       "32  0.000000  0.000000  0.000000  0.000000  0.000000  0.000000      0.000000   \n",
       "33  0.000000  0.000000  0.016834  0.003757  0.000000  0.000000      0.006335   \n",
       "34  0.000000  0.000000  0.000000  0.000000  0.000000  0.000000      0.000000   \n",
       "35  0.000000  0.000000  0.000000  0.000000  0.000000  0.000000      0.000000   \n",
       "36  0.000000  0.000000  0.000000  0.000000  0.023049  0.000000      0.000000   \n",
       "37  0.000000  0.000000  0.000000  0.000000  0.000000  0.003699      0.000000   \n",
       "38  0.000000  0.000000  0.097827  0.000000  0.000000  0.000000      0.000000   \n",
       "39  0.000000  0.000000  0.000000  0.000000  0.000000  0.000000      0.000000   \n",
       "40  0.000000  0.000000  0.000376  0.000000  0.000000  0.000000      0.000000   \n",
       "41  0.000000  0.000000  0.000000  0.000000  0.000000  0.000000      0.002902   \n",
       "42  0.000000  0.000000  0.001129  0.000000  0.000000  0.000000      0.000000   \n",
       "43  0.000000  0.000000  0.007165  0.000000  0.000000  0.000000      0.000000   \n",
       "44  0.000000  0.000000  0.000000  0.000000  0.000000  0.000000      0.000000   \n",
       "45  0.006640  0.000000  0.000000  0.000000  0.000000  0.000000      0.000000   \n",
       "46  0.000000  0.000000  0.008235  0.000000  0.000000  0.000000      0.000000   \n",
       "47  0.000000  0.000000  0.000000  0.001736  0.000000  0.000000      0.003111   \n",
       "48  0.000000  0.000000  0.000000  0.000000  0.000000  0.000000      0.000000   \n",
       "49  0.000000  0.000000  0.000000  0.000000  0.000912  0.000000      0.000000   \n",
       "\n",
       "          ab      ab32     ababa  ...      ñamu  übernerd      ālep     čapek  \\\n",
       "0   0.000000  0.000000  0.000000  ...  0.000000  0.000000  0.000000  0.000000   \n",
       "1   0.000000  0.000000  0.000000  ...  0.000000  0.000000  0.000000  0.000000   \n",
       "2   0.000000  0.000000  0.000000  ...  0.000000  0.000000  0.000000  0.000000   \n",
       "3   0.000000  0.000000  0.000000  ...  0.000000  0.000000  0.000000  0.000000   \n",
       "4   0.000000  0.000000  0.000000  ...  0.000000  0.000000  0.000000  0.000000   \n",
       "5   0.000000  0.000000  0.000000  ...  0.000000  0.000000  0.000000  0.000000   \n",
       "6   0.000000  0.000000  0.000000  ...  0.000000  0.000000  0.000000  0.000000   \n",
       "7   0.000000  0.000000  0.000000  ...  0.000000  0.000000  0.000000  0.000000   \n",
       "8   0.000000  0.000000  0.000000  ...  0.000000  0.000000  0.000000  0.000122   \n",
       "9   0.000000  0.000000  0.000000  ...  0.000000  0.000000  0.001680  0.000000   \n",
       "10  0.000000  0.000000  0.000000  ...  0.009121  0.000000  0.000000  0.000000   \n",
       "11  0.000000  0.000000  0.000000  ...  0.000000  0.000000  0.000521  0.000000   \n",
       "12  0.000000  0.000000  0.000000  ...  0.001539  0.000000  0.000000  0.000000   \n",
       "13  0.000000  0.000000  0.000000  ...  0.000000  0.000000  0.000000  0.000000   \n",
       "14  0.000000  0.000000  0.000000  ...  0.000000  0.000000  0.000000  0.000000   \n",
       "15  0.000000  0.000000  0.000000  ...  0.000000  0.000000  0.000000  0.000000   \n",
       "16  0.000000  0.000125  0.000000  ...  0.000000  0.000000  0.000000  0.000000   \n",
       "17  0.000000  0.005037  0.000000  ...  0.000000  0.000000  0.000000  0.000000   \n",
       "18  0.000000  0.000000  0.000000  ...  0.000000  0.000000  0.000000  0.000000   \n",
       "19  0.000000  0.000000  0.000000  ...  0.000000  0.000000  0.001985  0.000000   \n",
       "20  0.000000  0.000000  0.000000  ...  0.000000  0.000000  0.000000  0.000000   \n",
       "21  0.000000  0.000000  0.000000  ...  0.000000  0.000000  0.000000  0.000000   \n",
       "22  0.062426  0.000000  0.000000  ...  0.000000  0.000000  0.000000  0.000000   \n",
       "23  1.039311  0.000000  0.000000  ...  0.000000  0.000000  0.000000  0.000514   \n",
       "24  0.000000  0.000000  0.000000  ...  0.000000  0.000000  0.000000  0.000000   \n",
       "25  0.000000  0.000000  0.000000  ...  0.000000  0.000000  0.000000  0.000000   \n",
       "26  0.000000  0.000000  0.000000  ...  0.000000  0.000000  0.000000  0.000000   \n",
       "27  0.205143  0.000000  0.000000  ...  0.000000  0.000000  0.000000  0.000000   \n",
       "28  0.000000  0.000000  0.000000  ...  0.000000  0.000000  0.000000  0.000000   \n",
       "29  0.000000  0.000000  0.000000  ...  0.000000  0.016760  0.000000  0.000000   \n",
       "30  0.000000  0.000000  0.000000  ...  0.002933  0.000000  0.000000  0.000000   \n",
       "31  0.000000  0.000000  0.000000  ...  0.000000  0.000000  0.000000  0.000000   \n",
       "32  0.000000  0.001051  0.000000  ...  0.002524  0.000000  0.000000  0.000000   \n",
       "33  0.025553  0.000000  0.000000  ...  0.000000  0.000000  0.000000  0.000000   \n",
       "34  0.000000  0.000000  0.000000  ...  0.000000  0.000000  0.000000  0.000000   \n",
       "35  0.000000  0.000000  0.023328  ...  0.000000  0.000000  0.000433  0.000000   \n",
       "36  0.019377  0.014647  0.000000  ...  0.000000  0.000000  0.000000  0.000000   \n",
       "37  0.000000  0.000000  0.000000  ...  0.000000  0.000000  0.000000  0.000000   \n",
       "38  0.000000  0.000000  0.018526  ...  0.000000  0.012190  0.000000  0.000000   \n",
       "39  0.000000  0.000000  0.000000  ...  0.000000  0.000000  0.000000  0.000000   \n",
       "40  0.000000  0.000000  0.000000  ...  0.000000  0.017836  0.000000  0.000000   \n",
       "41  0.000000  0.000000  0.000000  ...  0.000000  0.000000  0.000000  0.000000   \n",
       "42  0.000000  0.008014  0.000000  ...  0.000000  0.000000  0.000000  0.000000   \n",
       "43  0.110759  0.000000  0.000785  ...  0.000000  0.000000  0.000000  0.001593   \n",
       "44  0.000000  0.000000  0.000000  ...  0.000000  0.000000  0.000000  0.000129   \n",
       "45  0.000000  0.000000  0.000000  ...  0.000000  0.000000  0.000000  0.004025   \n",
       "46  0.000000  0.000000  0.000000  ...  0.000000  0.000000  0.000000  0.000904   \n",
       "47  0.000000  0.000000  0.000000  ...  0.000000  0.000000  0.000000  0.000000   \n",
       "48  0.000000  0.000000  0.000000  ...  0.000000  0.000000  0.000000  0.000000   \n",
       "49  0.000000  0.000000  0.000000  ...  0.000000  0.000000  0.000634  0.000000   \n",
       "\n",
       "         ʾan     ʾilla    ʾilāha        อย     อยman        อร  \n",
       "0   0.000000  0.000000  0.000000  0.000000  0.000000  0.000000  \n",
       "1   0.000000  0.000000  0.000000  0.000000  0.000000  0.000000  \n",
       "2   0.000000  0.000000  0.000000  0.000000  0.000000  0.000000  \n",
       "3   0.000000  0.000000  0.000000  0.000000  0.000000  0.000000  \n",
       "4   0.001225  0.001225  0.001225  0.000000  0.000000  0.000000  \n",
       "5   0.000000  0.000000  0.000000  0.000000  0.000000  0.000000  \n",
       "6   0.000000  0.000000  0.000000  0.000000  0.000000  0.000000  \n",
       "7   0.000000  0.000000  0.000000  0.000000  0.000000  0.000000  \n",
       "8   0.000000  0.000000  0.000000  0.000000  0.000000  0.000000  \n",
       "9   0.000000  0.000000  0.000000  0.000000  0.000000  0.000000  \n",
       "10  0.000000  0.000000  0.000000  0.000000  0.000000  0.000000  \n",
       "11  0.000000  0.000000  0.000000  0.000000  0.000000  0.000000  \n",
       "12  0.000000  0.000000  0.000000  0.000000  0.000000  0.000000  \n",
       "13  0.003855  0.003855  0.003855  0.000000  0.000000  0.000000  \n",
       "14  0.000000  0.000000  0.000000  0.000000  0.000000  0.000000  \n",
       "15  0.000000  0.000000  0.000000  0.000000  0.000000  0.000000  \n",
       "16  0.000000  0.000000  0.000000  0.000000  0.000000  0.000000  \n",
       "17  0.000000  0.000000  0.000000  0.000000  0.000000  0.000000  \n",
       "18  0.000000  0.000000  0.000000  0.000805  0.000805  0.001610  \n",
       "19  0.000000  0.000000  0.000000  0.000000  0.000000  0.000000  \n",
       "20  0.015155  0.015155  0.015155  0.000000  0.000000  0.000000  \n",
       "21  0.000000  0.000000  0.000000  0.000000  0.000000  0.000000  \n",
       "22  0.000000  0.000000  0.000000  0.000299  0.000299  0.000597  \n",
       "23  0.000000  0.000000  0.000000  0.000000  0.000000  0.000000  \n",
       "24  0.000000  0.000000  0.000000  0.000000  0.000000  0.000000  \n",
       "25  0.000000  0.000000  0.000000  0.000000  0.000000  0.000000  \n",
       "26  0.000000  0.000000  0.000000  0.000000  0.000000  0.000000  \n",
       "27  0.000000  0.000000  0.000000  0.000000  0.000000  0.000000  \n",
       "28  0.000000  0.000000  0.000000  0.000000  0.000000  0.000000  \n",
       "29  0.000000  0.000000  0.000000  0.001178  0.001178  0.002356  \n",
       "30  0.000000  0.000000  0.000000  0.000000  0.000000  0.000000  \n",
       "31  0.000000  0.000000  0.000000  0.000000  0.000000  0.000000  \n",
       "32  0.000000  0.000000  0.000000  0.000000  0.000000  0.000000  \n",
       "33  0.000000  0.000000  0.000000  0.000000  0.000000  0.000000  \n",
       "34  0.000000  0.000000  0.000000  0.000000  0.000000  0.000000  \n",
       "35  0.000000  0.000000  0.000000  0.000000  0.000000  0.000000  \n",
       "36  0.000000  0.000000  0.000000  0.000000  0.000000  0.000000  \n",
       "37  0.000000  0.000000  0.000000  0.000000  0.000000  0.000000  \n",
       "38  0.000000  0.000000  0.000000  0.000000  0.000000  0.000000  \n",
       "39  0.000000  0.000000  0.000000  0.000000  0.000000  0.000000  \n",
       "40  0.000103  0.000103  0.000103  0.000000  0.000000  0.000000  \n",
       "41  0.000000  0.000000  0.000000  0.000000  0.000000  0.000000  \n",
       "42  0.000000  0.000000  0.000000  0.000000  0.000000  0.000000  \n",
       "43  0.000000  0.000000  0.000000  0.000000  0.000000  0.000000  \n",
       "44  0.000000  0.000000  0.000000  0.000000  0.000000  0.000000  \n",
       "45  0.000000  0.000000  0.000000  0.000000  0.000000  0.000000  \n",
       "46  0.000000  0.000000  0.000000  0.001703  0.001703  0.003406  \n",
       "47  0.000000  0.000000  0.000000  0.000000  0.000000  0.000000  \n",
       "48  0.000000  0.000000  0.000000  0.004932  0.004932  0.009864  \n",
       "49  0.000000  0.000000  0.000000  0.000000  0.000000  0.000000  \n",
       "\n",
       "[50 rows x 38629 columns]"
      ]
     },
     "execution_count": 65,
     "metadata": {},
     "output_type": "execute_result"
    }
   ],
   "source": [
    "tw_trunc"
   ]
  },
  {
   "cell_type": "code",
   "execution_count": 83,
   "metadata": {
    "scrolled": false
   },
   "outputs": [
    {
     "data": {
      "text/plain": [
       "array([['kind', 'little', 'thing', 'way', 'things', 'lot', 'stuff',\n",
       "        'sort', 'like', 'did', 'interesting', 'thought', 'idea', 'work',\n",
       "        'bit', 'looking', 'mean', 'got', 'make', 'right'],\n",
       "       ['like', 'right', 'okay', 'just', 'don', 'feel', 'saying', 'yeah',\n",
       "        'woman', 'ted', 'time', 'want', 'oh', 'mean', 'class', 'sex',\n",
       "        'today', 'kind', 'thank', 'future'],\n",
       "       ['people', 'person', 'lot', 'change', 'group', 'just', 'money',\n",
       "        'social', 'doing', 'different', 'everybody', 'think', 'feel',\n",
       "        'percent', 'going', 'like', 'use', 'lives', 'talk', 'city'],\n",
       "       ['time', 'day', 'new', 'did', 'started', 'years', 'didn', 'went',\n",
       "        'story', 'took', 'applause', 'wanted', 'way', 'came', 'year',\n",
       "        'thought', 'old', 'man', 'saw', 'days'],\n",
       "       ['laughter', 'like', 'applause', 'don', 'laughing', 'did', 'just',\n",
       "        'make', 'ted', 'doing', 'little', 'thing', 'course', 'say',\n",
       "        'day', 'laugh', 'look', 'think', 'book', 'doesn'],\n",
       "       ['going', 'really', 'little', 'look', 'talk', 'll', 'happen',\n",
       "        'bit', 'lot', 'use', 'way', 'future', 'doing', 'right', 'want',\n",
       "        'start', 'getting', 'change', 'don', 'able'],\n",
       "       ['brain', 'different', 'consciousness', 'brains', 'look', 'right',\n",
       "        'don', 'phantom', 'body', 'arm', 'cells', 'visual', 'mind',\n",
       "        'like', 'normal', 'ability', 'region', 'time', 'going',\n",
       "        'regions'],\n",
       "       ['ca', 'em', 'think', 'people', 'yeah', 'actually', 'just', 've',\n",
       "        'car', 'like', 'mean', 'time', 'able', 'tunnel', 'future', 'rb',\n",
       "        'tesla', 'cars', 'good', 'thing'],\n",
       "       ['said', 'laughter', 'did', 'people', 'come', 'say', 'came',\n",
       "        'didn', 'went', 'man', 'believe', 'll', 'thought', 'don', 'got',\n",
       "        'old', 'story', 'mother', 'looked', 'asked'],\n",
       "       ['think', 'way', 'really', 'just', 'self', 'actually', 'lot',\n",
       "        'experience', 'fact', 'mean', 'information', 'don', 'story',\n",
       "        'consciousness', 'architecture', 'does', 'course', 'thinking',\n",
       "        'question', 'sense'],\n",
       "       ['world', 'global', 'africa', 'countries', 'country', 'war',\n",
       "        'change', 'china', 'great', 've', 'future', 'ideas', 'human',\n",
       "        'today', 'course', 'live', 'poverty', 'states', 'united',\n",
       "        'health'],\n",
       "       ['building', 'city', 'buildings', 'architecture', 'space', 'new',\n",
       "        'kind', 'built', 'make', 'work', 'place', 'house', 'project',\n",
       "        'build', 'public', 'just', 'cities', 'site', 'center', 'idea'],\n",
       "       ['earth', 'mars', 'planet', 'years', 'water', 'ice', 'surface',\n",
       "        'life', 'atmosphere', 'ocean', 'solar', 'climate', 'ago',\n",
       "        'planets', 'sea', 'need', 'sun', 'time', 'clouds', 'moon'],\n",
       "       ['ok', 'kb', 'right', 'want', 'applause', 'finger', 'll', 'hand',\n",
       "        'laughter', 'look', 'going', 'yes', 'sj', 'oh', 'moment', 'kt',\n",
       "        'try', 'eyes', 'know', 've'],\n",
       "       ['music', 'sound', 'play', 'sounds', 'way', 'piece', 'applause',\n",
       "        'hear', 'make', 'dan', 'song', 'drum', 'new', 'like',\n",
       "        'experience', 'classical', 'head', 'come', 'playing', 'little'],\n",
       "       ['universe', 'space', 'black', 'light', 'dark', 'theory', 'big',\n",
       "        'holes', 'galaxies', 'dimensions', 'bang', 'years', 'stars',\n",
       "        'matter', 'energy', 'hole', 'galaxy', 'einstein', 'earth', 'sun'],\n",
       "       ['ve', 'got', 'years', 'think', 'people', 'going', 'll', 'didn',\n",
       "        'big', 'want', 'thing', 'come', 'great', 'world', 'ago', 'doing',\n",
       "        'tell', 'long', 'bit', 'run'],\n",
       "       ['know', 'don', 'mean', 'say', 'just', 'people', 'didn', 'tell',\n",
       "        'come', 'science', 'thing', 'everybody', 'got', 'wonderful',\n",
       "        'really', 'love', 'look', 'talk', 'going', 'oh'],\n",
       "       ['cancer', 'blood', 'cells', 'body', 'muscle', 'vessels',\n",
       "        'angiogenesis', 'skeletal', 'cancers', 'percent', 'tumor',\n",
       "        'able', 'disease', 'tissue', 'called', 'antiangiogenic', 'grow',\n",
       "        'drugs', 'different', 'patients'],\n",
       "       ['just', 'right', 'video', 'little', 'time', 'let', 'bit', 'll',\n",
       "        'try', 'applause', 'example', 'thank', 'started', 'project',\n",
       "        'real', 'sound', 'got', 'use', 'okay', 'hey'],\n",
       "       ['dna', 'computer', 'origami', 'make', 'little', 'll', 'program',\n",
       "        'build', 'molecular', 'computers', 'long', 'use', 'know',\n",
       "        'strands', 'tiles', 'need', 'cell', 'using', 'square', 'sort'],\n",
       "       ['ants', 'nest', 'ant', 'colony', 'workers', 'just', 'colonies',\n",
       "        'maintenance', 've', 'foragers', 'food', 'task', 'doing', 'year',\n",
       "        'different', 'work', 'queen', 'outside', 'entrance', 'tasks'],\n",
       "       ['want', 'don', 'make', 'way', 'need', 'good', 'say', 'time',\n",
       "        'doesn', 'problem', 'thing', 'idea', 'better', 'food', 'tell',\n",
       "        'just', 've', 'let', 'attention', 'end'],\n",
       "       ['really', 'lot', 'think', 'work', 'kind', 'sw', 'say', 'gk',\n",
       "        'thing', 'big', 'like', 'important', 'problem', 'google',\n",
       "        'maybe', 'wanted', 'make', 'best', 'gang', 'idea'],\n",
       "       ['nuclear', 'wind', 'power', 'going', 'weapons', 'need', 'world',\n",
       "        'energy', 'just', 'know', 'want', 'years', 'bomb', 'actually',\n",
       "        've', 'states', 'war', 'united', 'point', 'people'],\n",
       "       ['design', 'new', 'work', 'designers', 'look', 'need', 'like',\n",
       "        'designed', 'art', 'designer', 'different', 'use', 'form', 'car',\n",
       "        'kind', 'designing', 've', 'products', 'foot', 'nature'],\n",
       "       ['data', 'look', 'web', 'linked', 'people', 'lots', 'using',\n",
       "        'like', 'different', 'important', 'huge', 'did', 'information',\n",
       "        'documents', 'new', 'want', 'things', 'map', 'time', 'ask'],\n",
       "       ['la', 'thank', 'li', 'boy', 'janitor', 'marries', 'applause',\n",
       "        'red', 'little', 've', 'haired', 'music', 'want', 'years',\n",
       "        'poem', 'love', 'know', 'like', 'molly', 'milly'],\n",
       "       ['things', 'make', 'thing', 'like', 'think', 've', 'know',\n",
       "        'doing', 'need', 'work', 'time', 'world', 'great', 'thinking',\n",
       "        'simple', 'good', 'say', 'important', 'problems', 'people'],\n",
       "       ['games', 'game', 'video', 'real', 'world', 'time', 'play',\n",
       "        'playing', 'gamers', 'epic', 'online', 've', 'like', 'actually',\n",
       "        'want', 'years', 'worlds', 'life', 'future', 'virtual'],\n",
       "       ['percent', 'years', 'dollars', 'car', 'million', 'year', 'cars',\n",
       "        'oil', 'new', 'today', 'country', 'money', 'billion', 'growth',\n",
       "        'market', 'problem', 'business', 'need', 'price', 'ago'],\n",
       "       ['flag', 'city', 'design', 'flags', 'rm', 'tk', 'chicago',\n",
       "        'narrator', 'great', 'good', 'people', 'just', 'number',\n",
       "        'milwaukee', 'bad', 'principles', 'use', 'cities', 'san',\n",
       "        'francisco'],\n",
       "       ['life', 'happiness', 'good', 'self', 'years', 'meaning',\n",
       "        'positive', 've', 'time', 'happy', 'look', 'live', 'lives',\n",
       "        'story', 'way', 'make', 'work', 'feel', 'emotion', 'psychology'],\n",
       "       ['bacteria', 'light', 'cells', 'molecule', 'molecules', 've',\n",
       "        'cell', 'make', 'little', 'think', 'just', 'squid', 'new',\n",
       "        'bacterium', 'different', 'able', 'hope', 'species', 'human',\n",
       "        'live'],\n",
       "       ['robot', 'robots', 'want', 'little', 'sort', 'looks', 'like',\n",
       "        'look', 'video', 'foot', 'build', 'attention', 'years', 'just',\n",
       "        'rules', 'machines', 'second', 'watch', 'let', 'space'],\n",
       "       ['societies', 'children', 'older', 'old', 'traditional', 'today',\n",
       "        'years', 'society', 'age', 'elderly', 'better', 'people',\n",
       "        'lives', 'change', 'time', 'parents', 'child', 'value', 'means',\n",
       "        'young'],\n",
       "       ['energy', 'engine', 'make', 'solar', 'use', 'power', 'air',\n",
       "        'fusion', 'hot', 'sun', 'cost', 'heat', 'new', 'fuel', 'way',\n",
       "        'electricity', 'light', 'half', 'stirling', 'big'],\n",
       "       ['love', 'women', 'think', 'romantic', 'years', 'men', 've',\n",
       "        'brain', 'sex', 'people', 'person', 'feel', 'somebody', 'said',\n",
       "        'human', 'say', 'woman', 'know', 'world', 'come'],\n",
       "       ['particles', 'charge', 'pattern', 'new', 'force', 'charges',\n",
       "        'particle', 'dimensions', 'theory', 'different', 'beautiful',\n",
       "        'space', 'shape', 'physics', 'mathematics', 'quantum', 'weak',\n",
       "        'e8', 'matter', 'way'],\n",
       "       ['technology', 'human', 'years', 'evolution', 'machine',\n",
       "        'machines', 'way', 'time', 'different', 'technologies', 'humans',\n",
       "        'today', 'exponential', 'computer', 'intelligence', 'body',\n",
       "        'process', 've', 'say', 'science'],\n",
       "       ['polio', 'vaccine', 'virus', 'flu', 'disease', 'years',\n",
       "        'children', 'hiv', 'smallpox', 'world', 'health', 'year',\n",
       "        'people', 'million', 'early', 'new', 'countries', 'started',\n",
       "        'pandemic', 'eradication'],\n",
       "       ['species', 'trees', 'tree', 'animals', 'look', 'nature',\n",
       "        'forest', 'years', 'redwood', 'time', 'land', 'called', 'human',\n",
       "        'feet', 'like', 'new', 'looking', 'way', 'animal', 'plants'],\n",
       "       ['kids', 'school', 'students', 'education', 'children', 'work',\n",
       "        'need', 'applause', 'community', 'high', 'teachers', 'help',\n",
       "        'parents', 'year', 'day', 'child', 'teacher', 'food', 'health',\n",
       "        'come'],\n",
       "       ['language', 'autism', 'english', 'words', 'different', 'word',\n",
       "        'children', 'way', 'child', 'able', 'let', 'script', 'example',\n",
       "        'learn', 'indus', 'fact', 'use', 'speech', 'sentence',\n",
       "        'individuals'],\n",
       "       ['actually', 'able', 'really', 'time', 'use', 'like', 'basically',\n",
       "        'project', 'technology', 'different', 'cells', 'fact', 'started',\n",
       "        'working', 'using', 've', 'bit', 'start', 'structure', 'doing'],\n",
       "       ['god', 'believe', 'like', 'faith', 'religious', 'church', 'don',\n",
       "        'say', 'man', 'feel', 'things', 'book', 'know', 'does', 'just',\n",
       "        'reality', 'natural', 'religion', 'universe', 'existence'],\n",
       "       ['government', 'internet', 'people', 'nsa', 'ca', 'need', 'right',\n",
       "        'companies', 'es', 'war', 'america', 've', 'work', 'states',\n",
       "        'intelligence', 'american', 'say', 'world', 'information',\n",
       "        'security'],\n",
       "       ['right', 'yeah', 'good', 'lg', 'yes', 'audience', 'cards', 'ok',\n",
       "        'diamonds', 'card', 'think', 'spades', 'queen', 'don', 'look',\n",
       "        'ah', 'seven', 'oh', 'll', 'know'],\n",
       "       ['hum', 'work', 'play', 'time', 'yes', 'titan', 'love',\n",
       "        'television', 'working', 'like', 'just', 'minutes', 'shows',\n",
       "        'don', 'hours', 'say', 'feel', 'tv', 'job', 'life'],\n",
       "       ['silk', 'spider', 'spiders', 'web', 'make', 'silks', 'dragline',\n",
       "        'fibers', 'look', 'lot', 'orb', 'just', 'species', 'different',\n",
       "        'repeat', 'prey', 'red', 'weaving', 'toughness', 'used']],\n",
       "      dtype=object)"
      ]
     },
     "execution_count": 83,
     "metadata": {},
     "output_type": "execute_result"
    }
   ],
   "source": [
    "tw_trunc.columns.values[np.argsort(-tw_trunc.values,axis = 1)[:,:20]]\n",
    "\n",
    "# From here: https://stackoverflow.com/questions/54923349/top-3-values-per-row-in-pandas\n"
   ]
  },
  {
   "cell_type": "markdown",
   "metadata": {},
   "source": [
    "### Feb 8 - notes\n",
    "\n",
    "Clear that stopwords have not been removed. Based on counts, should be easy to remove. Ideas for removing words:\n",
    "\n",
    "* words that appear in every talk  \n",
    "* words that are on the stopword list"
   ]
  },
  {
   "cell_type": "code",
   "execution_count": 59,
   "metadata": {},
   "outputs": [
    {
     "data": {
      "text/plain": [
       "array([[1., 1., 1.],\n",
       "       [1., 1., 1.]])"
      ]
     },
     "execution_count": 59,
     "metadata": {},
     "output_type": "execute_result"
    }
   ],
   "source": [
    "np.ones([2,3])"
   ]
  },
  {
   "cell_type": "code",
   "execution_count": 64,
   "metadata": {},
   "outputs": [
    {
     "data": {
      "text/plain": [
       "array([[0., 0., 0., ..., 0., 0., 0.],\n",
       "       [0., 0., 0., ..., 0., 0., 0.],\n",
       "       [0., 0., 0., ..., 0., 0., 0.],\n",
       "       ...,\n",
       "       [0., 0., 1., ..., 0., 0., 0.],\n",
       "       [0., 0., 0., ..., 1., 1., 1.],\n",
       "       [0., 0., 0., ..., 0., 0., 0.]])"
      ]
     },
     "execution_count": 64,
     "metadata": {},
     "output_type": "execute_result"
    }
   ],
   "source": [
    "# Create a topic-word matrix that places a 1 where there are \n",
    "\n",
    "(tw_trunc>0).to_numpy()*np.ones([50,38629])"
   ]
  },
  {
   "cell_type": "code",
   "execution_count": 77,
   "metadata": {},
   "outputs": [
    {
     "data": {
      "text/plain": [
       "0      132.910906\n",
       "1      156.314805\n",
       "2       52.516860\n",
       "3      114.162689\n",
       "4      175.099771\n",
       "5       90.954104\n",
       "6      101.852234\n",
       "7      207.505990\n",
       "8      265.711910\n",
       "9      250.322793\n",
       "10    1027.653403\n",
       "11     173.723543\n",
       "12      64.243121\n",
       "13     592.113283\n",
       "14     306.414255\n",
       "15     937.793527\n",
       "16     826.715453\n",
       "17     449.881613\n",
       "18     505.624072\n",
       "19     529.712329\n",
       "20     398.759470\n",
       "21     692.121193\n",
       "22     659.250162\n",
       "23     420.916582\n",
       "24     437.974997\n",
       "25     976.269245\n",
       "26     545.499912\n",
       "27     524.982305\n",
       "28     369.591301\n",
       "29     793.010597\n",
       "30    1647.277169\n",
       "31     806.056990\n",
       "32     547.908222\n",
       "33     385.748754\n",
       "34     359.016662\n",
       "35    1051.220906\n",
       "36     694.931666\n",
       "37     633.532567\n",
       "38     456.983707\n",
       "39     524.237974\n",
       "40     393.139129\n",
       "41     291.596224\n",
       "42     442.042736\n",
       "43     164.656043\n",
       "44     346.959602\n",
       "45     325.895928\n",
       "46     321.724728\n",
       "47     361.566896\n",
       "48     347.151113\n",
       "49     514.275719\n",
       "dtype: float64"
      ]
     },
     "execution_count": 77,
     "metadata": {},
     "output_type": "execute_result"
    }
   ],
   "source": [
    "(tw_trunc).sum(axis = 1)"
   ]
  },
  {
   "cell_type": "code",
   "execution_count": null,
   "metadata": {},
   "outputs": [],
   "source": []
  },
  {
   "cell_type": "code",
   "execution_count": 55,
   "metadata": {},
   "outputs": [
    {
     "data": {
      "text/plain": [
       "['anger',\n",
       " 'apple',\n",
       " 'argument',\n",
       " 'automatically',\n",
       " 'axis',\n",
       " 'balloon',\n",
       " 'battery',\n",
       " 'bears',\n",
       " 'bottle',\n",
       " 'burn',\n",
       " 'capability',\n",
       " 'charles',\n",
       " 'chicken',\n",
       " 'classes',\n",
       " 'clock',\n",
       " 'co2',\n",
       " 'coal',\n",
       " 'comet',\n",
       " 'components',\n",
       " 'computing',\n",
       " 'conscious',\n",
       " 'controlled',\n",
       " 'cortex',\n",
       " 'crash',\n",
       " 'creature',\n",
       " 'dan',\n",
       " 'debate',\n",
       " 'defense',\n",
       " 'designs',\n",
       " 'detect',\n",
       " 'dimensional',\n",
       " 'dimensions',\n",
       " 'dinosaurs',\n",
       " 'directions',\n",
       " 'disaster',\n",
       " 'discussion',\n",
       " 'dots',\n",
       " 'driver',\n",
       " 'ed',\n",
       " 'efficiency',\n",
       " 'em',\n",
       " 'emissions',\n",
       " 'engine',\n",
       " 'error',\n",
       " 'evolve',\n",
       " 'existing',\n",
       " 'explanation',\n",
       " 'exponential',\n",
       " 'extinction',\n",
       " 'fake',\n",
       " 'falling',\n",
       " 'features',\n",
       " 'feedback',\n",
       " 'finger',\n",
       " 'fold',\n",
       " 'francisco',\n",
       " 'fund',\n",
       " 'furniture',\n",
       " 'fusion',\n",
       " 'gang',\n",
       " 'genome',\n",
       " 'gentlemen',\n",
       " 'gray',\n",
       " 'grid',\n",
       " 'gun',\n",
       " 'hardware',\n",
       " 'hollywood',\n",
       " 'ii',\n",
       " 'infinite',\n",
       " 'infrastructure',\n",
       " 'input',\n",
       " 'interface',\n",
       " 'internal',\n",
       " 'invent',\n",
       " 'kb',\n",
       " 'ladies',\n",
       " 'laser',\n",
       " 'lets',\n",
       " 'link',\n",
       " 'logic',\n",
       " 'manufacturing',\n",
       " 'maps',\n",
       " 'master',\n",
       " 'mechanical',\n",
       " 'metaphor',\n",
       " 'mile',\n",
       " 'mit',\n",
       " 'moore',\n",
       " 'mouse',\n",
       " 'ms',\n",
       " 'nsa',\n",
       " 'nuclear',\n",
       " 'organism',\n",
       " 'origami',\n",
       " 'ought',\n",
       " 'particle',\n",
       " 'patent',\n",
       " 'phantom',\n",
       " 'philosophy',\n",
       " 'players',\n",
       " 'plus',\n",
       " 'polio',\n",
       " 'powered',\n",
       " 'powers',\n",
       " 'presentation',\n",
       " 'prime',\n",
       " 'printing',\n",
       " 'profit',\n",
       " 'pushing',\n",
       " 'rb',\n",
       " 'records',\n",
       " 'reverse',\n",
       " 'rid',\n",
       " 'roughly',\n",
       " 'script',\n",
       " 'selling',\n",
       " 'sensors',\n",
       " 'sequence',\n",
       " 'serve',\n",
       " 'sets',\n",
       " 'shoot',\n",
       " 'shooting',\n",
       " 'simplicity',\n",
       " 'sir',\n",
       " 'skill',\n",
       " 'slavery',\n",
       " 'smallpox',\n",
       " 'sources',\n",
       " 'statistics',\n",
       " 'stem',\n",
       " 'stronger',\n",
       " 'suit',\n",
       " 'sum',\n",
       " 'sunlight',\n",
       " 'teams',\n",
       " 'thin',\n",
       " 'thomas',\n",
       " 'tonight',\n",
       " 'user',\n",
       " 'vehicle',\n",
       " 'vehicles',\n",
       " 'vertical',\n",
       " 'views',\n",
       " 'viruses',\n",
       " 'waves',\n",
       " 'weapons',\n",
       " 'wheel',\n",
       " 'windows',\n",
       " 'wire',\n",
       " 'witness']"
      ]
     },
     "execution_count": 55,
     "metadata": {},
     "output_type": "execute_result"
    }
   ],
   "source": []
  },
  {
   "cell_type": "markdown",
   "metadata": {},
   "source": [
    "## Either Male or Female words that are never used in talks\n",
    "\n"
   ]
  },
  {
   "cell_type": "code",
   "execution_count": 56,
   "metadata": {},
   "outputs": [],
   "source": [
    "mtnds_low = talks_per_word_m <= 10\n",
    "ftnds_low = talks_per_word_f <= 10"
   ]
  },
  {
   "cell_type": "code",
   "execution_count": null,
   "metadata": {},
   "outputs": [],
   "source": []
  },
  {
   "cell_type": "code",
   "execution_count": null,
   "metadata": {},
   "outputs": [],
   "source": []
  },
  {
   "cell_type": "markdown",
   "metadata": {},
   "source": [
    "## Revised Frequencies without Parentheticals\n",
    "\n",
    "For more on the work leading up to this regex, see the `01-Terms-02-Parentheticals` notebook: it contains a number of experiments, which were vexed by sklearn's vectorizer only accepting strings as inputs. (While gensim appears to accept texts as lists of words, we are hoping, I think, to keep our code base as simple as possible.) The eventual workaround is to clean the texts of the top 20 parentheticals, joining the list back to a string, and then pushing the result to sklearn. This is less than optimum, but the hack works and appears to be a hack performed elsewhere by others."
   ]
  },
  {
   "cell_type": "markdown",
   "metadata": {},
   "source": [
    "For now, the first thing we have is the list of the top 20 parentheticals, some of which are two words:"
   ]
  },
  {
   "cell_type": "code",
   "execution_count": 57,
   "metadata": {},
   "outputs": [
    {
     "ename": "NameError",
     "evalue": "name 'texts' is not defined",
     "output_type": "error",
     "traceback": [
      "\u001b[0;31m---------------------------------------------------------------------------\u001b[0m",
      "\u001b[0;31mNameError\u001b[0m                                 Traceback (most recent call last)",
      "\u001b[0;32m<ipython-input-57-577695b47e8f>\u001b[0m in \u001b[0;36m<module>\u001b[0;34m\u001b[0m\n\u001b[1;32m      1\u001b[0m \u001b[0mnoparens_vec\u001b[0m \u001b[0;34m=\u001b[0m \u001b[0mCountVectorizer\u001b[0m\u001b[0;34m(\u001b[0m\u001b[0mpreprocessor\u001b[0m \u001b[0;34m=\u001b[0m \u001b[0mremove_parentheticals\u001b[0m\u001b[0;34m)\u001b[0m\u001b[0;34m\u001b[0m\u001b[0;34m\u001b[0m\u001b[0m\n\u001b[0;32m----> 2\u001b[0;31m \u001b[0mnoparens_X\u001b[0m \u001b[0;34m=\u001b[0m \u001b[0mnoparens_vec\u001b[0m\u001b[0;34m.\u001b[0m\u001b[0mfit_transform\u001b[0m\u001b[0;34m(\u001b[0m\u001b[0mtexts\u001b[0m\u001b[0;34m)\u001b[0m\u001b[0;34m\u001b[0m\u001b[0;34m\u001b[0m\u001b[0m\n\u001b[0m\u001b[1;32m      3\u001b[0m \u001b[0mnoparens_X\u001b[0m\u001b[0;34m.\u001b[0m\u001b[0mshape\u001b[0m\u001b[0;34m\u001b[0m\u001b[0;34m\u001b[0m\u001b[0m\n",
      "\u001b[0;31mNameError\u001b[0m: name 'texts' is not defined"
     ]
    }
   ],
   "source": [
    "noparens_vec = CountVectorizer(preprocessor = remove_parentheticals)\n",
    "noparens_X = noparens_vec.fit_transform(texts)\n",
    "noparens_X.shape"
   ]
  },
  {
   "cell_type": "markdown",
   "metadata": {},
   "source": [
    "Good news. Our removal parentheticals has only removed two words. "
   ]
  },
  {
   "cell_type": "code",
   "execution_count": null,
   "metadata": {},
   "outputs": [],
   "source": [
    "noparens_df = pd.DataFrame(noparens_X.toarray(), columns = noparens_vec.get_feature_names())"
   ]
  },
  {
   "cell_type": "code",
   "execution_count": null,
   "metadata": {},
   "outputs": [],
   "source": [
    "term = 'laughter'\n",
    "f\"The baseline count for *{term}* is {raw_df[term].sum()}; \\\n",
    "with cleaning it is {noparens_df[term].sum()}\""
   ]
  },
  {
   "cell_type": "markdown",
   "metadata": {},
   "source": [
    "## Frequencies of Terms with a 2-Document Minimum"
   ]
  },
  {
   "cell_type": "markdown",
   "metadata": {},
   "source": [
    "Setting a `min_df = 2` removes all words that appear in only document. (An exploration of *one document wonders* is elsewhere.) As we can see from the `shape` below, we dropped 50379 to 29340, resulting in a reduction of 42% of the possible features."
   ]
  },
  {
   "cell_type": "code",
   "execution_count": null,
   "metadata": {},
   "outputs": [],
   "source": [
    "min2_vec = CountVectorizer(preprocessor = remove_parentheticals, min_df = 2)\n",
    "min2_X = min2_vec.fit_transform(texts)\n",
    "min2_X.shape"
   ]
  },
  {
   "cell_type": "markdown",
   "metadata": {},
   "source": [
    "As above we can sum our terms and write the results to a CSV file for closer inspection. Here, we highlight just a particular series of words."
   ]
  },
  {
   "cell_type": "code",
   "execution_count": null,
   "metadata": {},
   "outputs": [],
   "source": [
    "# Create the dataframe\n",
    "min2_df = pd.DataFrame(min2_X.toarray(), columns = min2_vec.get_feature_names())\n",
    "\n",
    "# Create a series of sums\n",
    "min2_series = min2_df.sum()\n",
    "\n",
    "# Write sums to CSV:\n",
    "# min2_series.to_csv('../output/word_freq_clean.csv')\n",
    "\n",
    "# Inspect the sums\n",
    "min2_series[1000:1005]"
   ]
  },
  {
   "cell_type": "markdown",
   "metadata": {},
   "source": [
    "## Frequencies of Terms Appearing in All Documents"
   ]
  },
  {
   "cell_type": "markdown",
   "metadata": {},
   "source": [
    "Having trimmed terms that occur in only document from our feature set, we also need to determine what words occur across all the documents and thus are not particularly effective discriminators of topic. \n",
    "\n",
    "Note that this is a somewhat more dangerous move to make, since it has been shown that one of the keys to genre and gender in documents are the varying uses of so-called function words. In fact, as our explorations establish, using sklearn's built-in algorithms reveals a focus on removing common words does not really result in much of a reduction in the overall feature set, only 8 words occurring across 99% or more documents and that number only rising to 46 when we change the minimum threshold to 90%."
   ]
  },
  {
   "cell_type": "code",
   "execution_count": null,
   "metadata": {},
   "outputs": [],
   "source": [
    "alldocs_vec = CountVectorizer(preprocessor = remove_parentheticals, min_df = 0.99)\n",
    "alldocs_X = alldocs_vec.fit_transform(texts)\n",
    "alldocs_X.shape"
   ]
  },
  {
   "cell_type": "code",
   "execution_count": null,
   "metadata": {},
   "outputs": [],
   "source": [
    "alldocs_df = pd.DataFrame(alldocs_X.toarray(), columns = alldocs_vec.get_feature_names())\n",
    "alldocs_series = alldocs_df.sum()\n",
    "alldocs_series"
   ]
  },
  {
   "cell_type": "code",
   "execution_count": null,
   "metadata": {},
   "outputs": [],
   "source": [
    "mostdocs_vec = CountVectorizer(preprocessor = remove_parentheticals, min_df = 0.90)\n",
    "mostdocs_X = mostdocs_vec.fit_transform(texts)\n",
    "mostdocs_X.shape"
   ]
  },
  {
   "cell_type": "code",
   "execution_count": null,
   "metadata": {},
   "outputs": [],
   "source": [
    "# mostdocs_df = pd.DataFrame(mostdocs_X.toarray(), columns = mostdocs_vec.get_feature_names())\n",
    "# mostdocs_series = mostdocs_df.sum()\n",
    "# mostdocs_series.head(46)"
   ]
  },
  {
   "cell_type": "markdown",
   "metadata": {},
   "source": [
    "This last run simply verifies that the exploration above with `min_df` holds true when we switch to `max_df`. That is, that our exploration of the parameters were not asking something unexpected by the code and possibly generating inexplicable and undesirable results."
   ]
  },
  {
   "cell_type": "code",
   "execution_count": null,
   "metadata": {},
   "outputs": [],
   "source": [
    "# tnt = topsntails\n",
    "tnt_vec = CountVectorizer(preprocessor = remove_parentheticals, max_df = 0.9, min_df = 2)\n",
    "tnt_X = tnt_vec.fit_transform(texts)\n",
    "tnt_X.shape"
   ]
  },
  {
   "cell_type": "markdown",
   "metadata": {},
   "source": [
    "The numbers add up. With that done, my recommendation is that we do not, for the time being, throw away common and/or function words: that is, let's not use a stopword list. Those words could be important in other ways, and dropping them has only a limited impact on the actual document-term matrix, one that pales by comparison to the words that occur only in one document."
   ]
  }
 ],
 "metadata": {
  "interpreter": {
   "hash": "14a02b88778d8fb8b6aeb4ad427a942bc53dfcda9d7e3737237788289e0d2d23"
  },
  "kernelspec": {
   "display_name": "Python 3 (ipykernel)",
   "language": "python",
   "name": "python3"
  },
  "language_info": {
   "codemirror_mode": {
    "name": "ipython",
    "version": 3
   },
   "file_extension": ".py",
   "mimetype": "text/x-python",
   "name": "python",
   "nbconvert_exporter": "python",
   "pygments_lexer": "ipython3",
   "version": "3.9.10"
  },
  "toc": {
   "base_numbering": 1,
   "nav_menu": {},
   "number_sections": true,
   "sideBar": true,
   "skip_h1_title": true,
   "title_cell": "",
   "title_sidebar": "Contents",
   "toc_cell": true,
   "toc_position": 2,
   "toc_section_display": true,
   "toc_window_display": false
  }
 },
 "nbformat": 4,
 "nbformat_minor": 2
}
