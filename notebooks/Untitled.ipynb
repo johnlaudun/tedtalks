{
 "cells": [
  {
   "cell_type": "code",
   "execution_count": 1,
   "id": "9ffb1d18",
   "metadata": {},
   "outputs": [],
   "source": [
    "import numpy as np\n",
    "samples = {'Jupiter has 79 known moons .', 'Neptune has 14 confirmed moons !'} # Sample set for our example\n",
    "# Create an empty dictionary\n",
    "token_index = {}\n",
    "#Create a counter for counting the number of key-value pairs in the token_length\n",
    "counter = 0\n",
    "\n",
    "# Select the elements of the samples which are the two sentences\n",
    "for sample in samples:                                      \n",
    "    for considered_word in sample.split():\n",
    "        if considered_word not in token_index:\n",
    "            # If the considered word is not present in the dictionary token_index, \n",
    "            # add it to the token_index\n",
    "            token_index.update({considered_word : counter + 1}) \n",
    "        # updating the value of counter\n",
    "        counter = counter + 1       "
   ]
  },
  {
   "cell_type": "code",
   "execution_count": 4,
   "id": "acfe1422",
   "metadata": {},
   "outputs": [
    {
     "name": "stdout",
     "output_type": "stream",
     "text": [
      "{'Jupiter': 1, 'has': 2, '79': 3, 'known': 4, 'moons': 5, '.': 6, 'Neptune': 7, '14': 9, 'confirmed': 10, '!': 12}\n"
     ]
    }
   ],
   "source": [
    "print(token_index)"
   ]
  },
  {
   "cell_type": "code",
   "execution_count": 5,
   "id": "bead112b",
   "metadata": {},
   "outputs": [],
   "source": [
    "# Set max_length to 6\n",
    "max_length = 6\n",
    "# Create a tensor of dimension 3 named results whose every elements are initialized to 0\n",
    "results  = np.zeros(shape = (len(samples),\n",
    "                            max_length,\n",
    "                            max(token_index.values()) + 1))  "
   ]
  },
  {
   "cell_type": "code",
   "execution_count": 6,
   "id": "f53cf6a6",
   "metadata": {},
   "outputs": [
    {
     "data": {
      "text/plain": [
       "(2, 6, 13)"
      ]
     },
     "execution_count": 6,
     "metadata": {},
     "output_type": "execute_result"
    }
   ],
   "source": [
    "results.shape"
   ]
  },
  {
   "cell_type": "code",
   "execution_count": null,
   "id": "26f2bb8e",
   "metadata": {},
   "outputs": [],
   "source": []
  }
 ],
 "metadata": {
  "kernelspec": {
   "display_name": "Python 3 (ipykernel)",
   "language": "python",
   "name": "python3"
  },
  "language_info": {
   "codemirror_mode": {
    "name": "ipython",
    "version": 3
   },
   "file_extension": ".py",
   "mimetype": "text/x-python",
   "name": "python",
   "nbconvert_exporter": "python",
   "pygments_lexer": "ipython3",
   "version": "3.7.11"
  }
 },
 "nbformat": 4,
 "nbformat_minor": 5
}
