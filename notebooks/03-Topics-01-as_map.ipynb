{
 "cells": [
  {
   "cell_type": "markdown",
   "metadata": {},
   "source": [
    "# Topics as Map or Index"
   ]
  },
  {
   "cell_type": "markdown",
   "metadata": {},
   "source": [
    "After loading the data, we are going to run the SciKit-Learn's NMF algorithm which is both fast for smaller corpora and deterministic in its outcomes varying the number of components until we seem to have achieved a stable number.\n",
    "\n",
    "We are including both main and other TED-curated events here so that we can see how much the separate events are part of the larger map or if they are distinct.\n",
    "\n",
    "As topic modelling has become more widespread, one of the issues increasingly being raised is right-sizing the number of components, since that is something that is principal variable given to the algorithm (be it LDA or NMF). The implementation that follows is based on the following:\n",
    "\n",
    "* In an article in _Towards Data Science_, [Evaluate Topic Models: Latent Dirichlet Allocation][kapadia], Shashank Kapadia observes that most evaluations of enumerated topics are extrinsic in nature, a product of subject matter expertise and/or utility in performing a classification task. His approach is to implement an intrinsic evaluation using **gensim**'s `CoherenceModel`. He then fine tunes the hyperparameters. \n",
    "* The third notebook in Derek Greene's three-notebook tutorial on NMF focuses on [Parameter Selection][greene]. One of the hyperparameters involved has to do with initialization: Greene notes that \"using SVD-based initialisation provides more reliable results.\" \n",
    "\n",
    "Greene's work is the foundation for the following exploration.\n",
    "\n",
    "[kapadia]: https://towardsdatascience.com/evaluate-topic-model-in-python-latent-dirichlet-allocation-lda-7d57484bb5d0\n",
    "[greene]: https://github.com/derekgreene/topic-model-tutorial/blob/master/3%20-%20Parameter%20Selection%20for%20NMF.ipynb"
   ]
  },
  {
   "cell_type": "markdown",
   "metadata": {},
   "source": [
    "### Imports and Data"
   ]
  },
  {
   "cell_type": "code",
   "execution_count": null,
   "metadata": {},
   "outputs": [],
   "source": [
    "# Imports, Functions, Stopwords\n",
    "import numpy as np\n",
    "import pandas as pd\n",
    "import re\n",
    "import gensim\n",
    "import operator\n",
    "import matplotlib as mpl\n",
    "import matplotlib.pyplot as plt\n",
    "\n",
    "plt.style.use(\"ggplot\")\n",
    "mpl.rcParams.update({\"font.size\": 14})\n",
    "\n",
    "from nltk.corpus import stopwords\n",
    "from sklearn.feature_extraction.text import TfidfVectorizer\n",
    "from sklearn.cluster import KMeans\n",
    "from sklearn.decomposition import NMF\n",
    "from itertools import combinations\n",
    "\n",
    "# This library makes it easy to save \"interim\" results so that\n",
    "# we don't have to get running algorithms over and over\n",
    "from sklearn.externals import joblib\n",
    "\n",
    "\n",
    "\n",
    "stopwords = set(stopwords.words('english'))"
   ]
  },
  {
   "cell_type": "code",
   "execution_count": 2,
   "metadata": {},
   "outputs": [],
   "source": [
    "parentheticals = [ \"\\(laughter\\)\", \"\\(applause\\)\", \"\\(music\\)\", \"\\(video\\)\", \n",
    "                  \"\\(laughs\\)\", \"\\(applause ends\\)\", \"\\(audio\\)\", \"\\(singing\\)\", \n",
    "                  \"\\(music ends\\)\", \"\\(cheers\\)\", \"\\(cheering\\)\", \"\\(recording\\)\", \n",
    "                  \"\\(beatboxing\\)\", \"\\(audience\\)\", \"\\(guitar strum\\)\", \n",
    "                  \"\\(clicks metronome\\)\", \"\\(sighs\\)\", \"\\(guitar\\)\", \"\\(marimba sounds\\)\", \n",
    "                  \"\\(drum sounds\\)\" ]\n",
    "\n",
    "def remove_parens(text):\n",
    "    new_text = text\n",
    "    for rgx_match in parentheticals:\n",
    "        new_text = re.sub(rgx_match, ' ', new_text.lower(), flags=re.IGNORECASE)\n",
    "    return new_text"
   ]
  },
  {
   "cell_type": "code",
   "execution_count": 3,
   "metadata": {
    "scrolled": true
   },
   "outputs": [],
   "source": [
    "# Load the Data\n",
    "df = pd.read_csv('../output/TEDall.csv')\n",
    "\n",
    "# Grab the text of the talks\n",
    "talks = df.text.tolist()\n",
    "\n",
    "# Create some labels we can use later but remove the redundant parts of the URL\n",
    "labels = [re.sub('https://www.ted.com/talks/', '',item) for item in df.public_url.tolist()]"
   ]
  },
  {
   "cell_type": "markdown",
   "metadata": {},
   "source": [
    "## TF-IDF"
   ]
  },
  {
   "cell_type": "code",
   "execution_count": 4,
   "metadata": {},
   "outputs": [
    {
     "data": {
      "text/plain": [
       "(1747, 29197)"
      ]
     },
     "execution_count": 4,
     "metadata": {},
     "output_type": "execute_result"
    }
   ],
   "source": [
    "# Parametize the vectorizer:\n",
    "tfidf_vectorizer = TfidfVectorizer(stop_words = stopwords,\n",
    "                                   min_df = 2, \n",
    "                                   max_df = 0.9)\n",
    "\n",
    "# Vectorize our texts\n",
    "tfidf = tfidf_vectorizer.fit_transform(talks)\n",
    "tfidf.shape "
   ]
  },
  {
   "cell_type": "code",
   "execution_count": 5,
   "metadata": {
    "scrolled": true
   },
   "outputs": [
    {
     "name": "stdout",
     "output_type": "stream",
     "text": [
      "Vocabulary has 29197 distinct terms.\n"
     ]
    }
   ],
   "source": [
    "terms = tfidf_vectorizer.get_feature_names()\n",
    "print(f\"Vocabulary has {len(terms)} distinct terms.\")"
   ]
  },
  {
   "cell_type": "markdown",
   "metadata": {},
   "source": [
    "To see terms with the highest TF-IDF scores across all documents in the document-term matrix:"
   ]
  },
  {
   "cell_type": "code",
   "execution_count": 6,
   "metadata": {},
   "outputs": [],
   "source": [
    "def rank_terms( A, terms ):\n",
    "    # get the sums over each column\n",
    "    sums = A.sum(axis=0)\n",
    "    # map weights to the terms\n",
    "    weights = {}\n",
    "    for col, term in enumerate(terms):\n",
    "        weights[term] = sums[0,col]\n",
    "    # rank the terms by their weight over all documents\n",
    "    return sorted(weights.items(), key=operator.itemgetter(1), reverse=True)"
   ]
  },
  {
   "cell_type": "code",
   "execution_count": 7,
   "metadata": {},
   "outputs": [
    {
     "name": "stdout",
     "output_type": "stream",
     "text": [
      " 1 people (78.40)\n",
      " 2 going (56.35)\n",
      " 3 laughter (52.57)\n",
      " 4 know (52.38)\n",
      " 5 think (49.97)\n",
      " 6 would (48.90)\n",
      " 7 really (48.57)\n",
      " 8 us (48.06)\n",
      " 9 see (47.55)\n",
      "10 world (47.42)\n",
      "11 get (45.24)\n",
      "12 time (44.11)\n",
      "13 actually (40.92)\n",
      "14 things (40.07)\n",
      "15 years (38.63)\n",
      "16 could (38.30)\n",
      "17 way (37.82)\n",
      "18 said (36.86)\n",
      "19 go (36.71)\n",
      "20 want (36.58)\n"
     ]
    }
   ],
   "source": [
    "ranking = rank_terms( tfidf, terms )\n",
    "for i, pair in enumerate( ranking[0:20] ):\n",
    "    print(f\"{i+1:2d} {pair[0]} ({pair[1]:.2f})\")"
   ]
  },
  {
   "cell_type": "code",
   "execution_count": 45,
   "metadata": {
    "scrolled": true
   },
   "outputs": [
    {
     "data": {
      "text/plain": [
       "['../output/tfidf.pkl']"
      ]
     },
     "execution_count": 45,
     "metadata": {},
     "output_type": "execute_result"
    }
   ],
   "source": [
    "joblib.dump((tfidf, terms, talks), \"../output/tfidf.pkl\")"
   ]
  },
  {
   "cell_type": "markdown",
   "metadata": {},
   "source": [
    "To load this pickle:\n",
    "\n",
    "```python\n",
    "(tfidf, terms, talks) = joblib.load( \"talks-tfidf.pkl\" )\n",
    "print( f\"Loaded {tfidf.shape[0]} X {tfidf.shape[1]} document-term matrix.\")\n",
    "```"
   ]
  },
  {
   "cell_type": "markdown",
   "metadata": {},
   "source": [
    "## K-Means Clustering based on TFIDF"
   ]
  },
  {
   "cell_type": "code",
   "execution_count": 9,
   "metadata": {},
   "outputs": [],
   "source": [
    "kmeans = KMeans(\n",
    "    init=\"random\",\n",
    "    n_clusters=25,\n",
    "    n_init=10,\n",
    "    max_iter=300,\n",
    "    random_state=42\n",
    ")"
   ]
  },
  {
   "cell_type": "code",
   "execution_count": 10,
   "metadata": {
    "scrolled": false
   },
   "outputs": [
    {
     "name": "stdout",
     "output_type": "stream",
     "text": [
      "1554.20822846462 12\n"
     ]
    }
   ],
   "source": [
    "kmeans.fit(tfidf)\n",
    "print(kmeans.inertia_, kmeans.n_iter_)"
   ]
  },
  {
   "cell_type": "code",
   "execution_count": 11,
   "metadata": {},
   "outputs": [],
   "source": [
    "# Now let's try it for a range of possible clusters:\n",
    "kmeans_kwargs = {\n",
    "    \"init\": \"random\",\n",
    "    \"n_init\": 10,\n",
    "    \"max_iter\": 300,\n",
    "    \"random_state\": 42,\n",
    "}\n",
    "\n",
    "# A list holds the SSE values for each k\n",
    "sse = []\n",
    "for k in range(25, 101, 10):\n",
    "    kmeans = KMeans(n_clusters=k, **kmeans_kwargs)\n",
    "    kmeans.fit(tfidf)\n",
    "    sse.append(kmeans.inertia_)"
   ]
  },
  {
   "cell_type": "code",
   "execution_count": 12,
   "metadata": {
    "scrolled": true
   },
   "outputs": [
    {
     "data": {
      "image/png": "[encoded data removed]",
      "text/plain": [
       "<Figure size 432x288 with 1 Axes>"
      ]
     },
     "metadata": {},
     "output_type": "display_data"
    }
   ],
   "source": [
    "plt.style.use(\"ggplot\")\n",
    "plt.plot(range(25, 101, 10), sse)\n",
    "plt.xticks(range(25, 101, 10))\n",
    "plt.xlabel(\"Number of Clusters\")\n",
    "plt.ylabel(\"SSE\")\n",
    "plt.show()"
   ]
  },
  {
   "cell_type": "markdown",
   "metadata": {},
   "source": [
    "**Kmeans** doesn't turn up: the slight elbow at 45 doesn't show up when you run `Kneelocator`:\n",
    "\n",
    "```python\n",
    "from kneed import KneeLocator\n",
    "\n",
    "kl = KneeLocator(range(25, 101, 10), sse, curve=\"convex\", direction=\"decreasing\")\n",
    "print(kl.elbow)\n",
    "\n",
    "UserWarning: No knee/elbow found\n",
    "None\n",
    "```"
   ]
  },
  {
   "cell_type": "markdown",
   "metadata": {},
   "source": [
    "## NMF: A Rough First Draft"
   ]
  },
  {
   "cell_type": "markdown",
   "metadata": {},
   "source": [
    "Following Greene's exploration, we will attempt a rough first pass at topic modeling the TED talk corpus. Since early experiments suggested that ~50 topics might be appropriate, we will start there."
   ]
  },
  {
   "cell_type": "code",
   "execution_count": 16,
   "metadata": {},
   "outputs": [],
   "source": [
    "k=50\n",
    "model = NMF( init=\"nndsvd\", n_components= k ) \n",
    "# apply the model and extract the two factor matrices\n",
    "W = model.fit_transform( tfidf )\n",
    "H = model.components_"
   ]
  },
  {
   "cell_type": "markdown",
   "metadata": {},
   "source": [
    "NMF produces two factor matrices as its output: W and H. The W factor contains the document membership weights relative to each of the k topics. Each row corresponds to a single document, and each column correspond to a topic."
   ]
  },
  {
   "cell_type": "code",
   "execution_count": 17,
   "metadata": {},
   "outputs": [
    {
     "data": {
      "text/plain": [
       "(1747, 50)"
      ]
     },
     "execution_count": 17,
     "metadata": {},
     "output_type": "execute_result"
    }
   ],
   "source": [
    "W.shape"
   ]
  },
  {
   "cell_type": "code",
   "execution_count": 18,
   "metadata": {},
   "outputs": [
    {
     "data": {
      "text/plain": [
       "array([0.01, 0.  , 0.01, 0.01, 0.  , 0.  , 0.  , 0.  , 0.  , 0.  , 0.01,\n",
       "       0.  , 0.  , 0.  , 0.  , 0.  , 0.  , 0.  , 0.07, 0.  , 0.12, 0.  ,\n",
       "       0.  , 0.  , 0.  , 0.  , 0.  , 0.  , 0.  , 0.03, 0.  , 0.  , 0.  ,\n",
       "       0.  , 0.  , 0.02, 0.  , 0.  , 0.01, 0.  , 0.  , 0.  , 0.  , 0.  ,\n",
       "       0.  , 0.  , 0.  , 0.  , 0.  , 0.05])"
      ]
     },
     "execution_count": 18,
     "metadata": {},
     "output_type": "execute_result"
    }
   ],
   "source": [
    "# Topic weights for first document rounded to 2 decimal places for display purposes\n",
    "W[0,:].round(2)"
   ]
  },
  {
   "cell_type": "markdown",
   "metadata": {},
   "source": [
    "The H factor contains the term weights relative to each of the k topics. In this case, each row corresponds to a topic, and each column corresponds to a unique term in the corpus vocabulary."
   ]
  },
  {
   "cell_type": "code",
   "execution_count": 19,
   "metadata": {},
   "outputs": [
    {
     "data": {
      "text/plain": [
       "(50, 29197)"
      ]
     },
     "execution_count": 19,
     "metadata": {},
     "output_type": "execute_result"
    }
   ],
   "source": [
    "H.shape"
   ]
  },
  {
   "cell_type": "markdown",
   "metadata": {},
   "source": [
    "We can likewise see which topics a term is most associated. (The talk above is Al Gore's on climate change so seeing that the term climate is most associated with a topic strongly related to Gore's talk confirms that things are working reasonably well.)"
   ]
  },
  {
   "cell_type": "code",
   "execution_count": 20,
   "metadata": {},
   "outputs": [
    {
     "data": {
      "text/plain": [
       "array([0.  , 0.  , 0.  , 0.  , 0.  , 0.  , 0.  , 0.  , 0.  , 0.  , 0.  ,\n",
       "       0.  , 0.  , 0.  , 0.  , 0.  , 0.  , 0.  , 0.  , 0.  , 1.37, 0.05,\n",
       "       0.  , 0.  , 0.  , 0.  , 0.  , 0.  , 0.  , 0.  , 0.  , 0.  , 0.  ,\n",
       "       0.  , 0.  , 0.  , 0.  , 0.  , 0.  , 0.  , 0.  , 0.  , 0.  , 0.  ,\n",
       "       0.  , 0.  , 0.05, 0.  , 0.  , 0.  ])"
      ]
     },
     "execution_count": 20,
     "metadata": {},
     "output_type": "execute_result"
    }
   ],
   "source": [
    "term_index = terms.index('climate')\n",
    "# round to 2 decimal places for display purposes\n",
    "H[:,term_index].round(2)"
   ]
  },
  {
   "cell_type": "code",
   "execution_count": 21,
   "metadata": {},
   "outputs": [],
   "source": [
    "def get_descriptor( all_terms, H, topic_index, top ):\n",
    "    # reverse sort the values to sort the indices\n",
    "    top_indices = np.argsort( H[topic_index,:] )[::-1]\n",
    "    # now get the terms corresponding to the top-ranked indices\n",
    "    top_terms = []\n",
    "    for term_index in top_indices[0:top]:\n",
    "        top_terms.append( all_terms[term_index] )\n",
    "    return top_terms"
   ]
  },
  {
   "cell_type": "code",
   "execution_count": 28,
   "metadata": {},
   "outputs": [
    {
     "name": "stdout",
     "output_type": "stream",
     "text": [
      "Topic 1 really, know, going, think, people, things, kind, get\n",
      "Topic 2 music, guitar, ends, classical, orchestra, play, violin, musical\n",
      "Topic 3 life, people, love, us, time, stories, would, feel\n",
      "Topic 4 dollars, money, business, people, companies, percent, market, company\n",
      "Topic 5 cells, stem, cell, tissue, bone, actually, disease, drugs\n",
      "Topic 6 planets, earth, planet, mars, stars, telescope, solar, star\n",
      "Topic 7 brain, neurons, brains, cortex, neocortex, activity, neuroscience, neuron\n",
      "Topic 8 building, architecture, buildings, space, city, architects, spaces, community\n",
      "Topic 9 arm, going, body, see, legs, right, hand, finger\n",
      "Topic 10 women, men, woman, pm, gender, equality, feminist, male\n",
      "Topic 11 africa, african, continent, africans, nigeria, countries, south, aid\n",
      "Topic 12 robot, robots, locomotion, robotics, rules, move, want, autonomous\n",
      "Topic 13 patients, health, medical, doctors, care, patient, doctor, medicine\n",
      "Topic 14 internet, government, information, media, online, people, twitter, digital\n",
      "Topic 15 universe, theory, quantum, particles, space, galaxies, physics, galaxy\n",
      "Topic 16 students, education, school, kids, teachers, children, class, learning\n",
      "Topic 17 cancer, tumor, pancreatic, cancers, breast, disease, blood, body\n",
      "Topic 18 cities, city, rio, people, urban, new, mayors, map\n",
      "Topic 19 laughter, ok, yeah, oh, get, says, good, okay\n",
      "Topic 20 nuclear, energy, fusion, reactor, solar, weapons, power, wind\n",
      "Topic 21 climate, carbon, emissions, change, energy, global, warming, co2\n",
      "Topic 22 ice, water, pole, ocean, sea, antarctica, glacier, cave\n",
      "Topic 23 black, race, white, racial, racism, african, hole, men\n",
      "Topic 24 food, farmers, eat, bread, hunger, meat, agriculture, calories\n",
      "Topic 25 china, growth, chinese, countries, economic, democracy, india, political\n",
      "Topic 26 art, artist, painting, images, artists, image, museum, project\n",
      "Topic 27 video, game, games, virtual, play, playing, reality, videos\n",
      "Topic 28 sound, listening, noise, voice, sounds, hear, song, ears\n",
      "Topic 29 species, animals, forest, trees, fish, nature, forests, tree\n",
      "Topic 30 car, cars, oil, driving, vehicle, vehicles, drive, energy\n",
      "Topic 31 war, peace, violence, people, conflict, afghanistan, civil, international\n",
      "Topic 32 ca, em, yeah, wk, rb, think, mean, js\n",
      "Topic 33 dna, genes, genome, gene, genetic, crispr, species, code\n",
      "Topic 34 god, religious, religion, faith, people, world, religions, compassion\n",
      "Topic 35 refugees, refugee, camp, syrian, europe, countries, syria, country\n",
      "Topic 36 design, designers, designer, designed, designing, new, ideas, products\n",
      "Topic 37 mt, magic, deception, voice, cards, marco, magician, illusion\n",
      "Topic 38 hiv, virus, aids, vaccine, infected, flu, malaria, ebola\n",
      "Topic 39 fly, flying, flight, aircraft, airplane, space, wing, wings\n",
      "Topic 40 bees, bee, ants, colony, pollen, ant, flowers, pollinators\n",
      "Topic 41 girls, girl, school, boys, young, women, wish, community\n",
      "Topic 42 language, english, languages, words, autism, word, chinese, speak\n",
      "Topic 43 bacteria, antibiotics, molecule, molecules, light, organisms, microbes, quorum\n",
      "Topic 44 happiness, self, happy, emotions, people, life, experience, emotion\n",
      "Topic 45 machine, machines, ai, human, intelligence, computer, technology, artificial\n",
      "Topic 46 data, information, web, see, map, algorithms, look, algorithm\n",
      "Topic 47 plants, plant, seeds, water, percent, seed, genes, leaves\n",
      "Topic 48 sex, sexual, males, female, love, sperm, sexuality, sk\n",
      "Topic 49 materials, 3d, material, printing, water, self, manufacturing, actually\n",
      "Topic 50 said, know, got, went, man, would, go, god\n"
     ]
    }
   ],
   "source": [
    "descriptors = []\n",
    "for topic_index in range(k):\n",
    "    descriptors.append( get_descriptor( terms, H, topic_index, 8 ) )\n",
    "    str_descriptor = \", \".join( descriptors[topic_index] )\n",
    "    print(f\"Topic {topic_index+1} {str_descriptor}\" )"
   ]
  },
  {
   "cell_type": "markdown",
   "metadata": {},
   "source": [
    "Greene notes that it would be nice to see the weights for each term in a descriptor. "
   ]
  },
  {
   "cell_type": "code",
   "execution_count": 32,
   "metadata": {},
   "outputs": [],
   "source": [
    "def plot_top_term_weights( terms, H, topic_index, top ):\n",
    "    # get the top terms and their weights\n",
    "    top_indices = np.argsort( H[topic_index,:] )[::-1]\n",
    "    top_terms = []\n",
    "    top_weights = []\n",
    "    for term_index in top_indices[0:top]:\n",
    "        top_terms.append( terms[term_index] )\n",
    "        top_weights.append( H[topic_index,term_index] )\n",
    "    # note we reverse the ordering for the plot\n",
    "    top_terms.reverse()\n",
    "    top_weights.reverse()\n",
    "    # create the plot\n",
    "    fig = plt.figure(figsize=(13,8))\n",
    "    # add the horizontal bar chart\n",
    "    ypos = np.arange(top)\n",
    "    ax = plt.barh(ypos, top_weights, align=\"center\", color=\"green\",tick_label=top_terms)\n",
    "    plt.xlabel(\"Term Weight\",fontsize=14)\n",
    "    plt.tight_layout()\n",
    "    plt.show()"
   ]
  },
  {
   "cell_type": "code",
   "execution_count": 33,
   "metadata": {
    "scrolled": false
   },
   "outputs": [
    {
     "data": {
      "image/png": "[encoded data removed]",
      "text/plain": [
       "<Figure size 936x576 with 1 Axes>"
      ]
     },
     "metadata": {},
     "output_type": "display_data"
    }
   ],
   "source": [
    "plot_top_term_weights( terms, H, 20, 10 )"
   ]
  },
  {
   "cell_type": "markdown",
   "metadata": {},
   "source": [
    "And which documents are most associated with a given topic:"
   ]
  },
  {
   "cell_type": "code",
   "execution_count": 39,
   "metadata": {},
   "outputs": [],
   "source": [
    "def get_top_docs( documents, W, topic_index, top ):\n",
    "    # reverse sort the values to sort the indices\n",
    "    top_indices = np.argsort( W[:,topic_index] )[::-1]\n",
    "    # now get the snippets corresponding to the top-ranked indices\n",
    "    top_docs = []\n",
    "    for doc_index in top_indices[0:top]:\n",
    "        top_docs.append( documents[doc_index] )\n",
    "    return top_docs"
   ]
  },
  {
   "cell_type": "code",
   "execution_count": 43,
   "metadata": {},
   "outputs": [
    {
     "name": "stdout",
     "output_type": "stream",
     "text": [
      "1:   A question I'm oft\n",
      "2:   Over our lifetimes\n",
      "3:   I have a two-year-\n",
      "4:   What do I know tha\n",
      "5:   To avoid dangerous\n"
     ]
    }
   ],
   "source": [
    "topic_documents = get_top_docs( talks, W, 20, 5 )\n",
    "for i, talk in enumerate(topic_documents):\n",
    "    print(f\"{i+1}: {talk[0:20]}\")\n",
    "#     print(f\"{i+1}: {labels[i]}\") # See note below "
   ]
  },
  {
   "cell_type": "markdown",
   "metadata": {},
   "source": [
    "Eventually will want this to list the talk: \n",
    "\n",
    "    1: al_gore_on_averting_climate_crisis"
   ]
  },
  {
   "cell_type": "code",
   "execution_count": 44,
   "metadata": {},
   "outputs": [
    {
     "data": {
      "text/plain": [
       "['../output/model-nmf-k50.pkl']"
      ]
     },
     "execution_count": 44,
     "metadata": {},
     "output_type": "execute_result"
    }
   ],
   "source": [
    "joblib.dump((W,H,terms,talks), f\"../output/model-nmf-k{k}.pkl\")"
   ]
  },
  {
   "cell_type": "markdown",
   "metadata": {},
   "source": [
    "## Selecting K"
   ]
  },
  {
   "cell_type": "code",
   "execution_count": 51,
   "metadata": {},
   "outputs": [],
   "source": [
    "from nltk import word_tokenize\n",
    "from nltk import sent_tokenize\n",
    "import gensim\n",
    "import operator"
   ]
  },
  {
   "cell_type": "markdown",
   "metadata": {},
   "source": [
    "### 1. Create the Topic Models"
   ]
  },
  {
   "cell_type": "code",
   "execution_count": 46,
   "metadata": {},
   "outputs": [
    {
     "name": "stdout",
     "output_type": "stream",
     "text": [
      "Applying NMF for k=20 ...\n",
      "Applying NMF for k=30 ...\n",
      "Applying NMF for k=40 ...\n",
      "Applying NMF for k=50 ...\n",
      "Applying NMF for k=60 ...\n",
      "Applying NMF for k=70 ...\n",
      "Applying NMF for k=80 ...\n"
     ]
    }
   ],
   "source": [
    "kmin, kmax = 20, 80\n",
    "\n",
    "topic_models = []\n",
    "# try each value of k\n",
    "for k in range(kmin, kmax + 1, 10):\n",
    "    print(\"Applying NMF for k=%d ...\" % k )\n",
    "    # run NMF\n",
    "    model = NMF( init=\"nndsvd\", n_components=k ) \n",
    "    W = model.fit_transform( tfidf )\n",
    "    H = model.components_    \n",
    "    # store for later\n",
    "    topic_models.append( (k,W,H) )"
   ]
  },
  {
   "cell_type": "markdown",
   "metadata": {},
   "source": [
    "### 2. Build the Word Embedding Models"
   ]
  },
  {
   "cell_type": "markdown",
   "metadata": {},
   "source": [
    "The topic coherence measure called TC-W2V relies on the use of a word embedding model constructed from the same corpus as the topic model. Here we use the Gensim implementation to build a Word2Vec model based on the TED talk texts.\n",
    "\n",
    "Because individual texts do not matter for `word2vec`, we are going to bundle all our sentences into a single string, then break it into sentences using the NLTK sentence tokenizer. We preprocess the sentences to make them lowercase and to remove stop words. \n",
    "\n",
    "Two implementations of Word2Vec are below: the first is the standard version and the second is a FastText version that makes it possible to locate words not in a vocabulary/model. "
   ]
  },
  {
   "cell_type": "code",
   "execution_count": 68,
   "metadata": {},
   "outputs": [],
   "source": [
    "def sentencer(sentence):\n",
    "    global stopwords\n",
    "    tokens = word_tokenize(sentence)\n",
    "    sentenced = [token for token in tokens if token not in stopwords] # and  len(token)>2\n",
    "    return sentenced"
   ]
  },
  {
   "cell_type": "code",
   "execution_count": 69,
   "metadata": {},
   "outputs": [],
   "source": [
    "all_talks = ' '.join(talks).lower()"
   ]
  },
  {
   "cell_type": "code",
   "execution_count": 70,
   "metadata": {},
   "outputs": [
    {
     "name": "stdout",
     "output_type": "stream",
     "text": [
      "220118 ['antiquated zoning and land-use regulations are still used to this day to continue putting polluting facilities in my neighborhood.', 'are these factors taken into consideration when land-use policy is decided?', 'what costs are associated with these decisions?']\n"
     ]
    }
   ],
   "source": [
    "raw = sent_tokenize(all_talks)\n",
    "# Check our work by getting the number of sentences and three sentences\n",
    "print(len(raw), raw[500:503])"
   ]
  },
  {
   "cell_type": "code",
   "execution_count": 71,
   "metadata": {},
   "outputs": [
    {
     "name": "stdout",
     "output_type": "stream",
     "text": [
      "220118 [['antiquated', 'zoning', 'land-use', 'regulations', 'still', 'used', 'day', 'continue', 'putting', 'polluting', 'facilities', 'neighborhood', '.'], ['factors', 'taken', 'consideration', 'land-use', 'policy', 'decided', '?'], ['costs', 'associated', 'decisions', '?']]\n"
     ]
    }
   ],
   "source": [
    "sentences = [sentencer(sentence) for sentence in raw]\n",
    "print(len(sentences), sentences[500:503])"
   ]
  },
  {
   "cell_type": "markdown",
   "metadata": {},
   "source": [
    "#### 2a. Word2Vec"
   ]
  },
  {
   "cell_type": "code",
   "execution_count": 72,
   "metadata": {},
   "outputs": [],
   "source": [
    "# the model has 500 dimensions, the minimum document-term frequency is 10\n",
    "w2v_model = gensim.models.Word2Vec(sentences, size=500, min_count=10, sg=1)"
   ]
  },
  {
   "cell_type": "code",
   "execution_count": 73,
   "metadata": {
    "scrolled": true
   },
   "outputs": [
    {
     "name": "stdout",
     "output_type": "stream",
     "text": [
      "Model has 13050 terms.\n"
     ]
    }
   ],
   "source": [
    "print( f\"Model has {len(w2v_model.wv.vocab)} terms.\" )"
   ]
  },
  {
   "cell_type": "code",
   "execution_count": 74,
   "metadata": {
    "scrolled": true
   },
   "outputs": [
    {
     "data": {
      "text/plain": [
       "[('warming', 0.7443718910217285),\n",
       " ('urbanization', 0.7052319049835205),\n",
       " ('impacts', 0.6816669702529907),\n",
       " ('biodiversity', 0.677349328994751),\n",
       " ('negotiations', 0.6746939420700073),\n",
       " ('two-degree', 0.655472993850708),\n",
       " ('desertification', 0.6529867649078369),\n",
       " ('deforestation', 0.6514017581939697),\n",
       " ('degradation', 0.6441167593002319),\n",
       " ('threat', 0.6440238952636719)]"
      ]
     },
     "execution_count": 74,
     "metadata": {},
     "output_type": "execute_result"
    }
   ],
   "source": [
    "w2v_model.wv.most_similar(positive=[\"climate\"])"
   ]
  },
  {
   "cell_type": "code",
   "execution_count": 75,
   "metadata": {},
   "outputs": [
    {
     "data": {
      "text/plain": [
       "[('bad', 0.7264183759689331),\n",
       " ('excellent', 0.624242901802063),\n",
       " ('chariot', 0.5855712890625),\n",
       " ('hopeless', 0.5562121868133545),\n",
       " ('stressful', 0.5558778643608093),\n",
       " ('carbs', 0.5423855781555176),\n",
       " ('timing', 0.541711688041687),\n",
       " ('depressing', 0.5413867831230164),\n",
       " ('stupid', 0.5392094850540161),\n",
       " ('lousy', 0.5367733240127563)]"
      ]
     },
     "execution_count": 75,
     "metadata": {},
     "output_type": "execute_result"
    }
   ],
   "source": [
    "w2v_model.wv.most_similar(['good'])"
   ]
  },
  {
   "cell_type": "code",
   "execution_count": 59,
   "metadata": {},
   "outputs": [],
   "source": [
    "# Save for later\n",
    "# w2v_model.save(\"../output/w2v-model-500-10.bin\")"
   ]
  },
  {
   "cell_type": "code",
   "execution_count": 60,
   "metadata": {},
   "outputs": [],
   "source": [
    "# To re-load this model, run\n",
    "# w2v_model = gensim.models.Word2Vec.load(\"w2v-model.bin\")"
   ]
  },
  {
   "cell_type": "markdown",
   "metadata": {},
   "source": [
    "#### 2b. FastText"
   ]
  },
  {
   "cell_type": "markdown",
   "metadata": {},
   "source": [
    "After encountering repeated **`KeyErrors`** for words \"not in vocabulary\" we are trying the `FastText` model which promises to handle out-of-vocabulary words."
   ]
  },
  {
   "cell_type": "code",
   "execution_count": 82,
   "metadata": {},
   "outputs": [],
   "source": [
    "# Alternate to to obtain word vectors for out-of-vocabulary words\n",
    "ft = gensim.models.FastText(sentences, size=500, min_count=10, sg=1)"
   ]
  },
  {
   "cell_type": "code",
   "execution_count": 83,
   "metadata": {},
   "outputs": [
    {
     "name": "stdout",
     "output_type": "stream",
     "text": [
      "FastText model has 13050 terms.\n"
     ]
    }
   ],
   "source": [
    "print( f\"FastText model has {len(ft.wv.vocab)} terms.\" )"
   ]
  },
  {
   "cell_type": "markdown",
   "metadata": {},
   "source": [
    "### 3. Select the Number of Topics"
   ]
  },
  {
   "cell_type": "code",
   "execution_count": 61,
   "metadata": {},
   "outputs": [],
   "source": [
    "from itertools import combinations"
   ]
  },
  {
   "cell_type": "code",
   "execution_count": 85,
   "metadata": {},
   "outputs": [],
   "source": [
    "def calculate_coherence( w2v_model, term_rankings ):\n",
    "    overall_coherence = 0.0\n",
    "    for topic_index in range(len(term_rankings)):\n",
    "        # check each pair of terms\n",
    "        pair_scores = []\n",
    "        for pair in combinations( term_rankings[topic_index], 2 ):\n",
    "            pair_scores.append( w2v_model.wv.similarity(pair[0], pair[1]) )\n",
    "        # get the mean for all pairs in this topic\n",
    "        topic_score = sum(pair_scores) / len(pair_scores)\n",
    "        overall_coherence += topic_score\n",
    "    # get the mean score across all topics\n",
    "    return overall_coherence / len(term_rankings)"
   ]
  },
  {
   "cell_type": "markdown",
   "metadata": {},
   "source": [
    "**2020-09-07**: I'm working on the `KeyError: \"word not in vocabulary\"` error."
   ]
  },
  {
   "cell_type": "code",
   "execution_count": 86,
   "metadata": {},
   "outputs": [
    {
     "name": "stdout",
     "output_type": "stream",
     "text": [
      "K=20: Coherence=0.4817\n",
      "K=30: Coherence=0.4962\n",
      "K=40: Coherence=0.5021\n",
      "K=50: Coherence=0.5062\n",
      "K=60: Coherence=0.5054\n",
      "K=70: Coherence=0.5042\n",
      "K=80: Coherence=0.4993\n"
     ]
    }
   ],
   "source": [
    "k_values = []\n",
    "coherences = []\n",
    "for (k,W,H) in topic_models:\n",
    "    # Get all of the topic descriptors - the term_rankings, based on top 10 terms\n",
    "    term_rankings = []\n",
    "    for topic_index in range(k):\n",
    "        term_rankings.append( get_descriptor( terms, H, topic_index, 10 ) )\n",
    "    # Now calculate the coherence based on our Word2vec model\n",
    "    k_values.append( k )\n",
    "    coherences.append( calculate_coherence( ft, term_rankings ) )\n",
    "    print(f\"K={k}: Coherence={coherences[-1]:.4f}\")"
   ]
  },
  {
   "cell_type": "code",
   "execution_count": 88,
   "metadata": {},
   "outputs": [
    {
     "data": {
      "image/png": "[encoded data removed]",
      "text/plain": [
       "<Figure size 1152x576 with 1 Axes>"
      ]
     },
     "metadata": {},
     "output_type": "display_data"
    }
   ],
   "source": [
    "fig = plt.figure(figsize=(16,8))\n",
    "# create the line plot\n",
    "ax = plt.plot( k_values, coherences )\n",
    "plt.xticks(k_values)\n",
    "plt.xlabel(\"Number of Topics\")\n",
    "plt.ylabel(\"Mean Coherence\")\n",
    "# add the points\n",
    "plt.scatter( k_values, coherences, s=120)\n",
    "# find and annotate the maximum point on the plot\n",
    "ymax = max(coherences)\n",
    "xpos = coherences.index(ymax)\n",
    "best_k = k_values[xpos]\n",
    "plt.annotate(f\"k={best_k}\", \n",
    "             xy=(best_k, ymax), \n",
    "             xytext=(best_k, ymax), \n",
    "             textcoords=\"offset points\", \n",
    "             fontsize=16)\n",
    "# show the plot\n",
    "plt.show()"
   ]
  }
 ],
 "metadata": {
  "kernelspec": {
   "display_name": "Python 3",
   "language": "python",
   "name": "python3"
  },
  "toc": {
   "base_numbering": 1,
   "nav_menu": {},
   "number_sections": true,
   "sideBar": true,
   "skip_h1_title": true,
   "title_cell": "",
   "title_sidebar": "Contents",
   "toc_cell": true,
   "toc_position": 2,
   "toc_section_display": true,
   "toc_window_display": false
  }
 },
 "nbformat": 4,
 "nbformat_minor": 2
}
