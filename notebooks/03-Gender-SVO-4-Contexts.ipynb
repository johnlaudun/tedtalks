{
 "cells": [
  {
   "cell_type": "markdown",
   "metadata": {},
   "source": [
    "# SVO Contexts\n",
    "\n",
    "**If using this notebook for KWiC, proceed to *Load NLTK Texts*.**\n",
    "\n",
    "This notebook is intended primarily to \"hand\" inspect the contexts for results in other explorations. We are going to try two approaches:\n",
    "\n",
    "- using the SVOs (This turns out to be rather underwhelming.)\n",
    "- using the NLTK's concordance method\n",
    "\n",
    "In the *SVO as Context* below, we end up loading only the mens subcorpus to explore how useful the complete SVOs would be. We don't take this exploration any further.\n",
    "\n",
    "Afterwards, we turn to the texts themselves as context, loading the two gendered dataframes and then collecting the texts from each. We process the two lists of texts with spacy's NLP pipeline to produce featureful documents which make it easy to get the lemmas out. Using the spacy lemmatization parallels our usage in building the SVOs, so we are going to get the same results and thus enable us to explore the two subcorpora much more effectively. \n",
    "\n",
    "Finally, we take the texts as strings of lemmas and create a single NLTK Text, which allows us to use the NLTK's concordance functionality to see words in context. To do this, we create a function that takes spacy doc, lemmatizes the words within it, build a list of lemmas, compiles those lists into a list for the subcorpus, flattens that subcorpus list into a single, very long, string of tokens, from which an NLTK Text is created. We create two NLTK Texts: one for female speakers, `women`, and one for male speakers, `men`. \n",
    "\n",
    "**TO DO**: Find a way to save either the list of spacy docs or the NLTK Text. The spacy NLP pipeline takes time to run, and we shouldn't need to create space docs or NLTK Texts every time we want to use this notebook."
   ]
  },
  {
   "cell_type": "markdown",
   "metadata": {},
   "source": [
    "## SVOs as Context\n",
    "\n",
    "While this was at first appealing because of the simplicity and accuracy, since we would be loading the SVOs themselves, the resulting contexts were too impoverished to be much use for hand inspection. Only the men's subcorpus is loaded here."
   ]
  },
  {
   "cell_type": "code",
   "execution_count": null,
   "metadata": {},
   "outputs": [],
   "source": [
    "import csv, re\n",
    "with open('../output/svos_m_lem.csv', newline='') as csvfile:\n",
    "    reader = csv.reader(csvfile, delimiter=',', quotechar='|')\n",
    "    # Drop the first row\n",
    "    next(reader)\n",
    "    # Skip the first column\n",
    "    contexts_m = [row[1:4] for row in reader]"
   ]
  },
  {
   "cell_type": "markdown",
   "metadata": {},
   "source": [
    "Each line in **contexts** is a list of three strings. The list comprehension below first joins all the items in each line into a single string, it then replaces any square brackets, that sometimes occur in the third item on each line, with nothing. It does this for all the lines in the list."
   ]
  },
  {
   "cell_type": "code",
   "execution_count": null,
   "metadata": {},
   "outputs": [],
   "source": [
    "sentences = [re.sub(\"[\\([{})\\]]\", \"\", ' '.join(item)) for item in contexts_m]\n",
    "print(sentences[0:10])"
   ]
  },
  {
   "cell_type": "markdown",
   "metadata": {},
   "source": [
    "## Lemmatized Contexts"
   ]
  },
  {
   "cell_type": "code",
   "execution_count": null,
   "metadata": {},
   "outputs": [],
   "source": [
    "# IMPORTS\n",
    "import nltk, pandas as pd, spacy\n",
    "\n",
    "# Load the Space pipeline to be used\n",
    "nlp = spacy.load('en_core_web_sm')\n",
    "\n",
    "# Use the pipe method to feed documents \n",
    "docs_w = list(nlp.pipe(texts_w))\n",
    "docs_m = list(nlp.pipe(texts_m))"
   ]
  },
  {
   "cell_type": "code",
   "execution_count": null,
   "metadata": {},
   "outputs": [],
   "source": [
    "def contextualize(spacy_docs):\n",
    "    '''contextualize takes a list of spaCy docs\n",
    "       and converts them to a single NLTK text'''\n",
    "    all_lemmas = []\n",
    "    # Grab the lemmas from each of the documents\n",
    "    # and append to a list of all the lemmas\n",
    "    for doc in spacy_docs:\n",
    "        lemmas = [token.lemma_ for token in doc]\n",
    "        all_lemmas.append(lemmas)\n",
    "    # all_lemmas is a list of lists that needs to be flattened\n",
    "    flattened = [item for sublist in all_lemmas for item in sublist]\n",
    "    # all our texts are now one long list of words to be fed into NLTK Text\n",
    "    contextualized = nltk.Text(flattened)\n",
    "    return contextualized"
   ]
  },
  {
   "cell_type": "code",
   "execution_count": null,
   "metadata": {},
   "outputs": [],
   "source": [
    "women = contextualize(docs_w)\n",
    "men = contextualize(docs_m)"
   ]
  },
  {
   "cell_type": "markdown",
   "metadata": {},
   "source": [
    "## Fuller Contexts"
   ]
  },
  {
   "cell_type": "code",
   "execution_count": 2,
   "metadata": {},
   "outputs": [],
   "source": [
    "# IMPORTS\n",
    "import nltk, pandas as pd\n",
    "from nltk.tokenize import word_tokenize\n",
    "\n",
    "# from nltk.stem import WordNetLemmatizer\n",
    "# wnl = WordNetLemmatizer()\n",
    "\n",
    "# Loading the Data in a gendered partitioned fashion: \n",
    "talks_m = pd.read_csv('../output/talks_male.csv', index_col='Talk_ID')\n",
    "talks_f = pd.read_csv('../output/talks_female.csv', index_col='Talk_ID')"
   ]
  },
  {
   "cell_type": "code",
   "execution_count": 3,
   "metadata": {},
   "outputs": [],
   "source": [
    "# Create NLTK texts for concordances\n",
    "words_w = word_tokenize(\" \".join(talks_f.text.tolist()))\n",
    "women = nltk.Text(words_w)\n",
    "\n",
    "words_m = word_tokenize(\" \".join(talks_m.text.tolist()))\n",
    "men = nltk.Text(words_m)"
   ]
  },
  {
   "cell_type": "code",
   "execution_count": 7,
   "metadata": {},
   "outputs": [],
   "source": [
    "women_tagged = nltk.pos_tag(words_w)"
   ]
  },
  {
   "cell_type": "code",
   "execution_count": 53,
   "metadata": {},
   "outputs": [
    {
     "data": {
      "text/plain": [
       "[('often', 'RB'),\n",
       " ('told', 'VBN'),\n",
       " ('that', 'IN'),\n",
       " ('a', 'DT'),\n",
       " ('real', 'JJ'),\n",
       " ('sustainability', 'NN'),\n",
       " ('policy', 'NN'),\n",
       " ('agenda', 'NN'),\n",
       " ('is', 'VBZ'),\n",
       " ('just', 'RB'),\n",
       " ('not', 'RB'),\n",
       " ('feasible', 'JJ'),\n",
       " (',', ','),\n",
       " ('especially', 'RB'),\n",
       " ('in', 'IN'),\n",
       " ('large', 'JJ'),\n",
       " ('urban', 'JJ'),\n",
       " ('areas', 'NNS'),\n",
       " ('like', 'IN'),\n",
       " ('New', 'NNP'),\n",
       " ('York', 'NNP'),\n",
       " ('City', 'NNP'),\n",
       " ('.', '.'),\n",
       " ('And', 'CC'),\n",
       " ('that', 'DT'),\n",
       " (\"'s\", 'VBZ'),\n",
       " ('because', 'IN'),\n",
       " ('most', 'JJS'),\n",
       " ('people', 'NNS'),\n",
       " ('with', 'IN'),\n",
       " ('decision-making', 'JJ'),\n",
       " ('powers', 'NNS'),\n",
       " (',', ','),\n",
       " ('in', 'IN'),\n",
       " ('both', 'DT'),\n",
       " ('the', 'DT'),\n",
       " ('public', 'NN'),\n",
       " ('and', 'CC'),\n",
       " ('the', 'DT'),\n",
       " ('private', 'JJ')]"
      ]
     },
     "execution_count": 53,
     "metadata": {},
     "output_type": "execute_result"
    }
   ],
   "source": [
    "women_tagged[40:80]"
   ]
  },
  {
   "cell_type": "code",
   "execution_count": 11,
   "metadata": {},
   "outputs": [],
   "source": [
    "sents_w = nltk.tokenize.sent_tokenize(\" \".join(talks_f.text.tolist()))"
   ]
  },
  {
   "cell_type": "code",
   "execution_count": 20,
   "metadata": {},
   "outputs": [
    {
     "data": {
      "text/plain": [
       "[\"  If you're here today — and I'm very happy that you are — you've all heard about how sustainable development will save us from ourselves.\",\n",
       " \"However, when we're not at TED, we are often told that a real sustainability policy agenda is just not feasible, especially in large urban areas like New York City.\",\n",
       " \"And that's because most people with decision-making powers, in both the public and the private sector, really don't feel as though they're in danger.\",\n",
       " \"The reason why I'm here today, in part, is because of a dog — an abandoned puppy I found back in the rain, back in 1998.\",\n",
       " \"She turned out to be a much bigger dog than I'd anticipated.\"]"
      ]
     },
     "execution_count": 20,
     "metadata": {},
     "output_type": "execute_result"
    }
   ],
   "source": [
    "sents_w[0:5]"
   ]
  },
  {
   "cell_type": "code",
   "execution_count": 62,
   "metadata": {},
   "outputs": [],
   "source": [
    "def find_sentences_with_noun(subject_noun, sentences):\n",
    "    noun_subjects = []\n",
    "    noun_sentences = []\n",
    "    for sentence in sentences:\n",
    "        words = word_tokenize(sentence)\n",
    "        tagged_words = nltk.tag.pos_tag(words)\n",
    "        for word, tag in tagged_words:\n",
    "            if \"NN\" in tag and word == subject_noun and tagged_words.index((word, tag)) == 0:\n",
    "                noun_subjects.append(word)\n",
    "                noun_sentences.append(sentence)\n",
    "    return noun_sentences"
   ]
  },
  {
   "cell_type": "code",
   "execution_count": 63,
   "metadata": {},
   "outputs": [
    {
     "data": {
      "text/plain": [
       "[]"
      ]
     },
     "execution_count": 63,
     "metadata": {},
     "output_type": "execute_result"
    }
   ],
   "source": [
    "find_sentences_with_noun(\"man\", sents_w)"
   ]
  },
  {
   "cell_type": "code",
   "execution_count": 44,
   "metadata": {},
   "outputs": [
    {
     "name": "stdout",
     "output_type": "stream",
     "text": [
      "[\"However, when we're not at TED, we are often told that a real sustainability policy agenda is just not feasible, especially in large urban areas like New York City.\"]\n"
     ]
    }
   ],
   "source": [
    "subject_noun = \"policy\"\n",
    "noun_subjects = []\n",
    "\n",
    "for sentence in sents_w[0:2]:\n",
    "    words = word_tokenize(sentence)\n",
    "    tagged_words = nltk.tag.pos_tag(words)\n",
    "    for word, tag in tagged_words:\n",
    "        if tag == \"NN\" and word == subject_noun and tagged_words.index((word, tag)) == 0:\n",
    "            noun_subjects.append(word)\n",
    "            noun_sentences.append(sentence)\n",
    "    \n",
    "print(noun_sentences)"
   ]
  },
  {
   "cell_type": "code",
   "execution_count": 18,
   "metadata": {
    "scrolled": true
   },
   "outputs": [
    {
     "name": "stdout",
     "output_type": "stream",
     "text": [
      "[]\n"
     ]
    }
   ],
   "source": [
    "noun = \"men\"\n",
    "noun_sentences = find_sentences_with_noun(noun, sents_w)\n",
    "print(noun_sentences)"
   ]
  },
  {
   "cell_type": "code",
   "execution_count": 19,
   "metadata": {},
   "outputs": [],
   "source": [
    "import spacy\n",
    "from spacy.lang.en import English"
   ]
  },
  {
   "cell_type": "code",
   "execution_count": 21,
   "metadata": {},
   "outputs": [],
   "source": [
    "nlp = English()\n",
    "def find_sentences_with_noun(subject_noun, sentences):\n",
    "    noun_sentences = []\n",
    "    for sentence in sentences:\n",
    "        doc = nlp(sentence)\n",
    "        for token in doc:\n",
    "            if token.dep_ == \"nsubj\" and token.text == subject_noun:\n",
    "                noun_sentences.append(sentence)\n",
    "    return noun_sentences"
   ]
  },
  {
   "cell_type": "code",
   "execution_count": 24,
   "metadata": {},
   "outputs": [
    {
     "name": "stdout",
     "output_type": "stream",
     "text": [
      "[]\n"
     ]
    }
   ],
   "source": [
    "noun = \"woman\"\n",
    "noun_sentences = find_sentences_with_noun(noun, sents_w)\n",
    "print(noun_sentences)"
   ]
  },
  {
   "cell_type": "markdown",
   "metadata": {},
   "source": [
    "### Save NLTK Texts"
   ]
  },
  {
   "cell_type": "code",
   "execution_count": 4,
   "metadata": {
    "scrolled": true
   },
   "outputs": [],
   "source": [
    "import dill\n",
    "dill.dump(women, file = open(\"../output/contexts_w.pickle\", \"wb\"))\n",
    "dill.dump(men, file = open(\"../output/contexts_m.pickle\", \"wb\"))"
   ]
  },
  {
   "cell_type": "markdown",
   "metadata": {},
   "source": [
    "### Load NLTK Texts"
   ]
  },
  {
   "cell_type": "code",
   "execution_count": null,
   "metadata": {},
   "outputs": [],
   "source": [
    "# To pickup where we left off without having to re-run everything:\n",
    "import dill, nltk\n",
    "women = dill.load(open(\"../output/contexts_w.pickle\", \"rb\"))\n",
    "men = dill.load(open(\"../output/contexts_m.pickle\", \"rb\"))"
   ]
  },
  {
   "cell_type": "markdown",
   "metadata": {},
   "source": [
    "## Words in Context"
   ]
  },
  {
   "cell_type": "code",
   "execution_count": 5,
   "metadata": {
    "scrolled": false
   },
   "outputs": [
    {
     "name": "stdout",
     "output_type": "stream",
     "text": [
      "Displaying 50 of 195 matches:\n",
      "ting any and all sins against God and man . '' ( Laughter ) Now , I had heard t\n",
      "ting any and all sins against God and man . '' And Bill said , `` So ? '' And I\n",
      "and evil . Every single one of them : man , woman , child , infant , fetus . An\n",
      "uicide bombers . ] [ Paradise Now ] [ Man : As long as there is injustice , som\n",
      "nce between victim and occupier . ] [ Man : If we had airplanes , we would n't \n",
      "aeli military is still stronger . ] [ Man : Then let us be equal in death . ] [\n",
      "e ! It only exists in your head ! ] [ Man : God forbid ! ] [ May God forgive yo\n",
      "ive Israel an alibi to carry on ? ] [ Man : So with no alibi , Israel will stop\n",
      "ave to turn it into a moral war . ] [ Man : How , if Israel has no morals ? ] [\n",
      "sic ] [ Amandla ] ( Music ) ( Video ) Man : Song is something that we communica\n",
      "roject that 's done by an Argentinean man and his wife . And he 's basically ta\n",
      " '' is a woman , or a vagina-friendly man , who has witnessed incredible violen\n",
      " it 's an almost perfect example of a man who is focused totally on a particula\n",
      "e dinner party . And in this case , a man got hooked on a bamboo sleeping mat .\n",
      "on , they 're better than the average man . Women can talk . They 've been doin\n",
      "to know Studs Terkel , that old radio man ? So I thought he would be the perfec\n",
      "ruth was , the law was , that a black man was a property , was a thing , you se\n",
      "d , I thought I could really fix this man . So I had a baby by him — insane — t\n",
      "ned because four cops beat up a black man named Rodney King . It was captured o\n",
      "ifestyle movie . I never saw any poor man , any black . Until 1992 , I used to \n",
      "ptop computer . ( Laughter ) And this man , he has been outside , but he 's gon\n",
      " we did n't even know about the white man 50 years ago , and now here we are wi\n",
      " I was at school , we were defined as man , the toolmaker . So that when Louis \n",
      "s something very , very special about man . Maybe it 's his ability to have cau\n",
      "ost of sex . If you 're an uninfected man living in Botswana , where the HIV ra\n",
      "will change . Voice : The real deal , man ! Narrator : You ready ? Soldier : Br\n",
      "Soldiers : IV ! Are we on fire ? IV ! Man down ! Man down ! MM : Keep going , b\n",
      "IV ! Are we on fire ? IV ! Man down ! Man down ! MM : Keep going , brother . Yo\n",
      "y good time , in 1967 , where I met a man who was trying to blow up the math bu\n",
      " . I was fortunate also , to meet the man who 's sitting on the bed , though I \n",
      "od laughs , but Stalin was a paranoid man , even more than my father . '' ( Lau\n",
      "aper and there was the picture of the man on the newspaper and he was dead . An\n",
      "eans over in anguish , not about that man , but about all sad things . It happe\n",
      "bruary . '' There 's consoling . This man is angry because somebody threw onion\n",
      "fy anorak , looking like the Michelin Man . ( Laughter ) By the middle of Febru\n",
      "ar , but it was far from the Michelin Man suit that I had anticipated . Not bad\n",
      " passionate heart of a young American man , Sasha Chanoff , who manages to put \n",
      "night , Priam , king of Troy , an old man , comes into the Greek camp incognito\n",
      "And everybody is shocked when the old man takes off his head covering and shows\n",
      "arts to weep . And Priam looks at the man who has murdered so many of his sons \n",
      "ar in Iraq . And she said , `` Save a man from drowning , you are responsible t\n",
      "because she said it to me : `` save a man from drowning , you are responsible t\n",
      "ng a fish from drowning , or saving a man from drowning — to me they had to do \n",
      "out cairns — stacks of rocks — that a man was building . And I did n't know exa\n",
      "h , I came across this . And it was a man , a Chinese man , and he was stacking\n",
      "s this . And it was a man , a Chinese man , and he was stacking these things , \n",
      "t , there was a terrible accident . A man , an old man , fell asleep , and his \n",
      " a terrible accident . A man , an old man , fell asleep , and his quilt dropped\n",
      "lity was assigned to the family . The man 's sons were banished to live three k\n",
      "he IPCC released its study confirming man 's impact on global warming . The U.S\n"
     ]
    }
   ],
   "source": [
    "women.concordance('man', lines=50)"
   ]
  },
  {
   "cell_type": "code",
   "execution_count": 6,
   "metadata": {},
   "outputs": [
    {
     "name": "stdout",
     "output_type": "stream",
     "text": [
      "Displaying 50 of 635 matches:\n",
      "re and his wife , Tipper . '' And the man said , `` He 's come down a long way \n",
      "st family restaurant chain , what the man said — they laughed . I gave my speec\n",
      " air , and I looked , and there was a man running across the runway . And he wa\n",
      "' I call it `` software rage . '' And man , let me tell you , whoever figures o\n",
      "shirt recently , which said , `` If a man speaks his mind in a forest , and no \n",
      "n her hands for 20 minutes while this man talked to her mother about the proble\n",
      "blocked people 's ability to get this man 's intellect and capacity . And the w\n",
      "ou value most , or uncertainty ? This man could n't be a certainty freak if he \n",
      "er stop you . '' She finishes , and a man stands up , and he says , `` I 'm fro\n",
      "ll I can tell you is , I brought this man on stage with a man from New York who\n",
      " , I brought this man on stage with a man from New York who worked in the World\n",
      " did an indirect negotiation . Jewish man with family in the occupied territory\n",
      "if he was at work that day , and this man who wanted to be a terrorist , and I \n",
      "t a copy , and you 've just heard the man . And what I want to do now is say a \n",
      "to tell you this ; you just heard the man . Excellent insights into human psych\n",
      "r those who know it . But I think the man was maybe 25 years too early . So let\n",
      "Laughter ) And we studied with a wise man , a guru named Karoli Baba , who then\n",
      "aps anyone over the last 20 years , a man who is a great personal hero of mine \n",
      " not so easily placated . Howard is a man of a certain degree of intellectual s\n",
      "— very dark-skinned South Asian . Big man , and he had hair , in his words , ``\n",
      "ries : Was he black or white ? Was he man or woman ? He was really a curious si\n",
      "n the line , then front me the cash , man . '' I think the gang member says it \n",
      " wrote in 1642 , `` I am the happiest man alive . I have that in me that can co\n",
      "oc , for a while , became the richest man in America . And then , finally , som\n",
      " this little black line is as fast as man ever flew , and the red line is top-o\n",
      "ve ever seen . Totally transformed by man . And that got me to go out and look \n",
      ", well , we live in all these ages of man : the Stone Age , and the Iron Age , \n",
      "nd the Copper Age . And these ages of man are still at work today . But we 've \n",
      "ng ? '' To see the largest vessels of man being deconstructed by hand , literal\n",
      "t dam by 50 percent ever attempted by man . Most of the engineers around the wo\n",
      "pass and it gets worse , and even the man wo n't ignore it . Finally , you go t\n",
      "ank you very much . As another famous man , Jerry Garcia , said , `` What a str\n",
      ", on our last day at this orphanage a man handed me his baby and said , `` Woul\n",
      "nd Displacement in Northern Uganda '' Man : When we were at home , it was Kony \n",
      "er soldier also came . Jennifer : The man came and started undressing me . The \n",
      "ing Evelyn came and defiled me also . Man : The soldiers with clubs this long b\n",
      "me . But this , surely , whoever that man is , whatever he 's done , this is cr\n",
      "sor , Richard Evan Shultes — who is a man who sparked the psychedelic era with \n",
      " the Cultural Revolution . This young man 's father had been ascribed to the Pa\n",
      "ing with some Inuit people , and this man , Olayuk , told me a marvelous story \n",
      "rced them into settlements . This old man 's grandfather refused to go . The fa\n",
      "h wrapped in caribou hide . So , this man 's grandfather was not intimidated by\n",
      " I met him , he was a kind gentle old man . And it really impressed me — I met \n",
      "y since . And if you think about this man , 46 years later , still sticking to \n",
      "said to us , you know , I 'm an older man now ; I 'm getting tired , you know ;\n",
      " the people I 'm photographing . This man was in an NGO feeding center , being \n",
      "g the express elevator to hell . This man had just been liberated from a Hutu d\n",
      "ania and Macedonia . The imprint of a man who had been burned inside his own ho\n",
      " . I spent a good deal of time with a man who lived with his family on a railwa\n",
      "s . And in doing so , he banished the man out on the right , Sir Lawrence Bragg\n"
     ]
    }
   ],
   "source": [
    "men.concordance(\"man\", lines=50)"
   ]
  },
  {
   "cell_type": "markdown",
   "metadata": {},
   "source": [
    "To change display results, the contents of the concordance method are: `(\"word\", window width, lines=#[25, all])`. The `window width` is an integer specifying the number of characters to the left and right of a word to display. The default for `lines` is 25, but it can be set to any integer or to `all` (no quotation marks)."
   ]
  }
 ],
 "metadata": {
  "interpreter": {
   "hash": "14a02b88778d8fb8b6aeb4ad427a942bc53dfcda9d7e3737237788289e0d2d23"
  },
  "kernelspec": {
   "display_name": "Python 3 (ipykernel)",
   "language": "python",
   "name": "python3"
  },
  "language_info": {
   "codemirror_mode": {
    "name": "ipython",
    "version": 3
   },
   "file_extension": ".py",
   "mimetype": "text/x-python",
   "name": "python",
   "nbconvert_exporter": "python",
   "pygments_lexer": "ipython3",
   "version": "3.7.11"
  },
  "toc": {
   "base_numbering": 1,
   "nav_menu": {},
   "number_sections": true,
   "sideBar": true,
   "skip_h1_title": true,
   "title_cell": "",
   "title_sidebar": "Contents",
   "toc_cell": true,
   "toc_position": 2,
   "toc_section_display": true,
   "toc_window_display": false
  }
 },
 "nbformat": 4,
 "nbformat_minor": 2
}
