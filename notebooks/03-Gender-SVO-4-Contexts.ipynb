{
 "cells": [
  {
   "cell_type": "markdown",
   "metadata": {},
   "source": [
    "# Contexts\n",
    "\n",
    "This notebook allows us to examine the contexts in which words occur in sentences throughout the two subcorpora. Contexts vary according to the method used:\n",
    "\n",
    "- Using spaCy we can explore contexts by specifying both a word and its part-of-speech.\n",
    "- Using NLTK's `concordance` functionality we can explore all a word's contexts in the conventional KWiC format -- there is also code here for those interested in lemmatizing words before generating an NLTK `text`.\n",
    "- Using the already-generated SVOs, we can quickly glimpse the related subjects, verbs, and objects for a particular word, though it has to be appear somewhere as an S, V, or O."
   ]
  },
  {
   "cell_type": "markdown",
   "metadata": {},
   "source": [
    "## spaCy\n",
    "\n",
    "The code below uses spaCy's `child` functionality to determine what are the subjects of a sentence and then to return the sentences in which a particular subject appears. It could be adapted to a wide variety of uses. \n",
    "\n",
    "Development of this code was based on insights from this Stackoverflow thread: [How to get the dependency tree with spaCy?](https://stackoverflow.com/questions/36610179/how-to-get-the-dependency-tree-with-spacy) thread on Stack Overflow. "
   ]
  },
  {
   "cell_type": "code",
   "execution_count": 5,
   "metadata": {},
   "outputs": [],
   "source": [
    "# IMPORTS\n",
    "import pandas as pd, spacy\n",
    "# from spacy.lang.en import English\n",
    "\n",
    "# Loading the Data in a gendered partitioned fashion: \n",
    "talks_m = pd.read_csv('../output/talks_male.csv', index_col='Talk_ID')\n",
    "talks_f = pd.read_csv('../output/talks_female.csv', index_col='Talk_ID')\n",
    "\n",
    "# And then grabbing on the texts of the talks:\n",
    "texts_women = talks_f.text.tolist()\n",
    "texts_men = talks_m.text.tolist()\n",
    "\n",
    "# Lowercase everything before we create spaCy docs\n",
    "texts_w = ' '.join([text.lower() for text in texts_women])\n",
    "texts_m = ' '.join([text.lower() for text in texts_men])"
   ]
  },
  {
   "cell_type": "code",
   "execution_count": 1,
   "metadata": {},
   "outputs": [],
   "source": [
    "nlp = spacy.load('en_core_web_sm')\n",
    "\n",
    "# spaCy is fussy about memory allocation\n",
    "# Use the pipe method to feed documents \n",
    "docs_w = nlp.pipe(texts_w)\n",
    "# docs_m = list(nlp.pipe(texts_m))"
   ]
  },
  {
   "cell_type": "code",
   "execution_count": 4,
   "metadata": {},
   "outputs": [],
   "source": [
    "# This function allows us to specify the subject of the sentence\n",
    "# and to see all the sentences in which it appears as the subject.\n",
    "def find_subject(subject, doc):\n",
    "    subject_sents = []\n",
    "    sentences = doc.sents\n",
    "    for sentence in sentences:\n",
    "        root_token = sentence.root\n",
    "        for child in root_token.children:\n",
    "            if child.dep_ == 'nsubj':\n",
    "                subj = child\n",
    "                if subj.text == subject:\n",
    "                    subject_sents.append(sentence)\n",
    "    return subject_sents"
   ]
  },
  {
   "cell_type": "code",
   "execution_count": 12,
   "metadata": {
    "scrolled": true
   },
   "outputs": [],
   "source": [
    "for doc in docs_w:\n",
    "    find_subject(\"father\", doc)"
   ]
  },
  {
   "cell_type": "markdown",
   "metadata": {},
   "source": [
    "Not sure why **below** works and **above** does not."
   ]
  },
  {
   "cell_type": "code",
   "execution_count": 10,
   "metadata": {},
   "outputs": [],
   "source": [
    "doc_one = nlp(texts_women[1])"
   ]
  },
  {
   "cell_type": "code",
   "execution_count": 11,
   "metadata": {},
   "outputs": [
    {
     "data": {
      "text/plain": [
       "[And my father smiled and said, \"Well, you know what that means, don't you?\"]"
      ]
     },
     "execution_count": 11,
     "metadata": {},
     "output_type": "execute_result"
    }
   ],
   "source": [
    "find_subject('father', doc_one)"
   ]
  },
  {
   "cell_type": "code",
   "execution_count": 9,
   "metadata": {
    "scrolled": true
   },
   "outputs": [
    {
     "data": {
      "text/plain": [
       "'  On September 10, the morning of my seventh birthday, I came downstairs to the kitchen, where my mother was washing the dishes and my father was reading the paper or something, and I sort of presented myself to them in the doorway, and they said, \"Hey, happy birthday!\" And I said, \"I\\'m seven.\" And my father smiled and said, \"Well, you know what that means, don\\'t you?\" And I said, \"Yeah, that I\\'m going to have a party and a cake and get a lot of presents?\" And my dad said, \"Well, yes. But more importantly, being seven means that you\\'ve reached the age of reason, and you\\'re now capable of committing any and all sins against God and man.\"    (Laughter)    Now, I had heard this phrase, \"age of reason,\" before. Sister Mary Kevin had been bandying it about my second-grade class at school. But when she said it, the phrase seemed all caught up in the excitement of preparations for our first communion and our first confession, and everybody knew that was really all about the white dress and the white veil. And anyway, I hadn\\'t really paid all that much attention to that phrase, \"age of reason.\" So, I said, \"Yeah, yeah, age of reason. What does that mean again?\" And my dad said, \"Well, we believe, in the Catholic Church, that God knows that little kids don\\'t know the difference between right and wrong, but when you\\'re seven, you\\'re old enough to know better. So, you\\'ve grown up and reached the age of reason, and now God will start keeping notes on you, and begin your permanent record.\"    (Laughter)    And I said, \"Oh ... Wait a minute. You mean all that time, up till today, all that time I was so good, God didn\\'t notice it?\" And my mom said, \"Well, I noticed it.\"    (Laughter)    And I thought, \"How could I not have known this before? How could it not have sunk in when they\\'d been telling me? All that being good and no real credit for it. And worst of all, how could I not have realized this very important information until the very day that it was basically useless to me?\" So I said, \"Well, Mom and Dad, what about Santa Claus? I mean, Santa Claus knows if you\\'re naughty or nice, right?\" And my dad said, \"Yeah, but, honey, I think that\\'s technically just between Thanksgiving and Christmas.\" And my mother said, \"Oh, Bob, stop it. Let\\'s just tell her. I mean, she\\'s seven. Julie, there is no Santa Claus.\"    (Laughter)    Now, this was actually not that upsetting to me. My parents had this whole elaborate story about Santa Claus: how they had talked to Santa Claus himself and agreed that instead of Santa delivering our presents over the night of Christmas Eve, like he did for every other family who got to open their surprises first thing Christmas morning, our family would give Santa more time. Santa would come to our house while we were at nine o\\'clock high mass on Christmas morning, but only if all of us kids did not make a fuss. Which made me very suspicious. It was pretty obvious that it was really our parents giving us the presents. I mean, my dad had a very distinctive wrapping style, and my mother\\'s handwriting was so close to Santa\\'s.    (Laughter)    Plus, why would Santa save time by having to loop back to our house after he\\'d gone to everybody else\\'s? There was only one obvious conclusion to reach from this mountain of evidence: our family was too strange and weird for even Santa Claus to come visit, and my poor parents were trying to protect us from the embarrassment, this humiliation of rejection by Santa, who was jolly — but let\\'s face it, he was also very judgmental. So to find out that there was no Santa Claus at all was actually sort of a relief.    I left the kitchen not really in shock about Santa, but rather, I was just dumbfounded about how I could have missed this whole age of reason thing. It was too late for me, but maybe I could help someone else, someone who could use the information. They had to fit two criteria: they had to be old enough to be able to understand the whole concept of the age of reason, and not yet seven. The answer was clear: my brother Bill. He was six. Well, I finally found Bill about a block away from our house at this public school playground. It was a Saturday, and he was all by himself, just kicking a ball against the side of a wall. I ran up to him and said, \"Bill! I just realized that the age of reason starts when you turn seven, and then you\\'re capable of committing any and all sins against God and man.\" And Bill said, \"So?\" And I said, \"So, you\\'re six. You have a whole year to do anything you want to and God won\\'t notice it.\" And he said, \"So?\" And I said, \"So? So everything!\" And I turned to run. I was so angry with him. But when I got to the top of the steps, I turned around dramatically and said, \"Oh, by the way, Bill — there is no Santa Claus.\"    (Laughter)    Now, I didn\\'t know it at the time, but I really wasn\\'t turning seven on September 10th. For my 13th birthday, I planned a slumber party with all of my girlfriends, but a couple of weeks beforehand my mother took me aside and said, \"I need to speak to you privately. September 10th is not your birthday. It\\'s October 10th.\" And I said, \"What?\"    (Laughter)    And she said ...    (Laughter)    \"Listen. The cut-off date to start kindergarten was September 15th.\"    (Laughter)    \"So I told them that your birthday was September 10th, and then I wasn\\'t sure that you weren\\'t just going to go blab it all over the place, so I started to tell you your birthday was September 10th. But, Julie, you were so ready to start school, honey. You were so ready.\" I thought about it, and when I was four, I was already the oldest of four children, and my mother even had another child to come, so what I think she — understandably — really meant was that she was so ready, she was so ready. Then she said, \"Don\\'t worry, Julie. Every year on October 10th, when it was your birthday but you didn\\'t realize it, I made sure that you ate a piece of cake that day.\"    (Laughter)    Which was comforting, but troubling. My mother had been celebrating my birthday with me, without me.    (Laughter)    What was so upsetting about this new piece of information was not that I had to change the date of my slumber party with all of my girlfriends. What was most upsetting was that this meant I was not a Virgo. I had a huge Virgo poster in my bedroom. And I read my horoscope every single day, and it was so totally me.    (Laughter)    And this meant that I was a Libra? So, I took the bus downtown to get the new Libra poster. The Virgo poster is a picture of a beautiful woman with long hair, sort of lounging by some water, but the Libra poster is just a huge scale. This was around the time that I started filling out physically, and I was filling out a lot more than a lot of the other girls, and frankly, the whole idea that my astrological sign was a scale just seemed ominous and depressing.    (Laughter)    But I got the new Libra poster, and I started to read my new Libra horoscope, and I was astonished to find that it was also totally me.    (Laughter)    It wasn\\'t until years later, looking back on this whole age-of-reason, change-of-birthday thing, that it dawned on me: I wasn\\'t turning seven when I thought I turned seven. I had a whole other month to do anything I wanted to before God started keeping tabs on me. Oh, life can be so cruel. One day, two Mormon missionaries came to my door. Now, I just live off a main thoroughfare in Los Angeles, and my block is — well, it\\'s a natural beginning for people who are peddling things door to door. Sometimes I get little old ladies from the Seventh Day Adventist Church showing me these cartoon pictures of heaven. And sometimes I get teenagers who promise me that they won\\'t join a gang and just start robbing people, if I only buy some magazine subscriptions from them. So normally, I just ignore the doorbell, but on this day, I answered. And there stood two boys, each about 19, in white, starched short-sleeved shirts, and they had little name tags that identified them as official representatives of the Church of Jesus Christ of Latter-day Saints, and they said they had a message for me, from God. I said, \"A message for me? From God?\" And they said, \"Yes.\" Now, I was raised in the Pacific Northwest, around a lot of Church of Latter-day Saints people and, you know, I\\'ve worked with them and even dated them, but I never really knew the doctrine, or what they said to people when they were out on a mission, and I guess I was sort of curious, so I said, \"Well, please, come in.\" And they looked really happy, because I don\\'t think this happens to them all that often.    (Laughter)    And I sat them down, and I got them glasses of water — Ok, I got it, I got it. I got them glasses of water. Don\\'t touch my hair, that\\'s the thing.    (Laughter)    You can\\'t put a video of myself in front of me and expect me not to fix my hair. Ok.    (Laughter)    So I sat them down and I got them glasses of water, and after niceties, they said, \"Do you believe that God loves you with all his heart?\" And I thought, \"Well, of course I believe in God, but you know, I don\\'t like that word \\'heart,\\' because it anthropomorphizes God, and I don\\'t like the word, \\'his,\\' either, because that sexualizes God.\" But I didn\\'t want to argue semantics with these boys, so after a very long, uncomfortable pause, I said, \"Yes, yes, I do. I feel very loved.\" And they looked at each other and smiled, like that was the right answer. And then they said, \"Do you believe that we\\'re all brothers and sisters on this planet?\" And I said, \"Yes, I do.\" And I was so relieved that it was a question I could answer so quickly. And they said, \"Well, then we have a story to tell you.\"    And they told me this story all about this guy named Lehi, who lived in Jerusalem in 600 BC. Now, apparently in Jerusalem in 600 BC, everyone was completely bad and evil. Every single one of them: man, woman, child, infant, fetus. And God came to Lehi and said to him, \"Put your family on a boat and I will lead you out of here.\" And God did lead them. He led them to America. I said, \"America?    (Laughter)    From Jerusalem to America by boat in 600 BC?\" And they said, \"Yes.\"    (Laughter)    Then they told me how Lehi and his descendants reproduced and reproduced, and over the course of 600 years, there were two great races of them, the Nephites and the Lamanites, and the Nephites were totally good — each and every one of them — and the Lamanites were totally bad and evil — every single one of them just bad to the bone.    Then, after Jesus died on the cross for our sins, on his way up to heaven, he stopped by America and visited the Nephites.    (Laughter)    And he told them that if they all remained totally, totally good — each and every one of them — they would win the war against the evil Lamanites. But apparently somebody blew it, because the Lamanites were able to kill all the Nephites. All but one guy, this guy named Mormon, who managed to survive by hiding in the woods. And he made sure this whole story was written down in reformed Egyptian hieroglyphics chiseled onto gold plates, which he then buried near Palmyra, New York.    (Laughter)    Well, I was just on the edge of my seat.    (Laughter)    I said, \"What happened to the Lamanites?\" And they said, \"Well, they became our Native Americans, here in the U.S.\" And I said, \"So, you believe the Native Americans are descended from a people who were totally evil?\" And they said, \"Yes.\" Then they told me how this guy named Joseph Smith found those buried gold plates right in his backyard, and he also found this magic stone back there that he put into his hat and then buried his face into, and this allowed him to translate the gold plates from the reformed Egyptian into English.    Well, at this point I just wanted to give these two boys some advice about their pitch.    (Laughter)    I wanted to say —    (Applause)    \"Ok, don\\'t start with this story.\"    (Laughter)    I mean, even the Scientologists know to start with a personality test before they start —    (Applause)    telling people all about Xenu, the evil intergalactic overlord. Then, they said, \"Do you believe that God speaks to us through his righteous prophets?\" And I said, \"No, I don\\'t,\" because I was sort of upset about this Lamanite story and this crazy gold plate story, but the truth was, I hadn\\'t really thought this through, so I backpedaled a little and I said, \"Well, what exactly do you mean by \\'righteous\\'? And what do you mean by prophets? Like, could the prophets be women?\" And they said, \"No.\" And I said, \"Why?\" And they said, \"Well, it\\'s because God gave women a gift that is so spectacular, it is so wonderful, that the only gift he had left over to give men was the gift of prophecy.\" What is this wonderful gift God gave women, I wondered? Maybe their greater ability to cooperate and adapt?    (Laughter)    Women\\'s longer lifespan? The fact that women tend to be much less violent than men? But no — it wasn\\'t any of these gifts. They said, \"Well, it\\'s her ability to bear children.\" I said, \"Oh, come on. I mean, even if women tried to have a baby every single year from the time they were 15 to the time they were 45, assuming they didn\\'t die from exhaustion, it still seems like some women would have some time left over to hear the word of God.\" And they said, \"No.\"    (Laughter)    Well, then they didn\\'t look so fresh-faced and cute to me any more, but they had more to say. They said, \"Well, we also believe that if you\\'re a Mormon, and if you\\'re in good standing with the church, when you die, you get to go to heaven and be with your family for all eternity.\" And I said, \"Oh, dear.    (Laughter)    That wouldn\\'t be such a good incentive for me.\"    (Laughter)    And they said, \"Oh.    (Laughter)    Hey! Well, we also believe that when you go to heaven, you get your body restored to you in its best original state. Like, if you\\'d lost a leg, well, you get it back. Or, if you\\'d gone blind, you could see.\" I said, \"Oh. Now, I don\\'t have a uterus, because I had cancer a few years ago. So does this mean that if I went to heaven, I would get my old uterus back?\" And they said, \"Sure.\" And I said, \"I don\\'t want it back. I\\'m happy without it.\" Gosh. What if you had a nose job and you liked it?    (Laughter)    Would God force you to get your old nose back? Then they gave me this Book of Mormon, told me to read this chapter and that chapter, and said they\\'d come back and check in on me, and I think I said something like, \"Please don\\'t hurry,\" or maybe just, \"Please don\\'t,\" and they were gone.    Ok, so I initially felt really superior to these boys, and smug in my more conventional faith. But then the more I thought about it, the more I had to be honest with myself. If someone came to my door and I was hearing Catholic theology and dogma for the very first time, and they said, \"We believe that God impregnated a very young girl without the use of intercourse, and the fact that she was a virgin is maniacally important to us.\"    (Laughter)    \"And she had a baby, and that\\'s the son of God,\" I mean, I would think that\\'s equally ridiculous. I\\'m just so used to that story.    (Laughter)    So, I couldn\\'t let myself feel condescending towards these boys. But the question they asked me when they first arrived really stuck in my head: Did I believe that God loved me with all his heart? Because I wasn\\'t exactly sure how I felt about that question. Now, if they had asked me, \"Do you feel that God loves you with all his heart?\" Well, that would have been much different, I think I would have instantly answered, \"Yes, yes, I feel it all the time. I feel God\\'s love when I\\'m hurt and confused, and I feel consoled and cared for. I take shelter in God\\'s love when I don\\'t understand why tragedy hits, and I feel God\\'s love when I look with gratitude at all the beauty I see.\" But since they asked me that question with the word \"believe\" in it, somehow it was all different, because I wasn\\'t exactly sure if I believed what I so clearly felt.  '"
      ]
     },
     "execution_count": 9,
     "metadata": {},
     "output_type": "execute_result"
    }
   ],
   "source": [
    "texts_women[1]"
   ]
  },
  {
   "cell_type": "code",
   "execution_count": null,
   "metadata": {},
   "outputs": [],
   "source": [
    "def find_root(subject, doc):\n",
    "    subject_sents = []\n",
    "    sentences = doc.sents\n",
    "    for sentence in sentences:\n",
    "        root_token = sentence.root\n",
    "        for child in root_token.children:\n",
    "            if child.dep_ == 'nsubj':\n",
    "                subj = child\n",
    "                if subj.text == subject:\n",
    "                    subject_sents.append(sentence)\n",
    "    return subject_sents"
   ]
  },
  {
   "cell_type": "code",
   "execution_count": null,
   "metadata": {},
   "outputs": [],
   "source": [
    "for sentence in sentences:\n",
    "    print(sentence)"
   ]
  },
  {
   "cell_type": "code",
   "execution_count": null,
   "metadata": {},
   "outputs": [],
   "source": [
    "find_subject(\"i\", docs_w[0])"
   ]
  },
  {
   "cell_type": "markdown",
   "metadata": {},
   "source": [
    "## NLTK\n",
    "\n",
    "To change display results, the contents of the concordance method are: `(\"word\", window width, lines=#[25, all])`. The `window width` is an integer specifying the number of characters to the left and right of a word to display. The default for `lines` is 25, but it can be set to any integer or to `all` (no quotation marks)."
   ]
  },
  {
   "cell_type": "code",
   "execution_count": 6,
   "metadata": {},
   "outputs": [],
   "source": [
    "import nltk\n",
    "from nltk import word_tokenize\n",
    "\n",
    "# Create NLTK texts for concordances\n",
    "words_w = word_tokenize(\" \".join(talks_f.text.tolist()))\n",
    "women = nltk.Text(words_w)\n",
    "\n",
    "words_m = word_tokenize(\" \".join(talks_m.text.tolist()))\n",
    "men = nltk.Text(words_m)"
   ]
  },
  {
   "cell_type": "code",
   "execution_count": 9,
   "metadata": {
    "scrolled": false
   },
   "outputs": [
    {
     "name": "stdout",
     "output_type": "stream",
     "text": [
      "Displaying 45 of 45 matches:\n",
      ", because the Lamanites were able to kill all the Nephites . All but one guy ,\n",
      "ifice , that 's revenge ! ] [ If you kill , there 's no difference between vic\n",
      "now — I put this in today — he would kill me . But the thing was , my friends \n",
      "s public audience . And I started to kill my blog slowly . I 'm like , I do n'\n",
      " would you stroke my vagina , '' you kill the act right there . ( Laughter ) I\n",
      " thank you , '' you certainly do n't kill yourself or slip into a clinical dep\n",
      "people who are rejected in love will kill for it . People live for love . They\n",
      "for it . People live for love . They kill for love . They die for love . They \n",
      "ble . They want to commit suicide or kill somebody else . I would recommend it\n",
      "ress the dopamine circuit , but they kill the sex drive . And when you kill th\n",
      "ey kill the sex drive . And when you kill the sex drive , you kill orgasm . An\n",
      "nd when you kill the sex drive , you kill orgasm . And when you kill orgasm , \n",
      "ive , you kill orgasm . And when you kill orgasm , you kill that flood of drug\n",
      "asm . And when you kill orgasm , you kill that flood of drugs associated with \n",
      "xins , or with radiation , trying to kill it . It 's almost as if we 're getti\n",
      "ere are very few other diseases that kill people , we can really attribute tha\n",
      "The husband , furious , threatens to kill the American . Jenny is horrified at\n",
      "y , because they 're not supposed to kill anything . And they also have to mak\n",
      "lly , life forms produce things that kill themselves . Well , we did pull thro\n",
      " replicator , is dangerous enough to kill people off ? Well , we did pull thro\n",
      "for love , they live for love , they kill for love , and they die for love . A\n",
      "r fast asleep , because I knew he 'd kill me if I let her go by herself , and \n",
      " planet . Many of them are trying to kill us from the minute we go into them ,\n",
      "and 30 parts per million of H2S will kill you . This is regularly several hund\n",
      "id the humiliation of rejection will kill you ? Are n't you afraid that you 'r\n",
      "ishing nets , gear that continues to kill . We 're clogging the ocean , poison\n",
      "part of our life support system . We kill using long lines , with baited hooks\n",
      "e all of the antibiotics that we use kill bacteria . They either pop the bacte\n",
      " so it ca n't replicate its DNA . We kill bacteria with traditional antibiotic\n",
      " a disease that 's going to possibly kill me 10 years from now , or I could us\n",
      "e mortality . We already know how to kill malaria , but some people come to yo\n",
      " . They are not beautiful and do n't kill anybody . And yet , when the young g\n",
      "s are real , freight trains maim and kill , and anyone who has lived on the st\n",
      "ce providers and had them physically kill the switch on the country 's connect\n",
      "basically , like , the more cops you kill , the more points you get , and stuf\n",
      "uff with them , but you can , like , kill them and take your money back . Yeah\n",
      "ections such as the one Joe had will kill people once again . In fact , they a\n",
      " . If you knew that any injury could kill you , would you ride a motorcycle , \n",
      " to die there . I was just like , `` Kill me now . I 'm good . This is beautif\n",
      "continue telling my jokes , they 'll kill me and they 'll kill my family . And\n",
      "okes , they 'll kill me and they 'll kill my family . And those death threats \n",
      "hing you have to recover from . They kill as many people as not . They will hu\n",
      "t crushing moment where he wanted to kill my new little life form , I realized\n",
      "My goal is not to find technology to kill the new microscopic life around us .\n",
      "l antibiotics , antibiotics that can kill the world 's worst superbugs . This \n"
     ]
    }
   ],
   "source": [
    "women.concordance('kill', lines=50)"
   ]
  },
  {
   "cell_type": "code",
   "execution_count": 8,
   "metadata": {},
   "outputs": [
    {
     "name": "stdout",
     "output_type": "stream",
     "text": [
      "Displaying 100 of 128 matches:\n",
      "omebody else says , `` I 'm going to kill people to do it . '' They 're trying\n",
      "s way ; shoot ; and you 're bound to kill something . So , this is the promise\n",
      "hem might carry a disease that could kill you , for which you had no antiviral\n",
      "iseases is to find them early and to kill them before they spread . So , my TE\n",
      "ings tried , and when they crash and kill the pilot , do n't try that again . \n",
      "an delay technology , but you ca n't kill it . So this makes sense , because i\n",
      "eart and blood vessel diseases still kill more people — not only in this count\n",
      " they discovered there was a plot to kill him , they dressed him up like a beg\n",
      "n't , you know , get the army out to kill terrorists . So I 'm not really worr\n",
      "s death genes that have to go in and kill cell reproduction . You know , that \n",
      "t 200 times the radiation that would kill you . And by now you should be getti\n",
      "xample , which reserves the right to kill , the right to be duplicitous and so\n",
      "on the question , `` Did an asteroid kill the dinosaurs ? '' And the first pap\n",
      "gabe , like Kim Jong-Il — people who kill in hundreds of thousands or millions\n",
      "at 's not our problem now . They can kill three million in Chicago tomorrow an\n",
      " want to dig a hole and they want to kill something . ( Laughter ) I do n't wa\n",
      "e Marines are going to come over and kill you . ( Laughter ) ( Applause ) Depa\n",
      " these are the guys who are going to kill them first . So it 's better off to \n",
      " the women alive ? Now , therefore , kill every male among the little ones and\n",
      "every male among the little ones and kill every woman that hath known man by l\n",
      "r yourselves . ' '' In other words , kill the men ; kill the children ; if you\n",
      "' '' In other words , kill the men ; kill the children ; if you see any virgin\n",
      "hinking , `` I do n't really want to kill that guy , but he 's about to kill m\n",
      "o kill that guy , but he 's about to kill me . Maybe I had better shoot him , \n",
      " since , even if he does n't want to kill me , he 's probably worrying right n\n",
      "ably worrying right now that I might kill him before he kills me . '' And so o\n",
      "rn that creates its own pesticide to kill a corn borer . You may of heard of i\n",
      "do , we need to recognize you ca n't kill the instinct the technology produces\n",
      "we wanted to do that , we 'd have to kill a stuntman . ( Laughter ) It would b\n",
      "ain that he 's going to use later to kill him , as bad guys do . ( Video ) Bro\n",
      "NASA had no interest ; they tried to kill the project . The people who support\n",
      "ome , we digested it with enzymes to kill all the proteins , and it was pretty\n",
      " entomopathogenic fungi — fungi that kill insects . Our house was being destro\n",
      "ium species of a group of fungi that kill carpenter ants , as well as termites\n",
      "we ought to eradicate these things , kill them , because they 're making a mes\n",
      "s . And in return , we just tried to kill them all the time . ( Laughter ) And\n",
      "r to delay — until Act Five , he can kill him . It 's the same with the Chopin\n",
      "azy , do n't do that , you 're going kill the guy . ( Laughter ) And he wanted\n",
      "ding up to men with guns who want to kill us ? All through that one year , my \n",
      "agrarian community , somebody had to kill the animals , there was no Whole Foo\n",
      " I turned 13 , it was my turn now to kill a goat . And I was this weird , sens\n",
      "a child 's eyes . So when I tried to kill this goat and I could n't , Emmanuel\n",
      "n't have to look into them , while I kill the goat . It did n't seem like a lo\n",
      "his effect : `` we have the right to kill four million Americans , two million\n",
      "ange their appearance ? 15 . Do they kill , torture , mutilate ? 13 . If they \n",
      "ce , 12 of 13 — that 's 90 percent — kill , torture , mutilate . And that 's t\n",
      "in hiding , because people wanted to kill him , and then his mother and his wi\n",
      "rive a nine-second quarter mile , or kill a man . I know I can . Unlike any po\n",
      "he Ten Commandments : Thou shalt not kill . That 's a , kind of a one-on-one t\n",
      "rom forming the tangles that seem to kill large sections of the brain when the\n",
      " small as 200 parts per million will kill you . You only have to go to the Bla\n",
      "s — and you use natural selection to kill off not-as-good solutions . Usually \n",
      "e budget of any country and it might kill untold amounts of sea life in the pr\n",
      " bush meat ; forest animals they can kill to feed their families . Patrice and\n",
      "afraid to fight , so we just have to kill a few of their soldiers to defeat th\n",
      "he `` sweet gravy , stop me before I kill again ! '' That is actually the devi\n",
      "y of the SPCA is , it was founded to kill dogs and cats . Cities gave them a c\n",
      " So what do I have to do ? I have to kill a Frenchman when I come back at home\n",
      "ed you to know that this is going to kill your children early . How are you fe\n",
      "xposed to low oxygen does not always kill . So , in this room , there 's 20 pe\n",
      "s raped , and what you want to do is kill her . What are the chances that repr\n",
      " the mosquito ? Well , let 's try to kill it with consumer electronics . '' No\n",
      "ide : `` Is this an insect I want to kill , or an insect I do n't want to kill\n",
      "kill , or an insect I do n't want to kill ? '' Moore 's law made computing che\n",
      "aughter ) Now , it turns out we only kill the female mosquitoes . They 're the\n",
      "e going to show you , instead of the kill laser , which will be a very brief ,\n",
      " Bang . An interesting thing is , we kill them all the time ; we 've never act\n",
      " Do you worry about what is going to kill you ? Heart disease , cancer , a car\n",
      "nuities , '' meaning that they could kill up to 100 million people in the next\n",
      "e lives . No longer must flu have to kill half a million people a year . No lo\n",
      "a year . No longer does AIDS need to kill two million a year . No longer do th\n",
      " more of us : arthritis . Cancer may kill you , but when you look at the numbe\n",
      "o raise their voices , they tried to kill . The intelligence agencies wanted t\n",
      "ake a pacifist toothpaste — does n't kill germs , just asks them to leave . It\n",
      "cation program is trying to do is to kill the virus itself that causes polio e\n",
      "I was little , I remember , he would kill flies in our house with my BB gun . \n",
      "e knew how to pump it just enough to kill the fly and not damage what it lande\n",
      "that did the best job . Save those . Kill off the rest . And now let 's reprod\n",
      "s they commit , but do we deserve to kill ? I mean , it 's fascinating . Death\n",
      "is question of whether we deserve to kill . And it 's interesting , when I tea\n",
      "t just a thief . I think even if you kill someone , you 're not just a killer \n",
      "ong as you did n't overdose them and kill them . Beyond these sorts of things \n",
      " everybody inside . It does n't just kill everybody , it mangles the bodies be\n",
      "rs Breivik . Now , if he intended to kill in Olso , Norway last year , dozens \n",
      "to die . When I was 13 , I wanted to kill a kid . When I was 14 , I was asked \n",
      "because of the cruelty . He tried to kill himself in grade 10 when a kid who c\n",
      "know when you prohibit failure , you kill innovation . If you kill innovation \n",
      "ilure , you kill innovation . If you kill innovation in fundraising , you ca n\n",
      " call factivism . It 's not going to kill you . In fact , it could save countl\n",
      "em , and this is what they do . They kill our livestock . This is one of the c\n",
      "o upset about this problem . So they kill the lions . It 's one of the six lio\n",
      "-nots and not cheat , steal , maim , kill , but that if we have enough , we ha\n",
      " themselves ready . In their bids to kill , I got the police on standby , and \n",
      "ame that fateful morning to come and kill the child . I recall how they were s\n",
      " , and he feels he 's honor-bound to kill her . Well , he 's treating his more\n",
      "bal societies do children abandon or kill their parents ? It happens mainly un\n",
      " you have all around such people who kill and who flog , and you speak for you\n",
      "ecific chemical weapon . It does n't kill the roach , nor does it sedate it . \n",
      "e forces working very , very hard to kill us . Nothing personal . Whether it w\n",
      "petition that is sometimes trying to kill you . It 's sometimes trying to put \n"
     ]
    }
   ],
   "source": [
    "men.concordance(\"kill\", lines=100)"
   ]
  },
  {
   "cell_type": "markdown",
   "metadata": {},
   "source": [
    "### Lemmatized Concordance: a spaCy / NLTK hybrid"
   ]
  },
  {
   "cell_type": "code",
   "execution_count": null,
   "metadata": {},
   "outputs": [],
   "source": [
    "# IMPORTS\n",
    "import nltk, pandas as pd, spacy\n",
    "\n",
    "# Load the Space pipeline to be used\n",
    "nlp = spacy.load('en_core_web_sm')\n",
    "\n",
    "# Use the pipe method to feed documents \n",
    "docs_w = list(nlp.pipe(texts_w))\n",
    "docs_m = list(nlp.pipe(texts_m))"
   ]
  },
  {
   "cell_type": "code",
   "execution_count": 13,
   "metadata": {},
   "outputs": [],
   "source": [
    "def contextualize(spacy_docs):\n",
    "    '''contextualize takes a list of spaCy docs\n",
    "       and converts them to a single NLTK text'''\n",
    "    all_lemmas = []\n",
    "    # Grab the lemmas from each of the documents\n",
    "    # and append to a list of all the lemmas\n",
    "    for doc in spacy_docs:\n",
    "        lemmas = [token.lemma_ for token in doc]\n",
    "        all_lemmas.append(lemmas)\n",
    "    # all_lemmas is a list of lists that needs to be flattened\n",
    "    flattened = [item for sublist in all_lemmas for item in sublist]\n",
    "    # all our texts are now one long list of words to be fed into NLTK Text\n",
    "    contextualized = nltk.Text(flattened)\n",
    "    return contextualized"
   ]
  },
  {
   "cell_type": "code",
   "execution_count": null,
   "metadata": {},
   "outputs": [],
   "source": [
    "women = contextualize(docs_w)\n",
    "men = contextualize(docs_m)"
   ]
  },
  {
   "cell_type": "markdown",
   "metadata": {},
   "source": [
    "## SVO\n",
    "\n",
    "While this was at first appealing because of the simplicity and accuracy, since we would be loading the SVOs themselves, the resulting contexts were too impoverished to be much use for hand inspection."
   ]
  },
  {
   "cell_type": "code",
   "execution_count": 2,
   "metadata": {},
   "outputs": [],
   "source": [
    "# IMPORTS\n",
    "import pandas as pd\n",
    "\n",
    "# LOAD DATAFRAMES\n",
    "# the `lem` suffix indicates the verbs have been lemmatized\n",
    "svos_m = pd.read_csv(\"../output/svos_m_lem.csv\", index_col=0)\n",
    "svos_w = pd.read_csv(\"../output/svos_w_lem.csv\", index_col=0)"
   ]
  },
  {
   "cell_type": "code",
   "execution_count": 10,
   "metadata": {},
   "outputs": [
    {
     "data": {
      "text/html": [
       "<div>\n",
       "<style scoped>\n",
       "    .dataframe tbody tr th:only-of-type {\n",
       "        vertical-align: middle;\n",
       "    }\n",
       "\n",
       "    .dataframe tbody tr th {\n",
       "        vertical-align: top;\n",
       "    }\n",
       "\n",
       "    .dataframe thead th {\n",
       "        text-align: right;\n",
       "    }\n",
       "</style>\n",
       "<table border=\"1\" class=\"dataframe\">\n",
       "  <thead>\n",
       "    <tr style=\"text-align: right;\">\n",
       "      <th></th>\n",
       "      <th>subject</th>\n",
       "      <th>verb</th>\n",
       "      <th>object</th>\n",
       "    </tr>\n",
       "  </thead>\n",
       "  <tbody>\n",
       "    <tr>\n",
       "      <th>917</th>\n",
       "      <td>he</td>\n",
       "      <td>kill</td>\n",
       "      <td>[me]</td>\n",
       "    </tr>\n",
       "    <tr>\n",
       "      <th>3820</th>\n",
       "      <td>he</td>\n",
       "      <td>kill</td>\n",
       "      <td>[that]</td>\n",
       "    </tr>\n",
       "    <tr>\n",
       "      <th>4877</th>\n",
       "      <td>he</td>\n",
       "      <td>kill</td>\n",
       "      <td>[hector]</td>\n",
       "    </tr>\n",
       "    <tr>\n",
       "      <th>5839</th>\n",
       "      <td>he</td>\n",
       "      <td>kill</td>\n",
       "      <td>[me]</td>\n",
       "    </tr>\n",
       "    <tr>\n",
       "      <th>11239</th>\n",
       "      <td>he</td>\n",
       "      <td>kill</td>\n",
       "      <td>[22]</td>\n",
       "    </tr>\n",
       "    <tr>\n",
       "      <th>11240</th>\n",
       "      <td>he</td>\n",
       "      <td>kill</td>\n",
       "      <td>[28]</td>\n",
       "    </tr>\n",
       "  </tbody>\n",
       "</table>\n",
       "</div>"
      ],
      "text/plain": [
       "      subject  verb    object\n",
       "917        he  kill      [me]\n",
       "3820       he  kill    [that]\n",
       "4877       he  kill  [hector]\n",
       "5839       he  kill      [me]\n",
       "11239      he  kill      [22]\n",
       "11240      he  kill      [28]"
      ]
     },
     "execution_count": 10,
     "metadata": {},
     "output_type": "execute_result"
    }
   ],
   "source": [
    "svos_w.query(' subject==\"he\" & verb==\"kill\" ')"
   ]
  }
 ],
 "metadata": {
  "interpreter": {
   "hash": "14a02b88778d8fb8b6aeb4ad427a942bc53dfcda9d7e3737237788289e0d2d23"
  },
  "kernelspec": {
   "display_name": "Python 3 (ipykernel)",
   "language": "python",
   "name": "python3"
  },
  "language_info": {
   "codemirror_mode": {
    "name": "ipython",
    "version": 3
   },
   "file_extension": ".py",
   "mimetype": "text/x-python",
   "name": "python",
   "nbconvert_exporter": "python",
   "pygments_lexer": "ipython3",
   "version": "3.9.16"
  },
  "toc": {
   "base_numbering": 1,
   "nav_menu": {},
   "number_sections": true,
   "sideBar": true,
   "skip_h1_title": true,
   "title_cell": "",
   "title_sidebar": "Contents",
   "toc_cell": true,
   "toc_position": 2,
   "toc_section_display": true,
   "toc_window_display": false
  }
 },
 "nbformat": 4,
 "nbformat_minor": 2
}
