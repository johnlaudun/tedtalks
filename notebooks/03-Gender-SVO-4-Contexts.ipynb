{
 "cells": [
  {
   "cell_type": "markdown",
   "metadata": {},
   "source": [
    "# Contexts\n",
    "\n",
    "This notebook allows us to examine the contexts in which words occur in sentences throughout the two subcorpora. Contexts vary according to the method used:\n",
    "\n",
    "- Using spaCy we can explore contexts by specifying both a word and its part-of-speech.\n",
    "- Using NLTK's `concordance` functionality we can explore all a word's contexts in the conventional KWiC format -- there is also code here for those interested in lemmatizing words before generating an NLTK `text`.\n",
    "- Using the already-generated SVOs, we can quickly glimpse the related subjects, verbs, and objects for a particular word, though it has to be appear somewhere as an S, V, or O."
   ]
  },
  {
   "cell_type": "markdown",
   "metadata": {},
   "source": [
    "## spaCy\n",
    "\n",
    "The code below uses spaCy's `child` functionality to determine what are the subjects of a sentence and then to return the sentences in which a particular subject appears. It could be adapted to a wide variety of uses. \n",
    "\n",
    "Development of this code was based on insights from this Stackoverflow thread: [How to get the dependency tree with spaCy?](https://stackoverflow.com/questions/36610179/how-to-get-the-dependency-tree-with-spacy) thread on Stack Overflow. "
   ]
  },
  {
   "cell_type": "code",
   "execution_count": 1,
   "metadata": {},
   "outputs": [],
   "source": [
    "# IMPORTS\n",
    "import pandas as pd, spacy\n",
    "# from spacy.lang.en import English\n",
    "\n",
    "nlp = spacy.load(\"en_core_web_sm\")\n",
    "\n",
    "\n",
    "# Loading the Data in a gendered partitioned fashion: \n",
    "talks_m = pd.read_csv('../output/talks_male.csv', index_col='Talk_ID')\n",
    "talks_f = pd.read_csv('../output/talks_female.csv', index_col='Talk_ID')\n",
    "\n",
    "# And then grabbing on the texts of the talks:\n",
    "texts_women = talks_f.text.tolist()\n",
    "texts_men = talks_m.text.tolist()\n",
    "\n",
    "# Lowercase everything before we create spaCy docs\n",
    "texts_w = ' '.join([text.lower() for text in texts_women])\n",
    "texts_m = ' '.join([text.lower() for text in texts_men])"
   ]
  },
  {
   "cell_type": "code",
   "execution_count": null,
   "metadata": {},
   "outputs": [],
   "source": [
    "# spaCy is fussy about memory allocation\n",
    "# Use the pipe method to feed documents \n",
    "docs_w = list(nlp.pipe(texts_w))\n",
    "# docs_m = list(nlp.pipe(texts_m))"
   ]
  },
  {
   "cell_type": "code",
   "execution_count": null,
   "metadata": {},
   "outputs": [],
   "source": [
    "def find_svpairs(text, noun, verb):\n",
    "#     doc = nlp(text)\n",
    "    matching_sentences = []\n",
    "    for sent in doc.sents:\n",
    "        verb_in_sentence = False\n",
    "        for token in sent:\n",
    "            if token.lemma_ == verb and token.pos_ == \"VERB\":\n",
    "                verb_in_sentence = True\n",
    "                break\n",
    "        if noun in sent.text.split() and verb_in_sentence:\n",
    "            matching_sentences.append(sent.text)\n",
    "    return matching_sentences"
   ]
  },
  {
   "cell_type": "code",
   "execution_count": null,
   "metadata": {},
   "outputs": [],
   "source": [
    "noun = \"he\"\n",
    "verb = \"kill\"\n",
    "\n",
    "matches = []\n",
    "for doc in docs_w:\n",
    "    matching_sentences = find_sentences(doc, noun, verb)\n",
    "    matches.append(matching_sentences)\n",
    "    \n",
    "print(matches)"
   ]
  },
  {
   "cell_type": "markdown",
   "metadata": {},
   "source": [
    "## NLTK\n",
    "\n",
    "To change display results, the contents of the concordance method are: `(\"word\", window width, lines=#[25, all])`. The `window width` is an integer specifying the number of characters to the left and right of a word to display. The default for `lines` is 25, but it can be set to any integer or to `all` (no quotation marks)."
   ]
  },
  {
   "cell_type": "markdown",
   "metadata": {},
   "source": [
    "This just uses the NLTK's `concordance` method to find a word:"
   ]
  },
  {
   "cell_type": "code",
   "execution_count": null,
   "metadata": {},
   "outputs": [],
   "source": [
    "import nltk\n",
    "from nltk import word_tokenize\n",
    "\n",
    "# Create NLTK texts for concordances\n",
    "words_w = word_tokenize(\" \".join(talks_f.text.tolist()))\n",
    "women = nltk.Text(words_w)\n",
    "\n",
    "words_m = word_tokenize(\" \".join(talks_m.text.tolist()))\n",
    "men = nltk.Text(words_m)"
   ]
  },
  {
   "cell_type": "code",
   "execution_count": 19,
   "metadata": {
    "scrolled": false
   },
   "outputs": [
    {
     "name": "stdout",
     "output_type": "stream",
     "text": [
      "Displaying 50 of 1239 matches:\n",
      "well as local economic development . Think bike shops , juice stands . We secur\n",
      "oth hotbeds of cultural innovation : think hip-hop and jazz . Both are waterfro\n",
      "ponse was a grant program . I do n't think he understood that I was n't asking \n",
      "dad said , `` Yeah , but , honey , I think that 's technically just between Tha\n",
      "ad another child to come , so what I think she — understandably — really meant \n",
      "oked really happy , because I do n't think this happens to them all that often \n",
      "come back and check in on me , and I think I said something like , `` Please do\n",
      "the son of God , '' I mean , I would think that 's equally ridiculous . I 'm ju\n",
      "t would have been much different , I think I would have instantly answered , ``\n",
      "t . I ca n't help but this wish : to think about when you 're a little kid , an\n",
      "ze . '' ( Laughter ) But I really do think it makes sense . And I think that th\n",
      "ally do think it makes sense . And I think that the first step to world peace i\n",
      "ow to do a Filipino dance . I really think as the world is getting smaller , it\n",
      "naged to get out of that one , but I think that building bridges is important t\n",
      "all kind of started that way , but I think that I really realized the power of \n",
      "mage , and it was incredible . And I think the most important reaction that I s\n",
      "such difficult circumstances . And I think it was at that point that I decided \n",
      "om ! ( Applause ) Jehane Noujaim : I think everybody 's had that feeling of sit\n",
      "ing thing . But I 've been trying to think about ways to give power to these in\n",
      "ese towns would be watching , then I think that we can actually really make a m\n",
      "here to start . How do I compose ? I think Yamaha does a really good job of tea\n",
      "cal ideas , because then you have to think . ( Laughter ) And then , when the p\n",
      " , you know , Japanese anime art . I think that 's a craze among teens right no\n",
      " So , I 'm going to have a moment to think , and I 'll try to make something ou\n",
      " and gets amplified , but ... let me think . ( Laughter ) Placing your finger a\n",
      " [ that ] easily looks dated . But I think it 's very personal and unique that \n",
      "e of one of my favorite projects . I think it 's one of the most exciting that \n",
      "xciting that I 'm working on , but I think it 's also the simplest . It 's a pr\n",
      "oject . And one of the things that I think is also interesting , is I have a fr\n",
      "ook to Ghana just last month . And I think it 's the coolest thing , and it 's \n",
      "ady to roll out . ( Laughter ) And I think one of the things which is also rema\n",
      "ghter ) Here it is . And this is , I think , a perfect example of what Robert W\n",
      "ll create , one of the things that I think is necessary is to have a very clear\n",
      " being poor farmers . And we need to think about how we can do that effectively\n",
      "'ve got and get it to scale ? AS : I think it 's large numbers of people moving\n",
      "oking five or 10 years ahead . But I think with the vision to do that , we can \n",
      "ke music , and I like banjos , and I think I probably heard Steve Martin playin\n",
      "to be considered high art . '' And I think this is one of the most important th\n",
      "ings resonate with us , and , if you think about blogs , you think of high art \n",
      "and , if you think about blogs , you think of high art blogs , the history pain\n",
      "se he is still his son and he is , I think , at his age level right now because\n",
      "hroughout our online history . But I think blogs are basically just an evolutio\n",
      "nd I am very optimistic — whenever I think about blogs , I 'm like , `` We 've \n",
      " is the only picture I have . And to think of what we have the ability to do wi\n",
      "he ability to do with our blogs ; to think about the people that are on those $\n",
      "ng . So , this is her legacy , and I think that my call to action to all of you\n",
      "my call to action to all of you is : think about blogs , think about what they \n",
      " all of you is : think about blogs , think about what they are , think about wh\n",
      " blogs , think about what they are , think about what you 've thought of them ,\n",
      "bout vaginas . I was worried what we think about vaginas and even more worried \n"
     ]
    }
   ],
   "source": [
    "women.concordance('think', lines=50)"
   ]
  },
  {
   "cell_type": "code",
   "execution_count": 18,
   "metadata": {
    "scrolled": false
   },
   "outputs": [
    {
     "name": "stdout",
     "output_type": "stream",
     "text": [
      "Displaying 130 of 155 matches:\n",
      "and we started looking for a place to eat . We were on I-40 . We got to Exit 23\n",
      "d pretty much do anything , including eat , yell , play chess and so forth . No\n",
      "llion copies of this book . Al Gore , eat your heart out . ( Laughter ) Just ex\n",
      "ers , you cut down the clinic and you eat it . It 's an eat-your-own-clinic . S\n",
      "e way to find out what people want to eat , what will make people happy , is to\n",
      "he same idea . It turns out people do eat hamburgers , and Ray Kroc , for a whi\n",
      "curring , that people are starting to eat like us , and live like us , and die \n",
      "ut the people in Asia are starting to eat like we are , which is why they 're s\n",
      "and hip and crunchy and convenient to eat healthier foods , like — I chair the \n",
      "ca because countries are beginning to eat like us , live like us and die like u\n",
      " , when you 're done , well — you can eat it . But the thing that I 'm really ,\n",
      " snatch a motorist off the street and eat his liver . So every effort is made t\n",
      " . It has fears and emotions . It can eat you . It can attack . It can do all k\n",
      "nescence of things , and a kind of `` Eat , drink , and be merry , for tomorrow\n",
      " underground — at least the kind that eat you . If there is a monster undergrou\n",
      "teracting with as you grow . So as we eat , the camera starts pulling out , and\n",
      "reature scale , basically you have to eat , survive , and then reproduce . You \n",
      " little bit — and now we might try to eat . We might sneak up on this little gu\n",
      "tle guy over here maybe , and try and eat him . OK , well , we fight . ( Creatu\n",
      "vilization . This is my baby . When I eat , I 'll actually start growing . This\n",
      "many herbivores for the carnivores to eat , etc. , that you have to balance act\n",
      "actually . The three keys are easy to eat , so this is anago , cooked already ,\n",
      "s anago , cooked already , so easy to eat . So enjoy your sushi meal later , wi\n",
      "u know , you go to a restaurant , you eat fish , I got news for you , it 's all\n",
      "to sleep , there 's only one place to eat , there 's only one bathroom , there \n",
      "protein than a hunter 's family could eat before it rotted . So that raised a s\n",
      "ws fly down , reel up the lines , and eat the fish or the bait . It 's pretty a\n",
      " machine . Crows eventually come by , eat the peanuts , and get used to the mac\n",
      "chine being there . Eventually , they eat all the peanuts . Then they see peanu\n",
      "y long to see the benefits . When you eat healthier , manage stress , exercise \n",
      "hat leopard seals do mostly is , they eat penguins . You know of `` The March o\n",
      "e it enables the hyena to essentially eat bones . Now , the end product of that\n",
      "mazingly full lips — that allow me to eat practically anything that grows . Cal\n",
      ", and what kinds of food they like to eat . Once you understand this trait , yo\n",
      " you can understand why anybody would eat at Applebee 's , but not anybody that\n",
      "are you going to give me ? '' Or they eat when they get depressed , or they use\n",
      "enced this at Thanksgiving . When you eat a big fatty meal , how do you feel ? \n",
      "burn more calories by exercise or you eat fewer calories . Now , one way to eat\n",
      "eat fewer calories . Now , one way to eat fewer calories is to eat less food , \n",
      ", one way to eat fewer calories is to eat less food , which is why you can lose\n",
      "ou can lose weight on any diet if you eat less food , or if you restrict entire\n",
      " carbs only have four . So , when you eat less fat , you eat fewer calories wit\n",
      "ur . So , when you eat less fat , you eat fewer calories without having to eat \n",
      " eat fewer calories without having to eat less food . So you can eat the same a\n",
      " having to eat less food . So you can eat the same amount of food , but you ’ l\n",
      "bout is , Americans have been told to eat less fat , the percent of calories fr\n",
      "e died , and we agreed that Americans eat too many simple carbs , the `` bad ca\n",
      " half-truth , which is that Americans eat too many simple carbs , so if you eat\n",
      "eat too many simple carbs , so if you eat fewer simple carbs you ’ re going to \n",
      "daches – this is not a healthy way to eat . And so , you might start to lose we\n",
      "ave the greatest life together . They eat out , they see shows . '' They eat ou\n",
      "ey eat out , they see shows . '' They eat out , they see shows . ( Laughter ) T\n",
      ") That 's the name of the show , they eat out , they — that 's on my tombstone \n",
      "t really sit at your desk all day and eat and work anyway . Now there 's a plat\n",
      " 's a monster that 's simply going to eat the entire budget . We 've got to sta\n",
      "se otherwise the interest is going to eat that whole pie . And we 've got to en\n",
      " got this box of candy , and I do n't eat candy . Would you like the box of can\n",
      "ruits and bright plants , because you eat the fruit and you thereby spread the \n",
      "ee the church , or hear the word , or eat the food their hands may grow , but y\n",
      ". One human of six have not enough to eat in the world . One billion people hav\n",
      "One billion people have not enough to eat . In Africa , corn is one of the main\n",
      "e me future oriented . Told me do n't eat that marshmallow , because if you wai\n",
      "blow anything else away . What do you eat ? One of my favorite dishes on expedi\n",
      "e without , and the lowest in caste , eat very often , particularly in southern\n",
      "particularly in southern India , they eat off of a banana leaf . And those a li\n",
      ". And those a little bit up the scale eat off of a sort of a low-fired ceramic \n",
      "ding , go to the next step , and they eat off a banana leaf . And I think that \n",
      "ll be dead through the food that they eat . My name 's Jamie Oliver . I 'm 34 y\n",
      " what stuff is , then they will never eat it . ( Laughter ) JO : Normal . Engla\n",
      "t if they make toffee apples they 'll eat more as well . Do you know what I mea\n",
      "'s not forget , you 're clever if you eat well , you know you 're going to live\n",
      " encompasses everything : the food we eat , clothing , TV , heating . These are\n",
      "an ecological network . The flamingos eat the shrimp . The shrimp eat the phyto\n",
      "flamingos eat the shrimp . The shrimp eat the phytoplankton . So the pinker the\n",
      "farms , we talk about local food , we eat organic . And when you suggest these \n",
      "ever produced anything really good to eat . Instead , let 's look to the ecolog\n",
      " that there must be one right food to eat . There is clearly a range of materia\n",
      "s not science . Every single thing we eat , every grain of rice , every sprig o\n",
      "We do n't want to encourage people to eat that rotten stuff , like cassava for \n",
      " something that half a billion people eat . It 's kind of like a potato . It 's\n",
      "ow . And then people would be able to eat it and they 'd be able to not go blin\n",
      "ing cancers ? In other words , can we eat to starve cancer ? ( Laughter ) Well \n",
      "e a new future in the value of how we eat , and what we eat is really our chemo\n",
      "the value of how we eat , and what we eat is really our chemotherapy three time\n",
      "ell out to one another . They used to eat , drink and yell out to people on the\n",
      " very easy to weigh it , and when you eat it , the weight matters — but suppose\n",
      "speak . I mean , you ca n't expect to eat an adaptively beneficial landscape . \n",
      "ial landscape . It would hardly do to eat your baby or your lover . So evolutio\n",
      "t thought about what you 're going to eat tomorrow . This is art . '' I think i\n",
      "heese — sniffed , but did n't want to eat . Did n't make sense to me . And afte\n",
      "ancer took away my ability to speak , eat or drink , I was forced to enter this\n",
      "third of the fruits and vegetables we eat . And many scientists believe it 's t\n",
      " story . Oh , and they also happen to eat Happy Feet . ( Laughter ) As a specie\n",
      "ally cute , therefore , leopard seals eat them , so leopard seals are ugly and \n",
      "n that penguin inside-out , so it can eat the meat off the bones , and then it \n",
      "' Because she ca n't believe I ca n't eat this penguin . Because in her world ,\n",
      "e , we would compete to see who could eat the most squirrel brains . ( Laughter\n",
      " 's something we have no reference to eat . This is a cigar , and basically it \n",
      "t look like things that you would n't eat , we decided to make ingredients look\n",
      "ng out . What I see is a cow about to eat something delicious . What is that co\n",
      ". It still freaks me out every time I eat it , but it has a unique ability to m\n",
      "te very sweet . HC : You 're about to eat a lemon , and now it tastes like lemo\n",
      "ok these things because people do n't eat them . So we really had to think abou\n",
      "m could , for instance , learn not to eat a certain kind of fruit because it ta\n",
      "y Aztec scroll showing a man about to eat a psilocybin mushroom and at the same\n",
      "oem down to saying , `` Some days you eat the bear , other days the bear eats y\n",
      "animals , it 's desert . What do they eat ? How does that part work ? How do yo\n",
      "volunteers . If kids grow kale , kids eat kale . ( Laughter ) If they grow toma\n",
      "ughter ) If they grow tomatoes , they eat tomatoes . ( Applause ) But when none\n",
      " the mind and the body , they blindly eat whatever the hell you put in front of\n",
      "on you want to stop to have a bite to eat , hit the restroom , coffee , and kee\n",
      "ould be great if we could burn them , eat them up , and this reactor loves this\n",
      "g this reaction take place . And they eat them up , which means that , combined\n",
      "t know that it 's not a great time to eat . And then when we get together with \n",
      " There 's a million different ways to eat pizza . And none of them are wrong . \n",
      "ry , we might have some more . If you eat too much , though , you just feel gro\n",
      "Absolutely nothing . You know , I can eat a fish . I ca n't eat a crow . A crow\n",
      "ou know , I can eat a fish . I ca n't eat a crow . A crow can peck at a fish . \n",
      "usly , the child got up and said , `` Eat . '' Now what was interesting was the\n",
      " her in questions . So she asked , `` Eat what ? Do you want to eat ice cream ?\n",
      " asked , `` Eat what ? Do you want to eat ice cream ? You want to eat ? Somebod\n",
      "u want to eat ice cream ? You want to eat ? Somebody else wants to eat ? You wa\n",
      " want to eat ? Somebody else wants to eat ? You want to eat cream now ? You wan\n",
      "ebody else wants to eat ? You want to eat cream now ? You want to eat ice cream\n",
      "u want to eat cream now ? You want to eat ice cream in the evening ? '' And the\n",
      "ransparent about that . So again , we eat our own dog food . We use the standar\n",
      "to have sex . It 's a classic tale of Eat , Prey , Love . ( Laughter ) ( Applau\n",
      "officer ate last , and he let his men eat first , and when they were done , the\n",
      "him some of their food so that he may eat , because that 's what happens . We c\n",
      ", the way you would sit in a chair to eat , a napkin on your lap , a knife in y\n"
     ]
    }
   ],
   "source": [
    "men.concordance('eat', lines=130)"
   ]
  },
  {
   "cell_type": "markdown",
   "metadata": {},
   "source": [
    "This attempts to match on the noun and verb but it just treats them as two words in a sentence. \n",
    "\n",
    "WARNING: Tense and conjugation matter here."
   ]
  },
  {
   "cell_type": "code",
   "execution_count": 5,
   "metadata": {},
   "outputs": [],
   "source": [
    "# nltk.download('punkt')  # Download the necessary tokenizer data\n",
    "\n",
    "def find_sentences(text, noun, verb):\n",
    "    sentences = nltk.sent_tokenize(text)\n",
    "    matching_sentences = []\n",
    "    for sentence in sentences:\n",
    "        if (noun in sentence.split()) and (verb in sentence.split()):\n",
    "            matching_sentences.append(sentence)\n",
    "    return matching_sentences"
   ]
  },
  {
   "cell_type": "code",
   "execution_count": 22,
   "metadata": {
    "scrolled": true
   },
   "outputs": [],
   "source": [
    "w_i_think = find_sentences(texts_w, \"i\", \"think\")"
   ]
  },
  {
   "cell_type": "code",
   "execution_count": 24,
   "metadata": {},
   "outputs": [
    {
     "name": "stdout",
     "output_type": "stream",
     "text": [
      "633\n",
      "[\"i don't think he understood that i wasn't asking for funding.\", 'and my dad said, \"yeah, but, honey, i think that\\'s technically just between thanksgiving and christmas.\"', 'i thought about it, and when i was four, i was already the oldest of four children, and my mother even had another child to come, so what i think she — understandably — really meant was that she was so ready, she was so ready.', \"and they looked really happy, because i don't think this happens to them all that often.\", 'then they gave me this book of mormon, told me to read this chapter and that chapter, and said they\\'d come back and check in on me, and i think i said something like, \"please don\\'t hurry,\" or maybe just, \"please don\\'t,\" and they were gone.', '(laughter)    \"and she had a baby, and that\\'s the son of god,\" i mean, i would think that\\'s equally ridiculous.', 'well, that would have been much different, i think i would have instantly answered, \"yes, yes, i feel it all the time.', 'i can\\'t help but this wish: to think about when you\\'re a little kid, and all your friends ask you, \"if a genie could give you one wish in the world, what would it be?\"', '(laughter) but i really do think it makes sense.', 'and i think that the first step to world peace is for people to meet each other.', \"i really think as the world is getting smaller, it becomes more and more important that we learn each other's dance moves, that we meet each other, we get to know each other, we are able to figure out a way to cross borders, to understand each other, to understand people's hopes and dreams, what makes them laugh and cry.\", \"i was asked that i speak a little bit about where i personally come from, and cameron, i don't know how you managed to get out of that one, but i think that building bridges is important to me because of where i come from.\", 'it all kind of started that way, but i think that i really realized the power of the image when i first went to the garbage-collecting village in egypt, when i was about 16. my mother took me there.', 'and i think the most important reaction that i saw there was actually from people that would never have gone to the garbage village themselves, that would never have seen that the human spirit could thrive in such difficult circumstances.', 'and i think it was at that point that i decided i wanted to use photography and film to somehow bridge gaps, to bridge cultures, bring people together, cross borders.', \"(applause)    jehane noujaim: i think everybody's had that feeling of sitting in a theater, in a dark room, with other strangers, watching a very powerful film, and they felt that feeling of transformation.\", 'and if you just imagine that all of these people in these towns would be watching, then i think that we can actually really make a movement towards people understanding each other better.', 'i think yamaha does a really good job of teaching us how to compose.', \"i think that's a craze among teens right now.\", \"but i think it's very personal and unique that, although each violin looks pretty similar, no two violins sound the same — even from the same maker or based on the same model.\"]\n"
     ]
    }
   ],
   "source": [
    "print(len(w_i_think))\n",
    "print(w_i_think[0:20])"
   ]
  },
  {
   "cell_type": "code",
   "execution_count": 21,
   "metadata": {},
   "outputs": [],
   "source": [
    "m_i_think = find_sentences(texts_m, \"i\", \"think\")"
   ]
  },
  {
   "cell_type": "code",
   "execution_count": 23,
   "metadata": {},
   "outputs": [
    {
     "name": "stdout",
     "output_type": "stream",
     "text": [
      "1914\n",
      "[\"i don't think you understand.\", 'i think your phone lines are unmanned.', 'and the truth is, for years i was a little depressed, because americans obviously did not value it, because the mac had three percent market share, windows had 95 percent market share — people did not think it was worth putting a price on it.', 'so i have a big interest in education, and i think we all do.', \"and she's exceptional, but i think she's not, so to speak, exceptional in the whole of childhood.\", 'we were sitting there and i think they just went out of sequence, because we talked to the little boy afterward and we said, \"you ok with that?\"', 'i think this is rather important.', 'i think math is very important, but so is dance.', \"i think you'd have to conclude, if you look at the output, who really succeeds by this, who does everything that they should, who gets all the brownie points, who are the winners — i think you'd have to conclude the whole purpose of public education throughout the world is to produce university professors.\", \"and i think we can't afford to go on that way.\", \"i think now they'd say she had adhd.\", '(applause)    what i think it comes to is this: al gore spoke the other night about ecology and the revolution that was triggered by rachel carson.', 'because my students, what they said when they looked upon the world, and i asked them, \"what do you really think about the world?\"', \"if we don't look in the data, i think we all underestimate the tremendous change in asia, which was in social change before we saw the economical change.\", \"(laughter)    but i think it's very important to have all this information.\", \"often that's what people think i do, and it's the furthest thing from it.\", \"and i think what's important is, when we first unveiled the building, the public saw it as being totally about our whim and ego.\", \"but let's see if i can very quickly get into the book spiral, because i think it's, as i said, the most — this is the main reading room — the most unique part of the building.\", \"not in my wildest dreams did i think — i don't even consider myself to be an author.\", \"and i think it's because spiritual emptiness is a universal disease.\"]\n"
     ]
    }
   ],
   "source": [
    "print(len(m_i_think))\n",
    "print(m_i_think[0:20])"
   ]
  },
  {
   "cell_type": "markdown",
   "metadata": {},
   "source": [
    "This actually addresses the noun and verb as parts of speech:"
   ]
  },
  {
   "cell_type": "code",
   "execution_count": 7,
   "metadata": {},
   "outputs": [],
   "source": [
    "# nltk.download('punkt')  # Download the necessary tokenizer data\n",
    "# nltk.download('averaged_perceptron_tagger')  # Download \n",
    "\n",
    "def find_sents(text, noun, verb):\n",
    "    sentences = nltk.sent_tokenize(text)\n",
    "    matching_sentences = []\n",
    "    for sentence in sentences:\n",
    "        words = nltk.word_tokenize(sentence)\n",
    "        pos_tags = nltk.pos_tag(words)\n",
    "        verb_in_sentence = False\n",
    "        for word, tag in pos_tags:\n",
    "            if word == verb and tag.startswith('VB'):\n",
    "                verb_in_sentence = True\n",
    "                break\n",
    "        if noun in sentence.split() and verb_in_sentence:\n",
    "            matching_sentences.append(sentence)\n",
    "    return matching_sentences"
   ]
  },
  {
   "cell_type": "code",
   "execution_count": 15,
   "metadata": {},
   "outputs": [
    {
     "data": {
      "text/plain": [
       "[\"because she can't believe i can't eat this penguin.\",\n",
       " 'so she asked, \"eat what?']"
      ]
     },
     "execution_count": 15,
     "metadata": {},
     "output_type": "execute_result"
    }
   ],
   "source": [
    "find_sents(texts_m, \"she\", \"eat\")"
   ]
  },
  {
   "cell_type": "markdown",
   "metadata": {},
   "source": [
    "## SVO\n",
    "\n",
    "While this was at first appealing because of the simplicity and accuracy, since we would be loading the SVOs themselves, the resulting contexts were too impoverished to be much use for hand inspection."
   ]
  },
  {
   "cell_type": "code",
   "execution_count": null,
   "metadata": {},
   "outputs": [],
   "source": [
    "# IMPORTS\n",
    "import pandas as pd\n",
    "\n",
    "# LOAD DATAFRAMES\n",
    "# the `lem` suffix indicates the verbs have been lemmatized\n",
    "svos_m = pd.read_csv(\"../output/svos_m_lem.csv\", index_col=0)\n",
    "svos_w = pd.read_csv(\"../output/svos_w_lem.csv\", index_col=0)"
   ]
  },
  {
   "cell_type": "code",
   "execution_count": null,
   "metadata": {},
   "outputs": [],
   "source": [
    "svos_w.query(' subject==\"he\" & verb==\"kill\" ')"
   ]
  }
 ],
 "metadata": {
  "interpreter": {
   "hash": "14a02b88778d8fb8b6aeb4ad427a942bc53dfcda9d7e3737237788289e0d2d23"
  },
  "kernelspec": {
   "display_name": "Python 3 (ipykernel)",
   "language": "python",
   "name": "python3"
  },
  "language_info": {
   "codemirror_mode": {
    "name": "ipython",
    "version": 3
   },
   "file_extension": ".py",
   "mimetype": "text/x-python",
   "name": "python",
   "nbconvert_exporter": "python",
   "pygments_lexer": "ipython3",
   "version": "3.7.11"
  },
  "toc": {
   "base_numbering": 1,
   "nav_menu": {},
   "number_sections": true,
   "sideBar": true,
   "skip_h1_title": true,
   "title_cell": "",
   "title_sidebar": "Contents",
   "toc_cell": true,
   "toc_position": 2,
   "toc_section_display": true,
   "toc_window_display": false
  }
 },
 "nbformat": 4,
 "nbformat_minor": 2
}
