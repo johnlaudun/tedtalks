{
 "cells": [
  {
   "cell_type": "markdown",
   "metadata": {},
   "source": [
    "# Trends\n",
    "\n",
    "1747 talks of the \"TED proper\" variety: how many per year? Can we begin to fold in gender? Do we need to wait for topics in order to assign disciplines? "
   ]
  },
  {
   "cell_type": "markdown",
   "metadata": {},
   "source": [
    "## Summary\n",
    "\n",
    "WHAT: After loading the data, we break out the years and the kind of event from the list of events as given on the TED web page for a talk, looking to see how many talks were given in a year and how many talks from the various events make up the overall corpus.\n",
    "\n",
    "HOW: We operate on lists derived from columns in the dataset, eventually merging them into a custom dataframe so that we can sum values and visualize the results. "
   ]
  },
  {
   "cell_type": "markdown",
   "metadata": {},
   "source": [
    "## Imports and Data"
   ]
  },
  {
   "cell_type": "code",
   "execution_count": 1,
   "metadata": {},
   "outputs": [],
   "source": [
    "# Imports\n",
    "import pandas as pd, re"
   ]
  },
  {
   "cell_type": "code",
   "execution_count": 2,
   "metadata": {},
   "outputs": [
    {
     "name": "stdout",
     "output_type": "stream",
     "text": [
      "(1747, 27) ['Set', 'Talk_ID', 'public_url', 'headline', 'description', 'event', 'duration', 'published', 'tags', 'views', 'text', 'speaker_1', 'speaker1_occupation', 'speaker1_introduction', 'speaker1_profile', 'speaker_2', 'speaker2_occupation', 'speaker2_introduction', 'speaker2_profile', 'speaker_3', 'speaker3_occupation', 'speaker3_introduction', 'speaker3_profile', 'speaker_4', 'speaker4_occupation', 'speaker4_introduction', 'speaker4_profile']\n"
     ]
    }
   ],
   "source": [
    "# Load the Data\n",
    "df = pd.read_csv('../output/TEDall_speakers.csv')\n",
    "print(df.shape, list(df))"
   ]
  },
  {
   "cell_type": "code",
   "execution_count": 3,
   "metadata": {},
   "outputs": [],
   "source": [
    "# Lists from the dataframe is probably not the best way to do this: \n",
    "urls = df.public_url.tolist()\n",
    "events = df.event.tolist()\n",
    "\n",
    "# We should probably replace the URLs with these labels\n",
    "labels = [item.replace('https://www.ted.com/talks/','') for item in urls ]"
   ]
  },
  {
   "cell_type": "markdown",
   "metadata": {},
   "source": [
    "## Total Talks by Year"
   ]
  },
  {
   "cell_type": "markdown",
   "metadata": {},
   "source": [
    "Since we only expect one result below, `re.search(r'\\d+', item)` (with or without `.group` appended), might be preferred, but I could not get it to return a string. (It simply returned some version of a regex iterator.)"
   ]
  },
  {
   "cell_type": "code",
   "execution_count": 4,
   "metadata": {},
   "outputs": [],
   "source": [
    "# regex to capture only the year in the event, e.g. \"2006\" from \"TED2006\"\n",
    "years = [ re.findall(r'\\d+', item) for item in events ]\n",
    "\n",
    "# re.findall returns a list, so here we're simply flattening to a string\n",
    "years = [ ''.join(item) for item in years]"
   ]
  },
  {
   "cell_type": "code",
   "execution_count": 5,
   "metadata": {},
   "outputs": [],
   "source": [
    "event_kinds = [ re.sub('\\d+', '', item) for item in events ]"
   ]
  },
  {
   "cell_type": "code",
   "execution_count": 6,
   "metadata": {},
   "outputs": [
    {
     "data": {
      "text/html": [
       "<div>\n",
       "<style scoped>\n",
       "    .dataframe tbody tr th:only-of-type {\n",
       "        vertical-align: middle;\n",
       "    }\n",
       "\n",
       "    .dataframe tbody tr th {\n",
       "        vertical-align: top;\n",
       "    }\n",
       "\n",
       "    .dataframe thead th {\n",
       "        text-align: right;\n",
       "    }\n",
       "</style>\n",
       "<table border=\"1\" class=\"dataframe\">\n",
       "  <thead>\n",
       "    <tr style=\"text-align: right;\">\n",
       "      <th></th>\n",
       "      <th>Year</th>\n",
       "      <th>Event</th>\n",
       "      <th>Original</th>\n",
       "    </tr>\n",
       "  </thead>\n",
       "  <tbody>\n",
       "    <tr>\n",
       "      <th>al_gore_on_averting_climate_crisis</th>\n",
       "      <td>2006</td>\n",
       "      <td>TED</td>\n",
       "      <td>TED2006</td>\n",
       "    </tr>\n",
       "    <tr>\n",
       "      <th>david_pogue_says_simplicity_sells</th>\n",
       "      <td>2006</td>\n",
       "      <td>TED</td>\n",
       "      <td>TED2006</td>\n",
       "    </tr>\n",
       "    <tr>\n",
       "      <th>majora_carter_s_tale_of_urban_renewal</th>\n",
       "      <td>2006</td>\n",
       "      <td>TED</td>\n",
       "      <td>TED2006</td>\n",
       "    </tr>\n",
       "    <tr>\n",
       "      <th>ken_robinson_says_schools_kill_creativity</th>\n",
       "      <td>2006</td>\n",
       "      <td>TED</td>\n",
       "      <td>TED2006</td>\n",
       "    </tr>\n",
       "    <tr>\n",
       "      <th>hans_rosling_shows_the_best_stats_you_ve_ever_seen</th>\n",
       "      <td>2006</td>\n",
       "      <td>TED</td>\n",
       "      <td>TED2006</td>\n",
       "    </tr>\n",
       "  </tbody>\n",
       "</table>\n",
       "</div>"
      ],
      "text/plain": [
       "                                                    Year Event Original\n",
       "al_gore_on_averting_climate_crisis                  2006   TED  TED2006\n",
       "david_pogue_says_simplicity_sells                   2006   TED  TED2006\n",
       "majora_carter_s_tale_of_urban_renewal               2006   TED  TED2006\n",
       "ken_robinson_says_schools_kill_creativity           2006   TED  TED2006\n",
       "hans_rosling_shows_the_best_stats_you_ve_ever_seen  2006   TED  TED2006"
      ]
     },
     "execution_count": 6,
     "metadata": {},
     "output_type": "execute_result"
    }
   ],
   "source": [
    "# Assemble a dataframe from which to work\n",
    "Events = pd.DataFrame(list(zip(years, event_kinds, events)), columns = ['Year', 'Event', 'Original'], index=labels )\n",
    "Events.head()"
   ]
  },
  {
   "cell_type": "code",
   "execution_count": 7,
   "metadata": {},
   "outputs": [],
   "source": [
    "%matplotlib inline\n",
    "import matplotlib.pyplot as plt\n",
    "# fig = plt.subplots(figsize=(16,10))"
   ]
  },
  {
   "cell_type": "code",
   "execution_count": 8,
   "metadata": {},
   "outputs": [
    {
     "data": {
      "text/plain": [
       "<matplotlib.axes._subplots.AxesSubplot at 0x118ce3b20>"
      ]
     },
     "execution_count": 8,
     "metadata": {},
     "output_type": "execute_result"
    },
    {
     "data": {
      "image/png": "[encoded data removed]",
      "text/plain": [
       "<Figure size 1440x720 with 1 Axes>"
      ]
     },
     "metadata": {
      "needs_background": "light"
     },
     "output_type": "display_data"
    }
   ],
   "source": [
    "Events.groupby('Year').count().plot(kind='bar', figsize=(20,10))"
   ]
  },
  {
   "cell_type": "markdown",
   "metadata": {},
   "source": [
    "## The Missing Years"
   ]
  },
  {
   "cell_type": "markdown",
   "metadata": {},
   "source": [
    "Always, always, always there is some weirdness. What is going on with the leftmost bar in this graph? We've got a little over 70 of *something*. It has no year attached to it and the `isnull` method reported zero. I suspect it's because we have empty strings, which are not null.\n",
    "\n",
    "So, our next step is to filter the dataframe to show only the rows which have empty strings for the year:"
   ]
  },
  {
   "cell_type": "code",
   "execution_count": 9,
   "metadata": {},
   "outputs": [
    {
     "data": {
      "text/html": [
       "<div>\n",
       "<style scoped>\n",
       "    .dataframe tbody tr th:only-of-type {\n",
       "        vertical-align: middle;\n",
       "    }\n",
       "\n",
       "    .dataframe tbody tr th {\n",
       "        vertical-align: top;\n",
       "    }\n",
       "\n",
       "    .dataframe thead th {\n",
       "        text-align: right;\n",
       "    }\n",
       "</style>\n",
       "<table border=\"1\" class=\"dataframe\">\n",
       "  <thead>\n",
       "    <tr style=\"text-align: right;\">\n",
       "      <th></th>\n",
       "      <th>Year</th>\n",
       "      <th>Event</th>\n",
       "      <th>Original</th>\n",
       "    </tr>\n",
       "  </thead>\n",
       "  <tbody>\n",
       "    <tr>\n",
       "      <th>johann_hari_everything_you_think_you_know_about_addiction_is_wrong</th>\n",
       "      <td></td>\n",
       "      <td>TEDGlobalLondon</td>\n",
       "      <td>TEDGlobalLondon</td>\n",
       "    </tr>\n",
       "    <tr>\n",
       "      <th>jon_ronson_what_happens_when_online_shaming_spirals_out_of_control</th>\n",
       "      <td></td>\n",
       "      <td>TEDGlobalLondon</td>\n",
       "      <td>TEDGlobalLondon</td>\n",
       "    </tr>\n",
       "    <tr>\n",
       "      <th>yuval_noah_harari_what_explains_the_rise_of_humans</th>\n",
       "      <td></td>\n",
       "      <td>TEDGlobalLondon</td>\n",
       "      <td>TEDGlobalLondon</td>\n",
       "    </tr>\n",
       "    <tr>\n",
       "      <th>tony_wyss_coray_how_young_blood_might_help_reverse_aging_yes_really</th>\n",
       "      <td></td>\n",
       "      <td>TEDGlobalLondon</td>\n",
       "      <td>TEDGlobalLondon</td>\n",
       "    </tr>\n",
       "    <tr>\n",
       "      <th>jim_al_khalili_how_quantum_biology_might_explain_life_s_biggest_questions</th>\n",
       "      <td></td>\n",
       "      <td>TEDGlobalLondon</td>\n",
       "      <td>TEDGlobalLondon</td>\n",
       "    </tr>\n",
       "    <tr>\n",
       "      <th>...</th>\n",
       "      <td>...</td>\n",
       "      <td>...</td>\n",
       "      <td>...</td>\n",
       "    </tr>\n",
       "    <tr>\n",
       "      <th>zeynep_tufekci_we_re_building_a_dystopia_just_to_make_people_click_on_ads</th>\n",
       "      <td></td>\n",
       "      <td>TEDGlobal&gt;NYC</td>\n",
       "      <td>TEDGlobal&gt;NYC</td>\n",
       "    </tr>\n",
       "    <tr>\n",
       "      <th>robert_muggah_the_biggest_risks_facing_cities_and_some_solutions</th>\n",
       "      <td></td>\n",
       "      <td>TEDGlobal&gt;NYC</td>\n",
       "      <td>TEDGlobal&gt;NYC</td>\n",
       "    </tr>\n",
       "    <tr>\n",
       "      <th>per_espen_stoknes_how_to_transform_apocalypse_fatigue_into_action_on_global_warming</th>\n",
       "      <td></td>\n",
       "      <td>TEDGlobal&gt;NYC</td>\n",
       "      <td>TEDGlobal&gt;NYC</td>\n",
       "    </tr>\n",
       "    <tr>\n",
       "      <th>naoko_ishii_an_economic_case_for_saving_the_planet</th>\n",
       "      <td></td>\n",
       "      <td>TEDGlobal&gt;NYC</td>\n",
       "      <td>TEDGlobal&gt;NYC</td>\n",
       "    </tr>\n",
       "    <tr>\n",
       "      <th>naomi_klein_how_shocking_events_can_spark_positive_change</th>\n",
       "      <td></td>\n",
       "      <td>TEDGlobal&gt;NYC</td>\n",
       "      <td>TEDGlobal&gt;NYC</td>\n",
       "    </tr>\n",
       "  </tbody>\n",
       "</table>\n",
       "<p>74 rows × 3 columns</p>\n",
       "</div>"
      ],
      "text/plain": [
       "                                                   Year            Event  \\\n",
       "johann_hari_everything_you_think_you_know_about...       TEDGlobalLondon   \n",
       "jon_ronson_what_happens_when_online_shaming_spi...       TEDGlobalLondon   \n",
       "yuval_noah_harari_what_explains_the_rise_of_humans       TEDGlobalLondon   \n",
       "tony_wyss_coray_how_young_blood_might_help_reve...       TEDGlobalLondon   \n",
       "jim_al_khalili_how_quantum_biology_might_explai...       TEDGlobalLondon   \n",
       "...                                                 ...              ...   \n",
       "zeynep_tufekci_we_re_building_a_dystopia_just_t...         TEDGlobal>NYC   \n",
       "robert_muggah_the_biggest_risks_facing_cities_a...         TEDGlobal>NYC   \n",
       "per_espen_stoknes_how_to_transform_apocalypse_f...         TEDGlobal>NYC   \n",
       "naoko_ishii_an_economic_case_for_saving_the_planet         TEDGlobal>NYC   \n",
       "naomi_klein_how_shocking_events_can_spark_posit...         TEDGlobal>NYC   \n",
       "\n",
       "                                                           Original  \n",
       "johann_hari_everything_you_think_you_know_about...  TEDGlobalLondon  \n",
       "jon_ronson_what_happens_when_online_shaming_spi...  TEDGlobalLondon  \n",
       "yuval_noah_harari_what_explains_the_rise_of_humans  TEDGlobalLondon  \n",
       "tony_wyss_coray_how_young_blood_might_help_reve...  TEDGlobalLondon  \n",
       "jim_al_khalili_how_quantum_biology_might_explai...  TEDGlobalLondon  \n",
       "...                                                             ...  \n",
       "zeynep_tufekci_we_re_building_a_dystopia_just_t...    TEDGlobal>NYC  \n",
       "robert_muggah_the_biggest_risks_facing_cities_a...    TEDGlobal>NYC  \n",
       "per_espen_stoknes_how_to_transform_apocalypse_f...    TEDGlobal>NYC  \n",
       "naoko_ishii_an_economic_case_for_saving_the_planet    TEDGlobal>NYC  \n",
       "naomi_klein_how_shocking_events_can_spark_posit...    TEDGlobal>NYC  \n",
       "\n",
       "[74 rows x 3 columns]"
      ]
     },
     "execution_count": 9,
     "metadata": {},
     "output_type": "execute_result"
    }
   ],
   "source": [
    "Events[Events['Year'] == '']"
   ]
  },
  {
   "cell_type": "markdown",
   "metadata": {},
   "source": [
    "We write the dataframe above to a CSV file in order to examine it:"
   ]
  },
  {
   "cell_type": "code",
   "execution_count": 10,
   "metadata": {},
   "outputs": [],
   "source": [
    "# Events[Events['Year'] == ''].to_csv('../output/noyear.csv')"
   ]
  },
  {
   "cell_type": "markdown",
   "metadata": {},
   "source": [
    "A hand inspection of the events reveals there are 5 events without dates in their event name. The cell below confirms the events and also counts them: "
   ]
  },
  {
   "cell_type": "code",
   "execution_count": 11,
   "metadata": {
    "scrolled": true
   },
   "outputs": [
    {
     "data": {
      "text/html": [
       "<div>\n",
       "<style scoped>\n",
       "    .dataframe tbody tr th:only-of-type {\n",
       "        vertical-align: middle;\n",
       "    }\n",
       "\n",
       "    .dataframe tbody tr th {\n",
       "        vertical-align: top;\n",
       "    }\n",
       "\n",
       "    .dataframe thead th {\n",
       "        text-align: right;\n",
       "    }\n",
       "</style>\n",
       "<table border=\"1\" class=\"dataframe\">\n",
       "  <thead>\n",
       "    <tr style=\"text-align: right;\">\n",
       "      <th></th>\n",
       "      <th>Year</th>\n",
       "      <th>Original</th>\n",
       "    </tr>\n",
       "    <tr>\n",
       "      <th>Event</th>\n",
       "      <th></th>\n",
       "      <th></th>\n",
       "    </tr>\n",
       "  </thead>\n",
       "  <tbody>\n",
       "    <tr>\n",
       "      <th>TEDGlobal&gt;Geneva</th>\n",
       "      <td>11</td>\n",
       "      <td>11</td>\n",
       "    </tr>\n",
       "    <tr>\n",
       "      <th>TEDGlobal&gt;London</th>\n",
       "      <td>13</td>\n",
       "      <td>13</td>\n",
       "    </tr>\n",
       "    <tr>\n",
       "      <th>TEDGlobal&gt;NYC</th>\n",
       "      <td>8</td>\n",
       "      <td>8</td>\n",
       "    </tr>\n",
       "    <tr>\n",
       "      <th>TEDGlobalLondon</th>\n",
       "      <td>8</td>\n",
       "      <td>8</td>\n",
       "    </tr>\n",
       "    <tr>\n",
       "      <th>TEDSummit</th>\n",
       "      <td>34</td>\n",
       "      <td>34</td>\n",
       "    </tr>\n",
       "  </tbody>\n",
       "</table>\n",
       "</div>"
      ],
      "text/plain": [
       "                  Year  Original\n",
       "Event                           \n",
       "TEDGlobal>Geneva    11        11\n",
       "TEDGlobal>London    13        13\n",
       "TEDGlobal>NYC        8         8\n",
       "TEDGlobalLondon      8         8\n",
       "TEDSummit           34        34"
      ]
     },
     "execution_count": 11,
     "metadata": {},
     "output_type": "execute_result"
    }
   ],
   "source": [
    "Events[Events['Year'] == ''].groupby('Event').count()"
   ]
  },
  {
   "cell_type": "markdown",
   "metadata": {},
   "source": [
    "The code below masks the dataframe in place such that if the event is one of the above, it replaces the value in the `Year` column with the value at the end of the expression, which is here a number in a string. For the sake of clarity, I have repeated it for each find and replace that needed to get done."
   ]
  },
  {
   "cell_type": "code",
   "execution_count": 12,
   "metadata": {},
   "outputs": [],
   "source": [
    "Events.loc[Events['Event'] == 'TEDGlobal>Geneva', 'Year'] = '2015'"
   ]
  },
  {
   "cell_type": "code",
   "execution_count": 13,
   "metadata": {},
   "outputs": [],
   "source": [
    "Events.loc[Events['Event'] == 'TEDGlobal>London', 'Year'] = '2015'"
   ]
  },
  {
   "cell_type": "code",
   "execution_count": 14,
   "metadata": {},
   "outputs": [],
   "source": [
    "Events.loc[Events['Event'] == 'TEDGlobal>NYC', 'Year'] = '2017'"
   ]
  },
  {
   "cell_type": "code",
   "execution_count": 15,
   "metadata": {},
   "outputs": [],
   "source": [
    "Events.loc[Events['Event'] == 'TEDGlobalLondon', 'Year'] = '2015'"
   ]
  },
  {
   "cell_type": "markdown",
   "metadata": {},
   "source": [
    "Having made those replacements, we are left with only TEDSummit, which occurred twice, April 2010 and June 2016. All the 2012 events were published by 2013, so we can pull in that column, append it to our dataframe, find that value in `published` and use it to replace the values in `Event`.\n",
    "\n",
    "First, here is the cell demonstrating what work remains need to be done:"
   ]
  },
  {
   "cell_type": "code",
   "execution_count": 16,
   "metadata": {
    "scrolled": true
   },
   "outputs": [
    {
     "data": {
      "text/html": [
       "<div>\n",
       "<style scoped>\n",
       "    .dataframe tbody tr th:only-of-type {\n",
       "        vertical-align: middle;\n",
       "    }\n",
       "\n",
       "    .dataframe tbody tr th {\n",
       "        vertical-align: top;\n",
       "    }\n",
       "\n",
       "    .dataframe thead th {\n",
       "        text-align: right;\n",
       "    }\n",
       "</style>\n",
       "<table border=\"1\" class=\"dataframe\">\n",
       "  <thead>\n",
       "    <tr style=\"text-align: right;\">\n",
       "      <th></th>\n",
       "      <th>Year</th>\n",
       "      <th>Original</th>\n",
       "    </tr>\n",
       "    <tr>\n",
       "      <th>Event</th>\n",
       "      <th></th>\n",
       "      <th></th>\n",
       "    </tr>\n",
       "  </thead>\n",
       "  <tbody>\n",
       "    <tr>\n",
       "      <th>TEDSummit</th>\n",
       "      <td>34</td>\n",
       "      <td>34</td>\n",
       "    </tr>\n",
       "  </tbody>\n",
       "</table>\n",
       "</div>"
      ],
      "text/plain": [
       "           Year  Original\n",
       "Event                    \n",
       "TEDSummit    34        34"
      ]
     },
     "execution_count": 16,
     "metadata": {},
     "output_type": "execute_result"
    }
   ],
   "source": [
    "Events[Events['Year'] == ''].groupby('Event').count()"
   ]
  },
  {
   "cell_type": "markdown",
   "metadata": {},
   "source": [
    "Our first step is to grap the publication dates for the talks and then to add them to our current dataframe:"
   ]
  },
  {
   "cell_type": "code",
   "execution_count": 17,
   "metadata": {},
   "outputs": [
    {
     "data": {
      "text/html": [
       "<div>\n",
       "<style scoped>\n",
       "    .dataframe tbody tr th:only-of-type {\n",
       "        vertical-align: middle;\n",
       "    }\n",
       "\n",
       "    .dataframe tbody tr th {\n",
       "        vertical-align: top;\n",
       "    }\n",
       "\n",
       "    .dataframe thead th {\n",
       "        text-align: right;\n",
       "    }\n",
       "</style>\n",
       "<table border=\"1\" class=\"dataframe\">\n",
       "  <thead>\n",
       "    <tr style=\"text-align: right;\">\n",
       "      <th></th>\n",
       "      <th>Year</th>\n",
       "      <th>Event</th>\n",
       "      <th>Original</th>\n",
       "      <th>Posted</th>\n",
       "    </tr>\n",
       "  </thead>\n",
       "  <tbody>\n",
       "    <tr>\n",
       "      <th>al_gore_on_averting_climate_crisis</th>\n",
       "      <td>2006</td>\n",
       "      <td>TED</td>\n",
       "      <td>TED2006</td>\n",
       "      <td>6/27/06</td>\n",
       "    </tr>\n",
       "    <tr>\n",
       "      <th>david_pogue_says_simplicity_sells</th>\n",
       "      <td>2006</td>\n",
       "      <td>TED</td>\n",
       "      <td>TED2006</td>\n",
       "      <td>6/27/06</td>\n",
       "    </tr>\n",
       "    <tr>\n",
       "      <th>majora_carter_s_tale_of_urban_renewal</th>\n",
       "      <td>2006</td>\n",
       "      <td>TED</td>\n",
       "      <td>TED2006</td>\n",
       "      <td>6/27/06</td>\n",
       "    </tr>\n",
       "    <tr>\n",
       "      <th>ken_robinson_says_schools_kill_creativity</th>\n",
       "      <td>2006</td>\n",
       "      <td>TED</td>\n",
       "      <td>TED2006</td>\n",
       "      <td>6/27/06</td>\n",
       "    </tr>\n",
       "    <tr>\n",
       "      <th>hans_rosling_shows_the_best_stats_you_ve_ever_seen</th>\n",
       "      <td>2006</td>\n",
       "      <td>TED</td>\n",
       "      <td>TED2006</td>\n",
       "      <td>6/27/06</td>\n",
       "    </tr>\n",
       "  </tbody>\n",
       "</table>\n",
       "</div>"
      ],
      "text/plain": [
       "                                                    Year Event Original  \\\n",
       "al_gore_on_averting_climate_crisis                  2006   TED  TED2006   \n",
       "david_pogue_says_simplicity_sells                   2006   TED  TED2006   \n",
       "majora_carter_s_tale_of_urban_renewal               2006   TED  TED2006   \n",
       "ken_robinson_says_schools_kill_creativity           2006   TED  TED2006   \n",
       "hans_rosling_shows_the_best_stats_you_ve_ever_seen  2006   TED  TED2006   \n",
       "\n",
       "                                                     Posted  \n",
       "al_gore_on_averting_climate_crisis                  6/27/06  \n",
       "david_pogue_says_simplicity_sells                   6/27/06  \n",
       "majora_carter_s_tale_of_urban_renewal               6/27/06  \n",
       "ken_robinson_says_schools_kill_creativity           6/27/06  \n",
       "hans_rosling_shows_the_best_stats_you_ve_ever_seen  6/27/06  "
      ]
     },
     "execution_count": 17,
     "metadata": {},
     "output_type": "execute_result"
    }
   ],
   "source": [
    "published = df.published.tolist()\n",
    "\n",
    "Events['Posted'] = published\n",
    "\n",
    "Events.head()"
   ]
  },
  {
   "cell_type": "markdown",
   "metadata": {},
   "source": [
    "Now, let's check the dates to see how we are going to fill things in:"
   ]
  },
  {
   "cell_type": "code",
   "execution_count": 18,
   "metadata": {
    "scrolled": false
   },
   "outputs": [
    {
     "data": {
      "text/html": [
       "<div>\n",
       "<style scoped>\n",
       "    .dataframe tbody tr th:only-of-type {\n",
       "        vertical-align: middle;\n",
       "    }\n",
       "\n",
       "    .dataframe tbody tr th {\n",
       "        vertical-align: top;\n",
       "    }\n",
       "\n",
       "    .dataframe thead th {\n",
       "        text-align: right;\n",
       "    }\n",
       "</style>\n",
       "<table border=\"1\" class=\"dataframe\">\n",
       "  <thead>\n",
       "    <tr style=\"text-align: right;\">\n",
       "      <th></th>\n",
       "      <th>Year</th>\n",
       "      <th>Event</th>\n",
       "      <th>Original</th>\n",
       "      <th>Posted</th>\n",
       "    </tr>\n",
       "  </thead>\n",
       "  <tbody>\n",
       "    <tr>\n",
       "      <th>marwa_al_sabouni_how_syria_s_architecture_laid_the_foundation_for_brutal_war</th>\n",
       "      <td></td>\n",
       "      <td>TEDSummit</td>\n",
       "      <td>TEDSummit</td>\n",
       "      <td>7/5/16</td>\n",
       "    </tr>\n",
       "    <tr>\n",
       "      <th>alexander_betts_why_brexit_happened_and_what_to_do_next</th>\n",
       "      <td></td>\n",
       "      <td>TEDSummit</td>\n",
       "      <td>TEDSummit</td>\n",
       "      <td>7/6/16</td>\n",
       "    </tr>\n",
       "    <tr>\n",
       "      <th>emma_marris_nature_is_everywhere_we_just_need_to_learn_to_see_it</th>\n",
       "      <td></td>\n",
       "      <td>TEDSummit</td>\n",
       "      <td>TEDSummit</td>\n",
       "      <td>7/13/16</td>\n",
       "    </tr>\n",
       "    <tr>\n",
       "      <th>el_seed_a_project_of_peace_painted_across_50_buildings</th>\n",
       "      <td></td>\n",
       "      <td>TEDSummit</td>\n",
       "      <td>TEDSummit</td>\n",
       "      <td>7/19/16</td>\n",
       "    </tr>\n",
       "    <tr>\n",
       "      <th>gerard_ryle_how_the_panama_papers_journalists_broke_the_biggest_leak_in_history</th>\n",
       "      <td></td>\n",
       "      <td>TEDSummit</td>\n",
       "      <td>TEDSummit</td>\n",
       "      <td>7/20/16</td>\n",
       "    </tr>\n",
       "    <tr>\n",
       "      <th>ed_boyden_baby_diapers_inspired_this_new_way_to_study_the_brain</th>\n",
       "      <td></td>\n",
       "      <td>TEDSummit</td>\n",
       "      <td>TEDSummit</td>\n",
       "      <td>7/21/16</td>\n",
       "    </tr>\n",
       "    <tr>\n",
       "      <th>suzanne_simard_how_trees_talk_to_each_other</th>\n",
       "      <td></td>\n",
       "      <td>TEDSummit</td>\n",
       "      <td>TEDSummit</td>\n",
       "      <td>7/22/16</td>\n",
       "    </tr>\n",
       "    <tr>\n",
       "      <th>ngozi_okonjo_iweala_how_africa_can_keep_rising</th>\n",
       "      <td></td>\n",
       "      <td>TEDSummit</td>\n",
       "      <td>TEDSummit</td>\n",
       "      <td>8/11/16</td>\n",
       "    </tr>\n",
       "    <tr>\n",
       "      <th>monica_araya_a_small_country_with_big_ideas_to_get_rid_of_fossil_fuels</th>\n",
       "      <td></td>\n",
       "      <td>TEDSummit</td>\n",
       "      <td>TEDSummit</td>\n",
       "      <td>8/15/16</td>\n",
       "    </tr>\n",
       "    <tr>\n",
       "      <th>sarah_parcak_hunting_for_peru_s_lost_civilizations_with_satellites</th>\n",
       "      <td></td>\n",
       "      <td>TEDSummit</td>\n",
       "      <td>TEDSummit</td>\n",
       "      <td>8/17/16</td>\n",
       "    </tr>\n",
       "    <tr>\n",
       "      <th>anand_giridharadas_a_letter_to_all_who_have_lost_in_this_era</th>\n",
       "      <td></td>\n",
       "      <td>TEDSummit</td>\n",
       "      <td>TEDSummit</td>\n",
       "      <td>8/18/16</td>\n",
       "    </tr>\n",
       "    <tr>\n",
       "      <th>laura_boushnak_the_deadly_legacy_of_cluster_bombs</th>\n",
       "      <td></td>\n",
       "      <td>TEDSummit</td>\n",
       "      <td>TEDSummit</td>\n",
       "      <td>8/24/16</td>\n",
       "    </tr>\n",
       "    <tr>\n",
       "      <th>don_tapscott_how_the_blockchain_is_changing_money_and_business</th>\n",
       "      <td></td>\n",
       "      <td>TEDSummit</td>\n",
       "      <td>TEDSummit</td>\n",
       "      <td>8/25/16</td>\n",
       "    </tr>\n",
       "    <tr>\n",
       "      <th>julia_bacha_how_women_wage_conflict_without_violence</th>\n",
       "      <td></td>\n",
       "      <td>TEDSummit</td>\n",
       "      <td>TEDSummit</td>\n",
       "      <td>8/29/16</td>\n",
       "    </tr>\n",
       "    <tr>\n",
       "      <th>jonathan_tepperman_the_risky_politics_of_progress</th>\n",
       "      <td></td>\n",
       "      <td>TEDSummit</td>\n",
       "      <td>TEDSummit</td>\n",
       "      <td>9/1/16</td>\n",
       "    </tr>\n",
       "    <tr>\n",
       "      <th>james_veitch_the_agony_of_trying_to_unsubscribe</th>\n",
       "      <td></td>\n",
       "      <td>TEDSummit</td>\n",
       "      <td>TEDSummit</td>\n",
       "      <td>9/2/16</td>\n",
       "    </tr>\n",
       "    <tr>\n",
       "      <th>michael_shellenberger_how_fear_of_nuclear_power_is_hurting_the_environment</th>\n",
       "      <td></td>\n",
       "      <td>TEDSummit</td>\n",
       "      <td>TEDSummit</td>\n",
       "      <td>9/14/16</td>\n",
       "    </tr>\n",
       "    <tr>\n",
       "      <th>abigail_marsh_why_some_people_are_more_altruistic_than_others</th>\n",
       "      <td></td>\n",
       "      <td>TEDSummit</td>\n",
       "      <td>TEDSummit</td>\n",
       "      <td>9/16/16</td>\n",
       "    </tr>\n",
       "    <tr>\n",
       "      <th>rebecca_mackinnon_we_can_fight_terror_without_sacrificing_our_rights</th>\n",
       "      <td></td>\n",
       "      <td>TEDSummit</td>\n",
       "      <td>TEDSummit</td>\n",
       "      <td>9/23/16</td>\n",
       "    </tr>\n",
       "    <tr>\n",
       "      <th>sam_harris_can_we_build_ai_without_losing_control_over_it</th>\n",
       "      <td></td>\n",
       "      <td>TEDSummit</td>\n",
       "      <td>TEDSummit</td>\n",
       "      <td>9/29/16</td>\n",
       "    </tr>\n",
       "    <tr>\n",
       "      <th>helen_fisher_technology_hasn_t_changed_love_here_s_why</th>\n",
       "      <td></td>\n",
       "      <td>TEDSummit</td>\n",
       "      <td>TEDSummit</td>\n",
       "      <td>9/30/16</td>\n",
       "    </tr>\n",
       "    <tr>\n",
       "      <th>ellen_jorgensen_what_you_need_to_know_about_crispr</th>\n",
       "      <td></td>\n",
       "      <td>TEDSummit</td>\n",
       "      <td>TEDSummit</td>\n",
       "      <td>10/3/16</td>\n",
       "    </tr>\n",
       "    <tr>\n",
       "      <th>isaac_lidsky_what_reality_are_you_creating_for_yourself</th>\n",
       "      <td></td>\n",
       "      <td>TEDSummit</td>\n",
       "      <td>TEDSummit</td>\n",
       "      <td>10/6/16</td>\n",
       "    </tr>\n",
       "    <tr>\n",
       "      <th>ione_wells_how_we_talk_about_sexual_assault_online</th>\n",
       "      <td></td>\n",
       "      <td>TEDSummit</td>\n",
       "      <td>TEDSummit</td>\n",
       "      <td>10/10/16</td>\n",
       "    </tr>\n",
       "    <tr>\n",
       "      <th>pico_iyer_the_beauty_of_what_we_ll_never_know</th>\n",
       "      <td></td>\n",
       "      <td>TEDSummit</td>\n",
       "      <td>TEDSummit</td>\n",
       "      <td>10/11/16</td>\n",
       "    </tr>\n",
       "    <tr>\n",
       "      <th>rachel_botsman_we_ve_stopped_trusting_institutions_and_started_trusting_strangers</th>\n",
       "      <td></td>\n",
       "      <td>TEDSummit</td>\n",
       "      <td>TEDSummit</td>\n",
       "      <td>10/17/16</td>\n",
       "    </tr>\n",
       "    <tr>\n",
       "      <th>zeynep_tufekci_machine_intelligence_makes_human_morals_more_important</th>\n",
       "      <td></td>\n",
       "      <td>TEDSummit</td>\n",
       "      <td>TEDSummit</td>\n",
       "      <td>10/19/16</td>\n",
       "    </tr>\n",
       "    <tr>\n",
       "      <th>christopher_soghoian_your_smartphone_is_a_civil_rights_issue</th>\n",
       "      <td></td>\n",
       "      <td>TEDSummit</td>\n",
       "      <td>TEDSummit</td>\n",
       "      <td>10/31/16</td>\n",
       "    </tr>\n",
       "    <tr>\n",
       "      <th>tim_leberecht_4_ways_to_build_a_human_company_in_the_age_of_machines</th>\n",
       "      <td></td>\n",
       "      <td>TEDSummit</td>\n",
       "      <td>TEDSummit</td>\n",
       "      <td>11/3/16</td>\n",
       "    </tr>\n",
       "    <tr>\n",
       "      <th>bettina_warburg_how_the_blockchain_will_radically_transform_the_economy</th>\n",
       "      <td></td>\n",
       "      <td>TEDSummit</td>\n",
       "      <td>TEDSummit</td>\n",
       "      <td>11/15/16</td>\n",
       "    </tr>\n",
       "    <tr>\n",
       "      <th>juan_enriquez_what_will_humans_look_like_in_100_years</th>\n",
       "      <td></td>\n",
       "      <td>TEDSummit</td>\n",
       "      <td>TEDSummit</td>\n",
       "      <td>11/22/16</td>\n",
       "    </tr>\n",
       "    <tr>\n",
       "      <th>joe_lassiter_we_need_nuclear_power_to_solve_climate_change</th>\n",
       "      <td></td>\n",
       "      <td>TEDSummit</td>\n",
       "      <td>TEDSummit</td>\n",
       "      <td>11/28/16</td>\n",
       "    </tr>\n",
       "    <tr>\n",
       "      <th>kevin_kelly_how_ai_can_bring_on_a_second_industrial_revolution</th>\n",
       "      <td></td>\n",
       "      <td>TEDSummit</td>\n",
       "      <td>TEDSummit</td>\n",
       "      <td>12/13/16</td>\n",
       "    </tr>\n",
       "    <tr>\n",
       "      <th>jen_brea_what_happens_when_you_have_a_disease_doctors_can_t_diagnose</th>\n",
       "      <td></td>\n",
       "      <td>TEDSummit</td>\n",
       "      <td>TEDSummit</td>\n",
       "      <td>1/17/17</td>\n",
       "    </tr>\n",
       "  </tbody>\n",
       "</table>\n",
       "</div>"
      ],
      "text/plain": [
       "                                                   Year      Event   Original  \\\n",
       "marwa_al_sabouni_how_syria_s_architecture_laid_...       TEDSummit  TEDSummit   \n",
       "alexander_betts_why_brexit_happened_and_what_to...       TEDSummit  TEDSummit   \n",
       "emma_marris_nature_is_everywhere_we_just_need_t...       TEDSummit  TEDSummit   \n",
       "el_seed_a_project_of_peace_painted_across_50_bu...       TEDSummit  TEDSummit   \n",
       "gerard_ryle_how_the_panama_papers_journalists_b...       TEDSummit  TEDSummit   \n",
       "ed_boyden_baby_diapers_inspired_this_new_way_to...       TEDSummit  TEDSummit   \n",
       "suzanne_simard_how_trees_talk_to_each_other              TEDSummit  TEDSummit   \n",
       "ngozi_okonjo_iweala_how_africa_can_keep_rising           TEDSummit  TEDSummit   \n",
       "monica_araya_a_small_country_with_big_ideas_to_...       TEDSummit  TEDSummit   \n",
       "sarah_parcak_hunting_for_peru_s_lost_civilizati...       TEDSummit  TEDSummit   \n",
       "anand_giridharadas_a_letter_to_all_who_have_los...       TEDSummit  TEDSummit   \n",
       "laura_boushnak_the_deadly_legacy_of_cluster_bombs        TEDSummit  TEDSummit   \n",
       "don_tapscott_how_the_blockchain_is_changing_mon...       TEDSummit  TEDSummit   \n",
       "julia_bacha_how_women_wage_conflict_without_vio...       TEDSummit  TEDSummit   \n",
       "jonathan_tepperman_the_risky_politics_of_progress        TEDSummit  TEDSummit   \n",
       "james_veitch_the_agony_of_trying_to_unsubscribe          TEDSummit  TEDSummit   \n",
       "michael_shellenberger_how_fear_of_nuclear_power...       TEDSummit  TEDSummit   \n",
       "abigail_marsh_why_some_people_are_more_altruist...       TEDSummit  TEDSummit   \n",
       "rebecca_mackinnon_we_can_fight_terror_without_s...       TEDSummit  TEDSummit   \n",
       "sam_harris_can_we_build_ai_without_losing_contr...       TEDSummit  TEDSummit   \n",
       "helen_fisher_technology_hasn_t_changed_love_her...       TEDSummit  TEDSummit   \n",
       "ellen_jorgensen_what_you_need_to_know_about_crispr       TEDSummit  TEDSummit   \n",
       "isaac_lidsky_what_reality_are_you_creating_for_...       TEDSummit  TEDSummit   \n",
       "ione_wells_how_we_talk_about_sexual_assault_online       TEDSummit  TEDSummit   \n",
       "pico_iyer_the_beauty_of_what_we_ll_never_know            TEDSummit  TEDSummit   \n",
       "rachel_botsman_we_ve_stopped_trusting_instituti...       TEDSummit  TEDSummit   \n",
       "zeynep_tufekci_machine_intelligence_makes_human...       TEDSummit  TEDSummit   \n",
       "christopher_soghoian_your_smartphone_is_a_civil...       TEDSummit  TEDSummit   \n",
       "tim_leberecht_4_ways_to_build_a_human_company_i...       TEDSummit  TEDSummit   \n",
       "bettina_warburg_how_the_blockchain_will_radical...       TEDSummit  TEDSummit   \n",
       "juan_enriquez_what_will_humans_look_like_in_100...       TEDSummit  TEDSummit   \n",
       "joe_lassiter_we_need_nuclear_power_to_solve_cli...       TEDSummit  TEDSummit   \n",
       "kevin_kelly_how_ai_can_bring_on_a_second_indust...       TEDSummit  TEDSummit   \n",
       "jen_brea_what_happens_when_you_have_a_disease_d...       TEDSummit  TEDSummit   \n",
       "\n",
       "                                                      Posted  \n",
       "marwa_al_sabouni_how_syria_s_architecture_laid_...    7/5/16  \n",
       "alexander_betts_why_brexit_happened_and_what_to...    7/6/16  \n",
       "emma_marris_nature_is_everywhere_we_just_need_t...   7/13/16  \n",
       "el_seed_a_project_of_peace_painted_across_50_bu...   7/19/16  \n",
       "gerard_ryle_how_the_panama_papers_journalists_b...   7/20/16  \n",
       "ed_boyden_baby_diapers_inspired_this_new_way_to...   7/21/16  \n",
       "suzanne_simard_how_trees_talk_to_each_other          7/22/16  \n",
       "ngozi_okonjo_iweala_how_africa_can_keep_rising       8/11/16  \n",
       "monica_araya_a_small_country_with_big_ideas_to_...   8/15/16  \n",
       "sarah_parcak_hunting_for_peru_s_lost_civilizati...   8/17/16  \n",
       "anand_giridharadas_a_letter_to_all_who_have_los...   8/18/16  \n",
       "laura_boushnak_the_deadly_legacy_of_cluster_bombs    8/24/16  \n",
       "don_tapscott_how_the_blockchain_is_changing_mon...   8/25/16  \n",
       "julia_bacha_how_women_wage_conflict_without_vio...   8/29/16  \n",
       "jonathan_tepperman_the_risky_politics_of_progress     9/1/16  \n",
       "james_veitch_the_agony_of_trying_to_unsubscribe       9/2/16  \n",
       "michael_shellenberger_how_fear_of_nuclear_power...   9/14/16  \n",
       "abigail_marsh_why_some_people_are_more_altruist...   9/16/16  \n",
       "rebecca_mackinnon_we_can_fight_terror_without_s...   9/23/16  \n",
       "sam_harris_can_we_build_ai_without_losing_contr...   9/29/16  \n",
       "helen_fisher_technology_hasn_t_changed_love_her...   9/30/16  \n",
       "ellen_jorgensen_what_you_need_to_know_about_crispr   10/3/16  \n",
       "isaac_lidsky_what_reality_are_you_creating_for_...   10/6/16  \n",
       "ione_wells_how_we_talk_about_sexual_assault_online  10/10/16  \n",
       "pico_iyer_the_beauty_of_what_we_ll_never_know       10/11/16  \n",
       "rachel_botsman_we_ve_stopped_trusting_instituti...  10/17/16  \n",
       "zeynep_tufekci_machine_intelligence_makes_human...  10/19/16  \n",
       "christopher_soghoian_your_smartphone_is_a_civil...  10/31/16  \n",
       "tim_leberecht_4_ways_to_build_a_human_company_i...   11/3/16  \n",
       "bettina_warburg_how_the_blockchain_will_radical...  11/15/16  \n",
       "juan_enriquez_what_will_humans_look_like_in_100...  11/22/16  \n",
       "joe_lassiter_we_need_nuclear_power_to_solve_cli...  11/28/16  \n",
       "kevin_kelly_how_ai_can_bring_on_a_second_indust...  12/13/16  \n",
       "jen_brea_what_happens_when_you_have_a_disease_d...   1/17/17  "
      ]
     },
     "execution_count": 18,
     "metadata": {},
     "output_type": "execute_result"
    }
   ],
   "source": [
    "Events[Events['Year'] == ''].groupby('Event').head(40)"
   ]
  },
  {
   "cell_type": "markdown",
   "metadata": {},
   "source": [
    "As luck would have it, all the TEDSummits missing a year are actually those from the 2016 event. Okay, that makes filling in that value much easier:"
   ]
  },
  {
   "cell_type": "code",
   "execution_count": 19,
   "metadata": {},
   "outputs": [],
   "source": [
    "Events[Events['Year'] == ''] = '2016'"
   ]
  },
  {
   "cell_type": "markdown",
   "metadata": {},
   "source": [
    "Having filled the last of the missing information in, we make sure:"
   ]
  },
  {
   "cell_type": "code",
   "execution_count": 20,
   "metadata": {},
   "outputs": [
    {
     "data": {
      "text/html": [
       "<div>\n",
       "<style scoped>\n",
       "    .dataframe tbody tr th:only-of-type {\n",
       "        vertical-align: middle;\n",
       "    }\n",
       "\n",
       "    .dataframe tbody tr th {\n",
       "        vertical-align: top;\n",
       "    }\n",
       "\n",
       "    .dataframe thead th {\n",
       "        text-align: right;\n",
       "    }\n",
       "</style>\n",
       "<table border=\"1\" class=\"dataframe\">\n",
       "  <thead>\n",
       "    <tr style=\"text-align: right;\">\n",
       "      <th></th>\n",
       "      <th>Year</th>\n",
       "      <th>Original</th>\n",
       "      <th>Posted</th>\n",
       "    </tr>\n",
       "    <tr>\n",
       "      <th>Event</th>\n",
       "      <th></th>\n",
       "      <th></th>\n",
       "      <th></th>\n",
       "    </tr>\n",
       "  </thead>\n",
       "  <tbody>\n",
       "  </tbody>\n",
       "</table>\n",
       "</div>"
      ],
      "text/plain": [
       "Empty DataFrame\n",
       "Columns: [Year, Original, Posted]\n",
       "Index: []"
      ]
     },
     "execution_count": 20,
     "metadata": {},
     "output_type": "execute_result"
    }
   ],
   "source": [
    "Events[Events['Year'] == ''].groupby('Event').count()"
   ]
  },
  {
   "cell_type": "markdown",
   "metadata": {},
   "source": [
    "And having done that, we can finally re-run our command to create a graph to see the talks by year they were initially given:"
   ]
  },
  {
   "cell_type": "code",
   "execution_count": 21,
   "metadata": {},
   "outputs": [
    {
     "data": {
      "text/plain": [
       "<matplotlib.axes._subplots.AxesSubplot at 0x11b331e80>"
      ]
     },
     "execution_count": 21,
     "metadata": {},
     "output_type": "execute_result"
    },
    {
     "data": {
      "image/png": "[encoded data removed]",
      "text/plain": [
       "<Figure size 1152x720 with 1 Axes>"
      ]
     },
     "metadata": {
      "needs_background": "light"
     },
     "output_type": "display_data"
    }
   ],
   "source": [
    "Events['Year'].value_counts().sort_index(ascending=True).plot(kind='bar', figsize = (16,10))"
   ]
  },
  {
   "cell_type": "markdown",
   "metadata": {},
   "source": [
    "## Total Talks by Event"
   ]
  },
  {
   "cell_type": "code",
   "execution_count": 22,
   "metadata": {
    "scrolled": false
   },
   "outputs": [
    {
     "data": {
      "text/plain": [
       "<matplotlib.axes._subplots.AxesSubplot at 0x11b3d77c0>"
      ]
     },
     "execution_count": 22,
     "metadata": {},
     "output_type": "execute_result"
    },
    {
     "data": {
      "image/png": "[encoded data removed]",
      "text/plain": [
       "<Figure size 432x288 with 1 Axes>"
      ]
     },
     "metadata": {
      "needs_background": "light"
     },
     "output_type": "display_data"
    }
   ],
   "source": [
    "Events[Events['Event'] != 'TED'].groupby('Event').count().plot.bar()"
   ]
  }
 ],
 "metadata": {
  "kernelspec": {
   "display_name": "Python 3",
   "language": "python",
   "name": "python3"
  },
  "language_info": {
   "codemirror_mode": {
    "name": "ipython",
    "version": 3
   },
   "file_extension": ".py",
   "mimetype": "text/x-python",
   "name": "python",
   "nbconvert_exporter": "python",
   "pygments_lexer": "ipython3",
   "version": "3.8.2"
  },
  "toc": {
   "base_numbering": 1,
   "nav_menu": {},
   "number_sections": true,
   "sideBar": true,
   "skip_h1_title": true,
   "title_cell": "",
   "title_sidebar": "Contents",
   "toc_cell": true,
   "toc_position": 2,
   "toc_section_display": true,
   "toc_window_display": false
  }
 },
 "nbformat": 4,
 "nbformat_minor": 2
}
