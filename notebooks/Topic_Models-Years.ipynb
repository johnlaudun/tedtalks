{
 "cells": [
  {
   "cell_type": "code",
   "execution_count": 2,
   "metadata": {},
   "outputs": [],
   "source": [
    "import re, pandas as pd, matplotlib.pyplot as plt, numpy as np"
   ]
  },
  {
   "cell_type": "code",
   "execution_count": 3,
   "metadata": {},
   "outputs": [
    {
     "name": "stdout",
     "output_type": "stream",
     "text": [
      "(1747, 5)\n"
     ]
    },
    {
     "data": {
      "text/html": [
       "<div>\n",
       "<style scoped>\n",
       "    .dataframe tbody tr th:only-of-type {\n",
       "        vertical-align: middle;\n",
       "    }\n",
       "\n",
       "    .dataframe tbody tr th {\n",
       "        vertical-align: top;\n",
       "    }\n",
       "\n",
       "    .dataframe thead th {\n",
       "        text-align: right;\n",
       "    }\n",
       "</style>\n",
       "<table border=\"1\" class=\"dataframe\">\n",
       "  <thead>\n",
       "    <tr style=\"text-align: right;\">\n",
       "      <th></th>\n",
       "      <th>public_url</th>\n",
       "      <th>event</th>\n",
       "      <th>published</th>\n",
       "      <th>text</th>\n",
       "      <th>year</th>\n",
       "    </tr>\n",
       "  </thead>\n",
       "  <tbody>\n",
       "    <tr>\n",
       "      <th>0</th>\n",
       "      <td>https://www.ted.com/talks/al_gore_on_averting_...</td>\n",
       "      <td>TED2006</td>\n",
       "      <td>6/27/06</td>\n",
       "      <td>Thank you so much, Chris. And it's truly a g...</td>\n",
       "      <td>2006</td>\n",
       "    </tr>\n",
       "    <tr>\n",
       "      <th>1</th>\n",
       "      <td>https://www.ted.com/talks/david_pogue_says_sim...</td>\n",
       "      <td>TED2006</td>\n",
       "      <td>6/27/06</td>\n",
       "      <td>(Music: \"The Sound of Silence,\" Simon &amp; Garf...</td>\n",
       "      <td>2006</td>\n",
       "    </tr>\n",
       "    <tr>\n",
       "      <th>2</th>\n",
       "      <td>https://www.ted.com/talks/majora_carter_s_tale...</td>\n",
       "      <td>TED2006</td>\n",
       "      <td>6/27/06</td>\n",
       "      <td>If you're here today — and I'm very happy th...</td>\n",
       "      <td>2006</td>\n",
       "    </tr>\n",
       "    <tr>\n",
       "      <th>3</th>\n",
       "      <td>https://www.ted.com/talks/ken_robinson_says_sc...</td>\n",
       "      <td>TED2006</td>\n",
       "      <td>6/27/06</td>\n",
       "      <td>Good morning. How are you?    (Laughter)    ...</td>\n",
       "      <td>2006</td>\n",
       "    </tr>\n",
       "    <tr>\n",
       "      <th>4</th>\n",
       "      <td>https://www.ted.com/talks/hans_rosling_shows_t...</td>\n",
       "      <td>TED2006</td>\n",
       "      <td>6/27/06</td>\n",
       "      <td>About 10 years ago, I took on the task to te...</td>\n",
       "      <td>2006</td>\n",
       "    </tr>\n",
       "  </tbody>\n",
       "</table>\n",
       "</div>"
      ],
      "text/plain": [
       "                                          public_url    event published  \\\n",
       "0  https://www.ted.com/talks/al_gore_on_averting_...  TED2006   6/27/06   \n",
       "1  https://www.ted.com/talks/david_pogue_says_sim...  TED2006   6/27/06   \n",
       "2  https://www.ted.com/talks/majora_carter_s_tale...  TED2006   6/27/06   \n",
       "3  https://www.ted.com/talks/ken_robinson_says_sc...  TED2006   6/27/06   \n",
       "4  https://www.ted.com/talks/hans_rosling_shows_t...  TED2006   6/27/06   \n",
       "\n",
       "                                                text  year  \n",
       "0    Thank you so much, Chris. And it's truly a g...  2006  \n",
       "1    (Music: \"The Sound of Silence,\" Simon & Garf...  2006  \n",
       "2    If you're here today — and I'm very happy th...  2006  \n",
       "3    Good morning. How are you?    (Laughter)    ...  2006  \n",
       "4    About 10 years ago, I took on the task to te...  2006  "
      ]
     },
     "execution_count": 3,
     "metadata": {},
     "output_type": "execute_result"
    }
   ],
   "source": [
    "df = pd.read_csv('../output/TEDall_years.csv', index_col=0)\n",
    "print(df.shape)\n",
    "df.head()"
   ]
  },
  {
   "cell_type": "code",
   "execution_count": 4,
   "metadata": {
    "scrolled": false
   },
   "outputs": [
    {
     "data": {
      "text/plain": [
       "year\n",
       "1984      1\n",
       "1990      1\n",
       "1994      1\n",
       "1998      6\n",
       "2001      3\n",
       "2002     28\n",
       "2003     34\n",
       "2004     31\n",
       "2005     62\n",
       "2006     43\n",
       "2007     92\n",
       "2008     56\n",
       "2009    155\n",
       "2010    162\n",
       "2011    150\n",
       "2012    146\n",
       "2013    162\n",
       "2014    154\n",
       "2015    149\n",
       "2016    145\n",
       "2017    166\n",
       "Name: year, dtype: int64"
      ]
     },
     "execution_count": 4,
     "metadata": {},
     "output_type": "execute_result"
    }
   ],
   "source": [
    "# df['year'].value_counts() # sort by count\n",
    "df.groupby('year')['year'].count() # sorts by year"
   ]
  },
  {
   "cell_type": "code",
   "execution_count": 5,
   "metadata": {},
   "outputs": [
    {
     "data": {
      "text/html": [
       "<div>\n",
       "<style scoped>\n",
       "    .dataframe tbody tr th:only-of-type {\n",
       "        vertical-align: middle;\n",
       "    }\n",
       "\n",
       "    .dataframe tbody tr th {\n",
       "        vertical-align: top;\n",
       "    }\n",
       "\n",
       "    .dataframe thead th {\n",
       "        text-align: right;\n",
       "    }\n",
       "</style>\n",
       "<table border=\"1\" class=\"dataframe\">\n",
       "  <thead>\n",
       "    <tr style=\"text-align: right;\">\n",
       "      <th></th>\n",
       "      <th>public_url</th>\n",
       "      <th>event</th>\n",
       "      <th>published</th>\n",
       "      <th>text</th>\n",
       "      <th>year</th>\n",
       "    </tr>\n",
       "  </thead>\n",
       "  <tbody>\n",
       "  </tbody>\n",
       "</table>\n",
       "</div>"
      ],
      "text/plain": [
       "Empty DataFrame\n",
       "Columns: [public_url, event, published, text, year]\n",
       "Index: []"
      ]
     },
     "execution_count": 5,
     "metadata": {},
     "output_type": "execute_result"
    }
   ],
   "source": [
    "bool_series = pd.isnull(df[\"year\"])\n",
    "df[bool_series]"
   ]
  }
 ],
 "metadata": {
  "kernelspec": {
   "display_name": "Python 3",
   "language": "python",
   "name": "python3"
  },
  "language_info": {
   "codemirror_mode": {
    "name": "ipython",
    "version": 3
   },
   "file_extension": ".py",
   "mimetype": "text/x-python",
   "name": "python",
   "nbconvert_exporter": "python",
   "pygments_lexer": "ipython3",
   "version": "3.6.10"
  }
 },
 "nbformat": 4,
 "nbformat_minor": 2
}
