{
 "cells": [
  {
   "cell_type": "code",
   "execution_count": 1,
   "metadata": {
    "button": false,
    "collapsed": true,
    "deletable": true,
    "new_sheet": false,
    "run_control": {
     "read_only": false
    }
   },
   "outputs": [],
   "source": [
    "import pylab\n",
    "%matplotlib inline\n",
    "pylab.rcParams['figure.figsize'] = (12, 6)"
   ]
  },
  {
   "cell_type": "code",
   "execution_count": 2,
   "metadata": {
    "button": false,
    "collapsed": true,
    "deletable": true,
    "new_sheet": false,
    "run_control": {
     "read_only": false
    }
   },
   "outputs": [],
   "source": [
    "#! /usr/bin/env python\n",
    "\n",
    "import pandas\n",
    "import re\n",
    "from nltk.tokenize import WhitespaceTokenizer\n",
    "import matplotlib.pyplot as plt\n",
    "import numpy as np\n",
    "import csv"
   ]
  },
  {
   "cell_type": "code",
   "execution_count": 3,
   "metadata": {
    "button": false,
    "collapsed": true,
    "deletable": true,
    "new_sheet": false,
    "run_control": {
     "read_only": false
    }
   },
   "outputs": [],
   "source": [
    "# =-=-=-=-=-=\n",
    "# Read CSV into DataFrame and then create lists\n",
    "# =-=-=-=-=-=\n",
    "\n",
    "# Create pandas dataframe\n",
    "colnames = ['index','citation','author','gender','title','date','length','text','occupation','numDate']\n",
    "df = pandas.read_csv('../data/talks_6d.csv', names=colnames)\n",
    "df = df.drop(df.index[0])\n",
    "df.reset_index(inplace = True)"
   ]
  },
  {
   "cell_type": "code",
   "execution_count": 7,
   "metadata": {
    "button": false,
    "collapsed": true,
    "deletable": true,
    "new_sheet": false,
    "run_control": {
     "read_only": false
    }
   },
   "outputs": [],
   "source": [
    "# pandas is dreadful about this\n",
    "df = df.drop('index', axis= 1)"
   ]
  },
  {
   "cell_type": "code",
   "execution_count": 8,
   "metadata": {
    "button": false,
    "collapsed": false,
    "deletable": true,
    "new_sheet": false,
    "run_control": {
     "read_only": false
    }
   },
   "outputs": [
    {
     "data": {
      "text/html": [
       "<div>\n",
       "<table border=\"1\" class=\"dataframe\">\n",
       "  <thead>\n",
       "    <tr style=\"text-align: right;\">\n",
       "      <th></th>\n",
       "      <th>citation</th>\n",
       "      <th>author</th>\n",
       "      <th>gender</th>\n",
       "      <th>title</th>\n",
       "      <th>date</th>\n",
       "      <th>length</th>\n",
       "      <th>text</th>\n",
       "      <th>occupation</th>\n",
       "      <th>numDate</th>\n",
       "    </tr>\n",
       "  </thead>\n",
       "  <tbody>\n",
       "    <tr>\n",
       "      <th>0</th>\n",
       "      <td>Al Gore 2006</td>\n",
       "      <td>Al Gore</td>\n",
       "      <td>male</td>\n",
       "      <td>Averting the climate crisis</td>\n",
       "      <td>Jun 2006</td>\n",
       "      <td>957</td>\n",
       "      <td>Thank you so much  Chris. And it's truly a gre...</td>\n",
       "      <td>Climate advocate</td>\n",
       "      <td>200606</td>\n",
       "    </tr>\n",
       "    <tr>\n",
       "      <th>1</th>\n",
       "      <td>David Pogue 2006</td>\n",
       "      <td>David Pogue</td>\n",
       "      <td>male</td>\n",
       "      <td>Simplicity sells</td>\n",
       "      <td>Jun 2006</td>\n",
       "      <td>1271</td>\n",
       "      <td>Hello voice mail  my old friend. I've called f...</td>\n",
       "      <td>Technology columnist</td>\n",
       "      <td>200606</td>\n",
       "    </tr>\n",
       "    <tr>\n",
       "      <th>2</th>\n",
       "      <td>Cameron Sinclair 2006</td>\n",
       "      <td>Cameron Sinclair</td>\n",
       "      <td>male</td>\n",
       "      <td>My wish: A call for open-source architecture</td>\n",
       "      <td>Jul 2006</td>\n",
       "      <td>1398</td>\n",
       "      <td>I'm going to take you on a journey very quickl...</td>\n",
       "      <td>Co-founder, Architecture for Humanity</td>\n",
       "      <td>200607</td>\n",
       "    </tr>\n",
       "    <tr>\n",
       "      <th>3</th>\n",
       "      <td>Sergey Brin + Larry Page 2007</td>\n",
       "      <td>Sergey Brin + Larry Page</td>\n",
       "      <td>male</td>\n",
       "      <td>The genesis of Google</td>\n",
       "      <td>May 2007</td>\n",
       "      <td>1205</td>\n",
       "      <td>Sergey Brin  I want to discuss a question I kn...</td>\n",
       "      <td>NaN</td>\n",
       "      <td>200705</td>\n",
       "    </tr>\n",
       "    <tr>\n",
       "      <th>4</th>\n",
       "      <td>Nathalie Miebach 2011</td>\n",
       "      <td>Nathalie Miebach</td>\n",
       "      <td>female</td>\n",
       "      <td>Art made of storms</td>\n",
       "      <td>Oct 2011</td>\n",
       "      <td>247</td>\n",
       "      <td>What you just heard are the interactions of ba...</td>\n",
       "      <td>Artist</td>\n",
       "      <td>201110</td>\n",
       "    </tr>\n",
       "  </tbody>\n",
       "</table>\n",
       "</div>"
      ],
      "text/plain": [
       "                        citation                    author  gender  \\\n",
       "0                   Al Gore 2006                   Al Gore    male   \n",
       "1               David Pogue 2006               David Pogue    male   \n",
       "2          Cameron Sinclair 2006          Cameron Sinclair    male   \n",
       "3  Sergey Brin + Larry Page 2007  Sergey Brin + Larry Page    male   \n",
       "4          Nathalie Miebach 2011          Nathalie Miebach  female   \n",
       "\n",
       "                                          title      date length  \\\n",
       "0                   Averting the climate crisis  Jun 2006    957   \n",
       "1                              Simplicity sells  Jun 2006   1271   \n",
       "2  My wish: A call for open-source architecture  Jul 2006   1398   \n",
       "3                         The genesis of Google  May 2007   1205   \n",
       "4                            Art made of storms  Oct 2011    247   \n",
       "\n",
       "                                                text  \\\n",
       "0  Thank you so much  Chris. And it's truly a gre...   \n",
       "1  Hello voice mail  my old friend. I've called f...   \n",
       "2  I'm going to take you on a journey very quickl...   \n",
       "3  Sergey Brin  I want to discuss a question I kn...   \n",
       "4  What you just heard are the interactions of ba...   \n",
       "\n",
       "                              occupation numDate  \n",
       "0                       Climate advocate  200606  \n",
       "1                   Technology columnist  200606  \n",
       "2  Co-founder, Architecture for Humanity  200607  \n",
       "3                                    NaN  200705  \n",
       "4                                 Artist  201110  "
      ]
     },
     "execution_count": 8,
     "metadata": {},
     "output_type": "execute_result"
    }
   ],
   "source": [
    "# Create list of talks\n",
    "# talks = dfted.text.tolist()\n",
    "df.head()"
   ]
  },
  {
   "cell_type": "code",
   "execution_count": 9,
   "metadata": {
    "button": false,
    "collapsed": false,
    "deletable": true,
    "new_sheet": false,
    "run_control": {
     "read_only": false
    }
   },
   "outputs": [
    {
     "name": "stdout",
     "output_type": "stream",
     "text": [
      "Of the 2068 talks, the shortest is 353 words; the longest 6379; and the average 2115.\n"
     ]
    }
   ],
   "source": [
    "# Lets count some words\n",
    "\n",
    "talks = df.text.tolist()\n",
    "\n",
    "# List of word counts for each talk \n",
    "counts = [len(WhitespaceTokenizer().tokenize(talk)) for talk in talks]\n",
    "print(\"Of the {} talks, the shortest is {} words; the longest {}; and the average {}.\".format(\n",
    "    len(counts),min(counts), max(counts), int(np.mean(counts))))"
   ]
  },
  {
   "cell_type": "code",
   "execution_count": 10,
   "metadata": {
    "button": false,
    "collapsed": false,
    "deletable": true,
    "new_sheet": false,
    "run_control": {
     "read_only": false
    }
   },
   "outputs": [
    {
     "name": "stdout",
     "output_type": "stream",
     "text": [
      "There are  40  talks of 4000+ words. [12, 55, 105, 469, 511, 556, 607, 672, 675, 686, 844, 921, 1084, 1097, 1130, 1256, 1290, 1294, 1334, 1341, 1344, 1346, 1358, 1365, 1372, 1374, 1393, 1410, 1422, 1428, 1454, 1455, 1530, 1563, 1635, 1726, 1728, 1758, 1881, 2001]\n"
     ]
    }
   ],
   "source": [
    "# Lets see if there are long talks\n",
    "fourKs = []\n",
    "for talk in talks:\n",
    "    if len(WhitespaceTokenizer().tokenize(talk)) > 4000:\n",
    "        fourKs.append(talks.index(talk))\n",
    "\n",
    "print(\"There are \",len(fourKs),\" talks of 4000+ words.\", fourKs)"
   ]
  },
  {
   "cell_type": "code",
   "execution_count": 11,
   "metadata": {
    "button": false,
    "collapsed": false,
    "deletable": true,
    "new_sheet": false,
    "run_control": {
     "read_only": false
    }
   },
   "outputs": [
    {
     "data": {
      "image/png": "[encoded data removed]",
      "text/plain": [
       "<matplotlib.figure.Figure at 0x10cf035c0>"
      ]
     },
     "metadata": {},
     "output_type": "display_data"
    }
   ],
   "source": [
    "# =-=-=-=-=-=-=-=-=-=-=\n",
    "# Plot of Word Lengths\n",
    "# =-=-=-=-=-=-=-=-=-=-= \n",
    "\n",
    "length_sorted = sorted(counts)\n",
    "#plt.plot(length_sorted)\n",
    "#plt.plot(range(len(length_sorted)), length_sorted, marker='o', markersize=3, color=\"red\")\n",
    "plt.bar(range(len(length_sorted)), length_sorted)\n",
    "\n",
    "plt.xlabel('TEDtalks')\n",
    "plt.ylabel('Length in Words')\n",
    "plt.title('How Long is a TEDtalk?')\n",
    "plt.grid(True)\n",
    "plt.show()"
   ]
  },
  {
   "cell_type": "code",
   "execution_count": 12,
   "metadata": {
    "button": false,
    "collapsed": false,
    "deletable": true,
    "new_sheet": false,
    "run_control": {
     "read_only": false
    }
   },
   "outputs": [
    {
     "name": "stdout",
     "output_type": "stream",
     "text": [
      "4373823 76674\n"
     ]
    }
   ],
   "source": [
    "# =-=-=-=-=-=-=-=-=-=-=\n",
    "# Corpus Word Frequencies: RAW\n",
    "# =-=-=-=-=-=-=-=-=-=-= \n",
    "\n",
    "# Mash all the talks together & then tokenize\n",
    "alltalks = \" \".join(talks).lower()\n",
    "tokens = WhitespaceTokenizer().tokenize(alltalks)\n",
    "\n",
    "# Build a dictionary of words and their frequency in the corpus\n",
    "word_freq = {}\n",
    "for token in tokens:\n",
    "    try:\n",
    "        word_freq[token] += 1\n",
    "    except: \n",
    "        word_freq[token] = 1\n",
    "\n",
    "# Convert dictionary into a list of tuples\n",
    "freq_list = [(val, key) for key, val in word_freq.items()]\n",
    "\n",
    "# Sort with most frequent words at top\n",
    "freq_list.sort(reverse=True)\n",
    "\n",
    "print(len(tokens), len(freq_list))"
   ]
  },
  {
   "cell_type": "code",
   "execution_count": null,
   "metadata": {
    "button": false,
    "collapsed": true,
    "deletable": true,
    "new_sheet": false,
    "run_control": {
     "read_only": false
    }
   },
   "outputs": [],
   "source": [
    "# Write to file\n",
    "with open('../outputs/word_freq.csv', 'w') as f:\n",
    "        wtr = csv.writer(f)\n",
    "        wtr.writerows(sorted(freq_list, reverse=True))\n",
    "        f.close()"
   ]
  },
  {
   "cell_type": "code",
   "execution_count": null,
   "metadata": {
    "button": false,
    "collapsed": true,
    "deletable": true,
    "new_sheet": false,
    "run_control": {
     "read_only": false
    }
   },
   "outputs": [],
   "source": [
    "# Number of words that occur once, twice, three times...\n",
    "from collections import Counter\n",
    "Counter(element[0] for element in freq_list)"
   ]
  },
  {
   "cell_type": "code",
   "execution_count": 14,
   "metadata": {
    "button": false,
    "collapsed": true,
    "deletable": true,
    "new_sheet": false,
    "run_control": {
     "read_only": false
    }
   },
   "outputs": [],
   "source": [
    "# Sentences\n",
    "import nltk\n",
    "\n",
    "sentences = nltk.sent_tokenize(alltalks)"
   ]
  },
  {
   "cell_type": "code",
   "execution_count": 21,
   "metadata": {
    "button": false,
    "collapsed": false,
    "deletable": true,
    "new_sheet": false,
    "run_control": {
     "read_only": false
    }
   },
   "outputs": [
    {
     "data": {
      "text/plain": [
       "251858"
      ]
     },
     "execution_count": 21,
     "metadata": {},
     "output_type": "execute_result"
    }
   ],
   "source": [
    "len(sentences)"
   ]
  },
  {
   "cell_type": "code",
   "execution_count": null,
   "metadata": {
    "button": false,
    "collapsed": true,
    "deletable": true,
    "new_sheet": false,
    "run_control": {
     "read_only": false
    }
   },
   "outputs": [],
   "source": []
  },
  {
   "cell_type": "code",
   "execution_count": 17,
   "metadata": {
    "button": false,
    "collapsed": false,
    "deletable": true,
    "new_sheet": false,
    "run_control": {
     "read_only": false
    }
   },
   "outputs": [
    {
     "ename": "LookupError",
     "evalue": "\n**********************************************************************\n  Resource\n  'chunkers/maxent_ne_chunker/PY3/english_ace_binary.pickle' not\n  found.  Please use the NLTK Downloader to obtain the resource:\n  >>> nltk.download()\n  Searched in:\n    - '/Users/jjl5766/nltk_data'\n    - '/usr/share/nltk_data'\n    - '/usr/local/share/nltk_data'\n    - '/usr/lib/nltk_data'\n    - '/usr/local/lib/nltk_data'\n    - ''\n**********************************************************************",
     "output_type": "error",
     "traceback": [
      "\u001b[0;31m---------------------------------------------------------------------------\u001b[0m",
      "\u001b[0;31mLookupError\u001b[0m                               Traceback (most recent call last)",
      "\u001b[0;32m<ipython-input-17-7adca314fda6>\u001b[0m in \u001b[0;36m<module>\u001b[0;34m()\u001b[0m\n\u001b[1;32m      1\u001b[0m \u001b[0mtokenized_sentences\u001b[0m \u001b[0;34m=\u001b[0m \u001b[0;34m[\u001b[0m\u001b[0mnltk\u001b[0m\u001b[0;34m.\u001b[0m\u001b[0mword_tokenize\u001b[0m\u001b[0;34m(\u001b[0m\u001b[0msentence\u001b[0m\u001b[0;34m)\u001b[0m \u001b[0;32mfor\u001b[0m \u001b[0msentence\u001b[0m \u001b[0;32min\u001b[0m \u001b[0msentences\u001b[0m\u001b[0;34m]\u001b[0m\u001b[0;34m\u001b[0m\u001b[0m\n\u001b[1;32m      2\u001b[0m \u001b[0mtagged_sentences\u001b[0m \u001b[0;34m=\u001b[0m \u001b[0;34m[\u001b[0m\u001b[0mnltk\u001b[0m\u001b[0;34m.\u001b[0m\u001b[0mpos_tag\u001b[0m\u001b[0;34m(\u001b[0m\u001b[0msentence\u001b[0m\u001b[0;34m)\u001b[0m \u001b[0;32mfor\u001b[0m \u001b[0msentence\u001b[0m \u001b[0;32min\u001b[0m \u001b[0mtokenized_sentences\u001b[0m\u001b[0;34m]\u001b[0m\u001b[0;34m\u001b[0m\u001b[0m\n\u001b[0;32m----> 3\u001b[0;31m \u001b[0mchunked_sentences\u001b[0m \u001b[0;34m=\u001b[0m \u001b[0mnltk\u001b[0m\u001b[0;34m.\u001b[0m\u001b[0mne_chunk_sents\u001b[0m\u001b[0;34m(\u001b[0m\u001b[0mtagged_sentences\u001b[0m\u001b[0;34m,\u001b[0m \u001b[0mbinary\u001b[0m\u001b[0;34m=\u001b[0m\u001b[0;32mTrue\u001b[0m\u001b[0;34m)\u001b[0m\u001b[0;34m\u001b[0m\u001b[0m\n\u001b[0m",
      "\u001b[0;32m~/Library/Python/3.4/lib/python/site-packages/nltk/chunk/__init__.py\u001b[0m in \u001b[0;36mne_chunk_sents\u001b[0;34m(tagged_sentences, binary)\u001b[0m\n\u001b[1;32m    186\u001b[0m     \u001b[0;32melse\u001b[0m\u001b[0;34m:\u001b[0m\u001b[0;34m\u001b[0m\u001b[0m\n\u001b[1;32m    187\u001b[0m         \u001b[0mchunker_pickle\u001b[0m \u001b[0;34m=\u001b[0m \u001b[0m_MULTICLASS_NE_CHUNKER\u001b[0m\u001b[0;34m\u001b[0m\u001b[0m\n\u001b[0;32m--> 188\u001b[0;31m     \u001b[0mchunker\u001b[0m \u001b[0;34m=\u001b[0m \u001b[0mload\u001b[0m\u001b[0;34m(\u001b[0m\u001b[0mchunker_pickle\u001b[0m\u001b[0;34m)\u001b[0m\u001b[0;34m\u001b[0m\u001b[0m\n\u001b[0m\u001b[1;32m    189\u001b[0m     \u001b[0;32mreturn\u001b[0m \u001b[0mchunker\u001b[0m\u001b[0;34m.\u001b[0m\u001b[0mparse_sents\u001b[0m\u001b[0;34m(\u001b[0m\u001b[0mtagged_sentences\u001b[0m\u001b[0;34m)\u001b[0m\u001b[0;34m\u001b[0m\u001b[0m\n\u001b[1;32m    190\u001b[0m \u001b[0;34m\u001b[0m\u001b[0m\n",
      "\u001b[0;32m~/Library/Python/3.4/lib/python/site-packages/nltk/data.py\u001b[0m in \u001b[0;36mload\u001b[0;34m(resource_url, format, cache, verbose, logic_parser, fstruct_reader, encoding)\u001b[0m\n\u001b[1;32m    806\u001b[0m \u001b[0;34m\u001b[0m\u001b[0m\n\u001b[1;32m    807\u001b[0m     \u001b[0;31m# Load the resource.\u001b[0m\u001b[0;34m\u001b[0m\u001b[0;34m\u001b[0m\u001b[0m\n\u001b[0;32m--> 808\u001b[0;31m     \u001b[0mopened_resource\u001b[0m \u001b[0;34m=\u001b[0m \u001b[0m_open\u001b[0m\u001b[0;34m(\u001b[0m\u001b[0mresource_url\u001b[0m\u001b[0;34m)\u001b[0m\u001b[0;34m\u001b[0m\u001b[0m\n\u001b[0m\u001b[1;32m    809\u001b[0m \u001b[0;34m\u001b[0m\u001b[0m\n\u001b[1;32m    810\u001b[0m     \u001b[0;32mif\u001b[0m \u001b[0mformat\u001b[0m \u001b[0;34m==\u001b[0m \u001b[0;34m'raw'\u001b[0m\u001b[0;34m:\u001b[0m\u001b[0;34m\u001b[0m\u001b[0m\n",
      "\u001b[0;32m~/Library/Python/3.4/lib/python/site-packages/nltk/data.py\u001b[0m in \u001b[0;36m_open\u001b[0;34m(resource_url)\u001b[0m\n\u001b[1;32m    924\u001b[0m \u001b[0;34m\u001b[0m\u001b[0m\n\u001b[1;32m    925\u001b[0m     \u001b[0;32mif\u001b[0m \u001b[0mprotocol\u001b[0m \u001b[0;32mis\u001b[0m \u001b[0;32mNone\u001b[0m \u001b[0;32mor\u001b[0m \u001b[0mprotocol\u001b[0m\u001b[0;34m.\u001b[0m\u001b[0mlower\u001b[0m\u001b[0;34m(\u001b[0m\u001b[0;34m)\u001b[0m \u001b[0;34m==\u001b[0m \u001b[0;34m'nltk'\u001b[0m\u001b[0;34m:\u001b[0m\u001b[0;34m\u001b[0m\u001b[0m\n\u001b[0;32m--> 926\u001b[0;31m         \u001b[0;32mreturn\u001b[0m \u001b[0mfind\u001b[0m\u001b[0;34m(\u001b[0m\u001b[0mpath_\u001b[0m\u001b[0;34m,\u001b[0m \u001b[0mpath\u001b[0m \u001b[0;34m+\u001b[0m \u001b[0;34m[\u001b[0m\u001b[0;34m''\u001b[0m\u001b[0;34m]\u001b[0m\u001b[0;34m)\u001b[0m\u001b[0;34m.\u001b[0m\u001b[0mopen\u001b[0m\u001b[0;34m(\u001b[0m\u001b[0;34m)\u001b[0m\u001b[0;34m\u001b[0m\u001b[0m\n\u001b[0m\u001b[1;32m    927\u001b[0m     \u001b[0;32melif\u001b[0m \u001b[0mprotocol\u001b[0m\u001b[0;34m.\u001b[0m\u001b[0mlower\u001b[0m\u001b[0;34m(\u001b[0m\u001b[0;34m)\u001b[0m \u001b[0;34m==\u001b[0m \u001b[0;34m'file'\u001b[0m\u001b[0;34m:\u001b[0m\u001b[0;34m\u001b[0m\u001b[0m\n\u001b[1;32m    928\u001b[0m         \u001b[0;31m# urllib might not use mode='rb', so handle this one ourselves:\u001b[0m\u001b[0;34m\u001b[0m\u001b[0;34m\u001b[0m\u001b[0m\n",
      "\u001b[0;32m~/Library/Python/3.4/lib/python/site-packages/nltk/data.py\u001b[0m in \u001b[0;36mfind\u001b[0;34m(resource_name, paths)\u001b[0m\n\u001b[1;32m    646\u001b[0m     \u001b[0msep\u001b[0m \u001b[0;34m=\u001b[0m \u001b[0;34m'*'\u001b[0m \u001b[0;34m*\u001b[0m \u001b[0;36m70\u001b[0m\u001b[0;34m\u001b[0m\u001b[0m\n\u001b[1;32m    647\u001b[0m     \u001b[0mresource_not_found\u001b[0m \u001b[0;34m=\u001b[0m \u001b[0;34m'\\n%s\\n%s\\n%s'\u001b[0m \u001b[0;34m%\u001b[0m \u001b[0;34m(\u001b[0m\u001b[0msep\u001b[0m\u001b[0;34m,\u001b[0m \u001b[0mmsg\u001b[0m\u001b[0;34m,\u001b[0m \u001b[0msep\u001b[0m\u001b[0;34m)\u001b[0m\u001b[0;34m\u001b[0m\u001b[0m\n\u001b[0;32m--> 648\u001b[0;31m     \u001b[0;32mraise\u001b[0m \u001b[0mLookupError\u001b[0m\u001b[0;34m(\u001b[0m\u001b[0mresource_not_found\u001b[0m\u001b[0;34m)\u001b[0m\u001b[0;34m\u001b[0m\u001b[0m\n\u001b[0m\u001b[1;32m    649\u001b[0m \u001b[0;34m\u001b[0m\u001b[0m\n\u001b[1;32m    650\u001b[0m \u001b[0;34m\u001b[0m\u001b[0m\n",
      "\u001b[0;31mLookupError\u001b[0m: \n**********************************************************************\n  Resource\n  'chunkers/maxent_ne_chunker/PY3/english_ace_binary.pickle' not\n  found.  Please use the NLTK Downloader to obtain the resource:\n  >>> nltk.download()\n  Searched in:\n    - '/Users/jjl5766/nltk_data'\n    - '/usr/share/nltk_data'\n    - '/usr/local/share/nltk_data'\n    - '/usr/lib/nltk_data'\n    - '/usr/local/lib/nltk_data'\n    - ''\n**********************************************************************"
     ]
    }
   ],
   "source": [
    "tokenized_sentences = [nltk.word_tokenize(sentence) for sentence in sentences]\n",
    "tagged_sentences = [nltk.pos_tag(sentence) for sentence in tokenized_sentences]\n",
    "chunked_sentences = nltk.ne_chunk_sents(tagged_sentences, binary=True)"
   ]
  },
  {
   "cell_type": "code",
   "execution_count": null,
   "metadata": {
    "button": false,
    "collapsed": true,
    "deletable": true,
    "new_sheet": false,
    "run_control": {
     "read_only": false
    }
   },
   "outputs": [],
   "source": [
    "def extract_entity_names(t):\n",
    "    entity_names = []\n",
    "\n",
    "    if hasattr(t, 'label') and t.label:\n",
    "        if t.label() == 'NE':\n",
    "            entity_names.append(' '.join([child[0] for child in t]))\n",
    "        else:\n",
    "            for child in t:\n",
    "                entity_names.extend(extract_entity_names(child))\n",
    "\n",
    "    return entity_names\n",
    "\n",
    "entity_names = []\n",
    "for tree in chunked_sentences:\n",
    "    # Print results per sentence\n",
    "    # print extract_entity_names(tree)\n",
    "\n",
    "    entity_names.extend(extract_entity_names(tree))"
   ]
  },
  {
   "cell_type": "code",
   "execution_count": null,
   "metadata": {
    "button": false,
    "collapsed": true,
    "deletable": true,
    "new_sheet": false,
    "run_control": {
     "read_only": false
    }
   },
   "outputs": [],
   "source": [
    "# Print all entity names\n",
    "print(len(entity_names)\n",
    "\n",
    "# Print unique entity names\n",
    "print set(entity_names)"
   ]
  },
  {
   "cell_type": "code",
   "execution_count": 18,
   "metadata": {
    "button": false,
    "collapsed": true,
    "deletable": true,
    "new_sheet": false,
    "run_control": {
     "read_only": false
    }
   },
   "outputs": [],
   "source": [
    "from nltk.collocations import *\n",
    "bigram_measures = nltk.collocations.BigramAssocMeasures()\n",
    "finder = BigramCollocationFinder.from_words(tokens)"
   ]
  },
  {
   "cell_type": "code",
   "execution_count": 19,
   "metadata": {
    "button": false,
    "collapsed": false,
    "deletable": true,
    "new_sheet": false,
    "run_control": {
     "read_only": false
    }
   },
   "outputs": [
    {
     "data": {
      "text/plain": [
       "[('ars', 'electronica'),\n",
       " ('bacillus', 'pasteurii'),\n",
       " ('bona', 'fide'),\n",
       " ('chez', 'panisse'),\n",
       " ('elinor', 'ostrom'),\n",
       " ('familia', 'michoacana'),\n",
       " ('jorge', 'luis'),\n",
       " ('marlene', 'dietrich.'),\n",
       " ('mato', 'grosso'),\n",
       " ('merci', 'beaucoup.')]"
      ]
     },
     "execution_count": 19,
     "metadata": {},
     "output_type": "execute_result"
    }
   ],
   "source": [
    "finder.apply_freq_filter(3)\n",
    "finder.nbest(bigram_measures.pmi, 10)"
   ]
  },
  {
   "cell_type": "code",
   "execution_count": 20,
   "metadata": {
    "button": false,
    "collapsed": false,
    "deletable": true,
    "new_sheet": false,
    "run_control": {
     "read_only": false
    },
    "scrolled": true
   },
   "outputs": [
    {
     "ename": "NameError",
     "evalue": "name 'trigram_measures' is not defined",
     "output_type": "error",
     "traceback": [
      "\u001b[0;31m---------------------------------------------------------------------------\u001b[0m",
      "\u001b[0;31mNameError\u001b[0m                                 Traceback (most recent call last)",
      "\u001b[0;32m<ipython-input-20-fc956396d39d>\u001b[0m in \u001b[0;36m<module>\u001b[0;34m()\u001b[0m\n\u001b[1;32m      1\u001b[0m \u001b[0mtrifinder\u001b[0m \u001b[0;34m=\u001b[0m \u001b[0mTrigramCollocationFinder\u001b[0m\u001b[0;34m.\u001b[0m\u001b[0mfrom_words\u001b[0m\u001b[0;34m(\u001b[0m\u001b[0mtokens\u001b[0m\u001b[0;34m)\u001b[0m\u001b[0;34m\u001b[0m\u001b[0m\n\u001b[1;32m      2\u001b[0m \u001b[0;31m# scored = trifinder.score_ngrams(trigram_measures.raw_freq)\u001b[0m\u001b[0;34m\u001b[0m\u001b[0;34m\u001b[0m\u001b[0m\n\u001b[0;32m----> 3\u001b[0;31m \u001b[0msorted\u001b[0m\u001b[0;34m(\u001b[0m\u001b[0mtrifinder\u001b[0m\u001b[0;34m.\u001b[0m\u001b[0mnbest\u001b[0m\u001b[0;34m(\u001b[0m\u001b[0mtrigram_measures\u001b[0m\u001b[0;34m.\u001b[0m\u001b[0mraw_freq\u001b[0m\u001b[0;34m,\u001b[0m \u001b[0;36m2\u001b[0m\u001b[0;34m)\u001b[0m\u001b[0;34m)\u001b[0m\u001b[0;34m\u001b[0m\u001b[0m\n\u001b[0m",
      "\u001b[0;31mNameError\u001b[0m: name 'trigram_measures' is not defined"
     ]
    }
   ],
   "source": [
    "trifinder = TrigramCollocationFinder.from_words(tokens)\n",
    "# scored = trifinder.score_ngrams(trigram_measures.raw_freq)\n",
    "sorted(trifinder.nbest(trigram_measures.raw_freq, 2))"
   ]
  },
  {
   "cell_type": "markdown",
   "metadata": {
    "button": false,
    "deletable": true,
    "new_sheet": false,
    "run_control": {
     "read_only": false
    }
   },
   "source": [
    "## Quick Statistics for LA"
   ]
  },
  {
   "cell_type": "code",
   "execution_count": 22,
   "metadata": {
    "button": false,
    "collapsed": false,
    "deletable": true,
    "new_sheet": false,
    "run_control": {
     "read_only": false
    }
   },
   "outputs": [
    {
     "data": {
      "text/plain": [
       "Counter({'They (all male) - music group': 2,\n",
       "         'both': 10,\n",
       "         'female': 607,\n",
       "         'gender non-binary': 1,\n",
       "         'male': 1437,\n",
       "         'they (both female)': 3,\n",
       "         'they (male and female)': 4,\n",
       "         'they (male and male)': 2,\n",
       "         'they - group including at least one female': 1,\n",
       "         'they - music group, all women': 1})"
      ]
     },
     "execution_count": 22,
     "metadata": {},
     "output_type": "execute_result"
    }
   ],
   "source": [
    "# A quick count of genders\n",
    "\n",
    "from collections import Counter\n",
    "\n",
    "genders = df.gender.tolist()\n",
    "Counter(item for item in genders)"
   ]
  },
  {
   "cell_type": "code",
   "execution_count": 23,
   "metadata": {
    "button": false,
    "collapsed": false,
    "deletable": true,
    "new_sheet": false,
    "run_control": {
     "read_only": false
    }
   },
   "outputs": [
    {
     "data": {
      "text/plain": [
       "1176"
      ]
     },
     "execution_count": 23,
     "metadata": {},
     "output_type": "execute_result"
    }
   ],
   "source": [
    "occupations = df.occupation.tolist()\n",
    "set_occ = set(occupations)\n",
    "len(set_occ)"
   ]
  },
  {
   "cell_type": "code",
   "execution_count": 26,
   "metadata": {
    "button": false,
    "collapsed": false,
    "deletable": true,
    "new_sheet": false,
    "run_control": {
     "read_only": false
    }
   },
   "outputs": [
    {
     "name": "stdout",
     "output_type": "stream",
     "text": [
      "{nan, 'Entrepreneur', 'Scientist and biofuel guru', 'Corrections pioneer', 'Professor of molecular and cell biology', 'Roboticist ', 'Vagabond photojournalist + conceptual artist', 'Play researcher, psychiatrist', 'Inventor, ocean swimmer', 'Director of The British Museum', 'Social entrepreneur', 'Cloudspotter', 'Illustrator', 'Fiddler', 'Documentary photographer', 'Director and writer', 'Parents', 'photographer + visual artist', 'Ecological entomologist', 'Endocrinologist', 'Editorial cartoonist', 'Physicist, education activist', 'Computer theorist', 'Brain researcher', 'Recovering politician', 'Circular economy advocate', 'Plastics recycler', 'Designer, Storyteller', 'Human-rights activist', 'Speleologist', 'Mindfulness expert', 'Performance poet, multimedia artist', 'Planetary scientist', 'Disrupter', 'Mycologist', 'Psychologist; happiness expert', ' Chairman of the Cordoba Initiative', 'Child prodigy', 'International relations expert ', 'Blogger, digital visionary', 'Behavioral economics founder', 'Sound consultant', 'Communicator', 'Applied scientist, innovator', 'Poet, playwright', 'Poet and language advocate', 'Regenerative neurologist', 'Data journalist', 'Trash anthropologist', 'Business professor', 'Ocean advocate', 'Microinsurer', 'Map researcher', 'Creator, The 99', 'CEO, Lumos', 'Autism researcher', 'Photojournalist', 'Social media analyst', 'Privacy researcher + activist', 'Marketing whiz', 'Software engineer', 'NASA scientist', 'Composer, conductor', 'Smart product inventor', 'Social scientist, author ', 'Labor lawyer and activist', 'Animating neurobiologist', 'Global strategist', 'Visual storyteller', 'Pastor', 'Comedian and writer', \"Children's book author\", 'Executive', 'Photo Retoucher', 'Neuropsychologist', 'Innovation researcher', 'COO, Unilever', 'Anti-slavery activist', 'Disaster roboticist', 'Vedantic teacher', 'City transportation expert', 'World-builder', 'Fisheries biologist', 'Author and Activist', 'Cruciverbalist', 'Public health researcher', 'Musician and graphic designer', 'Philosopher, ethicist', 'Mathemagician', 'Bio researcher', 'Cartoonist ', 'medical inventor', 'Penguin expert', 'Experimental audio-visual artist', 'Photographer and retoucher', 'Visual grammar engine inventor', 'Ecologist, writer', 'Lunch lady', 'Philanthropist, mathematician', 'Attorney + privacy advocate', 'Scientific visualization expert', 'A capella ensemble', 'Relentless mind', 'Quantum physicist', 'Plant geneticist', 'Entrepreneur, marketer', 'Athlete and actor', 'Science writer, innovation consultant, conservationist', 'Resilience leader', 'Gun-control activist', 'Aspiring organic farmer', 'Spiritual leader', 'Fashion designer', 'Planet walker', 'Strategy consultant, social entrepreneur and author', 'Neuroscientist, stand-up comic', 'Pilot', 'Coldwater swimmer', 'Leadership educator', 'Political mobilization activist', 'Business Educator', 'Sexuality educator', 'Transport networker', 'Physician, cancer researcher', 'Comedian', 'Venture capitalist, author', 'Priest', 'Favela painters', 'Information security manager', 'Chemist, inventor', 'Reporter', 'Ocean scientist', 'Social Justice Activist', 'Tech anthropologist', 'Neuroeconomist', 'Medical researcher and educator ', 'Global Security Futurist', 'Environmental scientist', 'Management thinker', 'CEO of Google', 'Marketing expert', 'Skeptic', 'Philosopher-comic', 'Journalist and psychologist', 'Biomedical inventor', 'Physicist ', 'Sustainable-business pioneer', 'Game changer', 'Femto-photographer', 'Dancer and choreographer', 'Humorist, web artist', 'Interaction designer; software developer', 'Professor', 'Digital strategist', 'Skeptimist', 'Civics educator', 'Foreign policy strategist', 'Legal expert', 'Pediatric anesthesiologist', 'Poet and activist', 'Cybersecurity researcher', 'Architect', 'Ecologist', 'Urban architect', 'Computational neuroscientist', 'Journalist, swimmer', 'Global economist ', 'Public health expert', 'Conservation technologist', 'Research scientist', 'Neuroscientist and philosopher', 'Economist and professor', 'Social scientist', 'Security expert', 'Human rights attorney', 'British Prime Minister', 'Anti-corruption activist', 'Productivity guru, author', 'Security consultant', 'Physician', 'Happiness researcher', 'Philosopher, entrepreneur', 'Pianist, composer', 'Automotive researcher', 'Planet finder', 'Epidemiologist', 'Actor, comedian, playwright', 'HIV/AIDS fighter', 'Instructional designer', 'Healthcare communicator', 'Transportation specialist', 'Google Fellow', 'Science journalist', 'Policy expert', 'Activist, anthropologist, consultant', 'Scholar of Islam and law', 'Urban documentarian', 'Mindful addiction doctor', 'Theorist', 'Author, speaker, reformer', 'Psychologist, author', 'Puzzlemaster', 'Visual Effects Guru', 'Computational geneticist', 'Director, The Institute for Global Happiness', 'Poet', 'Tissue engineering researcher', 'Executive chair, Ford Motor Co.', 'North Korean refugee', 'Physician and author', 'Angel Investor', 'Author, producer', 'Physician scientist', 'Education researcher', 'Cognitive Neuroscientist', 'Development economist', 'Gaming theorist', 'Behavioral Neuroscientist', 'Science fair winners', 'Author/educator', 'Chief of the Community Partnership Division, Baltimore Police Department', 'Mapmaker', 'Engineer', 'Public health journalist', 'Sociologist', 'Airborne logistics activist', 'Writer and radio producer', 'Dune architect', 'Child development psychologist', 'Author, educator, activist', 'Facial surgeon', 'Science historian', 'Adventure physician ', 'Technology writer', 'Data Commons Advocate', 'Education surveyor', 'Architect, designer', 'Founder of Wikipedia', 'Dermatologist', 'Cognitive psychologist', 'Cyborg Anthropologist ', 'Science humorist', 'Online commerce pioneer', 'Science enthusiast', 'Toymaker', 'Monk, author, photographer', 'Applied mathematician', 'Moustache activist', 'Science Historian + Writer', 'Idea guy', 'Longevity coach, explorer', 'Neuroengineer', 'Roboticist', 'Kenyan MP', 'Vocalist, beatboxer, comedian', 'Digital humanities researcher', 'Bee expert', 'Physicist, personal fab pioneer', 'Airborne ecologist', 'Global prioritizer', 'Aquatic ape theorist', 'Secure email developer', 'Anti-trafficking crusader', 'Dance adventurers', 'Writer, blogger, author', '3D printer', 'Prime Minister of Bhutan', 'Dancer and Choreographer', 'Philosopher, cognitive scientist', 'Singer/songwriter', 'Programmer, storyteller and illustrator', 'Cardiologist', 'Cave Explorer', 'Textile artist', 'Emerging-markets economist', 'Wrongologist', 'Product developer', 'Author, historian', 'Skater', 'Deputy director, NSA', 'Techno-sociologist', 'Landscape ecologist', 'Social observer', 'Soprano', 'Former U.S. Secretary of State', 'Graphic artist, director', 'Medical researcher', 'Nose', 'Gentleman thief', 'Dancer, actor, activist', 'Diplomat', 'Thinker', 'Violinist', 'COO, Mozilla Foundation', 'Guitarist', 'Industrial designer', 'Social science researcher', 'Computer graphics pioneer', 'Clinical researcher', 'Listener', 'Behavioral ecologist', 'Clinical psychologist', 'Jazz vibraphonist', \"Berkeley Bionics' CEO\", 'Crusader against aging', 'Women_ã_s rights activist', 'Biologist', 'Cultural analyst', 'Policy entrepreneur', 'Functional neurosurgeon', 'Food and agriculture expert', 'Conservation photographer', 'Entrepreneur + educator', 'inventor, engineer', 'Human-computer interaction researcher', 'Cultural Historian', 'Microlender', 'Raptor biologist, wildlife photographer', 'Writer and editor', 'Author and advocate', 'Golden Gate guardian', 'Peace activist', 'Digital money and identity consultant', 'Juggler', 'Natural resources expert', 'Remittances expert', 'Engineer and biodiversity scientist', 'Storytelling activist', 'Arctic explorer', 'Documentary filmmaker', 'Entrepreneur, animator, philanthropist ...', 'Musician, Conductor', 'Designer, educator', 'Hacker, community manager', 'Composer, singer, author, actor, activist', 'Circadian neuroscientist', 'Comedian, journalist, activist', 'Kinetic sculptor', 'Blogger and fashion icon', 'Healthcare revolutionary', 'Urban planner', 'Medical technologist', 'Bow designer', 'Medical image maker', 'Screen engineer', 'New-growth economist', 'Environmental writer', 'Chef', 'Inventor', 'YouTube trends manager', 'Policy advisor', 'Mental health law scholar', 'Social activist', 'Physiotherapist', 'Marketer', 'Accidental theologist', 'Musical artist', 'Corporate director, author', 'Director', 'Aircraft engineer', 'President-elect of Afghanistan', 'Political theorist', 'Green entrepreneur', 'Author and playwright', 'Historian of science', 'Data visualization researcher', 'Media mogul, TV host', 'Comedian + Designer', 'Founder, GrameenPhone', \"General manager of Microsoft's Virtual Earth\", 'Global health expert; data visionary', 'Inventor, environmentalist, educator', 'Human-computer interaction researcher and designer', 'Electronic systems expert', 'Social entrepreneur, co-founder of Menstrupedia', 'Sustainable development expert', 'Columnist', 'Physicist and military theorist', 'Google Co-founder', 'VP criminal justice, Arnold Foundation', 'Tech entrepreneur', 'Actor, playwright, social critic', 'Navy Admiral', 'Mental health care advocate', 'Model', 'Political scientist and journalist', 'Politician', 'Satellite archaeologist + TED Prize winner', 'Engineer, executive', 'Creative technologist', 'Social critic', 'Optogeneticist', 'Primate authority', 'Global development worker', 'Author, entrepreneur', 'Social investment visionary', 'Physical therapy entrepreneur', 'Hacker', 'Environmental activist', 'Animal behaviorist', 'Stem cell research advocate', 'Artist, storyteller, Internet anthropologist', 'Management theorist', 'Secret keeper', 'Scientist, innovator', 'Photographer and explorer', 'Rewilding campaigner', 'Complex systems theorist', 'Mathematician', 'Underworld investigator', 'Digital storyteller', 'Politician and writer', 'Digital librarian', 'Macroeconomist', 'Data analyst', 'Maestro', 'Investor ', 'Nonprofit venture capitalist', 'Open-science advocate', 'Educator and activist', 'Museum director', 'Relationship therapist', 'Climatologist', 'Exoplanet expert', 'Calligraffiti artist', 'Scientist, entrepreneur', 'Educational entrepreneur', 'Author, thinker', 'Natural history filmmaker ', 'Healthcare innovator', 'Advertising expert', 'Business strategist', 'Sustainable designer', 'Cultural diplomacy expert', 'Former Prime Minister of Greece', 'Landscape architect', 'Film critic and blogger', 'Art diagnostician', 'Vaccine visionary', 'Multi-sense designer', 'Corporate innovator', 'Digital preservationist', 'Campaign leader, Global Witness', 'Coral reef biologist', 'Comedian, voice artist', 'Gardener', 'Food writer', 'Happiness teacher', 'Writer and filmmaker', 'Economist, development visionary', 'Change agent, financial services', 'Peace and conflict researcher', 'Materials engineer', 'Chemist', 'Whistleblower', 'Filmmaker', 'Entrepreneur, Lego enthusiast', 'Historian', 'Biomedical engineer', 'Data Editor of The Economist', 'Type designer', 'Political scientist', 'Chaplain + author', 'Emergency physician, public health advocate', 'Cancer Doctor', 'Researcher', 'Expert', 'Tinkerer', 'Physician, disaster-preparedness activist', 'Bioengineer', 'Natural sounds expert', 'First Lady of the United States', 'Poet and playwright', 'Designer, co-founder of Airbnb', 'Singer, performance artist', 'Peace activist, Nobelist', 'Refugee scholar', 'Computer Scientist, Educator', 'Drones ecologist', 'Artist and engineer', 'Copy editor', 'Technologist, city councilman', 'Blogger and activist', 'Cellist; singer-songwriter', 'Plant neurobiologist', 'Ocean explorer and environmentalist', 'Medical inventor', 'Anti-extremism activist', 'Scientist', 'Linguist, educator', 'Artist, designer, urban planner', 'Writer and philosopher', 'Biologist, biomechanics researcher', 'Prison reform advocate', 'Designer and storyteller', 'Artificial life researcher', 'Code activist', 'Cancer technologist', 'Slow television advocate', 'Oceanographer', 'Anti-hunger leader', 'Developmental researcher', 'Curious journalist', 'Peace expert', 'Firefly specialist', 'Geophysicist', 'Novelist', 'Data Intelligence Agent', 'Cancer detector inventor', 'Children_ã_s rights activist', 'Journalist, philosopher', 'Polymorphic playwright', 'Visual neuroscientist', 'Philosopher', 'Pianist', 'Data researcher', 'Psychologist, Disgust researcher', 'Amazonian ethnobotanist', 'Artist, urban farmer', 'Urban sociologist', 'Textual scientist', 'Robotics entrepreneur', 'Life coach; expert in leadership psychology', 'Forester and sustainability activist', 'Drug-resistance economist', 'Graffiti artist + activist', 'Arts administrator', 'Product creator', 'Engineer and artist', 'Educational psychology professor', 'Drug policy reformer', 'Special Olympics International Sargent Shriver Global Messenger', 'Pastor, author', 'Photographer', 'Design curator', 'Writer, performer', 'Psychologist', 'Interaction designer', 'Activist, volunteer firefighter', 'Artist, scientist and entrepreneur', 'Sculptor of light and space', 'Biomedical animator', 'Technology columnist', 'Passionate reader', 'Theoretical physicist', 'Former U.S. Representative and NASA astronaut; survivors', 'Conductor and leadership expert', 'Pro snowboarder', 'Baker', 'Innovation strategist', 'Humorist', 'Figurer', 'Aphorist', 'Aid worker', 'Muslim studies scholar', 'Consultant', 'Investment banker', 'Financial management expert', 'Plasma physicist', \"Women's-health expert\", 'Globalization researcher', 'Writer, coach, artist ...', 'Conceptual artist', 'Risk economist', 'CEO', 'Atmospheric chemist', 'Neuroscientist, Artist', 'Builder', 'Developer, 12 year old', 'Science author', 'Sustainability strategist', 'Philanthropist', 'Poet and educator', 'Tree researcher', 'African grey parrot', 'Biological engineer', 'Primatologist; environmentalist', 'Astronaut, engineer, entrepreneur, physician and educator', 'Computer scientist', 'Designer', 'Biological miner', 'Internet scientist', 'Poet, teacher', 'Global journalist', 'Analytical psychologist', 'Environmental policy influencer', 'Activists', 'Mythologist', 'Letter enthusiast', 'Video maker', 'Architect, experience designer', 'Journalist', 'Surgeon and technologist', 'Cognitive neuroscientist', 'Language teacher', 'President of the Republic of Kiribati', 'Jugglers', 'Epidemiologist, philanthropist', \"Women's health pioneer\", 'Cognitive scientist', 'COO, Facebook', 'Executive, simplicity guru', 'Dictionary editor', 'Professor of management', 'Artist, potter, community builder', 'Communications technology innovator', 'Social Psychologist', 'Community activist', 'Citizen journalist', 'College president', 'Space activist', 'Civil and environmental engineer', 'Evolutionary geneticist', 'Sustainable investment champion', 'Neuroscientist and psychiatrist', 'Global author', 'Internet activist and computer engineer', 'Biochemist, cell biologist', 'Serial entrepreneur', 'Economist, journalist and broadcaster', 'Pediatrician', 'Politician and Data Activist', 'e-Patient', 'Interface designer', 'Neuroscience and cancer researcher', 'Comedian and writer ', 'Social commentator', 'Climate scholar', 'Artist, composer, engineer', 'Journalist, runner', 'Science entrepreneur', 'Explorer, inventor and outer space dreamer', 'Author, Activist ', 'Cybersecurity expert', 'Web entrepreneur', 'Psycho-economist', 'Prison administrator and reformer', 'Neuroscience PhD student + writer', 'Legal activist', 'Education activist', 'Complexity theorist', 'Mother + ALS Advocate', 'Cross-cultural consultant', 'Management professor', 'Green chef', 'Security researcher', 'X-ray visionary', 'Polymath', 'Ethnic conflicts scholar', 'Organizational changemaker', 'Website co-founders', 'Perceptual navigation specialist', 'Biodiversity archivist', 'Cancer researcher', 'Medical animator', 'Laser scientist', 'Reforestation expert', 'Writer and radio host', 'Public policy thinker', 'Space researcher, biologist, artist', 'Founder and CEO, Meta', 'Maker', 'Creative entrepreneur ', 'Military analyst', 'Video sculptor', 'Nuclear scientist', 'Climate advocate', 'Game Designer', 'Health and technology activist', 'Architect + ecotourism specialist', 'Paleoanthropologist and rock art researcher', 'Planetary and atmospheric scientist', 'Designer, illustrator, typographer', 'Advocate for disabled people', 'Writer and producer', 'Health and human services expert', 'Musician, activist', 'Principal Investigator and Director of the Open Agriculture Initiative', 'Beatboxer', 'Health psychologist', 'Innovation economist', 'Cybersecurity specialist', 'Marine biologist', 'Military leader', 'Folk musician', 'Technologist', 'Sonochromatic Cyborg Artist', 'Communications teacher', 'Endurance runner', 'Robotics designer', 'MIT grad student', 'Graphic designer', 'Coach', 'Marine ecologist', 'Astronaut', 'Oceanographer, biogeochemist', 'Education reformer', 'Sound artist, composer', 'Musician and inventor', '9/11 mothers', 'Climate scientist', 'Educator and computing pioneer', 'Tech publisher', 'Astronomer, astrobiologist, actor, writer', 'Synthetic biologist', 'Astronomer', 'Civilization scholar', 'Space scientist', 'Lawyer', 'Health reporter', 'Traveler', 'Jetman', 'Counselor, coach and baker', 'Bioprinting entrepreneur', 'Public-interest lawyer', 'Family activist', 'Producer', 'Architect and engineer', 'Open-government expert', 'Artist and technologist', 'Positive psychologist', 'Equality advocate', 'Theremin player', 'Software entrepreneur', 'Plutocracy chronicler', 'Singer-songwriter', 'Computer programmer', 'Explorer and filmmaker', 'Arab sexuality expert', 'Digital community builder', 'Cartoon editor', 'New York City Health Commissioner', 'Game designer', 'Human rights advocate', 'City evangelist', 'Quiet revolutionary', 'Livestock handling designer, autism activist', 'Buddhist scholar', 'Biologist and community science advocate', 'Iranian visual artist', 'Chef, activist', 'Biochemist', 'Psychiatrist, psychoanalyst and Zen priest', 'Speech scientist', 'Investor', 'Activist and social entrepreneur', 'Spider silk scientist', 'Innovation consultant', 'Geneticist, physician', 'Inventor, futurist', 'Street artist', 'Assistant Professor', 'Former governor of Michigan', 'User experience master', 'Education entrepreneur', 'veteran aid worker', 'Advocate', 'CEO, Kiva Systems', 'Educator', 'Technology forecaster ', 'Organizer', 'Teen activist', 'Dinosaur digger', 'Mechanical engineer', 'Violence and abuse prevention expert', 'Financial expert', 'Research scientist, Google', 'Herpetologist', 'Health policy expert', 'Historian of technology and culture', 'Magician', 'Education pioneer', 'Network author', 'Last tribes photographer', 'Brand strategist', 'Theater producer', 'Cuban health care expert', 'Writer, healer', 'Shepherd of electrons', 'Professor of international law', 'Palliative caregiver', 'Solar adventurer', 'Medical futurist', 'Director of research, Samsung Research America', 'Media activist', 'Computational architect', 'Multimedia artist', 'Physicist, energy guru', 'Deprogrammer', 'Behavioral economist', 'Development Leader', 'Origamist', 'Public intellectual', 'Teacher', 'Planetary futurist', 'Paleontologist', 'Scientist, inventor', 'Physician, bioengineer and entrepreneur ', 'Macroencapsulator', 'Visual artist', 'Futurist', 'Megacities expert', 'Evolutionary psychologist', 'Visionary inventor', 'Internet entrepreneur', 'Innovation advocate', 'Human resources professional', 'Assumption-busting economist', 'Debunker', 'Film director', 'Wild sex biologist', 'Editor', 'Net watchdog', 'Voice for refugees', 'Model and activist', 'Story collector', 'CEO, author', 'Autonomous systems pioneer', 'Connector', 'Conservationists, filmmakers', 'Evolutionary biologist', 'Open-source engineer and artist', 'Voting system designer', 'Literary critic', 'Labor-rights activist', 'Lie detector', 'Cancer Researcher', 'Physician, broadcaster', 'Ornithologist', 'Mayor', 'Scientist, entrepreneur, inventor', 'Close-up card magician', 'Marketer and author', 'Security researcher ', 'Neuroscientist ', 'User anthropologist', 'Surprisologist', 'Curator, rare book scholar', 'Sustainable investment expert', 'Novelist, poet', 'DNA origamist', 'Cancer physician and writer', 'Cave scientist', 'Explorer, ethnographer', 'Privacy economist', 'Marine biologist, explorer-photographer', 'Author', 'Mobile finance entrepreneur', 'Biomaterials researcher', 'Conductor', 'General', 'Human resources expert', 'Skeptic and conjuror', 'Neurobiologist', 'TV host', 'Sharing Innovator', 'Scientist, Artist ', 'Cognitive researcher', 'Particle physicist', 'Polar photographer', 'Beekeeper', 'Privacy artist', 'Aerialist', 'Surgeon', 'Vision activist', 'Visualizer', 'Transparency activist', 'Interface designer, engineer', 'Neuroscientist and science writer', 'High school principal', 'Micro-sculptor', 'Organizer and author', 'Conservationist', 'Dolphin researcher', 'Environmental economist', 'Surgeon, inventor', 'Emergency medical technician', 'Blogger, technologist', 'Sculptor', 'Leadership expert', 'Neurosurgeon', 'Composer', 'Organizational psychologist', 'Punter and author', 'Undercover journalist', 'Astrophysicist', 'Digital visionary', 'Publisher, philanthropist, poet', 'Computer security expert', 'Primatologist', 'Satirist', 'Memeticist', 'Physicist, cosmologist', 'Media expert ', 'Anti-torture activist', 'Aerial robotics researcher', 'Stellar astronomer', 'Research psychologist', 'Newspaper designer', 'Linguist', 'Activist for environmental justice', 'Satellite designer', 'Synthetic biologist ', 'Environmental and literacy activist', 'Education visionary', 'Movement expert', 'Yo-yo champion', 'Investor and political scientist', 'Bees scholar', 'Activist', 'Value-based health care advocate', 'Self-esteem advocate', 'Democracy activist', 'Green auto pioneer', 'Animal scientist', 'Archaeological geneticist', 'Virus hunter', 'Entrepreneur, inventor, author', 'Paleoanthropologist', 'Musician, blogger', 'Military strategist', 'Musician, artist, writer', 'Astronomer, educator, skeptic', 'Death penalty lawyer', 'Monk', 'Activist, singer-songwriter', 'CEO, Team Rubicon', 'Biotechnology entrepreneur', 'Eye surgeon, inventor', 'Conservation biologist', 'Inmates', 'Innovator and social entrepreneur', 'Microbial ecologist', 'Brain expert', 'Radio researcher', 'Quantum Researcher', 'Tech visionary', 'Body architect ', 'AI pioneer', 'Drone maker', 'Founder and CEO, Sexual Health Innovations', 'Molecular animator', 'Health services innovator', 'Journalist and documentarian', 'Systems biologist', 'Science writer', 'Former director of DARPA', 'Director, designer', 'Beatboxer and inventor', 'Blogger', 'Entrepreneur and conservationist', 'Livestreaming activist', 'Clawhammer banjo player', 'Data scientist', 'Cardiologist and geneticist ', 'Neuroscientist', 'Surf photographer', 'Stuntman', 'Social Media Theorist', 'Molecular biologist', 'Fixer', 'Author, Zen priest', 'Media maven', 'Biochemist, geneticist', 'Art historian', 'Blogger; cofounder, Six Apart', 'Designer and theorist', 'Illusionist, endurance artist', 'Visualizer and gamestorming', 'Advertising guru', 'Architect and urbanist', 'Founder, Doha Film Institute', 'Religious scholar', 'Student scientist', 'Wildlife conservationist ', 'Car designer', 'Artist and activist', 'Economist', 'Algoworld expert', 'Physical Computing Guru', 'Big data techno-Ô_optimist and internist', 'Business owner and activist', 'Hip-hop artist', 'Musician', 'Mayor of Rio de Janeiro', 'Beatboxers', 'Illustrator, author', 'Social entrepreneur, lawyer', 'Public-health expert', 'New media artist', 'Brain scientist', 'Actor', 'Forensic psychologist, expert witness', 'Experimental micromechanics pioneer', 'Anti-guerrilla creative', 'Sneaker data expert', 'Entrepreneur and energy theorist', 'Brain hacker', 'Preacher', 'Architecture critic', 'Cartoonist', 'Co-founder, Architecture for Humanity', 'Moral philosopher', 'Geneticist', 'Creative spirit', 'Performance artist', 'Entrepreneur and philanthropist', 'Designer at play', 'Artist and organizer', 'Media executive', 'Comedian, activist', 'Investigative journalist', 'Biomechatronics engineer', 'Zoologist', 'Poetry critic', 'Cricket commentator', 'Online marketing whiz', 'Computer engineer', 'Political philosopher', 'Director of photography, Pixar', 'Doctor', 'Biologist, Nobel laureate', 'Data artist', 'Planetary explorer', 'Stratospheric explorer', 'Anthropologist; expert on love', 'Genographer', 'Artist and curator', 'University founder', 'Environmentalist, futurist', 'Transhumanist', 'Technology designer', 'Curator', 'Farmer and technologist', 'Artist', 'Author, designer', 'Maker, critical thinker', 'Immersive storyteller', 'Sculptor ', 'Food scientist', 'Grassland ecosystem pioneer', 'High seas policy advisor', 'Doctor, intensive care specialist', 'Music technologist', 'Energy software maker', 'Global health and development specialist', 'Toy designer', 'Neurological anthropologist', 'Juvenile justice reformer', 'Sustainability expert', 'Author and marketer', 'Director of photography, National Geographic', 'Political economist', 'Sports science reporter', 'Marketer, rock climber', 'Venture capitalist', 'Protector of whales', 'Career analyst', 'Band', 'Ichthyologist', 'Nobel peace laureate', 'Writer', 'Anthropologist', 'Nature photographer', 'Documentary filmmakers', 'Writer, columnist', 'Food urbanist', 'Filmmaker and Remixer', 'Playwright, activist', 'Technologist and futurist', 'Mathematician; statistician', 'Proud dad', 'Designer; creative director, Ideo', 'Writer, traveler', 'Optical innovator', 'Anthropologist, ethnobotanist', 'Poet and actor', 'Biodiversity scientist', 'Anti-sexism educator', 'Humanitarian', 'Marketer, success analyst', 'Ocean rower', 'Mediator', 'Political pundit', 'Wireless electrician', 'Biospherian', 'TED Curator', 'Global leader', 'Surgeon and journalist', 'Mechanical engineer, social advocate', 'Malariologist', 'Physicist, inventor', 'Life saver', 'Computer designer, brain researcher', 'Education innovator', 'International policy analyst', 'Founder, Transparency International', 'Storyteller', 'Anti-poverty activist', 'Know-it-all', 'Biologist, genetics pioneer', 'False memories scholar', 'Social innovator', 'Humanitarian design activist', 'Human Resources Manager, UPS', 'Medicine law expert', 'Language ', 'Professor of Economics, University of Waterloo', 'Food security expert', 'Security maven', 'Sci-fi author', 'Music producer and DJ', 'Animal rights lawyer', 'Writer and poet', 'Physician, social scientist', 'CEO, Public Radio International (PRI)', 'High-wire artist', 'Media exec', 'Film executive', 'Physician, author', 'Actor and writer', 'Social justice and green energy activist', 'Building activist', 'Microroboticist', 'Technologist and visionary', 'Entomologist', 'Rating agency reformer', 'Author, journalist', 'Comedian and Mental Health Activist', 'Space explorer', 'Green designer', 'Statistician', 'Place maker', 'Neuroanatomist', 'Author/illustrator', 'International litigator', 'Friend of the High Line', 'Environmental engineer, sanitation activist', 'Artist, photographer', 'Strategist', 'Finance journalist', 'Professor, author and social justice advocate', 'Peace builder', 'Actor and activist', \"Researchers' dream donator\", 'Bionics designer', 'Twitter co-founder', 'Whistler', 'Market transformer', 'Tennis legend and activist', 'Cognitive scientist and design critic', 'Botanist and activist', 'Lighting designer', 'Polar explorer', 'Speaker and author', 'Women_ã_s rights activist and entrepreneur', 'Forensic anthropologist', 'Techno-illusionist', 'Artist and historian', 'Investor, data scientist, entrepreneur', 'Rational optimist', 'Human-computer interface designer', 'Science communicator', 'Social psychologist', 'Language historian', 'Graphic Designer', 'Physicist', 'Problem solver-Ô_in-Ô_chief, Uber', '3D printing entrepreneur', 'Author, publisher, education activist', 'Product designer', 'New philanthropist', 'Design critic', 'Academic', 'Ethicist', 'Master of visual illusions'}\n"
     ]
    }
   ],
   "source": [
    "print(set_occ)"
   ]
  },
  {
   "cell_type": "code",
   "execution_count": null,
   "metadata": {
    "button": false,
    "collapsed": true,
    "deletable": true,
    "new_sheet": false,
    "run_control": {
     "read_only": false
    }
   },
   "outputs": [],
   "source": [
    "for talk in talks"
   ]
  }
 ],
 "metadata": {
  "kernelspec": {
   "display_name": "Python 3",
   "language": "python",
   "name": "python3"
  },
  "language_info": {
   "codemirror_mode": {
    "name": "ipython",
    "version": 3
   },
   "file_extension": ".py",
   "mimetype": "text/x-python",
   "name": "python",
   "nbconvert_exporter": "python",
   "pygments_lexer": "ipython3",
   "version": "3.5.0"
  }
 },
 "nbformat": 4,
 "nbformat_minor": 2
}
