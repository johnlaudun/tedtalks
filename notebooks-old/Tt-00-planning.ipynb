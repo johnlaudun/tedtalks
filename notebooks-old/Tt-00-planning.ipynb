{
 "cells": [
  {
   "cell_type": "code",
   "execution_count": 1,
   "metadata": {},
   "outputs": [
    {
     "name": "stdout",
     "output_type": "stream",
     "text": [
      "['', 'citation', 'author', 'gender', 'title', 'date', 'length', 'text', 'occupation', 'numDate']\n"
     ]
    },
    {
     "data": {
      "text/html": [
       "<div>\n",
       "<table border=\"1\" class=\"dataframe\">\n",
       "  <thead>\n",
       "    <tr style=\"text-align: right;\">\n",
       "      <th></th>\n",
       "      <th></th>\n",
       "      <th>citation</th>\n",
       "      <th>author</th>\n",
       "      <th>gender</th>\n",
       "      <th>title</th>\n",
       "      <th>date</th>\n",
       "      <th>length</th>\n",
       "      <th>text</th>\n",
       "      <th>occupation</th>\n",
       "      <th>numDate</th>\n",
       "    </tr>\n",
       "  </thead>\n",
       "  <tbody>\n",
       "    <tr>\n",
       "      <th>NaN</th>\n",
       "      <td>citation</td>\n",
       "      <td>author</td>\n",
       "      <td>gender</td>\n",
       "      <td>title</td>\n",
       "      <td>date</td>\n",
       "      <td>length</td>\n",
       "      <td>text</td>\n",
       "      <td>occupation</td>\n",
       "      <td>numDate</td>\n",
       "      <td>ValenceScore</td>\n",
       "    </tr>\n",
       "    <tr>\n",
       "      <th>2.0</th>\n",
       "      <td>David Pogue 2006</td>\n",
       "      <td>David Pogue</td>\n",
       "      <td>male</td>\n",
       "      <td>Simplicity sells</td>\n",
       "      <td>Jun 2006</td>\n",
       "      <td>1271</td>\n",
       "      <td>Hello voice mail  my old friend. I've called f...</td>\n",
       "      <td>Technology columnist</td>\n",
       "      <td>200606</td>\n",
       "      <td>5.930812250332885</td>\n",
       "    </tr>\n",
       "    <tr>\n",
       "      <th>3.0</th>\n",
       "      <td>Cameron Sinclair 2006</td>\n",
       "      <td>Cameron Sinclair</td>\n",
       "      <td>male</td>\n",
       "      <td>My wish: A call for open-source architecture</td>\n",
       "      <td>Jul 2006</td>\n",
       "      <td>1398</td>\n",
       "      <td>I'm going to take you on a journey very quickl...</td>\n",
       "      <td>Co-founder, Architecture for Humanity</td>\n",
       "      <td>200607</td>\n",
       "      <td>6.094664310954062</td>\n",
       "    </tr>\n",
       "    <tr>\n",
       "      <th>4.0</th>\n",
       "      <td>Sergey Brin + Larry Page 2007</td>\n",
       "      <td>Sergey Brin + Larry Page</td>\n",
       "      <td>male</td>\n",
       "      <td>The genesis of Google</td>\n",
       "      <td>May 2007</td>\n",
       "      <td>1205</td>\n",
       "      <td>Sergey Brin  I want to discuss a question I kn...</td>\n",
       "      <td>NaN</td>\n",
       "      <td>200705</td>\n",
       "      <td>6.230646929824561</td>\n",
       "    </tr>\n",
       "    <tr>\n",
       "      <th>5.0</th>\n",
       "      <td>Nathalie Miebach 2011</td>\n",
       "      <td>Nathalie Miebach</td>\n",
       "      <td>female</td>\n",
       "      <td>Art made of storms</td>\n",
       "      <td>Oct 2011</td>\n",
       "      <td>247</td>\n",
       "      <td>What you just heard are the interactions of ba...</td>\n",
       "      <td>Artist</td>\n",
       "      <td>201110</td>\n",
       "      <td>6.291543624161073</td>\n",
       "    </tr>\n",
       "  </tbody>\n",
       "</table>\n",
       "</div>"
      ],
      "text/plain": [
       "                                                     citation  author  \\\n",
       "NaN                        citation                    author  gender   \n",
       " 2.0               David Pogue 2006               David Pogue    male   \n",
       " 3.0          Cameron Sinclair 2006          Cameron Sinclair    male   \n",
       " 4.0  Sergey Brin + Larry Page 2007  Sergey Brin + Larry Page    male   \n",
       " 5.0          Nathalie Miebach 2011          Nathalie Miebach  female   \n",
       "\n",
       "                                            gender     title    date  \\\n",
       "NaN                                          title      date  length   \n",
       " 2.0                              Simplicity sells  Jun 2006    1271   \n",
       " 3.0  My wish: A call for open-source architecture  Jul 2006    1398   \n",
       " 4.0                         The genesis of Google  May 2007    1205   \n",
       " 5.0                            Art made of storms  Oct 2011     247   \n",
       "\n",
       "                                                 length  \\\n",
       "NaN                                                text   \n",
       " 2.0  Hello voice mail  my old friend. I've called f...   \n",
       " 3.0  I'm going to take you on a journey very quickl...   \n",
       " 4.0  Sergey Brin  I want to discuss a question I kn...   \n",
       " 5.0  What you just heard are the interactions of ba...   \n",
       "\n",
       "                                       text occupation            numDate  \n",
       "NaN                              occupation    numDate       ValenceScore  \n",
       " 2.0                   Technology columnist     200606  5.930812250332885  \n",
       " 3.0  Co-founder, Architecture for Humanity     200607  6.094664310954062  \n",
       " 4.0                                    NaN     200705  6.230646929824561  \n",
       " 5.0                                 Artist     201110  6.291543624161073  "
      ]
     },
     "execution_count": 1,
     "metadata": {},
     "output_type": "execute_result"
    }
   ],
   "source": [
    "# Let python create the column names list:\n",
    "with open('../data/talks_6d.csv') as f:\n",
    "    colnames = f.readline().strip().split(\",\")\n",
    "print(colnames)\n",
    "\n",
    "# Now will import the csv as a dataframe\n",
    "import pandas\n",
    "TEDtalks = pandas.read_csv('../data/talks_6e.csv', names=colnames)\n",
    "\n",
    "TEDtalks.head()"
   ]
  },
  {
   "cell_type": "code",
   "execution_count": 2,
   "metadata": {},
   "outputs": [
    {
     "data": {
      "text/plain": [
       "(2068, 10)"
      ]
     },
     "execution_count": 2,
     "metadata": {},
     "output_type": "execute_result"
    }
   ],
   "source": [
    "TEDtalks.shape"
   ]
  },
  {
   "cell_type": "code",
   "execution_count": 12,
   "metadata": {},
   "outputs": [
    {
     "name": "stdout",
     "output_type": "stream",
     "text": [
      "text\n"
     ]
    }
   ],
   "source": [
    "talks = TEDtalks.length.tolist()\n",
    "print(talks[0])"
   ]
  },
  {
   "cell_type": "code",
   "execution_count": null,
   "metadata": {
    "collapsed": true
   },
   "outputs": [],
   "source": [
    "from nltk.tokenize import WhitespaceTokenizer\n",
    "\n",
    "oneKs, twoKs, threeKs, fourKs = [], [], [], []\n",
    "for talk in talks:\n",
    "    if len(WhitespaceTokenizer().tokenize(talk)) > 1000:\n",
    "        oneKs.append(talks.index(talk))\n",
    "    if len(WhitespaceTokenizer().tokenize(talk)) > 2000:\n",
    "        twoKs.append(talks.index(talk))\n",
    "    if len(WhitespaceTokenizer().tokenize(talk)) > 3000:\n",
    "        threeKs.append(talks.index(talk))\n",
    "    if len(WhitespaceTokenizer().tokenize(talk)) > 4000:\n",
    "        fourKs.append(talks.index(talk))        "
   ]
  },
  {
   "cell_type": "code",
   "execution_count": 18,
   "metadata": {},
   "outputs": [
    {
     "name": "stdout",
     "output_type": "stream",
     "text": [
      "1759 1131 365 40\n"
     ]
    }
   ],
   "source": [
    "print(len(oneKs), len(twoKs), len(threeKs), (len(fourKs)))"
   ]
  }
 ],
 "metadata": {
  "kernelspec": {
   "display_name": "Python 3",
   "language": "python",
   "name": "python3"
  },
  "language_info": {
   "codemirror_mode": {
    "name": "ipython",
    "version": 3
   },
   "file_extension": ".py",
   "mimetype": "text/x-python",
   "name": "python",
   "nbconvert_exporter": "python",
   "pygments_lexer": "ipython3",
   "version": "3.4.8"
  }
 },
 "nbformat": 4,
 "nbformat_minor": 2
}
