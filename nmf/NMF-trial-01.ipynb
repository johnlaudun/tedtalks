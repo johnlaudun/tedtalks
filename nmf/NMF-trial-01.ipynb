{
 "cells": [
  {
   "cell_type": "code",
   "execution_count": 10,
   "metadata": {},
   "outputs": [
    {
     "name": "stdout",
     "output_type": "stream",
     "text": [
      "(2069, 1835)\n"
     ]
    }
   ],
   "source": [
    "#! /usr/bin/env python\n",
    "\n",
    "import pandas\n",
    "import sklearn.feature_extraction.text as sktext \n",
    "from sklearn.decomposition import NMF\n",
    "import numpy as np\n",
    "\n",
    "\n",
    "# Create pandas dataframe & lists\n",
    "colnames = ['author', 'title', 'date' , 'length', 'text']\n",
    "df = pandas.read_csv('../data/talks_3a.csv', names=colnames)\n",
    "talks = df.text.tolist()\n",
    "\n",
    "# Import stoplist\n",
    "stopwords = re.split('\\s+', open('../data/stopwords_2.txt', 'r').read().lower())\n",
    "\n",
    "# TFIDF parameters\n",
    "n_top_words = 15\n",
    "max_percent = 0.85\n",
    "min_percent = 0.05 # One percent = 20 talks (so not enought to warrant a topic?)\n",
    "\n",
    "# Create TFIDF matrix\n",
    "vectorizer = sktext.TfidfVectorizer(lowercase = True, \n",
    "                             stop_words = stopwords,\n",
    "                             max_df = max_percent,\n",
    "                             min_df = min_percent)\n",
    "td_matrix = vectorizer.fit_transform(talks)\n",
    "print(td_matrix.shape)"
   ]
  },
  {
   "cell_type": "code",
   "execution_count": 11,
   "metadata": {},
   "outputs": [
    {
     "name": "stdout",
     "output_type": "stream",
     "text": [
      "(2069, 40) (40, 1835)\n"
     ]
    }
   ],
   "source": [
    "# Fit NMF\n",
    "model = NMF(n_components = 40,\n",
    "          random_state = 1,\n",
    "          alpha = 0.1,\n",
    "          l1_ratio = 0.5).fit(td_matrix)\n",
    "\n",
    "W = model.fit_transform(td_matrix)\n",
    "H = model.components_\n",
    "print(W.shape, H.shape)"
   ]
  },
  {
   "cell_type": "code",
   "execution_count": 12,
   "metadata": {
    "collapsed": true
   },
   "outputs": [],
   "source": [
    "np.savetxt(\"../nmf/8505-40-1-01-05-dtm.csv\", H, delimiter=\",\", fmt = \"%s\")\n",
    "np.savetxt(\"../nmf/8505-40-1-01-05-twm.csv\", W, delimiter=\",\", fmt = \"%s\")"
   ]
  },
  {
   "cell_type": "code",
   "execution_count": null,
   "metadata": {
    "collapsed": true
   },
   "outputs": [],
   "source": [
    "# =-=-=-=-=-=\n",
    "# NMF printing\n",
    "# =-=-=-=-=-=\n",
    "\n",
    "def print_top_words(model, feature_names, n_top_words):\n",
    "    for topic_id, topic in enumerate(model.components_):\n",
    "        print('\\nTopic {}:'.format(int(topic_id)))\n",
    "        print(''.join([feature_names[i] + ' ' + str(round(topic[i], 2))\n",
    "              +', ' for i in topic.argsort()[:-n_top_words - 1:-1]]))\n",
    "\n",
    "features = vectorizer.get_feature_names()\n",
    "\n",
    "print(\"Topics in NMF model:\")\n",
    "print_top_words(model, features, n_top_words) #n_top_words can be changed on the fly"
   ]
  },
  {
   "cell_type": "code",
   "execution_count": null,
   "metadata": {},
   "outputs": [],
   "source": [
    "import csv\n",
    "with open('Topics.csv','w') as my_file:\n",
    "    writer=csv.writer(my_file, delimiter='\\t', lineterminator='\\n',)\n",
    "    for topic_id, topic in enumerate(model.components_):\n",
    "        row = print((topic_id)+\": \"+''.join([feature_names[i] + ' ' + str(round(topic[i], 2))\n",
    "              +', ' for i in topic.argsort()[:-n_top_words - 1:-1]]))\n",
    "        writer.writerow(row)\n",
    "\n",
    "        "
   ]
  }
 ],
 "metadata": {
  "kernelspec": {
   "display_name": "Python 3",
   "language": "python",
   "name": "python3"
  },
  "language_info": {
   "codemirror_mode": {
    "name": "ipython",
    "version": 3
   },
   "file_extension": ".py",
   "mimetype": "text/x-python",
   "name": "python",
   "nbconvert_exporter": "python",
   "pygments_lexer": "ipython3",
   "version": "3.4.6"
  }
 },
 "nbformat": 4,
 "nbformat_minor": 2
}
