{
 "cells": [
  {
   "cell_type": "code",
   "execution_count": 1,
   "metadata": {},
   "outputs": [
    {
     "name": "stdout",
     "output_type": "stream",
     "text": [
      "(2069, 6950)\n"
     ]
    }
   ],
   "source": [
    "#! /usr/bin/env python\n",
    "\n",
    "import pandas\n",
    "import re\n",
    "import sklearn.feature_extraction.text as sktext \n",
    "from sklearn.decomposition import NMF\n",
    "import numpy as np\n",
    "\n",
    "\n",
    "# Create pandas dataframe & lists\n",
    "colnames = ['author', 'title', 'date' , 'length', 'text']\n",
    "df = pandas.read_csv('../data/talks_3a.csv', names=colnames)\n",
    "talks = df.text.tolist()\n",
    "\n",
    "# Import stoplist\n",
    "stopwords = re.split('\\s+', open('../data/stopwords_2.txt', 'r').read().lower())\n",
    "\n",
    "# TFIDF parameters\n",
    "n_top_words = 15\n",
    "max_percent = 0.85\n",
    "min_percent = 0.01 # One percent = 20 talks (so not enought to warrant a topic?)\n",
    "\n",
    "# Create TFIDF matrix\n",
    "vectorizer = sktext.TfidfVectorizer(lowercase = True, \n",
    "                             stop_words = stopwords,\n",
    "                             max_df = max_percent,\n",
    "                             min_df = min_percent)\n",
    "td_matrix = vectorizer.fit_transform(talks)\n",
    "print(td_matrix.shape)"
   ]
  },
  {
   "cell_type": "code",
   "execution_count": 2,
   "metadata": {},
   "outputs": [
    {
     "name": "stdout",
     "output_type": "stream",
     "text": [
      "TfidfVectorizer(analyzer='word', binary=False, decode_error='strict',\n",
      "        dtype=<class 'numpy.int64'>, encoding='utf-8', input='content',\n",
      "        lowercase=True, max_df=0.85, max_features=None, min_df=0.01,\n",
      "        ngram_range=(1, 1), norm='l2', preprocessor=None, smooth_idf=True,\n",
      "        stop_words=['a', 'about', 'above', 'according', 'accordingly', 'across', 'actually', 'after', 'afterward', 'afterwards', 'again', 'against', 'all', 'almost', 'alone', 'along', 'already', 'also', 'although', 'always', 'am', 'among', 'amongst', 'an', 'and', 'another', 'any', 'anyhow', 'anyone', 'anyth...', 'god', 'try', 'stuff', 'please', 'little', 're', 'audience', 'hold', 'good', 'say', 'don', 'put'],\n",
      "        strip_accents=None, sublinear_tf=False,\n",
      "        token_pattern='(?u)\\\\b\\\\w\\\\w+\\\\b', tokenizer=None, use_idf=True,\n",
      "        vocabulary=None)\n"
     ]
    }
   ],
   "source": [
    "print(vectorizer)"
   ]
  },
  {
   "cell_type": "code",
   "execution_count": 3,
   "metadata": {},
   "outputs": [
    {
     "name": "stdout",
     "output_type": "stream",
     "text": [
      "NMF(alpha=0.5, beta=1, eta=0.1, init=None, l1_ratio=0.5, max_iter=200,\n",
      "  n_components=40, nls_max_iter=2000, random_state=1, shuffle=False,\n",
      "  solver='cd', sparseness=None, tol=0.0001, verbose=0) (2069, 40) (40, 6950)\n"
     ]
    }
   ],
   "source": [
    "# Fit NMF\n",
    "model = NMF(n_components = 40,\n",
    "          random_state = 1,\n",
    "          alpha = 0.5,\n",
    "          l1_ratio = 0.5).fit(td_matrix)\n",
    "\n",
    "W = model.fit_transform(td_matrix)\n",
    "H = model.components_\n",
    "print(model, W.shape, H.shape)"
   ]
  },
  {
   "cell_type": "code",
   "execution_count": null,
   "metadata": {
    "collapsed": true
   },
   "outputs": [],
   "source": [
    "np.savetxt(\"8505-40-1-01-05-dtm.csv\", H, delimiter=\",\", fmt = \"%s\")\n",
    "np.savetxt(\"8505-40-1-01-05-twm.csv\", W, delimiter=\",\", fmt = \"%s\")"
   ]
  },
  {
   "cell_type": "code",
   "execution_count": 4,
   "metadata": {},
   "outputs": [
    {
     "name": "stdout",
     "output_type": "stream",
     "text": [
      "Topics in NMF model:\n",
      "\n",
      "Topic 0:\n",
      "zoom 0.0, facilities 0.0, extremely 0.0, extremes 0.0, eye 0.0, eyes 0.0, fabric 0.0, fabulous 0.0, face 0.0, facebook 0.0, faced 0.0, faces 0.0, facial 0.0, facility 0.0, exploring 0.0, \n",
      "\n",
      "Topic 1:\n",
      "zoom 0.0, facilities 0.0, extremely 0.0, extremes 0.0, eye 0.0, eyes 0.0, fabric 0.0, fabulous 0.0, face 0.0, facebook 0.0, faced 0.0, faces 0.0, facial 0.0, facility 0.0, exploring 0.0, \n",
      "\n",
      "Topic 2:\n",
      "zoom 0.0, facilities 0.0, extremely 0.0, extremes 0.0, eye 0.0, eyes 0.0, fabric 0.0, fabulous 0.0, face 0.0, facebook 0.0, faced 0.0, faces 0.0, facial 0.0, facility 0.0, exploring 0.0, \n",
      "\n",
      "Topic 3:\n",
      "zoom 0.0, facilities 0.0, extremely 0.0, extremes 0.0, eye 0.0, eyes 0.0, fabric 0.0, fabulous 0.0, face 0.0, facebook 0.0, faced 0.0, faces 0.0, facial 0.0, facility 0.0, exploring 0.0, \n",
      "\n",
      "Topic 4:\n",
      "zoom 0.0, facilities 0.0, extremely 0.0, extremes 0.0, eye 0.0, eyes 0.0, fabric 0.0, fabulous 0.0, face 0.0, facebook 0.0, faced 0.0, faces 0.0, facial 0.0, facility 0.0, exploring 0.0, \n",
      "\n",
      "Topic 5:\n",
      "zoom 0.0, facilities 0.0, extremely 0.0, extremes 0.0, eye 0.0, eyes 0.0, fabric 0.0, fabulous 0.0, face 0.0, facebook 0.0, faced 0.0, faces 0.0, facial 0.0, facility 0.0, exploring 0.0, \n",
      "\n",
      "Topic 6:\n",
      "zoom 0.0, facilities 0.0, extremely 0.0, extremes 0.0, eye 0.0, eyes 0.0, fabric 0.0, fabulous 0.0, face 0.0, facebook 0.0, faced 0.0, faces 0.0, facial 0.0, facility 0.0, exploring 0.0, \n",
      "\n",
      "Topic 7:\n",
      "zoom 0.0, facilities 0.0, extremely 0.0, extremes 0.0, eye 0.0, eyes 0.0, fabric 0.0, fabulous 0.0, face 0.0, facebook 0.0, faced 0.0, faces 0.0, facial 0.0, facility 0.0, exploring 0.0, \n",
      "\n",
      "Topic 8:\n",
      "zoom 0.0, facilities 0.0, extremely 0.0, extremes 0.0, eye 0.0, eyes 0.0, fabric 0.0, fabulous 0.0, face 0.0, facebook 0.0, faced 0.0, faces 0.0, facial 0.0, facility 0.0, exploring 0.0, \n",
      "\n",
      "Topic 9:\n",
      "zoom 0.0, facilities 0.0, extremely 0.0, extremes 0.0, eye 0.0, eyes 0.0, fabric 0.0, fabulous 0.0, face 0.0, facebook 0.0, faced 0.0, faces 0.0, facial 0.0, facility 0.0, exploring 0.0, \n",
      "\n",
      "Topic 10:\n",
      "zoom 0.0, facilities 0.0, extremely 0.0, extremes 0.0, eye 0.0, eyes 0.0, fabric 0.0, fabulous 0.0, face 0.0, facebook 0.0, faced 0.0, faces 0.0, facial 0.0, facility 0.0, exploring 0.0, \n",
      "\n",
      "Topic 11:\n",
      "music 1.63, sound 0.02, orchestra 0.01, failed 0.0, facial 0.0, extremes 0.0, failing 0.0, eye 0.0, eyes 0.0, fabric 0.0, fabulous 0.0, face 0.0, facebook 0.0, faced 0.0, faces 0.0, \n",
      "\n",
      "Topic 12:\n",
      "robot 1.48, robots 0.85, faces 0.0, extraordinary 0.0, extreme 0.0, extremely 0.0, extremes 0.0, eye 0.0, eyes 0.0, fabric 0.0, fabulous 0.0, face 0.0, facebook 0.0, faced 0.0, facial 0.0, \n",
      "\n",
      "Topic 13:\n",
      "zoom 0.0, facilities 0.0, extremely 0.0, extremes 0.0, eye 0.0, eyes 0.0, fabric 0.0, fabulous 0.0, face 0.0, facebook 0.0, faced 0.0, faces 0.0, facial 0.0, facility 0.0, exploring 0.0, \n",
      "\n",
      "Topic 14:\n",
      "zoom 0.0, facilities 0.0, extremely 0.0, extremes 0.0, eye 0.0, eyes 0.0, fabric 0.0, fabulous 0.0, face 0.0, facebook 0.0, faced 0.0, faces 0.0, facial 0.0, facility 0.0, exploring 0.0, \n",
      "\n",
      "Topic 15:\n",
      "africa 1.18, african 0.2, failing 0.0, facial 0.0, extremely 0.0, extremes 0.0, eye 0.0, eyes 0.0, fabric 0.0, fabulous 0.0, face 0.0, facebook 0.0, faced 0.0, faces 0.0, facilities 0.0, \n",
      "\n",
      "Topic 16:\n",
      "zoom 0.0, facilities 0.0, extremely 0.0, extremes 0.0, eye 0.0, eyes 0.0, fabric 0.0, fabulous 0.0, face 0.0, facebook 0.0, faced 0.0, faces 0.0, facial 0.0, facility 0.0, exploring 0.0, \n",
      "\n",
      "Topic 17:\n",
      "zoom 0.0, facilities 0.0, extremely 0.0, extremes 0.0, eye 0.0, eyes 0.0, fabric 0.0, fabulous 0.0, face 0.0, facebook 0.0, faced 0.0, faces 0.0, facial 0.0, facility 0.0, exploring 0.0, \n",
      "\n",
      "Topic 18:\n",
      "zoom 0.0, facilities 0.0, extremely 0.0, extremes 0.0, eye 0.0, eyes 0.0, fabric 0.0, fabulous 0.0, face 0.0, facebook 0.0, faced 0.0, faces 0.0, facial 0.0, facility 0.0, exploring 0.0, \n",
      "\n",
      "Topic 19:\n",
      "zoom 0.0, facilities 0.0, extremely 0.0, extremes 0.0, eye 0.0, eyes 0.0, fabric 0.0, fabulous 0.0, face 0.0, facebook 0.0, faced 0.0, faces 0.0, facial 0.0, facility 0.0, exploring 0.0, \n",
      "\n",
      "Topic 20:\n",
      "zoom 0.0, facilities 0.0, extremely 0.0, extremes 0.0, eye 0.0, eyes 0.0, fabric 0.0, fabulous 0.0, face 0.0, facebook 0.0, faced 0.0, faces 0.0, facial 0.0, facility 0.0, exploring 0.0, \n",
      "\n",
      "Topic 21:\n",
      "cells 1.53, stem 0.49, cell 0.22, brain 0.19, disease 0.04, organs 0.04, bone 0.02, tissue 0.0, zoom 0.0, facilities 0.0, facial 0.0, faces 0.0, facebook 0.0, faced 0.0, facing 0.0, \n",
      "\n",
      "Topic 22:\n",
      "zoom 0.0, facilities 0.0, extremely 0.0, extremes 0.0, eye 0.0, eyes 0.0, fabric 0.0, fabulous 0.0, face 0.0, facebook 0.0, faced 0.0, faces 0.0, facial 0.0, facility 0.0, exploring 0.0, \n",
      "\n",
      "Topic 23:\n",
      "water 1.27, zoom 0.0, facilities 0.0, extremely 0.0, extremes 0.0, eye 0.0, eyes 0.0, fabric 0.0, fabulous 0.0, face 0.0, facebook 0.0, faced 0.0, faces 0.0, facial 0.0, facility 0.0, \n",
      "\n",
      "Topic 24:\n",
      "zoom 0.0, facilities 0.0, extremely 0.0, extremes 0.0, eye 0.0, eyes 0.0, fabric 0.0, fabulous 0.0, face 0.0, facebook 0.0, faced 0.0, faces 0.0, facial 0.0, facility 0.0, exploring 0.0, \n",
      "\n",
      "Topic 25:\n",
      "zoom 0.0, facilities 0.0, extremely 0.0, extremes 0.0, eye 0.0, eyes 0.0, fabric 0.0, fabulous 0.0, face 0.0, facebook 0.0, faced 0.0, faces 0.0, facial 0.0, facility 0.0, exploring 0.0, \n",
      "\n",
      "Topic 26:\n",
      "zoom 0.0, facilities 0.0, extremely 0.0, extremes 0.0, eye 0.0, eyes 0.0, fabric 0.0, fabulous 0.0, face 0.0, facebook 0.0, faced 0.0, faces 0.0, facial 0.0, facility 0.0, exploring 0.0, \n",
      "\n",
      "Topic 27:\n",
      "zoom 0.0, facilities 0.0, extremely 0.0, extremes 0.0, eye 0.0, eyes 0.0, fabric 0.0, fabulous 0.0, face 0.0, facebook 0.0, faced 0.0, faces 0.0, facial 0.0, facility 0.0, exploring 0.0, \n",
      "\n",
      "Topic 28:\n",
      "zoom 0.0, facilities 0.0, extremely 0.0, extremes 0.0, eye 0.0, eyes 0.0, fabric 0.0, fabulous 0.0, face 0.0, facebook 0.0, faced 0.0, faces 0.0, facial 0.0, facility 0.0, exploring 0.0, \n",
      "\n",
      "Topic 29:\n",
      "compassion 1.39, facilities 0.0, extremely 0.0, extremes 0.0, eye 0.0, eyes 0.0, fabric 0.0, fabulous 0.0, face 0.0, facebook 0.0, faced 0.0, faces 0.0, facial 0.0, facility 0.0, exploring 0.0, \n",
      "\n",
      "Topic 30:\n",
      "zoom 0.0, facilities 0.0, extremely 0.0, extremes 0.0, eye 0.0, eyes 0.0, fabric 0.0, fabulous 0.0, face 0.0, facebook 0.0, faced 0.0, faces 0.0, facial 0.0, facility 0.0, exploring 0.0, \n",
      "\n",
      "Topic 31:\n",
      "zoom 0.0, facilities 0.0, extremely 0.0, extremes 0.0, eye 0.0, eyes 0.0, fabric 0.0, fabulous 0.0, face 0.0, facebook 0.0, faced 0.0, faces 0.0, facial 0.0, facility 0.0, exploring 0.0, \n",
      "\n",
      "Topic 32:\n",
      "zoom 0.0, facilities 0.0, extremely 0.0, extremes 0.0, eye 0.0, eyes 0.0, fabric 0.0, fabulous 0.0, face 0.0, facebook 0.0, faced 0.0, faces 0.0, facial 0.0, facility 0.0, exploring 0.0, \n",
      "\n",
      "Topic 33:\n",
      "zoom 0.0, facilities 0.0, extremely 0.0, extremes 0.0, eye 0.0, eyes 0.0, fabric 0.0, fabulous 0.0, face 0.0, facebook 0.0, faced 0.0, faces 0.0, facial 0.0, facility 0.0, exploring 0.0, \n",
      "\n",
      "Topic 34:\n",
      "zoom 0.0, facilities 0.0, extremely 0.0, extremes 0.0, eye 0.0, eyes 0.0, fabric 0.0, fabulous 0.0, face 0.0, facebook 0.0, faced 0.0, faces 0.0, facial 0.0, facility 0.0, exploring 0.0, \n",
      "\n",
      "Topic 35:\n",
      "zoom 0.0, facilities 0.0, extremely 0.0, extremes 0.0, eye 0.0, eyes 0.0, fabric 0.0, fabulous 0.0, face 0.0, facebook 0.0, faced 0.0, faces 0.0, facial 0.0, facility 0.0, exploring 0.0, \n",
      "\n",
      "Topic 36:\n",
      "zoom 0.0, facilities 0.0, extremely 0.0, extremes 0.0, eye 0.0, eyes 0.0, fabric 0.0, fabulous 0.0, face 0.0, facebook 0.0, faced 0.0, faces 0.0, facial 0.0, facility 0.0, exploring 0.0, \n",
      "\n",
      "Topic 37:\n",
      "zoom 0.0, facilities 0.0, extremely 0.0, extremes 0.0, eye 0.0, eyes 0.0, fabric 0.0, fabulous 0.0, face 0.0, facebook 0.0, faced 0.0, faces 0.0, facial 0.0, facility 0.0, exploring 0.0, \n",
      "\n",
      "Topic 38:\n",
      "zoom 0.0, facilities 0.0, extremely 0.0, extremes 0.0, eye 0.0, eyes 0.0, fabric 0.0, fabulous 0.0, face 0.0, facebook 0.0, faced 0.0, faces 0.0, facial 0.0, facility 0.0, exploring 0.0, \n",
      "\n",
      "Topic 39:\n",
      "zoom 0.0, facilities 0.0, extremely 0.0, extremes 0.0, eye 0.0, eyes 0.0, fabric 0.0, fabulous 0.0, face 0.0, facebook 0.0, faced 0.0, faces 0.0, facial 0.0, facility 0.0, exploring 0.0, \n"
     ]
    }
   ],
   "source": [
    "# =-=-=-=-=-=\n",
    "# NMF printing\n",
    "# =-=-=-=-=-=\n",
    "\n",
    "def print_top_words(model, feature_names, n_top_words):\n",
    "    for topic_id, topic in enumerate(model.components_):\n",
    "        print('\\nTopic {}:'.format(int(topic_id)))\n",
    "        print(''.join([feature_names[i] + ' ' + str(round(topic[i], 2))\n",
    "              +', ' for i in topic.argsort()[:-n_top_words - 1:-1]]))\n",
    "\n",
    "features = vectorizer.get_feature_names()\n",
    "\n",
    "print(\"Topics in NMF model:\")\n",
    "print_top_words(model, features, n_top_words) #n_top_words can be changed on the fly"
   ]
  },
  {
   "cell_type": "code",
   "execution_count": null,
   "metadata": {
    "collapsed": true
   },
   "outputs": [],
   "source": [
    "import csv\n",
    "with open('Topics.csv','w') as my_file:\n",
    "    writer=csv.writer(my_file, delimiter='\\t', lineterminator='\\n',)\n",
    "    for topic_id, topic in enumerate(model.components_):\n",
    "        row = print((topic_id)+\": \"+''.join([feature_names[i] + ' ' + str(round(topic[i], 2))\n",
    "              +', ' for i in topic.argsort()[:-n_top_words - 1:-1]]))\n",
    "        writer.writerow(row)\n",
    "\n",
    "        "
   ]
  }
 ],
 "metadata": {
  "kernelspec": {
   "display_name": "Python 3",
   "language": "python",
   "name": "python3"
  },
  "language_info": {
   "codemirror_mode": {
    "name": "ipython",
    "version": 3
   },
   "file_extension": ".py",
   "mimetype": "text/x-python",
   "name": "python",
   "nbconvert_exporter": "python",
   "pygments_lexer": "ipython3",
   "version": "3.4.6"
  }
 },
 "nbformat": 4,
 "nbformat_minor": 2
}
