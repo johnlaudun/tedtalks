{
 "cells": [
  {
   "cell_type": "code",
   "execution_count": 2,
   "metadata": {
    "collapsed": false
   },
   "outputs": [
    {
     "name": "stdout",
     "output_type": "stream",
     "text": [
      "Populating the interactive namespace from numpy and matplotlib\n"
     ]
    }
   ],
   "source": [
    "%pylab inline"
   ]
  },
  {
   "cell_type": "code",
   "execution_count": 3,
   "metadata": {
    "collapsed": true
   },
   "outputs": [],
   "source": [
    "import pandas\n",
    "colnames = ['author', 'title', 'date' , 'length', 'text']\n",
    "data = pandas.read_csv('./data/talks-v1b.csv', names=colnames)\n",
    "talks = data.text.tolist()\n",
    "# importing all the talks here. If we want to test, we should import \n",
    "# talks from 2006 - 2015 and then train and test on 2016"
   ]
  },
  {
   "cell_type": "markdown",
   "metadata": {
    "collapsed": false
   },
   "source": [
    "A `len(talks)` shows that we've got a list of 2113 strings, and typing in a random number, `talk[#]` gives me the contents of a talk. It also revealed that some talks, for whatever reason, have no content. A quick script from Katherine gave us a way to find those strings. (The content of those strings is `'n'`, e.g. `talk[185]`."
   ]
  },
  {
   "cell_type": "code",
   "execution_count": 4,
   "metadata": {
    "collapsed": false
   },
   "outputs": [
    {
     "name": "stdout",
     "output_type": "stream",
     "text": [
      "[185, 398, 513, 877, 1015, 1100, 2011]\n"
     ]
    }
   ],
   "source": [
    "i = 0\n",
    "no_good = []\n",
    "for talk in talks: \n",
    "    A = type(talk)\n",
    "    B = type('string or something')\n",
    "    if A != B:\n",
    "        no_good.append(i)\n",
    "    i = i + 1\n",
    "    \n",
    "print(no_good)"
   ]
  },
  {
   "cell_type": "markdown",
   "metadata": {},
   "source": [
    "The next bit of scripting, first, removes the `empty` talks but does so in reverse order in order to avoid disturbing the index order -- n.b., if we re-associate labels from elsewhere in the CSV, we will need to remove the same rows from that list as well.\n",
    "\n",
    "After purging, we check to see that we are indeed \"seven down\" and then we re-check for empty strings. The result is an empty list. Good."
   ]
  },
  {
   "cell_type": "code",
   "execution_count": 5,
   "metadata": {
    "collapsed": false,
    "scrolled": true
   },
   "outputs": [
    {
     "name": "stdout",
     "output_type": "stream",
     "text": [
      "2106\n",
      "[]\n"
     ]
    }
   ],
   "source": [
    "for index in sorted(no_good, reverse=True):\n",
    "    del talks[index]\n",
    "    \n",
    "print(len(talks))\n",
    "\n",
    "# Re-checking for anything NOT a string\n",
    "i = 0\n",
    "still_no_good = []\n",
    "for talk in talks: \n",
    "    A = type(talk)\n",
    "    B = type('string or something')\n",
    "    if A != B:\n",
    "        still_no_good.append(i)\n",
    "    i = i + 1\n",
    "\n",
    "print(still_no_good)"
   ]
  },
  {
   "cell_type": "code",
   "execution_count": 6,
   "metadata": {
    "collapsed": false
   },
   "outputs": [
    {
     "data": {
      "text/html": [
       "<div>\n",
       "<table border=\"1\" class=\"dataframe\">\n",
       "  <thead>\n",
       "    <tr style=\"text-align: right;\">\n",
       "      <th></th>\n",
       "      <th>author</th>\n",
       "      <th>title</th>\n",
       "      <th>date</th>\n",
       "      <th>length</th>\n",
       "      <th>text</th>\n",
       "    </tr>\n",
       "  </thead>\n",
       "  <tbody>\n",
       "    <tr>\n",
       "      <th>0</th>\n",
       "      <td>Al Gore</td>\n",
       "      <td>Averting the climate crisis</td>\n",
       "      <td>Jun 2006</td>\n",
       "      <td>957</td>\n",
       "      <td>Thank you so much  Chris. And it's truly a gre...</td>\n",
       "    </tr>\n",
       "    <tr>\n",
       "      <th>1</th>\n",
       "      <td>David Pogue</td>\n",
       "      <td>Simplicity sells</td>\n",
       "      <td>Jun 2006</td>\n",
       "      <td>1271</td>\n",
       "      <td>Hello voice mail  my old friend. I've called f...</td>\n",
       "    </tr>\n",
       "    <tr>\n",
       "      <th>2</th>\n",
       "      <td>Cameron Sinclair</td>\n",
       "      <td>My wish: A call for open-source architecture</td>\n",
       "      <td>Jul 2006</td>\n",
       "      <td>1398</td>\n",
       "      <td>I'm going to take you on a journey very quickl...</td>\n",
       "    </tr>\n",
       "    <tr>\n",
       "      <th>3</th>\n",
       "      <td>Sergey Brin + Larry Page</td>\n",
       "      <td>The genesis of Google</td>\n",
       "      <td>May 2007</td>\n",
       "      <td>1205</td>\n",
       "      <td>Sergey Brin  I want to discuss a question I kn...</td>\n",
       "    </tr>\n",
       "    <tr>\n",
       "      <th>4</th>\n",
       "      <td>Nathalie Miebach</td>\n",
       "      <td>Art made of storms</td>\n",
       "      <td>Oct 2011</td>\n",
       "      <td>247</td>\n",
       "      <td>What you just heard are the interactions of ba...</td>\n",
       "    </tr>\n",
       "  </tbody>\n",
       "</table>\n",
       "</div>"
      ],
      "text/plain": [
       "                     author                                         title  \\\n",
       "0                   Al Gore                   Averting the climate crisis   \n",
       "1               David Pogue                              Simplicity sells   \n",
       "2          Cameron Sinclair  My wish: A call for open-source architecture   \n",
       "3  Sergey Brin + Larry Page                         The genesis of Google   \n",
       "4          Nathalie Miebach                            Art made of storms   \n",
       "\n",
       "       date  length                                               text  \n",
       "0  Jun 2006     957  Thank you so much  Chris. And it's truly a gre...  \n",
       "1  Jun 2006    1271  Hello voice mail  my old friend. I've called f...  \n",
       "2  Jul 2006    1398  I'm going to take you on a journey very quickl...  \n",
       "3  May 2007    1205  Sergey Brin  I want to discuss a question I kn...  \n",
       "4  Oct 2011     247  What you just heard are the interactions of ba...  "
      ]
     },
     "execution_count": 6,
     "metadata": {},
     "output_type": "execute_result"
    }
   ],
   "source": [
    "data[:5]"
   ]
  },
  {
   "cell_type": "code",
   "execution_count": null,
   "metadata": {
    "collapsed": false
   },
   "outputs": [],
   "source": [
    "data.ix['Averting the climate crisis'] # ERROR: \"KeyError\""
   ]
  },
  {
   "cell_type": "code",
   "execution_count": 7,
   "metadata": {
    "collapsed": false
   },
   "outputs": [
    {
     "data": {
      "text/plain": [
       "Index(['author', 'title', 'date', 'length', 'text'], dtype='object')"
      ]
     },
     "execution_count": 7,
     "metadata": {},
     "output_type": "execute_result"
    }
   ],
   "source": [
    "data.columns"
   ]
  },
  {
   "cell_type": "code",
   "execution_count": 8,
   "metadata": {
    "collapsed": false
   },
   "outputs": [
    {
     "data": {
      "text/plain": [
       "2105           Richard Seymour\n",
       "2106               Ian Ritchie\n",
       "2107              Pamela Meyer\n",
       "2108              Jae Rhim Lee\n",
       "2109                Bunker Roy\n",
       "2110       Justin Hall-Tipping\n",
       "2111    Guy-Philippe Goldstein\n",
       "2112               Todd Kuiken\n",
       "Name: author, dtype: object"
      ]
     },
     "execution_count": 8,
     "metadata": {},
     "output_type": "execute_result"
    }
   ],
   "source": [
    "data.author.tail(8)"
   ]
  },
  {
   "cell_type": "code",
   "execution_count": 9,
   "metadata": {
    "collapsed": false
   },
   "outputs": [
    {
     "data": {
      "text/plain": [
       "352.79834554674466"
      ]
     },
     "execution_count": 9,
     "metadata": {},
     "output_type": "execute_result"
    }
   ],
   "source": [
    "data.length.std()"
   ]
  },
  {
   "cell_type": "code",
   "execution_count": 10,
   "metadata": {
    "collapsed": false
   },
   "outputs": [
    {
     "data": {
      "text/plain": [
       "785.5281590156176"
      ]
     },
     "execution_count": 10,
     "metadata": {},
     "output_type": "execute_result"
    }
   ],
   "source": [
    "data.length.mean()"
   ]
  },
  {
   "cell_type": "code",
   "execution_count": 11,
   "metadata": {
    "collapsed": false
   },
   "outputs": [
    {
     "data": {
      "text/plain": [
       "<matplotlib.axes._subplots.AxesSubplot at 0x10de16fd0>"
      ]
     },
     "execution_count": 11,
     "metadata": {},
     "output_type": "execute_result"
    },
    {
     "data": {
      "image/png": "[encoded data removed]",
      "text/plain": [
       "<matplotlib.figure.Figure at 0x10a23bbe0>"
      ]
     },
     "metadata": {},
     "output_type": "display_data"
    }
   ],
   "source": [
    "data.length.plot()"
   ]
  }
 ],
 "metadata": {
  "kernelspec": {
   "display_name": "Python 3",
   "language": "python",
   "name": "python3"
  },
  "language_info": {
   "codemirror_mode": {
    "name": "ipython",
    "version": 3
   },
   "file_extension": ".py",
   "mimetype": "text/x-python",
   "name": "python",
   "nbconvert_exporter": "python",
   "pygments_lexer": "ipython3",
   "version": "3.4.4"
  }
 },
 "nbformat": 4,
 "nbformat_minor": 0
}
