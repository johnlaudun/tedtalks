{
 "cells": [
  {
   "cell_type": "code",
   "execution_count": 1,
   "metadata": {
    "collapsed": false
   },
   "outputs": [
    {
     "name": "stdout",
     "output_type": "stream",
     "text": [
      "Populating the interactive namespace from numpy and matplotlib\n"
     ]
    }
   ],
   "source": [
    "%pylab inline"
   ]
  },
  {
   "cell_type": "markdown",
   "metadata": {},
   "source": [
    "# TEDtalk Topics"
   ]
  },
  {
   "cell_type": "markdown",
   "metadata": {},
   "source": [
    "Today's task is to arrive at a reasonable topic model for the Tedtalk corpus. There is, as yet, no consensus on arriving at `k`, and so we are going to start with 50 and 100 topics to see what the comparison might be. It's possible 200 topics might be called for, but Jonathan Goodwin and I used 50 topics for 8000 articles, though that was in a disciplinary-specific domain."
   ]
  },
  {
   "cell_type": "markdown",
   "metadata": {},
   "source": [
    "The first thing to do is to use `pandas` to read the `csv` with the texts inside -- I will need a way to attach a useful name to each text by the time this work is done. (Note: I am importing all the talks here. If we want to test, we should train on talks from 2006 - 2015, then test on 2016. Or something like that.)"
   ]
  },
  {
   "cell_type": "code",
   "execution_count": 2,
   "metadata": {
    "collapsed": true
   },
   "outputs": [],
   "source": [
    "import pandas\n",
    "colnames = ['author', 'title', 'date' , 'length', 'text']\n",
    "data = pandas.read_csv('./data/talks-v1b.csv', names=colnames)\n",
    "talks = data.text.tolist()"
   ]
  },
  {
   "cell_type": "markdown",
   "metadata": {
    "collapsed": false
   },
   "source": [
    "A `len(talks)` shows that we've got a list of 2113 strings, and typing in a random number, `talk[#]` gives me the contents of a talk. It also revealed that some talks, for whatever reason, have no content. A quick script from Katherine gave us a way to find those strings. (The content of those strings is `'n'`, e.g. `talk[185]`."
   ]
  },
  {
   "cell_type": "code",
   "execution_count": 4,
   "metadata": {
    "collapsed": false
   },
   "outputs": [
    {
     "name": "stdout",
     "output_type": "stream",
     "text": [
      "[185, 398, 513, 877, 1015, 1100, 2011]\n"
     ]
    }
   ],
   "source": [
    "i = 0\n",
    "no_good = []\n",
    "for talk in talks: \n",
    "    A = type(talk)\n",
    "    B = type('string or something')\n",
    "    if A != B:\n",
    "        no_good.append(i)\n",
    "    i = i + 1\n",
    "    \n",
    "print(no_good)"
   ]
  },
  {
   "cell_type": "markdown",
   "metadata": {},
   "source": [
    "The next bit of scripting, first, removes the `empty` talks but does so in reverse order in order to avoid disturbing the index order -- n.b., if we re-associate labels from elsewhere in the CSV, we will need to remove the same rows from that list as well.\n",
    "\n",
    "After purging, we check to see that we are indeed \"seven down\" and then we re-check for empty strings. The result is an empty list. Good."
   ]
  },
  {
   "cell_type": "code",
   "execution_count": 5,
   "metadata": {
    "collapsed": false,
    "scrolled": true
   },
   "outputs": [
    {
     "name": "stdout",
     "output_type": "stream",
     "text": [
      "2106\n",
      "[]\n"
     ]
    }
   ],
   "source": [
    "for index in sorted(no_good, reverse=True):\n",
    "    del talks[index]\n",
    "    \n",
    "print(len(talks))\n",
    "\n",
    "# Re-checking for anything NOT a string\n",
    "i = 0\n",
    "still_no_good = []\n",
    "for talk in talks: \n",
    "    A = type(talk)\n",
    "    B = type('string or something')\n",
    "    if A != B:\n",
    "        still_no_good.append(i)\n",
    "    i = i + 1\n",
    "\n",
    "print(still_no_good)"
   ]
  },
  {
   "cell_type": "markdown",
   "metadata": {},
   "source": [
    "## Topic Models"
   ]
  },
  {
   "cell_type": "markdown",
   "metadata": {},
   "source": [
    "We will start with `gensim` because I have used it before, but I am curious about `SciKit` and may try it over the weekend."
   ]
  },
  {
   "cell_type": "code",
   "execution_count": 6,
   "metadata": {
    "collapsed": false
   },
   "outputs": [],
   "source": [
    "from stop_words import get_stop_words\n",
    "from gensim import corpora, models, similarities\n",
    "\n",
    "# remove common words and tokenize\n",
    "stoplist = set(get_stop_words('en'))\n",
    "texts = [[word for word in talk.lower().split() if word not in stoplist]\n",
    "         for talk in talks]\n",
    "\n",
    "# remove words that appear only once\n",
    "from collections import defaultdict\n",
    "frequency = defaultdict(int)\n",
    "for text in texts:\n",
    "    for token in text:\n",
    "        frequency[token] += 1\n",
    "\n",
    "texts = [[token for token in text if frequency[token] > 1]\n",
    "         for text in texts]"
   ]
  },
  {
   "cell_type": "code",
   "execution_count": 9,
   "metadata": {
    "collapsed": false
   },
   "outputs": [],
   "source": [
    "dictionary = corpora.Dictionary(texts)\n",
    "dictionary.save('./data/talks.dict')"
   ]
  },
  {
   "cell_type": "code",
   "execution_count": 10,
   "metadata": {
    "collapsed": false
   },
   "outputs": [
    {
     "name": "stdout",
     "output_type": "stream",
     "text": [
      "Dictionary(47144 unique tokens: ['evaporating.', 'measure.', 'sensation.', 'exciting.', 'irresponsibility']...)\n"
     ]
    }
   ],
   "source": [
    "print(dictionary)\n",
    "# To see the assignments for the tokens:\n",
    "# print(dictionary.token2id)"
   ]
  },
  {
   "cell_type": "code",
   "execution_count": 11,
   "metadata": {
    "collapsed": false
   },
   "outputs": [],
   "source": [
    "corpus = [dictionary.doc2bow(text) for text in texts]\n",
    "corpora.MmCorpus.serialize('./data/talks.mm', corpus) # Save corpus in Market Matrix format\n",
    "\n",
    "# To load this corpus: corpus = corpora.MmCorpus('./data/talks.mm')"
   ]
  },
  {
   "cell_type": "code",
   "execution_count": 12,
   "metadata": {
    "collapsed": false
   },
   "outputs": [],
   "source": [
    "corpora.BleiCorpus.serialize('./data/talks.lda-c', corpus) # To save in LDA-C format"
   ]
  },
  {
   "cell_type": "code",
   "execution_count": 15,
   "metadata": {
    "collapsed": true
   },
   "outputs": [],
   "source": [
    "tfidf = models.TfidfModel(corpus) # to train a portion of the corpus"
   ]
  },
  {
   "cell_type": "code",
   "execution_count": 16,
   "metadata": {
    "collapsed": true
   },
   "outputs": [],
   "source": [
    "corpus_tfidf = tfidf[corpus] # to transform the entire corpus"
   ]
  },
  {
   "cell_type": "markdown",
   "metadata": {},
   "source": [
    "We have a lot of variables/objects in play. I just need a quick reminder of what we have so far. "
   ]
  },
  {
   "cell_type": "code",
   "execution_count": 14,
   "metadata": {
    "collapsed": false
   },
   "outputs": [
    {
     "name": "stdout",
     "output_type": "stream",
     "text": [
      "Variable         Type           Data/Info\n",
      "-----------------------------------------\n",
      "A                type           <class 'str'>\n",
      "B                type           <class 'str'>\n",
      "MODELS_DIR       str            /path/to/models/dir\n",
      "NUM_TOPICS       int            5\n",
      "colnames         list           n=5\n",
      "corpora          module         <module 'gensim.corpora' <...>sim/corpora/__init__.py'>\n",
      "corpus           list           n=2106\n",
      "data             DataFrame                               <...>\\n[2113 rows x 5 columns]\n",
      "defaultdict      type           <class 'collections.defaultdict'>\n",
      "dictionary       Dictionary     Dictionary(47144 unique t<...>, 'irresponsibility']...)\n",
      "frequency        defaultdict    defaultdict(<class 'int'><...>erkin': 2, 'flimsy.': 1})\n",
      "gensim           module         <module 'gensim' from '/o<...>ages/gensim/__init__.py'>\n",
      "get_stop_words   function       <function get_stop_words at 0x10debeea0>\n",
      "i                int            2106\n",
      "index            int            185\n",
      "logging          module         <module 'logging' from '/<...>3.4/logging/__init__.py'>\n",
      "models           module         <module 'gensim.models' f<...>nsim/models/__init__.py'>\n",
      "no_good          list           n=7\n",
      "os               module         <module 'os' from '/opt/l<...>3.4/lib/python3.4/os.py'>\n",
      "pandas           module         <module 'pandas' from '/o<...>ages/pandas/__init__.py'>\n",
      "similarities     module         <module 'gensim.similarit<...>imilarities/__init__.py'>\n",
      "still_no_good    list           n=0\n",
      "stoplist         set            {'not', 'only', \"shan't\",<...>, 'about', \"let's\", 'on'}\n",
      "talk             str            So today  I would like to<...>. So thank you very much.\n",
      "talks            list           n=2106\n",
      "text             list           n=1558\n",
      "texts            list           n=2106\n",
      "token            str            much.\n"
     ]
    }
   ],
   "source": [
    "whos"
   ]
  },
  {
   "cell_type": "markdown",
   "metadata": {},
   "source": [
    "The next series of steps are from [Sujit Pal](http://sujitpal.blogspot.com/2014/08/topic-modeling-with-gensim-over-past.html) (blockquoted to make sure we know who wrote what)."
   ]
  },
  {
   "cell_type": "markdown",
   "metadata": {},
   "source": [
    "> I didn't know (and didn't have an opinion about) how many topics this corpus should yield so I decided to compute this by reducing the features to two dimensions, then clustering the points for different values of K (number of clusters) to find an optimum value. Gensim offers various transforms that allow us to project the vectors in a corpus to a different coordinate space. One such transform is the Latent Semantic Indexing (LSI) transform, which we use to project the original data to 2D."
   ]
  },
  {
   "cell_type": "code",
   "execution_count": 18,
   "metadata": {
    "collapsed": false
   },
   "outputs": [],
   "source": [
    "# project to 2 dimensions for visualization\n",
    "lsi = gensim.models.LsiModel(corpus_tfidf, id2word=dictionary, num_topics=2)\n",
    "\n",
    "# write out coordinates to file\n",
    "fcoords = open(\"./data/coords.csv\", 'w', newline='')\n",
    "for vector in lsi[corpus]:\n",
    "    if len(vector) != 2:\n",
    "        continue\n",
    "    fcoords.write(\"%6.4f\\t%6.4f\\n\" % (vector[0][1], vector[1][1]))\n",
    "fcoords.close()"
   ]
  },
  {
   "cell_type": "markdown",
   "metadata": {},
   "source": [
    "> Next I clustered the points in the reduced 2D LSI space using KMeans, varying the number of clusters (K) from 1 to 10. The objective function used is the Inertia of the cluster, defined as the sum of squared differences of each point to its cluster centroid. This value is provided directly from the [Scikit-Learn KMeans algorithm][skk]. Other popular functions include Distortion (Inertia divided by the number of points) or the Percentage of Variance Explained, as described on this [StackOverflow post][so].\n",
    "\n",
    "[skk]: http://scikit-learn.org/stable/modules/generated/sklearn.cluster.KMeans.html\n",
    "[so]: http://stackoverflow.com/questions/6645895/calculating-the-percentage-of-variance-measure-for-k-means"
   ]
  },
  {
   "cell_type": "code",
   "execution_count": 20,
   "metadata": {
    "collapsed": false
   },
   "outputs": [
    {
     "data": {
      "image/png": "[encoded data removed]",
      "text/plain": [
       "<matplotlib.figure.Figure at 0x114396dd8>"
      ]
     },
     "metadata": {},
     "output_type": "display_data"
    }
   ],
   "source": [
    "import numpy as np\n",
    "import matplotlib.pyplot as plt\n",
    "from sklearn.cluster import KMeans\n",
    "\n",
    "k_max = 10\n",
    "\n",
    "coords = np.loadtxt(\"./data/coords.csv\", delimiter=\"\\t\")\n",
    "ks = range(1, k_max + 1)\n",
    "\n",
    "inertias = np.zeros(k_max)\n",
    "diff = np.zeros(k_max)\n",
    "diff2 = np.zeros(k_max)\n",
    "diff3 = np.zeros(k_max)\n",
    "for k in ks:\n",
    "    kmeans = KMeans(k).fit(coords)\n",
    "    inertias[k - 1] = kmeans.inertia_\n",
    "    # first difference    \n",
    "    if k > 1:\n",
    "        diff[k - 1] = inertias[k - 1] - inertias[k - 2]\n",
    "    # second difference\n",
    "    if k > 2:\n",
    "        diff2[k - 1] = diff[k - 1] - diff[k - 2]\n",
    "    # third difference\n",
    "    if k > 3:\n",
    "        diff3[k - 1] = diff2[k - 1] - diff2[k - 2]\n",
    "\n",
    "elbow = np.argmin(diff3[3:]) + 3\n",
    "\n",
    "plt.plot(ks, inertias, \"b*-\")\n",
    "plt.plot(ks[elbow], inertias[elbow], marker='o', markersize=12,\n",
    "         markeredgewidth=2, markeredgecolor='r', markerfacecolor=None)\n",
    "plt.ylabel(\"Inertia\")\n",
    "plt.xlabel(\"K\")\n",
    "plt.show()"
   ]
  },
  {
   "cell_type": "markdown",
   "metadata": {},
   "source": [
    "> I plotted the Inertias for different values of K, then used Vincent Granville's approach of calculating the third differential to find an [elbow point][ep]. The elbow point happens here for K=5 and is marked with a red dot in the graph below.\n",
    "\n",
    "[ep]: http://radimrehurek.com/2014/03/data-streaming-in-python-generators-iterators-iterables/\n",
    "\n",
    "> I then re-ran the KMeans algorithm with K=5 and generated the clusters."
   ]
  },
  {
   "cell_type": "code",
   "execution_count": 25,
   "metadata": {
    "collapsed": false
   },
   "outputs": [
    {
     "data": {
      "image/png": "[encoded data removed]",
      "text/plain": [
       "<matplotlib.figure.Figure at 0x11c1959b0>"
      ]
     },
     "metadata": {},
     "output_type": "display_data"
    }
   ],
   "source": [
    "import numpy as np\n",
    "import matplotlib.pyplot as plt\n",
    "from sklearn.cluster import KMeans\n",
    "\n",
    "n_topics = 5\n",
    "\n",
    "X = np.loadtxt(\"./data/coords.csv\", delimiter=\"\\t\")\n",
    "kmeans = KMeans(n_topics).fit(X)\n",
    "y = kmeans.labels_\n",
    "\n",
    "colors = [\"b\", \"g\", \"r\", \"m\", \"c\"]\n",
    "for i in range(X.shape[0]):\n",
    "    plt.scatter(X[i][0], X[i][1], c=colors[y[i]], s=10)    \n",
    "plt.show()"
   ]
  },
  {
   "cell_type": "markdown",
   "metadata": {},
   "source": [
    "> I then ran the full [LDA transform][ldat] against the BoW corpus, with the number of topics set to 5. As in LSI, I load up the corpus and dictionary from files, then apply the transform to project the documents into the LDA Topic space. Notice that LDA and LSI are conceptually similar in gensim - both are transforms that map one vector space to another.\n",
    "\n",
    "[ldat]: http://radimrehurek.com/gensim/models/ldamodel.html"
   ]
  },
  {
   "cell_type": "code",
   "execution_count": 27,
   "metadata": {
    "collapsed": false
   },
   "outputs": [
    {
     "data": {
      "text/plain": [
       "['0.008*one + 0.006*going + 0.006*can + 0.006*like + 0.005*just + 0.005*people + 0.004*actually + 0.004*know + 0.004*now + 0.004*get',\n",
       " '0.010*people + 0.008*like + 0.008*can + 0.007*one + 0.006*think + 0.006*now + 0.005*actually + 0.005*just + 0.005*going + 0.005*really',\n",
       " '0.010*like + 0.009*can + 0.007*just + 0.007*people + 0.007*one + 0.006*really + 0.005*now + 0.005*time + 0.005*see + 0.004*us',\n",
       " '0.011*can + 0.008*just + 0.008*now + 0.006*like + 0.006*people + 0.006*one + 0.005*know + 0.005*penguins + 0.005*actually + 0.005*going',\n",
       " '0.009*can + 0.008*one + 0.007*going + 0.007*like + 0.006*people + 0.006*now + 0.005*know + 0.005*just + 0.005*think + 0.004*actually',\n",
       " '0.008*can + 0.008*one + 0.006*see + 0.005*like + 0.005*just + 0.005*now + 0.005*people + 0.004*actually + 0.004*know + 0.004*really',\n",
       " '0.010*can + 0.008*one + 0.007*like + 0.007*just + 0.007*now + 0.006*people + 0.005*going + 0.005*really + 0.004*see + 0.004*know',\n",
       " '0.007*people + 0.006*know + 0.005*like + 0.005*now + 0.005*think + 0.005*just + 0.005*one + 0.005*can + 0.005*going + 0.004*will',\n",
       " '0.012*can + 0.008*people + 0.006*like + 0.006*now + 0.006*just + 0.006*really + 0.005*think + 0.005*one + 0.005*know + 0.005*get',\n",
       " '0.010*can + 0.007*just + 0.007*like + 0.006*going + 0.006*people + 0.006*know + 0.005*one + 0.005*see + 0.004*get + 0.004*now',\n",
       " '0.012*can + 0.007*people + 0.007*one + 0.006*now + 0.006*going + 0.006*just + 0.005*like + 0.005*will + 0.005*think + 0.005*get',\n",
       " '0.007*one + 0.007*can + 0.007*like + 0.006*people + 0.006*just + 0.005*now + 0.005*really + 0.004*know + 0.004*think + 0.004*see',\n",
       " '0.009*can + 0.008*one + 0.006*now + 0.006*like + 0.006*going + 0.005*get + 0.005*really + 0.005*see + 0.004*actually + 0.004*think',\n",
       " '0.009*like + 0.009*one + 0.008*can + 0.006*now + 0.006*people + 0.005*actually + 0.005*really + 0.005*know + 0.005*just + 0.004*think',\n",
       " '0.009*one + 0.008*going + 0.008*people + 0.007*like + 0.007*can + 0.006*know + 0.006*just + 0.005*think + 0.005*now + 0.004*things',\n",
       " '0.009*can + 0.008*people + 0.008*one + 0.006*like + 0.006*think + 0.005*just + 0.005*know + 0.005*us + 0.004*now + 0.004*also',\n",
       " '0.010*one + 0.009*like + 0.008*can + 0.008*just + 0.006*people + 0.005*really + 0.005*now + 0.005*know + 0.005*want + 0.004*us',\n",
       " '0.008*one + 0.007*can + 0.007*now + 0.006*like + 0.006*people + 0.006*going + 0.005*think + 0.004*just + 0.004*jm + 0.004*really',\n",
       " '0.008*one + 0.008*people + 0.007*like + 0.006*now + 0.006*just + 0.006*think + 0.006*can + 0.005*know + 0.004*going + 0.004*get',\n",
       " '0.010*can + 0.008*one + 0.007*people + 0.005*like + 0.005*now + 0.005*think + 0.005*just + 0.004*going + 0.004*us + 0.004*see',\n",
       " '0.008*one + 0.007*can + 0.006*just + 0.005*really + 0.005*like + 0.005*going + 0.005*now + 0.005*see + 0.004*people + 0.004*think',\n",
       " '0.009*can + 0.007*people + 0.007*one + 0.006*just + 0.006*like + 0.006*see + 0.005*know + 0.004*think + 0.004*going + 0.004*now',\n",
       " '0.012*can + 0.009*people + 0.008*like + 0.007*see + 0.007*one + 0.007*just + 0.006*going + 0.004*now + 0.004*know + 0.004*really',\n",
       " '0.010*can + 0.009*like + 0.007*one + 0.006*see + 0.005*just + 0.005*now + 0.005*actually + 0.005*people + 0.005*know + 0.004*think',\n",
       " '0.013*can + 0.008*now + 0.007*going + 0.007*one + 0.007*like + 0.006*just + 0.006*see + 0.006*think + 0.006*really + 0.006*people']"
      ]
     },
     "execution_count": 27,
     "metadata": {},
     "output_type": "execute_result"
    }
   ],
   "source": [
    "import gensim\n",
    "\n",
    "n_topics = 25\n",
    "\n",
    "# We are assuming that the dictionary and the corpus are still loaded.\n",
    "# If not, uncomment these two lines to load them.\n",
    "# dictionary = gensim.corpora.Dictionary.load('./data/talks.dict')\n",
    "# corpus = gensim.corpora.MmCorpus('./data/talks.mm')\n",
    "\n",
    "# Project to LDA space\n",
    "lda = gensim.models.LdaModel(corpus, id2word=dictionary, num_topics=n_topics)\n",
    "lda.print_topics(n_topics)"
   ]
  },
  {
   "cell_type": "markdown",
   "metadata": {},
   "source": [
    "The results are as follows. As you can see, each topic is made up of a mixture of terms. The top 10 terms from each topic is shown in the output below and covers between 69-80% of the probability space for each topic."
   ]
  },
  {
   "cell_type": "code",
   "execution_count": null,
   "metadata": {
    "collapsed": true
   },
   "outputs": [],
   "source": [
    "import os\n",
    "import wordcloud\n",
    "\n",
    "MODELS_DIR = \"models\"\n",
    "\n",
    "final_topics = open(os.path.join(MODELS_DIR, \"final_topics.txt\"), 'rb')\n",
    "curr_topic = 0\n",
    "for line in final_topics:\n",
    "    line = line.strip()[line.rindex(\":\") + 2:]\n",
    "    scores = [float(x.split(\"*\")[0]) for x in line.split(\" + \")]\n",
    "    words = [x.split(\"*\")[1] for x in line.split(\" + \")]\n",
    "    freqs = []\n",
    "    for word, score in zip(words, scores):\n",
    "        freqs.append((word, score))\n",
    "    elements = wordcloud.fit_words(freqs, width=120, height=120)\n",
    "    wordcloud.draw(elements, \"gs_topic_%d.png\" % (curr_topic),\n",
    "                   width=120, height=120)\n",
    "    curr_topic += 1\n",
    "final_topics.close()"
   ]
  }
 ],
 "metadata": {
  "kernelspec": {
   "display_name": "Python 3",
   "language": "python",
   "name": "python3"
  },
  "language_info": {
   "codemirror_mode": {
    "name": "ipython",
    "version": 3
   },
   "file_extension": ".py",
   "mimetype": "text/x-python",
   "name": "python",
   "nbconvert_exporter": "python",
   "pygments_lexer": "ipython3",
   "version": "3.4.4"
  }
 },
 "nbformat": 4,
 "nbformat_minor": 0
}
