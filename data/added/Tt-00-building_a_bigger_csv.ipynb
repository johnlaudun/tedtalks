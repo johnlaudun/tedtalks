{
 "cells": [
  {
   "cell_type": "markdown",
   "metadata": {},
   "source": [
    "In this notebook, we are going to load the CSV exported from the Google Doc into a `pandas` dataframe, then use the URL to scrape the HTML for the data we want, and then add that data to the dataframe. At the end, we will save the dataframe back to the CSV.\n",
    "\n",
    "Understanding what the `requests` library returns was made easier thanks to this [post][].\n",
    "\n",
    "[post]: http://www.compjour.org/tutorials/intro-to-python-requests-and-json/"
   ]
  },
  {
   "cell_type": "code",
   "execution_count": 47,
   "metadata": {
    "collapsed": true
   },
   "outputs": [],
   "source": [
    "# =-=-=-=-=-=-=-=-=-=-=\n",
    "# Import libraries\n",
    "# =-=-=-=-=-=-=-=-=-=-= \n",
    "import pandas, re, requests, csv, os\n",
    "from bs4 import BeautifulSoup"
   ]
  },
  {
   "cell_type": "code",
   "execution_count": 53,
   "metadata": {},
   "outputs": [],
   "source": [
    "# =-=-=-=-=-=-=-=-=-=-=\n",
    "# Define functions\n",
    "# =-=-=-=-=-=-=-=-=-=-= \n",
    "\n",
    "def parse(thesoup):\n",
    "    for tag in thesoup.find_all(\"meta\"):\n",
    "        if tag.get(\"name\", None) == \"author\":\n",
    "            speaker = tag.get(\"content\", None)\n",
    "        if tag.get(\"itemprop\", None) == \"duration\":\n",
    "            length = tag.get(\"content\", None)\n",
    "        if tag.get(\"itemprop\", None) == \"uploadDate\":\n",
    "            published = tag.get(\"content\", None)\n",
    "        if tag.get(\"itemprop\", None) == \"interactionCount\":\n",
    "            views = tag.get(\"content\", None)\n",
    "        if tag.get(\"itemprop\", None) == \"description\":\n",
    "            description = tag.get(\"content\", None)\n",
    "    strung = ''.join([div.text for div in \n",
    "            thesoup.findAll(\"div\", {\"class\": \"Grid__cell flx-s:1 p-r:4\"})])\n",
    "    text   = re.sub(r\"[\\t]\", \"\", strung).replace(\"\\n\", \" \")\n",
    "    return speaker, length, published, views, description, text\n",
    "\n",
    "def to_csv(csv_file, out):\n",
    "    # open file to write to.\n",
    "    with open(out, \"w\") as out:\n",
    "        # create csv.writer. \n",
    "        wr = csv.writer(out)\n",
    "        # write our headers.\n",
    "        wr.writerow([\"author\", \"length\", \"published\", \"views\", \"description\", \"text\"])\n",
    "        # get all our html files.\n",
    "        with open(csv_file) as f:\n",
    "            colnames = f.readline().strip().split(\",\")\n",
    "            df = pandas.read_csv(csv_file, names=colnames)\n",
    "            # Create a tuple from the DF \n",
    "            rows = TEDtalks.itertuples()\n",
    "            # Skip the first (header) row\n",
    "            next(rows) # skip the row header\n",
    "            # Here's where all the lifting occurs\n",
    "            for row in rows:\n",
    "                # Append transcript to get the correct HTML\n",
    "                the_url = row.public_url + \"/transcript\"\n",
    "                # Use the requests library to get the data\n",
    "                the_html = requests.get(the_url)\n",
    "                # We're skipping the JSON niftiness of the requests response \n",
    "                # and just converting the response to text that we can parse\n",
    "                the_soup = BeautifulSoup(the_html.text, \"html5lib\")\n",
    "                # This is our parse function above that returns a 6-part tuple\n",
    "                # parse the file are write the data to a row.\n",
    "                wr.writerow(parse(the_soup))"
   ]
  },
  {
   "cell_type": "code",
   "execution_count": 4,
   "metadata": {},
   "outputs": [
    {
     "name": "stdout",
     "output_type": "stream",
     "text": [
      "['Talk ID', 'public_url', 'speaker_name', 'headline', 'description', 'event', 'duration', 'language', 'published', 'tags']\n"
     ]
    },
    {
     "data": {
      "text/html": [
       "<div>\n",
       "<table border=\"1\" class=\"dataframe\">\n",
       "  <thead>\n",
       "    <tr style=\"text-align: right;\">\n",
       "      <th></th>\n",
       "      <th>Talk ID</th>\n",
       "      <th>public_url</th>\n",
       "      <th>speaker_name</th>\n",
       "      <th>headline</th>\n",
       "      <th>description</th>\n",
       "      <th>event</th>\n",
       "      <th>duration</th>\n",
       "      <th>language</th>\n",
       "      <th>published</th>\n",
       "      <th>tags</th>\n",
       "    </tr>\n",
       "  </thead>\n",
       "  <tbody>\n",
       "    <tr>\n",
       "      <th>0</th>\n",
       "      <td>Talk ID</td>\n",
       "      <td>public_url</td>\n",
       "      <td>speaker_name</td>\n",
       "      <td>headline</td>\n",
       "      <td>description</td>\n",
       "      <td>event</td>\n",
       "      <td>duration</td>\n",
       "      <td>language</td>\n",
       "      <td>published</td>\n",
       "      <td>tags</td>\n",
       "    </tr>\n",
       "    <tr>\n",
       "      <th>1</th>\n",
       "      <td>1</td>\n",
       "      <td>https://www.ted.com/talks/al_gore_on_averting_...</td>\n",
       "      <td>Al Gore</td>\n",
       "      <td>Averting the climate crisis</td>\n",
       "      <td>With the same humor and humanity he exuded in ...</td>\n",
       "      <td>TED2006</td>\n",
       "      <td>0:16:17</td>\n",
       "      <td>en</td>\n",
       "      <td>6/27/06</td>\n",
       "      <td>alternative energy,cars,global issues,climate ...</td>\n",
       "    </tr>\n",
       "    <tr>\n",
       "      <th>2</th>\n",
       "      <td>7</td>\n",
       "      <td>https://www.ted.com/talks/david_pogue_says_sim...</td>\n",
       "      <td>David Pogue</td>\n",
       "      <td>Simplicity sells</td>\n",
       "      <td>New York Times columnist David Pogue takes aim...</td>\n",
       "      <td>TED2006</td>\n",
       "      <td>0:21:26</td>\n",
       "      <td>en</td>\n",
       "      <td>6/27/06</td>\n",
       "      <td>simplicity,entertainment,interface design,soft...</td>\n",
       "    </tr>\n",
       "    <tr>\n",
       "      <th>3</th>\n",
       "      <td>53</td>\n",
       "      <td>https://www.ted.com/talks/majora_carter_s_tale...</td>\n",
       "      <td>Majora Carter</td>\n",
       "      <td>Greening the ghetto</td>\n",
       "      <td>In an emotionally charged talk, MacArthur-winn...</td>\n",
       "      <td>TED2006</td>\n",
       "      <td>0:18:36</td>\n",
       "      <td>en</td>\n",
       "      <td>6/27/06</td>\n",
       "      <td>MacArthur grant,cities,green,activism,politics...</td>\n",
       "    </tr>\n",
       "    <tr>\n",
       "      <th>4</th>\n",
       "      <td>66</td>\n",
       "      <td>https://www.ted.com/talks/ken_robinson_says_sc...</td>\n",
       "      <td>Ken Robinson</td>\n",
       "      <td>Do schools kill creativity?</td>\n",
       "      <td>Sir Ken Robinson makes an entertaining and pro...</td>\n",
       "      <td>TED2006</td>\n",
       "      <td>0:19:24</td>\n",
       "      <td>en</td>\n",
       "      <td>6/27/06</td>\n",
       "      <td>children,teaching,creativity,parenting,culture...</td>\n",
       "    </tr>\n",
       "  </tbody>\n",
       "</table>\n",
       "</div>"
      ],
      "text/plain": [
       "   Talk ID                                         public_url   speaker_name  \\\n",
       "0  Talk ID                                         public_url   speaker_name   \n",
       "1        1  https://www.ted.com/talks/al_gore_on_averting_...        Al Gore   \n",
       "2        7  https://www.ted.com/talks/david_pogue_says_sim...    David Pogue   \n",
       "3       53  https://www.ted.com/talks/majora_carter_s_tale...  Majora Carter   \n",
       "4       66  https://www.ted.com/talks/ken_robinson_says_sc...   Ken Robinson   \n",
       "\n",
       "                      headline  \\\n",
       "0                     headline   \n",
       "1  Averting the climate crisis   \n",
       "2             Simplicity sells   \n",
       "3          Greening the ghetto   \n",
       "4  Do schools kill creativity?   \n",
       "\n",
       "                                         description    event  duration  \\\n",
       "0                                        description    event  duration   \n",
       "1  With the same humor and humanity he exuded in ...  TED2006   0:16:17   \n",
       "2  New York Times columnist David Pogue takes aim...  TED2006   0:21:26   \n",
       "3  In an emotionally charged talk, MacArthur-winn...  TED2006   0:18:36   \n",
       "4  Sir Ken Robinson makes an entertaining and pro...  TED2006   0:19:24   \n",
       "\n",
       "   language  published                                               tags  \n",
       "0  language  published                                               tags  \n",
       "1        en    6/27/06  alternative energy,cars,global issues,climate ...  \n",
       "2        en    6/27/06  simplicity,entertainment,interface design,soft...  \n",
       "3        en    6/27/06  MacArthur grant,cities,green,activism,politics...  \n",
       "4        en    6/27/06  children,teaching,creativity,parenting,culture...  "
      ]
     },
     "execution_count": 4,
     "metadata": {},
     "output_type": "execute_result"
    }
   ],
   "source": [
    "# =-=-=-=-=-=-=-=-=-=-=\n",
    "# LOAD the CSV\n",
    "# =-=-=-=-=-=-=-=-=-=-= \n",
    "\n",
    "# Let python create the column names list:\n",
    "with open('./TED_to_add_test.csv') as f:\n",
    "    colnames = f.readline().strip().split(\",\")\n",
    "print(colnames)\n",
    "\n",
    "# Now will import the csv as a dataframe with the column names specified\n",
    "TEDtalks = pandas.read_csv('./TED_to_add_test.csv', names=colnames)\n",
    "\n",
    "# Check for success:\n",
    "TEDtalks.head()"
   ]
  },
  {
   "cell_type": "code",
   "execution_count": 31,
   "metadata": {
    "scrolled": true
   },
   "outputs": [
    {
     "name": "stdout",
     "output_type": "stream",
     "text": [
      "https://www.ted.com/talks/al_gore_on_averting_climate_crisis/transcript\n",
      "https://www.ted.com/talks/david_pogue_says_simplicity_sells/transcript\n",
      "https://www.ted.com/talks/majora_carter_s_tale_of_urban_renewal/transcript\n",
      "https://www.ted.com/talks/ken_robinson_says_schools_kill_creativity/transcript\n"
     ]
    }
   ],
   "source": [
    "# =-=-=-=-=-=-=-=-=-=-=\n",
    "# Grab the URL and then the HTML\n",
    "# =-=-=-=-=-=-=-=-=-=-= \n",
    "\n",
    "# Create a tuple from the DF \n",
    "rows = TEDtalks.itertuples()\n",
    "\n",
    "# Skip the first (header) row\n",
    "next(rows) # skip the row header\n",
    "\n",
    "# Here's where all the lifting occurs\n",
    "for row in rows:\n",
    "    # Append transcript to get the correct HTML\n",
    "    the_url = row.public_url + \"/transcript\"\n",
    "    # Use the requests library to get the data\n",
    "    the_html = requests.get(the_url)\n",
    "    # We're skipping the JSON niftiness of the requests response \n",
    "    # and just converting the response to text that we can parse\n",
    "    the_soup = BeautifulSoup(the_html.text, \"html5lib\")\n",
    "    # This is our parse function above that returns a 6-part tuple\n",
    "    parse(the_soup)"
   ]
  },
  {
   "cell_type": "markdown",
   "metadata": {},
   "source": [
    "## Write the data to CSV / DF"
   ]
  },
  {
   "cell_type": "code",
   "execution_count": 56,
   "metadata": {},
   "outputs": [],
   "source": [
    "to_csv(\"./TEDtalks_to_add.csv\",\"added.csv\")"
   ]
  }
 ],
 "metadata": {
  "kernelspec": {
   "display_name": "Python 3",
   "language": "python",
   "name": "python3"
  },
  "language_info": {
   "codemirror_mode": {
    "name": "ipython",
    "version": 3
   },
   "file_extension": ".py",
   "mimetype": "text/x-python",
   "name": "python",
   "nbconvert_exporter": "python",
   "pygments_lexer": "ipython3",
   "version": "3.4.7"
  }
 },
 "nbformat": 4,
 "nbformat_minor": 2
}
