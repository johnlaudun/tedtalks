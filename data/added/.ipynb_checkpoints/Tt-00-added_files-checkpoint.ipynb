{
 "cells": [
  {
   "cell_type": "markdown",
   "metadata": {},
   "source": [
    "Here's the Beautiful Soup code from last time:"
   ]
  },
  {
   "cell_type": "code",
   "execution_count": null,
   "metadata": {
    "collapsed": true
   },
   "outputs": [],
   "source": [
    "import re\n",
    "import csv\n",
    "import os\n",
    "from bs4 import BeautifulSoup\n",
    "\n",
    "def parse(the_soup):\n",
    "    # both title and author are can be parsed in separate tags.\n",
    "    author = the_soup.select_one(\"h4.h12.talk-link__speaker\").text.encode(\"utf-8\")\n",
    "    title = the_soup.select_one(\"h4.h9.m5\").text\n",
    "    # just need to strip the text from the date string, no regex needed.\n",
    "    date = the_soup.select_one(\"span.meta__val\").text.strip()      \n",
    "    # we want the last time which is the talk-transcript__para__time previous to the footer.\n",
    "    mn, sec = map(int, the_soup.select_one(\"footer.footer\").find_previous(\"data\", {\n",
    "    \"class\": \"talk-transcript__para__time\"}).text.split(\":\"))\n",
    "    length = (mn * 60 + sec)        \n",
    "    # to ignore (Applause) etc.. we can just pull from the actual text fragment checking for (\n",
    "    text = \" \".join(d.text for d in the_soup.select(\"span.talk-transcript__fragment\") if not d.text.startswith(\"(\"))        \n",
    "    # clean the text\n",
    "    text = re.sub('[^a-zA-Z\\.\\']', ' ', text)\n",
    "    return  author.strip(), title.strip(), date, length, text\n",
    "\n",
    "def to_csv(pth, out):\n",
    "    # open file to write to.\n",
    "    with open(out, \"w\") as out:\n",
    "        # create csv.writer. \n",
    "        wr = csv.writer(out)\n",
    "        # write our headers.\n",
    "        wr.writerow([\"author\", \"title\", \"date\", \"length\", \"text\"])\n",
    "        # get all our html files.\n",
    "        for html in os.listdir(pth):\n",
    "            with open(os.path.join(pth, html)) as f:\n",
    "                # parse the file are write the data to a row.\n",
    "                wr.writerow(parse(BeautifulSoup(f, \"lxml\")))\n",
    "                \n",
    "to_csv(\"./test\",\"test.csv\")"
   ]
  },
  {
   "cell_type": "markdown",
   "metadata": {},
   "source": [
    "And now we are going to pull it apart and work on only one file:"
   ]
  },
  {
   "cell_type": "code",
   "execution_count": 2,
   "metadata": {
    "collapsed": true
   },
   "outputs": [],
   "source": [
    "from bs4 import BeautifulSoup\n",
    "\n",
    "# NB: no need to read() the file: BS does that\n",
    "thesoup = BeautifulSoup(open(\"test_transcript.html\"), \"html5lib\")"
   ]
  },
  {
   "cell_type": "code",
   "execution_count": 3,
   "metadata": {},
   "outputs": [],
   "source": [
    "metas = thesoup.find_all(\"meta\")"
   ]
  },
  {
   "cell_type": "code",
   "execution_count": 4,
   "metadata": {},
   "outputs": [
    {
     "name": "stdout",
     "output_type": "stream",
     "text": [
      "<meta content=\"Good news in the fight against pancreatic cancer\" itemprop=\"name\"/>\n",
      "<meta content=\"Anyone who has lost a loved one to pancreatic cancer knows the devastating speed with which it can affect an otherwise healthy person. TED Fellow and biomedical entrepreneur Laura Indolfi is developing a revolutionary way to treat this complex and lethal disease: a drug delivery device that acts as a cage at the site of a tumor, preventing it from spreading and delivering medicine only where it's needed. &quot;We are hoping that one day we can make pancreatic cancer a curable disease,&quot; she says.\" itemprop=\"description\"/>\n",
      "<meta content=\"PT6M3S\" itemprop=\"duration\"/>\n",
      "<meta content=\"2016-05-17T14:46:20+00:00\" itemprop=\"uploadDate\"/>\n",
      "<meta content=\"1246654\" itemprop=\"interactionCount\"/>\n",
      "<meta content=\"Laura Indolfi\" itemprop=\"name\"/>\n"
     ]
    }
   ],
   "source": [
    "for i in metas:\n",
    "    print(i)"
   ]
  },
  {
   "cell_type": "code",
   "execution_count": 5,
   "metadata": {
    "scrolled": true
   },
   "outputs": [
    {
     "data": {
      "text/plain": [
       "bs4.element.ResultSet"
      ]
     },
     "execution_count": 5,
     "metadata": {},
     "output_type": "execute_result"
    }
   ],
   "source": [
    "type(metas)"
   ]
  },
  {
   "cell_type": "code",
   "execution_count": 6,
   "metadata": {},
   "outputs": [
    {
     "ename": "AttributeError",
     "evalue": "ResultSet object has no attribute 'items'. You're probably treating a list of items like a single item. Did you call find_all() when you meant to call find()?",
     "output_type": "error",
     "traceback": [
      "\u001b[0;31m---------------------------------------------------------------------------\u001b[0m",
      "\u001b[0;31mAttributeError\u001b[0m                            Traceback (most recent call last)",
      "\u001b[0;32m<ipython-input-6-471c1bfeb434>\u001b[0m in \u001b[0;36m<module>\u001b[0;34m()\u001b[0m\n\u001b[0;32m----> 1\u001b[0;31m \u001b[0;32mfor\u001b[0m \u001b[0mkey\u001b[0m\u001b[0;34m,\u001b[0m \u001b[0mvalue\u001b[0m \u001b[0;32min\u001b[0m \u001b[0mmetas\u001b[0m\u001b[0;34m.\u001b[0m\u001b[0mitems\u001b[0m\u001b[0;34m(\u001b[0m\u001b[0;34m)\u001b[0m \u001b[0;34m:\u001b[0m\u001b[0;34m\u001b[0m\u001b[0m\n\u001b[0m\u001b[1;32m      2\u001b[0m     \u001b[0mprint\u001b[0m \u001b[0;34m(\u001b[0m\u001b[0mkey\u001b[0m\u001b[0;34m,\u001b[0m \u001b[0mvalue\u001b[0m\u001b[0;34m)\u001b[0m\u001b[0;34m\u001b[0m\u001b[0m\n",
      "\u001b[0;32m~/Library/Python/3.4/lib/python/site-packages/bs4/element.py\u001b[0m in \u001b[0;36m__getattr__\u001b[0;34m(self, key)\u001b[0m\n\u001b[1;32m   1805\u001b[0m     \u001b[0;32mdef\u001b[0m \u001b[0m__getattr__\u001b[0m\u001b[0;34m(\u001b[0m\u001b[0mself\u001b[0m\u001b[0;34m,\u001b[0m \u001b[0mkey\u001b[0m\u001b[0;34m)\u001b[0m\u001b[0;34m:\u001b[0m\u001b[0;34m\u001b[0m\u001b[0m\n\u001b[1;32m   1806\u001b[0m         raise AttributeError(\n\u001b[0;32m-> 1807\u001b[0;31m             \u001b[0;34m\"ResultSet object has no attribute '%s'. You're probably treating a list of items like a single item. Did you call find_all() when you meant to call find()?\"\u001b[0m \u001b[0;34m%\u001b[0m \u001b[0mkey\u001b[0m\u001b[0;34m\u001b[0m\u001b[0m\n\u001b[0m\u001b[1;32m   1808\u001b[0m         )\n",
      "\u001b[0;31mAttributeError\u001b[0m: ResultSet object has no attribute 'items'. You're probably treating a list of items like a single item. Did you call find_all() when you meant to call find()?"
     ]
    }
   ],
   "source": [
    "for key, value in metas.items() :\n",
    "    print (key, value)"
   ]
  },
  {
   "cell_type": "code",
   "execution_count": 16,
   "metadata": {},
   "outputs": [
    {
     "name": "stdout",
     "output_type": "stream",
     "text": [
      "<meta content=\"Good news in the fight against pancreatic cancer\" itemprop=\"name\"/>\n"
     ]
    }
   ],
   "source": [
    "soup_zero = BeautifulSoup(open(\"transcript.0.html\"), \"html5lib\")\n",
    "metas = thesoup.findAll(\"meta\")\n",
    "# for meta in metas:\n",
    "#     print(meta)\n",
    "    \n",
    "print(metas[0])"
   ]
  },
  {
   "cell_type": "code",
   "execution_count": 19,
   "metadata": {},
   "outputs": [
    {
     "name": "stdout",
     "output_type": "stream",
     "text": [
      "<class 'bs4.element.ResultSet'> <class 'bs4.element.Tag'>\n"
     ]
    }
   ],
   "source": [
    "print(type(metas), type(metas[0]))"
   ]
  },
  {
   "cell_type": "code",
   "execution_count": 20,
   "metadata": {},
   "outputs": [
    {
     "name": "stdout",
     "output_type": "stream",
     "text": [
      "Good news in the fight against pancreatic cancer\n",
      "Anyone who has lost a loved one to pancreatic cancer knows the devastating speed with which it can affect an otherwise healthy person. TED Fellow and biomedical entrepreneur Laura Indolfi is developing a revolutionary way to treat this complex and lethal disease: a drug delivery device that acts as a cage at the site of a tumor, preventing it from spreading and delivering medicine only where it's needed. \"We are hoping that one day we can make pancreatic cancer a curable disease,\" she says.\n",
      "PT6M3S\n",
      "2016-05-17T14:46:20+00:00\n",
      "1246654\n",
      "Laura Indolfi\n"
     ]
    }
   ],
   "source": [
    "# contents = thesoup.find_all(\"meta\", {\"name\":\"City\"})['content']\n",
    "\n",
    "for meta in metas:\n",
    "    print(meta['content'])"
   ]
  },
  {
   "cell_type": "code",
   "execution_count": 21,
   "metadata": {},
   "outputs": [
    {
     "name": "stdout",
     "output_type": "stream",
     "text": [
      "{'itemprop': 'name', 'content': 'Good news in the fight against pancreatic cancer'}\n",
      "{'itemprop': 'description', 'content': 'Anyone who has lost a loved one to pancreatic cancer knows the devastating speed with which it can affect an otherwise healthy person. TED Fellow and biomedical entrepreneur Laura Indolfi is developing a revolutionary way to treat this complex and lethal disease: a drug delivery device that acts as a cage at the site of a tumor, preventing it from spreading and delivering medicine only where it\\'s needed. \"We are hoping that one day we can make pancreatic cancer a curable disease,\" she says.'}\n",
      "{'itemprop': 'duration', 'content': 'PT6M3S'}\n",
      "{'itemprop': 'uploadDate', 'content': '2016-05-17T14:46:20+00:00'}\n",
      "{'itemprop': 'interactionCount', 'content': '1246654'}\n",
      "{'itemprop': 'name', 'content': 'Laura Indolfi'}\n"
     ]
    }
   ],
   "source": [
    "for meta in metas:\n",
    "    print(meta.attrs)"
   ]
  }
 ],
 "metadata": {
  "kernelspec": {
   "display_name": "Python 3",
   "language": "python",
   "name": "python3"
  }
 },
 "nbformat": 4,
 "nbformat_minor": 2
}
