{
 "cells": [
  {
   "cell_type": "markdown",
   "metadata": {},
   "source": [
    "Here's the Beautiful Soup code from last time:"
   ]
  },
  {
   "cell_type": "code",
   "execution_count": null,
   "metadata": {
    "collapsed": true
   },
   "outputs": [],
   "source": [
    "import re\n",
    "import csv\n",
    "import os\n",
    "from bs4 import BeautifulSoup\n",
    "\n",
    "def parse(the_soup):\n",
    "    # both title and author are can be parsed in separate tags.\n",
    "    author = the_soup.select_one(\"h4.h12.talk-link__speaker\").text.encode(\"utf-8\")\n",
    "    title = the_soup.select_one(\"h4.h9.m5\").text\n",
    "    # just need to strip the text from the date string, no regex needed.\n",
    "    date = the_soup.select_one(\"span.meta__val\").text.strip()      \n",
    "    # we want the last time which is the talk-transcript__para__time previous to the footer.\n",
    "    mn, sec = map(int, the_soup.select_one(\"footer.footer\").find_previous(\"data\", {\n",
    "    \"class\": \"talk-transcript__para__time\"}).text.split(\":\"))\n",
    "    length = (mn * 60 + sec)        \n",
    "    # to ignore (Applause) etc.. we can just pull from the actual text fragment checking for (\n",
    "    text = \" \".join(d.text for d in the_soup.select(\"span.talk-transcript__fragment\") if not d.text.startswith(\"(\"))        \n",
    "    # clean the text\n",
    "    text = re.sub('[^a-zA-Z\\.\\']', ' ', text)\n",
    "    return  author.strip(), title.strip(), date, length, text\n",
    "\n",
    "def to_csv(pth, out):\n",
    "    # open file to write to.\n",
    "    with open(out, \"w\") as out:\n",
    "        # create csv.writer. \n",
    "        wr = csv.writer(out)\n",
    "        # write our headers.\n",
    "        wr.writerow([\"author\", \"title\", \"date\", \"length\", \"text\"])\n",
    "        # get all our html files.\n",
    "        for html in os.listdir(pth):\n",
    "            with open(os.path.join(pth, html)) as f:\n",
    "                # parse the file are write the data to a row.\n",
    "                wr.writerow(parse(BeautifulSoup(f, \"lxml\")))\n",
    "                \n",
    "to_csv(\"./test\",\"test.csv\")"
   ]
  },
  {
   "cell_type": "markdown",
   "metadata": {},
   "source": [
    "And now we are going to pull it apart and work on only one file:"
   ]
  },
  {
   "cell_type": "code",
   "execution_count": 35,
   "metadata": {},
   "outputs": [
    {
     "name": "stdout",
     "output_type": "stream",
     "text": [
      "<class 'bs4.element.ResultSet'>\n"
     ]
    }
   ],
   "source": [
    "from bs4 import BeautifulSoup, Comment\n",
    "\n",
    "# NB: no need to read() the file: BS4 does that\n",
    "thesoup = BeautifulSoup(open(\"transcript.0.html\"), \"html5lib\")\n",
    "\n",
    "# Talk metadata is in <meta> tags in the <head>. \n",
    "# This finds all <meta> tags\n",
    "metas = thesoup.find_all(\"meta\")\n",
    "\n",
    "# Let's see what this object is...\n",
    "print(type(metas))"
   ]
  },
  {
   "cell_type": "code",
   "execution_count": 5,
   "metadata": {},
   "outputs": [
    {
     "name": "stdout",
     "output_type": "stream",
     "text": [
      "[<meta charset=\"utf-8\"/>, <meta content=\"TED Talk Subtitles and Transcript: Anyone who has lost a loved one to pancreatic cancer knows the devastating speed with which it can affect an otherwise healthy person. TED Fellow and biomedical entrepreneur Laura Indolfi is developing a revolutionary way to treat this complex and lethal disease: a drug delivery device that acts as a cage at the site of a tumor, preventing it from spreading and delivering medicine only where it's needed. &quot;We are hoping that one day we can make pancreatic cancer a curable disease,&quot; she says.\" name=\"description\"/>, <meta content=\"Laura Indolfi\" name=\"author\"/>, <meta content='Transcript of \"Good news in the fight against pancreatic cancer\"' property=\"og:title\"/>, <meta content=\"https://pi.tedcdn.com/r/talkstar-photos.s3.amazonaws.com/uploads/70d551c2-1e5c-411e-b926-7d72590f66bb/LauraIndolfi_2016U-embed.jpg?c=1050%2C550&amp;w=1050\" property=\"og:image\"/>, <meta content=\"https://pi.tedcdn.com/r/talkstar-photos.s3.amazonaws.com/uploads/70d551c2-1e5c-411e-b926-7d72590f66bb/LauraIndolfi_2016U-embed.jpg?c=1050%2C550&amp;w=1050\" property=\"og:image:secure_url\"/>, <meta content=\"1050\" property=\"og:image:width\"/>, <meta content=\"550\" property=\"og:image:height\"/>, <meta content=\"article\" property=\"og:type\"/>, <meta content=\"TED, Talks, Themes, Speakers, Technology, Entertainment, Design\" name=\"keywords\"/>, <meta content=\"#E62B1E\" name=\"theme-color\"/>, <meta content=\"True\" name=\"HandheldFriendly\"/>, <meta content=\"320\" name=\"MobileOptimized\"/>, <meta content=\"width=device-width, initial-scale=1.0\" name=\"viewport\"/>, <meta content=\"TED Talks\" name=\"apple-mobile-web-app-title\"/>, <meta content=\"yes\" name=\"apple-mobile-web-app-capable\"/>, <meta content=\"black\" name=\"apple-mobile-web-app-status-bar-style\"/>, <meta content=\"TED Talks\" name=\"application-name\"/>, <meta content=\"https://www.ted.com/browserconfig.xml\" name=\"msapplication-config\"/>, <meta content=\"#000000\" name=\"msapplication-TileColor\"/>, <meta content=\"on\" http-equiv=\"cleartype\"/>, <meta content=\"Laura Indolfi: Good news in the fight against pancreatic cancer\" name=\"title\"/>, <meta content=\"TED Talk Subtitles and Transcript: Anyone who has lost a loved one to pancreatic cancer knows the devastating speed with which it can affect an otherwise healthy person. TED Fellow and biomedical entrepreneur Laura Indolfi is developing a revolutionary way to treat this complex and lethal disease: a drug delivery device that acts as a cage at the site of a tumor, preventing it from spreading and delivering medicine only where it's needed. &quot;We are hoping that one day we can make pancreatic cancer a curable disease,&quot; she says.\" property=\"og:description\"/>, <meta content=\"https://www.ted.com/talks/laura_indolfi_good_news_in_the_fight_against_pancreatic_cancer/transcript\" property=\"og:url\"/>, <meta content=\"201021956610141\" property=\"fb:app_id\"/>, <meta content=\"Good news in the fight against pancreatic cancer\" itemprop=\"name\"/>, <meta content=\"Anyone who has lost a loved one to pancreatic cancer knows the devastating speed with which it can affect an otherwise healthy person. TED Fellow and biomedical entrepreneur Laura Indolfi is developing a revolutionary way to treat this complex and lethal disease: a drug delivery device that acts as a cage at the site of a tumor, preventing it from spreading and delivering medicine only where it's needed. &quot;We are hoping that one day we can make pancreatic cancer a curable disease,&quot; she says.\" itemprop=\"description\"/>, <meta content=\"PT6M3S\" itemprop=\"duration\"/>, <meta content=\"2016-05-17T14:46:20+00:00\" itemprop=\"uploadDate\"/>, <meta content=\"1246654\" itemprop=\"interactionCount\"/>, <meta content=\"Laura Indolfi\" itemprop=\"name\"/>, <meta content=\"Flash HTML5\" itemprop=\"playerType\"/>, <meta content=\"640\" itemprop=\"width\"/>, <meta content=\"360\" itemprop=\"height\"/>]\n"
     ]
    }
   ],
   "source": [
    "# ... and what's inside of it:\n",
    "print([meta for meta in metas])"
   ]
  },
  {
   "cell_type": "code",
   "execution_count": 6,
   "metadata": {},
   "outputs": [
    {
     "name": "stdout",
     "output_type": "stream",
     "text": [
      "<meta charset=\"utf-8\"/>\n"
     ]
    }
   ],
   "source": [
    "print(metas[0])"
   ]
  },
  {
   "cell_type": "code",
   "execution_count": 7,
   "metadata": {},
   "outputs": [
    {
     "name": "stdout",
     "output_type": "stream",
     "text": [
      "<class 'bs4.element.ResultSet'> <class 'bs4.element.Tag'>\n"
     ]
    }
   ],
   "source": [
    "print(type(metas), type(metas[0]))"
   ]
  },
  {
   "cell_type": "code",
   "execution_count": 13,
   "metadata": {
    "scrolled": true
   },
   "outputs": [],
   "source": [
    "metalist = [meta.attrs for meta in metas]"
   ]
  },
  {
   "cell_type": "markdown",
   "metadata": {},
   "source": [
    "Finally, the trick to getting the value of one attribute based on the value of another attribute is [found][]. \n",
    "\n",
    "[found]: https://stackoverflow.com/questions/36768068/get-meta-tag-content-property-with-beautifulsoup-and-python"
   ]
  },
  {
   "cell_type": "code",
   "execution_count": 28,
   "metadata": {},
   "outputs": [
    {
     "name": "stdout",
     "output_type": "stream",
     "text": [
      "Laura Indolfi PT6M3S 2016-05-17T14:46:20+00:00 1246654 Anyone who has lost a loved one to pancreatic cancer knows the devastating speed with which it can affect an otherwise healthy person. TED Fellow and biomedical entrepreneur Laura Indolfi is developing a revolutionary way to treat this complex and lethal disease: a drug delivery device that acts as a cage at the site of a tumor, preventing it from spreading and delivering medicine only where it's needed. \"We are hoping that one day we can make pancreatic cancer a curable disease,\" she says.\n"
     ]
    }
   ],
   "source": [
    "for tag in thesoup.find_all(\"meta\"):\n",
    "    if tag.get(\"name\", None) == \"author\":\n",
    "        speaker = tag.get(\"content\", None)\n",
    "    if tag.get(\"itemprop\", None) == \"duration\":\n",
    "        length = tag.get(\"content\", None)\n",
    "    if tag.get(\"itemprop\", None) == \"uploadDate\":\n",
    "        published = tag.get(\"content\", None)\n",
    "    if tag.get(\"itemprop\", None) == \"interactionCount\":\n",
    "        views = tag.get(\"content\", None)\n",
    "    if tag.get(\"itemprop\", None) == \"description\":\n",
    "        description = tag.get(\"content\", None)\n",
    "\n",
    "print(speaker, length, published, views, description)"
   ]
  },
  {
   "cell_type": "markdown",
   "metadata": {},
   "source": [
    "So far as I can tell, the `None` value within the `tag.get()` method isn't strictly necessary:"
   ]
  },
  {
   "cell_type": "code",
   "execution_count": 29,
   "metadata": {},
   "outputs": [
    {
     "name": "stdout",
     "output_type": "stream",
     "text": [
      "Laura Indolfi\n"
     ]
    }
   ],
   "source": [
    "for tag in thesoup.find_all(\"meta\"):\n",
    "    if tag.get(\"name\") == \"author\":\n",
    "        author = tag.get(\"content\")\n",
    "print(author)"
   ]
  },
  {
   "cell_type": "code",
   "execution_count": 32,
   "metadata": {},
   "outputs": [
    {
     "name": "stdout",
     "output_type": "stream",
     "text": [
      "[<p>\n",
      "\t\t\t\t\t\t\t\t\t\t\tBy raising your hand,\n",
      "\t\t\t\t\t\t\t\t\t\t\thow many of you know\n",
      "at least one person on the screen?\n",
      "\t\t\t\t\t\t\t\t\t\t\tWow, it's almost a full house.\n",
      "\t\t\t\t\t\t\t\t\t\t\tIt's true, they are very famous\n",
      "in their fields.\n",
      "\t\t\t\t\t\t\t\t\t\t\tAnd do you know what\n",
      "all of them have in common?\n",
      "\t\t\t\t\t\t\t\t\t\t\tThey all died of pancreatic cancer.\n",
      "\t\t\t\t\t\t\t\t\t\t\tHowever, although it's very,\n",
      "very sad this news,\n",
      "\t\t\t\t\t\t\t\t\t\t\tit's also thanks to their personal stories\n",
      "\t\t\t\t\t\t\t\t\t\t\tthat we have raised awareness\n",
      "of how lethal this disease can be.\n",
      "\t\t\t\t\t\t\t\t\t</p>, <p>\n",
      "\t\t\t\t\t\t\t\t\t\t\tIt's become the third cause\n",
      "of cancer deaths,\n",
      "\t\t\t\t\t\t\t\t\t\t\tand only eight percent of the patients\n",
      "will survive beyond five years.\n",
      "\t\t\t\t\t\t\t\t\t\t\tThat's a very tiny number,\n",
      "\t\t\t\t\t\t\t\t\t\t\tespecially if you compare it\n",
      "with breast cancer,\n",
      "\t\t\t\t\t\t\t\t\t\t\twhere the survival rate\n",
      "is almost 90 percent.\n",
      "\t\t\t\t\t\t\t\t\t\t\tSo it doesn't really come as a surprise\n",
      "\t\t\t\t\t\t\t\t\t\t\tthat being diagnosed\n",
      "with pancreatic cancer\n",
      "\t\t\t\t\t\t\t\t\t\t\tmeans facing an almost\n",
      "certain death sentence.\n",
      "\t\t\t\t\t\t\t\t\t\t\tWhat's shocking, though,\n",
      "is that in the last 40 years,\n",
      "\t\t\t\t\t\t\t\t\t\t\tthis number hasn't changed a bit,\n",
      "\t\t\t\t\t\t\t\t\t\t\twhile much more progress has been made\n",
      "\t\t\t\t\t\t\t\t\t\t\twith other types of tumors.\n",
      "\t\t\t\t\t\t\t\t\t\t\tSo how can we make pancreatic cancer\n",
      "treatment more effective?\n",
      "\t\t\t\t\t\t\t\t\t\t\tAs a biomedical entrepreneur,\n",
      "\t\t\t\t\t\t\t\t\t\t\tI like to work on problems\n",
      "that seem impossible,\n",
      "\t\t\t\t\t\t\t\t\t\t\tunderstanding their limitations\n",
      "\t\t\t\t\t\t\t\t\t\t\tand trying to find new,\n",
      "innovative solutions\n",
      "\t\t\t\t\t\t\t\t\t\t\tthat can change their outcome.\n",
      "\t\t\t\t\t\t\t\t\t</p>, <p>\n",
      "\t\t\t\t\t\t\t\t\t\t\tThe first piece of bad news\n",
      "with pancreatic cancer\n",
      "\t\t\t\t\t\t\t\t\t\t\tis that your pancreas is in the middle\n",
      "of your belly, literally.\n",
      "\t\t\t\t\t\t\t\t\t\t\tIt's depicted in orange on the screen.\n",
      "\t\t\t\t\t\t\t\t\t\t\tBut you can barely see it\n",
      "\t\t\t\t\t\t\t\t\t\t\tuntil I remove all the other\n",
      "organs in front.\n",
      "\t\t\t\t\t\t\t\t\t\t\tIt's also surrounded\n",
      "by many other vital organs,\n",
      "\t\t\t\t\t\t\t\t\t\t\tlike the liver, the stomach,\n",
      "the bile duct.\n",
      "\t\t\t\t\t\t\t\t\t\t\tAnd the ability of the tumor\n",
      "to grow into those organs\n",
      "\t\t\t\t\t\t\t\t\t\t\tis the reason why pancreatic cancer\n",
      "\t\t\t\t\t\t\t\t\t\t\tis one of the most painful tumor types.\n",
      "\t\t\t\t\t\t\t\t\t\t\tThe hard-to-reach location\n",
      "also prevents the doctor\n",
      "\t\t\t\t\t\t\t\t\t\t\tfrom surgically removing it,\n",
      "\t\t\t\t\t\t\t\t\t\t\tas is routinely done\n",
      "for breast cancer, for example.\n",
      "\t\t\t\t\t\t\t\t\t\t\tSo all of these reasons leave\n",
      "chemotherapy as the only option\n",
      "\t\t\t\t\t\t\t\t\t\t\tfor the pancreatic cancer patient.\n",
      "\t\t\t\t\t\t\t\t\t</p>, <p>\n",
      "\t\t\t\t\t\t\t\t\t\t\tThis brings us to the second\n",
      "piece of bad news.\n",
      "\t\t\t\t\t\t\t\t\t\t\tPancreatic cancer tumors have\n",
      "very few blood vessels.\n",
      "\t\t\t\t\t\t\t\t\t\t\tWhy should we care\n",
      "about the blood vessel of a tumor?\n",
      "\t\t\t\t\t\t\t\t\t\t\tLet's think for a second\n",
      "how chemotherapy works.\n",
      "\t\t\t\t\t\t\t\t\t\t\tThe drug is injected in the vein\n",
      "\t\t\t\t\t\t\t\t\t\t\tand it navigates throughout the body\n",
      "until it reaches the tumor site.\n",
      "\t\t\t\t\t\t\t\t\t\t\tIt's like driving on a highway,\n",
      "trying to reach a destination.\n",
      "\t\t\t\t\t\t\t\t\t\t\tBut what if your destination\n",
      "doesn't have an exit on the highway?\n",
      "\t\t\t\t\t\t\t\t\t\t\tYou will never get there.\n",
      "\t\t\t\t\t\t\t\t\t\t\tAnd that's exactly the same problem\n",
      "\t\t\t\t\t\t\t\t\t\t\tfor chemotherapy and pancreatic cancer.\n",
      "\t\t\t\t\t\t\t\t\t\t\tThe drugs navigate\n",
      "throughout all of your body.\n",
      "\t\t\t\t\t\t\t\t\t\t\tThey will reach healthy organs,\n",
      "\t\t\t\t\t\t\t\t\t\t\tresulting in high toxic effect\n",
      "for the patients overall,\n",
      "\t\t\t\t\t\t\t\t\t\t\tbut very little will go to the tumor.\n",
      "\t\t\t\t\t\t\t\t\t\t\tTherefore, the efficacy is very limited.\n",
      "\t\t\t\t\t\t\t\t\t</p>, <p>\n",
      "\t\t\t\t\t\t\t\t\t\t\tTo me, it seems very counterintuitive\n",
      "to have a whole-body treatment\n",
      "\t\t\t\t\t\t\t\t\t\t\tto target a specific organ.\n",
      "\t\t\t\t\t\t\t\t\t\t\tHowever, in the last 40 years,\n",
      "\t\t\t\t\t\t\t\t\t\t\ta lot of money, research\n",
      "and effort have gone towards\n",
      "\t\t\t\t\t\t\t\t\t\t\tfinding new, powerful drugs\n",
      "to treat pancreatic cancer,\n",
      "\t\t\t\t\t\t\t\t\t\t\tbut nothing has been done\n",
      "in changing the way\n",
      "\t\t\t\t\t\t\t\t\t\t\twe deliver them to the patient.\n",
      "\t\t\t\t\t\t\t\t\t</p>, <p>\n",
      "\t\t\t\t\t\t\t\t\t\t\tSo after two pieces of bad news,\n",
      "\t\t\t\t\t\t\t\t\t\t\tI'm going to give you\n",
      "good news, hopefully.\n",
      "\t\t\t\t\t\t\t\t\t\t\tWith a collaborator at MIT\n",
      "\t\t\t\t\t\t\t\t\t\t\tand the Massachusetts\n",
      "General Hospital in Boston,\n",
      "\t\t\t\t\t\t\t\t\t\t\twe have revolutionized\n",
      "the way we treat cancer\n",
      "\t\t\t\t\t\t\t\t\t\t\tby making localized\n",
      "drug delivery a reality.\n",
      "\t\t\t\t\t\t\t\t\t\t\tWe are basically parachuting you\n",
      "on top of your destination,\n",
      "\t\t\t\t\t\t\t\t\t\t\tavoiding your having to drive\n",
      "all around the highway.\n",
      "\t\t\t\t\t\t\t\t\t\t\tWe have embedded the drug\n",
      "into devices that look like this one.\n",
      "\t\t\t\t\t\t\t\t\t\t\tThey are flexible enough\n",
      "that they can be folded\n",
      "\t\t\t\t\t\t\t\t\t\t\tto fit into the catheter,\n",
      "\t\t\t\t\t\t\t\t\t\t\tso the doctor can implant it\n",
      "directly on top of the tumor\n",
      "\t\t\t\t\t\t\t\t\t\t\twith minimally invasive surgery.\n",
      "\t\t\t\t\t\t\t\t\t\t\tBut they are solid enough\n",
      "that once they are positioned\n",
      "\t\t\t\t\t\t\t\t\t\t\ton top of the tumor,\n",
      "\t\t\t\t\t\t\t\t\t\t\tthey will act as a cage.\n",
      "\t\t\t\t\t\t\t\t\t\t\tThey will actually\n",
      "physically prevent the tumor\n",
      "\t\t\t\t\t\t\t\t\t\t\tfrom entering other organs,\n",
      "\t\t\t\t\t\t\t\t\t\t\tcontrolling the metastasis.\n",
      "\t\t\t\t\t\t\t\t\t</p>, <p>\n",
      "\t\t\t\t\t\t\t\t\t\t\tThe devices are also biodegradable.\n",
      "\t\t\t\t\t\t\t\t\t\t\tThat means that once in the body,\n",
      "\t\t\t\t\t\t\t\t\t\t\tthey start dissolving,\n",
      "\t\t\t\t\t\t\t\t\t\t\tdelivering the drug only locally,\n",
      "slowly and more effectively\n",
      "\t\t\t\t\t\t\t\t\t\t\tthan what is done with the current\n",
      "whole-body treatment.\n",
      "\t\t\t\t\t\t\t\t\t\t\tIn pre-clinical study,\n",
      "we have demonstrated\n",
      "\t\t\t\t\t\t\t\t\t\t\tthat this localized approach\n",
      "\t\t\t\t\t\t\t\t\t\t\tis able to improve by 12 times\n",
      "the response to treatment.\n",
      "\t\t\t\t\t\t\t\t\t</p>, <p>\n",
      "\t\t\t\t\t\t\t\t\t\t\tSo we took a drug that is already known\n",
      "\t\t\t\t\t\t\t\t\t\t\tand by just delivering it locally\n",
      "where it's needed the most,\n",
      "\t\t\t\t\t\t\t\t\t\t\twe allow a response\n",
      "that is 12 times more powerful,\n",
      "\t\t\t\t\t\t\t\t\t\t\treducing the systemic toxic effect.\n",
      "\t\t\t\t\t\t\t\t\t\t\tWe are working relentlessly to bring\n",
      "this technology to the next level.\n",
      "\t\t\t\t\t\t\t\t\t\t\tWe are finalizing the pre-clinical testing\n",
      "\t\t\t\t\t\t\t\t\t\t\tand the animal model required\n",
      "prior to asking the FDA for approval\n",
      "\t\t\t\t\t\t\t\t\t\t\tfor clinical trials.\n",
      "\t\t\t\t\t\t\t\t\t</p>, <p>\n",
      "\t\t\t\t\t\t\t\t\t\t\tCurrently, the majority of patients\n",
      "will die from pancreatic cancer.\n",
      "\t\t\t\t\t\t\t\t\t\t\tWe are hoping that one day,\n",
      "\t\t\t\t\t\t\t\t\t\t\twe can reduce their pain,\n",
      "extend their life\n",
      "\t\t\t\t\t\t\t\t\t\t\tand potentially make pancreatic cancer\n",
      "\t\t\t\t\t\t\t\t\t\t\ta curable disease.\n",
      "\t\t\t\t\t\t\t\t\t</p>, <p>\n",
      "\t\t\t\t\t\t\t\t\t\t\tBy rethinking the way we deliver the drug,\n",
      "\t\t\t\t\t\t\t\t\t\t\twe don't only make it\n",
      "more powerful and less toxic,\n",
      "\t\t\t\t\t\t\t\t\t\t\twe are also opening the door\n",
      "to finding new innovative solutions\n",
      "\t\t\t\t\t\t\t\t\t\t\tfor almost all other impossible problems\n",
      "\t\t\t\t\t\t\t\t\t\t\tin pancreatic cancer patients and beyond.\n",
      "\t\t\t\t\t\t\t\t\t</p>, <p>\n",
      "\t\t\t\t\t\t\t\t\t\t\tThank you very much.\n",
      "\t\t\t\t\t\t\t\t\t</p>, <p>\n",
      "\t\t\t\t\t\t\t\t\t\t\t(Applause)\n",
      "\t\t\t\t\t\t\t\t\t</p>, <p>Subscribe to receive email notifications\n",
      "whenever new talks are published.</p>, <p class=\"footer-newsletter__error\" id=\"newsletter-signup-error-blankemail\">\n",
      "Please enter an email address.\n",
      "</p>, <p class=\"footer-newsletter__error\" id=\"newsletter-signup-error-email\">\n",
      "Please enter a valid email address.\n",
      "</p>, <p class=\"footer-newsletter__error\" id=\"newsletter-signup-error-suggestion\">\n",
      "Did you mean\n",
      "<span>\n",
      "<a class=\"newsletter-signup-error__data\" href=\"#\"></a>?\n",
      "</span>\n",
      "</p>, <p class=\"footer-newsletter__error\" id=\"newsletter-signup-error-subscription\">\n",
      "Please check\n",
      "<em>Daily</em>\n",
      "or\n",
      "<em>Weekly</em>\n",
      "and try again.\n",
      "</p>, <p class=\"footer-newsletter__error\" id=\"newsletter-signup-error-unknown\">\n",
      "Please check your details and try again.\n",
      "</p>, <p class=\"footer-newsletter__error\" id=\"newsletter-signup-error-uncaught\">\n",
      "Please check your details and try again.\n",
      "</p>, <p class=\"footer-newsletter__error\" id=\"newsletter-signup-error-other\">\n",
      "Sorry, we're currently having trouble\n",
      "processing new newsletter signups.\n",
      "Please try again later.\n",
      "</p>, <p>\n",
      "Thanks! Please check your inbox\n",
      "for a confirmation email.\n",
      "</p>, <p>\n",
      "If you want to get even more from TED,\n",
      "like the ability to save talks to watch later, <a href=\"/users/new\">sign up for a TED account now</a>.\n",
      "</p>, <p>TED.com translations are made possible by volunteer\n",
      "translators. Learn more about the\n",
      "<a href=\"/pages/open_translation_project\">Open Translation Project</a>.</p>, <p class=\"footer__service footer__service--info\" role=\"contentinfo\">\n",
      "© TED Conferences, LLC\n",
      "</p>]\n"
     ]
    }
   ],
   "source": [
    "# Returns transcript, but also some footer information which is in paragraph tags\n",
    "text = thesoup.find_all(\"p\")\n",
    "print(text)"
   ]
  },
  {
   "cell_type": "code",
   "execution_count": 36,
   "metadata": {},
   "outputs": [],
   "source": [
    "for comment in thesoup.findAll(text=lambda text:isinstance(text, Comment)):\n",
    "    if comment in ['Transcript text']:\n",
    "        print(comment.next_element.strip())"
   ]
  }
 ],
 "metadata": {
  "kernelspec": {
   "display_name": "Python 3",
   "language": "python",
   "name": "python3"
  },
  "language_info": {
   "codemirror_mode": {
    "name": "ipython",
    "version": 3
   },
   "file_extension": ".py",
   "mimetype": "text/x-python",
   "name": "python",
   "nbconvert_exporter": "python",
   "pygments_lexer": "ipython3",
   "version": "3.4.7"
  }
 },
 "nbformat": 4,
 "nbformat_minor": 2
}
