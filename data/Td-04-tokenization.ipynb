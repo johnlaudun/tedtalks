{
 "cells": [
  {
   "cell_type": "markdown",
   "metadata": {},
   "source": [
    "One of the central concerns of our work from the beginning has been getting the matter of *words* right. While so-called stopwords, sometimes also imagined as an extended set of function words to include words too common to be of any use in distinguishing one text from another, have proven useful in many applications, we felt it was better to keep all the words in our initial processing of the corpus and only remove words in later experiments as they proved problematic -- read \"mostly harmless\" -- in a particular context."
   ]
  },
  {
   "cell_type": "code",
   "execution_count": null,
   "metadata": {
    "collapsed": true
   },
   "outputs": [],
   "source": [
    "%matplotlib inline # Is this still needed?"
   ]
  },
  {
   "cell_type": "code",
   "execution_count": 1,
   "metadata": {
    "collapsed": true
   },
   "outputs": [],
   "source": [
    "import pandas\n",
    "from nltk.tokenize import WhitespaceTokenizer\n",
    "import numpy as np\n",
    "import re"
   ]
  },
  {
   "cell_type": "markdown",
   "metadata": {},
   "source": [
    "## Getting the Talks"
   ]
  },
  {
   "cell_type": "code",
   "execution_count": 29,
   "metadata": {},
   "outputs": [
    {
     "name": "stdout",
     "output_type": "stream",
     "text": [
      "['rowID', 'Talk_ID', 'public_url', 'speaker_name', 'headline', 'description', 'event', 'duration', 'published', 'tags', 'views', 'text']\n",
      "(2657, 12)\n"
     ]
    }
   ],
   "source": [
    "# Load the CSV into a dataframe and then place all the texts into a list:\n",
    "\n",
    "with open('../data/tedtalks2018.csv') as f:\n",
    "    colnames = f.readline().strip().split(\",\")\n",
    "\n",
    "print(colnames)\n",
    "\n",
    "df = pandas.read_csv('tedtalks2018.csv', names=colnames)\n",
    "print(df.shape)\n",
    "\n",
    "texts = df.text.tolist()\n",
    "labels = df.headline.tolist()"
   ]
  },
  {
   "cell_type": "markdown",
   "metadata": {},
   "source": [
    "The first item in this list is the column header -- `texts[0] > 'text'` -- and so the first thing we are going to do is remove it:"
   ]
  },
  {
   "cell_type": "code",
   "execution_count": 30,
   "metadata": {},
   "outputs": [
    {
     "name": "stdout",
     "output_type": "stream",
     "text": [
      "text\n"
     ]
    }
   ],
   "source": [
    "print(texts[0])"
   ]
  },
  {
   "cell_type": "code",
   "execution_count": 31,
   "metadata": {},
   "outputs": [
    {
     "data": {
      "text/plain": [
       "'text'"
      ]
     },
     "execution_count": 31,
     "metadata": {},
     "output_type": "execute_result"
    }
   ],
   "source": [
    "texts.pop(0)"
   ]
  },
  {
   "cell_type": "markdown",
   "metadata": {},
   "source": [
    "Now we'll sure that our first text is, in fact, a text and not something else:"
   ]
  },
  {
   "cell_type": "code",
   "execution_count": 32,
   "metadata": {},
   "outputs": [
    {
     "name": "stdout",
     "output_type": "stream",
     "text": [
      "  Thank you so much, Chris. And it's truly a great\n"
     ]
    }
   ],
   "source": [
    "print(texts[0][0:50])"
   ]
  },
  {
   "cell_type": "markdown",
   "metadata": {},
   "source": [
    "## Tokenization\n",
    "\n",
    "Now we need to determine the best way forward for tokenization. In other projects, I have used the NLTK's`WhitespaceTokenizer`, so we will begin there and check the results."
   ]
  },
  {
   "cell_type": "code",
   "execution_count": 33,
   "metadata": {
    "scrolled": true
   },
   "outputs": [
    {
     "name": "stdout",
     "output_type": "stream",
     "text": [
      "Of the 2656 talks, the shortest is 2 words; the longest 9185; and the average 2045.\n"
     ]
    }
   ],
   "source": [
    "# List of word counts for each talk \n",
    "counts = [len(WhitespaceTokenizer().tokenize(text)) for text in texts]\n",
    "print(\"Of the {} talks, the shortest is {} words; the longest {}; and the average {}.\".format(\n",
    "    len(counts),min(counts), max(counts), int(np.mean(counts))))"
   ]
  },
  {
   "cell_type": "code",
   "execution_count": null,
   "metadata": {
    "collapsed": true
   },
   "outputs": [],
   "source": [
    "# =-=-=-=-=-=-=-=-=-=-=\n",
    "# Quick Word Count Visualization\n",
    "# =-=-=-=-=-=-=-=-=-=-= \n",
    "\n",
    "import matplotlib.pyplot as plt\n",
    "# import pylab\n",
    "# pylab.rcParams['figure.figsize'] = (12, 6)\n",
    "\n",
    "# Plot of Word Lengths\n",
    "length_sorted = sorted(counts)\n",
    "plt.bar(range(len(length_sorted)), length_sorted)\n",
    "plt.xlabel('TEDtalks')\n",
    "plt.ylabel('Length in Words')\n",
    "plt.title('How Long is a TEDtalk?')\n",
    "plt.grid(True)\n",
    "plt.show()"
   ]
  },
  {
   "cell_type": "markdown",
   "metadata": {},
   "source": [
    "## When are words not words?: Parenthetical Considerations"
   ]
  },
  {
   "cell_type": "markdown",
   "metadata": {},
   "source": [
    "In the quick examination of the word counts above, the shortest text is two words. A two word talk? What is that?"
   ]
  },
  {
   "cell_type": "code",
   "execution_count": 34,
   "metadata": {},
   "outputs": [
    {
     "name": "stdout",
     "output_type": "stream",
     "text": [
      "  (Music)    (Applause)  \n"
     ]
    }
   ],
   "source": [
    "for text in texts:\n",
    "    if len(WhitespaceTokenizer().tokenize(text)) == 2:\n",
    "        print(text)"
   ]
  },
  {
   "cell_type": "markdown",
   "metadata": {},
   "source": [
    "That's two parentheticals describing a mmusical performance. Let's repeat that code and see how big a text can get before we get spoken words."
   ]
  },
  {
   "cell_type": "code",
   "execution_count": 35,
   "metadata": {},
   "outputs": [
    {
     "name": "stdout",
     "output_type": "stream",
     "text": [
      "  (Applause)    (Music)    (Applause)  \n",
      "  Let's just get started here.    Okay, just a moment.    (Whirring)    All right. (Laughter) Oh, sorry.    (Music) (Beatboxing)    Thank you.    (Applause)  \n",
      "  (Music)    (Applause)    (Music)    (Music) (Applause)    (Music) (Applause) (Applause)    Herbie Hancock: Thank you. Marcus Miller. (Applause) Harvey Mason. (Applause)    Thank you. Thank you very much. (Applause)  \n",
      "  (Music)    (Applause)    (Music)    (Applause)  \n",
      "  (Music)    (Applause)    (Music)    (Applause)    (Music)    (Applause)    (Music)    (Applause)  \n",
      "  (Mechanical noises)    (Music) (Applause)  \n",
      "  (Music)    (Applause)  \n",
      "  (Music)    (Music) (Applause)    (Applause)  \n",
      "  (Guitar music starts)    (Music ends)    (Applause)    (Distorted guitar music starts)    (Music ends)    (Applause)    (Ambient/guitar music starts)    (Music ends)    (Applause)  \n",
      "  (Guitar music starts)    (Cheers)    (Cheers)    (Music ends)  \n"
     ]
    }
   ],
   "source": [
    "# Incrementing 'less than' until I get spoken words.\n",
    "for text in texts:\n",
    "    if len(WhitespaceTokenizer().tokenize(text)) < 100:\n",
    "        print(text)"
   ]
  },
  {
   "cell_type": "markdown",
   "metadata": {},
   "source": [
    "I started with 10 words and incremented by 10 until I got to 100, then to 150 and 200. From 10 words to 100 words, the results do not change that much: these are musical performances. Somewhere between 100 and 200 words, the lyrics of sung performances produce a transcript. We will need to set a threshold for the text we treat, but we will also need to consider the role of parentheticals in our analysis.\n",
    "\n",
    "Can we see a list of parentheticals as a set?"
   ]
  },
  {
   "cell_type": "code",
   "execution_count": 36,
   "metadata": {},
   "outputs": [
    {
     "data": {
      "text/plain": [
       "['Mock sob',\n",
       " 'Laughter',\n",
       " 'Laughter',\n",
       " 'Laughter',\n",
       " 'Laughter',\n",
       " 'Applause',\n",
       " 'Laughter',\n",
       " 'Mock sob',\n",
       " 'Laughter',\n",
       " 'Laughter',\n",
       " 'Laughter',\n",
       " 'Laughter',\n",
       " 'Laughter',\n",
       " 'Laughter',\n",
       " 'Laughter',\n",
       " 'Laughter',\n",
       " 'Applause',\n",
       " 'Laughter',\n",
       " 'Laughter',\n",
       " 'Laughter',\n",
       " 'Laughter',\n",
       " 'Laughter',\n",
       " 'Laughter',\n",
       " 'Laughter',\n",
       " 'Laughter',\n",
       " 'Applause',\n",
       " 'Applause',\n",
       " 'Applause',\n",
       " 'Laughter',\n",
       " 'Applause']"
      ]
     },
     "execution_count": 36,
     "metadata": {},
     "output_type": "execute_result"
    }
   ],
   "source": [
    "# First, let's see a list of parentheticals in a talk:\n",
    "re.findall('\\(([^)]+)', texts[0])"
   ]
  },
  {
   "cell_type": "code",
   "execution_count": 37,
   "metadata": {
    "scrolled": true
   },
   "outputs": [
    {
     "data": {
      "text/plain": [
       "{'Applause', 'Laughter', 'Mock sob'}"
      ]
     },
     "execution_count": 37,
     "metadata": {},
     "output_type": "execute_result"
    }
   ],
   "source": [
    "# Getting a set is not a problem:\n",
    "set(re.findall('\\(([^)]+)', texts[0]))"
   ]
  },
  {
   "cell_type": "code",
   "execution_count": 42,
   "metadata": {},
   "outputs": [],
   "source": [
    "# Now to get a set for all the talks:\n",
    "parentheticals = []\n",
    "for text in texts:\n",
    "    parentheticals.append(re.findall('\\(([^)]+)', text))\n",
    "    \n",
    "# print(parentheticals) # Reveals that we have a list of lists"
   ]
  },
  {
   "cell_type": "code",
   "execution_count": 43,
   "metadata": {},
   "outputs": [
    {
     "data": {
      "text/plain": [
       "19570"
      ]
     },
     "execution_count": 43,
     "metadata": {},
     "output_type": "execute_result"
    }
   ],
   "source": [
    "# The easiest way to flatten a list of lists is\n",
    "parens_all = sum(parentheticals, [])\n",
    "len(parens_all)"
   ]
  },
  {
   "cell_type": "markdown",
   "metadata": {},
   "source": [
    "Okay, so we have 19,570 parentheticals. At the very least, we can deduct that number from our total word count -- if we can't determine a way to remove them from our texts using some regex-fu. In the mean time, let's take a look at the set of all the parentheticals:"
   ]
  },
  {
   "cell_type": "code",
   "execution_count": 45,
   "metadata": {},
   "outputs": [
    {
     "name": "stdout",
     "output_type": "stream",
     "text": [
      "['Mock sob', 'Laughter', 'Laughter', 'Laughter', 'Laughter', 'Applause', 'Laughter', 'Mock sob', 'Laughter', 'Laughter']\n"
     ]
    }
   ],
   "source": [
    "print(parens_all[0:10])"
   ]
  },
  {
   "cell_type": "code",
   "execution_count": 47,
   "metadata": {
    "scrolled": true
   },
   "outputs": [
    {
     "name": "stdout",
     "output_type": "stream",
     "text": [
      "878 {'Trumpet', 'laughter', 'DW: Chauvinist.', '\"10,000 missiles\"', '\"Sure\"', 'Singing ends', 'Text: Never, ever think outside the box.', 'Audience: Yes!', 'Intel ad jingle', 'A', 'Audience: Armani.', 'Breaking frozen lettuce or celery', '\"The world population is growing by 75 million people each year. That\\'s almost the size of Germany. Today, we\\'re nearing 7 billion people. At this rate, we\\'ll reach 9 billion people by 2040. And we all need food. But how? How do we feed a growing world without destroying the planet? We already know climate change is a big problem. But it\\'s not the only problem. We need to face \\'the other inconvenient truth.\\' A global crisis in agriculture. Population growth + meat consumption + dairy consumption + energy costs + bioenergy production = stress on natural resources. More than 40% of Earth\\'s land has been cleared for agriculture. Global croplands cover 16 million km². That\\'s almost the size of South America. Global pastures cover 30 million km². That\\'s the size of Africa. Agriculture uses 60 times more land than urban and suburban areas combined. Irrigation is the biggest use of water on the planet. We use 2,800 cubic kilometers of water on crops every year. That\\'s enough to fill 7,305 Empire State Buildings every day. Today, many large rivers have reduced flows. Some dry up altogether. Look at the Aral Sea, now turned to desert. Or the Colorado River, which no longer flows to the ocean. Fertilizers have more than doubled the phosphorus and nitrogen in the environment. The consequence? Widespread water pollution and massive degradation of lakes and rivers. Surprisingly, agriculture is the biggest contributor to climate change. It generates 30% of greenhouse gas emissions. That\\'s more than the emissions from all electricity and industry, or from all the world\\'s planes, trains and automobiles. Most agricultural emissions come from tropical deforestation, methane from animals and rice fields, and nitrous oxide from over-fertilizing. There is nothing we do that transforms the world more than agriculture. And there\\'s nothing we do that is more crucial to our survival. Here\\'s the dilemma... As the world grows by several billion more people, We\\'ll need to double, maybe even triple, global food production. So where do we go from here? We need a bigger conversation, an international dialogue. We need to invest in real solutions: incentives for farmers, precision agriculture, new crop varieties, drip irrigation, gray water recycling, better tillage practices, smarter diets. We need everyone at the table. Advocates of commercial agriculture, environmental conservation, and organic farming... must work together. There is no single solution. We need collaboration, imagination, determination, because failure is not an option. How do we feed the world without destroying it? Yeah, so we face one of the greatest grand challenges in all of human history today: the need to feed nine billion people and do so sustainably and equitably and justly, at the same time protecting our planet for this and future generations. This is going to be one of the hardest things we ever have done in human history, and we absolutely have to get it right, and we have to get it right on our first and only try. So thanks very much. (Applause', 'b', 'Guitar strum', 'Ding', 'Rustling', 'Screaming', 'Clapping', 'Nature sounds', 'Dryer', 'Cymbals', 'No sound', 'i.e. Arthur', 'Music: \"Wenlenga\" / Various artists', 'Audience Member: Creativity.', 'Scott Galloway', 'Chanting', 'British accent', 'Laughing', 'Cheer', 'Phone Ringing', 'Toilet flushing', '\"I sold my soul for about a tenth of what the damn things are going for now.\"', 'Fussing', 'CA and RL speaking at once', 'Robot noises', 'Murmuring', 'Chieko and Nick laugh', 'Beatbox', 'Music: \"English Country Garden\"', 'Water splashes at lower octave', 'Audience: Charlie.', 'Whirring sound', 'Motor sound', 'Beatboxing: \"Billie Jean\"', 'Music ending', 'Toy car', 'Foot stomp', 'Hindi', 'Feedback', 'Tuning', 'Whinny', 'Gasps', 'Aves:Anatidae', 'Exhales', 'Music: \"Fantasia On Jesu, Mein Freunde\" by Johann S. Bach', '2003', '3', 'Audio: Laughing', 'Unintelligible', 'Rocket launch', 'Sound of metal lid clanking against a counter', 'Audience: B.', '2009', 'Girl: No.', 'Fuzz', 'Audience Member: Rajasthan.', 'Audience: 300.', 'Loud beeping noise', 'Camera shutter sounds', 'Sings', 'Vocalization', 'Sixth Man: I will never forget those words.', 'Mac Stone narrating', \"Safwat Saleem's voice\", 'Holds note', 'Applause continues', 'Music: \"Chopsticks\" improvisation', '\"actually about ... 1%\"', 'Applause and cheers', 'Whirring noise', 'Scratching', 'PM: Squash.', 'First notes of \"Jaws\" theme', 'Voice Over', 'Audience: \"Alpha House.\"', 'Drums', 'As Tony Blair', 'Groaning, laughter', 'Audience reacts', '\"Wow! Fucking Fantastic Jacket\"', 'Music by Anna Oxygen', \"Voice: Steve, that's what I'm doing after TED.\", 'Traffic noise', 'RAM: Thank you.', 'Gong sound', 'Audience hums', 'Alarm clocks ring', 'Translator', 'Laughs', 'Audience murmurs', 'Cars honking', 'Clicks metronome', 'Video: Air traffic controller directs traffic', 'Audience cheers', 'Giggle', 'Music: \"La Di Da Di\" by Slick Rick & Doug E. Fresh', 'Baby cooing', 'Knocks', 'Laughter.', 'Machine noises', 'Roar', 'Music: Seinfeld theme', 'Music: \"Who U Wit\" by Lil\\' Jon & the East Side Boyz', 'Piano', 'Music: Massive Attack — \"Teardrop\"', 'Whistles', 'Hesitant applause', 'mock drum roll', 'Blowing noise', 'Laugher', 'Drumming and chanting', 'Dolphin noises', 'Child shouting', 'Beeping', '2008', 'Gunshots', 'Audience: Three.', 'Flapping noises', 'Ball rolls', 'Clapping to the beat', 'First chord of \"A Hard Day\\'s Night\"', 'Car engine', 'Bumping noises', 'Video game noises', 'Cheers', 'Engine roaring', 'Audience: Stop.', \"Audience: What's your demographic?\", 'Sikh Prayer', 'Pre-recorded applause', 'Clicking', 'Voice-over', 'Flaps', 'Robot buzzing, laughter', 'Music: \"Theme of Paganini\"', 'Paper rustling', 'Distorted voice', 'singing', 'Music: \"Sonata in F,\" KV 13, by Wolfgang A. Mozart', 'Space shuttle taking off', '\"What do I do about wild pigs  being a nuisance?\"', 'English', 'Kiss', 'Higher pitch', 'Recording of crowd roaring', 'Rain falls', '\"No more bathing!\"', 'Audience: Let everyone use the cart.', 'Audience debates', 'Silence', 'whirring noise', 'Frequency sounds', 'CA: But this time under control?', 'SA: Life would be sweet in a cubicle like this.', 'Squeaking', 'Board shaking', 'Bird singing at slow then full speed', 'Guy: No.', 'Music: \"Ring My Bell\" performed by Enrique Iglesias', 'Honking', '2010', 'Music: \"Mary Had a Little Lamb\"', 'Suzanne Lee: No.', 'Dominoes fall', 'Video', 'Voice-over, several voices', 'Most animals would if they lost half that much.', 'Repeating sound waves', 'Canku One Star dances', 'Audio: \"Mary Had a Little Lamb\"', '@keegandewitt', 'and made bee pie', 'Adventure music', 'Audience: Chocolate.', 'Mixed reply', 'First voice', 'Not When She Does It.', '\"Kill him.\"', 'Sound', 'Speaking in Arabic', 'Machine buzzes', '\"You are my first Israelian friend. I wish we both get rid of our idiot politicians, anyway nice to see you!\"', 'Birds chirping', 'Boomerang noises', 'Lyrics', 'Portamento', 'Knives being sharpened', 'Shooting noises', 'Bells', 'Audience member coughs', 'Buzzing sound', '\"What a friend we have in cheeses\"', 'Plays the notes A, B, E, G and G', 'A: Thank you.', 'Fuse blowing', 'Vocalizing ends', 'Hospital noises', \"Sixth Man: That's how I learned, by my mother,\", 'Camera click', 'Audience: Queen of hearts.', 'Toy squeaks', 'Saw cuts', 'Clunk', 'Music: \"Chopsticks\"', 'Not a Real Doctor', 'Mosquitoes buzz', 'Audience: Yeah.', 'Tapping', 'In Dutch', 'Audience: Ewww.', 'Woman: Have you ever done a kissing test before?', 'Beeps', 'Clears his throat', 'Electronic representation of orchestral music', 'Audience: Laughter', 'Piano music ends', 'Second voice', \"MK: That's the challenge.\", 'Loud music', 'Propeller churns', 'Shouts', 'Cockles and Mussels', 'Whispering', 'Guitar', 'Ambient rap music', 'Music fades out', 'Voice: Oh my God.', 'Beatboxing', '\"Intrigue and murder among 16th century Ottoman court painters.\"', 'RD: Thank you.', 'Groan', 'Rapping', 'Violin plays', 'Light clapping', 'Audience: Once on purpose!', '2000', 'Laughter and cheers', 'Music: The Star-Spangled Banner', \"Mimics sound of speaking with one's mouth closed\", 'Recording of crowd cheering', 'Laugh sound', 'on the phone', 'Crying', 'video', 'Slot machine', 'DA', 'Whistling ends', 'Ringing', 'Cat meowing', \"AA: That's amazing.\", 'Digital hum and whistling sound', 'Woman: Okay.', 'Blowing', 'Audience shouting', 'Drumbeats and clanking sounds', 'In Russian', '4 a.m. alarm clock montage', '1925', 'Cheers and applause', 'Pre-recorded applause and cheering', 'Crowd groans', 'Clanging', 'Office noise', 'Limited Frequency Music', \"Audience: I just wanted to ask you, when we wear seatbelts we don't necessarily wear them just to prevent loss of life, it's also to prevent lots of serious injury. Your data looks at fatalities. It doesn't look at serious injury. Is there any data to show that child seats are actually less effective, or just as effective as seatbelts for serious injury? Because that would prove your case.\", 'Brass and wind instruments play', 'Singing', 'Crowd noises', 'CA: Good luck.', 'JAWS speaking', 'Clap! Clap!', 'Marine mammal sounds', 'Music, crosstalk', 'Telephone rings', '2 ^ 67', 'MS: No idea.', 'Tone rising out of key', 'Balloon pops', 'Traffic sounds, car horns, voices', 'JC: Thank you, Reuben.', 'Audience member cheers', 'Music: \"Shells\" by Mirah', 'Nonsense', 'Breaking glass', 'Music tempo quickens', 'Wheezing', 'Plays the five notes', 'Heart-beat', 'Microwave beeps', 'Didgeridoo', 'Both sing', 'Sitar', 'Audience: Absolutely.', 'Double beat', 'MS: Unique.', 'Noise of shooting arrow', 'musical notes', 'Marimba sounds', 'Audience: [Unclear].', 'Music: \"My Funny Valentine\" by Chet Baker', 'Water sound', 'Nicole laughs', 'Clapping ends', 'French', 'Frogs croaking', 'Grunts', 'Bottles clink', 'Mock sob', 'offscreen', 'Audience: Peter.', 'Scream', 'Ball squeaks', 'Clattering', 'Pianist plays \"Natural Woman\"', 'Doorbell', 'Whirring', 'Groans, laughter', 'Snaps', 'Voice: Ah, I love him, Bob.', 'Kissing', 'Chatter', 'Breathing', 'Singing in Arabic', 'Text: Most of the children are profoundly and permanently blind ...', 'Crickets chirping', 'Chords', '1972', 'Tones', 'Gunshot', 'Explosion sound', 'Piano music', \"Audience: No, they're all gone.\", 'Dog barking', 'Audience: The best flute players.', 'Audience: Shopping.', 'Mechanical sounds', 'aka Echo Chan', 'PM: Rap. Break dancing.', 'Poem ends', 'Audience and Dan Dennett', 'Sobs', 'Clapping sounds', 'Ezra: Onicha! Onicha!', 'A capella singing', 'Nokia ringtone', 'Soft marimba sounds', 'RD: Sure.', 'CA: What happened on that second flight?', 'Girl: Okay.', 'Clicks', 'Clanking ends', 'Music: \"Tiger Rag\"', 'Noisy conversation', 'Typing noise', 'Audience guesses', 'A cappella singing in a South African language', 'Audience: Random.', 'In Swahili', 'Coughs', 'Soft crackling', 'BUT I DID NOT SHOOT THE DEPUTY', 'Fiddle and synthesizer', 'Bird singing', 'Audience: Diamonds.', 'Dog barking and spring boinging', 'Heroic music', 'Static', 'SJ gasps', 'Ping-pong', 'Mariano Sigman', 'Cello music', 'Voices, music', 'Gibberish', 'Music: \"Happy Together\"', 'Pink noise', 'Chatting', 'Crowd murmuring', 'Buzzer', 'Children react', 'Music: Paul Simon, \"Peace Like a River\"', 'Music and singing \"Lickih nehu\"', 'Gunshot sound', 'Higher frequency', 'Mumbling', 'Synchronized clicking', 'Inhales', 'Music: George Frideric Handel, \"Allegro.\" Performed by Daria van den Bercken.', 'Video: French sportscasters narrate race', 'Cries', 'Bass guitar', 'this is the EG crowd', 'Bono: Yes!', 'Game', 'Screeching', 'Shouting', 'Braying', 'Audio', 'Applause', 'Mother: Oh, okay.', '\"That\\'s wrong too.\"', 'Clanking sounds', '2001', 'Audience: Yes.', 'Surprised laughter', 'Music ends', \"Bono: It's an Irish land.\", 'Sound of running air', \"MK: I'm just saying.\", 'Guzheng', 'Aquatic noises', 'Mother: Was the other one a book or a journal entry?', 'Guitar music starts', 'Kru English', 'Claps', 'Music and singing \"Indey\"', 'Beatboxing ends', 'Music fades slowly', 'Hums Final Jeopardy music', 'Inaudible echoing voice', 'Honking sound', 'Noises', '\"Michael Crichton responds by fax:\"', 'Frequency', 'Baby cries', 'yelling more loudly', 'Music: \"Symphony No. 8 in E Flat Major\" by Gustav Mahler', 'Thumping', 'Laughter continues', 'Whoosh', 'with 4 attempts', 'Skateboard sounds', 'Speaks more loudly', 'Woman screaming', 'Laughter, applause', 'Sound changes momentarily', 'Gasping', '\"What makes a great leader in the 21st century?\"', \"Girl: But it's my game.\", 'Creatures grunting', 'DC: Okay.', '\"Our heartfelt condolences to the families who lost their dearests in terror attack in Bulgaria\"', 'Swahili', 'Richard Saul Wurman: He was.', 'NF: Thank you very much, Bruno.', 'Tuning sound', \"Audience: It's getting too much.\", '\"That\\'s wrong\"', 'Mandarin', 'Music with lyrics', '\"Do architects have ears?\"', 'Children speaking', 'Futuristic music', 'Voices', \"Milo: I didn't mean to!\", 'Circus music', 'Music: \"Lohengrin / Prelude to Act III\" by Richard Wagner', 'Bleep! Bleep!', 'thin air', 'Rattling', 'Beat', 'In squeaky voice', 'Light clapping sounds', 'Maraca sound', \"Audience: In the pamphlet, there's a statement — \", 'Hammer', 'BG: Thank you.', 'Laughter and applause', 'Music: \"I Still Haven\\'t Found What I\\'m Looking For\" by U2', 'High pitch buzz', 'Woo-hoo-hoo-hoo', 'JH: No.', 'Dinosaur roaring', 'Rain and wind sounds', 'Music: \"Touch the Sky\" by Kanye West', 'Girl singing', 'Typewriter', \"Audience: It'd be an unfair advantage.\", '\"Although it\\'s nothing serious, let\\'s keep an eye on it to make sure it doesn\\'t turn into a major lawsuit.\"', 'Two-tone singing', 'Recording: Letter being unfolded', 'Ambulance siren', 'Upbeat music', 'Screams', '1968', 'Audience: T, E, D.', 'Applause ends', 'Audience: Spades.', 'Music continues', 'Bells end', 'Bugle sound', 'Swat', 'Assistant: \"Star Fox 64.\"', 'People yelling', 'Going up in pitch', '...', 'High-pitched tone', 'Static sounds', 'Drum sounds', 'flight attendant announcements', 'Music: \"Rapper\\'s Delight\" by The Sugarhill Gang', 'Music beat', 'Interpreter voice-over', \"Michael Kassan: It's redundant.\", 'Cheering', 'Sound clip: Savannah sparrow song', '\"Institute on the Environment, University of Minnesota: Driven to Discover\"', 'Wings flap', 'Audience: Ten of diamonds.', 'Audience responds', 'Cracking sound', 'Mechanical noises', 'Bono: [unclear]', 'Audience: Jack of spades.', 'Click, click, bang', 'Techno music', 'on video', 'MS: Thanks so much.', 'Blender noises, laughter', 'Breathes out', 'Siren', 'Beaver crying', '1927', 'Both vocalizing', '\"Eating Cheese and Meat May Boost Self-Control\"', 'Record scratches', 'Drum', 'Mumbles', 'Launch noises', 'Bells ring', 'Voice breaking up', 'British English', '\"In order to remain competitive in today\\'s marketplace, I\\'m afraid we\\'re going to have to replace you with a sleezeball.\"', 'Camera shutter', 'Dan Ariely', 'An audience member talking indistinctly', 'Cigarette burns', 'Soft marimba sounds end', 'Loud cheering', 'Sniffs', 'Gasp', 'Blip', 'Whistling', 'Sigh', 'MM: Yes.', 'Music: \"Spem In Alium\" by Thomas Tallis', 'Cyndi laughs', 'Space shuttle preparing for takeoff', 'Speaking in Japanese', 'In a lowered voice', 'Whistle', 'You can hear the ventilation, the boiler, the fridge and street traffic', '2 ^ 13', 'CA: You would?', 'Music: \"Hypnotize\" by The Notorious B.I.G.', 'Girl cries', 'Light Clapping', 'Chainsaw sound', 'Mac Stone in film', 'Underwater plunge', 'Yuval Noah Harari laughs', 'Telephone ringing', 'Applause and cheering', 'Overlapping voices', 'Text: Such examinations allow us to improve eye-health in many children, and ... ... help us find children who can participate in Project Prakash.', '2 ^ 11', 'Music: \"Royal Garden Blues\" by W.C. Handy / Ethel Waters', '\"Official! Chocolate stops you being grumpy\"', 'Coffee grinder', 'Ambient/guitar music starts', 'Singing in various languages', 'Music: George Frideric Handel, \"Chaconne in G Major.\" Performed by Daria van den Bercken.', 'Audience shouting names', 'along with a lot of other stuff', 'Boy: All right, grand-dad.', 'Robot buzzing', 'Audience: Who made them?', 'To audience', 'MS', 'Geert Chatrou and audience whistling', 'LM: Thank you so much.', 'Musical chords', 'Marimba sounds end', 'EB: Thank you.', 'Burst', 'Airplane', 'Clears throat', \"Albinoni's Adagio\", 'Noise', 'Percussion', 'Audience: Well, first an observation, which is that you look like a character.', 'Baby: Aaaa.', 'Punch', 'Audience: No.', 'Music: \"Flight of the Bumblebee\"', 'Water splashes', 'Man: Is it clean?', 'R.A. Mashelkar: Thank you very much.', 'Spanish', 'Drumbeats', 'To the tune of \"My Way\"', 'Gun shots', '2 ^ 19', 'Sniffing', 'loud crowd noise', 'Snapping', 'SL: Thank you.', 'Dolphins noises', 'Audience: Extra large.', 'Bagpipes', 'Louder whirring noise', 'Drumbeats and cowbell', '\"Also sprach Zarathustra\" plays', 'Laughted', 'Audience: [unclear]', 'Cymbal', 'now.', 'Paint guns fire', '\"Yes, BOOKS. You know, the bound volumes with ink on paper. You cannot turn them off with a switch. Tell your kids.\"', 'BG: My pleasure.', 'Tone', 'First Year of Category', 'Audience: It disappeared.', 'Inaudible', 'cheering', 'Sirens, explosions, breaking glass', 'Sirens', 'Audience: Man.', 'Drilling noise', 'Gunshot reverbs church', 'HE: Thank you.', 'Music ends abruptly', 'Narrator: And this central box connects the whole system together. Maneuvering the Spyfish is simple with the wireless remote control. You watch the video with superimposed graphics that indicate your depth and compass heading. The fluid graphics and ambient sounds combine to help you completely lose yourself underwater.', \"Chris Anderson: I've got a cold.\", 'American accent', 'female dog', 'Voice effects', 'Gunshot reverbs in canyon', 'Shot', 'your fathers bristles white and stiff now', 'Thunder', '1993', '2 ^ 31', 'Soft clapping sounds', 'Is that why the Bedouin claim I can dance?', 'Typing', 'Choking', 'Barks', 'Birds chirp', 'Audience claps along', 'Japanese', 'Thuds', 'Normal voice', 'Piano plays', 'MK: Good.', 'Flourish ... Beep', 'Typing noises', 'Audience sings next note', 'Phone ring', 'Gunshot reverbs in bathroom', 'Audience', 'Reading', '\"My Israeli Friends. I don\\'t hate you. I don\\'t want War.\"', 'Poof!', 'Together', 'Amendment', 'Growling', 'Makes the sound of a kiss', 'Jet engine accelerates', 'BA: Thank you.', 'Voice: Can we finish up a little early?', \"MK: It's redundant.\", 'Siren noise', 'Slaps woman', 'MS: Great job.', 'Wind noise', 'Piano notes', 'Recording', 'Woman screams', 'Distorted guitar music starts', 'Bass solo', 'Alexa', 'Breathing loudly', 'Audience: Sure. Yes.', 'SG', 'Crowd Noise', 'CA: Because?', 'Mechanical Sounds', 'Vvvwow!', '2011', 'Laughter and Applause', 'In Arabic', 'Typewriter bell', 'Guitar music', 'Train engine', 'Non English', 'Music: \"This Too Shall Pass\"', 'Sound changes', 'MS: Thanks a lot.', 'Music and singing', 'MS: Okay.', 'Girls', 'Audience: The worst flute players.', 'Musical notes', 'Sound of falling tree', 'Buzzing', 'Laughter ends', 'Game piece smacks board', '\"A cheese sandwich is all you need for strong decision-making\"', 'Movie montage of \"It\\'s 4 a.m.\"', 'Honk', 'Audience counting', 'CA: Thank you.', 'Snores', 'Dog panting noise', 'Music by Caroline Lufkin', '@melodiumbox', 'Police siren and shouting over megaphone', \"SS's voice\", 'Bass guitar and accordion', 'Violin', 'Barking', 'Music: \"A Clean Break (Let\\'s Work', 'Snoring', 'Explosions', 'Motorcyle revving', 'Jackhammer', '2 ^ 127', 'Multiple voices', 'Video: Race narration ends', 'Audience: Sick leave.', 'Crackling', 'Voice: Steve, I have some additional hats downstairs.', 'Loud clapping sounds', 'Audience: Seven of diamonds.', 'Audience reaction', 'Girl 3: Oh, yeah.', '\"I love that blue. I love that star. I love that flag.\"', 'JN: Okay.', 'Organ sound', 'Cabbage stabbed with a knife', 'Stomping', 'Choir chants', 'Baby crying', 'Tapping sounds', 'High pitch sound', 'Audience roars', 'Chomping', 'Text: ... any person with a below the knee limb could do this. ... above the limb, yes, it would be difficult ... \"Did it hurt?\" \"No ... not at all.\" ... he can run a kilometer in four minutes and 30 seconds ...', 'SA: The storage is built right into the wall.', '1982', 'Music: \"Teardrop\" by Massive Attack', 'Xylophone', 'Audience: \"Theme of Paganini.\"', 'Audience: Warren.', 'Drumbeats and cymbals', 'Audience reacts and gasps', 'RD: Yeah.', 'Digital beeping sounds', 'Beep', 'Music', 'c', 'Audience gasps', 'AV: Thank you.', 'Click', 'John Underkoffler: When?', 'Sister: 16.', 'Guitar music ends', 'Audience laughter', 'A Saran Warp ball being released', 'Robotic voice', 'MS: Get them to finance the film.', 'Khmer', 'Live', 'Music: \"Under Pressure\" by Queen', 'Applause.', 'Breathes in', 'Imitating Arabic', 'Sneezes', 'Violin music', 'Sixth Man: that you should respect humans.', 'Machine gun fire', 'Bird call', 'Typewriting', '\"What\\'s a Jurassic Park?\"', 'Clang', 'Imitates a siren passing by', \"Video: Scott Adams: I realized that at some point I might be the world's expert on what's wrong with cubicles. So we thought, well, wouldn't it be fun to get together with some of the smartest design guys in the world and try to figure out if we could make the cubicle better?    Narrator: Though they work in a wide-open office space spectacularly set under San Francisco's Oakland Bay Bridge, the team built their own little cubicles to fully experience the problems.    Woman: A one-way mirror. I can look out; you can look at yourself.    Narrator: They took pictures.    Woman: You feel so trapped, when someone kind of leans over and you're sort of held captive there for a minute.    SA: So far it's chaos, but a lot of people are doing stuff, so that's good. We'll see what happens.    Narrator: The first group builds a cubicle in which the walls are screens for the computer and for family photos. In the second group's scenario, the walls are alive and actually give Dilbert a group hug. (Laughter\", 'As Brown', 'SA: Customizable for the boss of your choice.', 'Unintelligible lyrics continue', 'Music: \"The Sound of Silence,\" Simon & Garfunkel', 'Drum sound', 'Huge crowd applauding', 'Dolphin echolocation noises', 'Speaks', 'Audience whistles', \"Children's voices\", 'Clip continues', 'Explosion', 'Crowd cheering', 'Bacon sizzles', 'Gunfire', 'Narrator: The Spyfish is a revolutionary subaquatic video camera. It can dive to 500 feet, to where sunlight does not penetrate, and is equipped with powerful lights. It becomes your eyes and ears as you venture into the deep. The battery-powered Spyfish sends the live video-feed through a slender cable.', 'In Chinese', 'Plays notes', '1939', '2 ^ 17', 'Audience: Five of clubs.', 'Trumpet sounds', 'Final chord', 'AA: Oh my God.', '1902', 'Shreiks', 'clicks metronome', 'Vocalizing', 'Dissonance', 'Music: \"We Can\\'t Stop\" by Miley Cyrus', 'Drum sounds end', 'Glass breaks', 'Rumbling', 'NA: \"Shake the Dust.\"', 'Continuous sound', 'Music, including the sound of the lid, and singing', 'Whip cracks', 'Theme Music', 'k', 'Drum beat', 'age 6', 'Sighs', 'Fundamentals of Laparoscopic Surgery', 'JN: Her sister.', 'Mosquito buzzing', 'Music with unintelligible lyrics', 'Audience: If someone would say to you, I find that disturbing, what would be your response?', 'Loud', 'Drum roll', '2 ^ 5', 'Music: \"La Di Da Di\" by Doug E. Fresh & Slick Rick', 'Bubbling sounds', 'Bones break', 'Laugther', 'Sound clip: Scarlet tanager song', 'Sound of air escaping from valve', '\"The End\" by The Doors', 'Ocean waves', 'in Sanskrit', 'Children talking', 'TBP: You bet, Chris. Thank you.', 'Laughter', 'Slurps', 'Chipper', 'LC: Thank you very much.', 'Animal sounds', 'Children singing', 'Alarm clock', 'Rainforest noises', 'Sneezing sound', 'Teetering tones', 'Birds singing', 'Recites poem in Hindi', 'Theme Song', '\"Close it!\"', 'Dolphin whistling noises', 'the ROWE', 'Arabic', 'Pitch getting higher and lower'}\n"
     ]
    }
   ],
   "source": [
    "paren_set = set(parens_all)\n",
    "print (len(paren_set), paren_set)"
   ]
  },
  {
   "cell_type": "markdown",
   "metadata": {},
   "source": [
    "Oi, we've got stuff in parentheses that shouldn't be there: we'll have to hand inspect the texts above and see if we need to make any corrections. \n",
    "\n",
    "How big is our total word count that these ~20,000 words might affect us? A quick summing of the `counts` from above -- `sum(counts)` -- reveals our total word count is: 5,432,831. Dividing all our parentheticals by our total word count gives us an impact of 0.3%:"
   ]
  },
  {
   "cell_type": "code",
   "execution_count": 49,
   "metadata": {},
   "outputs": [
    {
     "data": {
      "text/plain": [
       "0.00360217352610453"
      ]
     },
     "execution_count": 49,
     "metadata": {},
     "output_type": "execute_result"
    }
   ],
   "source": [
    "len(parens_all)/sum(counts)"
   ]
  },
  {
   "cell_type": "markdown",
   "metadata": {},
   "source": [
    "## A Closer Look at the Tokens\n",
    "\n",
    "Okay, now we need to look at the tokens involved, and we might as well get a frequency for each token while we are at it. "
   ]
  },
  {
   "cell_type": "code",
   "execution_count": null,
   "metadata": {
    "collapsed": true
   },
   "outputs": [],
   "source": [
    "counts = [len(WhitespaceTokenizer().tokenize(text)) for text in texts]"
   ]
  }
 ],
 "metadata": {
  "kernelspec": {
   "display_name": "Python 3",
   "language": "python",
   "name": "python3"
  },
  "language_info": {
   "codemirror_mode": {
    "name": "ipython",
    "version": 3
   },
   "file_extension": ".py",
   "mimetype": "text/x-python",
   "name": "python",
   "nbconvert_exporter": "python",
   "pygments_lexer": "ipython3",
   "version": "3.4.8"
  }
 },
 "nbformat": 4,
 "nbformat_minor": 2
}
